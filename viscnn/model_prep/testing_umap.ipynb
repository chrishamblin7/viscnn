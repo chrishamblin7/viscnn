{
 "cells": [
  {
   "cell_type": "code",
   "execution_count": 9,
   "metadata": {},
   "outputs": [
    {
     "name": "stdout",
     "output_type": "stream",
     "text": [
      "generating mds projection of nodes\n"
     ]
    }
   ],
   "source": [
    "#generate mds projections of nodes layerwise, as determined by their per category rank scores\n",
    "import os\n",
    "import time\n",
    "import torch\n",
    "import pickle\n",
    "import sys\n",
    "\n",
    "os.chdir('/mnt/data/chris/dropbox/Research-Hamblin/Projects/cnn_subgraph_visualizer/prep_model_scripts')\n",
    "\n",
    "from dissected_Conv2d import *\n",
    "from data_loading_functions import *\n",
    "\n",
    "sys.path.insert(0, os.path.abspath('../'))\n",
    "sys.path.insert(0, os.path.abspath('../visualizer_scripts/'))\n",
    "\n",
    "os.chdir('../')\n",
    "from prep_model_parameters import output_folder\n",
    "from visualizer_helper_functions import rank_file_2_df\n",
    "os.chdir('./prep_model_scripts')\n",
    "\n",
    "print('generating mds projection of nodes')\n",
    "\n",
    "import numpy as np\n",
    "import pandas as pd\n",
    "from sklearn import manifold\n",
    "from sklearn.metrics import euclidean_distances\n",
    "\n",
    "\n",
    "categories_nodes_df = pd.read_csv('../prepped_models/%s/ranks/categories_nodes_ranks.csv'%output_folder)\n",
    "overall_edge_df = rank_file_2_df('../prepped_models/%s/ranks/categories_edges/overall_edges_rank.pt'%output_folder)\n",
    "\n",
    "misc_data = pickle.load(open('../prepped_models/%s/misc_graph_data.pkl'%output_folder,'rb'))\n",
    "layer_nodes = misc_data['layer_nodes']\n",
    "num_layers = misc_data['num_layers']\n",
    "num_nodes = misc_data['num_nodes']\n",
    "categories = misc_data['categories']\n",
    "num_img_chan = misc_data['num_img_chan']\n",
    "imgnode_positions = misc_data['imgnode_positions']\n",
    "imgnode_colors = misc_data['imgnode_colors']\n",
    "imgnode_names = misc_data['imgnode_names']\n"
   ]
  },
  {
   "cell_type": "code",
   "execution_count": 12,
   "metadata": {},
   "outputs": [],
   "source": [
    "\n",
    "#make wide version of nodes_df\n",
    "def get_col(node_num, df = categories_nodes_df, idx = 'node_num', col = 'layer'):\n",
    "    return df.loc[(df[idx] == node_num) & (df['category'] == df['category'].unique()[0]), col].item()\n",
    "\n",
    "def add_norm_col(df,categories=categories,delete_columns = ['small_SPAN','overall']):\n",
    "    for c in delete_columns:\n",
    "        try:\n",
    "            categories.remove(c)\n",
    "        except:\n",
    "            pass\n",
    "    norms = []\n",
    "    for index, row in df.iterrows():\n",
    "        norm = 0\n",
    "        for i,category in enumerate(categories):\n",
    "            norm += row[category]**2\n",
    "        norm = np.sqrt(norm)\n",
    "        norms.append(norm)\n",
    "    norms = np.array(norms)\n",
    "    df['category_norm'] = norms\n",
    "    return df\n",
    "\n",
    "def gen_wide_df(rank_type,df=categories_nodes_df,delete_columns = ['small_SPAN','overall']):\n",
    "    print('making wide version of df')\n",
    "    nodes_wide_df = df.pivot(index = 'node_num',columns='category', values=rank_type)\n",
    "    nodes_wide_df.reset_index(inplace=True)\n",
    "    nodes_wide_df['layer'] = nodes_wide_df['node_num'].apply(get_col)\n",
    "    nodes_wide_df = nodes_wide_df.rename(columns = {'category':'index'})\n",
    "    for c in delete_columns:\n",
    "        try:\n",
    "            nodes_wide_df = nodes_wide_df.drop([c], axis=1)\n",
    "        except:\n",
    "            print('could drop column %s'%c)\n",
    "    nodes_wide_df = add_norm_col(nodes_wide_df) \n",
    "    return nodes_wide_df\n",
    "\n",
    "#rotation for mds plots\n",
    "from scipy.spatial.distance import cdist\n",
    "\n",
    "def cart2pol(x, y):\n",
    "    rho = np.sqrt(x**2 + y**2)\n",
    "    phi = np.arctan2(y, x)\n",
    "    return(rho, phi)\n",
    "\n",
    "def pol2cart(rho, phi):\n",
    "    x = rho * np.cos(phi)\n",
    "    y = rho * np.sin(phi)\n",
    "    return(x, y)\n",
    "\n",
    "\n",
    "def rotate_cartesian(vec2d,r):    #rotates 2d cartesian coordinates by some radians \n",
    "    x,y = vec2d[0], vec2d[1]\n",
    "    x_out = np.sqrt(x**2+y**2)*np.cos(np.arctan2(y,x)+r)\n",
    "    y_out = np.sqrt(x**2+y**2)*np.sin(np.arctan2(y,x)+r)\n",
    "    return np.array([x_out,y_out])\n",
    "\n",
    "def rotate_mds(layer_mds,rank_type,imgnode_positions=imgnode_positions,max_edges = 40,angles_tested=64):\n",
    "    print('rotating layers to minimize edge lengths')\n",
    "    for layer in range(len(layer_mds)):\n",
    "        all_layer_positions = layer_mds[layer]\n",
    "        layer_df = overall_edge_df.loc[(overall_edge_df['layer']==layer)].sort_values(rank_type+'_rank',ascending=False).head(max_edges)\n",
    "        if layer == 0:\n",
    "            all_prev_layer_positions = np.swapaxes(np.array([imgnode_positions['Y'],imgnode_positions['Z']]),0,1)\n",
    "        else:\n",
    "            all_prev_layer_positions = layer_mds[layer-1]\n",
    "        #gen positions matrix for important edges\n",
    "        select_layer_positions = []\n",
    "        select_prev_layer_positions = []\n",
    "        for row in layer_df.itertuples():\n",
    "            select_layer_positions.append(all_layer_positions[row.out_channel])\n",
    "            select_prev_layer_positions.append(all_prev_layer_positions[row.in_channel])\n",
    "        #go through discrete rotations and find min distance\n",
    "        min_dist = 10000000\n",
    "        min_discrete_angle = 0\n",
    "        for p in range(0,angles_tested):\n",
    "            test_layer_positions=np.apply_along_axis(rotate_cartesian, 1, select_layer_positions,r=p*2*np.pi/angles_tested)\n",
    "            dist = sum(np.diagonal(cdist(test_layer_positions,select_prev_layer_positions)))\n",
    "            if dist < min_dist:\n",
    "                min_discrete_angle = p\n",
    "                min_dist = dist\n",
    "        #update layer mds at layer by rotating by optimal angle\n",
    "        print('rotating layer %s by %s rads'%(str(layer),str(min_discrete_angle*2*np.pi/angles_tested)))\n",
    "        layer_mds[layer] = np.apply_along_axis(rotate_cartesian, 1, layer_mds[layer],r=min_discrete_angle*2*np.pi/angles_tested)\n",
    "    return layer_mds \n",
    "\n",
    "\n",
    "def gen_layer_mds(nodes_df=categories_nodes_df):\n",
    "    mds_projections ={}\n",
    "    for rank_type in ['actxgrad','act','grad']:\n",
    "        nodes_wide_df = gen_wide_df(rank_type+'_rank',df=nodes_df)\n",
    "        layer_similarities = {}\n",
    "        for layer in range(len(layer_nodes)):\n",
    "            layer_df = nodes_wide_df[nodes_wide_df['layer'] == layer]\n",
    "            for category in categories:\n",
    "                layer_df[category] = layer_df.apply(lambda row : row[category]/row['category_norm'], axis = 1)   \n",
    "            layer_similarities[layer] = euclidean_distances(layer_df.iloc[:,1:-2])\n",
    "\n",
    "        layer_mds = {}\n",
    "        for layer in layer_similarities:\n",
    "            print('layer: %s'%str(layer))\n",
    "            mds = manifold.MDS(n_components=2, max_iter=3000, eps=1e-9, \n",
    "              random_state=2, dissimilarity=\"precomputed\", n_jobs=1)\n",
    "            pos = mds.fit(layer_similarities[layer]).embedding_\n",
    "            layer_mds[layer] = pos\n",
    "        layer_mds = rotate_mds(layer_mds,rank_type)\n",
    "        mds_projections[rank_type] = layer_mds\n",
    "    return mds_projections\n",
    "\n",
    "\n",
    "#grid layer projection\n",
    "\n",
    "def gen_grid_positions():\n",
    "    grid_projections = {}\n",
    "    for layer in range(len(layer_nodes)):\n",
    "        grid_projections[layer] = []\n",
    "        num_nodes = len(layer_nodes[layer][1])\n",
    "        if num_nodes == 1:\n",
    "            grid_projections[layer] = np.array([[0,0]])\n",
    "            continue\n",
    "        elif num_nodes == 2:\n",
    "            grid_projections[layer] = np.array([[.1,0],\n",
    "                                                [-.1,0]])\n",
    "            continue\n",
    "        elif num_nodes == 3:\n",
    "            grid_projections[layer] = np.array([[.1,.1],\n",
    "                                                [0,0],\n",
    "                                                [-.1,-.1]])\n",
    "            continue\n",
    "        elif num_nodes == 4:\n",
    "            grid_projections[layer] = np.array([[.1,.1],\n",
    "                                                [-.1,.1],\n",
    "                                                [.1,-.1],\n",
    "                                                [-.1,-.1]])\n",
    "            continue\n",
    "        elif num_nodes == 5:\n",
    "            grid_projections[layer] = np.array([[.1,.1],\n",
    "                                                [-.1,.1],\n",
    "                                                [0,0],\n",
    "                                                [.1,-.1],\n",
    "                                                [-.1,-.1]])\n",
    "            continue\n",
    "        elif num_nodes == 6:\n",
    "            grid_projections[layer] = np.array([[.1,.1],\n",
    "                                                [0,.1],\n",
    "                                                [-.1,.1],\n",
    "                                                [.1,-.1],\n",
    "                                                [0,-.1],\n",
    "                                                [-.1,-.1]])\n",
    "            continue\n",
    "        elif num_nodes == 7:\n",
    "            grid_projections[layer] = np.array([[.1,.1],\n",
    "                                                [0,.1],\n",
    "                                                [-.1,.1],\n",
    "                                                [0,0],\n",
    "                                                [.1,-.1],\n",
    "                                                [0,-.1],\n",
    "                                                [-.1,-.1]])\n",
    "            continue\n",
    "        elif num_nodes == 8:\n",
    "            grid_projections[layer] = np.array([[.1,.1],\n",
    "                                                [0,.1],\n",
    "                                                [-.1,.1],\n",
    "                                                [-.1,0],\n",
    "                                                [.1,0],\n",
    "                                                [.1,-.1],\n",
    "                                                [0,-.1],\n",
    "                                                [-.1,-.1]])  \n",
    "            continue\n",
    "        elif num_nodes == 9:\n",
    "            grid_projections[layer] = np.array([[.1,.1],\n",
    "                                                [0,.1],\n",
    "                                                [-.1,.1],\n",
    "                                                [-.1,0],\n",
    "                                                [0,0],\n",
    "                                                [.1,0],\n",
    "                                                [.1,-.1],\n",
    "                                                [0,-.1],\n",
    "                                                [-.1,-.1]]) \n",
    "            continue\n",
    "            \n",
    "        elif num_nodes < 20:\n",
    "            max_dis = .2\n",
    "        elif num_nodes < 40:\n",
    "            max_dis = .3\n",
    "        elif num_nodes < 60:\n",
    "            max_dis = .4\n",
    "        elif num_nodes < 80:\n",
    "            max_dis = .5\n",
    "        elif num_nodes < 100:\n",
    "            max_dis = .6\n",
    "        elif num_nodes < 120:\n",
    "            max_dis = .7\n",
    "        elif num_nodes < 140:\n",
    "            max_dis = .8\n",
    "        else:\n",
    "            max_dis = 1\n",
    "        if np.floor(np.sqrt(num_nodes))*np.ceil(np.sqrt(num_nodes)) < num_nodes:\n",
    "            x_spaces, y_spaces = np.ceil(np.sqrt(num_nodes)),np.ceil(np.sqrt(num_nodes))\n",
    "        else:\n",
    "            x_spaces, y_spaces = np.floor(np.sqrt(num_nodes)),np.ceil(np.sqrt(num_nodes))\n",
    "        x = np.linspace(max_dis,-1*max_dis,int(x_spaces))\n",
    "        y = np.linspace(max_dis,-1*max_dis,int(y_spaces))\n",
    "        X,Y = np.meshgrid(x,y)\n",
    "        X_flat = [item for sublist in X for item in sublist]\n",
    "        Y_flat = [item for sublist in Y for item in sublist]\n",
    "        for i in range(num_nodes):\n",
    "            grid_projections[layer].append([X_flat[i],Y_flat[i]])    \n",
    "        grid_projections[layer] = np.array(grid_projections[layer])\n",
    "    return grid_projections\n",
    "\n",
    "\n",
    "##Force Field equations\n",
    "#center of mass\n",
    "def points_2_com(points):\n",
    "    #in_arr.shape = (num_points,dimensionality of points)\n",
    "    #outputs center of mass as np.array([dim1,dim2, . . . ])\n",
    "    outlist = []\n",
    "    for dim in range(points.shape[1]):\n",
    "        outlist.append(np.mean(points[:,dim]))\n",
    "    return np.array(outlist)\n",
    "\n",
    "def distance_and_direction(p1,p2):\n",
    "    #returns a scalar magnitude and direction vector [x,y] from p1 [x,y] to p2[x,y]\n",
    "    distance = np.sqrt((p1[0]-p2[0])**2+(p1[1]-p2[1])**2)\n",
    "    direction = [p1[0]-p2[0],p1[1]-p2[1]]\n",
    "    return distance, direction\n",
    "\n",
    "def magnitude(point):\n",
    "    return np.sqrt(np.sum(point**2))\n",
    "\n",
    "def euc_2_polar(points):\n",
    "    x,y = points[:,0], points[:,1]\n",
    "    r = np.sqrt(x**2+y**2)\n",
    "    t = np.arctan2(y,x)\n",
    "    return r,t\n",
    "\n",
    "def polar_2_euc(r,t):\n",
    "    x = r*np.cos(t)\n",
    "    y = r*np.sin(t)\n",
    "    points = np.array([x,y]).transpose()\n",
    "    return points\n",
    "\n",
    "def scale_points(points,maximum = .25):\n",
    "    r,t = euc_2_polar(points)\n",
    "    max_r = np.max(r)\n",
    "    scale = maximum/max_r\n",
    "    r_scaled = scale*r\n",
    "    scaled_points = polar_2_euc(r_scaled,t)\n",
    "    return scaled_points\n",
    "\n",
    "def translate_points(points,middle=0):\n",
    "    x_avg = np.average(points[:,0])\n",
    "    y_avg = np.average(points[:,1])\n",
    "    points[:,0] = points[:,0] - x_avg + middle\n",
    "    points[:,1] = points[:,1] - y_avg + middle\n",
    "    return points\n",
    "\n",
    "def scaling_forces(points):\n",
    "    #in_arr.shape = (num_points,dimensionality of points)\n",
    "    #outputs scalar forcing scaling factor\n",
    "    distances = euclidean_distances(points)\n",
    "    m = np.min(distances[np.triu_indices(points.shape[0], k = 1)])\n",
    "    return m/2\n",
    "    \n",
    "\n",
    "def points_2_nonlin_repel(points, scaling):\n",
    "    #in_arr.shape = (num_points,dimensionality of points)\n",
    "    #outputs array of same shape with (num_points, dimensions of force vectors on those point)\n",
    "    distances = euclidean_distances(points)\n",
    "    mean_dis = np.mean(distances)\n",
    "    #max_dis = np.max(distances)\n",
    "    def force_on_point(point, points = points,scale = 1/mean_dis):\n",
    "        dif = points - point\n",
    "        dif_r, dif_t = euc_2_polar(dif)\n",
    "        same_point_indices = np.where(dif_r == 0)[0]\n",
    "        dif_r = np.delete(dif_r, same_point_indices, axis=0)\n",
    "        dif_t = np.delete(dif_t, same_point_indices, axis=0)\n",
    "        #magnitude = np.apply_along_axis(magnitude, 1, dif) \n",
    "        #force_mag = scaling*(1-scale*dif_r)\n",
    "        #import pdb; pdb.set_trace()\n",
    "        force_mag = 1/(dif_r)*mean_dis\n",
    "        force_vecs = -1*polar_2_euc(force_mag,dif_t)\n",
    "        #force_vecs = -1*np.delete(force_vecs, same_point_indices, axis=0)\n",
    "        return np.sum(force_vecs,axis=0) \n",
    "    return np.apply_along_axis(force_on_point, 1, points)\n",
    "    \n",
    "    \n",
    "def points_2_com_nonlin_attract(points,scaling):\n",
    "    #in_arr.shape = (num_points,dimensionality of points)\n",
    "    #outputs array of same shape with (num_points, dimensions of force vectors on those point)\n",
    "    com = points_2_com(points)\n",
    "    num_points = points.shape[0]\n",
    "    def com_force_on_point(point, com = com, num_points = num_points,scaling=scaling):\n",
    "        return [(com[0]-point[0])*scaling*num_points,(com[1]-point[1])*scaling*num_points]\n",
    "    return np.apply_along_axis(com_force_on_point, 1, points)\n",
    "    \n",
    "    \n",
    "\n",
    "def points_2_nonlin_force_field(points, scaling=1):\n",
    "    #in_arr.shape = (num_points,dimensionality of points)\n",
    "    #outputs array of same shape with (num_points, dimensions of force vectors on those point)\n",
    "    scaling = scaling*scaling_forces(points)\n",
    "    #return points_2_nonlin_repel(points,scaling)\n",
    "    return points_2_nonlin_repel(points,scaling)+points_2_com_nonlin_attract(points,scaling)\n",
    "\n",
    "def nonlinear_push_points(points,rate=.1):\n",
    "    forces = points_2_nonlin_force_field(points)\n",
    "    return points + rate*forces\n",
    "\n",
    "def gen_layer_smooth_mds(mds_projections, iterations = 100,init_rate = .0001,step_ratio = 10,scale = .25):\n",
    "    print('smoothing mds plots')\n",
    "    init_rate = .0001\n",
    "    smooth_mds_projection = {}\n",
    "    #import pdb; pdb.set_trace()\n",
    "    for rank_type in mds_projections.keys():\n",
    "        smooth_mds_projection[rank_type] = {}\n",
    "        for j in mds_projections[rank_type]:\n",
    "            points = mds_projections[rank_type][j]\n",
    "            for i in range(1,iterations):\n",
    "                #move_points \n",
    "                #prev_points = deepcopy(points)\n",
    "                points = nonlinear_push_points(points,rate=np.min([init_rate+i*init_rate/step_ratio,init_rate*10]))\n",
    "            smooth_mds_projection[rank_type][j] = points\n",
    "    \n",
    "    max_points = 0\n",
    "    for rank_type in mds_projections.keys():\n",
    "        for i in mds_projections[rank_type]:\n",
    "            points = mds_projections[rank_type][i]\n",
    "            if points.shape[0] > max_points:\n",
    "                max_points = points.shape[0]\n",
    "                max_layer = i\n",
    "        #get layer with maximum points and scale\n",
    "        for i in mds_projections[rank_type]:\n",
    "            if i == max_layer:\n",
    "                smooth_mds_projection[rank_type][i] = scale_points(smooth_mds_projection[rank_type][i],maximum = scale)\n",
    "            else:\n",
    "                smooth_mds_projection[rank_type][i] = scale_points(smooth_mds_projection[rank_type][i],maximum = scale*np.sqrt(float(smooth_mds_projection[rank_type][i].shape[0])/float(max_points)))\n",
    "        #rotate plots\n",
    "        smooth_layer_mds = rotate_mds(smooth_mds_projection[rank_type],rank_type)\n",
    "        smooth_mds_projection[rank_type] = smooth_layer_mds\n",
    "    return smooth_mds_projection\n",
    "\n",
    "\n",
    "\n",
    "\n",
    "\n",
    "\n",
    "def gen_layer_smooth_no_types(projections, iterations = 100,init_rate = .0001,step_ratio = 10,scale = .25,scale_same_size=True):\n",
    "    print('smoothing plots')\n",
    "    init_rate = .0001\n",
    "    smooth_projection = {}\n",
    "    #import pdb; pdb.set_trace()\n",
    "\n",
    "    for j in range(len(projections)):\n",
    "        points = projections[j]\n",
    "        for i in range(1,iterations):\n",
    "            #move_points \n",
    "            #prev_points = deepcopy(points)\n",
    "            points = nonlinear_push_points(points,rate=np.min([init_rate+i*init_rate/step_ratio,init_rate*10]))\n",
    "        smooth_projection[j] = points\n",
    "    \n",
    "    max_points = 0\n",
    "\n",
    "    for i in range(len(projections)):\n",
    "        points = projections[i]\n",
    "        if points.shape[0] > max_points:\n",
    "            max_points = points.shape[0]\n",
    "            max_layer = i\n",
    "    #get layer with maximum points and scale\n",
    "    for i in range(len(projections)):\n",
    "        if i == max_layer or scale_same_size:\n",
    "            smooth_projection[i] = scale_points(smooth_projection[i],maximum = scale)\n",
    "        else:\n",
    "            smooth_projection[i] = scale_points(smooth_projection[i],maximum = scale*np.sqrt(float(smooth_projection[i].shape[0])/float(max_points)))\n",
    "    #translate points to lie in center\n",
    "    for i in range(len(projections)):\n",
    "        smooth_projection[i] = translate_points(smooth_projection[i])\n",
    "    #rotate plots\n",
    "    smooth_rotated = rotate_no_types(smooth_projection)\n",
    "    smooth_projection = smooth_rotated\n",
    "    \n",
    "    return smooth_rotated\n",
    "\n",
    "\n",
    "def rotate_no_types(projections,rank_type='actxgrad',imgnode_positions=imgnode_positions,max_edges = 40,angles_tested=64):\n",
    "    print('rotating layers to minimize edge lengths')\n",
    "    for layer in range(len(projections)):\n",
    "        all_layer_positions = projections[layer]\n",
    "        layer_df = overall_edge_df.loc[(overall_edge_df['layer']==layer)].sort_values(rank_type+'_rank',ascending=False).head(max_edges)\n",
    "        if layer == 0:\n",
    "            all_prev_layer_positions = np.swapaxes(np.array([imgnode_positions['Y'],imgnode_positions['Z']]),0,1)\n",
    "        else:\n",
    "            all_prev_layer_positions = projections[layer-1]\n",
    "        #gen positions matrix for important edges\n",
    "        select_layer_positions = []\n",
    "        select_prev_layer_positions = []\n",
    "        for row in layer_df.itertuples():\n",
    "            select_layer_positions.append(all_layer_positions[row.out_channel])\n",
    "            select_prev_layer_positions.append(all_prev_layer_positions[row.in_channel])\n",
    "        #go through discrete rotations and find min distance\n",
    "        min_dist = 10000000\n",
    "        min_discrete_angle = 0\n",
    "        for p in range(0,angles_tested):\n",
    "            test_layer_positions=np.apply_along_axis(rotate_cartesian, 1, select_layer_positions,r=p*2*np.pi/angles_tested)\n",
    "            dist = sum(np.diagonal(cdist(test_layer_positions,select_prev_layer_positions)))\n",
    "            if dist < min_dist:\n",
    "                min_discrete_angle = p\n",
    "                min_dist = dist\n",
    "        #update layer mds at layer by rotating by optimal angle\n",
    "        print('rotating layer %s by %s rads'%(str(layer),str(min_discrete_angle*2*np.pi/angles_tested)))\n",
    "        projections[layer] = np.apply_along_axis(rotate_cartesian, 1, projections[layer],r=min_discrete_angle*2*np.pi/angles_tested)\n",
    "    return projections"
   ]
  },
  {
   "cell_type": "code",
   "execution_count": 11,
   "metadata": {},
   "outputs": [
    {
     "data": {
      "text/html": [
       "<div>\n",
       "<style scoped>\n",
       "    .dataframe tbody tr th:only-of-type {\n",
       "        vertical-align: middle;\n",
       "    }\n",
       "\n",
       "    .dataframe tbody tr th {\n",
       "        vertical-align: top;\n",
       "    }\n",
       "\n",
       "    .dataframe thead th {\n",
       "        text-align: right;\n",
       "    }\n",
       "</style>\n",
       "<table border=\"1\" class=\"dataframe\">\n",
       "  <thead>\n",
       "    <tr style=\"text-align: right;\">\n",
       "      <th></th>\n",
       "      <th>node_num</th>\n",
       "      <th>layer_name</th>\n",
       "      <th>layer</th>\n",
       "      <th>node_num_by_layer</th>\n",
       "      <th>act_rank</th>\n",
       "      <th>grad_rank</th>\n",
       "      <th>actxgrad_rank</th>\n",
       "      <th>category</th>\n",
       "    </tr>\n",
       "  </thead>\n",
       "  <tbody>\n",
       "    <tr>\n",
       "      <th>0</th>\n",
       "      <td>0</td>\n",
       "      <td>features_0</td>\n",
       "      <td>0</td>\n",
       "      <td>0</td>\n",
       "      <td>0.325476</td>\n",
       "      <td>0.000014</td>\n",
       "      <td>0.000028</td>\n",
       "      <td>overall</td>\n",
       "    </tr>\n",
       "    <tr>\n",
       "      <th>1</th>\n",
       "      <td>1</td>\n",
       "      <td>features_0</td>\n",
       "      <td>0</td>\n",
       "      <td>1</td>\n",
       "      <td>0.609819</td>\n",
       "      <td>0.000016</td>\n",
       "      <td>0.000036</td>\n",
       "      <td>overall</td>\n",
       "    </tr>\n",
       "    <tr>\n",
       "      <th>2</th>\n",
       "      <td>2</td>\n",
       "      <td>features_0</td>\n",
       "      <td>0</td>\n",
       "      <td>2</td>\n",
       "      <td>0.440970</td>\n",
       "      <td>0.000035</td>\n",
       "      <td>0.000051</td>\n",
       "      <td>overall</td>\n",
       "    </tr>\n",
       "    <tr>\n",
       "      <th>3</th>\n",
       "      <td>3</td>\n",
       "      <td>features_0</td>\n",
       "      <td>0</td>\n",
       "      <td>3</td>\n",
       "      <td>0.357837</td>\n",
       "      <td>0.000037</td>\n",
       "      <td>0.000042</td>\n",
       "      <td>overall</td>\n",
       "    </tr>\n",
       "    <tr>\n",
       "      <th>4</th>\n",
       "      <td>4</td>\n",
       "      <td>features_0</td>\n",
       "      <td>0</td>\n",
       "      <td>4</td>\n",
       "      <td>0.518574</td>\n",
       "      <td>0.000029</td>\n",
       "      <td>0.000048</td>\n",
       "      <td>overall</td>\n",
       "    </tr>\n",
       "    <tr>\n",
       "      <th>...</th>\n",
       "      <td>...</td>\n",
       "      <td>...</td>\n",
       "      <td>...</td>\n",
       "      <td>...</td>\n",
       "      <td>...</td>\n",
       "      <td>...</td>\n",
       "      <td>...</td>\n",
       "      <td>...</td>\n",
       "    </tr>\n",
       "    <tr>\n",
       "      <th>1154299</th>\n",
       "      <td>1147</td>\n",
       "      <td>features_10</td>\n",
       "      <td>4</td>\n",
       "      <td>251</td>\n",
       "      <td>0.221436</td>\n",
       "      <td>0.000034</td>\n",
       "      <td>0.000043</td>\n",
       "      <td>zucchini</td>\n",
       "    </tr>\n",
       "    <tr>\n",
       "      <th>1154300</th>\n",
       "      <td>1148</td>\n",
       "      <td>features_10</td>\n",
       "      <td>4</td>\n",
       "      <td>252</td>\n",
       "      <td>0.246030</td>\n",
       "      <td>0.000048</td>\n",
       "      <td>0.000053</td>\n",
       "      <td>zucchini</td>\n",
       "    </tr>\n",
       "    <tr>\n",
       "      <th>1154301</th>\n",
       "      <td>1149</td>\n",
       "      <td>features_10</td>\n",
       "      <td>4</td>\n",
       "      <td>253</td>\n",
       "      <td>0.436829</td>\n",
       "      <td>0.000049</td>\n",
       "      <td>0.000081</td>\n",
       "      <td>zucchini</td>\n",
       "    </tr>\n",
       "    <tr>\n",
       "      <th>1154302</th>\n",
       "      <td>1150</td>\n",
       "      <td>features_10</td>\n",
       "      <td>4</td>\n",
       "      <td>254</td>\n",
       "      <td>0.142587</td>\n",
       "      <td>0.000018</td>\n",
       "      <td>0.000023</td>\n",
       "      <td>zucchini</td>\n",
       "    </tr>\n",
       "    <tr>\n",
       "      <th>1154303</th>\n",
       "      <td>1151</td>\n",
       "      <td>features_10</td>\n",
       "      <td>4</td>\n",
       "      <td>255</td>\n",
       "      <td>0.465523</td>\n",
       "      <td>0.000046</td>\n",
       "      <td>0.000082</td>\n",
       "      <td>zucchini</td>\n",
       "    </tr>\n",
       "  </tbody>\n",
       "</table>\n",
       "<p>1154304 rows × 8 columns</p>\n",
       "</div>"
      ],
      "text/plain": [
       "         node_num   layer_name  layer  node_num_by_layer  act_rank  grad_rank  \\\n",
       "0               0   features_0      0                  0  0.325476   0.000014   \n",
       "1               1   features_0      0                  1  0.609819   0.000016   \n",
       "2               2   features_0      0                  2  0.440970   0.000035   \n",
       "3               3   features_0      0                  3  0.357837   0.000037   \n",
       "4               4   features_0      0                  4  0.518574   0.000029   \n",
       "...           ...          ...    ...                ...       ...        ...   \n",
       "1154299      1147  features_10      4                251  0.221436   0.000034   \n",
       "1154300      1148  features_10      4                252  0.246030   0.000048   \n",
       "1154301      1149  features_10      4                253  0.436829   0.000049   \n",
       "1154302      1150  features_10      4                254  0.142587   0.000018   \n",
       "1154303      1151  features_10      4                255  0.465523   0.000046   \n",
       "\n",
       "         actxgrad_rank  category  \n",
       "0             0.000028   overall  \n",
       "1             0.000036   overall  \n",
       "2             0.000051   overall  \n",
       "3             0.000042   overall  \n",
       "4             0.000048   overall  \n",
       "...                ...       ...  \n",
       "1154299       0.000043  zucchini  \n",
       "1154300       0.000053  zucchini  \n",
       "1154301       0.000081  zucchini  \n",
       "1154302       0.000023  zucchini  \n",
       "1154303       0.000082  zucchini  \n",
       "\n",
       "[1154304 rows x 8 columns]"
      ]
     },
     "execution_count": 11,
     "metadata": {},
     "output_type": "execute_result"
    }
   ],
   "source": [
    "categories_nodes_df"
   ]
  },
  {
   "cell_type": "code",
   "execution_count": 5,
   "metadata": {},
   "outputs": [
    {
     "name": "stdout",
     "output_type": "stream",
     "text": [
      "making wide version of df\n"
     ]
    },
    {
     "ename": "KeyboardInterrupt",
     "evalue": "",
     "output_type": "error",
     "traceback": [
      "\u001b[0;31m---------------------------------------------------------------------------\u001b[0m",
      "\u001b[0;31mKeyboardInterrupt\u001b[0m                         Traceback (most recent call last)",
      "\u001b[0;32m<ipython-input-5-6a62a6be6021>\u001b[0m in \u001b[0;36m<module>\u001b[0;34m\u001b[0m\n\u001b[0;32m----> 1\u001b[0;31m \u001b[0mnodes_wide_df\u001b[0m \u001b[0;34m=\u001b[0m \u001b[0mgen_wide_df\u001b[0m\u001b[0;34m(\u001b[0m\u001b[0;34m'actxgrad_rank'\u001b[0m\u001b[0;34m,\u001b[0m\u001b[0mdf\u001b[0m\u001b[0;34m=\u001b[0m\u001b[0mcategories_nodes_df\u001b[0m\u001b[0;34m)\u001b[0m\u001b[0;34m\u001b[0m\u001b[0;34m\u001b[0m\u001b[0m\n\u001b[0m",
      "\u001b[0;32m<ipython-input-3-a801b409ae32>\u001b[0m in \u001b[0;36mgen_wide_df\u001b[0;34m(rank_type, df, delete_columns)\u001b[0m\n\u001b[1;32m     24\u001b[0m     \u001b[0mnodes_wide_df\u001b[0m \u001b[0;34m=\u001b[0m \u001b[0mdf\u001b[0m\u001b[0;34m.\u001b[0m\u001b[0mpivot\u001b[0m\u001b[0;34m(\u001b[0m\u001b[0mindex\u001b[0m \u001b[0;34m=\u001b[0m \u001b[0;34m'node_num'\u001b[0m\u001b[0;34m,\u001b[0m\u001b[0mcolumns\u001b[0m\u001b[0;34m=\u001b[0m\u001b[0;34m'category'\u001b[0m\u001b[0;34m,\u001b[0m \u001b[0mvalues\u001b[0m\u001b[0;34m=\u001b[0m\u001b[0mrank_type\u001b[0m\u001b[0;34m)\u001b[0m\u001b[0;34m\u001b[0m\u001b[0;34m\u001b[0m\u001b[0m\n\u001b[1;32m     25\u001b[0m     \u001b[0mnodes_wide_df\u001b[0m\u001b[0;34m.\u001b[0m\u001b[0mreset_index\u001b[0m\u001b[0;34m(\u001b[0m\u001b[0minplace\u001b[0m\u001b[0;34m=\u001b[0m\u001b[0;32mTrue\u001b[0m\u001b[0;34m)\u001b[0m\u001b[0;34m\u001b[0m\u001b[0;34m\u001b[0m\u001b[0m\n\u001b[0;32m---> 26\u001b[0;31m     \u001b[0mnodes_wide_df\u001b[0m\u001b[0;34m[\u001b[0m\u001b[0;34m'layer'\u001b[0m\u001b[0;34m]\u001b[0m \u001b[0;34m=\u001b[0m \u001b[0mnodes_wide_df\u001b[0m\u001b[0;34m[\u001b[0m\u001b[0;34m'node_num'\u001b[0m\u001b[0;34m]\u001b[0m\u001b[0;34m.\u001b[0m\u001b[0mapply\u001b[0m\u001b[0;34m(\u001b[0m\u001b[0mget_col\u001b[0m\u001b[0;34m)\u001b[0m\u001b[0;34m\u001b[0m\u001b[0;34m\u001b[0m\u001b[0m\n\u001b[0m\u001b[1;32m     27\u001b[0m     \u001b[0mnodes_wide_df\u001b[0m \u001b[0;34m=\u001b[0m \u001b[0mnodes_wide_df\u001b[0m\u001b[0;34m.\u001b[0m\u001b[0mrename\u001b[0m\u001b[0;34m(\u001b[0m\u001b[0mcolumns\u001b[0m \u001b[0;34m=\u001b[0m \u001b[0;34m{\u001b[0m\u001b[0;34m'category'\u001b[0m\u001b[0;34m:\u001b[0m\u001b[0;34m'index'\u001b[0m\u001b[0;34m}\u001b[0m\u001b[0;34m)\u001b[0m\u001b[0;34m\u001b[0m\u001b[0;34m\u001b[0m\u001b[0m\n\u001b[1;32m     28\u001b[0m     \u001b[0;32mfor\u001b[0m \u001b[0mc\u001b[0m \u001b[0;32min\u001b[0m \u001b[0mdelete_columns\u001b[0m\u001b[0;34m:\u001b[0m\u001b[0;34m\u001b[0m\u001b[0;34m\u001b[0m\u001b[0m\n",
      "\u001b[0;32m~/miniconda3/envs/viscnn/lib/python3.7/site-packages/pandas/core/series.py\u001b[0m in \u001b[0;36mapply\u001b[0;34m(self, func, convert_dtype, args, **kwds)\u001b[0m\n\u001b[1;32m   3846\u001b[0m             \u001b[0;32melse\u001b[0m\u001b[0;34m:\u001b[0m\u001b[0;34m\u001b[0m\u001b[0;34m\u001b[0m\u001b[0m\n\u001b[1;32m   3847\u001b[0m                 \u001b[0mvalues\u001b[0m \u001b[0;34m=\u001b[0m \u001b[0mself\u001b[0m\u001b[0;34m.\u001b[0m\u001b[0mastype\u001b[0m\u001b[0;34m(\u001b[0m\u001b[0mobject\u001b[0m\u001b[0;34m)\u001b[0m\u001b[0;34m.\u001b[0m\u001b[0mvalues\u001b[0m\u001b[0;34m\u001b[0m\u001b[0;34m\u001b[0m\u001b[0m\n\u001b[0;32m-> 3848\u001b[0;31m                 \u001b[0mmapped\u001b[0m \u001b[0;34m=\u001b[0m \u001b[0mlib\u001b[0m\u001b[0;34m.\u001b[0m\u001b[0mmap_infer\u001b[0m\u001b[0;34m(\u001b[0m\u001b[0mvalues\u001b[0m\u001b[0;34m,\u001b[0m \u001b[0mf\u001b[0m\u001b[0;34m,\u001b[0m \u001b[0mconvert\u001b[0m\u001b[0;34m=\u001b[0m\u001b[0mconvert_dtype\u001b[0m\u001b[0;34m)\u001b[0m\u001b[0;34m\u001b[0m\u001b[0;34m\u001b[0m\u001b[0m\n\u001b[0m\u001b[1;32m   3849\u001b[0m \u001b[0;34m\u001b[0m\u001b[0m\n\u001b[1;32m   3850\u001b[0m         \u001b[0;32mif\u001b[0m \u001b[0mlen\u001b[0m\u001b[0;34m(\u001b[0m\u001b[0mmapped\u001b[0m\u001b[0;34m)\u001b[0m \u001b[0;32mand\u001b[0m \u001b[0misinstance\u001b[0m\u001b[0;34m(\u001b[0m\u001b[0mmapped\u001b[0m\u001b[0;34m[\u001b[0m\u001b[0;36m0\u001b[0m\u001b[0;34m]\u001b[0m\u001b[0;34m,\u001b[0m \u001b[0mSeries\u001b[0m\u001b[0;34m)\u001b[0m\u001b[0;34m:\u001b[0m\u001b[0;34m\u001b[0m\u001b[0;34m\u001b[0m\u001b[0m\n",
      "\u001b[0;32mpandas/_libs/lib.pyx\u001b[0m in \u001b[0;36mpandas._libs.lib.map_infer\u001b[0;34m()\u001b[0m\n",
      "\u001b[0;32m<ipython-input-3-a801b409ae32>\u001b[0m in \u001b[0;36mget_col\u001b[0;34m(node_num, df, idx, col)\u001b[0m\n\u001b[1;32m      1\u001b[0m \u001b[0;31m#make wide version of nodes_df\u001b[0m\u001b[0;34m\u001b[0m\u001b[0;34m\u001b[0m\u001b[0;34m\u001b[0m\u001b[0m\n\u001b[1;32m      2\u001b[0m \u001b[0;32mdef\u001b[0m \u001b[0mget_col\u001b[0m\u001b[0;34m(\u001b[0m\u001b[0mnode_num\u001b[0m\u001b[0;34m,\u001b[0m \u001b[0mdf\u001b[0m \u001b[0;34m=\u001b[0m \u001b[0mcategories_nodes_df\u001b[0m\u001b[0;34m,\u001b[0m \u001b[0midx\u001b[0m \u001b[0;34m=\u001b[0m \u001b[0;34m'node_num'\u001b[0m\u001b[0;34m,\u001b[0m \u001b[0mcol\u001b[0m \u001b[0;34m=\u001b[0m \u001b[0;34m'layer'\u001b[0m\u001b[0;34m)\u001b[0m\u001b[0;34m:\u001b[0m\u001b[0;34m\u001b[0m\u001b[0;34m\u001b[0m\u001b[0m\n\u001b[0;32m----> 3\u001b[0;31m     \u001b[0;32mreturn\u001b[0m \u001b[0mdf\u001b[0m\u001b[0;34m.\u001b[0m\u001b[0mloc\u001b[0m\u001b[0;34m[\u001b[0m\u001b[0;34m(\u001b[0m\u001b[0mdf\u001b[0m\u001b[0;34m[\u001b[0m\u001b[0midx\u001b[0m\u001b[0;34m]\u001b[0m \u001b[0;34m==\u001b[0m \u001b[0mnode_num\u001b[0m\u001b[0;34m)\u001b[0m \u001b[0;34m&\u001b[0m \u001b[0;34m(\u001b[0m\u001b[0mdf\u001b[0m\u001b[0;34m[\u001b[0m\u001b[0;34m'category'\u001b[0m\u001b[0;34m]\u001b[0m \u001b[0;34m==\u001b[0m \u001b[0mdf\u001b[0m\u001b[0;34m[\u001b[0m\u001b[0;34m'category'\u001b[0m\u001b[0;34m]\u001b[0m\u001b[0;34m.\u001b[0m\u001b[0munique\u001b[0m\u001b[0;34m(\u001b[0m\u001b[0;34m)\u001b[0m\u001b[0;34m[\u001b[0m\u001b[0;36m0\u001b[0m\u001b[0;34m]\u001b[0m\u001b[0;34m)\u001b[0m\u001b[0;34m,\u001b[0m \u001b[0mcol\u001b[0m\u001b[0;34m]\u001b[0m\u001b[0;34m.\u001b[0m\u001b[0mitem\u001b[0m\u001b[0;34m(\u001b[0m\u001b[0;34m)\u001b[0m\u001b[0;34m\u001b[0m\u001b[0;34m\u001b[0m\u001b[0m\n\u001b[0m\u001b[1;32m      4\u001b[0m \u001b[0;34m\u001b[0m\u001b[0m\n\u001b[1;32m      5\u001b[0m \u001b[0;32mdef\u001b[0m \u001b[0madd_norm_col\u001b[0m\u001b[0;34m(\u001b[0m\u001b[0mdf\u001b[0m\u001b[0;34m,\u001b[0m\u001b[0mcategories\u001b[0m\u001b[0;34m=\u001b[0m\u001b[0mcategories\u001b[0m\u001b[0;34m,\u001b[0m\u001b[0mdelete_columns\u001b[0m \u001b[0;34m=\u001b[0m \u001b[0;34m[\u001b[0m\u001b[0;34m'small_SPAN'\u001b[0m\u001b[0;34m,\u001b[0m\u001b[0;34m'overall'\u001b[0m\u001b[0;34m]\u001b[0m\u001b[0;34m)\u001b[0m\u001b[0;34m:\u001b[0m\u001b[0;34m\u001b[0m\u001b[0;34m\u001b[0m\u001b[0m\n",
      "\u001b[0;32m~/miniconda3/envs/viscnn/lib/python3.7/site-packages/pandas/core/ops/common.py\u001b[0m in \u001b[0;36mnew_method\u001b[0;34m(self, other)\u001b[0m\n\u001b[1;32m     62\u001b[0m         \u001b[0mother\u001b[0m \u001b[0;34m=\u001b[0m \u001b[0mitem_from_zerodim\u001b[0m\u001b[0;34m(\u001b[0m\u001b[0mother\u001b[0m\u001b[0;34m)\u001b[0m\u001b[0;34m\u001b[0m\u001b[0;34m\u001b[0m\u001b[0m\n\u001b[1;32m     63\u001b[0m \u001b[0;34m\u001b[0m\u001b[0m\n\u001b[0;32m---> 64\u001b[0;31m         \u001b[0;32mreturn\u001b[0m \u001b[0mmethod\u001b[0m\u001b[0;34m(\u001b[0m\u001b[0mself\u001b[0m\u001b[0;34m,\u001b[0m \u001b[0mother\u001b[0m\u001b[0;34m)\u001b[0m\u001b[0;34m\u001b[0m\u001b[0;34m\u001b[0m\u001b[0m\n\u001b[0m\u001b[1;32m     65\u001b[0m \u001b[0;34m\u001b[0m\u001b[0m\n\u001b[1;32m     66\u001b[0m     \u001b[0;32mreturn\u001b[0m \u001b[0mnew_method\u001b[0m\u001b[0;34m\u001b[0m\u001b[0;34m\u001b[0m\u001b[0m\n",
      "\u001b[0;32m~/miniconda3/envs/viscnn/lib/python3.7/site-packages/pandas/core/ops/__init__.py\u001b[0m in \u001b[0;36mwrapper\u001b[0;34m(self, other)\u001b[0m\n\u001b[1;32m    527\u001b[0m         \u001b[0mrvalues\u001b[0m \u001b[0;34m=\u001b[0m \u001b[0mextract_array\u001b[0m\u001b[0;34m(\u001b[0m\u001b[0mother\u001b[0m\u001b[0;34m,\u001b[0m \u001b[0mextract_numpy\u001b[0m\u001b[0;34m=\u001b[0m\u001b[0;32mTrue\u001b[0m\u001b[0;34m)\u001b[0m\u001b[0;34m\u001b[0m\u001b[0;34m\u001b[0m\u001b[0m\n\u001b[1;32m    528\u001b[0m \u001b[0;34m\u001b[0m\u001b[0m\n\u001b[0;32m--> 529\u001b[0;31m         \u001b[0mres_values\u001b[0m \u001b[0;34m=\u001b[0m \u001b[0mcomparison_op\u001b[0m\u001b[0;34m(\u001b[0m\u001b[0mlvalues\u001b[0m\u001b[0;34m,\u001b[0m \u001b[0mrvalues\u001b[0m\u001b[0;34m,\u001b[0m \u001b[0mop\u001b[0m\u001b[0;34m)\u001b[0m\u001b[0;34m\u001b[0m\u001b[0;34m\u001b[0m\u001b[0m\n\u001b[0m\u001b[1;32m    530\u001b[0m \u001b[0;34m\u001b[0m\u001b[0m\n\u001b[1;32m    531\u001b[0m         \u001b[0;32mreturn\u001b[0m \u001b[0m_construct_result\u001b[0m\u001b[0;34m(\u001b[0m\u001b[0mself\u001b[0m\u001b[0;34m,\u001b[0m \u001b[0mres_values\u001b[0m\u001b[0;34m,\u001b[0m \u001b[0mindex\u001b[0m\u001b[0;34m=\u001b[0m\u001b[0mself\u001b[0m\u001b[0;34m.\u001b[0m\u001b[0mindex\u001b[0m\u001b[0;34m,\u001b[0m \u001b[0mname\u001b[0m\u001b[0;34m=\u001b[0m\u001b[0mres_name\u001b[0m\u001b[0;34m)\u001b[0m\u001b[0;34m\u001b[0m\u001b[0;34m\u001b[0m\u001b[0m\n",
      "\u001b[0;32m~/miniconda3/envs/viscnn/lib/python3.7/site-packages/pandas/core/ops/array_ops.py\u001b[0m in \u001b[0;36mcomparison_op\u001b[0;34m(left, right, op)\u001b[0m\n\u001b[1;32m    245\u001b[0m \u001b[0;34m\u001b[0m\u001b[0m\n\u001b[1;32m    246\u001b[0m     \u001b[0;32melif\u001b[0m \u001b[0mis_object_dtype\u001b[0m\u001b[0;34m(\u001b[0m\u001b[0mlvalues\u001b[0m\u001b[0;34m.\u001b[0m\u001b[0mdtype\u001b[0m\u001b[0;34m)\u001b[0m\u001b[0;34m:\u001b[0m\u001b[0;34m\u001b[0m\u001b[0;34m\u001b[0m\u001b[0m\n\u001b[0;32m--> 247\u001b[0;31m         \u001b[0mres_values\u001b[0m \u001b[0;34m=\u001b[0m \u001b[0mcomp_method_OBJECT_ARRAY\u001b[0m\u001b[0;34m(\u001b[0m\u001b[0mop\u001b[0m\u001b[0;34m,\u001b[0m \u001b[0mlvalues\u001b[0m\u001b[0;34m,\u001b[0m \u001b[0mrvalues\u001b[0m\u001b[0;34m)\u001b[0m\u001b[0;34m\u001b[0m\u001b[0;34m\u001b[0m\u001b[0m\n\u001b[0m\u001b[1;32m    248\u001b[0m \u001b[0;34m\u001b[0m\u001b[0m\n\u001b[1;32m    249\u001b[0m     \u001b[0;32melse\u001b[0m\u001b[0;34m:\u001b[0m\u001b[0;34m\u001b[0m\u001b[0;34m\u001b[0m\u001b[0m\n",
      "\u001b[0;32m~/miniconda3/envs/viscnn/lib/python3.7/site-packages/pandas/core/ops/array_ops.py\u001b[0m in \u001b[0;36mcomp_method_OBJECT_ARRAY\u001b[0;34m(op, x, y)\u001b[0m\n\u001b[1;32m     55\u001b[0m         \u001b[0mresult\u001b[0m \u001b[0;34m=\u001b[0m \u001b[0mlibops\u001b[0m\u001b[0;34m.\u001b[0m\u001b[0mvec_compare\u001b[0m\u001b[0;34m(\u001b[0m\u001b[0mx\u001b[0m\u001b[0;34m.\u001b[0m\u001b[0mravel\u001b[0m\u001b[0;34m(\u001b[0m\u001b[0;34m)\u001b[0m\u001b[0;34m,\u001b[0m \u001b[0my\u001b[0m\u001b[0;34m,\u001b[0m \u001b[0mop\u001b[0m\u001b[0;34m)\u001b[0m\u001b[0;34m\u001b[0m\u001b[0;34m\u001b[0m\u001b[0m\n\u001b[1;32m     56\u001b[0m     \u001b[0;32melse\u001b[0m\u001b[0;34m:\u001b[0m\u001b[0;34m\u001b[0m\u001b[0;34m\u001b[0m\u001b[0m\n\u001b[0;32m---> 57\u001b[0;31m         \u001b[0mresult\u001b[0m \u001b[0;34m=\u001b[0m \u001b[0mlibops\u001b[0m\u001b[0;34m.\u001b[0m\u001b[0mscalar_compare\u001b[0m\u001b[0;34m(\u001b[0m\u001b[0mx\u001b[0m\u001b[0;34m.\u001b[0m\u001b[0mravel\u001b[0m\u001b[0;34m(\u001b[0m\u001b[0;34m)\u001b[0m\u001b[0;34m,\u001b[0m \u001b[0my\u001b[0m\u001b[0;34m,\u001b[0m \u001b[0mop\u001b[0m\u001b[0;34m)\u001b[0m\u001b[0;34m\u001b[0m\u001b[0;34m\u001b[0m\u001b[0m\n\u001b[0m\u001b[1;32m     58\u001b[0m     \u001b[0;32mreturn\u001b[0m \u001b[0mresult\u001b[0m\u001b[0;34m.\u001b[0m\u001b[0mreshape\u001b[0m\u001b[0;34m(\u001b[0m\u001b[0mx\u001b[0m\u001b[0;34m.\u001b[0m\u001b[0mshape\u001b[0m\u001b[0;34m)\u001b[0m\u001b[0;34m\u001b[0m\u001b[0;34m\u001b[0m\u001b[0m\n\u001b[1;32m     59\u001b[0m \u001b[0;34m\u001b[0m\u001b[0m\n",
      "\u001b[0;31mKeyboardInterrupt\u001b[0m: "
     ]
    }
   ],
   "source": [
    "nodes_wide_df = gen_wide_df('actxgrad_rank',df=categories_nodes_df)"
   ]
  },
  {
   "cell_type": "code",
   "execution_count": null,
   "metadata": {},
   "outputs": [],
   "source": [
    "nodes_wide_df.columns"
   ]
  },
  {
   "cell_type": "code",
   "execution_count": null,
   "metadata": {},
   "outputs": [],
   "source": [
    "layer = 4\n",
    "layer_df = nodes_wide_df[nodes_wide_df['layer'] == layer]\n",
    "layer_array = layer_df.iloc[:,1:-2].to_numpy()\n",
    "scaled_layer_array = StandardScaler().fit_transform(layer_array)\n",
    "scaled_layer_array.shape\n",
    "  "
   ]
  },
  {
   "cell_type": "code",
   "execution_count": null,
   "metadata": {},
   "outputs": [],
   "source": [
    "embedding = reducer.fit_transform(scaled_layer_array)\n",
    "embedding.shape"
   ]
  },
  {
   "cell_type": "code",
   "execution_count": 37,
   "metadata": {},
   "outputs": [
    {
     "data": {
      "application/vnd.plotly.v1+json": {
       "config": {
        "plotlyServerURL": "https://plot.ly"
       },
       "data": [
        {
         "hovertemplate": "0=%{x}<br>1=%{y}<extra></extra>",
         "legendgroup": "",
         "marker": {
          "color": "#636efa",
          "symbol": "circle"
         },
         "mode": "markers",
         "name": "",
         "orientation": "v",
         "showlegend": false,
         "type": "scatter",
         "x": [
          11.064628601074219,
          14.952754974365234,
          15.538955688476562,
          14.196212768554688,
          14.452683448791504,
          13.903057098388672,
          11.512266159057617,
          12.551507949829102,
          13.57009220123291,
          13.111963272094727,
          12.444101333618164,
          15.23042106628418,
          13.76858901977539,
          12.690057754516602,
          13.290451049804688,
          12.36035442352295,
          13.408220291137695,
          11.455491065979004,
          15.191099166870117,
          13.448417663574219,
          11.94290542602539,
          11.138283729553223,
          12.828108787536621,
          13.49007797241211,
          13.62833023071289,
          13.965483665466309,
          13.22046947479248,
          11.609015464782715,
          15.096576690673828,
          13.704325675964355,
          11.61268138885498,
          14.535017967224121,
          14.11962604522705,
          14.919173240661621,
          12.12773323059082,
          14.96857738494873,
          14.02756118774414,
          15.025344848632812,
          14.487530708312988,
          14.273500442504883,
          13.390782356262207,
          13.033763885498047,
          14.511197090148926,
          11.801643371582031,
          15.324580192565918,
          14.000274658203125,
          12.42278003692627,
          14.770651817321777,
          14.0415620803833,
          13.857580184936523,
          14.1377592086792,
          13.560181617736816,
          14.937288284301758,
          13.177618980407715,
          12.844488143920898,
          12.651884078979492,
          13.670350074768066,
          15.023978233337402,
          14.552841186523438,
          11.381518363952637,
          12.301779747009277,
          14.163834571838379,
          13.013702392578125,
          11.856588363647461,
          11.487839698791504,
          15.424416542053223,
          11.844765663146973,
          13.97397518157959,
          14.617960929870605,
          14.797772407531738,
          13.023171424865723,
          12.208595275878906,
          11.854625701904297,
          14.659003257751465,
          12.5156831741333,
          12.22020149230957,
          11.080581665039062,
          12.890643119812012,
          12.139906883239746,
          13.578482627868652,
          14.568532943725586,
          13.843989372253418,
          13.242971420288086,
          14.231818199157715,
          13.885284423828125,
          12.025976181030273,
          11.909523963928223,
          13.872965812683105,
          11.157941818237305,
          12.603589057922363,
          11.250932693481445,
          14.359756469726562,
          12.237981796264648,
          11.52500057220459,
          13.27596664428711,
          13.956398010253906,
          13.302159309387207,
          13.497621536254883,
          11.251542091369629,
          14.601110458374023,
          14.068809509277344,
          13.86591911315918,
          11.122660636901855,
          14.062505722045898,
          11.96470832824707,
          15.75677490234375,
          13.382683753967285,
          15.639631271362305,
          14.286825180053711,
          11.528891563415527,
          14.907166481018066,
          13.56200122833252,
          15.687074661254883,
          14.581441879272461,
          13.29862117767334,
          11.614821434020996,
          11.412812232971191,
          12.789624214172363,
          12.984046936035156,
          13.730216026306152,
          11.22207260131836,
          12.811217308044434,
          14.774711608886719,
          13.64141845703125,
          11.137758255004883,
          14.046377182006836,
          14.961986541748047,
          11.752991676330566,
          11.822489738464355,
          11.333374977111816,
          11.639673233032227,
          11.586841583251953,
          13.005744934082031,
          12.908041000366211,
          14.199254035949707,
          12.91580867767334,
          14.700668334960938,
          11.413614273071289,
          13.330034255981445,
          11.134801864624023,
          12.662871360778809,
          13.48440933227539,
          14.158811569213867,
          12.282904624938965,
          13.617768287658691,
          13.565558433532715,
          12.674386024475098,
          12.411255836486816,
          11.216789245605469,
          14.443410873413086,
          14.010915756225586,
          14.831626892089844,
          14.001591682434082,
          13.665392875671387,
          13.644472122192383,
          15.812356948852539,
          13.629317283630371,
          14.507822036743164,
          14.271212577819824,
          12.196117401123047,
          12.717486381530762,
          12.55315113067627,
          14.9730806350708,
          12.226567268371582,
          13.537164688110352,
          14.693464279174805,
          14.479260444641113,
          14.469597816467285,
          13.43122386932373,
          13.303881645202637,
          13.182038307189941,
          14.06800651550293,
          14.660948753356934,
          11.480525970458984,
          11.948868751525879,
          12.59581470489502,
          11.748737335205078,
          13.91206169128418,
          13.206433296203613,
          13.405472755432129,
          11.289498329162598,
          14.042864799499512,
          15.07321548461914,
          12.990403175354004,
          11.238951683044434,
          14.239217758178711,
          11.280915260314941,
          12.829398155212402,
          15.23473834991455,
          13.806987762451172,
          11.37175178527832,
          13.040858268737793,
          15.429678916931152,
          11.641745567321777,
          14.842703819274902,
          12.203712463378906,
          11.756689071655273,
          11.03602123260498,
          14.71842098236084,
          13.422372817993164,
          14.063826560974121,
          14.787567138671875,
          11.961270332336426,
          12.65418529510498,
          12.485931396484375,
          14.068729400634766,
          13.836194038391113,
          14.56139087677002,
          11.213568687438965,
          14.393410682678223,
          12.650216102600098,
          14.262306213378906,
          14.758278846740723,
          11.019451141357422,
          15.096908569335938,
          13.477599143981934,
          13.937882423400879,
          12.2664213180542,
          13.20042610168457,
          12.904200553894043,
          12.979448318481445,
          13.089064598083496,
          11.233039855957031,
          14.640713691711426,
          11.925522804260254,
          11.1134614944458,
          14.867218017578125,
          12.445789337158203,
          13.028608322143555,
          12.501749038696289,
          14.083670616149902,
          12.10961627960205,
          15.51864242553711,
          13.960622787475586,
          13.88692855834961,
          11.97286605834961,
          13.049318313598633,
          13.76009464263916,
          14.963042259216309,
          13.400192260742188,
          12.968259811401367,
          13.714787483215332,
          11.220815658569336,
          12.425432205200195,
          15.798848152160645,
          12.565696716308594,
          15.373230934143066,
          11.844511032104492,
          12.931818008422852,
          12.4735689163208,
          15.469484329223633,
          12.691595077514648,
          14.15611457824707,
          14.225726127624512,
          11.329363822937012,
          13.190101623535156
         ],
         "xaxis": "x",
         "y": [
          6.048727989196777,
          8.74539852142334,
          8.215693473815918,
          5.175948143005371,
          7.969767093658447,
          9.4710111618042,
          8.512798309326172,
          9.453310012817383,
          5.786166667938232,
          8.444161415100098,
          9.291630744934082,
          8.6619291305542,
          7.026030540466309,
          9.331563949584961,
          9.062233924865723,
          6.964709281921387,
          4.962186336517334,
          4.563886642456055,
          8.893269538879395,
          5.0317511558532715,
          8.713835716247559,
          5.731272220611572,
          7.027991771697998,
          7.5672197341918945,
          9.740039825439453,
          8.479283332824707,
          7.125608444213867,
          4.979206085205078,
          7.470879554748535,
          8.770092964172363,
          4.179712295532227,
          8.855499267578125,
          7.48671817779541,
          7.2649993896484375,
          5.113304138183594,
          7.376842975616455,
          10.150043487548828,
          8.318756103515625,
          8.198199272155762,
          9.955170631408691,
          9.477651596069336,
          8.807991027832031,
          8.857073783874512,
          8.792802810668945,
          8.48193359375,
          8.903794288635254,
          6.089169979095459,
          6.703057289123535,
          8.651752471923828,
          7.043990135192871,
          10.213427543640137,
          4.805196762084961,
          5.497342586517334,
          7.876187324523926,
          7.316641330718994,
          8.132169723510742,
          9.93729019165039,
          5.9482526779174805,
          4.965720176696777,
          5.363574981689453,
          8.592726707458496,
          10.210494041442871,
          9.5857572555542,
          7.645101547241211,
          7.26223087310791,
          8.867353439331055,
          4.071547031402588,
          9.966107368469238,
          7.020464897155762,
          7.24501895904541,
          5.910313129425049,
          8.233399391174316,
          8.235519409179688,
          8.388588905334473,
          8.706489562988281,
          4.968304634094238,
          6.14208459854126,
          7.851805210113525,
          7.821839332580566,
          8.16075325012207,
          8.829063415527344,
          9.94940185546875,
          9.660968780517578,
          8.838623046875,
          6.940732479095459,
          4.704087734222412,
          7.469213485717773,
          10.027432441711426,
          8.011323928833008,
          7.1952362060546875,
          8.227495193481445,
          9.124470710754395,
          6.865468502044678,
          5.401012420654297,
          9.494455337524414,
          5.425692558288574,
          7.950414180755615,
          9.39195442199707,
          7.355026721954346,
          5.654543876647949,
          10.210870742797852,
          5.4629645347595215,
          8.040741920471191,
          5.020407676696777,
          8.141189575195312,
          8.524081230163574,
          6.773324966430664,
          8.6455659866333,
          9.578832626342773,
          3.8440101146698,
          6.28405237197876,
          7.665929794311523,
          8.608198165893555,
          9.318602561950684,
          9.745821952819824,
          3.6903698444366455,
          7.568390369415283,
          9.630777359008789,
          7.191610336303711,
          5.594480037689209,
          4.906214237213135,
          6.079301834106445,
          5.223312854766846,
          5.921755790710449,
          5.7128682136535645,
          10.010566711425781,
          6.558619499206543,
          7.534575462341309,
          3.7085273265838623,
          8.252408981323242,
          3.724700689315796,
          7.541365146636963,
          7.579453945159912,
          7.1791253089904785,
          8.922961235046387,
          4.570608139038086,
          7.189387798309326,
          7.231235504150391,
          8.221375465393066,
          6.1753830909729,
          4.555771827697754,
          8.494731903076172,
          7.428168296813965,
          8.765295028686523,
          6.786542892456055,
          7.6886820793151855,
          6.427342891693115,
          5.931555271148682,
          7.7492241859436035,
          5.579235076904297,
          7.9153642654418945,
          8.563150405883789,
          9.377666473388672,
          10.226533889770508,
          8.687292098999023,
          8.481169700622559,
          9.899130821228027,
          8.42495059967041,
          8.539026260375977,
          7.937459468841553,
          7.972672462463379,
          7.515800952911377,
          6.126033306121826,
          6.556899070739746,
          8.044759750366211,
          5.588718414306641,
          7.497900485992432,
          5.2998046875,
          4.906289577484131,
          4.68058443069458,
          6.154637813568115,
          4.819155216217041,
          7.711549758911133,
          5.724767208099365,
          4.073122501373291,
          7.917074680328369,
          3.625375986099243,
          4.6914873123168945,
          8.776981353759766,
          6.393891334533691,
          7.9255571365356445,
          9.417047500610352,
          6.597962379455566,
          8.710010528564453,
          5.551950931549072,
          4.8582353591918945,
          5.744076251983643,
          8.890753746032715,
          7.8715739250183105,
          8.070428848266602,
          6.3451104164123535,
          8.267292022705078,
          8.738503456115723,
          3.7400853633880615,
          6.971977710723877,
          5.821311950683594,
          3.84597110748291,
          5.887095928192139,
          5.115808963775635,
          9.867192268371582,
          4.766646385192871,
          5.525503635406494,
          5.062765598297119,
          5.165729522705078,
          6.856998443603516,
          6.905933856964111,
          7.998822212219238,
          5.6390228271484375,
          7.517321586608887,
          9.59423542022705,
          6.857922077178955,
          6.918882846832275,
          5.632197856903076,
          5.978672027587891,
          8.171051025390625,
          4.705272674560547,
          8.245050430297852,
          4.426640033721924,
          5.514216423034668,
          7.5877532958984375,
          6.9440388679504395,
          6.755229949951172,
          7.347598075866699,
          8.227055549621582,
          4.030880928039551,
          5.823032855987549,
          5.430881500244141,
          8.285794258117676,
          5.2119598388671875,
          6.536705493927002,
          9.764892578125,
          4.652631759643555,
          8.187278747558594,
          4.996676921844482,
          5.316925048828125,
          4.592457294464111,
          8.956459999084473,
          8.523422241210938,
          8.55076789855957,
          6.821523189544678,
          8.58837890625,
          6.36240816116333,
          6.2583184242248535,
          7.175588130950928,
          8.634317398071289,
          8.074840545654297,
          8.143596649169922,
          4.763485908508301,
          8.806824684143066,
          7.977222442626953,
          8.319938659667969,
          4.725390434265137,
          7.659136772155762,
          8.63277816772461,
          4.604518890380859,
          7.582988739013672
         ],
         "yaxis": "y"
        }
       ],
       "layout": {
        "legend": {
         "tracegroupgap": 0
        },
        "margin": {
         "t": 60
        },
        "template": {
         "data": {
          "bar": [
           {
            "error_x": {
             "color": "#2a3f5f"
            },
            "error_y": {
             "color": "#2a3f5f"
            },
            "marker": {
             "line": {
              "color": "#E5ECF6",
              "width": 0.5
             }
            },
            "type": "bar"
           }
          ],
          "barpolar": [
           {
            "marker": {
             "line": {
              "color": "#E5ECF6",
              "width": 0.5
             }
            },
            "type": "barpolar"
           }
          ],
          "carpet": [
           {
            "aaxis": {
             "endlinecolor": "#2a3f5f",
             "gridcolor": "white",
             "linecolor": "white",
             "minorgridcolor": "white",
             "startlinecolor": "#2a3f5f"
            },
            "baxis": {
             "endlinecolor": "#2a3f5f",
             "gridcolor": "white",
             "linecolor": "white",
             "minorgridcolor": "white",
             "startlinecolor": "#2a3f5f"
            },
            "type": "carpet"
           }
          ],
          "choropleth": [
           {
            "colorbar": {
             "outlinewidth": 0,
             "ticks": ""
            },
            "type": "choropleth"
           }
          ],
          "contour": [
           {
            "colorbar": {
             "outlinewidth": 0,
             "ticks": ""
            },
            "colorscale": [
             [
              0,
              "#0d0887"
             ],
             [
              0.1111111111111111,
              "#46039f"
             ],
             [
              0.2222222222222222,
              "#7201a8"
             ],
             [
              0.3333333333333333,
              "#9c179e"
             ],
             [
              0.4444444444444444,
              "#bd3786"
             ],
             [
              0.5555555555555556,
              "#d8576b"
             ],
             [
              0.6666666666666666,
              "#ed7953"
             ],
             [
              0.7777777777777778,
              "#fb9f3a"
             ],
             [
              0.8888888888888888,
              "#fdca26"
             ],
             [
              1,
              "#f0f921"
             ]
            ],
            "type": "contour"
           }
          ],
          "contourcarpet": [
           {
            "colorbar": {
             "outlinewidth": 0,
             "ticks": ""
            },
            "type": "contourcarpet"
           }
          ],
          "heatmap": [
           {
            "colorbar": {
             "outlinewidth": 0,
             "ticks": ""
            },
            "colorscale": [
             [
              0,
              "#0d0887"
             ],
             [
              0.1111111111111111,
              "#46039f"
             ],
             [
              0.2222222222222222,
              "#7201a8"
             ],
             [
              0.3333333333333333,
              "#9c179e"
             ],
             [
              0.4444444444444444,
              "#bd3786"
             ],
             [
              0.5555555555555556,
              "#d8576b"
             ],
             [
              0.6666666666666666,
              "#ed7953"
             ],
             [
              0.7777777777777778,
              "#fb9f3a"
             ],
             [
              0.8888888888888888,
              "#fdca26"
             ],
             [
              1,
              "#f0f921"
             ]
            ],
            "type": "heatmap"
           }
          ],
          "heatmapgl": [
           {
            "colorbar": {
             "outlinewidth": 0,
             "ticks": ""
            },
            "colorscale": [
             [
              0,
              "#0d0887"
             ],
             [
              0.1111111111111111,
              "#46039f"
             ],
             [
              0.2222222222222222,
              "#7201a8"
             ],
             [
              0.3333333333333333,
              "#9c179e"
             ],
             [
              0.4444444444444444,
              "#bd3786"
             ],
             [
              0.5555555555555556,
              "#d8576b"
             ],
             [
              0.6666666666666666,
              "#ed7953"
             ],
             [
              0.7777777777777778,
              "#fb9f3a"
             ],
             [
              0.8888888888888888,
              "#fdca26"
             ],
             [
              1,
              "#f0f921"
             ]
            ],
            "type": "heatmapgl"
           }
          ],
          "histogram": [
           {
            "marker": {
             "colorbar": {
              "outlinewidth": 0,
              "ticks": ""
             }
            },
            "type": "histogram"
           }
          ],
          "histogram2d": [
           {
            "colorbar": {
             "outlinewidth": 0,
             "ticks": ""
            },
            "colorscale": [
             [
              0,
              "#0d0887"
             ],
             [
              0.1111111111111111,
              "#46039f"
             ],
             [
              0.2222222222222222,
              "#7201a8"
             ],
             [
              0.3333333333333333,
              "#9c179e"
             ],
             [
              0.4444444444444444,
              "#bd3786"
             ],
             [
              0.5555555555555556,
              "#d8576b"
             ],
             [
              0.6666666666666666,
              "#ed7953"
             ],
             [
              0.7777777777777778,
              "#fb9f3a"
             ],
             [
              0.8888888888888888,
              "#fdca26"
             ],
             [
              1,
              "#f0f921"
             ]
            ],
            "type": "histogram2d"
           }
          ],
          "histogram2dcontour": [
           {
            "colorbar": {
             "outlinewidth": 0,
             "ticks": ""
            },
            "colorscale": [
             [
              0,
              "#0d0887"
             ],
             [
              0.1111111111111111,
              "#46039f"
             ],
             [
              0.2222222222222222,
              "#7201a8"
             ],
             [
              0.3333333333333333,
              "#9c179e"
             ],
             [
              0.4444444444444444,
              "#bd3786"
             ],
             [
              0.5555555555555556,
              "#d8576b"
             ],
             [
              0.6666666666666666,
              "#ed7953"
             ],
             [
              0.7777777777777778,
              "#fb9f3a"
             ],
             [
              0.8888888888888888,
              "#fdca26"
             ],
             [
              1,
              "#f0f921"
             ]
            ],
            "type": "histogram2dcontour"
           }
          ],
          "mesh3d": [
           {
            "colorbar": {
             "outlinewidth": 0,
             "ticks": ""
            },
            "type": "mesh3d"
           }
          ],
          "parcoords": [
           {
            "line": {
             "colorbar": {
              "outlinewidth": 0,
              "ticks": ""
             }
            },
            "type": "parcoords"
           }
          ],
          "pie": [
           {
            "automargin": true,
            "type": "pie"
           }
          ],
          "scatter": [
           {
            "marker": {
             "colorbar": {
              "outlinewidth": 0,
              "ticks": ""
             }
            },
            "type": "scatter"
           }
          ],
          "scatter3d": [
           {
            "line": {
             "colorbar": {
              "outlinewidth": 0,
              "ticks": ""
             }
            },
            "marker": {
             "colorbar": {
              "outlinewidth": 0,
              "ticks": ""
             }
            },
            "type": "scatter3d"
           }
          ],
          "scattercarpet": [
           {
            "marker": {
             "colorbar": {
              "outlinewidth": 0,
              "ticks": ""
             }
            },
            "type": "scattercarpet"
           }
          ],
          "scattergeo": [
           {
            "marker": {
             "colorbar": {
              "outlinewidth": 0,
              "ticks": ""
             }
            },
            "type": "scattergeo"
           }
          ],
          "scattergl": [
           {
            "marker": {
             "colorbar": {
              "outlinewidth": 0,
              "ticks": ""
             }
            },
            "type": "scattergl"
           }
          ],
          "scattermapbox": [
           {
            "marker": {
             "colorbar": {
              "outlinewidth": 0,
              "ticks": ""
             }
            },
            "type": "scattermapbox"
           }
          ],
          "scatterpolar": [
           {
            "marker": {
             "colorbar": {
              "outlinewidth": 0,
              "ticks": ""
             }
            },
            "type": "scatterpolar"
           }
          ],
          "scatterpolargl": [
           {
            "marker": {
             "colorbar": {
              "outlinewidth": 0,
              "ticks": ""
             }
            },
            "type": "scatterpolargl"
           }
          ],
          "scatterternary": [
           {
            "marker": {
             "colorbar": {
              "outlinewidth": 0,
              "ticks": ""
             }
            },
            "type": "scatterternary"
           }
          ],
          "surface": [
           {
            "colorbar": {
             "outlinewidth": 0,
             "ticks": ""
            },
            "colorscale": [
             [
              0,
              "#0d0887"
             ],
             [
              0.1111111111111111,
              "#46039f"
             ],
             [
              0.2222222222222222,
              "#7201a8"
             ],
             [
              0.3333333333333333,
              "#9c179e"
             ],
             [
              0.4444444444444444,
              "#bd3786"
             ],
             [
              0.5555555555555556,
              "#d8576b"
             ],
             [
              0.6666666666666666,
              "#ed7953"
             ],
             [
              0.7777777777777778,
              "#fb9f3a"
             ],
             [
              0.8888888888888888,
              "#fdca26"
             ],
             [
              1,
              "#f0f921"
             ]
            ],
            "type": "surface"
           }
          ],
          "table": [
           {
            "cells": {
             "fill": {
              "color": "#EBF0F8"
             },
             "line": {
              "color": "white"
             }
            },
            "header": {
             "fill": {
              "color": "#C8D4E3"
             },
             "line": {
              "color": "white"
             }
            },
            "type": "table"
           }
          ]
         },
         "layout": {
          "annotationdefaults": {
           "arrowcolor": "#2a3f5f",
           "arrowhead": 0,
           "arrowwidth": 1
          },
          "autotypenumbers": "strict",
          "coloraxis": {
           "colorbar": {
            "outlinewidth": 0,
            "ticks": ""
           }
          },
          "colorscale": {
           "diverging": [
            [
             0,
             "#8e0152"
            ],
            [
             0.1,
             "#c51b7d"
            ],
            [
             0.2,
             "#de77ae"
            ],
            [
             0.3,
             "#f1b6da"
            ],
            [
             0.4,
             "#fde0ef"
            ],
            [
             0.5,
             "#f7f7f7"
            ],
            [
             0.6,
             "#e6f5d0"
            ],
            [
             0.7,
             "#b8e186"
            ],
            [
             0.8,
             "#7fbc41"
            ],
            [
             0.9,
             "#4d9221"
            ],
            [
             1,
             "#276419"
            ]
           ],
           "sequential": [
            [
             0,
             "#0d0887"
            ],
            [
             0.1111111111111111,
             "#46039f"
            ],
            [
             0.2222222222222222,
             "#7201a8"
            ],
            [
             0.3333333333333333,
             "#9c179e"
            ],
            [
             0.4444444444444444,
             "#bd3786"
            ],
            [
             0.5555555555555556,
             "#d8576b"
            ],
            [
             0.6666666666666666,
             "#ed7953"
            ],
            [
             0.7777777777777778,
             "#fb9f3a"
            ],
            [
             0.8888888888888888,
             "#fdca26"
            ],
            [
             1,
             "#f0f921"
            ]
           ],
           "sequentialminus": [
            [
             0,
             "#0d0887"
            ],
            [
             0.1111111111111111,
             "#46039f"
            ],
            [
             0.2222222222222222,
             "#7201a8"
            ],
            [
             0.3333333333333333,
             "#9c179e"
            ],
            [
             0.4444444444444444,
             "#bd3786"
            ],
            [
             0.5555555555555556,
             "#d8576b"
            ],
            [
             0.6666666666666666,
             "#ed7953"
            ],
            [
             0.7777777777777778,
             "#fb9f3a"
            ],
            [
             0.8888888888888888,
             "#fdca26"
            ],
            [
             1,
             "#f0f921"
            ]
           ]
          },
          "colorway": [
           "#636efa",
           "#EF553B",
           "#00cc96",
           "#ab63fa",
           "#FFA15A",
           "#19d3f3",
           "#FF6692",
           "#B6E880",
           "#FF97FF",
           "#FECB52"
          ],
          "font": {
           "color": "#2a3f5f"
          },
          "geo": {
           "bgcolor": "white",
           "lakecolor": "white",
           "landcolor": "#E5ECF6",
           "showlakes": true,
           "showland": true,
           "subunitcolor": "white"
          },
          "hoverlabel": {
           "align": "left"
          },
          "hovermode": "closest",
          "mapbox": {
           "style": "light"
          },
          "paper_bgcolor": "white",
          "plot_bgcolor": "#E5ECF6",
          "polar": {
           "angularaxis": {
            "gridcolor": "white",
            "linecolor": "white",
            "ticks": ""
           },
           "bgcolor": "#E5ECF6",
           "radialaxis": {
            "gridcolor": "white",
            "linecolor": "white",
            "ticks": ""
           }
          },
          "scene": {
           "xaxis": {
            "backgroundcolor": "#E5ECF6",
            "gridcolor": "white",
            "gridwidth": 2,
            "linecolor": "white",
            "showbackground": true,
            "ticks": "",
            "zerolinecolor": "white"
           },
           "yaxis": {
            "backgroundcolor": "#E5ECF6",
            "gridcolor": "white",
            "gridwidth": 2,
            "linecolor": "white",
            "showbackground": true,
            "ticks": "",
            "zerolinecolor": "white"
           },
           "zaxis": {
            "backgroundcolor": "#E5ECF6",
            "gridcolor": "white",
            "gridwidth": 2,
            "linecolor": "white",
            "showbackground": true,
            "ticks": "",
            "zerolinecolor": "white"
           }
          },
          "shapedefaults": {
           "line": {
            "color": "#2a3f5f"
           }
          },
          "ternary": {
           "aaxis": {
            "gridcolor": "white",
            "linecolor": "white",
            "ticks": ""
           },
           "baxis": {
            "gridcolor": "white",
            "linecolor": "white",
            "ticks": ""
           },
           "bgcolor": "#E5ECF6",
           "caxis": {
            "gridcolor": "white",
            "linecolor": "white",
            "ticks": ""
           }
          },
          "title": {
           "x": 0.05
          },
          "xaxis": {
           "automargin": true,
           "gridcolor": "white",
           "linecolor": "white",
           "ticks": "",
           "title": {
            "standoff": 15
           },
           "zerolinecolor": "white",
           "zerolinewidth": 2
          },
          "yaxis": {
           "automargin": true,
           "gridcolor": "white",
           "linecolor": "white",
           "ticks": "",
           "title": {
            "standoff": 15
           },
           "zerolinecolor": "white",
           "zerolinewidth": 2
          }
         }
        },
        "xaxis": {
         "anchor": "y",
         "domain": [
          0,
          1
         ],
         "title": {
          "text": "0"
         }
        },
        "yaxis": {
         "anchor": "x",
         "domain": [
          0,
          1
         ],
         "title": {
          "text": "1"
         }
        }
       }
      },
      "text/html": [
       "<div>                            <div id=\"e35ea744-a5c5-40f2-a060-aeca3725821a\" class=\"plotly-graph-div\" style=\"height:525px; width:100%;\"></div>            <script type=\"text/javascript\">                require([\"plotly\"], function(Plotly) {                    window.PLOTLYENV=window.PLOTLYENV || {};                                    if (document.getElementById(\"e35ea744-a5c5-40f2-a060-aeca3725821a\")) {                    Plotly.newPlot(                        \"e35ea744-a5c5-40f2-a060-aeca3725821a\",                        [{\"hovertemplate\": \"0=%{x}<br>1=%{y}<extra></extra>\", \"legendgroup\": \"\", \"marker\": {\"color\": \"#636efa\", \"symbol\": \"circle\"}, \"mode\": \"markers\", \"name\": \"\", \"orientation\": \"v\", \"showlegend\": false, \"type\": \"scatter\", \"x\": [11.064628601074219, 14.952754974365234, 15.538955688476562, 14.196212768554688, 14.452683448791504, 13.903057098388672, 11.512266159057617, 12.551507949829102, 13.57009220123291, 13.111963272094727, 12.444101333618164, 15.23042106628418, 13.76858901977539, 12.690057754516602, 13.290451049804688, 12.36035442352295, 13.408220291137695, 11.455491065979004, 15.191099166870117, 13.448417663574219, 11.94290542602539, 11.138283729553223, 12.828108787536621, 13.49007797241211, 13.62833023071289, 13.965483665466309, 13.22046947479248, 11.609015464782715, 15.096576690673828, 13.704325675964355, 11.61268138885498, 14.535017967224121, 14.11962604522705, 14.919173240661621, 12.12773323059082, 14.96857738494873, 14.02756118774414, 15.025344848632812, 14.487530708312988, 14.273500442504883, 13.390782356262207, 13.033763885498047, 14.511197090148926, 11.801643371582031, 15.324580192565918, 14.000274658203125, 12.42278003692627, 14.770651817321777, 14.0415620803833, 13.857580184936523, 14.1377592086792, 13.560181617736816, 14.937288284301758, 13.177618980407715, 12.844488143920898, 12.651884078979492, 13.670350074768066, 15.023978233337402, 14.552841186523438, 11.381518363952637, 12.301779747009277, 14.163834571838379, 13.013702392578125, 11.856588363647461, 11.487839698791504, 15.424416542053223, 11.844765663146973, 13.97397518157959, 14.617960929870605, 14.797772407531738, 13.023171424865723, 12.208595275878906, 11.854625701904297, 14.659003257751465, 12.5156831741333, 12.22020149230957, 11.080581665039062, 12.890643119812012, 12.139906883239746, 13.578482627868652, 14.568532943725586, 13.843989372253418, 13.242971420288086, 14.231818199157715, 13.885284423828125, 12.025976181030273, 11.909523963928223, 13.872965812683105, 11.157941818237305, 12.603589057922363, 11.250932693481445, 14.359756469726562, 12.237981796264648, 11.52500057220459, 13.27596664428711, 13.956398010253906, 13.302159309387207, 13.497621536254883, 11.251542091369629, 14.601110458374023, 14.068809509277344, 13.86591911315918, 11.122660636901855, 14.062505722045898, 11.96470832824707, 15.75677490234375, 13.382683753967285, 15.639631271362305, 14.286825180053711, 11.528891563415527, 14.907166481018066, 13.56200122833252, 15.687074661254883, 14.581441879272461, 13.29862117767334, 11.614821434020996, 11.412812232971191, 12.789624214172363, 12.984046936035156, 13.730216026306152, 11.22207260131836, 12.811217308044434, 14.774711608886719, 13.64141845703125, 11.137758255004883, 14.046377182006836, 14.961986541748047, 11.752991676330566, 11.822489738464355, 11.333374977111816, 11.639673233032227, 11.586841583251953, 13.005744934082031, 12.908041000366211, 14.199254035949707, 12.91580867767334, 14.700668334960938, 11.413614273071289, 13.330034255981445, 11.134801864624023, 12.662871360778809, 13.48440933227539, 14.158811569213867, 12.282904624938965, 13.617768287658691, 13.565558433532715, 12.674386024475098, 12.411255836486816, 11.216789245605469, 14.443410873413086, 14.010915756225586, 14.831626892089844, 14.001591682434082, 13.665392875671387, 13.644472122192383, 15.812356948852539, 13.629317283630371, 14.507822036743164, 14.271212577819824, 12.196117401123047, 12.717486381530762, 12.55315113067627, 14.9730806350708, 12.226567268371582, 13.537164688110352, 14.693464279174805, 14.479260444641113, 14.469597816467285, 13.43122386932373, 13.303881645202637, 13.182038307189941, 14.06800651550293, 14.660948753356934, 11.480525970458984, 11.948868751525879, 12.59581470489502, 11.748737335205078, 13.91206169128418, 13.206433296203613, 13.405472755432129, 11.289498329162598, 14.042864799499512, 15.07321548461914, 12.990403175354004, 11.238951683044434, 14.239217758178711, 11.280915260314941, 12.829398155212402, 15.23473834991455, 13.806987762451172, 11.37175178527832, 13.040858268737793, 15.429678916931152, 11.641745567321777, 14.842703819274902, 12.203712463378906, 11.756689071655273, 11.03602123260498, 14.71842098236084, 13.422372817993164, 14.063826560974121, 14.787567138671875, 11.961270332336426, 12.65418529510498, 12.485931396484375, 14.068729400634766, 13.836194038391113, 14.56139087677002, 11.213568687438965, 14.393410682678223, 12.650216102600098, 14.262306213378906, 14.758278846740723, 11.019451141357422, 15.096908569335938, 13.477599143981934, 13.937882423400879, 12.2664213180542, 13.20042610168457, 12.904200553894043, 12.979448318481445, 13.089064598083496, 11.233039855957031, 14.640713691711426, 11.925522804260254, 11.1134614944458, 14.867218017578125, 12.445789337158203, 13.028608322143555, 12.501749038696289, 14.083670616149902, 12.10961627960205, 15.51864242553711, 13.960622787475586, 13.88692855834961, 11.97286605834961, 13.049318313598633, 13.76009464263916, 14.963042259216309, 13.400192260742188, 12.968259811401367, 13.714787483215332, 11.220815658569336, 12.425432205200195, 15.798848152160645, 12.565696716308594, 15.373230934143066, 11.844511032104492, 12.931818008422852, 12.4735689163208, 15.469484329223633, 12.691595077514648, 14.15611457824707, 14.225726127624512, 11.329363822937012, 13.190101623535156], \"xaxis\": \"x\", \"y\": [6.048727989196777, 8.74539852142334, 8.215693473815918, 5.175948143005371, 7.969767093658447, 9.4710111618042, 8.512798309326172, 9.453310012817383, 5.786166667938232, 8.444161415100098, 9.291630744934082, 8.6619291305542, 7.026030540466309, 9.331563949584961, 9.062233924865723, 6.964709281921387, 4.962186336517334, 4.563886642456055, 8.893269538879395, 5.0317511558532715, 8.713835716247559, 5.731272220611572, 7.027991771697998, 7.5672197341918945, 9.740039825439453, 8.479283332824707, 7.125608444213867, 4.979206085205078, 7.470879554748535, 8.770092964172363, 4.179712295532227, 8.855499267578125, 7.48671817779541, 7.2649993896484375, 5.113304138183594, 7.376842975616455, 10.150043487548828, 8.318756103515625, 8.198199272155762, 9.955170631408691, 9.477651596069336, 8.807991027832031, 8.857073783874512, 8.792802810668945, 8.48193359375, 8.903794288635254, 6.089169979095459, 6.703057289123535, 8.651752471923828, 7.043990135192871, 10.213427543640137, 4.805196762084961, 5.497342586517334, 7.876187324523926, 7.316641330718994, 8.132169723510742, 9.93729019165039, 5.9482526779174805, 4.965720176696777, 5.363574981689453, 8.592726707458496, 10.210494041442871, 9.5857572555542, 7.645101547241211, 7.26223087310791, 8.867353439331055, 4.071547031402588, 9.966107368469238, 7.020464897155762, 7.24501895904541, 5.910313129425049, 8.233399391174316, 8.235519409179688, 8.388588905334473, 8.706489562988281, 4.968304634094238, 6.14208459854126, 7.851805210113525, 7.821839332580566, 8.16075325012207, 8.829063415527344, 9.94940185546875, 9.660968780517578, 8.838623046875, 6.940732479095459, 4.704087734222412, 7.469213485717773, 10.027432441711426, 8.011323928833008, 7.1952362060546875, 8.227495193481445, 9.124470710754395, 6.865468502044678, 5.401012420654297, 9.494455337524414, 5.425692558288574, 7.950414180755615, 9.39195442199707, 7.355026721954346, 5.654543876647949, 10.210870742797852, 5.4629645347595215, 8.040741920471191, 5.020407676696777, 8.141189575195312, 8.524081230163574, 6.773324966430664, 8.6455659866333, 9.578832626342773, 3.8440101146698, 6.28405237197876, 7.665929794311523, 8.608198165893555, 9.318602561950684, 9.745821952819824, 3.6903698444366455, 7.568390369415283, 9.630777359008789, 7.191610336303711, 5.594480037689209, 4.906214237213135, 6.079301834106445, 5.223312854766846, 5.921755790710449, 5.7128682136535645, 10.010566711425781, 6.558619499206543, 7.534575462341309, 3.7085273265838623, 8.252408981323242, 3.724700689315796, 7.541365146636963, 7.579453945159912, 7.1791253089904785, 8.922961235046387, 4.570608139038086, 7.189387798309326, 7.231235504150391, 8.221375465393066, 6.1753830909729, 4.555771827697754, 8.494731903076172, 7.428168296813965, 8.765295028686523, 6.786542892456055, 7.6886820793151855, 6.427342891693115, 5.931555271148682, 7.7492241859436035, 5.579235076904297, 7.9153642654418945, 8.563150405883789, 9.377666473388672, 10.226533889770508, 8.687292098999023, 8.481169700622559, 9.899130821228027, 8.42495059967041, 8.539026260375977, 7.937459468841553, 7.972672462463379, 7.515800952911377, 6.126033306121826, 6.556899070739746, 8.044759750366211, 5.588718414306641, 7.497900485992432, 5.2998046875, 4.906289577484131, 4.68058443069458, 6.154637813568115, 4.819155216217041, 7.711549758911133, 5.724767208099365, 4.073122501373291, 7.917074680328369, 3.625375986099243, 4.6914873123168945, 8.776981353759766, 6.393891334533691, 7.9255571365356445, 9.417047500610352, 6.597962379455566, 8.710010528564453, 5.551950931549072, 4.8582353591918945, 5.744076251983643, 8.890753746032715, 7.8715739250183105, 8.070428848266602, 6.3451104164123535, 8.267292022705078, 8.738503456115723, 3.7400853633880615, 6.971977710723877, 5.821311950683594, 3.84597110748291, 5.887095928192139, 5.115808963775635, 9.867192268371582, 4.766646385192871, 5.525503635406494, 5.062765598297119, 5.165729522705078, 6.856998443603516, 6.905933856964111, 7.998822212219238, 5.6390228271484375, 7.517321586608887, 9.59423542022705, 6.857922077178955, 6.918882846832275, 5.632197856903076, 5.978672027587891, 8.171051025390625, 4.705272674560547, 8.245050430297852, 4.426640033721924, 5.514216423034668, 7.5877532958984375, 6.9440388679504395, 6.755229949951172, 7.347598075866699, 8.227055549621582, 4.030880928039551, 5.823032855987549, 5.430881500244141, 8.285794258117676, 5.2119598388671875, 6.536705493927002, 9.764892578125, 4.652631759643555, 8.187278747558594, 4.996676921844482, 5.316925048828125, 4.592457294464111, 8.956459999084473, 8.523422241210938, 8.55076789855957, 6.821523189544678, 8.58837890625, 6.36240816116333, 6.2583184242248535, 7.175588130950928, 8.634317398071289, 8.074840545654297, 8.143596649169922, 4.763485908508301, 8.806824684143066, 7.977222442626953, 8.319938659667969, 4.725390434265137, 7.659136772155762, 8.63277816772461, 4.604518890380859, 7.582988739013672], \"yaxis\": \"y\"}],                        {\"legend\": {\"tracegroupgap\": 0}, \"margin\": {\"t\": 60}, \"template\": {\"data\": {\"bar\": [{\"error_x\": {\"color\": \"#2a3f5f\"}, \"error_y\": {\"color\": \"#2a3f5f\"}, \"marker\": {\"line\": {\"color\": \"#E5ECF6\", \"width\": 0.5}}, \"type\": \"bar\"}], \"barpolar\": [{\"marker\": {\"line\": {\"color\": \"#E5ECF6\", \"width\": 0.5}}, \"type\": \"barpolar\"}], \"carpet\": [{\"aaxis\": {\"endlinecolor\": \"#2a3f5f\", \"gridcolor\": \"white\", \"linecolor\": \"white\", \"minorgridcolor\": \"white\", \"startlinecolor\": \"#2a3f5f\"}, \"baxis\": {\"endlinecolor\": \"#2a3f5f\", \"gridcolor\": \"white\", \"linecolor\": \"white\", \"minorgridcolor\": \"white\", \"startlinecolor\": \"#2a3f5f\"}, \"type\": \"carpet\"}], \"choropleth\": [{\"colorbar\": {\"outlinewidth\": 0, \"ticks\": \"\"}, \"type\": \"choropleth\"}], \"contour\": [{\"colorbar\": {\"outlinewidth\": 0, \"ticks\": \"\"}, \"colorscale\": [[0.0, \"#0d0887\"], [0.1111111111111111, \"#46039f\"], [0.2222222222222222, \"#7201a8\"], [0.3333333333333333, \"#9c179e\"], [0.4444444444444444, \"#bd3786\"], [0.5555555555555556, \"#d8576b\"], [0.6666666666666666, \"#ed7953\"], [0.7777777777777778, \"#fb9f3a\"], [0.8888888888888888, \"#fdca26\"], [1.0, \"#f0f921\"]], \"type\": \"contour\"}], \"contourcarpet\": [{\"colorbar\": {\"outlinewidth\": 0, \"ticks\": \"\"}, \"type\": \"contourcarpet\"}], \"heatmap\": [{\"colorbar\": {\"outlinewidth\": 0, \"ticks\": \"\"}, \"colorscale\": [[0.0, \"#0d0887\"], [0.1111111111111111, \"#46039f\"], [0.2222222222222222, \"#7201a8\"], [0.3333333333333333, \"#9c179e\"], [0.4444444444444444, \"#bd3786\"], [0.5555555555555556, \"#d8576b\"], [0.6666666666666666, \"#ed7953\"], [0.7777777777777778, \"#fb9f3a\"], [0.8888888888888888, \"#fdca26\"], [1.0, \"#f0f921\"]], \"type\": \"heatmap\"}], \"heatmapgl\": [{\"colorbar\": {\"outlinewidth\": 0, \"ticks\": \"\"}, \"colorscale\": [[0.0, \"#0d0887\"], [0.1111111111111111, \"#46039f\"], [0.2222222222222222, \"#7201a8\"], [0.3333333333333333, \"#9c179e\"], [0.4444444444444444, \"#bd3786\"], [0.5555555555555556, \"#d8576b\"], [0.6666666666666666, \"#ed7953\"], [0.7777777777777778, \"#fb9f3a\"], [0.8888888888888888, \"#fdca26\"], [1.0, \"#f0f921\"]], \"type\": \"heatmapgl\"}], \"histogram\": [{\"marker\": {\"colorbar\": {\"outlinewidth\": 0, \"ticks\": \"\"}}, \"type\": \"histogram\"}], \"histogram2d\": [{\"colorbar\": {\"outlinewidth\": 0, \"ticks\": \"\"}, \"colorscale\": [[0.0, \"#0d0887\"], [0.1111111111111111, \"#46039f\"], [0.2222222222222222, \"#7201a8\"], [0.3333333333333333, \"#9c179e\"], [0.4444444444444444, \"#bd3786\"], [0.5555555555555556, \"#d8576b\"], [0.6666666666666666, \"#ed7953\"], [0.7777777777777778, \"#fb9f3a\"], [0.8888888888888888, \"#fdca26\"], [1.0, \"#f0f921\"]], \"type\": \"histogram2d\"}], \"histogram2dcontour\": [{\"colorbar\": {\"outlinewidth\": 0, \"ticks\": \"\"}, \"colorscale\": [[0.0, \"#0d0887\"], [0.1111111111111111, \"#46039f\"], [0.2222222222222222, \"#7201a8\"], [0.3333333333333333, \"#9c179e\"], [0.4444444444444444, \"#bd3786\"], [0.5555555555555556, \"#d8576b\"], [0.6666666666666666, \"#ed7953\"], [0.7777777777777778, \"#fb9f3a\"], [0.8888888888888888, \"#fdca26\"], [1.0, \"#f0f921\"]], \"type\": \"histogram2dcontour\"}], \"mesh3d\": [{\"colorbar\": {\"outlinewidth\": 0, \"ticks\": \"\"}, \"type\": \"mesh3d\"}], \"parcoords\": [{\"line\": {\"colorbar\": {\"outlinewidth\": 0, \"ticks\": \"\"}}, \"type\": \"parcoords\"}], \"pie\": [{\"automargin\": true, \"type\": \"pie\"}], \"scatter\": [{\"marker\": {\"colorbar\": {\"outlinewidth\": 0, \"ticks\": \"\"}}, \"type\": \"scatter\"}], \"scatter3d\": [{\"line\": {\"colorbar\": {\"outlinewidth\": 0, \"ticks\": \"\"}}, \"marker\": {\"colorbar\": {\"outlinewidth\": 0, \"ticks\": \"\"}}, \"type\": \"scatter3d\"}], \"scattercarpet\": [{\"marker\": {\"colorbar\": {\"outlinewidth\": 0, \"ticks\": \"\"}}, \"type\": \"scattercarpet\"}], \"scattergeo\": [{\"marker\": {\"colorbar\": {\"outlinewidth\": 0, \"ticks\": \"\"}}, \"type\": \"scattergeo\"}], \"scattergl\": [{\"marker\": {\"colorbar\": {\"outlinewidth\": 0, \"ticks\": \"\"}}, \"type\": \"scattergl\"}], \"scattermapbox\": [{\"marker\": {\"colorbar\": {\"outlinewidth\": 0, \"ticks\": \"\"}}, \"type\": \"scattermapbox\"}], \"scatterpolar\": [{\"marker\": {\"colorbar\": {\"outlinewidth\": 0, \"ticks\": \"\"}}, \"type\": \"scatterpolar\"}], \"scatterpolargl\": [{\"marker\": {\"colorbar\": {\"outlinewidth\": 0, \"ticks\": \"\"}}, \"type\": \"scatterpolargl\"}], \"scatterternary\": [{\"marker\": {\"colorbar\": {\"outlinewidth\": 0, \"ticks\": \"\"}}, \"type\": \"scatterternary\"}], \"surface\": [{\"colorbar\": {\"outlinewidth\": 0, \"ticks\": \"\"}, \"colorscale\": [[0.0, \"#0d0887\"], [0.1111111111111111, \"#46039f\"], [0.2222222222222222, \"#7201a8\"], [0.3333333333333333, \"#9c179e\"], [0.4444444444444444, \"#bd3786\"], [0.5555555555555556, \"#d8576b\"], [0.6666666666666666, \"#ed7953\"], [0.7777777777777778, \"#fb9f3a\"], [0.8888888888888888, \"#fdca26\"], [1.0, \"#f0f921\"]], \"type\": \"surface\"}], \"table\": [{\"cells\": {\"fill\": {\"color\": \"#EBF0F8\"}, \"line\": {\"color\": \"white\"}}, \"header\": {\"fill\": {\"color\": \"#C8D4E3\"}, \"line\": {\"color\": \"white\"}}, \"type\": \"table\"}]}, \"layout\": {\"annotationdefaults\": {\"arrowcolor\": \"#2a3f5f\", \"arrowhead\": 0, \"arrowwidth\": 1}, \"autotypenumbers\": \"strict\", \"coloraxis\": {\"colorbar\": {\"outlinewidth\": 0, \"ticks\": \"\"}}, \"colorscale\": {\"diverging\": [[0, \"#8e0152\"], [0.1, \"#c51b7d\"], [0.2, \"#de77ae\"], [0.3, \"#f1b6da\"], [0.4, \"#fde0ef\"], [0.5, \"#f7f7f7\"], [0.6, \"#e6f5d0\"], [0.7, \"#b8e186\"], [0.8, \"#7fbc41\"], [0.9, \"#4d9221\"], [1, \"#276419\"]], \"sequential\": [[0.0, \"#0d0887\"], [0.1111111111111111, \"#46039f\"], [0.2222222222222222, \"#7201a8\"], [0.3333333333333333, \"#9c179e\"], [0.4444444444444444, \"#bd3786\"], [0.5555555555555556, \"#d8576b\"], [0.6666666666666666, \"#ed7953\"], [0.7777777777777778, \"#fb9f3a\"], [0.8888888888888888, \"#fdca26\"], [1.0, \"#f0f921\"]], \"sequentialminus\": [[0.0, \"#0d0887\"], [0.1111111111111111, \"#46039f\"], [0.2222222222222222, \"#7201a8\"], [0.3333333333333333, \"#9c179e\"], [0.4444444444444444, \"#bd3786\"], [0.5555555555555556, \"#d8576b\"], [0.6666666666666666, \"#ed7953\"], [0.7777777777777778, \"#fb9f3a\"], [0.8888888888888888, \"#fdca26\"], [1.0, \"#f0f921\"]]}, \"colorway\": [\"#636efa\", \"#EF553B\", \"#00cc96\", \"#ab63fa\", \"#FFA15A\", \"#19d3f3\", \"#FF6692\", \"#B6E880\", \"#FF97FF\", \"#FECB52\"], \"font\": {\"color\": \"#2a3f5f\"}, \"geo\": {\"bgcolor\": \"white\", \"lakecolor\": \"white\", \"landcolor\": \"#E5ECF6\", \"showlakes\": true, \"showland\": true, \"subunitcolor\": \"white\"}, \"hoverlabel\": {\"align\": \"left\"}, \"hovermode\": \"closest\", \"mapbox\": {\"style\": \"light\"}, \"paper_bgcolor\": \"white\", \"plot_bgcolor\": \"#E5ECF6\", \"polar\": {\"angularaxis\": {\"gridcolor\": \"white\", \"linecolor\": \"white\", \"ticks\": \"\"}, \"bgcolor\": \"#E5ECF6\", \"radialaxis\": {\"gridcolor\": \"white\", \"linecolor\": \"white\", \"ticks\": \"\"}}, \"scene\": {\"xaxis\": {\"backgroundcolor\": \"#E5ECF6\", \"gridcolor\": \"white\", \"gridwidth\": 2, \"linecolor\": \"white\", \"showbackground\": true, \"ticks\": \"\", \"zerolinecolor\": \"white\"}, \"yaxis\": {\"backgroundcolor\": \"#E5ECF6\", \"gridcolor\": \"white\", \"gridwidth\": 2, \"linecolor\": \"white\", \"showbackground\": true, \"ticks\": \"\", \"zerolinecolor\": \"white\"}, \"zaxis\": {\"backgroundcolor\": \"#E5ECF6\", \"gridcolor\": \"white\", \"gridwidth\": 2, \"linecolor\": \"white\", \"showbackground\": true, \"ticks\": \"\", \"zerolinecolor\": \"white\"}}, \"shapedefaults\": {\"line\": {\"color\": \"#2a3f5f\"}}, \"ternary\": {\"aaxis\": {\"gridcolor\": \"white\", \"linecolor\": \"white\", \"ticks\": \"\"}, \"baxis\": {\"gridcolor\": \"white\", \"linecolor\": \"white\", \"ticks\": \"\"}, \"bgcolor\": \"#E5ECF6\", \"caxis\": {\"gridcolor\": \"white\", \"linecolor\": \"white\", \"ticks\": \"\"}}, \"title\": {\"x\": 0.05}, \"xaxis\": {\"automargin\": true, \"gridcolor\": \"white\", \"linecolor\": \"white\", \"ticks\": \"\", \"title\": {\"standoff\": 15}, \"zerolinecolor\": \"white\", \"zerolinewidth\": 2}, \"yaxis\": {\"automargin\": true, \"gridcolor\": \"white\", \"linecolor\": \"white\", \"ticks\": \"\", \"title\": {\"standoff\": 15}, \"zerolinecolor\": \"white\", \"zerolinewidth\": 2}}}, \"xaxis\": {\"anchor\": \"y\", \"domain\": [0.0, 1.0], \"title\": {\"text\": \"0\"}}, \"yaxis\": {\"anchor\": \"x\", \"domain\": [0.0, 1.0], \"title\": {\"text\": \"1\"}}},                        {\"responsive\": true}                    ).then(function(){\n",
       "                            \n",
       "var gd = document.getElementById('e35ea744-a5c5-40f2-a060-aeca3725821a');\n",
       "var x = new MutationObserver(function (mutations, observer) {{\n",
       "        var display = window.getComputedStyle(gd).display;\n",
       "        if (!display || display === 'none') {{\n",
       "            console.log([gd, 'removed!']);\n",
       "            Plotly.purge(gd);\n",
       "            observer.disconnect();\n",
       "        }}\n",
       "}});\n",
       "\n",
       "// Listen for the removal of the full notebook cells\n",
       "var notebookContainer = gd.closest('#notebook-container');\n",
       "if (notebookContainer) {{\n",
       "    x.observe(notebookContainer, {childList: true});\n",
       "}}\n",
       "\n",
       "// Listen for the clearing of the current output cell\n",
       "var outputEl = gd.closest('.output');\n",
       "if (outputEl) {{\n",
       "    x.observe(outputEl, {childList: true});\n",
       "}}\n",
       "\n",
       "                        })                };                });            </script>        </div>"
      ]
     },
     "metadata": {},
     "output_type": "display_data"
    }
   ],
   "source": [
    "import plotly.express as px\n",
    "\n",
    "\n",
    "fig = px.scatter(\n",
    "    embedding, x=0, y=1,\n",
    ")\n",
    "fig.show()"
   ]
  },
  {
   "cell_type": "code",
   "execution_count": 38,
   "metadata": {},
   "outputs": [
    {
     "name": "stdout",
     "output_type": "stream",
     "text": [
      "(256, 1000)\n"
     ]
    },
    {
     "data": {
      "application/vnd.plotly.v1+json": {
       "config": {
        "plotlyServerURL": "https://plot.ly"
       },
       "data": [
        {
         "hovertemplate": "0=%{x}<br>1=%{y}<extra></extra>",
         "legendgroup": "",
         "marker": {
          "color": "#636efa",
          "symbol": "circle"
         },
         "mode": "markers",
         "name": "",
         "orientation": "v",
         "showlegend": false,
         "type": "scatter",
         "x": [
          7.502486228942871,
          12.061511993408203,
          11.777466773986816,
          8.810059547424316,
          8.25080680847168,
          8.938852310180664,
          9.719279289245605,
          9.310460090637207,
          8.144765853881836,
          11.45101261138916,
          10.020681381225586,
          12.04774284362793,
          11.45209789276123,
          8.84203815460205,
          10.134949684143066,
          8.54977035522461,
          8.471561431884766,
          6.4878249168396,
          11.749495506286621,
          8.5440673828125,
          9.660125732421875,
          7.345276832580566,
          10.00684642791748,
          9.180635452270508,
          8.565374374389648,
          9.07651424407959,
          8.917689323425293,
          7.174533367156982,
          11.896638870239258,
          11.63815689086914,
          6.203552722930908,
          10.949070930480957,
          8.360371589660645,
          11.787910461425781,
          7.580662250518799,
          11.82764720916748,
          8.836762428283691,
          12.116631507873535,
          9.553975105285645,
          9.721817016601562,
          9.741533279418945,
          9.066235542297363,
          11.01473331451416,
          9.838570594787598,
          11.945876121520996,
          10.926610946655273,
          8.116928100585938,
          9.669327735900879,
          10.675924301147461,
          11.36100959777832,
          8.702234268188477,
          8.29468822479248,
          9.661054611206055,
          9.824655532836914,
          10.110647201538086,
          9.134268760681152,
          9.024924278259277,
          10.343910217285156,
          9.276814460754395,
          6.732770919799805,
          10.254921913146973,
          9.051209449768066,
          8.847441673278809,
          10.906844139099121,
          10.843371391296387,
          11.869229316711426,
          6.078927040100098,
          8.507329940795898,
          10.81280517578125,
          11.64376163482666,
          8.17876148223877,
          10.056662559509277,
          10.354796409606934,
          11.775225639343262,
          10.618868827819824,
          7.494612216949463,
          7.560974597930908,
          10.46459674835205,
          10.598687171936035,
          9.739211082458496,
          11.17579460144043,
          8.820801734924316,
          9.793842315673828,
          9.393194198608398,
          10.465866088867188,
          6.928409099578857,
          10.476669311523438,
          9.418601989746094,
          10.121476173400879,
          8.40100383758545,
          10.023955345153809,
          10.235246658325195,
          8.969246864318848,
          6.792812347412109,
          10.054121017456055,
          8.721724510192871,
          10.267226219177246,
          10.172642707824707,
          10.68975830078125,
          9.565244674682617,
          8.989029884338379,
          8.456195831298828,
          10.153669357299805,
          8.799124717712402,
          10.535443305969238,
          12.249734878540039,
          9.66796875,
          11.663609504699707,
          10.676838874816895,
          5.789037227630615,
          10.09458065032959,
          10.497466087341309,
          12.114357948303223,
          10.73140811920166,
          8.649858474731445,
          5.707855701446533,
          10.67691707611084,
          8.959441184997559,
          9.480918884277344,
          8.322612762451172,
          6.584190845489502,
          8.050983428955078,
          9.344869613647461,
          8.56751823425293,
          6.9400787353515625,
          9.050437927246094,
          10.234489440917969,
          11.102063179016113,
          5.886929988861084,
          9.937902450561523,
          5.684321880340576,
          10.709404945373535,
          9.427351951599121,
          9.347582817077637,
          11.262950897216797,
          7.803487777709961,
          11.327825546264648,
          10.776517868041992,
          9.310844421386719,
          7.776096343994141,
          7.423138618469238,
          10.124420166015625,
          8.173591613769531,
          10.165266990661621,
          9.012715339660645,
          9.556337356567383,
          9.103352546691895,
          7.200803279876709,
          10.473026275634766,
          9.163143157958984,
          9.523406028747559,
          11.533897399902344,
          10.591485977172852,
          8.820054054260254,
          8.859899520874023,
          12.367605209350586,
          9.416606903076172,
          11.323699951171875,
          10.39247989654541,
          10.731486320495605,
          10.890674591064453,
          10.16434383392334,
          10.212105751037598,
          7.836172103881836,
          9.55074691772461,
          9.590704917907715,
          9.67115592956543,
          9.12508773803711,
          8.351235389709473,
          8.320405960083008,
          8.104080200195312,
          9.083208084106445,
          10.88137435913086,
          7.339550018310547,
          6.333228588104248,
          10.590593338012695,
          5.731795310974121,
          8.387045860290527,
          9.582490921020508,
          9.413278579711914,
          9.908162117004395,
          10.411643981933594,
          10.217534065246582,
          8.710273742675781,
          6.827856540679932,
          8.853777885437012,
          7.1979780197143555,
          8.970270156860352,
          11.890901565551758,
          9.479132652282715,
          7.518317222595215,
          8.917667388916016,
          12.020228385925293,
          5.816378116607666,
          11.334549903869629,
          7.6089911460876465,
          5.813736438751221,
          7.243780612945557,
          9.24865436553955,
          9.526663780212402,
          8.664023399353027,
          9.5833101272583,
          7.327602386474609,
          9.05001449584961,
          8.974562644958496,
          11.688989639282227,
          11.005411148071289,
          9.680212020874023,
          10.786827087402344,
          10.549241065979004,
          9.633296012878418,
          11.27900505065918,
          9.701902389526367,
          7.482615947723389,
          11.39548110961914,
          8.17821979522705,
          9.75521469116211,
          6.925594806671143,
          9.628483772277832,
          9.510138511657715,
          9.85692310333252,
          8.400153160095215,
          10.772444725036621,
          11.402656555175781,
          6.028006076812744,
          7.593516826629639,
          9.423419952392578,
          10.951995849609375,
          8.214016914367676,
          9.247777938842773,
          9.577037811279297,
          7.169294834136963,
          11.81543254852295,
          8.593327522277832,
          8.569903373718262,
          6.81149435043335,
          9.157209396362305,
          10.559615135192871,
          11.98605728149414,
          9.280226707458496,
          8.808418273925781,
          10.317647933959961,
          7.903545379638672,
          10.253159523010254,
          12.223001480102539,
          11.012024879455566,
          12.089370727539062,
          6.978128433227539,
          9.035345077514648,
          10.474194526672363,
          12.190149307250977,
          7.691208362579346,
          8.756954193115234,
          10.694897651672363,
          6.4355149269104,
          11.07961654663086
         ],
         "xaxis": "x",
         "y": [
          2.5443859100341797,
          2.3302524089813232,
          2.578993320465088,
          5.97177791595459,
          2.5302388668060303,
          2.0364506244659424,
          1.9794498682022095,
          1.4964439868927002,
          5.5431952476501465,
          2.215113878250122,
          1.2137374877929688,
          1.8107819557189941,
          3.9072060585021973,
          1.3410658836364746,
          0.9943212270736694,
          1.9478001594543457,
          4.979736804962158,
          4.222630023956299,
          1.4457967281341553,
          4.493085861206055,
          1.7717779874801636,
          3.159916639328003,
          2.38015079498291,
          2.362128734588623,
          3.1704866886138916,
          3.048757553100586,
          2.6702890396118164,
          3.851024866104126,
          3.581144332885742,
          1.9403170347213745,
          4.630300045013428,
          2.0540661811828613,
          2.872124671936035,
          4.117715835571289,
          4.254230976104736,
          4.039178371429443,
          2.7048540115356445,
          2.1695287227630615,
          4.504528045654297,
          3.1747443675994873,
          1.4944535493850708,
          0.8639277815818787,
          2.3040239810943604,
          1.943603515625,
          2.0183463096618652,
          2.042149066925049,
          3.3411951065063477,
          4.403313636779785,
          2.461688995361328,
          4.302807331085205,
          2.4678988456726074,
          5.262848377227783,
          5.303518295288086,
          2.8721096515655518,
          2.4943294525146484,
          0.9889476299285889,
          2.0575766563415527,
          5.301339626312256,
          5.2835588455200195,
          3.310302495956421,
          1.8870874643325806,
          2.29404354095459,
          1.5512146949768066,
          3.660512685775757,
          4.155526638031006,
          1.488755702972412,
          4.758063793182373,
          2.985103130340576,
          4.514964580535889,
          4.298625946044922,
          3.575608968734741,
          2.130194902420044,
          3.2469115257263184,
          1.873535394668579,
          1.7833216190338135,
          4.359373569488525,
          2.4954299926757812,
          1.3543360233306885,
          3.8321285247802734,
          2.6831157207489014,
          2.2632288932800293,
          2.3100736141204834,
          1.0266189575195312,
          3.1177761554718018,
          5.050404071807861,
          4.324160099029541,
          4.274034023284912,
          1.8456637859344482,
          4.360860347747803,
          5.008839130401611,
          4.178732872009277,
          2.5631330013275146,
          3.6088407039642334,
          3.5707342624664307,
          1.1501786708831787,
          5.8845696449279785,
          3.9579575061798096,
          1.0848890542984009,
          4.247289657592773,
          5.237301349639893,
          2.6508851051330566,
          5.971472263336182,
          4.318504333496094,
          5.56825065612793,
          3.0873851776123047,
          1.983821988105774,
          3.2677364349365234,
          2.1436610221862793,
          2.2066802978515625,
          4.998847007751465,
          5.43651008605957,
          2.0587265491485596,
          1.6479555368423462,
          1.6837717294692993,
          1.5766949653625488,
          5.0816874504089355,
          4.0886549949646,
          1.531078577041626,
          2.223949432373047,
          5.7491631507873535,
          3.8496997356414795,
          3.5439465045928955,
          5.652726650238037,
          3.801809310913086,
          2.9562623500823975,
          2.9876515865325928,
          5.197967529296875,
          3.574233293533325,
          4.901078701019287,
          4.375553131103516,
          5.099102020263672,
          4.402990341186523,
          2.881789445877075,
          2.8314898014068604,
          2.3269214630126953,
          5.008584499359131,
          4.5008978843688965,
          4.458498001098633,
          1.9390150308609009,
          2.3740463256835938,
          4.804022312164307,
          1.5791736841201782,
          2.6625843048095703,
          1.7736740112304688,
          3.5539886951446533,
          3.4743261337280273,
          3.3655152320861816,
          4.112246036529541,
          4.193807125091553,
          5.4400458335876465,
          3.826913833618164,
          1.7562639713287354,
          1.867984652519226,
          2.496957540512085,
          2.8522191047668457,
          2.0042669773101807,
          2.097057580947876,
          2.80983829498291,
          2.6580536365509033,
          3.295665979385376,
          1.3313050270080566,
          2.204378843307495,
          5.532635688781738,
          3.9236488342285156,
          3.212756395339966,
          5.541114330291748,
          4.120221138000488,
          5.841960430145264,
          5.248002052307129,
          4.9261698722839355,
          3.1162068843841553,
          4.868895530700684,
          3.3260865211486816,
          3.3432931900024414,
          4.688981056213379,
          3.445106029510498,
          5.051154613494873,
          5.095641613006592,
          1.1027809381484985,
          3.753321409225464,
          4.69002628326416,
          1.6597096920013428,
          5.115392684936523,
          1.204864740371704,
          3.101154088973999,
          5.460826396942139,
          2.866776704788208,
          0.8925158381462097,
          2.9691836833953857,
          2.6798007488250732,
          3.051858425140381,
          1.1592013835906982,
          1.5128891468048096,
          4.976343631744385,
          4.623014450073242,
          3.508208751678467,
          4.988041400909424,
          2.7527403831481934,
          5.2670698165893555,
          1.2286105155944824,
          5.36486291885376,
          5.234463691711426,
          3.9898085594177246,
          4.42758321762085,
          3.7294108867645264,
          3.769503116607666,
          2.9203362464904785,
          5.317780494689941,
          4.219242095947266,
          1.5750658512115479,
          2.699244499206543,
          3.3706676959991455,
          5.407421588897705,
          2.6455039978027344,
          2.5057547092437744,
          5.0223846435546875,
          2.993213176727295,
          4.686598777770996,
          5.090108871459961,
          2.214489221572876,
          2.8646066188812256,
          4.494768142700195,
          4.2807841300964355,
          2.2866604328155518,
          4.844327449798584,
          2.7941226959228516,
          5.547679424285889,
          1.472699522972107,
          4.655796527862549,
          3.1635758876800537,
          2.3745999336242676,
          4.417897701263428,
          2.61153507232666,
          5.025310516357422,
          5.748302459716797,
          4.462686061859131,
          1.1913273334503174,
          1.5681877136230469,
          1.7526861429214478,
          3.365602970123291,
          1.1839818954467773,
          3.6467339992523193,
          2.613985300064087,
          2.242814064025879,
          1.7652708292007446,
          1.3571572303771973,
          2.6466224193573,
          4.073988914489746,
          0.9547369480133057,
          3.8656482696533203,
          2.229679584503174,
          4.819657325744629,
          3.1486527919769287,
          2.6139426231384277,
          4.208608150482178,
          2.6704561710357666
         ],
         "yaxis": "y"
        }
       ],
       "layout": {
        "legend": {
         "tracegroupgap": 0
        },
        "margin": {
         "t": 60
        },
        "template": {
         "data": {
          "bar": [
           {
            "error_x": {
             "color": "#2a3f5f"
            },
            "error_y": {
             "color": "#2a3f5f"
            },
            "marker": {
             "line": {
              "color": "#E5ECF6",
              "width": 0.5
             }
            },
            "type": "bar"
           }
          ],
          "barpolar": [
           {
            "marker": {
             "line": {
              "color": "#E5ECF6",
              "width": 0.5
             }
            },
            "type": "barpolar"
           }
          ],
          "carpet": [
           {
            "aaxis": {
             "endlinecolor": "#2a3f5f",
             "gridcolor": "white",
             "linecolor": "white",
             "minorgridcolor": "white",
             "startlinecolor": "#2a3f5f"
            },
            "baxis": {
             "endlinecolor": "#2a3f5f",
             "gridcolor": "white",
             "linecolor": "white",
             "minorgridcolor": "white",
             "startlinecolor": "#2a3f5f"
            },
            "type": "carpet"
           }
          ],
          "choropleth": [
           {
            "colorbar": {
             "outlinewidth": 0,
             "ticks": ""
            },
            "type": "choropleth"
           }
          ],
          "contour": [
           {
            "colorbar": {
             "outlinewidth": 0,
             "ticks": ""
            },
            "colorscale": [
             [
              0,
              "#0d0887"
             ],
             [
              0.1111111111111111,
              "#46039f"
             ],
             [
              0.2222222222222222,
              "#7201a8"
             ],
             [
              0.3333333333333333,
              "#9c179e"
             ],
             [
              0.4444444444444444,
              "#bd3786"
             ],
             [
              0.5555555555555556,
              "#d8576b"
             ],
             [
              0.6666666666666666,
              "#ed7953"
             ],
             [
              0.7777777777777778,
              "#fb9f3a"
             ],
             [
              0.8888888888888888,
              "#fdca26"
             ],
             [
              1,
              "#f0f921"
             ]
            ],
            "type": "contour"
           }
          ],
          "contourcarpet": [
           {
            "colorbar": {
             "outlinewidth": 0,
             "ticks": ""
            },
            "type": "contourcarpet"
           }
          ],
          "heatmap": [
           {
            "colorbar": {
             "outlinewidth": 0,
             "ticks": ""
            },
            "colorscale": [
             [
              0,
              "#0d0887"
             ],
             [
              0.1111111111111111,
              "#46039f"
             ],
             [
              0.2222222222222222,
              "#7201a8"
             ],
             [
              0.3333333333333333,
              "#9c179e"
             ],
             [
              0.4444444444444444,
              "#bd3786"
             ],
             [
              0.5555555555555556,
              "#d8576b"
             ],
             [
              0.6666666666666666,
              "#ed7953"
             ],
             [
              0.7777777777777778,
              "#fb9f3a"
             ],
             [
              0.8888888888888888,
              "#fdca26"
             ],
             [
              1,
              "#f0f921"
             ]
            ],
            "type": "heatmap"
           }
          ],
          "heatmapgl": [
           {
            "colorbar": {
             "outlinewidth": 0,
             "ticks": ""
            },
            "colorscale": [
             [
              0,
              "#0d0887"
             ],
             [
              0.1111111111111111,
              "#46039f"
             ],
             [
              0.2222222222222222,
              "#7201a8"
             ],
             [
              0.3333333333333333,
              "#9c179e"
             ],
             [
              0.4444444444444444,
              "#bd3786"
             ],
             [
              0.5555555555555556,
              "#d8576b"
             ],
             [
              0.6666666666666666,
              "#ed7953"
             ],
             [
              0.7777777777777778,
              "#fb9f3a"
             ],
             [
              0.8888888888888888,
              "#fdca26"
             ],
             [
              1,
              "#f0f921"
             ]
            ],
            "type": "heatmapgl"
           }
          ],
          "histogram": [
           {
            "marker": {
             "colorbar": {
              "outlinewidth": 0,
              "ticks": ""
             }
            },
            "type": "histogram"
           }
          ],
          "histogram2d": [
           {
            "colorbar": {
             "outlinewidth": 0,
             "ticks": ""
            },
            "colorscale": [
             [
              0,
              "#0d0887"
             ],
             [
              0.1111111111111111,
              "#46039f"
             ],
             [
              0.2222222222222222,
              "#7201a8"
             ],
             [
              0.3333333333333333,
              "#9c179e"
             ],
             [
              0.4444444444444444,
              "#bd3786"
             ],
             [
              0.5555555555555556,
              "#d8576b"
             ],
             [
              0.6666666666666666,
              "#ed7953"
             ],
             [
              0.7777777777777778,
              "#fb9f3a"
             ],
             [
              0.8888888888888888,
              "#fdca26"
             ],
             [
              1,
              "#f0f921"
             ]
            ],
            "type": "histogram2d"
           }
          ],
          "histogram2dcontour": [
           {
            "colorbar": {
             "outlinewidth": 0,
             "ticks": ""
            },
            "colorscale": [
             [
              0,
              "#0d0887"
             ],
             [
              0.1111111111111111,
              "#46039f"
             ],
             [
              0.2222222222222222,
              "#7201a8"
             ],
             [
              0.3333333333333333,
              "#9c179e"
             ],
             [
              0.4444444444444444,
              "#bd3786"
             ],
             [
              0.5555555555555556,
              "#d8576b"
             ],
             [
              0.6666666666666666,
              "#ed7953"
             ],
             [
              0.7777777777777778,
              "#fb9f3a"
             ],
             [
              0.8888888888888888,
              "#fdca26"
             ],
             [
              1,
              "#f0f921"
             ]
            ],
            "type": "histogram2dcontour"
           }
          ],
          "mesh3d": [
           {
            "colorbar": {
             "outlinewidth": 0,
             "ticks": ""
            },
            "type": "mesh3d"
           }
          ],
          "parcoords": [
           {
            "line": {
             "colorbar": {
              "outlinewidth": 0,
              "ticks": ""
             }
            },
            "type": "parcoords"
           }
          ],
          "pie": [
           {
            "automargin": true,
            "type": "pie"
           }
          ],
          "scatter": [
           {
            "marker": {
             "colorbar": {
              "outlinewidth": 0,
              "ticks": ""
             }
            },
            "type": "scatter"
           }
          ],
          "scatter3d": [
           {
            "line": {
             "colorbar": {
              "outlinewidth": 0,
              "ticks": ""
             }
            },
            "marker": {
             "colorbar": {
              "outlinewidth": 0,
              "ticks": ""
             }
            },
            "type": "scatter3d"
           }
          ],
          "scattercarpet": [
           {
            "marker": {
             "colorbar": {
              "outlinewidth": 0,
              "ticks": ""
             }
            },
            "type": "scattercarpet"
           }
          ],
          "scattergeo": [
           {
            "marker": {
             "colorbar": {
              "outlinewidth": 0,
              "ticks": ""
             }
            },
            "type": "scattergeo"
           }
          ],
          "scattergl": [
           {
            "marker": {
             "colorbar": {
              "outlinewidth": 0,
              "ticks": ""
             }
            },
            "type": "scattergl"
           }
          ],
          "scattermapbox": [
           {
            "marker": {
             "colorbar": {
              "outlinewidth": 0,
              "ticks": ""
             }
            },
            "type": "scattermapbox"
           }
          ],
          "scatterpolar": [
           {
            "marker": {
             "colorbar": {
              "outlinewidth": 0,
              "ticks": ""
             }
            },
            "type": "scatterpolar"
           }
          ],
          "scatterpolargl": [
           {
            "marker": {
             "colorbar": {
              "outlinewidth": 0,
              "ticks": ""
             }
            },
            "type": "scatterpolargl"
           }
          ],
          "scatterternary": [
           {
            "marker": {
             "colorbar": {
              "outlinewidth": 0,
              "ticks": ""
             }
            },
            "type": "scatterternary"
           }
          ],
          "surface": [
           {
            "colorbar": {
             "outlinewidth": 0,
             "ticks": ""
            },
            "colorscale": [
             [
              0,
              "#0d0887"
             ],
             [
              0.1111111111111111,
              "#46039f"
             ],
             [
              0.2222222222222222,
              "#7201a8"
             ],
             [
              0.3333333333333333,
              "#9c179e"
             ],
             [
              0.4444444444444444,
              "#bd3786"
             ],
             [
              0.5555555555555556,
              "#d8576b"
             ],
             [
              0.6666666666666666,
              "#ed7953"
             ],
             [
              0.7777777777777778,
              "#fb9f3a"
             ],
             [
              0.8888888888888888,
              "#fdca26"
             ],
             [
              1,
              "#f0f921"
             ]
            ],
            "type": "surface"
           }
          ],
          "table": [
           {
            "cells": {
             "fill": {
              "color": "#EBF0F8"
             },
             "line": {
              "color": "white"
             }
            },
            "header": {
             "fill": {
              "color": "#C8D4E3"
             },
             "line": {
              "color": "white"
             }
            },
            "type": "table"
           }
          ]
         },
         "layout": {
          "annotationdefaults": {
           "arrowcolor": "#2a3f5f",
           "arrowhead": 0,
           "arrowwidth": 1
          },
          "autotypenumbers": "strict",
          "coloraxis": {
           "colorbar": {
            "outlinewidth": 0,
            "ticks": ""
           }
          },
          "colorscale": {
           "diverging": [
            [
             0,
             "#8e0152"
            ],
            [
             0.1,
             "#c51b7d"
            ],
            [
             0.2,
             "#de77ae"
            ],
            [
             0.3,
             "#f1b6da"
            ],
            [
             0.4,
             "#fde0ef"
            ],
            [
             0.5,
             "#f7f7f7"
            ],
            [
             0.6,
             "#e6f5d0"
            ],
            [
             0.7,
             "#b8e186"
            ],
            [
             0.8,
             "#7fbc41"
            ],
            [
             0.9,
             "#4d9221"
            ],
            [
             1,
             "#276419"
            ]
           ],
           "sequential": [
            [
             0,
             "#0d0887"
            ],
            [
             0.1111111111111111,
             "#46039f"
            ],
            [
             0.2222222222222222,
             "#7201a8"
            ],
            [
             0.3333333333333333,
             "#9c179e"
            ],
            [
             0.4444444444444444,
             "#bd3786"
            ],
            [
             0.5555555555555556,
             "#d8576b"
            ],
            [
             0.6666666666666666,
             "#ed7953"
            ],
            [
             0.7777777777777778,
             "#fb9f3a"
            ],
            [
             0.8888888888888888,
             "#fdca26"
            ],
            [
             1,
             "#f0f921"
            ]
           ],
           "sequentialminus": [
            [
             0,
             "#0d0887"
            ],
            [
             0.1111111111111111,
             "#46039f"
            ],
            [
             0.2222222222222222,
             "#7201a8"
            ],
            [
             0.3333333333333333,
             "#9c179e"
            ],
            [
             0.4444444444444444,
             "#bd3786"
            ],
            [
             0.5555555555555556,
             "#d8576b"
            ],
            [
             0.6666666666666666,
             "#ed7953"
            ],
            [
             0.7777777777777778,
             "#fb9f3a"
            ],
            [
             0.8888888888888888,
             "#fdca26"
            ],
            [
             1,
             "#f0f921"
            ]
           ]
          },
          "colorway": [
           "#636efa",
           "#EF553B",
           "#00cc96",
           "#ab63fa",
           "#FFA15A",
           "#19d3f3",
           "#FF6692",
           "#B6E880",
           "#FF97FF",
           "#FECB52"
          ],
          "font": {
           "color": "#2a3f5f"
          },
          "geo": {
           "bgcolor": "white",
           "lakecolor": "white",
           "landcolor": "#E5ECF6",
           "showlakes": true,
           "showland": true,
           "subunitcolor": "white"
          },
          "hoverlabel": {
           "align": "left"
          },
          "hovermode": "closest",
          "mapbox": {
           "style": "light"
          },
          "paper_bgcolor": "white",
          "plot_bgcolor": "#E5ECF6",
          "polar": {
           "angularaxis": {
            "gridcolor": "white",
            "linecolor": "white",
            "ticks": ""
           },
           "bgcolor": "#E5ECF6",
           "radialaxis": {
            "gridcolor": "white",
            "linecolor": "white",
            "ticks": ""
           }
          },
          "scene": {
           "xaxis": {
            "backgroundcolor": "#E5ECF6",
            "gridcolor": "white",
            "gridwidth": 2,
            "linecolor": "white",
            "showbackground": true,
            "ticks": "",
            "zerolinecolor": "white"
           },
           "yaxis": {
            "backgroundcolor": "#E5ECF6",
            "gridcolor": "white",
            "gridwidth": 2,
            "linecolor": "white",
            "showbackground": true,
            "ticks": "",
            "zerolinecolor": "white"
           },
           "zaxis": {
            "backgroundcolor": "#E5ECF6",
            "gridcolor": "white",
            "gridwidth": 2,
            "linecolor": "white",
            "showbackground": true,
            "ticks": "",
            "zerolinecolor": "white"
           }
          },
          "shapedefaults": {
           "line": {
            "color": "#2a3f5f"
           }
          },
          "ternary": {
           "aaxis": {
            "gridcolor": "white",
            "linecolor": "white",
            "ticks": ""
           },
           "baxis": {
            "gridcolor": "white",
            "linecolor": "white",
            "ticks": ""
           },
           "bgcolor": "#E5ECF6",
           "caxis": {
            "gridcolor": "white",
            "linecolor": "white",
            "ticks": ""
           }
          },
          "title": {
           "x": 0.05
          },
          "xaxis": {
           "automargin": true,
           "gridcolor": "white",
           "linecolor": "white",
           "ticks": "",
           "title": {
            "standoff": 15
           },
           "zerolinecolor": "white",
           "zerolinewidth": 2
          },
          "yaxis": {
           "automargin": true,
           "gridcolor": "white",
           "linecolor": "white",
           "ticks": "",
           "title": {
            "standoff": 15
           },
           "zerolinecolor": "white",
           "zerolinewidth": 2
          }
         }
        },
        "xaxis": {
         "anchor": "y",
         "domain": [
          0,
          1
         ],
         "title": {
          "text": "0"
         }
        },
        "yaxis": {
         "anchor": "x",
         "domain": [
          0,
          1
         ],
         "title": {
          "text": "1"
         }
        }
       }
      },
      "text/html": [
       "<div>                            <div id=\"e214d3ca-74d5-4f1d-aa1d-b446f608de0a\" class=\"plotly-graph-div\" style=\"height:525px; width:100%;\"></div>            <script type=\"text/javascript\">                require([\"plotly\"], function(Plotly) {                    window.PLOTLYENV=window.PLOTLYENV || {};                                    if (document.getElementById(\"e214d3ca-74d5-4f1d-aa1d-b446f608de0a\")) {                    Plotly.newPlot(                        \"e214d3ca-74d5-4f1d-aa1d-b446f608de0a\",                        [{\"hovertemplate\": \"0=%{x}<br>1=%{y}<extra></extra>\", \"legendgroup\": \"\", \"marker\": {\"color\": \"#636efa\", \"symbol\": \"circle\"}, \"mode\": \"markers\", \"name\": \"\", \"orientation\": \"v\", \"showlegend\": false, \"type\": \"scatter\", \"x\": [7.502486228942871, 12.061511993408203, 11.777466773986816, 8.810059547424316, 8.25080680847168, 8.938852310180664, 9.719279289245605, 9.310460090637207, 8.144765853881836, 11.45101261138916, 10.020681381225586, 12.04774284362793, 11.45209789276123, 8.84203815460205, 10.134949684143066, 8.54977035522461, 8.471561431884766, 6.4878249168396, 11.749495506286621, 8.5440673828125, 9.660125732421875, 7.345276832580566, 10.00684642791748, 9.180635452270508, 8.565374374389648, 9.07651424407959, 8.917689323425293, 7.174533367156982, 11.896638870239258, 11.63815689086914, 6.203552722930908, 10.949070930480957, 8.360371589660645, 11.787910461425781, 7.580662250518799, 11.82764720916748, 8.836762428283691, 12.116631507873535, 9.553975105285645, 9.721817016601562, 9.741533279418945, 9.066235542297363, 11.01473331451416, 9.838570594787598, 11.945876121520996, 10.926610946655273, 8.116928100585938, 9.669327735900879, 10.675924301147461, 11.36100959777832, 8.702234268188477, 8.29468822479248, 9.661054611206055, 9.824655532836914, 10.110647201538086, 9.134268760681152, 9.024924278259277, 10.343910217285156, 9.276814460754395, 6.732770919799805, 10.254921913146973, 9.051209449768066, 8.847441673278809, 10.906844139099121, 10.843371391296387, 11.869229316711426, 6.078927040100098, 8.507329940795898, 10.81280517578125, 11.64376163482666, 8.17876148223877, 10.056662559509277, 10.354796409606934, 11.775225639343262, 10.618868827819824, 7.494612216949463, 7.560974597930908, 10.46459674835205, 10.598687171936035, 9.739211082458496, 11.17579460144043, 8.820801734924316, 9.793842315673828, 9.393194198608398, 10.465866088867188, 6.928409099578857, 10.476669311523438, 9.418601989746094, 10.121476173400879, 8.40100383758545, 10.023955345153809, 10.235246658325195, 8.969246864318848, 6.792812347412109, 10.054121017456055, 8.721724510192871, 10.267226219177246, 10.172642707824707, 10.68975830078125, 9.565244674682617, 8.989029884338379, 8.456195831298828, 10.153669357299805, 8.799124717712402, 10.535443305969238, 12.249734878540039, 9.66796875, 11.663609504699707, 10.676838874816895, 5.789037227630615, 10.09458065032959, 10.497466087341309, 12.114357948303223, 10.73140811920166, 8.649858474731445, 5.707855701446533, 10.67691707611084, 8.959441184997559, 9.480918884277344, 8.322612762451172, 6.584190845489502, 8.050983428955078, 9.344869613647461, 8.56751823425293, 6.9400787353515625, 9.050437927246094, 10.234489440917969, 11.102063179016113, 5.886929988861084, 9.937902450561523, 5.684321880340576, 10.709404945373535, 9.427351951599121, 9.347582817077637, 11.262950897216797, 7.803487777709961, 11.327825546264648, 10.776517868041992, 9.310844421386719, 7.776096343994141, 7.423138618469238, 10.124420166015625, 8.173591613769531, 10.165266990661621, 9.012715339660645, 9.556337356567383, 9.103352546691895, 7.200803279876709, 10.473026275634766, 9.163143157958984, 9.523406028747559, 11.533897399902344, 10.591485977172852, 8.820054054260254, 8.859899520874023, 12.367605209350586, 9.416606903076172, 11.323699951171875, 10.39247989654541, 10.731486320495605, 10.890674591064453, 10.16434383392334, 10.212105751037598, 7.836172103881836, 9.55074691772461, 9.590704917907715, 9.67115592956543, 9.12508773803711, 8.351235389709473, 8.320405960083008, 8.104080200195312, 9.083208084106445, 10.88137435913086, 7.339550018310547, 6.333228588104248, 10.590593338012695, 5.731795310974121, 8.387045860290527, 9.582490921020508, 9.413278579711914, 9.908162117004395, 10.411643981933594, 10.217534065246582, 8.710273742675781, 6.827856540679932, 8.853777885437012, 7.1979780197143555, 8.970270156860352, 11.890901565551758, 9.479132652282715, 7.518317222595215, 8.917667388916016, 12.020228385925293, 5.816378116607666, 11.334549903869629, 7.6089911460876465, 5.813736438751221, 7.243780612945557, 9.24865436553955, 9.526663780212402, 8.664023399353027, 9.5833101272583, 7.327602386474609, 9.05001449584961, 8.974562644958496, 11.688989639282227, 11.005411148071289, 9.680212020874023, 10.786827087402344, 10.549241065979004, 9.633296012878418, 11.27900505065918, 9.701902389526367, 7.482615947723389, 11.39548110961914, 8.17821979522705, 9.75521469116211, 6.925594806671143, 9.628483772277832, 9.510138511657715, 9.85692310333252, 8.400153160095215, 10.772444725036621, 11.402656555175781, 6.028006076812744, 7.593516826629639, 9.423419952392578, 10.951995849609375, 8.214016914367676, 9.247777938842773, 9.577037811279297, 7.169294834136963, 11.81543254852295, 8.593327522277832, 8.569903373718262, 6.81149435043335, 9.157209396362305, 10.559615135192871, 11.98605728149414, 9.280226707458496, 8.808418273925781, 10.317647933959961, 7.903545379638672, 10.253159523010254, 12.223001480102539, 11.012024879455566, 12.089370727539062, 6.978128433227539, 9.035345077514648, 10.474194526672363, 12.190149307250977, 7.691208362579346, 8.756954193115234, 10.694897651672363, 6.4355149269104, 11.07961654663086], \"xaxis\": \"x\", \"y\": [2.5443859100341797, 2.3302524089813232, 2.578993320465088, 5.97177791595459, 2.5302388668060303, 2.0364506244659424, 1.9794498682022095, 1.4964439868927002, 5.5431952476501465, 2.215113878250122, 1.2137374877929688, 1.8107819557189941, 3.9072060585021973, 1.3410658836364746, 0.9943212270736694, 1.9478001594543457, 4.979736804962158, 4.222630023956299, 1.4457967281341553, 4.493085861206055, 1.7717779874801636, 3.159916639328003, 2.38015079498291, 2.362128734588623, 3.1704866886138916, 3.048757553100586, 2.6702890396118164, 3.851024866104126, 3.581144332885742, 1.9403170347213745, 4.630300045013428, 2.0540661811828613, 2.872124671936035, 4.117715835571289, 4.254230976104736, 4.039178371429443, 2.7048540115356445, 2.1695287227630615, 4.504528045654297, 3.1747443675994873, 1.4944535493850708, 0.8639277815818787, 2.3040239810943604, 1.943603515625, 2.0183463096618652, 2.042149066925049, 3.3411951065063477, 4.403313636779785, 2.461688995361328, 4.302807331085205, 2.4678988456726074, 5.262848377227783, 5.303518295288086, 2.8721096515655518, 2.4943294525146484, 0.9889476299285889, 2.0575766563415527, 5.301339626312256, 5.2835588455200195, 3.310302495956421, 1.8870874643325806, 2.29404354095459, 1.5512146949768066, 3.660512685775757, 4.155526638031006, 1.488755702972412, 4.758063793182373, 2.985103130340576, 4.514964580535889, 4.298625946044922, 3.575608968734741, 2.130194902420044, 3.2469115257263184, 1.873535394668579, 1.7833216190338135, 4.359373569488525, 2.4954299926757812, 1.3543360233306885, 3.8321285247802734, 2.6831157207489014, 2.2632288932800293, 2.3100736141204834, 1.0266189575195312, 3.1177761554718018, 5.050404071807861, 4.324160099029541, 4.274034023284912, 1.8456637859344482, 4.360860347747803, 5.008839130401611, 4.178732872009277, 2.5631330013275146, 3.6088407039642334, 3.5707342624664307, 1.1501786708831787, 5.8845696449279785, 3.9579575061798096, 1.0848890542984009, 4.247289657592773, 5.237301349639893, 2.6508851051330566, 5.971472263336182, 4.318504333496094, 5.56825065612793, 3.0873851776123047, 1.983821988105774, 3.2677364349365234, 2.1436610221862793, 2.2066802978515625, 4.998847007751465, 5.43651008605957, 2.0587265491485596, 1.6479555368423462, 1.6837717294692993, 1.5766949653625488, 5.0816874504089355, 4.0886549949646, 1.531078577041626, 2.223949432373047, 5.7491631507873535, 3.8496997356414795, 3.5439465045928955, 5.652726650238037, 3.801809310913086, 2.9562623500823975, 2.9876515865325928, 5.197967529296875, 3.574233293533325, 4.901078701019287, 4.375553131103516, 5.099102020263672, 4.402990341186523, 2.881789445877075, 2.8314898014068604, 2.3269214630126953, 5.008584499359131, 4.5008978843688965, 4.458498001098633, 1.9390150308609009, 2.3740463256835938, 4.804022312164307, 1.5791736841201782, 2.6625843048095703, 1.7736740112304688, 3.5539886951446533, 3.4743261337280273, 3.3655152320861816, 4.112246036529541, 4.193807125091553, 5.4400458335876465, 3.826913833618164, 1.7562639713287354, 1.867984652519226, 2.496957540512085, 2.8522191047668457, 2.0042669773101807, 2.097057580947876, 2.80983829498291, 2.6580536365509033, 3.295665979385376, 1.3313050270080566, 2.204378843307495, 5.532635688781738, 3.9236488342285156, 3.212756395339966, 5.541114330291748, 4.120221138000488, 5.841960430145264, 5.248002052307129, 4.9261698722839355, 3.1162068843841553, 4.868895530700684, 3.3260865211486816, 3.3432931900024414, 4.688981056213379, 3.445106029510498, 5.051154613494873, 5.095641613006592, 1.1027809381484985, 3.753321409225464, 4.69002628326416, 1.6597096920013428, 5.115392684936523, 1.204864740371704, 3.101154088973999, 5.460826396942139, 2.866776704788208, 0.8925158381462097, 2.9691836833953857, 2.6798007488250732, 3.051858425140381, 1.1592013835906982, 1.5128891468048096, 4.976343631744385, 4.623014450073242, 3.508208751678467, 4.988041400909424, 2.7527403831481934, 5.2670698165893555, 1.2286105155944824, 5.36486291885376, 5.234463691711426, 3.9898085594177246, 4.42758321762085, 3.7294108867645264, 3.769503116607666, 2.9203362464904785, 5.317780494689941, 4.219242095947266, 1.5750658512115479, 2.699244499206543, 3.3706676959991455, 5.407421588897705, 2.6455039978027344, 2.5057547092437744, 5.0223846435546875, 2.993213176727295, 4.686598777770996, 5.090108871459961, 2.214489221572876, 2.8646066188812256, 4.494768142700195, 4.2807841300964355, 2.2866604328155518, 4.844327449798584, 2.7941226959228516, 5.547679424285889, 1.472699522972107, 4.655796527862549, 3.1635758876800537, 2.3745999336242676, 4.417897701263428, 2.61153507232666, 5.025310516357422, 5.748302459716797, 4.462686061859131, 1.1913273334503174, 1.5681877136230469, 1.7526861429214478, 3.365602970123291, 1.1839818954467773, 3.6467339992523193, 2.613985300064087, 2.242814064025879, 1.7652708292007446, 1.3571572303771973, 2.6466224193573, 4.073988914489746, 0.9547369480133057, 3.8656482696533203, 2.229679584503174, 4.819657325744629, 3.1486527919769287, 2.6139426231384277, 4.208608150482178, 2.6704561710357666], \"yaxis\": \"y\"}],                        {\"legend\": {\"tracegroupgap\": 0}, \"margin\": {\"t\": 60}, \"template\": {\"data\": {\"bar\": [{\"error_x\": {\"color\": \"#2a3f5f\"}, \"error_y\": {\"color\": \"#2a3f5f\"}, \"marker\": {\"line\": {\"color\": \"#E5ECF6\", \"width\": 0.5}}, \"type\": \"bar\"}], \"barpolar\": [{\"marker\": {\"line\": {\"color\": \"#E5ECF6\", \"width\": 0.5}}, \"type\": \"barpolar\"}], \"carpet\": [{\"aaxis\": {\"endlinecolor\": \"#2a3f5f\", \"gridcolor\": \"white\", \"linecolor\": \"white\", \"minorgridcolor\": \"white\", \"startlinecolor\": \"#2a3f5f\"}, \"baxis\": {\"endlinecolor\": \"#2a3f5f\", \"gridcolor\": \"white\", \"linecolor\": \"white\", \"minorgridcolor\": \"white\", \"startlinecolor\": \"#2a3f5f\"}, \"type\": \"carpet\"}], \"choropleth\": [{\"colorbar\": {\"outlinewidth\": 0, \"ticks\": \"\"}, \"type\": \"choropleth\"}], \"contour\": [{\"colorbar\": {\"outlinewidth\": 0, \"ticks\": \"\"}, \"colorscale\": [[0.0, \"#0d0887\"], [0.1111111111111111, \"#46039f\"], [0.2222222222222222, \"#7201a8\"], [0.3333333333333333, \"#9c179e\"], [0.4444444444444444, \"#bd3786\"], [0.5555555555555556, \"#d8576b\"], [0.6666666666666666, \"#ed7953\"], [0.7777777777777778, \"#fb9f3a\"], [0.8888888888888888, \"#fdca26\"], [1.0, \"#f0f921\"]], \"type\": \"contour\"}], \"contourcarpet\": [{\"colorbar\": {\"outlinewidth\": 0, \"ticks\": \"\"}, \"type\": \"contourcarpet\"}], \"heatmap\": [{\"colorbar\": {\"outlinewidth\": 0, \"ticks\": \"\"}, \"colorscale\": [[0.0, \"#0d0887\"], [0.1111111111111111, \"#46039f\"], [0.2222222222222222, \"#7201a8\"], [0.3333333333333333, \"#9c179e\"], [0.4444444444444444, \"#bd3786\"], [0.5555555555555556, \"#d8576b\"], [0.6666666666666666, \"#ed7953\"], [0.7777777777777778, \"#fb9f3a\"], [0.8888888888888888, \"#fdca26\"], [1.0, \"#f0f921\"]], \"type\": \"heatmap\"}], \"heatmapgl\": [{\"colorbar\": {\"outlinewidth\": 0, \"ticks\": \"\"}, \"colorscale\": [[0.0, \"#0d0887\"], [0.1111111111111111, \"#46039f\"], [0.2222222222222222, \"#7201a8\"], [0.3333333333333333, \"#9c179e\"], [0.4444444444444444, \"#bd3786\"], [0.5555555555555556, \"#d8576b\"], [0.6666666666666666, \"#ed7953\"], [0.7777777777777778, \"#fb9f3a\"], [0.8888888888888888, \"#fdca26\"], [1.0, \"#f0f921\"]], \"type\": \"heatmapgl\"}], \"histogram\": [{\"marker\": {\"colorbar\": {\"outlinewidth\": 0, \"ticks\": \"\"}}, \"type\": \"histogram\"}], \"histogram2d\": [{\"colorbar\": {\"outlinewidth\": 0, \"ticks\": \"\"}, \"colorscale\": [[0.0, \"#0d0887\"], [0.1111111111111111, \"#46039f\"], [0.2222222222222222, \"#7201a8\"], [0.3333333333333333, \"#9c179e\"], [0.4444444444444444, \"#bd3786\"], [0.5555555555555556, \"#d8576b\"], [0.6666666666666666, \"#ed7953\"], [0.7777777777777778, \"#fb9f3a\"], [0.8888888888888888, \"#fdca26\"], [1.0, \"#f0f921\"]], \"type\": \"histogram2d\"}], \"histogram2dcontour\": [{\"colorbar\": {\"outlinewidth\": 0, \"ticks\": \"\"}, \"colorscale\": [[0.0, \"#0d0887\"], [0.1111111111111111, \"#46039f\"], [0.2222222222222222, \"#7201a8\"], [0.3333333333333333, \"#9c179e\"], [0.4444444444444444, \"#bd3786\"], [0.5555555555555556, \"#d8576b\"], [0.6666666666666666, \"#ed7953\"], [0.7777777777777778, \"#fb9f3a\"], [0.8888888888888888, \"#fdca26\"], [1.0, \"#f0f921\"]], \"type\": \"histogram2dcontour\"}], \"mesh3d\": [{\"colorbar\": {\"outlinewidth\": 0, \"ticks\": \"\"}, \"type\": \"mesh3d\"}], \"parcoords\": [{\"line\": {\"colorbar\": {\"outlinewidth\": 0, \"ticks\": \"\"}}, \"type\": \"parcoords\"}], \"pie\": [{\"automargin\": true, \"type\": \"pie\"}], \"scatter\": [{\"marker\": {\"colorbar\": {\"outlinewidth\": 0, \"ticks\": \"\"}}, \"type\": \"scatter\"}], \"scatter3d\": [{\"line\": {\"colorbar\": {\"outlinewidth\": 0, \"ticks\": \"\"}}, \"marker\": {\"colorbar\": {\"outlinewidth\": 0, \"ticks\": \"\"}}, \"type\": \"scatter3d\"}], \"scattercarpet\": [{\"marker\": {\"colorbar\": {\"outlinewidth\": 0, \"ticks\": \"\"}}, \"type\": \"scattercarpet\"}], \"scattergeo\": [{\"marker\": {\"colorbar\": {\"outlinewidth\": 0, \"ticks\": \"\"}}, \"type\": \"scattergeo\"}], \"scattergl\": [{\"marker\": {\"colorbar\": {\"outlinewidth\": 0, \"ticks\": \"\"}}, \"type\": \"scattergl\"}], \"scattermapbox\": [{\"marker\": {\"colorbar\": {\"outlinewidth\": 0, \"ticks\": \"\"}}, \"type\": \"scattermapbox\"}], \"scatterpolar\": [{\"marker\": {\"colorbar\": {\"outlinewidth\": 0, \"ticks\": \"\"}}, \"type\": \"scatterpolar\"}], \"scatterpolargl\": [{\"marker\": {\"colorbar\": {\"outlinewidth\": 0, \"ticks\": \"\"}}, \"type\": \"scatterpolargl\"}], \"scatterternary\": [{\"marker\": {\"colorbar\": {\"outlinewidth\": 0, \"ticks\": \"\"}}, \"type\": \"scatterternary\"}], \"surface\": [{\"colorbar\": {\"outlinewidth\": 0, \"ticks\": \"\"}, \"colorscale\": [[0.0, \"#0d0887\"], [0.1111111111111111, \"#46039f\"], [0.2222222222222222, \"#7201a8\"], [0.3333333333333333, \"#9c179e\"], [0.4444444444444444, \"#bd3786\"], [0.5555555555555556, \"#d8576b\"], [0.6666666666666666, \"#ed7953\"], [0.7777777777777778, \"#fb9f3a\"], [0.8888888888888888, \"#fdca26\"], [1.0, \"#f0f921\"]], \"type\": \"surface\"}], \"table\": [{\"cells\": {\"fill\": {\"color\": \"#EBF0F8\"}, \"line\": {\"color\": \"white\"}}, \"header\": {\"fill\": {\"color\": \"#C8D4E3\"}, \"line\": {\"color\": \"white\"}}, \"type\": \"table\"}]}, \"layout\": {\"annotationdefaults\": {\"arrowcolor\": \"#2a3f5f\", \"arrowhead\": 0, \"arrowwidth\": 1}, \"autotypenumbers\": \"strict\", \"coloraxis\": {\"colorbar\": {\"outlinewidth\": 0, \"ticks\": \"\"}}, \"colorscale\": {\"diverging\": [[0, \"#8e0152\"], [0.1, \"#c51b7d\"], [0.2, \"#de77ae\"], [0.3, \"#f1b6da\"], [0.4, \"#fde0ef\"], [0.5, \"#f7f7f7\"], [0.6, \"#e6f5d0\"], [0.7, \"#b8e186\"], [0.8, \"#7fbc41\"], [0.9, \"#4d9221\"], [1, \"#276419\"]], \"sequential\": [[0.0, \"#0d0887\"], [0.1111111111111111, \"#46039f\"], [0.2222222222222222, \"#7201a8\"], [0.3333333333333333, \"#9c179e\"], [0.4444444444444444, \"#bd3786\"], [0.5555555555555556, \"#d8576b\"], [0.6666666666666666, \"#ed7953\"], [0.7777777777777778, \"#fb9f3a\"], [0.8888888888888888, \"#fdca26\"], [1.0, \"#f0f921\"]], \"sequentialminus\": [[0.0, \"#0d0887\"], [0.1111111111111111, \"#46039f\"], [0.2222222222222222, \"#7201a8\"], [0.3333333333333333, \"#9c179e\"], [0.4444444444444444, \"#bd3786\"], [0.5555555555555556, \"#d8576b\"], [0.6666666666666666, \"#ed7953\"], [0.7777777777777778, \"#fb9f3a\"], [0.8888888888888888, \"#fdca26\"], [1.0, \"#f0f921\"]]}, \"colorway\": [\"#636efa\", \"#EF553B\", \"#00cc96\", \"#ab63fa\", \"#FFA15A\", \"#19d3f3\", \"#FF6692\", \"#B6E880\", \"#FF97FF\", \"#FECB52\"], \"font\": {\"color\": \"#2a3f5f\"}, \"geo\": {\"bgcolor\": \"white\", \"lakecolor\": \"white\", \"landcolor\": \"#E5ECF6\", \"showlakes\": true, \"showland\": true, \"subunitcolor\": \"white\"}, \"hoverlabel\": {\"align\": \"left\"}, \"hovermode\": \"closest\", \"mapbox\": {\"style\": \"light\"}, \"paper_bgcolor\": \"white\", \"plot_bgcolor\": \"#E5ECF6\", \"polar\": {\"angularaxis\": {\"gridcolor\": \"white\", \"linecolor\": \"white\", \"ticks\": \"\"}, \"bgcolor\": \"#E5ECF6\", \"radialaxis\": {\"gridcolor\": \"white\", \"linecolor\": \"white\", \"ticks\": \"\"}}, \"scene\": {\"xaxis\": {\"backgroundcolor\": \"#E5ECF6\", \"gridcolor\": \"white\", \"gridwidth\": 2, \"linecolor\": \"white\", \"showbackground\": true, \"ticks\": \"\", \"zerolinecolor\": \"white\"}, \"yaxis\": {\"backgroundcolor\": \"#E5ECF6\", \"gridcolor\": \"white\", \"gridwidth\": 2, \"linecolor\": \"white\", \"showbackground\": true, \"ticks\": \"\", \"zerolinecolor\": \"white\"}, \"zaxis\": {\"backgroundcolor\": \"#E5ECF6\", \"gridcolor\": \"white\", \"gridwidth\": 2, \"linecolor\": \"white\", \"showbackground\": true, \"ticks\": \"\", \"zerolinecolor\": \"white\"}}, \"shapedefaults\": {\"line\": {\"color\": \"#2a3f5f\"}}, \"ternary\": {\"aaxis\": {\"gridcolor\": \"white\", \"linecolor\": \"white\", \"ticks\": \"\"}, \"baxis\": {\"gridcolor\": \"white\", \"linecolor\": \"white\", \"ticks\": \"\"}, \"bgcolor\": \"#E5ECF6\", \"caxis\": {\"gridcolor\": \"white\", \"linecolor\": \"white\", \"ticks\": \"\"}}, \"title\": {\"x\": 0.05}, \"xaxis\": {\"automargin\": true, \"gridcolor\": \"white\", \"linecolor\": \"white\", \"ticks\": \"\", \"title\": {\"standoff\": 15}, \"zerolinecolor\": \"white\", \"zerolinewidth\": 2}, \"yaxis\": {\"automargin\": true, \"gridcolor\": \"white\", \"linecolor\": \"white\", \"ticks\": \"\", \"title\": {\"standoff\": 15}, \"zerolinecolor\": \"white\", \"zerolinewidth\": 2}}}, \"xaxis\": {\"anchor\": \"y\", \"domain\": [0.0, 1.0], \"title\": {\"text\": \"0\"}}, \"yaxis\": {\"anchor\": \"x\", \"domain\": [0.0, 1.0], \"title\": {\"text\": \"1\"}}},                        {\"responsive\": true}                    ).then(function(){\n",
       "                            \n",
       "var gd = document.getElementById('e214d3ca-74d5-4f1d-aa1d-b446f608de0a');\n",
       "var x = new MutationObserver(function (mutations, observer) {{\n",
       "        var display = window.getComputedStyle(gd).display;\n",
       "        if (!display || display === 'none') {{\n",
       "            console.log([gd, 'removed!']);\n",
       "            Plotly.purge(gd);\n",
       "            observer.disconnect();\n",
       "        }}\n",
       "}});\n",
       "\n",
       "// Listen for the removal of the full notebook cells\n",
       "var notebookContainer = gd.closest('#notebook-container');\n",
       "if (notebookContainer) {{\n",
       "    x.observe(notebookContainer, {childList: true});\n",
       "}}\n",
       "\n",
       "// Listen for the clearing of the current output cell\n",
       "var outputEl = gd.closest('.output');\n",
       "if (outputEl) {{\n",
       "    x.observe(outputEl, {childList: true});\n",
       "}}\n",
       "\n",
       "                        })                };                });            </script>        </div>"
      ]
     },
     "metadata": {},
     "output_type": "display_data"
    }
   ],
   "source": [
    "from copy import deepcopy\n",
    "\n",
    "layer_df_normed = deepcopy(layer_df)\n",
    "for category in categories:\n",
    "    layer_df_normed[category] = layer_df_normed.apply(lambda row : row[category]/row['category_norm'], axis = 1) \n",
    "    \n",
    "layer_array_normed = layer_df_normed.iloc[:,1:-2].to_numpy()\n",
    "scaled_layer_array_normed = StandardScaler().fit_transform(layer_array_normed)\n",
    "print(scaled_layer_array_normed.shape)\n",
    "     \n",
    "embedding_normed = reducer.fit_transform(scaled_layer_array_normed)\n",
    "embedding_normed.shape\n",
    "\n",
    "\n",
    "fig = px.scatter(\n",
    "    embedding_normed, x=0, y=1,\n",
    ")\n",
    "fig.show()"
   ]
  },
  {
   "cell_type": "code",
   "execution_count": null,
   "metadata": {},
   "outputs": [],
   "source": []
  },
  {
   "cell_type": "code",
   "execution_count": 4,
   "metadata": {},
   "outputs": [
    {
     "data": {
      "text/html": [
       "<div>\n",
       "<style scoped>\n",
       "    .dataframe tbody tr th:only-of-type {\n",
       "        vertical-align: middle;\n",
       "    }\n",
       "\n",
       "    .dataframe tbody tr th {\n",
       "        vertical-align: top;\n",
       "    }\n",
       "\n",
       "    .dataframe thead th {\n",
       "        text-align: right;\n",
       "    }\n",
       "</style>\n",
       "<table border=\"1\" class=\"dataframe\">\n",
       "  <thead>\n",
       "    <tr style=\"text-align: right;\">\n",
       "      <th></th>\n",
       "      <th>species_short</th>\n",
       "      <th>island</th>\n",
       "      <th>culmen_length_mm</th>\n",
       "      <th>culmen_depth_mm</th>\n",
       "      <th>flipper_length_mm</th>\n",
       "      <th>body_mass_g</th>\n",
       "      <th>sex</th>\n",
       "    </tr>\n",
       "  </thead>\n",
       "  <tbody>\n",
       "    <tr>\n",
       "      <th>0</th>\n",
       "      <td>Adelie</td>\n",
       "      <td>Torgersen</td>\n",
       "      <td>39.1</td>\n",
       "      <td>18.7</td>\n",
       "      <td>181.0</td>\n",
       "      <td>3750.0</td>\n",
       "      <td>MALE</td>\n",
       "    </tr>\n",
       "    <tr>\n",
       "      <th>1</th>\n",
       "      <td>Adelie</td>\n",
       "      <td>Torgersen</td>\n",
       "      <td>39.5</td>\n",
       "      <td>17.4</td>\n",
       "      <td>186.0</td>\n",
       "      <td>3800.0</td>\n",
       "      <td>FEMALE</td>\n",
       "    </tr>\n",
       "    <tr>\n",
       "      <th>2</th>\n",
       "      <td>Adelie</td>\n",
       "      <td>Torgersen</td>\n",
       "      <td>40.3</td>\n",
       "      <td>18.0</td>\n",
       "      <td>195.0</td>\n",
       "      <td>3250.0</td>\n",
       "      <td>FEMALE</td>\n",
       "    </tr>\n",
       "    <tr>\n",
       "      <th>3</th>\n",
       "      <td>Adelie</td>\n",
       "      <td>Torgersen</td>\n",
       "      <td>NaN</td>\n",
       "      <td>NaN</td>\n",
       "      <td>NaN</td>\n",
       "      <td>NaN</td>\n",
       "      <td>NaN</td>\n",
       "    </tr>\n",
       "    <tr>\n",
       "      <th>4</th>\n",
       "      <td>Adelie</td>\n",
       "      <td>Torgersen</td>\n",
       "      <td>36.7</td>\n",
       "      <td>19.3</td>\n",
       "      <td>193.0</td>\n",
       "      <td>3450.0</td>\n",
       "      <td>FEMALE</td>\n",
       "    </tr>\n",
       "  </tbody>\n",
       "</table>\n",
       "</div>"
      ],
      "text/plain": [
       "  species_short     island  culmen_length_mm  culmen_depth_mm  \\\n",
       "0        Adelie  Torgersen              39.1             18.7   \n",
       "1        Adelie  Torgersen              39.5             17.4   \n",
       "2        Adelie  Torgersen              40.3             18.0   \n",
       "3        Adelie  Torgersen               NaN              NaN   \n",
       "4        Adelie  Torgersen              36.7             19.3   \n",
       "\n",
       "   flipper_length_mm  body_mass_g     sex  \n",
       "0              181.0       3750.0    MALE  \n",
       "1              186.0       3800.0  FEMALE  \n",
       "2              195.0       3250.0  FEMALE  \n",
       "3                NaN          NaN     NaN  \n",
       "4              193.0       3450.0  FEMALE  "
      ]
     },
     "execution_count": 4,
     "metadata": {},
     "output_type": "execute_result"
    }
   ],
   "source": [
    "penguins = pd.read_csv(\"https://github.com/allisonhorst/palmerpenguins/raw/5b5891f01b52ae26ad8cb9755ec93672f49328a8/data/penguins_size.csv\")\n",
    "penguins.head()"
   ]
  },
  {
   "cell_type": "code",
   "execution_count": 5,
   "metadata": {},
   "outputs": [
    {
     "data": {
      "text/plain": [
       "Adelie       146\n",
       "Gentoo       120\n",
       "Chinstrap     68\n",
       "Name: species_short, dtype: int64"
      ]
     },
     "execution_count": 5,
     "metadata": {},
     "output_type": "execute_result"
    }
   ],
   "source": [
    "penguins = penguins.dropna()\n",
    "penguins.species_short.value_counts()"
   ]
  },
  {
   "cell_type": "code",
   "execution_count": 6,
   "metadata": {},
   "outputs": [],
   "source": [
    "import umap\n",
    "reducer = umap.UMAP()"
   ]
  },
  {
   "cell_type": "code",
   "execution_count": 9,
   "metadata": {},
   "outputs": [],
   "source": [
    "import numpy as np\n",
    "from sklearn.datasets import load_digits\n",
    "from sklearn.model_selection import train_test_split\n",
    "from sklearn.preprocessing import StandardScaler\n",
    "import pandas as pd"
   ]
  },
  {
   "cell_type": "code",
   "execution_count": 10,
   "metadata": {},
   "outputs": [],
   "source": [
    "penguin_data = penguins[\n",
    "    [\n",
    "        \"culmen_length_mm\",\n",
    "        \"culmen_depth_mm\",\n",
    "        \"flipper_length_mm\",\n",
    "        \"body_mass_g\",\n",
    "    ]\n",
    "].values\n",
    "scaled_penguin_data = StandardScaler().fit_transform(penguin_data)"
   ]
  },
  {
   "cell_type": "code",
   "execution_count": 11,
   "metadata": {},
   "outputs": [
    {
     "data": {
      "text/plain": [
       "(334, 4)"
      ]
     },
     "execution_count": 11,
     "metadata": {},
     "output_type": "execute_result"
    }
   ],
   "source": [
    "scaled_penguin_data.shape"
   ]
  },
  {
   "cell_type": "code",
   "execution_count": 12,
   "metadata": {},
   "outputs": [
    {
     "data": {
      "text/plain": [
       "(334, 2)"
      ]
     },
     "execution_count": 12,
     "metadata": {},
     "output_type": "execute_result"
    }
   ],
   "source": [
    "embedding = reducer.fit_transform(scaled_penguin_data)\n",
    "embedding.shape"
   ]
  },
  {
   "cell_type": "code",
   "execution_count": null,
   "metadata": {},
   "outputs": [],
   "source": [
    "rank_type = 'actxgrad'\n",
    "nodes_wide_df = gen_wide_df(rank_type+'_rank',df=nodes_df)"
   ]
  },
  {
   "cell_type": "code",
   "execution_count": 1,
   "metadata": {},
   "outputs": [
    {
     "data": {
      "text/html": [
       "        <script type=\"text/javascript\">\n",
       "        window.PlotlyConfig = {MathJaxConfig: 'local'};\n",
       "        if (window.MathJax) {MathJax.Hub.Config({SVG: {font: \"STIX-Web\"}});}\n",
       "        if (typeof require !== 'undefined') {\n",
       "        require.undef(\"plotly\");\n",
       "        requirejs.config({\n",
       "            paths: {\n",
       "                'plotly': ['https://cdn.plot.ly/plotly-latest.min']\n",
       "            }\n",
       "        });\n",
       "        require(['plotly'], function(Plotly) {\n",
       "            window._Plotly = Plotly;\n",
       "        });\n",
       "        }\n",
       "        </script>\n",
       "        "
      ]
     },
     "metadata": {},
     "output_type": "display_data"
    },
    {
     "name": "stdout",
     "output_type": "stream",
     "text": [
      "possible models to visualizer are:\n",
      "['mnist_resize', 'alexnet_old.tar.gz', 'mnist_old', '.keep', 'mnist', 'old', 'alexnet10', 'letter_mixed_not_trained', 'imagenet10_sparse', 'alexnet_sparse_test', '.DS_Store', 'alexnet_sparse_full_model_10classes', 'alexnet_sparse.tar.gz', 'imagenet10', 'alexnet_sparse', 'alexnet_lucent', 'mnist.tgz', 'alexnet', 'letter_mixed', 'googlenet10_test', '._.DS_Store', 'alexnet_corrupted', 'alexnet.tar.gz']\n",
      "\n",
      "You've chosen to visualize alexnet_sparse\n"
     ]
    },
    {
     "name": "stderr",
     "output_type": "stream",
     "text": [
      "/home/chris/miniconda3/envs/viscnn/lib/python3.7/site-packages/torch/cuda/__init__.py:125: UserWarning:\n",
      "\n",
      "\n",
      "Tesla K40c with CUDA capability sm_35 is not compatible with the current PyTorch installation.\n",
      "The current PyTorch install supports CUDA capabilities sm_37 sm_50 sm_60 sm_61 sm_70 sm_75 compute_37.\n",
      "If you want to use the Tesla K40c GPU with PyTorch, please check the instructions at https://pytorch.org/get-started/locally/\n",
      "\n",
      "\n"
     ]
    },
    {
     "name": "stdout",
     "output_type": "stream",
     "text": [
      "loaded model:\n",
      "AlexNet(\n",
      "  (features): Sequential(\n",
      "    (0): Conv2d(3, 64, kernel_size=(11, 11), stride=(4, 4), padding=(2, 2))\n",
      "    (1): ReLU(inplace=True)\n",
      "    (2): MaxPool2d(kernel_size=3, stride=2, padding=0, dilation=1, ceil_mode=False)\n",
      "    (3): Conv2d(64, 192, kernel_size=(5, 5), stride=(1, 1), padding=(2, 2))\n",
      "    (4): ReLU(inplace=True)\n",
      "    (5): MaxPool2d(kernel_size=3, stride=2, padding=0, dilation=1, ceil_mode=False)\n",
      "    (6): Conv2d(192, 384, kernel_size=(3, 3), stride=(1, 1), padding=(1, 1))\n",
      "    (7): ReLU(inplace=True)\n",
      "    (8): Conv2d(384, 256, kernel_size=(3, 3), stride=(1, 1), padding=(1, 1))\n",
      "    (9): ReLU(inplace=True)\n",
      "    (10): Conv2d(256, 256, kernel_size=(3, 3), stride=(1, 1), padding=(1, 1))\n",
      "    (11): ReLU(inplace=True)\n",
      "    (12): MaxPool2d(kernel_size=3, stride=2, padding=0, dilation=1, ceil_mode=False)\n",
      "  )\n",
      "  (avgpool): AdaptiveAvgPool2d(output_size=(6, 6))\n",
      "  (classifier): Sequential(\n",
      "    (0): Dropout(p=0.5, inplace=False)\n",
      "    (1): Linear(in_features=9216, out_features=4096, bias=True)\n",
      "    (2): ReLU(inplace=True)\n",
      "    (3): Dropout(p=0.5, inplace=False)\n",
      "    (4): Linear(in_features=4096, out_features=4096, bias=True)\n",
      "    (5): ReLU(inplace=True)\n",
      "    (6): Linear(in_features=4096, out_features=1000, bias=True)\n",
      "  )\n",
      ")\n",
      "loading misc graph data\n"
     ]
    }
   ],
   "source": [
    "\n",
    "\n",
    "#fetch command line argument (prepped model)\n",
    "#%reset\n",
    "import sys\n",
    "import os\n",
    "from copy import deepcopy\n",
    "import pickle\n",
    "import torch\n",
    "import plotly.offline as py\n",
    "import plotly.graph_objs as go\n",
    "\n",
    "os.chdir('/mnt/data/chris/dropbox/Research-Hamblin/Projects/cnn_subgraph_visualizer/')\n",
    "\n",
    "\n",
    "\n",
    "sys.path.insert(0, os.path.abspath('./prep_model_scripts/'))\n",
    "sys.path.insert(0, os.path.abspath('./visualizer_scripts/'))\n",
    "from visualizer_helper_functions import *\n",
    "from contrast_helper_functions import *\n",
    "from featureviz_helper_functions import *\n",
    "from subgraph_helper_functions import *\n",
    "from ablation_functions import *\n",
    "from receptive_field import *\n",
    "from dissected_Conv2d import *\n",
    "from copy import deepcopy\n",
    "\n",
    "\n",
    "py.init_notebook_mode(connected=True)   #jupyter notebook only\n",
    "\n",
    "prepped_model_folder = 'alexnet_sparse'    #set this to a subfolder of prunned_models\n",
    "\n",
    "full_prepped_model_folder = os.path.abspath('prepped_models/%s'%prepped_model_folder)\n",
    "\n",
    "possible_models = os.listdir('prepped_models')\n",
    "print('possible models to visualizer are:')\n",
    "print(possible_models)\n",
    "\n",
    "print('\\nYou\\'ve chosen to visualize %s'%prepped_model_folder)\n",
    "\n",
    "\n",
    "sys.path.insert(0,'prepped_models/%s'%prepped_model_folder)\n",
    "\n",
    "import prep_model_params_used as prep_model_params\n",
    "\n",
    "params = {}\n",
    "params['prepped_model'] = prepped_model_folder\n",
    "params['prepped_model_path'] = full_prepped_model_folder\n",
    "params['device'] = 'cuda:0'\n",
    "params['deepviz_neuron'] = True\n",
    "params['deepviz_edge'] = False\n",
    "\n",
    "#Parameters\n",
    "\n",
    "#Non-GUI parameters\n",
    "\n",
    "#deepviz\n",
    "params['deepviz_param'] = None\n",
    "params['deepviz_optim'] = None\n",
    "params['deepviz_transforms'] = None\n",
    "params['deepviz_image_size'] = prep_model_params.deepviz_image_size\n",
    "\n",
    "#backend\n",
    "params['cuda'] = prep_model_params.cuda    #use gpu acceleration when running model forward\n",
    "params['input_image_directory'] = prep_model_params.input_img_path+'/'   #path to directory of imput images you want fed through the network\n",
    "params['preprocess'] = prep_model_params.preprocess     #torchvision transfrom to pass input images through\n",
    "params['label_file_path'] = prep_model_params.label_file_path\n",
    "params['criterion'] = prep_model_params.criterion\n",
    "params['rank_img_path'] = prep_model_params.rank_img_path\n",
    "params['num_workers'] = prep_model_params.num_workers\n",
    "params['seed'] = prep_model_params.seed\n",
    "params['batch_size'] = prep_model_params.batch_size\n",
    "#params['dynamic_act_cache_num'] = 4  #max number of input image activations 'dynamic_activations' will have simultaneously\n",
    "\n",
    " \n",
    "#aesthetic \n",
    "\n",
    "params['node_size'] = 12\n",
    "params['edge_size'] = 1\n",
    "params['max_node_inputs'] = 10    #there is a dropdown showing the top weighted edge inputs to nodes, how many maps in dropdown?\n",
    "params['layer_colors'] = ['rgba(31,119,180,', \n",
    "                          'rgba(255,127,14,',\n",
    "                          'rgba(44,160,44,', \n",
    "                          'rgba(214,39,40,',\n",
    "                          'rgba(39, 208, 214,', \n",
    "                          'rgba(242, 250, 17,',\n",
    "                          'rgba(196, 94, 255,',\n",
    "                          'rgba(193, 245, 5,',\n",
    "                          'rgba(245, 85, 5,',\n",
    "                          'rgba(5, 165, 245,',\n",
    "                          'rgba(245, 5, 105,',\n",
    "                          'rgba(218, 232, 23,',\n",
    "                          'rgba(148, 23, 232,',\n",
    "                          'rgba(23, 232, 166,',]\n",
    "\n",
    "\n",
    "#visibility\n",
    "\n",
    "params['show_ablations'] = False    #show network ablations modules\n",
    "params['show_act_map_means'] = False #show mean value under activation maps\n",
    "params['show_image_manip'] = False\n",
    "\n",
    "#GUI parameters initialization (these parameters can be set in the GUI, but what values should they be initialized to?)\n",
    "target_category = 'overall'     #category of images edges and nodes are weighted based on (which subgraph) \n",
    "rank_type = 'actxgrad'       #weighting criterion (actxgrad, act, grad, or weight)\n",
    "projection = 'MDS smooth'           #how nodes within a layer are projected into the 2d plane (MDS or Grid)\n",
    "edge_threshold = [.7,1]     #what range do edge ranks need to be in to be visualized\n",
    "node_threshold = [.4,1]     #only relevant for hierarchical subgraph \n",
    "\n",
    "#### DONT EDIT BELOW initializations\n",
    "\n",
    "figure_init = go.Figure()\n",
    "figure_init.add_trace(go.Scatter(\n",
    "            x=[],\n",
    "            y=[]))\n",
    "figure_init.update_layout(xaxis=dict(visible=False),\n",
    "                  yaxis=dict(visible=False),\n",
    "                  annotations = [dict(text=\"No Inputs\",\n",
    "                                      xref=\"paper\",\n",
    "                                      yref=\"paper\",\n",
    "                                      showarrow=False,\n",
    "                                      font=dict(size=28))]\n",
    "                 )\n",
    "\n",
    "params['max_edge_weight'] = 1  #for the edge threshold slider, this dynamically adjusted its max value to max edge rank\n",
    "                     #before there were multiple rank criterions, which made things confusing\n",
    "                     #so well just fix it to 1 for now\n",
    "        \n",
    "        \n",
    "display_dict = {True:'block',False:'none'}\n",
    "\n",
    "\n",
    "#load Model\n",
    "\n",
    "model_dis = dissect_model(deepcopy(prep_model_params.model),store_ranks=True,clear_ranks=True,cuda=params['cuda'],device=params['device']) #version of model with accessible preadd activations in Conv2d modules \n",
    "if params['cuda']:\n",
    "    model_dis.cuda()\n",
    "model_dis = model_dis.eval()    \n",
    "model_dis.to(params['device'])\n",
    "\n",
    "print('loaded model:')\n",
    "print(prep_model_params.model)\n",
    "        \n",
    "#del prep_model_params.model\n",
    "model = prep_model_params.model\n",
    "if params['cuda']:\n",
    "    model.cuda()\n",
    "model = model.eval()\n",
    "model.to(params['device'])\n",
    "\n",
    "\n",
    "#load misc graph data\n",
    "print('loading misc graph data')\n",
    "misc_data = pickle.load(open('./prepped_models/%s/misc_graph_data.pkl'%prepped_model_folder,'rb'))\n",
    "params['layer_nodes'] = misc_data['layer_nodes']\n",
    "params['num_layers'] = misc_data['num_layers']\n",
    "params['num_nodes'] = misc_data['num_nodes']\n",
    "params['categories'] = misc_data['categories']\n",
    "params['num_img_chan'] = misc_data['num_img_chan']\n",
    "params['imgnode_positions'] = misc_data['imgnode_positions']\n",
    "params['imgnode_colors'] = misc_data['imgnode_colors']\n",
    "params['imgnode_names'] = misc_data['imgnode_names']\n",
    "params['prepped_model_path'] = full_prepped_model_folder\n",
    "params['ranks_data_path'] = full_prepped_model_folder+'/ranks/'\n",
    "\n",
    "\n",
    "\n",
    "\n"
   ]
  },
  {
   "cell_type": "code",
   "execution_count": 15,
   "metadata": {},
   "outputs": [
    {
     "data": {
      "text/plain": [
       "'neuron'"
      ]
     },
     "execution_count": 15,
     "metadata": {},
     "output_type": "execute_result"
    }
   ],
   "source": [
    "d = {True:'neuron',False:'channel'}\n",
    "\n",
    "d[True]"
   ]
  },
  {
   "cell_type": "code",
   "execution_count": 3,
   "metadata": {},
   "outputs": [],
   "source": [
    "import pickle\n",
    "# def get_model_activations_from_image(image_path, model_dis, params):\n",
    "# \tprint('running model to fetch activations')\n",
    "# \tcuda = params['cuda']\n",
    "# \tmodel_dis = set_across_model(model_dis,'target_node',None)\n",
    "# \tif 'device' in params.keys():\n",
    "# \t\tmodel_dis.to(params['device'])\n",
    "# \t#image loading \n",
    "# \timage = preprocess_image(image_path,params)\n",
    "# \timage_name = image_path.split('/')[-1]\n",
    "# \t#pass image through model\n",
    "# \toutput = model_dis(image)\n",
    "# \t#recursively fectch activations in conv2d_dissected modules\n",
    "# \tlayer_activations = get_activations_from_dissected_Conv2d_modules(model_dis)\n",
    "# \t#return correctly formatted activation dict\n",
    "# \treturn act_array_2_imgname_dict(layer_activations,[image_name])\n",
    "def object_2_str(obj,prefix):\n",
    "    if isinstance(obj,str):\n",
    "        return obj\n",
    "    if isinstance(obj,list):\n",
    "        return obj\n",
    "    if obj is None:\n",
    "        return('none')\n",
    "    else:\n",
    "        s= inspect.getsource(obj).replace(' ','').replace(prefix,'').strip()\n",
    "        return inspect.getsource(obj)\n",
    "\n",
    "\n",
    "    \n",
    "##This function is horribly unoptimized, should not have to run through dissected model, and certainly should have to run \n",
    "##one image at a time\n",
    "def gen_deepviz_neuron_activations(model_dis,params):\n",
    "    cuda = params['cuda']\n",
    "    model_dis = set_across_model(model_dis,'target_node',None)\n",
    "    if 'device' in params.keys():\n",
    "        model_dis.to(params['device'])\n",
    "    activations = []\n",
    "    \n",
    "    file_path = params['prepped_model_path']+'/visualizations/images.csv'\n",
    "    images_df = pd.read_csv(file_path,dtype=str)\n",
    "    for layer_num in range(len(params['layer_nodes'])):\n",
    "        #initialize activation arrays to zeros\n",
    "        activations.append(np.zeros([len(params['layer_nodes'][layer_num][1]),len(params['layer_nodes'][layer_num][1])]))\n",
    "        for within_layer_nodeid, nodeid in enumerate(params['layer_nodes'][layer_num][1]):\n",
    "            objective_str = gen_objective_str(str(nodeid),model,params)\n",
    "            parametrizer = params['deepviz_param']\n",
    "            optimizer = params['deepviz_optim']\n",
    "            transforms = params['deepviz_transforms']\n",
    "            image_size = params['deepviz_image_size']\n",
    "            param_str = object_2_str(parametrizer,\"params['deepviz_param']=\")\n",
    "            optimizer_str = object_2_str(optimizer,\"params['deepviz_optim']=\")\n",
    "            transforms_str = object_2_str(transforms,\"params['deepviz_transforms']=\")\n",
    "            df_sel = images_df.loc[(images_df['targetid'] == str(nodeid)) & (images_df['objective'] == objective_str) & (images_df['parametrizer'] == param_str) & (images_df['optimizer'] == optimizer_str) & (images_df['transforms'] == transforms_str) & (images_df['neuron'] == 'True')]\n",
    "            image_name = df_sel.iloc[0]['image_name']\n",
    "            print('found image %s'%image_name)\n",
    "            image_path = params['prepped_model_path']+'/visualizations/images/neuron/%s'%image_name\n",
    "            image = preprocess_image(image_path,params)\n",
    "            output = model_dis(image)\n",
    "            layer_activations = get_activations_from_dissected_Conv2d_modules(model_dis)\n",
    "            target_pixels = np.unravel_index(np.argmax(layer_activations['nodes'][layer_num][0][within_layer_nodeid], axis=None), layer_activations['nodes'][layer_num][0][within_layer_nodeid].shape)\n",
    "            for other_within_layer_nodeid, other_nodeid in enumerate(params['layer_nodes'][layer_num][1]):\n",
    "                activations[-1][int(other_within_layer_nodeid)][within_layer_nodeid] = layer_activations['nodes'][layer_num][0][other_within_layer_nodeid][target_pixels[0]][target_pixels[1]]\n",
    "    pickle.dump(activations,open(params['prepped_model_path']+'/deepviz_activations_for_projection.pkl','wb'))            \n",
    "    return activations\n",
    "            \n",
    "# def run_deepviz_through_model(model,edgeid,params):\n",
    "#     model = set_across_model(model,'target_node',None)\n",
    "#     objective_str = gen_objective_str(edgeid,model,params)\n",
    "#     file_path = params['prepped_model_path']+'/visualizations/images.csv'\n",
    "#     parametrizer = params['deepviz_param']\n",
    "#     optimizer = params['deepviz_optim']\n",
    "#     transforms = params['deepviz_transforms']\n",
    "#     image_size = params['deepviz_image_size']\n",
    "#     neuron = params['deepviz_neuron']\n",
    "\n",
    "#     objective = gen_objective(edgeid,model,params,neuron)\n",
    "#     param_str = object_2_str(parametrizer,\"params['deepviz_param']=\")\n",
    "#     optimizer_str = object_2_str(optimizer,\"params['deepviz_optim']=\")\n",
    "#     transforms_str = object_2_str(transforms,\"params['deepviz_transforms']=\")\n",
    "#     df = pd.read_csv(file_path,dtype=str)\n",
    "\n",
    "#     nodeid = edgeid.split('-')[0]\n",
    "#     if 'r' in edgeid or 'g' in edgeid or 'b' in edgeid or 'gs' in edgeid:\n",
    "#         df_sel = df.loc[(df['targetid'] == str(edgeid)) & (df['objective'] == objective_str) & (df['parametrizer'] == param_str) & (df['optimizer'] == optimizer_str) & (df['transforms'] == transforms_str) & (df['neuron'] == str(neuron))]\n",
    "#         if len(df_sel) == 0:\n",
    "#             print('deepviz image not found for node input %s, generating . . .'%edgeid)\n",
    "#             #image_name = 'deepviz_'+str(targetid)+'_'+objective+'_'+str(time.time())+'.jpg'\n",
    "#             image_name = str(edgeid)+'_'+objective_str+'_'+str(time.time())+'.jpg'\n",
    "#             gen_visualization(model,image_name,objective,parametrizer,optimizer,transforms,image_size,neuron,params) \n",
    "#             with open(file_path, 'a') as csv:\n",
    "#                 csv.write(','.join([image_name,str(edgeid),objective_str,param_str,optimizer_str,transforms_str,str(neuron)])+'\\n') \n",
    "#         else:       \n",
    "#             print('found pre-generated edge image')\n",
    "#             image_name = df_sel.iloc[0]['image_name']"
   ]
  },
  {
   "cell_type": "code",
   "execution_count": 4,
   "metadata": {},
   "outputs": [],
   "source": [
    "activations = pickle.load(open(params['prepped_model_path']+'/deepviz_activations_for_projection.pkl','rb'))"
   ]
  },
  {
   "cell_type": "code",
   "execution_count": 5,
   "metadata": {},
   "outputs": [
    {
     "name": "stdout",
     "output_type": "stream",
     "text": [
      "0\n",
      "1\n",
      "2\n",
      "3\n",
      "4\n"
     ]
    }
   ],
   "source": [
    "import umap\n",
    "\n",
    "from sklearn.datasets import load_digits\n",
    "from sklearn.model_selection import train_test_split\n",
    "from sklearn.preprocessing import StandardScaler\n",
    "\n",
    "\n",
    "reducer = umap.UMAP()\n",
    "\n",
    "embeddings = []\n",
    "\n",
    "for i, layer in enumerate(activations):\n",
    "    print(i)\n",
    "    layer_scaled = StandardScaler().fit_transform(layer)\n",
    "    embedding = reducer.fit_transform(layer_scaled)\n",
    "    embeddings.append(embedding)\n",
    "    \n"
   ]
  },
  {
   "cell_type": "code",
   "execution_count": 6,
   "metadata": {},
   "outputs": [
    {
     "data": {
      "application/vnd.plotly.v1+json": {
       "config": {
        "plotlyServerURL": "https://plot.ly"
       },
       "data": [
        {
         "hovertemplate": "0=%{x}<br>1=%{y}<extra></extra>",
         "legendgroup": "",
         "marker": {
          "color": "#636efa",
          "symbol": "circle"
         },
         "mode": "markers",
         "name": "",
         "orientation": "v",
         "showlegend": false,
         "type": "scatter",
         "x": [
          -0.6184415817260742,
          -0.15615330636501312,
          -3.881903886795044,
          2.2731592655181885,
          -4.354866027832031,
          -3.275136709213257,
          -0.6397287249565125,
          -2.077695608139038,
          -3.6835389137268066,
          -2.7887163162231445,
          -4.392459392547607,
          0.4403066039085388,
          -3.4283692836761475,
          -0.016308831050992012,
          -3.5964934825897217,
          1.845933198928833,
          1.2167290449142456,
          -1.2723513841629028,
          -1.0972992181777954,
          -2.7412965297698975,
          0.50831139087677,
          -2.3680174350738525,
          0.13520358502864838,
          0.4523742198944092,
          -1.4507278203964233,
          2.390547513961792,
          0.7028346657752991,
          1.3716200590133667,
          1.169961929321289,
          -1.774042010307312,
          -2.716426134109497,
          1.7048369646072388,
          -4.71572208404541,
          -1.3448344469070435,
          -1.574111819267273,
          -0.6378747224807739,
          -3.1215333938598633,
          0.30181965231895447,
          -2.633859395980835,
          -0.9002769589424133,
          -3.957812547683716,
          0.7720134258270264,
          1.0034236907958984,
          -0.5234658122062683,
          -1.318530559539795,
          -2.5085222721099854,
          -0.05324653908610344,
          -0.7559264898300171,
          -0.9886868000030518,
          -0.3978389501571655,
          -1.3872536420822144,
          -1.6304042339324951,
          -3.8208444118499756,
          0.031705353409051895,
          -2.3317790031433105,
          -5.201381683349609,
          0.5125197768211365,
          -0.11143545061349869,
          -0.3732791841030121,
          2.1646382808685303,
          -0.007363001350313425,
          -5.018697738647461,
          1.2612186670303345,
          -1.822269082069397,
          -3.0380866527557373,
          -1.9404422044754028,
          -2.606981039047241,
          -1.9583462476730347,
          -1.558173418045044,
          -0.21507076919078827,
          -0.7545976042747498,
          0.054671719670295715,
          3.0547399520874023,
          -2.4048075675964355,
          0.3126646876335144,
          -0.1616045981645584,
          -0.957168698310852,
          -1.488660216331482,
          -0.2677740752696991,
          -0.0560055673122406,
          2.067411184310913,
          -0.8317480087280273,
          -1.5090292692184448,
          2.480577230453491,
          -2.080936908721924,
          3.057903528213501,
          -3.6361632347106934,
          0.3622821271419525,
          -2.609501361846924,
          0.5940071940422058,
          -0.44500893354415894,
          -1.0380189418792725,
          -1.9800618886947632,
          -4.924902439117432,
          -1.3681135177612305,
          0.7981884479522705,
          0.7351664304733276,
          -1.6335840225219727,
          -3.2404046058654785,
          -1.5546846389770508,
          -0.42772069573402405,
          2.1043381690979004,
          2.3098983764648438,
          -1.5243536233901978,
          -4.1570258140563965,
          -1.7023946046829224,
          0.8372281789779663,
          -2.286496162414551,
          -5.11016321182251,
          2.237732410430908,
          -4.630180835723877,
          -0.8299515247344971,
          1.9354946613311768,
          -4.16167688369751,
          -0.23513756692409515,
          -2.3569695949554443,
          1.2145498991012573,
          1.3412551879882812,
          -2.8072614669799805,
          -3.4777579307556152,
          -2.380544424057007,
          -4.861819267272949,
          1.6699682474136353,
          -1.7965751886367798,
          -1.7580280303955078,
          -1.4764431715011597,
          -0.7520070672035217,
          -1.4565092325210571,
          -0.5931992530822754,
          -1.2479676008224487,
          0.47148096561431885,
          2.6686558723449707,
          -3.251087188720703,
          -1.8448785543441772,
          -0.035560086369514465,
          0.008790693245828152,
          -1.9393435716629028,
          -1.6299021244049072,
          0.3474937081336975,
          -1.4623003005981445,
          2.726996898651123,
          -1.9423365592956543,
          -1.4145994186401367,
          -4.895078659057617,
          -1.0933939218521118,
          -1.3840171098709106,
          -5.147762775421143,
          0.7684004902839661,
          -0.28862521052360535,
          0.13614189624786377,
          -2.0709328651428223,
          -2.792029857635498,
          -0.6582411527633667,
          1.5645686388015747,
          1.9774407148361206,
          0.33172607421875,
          2.489809989929199,
          -2.7020249366760254,
          1.8916393518447876,
          -2.051513671875,
          -1.9299618005752563,
          -3.3492143154144287,
          2.145026922225952,
          -0.7410679459571838,
          -1.4366410970687866,
          -2.0373895168304443,
          -1.0497939586639404,
          -3.681826591491699,
          -1.3536274433135986,
          -2.545182466506958,
          2.9904391765594482,
          1.2072948217391968,
          -0.5516751408576965,
          0.46419695019721985,
          3.0314950942993164,
          -1.3929595947265625,
          -2.9894282817840576,
          1.3030089139938354,
          1.9124430418014526,
          0.5402618050575256,
          -4.0016961097717285,
          0.6542243361473083,
          1.21431565284729,
          -0.4894911050796509,
          1.7928146123886108,
          1.0862756967544556,
          2.618833303451538,
          0.5095236897468567,
          -0.522076427936554,
          -2.646474599838257,
          -0.8217599391937256,
          2.021775722503662,
          2.4958715438842773,
          -0.6444478631019592,
          2.002545118331909,
          1.283026933670044,
          -4.741322994232178,
          -1.8592582941055298,
          -2.31839656829834,
          -0.6252670288085938,
          -3.3181352615356445,
          -0.04238109290599823,
          -0.7922816276550293,
          -2.590047597885132,
          1.1712145805358887,
          1.1979467868804932,
          0.774339497089386,
          1.8893805742263794,
          1.3491171598434448,
          -1.1949126720428467,
          0.9884634017944336,
          -2.4975945949554443,
          1.7405155897140503,
          -3.8130927085876465,
          2.2936089038848877,
          -2.8415722846984863,
          -1.177083134651184,
          1.6368061304092407,
          -3.147294044494629,
          -5.152846813201904,
          -2.664426803588867,
          2.3258464336395264,
          -0.9624481201171875,
          -4.142223358154297,
          -4.6239495277404785,
          2.036349296569824,
          1.3474273681640625,
          1.9035354852676392,
          1.2891175746917725,
          0.6241862177848816,
          -2.9289793968200684,
          0.6891226768493652,
          3.0101089477539062,
          -5.148135185241699,
          1.531641960144043,
          -3.3550033569335938,
          -3.390019416809082,
          1.1028441190719604,
          2.0878870487213135,
          -1.6731756925582886,
          -0.15175388753414154,
          -1.4380027055740356,
          1.6259499788284302,
          1.419430136680603,
          -2.91524338722229,
          2.9452171325683594,
          0.3966808617115021,
          3.1182684898376465,
          2.895378589630127,
          0.15817756950855255,
          -0.664932370185852,
          -1.3644384145736694,
          1.862249732017517,
          -2.8622663021087646,
          1.34938383102417,
          2.6728250980377197,
          -0.25256383419036865,
          0.5028016567230225,
          -2.1795847415924072,
          -4.407714366912842,
          -3.2257657051086426,
          -0.6449287533760071,
          -0.09590137004852295,
          2.2280006408691406,
          -3.5075886249542236,
          2.7170326709747314,
          -4.683051586151123,
          1.5268664360046387,
          -1.9325811862945557,
          2.1241307258605957,
          1.162291169166565,
          0.007459715008735657,
          -1.2853741645812988,
          -0.7959319353103638,
          -2.0970540046691895,
          -4.215421676635742,
          1.304214596748352,
          0.3600314259529114,
          -2.1024043560028076,
          -1.230546474456787,
          0.09653083980083466,
          0.8600153923034668,
          0.3169894516468048,
          2.247354030609131,
          -0.9660903811454773,
          -1.64138925075531,
          -4.75450325012207,
          2.1223065853118896,
          1.9563193321228027,
          2.473090410232544,
          1.5959659814834595,
          0.7741950750350952,
          -2.6715497970581055,
          -3.9182004928588867,
          -1.702810525894165,
          -1.632825493812561,
          -1.7420026063919067,
          -0.2745281755924225,
          1.4075613021850586,
          1.9968739748001099,
          0.12720927596092224,
          3.157916307449341,
          -0.8865768313407898,
          -0.9209424257278442,
          0.6882026195526123,
          1.8374521732330322,
          3.101269245147705,
          -0.5701904296875,
          1.1838982105255127,
          -0.005672310944646597,
          0.5286085605621338,
          0.9383977055549622,
          -2.262551784515381,
          0.29066532850265503,
          -0.4792243242263794,
          -2.144901990890503,
          -1.9627536535263062,
          -2.2319531440734863,
          2.143799066543579,
          -2.611961603164673,
          1.2342242002487183,
          0.11774935573339462,
          -1.9821878671646118,
          -2.0312728881835938,
          -1.6836464405059814,
          2.3497986793518066,
          -5.195205211639404,
          -4.446231842041016,
          2.2847204208374023,
          -1.5324856042861938,
          -3.281254768371582,
          -1.041338324546814,
          -3.316765546798706,
          0.2827886939048767,
          -2.866053581237793,
          1.6259956359863281,
          1.0247951745986938,
          1.275693655014038,
          3.0064125061035156,
          -1.7588309049606323,
          0.5189794301986694,
          -3.5944130420684814,
          1.5081101655960083,
          -5.242868423461914,
          -0.05841977149248123,
          0.8286766409873962,
          -0.06522427499294281,
          0.792492687702179,
          -1.593658208847046,
          0.028012078255414963,
          -0.9525206089019775,
          0.2113889753818512,
          1.9228909015655518,
          2.0290701389312744,
          1.955845832824707,
          -1.915574312210083,
          -0.5240401029586792,
          1.2533726692199707,
          -1.6547436714172363,
          2.7811129093170166,
          3.0992071628570557,
          1.12204110622406,
          -0.28086140751838684,
          -0.979928731918335,
          -1.3233234882354736,
          -3.496579170227051,
          -2.407231092453003,
          2.6740200519561768,
          0.25576844811439514,
          -2.561937093734741,
          -1.5544451475143433,
          -2.33262300491333,
          -1.2160789966583252,
          -1.2804510593414307,
          -2.4038918018341064,
          1.061607003211975,
          0.37843677401542664,
          -4.934759140014648,
          -1.8379381895065308,
          -0.8090825080871582,
          -0.4120057225227356,
          -2.8273327350616455,
          -2.100261926651001,
          -3.170070171356201
         ],
         "xaxis": "x",
         "y": [
          4.583487510681152,
          4.7821245193481445,
          6.836057662963867,
          4.331284523010254,
          6.9293293952941895,
          5.981372356414795,
          5.490123271942139,
          4.22344446182251,
          5.6017842292785645,
          5.995981693267822,
          7.030672550201416,
          3.5567855834960938,
          6.951307773590088,
          6.366667747497559,
          6.974145889282227,
          3.977560043334961,
          2.6537864208221436,
          5.248702049255371,
          6.234073638916016,
          7.0656538009643555,
          5.338573455810547,
          5.753256797790527,
          3.3137900829315186,
          4.407299041748047,
          5.84157133102417,
          2.2477002143859863,
          5.851397514343262,
          2.9479055404663086,
          3.719954252243042,
          5.662569522857666,
          6.260003566741943,
          4.447407245635986,
          6.786894798278809,
          5.071496963500977,
          5.701048851013184,
          4.284048080444336,
          6.227513313293457,
          5.725861549377441,
          7.138751029968262,
          5.161529541015625,
          6.407466888427734,
          3.5440218448638916,
          3.0215797424316406,
          4.5446906089782715,
          3.7367992401123047,
          6.71813440322876,
          4.663321018218994,
          6.292238235473633,
          6.068456172943115,
          5.399916648864746,
          4.474679470062256,
          4.651876449584961,
          5.740091323852539,
          5.542694568634033,
          5.855767726898193,
          6.8372273445129395,
          5.793753147125244,
          6.644684314727783,
          4.088493824005127,
          4.5768818855285645,
          3.9855334758758545,
          6.696371078491211,
          3.8680810928344727,
          5.614273548126221,
          6.862849235534668,
          6.306678771972656,
          6.573713779449463,
          5.928951740264893,
          7.191504001617432,
          5.338459491729736,
          6.035739898681641,
          4.963651180267334,
          2.572676658630371,
          5.985409736633301,
          3.892331600189209,
          4.910900592803955,
          4.860629558563232,
          5.592702865600586,
          5.163187026977539,
          5.3747076988220215,
          4.796250343322754,
          5.190565586090088,
          5.4194440841674805,
          3.282374858856201,
          6.063042640686035,
          3.0801498889923096,
          7.055117130279541,
          3.72395658493042,
          4.6986083984375,
          6.192196369171143,
          6.831409454345703,
          6.707633018493652,
          6.066214561462402,
          6.712942123413086,
          6.389952182769775,
          5.411588668823242,
          5.2964043617248535,
          7.146945953369141,
          7.072795391082764,
          4.563348293304443,
          4.043469429016113,
          4.06710147857666,
          2.1449453830718994,
          4.047136306762695,
          6.892058849334717,
          6.325507164001465,
          3.3940048217773438,
          6.304261207580566,
          6.831358432769775,
          3.0205016136169434,
          6.710305213928223,
          4.902891159057617,
          3.3986318111419678,
          6.690632343292236,
          4.082629203796387,
          6.574479579925537,
          3.417766809463501,
          2.814676284790039,
          6.6691060066223145,
          6.456589698791504,
          5.356167793273926,
          6.7790422439575195,
          3.1196231842041016,
          5.1328349113464355,
          6.396627902984619,
          3.6664655208587646,
          4.694629192352295,
          5.015842914581299,
          5.0523295402526855,
          5.753911972045898,
          4.401421070098877,
          2.6802291870117188,
          6.401506423950195,
          6.7407145500183105,
          6.514893531799316,
          6.717604637145996,
          5.66693639755249,
          4.693021774291992,
          6.0319952964782715,
          5.68248987197876,
          2.2787365913391113,
          6.542271614074707,
          6.183557987213135,
          6.543366432189941,
          6.794034004211426,
          5.968371868133545,
          6.848825454711914,
          3.9617385864257812,
          5.407645225524902,
          6.552559852600098,
          4.233348846435547,
          6.9244771003723145,
          6.99854850769043,
          2.314044713973999,
          4.0161004066467285,
          5.492783069610596,
          3.4365053176879883,
          6.247111797332764,
          2.2620067596435547,
          6.840385913848877,
          4.323916912078857,
          6.849328994750977,
          2.4569780826568604,
          4.484489440917969,
          4.000433444976807,
          5.429490089416504,
          5.6624226570129395,
          6.7965593338012695,
          3.9761083126068115,
          6.365589141845703,
          2.964553117752075,
          3.9910523891448975,
          6.808848857879639,
          3.3852386474609375,
          3.47091007232666,
          4.034573554992676,
          6.295504093170166,
          3.2503855228424072,
          3.7953710556030273,
          6.187410831451416,
          6.867542266845703,
          6.274558067321777,
          4.628333568572998,
          6.19555139541626,
          4.138914108276367,
          3.994722843170166,
          2.4990158081054688,
          3.92264461517334,
          4.074649333953857,
          4.970736026763916,
          4.123098850250244,
          3.7505548000335693,
          3.13012957572937,
          5.655149459838867,
          2.326237678527832,
          3.928255081176758,
          6.950944900512695,
          5.729237079620361,
          5.051250457763672,
          3.777045249938965,
          6.212954044342041,
          4.342451095581055,
          5.577660083770752,
          6.490403652191162,
          4.262915134429932,
          3.385289430618286,
          6.060251235961914,
          3.3967208862304688,
          2.6524417400360107,
          6.552745819091797,
          4.043727874755859,
          6.936343669891357,
          2.475177526473999,
          5.700625896453857,
          3.4235403537750244,
          6.793494701385498,
          6.497618198394775,
          4.256709575653076,
          6.4328203201293945,
          6.7894110679626465,
          6.947218418121338,
          2.386681318283081,
          5.337084770202637,
          6.728157043457031,
          6.939291000366211,
          3.720440149307251,
          2.941331148147583,
          2.056490182876587,
          3.3846476078033447,
          4.163259983062744,
          6.5324859619140625,
          3.388702630996704,
          2.582228899002075,
          6.770066261291504,
          3.569993734359741,
          6.869467735290527,
          6.459237098693848,
          2.9909989833831787,
          3.301034927368164,
          3.871100664138794,
          5.060910701751709,
          5.5360941886901855,
          2.335689067840576,
          2.4836881160736084,
          5.150298118591309,
          3.1720757484436035,
          6.331284999847412,
          2.7904131412506104,
          2.4354135990142822,
          4.545971870422363,
          4.476926803588867,
          5.38606071472168,
          2.288963794708252,
          5.299313068389893,
          3.622239351272583,
          3.6992197036743164,
          5.802862644195557,
          6.124372959136963,
          6.814986705780029,
          6.8460564613342285,
          6.80764627456665,
          5.056018829345703,
          4.266583442687988,
          3.1596028804779053,
          6.5588788986206055,
          3.454805374145508,
          6.4972333908081055,
          3.1752071380615234,
          5.652029514312744,
          4.760067462921143,
          3.8883261680603027,
          3.2387888431549072,
          6.447689533233643,
          4.258626937866211,
          6.754549026489258,
          6.854167461395264,
          3.3452818393707275,
          3.58402419090271,
          5.557858467102051,
          5.128743648529053,
          4.818953990936279,
          2.8571977615356445,
          4.368704795837402,
          2.304476499557495,
          5.841349124908447,
          6.2572150230407715,
          6.868641376495361,
          2.3184783458709717,
          3.5995192527770996,
          3.830371618270874,
          3.9038028717041016,
          3.688352584838867,
          5.848080158233643,
          6.1708664894104,
          5.3691301345825195,
          6.093995571136475,
          7.189914703369141,
          4.571078777313232,
          4.894786357879639,
          3.7997748851776123,
          3.18481707572937,
          3.0946199893951416,
          4.899712085723877,
          4.788797855377197,
          3.878751516342163,
          2.6675772666931152,
          3.0586764812469482,
          5.5861124992370605,
          3.191650390625,
          5.092599391937256,
          4.1761474609375,
          3.088521718978882,
          5.26568603515625,
          6.001572132110596,
          6.366822242736816,
          5.088469505310059,
          5.903323650360107,
          6.518125534057617,
          3.1577095985412598,
          6.051152229309082,
          3.604977607727051,
          4.6149067878723145,
          5.893428802490234,
          7.288872718811035,
          5.902827262878418,
          3.6487629413604736,
          6.832035541534424,
          7.003326416015625,
          2.959038734436035,
          4.179689884185791,
          6.658113956451416,
          3.8294808864593506,
          6.648602485656738,
          3.2506861686706543,
          6.696753978729248,
          5.008493900299072,
          5.805634021759033,
          2.6254544258117676,
          2.657243251800537,
          6.01115083694458,
          6.202620029449463,
          6.405641078948975,
          4.165157794952393,
          6.8891119956970215,
          6.593278408050537,
          6.188706398010254,
          3.552835702896118,
          3.5717835426330566,
          5.199594497680664,
          3.399494171142578,
          4.715832710266113,
          4.959530353546143,
          3.910339593887329,
          4.827295780181885,
          3.961085081100464,
          6.718457221984863,
          4.871402740478516,
          2.8820502758026123,
          6.921181678771973,
          2.4747490882873535,
          3.358628273010254,
          2.5271530151367188,
          5.624612331390381,
          5.618529796600342,
          5.874192237854004,
          6.335782527923584,
          6.57009220123291,
          3.230696439743042,
          4.386379718780518,
          6.984776020050049,
          4.119246006011963,
          5.83473014831543,
          3.808190107345581,
          4.3836894035339355,
          6.108964920043945,
          3.6481997966766357,
          5.060095310211182,
          6.807536602020264,
          6.102644443511963,
          5.198939323425293,
          4.151108741760254,
          6.196457862854004,
          6.4786763191223145,
          7.0170369148254395
         ],
         "yaxis": "y"
        }
       ],
       "layout": {
        "legend": {
         "tracegroupgap": 0
        },
        "margin": {
         "t": 60
        },
        "template": {
         "data": {
          "bar": [
           {
            "error_x": {
             "color": "#2a3f5f"
            },
            "error_y": {
             "color": "#2a3f5f"
            },
            "marker": {
             "line": {
              "color": "#E5ECF6",
              "width": 0.5
             }
            },
            "type": "bar"
           }
          ],
          "barpolar": [
           {
            "marker": {
             "line": {
              "color": "#E5ECF6",
              "width": 0.5
             }
            },
            "type": "barpolar"
           }
          ],
          "carpet": [
           {
            "aaxis": {
             "endlinecolor": "#2a3f5f",
             "gridcolor": "white",
             "linecolor": "white",
             "minorgridcolor": "white",
             "startlinecolor": "#2a3f5f"
            },
            "baxis": {
             "endlinecolor": "#2a3f5f",
             "gridcolor": "white",
             "linecolor": "white",
             "minorgridcolor": "white",
             "startlinecolor": "#2a3f5f"
            },
            "type": "carpet"
           }
          ],
          "choropleth": [
           {
            "colorbar": {
             "outlinewidth": 0,
             "ticks": ""
            },
            "type": "choropleth"
           }
          ],
          "contour": [
           {
            "colorbar": {
             "outlinewidth": 0,
             "ticks": ""
            },
            "colorscale": [
             [
              0,
              "#0d0887"
             ],
             [
              0.1111111111111111,
              "#46039f"
             ],
             [
              0.2222222222222222,
              "#7201a8"
             ],
             [
              0.3333333333333333,
              "#9c179e"
             ],
             [
              0.4444444444444444,
              "#bd3786"
             ],
             [
              0.5555555555555556,
              "#d8576b"
             ],
             [
              0.6666666666666666,
              "#ed7953"
             ],
             [
              0.7777777777777778,
              "#fb9f3a"
             ],
             [
              0.8888888888888888,
              "#fdca26"
             ],
             [
              1,
              "#f0f921"
             ]
            ],
            "type": "contour"
           }
          ],
          "contourcarpet": [
           {
            "colorbar": {
             "outlinewidth": 0,
             "ticks": ""
            },
            "type": "contourcarpet"
           }
          ],
          "heatmap": [
           {
            "colorbar": {
             "outlinewidth": 0,
             "ticks": ""
            },
            "colorscale": [
             [
              0,
              "#0d0887"
             ],
             [
              0.1111111111111111,
              "#46039f"
             ],
             [
              0.2222222222222222,
              "#7201a8"
             ],
             [
              0.3333333333333333,
              "#9c179e"
             ],
             [
              0.4444444444444444,
              "#bd3786"
             ],
             [
              0.5555555555555556,
              "#d8576b"
             ],
             [
              0.6666666666666666,
              "#ed7953"
             ],
             [
              0.7777777777777778,
              "#fb9f3a"
             ],
             [
              0.8888888888888888,
              "#fdca26"
             ],
             [
              1,
              "#f0f921"
             ]
            ],
            "type": "heatmap"
           }
          ],
          "heatmapgl": [
           {
            "colorbar": {
             "outlinewidth": 0,
             "ticks": ""
            },
            "colorscale": [
             [
              0,
              "#0d0887"
             ],
             [
              0.1111111111111111,
              "#46039f"
             ],
             [
              0.2222222222222222,
              "#7201a8"
             ],
             [
              0.3333333333333333,
              "#9c179e"
             ],
             [
              0.4444444444444444,
              "#bd3786"
             ],
             [
              0.5555555555555556,
              "#d8576b"
             ],
             [
              0.6666666666666666,
              "#ed7953"
             ],
             [
              0.7777777777777778,
              "#fb9f3a"
             ],
             [
              0.8888888888888888,
              "#fdca26"
             ],
             [
              1,
              "#f0f921"
             ]
            ],
            "type": "heatmapgl"
           }
          ],
          "histogram": [
           {
            "marker": {
             "colorbar": {
              "outlinewidth": 0,
              "ticks": ""
             }
            },
            "type": "histogram"
           }
          ],
          "histogram2d": [
           {
            "colorbar": {
             "outlinewidth": 0,
             "ticks": ""
            },
            "colorscale": [
             [
              0,
              "#0d0887"
             ],
             [
              0.1111111111111111,
              "#46039f"
             ],
             [
              0.2222222222222222,
              "#7201a8"
             ],
             [
              0.3333333333333333,
              "#9c179e"
             ],
             [
              0.4444444444444444,
              "#bd3786"
             ],
             [
              0.5555555555555556,
              "#d8576b"
             ],
             [
              0.6666666666666666,
              "#ed7953"
             ],
             [
              0.7777777777777778,
              "#fb9f3a"
             ],
             [
              0.8888888888888888,
              "#fdca26"
             ],
             [
              1,
              "#f0f921"
             ]
            ],
            "type": "histogram2d"
           }
          ],
          "histogram2dcontour": [
           {
            "colorbar": {
             "outlinewidth": 0,
             "ticks": ""
            },
            "colorscale": [
             [
              0,
              "#0d0887"
             ],
             [
              0.1111111111111111,
              "#46039f"
             ],
             [
              0.2222222222222222,
              "#7201a8"
             ],
             [
              0.3333333333333333,
              "#9c179e"
             ],
             [
              0.4444444444444444,
              "#bd3786"
             ],
             [
              0.5555555555555556,
              "#d8576b"
             ],
             [
              0.6666666666666666,
              "#ed7953"
             ],
             [
              0.7777777777777778,
              "#fb9f3a"
             ],
             [
              0.8888888888888888,
              "#fdca26"
             ],
             [
              1,
              "#f0f921"
             ]
            ],
            "type": "histogram2dcontour"
           }
          ],
          "mesh3d": [
           {
            "colorbar": {
             "outlinewidth": 0,
             "ticks": ""
            },
            "type": "mesh3d"
           }
          ],
          "parcoords": [
           {
            "line": {
             "colorbar": {
              "outlinewidth": 0,
              "ticks": ""
             }
            },
            "type": "parcoords"
           }
          ],
          "pie": [
           {
            "automargin": true,
            "type": "pie"
           }
          ],
          "scatter": [
           {
            "marker": {
             "colorbar": {
              "outlinewidth": 0,
              "ticks": ""
             }
            },
            "type": "scatter"
           }
          ],
          "scatter3d": [
           {
            "line": {
             "colorbar": {
              "outlinewidth": 0,
              "ticks": ""
             }
            },
            "marker": {
             "colorbar": {
              "outlinewidth": 0,
              "ticks": ""
             }
            },
            "type": "scatter3d"
           }
          ],
          "scattercarpet": [
           {
            "marker": {
             "colorbar": {
              "outlinewidth": 0,
              "ticks": ""
             }
            },
            "type": "scattercarpet"
           }
          ],
          "scattergeo": [
           {
            "marker": {
             "colorbar": {
              "outlinewidth": 0,
              "ticks": ""
             }
            },
            "type": "scattergeo"
           }
          ],
          "scattergl": [
           {
            "marker": {
             "colorbar": {
              "outlinewidth": 0,
              "ticks": ""
             }
            },
            "type": "scattergl"
           }
          ],
          "scattermapbox": [
           {
            "marker": {
             "colorbar": {
              "outlinewidth": 0,
              "ticks": ""
             }
            },
            "type": "scattermapbox"
           }
          ],
          "scatterpolar": [
           {
            "marker": {
             "colorbar": {
              "outlinewidth": 0,
              "ticks": ""
             }
            },
            "type": "scatterpolar"
           }
          ],
          "scatterpolargl": [
           {
            "marker": {
             "colorbar": {
              "outlinewidth": 0,
              "ticks": ""
             }
            },
            "type": "scatterpolargl"
           }
          ],
          "scatterternary": [
           {
            "marker": {
             "colorbar": {
              "outlinewidth": 0,
              "ticks": ""
             }
            },
            "type": "scatterternary"
           }
          ],
          "surface": [
           {
            "colorbar": {
             "outlinewidth": 0,
             "ticks": ""
            },
            "colorscale": [
             [
              0,
              "#0d0887"
             ],
             [
              0.1111111111111111,
              "#46039f"
             ],
             [
              0.2222222222222222,
              "#7201a8"
             ],
             [
              0.3333333333333333,
              "#9c179e"
             ],
             [
              0.4444444444444444,
              "#bd3786"
             ],
             [
              0.5555555555555556,
              "#d8576b"
             ],
             [
              0.6666666666666666,
              "#ed7953"
             ],
             [
              0.7777777777777778,
              "#fb9f3a"
             ],
             [
              0.8888888888888888,
              "#fdca26"
             ],
             [
              1,
              "#f0f921"
             ]
            ],
            "type": "surface"
           }
          ],
          "table": [
           {
            "cells": {
             "fill": {
              "color": "#EBF0F8"
             },
             "line": {
              "color": "white"
             }
            },
            "header": {
             "fill": {
              "color": "#C8D4E3"
             },
             "line": {
              "color": "white"
             }
            },
            "type": "table"
           }
          ]
         },
         "layout": {
          "annotationdefaults": {
           "arrowcolor": "#2a3f5f",
           "arrowhead": 0,
           "arrowwidth": 1
          },
          "autotypenumbers": "strict",
          "coloraxis": {
           "colorbar": {
            "outlinewidth": 0,
            "ticks": ""
           }
          },
          "colorscale": {
           "diverging": [
            [
             0,
             "#8e0152"
            ],
            [
             0.1,
             "#c51b7d"
            ],
            [
             0.2,
             "#de77ae"
            ],
            [
             0.3,
             "#f1b6da"
            ],
            [
             0.4,
             "#fde0ef"
            ],
            [
             0.5,
             "#f7f7f7"
            ],
            [
             0.6,
             "#e6f5d0"
            ],
            [
             0.7,
             "#b8e186"
            ],
            [
             0.8,
             "#7fbc41"
            ],
            [
             0.9,
             "#4d9221"
            ],
            [
             1,
             "#276419"
            ]
           ],
           "sequential": [
            [
             0,
             "#0d0887"
            ],
            [
             0.1111111111111111,
             "#46039f"
            ],
            [
             0.2222222222222222,
             "#7201a8"
            ],
            [
             0.3333333333333333,
             "#9c179e"
            ],
            [
             0.4444444444444444,
             "#bd3786"
            ],
            [
             0.5555555555555556,
             "#d8576b"
            ],
            [
             0.6666666666666666,
             "#ed7953"
            ],
            [
             0.7777777777777778,
             "#fb9f3a"
            ],
            [
             0.8888888888888888,
             "#fdca26"
            ],
            [
             1,
             "#f0f921"
            ]
           ],
           "sequentialminus": [
            [
             0,
             "#0d0887"
            ],
            [
             0.1111111111111111,
             "#46039f"
            ],
            [
             0.2222222222222222,
             "#7201a8"
            ],
            [
             0.3333333333333333,
             "#9c179e"
            ],
            [
             0.4444444444444444,
             "#bd3786"
            ],
            [
             0.5555555555555556,
             "#d8576b"
            ],
            [
             0.6666666666666666,
             "#ed7953"
            ],
            [
             0.7777777777777778,
             "#fb9f3a"
            ],
            [
             0.8888888888888888,
             "#fdca26"
            ],
            [
             1,
             "#f0f921"
            ]
           ]
          },
          "colorway": [
           "#636efa",
           "#EF553B",
           "#00cc96",
           "#ab63fa",
           "#FFA15A",
           "#19d3f3",
           "#FF6692",
           "#B6E880",
           "#FF97FF",
           "#FECB52"
          ],
          "font": {
           "color": "#2a3f5f"
          },
          "geo": {
           "bgcolor": "white",
           "lakecolor": "white",
           "landcolor": "#E5ECF6",
           "showlakes": true,
           "showland": true,
           "subunitcolor": "white"
          },
          "hoverlabel": {
           "align": "left"
          },
          "hovermode": "closest",
          "mapbox": {
           "style": "light"
          },
          "paper_bgcolor": "white",
          "plot_bgcolor": "#E5ECF6",
          "polar": {
           "angularaxis": {
            "gridcolor": "white",
            "linecolor": "white",
            "ticks": ""
           },
           "bgcolor": "#E5ECF6",
           "radialaxis": {
            "gridcolor": "white",
            "linecolor": "white",
            "ticks": ""
           }
          },
          "scene": {
           "xaxis": {
            "backgroundcolor": "#E5ECF6",
            "gridcolor": "white",
            "gridwidth": 2,
            "linecolor": "white",
            "showbackground": true,
            "ticks": "",
            "zerolinecolor": "white"
           },
           "yaxis": {
            "backgroundcolor": "#E5ECF6",
            "gridcolor": "white",
            "gridwidth": 2,
            "linecolor": "white",
            "showbackground": true,
            "ticks": "",
            "zerolinecolor": "white"
           },
           "zaxis": {
            "backgroundcolor": "#E5ECF6",
            "gridcolor": "white",
            "gridwidth": 2,
            "linecolor": "white",
            "showbackground": true,
            "ticks": "",
            "zerolinecolor": "white"
           }
          },
          "shapedefaults": {
           "line": {
            "color": "#2a3f5f"
           }
          },
          "ternary": {
           "aaxis": {
            "gridcolor": "white",
            "linecolor": "white",
            "ticks": ""
           },
           "baxis": {
            "gridcolor": "white",
            "linecolor": "white",
            "ticks": ""
           },
           "bgcolor": "#E5ECF6",
           "caxis": {
            "gridcolor": "white",
            "linecolor": "white",
            "ticks": ""
           }
          },
          "title": {
           "x": 0.05
          },
          "xaxis": {
           "automargin": true,
           "gridcolor": "white",
           "linecolor": "white",
           "ticks": "",
           "title": {
            "standoff": 15
           },
           "zerolinecolor": "white",
           "zerolinewidth": 2
          },
          "yaxis": {
           "automargin": true,
           "gridcolor": "white",
           "linecolor": "white",
           "ticks": "",
           "title": {
            "standoff": 15
           },
           "zerolinecolor": "white",
           "zerolinewidth": 2
          }
         }
        },
        "xaxis": {
         "anchor": "y",
         "domain": [
          0,
          1
         ],
         "title": {
          "text": "0"
         }
        },
        "yaxis": {
         "anchor": "x",
         "domain": [
          0,
          1
         ],
         "title": {
          "text": "1"
         }
        }
       }
      },
      "text/html": [
       "<div>                            <div id=\"2d51ac67-3e6a-4954-ba07-6654318483e3\" class=\"plotly-graph-div\" style=\"height:525px; width:100%;\"></div>            <script type=\"text/javascript\">                require([\"plotly\"], function(Plotly) {                    window.PLOTLYENV=window.PLOTLYENV || {};                                    if (document.getElementById(\"2d51ac67-3e6a-4954-ba07-6654318483e3\")) {                    Plotly.newPlot(                        \"2d51ac67-3e6a-4954-ba07-6654318483e3\",                        [{\"hovertemplate\": \"0=%{x}<br>1=%{y}<extra></extra>\", \"legendgroup\": \"\", \"marker\": {\"color\": \"#636efa\", \"symbol\": \"circle\"}, \"mode\": \"markers\", \"name\": \"\", \"orientation\": \"v\", \"showlegend\": false, \"type\": \"scatter\", \"x\": [-0.6184415817260742, -0.15615330636501312, -3.881903886795044, 2.2731592655181885, -4.354866027832031, -3.275136709213257, -0.6397287249565125, -2.077695608139038, -3.6835389137268066, -2.7887163162231445, -4.392459392547607, 0.4403066039085388, -3.4283692836761475, -0.016308831050992012, -3.5964934825897217, 1.845933198928833, 1.2167290449142456, -1.2723513841629028, -1.0972992181777954, -2.7412965297698975, 0.50831139087677, -2.3680174350738525, 0.13520358502864838, 0.4523742198944092, -1.4507278203964233, 2.390547513961792, 0.7028346657752991, 1.3716200590133667, 1.169961929321289, -1.774042010307312, -2.716426134109497, 1.7048369646072388, -4.71572208404541, -1.3448344469070435, -1.574111819267273, -0.6378747224807739, -3.1215333938598633, 0.30181965231895447, -2.633859395980835, -0.9002769589424133, -3.957812547683716, 0.7720134258270264, 1.0034236907958984, -0.5234658122062683, -1.318530559539795, -2.5085222721099854, -0.05324653908610344, -0.7559264898300171, -0.9886868000030518, -0.3978389501571655, -1.3872536420822144, -1.6304042339324951, -3.8208444118499756, 0.031705353409051895, -2.3317790031433105, -5.201381683349609, 0.5125197768211365, -0.11143545061349869, -0.3732791841030121, 2.1646382808685303, -0.007363001350313425, -5.018697738647461, 1.2612186670303345, -1.822269082069397, -3.0380866527557373, -1.9404422044754028, -2.606981039047241, -1.9583462476730347, -1.558173418045044, -0.21507076919078827, -0.7545976042747498, 0.054671719670295715, 3.0547399520874023, -2.4048075675964355, 0.3126646876335144, -0.1616045981645584, -0.957168698310852, -1.488660216331482, -0.2677740752696991, -0.0560055673122406, 2.067411184310913, -0.8317480087280273, -1.5090292692184448, 2.480577230453491, -2.080936908721924, 3.057903528213501, -3.6361632347106934, 0.3622821271419525, -2.609501361846924, 0.5940071940422058, -0.44500893354415894, -1.0380189418792725, -1.9800618886947632, -4.924902439117432, -1.3681135177612305, 0.7981884479522705, 0.7351664304733276, -1.6335840225219727, -3.2404046058654785, -1.5546846389770508, -0.42772069573402405, 2.1043381690979004, 2.3098983764648438, -1.5243536233901978, -4.1570258140563965, -1.7023946046829224, 0.8372281789779663, -2.286496162414551, -5.11016321182251, 2.237732410430908, -4.630180835723877, -0.8299515247344971, 1.9354946613311768, -4.16167688369751, -0.23513756692409515, -2.3569695949554443, 1.2145498991012573, 1.3412551879882812, -2.8072614669799805, -3.4777579307556152, -2.380544424057007, -4.861819267272949, 1.6699682474136353, -1.7965751886367798, -1.7580280303955078, -1.4764431715011597, -0.7520070672035217, -1.4565092325210571, -0.5931992530822754, -1.2479676008224487, 0.47148096561431885, 2.6686558723449707, -3.251087188720703, -1.8448785543441772, -0.035560086369514465, 0.008790693245828152, -1.9393435716629028, -1.6299021244049072, 0.3474937081336975, -1.4623003005981445, 2.726996898651123, -1.9423365592956543, -1.4145994186401367, -4.895078659057617, -1.0933939218521118, -1.3840171098709106, -5.147762775421143, 0.7684004902839661, -0.28862521052360535, 0.13614189624786377, -2.0709328651428223, -2.792029857635498, -0.6582411527633667, 1.5645686388015747, 1.9774407148361206, 0.33172607421875, 2.489809989929199, -2.7020249366760254, 1.8916393518447876, -2.051513671875, -1.9299618005752563, -3.3492143154144287, 2.145026922225952, -0.7410679459571838, -1.4366410970687866, -2.0373895168304443, -1.0497939586639404, -3.681826591491699, -1.3536274433135986, -2.545182466506958, 2.9904391765594482, 1.2072948217391968, -0.5516751408576965, 0.46419695019721985, 3.0314950942993164, -1.3929595947265625, -2.9894282817840576, 1.3030089139938354, 1.9124430418014526, 0.5402618050575256, -4.0016961097717285, 0.6542243361473083, 1.21431565284729, -0.4894911050796509, 1.7928146123886108, 1.0862756967544556, 2.618833303451538, 0.5095236897468567, -0.522076427936554, -2.646474599838257, -0.8217599391937256, 2.021775722503662, 2.4958715438842773, -0.6444478631019592, 2.002545118331909, 1.283026933670044, -4.741322994232178, -1.8592582941055298, -2.31839656829834, -0.6252670288085938, -3.3181352615356445, -0.04238109290599823, -0.7922816276550293, -2.590047597885132, 1.1712145805358887, 1.1979467868804932, 0.774339497089386, 1.8893805742263794, 1.3491171598434448, -1.1949126720428467, 0.9884634017944336, -2.4975945949554443, 1.7405155897140503, -3.8130927085876465, 2.2936089038848877, -2.8415722846984863, -1.177083134651184, 1.6368061304092407, -3.147294044494629, -5.152846813201904, -2.664426803588867, 2.3258464336395264, -0.9624481201171875, -4.142223358154297, -4.6239495277404785, 2.036349296569824, 1.3474273681640625, 1.9035354852676392, 1.2891175746917725, 0.6241862177848816, -2.9289793968200684, 0.6891226768493652, 3.0101089477539062, -5.148135185241699, 1.531641960144043, -3.3550033569335938, -3.390019416809082, 1.1028441190719604, 2.0878870487213135, -1.6731756925582886, -0.15175388753414154, -1.4380027055740356, 1.6259499788284302, 1.419430136680603, -2.91524338722229, 2.9452171325683594, 0.3966808617115021, 3.1182684898376465, 2.895378589630127, 0.15817756950855255, -0.664932370185852, -1.3644384145736694, 1.862249732017517, -2.8622663021087646, 1.34938383102417, 2.6728250980377197, -0.25256383419036865, 0.5028016567230225, -2.1795847415924072, -4.407714366912842, -3.2257657051086426, -0.6449287533760071, -0.09590137004852295, 2.2280006408691406, -3.5075886249542236, 2.7170326709747314, -4.683051586151123, 1.5268664360046387, -1.9325811862945557, 2.1241307258605957, 1.162291169166565, 0.007459715008735657, -1.2853741645812988, -0.7959319353103638, -2.0970540046691895, -4.215421676635742, 1.304214596748352, 0.3600314259529114, -2.1024043560028076, -1.230546474456787, 0.09653083980083466, 0.8600153923034668, 0.3169894516468048, 2.247354030609131, -0.9660903811454773, -1.64138925075531, -4.75450325012207, 2.1223065853118896, 1.9563193321228027, 2.473090410232544, 1.5959659814834595, 0.7741950750350952, -2.6715497970581055, -3.9182004928588867, -1.702810525894165, -1.632825493812561, -1.7420026063919067, -0.2745281755924225, 1.4075613021850586, 1.9968739748001099, 0.12720927596092224, 3.157916307449341, -0.8865768313407898, -0.9209424257278442, 0.6882026195526123, 1.8374521732330322, 3.101269245147705, -0.5701904296875, 1.1838982105255127, -0.005672310944646597, 0.5286085605621338, 0.9383977055549622, -2.262551784515381, 0.29066532850265503, -0.4792243242263794, -2.144901990890503, -1.9627536535263062, -2.2319531440734863, 2.143799066543579, -2.611961603164673, 1.2342242002487183, 0.11774935573339462, -1.9821878671646118, -2.0312728881835938, -1.6836464405059814, 2.3497986793518066, -5.195205211639404, -4.446231842041016, 2.2847204208374023, -1.5324856042861938, -3.281254768371582, -1.041338324546814, -3.316765546798706, 0.2827886939048767, -2.866053581237793, 1.6259956359863281, 1.0247951745986938, 1.275693655014038, 3.0064125061035156, -1.7588309049606323, 0.5189794301986694, -3.5944130420684814, 1.5081101655960083, -5.242868423461914, -0.05841977149248123, 0.8286766409873962, -0.06522427499294281, 0.792492687702179, -1.593658208847046, 0.028012078255414963, -0.9525206089019775, 0.2113889753818512, 1.9228909015655518, 2.0290701389312744, 1.955845832824707, -1.915574312210083, -0.5240401029586792, 1.2533726692199707, -1.6547436714172363, 2.7811129093170166, 3.0992071628570557, 1.12204110622406, -0.28086140751838684, -0.979928731918335, -1.3233234882354736, -3.496579170227051, -2.407231092453003, 2.6740200519561768, 0.25576844811439514, -2.561937093734741, -1.5544451475143433, -2.33262300491333, -1.2160789966583252, -1.2804510593414307, -2.4038918018341064, 1.061607003211975, 0.37843677401542664, -4.934759140014648, -1.8379381895065308, -0.8090825080871582, -0.4120057225227356, -2.8273327350616455, -2.100261926651001, -3.170070171356201], \"xaxis\": \"x\", \"y\": [4.583487510681152, 4.7821245193481445, 6.836057662963867, 4.331284523010254, 6.9293293952941895, 5.981372356414795, 5.490123271942139, 4.22344446182251, 5.6017842292785645, 5.995981693267822, 7.030672550201416, 3.5567855834960938, 6.951307773590088, 6.366667747497559, 6.974145889282227, 3.977560043334961, 2.6537864208221436, 5.248702049255371, 6.234073638916016, 7.0656538009643555, 5.338573455810547, 5.753256797790527, 3.3137900829315186, 4.407299041748047, 5.84157133102417, 2.2477002143859863, 5.851397514343262, 2.9479055404663086, 3.719954252243042, 5.662569522857666, 6.260003566741943, 4.447407245635986, 6.786894798278809, 5.071496963500977, 5.701048851013184, 4.284048080444336, 6.227513313293457, 5.725861549377441, 7.138751029968262, 5.161529541015625, 6.407466888427734, 3.5440218448638916, 3.0215797424316406, 4.5446906089782715, 3.7367992401123047, 6.71813440322876, 4.663321018218994, 6.292238235473633, 6.068456172943115, 5.399916648864746, 4.474679470062256, 4.651876449584961, 5.740091323852539, 5.542694568634033, 5.855767726898193, 6.8372273445129395, 5.793753147125244, 6.644684314727783, 4.088493824005127, 4.5768818855285645, 3.9855334758758545, 6.696371078491211, 3.8680810928344727, 5.614273548126221, 6.862849235534668, 6.306678771972656, 6.573713779449463, 5.928951740264893, 7.191504001617432, 5.338459491729736, 6.035739898681641, 4.963651180267334, 2.572676658630371, 5.985409736633301, 3.892331600189209, 4.910900592803955, 4.860629558563232, 5.592702865600586, 5.163187026977539, 5.3747076988220215, 4.796250343322754, 5.190565586090088, 5.4194440841674805, 3.282374858856201, 6.063042640686035, 3.0801498889923096, 7.055117130279541, 3.72395658493042, 4.6986083984375, 6.192196369171143, 6.831409454345703, 6.707633018493652, 6.066214561462402, 6.712942123413086, 6.389952182769775, 5.411588668823242, 5.2964043617248535, 7.146945953369141, 7.072795391082764, 4.563348293304443, 4.043469429016113, 4.06710147857666, 2.1449453830718994, 4.047136306762695, 6.892058849334717, 6.325507164001465, 3.3940048217773438, 6.304261207580566, 6.831358432769775, 3.0205016136169434, 6.710305213928223, 4.902891159057617, 3.3986318111419678, 6.690632343292236, 4.082629203796387, 6.574479579925537, 3.417766809463501, 2.814676284790039, 6.6691060066223145, 6.456589698791504, 5.356167793273926, 6.7790422439575195, 3.1196231842041016, 5.1328349113464355, 6.396627902984619, 3.6664655208587646, 4.694629192352295, 5.015842914581299, 5.0523295402526855, 5.753911972045898, 4.401421070098877, 2.6802291870117188, 6.401506423950195, 6.7407145500183105, 6.514893531799316, 6.717604637145996, 5.66693639755249, 4.693021774291992, 6.0319952964782715, 5.68248987197876, 2.2787365913391113, 6.542271614074707, 6.183557987213135, 6.543366432189941, 6.794034004211426, 5.968371868133545, 6.848825454711914, 3.9617385864257812, 5.407645225524902, 6.552559852600098, 4.233348846435547, 6.9244771003723145, 6.99854850769043, 2.314044713973999, 4.0161004066467285, 5.492783069610596, 3.4365053176879883, 6.247111797332764, 2.2620067596435547, 6.840385913848877, 4.323916912078857, 6.849328994750977, 2.4569780826568604, 4.484489440917969, 4.000433444976807, 5.429490089416504, 5.6624226570129395, 6.7965593338012695, 3.9761083126068115, 6.365589141845703, 2.964553117752075, 3.9910523891448975, 6.808848857879639, 3.3852386474609375, 3.47091007232666, 4.034573554992676, 6.295504093170166, 3.2503855228424072, 3.7953710556030273, 6.187410831451416, 6.867542266845703, 6.274558067321777, 4.628333568572998, 6.19555139541626, 4.138914108276367, 3.994722843170166, 2.4990158081054688, 3.92264461517334, 4.074649333953857, 4.970736026763916, 4.123098850250244, 3.7505548000335693, 3.13012957572937, 5.655149459838867, 2.326237678527832, 3.928255081176758, 6.950944900512695, 5.729237079620361, 5.051250457763672, 3.777045249938965, 6.212954044342041, 4.342451095581055, 5.577660083770752, 6.490403652191162, 4.262915134429932, 3.385289430618286, 6.060251235961914, 3.3967208862304688, 2.6524417400360107, 6.552745819091797, 4.043727874755859, 6.936343669891357, 2.475177526473999, 5.700625896453857, 3.4235403537750244, 6.793494701385498, 6.497618198394775, 4.256709575653076, 6.4328203201293945, 6.7894110679626465, 6.947218418121338, 2.386681318283081, 5.337084770202637, 6.728157043457031, 6.939291000366211, 3.720440149307251, 2.941331148147583, 2.056490182876587, 3.3846476078033447, 4.163259983062744, 6.5324859619140625, 3.388702630996704, 2.582228899002075, 6.770066261291504, 3.569993734359741, 6.869467735290527, 6.459237098693848, 2.9909989833831787, 3.301034927368164, 3.871100664138794, 5.060910701751709, 5.5360941886901855, 2.335689067840576, 2.4836881160736084, 5.150298118591309, 3.1720757484436035, 6.331284999847412, 2.7904131412506104, 2.4354135990142822, 4.545971870422363, 4.476926803588867, 5.38606071472168, 2.288963794708252, 5.299313068389893, 3.622239351272583, 3.6992197036743164, 5.802862644195557, 6.124372959136963, 6.814986705780029, 6.8460564613342285, 6.80764627456665, 5.056018829345703, 4.266583442687988, 3.1596028804779053, 6.5588788986206055, 3.454805374145508, 6.4972333908081055, 3.1752071380615234, 5.652029514312744, 4.760067462921143, 3.8883261680603027, 3.2387888431549072, 6.447689533233643, 4.258626937866211, 6.754549026489258, 6.854167461395264, 3.3452818393707275, 3.58402419090271, 5.557858467102051, 5.128743648529053, 4.818953990936279, 2.8571977615356445, 4.368704795837402, 2.304476499557495, 5.841349124908447, 6.2572150230407715, 6.868641376495361, 2.3184783458709717, 3.5995192527770996, 3.830371618270874, 3.9038028717041016, 3.688352584838867, 5.848080158233643, 6.1708664894104, 5.3691301345825195, 6.093995571136475, 7.189914703369141, 4.571078777313232, 4.894786357879639, 3.7997748851776123, 3.18481707572937, 3.0946199893951416, 4.899712085723877, 4.788797855377197, 3.878751516342163, 2.6675772666931152, 3.0586764812469482, 5.5861124992370605, 3.191650390625, 5.092599391937256, 4.1761474609375, 3.088521718978882, 5.26568603515625, 6.001572132110596, 6.366822242736816, 5.088469505310059, 5.903323650360107, 6.518125534057617, 3.1577095985412598, 6.051152229309082, 3.604977607727051, 4.6149067878723145, 5.893428802490234, 7.288872718811035, 5.902827262878418, 3.6487629413604736, 6.832035541534424, 7.003326416015625, 2.959038734436035, 4.179689884185791, 6.658113956451416, 3.8294808864593506, 6.648602485656738, 3.2506861686706543, 6.696753978729248, 5.008493900299072, 5.805634021759033, 2.6254544258117676, 2.657243251800537, 6.01115083694458, 6.202620029449463, 6.405641078948975, 4.165157794952393, 6.8891119956970215, 6.593278408050537, 6.188706398010254, 3.552835702896118, 3.5717835426330566, 5.199594497680664, 3.399494171142578, 4.715832710266113, 4.959530353546143, 3.910339593887329, 4.827295780181885, 3.961085081100464, 6.718457221984863, 4.871402740478516, 2.8820502758026123, 6.921181678771973, 2.4747490882873535, 3.358628273010254, 2.5271530151367188, 5.624612331390381, 5.618529796600342, 5.874192237854004, 6.335782527923584, 6.57009220123291, 3.230696439743042, 4.386379718780518, 6.984776020050049, 4.119246006011963, 5.83473014831543, 3.808190107345581, 4.3836894035339355, 6.108964920043945, 3.6481997966766357, 5.060095310211182, 6.807536602020264, 6.102644443511963, 5.198939323425293, 4.151108741760254, 6.196457862854004, 6.4786763191223145, 7.0170369148254395], \"yaxis\": \"y\"}],                        {\"legend\": {\"tracegroupgap\": 0}, \"margin\": {\"t\": 60}, \"template\": {\"data\": {\"bar\": [{\"error_x\": {\"color\": \"#2a3f5f\"}, \"error_y\": {\"color\": \"#2a3f5f\"}, \"marker\": {\"line\": {\"color\": \"#E5ECF6\", \"width\": 0.5}}, \"type\": \"bar\"}], \"barpolar\": [{\"marker\": {\"line\": {\"color\": \"#E5ECF6\", \"width\": 0.5}}, \"type\": \"barpolar\"}], \"carpet\": [{\"aaxis\": {\"endlinecolor\": \"#2a3f5f\", \"gridcolor\": \"white\", \"linecolor\": \"white\", \"minorgridcolor\": \"white\", \"startlinecolor\": \"#2a3f5f\"}, \"baxis\": {\"endlinecolor\": \"#2a3f5f\", \"gridcolor\": \"white\", \"linecolor\": \"white\", \"minorgridcolor\": \"white\", \"startlinecolor\": \"#2a3f5f\"}, \"type\": \"carpet\"}], \"choropleth\": [{\"colorbar\": {\"outlinewidth\": 0, \"ticks\": \"\"}, \"type\": \"choropleth\"}], \"contour\": [{\"colorbar\": {\"outlinewidth\": 0, \"ticks\": \"\"}, \"colorscale\": [[0.0, \"#0d0887\"], [0.1111111111111111, \"#46039f\"], [0.2222222222222222, \"#7201a8\"], [0.3333333333333333, \"#9c179e\"], [0.4444444444444444, \"#bd3786\"], [0.5555555555555556, \"#d8576b\"], [0.6666666666666666, \"#ed7953\"], [0.7777777777777778, \"#fb9f3a\"], [0.8888888888888888, \"#fdca26\"], [1.0, \"#f0f921\"]], \"type\": \"contour\"}], \"contourcarpet\": [{\"colorbar\": {\"outlinewidth\": 0, \"ticks\": \"\"}, \"type\": \"contourcarpet\"}], \"heatmap\": [{\"colorbar\": {\"outlinewidth\": 0, \"ticks\": \"\"}, \"colorscale\": [[0.0, \"#0d0887\"], [0.1111111111111111, \"#46039f\"], [0.2222222222222222, \"#7201a8\"], [0.3333333333333333, \"#9c179e\"], [0.4444444444444444, \"#bd3786\"], [0.5555555555555556, \"#d8576b\"], [0.6666666666666666, \"#ed7953\"], [0.7777777777777778, \"#fb9f3a\"], [0.8888888888888888, \"#fdca26\"], [1.0, \"#f0f921\"]], \"type\": \"heatmap\"}], \"heatmapgl\": [{\"colorbar\": {\"outlinewidth\": 0, \"ticks\": \"\"}, \"colorscale\": [[0.0, \"#0d0887\"], [0.1111111111111111, \"#46039f\"], [0.2222222222222222, \"#7201a8\"], [0.3333333333333333, \"#9c179e\"], [0.4444444444444444, \"#bd3786\"], [0.5555555555555556, \"#d8576b\"], [0.6666666666666666, \"#ed7953\"], [0.7777777777777778, \"#fb9f3a\"], [0.8888888888888888, \"#fdca26\"], [1.0, \"#f0f921\"]], \"type\": \"heatmapgl\"}], \"histogram\": [{\"marker\": {\"colorbar\": {\"outlinewidth\": 0, \"ticks\": \"\"}}, \"type\": \"histogram\"}], \"histogram2d\": [{\"colorbar\": {\"outlinewidth\": 0, \"ticks\": \"\"}, \"colorscale\": [[0.0, \"#0d0887\"], [0.1111111111111111, \"#46039f\"], [0.2222222222222222, \"#7201a8\"], [0.3333333333333333, \"#9c179e\"], [0.4444444444444444, \"#bd3786\"], [0.5555555555555556, \"#d8576b\"], [0.6666666666666666, \"#ed7953\"], [0.7777777777777778, \"#fb9f3a\"], [0.8888888888888888, \"#fdca26\"], [1.0, \"#f0f921\"]], \"type\": \"histogram2d\"}], \"histogram2dcontour\": [{\"colorbar\": {\"outlinewidth\": 0, \"ticks\": \"\"}, \"colorscale\": [[0.0, \"#0d0887\"], [0.1111111111111111, \"#46039f\"], [0.2222222222222222, \"#7201a8\"], [0.3333333333333333, \"#9c179e\"], [0.4444444444444444, \"#bd3786\"], [0.5555555555555556, \"#d8576b\"], [0.6666666666666666, \"#ed7953\"], [0.7777777777777778, \"#fb9f3a\"], [0.8888888888888888, \"#fdca26\"], [1.0, \"#f0f921\"]], \"type\": \"histogram2dcontour\"}], \"mesh3d\": [{\"colorbar\": {\"outlinewidth\": 0, \"ticks\": \"\"}, \"type\": \"mesh3d\"}], \"parcoords\": [{\"line\": {\"colorbar\": {\"outlinewidth\": 0, \"ticks\": \"\"}}, \"type\": \"parcoords\"}], \"pie\": [{\"automargin\": true, \"type\": \"pie\"}], \"scatter\": [{\"marker\": {\"colorbar\": {\"outlinewidth\": 0, \"ticks\": \"\"}}, \"type\": \"scatter\"}], \"scatter3d\": [{\"line\": {\"colorbar\": {\"outlinewidth\": 0, \"ticks\": \"\"}}, \"marker\": {\"colorbar\": {\"outlinewidth\": 0, \"ticks\": \"\"}}, \"type\": \"scatter3d\"}], \"scattercarpet\": [{\"marker\": {\"colorbar\": {\"outlinewidth\": 0, \"ticks\": \"\"}}, \"type\": \"scattercarpet\"}], \"scattergeo\": [{\"marker\": {\"colorbar\": {\"outlinewidth\": 0, \"ticks\": \"\"}}, \"type\": \"scattergeo\"}], \"scattergl\": [{\"marker\": {\"colorbar\": {\"outlinewidth\": 0, \"ticks\": \"\"}}, \"type\": \"scattergl\"}], \"scattermapbox\": [{\"marker\": {\"colorbar\": {\"outlinewidth\": 0, \"ticks\": \"\"}}, \"type\": \"scattermapbox\"}], \"scatterpolar\": [{\"marker\": {\"colorbar\": {\"outlinewidth\": 0, \"ticks\": \"\"}}, \"type\": \"scatterpolar\"}], \"scatterpolargl\": [{\"marker\": {\"colorbar\": {\"outlinewidth\": 0, \"ticks\": \"\"}}, \"type\": \"scatterpolargl\"}], \"scatterternary\": [{\"marker\": {\"colorbar\": {\"outlinewidth\": 0, \"ticks\": \"\"}}, \"type\": \"scatterternary\"}], \"surface\": [{\"colorbar\": {\"outlinewidth\": 0, \"ticks\": \"\"}, \"colorscale\": [[0.0, \"#0d0887\"], [0.1111111111111111, \"#46039f\"], [0.2222222222222222, \"#7201a8\"], [0.3333333333333333, \"#9c179e\"], [0.4444444444444444, \"#bd3786\"], [0.5555555555555556, \"#d8576b\"], [0.6666666666666666, \"#ed7953\"], [0.7777777777777778, \"#fb9f3a\"], [0.8888888888888888, \"#fdca26\"], [1.0, \"#f0f921\"]], \"type\": \"surface\"}], \"table\": [{\"cells\": {\"fill\": {\"color\": \"#EBF0F8\"}, \"line\": {\"color\": \"white\"}}, \"header\": {\"fill\": {\"color\": \"#C8D4E3\"}, \"line\": {\"color\": \"white\"}}, \"type\": \"table\"}]}, \"layout\": {\"annotationdefaults\": {\"arrowcolor\": \"#2a3f5f\", \"arrowhead\": 0, \"arrowwidth\": 1}, \"autotypenumbers\": \"strict\", \"coloraxis\": {\"colorbar\": {\"outlinewidth\": 0, \"ticks\": \"\"}}, \"colorscale\": {\"diverging\": [[0, \"#8e0152\"], [0.1, \"#c51b7d\"], [0.2, \"#de77ae\"], [0.3, \"#f1b6da\"], [0.4, \"#fde0ef\"], [0.5, \"#f7f7f7\"], [0.6, \"#e6f5d0\"], [0.7, \"#b8e186\"], [0.8, \"#7fbc41\"], [0.9, \"#4d9221\"], [1, \"#276419\"]], \"sequential\": [[0.0, \"#0d0887\"], [0.1111111111111111, \"#46039f\"], [0.2222222222222222, \"#7201a8\"], [0.3333333333333333, \"#9c179e\"], [0.4444444444444444, \"#bd3786\"], [0.5555555555555556, \"#d8576b\"], [0.6666666666666666, \"#ed7953\"], [0.7777777777777778, \"#fb9f3a\"], [0.8888888888888888, \"#fdca26\"], [1.0, \"#f0f921\"]], \"sequentialminus\": [[0.0, \"#0d0887\"], [0.1111111111111111, \"#46039f\"], [0.2222222222222222, \"#7201a8\"], [0.3333333333333333, \"#9c179e\"], [0.4444444444444444, \"#bd3786\"], [0.5555555555555556, \"#d8576b\"], [0.6666666666666666, \"#ed7953\"], [0.7777777777777778, \"#fb9f3a\"], [0.8888888888888888, \"#fdca26\"], [1.0, \"#f0f921\"]]}, \"colorway\": [\"#636efa\", \"#EF553B\", \"#00cc96\", \"#ab63fa\", \"#FFA15A\", \"#19d3f3\", \"#FF6692\", \"#B6E880\", \"#FF97FF\", \"#FECB52\"], \"font\": {\"color\": \"#2a3f5f\"}, \"geo\": {\"bgcolor\": \"white\", \"lakecolor\": \"white\", \"landcolor\": \"#E5ECF6\", \"showlakes\": true, \"showland\": true, \"subunitcolor\": \"white\"}, \"hoverlabel\": {\"align\": \"left\"}, \"hovermode\": \"closest\", \"mapbox\": {\"style\": \"light\"}, \"paper_bgcolor\": \"white\", \"plot_bgcolor\": \"#E5ECF6\", \"polar\": {\"angularaxis\": {\"gridcolor\": \"white\", \"linecolor\": \"white\", \"ticks\": \"\"}, \"bgcolor\": \"#E5ECF6\", \"radialaxis\": {\"gridcolor\": \"white\", \"linecolor\": \"white\", \"ticks\": \"\"}}, \"scene\": {\"xaxis\": {\"backgroundcolor\": \"#E5ECF6\", \"gridcolor\": \"white\", \"gridwidth\": 2, \"linecolor\": \"white\", \"showbackground\": true, \"ticks\": \"\", \"zerolinecolor\": \"white\"}, \"yaxis\": {\"backgroundcolor\": \"#E5ECF6\", \"gridcolor\": \"white\", \"gridwidth\": 2, \"linecolor\": \"white\", \"showbackground\": true, \"ticks\": \"\", \"zerolinecolor\": \"white\"}, \"zaxis\": {\"backgroundcolor\": \"#E5ECF6\", \"gridcolor\": \"white\", \"gridwidth\": 2, \"linecolor\": \"white\", \"showbackground\": true, \"ticks\": \"\", \"zerolinecolor\": \"white\"}}, \"shapedefaults\": {\"line\": {\"color\": \"#2a3f5f\"}}, \"ternary\": {\"aaxis\": {\"gridcolor\": \"white\", \"linecolor\": \"white\", \"ticks\": \"\"}, \"baxis\": {\"gridcolor\": \"white\", \"linecolor\": \"white\", \"ticks\": \"\"}, \"bgcolor\": \"#E5ECF6\", \"caxis\": {\"gridcolor\": \"white\", \"linecolor\": \"white\", \"ticks\": \"\"}}, \"title\": {\"x\": 0.05}, \"xaxis\": {\"automargin\": true, \"gridcolor\": \"white\", \"linecolor\": \"white\", \"ticks\": \"\", \"title\": {\"standoff\": 15}, \"zerolinecolor\": \"white\", \"zerolinewidth\": 2}, \"yaxis\": {\"automargin\": true, \"gridcolor\": \"white\", \"linecolor\": \"white\", \"ticks\": \"\", \"title\": {\"standoff\": 15}, \"zerolinecolor\": \"white\", \"zerolinewidth\": 2}}}, \"xaxis\": {\"anchor\": \"y\", \"domain\": [0.0, 1.0], \"title\": {\"text\": \"0\"}}, \"yaxis\": {\"anchor\": \"x\", \"domain\": [0.0, 1.0], \"title\": {\"text\": \"1\"}}},                        {\"responsive\": true}                    ).then(function(){\n",
       "                            \n",
       "var gd = document.getElementById('2d51ac67-3e6a-4954-ba07-6654318483e3');\n",
       "var x = new MutationObserver(function (mutations, observer) {{\n",
       "        var display = window.getComputedStyle(gd).display;\n",
       "        if (!display || display === 'none') {{\n",
       "            console.log([gd, 'removed!']);\n",
       "            Plotly.purge(gd);\n",
       "            observer.disconnect();\n",
       "        }}\n",
       "}});\n",
       "\n",
       "// Listen for the removal of the full notebook cells\n",
       "var notebookContainer = gd.closest('#notebook-container');\n",
       "if (notebookContainer) {{\n",
       "    x.observe(notebookContainer, {childList: true});\n",
       "}}\n",
       "\n",
       "// Listen for the clearing of the current output cell\n",
       "var outputEl = gd.closest('.output');\n",
       "if (outputEl) {{\n",
       "    x.observe(outputEl, {childList: true});\n",
       "}}\n",
       "\n",
       "                        })                };                });            </script>        </div>"
      ]
     },
     "metadata": {},
     "output_type": "display_data"
    }
   ],
   "source": [
    "import plotly.express as px\n",
    "fig = px.scatter(\n",
    "    embeddings[2], x=0, y=1,\n",
    ")\n",
    "fig.show()"
   ]
  },
  {
   "cell_type": "code",
   "execution_count": 13,
   "metadata": {},
   "outputs": [
    {
     "name": "stdout",
     "output_type": "stream",
     "text": [
      "smoothing mds plots\n",
      "rotating layers to minimize edge lengths\n",
      "rotating layer 0 by 6.086835766330224 rads\n",
      "rotating layer 1 by 1.2762720155208536 rads\n",
      "rotating layer 2 by 5.792311455056181 rads\n",
      "rotating layer 3 by 1.8653206380689396 rads\n",
      "rotating layer 4 by 4.71238898038469 rads\n"
     ]
    }
   ],
   "source": [
    "smooth_embeddings = gen_layer_smooth_no_types(embeddings,iterations=200,scale=.3)"
   ]
  },
  {
   "cell_type": "code",
   "execution_count": 24,
   "metadata": {},
   "outputs": [
    {
     "data": {
      "text/plain": [
       "(64, 2)"
      ]
     },
     "execution_count": 24,
     "metadata": {},
     "output_type": "execute_result"
    }
   ],
   "source": [
    "smooth_embeddings[0].shape"
   ]
  },
  {
   "cell_type": "code",
   "execution_count": 29,
   "metadata": {},
   "outputs": [
    {
     "data": {
      "text/plain": [
       "dict_keys([0, 1, 2, 3, 4])"
      ]
     },
     "execution_count": 29,
     "metadata": {},
     "output_type": "execute_result"
    }
   ],
   "source": [
    "smooth_embeddings.keys()"
   ]
  },
  {
   "cell_type": "code",
   "execution_count": 36,
   "metadata": {},
   "outputs": [
    {
     "data": {
      "application/vnd.plotly.v1+json": {
       "config": {
        "plotlyServerURL": "https://plot.ly"
       },
       "data": [
        {
         "hovertemplate": "0=%{x}<br>1=%{y}<extra></extra>",
         "legendgroup": "",
         "marker": {
          "color": "#636efa",
          "symbol": "circle"
         },
         "mode": "markers",
         "name": "",
         "orientation": "v",
         "showlegend": false,
         "type": "scatter",
         "x": [
          -0.0171705031648192,
          0.014289804766225841,
          -0.11785603772894482,
          0.10188987149223942,
          -0.13707745098515892,
          -0.09991489666786829,
          0.024851374355600395,
          -0.08791774988656084,
          -0.11088442381981287,
          -0.08523684984599768,
          -0.12650377125710602,
          0.020251548369995355,
          -0.11969532559517057,
          0.03462621686631328,
          -0.13244036343273602,
          0.11213172647461257,
          0.048395770894021715,
          -0.04726681675692255,
          -0.0004283744209254593,
          -0.08820838430736447,
          0.0612128277535844,
          -0.07660596252361401,
          0.00997857212547204,
          0.051623936810069826,
          -0.008490439651158399,
          0.10937661467629306,
          0.04558435608197936,
          0.07437689735556237,
          0.05728617138010436,
          -0.03023508980362911,
          -0.08335032244028708,
          0.08920219424513212,
          -0.12226959465078968,
          0.0016981262734734296,
          -0.02125292932717867,
          -0.03195057061213852,
          -0.09017297834632161,
          0.05265765756635872,
          -0.07180844162350666,
          -0.00023974613305441673,
          -0.11602221962655511,
          0.02876235757213981,
          0.07040988341831456,
          0.00018099805822507404,
          -0.03368272813106308,
          -0.05455727667084805,
          0.008184780438833592,
          0.011956338792672546,
          7.5047567573614e-05,
          0.03406852794222513,
          -0.045477280036579255,
          -0.07172169524850461,
          -0.11173569222224126,
          0.032648758847276346,
          -0.06392999410269518,
          -0.14779589786090944,
          0.06239609198366138,
          0.030957746246244994,
          0.005424392755963145,
          0.11237299903410601,
          0.03159269296830271,
          -0.1389905825999479,
          0.070753348056063,
          -0.05131077550169482,
          -0.09921436700745971,
          -0.05024678154302056,
          -0.08062425696716433,
          -0.056147050643648465,
          -0.009699449187924373,
          0.02297870536558061,
          0.027262005592322145,
          -0.02827002854122907,
          0.142066926233074,
          -0.07293663752473298,
          0.040699840836255656,
          0.01736084747392951,
          -0.006693125118017178,
          -0.06126440777555445,
          0.04716264598105355,
          0.011762873008765261,
          0.10097668692929535,
          -0.02474943268061414,
          -0.04707252701834258,
          0.13374646705340282,
          -0.04717992015936283,
          0.14865278816981706,
          -0.1212671740075933,
          0.029283781146650586,
          -0.09958218246497927,
          0.0712463098451493,
          0.016120049650385812,
          -0.0035297222242123925,
          -0.05515994683727058,
          -0.1281708949514541,
          -0.018154260440014627,
          0.07527647653591203,
          0.07441738359519905,
          -0.019629897152288463,
          -0.11955609324160545,
          -0.06449491410229864,
          0.010082474664253995,
          0.1223368787993516,
          0.10772273089498005,
          -0.05988841075146053,
          -0.12574988897738582,
          -0.03446985006917096,
          0.04364202548280759,
          -0.06090420176609685,
          -0.15317033380276862,
          0.12364326965478406,
          -0.12543575239408752,
          -0.04827961776101299,
          0.10173836997274371,
          -0.1199001820035889,
          -0.00023029441813492718,
          -0.057402869091541825,
          0.07832443866816549,
          0.08520431365034428,
          -0.09553315607008402,
          -0.09888427802219465,
          -0.08151327281510709,
          -0.1399125686767652,
          0.09905932274975796,
          0.004370719515501517,
          -0.022614073231588577,
          -0.0498738257462265,
          -0.02234587249264648,
          -0.035727987941597886,
          0.007929204361103693,
          -0.00840356198171109,
          0.03716089101007957,
          0.13535806948953377,
          -0.09488191534736627,
          -0.02948139756599072,
          0.03359324755545714,
          0.038328144259699014,
          -0.0510445337667906,
          -0.05240899382935123,
          0.04759395679727371,
          -0.0289504724059684,
          0.1269849245915328,
          -0.029177079295122033,
          -0.015115072150029954,
          -0.1534173703172224,
          0.005990635628257136,
          -0.016333291925711348,
          -0.1520261129338991,
          0.04937375808621924,
          -0.014116981505847798,
          0.0484595207128065,
          -0.08626537567083327,
          -0.07723373755168428,
          0.003616801291167963,
          0.06292570232022103,
          0.12609307327571267,
          0.03929188095445779,
          0.11145086707660332,
          -0.07589861475349412,
          0.09689983067614992,
          -0.05685677527044165,
          -0.07416341865331834,
          -0.11289759282995245,
          0.11113151332381094,
          -0.007558897346127499,
          -0.05125854783082052,
          -0.06303408802521439,
          0.005643831512451502,
          -0.12056298656265907,
          -0.040192629361578414,
          -0.07182518314463618,
          0.14522394853483478,
          0.0545553658404319,
          0.01899153647193355,
          0.04279737685688922,
          0.14430238725886002,
          -0.035561795622393325,
          -0.09131620004818676,
          0.08307415605599029,
          0.10812325730046259,
          0.06003948907977032,
          -0.1141305763438338,
          0.07426793554946441,
          0.0732390273424054,
          0.015018493817476457,
          0.10370277879011632,
          0.07137335207041937,
          0.12196090391571689,
          0.026741632741724888,
          -0.025538747671965786,
          -0.09201167660366907,
          -0.04445949289547648,
          0.09761144343722224,
          0.11875473689815554,
          -0.013604602776637572,
          0.09713455297777338,
          0.06324114100868743,
          -0.13913267282507316,
          -0.06625530996292711,
          -0.08294910388575154,
          -0.0039475080184811235,
          -0.10327579648823473,
          0.016405424747246346,
          0.024553805207962826,
          -0.08663295808809,
          0.052349590167017984,
          0.0857955438769236,
          0.0745914275073429,
          0.09427529262464131,
          0.07004134711075104,
          -0.004256316168379881,
          0.07244720388835107,
          -0.066532932579899,
          0.0835449271699676,
          -0.1088200379446146,
          0.12440861221522659,
          -0.08770581590966678,
          0.008316615728004214,
          0.09088969517647327,
          -0.09658675469153065,
          -0.12351329948796155,
          -0.07709941978298196,
          0.1104326220483131,
          -0.011681376042516907,
          -0.13314927677895083,
          -0.1474231950149281,
          0.12635621785099,
          0.08425472641016395,
          0.08956608047963573,
          0.0709681102202454,
          0.02858854275016283,
          -0.08892446331190919,
          0.05050105455036474,
          0.14680476308770957,
          -0.12756750418769489,
          0.08445145780068404,
          -0.10508582658453296,
          -0.10600806924627042,
          0.04607429878805695,
          0.10483809766582623,
          -0.07323437159779062,
          -0.004942163579518314,
          -0.015510005323904143,
          0.0772038779951471,
          0.07088977820045632,
          -0.09811716009426023,
          0.13681788555273508,
          0.05111658515725744,
          0.15112581366610098,
          0.1359218484758507,
          0.030595986488695538,
          -0.023816963119209493,
          -0.05325834571462443,
          0.08484207030588832,
          -0.091032667870828,
          0.082765681338453,
          0.13745567687667157,
          0.02388639146310791,
          0.06043598903469717,
          -0.05342549363654713,
          -0.13672256257749685,
          -0.10677195143662246,
          0.0062887424148529965,
          0.011261401053337708,
          0.1210907378817533,
          -0.10288555993004912,
          0.13638547093834755,
          -0.11454755897267298,
          0.09566309070644724,
          -0.041288659670232236,
          0.11386038876705394,
          0.059570916762463955,
          0.015504391567819326,
          -0.010036315115802868,
          -0.012977696335073575,
          -0.04458215574732599,
          -0.13120643868070253,
          0.07031452142127133,
          0.04246200097760154,
          -0.06755091786484628,
          -0.020998958877015413,
          0.037707920021223716,
          0.03078980170512388,
          0.026194557414551067,
          0.11760521593382317,
          -0.00748898771377627,
          -0.022130084317215467,
          -0.1502436702716624,
          0.09986296863355018,
          0.10946803830279853,
          0.12154646733646542,
          0.08283493527131258,
          0.06457792500710881,
          -0.080503121514825,
          -0.10825561159414687,
          -0.03708971093064,
          -0.028583627257650773,
          -0.031285069503903626,
          0.02040410488799523,
          0.07639220982900669,
          0.09477573507961394,
          0.014230868142765684,
          0.15261342988895643,
          -0.026858688254452916,
          -0.03735364026995789,
          0.030360857808486956,
          0.0976823542960426,
          0.15398586158373845,
          -0.01883225396742175,
          0.05890571416028778,
          -0.009143526336056461,
          0.05089668157415871,
          0.03554880886832762,
          -0.07320475977433447,
          0.04750479320757252,
          0.02151784742754293,
          -0.07401145377377517,
          -0.06132926286762952,
          -0.04827470640713703,
          0.11446867239705823,
          -0.0904102748195701,
          0.0694208379747736,
          0.04951738923754373,
          -0.044525685473908616,
          -0.04318604563464243,
          -0.0370558550337356,
          0.1314305329877254,
          -0.14148171278980715,
          -0.14541257080464717,
          0.1254364922473439,
          -0.06083374075279562,
          -0.1017197725005535,
          -0.013125292259332334,
          -0.1052712292316454,
          0.024730351753130982,
          -0.08601123535883923,
          0.08903171238965864,
          0.08811430236327483,
          0.059004810986794096,
          0.13139648463087175,
          -0.03618734907144653,
          0.060942436138979865,
          -0.11202972115436167,
          0.08586789353734105,
          -0.13899756455109777,
          0.020248751259425792,
          0.08750445965004011,
          -3.0084399712144272e-05,
          0.039991291664562396,
          -0.032863281198319196,
          0.01564810614463981,
          -0.041142555389151576,
          0.03770593498906281,
          0.1117462287070057,
          0.10014920623214982,
          0.09757402110028987,
          -0.03712738583356092,
          -0.0038686983034851873,
          0.05709541528676216,
          -0.014855578246509396,
          0.12448261884961608,
          0.14938630781249232,
          0.04457561550758052,
          0.00683732748596269,
          0.017505390650839312,
          -0.02453300656889637,
          -0.09915008146673593,
          -0.06801114888696401,
          0.13859749133142887,
          0.0425667985779109,
          -0.06940159091812806,
          -0.07305348562243677,
          -0.06278558815886699,
          -0.019963432747952724,
          -0.05887375723247637,
          -0.06903167423483582,
          0.06009390610613581,
          0.058529821590786214,
          -0.1327073277966493,
          -0.03482352119094678,
          0.013508456331337996,
          -0.004100238104812807,
          -0.08162828588638976,
          -0.0430425096291031,
          -0.10807476618794061
         ],
         "xaxis": "x",
         "y": [
          0.10207644997473142,
          0.041765215307198,
          -0.018516600237088815,
          -0.08083562173187846,
          -0.06509460872027643,
          0.06314428461345678,
          -0.03379401672195981,
          0.12608147088160218,
          0.10672084591131924,
          0.00749612536361272,
          0.00912862796901234,
          0.09194433480862343,
          -0.08295300801473778,
          -0.11002071249776406,
          -0.07904747007368916,
          -0.07154638416053889,
          0.13561062108824906,
          0.02426287707908107,
          -0.09308073166845754,
          -0.12638231952713075,
          -0.0816518175552813,
          0.03398376425679761,
          0.12869691330057298,
          -0.019245377366158174,
          -0.06724857192272343,
          0.08765478486289982,
          -0.09859874288342257,
          0.09020214183265979,
          0.06425529969940794,
          -0.02524027634970077,
          0.021057329363657215,
          -0.07683188850623793,
          0.04882829244929489,
          -0.0015587364251021568,
          -0.03669121353581233,
          0.10021379107116887,
          0.03566472604472465,
          -0.06950867067238037,
          -0.13690667536698645,
          -0.01773930941147285,
          0.0350074888575276,
          0.11366533414465181,
          0.07709051043646756,
          0.0658034461990899,
          0.1485364958971453,
          -0.1214922541770035,
          0.05310943640001811,
          -0.09757822625217995,
          -0.0794711795594157,
          -0.05749208368816138,
          0.09587436136084558,
          0.09264532011070287,
          0.07986625912005653,
          -0.0841363178058372,
          0.027073932061636306,
          0.03971378628823273,
          -0.06154924294457643,
          -0.15019269900805451,
          0.0888900484984195,
          -0.08946705427777521,
          -0.0061096559975945385,
          0.024742319171066927,
          0.06288663488948597,
          0.011482937560896399,
          -0.11556913618281427,
          -0.06552947968159824,
          -0.09520233468200506,
          -0.0011095586850886976,
          -0.1537372422394255,
          -0.047062884002766474,
          -0.09552711886868864,
          0.06026334927177631,
          0.056954566304141564,
          0.003074183759575353,
          0.04054674861169863,
          0.003908138432905784,
          0.012207311636309096,
          0.040883990026591197,
          -0.05325618479344988,
          -0.02620676934441413,
          -0.11579022115684874,
          0.03575482407076391,
          0.037404917002466946,
          -0.005826011931765535,
          -0.05026616765364711,
          -0.006858129672706632,
          -0.06795716710219699,
          0.06253397378614395,
          0.11466280041594867,
          -0.12328258115563528,
          -0.15259769440889004,
          -0.1373149465869311,
          -0.037743053147790244,
          0.07816185120890179,
          -0.11731919375154129,
          -0.09565766580725951,
          -0.08136411727094219,
          -0.1446662880113648,
          -0.09712417215402559,
          0.08007998231496247,
          0.10307567395758829,
          -0.06050747476341582,
          0.1082921368812154,
          0.1360896345093462,
          -0.007327623442505447,
          -0.08997510906328637,
          0.10489580617714984,
          -0.07479820285737913,
          0.007662779515955852,
          0.010957186234285658,
          0.024445029525045677,
          0.0703133523575939,
          0.0018494341274001708,
          -0.03176201784983746,
          0.12014634787653615,
          -0.09351350092777173,
          0.01566157908692983,
          0.07470593812918642,
          -0.09664284443272834,
          0.022675425121051987,
          0.060298496607590006,
          0.00910995013500648,
          0.025271129116032322,
          -0.05173271684717966,
          -0.09644274869173484,
          0.14578153003614866,
          0.08744740278508124,
          0.04473816488413641,
          0.02875477696741436,
          -0.045321324015583496,
          0.024460048149246707,
          0.0323128597953592,
          -0.07994295316036092,
          -0.13236425795171744,
          -0.1264932081856483,
          -0.13974387255614204,
          -0.015711082490040326,
          0.08358720148418616,
          -0.0854893488975013,
          -0.011869574468013535,
          0.08597640321854966,
          -0.10868762808231346,
          -0.08438368336290192,
          -0.00787663750231915,
          -0.1285922937498216,
          -0.05638226654187914,
          0.024020290560005503,
          0.016380047234335466,
          0.06282007020173506,
          -0.1272541325985384,
          0.11122588138371597,
          -0.11813751873644822,
          -0.14917207941376467,
          0.13987204154371327,
          -0.08883795992115114,
          -0.0710208135479647,
          0.020287746117582446,
          -0.02958246199571006,
          0.10094260187655776,
          -0.14119424361890023,
          0.10576008347198294,
          -0.057490655863110154,
          0.0521473218560196,
          0.09060863514374264,
          0.12479751172769488,
          0.06195961434430764,
          -0.06644619192446347,
          -0.04463662417171395,
          0.1354312167863821,
          -0.06690757091828603,
          0.01723422126952226,
          0.07823206158126134,
          -0.13877957541849173,
          0.09055504042314813,
          -0.053332690815230045,
          0.12124729141251381,
          -0.007036342952867568,
          0.04173134336419823,
          -0.032834538089113054,
          -0.13477848892009892,
          0.003540235478355483,
          -0.135938138016956,
          -0.053041051863764885,
          -0.08239497496218207,
          -0.06014887247705813,
          -0.038273309890041615,
          0.07385973453675217,
          0.07921524694373949,
          0.13280962596433296,
          0.09838533273014623,
          0.11036273856672674,
          -0.010902940415008175,
          0.03853855888286777,
          0.02652478642843551,
          0.1187759569221366,
          -0.026489164534852686,
          -0.006131970583709595,
          0.014598360979617555,
          0.08525338510976012,
          0.1538097658286768,
          0.03885752356108422,
          0.06413671713874464,
          -0.01850221056921967,
          -0.06508403788359281,
          0.030138098669929517,
          0.028475996010189058,
          -0.1097499246978159,
          0.012323590193698405,
          0.10465579723563169,
          -0.11517592540872684,
          -0.017717193360842463,
          -0.12521669983614547,
          0.10449025067281188,
          0.09448995922784038,
          -0.02475025389169183,
          -0.04337953082325944,
          -0.11315048367823562,
          -0.06246328669197941,
          -0.056738354169287665,
          0.0915306494249597,
          -0.05279937265368888,
          0.06794703866215589,
          -0.003929747518348108,
          -0.022917379028242185,
          -0.020235308793652818,
          -0.07561277543969044,
          0.059024945944555304,
          0.08909765363822277,
          0.04887546329806982,
          0.048753144241851544,
          -0.026979943378182537,
          0.05101326051152664,
          0.04216489802313152,
          0.06115611641505446,
          -0.01209570954052606,
          -0.04516140736492701,
          -0.007122440155136482,
          0.11895252270466065,
          0.03742287466058995,
          0.13549378919748972,
          0.0484453543659624,
          -0.018470444414937736,
          0.13309720162678892,
          0.11941738428333236,
          0.08482201542767569,
          0.0077072174589434845,
          -0.1454814399584224,
          0.027989139356322364,
          0.07050452990116851,
          0.010234987111898875,
          0.1141754150835534,
          0.05265760812646465,
          0.1206507182754691,
          0.07264270336953221,
          0.002582452020715259,
          -0.06789764824818795,
          -0.07155328607570711,
          -0.11385571557146021,
          -0.10864128987866127,
          -0.03744318770959829,
          -0.08739024656404538,
          0.014481686385253342,
          0.07699226898488211,
          -0.010543853502559573,
          -0.020177437215991356,
          -0.03579344496694695,
          0.06707918161653062,
          0.047788758529361146,
          -0.005684687952404633,
          -0.10386401450230444,
          0.004134803806077202,
          0.15446672643869194,
          -0.10222637366814935,
          0.12340169792425547,
          -0.13052570672974112,
          -0.05242336239116041,
          0.030534484598946792,
          0.062064610078189954,
          -0.009941043752080447,
          0.014863070057124759,
          -0.02189440430472232,
          0.1473196552448872,
          0.03379261864694526,
          0.09793454158124394,
          -0.03066728776954295,
          -0.07172553539513987,
          -0.033647411029604064,
          0.07876243422169411,
          -0.01823272865819891,
          -0.03901132938166137,
          -0.031180331431612134,
          0.017174188920216982,
          -0.014236010428685079,
          0.052397310233811306,
          0.00912381506483716,
          -0.05095845488039684,
          -0.15065063071267296,
          0.02029510031456111,
          -0.06754508795087488,
          -0.0261857268942857,
          0.1425075554916256,
          -0.020400003025483133,
          0.07395642015464222,
          0.08277411159626301,
          0.09953157791043796,
          0.06284944542607825,
          0.005571014564582095,
          0.048072945191282634,
          0.09145565268506438,
          0.07666041284587051,
          -0.007301538768162959,
          0.1273837752721255,
          0.048690287557236665,
          -0.11302888929272911,
          -0.10945333430712839,
          0.07136354527286297,
          -0.0549038185808574,
          -0.08217601643837094,
          0.0018141222505392732,
          0.04997981556656304,
          -0.004008623378673851,
          -0.033896199001874176,
          -0.027409445657572216,
          -0.14454534989214562,
          -0.03978368429736786,
          -0.050326370857248975,
          0.052527767525194426,
          -0.050826836783071275,
          0.024473087688999026,
          0.11506076733508998,
          -0.03327001708263798,
          0.13863055692331974,
          -0.07043968893949366,
          0.132923247137136,
          -0.10809095552914733,
          -0.09181121416850271,
          -0.10917255984091966,
          0.12505664999887717,
          0.04661376582761207,
          -0.062310987908920236,
          -0.09781495471351999,
          0.018956831151545804,
          -0.04822245391053406,
          0.06786592369714314,
          -0.12486469644069784,
          -0.12481602306146208,
          0.1403399228724686,
          0.07681496582211615,
          0.024366380251864127,
          0.11549477072217244,
          0.059128635692266326,
          -0.04029271370202108,
          -0.04917897676002783,
          -0.09994646247030266,
          -0.04299986750847305,
          -0.11864202388385726,
          0.034744425499796526,
          0.10696121963537786,
          -0.13015143968899376,
          0.058420507645336274,
          -0.036729864234486376,
          0.1475949843204892,
          -0.03839726534957349,
          -0.05927588753396852,
          0.001601675376507022,
          0.007514250810415473,
          -0.10548368441486036,
          -0.020591463929619337,
          0.0034585484828274235,
          -0.08694620274152916,
          0.12186593776619303,
          -0.02413279812354424,
          0.15132697005863668,
          0.10053764636957342,
          -0.041293031505128454,
          0.04128743871313811,
          -0.04528213365239464,
          0.03919158365581231,
          -0.07643239382491085,
          -0.009685181980405449,
          0.10676678588950787,
          -0.07948367377622916,
          -0.10067214216111806,
          -0.10532453342501627
         ],
         "yaxis": "y"
        }
       ],
       "layout": {
        "height": 600,
        "legend": {
         "tracegroupgap": 0
        },
        "margin": {
         "t": 60
        },
        "template": {
         "data": {
          "bar": [
           {
            "error_x": {
             "color": "#2a3f5f"
            },
            "error_y": {
             "color": "#2a3f5f"
            },
            "marker": {
             "line": {
              "color": "#E5ECF6",
              "width": 0.5
             }
            },
            "type": "bar"
           }
          ],
          "barpolar": [
           {
            "marker": {
             "line": {
              "color": "#E5ECF6",
              "width": 0.5
             }
            },
            "type": "barpolar"
           }
          ],
          "carpet": [
           {
            "aaxis": {
             "endlinecolor": "#2a3f5f",
             "gridcolor": "white",
             "linecolor": "white",
             "minorgridcolor": "white",
             "startlinecolor": "#2a3f5f"
            },
            "baxis": {
             "endlinecolor": "#2a3f5f",
             "gridcolor": "white",
             "linecolor": "white",
             "minorgridcolor": "white",
             "startlinecolor": "#2a3f5f"
            },
            "type": "carpet"
           }
          ],
          "choropleth": [
           {
            "colorbar": {
             "outlinewidth": 0,
             "ticks": ""
            },
            "type": "choropleth"
           }
          ],
          "contour": [
           {
            "colorbar": {
             "outlinewidth": 0,
             "ticks": ""
            },
            "colorscale": [
             [
              0,
              "#0d0887"
             ],
             [
              0.1111111111111111,
              "#46039f"
             ],
             [
              0.2222222222222222,
              "#7201a8"
             ],
             [
              0.3333333333333333,
              "#9c179e"
             ],
             [
              0.4444444444444444,
              "#bd3786"
             ],
             [
              0.5555555555555556,
              "#d8576b"
             ],
             [
              0.6666666666666666,
              "#ed7953"
             ],
             [
              0.7777777777777778,
              "#fb9f3a"
             ],
             [
              0.8888888888888888,
              "#fdca26"
             ],
             [
              1,
              "#f0f921"
             ]
            ],
            "type": "contour"
           }
          ],
          "contourcarpet": [
           {
            "colorbar": {
             "outlinewidth": 0,
             "ticks": ""
            },
            "type": "contourcarpet"
           }
          ],
          "heatmap": [
           {
            "colorbar": {
             "outlinewidth": 0,
             "ticks": ""
            },
            "colorscale": [
             [
              0,
              "#0d0887"
             ],
             [
              0.1111111111111111,
              "#46039f"
             ],
             [
              0.2222222222222222,
              "#7201a8"
             ],
             [
              0.3333333333333333,
              "#9c179e"
             ],
             [
              0.4444444444444444,
              "#bd3786"
             ],
             [
              0.5555555555555556,
              "#d8576b"
             ],
             [
              0.6666666666666666,
              "#ed7953"
             ],
             [
              0.7777777777777778,
              "#fb9f3a"
             ],
             [
              0.8888888888888888,
              "#fdca26"
             ],
             [
              1,
              "#f0f921"
             ]
            ],
            "type": "heatmap"
           }
          ],
          "heatmapgl": [
           {
            "colorbar": {
             "outlinewidth": 0,
             "ticks": ""
            },
            "colorscale": [
             [
              0,
              "#0d0887"
             ],
             [
              0.1111111111111111,
              "#46039f"
             ],
             [
              0.2222222222222222,
              "#7201a8"
             ],
             [
              0.3333333333333333,
              "#9c179e"
             ],
             [
              0.4444444444444444,
              "#bd3786"
             ],
             [
              0.5555555555555556,
              "#d8576b"
             ],
             [
              0.6666666666666666,
              "#ed7953"
             ],
             [
              0.7777777777777778,
              "#fb9f3a"
             ],
             [
              0.8888888888888888,
              "#fdca26"
             ],
             [
              1,
              "#f0f921"
             ]
            ],
            "type": "heatmapgl"
           }
          ],
          "histogram": [
           {
            "marker": {
             "colorbar": {
              "outlinewidth": 0,
              "ticks": ""
             }
            },
            "type": "histogram"
           }
          ],
          "histogram2d": [
           {
            "colorbar": {
             "outlinewidth": 0,
             "ticks": ""
            },
            "colorscale": [
             [
              0,
              "#0d0887"
             ],
             [
              0.1111111111111111,
              "#46039f"
             ],
             [
              0.2222222222222222,
              "#7201a8"
             ],
             [
              0.3333333333333333,
              "#9c179e"
             ],
             [
              0.4444444444444444,
              "#bd3786"
             ],
             [
              0.5555555555555556,
              "#d8576b"
             ],
             [
              0.6666666666666666,
              "#ed7953"
             ],
             [
              0.7777777777777778,
              "#fb9f3a"
             ],
             [
              0.8888888888888888,
              "#fdca26"
             ],
             [
              1,
              "#f0f921"
             ]
            ],
            "type": "histogram2d"
           }
          ],
          "histogram2dcontour": [
           {
            "colorbar": {
             "outlinewidth": 0,
             "ticks": ""
            },
            "colorscale": [
             [
              0,
              "#0d0887"
             ],
             [
              0.1111111111111111,
              "#46039f"
             ],
             [
              0.2222222222222222,
              "#7201a8"
             ],
             [
              0.3333333333333333,
              "#9c179e"
             ],
             [
              0.4444444444444444,
              "#bd3786"
             ],
             [
              0.5555555555555556,
              "#d8576b"
             ],
             [
              0.6666666666666666,
              "#ed7953"
             ],
             [
              0.7777777777777778,
              "#fb9f3a"
             ],
             [
              0.8888888888888888,
              "#fdca26"
             ],
             [
              1,
              "#f0f921"
             ]
            ],
            "type": "histogram2dcontour"
           }
          ],
          "mesh3d": [
           {
            "colorbar": {
             "outlinewidth": 0,
             "ticks": ""
            },
            "type": "mesh3d"
           }
          ],
          "parcoords": [
           {
            "line": {
             "colorbar": {
              "outlinewidth": 0,
              "ticks": ""
             }
            },
            "type": "parcoords"
           }
          ],
          "pie": [
           {
            "automargin": true,
            "type": "pie"
           }
          ],
          "scatter": [
           {
            "marker": {
             "colorbar": {
              "outlinewidth": 0,
              "ticks": ""
             }
            },
            "type": "scatter"
           }
          ],
          "scatter3d": [
           {
            "line": {
             "colorbar": {
              "outlinewidth": 0,
              "ticks": ""
             }
            },
            "marker": {
             "colorbar": {
              "outlinewidth": 0,
              "ticks": ""
             }
            },
            "type": "scatter3d"
           }
          ],
          "scattercarpet": [
           {
            "marker": {
             "colorbar": {
              "outlinewidth": 0,
              "ticks": ""
             }
            },
            "type": "scattercarpet"
           }
          ],
          "scattergeo": [
           {
            "marker": {
             "colorbar": {
              "outlinewidth": 0,
              "ticks": ""
             }
            },
            "type": "scattergeo"
           }
          ],
          "scattergl": [
           {
            "marker": {
             "colorbar": {
              "outlinewidth": 0,
              "ticks": ""
             }
            },
            "type": "scattergl"
           }
          ],
          "scattermapbox": [
           {
            "marker": {
             "colorbar": {
              "outlinewidth": 0,
              "ticks": ""
             }
            },
            "type": "scattermapbox"
           }
          ],
          "scatterpolar": [
           {
            "marker": {
             "colorbar": {
              "outlinewidth": 0,
              "ticks": ""
             }
            },
            "type": "scatterpolar"
           }
          ],
          "scatterpolargl": [
           {
            "marker": {
             "colorbar": {
              "outlinewidth": 0,
              "ticks": ""
             }
            },
            "type": "scatterpolargl"
           }
          ],
          "scatterternary": [
           {
            "marker": {
             "colorbar": {
              "outlinewidth": 0,
              "ticks": ""
             }
            },
            "type": "scatterternary"
           }
          ],
          "surface": [
           {
            "colorbar": {
             "outlinewidth": 0,
             "ticks": ""
            },
            "colorscale": [
             [
              0,
              "#0d0887"
             ],
             [
              0.1111111111111111,
              "#46039f"
             ],
             [
              0.2222222222222222,
              "#7201a8"
             ],
             [
              0.3333333333333333,
              "#9c179e"
             ],
             [
              0.4444444444444444,
              "#bd3786"
             ],
             [
              0.5555555555555556,
              "#d8576b"
             ],
             [
              0.6666666666666666,
              "#ed7953"
             ],
             [
              0.7777777777777778,
              "#fb9f3a"
             ],
             [
              0.8888888888888888,
              "#fdca26"
             ],
             [
              1,
              "#f0f921"
             ]
            ],
            "type": "surface"
           }
          ],
          "table": [
           {
            "cells": {
             "fill": {
              "color": "#EBF0F8"
             },
             "line": {
              "color": "white"
             }
            },
            "header": {
             "fill": {
              "color": "#C8D4E3"
             },
             "line": {
              "color": "white"
             }
            },
            "type": "table"
           }
          ]
         },
         "layout": {
          "annotationdefaults": {
           "arrowcolor": "#2a3f5f",
           "arrowhead": 0,
           "arrowwidth": 1
          },
          "autotypenumbers": "strict",
          "coloraxis": {
           "colorbar": {
            "outlinewidth": 0,
            "ticks": ""
           }
          },
          "colorscale": {
           "diverging": [
            [
             0,
             "#8e0152"
            ],
            [
             0.1,
             "#c51b7d"
            ],
            [
             0.2,
             "#de77ae"
            ],
            [
             0.3,
             "#f1b6da"
            ],
            [
             0.4,
             "#fde0ef"
            ],
            [
             0.5,
             "#f7f7f7"
            ],
            [
             0.6,
             "#e6f5d0"
            ],
            [
             0.7,
             "#b8e186"
            ],
            [
             0.8,
             "#7fbc41"
            ],
            [
             0.9,
             "#4d9221"
            ],
            [
             1,
             "#276419"
            ]
           ],
           "sequential": [
            [
             0,
             "#0d0887"
            ],
            [
             0.1111111111111111,
             "#46039f"
            ],
            [
             0.2222222222222222,
             "#7201a8"
            ],
            [
             0.3333333333333333,
             "#9c179e"
            ],
            [
             0.4444444444444444,
             "#bd3786"
            ],
            [
             0.5555555555555556,
             "#d8576b"
            ],
            [
             0.6666666666666666,
             "#ed7953"
            ],
            [
             0.7777777777777778,
             "#fb9f3a"
            ],
            [
             0.8888888888888888,
             "#fdca26"
            ],
            [
             1,
             "#f0f921"
            ]
           ],
           "sequentialminus": [
            [
             0,
             "#0d0887"
            ],
            [
             0.1111111111111111,
             "#46039f"
            ],
            [
             0.2222222222222222,
             "#7201a8"
            ],
            [
             0.3333333333333333,
             "#9c179e"
            ],
            [
             0.4444444444444444,
             "#bd3786"
            ],
            [
             0.5555555555555556,
             "#d8576b"
            ],
            [
             0.6666666666666666,
             "#ed7953"
            ],
            [
             0.7777777777777778,
             "#fb9f3a"
            ],
            [
             0.8888888888888888,
             "#fdca26"
            ],
            [
             1,
             "#f0f921"
            ]
           ]
          },
          "colorway": [
           "#636efa",
           "#EF553B",
           "#00cc96",
           "#ab63fa",
           "#FFA15A",
           "#19d3f3",
           "#FF6692",
           "#B6E880",
           "#FF97FF",
           "#FECB52"
          ],
          "font": {
           "color": "#2a3f5f"
          },
          "geo": {
           "bgcolor": "white",
           "lakecolor": "white",
           "landcolor": "#E5ECF6",
           "showlakes": true,
           "showland": true,
           "subunitcolor": "white"
          },
          "hoverlabel": {
           "align": "left"
          },
          "hovermode": "closest",
          "mapbox": {
           "style": "light"
          },
          "paper_bgcolor": "white",
          "plot_bgcolor": "#E5ECF6",
          "polar": {
           "angularaxis": {
            "gridcolor": "white",
            "linecolor": "white",
            "ticks": ""
           },
           "bgcolor": "#E5ECF6",
           "radialaxis": {
            "gridcolor": "white",
            "linecolor": "white",
            "ticks": ""
           }
          },
          "scene": {
           "xaxis": {
            "backgroundcolor": "#E5ECF6",
            "gridcolor": "white",
            "gridwidth": 2,
            "linecolor": "white",
            "showbackground": true,
            "ticks": "",
            "zerolinecolor": "white"
           },
           "yaxis": {
            "backgroundcolor": "#E5ECF6",
            "gridcolor": "white",
            "gridwidth": 2,
            "linecolor": "white",
            "showbackground": true,
            "ticks": "",
            "zerolinecolor": "white"
           },
           "zaxis": {
            "backgroundcolor": "#E5ECF6",
            "gridcolor": "white",
            "gridwidth": 2,
            "linecolor": "white",
            "showbackground": true,
            "ticks": "",
            "zerolinecolor": "white"
           }
          },
          "shapedefaults": {
           "line": {
            "color": "#2a3f5f"
           }
          },
          "ternary": {
           "aaxis": {
            "gridcolor": "white",
            "linecolor": "white",
            "ticks": ""
           },
           "baxis": {
            "gridcolor": "white",
            "linecolor": "white",
            "ticks": ""
           },
           "bgcolor": "#E5ECF6",
           "caxis": {
            "gridcolor": "white",
            "linecolor": "white",
            "ticks": ""
           }
          },
          "title": {
           "x": 0.05
          },
          "xaxis": {
           "automargin": true,
           "gridcolor": "white",
           "linecolor": "white",
           "ticks": "",
           "title": {
            "standoff": 15
           },
           "zerolinecolor": "white",
           "zerolinewidth": 2
          },
          "yaxis": {
           "automargin": true,
           "gridcolor": "white",
           "linecolor": "white",
           "ticks": "",
           "title": {
            "standoff": 15
           },
           "zerolinecolor": "white",
           "zerolinewidth": 2
          }
         }
        },
        "width": 600,
        "xaxis": {
         "anchor": "y",
         "domain": [
          0,
          1
         ],
         "title": {
          "text": "0"
         }
        },
        "yaxis": {
         "anchor": "x",
         "domain": [
          0,
          1
         ],
         "title": {
          "text": "1"
         }
        }
       }
      },
      "text/html": [
       "<div>                            <div id=\"21268a04-a20e-433a-8fd1-16411f56701e\" class=\"plotly-graph-div\" style=\"height:600px; width:600px;\"></div>            <script type=\"text/javascript\">                require([\"plotly\"], function(Plotly) {                    window.PLOTLYENV=window.PLOTLYENV || {};                                    if (document.getElementById(\"21268a04-a20e-433a-8fd1-16411f56701e\")) {                    Plotly.newPlot(                        \"21268a04-a20e-433a-8fd1-16411f56701e\",                        [{\"hovertemplate\": \"0=%{x}<br>1=%{y}<extra></extra>\", \"legendgroup\": \"\", \"marker\": {\"color\": \"#636efa\", \"symbol\": \"circle\"}, \"mode\": \"markers\", \"name\": \"\", \"orientation\": \"v\", \"showlegend\": false, \"type\": \"scatter\", \"x\": [-0.0171705031648192, 0.014289804766225841, -0.11785603772894482, 0.10188987149223942, -0.13707745098515892, -0.09991489666786829, 0.024851374355600395, -0.08791774988656084, -0.11088442381981287, -0.08523684984599768, -0.12650377125710602, 0.020251548369995355, -0.11969532559517057, 0.03462621686631328, -0.13244036343273602, 0.11213172647461257, 0.048395770894021715, -0.04726681675692255, -0.0004283744209254593, -0.08820838430736447, 0.0612128277535844, -0.07660596252361401, 0.00997857212547204, 0.051623936810069826, -0.008490439651158399, 0.10937661467629306, 0.04558435608197936, 0.07437689735556237, 0.05728617138010436, -0.03023508980362911, -0.08335032244028708, 0.08920219424513212, -0.12226959465078968, 0.0016981262734734296, -0.02125292932717867, -0.03195057061213852, -0.09017297834632161, 0.05265765756635872, -0.07180844162350666, -0.00023974613305441673, -0.11602221962655511, 0.02876235757213981, 0.07040988341831456, 0.00018099805822507404, -0.03368272813106308, -0.05455727667084805, 0.008184780438833592, 0.011956338792672546, 7.5047567573614e-05, 0.03406852794222513, -0.045477280036579255, -0.07172169524850461, -0.11173569222224126, 0.032648758847276346, -0.06392999410269518, -0.14779589786090944, 0.06239609198366138, 0.030957746246244994, 0.005424392755963145, 0.11237299903410601, 0.03159269296830271, -0.1389905825999479, 0.070753348056063, -0.05131077550169482, -0.09921436700745971, -0.05024678154302056, -0.08062425696716433, -0.056147050643648465, -0.009699449187924373, 0.02297870536558061, 0.027262005592322145, -0.02827002854122907, 0.142066926233074, -0.07293663752473298, 0.040699840836255656, 0.01736084747392951, -0.006693125118017178, -0.06126440777555445, 0.04716264598105355, 0.011762873008765261, 0.10097668692929535, -0.02474943268061414, -0.04707252701834258, 0.13374646705340282, -0.04717992015936283, 0.14865278816981706, -0.1212671740075933, 0.029283781146650586, -0.09958218246497927, 0.0712463098451493, 0.016120049650385812, -0.0035297222242123925, -0.05515994683727058, -0.1281708949514541, -0.018154260440014627, 0.07527647653591203, 0.07441738359519905, -0.019629897152288463, -0.11955609324160545, -0.06449491410229864, 0.010082474664253995, 0.1223368787993516, 0.10772273089498005, -0.05988841075146053, -0.12574988897738582, -0.03446985006917096, 0.04364202548280759, -0.06090420176609685, -0.15317033380276862, 0.12364326965478406, -0.12543575239408752, -0.04827961776101299, 0.10173836997274371, -0.1199001820035889, -0.00023029441813492718, -0.057402869091541825, 0.07832443866816549, 0.08520431365034428, -0.09553315607008402, -0.09888427802219465, -0.08151327281510709, -0.1399125686767652, 0.09905932274975796, 0.004370719515501517, -0.022614073231588577, -0.0498738257462265, -0.02234587249264648, -0.035727987941597886, 0.007929204361103693, -0.00840356198171109, 0.03716089101007957, 0.13535806948953377, -0.09488191534736627, -0.02948139756599072, 0.03359324755545714, 0.038328144259699014, -0.0510445337667906, -0.05240899382935123, 0.04759395679727371, -0.0289504724059684, 0.1269849245915328, -0.029177079295122033, -0.015115072150029954, -0.1534173703172224, 0.005990635628257136, -0.016333291925711348, -0.1520261129338991, 0.04937375808621924, -0.014116981505847798, 0.0484595207128065, -0.08626537567083327, -0.07723373755168428, 0.003616801291167963, 0.06292570232022103, 0.12609307327571267, 0.03929188095445779, 0.11145086707660332, -0.07589861475349412, 0.09689983067614992, -0.05685677527044165, -0.07416341865331834, -0.11289759282995245, 0.11113151332381094, -0.007558897346127499, -0.05125854783082052, -0.06303408802521439, 0.005643831512451502, -0.12056298656265907, -0.040192629361578414, -0.07182518314463618, 0.14522394853483478, 0.0545553658404319, 0.01899153647193355, 0.04279737685688922, 0.14430238725886002, -0.035561795622393325, -0.09131620004818676, 0.08307415605599029, 0.10812325730046259, 0.06003948907977032, -0.1141305763438338, 0.07426793554946441, 0.0732390273424054, 0.015018493817476457, 0.10370277879011632, 0.07137335207041937, 0.12196090391571689, 0.026741632741724888, -0.025538747671965786, -0.09201167660366907, -0.04445949289547648, 0.09761144343722224, 0.11875473689815554, -0.013604602776637572, 0.09713455297777338, 0.06324114100868743, -0.13913267282507316, -0.06625530996292711, -0.08294910388575154, -0.0039475080184811235, -0.10327579648823473, 0.016405424747246346, 0.024553805207962826, -0.08663295808809, 0.052349590167017984, 0.0857955438769236, 0.0745914275073429, 0.09427529262464131, 0.07004134711075104, -0.004256316168379881, 0.07244720388835107, -0.066532932579899, 0.0835449271699676, -0.1088200379446146, 0.12440861221522659, -0.08770581590966678, 0.008316615728004214, 0.09088969517647327, -0.09658675469153065, -0.12351329948796155, -0.07709941978298196, 0.1104326220483131, -0.011681376042516907, -0.13314927677895083, -0.1474231950149281, 0.12635621785099, 0.08425472641016395, 0.08956608047963573, 0.0709681102202454, 0.02858854275016283, -0.08892446331190919, 0.05050105455036474, 0.14680476308770957, -0.12756750418769489, 0.08445145780068404, -0.10508582658453296, -0.10600806924627042, 0.04607429878805695, 0.10483809766582623, -0.07323437159779062, -0.004942163579518314, -0.015510005323904143, 0.0772038779951471, 0.07088977820045632, -0.09811716009426023, 0.13681788555273508, 0.05111658515725744, 0.15112581366610098, 0.1359218484758507, 0.030595986488695538, -0.023816963119209493, -0.05325834571462443, 0.08484207030588832, -0.091032667870828, 0.082765681338453, 0.13745567687667157, 0.02388639146310791, 0.06043598903469717, -0.05342549363654713, -0.13672256257749685, -0.10677195143662246, 0.0062887424148529965, 0.011261401053337708, 0.1210907378817533, -0.10288555993004912, 0.13638547093834755, -0.11454755897267298, 0.09566309070644724, -0.041288659670232236, 0.11386038876705394, 0.059570916762463955, 0.015504391567819326, -0.010036315115802868, -0.012977696335073575, -0.04458215574732599, -0.13120643868070253, 0.07031452142127133, 0.04246200097760154, -0.06755091786484628, -0.020998958877015413, 0.037707920021223716, 0.03078980170512388, 0.026194557414551067, 0.11760521593382317, -0.00748898771377627, -0.022130084317215467, -0.1502436702716624, 0.09986296863355018, 0.10946803830279853, 0.12154646733646542, 0.08283493527131258, 0.06457792500710881, -0.080503121514825, -0.10825561159414687, -0.03708971093064, -0.028583627257650773, -0.031285069503903626, 0.02040410488799523, 0.07639220982900669, 0.09477573507961394, 0.014230868142765684, 0.15261342988895643, -0.026858688254452916, -0.03735364026995789, 0.030360857808486956, 0.0976823542960426, 0.15398586158373845, -0.01883225396742175, 0.05890571416028778, -0.009143526336056461, 0.05089668157415871, 0.03554880886832762, -0.07320475977433447, 0.04750479320757252, 0.02151784742754293, -0.07401145377377517, -0.06132926286762952, -0.04827470640713703, 0.11446867239705823, -0.0904102748195701, 0.0694208379747736, 0.04951738923754373, -0.044525685473908616, -0.04318604563464243, -0.0370558550337356, 0.1314305329877254, -0.14148171278980715, -0.14541257080464717, 0.1254364922473439, -0.06083374075279562, -0.1017197725005535, -0.013125292259332334, -0.1052712292316454, 0.024730351753130982, -0.08601123535883923, 0.08903171238965864, 0.08811430236327483, 0.059004810986794096, 0.13139648463087175, -0.03618734907144653, 0.060942436138979865, -0.11202972115436167, 0.08586789353734105, -0.13899756455109777, 0.020248751259425792, 0.08750445965004011, -3.0084399712144272e-05, 0.039991291664562396, -0.032863281198319196, 0.01564810614463981, -0.041142555389151576, 0.03770593498906281, 0.1117462287070057, 0.10014920623214982, 0.09757402110028987, -0.03712738583356092, -0.0038686983034851873, 0.05709541528676216, -0.014855578246509396, 0.12448261884961608, 0.14938630781249232, 0.04457561550758052, 0.00683732748596269, 0.017505390650839312, -0.02453300656889637, -0.09915008146673593, -0.06801114888696401, 0.13859749133142887, 0.0425667985779109, -0.06940159091812806, -0.07305348562243677, -0.06278558815886699, -0.019963432747952724, -0.05887375723247637, -0.06903167423483582, 0.06009390610613581, 0.058529821590786214, -0.1327073277966493, -0.03482352119094678, 0.013508456331337996, -0.004100238104812807, -0.08162828588638976, -0.0430425096291031, -0.10807476618794061], \"xaxis\": \"x\", \"y\": [0.10207644997473142, 0.041765215307198, -0.018516600237088815, -0.08083562173187846, -0.06509460872027643, 0.06314428461345678, -0.03379401672195981, 0.12608147088160218, 0.10672084591131924, 0.00749612536361272, 0.00912862796901234, 0.09194433480862343, -0.08295300801473778, -0.11002071249776406, -0.07904747007368916, -0.07154638416053889, 0.13561062108824906, 0.02426287707908107, -0.09308073166845754, -0.12638231952713075, -0.0816518175552813, 0.03398376425679761, 0.12869691330057298, -0.019245377366158174, -0.06724857192272343, 0.08765478486289982, -0.09859874288342257, 0.09020214183265979, 0.06425529969940794, -0.02524027634970077, 0.021057329363657215, -0.07683188850623793, 0.04882829244929489, -0.0015587364251021568, -0.03669121353581233, 0.10021379107116887, 0.03566472604472465, -0.06950867067238037, -0.13690667536698645, -0.01773930941147285, 0.0350074888575276, 0.11366533414465181, 0.07709051043646756, 0.0658034461990899, 0.1485364958971453, -0.1214922541770035, 0.05310943640001811, -0.09757822625217995, -0.0794711795594157, -0.05749208368816138, 0.09587436136084558, 0.09264532011070287, 0.07986625912005653, -0.0841363178058372, 0.027073932061636306, 0.03971378628823273, -0.06154924294457643, -0.15019269900805451, 0.0888900484984195, -0.08946705427777521, -0.0061096559975945385, 0.024742319171066927, 0.06288663488948597, 0.011482937560896399, -0.11556913618281427, -0.06552947968159824, -0.09520233468200506, -0.0011095586850886976, -0.1537372422394255, -0.047062884002766474, -0.09552711886868864, 0.06026334927177631, 0.056954566304141564, 0.003074183759575353, 0.04054674861169863, 0.003908138432905784, 0.012207311636309096, 0.040883990026591197, -0.05325618479344988, -0.02620676934441413, -0.11579022115684874, 0.03575482407076391, 0.037404917002466946, -0.005826011931765535, -0.05026616765364711, -0.006858129672706632, -0.06795716710219699, 0.06253397378614395, 0.11466280041594867, -0.12328258115563528, -0.15259769440889004, -0.1373149465869311, -0.037743053147790244, 0.07816185120890179, -0.11731919375154129, -0.09565766580725951, -0.08136411727094219, -0.1446662880113648, -0.09712417215402559, 0.08007998231496247, 0.10307567395758829, -0.06050747476341582, 0.1082921368812154, 0.1360896345093462, -0.007327623442505447, -0.08997510906328637, 0.10489580617714984, -0.07479820285737913, 0.007662779515955852, 0.010957186234285658, 0.024445029525045677, 0.0703133523575939, 0.0018494341274001708, -0.03176201784983746, 0.12014634787653615, -0.09351350092777173, 0.01566157908692983, 0.07470593812918642, -0.09664284443272834, 0.022675425121051987, 0.060298496607590006, 0.00910995013500648, 0.025271129116032322, -0.05173271684717966, -0.09644274869173484, 0.14578153003614866, 0.08744740278508124, 0.04473816488413641, 0.02875477696741436, -0.045321324015583496, 0.024460048149246707, 0.0323128597953592, -0.07994295316036092, -0.13236425795171744, -0.1264932081856483, -0.13974387255614204, -0.015711082490040326, 0.08358720148418616, -0.0854893488975013, -0.011869574468013535, 0.08597640321854966, -0.10868762808231346, -0.08438368336290192, -0.00787663750231915, -0.1285922937498216, -0.05638226654187914, 0.024020290560005503, 0.016380047234335466, 0.06282007020173506, -0.1272541325985384, 0.11122588138371597, -0.11813751873644822, -0.14917207941376467, 0.13987204154371327, -0.08883795992115114, -0.0710208135479647, 0.020287746117582446, -0.02958246199571006, 0.10094260187655776, -0.14119424361890023, 0.10576008347198294, -0.057490655863110154, 0.0521473218560196, 0.09060863514374264, 0.12479751172769488, 0.06195961434430764, -0.06644619192446347, -0.04463662417171395, 0.1354312167863821, -0.06690757091828603, 0.01723422126952226, 0.07823206158126134, -0.13877957541849173, 0.09055504042314813, -0.053332690815230045, 0.12124729141251381, -0.007036342952867568, 0.04173134336419823, -0.032834538089113054, -0.13477848892009892, 0.003540235478355483, -0.135938138016956, -0.053041051863764885, -0.08239497496218207, -0.06014887247705813, -0.038273309890041615, 0.07385973453675217, 0.07921524694373949, 0.13280962596433296, 0.09838533273014623, 0.11036273856672674, -0.010902940415008175, 0.03853855888286777, 0.02652478642843551, 0.1187759569221366, -0.026489164534852686, -0.006131970583709595, 0.014598360979617555, 0.08525338510976012, 0.1538097658286768, 0.03885752356108422, 0.06413671713874464, -0.01850221056921967, -0.06508403788359281, 0.030138098669929517, 0.028475996010189058, -0.1097499246978159, 0.012323590193698405, 0.10465579723563169, -0.11517592540872684, -0.017717193360842463, -0.12521669983614547, 0.10449025067281188, 0.09448995922784038, -0.02475025389169183, -0.04337953082325944, -0.11315048367823562, -0.06246328669197941, -0.056738354169287665, 0.0915306494249597, -0.05279937265368888, 0.06794703866215589, -0.003929747518348108, -0.022917379028242185, -0.020235308793652818, -0.07561277543969044, 0.059024945944555304, 0.08909765363822277, 0.04887546329806982, 0.048753144241851544, -0.026979943378182537, 0.05101326051152664, 0.04216489802313152, 0.06115611641505446, -0.01209570954052606, -0.04516140736492701, -0.007122440155136482, 0.11895252270466065, 0.03742287466058995, 0.13549378919748972, 0.0484453543659624, -0.018470444414937736, 0.13309720162678892, 0.11941738428333236, 0.08482201542767569, 0.0077072174589434845, -0.1454814399584224, 0.027989139356322364, 0.07050452990116851, 0.010234987111898875, 0.1141754150835534, 0.05265760812646465, 0.1206507182754691, 0.07264270336953221, 0.002582452020715259, -0.06789764824818795, -0.07155328607570711, -0.11385571557146021, -0.10864128987866127, -0.03744318770959829, -0.08739024656404538, 0.014481686385253342, 0.07699226898488211, -0.010543853502559573, -0.020177437215991356, -0.03579344496694695, 0.06707918161653062, 0.047788758529361146, -0.005684687952404633, -0.10386401450230444, 0.004134803806077202, 0.15446672643869194, -0.10222637366814935, 0.12340169792425547, -0.13052570672974112, -0.05242336239116041, 0.030534484598946792, 0.062064610078189954, -0.009941043752080447, 0.014863070057124759, -0.02189440430472232, 0.1473196552448872, 0.03379261864694526, 0.09793454158124394, -0.03066728776954295, -0.07172553539513987, -0.033647411029604064, 0.07876243422169411, -0.01823272865819891, -0.03901132938166137, -0.031180331431612134, 0.017174188920216982, -0.014236010428685079, 0.052397310233811306, 0.00912381506483716, -0.05095845488039684, -0.15065063071267296, 0.02029510031456111, -0.06754508795087488, -0.0261857268942857, 0.1425075554916256, -0.020400003025483133, 0.07395642015464222, 0.08277411159626301, 0.09953157791043796, 0.06284944542607825, 0.005571014564582095, 0.048072945191282634, 0.09145565268506438, 0.07666041284587051, -0.007301538768162959, 0.1273837752721255, 0.048690287557236665, -0.11302888929272911, -0.10945333430712839, 0.07136354527286297, -0.0549038185808574, -0.08217601643837094, 0.0018141222505392732, 0.04997981556656304, -0.004008623378673851, -0.033896199001874176, -0.027409445657572216, -0.14454534989214562, -0.03978368429736786, -0.050326370857248975, 0.052527767525194426, -0.050826836783071275, 0.024473087688999026, 0.11506076733508998, -0.03327001708263798, 0.13863055692331974, -0.07043968893949366, 0.132923247137136, -0.10809095552914733, -0.09181121416850271, -0.10917255984091966, 0.12505664999887717, 0.04661376582761207, -0.062310987908920236, -0.09781495471351999, 0.018956831151545804, -0.04822245391053406, 0.06786592369714314, -0.12486469644069784, -0.12481602306146208, 0.1403399228724686, 0.07681496582211615, 0.024366380251864127, 0.11549477072217244, 0.059128635692266326, -0.04029271370202108, -0.04917897676002783, -0.09994646247030266, -0.04299986750847305, -0.11864202388385726, 0.034744425499796526, 0.10696121963537786, -0.13015143968899376, 0.058420507645336274, -0.036729864234486376, 0.1475949843204892, -0.03839726534957349, -0.05927588753396852, 0.001601675376507022, 0.007514250810415473, -0.10548368441486036, -0.020591463929619337, 0.0034585484828274235, -0.08694620274152916, 0.12186593776619303, -0.02413279812354424, 0.15132697005863668, 0.10053764636957342, -0.041293031505128454, 0.04128743871313811, -0.04528213365239464, 0.03919158365581231, -0.07643239382491085, -0.009685181980405449, 0.10676678588950787, -0.07948367377622916, -0.10067214216111806, -0.10532453342501627], \"yaxis\": \"y\"}],                        {\"height\": 600, \"legend\": {\"tracegroupgap\": 0}, \"margin\": {\"t\": 60}, \"template\": {\"data\": {\"bar\": [{\"error_x\": {\"color\": \"#2a3f5f\"}, \"error_y\": {\"color\": \"#2a3f5f\"}, \"marker\": {\"line\": {\"color\": \"#E5ECF6\", \"width\": 0.5}}, \"type\": \"bar\"}], \"barpolar\": [{\"marker\": {\"line\": {\"color\": \"#E5ECF6\", \"width\": 0.5}}, \"type\": \"barpolar\"}], \"carpet\": [{\"aaxis\": {\"endlinecolor\": \"#2a3f5f\", \"gridcolor\": \"white\", \"linecolor\": \"white\", \"minorgridcolor\": \"white\", \"startlinecolor\": \"#2a3f5f\"}, \"baxis\": {\"endlinecolor\": \"#2a3f5f\", \"gridcolor\": \"white\", \"linecolor\": \"white\", \"minorgridcolor\": \"white\", \"startlinecolor\": \"#2a3f5f\"}, \"type\": \"carpet\"}], \"choropleth\": [{\"colorbar\": {\"outlinewidth\": 0, \"ticks\": \"\"}, \"type\": \"choropleth\"}], \"contour\": [{\"colorbar\": {\"outlinewidth\": 0, \"ticks\": \"\"}, \"colorscale\": [[0.0, \"#0d0887\"], [0.1111111111111111, \"#46039f\"], [0.2222222222222222, \"#7201a8\"], [0.3333333333333333, \"#9c179e\"], [0.4444444444444444, \"#bd3786\"], [0.5555555555555556, \"#d8576b\"], [0.6666666666666666, \"#ed7953\"], [0.7777777777777778, \"#fb9f3a\"], [0.8888888888888888, \"#fdca26\"], [1.0, \"#f0f921\"]], \"type\": \"contour\"}], \"contourcarpet\": [{\"colorbar\": {\"outlinewidth\": 0, \"ticks\": \"\"}, \"type\": \"contourcarpet\"}], \"heatmap\": [{\"colorbar\": {\"outlinewidth\": 0, \"ticks\": \"\"}, \"colorscale\": [[0.0, \"#0d0887\"], [0.1111111111111111, \"#46039f\"], [0.2222222222222222, \"#7201a8\"], [0.3333333333333333, \"#9c179e\"], [0.4444444444444444, \"#bd3786\"], [0.5555555555555556, \"#d8576b\"], [0.6666666666666666, \"#ed7953\"], [0.7777777777777778, \"#fb9f3a\"], [0.8888888888888888, \"#fdca26\"], [1.0, \"#f0f921\"]], \"type\": \"heatmap\"}], \"heatmapgl\": [{\"colorbar\": {\"outlinewidth\": 0, \"ticks\": \"\"}, \"colorscale\": [[0.0, \"#0d0887\"], [0.1111111111111111, \"#46039f\"], [0.2222222222222222, \"#7201a8\"], [0.3333333333333333, \"#9c179e\"], [0.4444444444444444, \"#bd3786\"], [0.5555555555555556, \"#d8576b\"], [0.6666666666666666, \"#ed7953\"], [0.7777777777777778, \"#fb9f3a\"], [0.8888888888888888, \"#fdca26\"], [1.0, \"#f0f921\"]], \"type\": \"heatmapgl\"}], \"histogram\": [{\"marker\": {\"colorbar\": {\"outlinewidth\": 0, \"ticks\": \"\"}}, \"type\": \"histogram\"}], \"histogram2d\": [{\"colorbar\": {\"outlinewidth\": 0, \"ticks\": \"\"}, \"colorscale\": [[0.0, \"#0d0887\"], [0.1111111111111111, \"#46039f\"], [0.2222222222222222, \"#7201a8\"], [0.3333333333333333, \"#9c179e\"], [0.4444444444444444, \"#bd3786\"], [0.5555555555555556, \"#d8576b\"], [0.6666666666666666, \"#ed7953\"], [0.7777777777777778, \"#fb9f3a\"], [0.8888888888888888, \"#fdca26\"], [1.0, \"#f0f921\"]], \"type\": \"histogram2d\"}], \"histogram2dcontour\": [{\"colorbar\": {\"outlinewidth\": 0, \"ticks\": \"\"}, \"colorscale\": [[0.0, \"#0d0887\"], [0.1111111111111111, \"#46039f\"], [0.2222222222222222, \"#7201a8\"], [0.3333333333333333, \"#9c179e\"], [0.4444444444444444, \"#bd3786\"], [0.5555555555555556, \"#d8576b\"], [0.6666666666666666, \"#ed7953\"], [0.7777777777777778, \"#fb9f3a\"], [0.8888888888888888, \"#fdca26\"], [1.0, \"#f0f921\"]], \"type\": \"histogram2dcontour\"}], \"mesh3d\": [{\"colorbar\": {\"outlinewidth\": 0, \"ticks\": \"\"}, \"type\": \"mesh3d\"}], \"parcoords\": [{\"line\": {\"colorbar\": {\"outlinewidth\": 0, \"ticks\": \"\"}}, \"type\": \"parcoords\"}], \"pie\": [{\"automargin\": true, \"type\": \"pie\"}], \"scatter\": [{\"marker\": {\"colorbar\": {\"outlinewidth\": 0, \"ticks\": \"\"}}, \"type\": \"scatter\"}], \"scatter3d\": [{\"line\": {\"colorbar\": {\"outlinewidth\": 0, \"ticks\": \"\"}}, \"marker\": {\"colorbar\": {\"outlinewidth\": 0, \"ticks\": \"\"}}, \"type\": \"scatter3d\"}], \"scattercarpet\": [{\"marker\": {\"colorbar\": {\"outlinewidth\": 0, \"ticks\": \"\"}}, \"type\": \"scattercarpet\"}], \"scattergeo\": [{\"marker\": {\"colorbar\": {\"outlinewidth\": 0, \"ticks\": \"\"}}, \"type\": \"scattergeo\"}], \"scattergl\": [{\"marker\": {\"colorbar\": {\"outlinewidth\": 0, \"ticks\": \"\"}}, \"type\": \"scattergl\"}], \"scattermapbox\": [{\"marker\": {\"colorbar\": {\"outlinewidth\": 0, \"ticks\": \"\"}}, \"type\": \"scattermapbox\"}], \"scatterpolar\": [{\"marker\": {\"colorbar\": {\"outlinewidth\": 0, \"ticks\": \"\"}}, \"type\": \"scatterpolar\"}], \"scatterpolargl\": [{\"marker\": {\"colorbar\": {\"outlinewidth\": 0, \"ticks\": \"\"}}, \"type\": \"scatterpolargl\"}], \"scatterternary\": [{\"marker\": {\"colorbar\": {\"outlinewidth\": 0, \"ticks\": \"\"}}, \"type\": \"scatterternary\"}], \"surface\": [{\"colorbar\": {\"outlinewidth\": 0, \"ticks\": \"\"}, \"colorscale\": [[0.0, \"#0d0887\"], [0.1111111111111111, \"#46039f\"], [0.2222222222222222, \"#7201a8\"], [0.3333333333333333, \"#9c179e\"], [0.4444444444444444, \"#bd3786\"], [0.5555555555555556, \"#d8576b\"], [0.6666666666666666, \"#ed7953\"], [0.7777777777777778, \"#fb9f3a\"], [0.8888888888888888, \"#fdca26\"], [1.0, \"#f0f921\"]], \"type\": \"surface\"}], \"table\": [{\"cells\": {\"fill\": {\"color\": \"#EBF0F8\"}, \"line\": {\"color\": \"white\"}}, \"header\": {\"fill\": {\"color\": \"#C8D4E3\"}, \"line\": {\"color\": \"white\"}}, \"type\": \"table\"}]}, \"layout\": {\"annotationdefaults\": {\"arrowcolor\": \"#2a3f5f\", \"arrowhead\": 0, \"arrowwidth\": 1}, \"autotypenumbers\": \"strict\", \"coloraxis\": {\"colorbar\": {\"outlinewidth\": 0, \"ticks\": \"\"}}, \"colorscale\": {\"diverging\": [[0, \"#8e0152\"], [0.1, \"#c51b7d\"], [0.2, \"#de77ae\"], [0.3, \"#f1b6da\"], [0.4, \"#fde0ef\"], [0.5, \"#f7f7f7\"], [0.6, \"#e6f5d0\"], [0.7, \"#b8e186\"], [0.8, \"#7fbc41\"], [0.9, \"#4d9221\"], [1, \"#276419\"]], \"sequential\": [[0.0, \"#0d0887\"], [0.1111111111111111, \"#46039f\"], [0.2222222222222222, \"#7201a8\"], [0.3333333333333333, \"#9c179e\"], [0.4444444444444444, \"#bd3786\"], [0.5555555555555556, \"#d8576b\"], [0.6666666666666666, \"#ed7953\"], [0.7777777777777778, \"#fb9f3a\"], [0.8888888888888888, \"#fdca26\"], [1.0, \"#f0f921\"]], \"sequentialminus\": [[0.0, \"#0d0887\"], [0.1111111111111111, \"#46039f\"], [0.2222222222222222, \"#7201a8\"], [0.3333333333333333, \"#9c179e\"], [0.4444444444444444, \"#bd3786\"], [0.5555555555555556, \"#d8576b\"], [0.6666666666666666, \"#ed7953\"], [0.7777777777777778, \"#fb9f3a\"], [0.8888888888888888, \"#fdca26\"], [1.0, \"#f0f921\"]]}, \"colorway\": [\"#636efa\", \"#EF553B\", \"#00cc96\", \"#ab63fa\", \"#FFA15A\", \"#19d3f3\", \"#FF6692\", \"#B6E880\", \"#FF97FF\", \"#FECB52\"], \"font\": {\"color\": \"#2a3f5f\"}, \"geo\": {\"bgcolor\": \"white\", \"lakecolor\": \"white\", \"landcolor\": \"#E5ECF6\", \"showlakes\": true, \"showland\": true, \"subunitcolor\": \"white\"}, \"hoverlabel\": {\"align\": \"left\"}, \"hovermode\": \"closest\", \"mapbox\": {\"style\": \"light\"}, \"paper_bgcolor\": \"white\", \"plot_bgcolor\": \"#E5ECF6\", \"polar\": {\"angularaxis\": {\"gridcolor\": \"white\", \"linecolor\": \"white\", \"ticks\": \"\"}, \"bgcolor\": \"#E5ECF6\", \"radialaxis\": {\"gridcolor\": \"white\", \"linecolor\": \"white\", \"ticks\": \"\"}}, \"scene\": {\"xaxis\": {\"backgroundcolor\": \"#E5ECF6\", \"gridcolor\": \"white\", \"gridwidth\": 2, \"linecolor\": \"white\", \"showbackground\": true, \"ticks\": \"\", \"zerolinecolor\": \"white\"}, \"yaxis\": {\"backgroundcolor\": \"#E5ECF6\", \"gridcolor\": \"white\", \"gridwidth\": 2, \"linecolor\": \"white\", \"showbackground\": true, \"ticks\": \"\", \"zerolinecolor\": \"white\"}, \"zaxis\": {\"backgroundcolor\": \"#E5ECF6\", \"gridcolor\": \"white\", \"gridwidth\": 2, \"linecolor\": \"white\", \"showbackground\": true, \"ticks\": \"\", \"zerolinecolor\": \"white\"}}, \"shapedefaults\": {\"line\": {\"color\": \"#2a3f5f\"}}, \"ternary\": {\"aaxis\": {\"gridcolor\": \"white\", \"linecolor\": \"white\", \"ticks\": \"\"}, \"baxis\": {\"gridcolor\": \"white\", \"linecolor\": \"white\", \"ticks\": \"\"}, \"bgcolor\": \"#E5ECF6\", \"caxis\": {\"gridcolor\": \"white\", \"linecolor\": \"white\", \"ticks\": \"\"}}, \"title\": {\"x\": 0.05}, \"xaxis\": {\"automargin\": true, \"gridcolor\": \"white\", \"linecolor\": \"white\", \"ticks\": \"\", \"title\": {\"standoff\": 15}, \"zerolinecolor\": \"white\", \"zerolinewidth\": 2}, \"yaxis\": {\"automargin\": true, \"gridcolor\": \"white\", \"linecolor\": \"white\", \"ticks\": \"\", \"title\": {\"standoff\": 15}, \"zerolinecolor\": \"white\", \"zerolinewidth\": 2}}}, \"width\": 600, \"xaxis\": {\"anchor\": \"y\", \"domain\": [0.0, 1.0], \"title\": {\"text\": \"0\"}}, \"yaxis\": {\"anchor\": \"x\", \"domain\": [0.0, 1.0], \"title\": {\"text\": \"1\"}}},                        {\"responsive\": true}                    ).then(function(){\n",
       "                            \n",
       "var gd = document.getElementById('21268a04-a20e-433a-8fd1-16411f56701e');\n",
       "var x = new MutationObserver(function (mutations, observer) {{\n",
       "        var display = window.getComputedStyle(gd).display;\n",
       "        if (!display || display === 'none') {{\n",
       "            console.log([gd, 'removed!']);\n",
       "            Plotly.purge(gd);\n",
       "            observer.disconnect();\n",
       "        }}\n",
       "}});\n",
       "\n",
       "// Listen for the removal of the full notebook cells\n",
       "var notebookContainer = gd.closest('#notebook-container');\n",
       "if (notebookContainer) {{\n",
       "    x.observe(notebookContainer, {childList: true});\n",
       "}}\n",
       "\n",
       "// Listen for the clearing of the current output cell\n",
       "var outputEl = gd.closest('.output');\n",
       "if (outputEl) {{\n",
       "    x.observe(outputEl, {childList: true});\n",
       "}}\n",
       "\n",
       "                        })                };                });            </script>        </div>"
      ]
     },
     "metadata": {},
     "output_type": "display_data"
    }
   ],
   "source": [
    "\n",
    "import plotly.express as px\n",
    "fig = px.scatter(\n",
    "    smooth_embeddings[2], x=0, y=1,\n",
    "    width=600,height=600\n",
    ")\n",
    "fig.show()"
   ]
  },
  {
   "cell_type": "code",
   "execution_count": 14,
   "metadata": {},
   "outputs": [
    {
     "data": {
      "application/vnd.plotly.v1+json": {
       "config": {
        "plotlyServerURL": "https://plot.ly"
       },
       "data": [
        {
         "marker": {
          "opacity": 0.99,
          "size": 5,
          "symbol": "circle"
         },
         "mode": "markers",
         "type": "scatter",
         "x": [
          -0.2877192795276642,
          -0.17319820821285248,
          2.3838369846343994,
          2.0739614963531494,
          0.1550501435995102,
          3.1729736328125,
          0.6395553350448608,
          2.334291934967041,
          1.3945415019989014,
          2.5309720039367676,
          -0.1946258246898651,
          2.3094875812530518,
          3.3609044551849365,
          2.8280646800994873,
          0.35678723454475403,
          1.3305096626281738,
          2.0471956729888916,
          1.7817171812057495,
          0.8661408424377441,
          1.5242282152175903,
          2.4851014614105225,
          1.171953797340393,
          0.9219291806221008,
          0.5612787008285522,
          1.6924864053726196,
          2.6240034103393555,
          1.8173049688339233,
          0.6223838925361633,
          0.2713240385055542,
          3.1068108081817627,
          2.318498134613037,
          3.287668228149414,
          0.20788012444972992,
          1.3084169626235962,
          2.6487483978271484,
          1.3525720834732056,
          -0.000491717248223722,
          2.2182531356811523,
          1.8344039916992188,
          -0.10618146508932114,
          1.079364538192749,
          2.19018816947937,
          2.597930908203125,
          1.8036229610443115,
          1.6404348611831665,
          1.0434545278549194,
          0.0774170458316803,
          0.29608169198036194,
          1.113347053527832,
          0.4577801525592804,
          1.922788143157959,
          2.707598924636841,
          1.097159743309021,
          2.1015632152557373,
          1.4533638954162598,
          1.0375374555587769,
          0.811398983001709,
          0.58202064037323,
          1.4706566333770752,
          2.527642250061035,
          2.0288805961608887,
          1.9450507164001465,
          2.8412163257598877,
          0.9356470704078674
         ],
         "y": [
          15.597127914428711,
          17.3693904876709,
          17.09358024597168,
          15.48198127746582,
          15.490503311157227,
          16.63887596130371,
          17.593761444091797,
          17.99004554748535,
          15.652567863464355,
          16.313129425048828,
          16.868650436401367,
          15.043401718139648,
          16.63006591796875,
          15.3212308883667,
          17.37580680847168,
          18.22196388244629,
          15.775092124938965,
          16.948139190673828,
          15.60617733001709,
          17.99397087097168,
          16.8258113861084,
          16.110549926757812,
          16.626359939575195,
          14.84625244140625,
          16.76011848449707,
          15.762215614318848,
          17.18588638305664,
          16.744123458862305,
          16.46416473388672,
          16.35125732421875,
          15.456034660339355,
          17.041044235229492,
          16.633256912231445,
          17.060632705688477,
          15.991214752197266,
          16.370304107666016,
          17.61149787902832,
          17.65188980102539,
          14.932156562805176,
          17.145462036132812,
          17.89344596862793,
          16.664588928222656,
          14.769271850585938,
          14.241735458374023,
          15.502496719360352,
          14.489008903503418,
          14.925748825073242,
          14.597640037536621,
          16.64725112915039,
          15.39755630493164,
          16.16349983215332,
          17.285018920898438,
          15.268082618713379,
          14.687954902648926,
          16.053855895996094,
          16.491947174072266,
          14.290459632873535,
          15.823981285095215,
          15.096085548400879,
          14.694955825805664,
          16.252410888671875,
          14.49983024597168,
          17.738094329833984,
          16.140920639038086
         ]
        }
       ],
       "layout": {
        "images": [
         {
          "sizex": 0.2,
          "sizey": 0.2,
          "source": "http://chrishamblin.xyz/images/viscnn_images/0.jpg",
          "x": -0.2877192795276642,
          "xanchor": "center",
          "xref": "x",
          "y": 15.597127914428711,
          "yanchor": "middle",
          "yref": "y"
         },
         {
          "sizex": 0.2,
          "sizey": 0.2,
          "source": "http://chrishamblin.xyz/images/viscnn_images/1.jpg",
          "x": -0.17319820821285248,
          "xanchor": "center",
          "xref": "x",
          "y": 17.3693904876709,
          "yanchor": "middle",
          "yref": "y"
         },
         {
          "sizex": 0.2,
          "sizey": 0.2,
          "source": "http://chrishamblin.xyz/images/viscnn_images/2.jpg",
          "x": 2.3838369846343994,
          "xanchor": "center",
          "xref": "x",
          "y": 17.09358024597168,
          "yanchor": "middle",
          "yref": "y"
         },
         {
          "sizex": 0.2,
          "sizey": 0.2,
          "source": "http://chrishamblin.xyz/images/viscnn_images/3.jpg",
          "x": 2.0739614963531494,
          "xanchor": "center",
          "xref": "x",
          "y": 15.48198127746582,
          "yanchor": "middle",
          "yref": "y"
         },
         {
          "sizex": 0.2,
          "sizey": 0.2,
          "source": "http://chrishamblin.xyz/images/viscnn_images/4.jpg",
          "x": 0.1550501435995102,
          "xanchor": "center",
          "xref": "x",
          "y": 15.490503311157227,
          "yanchor": "middle",
          "yref": "y"
         },
         {
          "sizex": 0.2,
          "sizey": 0.2,
          "source": "http://chrishamblin.xyz/images/viscnn_images/5.jpg",
          "x": 3.1729736328125,
          "xanchor": "center",
          "xref": "x",
          "y": 16.63887596130371,
          "yanchor": "middle",
          "yref": "y"
         },
         {
          "sizex": 0.2,
          "sizey": 0.2,
          "source": "http://chrishamblin.xyz/images/viscnn_images/6.jpg",
          "x": 0.6395553350448608,
          "xanchor": "center",
          "xref": "x",
          "y": 17.593761444091797,
          "yanchor": "middle",
          "yref": "y"
         },
         {
          "sizex": 0.2,
          "sizey": 0.2,
          "source": "http://chrishamblin.xyz/images/viscnn_images/7.jpg",
          "x": 2.334291934967041,
          "xanchor": "center",
          "xref": "x",
          "y": 17.99004554748535,
          "yanchor": "middle",
          "yref": "y"
         },
         {
          "sizex": 0.2,
          "sizey": 0.2,
          "source": "http://chrishamblin.xyz/images/viscnn_images/8.jpg",
          "x": 1.3945415019989014,
          "xanchor": "center",
          "xref": "x",
          "y": 15.652567863464355,
          "yanchor": "middle",
          "yref": "y"
         },
         {
          "sizex": 0.2,
          "sizey": 0.2,
          "source": "http://chrishamblin.xyz/images/viscnn_images/9.jpg",
          "x": 2.5309720039367676,
          "xanchor": "center",
          "xref": "x",
          "y": 16.313129425048828,
          "yanchor": "middle",
          "yref": "y"
         },
         {
          "sizex": 0.2,
          "sizey": 0.2,
          "source": "http://chrishamblin.xyz/images/viscnn_images/10.jpg",
          "x": -0.1946258246898651,
          "xanchor": "center",
          "xref": "x",
          "y": 16.868650436401367,
          "yanchor": "middle",
          "yref": "y"
         },
         {
          "sizex": 0.2,
          "sizey": 0.2,
          "source": "http://chrishamblin.xyz/images/viscnn_images/11.jpg",
          "x": 2.3094875812530518,
          "xanchor": "center",
          "xref": "x",
          "y": 15.043401718139648,
          "yanchor": "middle",
          "yref": "y"
         },
         {
          "sizex": 0.2,
          "sizey": 0.2,
          "source": "http://chrishamblin.xyz/images/viscnn_images/12.jpg",
          "x": 3.3609044551849365,
          "xanchor": "center",
          "xref": "x",
          "y": 16.63006591796875,
          "yanchor": "middle",
          "yref": "y"
         },
         {
          "sizex": 0.2,
          "sizey": 0.2,
          "source": "http://chrishamblin.xyz/images/viscnn_images/13.jpg",
          "x": 2.8280646800994873,
          "xanchor": "center",
          "xref": "x",
          "y": 15.3212308883667,
          "yanchor": "middle",
          "yref": "y"
         },
         {
          "sizex": 0.2,
          "sizey": 0.2,
          "source": "http://chrishamblin.xyz/images/viscnn_images/14.jpg",
          "x": 0.35678723454475403,
          "xanchor": "center",
          "xref": "x",
          "y": 17.37580680847168,
          "yanchor": "middle",
          "yref": "y"
         },
         {
          "sizex": 0.2,
          "sizey": 0.2,
          "source": "http://chrishamblin.xyz/images/viscnn_images/15.jpg",
          "x": 1.3305096626281738,
          "xanchor": "center",
          "xref": "x",
          "y": 18.22196388244629,
          "yanchor": "middle",
          "yref": "y"
         },
         {
          "sizex": 0.2,
          "sizey": 0.2,
          "source": "http://chrishamblin.xyz/images/viscnn_images/16.jpg",
          "x": 2.0471956729888916,
          "xanchor": "center",
          "xref": "x",
          "y": 15.775092124938965,
          "yanchor": "middle",
          "yref": "y"
         },
         {
          "sizex": 0.2,
          "sizey": 0.2,
          "source": "http://chrishamblin.xyz/images/viscnn_images/17.jpg",
          "x": 1.7817171812057495,
          "xanchor": "center",
          "xref": "x",
          "y": 16.948139190673828,
          "yanchor": "middle",
          "yref": "y"
         },
         {
          "sizex": 0.2,
          "sizey": 0.2,
          "source": "http://chrishamblin.xyz/images/viscnn_images/18.jpg",
          "x": 0.8661408424377441,
          "xanchor": "center",
          "xref": "x",
          "y": 15.60617733001709,
          "yanchor": "middle",
          "yref": "y"
         },
         {
          "sizex": 0.2,
          "sizey": 0.2,
          "source": "http://chrishamblin.xyz/images/viscnn_images/19.jpg",
          "x": 1.5242282152175903,
          "xanchor": "center",
          "xref": "x",
          "y": 17.99397087097168,
          "yanchor": "middle",
          "yref": "y"
         },
         {
          "sizex": 0.2,
          "sizey": 0.2,
          "source": "http://chrishamblin.xyz/images/viscnn_images/20.jpg",
          "x": 2.4851014614105225,
          "xanchor": "center",
          "xref": "x",
          "y": 16.8258113861084,
          "yanchor": "middle",
          "yref": "y"
         },
         {
          "sizex": 0.2,
          "sizey": 0.2,
          "source": "http://chrishamblin.xyz/images/viscnn_images/21.jpg",
          "x": 1.171953797340393,
          "xanchor": "center",
          "xref": "x",
          "y": 16.110549926757812,
          "yanchor": "middle",
          "yref": "y"
         },
         {
          "sizex": 0.2,
          "sizey": 0.2,
          "source": "http://chrishamblin.xyz/images/viscnn_images/22.jpg",
          "x": 0.9219291806221008,
          "xanchor": "center",
          "xref": "x",
          "y": 16.626359939575195,
          "yanchor": "middle",
          "yref": "y"
         },
         {
          "sizex": 0.2,
          "sizey": 0.2,
          "source": "http://chrishamblin.xyz/images/viscnn_images/23.jpg",
          "x": 0.5612787008285522,
          "xanchor": "center",
          "xref": "x",
          "y": 14.84625244140625,
          "yanchor": "middle",
          "yref": "y"
         },
         {
          "sizex": 0.2,
          "sizey": 0.2,
          "source": "http://chrishamblin.xyz/images/viscnn_images/24.jpg",
          "x": 1.6924864053726196,
          "xanchor": "center",
          "xref": "x",
          "y": 16.76011848449707,
          "yanchor": "middle",
          "yref": "y"
         },
         {
          "sizex": 0.2,
          "sizey": 0.2,
          "source": "http://chrishamblin.xyz/images/viscnn_images/25.jpg",
          "x": 2.6240034103393555,
          "xanchor": "center",
          "xref": "x",
          "y": 15.762215614318848,
          "yanchor": "middle",
          "yref": "y"
         },
         {
          "sizex": 0.2,
          "sizey": 0.2,
          "source": "http://chrishamblin.xyz/images/viscnn_images/26.jpg",
          "x": 1.8173049688339233,
          "xanchor": "center",
          "xref": "x",
          "y": 17.18588638305664,
          "yanchor": "middle",
          "yref": "y"
         },
         {
          "sizex": 0.2,
          "sizey": 0.2,
          "source": "http://chrishamblin.xyz/images/viscnn_images/27.jpg",
          "x": 0.6223838925361633,
          "xanchor": "center",
          "xref": "x",
          "y": 16.744123458862305,
          "yanchor": "middle",
          "yref": "y"
         },
         {
          "sizex": 0.2,
          "sizey": 0.2,
          "source": "http://chrishamblin.xyz/images/viscnn_images/28.jpg",
          "x": 0.2713240385055542,
          "xanchor": "center",
          "xref": "x",
          "y": 16.46416473388672,
          "yanchor": "middle",
          "yref": "y"
         },
         {
          "sizex": 0.2,
          "sizey": 0.2,
          "source": "http://chrishamblin.xyz/images/viscnn_images/29.jpg",
          "x": 3.1068108081817627,
          "xanchor": "center",
          "xref": "x",
          "y": 16.35125732421875,
          "yanchor": "middle",
          "yref": "y"
         },
         {
          "sizex": 0.2,
          "sizey": 0.2,
          "source": "http://chrishamblin.xyz/images/viscnn_images/30.jpg",
          "x": 2.318498134613037,
          "xanchor": "center",
          "xref": "x",
          "y": 15.456034660339355,
          "yanchor": "middle",
          "yref": "y"
         },
         {
          "sizex": 0.2,
          "sizey": 0.2,
          "source": "http://chrishamblin.xyz/images/viscnn_images/31.jpg",
          "x": 3.287668228149414,
          "xanchor": "center",
          "xref": "x",
          "y": 17.041044235229492,
          "yanchor": "middle",
          "yref": "y"
         },
         {
          "sizex": 0.2,
          "sizey": 0.2,
          "source": "http://chrishamblin.xyz/images/viscnn_images/32.jpg",
          "x": 0.20788012444972992,
          "xanchor": "center",
          "xref": "x",
          "y": 16.633256912231445,
          "yanchor": "middle",
          "yref": "y"
         },
         {
          "sizex": 0.2,
          "sizey": 0.2,
          "source": "http://chrishamblin.xyz/images/viscnn_images/33.jpg",
          "x": 1.3084169626235962,
          "xanchor": "center",
          "xref": "x",
          "y": 17.060632705688477,
          "yanchor": "middle",
          "yref": "y"
         },
         {
          "sizex": 0.2,
          "sizey": 0.2,
          "source": "http://chrishamblin.xyz/images/viscnn_images/34.jpg",
          "x": 2.6487483978271484,
          "xanchor": "center",
          "xref": "x",
          "y": 15.991214752197266,
          "yanchor": "middle",
          "yref": "y"
         },
         {
          "sizex": 0.2,
          "sizey": 0.2,
          "source": "http://chrishamblin.xyz/images/viscnn_images/35.jpg",
          "x": 1.3525720834732056,
          "xanchor": "center",
          "xref": "x",
          "y": 16.370304107666016,
          "yanchor": "middle",
          "yref": "y"
         },
         {
          "sizex": 0.2,
          "sizey": 0.2,
          "source": "http://chrishamblin.xyz/images/viscnn_images/36.jpg",
          "x": -0.000491717248223722,
          "xanchor": "center",
          "xref": "x",
          "y": 17.61149787902832,
          "yanchor": "middle",
          "yref": "y"
         },
         {
          "sizex": 0.2,
          "sizey": 0.2,
          "source": "http://chrishamblin.xyz/images/viscnn_images/37.jpg",
          "x": 2.2182531356811523,
          "xanchor": "center",
          "xref": "x",
          "y": 17.65188980102539,
          "yanchor": "middle",
          "yref": "y"
         },
         {
          "sizex": 0.2,
          "sizey": 0.2,
          "source": "http://chrishamblin.xyz/images/viscnn_images/38.jpg",
          "x": 1.8344039916992188,
          "xanchor": "center",
          "xref": "x",
          "y": 14.932156562805176,
          "yanchor": "middle",
          "yref": "y"
         },
         {
          "sizex": 0.2,
          "sizey": 0.2,
          "source": "http://chrishamblin.xyz/images/viscnn_images/39.jpg",
          "x": -0.10618146508932114,
          "xanchor": "center",
          "xref": "x",
          "y": 17.145462036132812,
          "yanchor": "middle",
          "yref": "y"
         },
         {
          "sizex": 0.2,
          "sizey": 0.2,
          "source": "http://chrishamblin.xyz/images/viscnn_images/40.jpg",
          "x": 1.079364538192749,
          "xanchor": "center",
          "xref": "x",
          "y": 17.89344596862793,
          "yanchor": "middle",
          "yref": "y"
         },
         {
          "sizex": 0.2,
          "sizey": 0.2,
          "source": "http://chrishamblin.xyz/images/viscnn_images/41.jpg",
          "x": 2.19018816947937,
          "xanchor": "center",
          "xref": "x",
          "y": 16.664588928222656,
          "yanchor": "middle",
          "yref": "y"
         },
         {
          "sizex": 0.2,
          "sizey": 0.2,
          "source": "http://chrishamblin.xyz/images/viscnn_images/42.jpg",
          "x": 2.597930908203125,
          "xanchor": "center",
          "xref": "x",
          "y": 14.769271850585938,
          "yanchor": "middle",
          "yref": "y"
         },
         {
          "sizex": 0.2,
          "sizey": 0.2,
          "source": "http://chrishamblin.xyz/images/viscnn_images/43.jpg",
          "x": 1.8036229610443115,
          "xanchor": "center",
          "xref": "x",
          "y": 14.241735458374023,
          "yanchor": "middle",
          "yref": "y"
         },
         {
          "sizex": 0.2,
          "sizey": 0.2,
          "source": "http://chrishamblin.xyz/images/viscnn_images/44.jpg",
          "x": 1.6404348611831665,
          "xanchor": "center",
          "xref": "x",
          "y": 15.502496719360352,
          "yanchor": "middle",
          "yref": "y"
         },
         {
          "sizex": 0.2,
          "sizey": 0.2,
          "source": "http://chrishamblin.xyz/images/viscnn_images/45.jpg",
          "x": 1.0434545278549194,
          "xanchor": "center",
          "xref": "x",
          "y": 14.489008903503418,
          "yanchor": "middle",
          "yref": "y"
         },
         {
          "sizex": 0.2,
          "sizey": 0.2,
          "source": "http://chrishamblin.xyz/images/viscnn_images/46.jpg",
          "x": 0.0774170458316803,
          "xanchor": "center",
          "xref": "x",
          "y": 14.925748825073242,
          "yanchor": "middle",
          "yref": "y"
         },
         {
          "sizex": 0.2,
          "sizey": 0.2,
          "source": "http://chrishamblin.xyz/images/viscnn_images/47.jpg",
          "x": 0.29608169198036194,
          "xanchor": "center",
          "xref": "x",
          "y": 14.597640037536621,
          "yanchor": "middle",
          "yref": "y"
         },
         {
          "sizex": 0.2,
          "sizey": 0.2,
          "source": "http://chrishamblin.xyz/images/viscnn_images/48.jpg",
          "x": 1.113347053527832,
          "xanchor": "center",
          "xref": "x",
          "y": 16.64725112915039,
          "yanchor": "middle",
          "yref": "y"
         },
         {
          "sizex": 0.2,
          "sizey": 0.2,
          "source": "http://chrishamblin.xyz/images/viscnn_images/49.jpg",
          "x": 0.4577801525592804,
          "xanchor": "center",
          "xref": "x",
          "y": 15.39755630493164,
          "yanchor": "middle",
          "yref": "y"
         },
         {
          "sizex": 0.2,
          "sizey": 0.2,
          "source": "http://chrishamblin.xyz/images/viscnn_images/50.jpg",
          "x": 1.922788143157959,
          "xanchor": "center",
          "xref": "x",
          "y": 16.16349983215332,
          "yanchor": "middle",
          "yref": "y"
         },
         {
          "sizex": 0.2,
          "sizey": 0.2,
          "source": "http://chrishamblin.xyz/images/viscnn_images/51.jpg",
          "x": 2.707598924636841,
          "xanchor": "center",
          "xref": "x",
          "y": 17.285018920898438,
          "yanchor": "middle",
          "yref": "y"
         },
         {
          "sizex": 0.2,
          "sizey": 0.2,
          "source": "http://chrishamblin.xyz/images/viscnn_images/52.jpg",
          "x": 1.097159743309021,
          "xanchor": "center",
          "xref": "x",
          "y": 15.268082618713379,
          "yanchor": "middle",
          "yref": "y"
         },
         {
          "sizex": 0.2,
          "sizey": 0.2,
          "source": "http://chrishamblin.xyz/images/viscnn_images/53.jpg",
          "x": 2.1015632152557373,
          "xanchor": "center",
          "xref": "x",
          "y": 14.687954902648926,
          "yanchor": "middle",
          "yref": "y"
         },
         {
          "sizex": 0.2,
          "sizey": 0.2,
          "source": "http://chrishamblin.xyz/images/viscnn_images/54.jpg",
          "x": 1.4533638954162598,
          "xanchor": "center",
          "xref": "x",
          "y": 16.053855895996094,
          "yanchor": "middle",
          "yref": "y"
         },
         {
          "sizex": 0.2,
          "sizey": 0.2,
          "source": "http://chrishamblin.xyz/images/viscnn_images/55.jpg",
          "x": 1.0375374555587769,
          "xanchor": "center",
          "xref": "x",
          "y": 16.491947174072266,
          "yanchor": "middle",
          "yref": "y"
         },
         {
          "sizex": 0.2,
          "sizey": 0.2,
          "source": "http://chrishamblin.xyz/images/viscnn_images/56.jpg",
          "x": 0.811398983001709,
          "xanchor": "center",
          "xref": "x",
          "y": 14.290459632873535,
          "yanchor": "middle",
          "yref": "y"
         },
         {
          "sizex": 0.2,
          "sizey": 0.2,
          "source": "http://chrishamblin.xyz/images/viscnn_images/57.jpg",
          "x": 0.58202064037323,
          "xanchor": "center",
          "xref": "x",
          "y": 15.823981285095215,
          "yanchor": "middle",
          "yref": "y"
         },
         {
          "sizex": 0.2,
          "sizey": 0.2,
          "source": "http://chrishamblin.xyz/images/viscnn_images/58.jpg",
          "x": 1.4706566333770752,
          "xanchor": "center",
          "xref": "x",
          "y": 15.096085548400879,
          "yanchor": "middle",
          "yref": "y"
         },
         {
          "sizex": 0.2,
          "sizey": 0.2,
          "source": "http://chrishamblin.xyz/images/viscnn_images/59.jpg",
          "x": 2.527642250061035,
          "xanchor": "center",
          "xref": "x",
          "y": 14.694955825805664,
          "yanchor": "middle",
          "yref": "y"
         },
         {
          "sizex": 0.2,
          "sizey": 0.2,
          "source": "http://chrishamblin.xyz/images/viscnn_images/60.jpg",
          "x": 2.0288805961608887,
          "xanchor": "center",
          "xref": "x",
          "y": 16.252410888671875,
          "yanchor": "middle",
          "yref": "y"
         },
         {
          "sizex": 0.2,
          "sizey": 0.2,
          "source": "http://chrishamblin.xyz/images/viscnn_images/61.jpg",
          "x": 1.9450507164001465,
          "xanchor": "center",
          "xref": "x",
          "y": 14.49983024597168,
          "yanchor": "middle",
          "yref": "y"
         },
         {
          "sizex": 0.2,
          "sizey": 0.2,
          "source": "http://chrishamblin.xyz/images/viscnn_images/62.jpg",
          "x": 2.8412163257598877,
          "xanchor": "center",
          "xref": "x",
          "y": 17.738094329833984,
          "yanchor": "middle",
          "yref": "y"
         },
         {
          "sizex": 0.2,
          "sizey": 0.2,
          "source": "http://chrishamblin.xyz/images/viscnn_images/63.jpg",
          "x": 0.9356470704078674,
          "xanchor": "center",
          "xref": "x",
          "y": 16.140920639038086,
          "yanchor": "middle",
          "yref": "y"
         }
        ],
        "template": {
         "data": {
          "bar": [
           {
            "error_x": {
             "color": "#2a3f5f"
            },
            "error_y": {
             "color": "#2a3f5f"
            },
            "marker": {
             "line": {
              "color": "#E5ECF6",
              "width": 0.5
             }
            },
            "type": "bar"
           }
          ],
          "barpolar": [
           {
            "marker": {
             "line": {
              "color": "#E5ECF6",
              "width": 0.5
             }
            },
            "type": "barpolar"
           }
          ],
          "carpet": [
           {
            "aaxis": {
             "endlinecolor": "#2a3f5f",
             "gridcolor": "white",
             "linecolor": "white",
             "minorgridcolor": "white",
             "startlinecolor": "#2a3f5f"
            },
            "baxis": {
             "endlinecolor": "#2a3f5f",
             "gridcolor": "white",
             "linecolor": "white",
             "minorgridcolor": "white",
             "startlinecolor": "#2a3f5f"
            },
            "type": "carpet"
           }
          ],
          "choropleth": [
           {
            "colorbar": {
             "outlinewidth": 0,
             "ticks": ""
            },
            "type": "choropleth"
           }
          ],
          "contour": [
           {
            "colorbar": {
             "outlinewidth": 0,
             "ticks": ""
            },
            "colorscale": [
             [
              0,
              "#0d0887"
             ],
             [
              0.1111111111111111,
              "#46039f"
             ],
             [
              0.2222222222222222,
              "#7201a8"
             ],
             [
              0.3333333333333333,
              "#9c179e"
             ],
             [
              0.4444444444444444,
              "#bd3786"
             ],
             [
              0.5555555555555556,
              "#d8576b"
             ],
             [
              0.6666666666666666,
              "#ed7953"
             ],
             [
              0.7777777777777778,
              "#fb9f3a"
             ],
             [
              0.8888888888888888,
              "#fdca26"
             ],
             [
              1,
              "#f0f921"
             ]
            ],
            "type": "contour"
           }
          ],
          "contourcarpet": [
           {
            "colorbar": {
             "outlinewidth": 0,
             "ticks": ""
            },
            "type": "contourcarpet"
           }
          ],
          "heatmap": [
           {
            "colorbar": {
             "outlinewidth": 0,
             "ticks": ""
            },
            "colorscale": [
             [
              0,
              "#0d0887"
             ],
             [
              0.1111111111111111,
              "#46039f"
             ],
             [
              0.2222222222222222,
              "#7201a8"
             ],
             [
              0.3333333333333333,
              "#9c179e"
             ],
             [
              0.4444444444444444,
              "#bd3786"
             ],
             [
              0.5555555555555556,
              "#d8576b"
             ],
             [
              0.6666666666666666,
              "#ed7953"
             ],
             [
              0.7777777777777778,
              "#fb9f3a"
             ],
             [
              0.8888888888888888,
              "#fdca26"
             ],
             [
              1,
              "#f0f921"
             ]
            ],
            "type": "heatmap"
           }
          ],
          "heatmapgl": [
           {
            "colorbar": {
             "outlinewidth": 0,
             "ticks": ""
            },
            "colorscale": [
             [
              0,
              "#0d0887"
             ],
             [
              0.1111111111111111,
              "#46039f"
             ],
             [
              0.2222222222222222,
              "#7201a8"
             ],
             [
              0.3333333333333333,
              "#9c179e"
             ],
             [
              0.4444444444444444,
              "#bd3786"
             ],
             [
              0.5555555555555556,
              "#d8576b"
             ],
             [
              0.6666666666666666,
              "#ed7953"
             ],
             [
              0.7777777777777778,
              "#fb9f3a"
             ],
             [
              0.8888888888888888,
              "#fdca26"
             ],
             [
              1,
              "#f0f921"
             ]
            ],
            "type": "heatmapgl"
           }
          ],
          "histogram": [
           {
            "marker": {
             "colorbar": {
              "outlinewidth": 0,
              "ticks": ""
             }
            },
            "type": "histogram"
           }
          ],
          "histogram2d": [
           {
            "colorbar": {
             "outlinewidth": 0,
             "ticks": ""
            },
            "colorscale": [
             [
              0,
              "#0d0887"
             ],
             [
              0.1111111111111111,
              "#46039f"
             ],
             [
              0.2222222222222222,
              "#7201a8"
             ],
             [
              0.3333333333333333,
              "#9c179e"
             ],
             [
              0.4444444444444444,
              "#bd3786"
             ],
             [
              0.5555555555555556,
              "#d8576b"
             ],
             [
              0.6666666666666666,
              "#ed7953"
             ],
             [
              0.7777777777777778,
              "#fb9f3a"
             ],
             [
              0.8888888888888888,
              "#fdca26"
             ],
             [
              1,
              "#f0f921"
             ]
            ],
            "type": "histogram2d"
           }
          ],
          "histogram2dcontour": [
           {
            "colorbar": {
             "outlinewidth": 0,
             "ticks": ""
            },
            "colorscale": [
             [
              0,
              "#0d0887"
             ],
             [
              0.1111111111111111,
              "#46039f"
             ],
             [
              0.2222222222222222,
              "#7201a8"
             ],
             [
              0.3333333333333333,
              "#9c179e"
             ],
             [
              0.4444444444444444,
              "#bd3786"
             ],
             [
              0.5555555555555556,
              "#d8576b"
             ],
             [
              0.6666666666666666,
              "#ed7953"
             ],
             [
              0.7777777777777778,
              "#fb9f3a"
             ],
             [
              0.8888888888888888,
              "#fdca26"
             ],
             [
              1,
              "#f0f921"
             ]
            ],
            "type": "histogram2dcontour"
           }
          ],
          "mesh3d": [
           {
            "colorbar": {
             "outlinewidth": 0,
             "ticks": ""
            },
            "type": "mesh3d"
           }
          ],
          "parcoords": [
           {
            "line": {
             "colorbar": {
              "outlinewidth": 0,
              "ticks": ""
             }
            },
            "type": "parcoords"
           }
          ],
          "pie": [
           {
            "automargin": true,
            "type": "pie"
           }
          ],
          "scatter": [
           {
            "marker": {
             "colorbar": {
              "outlinewidth": 0,
              "ticks": ""
             }
            },
            "type": "scatter"
           }
          ],
          "scatter3d": [
           {
            "line": {
             "colorbar": {
              "outlinewidth": 0,
              "ticks": ""
             }
            },
            "marker": {
             "colorbar": {
              "outlinewidth": 0,
              "ticks": ""
             }
            },
            "type": "scatter3d"
           }
          ],
          "scattercarpet": [
           {
            "marker": {
             "colorbar": {
              "outlinewidth": 0,
              "ticks": ""
             }
            },
            "type": "scattercarpet"
           }
          ],
          "scattergeo": [
           {
            "marker": {
             "colorbar": {
              "outlinewidth": 0,
              "ticks": ""
             }
            },
            "type": "scattergeo"
           }
          ],
          "scattergl": [
           {
            "marker": {
             "colorbar": {
              "outlinewidth": 0,
              "ticks": ""
             }
            },
            "type": "scattergl"
           }
          ],
          "scattermapbox": [
           {
            "marker": {
             "colorbar": {
              "outlinewidth": 0,
              "ticks": ""
             }
            },
            "type": "scattermapbox"
           }
          ],
          "scatterpolar": [
           {
            "marker": {
             "colorbar": {
              "outlinewidth": 0,
              "ticks": ""
             }
            },
            "type": "scatterpolar"
           }
          ],
          "scatterpolargl": [
           {
            "marker": {
             "colorbar": {
              "outlinewidth": 0,
              "ticks": ""
             }
            },
            "type": "scatterpolargl"
           }
          ],
          "scatterternary": [
           {
            "marker": {
             "colorbar": {
              "outlinewidth": 0,
              "ticks": ""
             }
            },
            "type": "scatterternary"
           }
          ],
          "surface": [
           {
            "colorbar": {
             "outlinewidth": 0,
             "ticks": ""
            },
            "colorscale": [
             [
              0,
              "#0d0887"
             ],
             [
              0.1111111111111111,
              "#46039f"
             ],
             [
              0.2222222222222222,
              "#7201a8"
             ],
             [
              0.3333333333333333,
              "#9c179e"
             ],
             [
              0.4444444444444444,
              "#bd3786"
             ],
             [
              0.5555555555555556,
              "#d8576b"
             ],
             [
              0.6666666666666666,
              "#ed7953"
             ],
             [
              0.7777777777777778,
              "#fb9f3a"
             ],
             [
              0.8888888888888888,
              "#fdca26"
             ],
             [
              1,
              "#f0f921"
             ]
            ],
            "type": "surface"
           }
          ],
          "table": [
           {
            "cells": {
             "fill": {
              "color": "#EBF0F8"
             },
             "line": {
              "color": "white"
             }
            },
            "header": {
             "fill": {
              "color": "#C8D4E3"
             },
             "line": {
              "color": "white"
             }
            },
            "type": "table"
           }
          ]
         },
         "layout": {
          "annotationdefaults": {
           "arrowcolor": "#2a3f5f",
           "arrowhead": 0,
           "arrowwidth": 1
          },
          "autotypenumbers": "strict",
          "coloraxis": {
           "colorbar": {
            "outlinewidth": 0,
            "ticks": ""
           }
          },
          "colorscale": {
           "diverging": [
            [
             0,
             "#8e0152"
            ],
            [
             0.1,
             "#c51b7d"
            ],
            [
             0.2,
             "#de77ae"
            ],
            [
             0.3,
             "#f1b6da"
            ],
            [
             0.4,
             "#fde0ef"
            ],
            [
             0.5,
             "#f7f7f7"
            ],
            [
             0.6,
             "#e6f5d0"
            ],
            [
             0.7,
             "#b8e186"
            ],
            [
             0.8,
             "#7fbc41"
            ],
            [
             0.9,
             "#4d9221"
            ],
            [
             1,
             "#276419"
            ]
           ],
           "sequential": [
            [
             0,
             "#0d0887"
            ],
            [
             0.1111111111111111,
             "#46039f"
            ],
            [
             0.2222222222222222,
             "#7201a8"
            ],
            [
             0.3333333333333333,
             "#9c179e"
            ],
            [
             0.4444444444444444,
             "#bd3786"
            ],
            [
             0.5555555555555556,
             "#d8576b"
            ],
            [
             0.6666666666666666,
             "#ed7953"
            ],
            [
             0.7777777777777778,
             "#fb9f3a"
            ],
            [
             0.8888888888888888,
             "#fdca26"
            ],
            [
             1,
             "#f0f921"
            ]
           ],
           "sequentialminus": [
            [
             0,
             "#0d0887"
            ],
            [
             0.1111111111111111,
             "#46039f"
            ],
            [
             0.2222222222222222,
             "#7201a8"
            ],
            [
             0.3333333333333333,
             "#9c179e"
            ],
            [
             0.4444444444444444,
             "#bd3786"
            ],
            [
             0.5555555555555556,
             "#d8576b"
            ],
            [
             0.6666666666666666,
             "#ed7953"
            ],
            [
             0.7777777777777778,
             "#fb9f3a"
            ],
            [
             0.8888888888888888,
             "#fdca26"
            ],
            [
             1,
             "#f0f921"
            ]
           ]
          },
          "colorway": [
           "#636efa",
           "#EF553B",
           "#00cc96",
           "#ab63fa",
           "#FFA15A",
           "#19d3f3",
           "#FF6692",
           "#B6E880",
           "#FF97FF",
           "#FECB52"
          ],
          "font": {
           "color": "#2a3f5f"
          },
          "geo": {
           "bgcolor": "white",
           "lakecolor": "white",
           "landcolor": "#E5ECF6",
           "showlakes": true,
           "showland": true,
           "subunitcolor": "white"
          },
          "hoverlabel": {
           "align": "left"
          },
          "hovermode": "closest",
          "mapbox": {
           "style": "light"
          },
          "paper_bgcolor": "white",
          "plot_bgcolor": "#E5ECF6",
          "polar": {
           "angularaxis": {
            "gridcolor": "white",
            "linecolor": "white",
            "ticks": ""
           },
           "bgcolor": "#E5ECF6",
           "radialaxis": {
            "gridcolor": "white",
            "linecolor": "white",
            "ticks": ""
           }
          },
          "scene": {
           "xaxis": {
            "backgroundcolor": "#E5ECF6",
            "gridcolor": "white",
            "gridwidth": 2,
            "linecolor": "white",
            "showbackground": true,
            "ticks": "",
            "zerolinecolor": "white"
           },
           "yaxis": {
            "backgroundcolor": "#E5ECF6",
            "gridcolor": "white",
            "gridwidth": 2,
            "linecolor": "white",
            "showbackground": true,
            "ticks": "",
            "zerolinecolor": "white"
           },
           "zaxis": {
            "backgroundcolor": "#E5ECF6",
            "gridcolor": "white",
            "gridwidth": 2,
            "linecolor": "white",
            "showbackground": true,
            "ticks": "",
            "zerolinecolor": "white"
           }
          },
          "shapedefaults": {
           "line": {
            "color": "#2a3f5f"
           }
          },
          "ternary": {
           "aaxis": {
            "gridcolor": "white",
            "linecolor": "white",
            "ticks": ""
           },
           "baxis": {
            "gridcolor": "white",
            "linecolor": "white",
            "ticks": ""
           },
           "bgcolor": "#E5ECF6",
           "caxis": {
            "gridcolor": "white",
            "linecolor": "white",
            "ticks": ""
           }
          },
          "title": {
           "x": 0.05
          },
          "xaxis": {
           "automargin": true,
           "gridcolor": "white",
           "linecolor": "white",
           "ticks": "",
           "title": {
            "standoff": 15
           },
           "zerolinecolor": "white",
           "zerolinewidth": 2
          },
          "yaxis": {
           "automargin": true,
           "gridcolor": "white",
           "linecolor": "white",
           "ticks": "",
           "title": {
            "standoff": 15
           },
           "zerolinecolor": "white",
           "zerolinewidth": 2
          }
         }
        }
       }
      },
      "text/html": [
       "<div>                            <div id=\"9d1fefac-b962-46bc-bc24-3adf41e22c44\" class=\"plotly-graph-div\" style=\"height:525px; width:100%;\"></div>            <script type=\"text/javascript\">                require([\"plotly\"], function(Plotly) {                    window.PLOTLYENV=window.PLOTLYENV || {};                                    if (document.getElementById(\"9d1fefac-b962-46bc-bc24-3adf41e22c44\")) {                    Plotly.newPlot(                        \"9d1fefac-b962-46bc-bc24-3adf41e22c44\",                        [{\"marker\": {\"opacity\": 0.99, \"size\": 5, \"symbol\": \"circle\"}, \"mode\": \"markers\", \"type\": \"scatter\", \"x\": [-0.2877192795276642, -0.17319820821285248, 2.3838369846343994, 2.0739614963531494, 0.1550501435995102, 3.1729736328125, 0.6395553350448608, 2.334291934967041, 1.3945415019989014, 2.5309720039367676, -0.1946258246898651, 2.3094875812530518, 3.3609044551849365, 2.8280646800994873, 0.35678723454475403, 1.3305096626281738, 2.0471956729888916, 1.7817171812057495, 0.8661408424377441, 1.5242282152175903, 2.4851014614105225, 1.171953797340393, 0.9219291806221008, 0.5612787008285522, 1.6924864053726196, 2.6240034103393555, 1.8173049688339233, 0.6223838925361633, 0.2713240385055542, 3.1068108081817627, 2.318498134613037, 3.287668228149414, 0.20788012444972992, 1.3084169626235962, 2.6487483978271484, 1.3525720834732056, -0.000491717248223722, 2.2182531356811523, 1.8344039916992188, -0.10618146508932114, 1.079364538192749, 2.19018816947937, 2.597930908203125, 1.8036229610443115, 1.6404348611831665, 1.0434545278549194, 0.0774170458316803, 0.29608169198036194, 1.113347053527832, 0.4577801525592804, 1.922788143157959, 2.707598924636841, 1.097159743309021, 2.1015632152557373, 1.4533638954162598, 1.0375374555587769, 0.811398983001709, 0.58202064037323, 1.4706566333770752, 2.527642250061035, 2.0288805961608887, 1.9450507164001465, 2.8412163257598877, 0.9356470704078674], \"y\": [15.597127914428711, 17.3693904876709, 17.09358024597168, 15.48198127746582, 15.490503311157227, 16.63887596130371, 17.593761444091797, 17.99004554748535, 15.652567863464355, 16.313129425048828, 16.868650436401367, 15.043401718139648, 16.63006591796875, 15.3212308883667, 17.37580680847168, 18.22196388244629, 15.775092124938965, 16.948139190673828, 15.60617733001709, 17.99397087097168, 16.8258113861084, 16.110549926757812, 16.626359939575195, 14.84625244140625, 16.76011848449707, 15.762215614318848, 17.18588638305664, 16.744123458862305, 16.46416473388672, 16.35125732421875, 15.456034660339355, 17.041044235229492, 16.633256912231445, 17.060632705688477, 15.991214752197266, 16.370304107666016, 17.61149787902832, 17.65188980102539, 14.932156562805176, 17.145462036132812, 17.89344596862793, 16.664588928222656, 14.769271850585938, 14.241735458374023, 15.502496719360352, 14.489008903503418, 14.925748825073242, 14.597640037536621, 16.64725112915039, 15.39755630493164, 16.16349983215332, 17.285018920898438, 15.268082618713379, 14.687954902648926, 16.053855895996094, 16.491947174072266, 14.290459632873535, 15.823981285095215, 15.096085548400879, 14.694955825805664, 16.252410888671875, 14.49983024597168, 17.738094329833984, 16.140920639038086]}],                        {\"images\": [{\"sizex\": 0.2, \"sizey\": 0.2, \"source\": \"http://chrishamblin.xyz/images/viscnn_images/0.jpg\", \"x\": -0.2877192795276642, \"xanchor\": \"center\", \"xref\": \"x\", \"y\": 15.597127914428711, \"yanchor\": \"middle\", \"yref\": \"y\"}, {\"sizex\": 0.2, \"sizey\": 0.2, \"source\": \"http://chrishamblin.xyz/images/viscnn_images/1.jpg\", \"x\": -0.17319820821285248, \"xanchor\": \"center\", \"xref\": \"x\", \"y\": 17.3693904876709, \"yanchor\": \"middle\", \"yref\": \"y\"}, {\"sizex\": 0.2, \"sizey\": 0.2, \"source\": \"http://chrishamblin.xyz/images/viscnn_images/2.jpg\", \"x\": 2.3838369846343994, \"xanchor\": \"center\", \"xref\": \"x\", \"y\": 17.09358024597168, \"yanchor\": \"middle\", \"yref\": \"y\"}, {\"sizex\": 0.2, \"sizey\": 0.2, \"source\": \"http://chrishamblin.xyz/images/viscnn_images/3.jpg\", \"x\": 2.0739614963531494, \"xanchor\": \"center\", \"xref\": \"x\", \"y\": 15.48198127746582, \"yanchor\": \"middle\", \"yref\": \"y\"}, {\"sizex\": 0.2, \"sizey\": 0.2, \"source\": \"http://chrishamblin.xyz/images/viscnn_images/4.jpg\", \"x\": 0.1550501435995102, \"xanchor\": \"center\", \"xref\": \"x\", \"y\": 15.490503311157227, \"yanchor\": \"middle\", \"yref\": \"y\"}, {\"sizex\": 0.2, \"sizey\": 0.2, \"source\": \"http://chrishamblin.xyz/images/viscnn_images/5.jpg\", \"x\": 3.1729736328125, \"xanchor\": \"center\", \"xref\": \"x\", \"y\": 16.63887596130371, \"yanchor\": \"middle\", \"yref\": \"y\"}, {\"sizex\": 0.2, \"sizey\": 0.2, \"source\": \"http://chrishamblin.xyz/images/viscnn_images/6.jpg\", \"x\": 0.6395553350448608, \"xanchor\": \"center\", \"xref\": \"x\", \"y\": 17.593761444091797, \"yanchor\": \"middle\", \"yref\": \"y\"}, {\"sizex\": 0.2, \"sizey\": 0.2, \"source\": \"http://chrishamblin.xyz/images/viscnn_images/7.jpg\", \"x\": 2.334291934967041, \"xanchor\": \"center\", \"xref\": \"x\", \"y\": 17.99004554748535, \"yanchor\": \"middle\", \"yref\": \"y\"}, {\"sizex\": 0.2, \"sizey\": 0.2, \"source\": \"http://chrishamblin.xyz/images/viscnn_images/8.jpg\", \"x\": 1.3945415019989014, \"xanchor\": \"center\", \"xref\": \"x\", \"y\": 15.652567863464355, \"yanchor\": \"middle\", \"yref\": \"y\"}, {\"sizex\": 0.2, \"sizey\": 0.2, \"source\": \"http://chrishamblin.xyz/images/viscnn_images/9.jpg\", \"x\": 2.5309720039367676, \"xanchor\": \"center\", \"xref\": \"x\", \"y\": 16.313129425048828, \"yanchor\": \"middle\", \"yref\": \"y\"}, {\"sizex\": 0.2, \"sizey\": 0.2, \"source\": \"http://chrishamblin.xyz/images/viscnn_images/10.jpg\", \"x\": -0.1946258246898651, \"xanchor\": \"center\", \"xref\": \"x\", \"y\": 16.868650436401367, \"yanchor\": \"middle\", \"yref\": \"y\"}, {\"sizex\": 0.2, \"sizey\": 0.2, \"source\": \"http://chrishamblin.xyz/images/viscnn_images/11.jpg\", \"x\": 2.3094875812530518, \"xanchor\": \"center\", \"xref\": \"x\", \"y\": 15.043401718139648, \"yanchor\": \"middle\", \"yref\": \"y\"}, {\"sizex\": 0.2, \"sizey\": 0.2, \"source\": \"http://chrishamblin.xyz/images/viscnn_images/12.jpg\", \"x\": 3.3609044551849365, \"xanchor\": \"center\", \"xref\": \"x\", \"y\": 16.63006591796875, \"yanchor\": \"middle\", \"yref\": \"y\"}, {\"sizex\": 0.2, \"sizey\": 0.2, \"source\": \"http://chrishamblin.xyz/images/viscnn_images/13.jpg\", \"x\": 2.8280646800994873, \"xanchor\": \"center\", \"xref\": \"x\", \"y\": 15.3212308883667, \"yanchor\": \"middle\", \"yref\": \"y\"}, {\"sizex\": 0.2, \"sizey\": 0.2, \"source\": \"http://chrishamblin.xyz/images/viscnn_images/14.jpg\", \"x\": 0.35678723454475403, \"xanchor\": \"center\", \"xref\": \"x\", \"y\": 17.37580680847168, \"yanchor\": \"middle\", \"yref\": \"y\"}, {\"sizex\": 0.2, \"sizey\": 0.2, \"source\": \"http://chrishamblin.xyz/images/viscnn_images/15.jpg\", \"x\": 1.3305096626281738, \"xanchor\": \"center\", \"xref\": \"x\", \"y\": 18.22196388244629, \"yanchor\": \"middle\", \"yref\": \"y\"}, {\"sizex\": 0.2, \"sizey\": 0.2, \"source\": \"http://chrishamblin.xyz/images/viscnn_images/16.jpg\", \"x\": 2.0471956729888916, \"xanchor\": \"center\", \"xref\": \"x\", \"y\": 15.775092124938965, \"yanchor\": \"middle\", \"yref\": \"y\"}, {\"sizex\": 0.2, \"sizey\": 0.2, \"source\": \"http://chrishamblin.xyz/images/viscnn_images/17.jpg\", \"x\": 1.7817171812057495, \"xanchor\": \"center\", \"xref\": \"x\", \"y\": 16.948139190673828, \"yanchor\": \"middle\", \"yref\": \"y\"}, {\"sizex\": 0.2, \"sizey\": 0.2, \"source\": \"http://chrishamblin.xyz/images/viscnn_images/18.jpg\", \"x\": 0.8661408424377441, \"xanchor\": \"center\", \"xref\": \"x\", \"y\": 15.60617733001709, \"yanchor\": \"middle\", \"yref\": \"y\"}, {\"sizex\": 0.2, \"sizey\": 0.2, \"source\": \"http://chrishamblin.xyz/images/viscnn_images/19.jpg\", \"x\": 1.5242282152175903, \"xanchor\": \"center\", \"xref\": \"x\", \"y\": 17.99397087097168, \"yanchor\": \"middle\", \"yref\": \"y\"}, {\"sizex\": 0.2, \"sizey\": 0.2, \"source\": \"http://chrishamblin.xyz/images/viscnn_images/20.jpg\", \"x\": 2.4851014614105225, \"xanchor\": \"center\", \"xref\": \"x\", \"y\": 16.8258113861084, \"yanchor\": \"middle\", \"yref\": \"y\"}, {\"sizex\": 0.2, \"sizey\": 0.2, \"source\": \"http://chrishamblin.xyz/images/viscnn_images/21.jpg\", \"x\": 1.171953797340393, \"xanchor\": \"center\", \"xref\": \"x\", \"y\": 16.110549926757812, \"yanchor\": \"middle\", \"yref\": \"y\"}, {\"sizex\": 0.2, \"sizey\": 0.2, \"source\": \"http://chrishamblin.xyz/images/viscnn_images/22.jpg\", \"x\": 0.9219291806221008, \"xanchor\": \"center\", \"xref\": \"x\", \"y\": 16.626359939575195, \"yanchor\": \"middle\", \"yref\": \"y\"}, {\"sizex\": 0.2, \"sizey\": 0.2, \"source\": \"http://chrishamblin.xyz/images/viscnn_images/23.jpg\", \"x\": 0.5612787008285522, \"xanchor\": \"center\", \"xref\": \"x\", \"y\": 14.84625244140625, \"yanchor\": \"middle\", \"yref\": \"y\"}, {\"sizex\": 0.2, \"sizey\": 0.2, \"source\": \"http://chrishamblin.xyz/images/viscnn_images/24.jpg\", \"x\": 1.6924864053726196, \"xanchor\": \"center\", \"xref\": \"x\", \"y\": 16.76011848449707, \"yanchor\": \"middle\", \"yref\": \"y\"}, {\"sizex\": 0.2, \"sizey\": 0.2, \"source\": \"http://chrishamblin.xyz/images/viscnn_images/25.jpg\", \"x\": 2.6240034103393555, \"xanchor\": \"center\", \"xref\": \"x\", \"y\": 15.762215614318848, \"yanchor\": \"middle\", \"yref\": \"y\"}, {\"sizex\": 0.2, \"sizey\": 0.2, \"source\": \"http://chrishamblin.xyz/images/viscnn_images/26.jpg\", \"x\": 1.8173049688339233, \"xanchor\": \"center\", \"xref\": \"x\", \"y\": 17.18588638305664, \"yanchor\": \"middle\", \"yref\": \"y\"}, {\"sizex\": 0.2, \"sizey\": 0.2, \"source\": \"http://chrishamblin.xyz/images/viscnn_images/27.jpg\", \"x\": 0.6223838925361633, \"xanchor\": \"center\", \"xref\": \"x\", \"y\": 16.744123458862305, \"yanchor\": \"middle\", \"yref\": \"y\"}, {\"sizex\": 0.2, \"sizey\": 0.2, \"source\": \"http://chrishamblin.xyz/images/viscnn_images/28.jpg\", \"x\": 0.2713240385055542, \"xanchor\": \"center\", \"xref\": \"x\", \"y\": 16.46416473388672, \"yanchor\": \"middle\", \"yref\": \"y\"}, {\"sizex\": 0.2, \"sizey\": 0.2, \"source\": \"http://chrishamblin.xyz/images/viscnn_images/29.jpg\", \"x\": 3.1068108081817627, \"xanchor\": \"center\", \"xref\": \"x\", \"y\": 16.35125732421875, \"yanchor\": \"middle\", \"yref\": \"y\"}, {\"sizex\": 0.2, \"sizey\": 0.2, \"source\": \"http://chrishamblin.xyz/images/viscnn_images/30.jpg\", \"x\": 2.318498134613037, \"xanchor\": \"center\", \"xref\": \"x\", \"y\": 15.456034660339355, \"yanchor\": \"middle\", \"yref\": \"y\"}, {\"sizex\": 0.2, \"sizey\": 0.2, \"source\": \"http://chrishamblin.xyz/images/viscnn_images/31.jpg\", \"x\": 3.287668228149414, \"xanchor\": \"center\", \"xref\": \"x\", \"y\": 17.041044235229492, \"yanchor\": \"middle\", \"yref\": \"y\"}, {\"sizex\": 0.2, \"sizey\": 0.2, \"source\": \"http://chrishamblin.xyz/images/viscnn_images/32.jpg\", \"x\": 0.20788012444972992, \"xanchor\": \"center\", \"xref\": \"x\", \"y\": 16.633256912231445, \"yanchor\": \"middle\", \"yref\": \"y\"}, {\"sizex\": 0.2, \"sizey\": 0.2, \"source\": \"http://chrishamblin.xyz/images/viscnn_images/33.jpg\", \"x\": 1.3084169626235962, \"xanchor\": \"center\", \"xref\": \"x\", \"y\": 17.060632705688477, \"yanchor\": \"middle\", \"yref\": \"y\"}, {\"sizex\": 0.2, \"sizey\": 0.2, \"source\": \"http://chrishamblin.xyz/images/viscnn_images/34.jpg\", \"x\": 2.6487483978271484, \"xanchor\": \"center\", \"xref\": \"x\", \"y\": 15.991214752197266, \"yanchor\": \"middle\", \"yref\": \"y\"}, {\"sizex\": 0.2, \"sizey\": 0.2, \"source\": \"http://chrishamblin.xyz/images/viscnn_images/35.jpg\", \"x\": 1.3525720834732056, \"xanchor\": \"center\", \"xref\": \"x\", \"y\": 16.370304107666016, \"yanchor\": \"middle\", \"yref\": \"y\"}, {\"sizex\": 0.2, \"sizey\": 0.2, \"source\": \"http://chrishamblin.xyz/images/viscnn_images/36.jpg\", \"x\": -0.000491717248223722, \"xanchor\": \"center\", \"xref\": \"x\", \"y\": 17.61149787902832, \"yanchor\": \"middle\", \"yref\": \"y\"}, {\"sizex\": 0.2, \"sizey\": 0.2, \"source\": \"http://chrishamblin.xyz/images/viscnn_images/37.jpg\", \"x\": 2.2182531356811523, \"xanchor\": \"center\", \"xref\": \"x\", \"y\": 17.65188980102539, \"yanchor\": \"middle\", \"yref\": \"y\"}, {\"sizex\": 0.2, \"sizey\": 0.2, \"source\": \"http://chrishamblin.xyz/images/viscnn_images/38.jpg\", \"x\": 1.8344039916992188, \"xanchor\": \"center\", \"xref\": \"x\", \"y\": 14.932156562805176, \"yanchor\": \"middle\", \"yref\": \"y\"}, {\"sizex\": 0.2, \"sizey\": 0.2, \"source\": \"http://chrishamblin.xyz/images/viscnn_images/39.jpg\", \"x\": -0.10618146508932114, \"xanchor\": \"center\", \"xref\": \"x\", \"y\": 17.145462036132812, \"yanchor\": \"middle\", \"yref\": \"y\"}, {\"sizex\": 0.2, \"sizey\": 0.2, \"source\": \"http://chrishamblin.xyz/images/viscnn_images/40.jpg\", \"x\": 1.079364538192749, \"xanchor\": \"center\", \"xref\": \"x\", \"y\": 17.89344596862793, \"yanchor\": \"middle\", \"yref\": \"y\"}, {\"sizex\": 0.2, \"sizey\": 0.2, \"source\": \"http://chrishamblin.xyz/images/viscnn_images/41.jpg\", \"x\": 2.19018816947937, \"xanchor\": \"center\", \"xref\": \"x\", \"y\": 16.664588928222656, \"yanchor\": \"middle\", \"yref\": \"y\"}, {\"sizex\": 0.2, \"sizey\": 0.2, \"source\": \"http://chrishamblin.xyz/images/viscnn_images/42.jpg\", \"x\": 2.597930908203125, \"xanchor\": \"center\", \"xref\": \"x\", \"y\": 14.769271850585938, \"yanchor\": \"middle\", \"yref\": \"y\"}, {\"sizex\": 0.2, \"sizey\": 0.2, \"source\": \"http://chrishamblin.xyz/images/viscnn_images/43.jpg\", \"x\": 1.8036229610443115, \"xanchor\": \"center\", \"xref\": \"x\", \"y\": 14.241735458374023, \"yanchor\": \"middle\", \"yref\": \"y\"}, {\"sizex\": 0.2, \"sizey\": 0.2, \"source\": \"http://chrishamblin.xyz/images/viscnn_images/44.jpg\", \"x\": 1.6404348611831665, \"xanchor\": \"center\", \"xref\": \"x\", \"y\": 15.502496719360352, \"yanchor\": \"middle\", \"yref\": \"y\"}, {\"sizex\": 0.2, \"sizey\": 0.2, \"source\": \"http://chrishamblin.xyz/images/viscnn_images/45.jpg\", \"x\": 1.0434545278549194, \"xanchor\": \"center\", \"xref\": \"x\", \"y\": 14.489008903503418, \"yanchor\": \"middle\", \"yref\": \"y\"}, {\"sizex\": 0.2, \"sizey\": 0.2, \"source\": \"http://chrishamblin.xyz/images/viscnn_images/46.jpg\", \"x\": 0.0774170458316803, \"xanchor\": \"center\", \"xref\": \"x\", \"y\": 14.925748825073242, \"yanchor\": \"middle\", \"yref\": \"y\"}, {\"sizex\": 0.2, \"sizey\": 0.2, \"source\": \"http://chrishamblin.xyz/images/viscnn_images/47.jpg\", \"x\": 0.29608169198036194, \"xanchor\": \"center\", \"xref\": \"x\", \"y\": 14.597640037536621, \"yanchor\": \"middle\", \"yref\": \"y\"}, {\"sizex\": 0.2, \"sizey\": 0.2, \"source\": \"http://chrishamblin.xyz/images/viscnn_images/48.jpg\", \"x\": 1.113347053527832, \"xanchor\": \"center\", \"xref\": \"x\", \"y\": 16.64725112915039, \"yanchor\": \"middle\", \"yref\": \"y\"}, {\"sizex\": 0.2, \"sizey\": 0.2, \"source\": \"http://chrishamblin.xyz/images/viscnn_images/49.jpg\", \"x\": 0.4577801525592804, \"xanchor\": \"center\", \"xref\": \"x\", \"y\": 15.39755630493164, \"yanchor\": \"middle\", \"yref\": \"y\"}, {\"sizex\": 0.2, \"sizey\": 0.2, \"source\": \"http://chrishamblin.xyz/images/viscnn_images/50.jpg\", \"x\": 1.922788143157959, \"xanchor\": \"center\", \"xref\": \"x\", \"y\": 16.16349983215332, \"yanchor\": \"middle\", \"yref\": \"y\"}, {\"sizex\": 0.2, \"sizey\": 0.2, \"source\": \"http://chrishamblin.xyz/images/viscnn_images/51.jpg\", \"x\": 2.707598924636841, \"xanchor\": \"center\", \"xref\": \"x\", \"y\": 17.285018920898438, \"yanchor\": \"middle\", \"yref\": \"y\"}, {\"sizex\": 0.2, \"sizey\": 0.2, \"source\": \"http://chrishamblin.xyz/images/viscnn_images/52.jpg\", \"x\": 1.097159743309021, \"xanchor\": \"center\", \"xref\": \"x\", \"y\": 15.268082618713379, \"yanchor\": \"middle\", \"yref\": \"y\"}, {\"sizex\": 0.2, \"sizey\": 0.2, \"source\": \"http://chrishamblin.xyz/images/viscnn_images/53.jpg\", \"x\": 2.1015632152557373, \"xanchor\": \"center\", \"xref\": \"x\", \"y\": 14.687954902648926, \"yanchor\": \"middle\", \"yref\": \"y\"}, {\"sizex\": 0.2, \"sizey\": 0.2, \"source\": \"http://chrishamblin.xyz/images/viscnn_images/54.jpg\", \"x\": 1.4533638954162598, \"xanchor\": \"center\", \"xref\": \"x\", \"y\": 16.053855895996094, \"yanchor\": \"middle\", \"yref\": \"y\"}, {\"sizex\": 0.2, \"sizey\": 0.2, \"source\": \"http://chrishamblin.xyz/images/viscnn_images/55.jpg\", \"x\": 1.0375374555587769, \"xanchor\": \"center\", \"xref\": \"x\", \"y\": 16.491947174072266, \"yanchor\": \"middle\", \"yref\": \"y\"}, {\"sizex\": 0.2, \"sizey\": 0.2, \"source\": \"http://chrishamblin.xyz/images/viscnn_images/56.jpg\", \"x\": 0.811398983001709, \"xanchor\": \"center\", \"xref\": \"x\", \"y\": 14.290459632873535, \"yanchor\": \"middle\", \"yref\": \"y\"}, {\"sizex\": 0.2, \"sizey\": 0.2, \"source\": \"http://chrishamblin.xyz/images/viscnn_images/57.jpg\", \"x\": 0.58202064037323, \"xanchor\": \"center\", \"xref\": \"x\", \"y\": 15.823981285095215, \"yanchor\": \"middle\", \"yref\": \"y\"}, {\"sizex\": 0.2, \"sizey\": 0.2, \"source\": \"http://chrishamblin.xyz/images/viscnn_images/58.jpg\", \"x\": 1.4706566333770752, \"xanchor\": \"center\", \"xref\": \"x\", \"y\": 15.096085548400879, \"yanchor\": \"middle\", \"yref\": \"y\"}, {\"sizex\": 0.2, \"sizey\": 0.2, \"source\": \"http://chrishamblin.xyz/images/viscnn_images/59.jpg\", \"x\": 2.527642250061035, \"xanchor\": \"center\", \"xref\": \"x\", \"y\": 14.694955825805664, \"yanchor\": \"middle\", \"yref\": \"y\"}, {\"sizex\": 0.2, \"sizey\": 0.2, \"source\": \"http://chrishamblin.xyz/images/viscnn_images/60.jpg\", \"x\": 2.0288805961608887, \"xanchor\": \"center\", \"xref\": \"x\", \"y\": 16.252410888671875, \"yanchor\": \"middle\", \"yref\": \"y\"}, {\"sizex\": 0.2, \"sizey\": 0.2, \"source\": \"http://chrishamblin.xyz/images/viscnn_images/61.jpg\", \"x\": 1.9450507164001465, \"xanchor\": \"center\", \"xref\": \"x\", \"y\": 14.49983024597168, \"yanchor\": \"middle\", \"yref\": \"y\"}, {\"sizex\": 0.2, \"sizey\": 0.2, \"source\": \"http://chrishamblin.xyz/images/viscnn_images/62.jpg\", \"x\": 2.8412163257598877, \"xanchor\": \"center\", \"xref\": \"x\", \"y\": 17.738094329833984, \"yanchor\": \"middle\", \"yref\": \"y\"}, {\"sizex\": 0.2, \"sizey\": 0.2, \"source\": \"http://chrishamblin.xyz/images/viscnn_images/63.jpg\", \"x\": 0.9356470704078674, \"xanchor\": \"center\", \"xref\": \"x\", \"y\": 16.140920639038086, \"yanchor\": \"middle\", \"yref\": \"y\"}], \"template\": {\"data\": {\"bar\": [{\"error_x\": {\"color\": \"#2a3f5f\"}, \"error_y\": {\"color\": \"#2a3f5f\"}, \"marker\": {\"line\": {\"color\": \"#E5ECF6\", \"width\": 0.5}}, \"type\": \"bar\"}], \"barpolar\": [{\"marker\": {\"line\": {\"color\": \"#E5ECF6\", \"width\": 0.5}}, \"type\": \"barpolar\"}], \"carpet\": [{\"aaxis\": {\"endlinecolor\": \"#2a3f5f\", \"gridcolor\": \"white\", \"linecolor\": \"white\", \"minorgridcolor\": \"white\", \"startlinecolor\": \"#2a3f5f\"}, \"baxis\": {\"endlinecolor\": \"#2a3f5f\", \"gridcolor\": \"white\", \"linecolor\": \"white\", \"minorgridcolor\": \"white\", \"startlinecolor\": \"#2a3f5f\"}, \"type\": \"carpet\"}], \"choropleth\": [{\"colorbar\": {\"outlinewidth\": 0, \"ticks\": \"\"}, \"type\": \"choropleth\"}], \"contour\": [{\"colorbar\": {\"outlinewidth\": 0, \"ticks\": \"\"}, \"colorscale\": [[0.0, \"#0d0887\"], [0.1111111111111111, \"#46039f\"], [0.2222222222222222, \"#7201a8\"], [0.3333333333333333, \"#9c179e\"], [0.4444444444444444, \"#bd3786\"], [0.5555555555555556, \"#d8576b\"], [0.6666666666666666, \"#ed7953\"], [0.7777777777777778, \"#fb9f3a\"], [0.8888888888888888, \"#fdca26\"], [1.0, \"#f0f921\"]], \"type\": \"contour\"}], \"contourcarpet\": [{\"colorbar\": {\"outlinewidth\": 0, \"ticks\": \"\"}, \"type\": \"contourcarpet\"}], \"heatmap\": [{\"colorbar\": {\"outlinewidth\": 0, \"ticks\": \"\"}, \"colorscale\": [[0.0, \"#0d0887\"], [0.1111111111111111, \"#46039f\"], [0.2222222222222222, \"#7201a8\"], [0.3333333333333333, \"#9c179e\"], [0.4444444444444444, \"#bd3786\"], [0.5555555555555556, \"#d8576b\"], [0.6666666666666666, \"#ed7953\"], [0.7777777777777778, \"#fb9f3a\"], [0.8888888888888888, \"#fdca26\"], [1.0, \"#f0f921\"]], \"type\": \"heatmap\"}], \"heatmapgl\": [{\"colorbar\": {\"outlinewidth\": 0, \"ticks\": \"\"}, \"colorscale\": [[0.0, \"#0d0887\"], [0.1111111111111111, \"#46039f\"], [0.2222222222222222, \"#7201a8\"], [0.3333333333333333, \"#9c179e\"], [0.4444444444444444, \"#bd3786\"], [0.5555555555555556, \"#d8576b\"], [0.6666666666666666, \"#ed7953\"], [0.7777777777777778, \"#fb9f3a\"], [0.8888888888888888, \"#fdca26\"], [1.0, \"#f0f921\"]], \"type\": \"heatmapgl\"}], \"histogram\": [{\"marker\": {\"colorbar\": {\"outlinewidth\": 0, \"ticks\": \"\"}}, \"type\": \"histogram\"}], \"histogram2d\": [{\"colorbar\": {\"outlinewidth\": 0, \"ticks\": \"\"}, \"colorscale\": [[0.0, \"#0d0887\"], [0.1111111111111111, \"#46039f\"], [0.2222222222222222, \"#7201a8\"], [0.3333333333333333, \"#9c179e\"], [0.4444444444444444, \"#bd3786\"], [0.5555555555555556, \"#d8576b\"], [0.6666666666666666, \"#ed7953\"], [0.7777777777777778, \"#fb9f3a\"], [0.8888888888888888, \"#fdca26\"], [1.0, \"#f0f921\"]], \"type\": \"histogram2d\"}], \"histogram2dcontour\": [{\"colorbar\": {\"outlinewidth\": 0, \"ticks\": \"\"}, \"colorscale\": [[0.0, \"#0d0887\"], [0.1111111111111111, \"#46039f\"], [0.2222222222222222, \"#7201a8\"], [0.3333333333333333, \"#9c179e\"], [0.4444444444444444, \"#bd3786\"], [0.5555555555555556, \"#d8576b\"], [0.6666666666666666, \"#ed7953\"], [0.7777777777777778, \"#fb9f3a\"], [0.8888888888888888, \"#fdca26\"], [1.0, \"#f0f921\"]], \"type\": \"histogram2dcontour\"}], \"mesh3d\": [{\"colorbar\": {\"outlinewidth\": 0, \"ticks\": \"\"}, \"type\": \"mesh3d\"}], \"parcoords\": [{\"line\": {\"colorbar\": {\"outlinewidth\": 0, \"ticks\": \"\"}}, \"type\": \"parcoords\"}], \"pie\": [{\"automargin\": true, \"type\": \"pie\"}], \"scatter\": [{\"marker\": {\"colorbar\": {\"outlinewidth\": 0, \"ticks\": \"\"}}, \"type\": \"scatter\"}], \"scatter3d\": [{\"line\": {\"colorbar\": {\"outlinewidth\": 0, \"ticks\": \"\"}}, \"marker\": {\"colorbar\": {\"outlinewidth\": 0, \"ticks\": \"\"}}, \"type\": \"scatter3d\"}], \"scattercarpet\": [{\"marker\": {\"colorbar\": {\"outlinewidth\": 0, \"ticks\": \"\"}}, \"type\": \"scattercarpet\"}], \"scattergeo\": [{\"marker\": {\"colorbar\": {\"outlinewidth\": 0, \"ticks\": \"\"}}, \"type\": \"scattergeo\"}], \"scattergl\": [{\"marker\": {\"colorbar\": {\"outlinewidth\": 0, \"ticks\": \"\"}}, \"type\": \"scattergl\"}], \"scattermapbox\": [{\"marker\": {\"colorbar\": {\"outlinewidth\": 0, \"ticks\": \"\"}}, \"type\": \"scattermapbox\"}], \"scatterpolar\": [{\"marker\": {\"colorbar\": {\"outlinewidth\": 0, \"ticks\": \"\"}}, \"type\": \"scatterpolar\"}], \"scatterpolargl\": [{\"marker\": {\"colorbar\": {\"outlinewidth\": 0, \"ticks\": \"\"}}, \"type\": \"scatterpolargl\"}], \"scatterternary\": [{\"marker\": {\"colorbar\": {\"outlinewidth\": 0, \"ticks\": \"\"}}, \"type\": \"scatterternary\"}], \"surface\": [{\"colorbar\": {\"outlinewidth\": 0, \"ticks\": \"\"}, \"colorscale\": [[0.0, \"#0d0887\"], [0.1111111111111111, \"#46039f\"], [0.2222222222222222, \"#7201a8\"], [0.3333333333333333, \"#9c179e\"], [0.4444444444444444, \"#bd3786\"], [0.5555555555555556, \"#d8576b\"], [0.6666666666666666, \"#ed7953\"], [0.7777777777777778, \"#fb9f3a\"], [0.8888888888888888, \"#fdca26\"], [1.0, \"#f0f921\"]], \"type\": \"surface\"}], \"table\": [{\"cells\": {\"fill\": {\"color\": \"#EBF0F8\"}, \"line\": {\"color\": \"white\"}}, \"header\": {\"fill\": {\"color\": \"#C8D4E3\"}, \"line\": {\"color\": \"white\"}}, \"type\": \"table\"}]}, \"layout\": {\"annotationdefaults\": {\"arrowcolor\": \"#2a3f5f\", \"arrowhead\": 0, \"arrowwidth\": 1}, \"autotypenumbers\": \"strict\", \"coloraxis\": {\"colorbar\": {\"outlinewidth\": 0, \"ticks\": \"\"}}, \"colorscale\": {\"diverging\": [[0, \"#8e0152\"], [0.1, \"#c51b7d\"], [0.2, \"#de77ae\"], [0.3, \"#f1b6da\"], [0.4, \"#fde0ef\"], [0.5, \"#f7f7f7\"], [0.6, \"#e6f5d0\"], [0.7, \"#b8e186\"], [0.8, \"#7fbc41\"], [0.9, \"#4d9221\"], [1, \"#276419\"]], \"sequential\": [[0.0, \"#0d0887\"], [0.1111111111111111, \"#46039f\"], [0.2222222222222222, \"#7201a8\"], [0.3333333333333333, \"#9c179e\"], [0.4444444444444444, \"#bd3786\"], [0.5555555555555556, \"#d8576b\"], [0.6666666666666666, \"#ed7953\"], [0.7777777777777778, \"#fb9f3a\"], [0.8888888888888888, \"#fdca26\"], [1.0, \"#f0f921\"]], \"sequentialminus\": [[0.0, \"#0d0887\"], [0.1111111111111111, \"#46039f\"], [0.2222222222222222, \"#7201a8\"], [0.3333333333333333, \"#9c179e\"], [0.4444444444444444, \"#bd3786\"], [0.5555555555555556, \"#d8576b\"], [0.6666666666666666, \"#ed7953\"], [0.7777777777777778, \"#fb9f3a\"], [0.8888888888888888, \"#fdca26\"], [1.0, \"#f0f921\"]]}, \"colorway\": [\"#636efa\", \"#EF553B\", \"#00cc96\", \"#ab63fa\", \"#FFA15A\", \"#19d3f3\", \"#FF6692\", \"#B6E880\", \"#FF97FF\", \"#FECB52\"], \"font\": {\"color\": \"#2a3f5f\"}, \"geo\": {\"bgcolor\": \"white\", \"lakecolor\": \"white\", \"landcolor\": \"#E5ECF6\", \"showlakes\": true, \"showland\": true, \"subunitcolor\": \"white\"}, \"hoverlabel\": {\"align\": \"left\"}, \"hovermode\": \"closest\", \"mapbox\": {\"style\": \"light\"}, \"paper_bgcolor\": \"white\", \"plot_bgcolor\": \"#E5ECF6\", \"polar\": {\"angularaxis\": {\"gridcolor\": \"white\", \"linecolor\": \"white\", \"ticks\": \"\"}, \"bgcolor\": \"#E5ECF6\", \"radialaxis\": {\"gridcolor\": \"white\", \"linecolor\": \"white\", \"ticks\": \"\"}}, \"scene\": {\"xaxis\": {\"backgroundcolor\": \"#E5ECF6\", \"gridcolor\": \"white\", \"gridwidth\": 2, \"linecolor\": \"white\", \"showbackground\": true, \"ticks\": \"\", \"zerolinecolor\": \"white\"}, \"yaxis\": {\"backgroundcolor\": \"#E5ECF6\", \"gridcolor\": \"white\", \"gridwidth\": 2, \"linecolor\": \"white\", \"showbackground\": true, \"ticks\": \"\", \"zerolinecolor\": \"white\"}, \"zaxis\": {\"backgroundcolor\": \"#E5ECF6\", \"gridcolor\": \"white\", \"gridwidth\": 2, \"linecolor\": \"white\", \"showbackground\": true, \"ticks\": \"\", \"zerolinecolor\": \"white\"}}, \"shapedefaults\": {\"line\": {\"color\": \"#2a3f5f\"}}, \"ternary\": {\"aaxis\": {\"gridcolor\": \"white\", \"linecolor\": \"white\", \"ticks\": \"\"}, \"baxis\": {\"gridcolor\": \"white\", \"linecolor\": \"white\", \"ticks\": \"\"}, \"bgcolor\": \"#E5ECF6\", \"caxis\": {\"gridcolor\": \"white\", \"linecolor\": \"white\", \"ticks\": \"\"}}, \"title\": {\"x\": 0.05}, \"xaxis\": {\"automargin\": true, \"gridcolor\": \"white\", \"linecolor\": \"white\", \"ticks\": \"\", \"title\": {\"standoff\": 15}, \"zerolinecolor\": \"white\", \"zerolinewidth\": 2}, \"yaxis\": {\"automargin\": true, \"gridcolor\": \"white\", \"linecolor\": \"white\", \"ticks\": \"\", \"title\": {\"standoff\": 15}, \"zerolinecolor\": \"white\", \"zerolinewidth\": 2}}}},                        {\"responsive\": true}                    ).then(function(){\n",
       "                            \n",
       "var gd = document.getElementById('9d1fefac-b962-46bc-bc24-3adf41e22c44');\n",
       "var x = new MutationObserver(function (mutations, observer) {{\n",
       "        var display = window.getComputedStyle(gd).display;\n",
       "        if (!display || display === 'none') {{\n",
       "            console.log([gd, 'removed!']);\n",
       "            Plotly.purge(gd);\n",
       "            observer.disconnect();\n",
       "        }}\n",
       "}});\n",
       "\n",
       "// Listen for the removal of the full notebook cells\n",
       "var notebookContainer = gd.closest('#notebook-container');\n",
       "if (notebookContainer) {{\n",
       "    x.observe(notebookContainer, {childList: true});\n",
       "}}\n",
       "\n",
       "// Listen for the clearing of the current output cell\n",
       "var outputEl = gd.closest('.output');\n",
       "if (outputEl) {{\n",
       "    x.observe(outputEl, {childList: true});\n",
       "}}\n",
       "\n",
       "                        })                };                });            </script>        </div>"
      ]
     },
     "metadata": {},
     "output_type": "display_data"
    }
   ],
   "source": [
    "#plot with images\n",
    "layer = 0\n",
    "\n",
    "\n",
    "trace=go.Scatter(x=embeddings[layer][:,0],\n",
    "                 y=embeddings[layer][:,1],\n",
    "                 mode='markers',\n",
    "                   marker=dict(symbol='circle',\n",
    "                         size=5,\n",
    "                         opacity=.99\n",
    "                         ),\n",
    "           )\n",
    "\n",
    "fig = go.Figure(data=trace)\n",
    "# Add images\n",
    "\n",
    "for i in range(embeddings[layer].shape[0]):\n",
    "    nodeid = str(params['layer_nodes'][layer][1][i])\n",
    "    fig.add_layout_image(\n",
    "        dict(\n",
    "            source=\"http://chrishamblin.xyz/images/viscnn_images/%s.jpg\"%nodeid,\n",
    "            x=embeddings[layer][i,0],\n",
    "            y=embeddings[layer][i,1],\n",
    "            ))\n",
    "# fig.add_layout_image(dict(\n",
    "#         source=\"https://raw.githubusercontent.com/michaelbabyn/plot_data/master/naphthalene.png\",\n",
    "#         x=1.0,\n",
    "#         y=1.0,\n",
    "#         )\n",
    "# )\n",
    "fig.update_layout_images(dict(\n",
    "        xref=\"x\",\n",
    "        yref=\"y\",\n",
    "        sizex=0.2,\n",
    "        sizey=0.2,\n",
    "        xanchor=\"center\",\n",
    "        yanchor=\"middle\"\n",
    "))\n",
    "\n",
    "\n",
    "\n",
    "fig.show()"
   ]
  },
  {
   "cell_type": "code",
   "execution_count": 16,
   "metadata": {},
   "outputs": [
    {
     "data": {
      "application/vnd.plotly.v1+json": {
       "config": {
        "plotlyServerURL": "https://plot.ly"
       },
       "data": [
        {
         "marker": {
          "opacity": 0.99,
          "size": 5,
          "symbol": "circle"
         },
         "mode": "markers",
         "type": "scatter",
         "x": [
          -0.023565856487747075,
          0.013035531826479407,
          -0.05589245988187023,
          0.14195897606707147,
          -0.055959891403627345,
          -0.12322071532642145,
          0.03176681023751189,
          -0.1375252104304063,
          -0.13499632421165478,
          -0.09555466829164458,
          -0.03661561332498904,
          -0.04059292928475551,
          -0.011775828761425694,
          0.09581607972493073,
          -0.029862753495127344,
          0.09434711243887943,
          -0.06811980306727407,
          -0.031414027999018775,
          0.06122048345392553,
          0.01742261723835081,
          0.09250633825799784,
          -0.09561841878915638,
          -0.07310464759721433,
          0.04317723255599291,
          0.01343101645352951,
          0.020442482074098364,
          0.11986016860606954,
          0.000995656442513609,
          0.027459234257491017,
          -0.038658051028287434,
          -0.0421739129076291,
          0.11772489689218935,
          -0.09242267381460118,
          -0.06300577066763176,
          -0.015999289288443425,
          -0.062396503566775466,
          -0.08962625749185658,
          0.0978184612643938,
          0.03280954289081985,
          -0.015251642671579012,
          -0.11394605615634401,
          -0.022759586779316606,
          -0.058219536828277636,
          -0.026344676719915115,
          -0.11528199774589504,
          0.014366710977068235,
          0.00908245614048367,
          0.07492781466301046,
          0.05447316005743438,
          0.04441259232577236,
          -0.08138728521244878,
          -0.10888544416940088,
          -0.13674989372231827,
          0.0808611966683477,
          -0.06523499734815004,
          -0.10873068289018735,
          0.10415515459609205,
          0.10253521135639665,
          -0.057440157746558994,
          0.13334104434308208,
          -0.044695847428861006,
          -0.13493921639456788,
          0.05748755709847323,
          -0.055351459068964645,
          -0.0065114116880823384,
          0.017086121586411665,
          -0.0073391115730947155,
          -0.015820071873595958,
          0.08459293619040721,
          0.054906027142325425,
          0.06818658031519738,
          0.05587658068541436,
          0.07546743344601872,
          -0.058335319632200205,
          -0.017884149985155817,
          0.02662337922875183,
          -0.05135404242099141,
          -0.025170208413999872,
          0.03131961966045354,
          0.07574141486144668,
          0.13108003312770833,
          -0.002585134799784118,
          -0.045836339853792436,
          0.078162318770801,
          -0.02612453969498962,
          0.10034601490900948,
          -0.02181470102167738,
          -0.029702463772107727,
          -0.14344988285339394,
          0.13354950489050324,
          0.10637226019744611,
          0.08185446215562063,
          -0.011930088263030518,
          -0.12006412786881504,
          0.049080092068261645,
          0.11520381059946902,
          0.10335939259290844,
          0.07210354248344615,
          0.00216291251653454,
          -0.09685316580125278,
          -0.07008311927748459,
          0.12781534783178677,
          0.004550131088118406,
          -0.11927699910476118,
          -0.04317663080461362,
          0.03384130542252149,
          -0.031405092375389625,
          -0.0098192133311156,
          -0.1010217944034014,
          0.03657452505254766,
          -0.10654283067468467,
          -0.016072189421701046,
          0.053503336941466494,
          -0.0954657411292869,
          -0.04058475749225477,
          0.012097076108882325,
          0.004675167017308022,
          -0.02220115400234777,
          -0.015160401720150513,
          -0.08281824175608277,
          -0.11343290263250516,
          -0.10481031561280522,
          0.02514977107992799,
          -0.08968738083593819,
          0.0448005695369531,
          -0.12479250122756794,
          -0.03822752330271201,
          -0.07765944045110587,
          0.012923957833125384,
          0.010078552828246998,
          0.06297043923855891,
          0.060712024769407985,
          -0.08141100287456919,
          0.05522213881769292,
          0.09908298557074308,
          0.11593647694337299,
          -0.05177865736431401,
          -0.09392271853265556,
          0.10530450355784489,
          -0.00257893641263206,
          0.03690349349495326,
          0.030412712492127365,
          0.045032099084120945,
          -0.14017769908590236,
          0.08248297065934462,
          0.036150865658456745,
          -0.0795868438064245,
          0.026424639060010146,
          0.0634359027389575,
          0.12515626813738845,
          -0.13561546957018006,
          0.007775776150768229,
          0.09637233987696121,
          -0.05132700855276318,
          0.11736140307667159,
          0.08907743056420699,
          0.09589497398632431,
          -0.052335052906429785,
          -0.012789693737775701,
          0.055307679346674896,
          -0.12232758407997801,
          -0.03082424722117216,
          0.021960760397516845,
          -0.06388959754506522,
          -0.11512925730536312,
          -0.09022349368786414,
          0.025785871799466842,
          -0.04286856878133945,
          -0.10153570030859432,
          -0.02713181036456019,
          0.08595690538289893,
          0.07367543592966927,
          0.09371149800190928,
          -0.0610649885918127,
          0.12634916730784485,
          -0.10058902333552627,
          -0.06548388183730287,
          0.004383744246850063,
          0.07097890507743329,
          0.12085652498487641,
          -0.043713497080177306,
          0.13457017967571355,
          0.09149618506389656,
          0.08389534380990132,
          0.10424334347284481,
          0.05123713680757151,
          0.03647108547923384,
          -0.006500204395000626,
          -0.07551436969992585,
          -0.13341803055805734,
          -0.08793323310889965,
          0.09683987702341043,
          0.06904593002654348,
          0.058778012142638336,
          0.002581833504145422,
          0.0648496367823415,
          -0.06436100790038009,
          -0.03776481790012122,
          -0.1200490471699328,
          -0.09812252684202497,
          -0.11065242401800819,
          -0.013607043733688992,
          0.03957092322720139,
          -0.023227069714088174,
          0.07935851693091,
          -0.006540890739034246,
          0.13077583721600777,
          0.04018952956999164,
          -0.029282810571949442,
          0.0692730490540423,
          0.056100356789018924,
          0.028272829983606283,
          -0.010248447191580462,
          -0.1449337314228615,
          0.07922570472064043,
          0.0008845196552750409,
          0.07336137966963704,
          0.10243070789146015,
          -0.054584269543015686,
          -0.11681327755136471,
          0.019562070460643604,
          0.0275153982786026,
          0.004972736968601167,
          -0.07916017988748678,
          -0.06807022162787218,
          0.08317351290600719,
          -0.010943278170836358,
          -0.02669270922033266,
          0.02925072111174554,
          0.03713663534644324,
          -0.03966265437307743,
          -0.04611851509381566,
          0.06283723238736312,
          -0.12978828040471396,
          0.0532348089312203,
          -0.019180986834230068,
          -0.0679164593453741,
          -0.031934155404240834,
          0.06527443987150668,
          -0.13191584098147865,
          0.04244808392386321,
          -0.011695718222379048,
          -0.036898498487078345,
          -0.04409810454298712,
          -0.14419465747713694,
          0.10655225279297154,
          0.12405231708811079,
          0.08842861307213568,
          0.05040791284216752,
          0.024726661069034123,
          -0.039820289280946136,
          -0.024069050853767718,
          -0.018310487736788086,
          -0.12510868545541382,
          0.040626268158640434,
          0.13357279632696312,
          0.07783295473637056,
          0.11276030646756877,
          0.042914718187966855,
          -0.07751292349826236,
          -0.016797765028699313,
          -0.0003900846376370237,
          -0.027941805230457924,
          0.05541267155764541,
          -0.06406112044187354,
          0.11086164455513542,
          -0.12661682994128443,
          0.018576827029591434,
          -0.06830154086789052,
          0.14425959241667324,
          0.04118749346838492,
          -0.10459960888388527,
          0.06005786161666109,
          -0.07524470042800026,
          0.027013970015859874,
          -0.06735476440922367,
          0.01502535761099273,
          -0.057749236431143755,
          -0.07915646539035676,
          -0.04502620678988332,
          0.04950868141912603,
          -0.08390551666976973,
          0.023447115875960576,
          0.012385349610288324,
          0.04474005926540026,
          0.02996695417369742,
          -0.0782923387165558,
          -0.0038203665459127264,
          0.0665340705429619,
          0.13310206444486633,
          0.07691904529220957,
          -0.0015727204048237781,
          -0.10849084149059769,
          -0.12378802101089831,
          -0.06167247643968423,
          0.01855851087665761,
          0.061296568126235344,
          -0.009825709297524831,
          0.11657221803369,
          0.10409725232445602,
          -0.0939009777888231,
          0.1137148037031691,
          -0.0305088750465773,
          -0.0527465433615751,
          0.008044003949461585,
          0.011548955898872143,
          0.10011322354871717,
          0.05265212650056582,
          -0.018414334656887417,
          0.06786904600150824,
          0.013374852020106891,
          -0.04790609330271534,
          -0.10287528765156265,
          0.09018130073204395,
          0.0882257444862983,
          -0.10689693772861215,
          -0.028862000387548253,
          0.0040658662509726945,
          0.043076163547771044,
          -0.07858268493945682,
          0.02630833300322212,
          0.03584222893517374,
          -0.045670864647089714,
          0.04835838876498154,
          -0.0035355037417975728,
          0.11785821151721815,
          -0.1192702810038278,
          -0.05185866559512233,
          0.04746258893227116,
          -0.1098578345902531,
          -0.0347405024444097,
          -0.09046934751953009,
          -0.05108687873451079,
          -0.07695938998063671,
          -0.02622887379066622,
          0.12970319265164298,
          0.14186780890529355,
          -0.05734605256742164,
          0.0747938678480245,
          0.0007199672867781074,
          0.11152761247648095,
          -0.09602405281661698,
          0.08736718378079969,
          -0.09115103601550398,
          0.11194335145931525,
          0.1422238595187056,
          -0.07909295178930274,
          -0.011386993963409463,
          -0.07504380334759042,
          -0.08760417060253357,
          -0.06719709190325036,
          0.06880747487933872,
          0.08826244153576626,
          0.1435853687560735,
          0.11465479114887954,
          0.04216037132391005,
          -0.0021945654378984986,
          -0.04095752378836425,
          0.06700073246964737,
          0.049150310828733966,
          0.12107758930482151,
          -0.07090031058695491,
          0.06875783089647454,
          0.017858875543274207,
          0.02807378649277848,
          -0.1030155583876829,
          0.0005209403298719812,
          0.09076875540195661,
          0.0007871556471168885,
          0.03420712978130945,
          -0.12391224857245865,
          -0.08220613472778521,
          -0.10794464224723908,
          -0.08795719556675334,
          -0.038507299833049916,
          0.01479886912900671,
          0.08083276735284094,
          -0.08928815397409663,
          0.0037308403889026857,
          0.017436504442210735,
          -0.05099955555135756,
          -0.0713280460457573,
          0.01826411612695971,
          0.0012894380953082146
         ],
         "y": [
          -0.025015003617468796,
          -0.014002970051923677,
          0.10038884936598706,
          -0.03099836276955048,
          0.11594152446210415,
          0.014360423771408799,
          0.021310088573575473,
          -0.044580531905219774,
          0.005684528250996246,
          0.02606974686522987,
          0.1398284173765618,
          -0.0776009181230357,
          0.13711661603225042,
          0.054048623968772413,
          0.1287077467620477,
          -0.0355166649132568,
          -0.11457232410644974,
          8.22711922030225e-05,
          0.07135530287907152,
          0.14203614308349824,
          0.007096392485276213,
          0.012309698739939074,
          -0.09296920681978775,
          -0.02499207835798521,
          0.04772145629919049,
          -0.1432120346678884,
          0.022232580067902942,
          -0.10604242445493421,
          -0.05914814755846098,
          0.015408634226974523,
          0.06453372527192301,
          -0.013781289310662298,
          0.08266790863482655,
          -0.013208357347369732,
          0.03341164114842488,
          -0.054603122222602885,
          0.039489512901479853,
          0.030358670361080784,
          0.14184272862772837,
          7.995964192926246e-05,
          0.045072225911677886,
          -0.0782786173504575,
          -0.1076534580920055,
          -0.037837906640977546,
          -0.08779839582687617,
          0.11172306298556305,
          -0.027071003290674578,
          0.06916997921064881,
          0.058307331084220336,
          0.01901823760222,
          -0.03347205771015909,
          -0.029203164649408985,
          0.022802204201150415,
          0.030596852483211406,
          0.02799215928364391,
          0.09191892796794837,
          0.01826761147042416,
          0.08118189652187578,
          -0.06598546498837563,
          -0.019640428482691687,
          -0.06596578716768288,
          0.0503976887110838,
          -0.05448514642896011,
          0.012687482042225641,
          0.12163526062535322,
          0.0734985844563211,
          0.10023240723528848,
          0.04809410529005945,
          0.11762908488975934,
          0.012865035379674785,
          0.05642402317692639,
          -0.0010754592586527036,
          -0.12351550929357903,
          0.04101023793639687,
          -0.05948867404611566,
          -0.004913589026856822,
          -0.018408038842802305,
          0.023943051465191927,
          0.007882970568132055,
          0.01712314547797156,
          -0.005694418813034946,
          0.00709694611834901,
          0.004154792109919412,
          -0.08850159369871623,
          0.056030831438951385,
          -0.0922062335279583,
          0.14300078413734377,
          -0.06667449295272125,
          -0.021822950143726663,
          0.04086084259436682,
          0.09672383381527584,
          0.0918260761927219,
          0.062109724567270146,
          0.05618473137754009,
          0.07958071329443146,
          0.010476772203229463,
          0.0006201508136933362,
          0.12262470373740499,
          0.1460642139775514,
          -0.03707013634269907,
          -0.07310657850489255,
          -0.03283063982599907,
          -0.14456088232423522,
          -0.05413584205009118,
          0.12558401656306895,
          0.08138021168332138,
          -0.08842204380705655,
          0.0752100737712562,
          0.10151775856407717,
          -0.10260836487222014,
          0.060250126292981834,
          -0.012808053836268133,
          -0.08084721338786165,
          0.06813454032629922,
          -0.054124053609951005,
          0.09822832785539867,
          -0.07605565288061027,
          -0.11081372459136357,
          0.0896833395627992,
          0.06394547729408505,
          0.0027403828569164566,
          0.07853340391600633,
          -0.10650585132614732,
          -0.012850268602732683,
          0.09242574541460787,
          -0.07363272864013536,
          -0.024277287901910874,
          -0.019744733983053396,
          -0.000683576450573091,
          0.03518019175339707,
          -0.018729751572975344,
          -0.11239991358589552,
          0.05174624493217069,
          0.10206557716475574,
          0.06659803889104512,
          0.08563517947011326,
          0.025512388919444583,
          -0.02445569934050357,
          0.04368363082648314,
          0.028544291690738972,
          -0.13899140938933335,
          0.09385273785837878,
          0.0675808135066237,
          0.035338087102180865,
          0.10540584409983696,
          0.05734243886129975,
          0.1210402314840257,
          -0.04696215141925809,
          0.023813931148109473,
          0.07309444931816553,
          -0.03151389493403111,
          0.1239596175699279,
          0.10633430359531282,
          -0.1361112029761957,
          -0.02579184877547395,
          0.019267474070958624,
          -0.07037204706150633,
          0.05496943596184829,
          -0.14355832047998088,
          0.11792945020577285,
          -0.028274110687473427,
          0.11255234023647191,
          -0.11956419420602171,
          -0.04019823317645311,
          -0.06553502942736689,
          9.178736360968852e-05,
          0.03521269676701085,
          0.09914560265261119,
          -0.06581694204837168,
          0.06834368308047666,
          -0.09958499429120919,
          -0.02908201094362439,
          0.09041819354383401,
          -0.09246140675987723,
          -0.06525989480755867,
          -0.052884302427321554,
          0.055875494476199716,
          -0.09333558579931142,
          -0.05653859516794174,
          0.043586653619619796,
          0.11234053826096854,
          0.053756091968265515,
          -0.00892375467411113,
          0.05987432786886363,
          -0.028000925182996808,
          -0.04202577542401454,
          -0.11999324329487661,
          -0.05167328234457978,
          -0.06126742750783745,
          -0.0138840777977518,
          -0.06259681879498898,
          -0.05767530106780506,
          -0.09929052886813657,
          0.044974311542847215,
          -0.12249295305552467,
          -0.04054937508484589,
          0.12860014415822638,
          0.028931134211561366,
          -0.014969294527981547,
          -0.08724014983500696,
          0.02837967848850205,
          -0.041309981979329474,
          0.03426882948465543,
          0.08006160768714828,
          -0.0153618330809291,
          -0.08594539849624432,
          0.025920123792413086,
          -0.07755437829122787,
          -0.12194695289496278,
          0.09736152746753599,
          -0.02921463605568673,
          0.11776506684284317,
          -0.11843182277999165,
          0.012998843362951314,
          -0.07447653543760094,
          0.1098379978165437,
          0.08186674721349341,
          -0.01500003851524201,
          0.07100658064905008,
          0.07031234998118414,
          0.1289663809996577,
          -0.13112682683969823,
          0.01763504001776396,
          0.07632646325467635,
          0.1147711221777353,
          -0.06174980759389078,
          -0.10303081219148788,
          -0.14169273471762128,
          -0.08664552119257644,
          -0.03595239795415745,
          0.0772863788075314,
          -0.08897799902774363,
          -0.12741788834129442,
          0.06497811451239716,
          -0.06686424402847951,
          0.12337433757465642,
          0.06822746204640483,
          -0.10172178045184846,
          -0.0849908678229957,
          -0.058596740745250266,
          0.0017524210396184538,
          0.01745965392415593,
          -0.1353544109945451,
          -0.12377262664902298,
          -0.005030135065374984,
          -0.07833897073328368,
          0.05999647750451635,
          -0.11359555750032352,
          -0.1357471526952618,
          -0.021092183115539807,
          -0.03807947803709569,
          0.010550698132162067,
          -0.12958409438298454,
          -0.0021428033928896453,
          -0.06351100698079991,
          -0.054841892188422336,
          0.0468286739201317,
          0.03257428397690051,
          0.12006601922937708,
          0.08909390055034855,
          0.10952229835712976,
          -0.005315842493216245,
          -0.05087012659060421,
          -0.09731696343159814,
          0.08263272817269993,
          -0.06465998255102509,
          0.04039515968386848,
          -0.09593952023435866,
          0.014271756070946653,
          -0.012444008566380341,
          -0.05012303524405046,
          -0.09903738776966643,
          0.08718533790850766,
          -0.04694575690145393,
          0.10529447462922321,
          0.09751613371697566,
          -0.08294501282311047,
          -0.07958113623140638,
          0.00706090476906328,
          -0.007968477722746706,
          -0.012334978315025181,
          -0.11707539083237047,
          -0.03331159836679305,
          -0.1318871652849575,
          0.04684734917987759,
          0.0692770505105615,
          0.10568057039081705,
          -0.13418995996234329,
          -0.06996130758447855,
          -0.04347563403154567,
          -0.04343853047104899,
          -0.06424235290955556,
          0.015276704095125606,
          0.027843127068117302,
          5.956471588729355e-05,
          0.05975320839059803,
          0.13041999100548085,
          -0.028006294355383463,
          -0.00201473321195845,
          -0.04732317909744431,
          -0.107722707706013,
          -0.08999518590792839,
          -0.012660808765619208,
          -0.03129301144561825,
          -0.05394443523134859,
          -0.11186769840632456,
          -0.10452922533822173,
          0.03195283738874502,
          -0.09292357286537213,
          0.007049111771140122,
          -0.042695984496634046,
          -0.10109035336422699,
          -0.0035580908979131053,
          0.04147891176957656,
          0.07544160619629554,
          -0.01574311394571588,
          0.0402180728548784,
          0.0786801648158631,
          -0.09158821674578344,
          0.03227870745922695,
          -0.07277646417461416,
          -0.013760152907781731,
          0.03951820905438386,
          0.13477947274582758,
          0.04210160414515848,
          -0.053045588428487715,
          0.08257876224589332,
          0.13456917199008975,
          -0.10968293248282095,
          -0.043601782909568496,
          0.08915280483811752,
          -0.07596796550826591,
          0.08586859062513791,
          -0.10515256211534241,
          0.09911331823180226,
          0.008395759858054358,
          0.015756083505646196,
          -0.12397031252591989,
          -0.1108072895805824,
          0.05397633215185272,
          0.05576531676932989,
          0.05243742443120736,
          -0.02534107872426728,
          0.11132390842462891,
          0.07069922209817607,
          0.030791879820663618,
          -0.08158621753332113,
          -0.07284840291717917,
          -0.005833686413557568,
          -0.09502009110800264,
          -0.027530479859250674,
          -0.007209415580924291,
          -0.046627860719359863,
          0.002301146386890381,
          -0.0399546922909528,
          0.10645186003245942,
          -0.01784249551119092,
          -0.11198755039527135,
          0.110412859897438,
          -0.12344165088939499,
          -0.07690892109384945,
          -0.12709192518155724,
          0.0364406115368259,
          0.02405795814332752,
          0.047615367002938315,
          0.039477361208495466,
          0.0901148562370673,
          -0.08320701290754719,
          -0.03790831590693784,
          0.13020200436347337,
          -0.04183016406864744,
          0.020190284931467295,
          -0.0778126092729979,
          -0.047336445533533694,
          0.05096567041486508,
          -0.06520602265386756,
          0.0009813025153341585,
          0.09575227910388326,
          0.06577069480217036,
          0.010770898235359086,
          -0.04666669590870387,
          0.043387247136845025,
          0.0867032329144741,
          0.13472629871010539
         ]
        }
       ],
       "layout": {
        "height": 1000,
        "images": [
         {
          "sizex": 0.008,
          "sizey": 0.008,
          "source": "http://chrishamblin.xyz/images/viscnn_images/256.jpg",
          "x": -0.023565856487747075,
          "xanchor": "center",
          "xref": "x",
          "y": -0.025015003617468796,
          "yanchor": "middle",
          "yref": "y"
         },
         {
          "sizex": 0.008,
          "sizey": 0.008,
          "source": "http://chrishamblin.xyz/images/viscnn_images/257.jpg",
          "x": 0.013035531826479407,
          "xanchor": "center",
          "xref": "x",
          "y": -0.014002970051923677,
          "yanchor": "middle",
          "yref": "y"
         },
         {
          "sizex": 0.008,
          "sizey": 0.008,
          "source": "http://chrishamblin.xyz/images/viscnn_images/258.jpg",
          "x": -0.05589245988187023,
          "xanchor": "center",
          "xref": "x",
          "y": 0.10038884936598706,
          "yanchor": "middle",
          "yref": "y"
         },
         {
          "sizex": 0.008,
          "sizey": 0.008,
          "source": "http://chrishamblin.xyz/images/viscnn_images/259.jpg",
          "x": 0.14195897606707147,
          "xanchor": "center",
          "xref": "x",
          "y": -0.03099836276955048,
          "yanchor": "middle",
          "yref": "y"
         },
         {
          "sizex": 0.008,
          "sizey": 0.008,
          "source": "http://chrishamblin.xyz/images/viscnn_images/260.jpg",
          "x": -0.055959891403627345,
          "xanchor": "center",
          "xref": "x",
          "y": 0.11594152446210415,
          "yanchor": "middle",
          "yref": "y"
         },
         {
          "sizex": 0.008,
          "sizey": 0.008,
          "source": "http://chrishamblin.xyz/images/viscnn_images/261.jpg",
          "x": -0.12322071532642145,
          "xanchor": "center",
          "xref": "x",
          "y": 0.014360423771408799,
          "yanchor": "middle",
          "yref": "y"
         },
         {
          "sizex": 0.008,
          "sizey": 0.008,
          "source": "http://chrishamblin.xyz/images/viscnn_images/262.jpg",
          "x": 0.03176681023751189,
          "xanchor": "center",
          "xref": "x",
          "y": 0.021310088573575473,
          "yanchor": "middle",
          "yref": "y"
         },
         {
          "sizex": 0.008,
          "sizey": 0.008,
          "source": "http://chrishamblin.xyz/images/viscnn_images/263.jpg",
          "x": -0.1375252104304063,
          "xanchor": "center",
          "xref": "x",
          "y": -0.044580531905219774,
          "yanchor": "middle",
          "yref": "y"
         },
         {
          "sizex": 0.008,
          "sizey": 0.008,
          "source": "http://chrishamblin.xyz/images/viscnn_images/264.jpg",
          "x": -0.13499632421165478,
          "xanchor": "center",
          "xref": "x",
          "y": 0.005684528250996246,
          "yanchor": "middle",
          "yref": "y"
         },
         {
          "sizex": 0.008,
          "sizey": 0.008,
          "source": "http://chrishamblin.xyz/images/viscnn_images/265.jpg",
          "x": -0.09555466829164458,
          "xanchor": "center",
          "xref": "x",
          "y": 0.02606974686522987,
          "yanchor": "middle",
          "yref": "y"
         },
         {
          "sizex": 0.008,
          "sizey": 0.008,
          "source": "http://chrishamblin.xyz/images/viscnn_images/266.jpg",
          "x": -0.03661561332498904,
          "xanchor": "center",
          "xref": "x",
          "y": 0.1398284173765618,
          "yanchor": "middle",
          "yref": "y"
         },
         {
          "sizex": 0.008,
          "sizey": 0.008,
          "source": "http://chrishamblin.xyz/images/viscnn_images/267.jpg",
          "x": -0.04059292928475551,
          "xanchor": "center",
          "xref": "x",
          "y": -0.0776009181230357,
          "yanchor": "middle",
          "yref": "y"
         },
         {
          "sizex": 0.008,
          "sizey": 0.008,
          "source": "http://chrishamblin.xyz/images/viscnn_images/268.jpg",
          "x": -0.011775828761425694,
          "xanchor": "center",
          "xref": "x",
          "y": 0.13711661603225042,
          "yanchor": "middle",
          "yref": "y"
         },
         {
          "sizex": 0.008,
          "sizey": 0.008,
          "source": "http://chrishamblin.xyz/images/viscnn_images/269.jpg",
          "x": 0.09581607972493073,
          "xanchor": "center",
          "xref": "x",
          "y": 0.054048623968772413,
          "yanchor": "middle",
          "yref": "y"
         },
         {
          "sizex": 0.008,
          "sizey": 0.008,
          "source": "http://chrishamblin.xyz/images/viscnn_images/270.jpg",
          "x": -0.029862753495127344,
          "xanchor": "center",
          "xref": "x",
          "y": 0.1287077467620477,
          "yanchor": "middle",
          "yref": "y"
         },
         {
          "sizex": 0.008,
          "sizey": 0.008,
          "source": "http://chrishamblin.xyz/images/viscnn_images/271.jpg",
          "x": 0.09434711243887943,
          "xanchor": "center",
          "xref": "x",
          "y": -0.0355166649132568,
          "yanchor": "middle",
          "yref": "y"
         },
         {
          "sizex": 0.008,
          "sizey": 0.008,
          "source": "http://chrishamblin.xyz/images/viscnn_images/272.jpg",
          "x": -0.06811980306727407,
          "xanchor": "center",
          "xref": "x",
          "y": -0.11457232410644974,
          "yanchor": "middle",
          "yref": "y"
         },
         {
          "sizex": 0.008,
          "sizey": 0.008,
          "source": "http://chrishamblin.xyz/images/viscnn_images/273.jpg",
          "x": -0.031414027999018775,
          "xanchor": "center",
          "xref": "x",
          "y": 8.22711922030225e-05,
          "yanchor": "middle",
          "yref": "y"
         },
         {
          "sizex": 0.008,
          "sizey": 0.008,
          "source": "http://chrishamblin.xyz/images/viscnn_images/274.jpg",
          "x": 0.06122048345392553,
          "xanchor": "center",
          "xref": "x",
          "y": 0.07135530287907152,
          "yanchor": "middle",
          "yref": "y"
         },
         {
          "sizex": 0.008,
          "sizey": 0.008,
          "source": "http://chrishamblin.xyz/images/viscnn_images/275.jpg",
          "x": 0.01742261723835081,
          "xanchor": "center",
          "xref": "x",
          "y": 0.14203614308349824,
          "yanchor": "middle",
          "yref": "y"
         },
         {
          "sizex": 0.008,
          "sizey": 0.008,
          "source": "http://chrishamblin.xyz/images/viscnn_images/276.jpg",
          "x": 0.09250633825799784,
          "xanchor": "center",
          "xref": "x",
          "y": 0.007096392485276213,
          "yanchor": "middle",
          "yref": "y"
         },
         {
          "sizex": 0.008,
          "sizey": 0.008,
          "source": "http://chrishamblin.xyz/images/viscnn_images/277.jpg",
          "x": -0.09561841878915638,
          "xanchor": "center",
          "xref": "x",
          "y": 0.012309698739939074,
          "yanchor": "middle",
          "yref": "y"
         },
         {
          "sizex": 0.008,
          "sizey": 0.008,
          "source": "http://chrishamblin.xyz/images/viscnn_images/278.jpg",
          "x": -0.07310464759721433,
          "xanchor": "center",
          "xref": "x",
          "y": -0.09296920681978775,
          "yanchor": "middle",
          "yref": "y"
         },
         {
          "sizex": 0.008,
          "sizey": 0.008,
          "source": "http://chrishamblin.xyz/images/viscnn_images/279.jpg",
          "x": 0.04317723255599291,
          "xanchor": "center",
          "xref": "x",
          "y": -0.02499207835798521,
          "yanchor": "middle",
          "yref": "y"
         },
         {
          "sizex": 0.008,
          "sizey": 0.008,
          "source": "http://chrishamblin.xyz/images/viscnn_images/280.jpg",
          "x": 0.01343101645352951,
          "xanchor": "center",
          "xref": "x",
          "y": 0.04772145629919049,
          "yanchor": "middle",
          "yref": "y"
         },
         {
          "sizex": 0.008,
          "sizey": 0.008,
          "source": "http://chrishamblin.xyz/images/viscnn_images/281.jpg",
          "x": 0.020442482074098364,
          "xanchor": "center",
          "xref": "x",
          "y": -0.1432120346678884,
          "yanchor": "middle",
          "yref": "y"
         },
         {
          "sizex": 0.008,
          "sizey": 0.008,
          "source": "http://chrishamblin.xyz/images/viscnn_images/282.jpg",
          "x": 0.11986016860606954,
          "xanchor": "center",
          "xref": "x",
          "y": 0.022232580067902942,
          "yanchor": "middle",
          "yref": "y"
         },
         {
          "sizex": 0.008,
          "sizey": 0.008,
          "source": "http://chrishamblin.xyz/images/viscnn_images/283.jpg",
          "x": 0.000995656442513609,
          "xanchor": "center",
          "xref": "x",
          "y": -0.10604242445493421,
          "yanchor": "middle",
          "yref": "y"
         },
         {
          "sizex": 0.008,
          "sizey": 0.008,
          "source": "http://chrishamblin.xyz/images/viscnn_images/284.jpg",
          "x": 0.027459234257491017,
          "xanchor": "center",
          "xref": "x",
          "y": -0.05914814755846098,
          "yanchor": "middle",
          "yref": "y"
         },
         {
          "sizex": 0.008,
          "sizey": 0.008,
          "source": "http://chrishamblin.xyz/images/viscnn_images/285.jpg",
          "x": -0.038658051028287434,
          "xanchor": "center",
          "xref": "x",
          "y": 0.015408634226974523,
          "yanchor": "middle",
          "yref": "y"
         },
         {
          "sizex": 0.008,
          "sizey": 0.008,
          "source": "http://chrishamblin.xyz/images/viscnn_images/286.jpg",
          "x": -0.0421739129076291,
          "xanchor": "center",
          "xref": "x",
          "y": 0.06453372527192301,
          "yanchor": "middle",
          "yref": "y"
         },
         {
          "sizex": 0.008,
          "sizey": 0.008,
          "source": "http://chrishamblin.xyz/images/viscnn_images/287.jpg",
          "x": 0.11772489689218935,
          "xanchor": "center",
          "xref": "x",
          "y": -0.013781289310662298,
          "yanchor": "middle",
          "yref": "y"
         },
         {
          "sizex": 0.008,
          "sizey": 0.008,
          "source": "http://chrishamblin.xyz/images/viscnn_images/288.jpg",
          "x": -0.09242267381460118,
          "xanchor": "center",
          "xref": "x",
          "y": 0.08266790863482655,
          "yanchor": "middle",
          "yref": "y"
         },
         {
          "sizex": 0.008,
          "sizey": 0.008,
          "source": "http://chrishamblin.xyz/images/viscnn_images/289.jpg",
          "x": -0.06300577066763176,
          "xanchor": "center",
          "xref": "x",
          "y": -0.013208357347369732,
          "yanchor": "middle",
          "yref": "y"
         },
         {
          "sizex": 0.008,
          "sizey": 0.008,
          "source": "http://chrishamblin.xyz/images/viscnn_images/290.jpg",
          "x": -0.015999289288443425,
          "xanchor": "center",
          "xref": "x",
          "y": 0.03341164114842488,
          "yanchor": "middle",
          "yref": "y"
         },
         {
          "sizex": 0.008,
          "sizey": 0.008,
          "source": "http://chrishamblin.xyz/images/viscnn_images/291.jpg",
          "x": -0.062396503566775466,
          "xanchor": "center",
          "xref": "x",
          "y": -0.054603122222602885,
          "yanchor": "middle",
          "yref": "y"
         },
         {
          "sizex": 0.008,
          "sizey": 0.008,
          "source": "http://chrishamblin.xyz/images/viscnn_images/292.jpg",
          "x": -0.08962625749185658,
          "xanchor": "center",
          "xref": "x",
          "y": 0.039489512901479853,
          "yanchor": "middle",
          "yref": "y"
         },
         {
          "sizex": 0.008,
          "sizey": 0.008,
          "source": "http://chrishamblin.xyz/images/viscnn_images/293.jpg",
          "x": 0.0978184612643938,
          "xanchor": "center",
          "xref": "x",
          "y": 0.030358670361080784,
          "yanchor": "middle",
          "yref": "y"
         },
         {
          "sizex": 0.008,
          "sizey": 0.008,
          "source": "http://chrishamblin.xyz/images/viscnn_images/294.jpg",
          "x": 0.03280954289081985,
          "xanchor": "center",
          "xref": "x",
          "y": 0.14184272862772837,
          "yanchor": "middle",
          "yref": "y"
         },
         {
          "sizex": 0.008,
          "sizey": 0.008,
          "source": "http://chrishamblin.xyz/images/viscnn_images/295.jpg",
          "x": -0.015251642671579012,
          "xanchor": "center",
          "xref": "x",
          "y": 7.995964192926246e-05,
          "yanchor": "middle",
          "yref": "y"
         },
         {
          "sizex": 0.008,
          "sizey": 0.008,
          "source": "http://chrishamblin.xyz/images/viscnn_images/296.jpg",
          "x": -0.11394605615634401,
          "xanchor": "center",
          "xref": "x",
          "y": 0.045072225911677886,
          "yanchor": "middle",
          "yref": "y"
         },
         {
          "sizex": 0.008,
          "sizey": 0.008,
          "source": "http://chrishamblin.xyz/images/viscnn_images/297.jpg",
          "x": -0.022759586779316606,
          "xanchor": "center",
          "xref": "x",
          "y": -0.0782786173504575,
          "yanchor": "middle",
          "yref": "y"
         },
         {
          "sizex": 0.008,
          "sizey": 0.008,
          "source": "http://chrishamblin.xyz/images/viscnn_images/298.jpg",
          "x": -0.058219536828277636,
          "xanchor": "center",
          "xref": "x",
          "y": -0.1076534580920055,
          "yanchor": "middle",
          "yref": "y"
         },
         {
          "sizex": 0.008,
          "sizey": 0.008,
          "source": "http://chrishamblin.xyz/images/viscnn_images/299.jpg",
          "x": -0.026344676719915115,
          "xanchor": "center",
          "xref": "x",
          "y": -0.037837906640977546,
          "yanchor": "middle",
          "yref": "y"
         },
         {
          "sizex": 0.008,
          "sizey": 0.008,
          "source": "http://chrishamblin.xyz/images/viscnn_images/300.jpg",
          "x": -0.11528199774589504,
          "xanchor": "center",
          "xref": "x",
          "y": -0.08779839582687617,
          "yanchor": "middle",
          "yref": "y"
         },
         {
          "sizex": 0.008,
          "sizey": 0.008,
          "source": "http://chrishamblin.xyz/images/viscnn_images/301.jpg",
          "x": 0.014366710977068235,
          "xanchor": "center",
          "xref": "x",
          "y": 0.11172306298556305,
          "yanchor": "middle",
          "yref": "y"
         },
         {
          "sizex": 0.008,
          "sizey": 0.008,
          "source": "http://chrishamblin.xyz/images/viscnn_images/302.jpg",
          "x": 0.00908245614048367,
          "xanchor": "center",
          "xref": "x",
          "y": -0.027071003290674578,
          "yanchor": "middle",
          "yref": "y"
         },
         {
          "sizex": 0.008,
          "sizey": 0.008,
          "source": "http://chrishamblin.xyz/images/viscnn_images/303.jpg",
          "x": 0.07492781466301046,
          "xanchor": "center",
          "xref": "x",
          "y": 0.06916997921064881,
          "yanchor": "middle",
          "yref": "y"
         },
         {
          "sizex": 0.008,
          "sizey": 0.008,
          "source": "http://chrishamblin.xyz/images/viscnn_images/304.jpg",
          "x": 0.05447316005743438,
          "xanchor": "center",
          "xref": "x",
          "y": 0.058307331084220336,
          "yanchor": "middle",
          "yref": "y"
         },
         {
          "sizex": 0.008,
          "sizey": 0.008,
          "source": "http://chrishamblin.xyz/images/viscnn_images/305.jpg",
          "x": 0.04441259232577236,
          "xanchor": "center",
          "xref": "x",
          "y": 0.01901823760222,
          "yanchor": "middle",
          "yref": "y"
         },
         {
          "sizex": 0.008,
          "sizey": 0.008,
          "source": "http://chrishamblin.xyz/images/viscnn_images/306.jpg",
          "x": -0.08138728521244878,
          "xanchor": "center",
          "xref": "x",
          "y": -0.03347205771015909,
          "yanchor": "middle",
          "yref": "y"
         },
         {
          "sizex": 0.008,
          "sizey": 0.008,
          "source": "http://chrishamblin.xyz/images/viscnn_images/307.jpg",
          "x": -0.10888544416940088,
          "xanchor": "center",
          "xref": "x",
          "y": -0.029203164649408985,
          "yanchor": "middle",
          "yref": "y"
         },
         {
          "sizex": 0.008,
          "sizey": 0.008,
          "source": "http://chrishamblin.xyz/images/viscnn_images/308.jpg",
          "x": -0.13674989372231827,
          "xanchor": "center",
          "xref": "x",
          "y": 0.022802204201150415,
          "yanchor": "middle",
          "yref": "y"
         },
         {
          "sizex": 0.008,
          "sizey": 0.008,
          "source": "http://chrishamblin.xyz/images/viscnn_images/309.jpg",
          "x": 0.0808611966683477,
          "xanchor": "center",
          "xref": "x",
          "y": 0.030596852483211406,
          "yanchor": "middle",
          "yref": "y"
         },
         {
          "sizex": 0.008,
          "sizey": 0.008,
          "source": "http://chrishamblin.xyz/images/viscnn_images/310.jpg",
          "x": -0.06523499734815004,
          "xanchor": "center",
          "xref": "x",
          "y": 0.02799215928364391,
          "yanchor": "middle",
          "yref": "y"
         },
         {
          "sizex": 0.008,
          "sizey": 0.008,
          "source": "http://chrishamblin.xyz/images/viscnn_images/311.jpg",
          "x": -0.10873068289018735,
          "xanchor": "center",
          "xref": "x",
          "y": 0.09191892796794837,
          "yanchor": "middle",
          "yref": "y"
         },
         {
          "sizex": 0.008,
          "sizey": 0.008,
          "source": "http://chrishamblin.xyz/images/viscnn_images/312.jpg",
          "x": 0.10415515459609205,
          "xanchor": "center",
          "xref": "x",
          "y": 0.01826761147042416,
          "yanchor": "middle",
          "yref": "y"
         },
         {
          "sizex": 0.008,
          "sizey": 0.008,
          "source": "http://chrishamblin.xyz/images/viscnn_images/313.jpg",
          "x": 0.10253521135639665,
          "xanchor": "center",
          "xref": "x",
          "y": 0.08118189652187578,
          "yanchor": "middle",
          "yref": "y"
         },
         {
          "sizex": 0.008,
          "sizey": 0.008,
          "source": "http://chrishamblin.xyz/images/viscnn_images/314.jpg",
          "x": -0.057440157746558994,
          "xanchor": "center",
          "xref": "x",
          "y": -0.06598546498837563,
          "yanchor": "middle",
          "yref": "y"
         },
         {
          "sizex": 0.008,
          "sizey": 0.008,
          "source": "http://chrishamblin.xyz/images/viscnn_images/315.jpg",
          "x": 0.13334104434308208,
          "xanchor": "center",
          "xref": "x",
          "y": -0.019640428482691687,
          "yanchor": "middle",
          "yref": "y"
         },
         {
          "sizex": 0.008,
          "sizey": 0.008,
          "source": "http://chrishamblin.xyz/images/viscnn_images/316.jpg",
          "x": -0.044695847428861006,
          "xanchor": "center",
          "xref": "x",
          "y": -0.06596578716768288,
          "yanchor": "middle",
          "yref": "y"
         },
         {
          "sizex": 0.008,
          "sizey": 0.008,
          "source": "http://chrishamblin.xyz/images/viscnn_images/317.jpg",
          "x": -0.13493921639456788,
          "xanchor": "center",
          "xref": "x",
          "y": 0.0503976887110838,
          "yanchor": "middle",
          "yref": "y"
         },
         {
          "sizex": 0.008,
          "sizey": 0.008,
          "source": "http://chrishamblin.xyz/images/viscnn_images/318.jpg",
          "x": 0.05748755709847323,
          "xanchor": "center",
          "xref": "x",
          "y": -0.05448514642896011,
          "yanchor": "middle",
          "yref": "y"
         },
         {
          "sizex": 0.008,
          "sizey": 0.008,
          "source": "http://chrishamblin.xyz/images/viscnn_images/319.jpg",
          "x": -0.055351459068964645,
          "xanchor": "center",
          "xref": "x",
          "y": 0.012687482042225641,
          "yanchor": "middle",
          "yref": "y"
         },
         {
          "sizex": 0.008,
          "sizey": 0.008,
          "source": "http://chrishamblin.xyz/images/viscnn_images/320.jpg",
          "x": -0.0065114116880823384,
          "xanchor": "center",
          "xref": "x",
          "y": 0.12163526062535322,
          "yanchor": "middle",
          "yref": "y"
         },
         {
          "sizex": 0.008,
          "sizey": 0.008,
          "source": "http://chrishamblin.xyz/images/viscnn_images/321.jpg",
          "x": 0.017086121586411665,
          "xanchor": "center",
          "xref": "x",
          "y": 0.0734985844563211,
          "yanchor": "middle",
          "yref": "y"
         },
         {
          "sizex": 0.008,
          "sizey": 0.008,
          "source": "http://chrishamblin.xyz/images/viscnn_images/322.jpg",
          "x": -0.0073391115730947155,
          "xanchor": "center",
          "xref": "x",
          "y": 0.10023240723528848,
          "yanchor": "middle",
          "yref": "y"
         },
         {
          "sizex": 0.008,
          "sizey": 0.008,
          "source": "http://chrishamblin.xyz/images/viscnn_images/323.jpg",
          "x": -0.015820071873595958,
          "xanchor": "center",
          "xref": "x",
          "y": 0.04809410529005945,
          "yanchor": "middle",
          "yref": "y"
         },
         {
          "sizex": 0.008,
          "sizey": 0.008,
          "source": "http://chrishamblin.xyz/images/viscnn_images/324.jpg",
          "x": 0.08459293619040721,
          "xanchor": "center",
          "xref": "x",
          "y": 0.11762908488975934,
          "yanchor": "middle",
          "yref": "y"
         },
         {
          "sizex": 0.008,
          "sizey": 0.008,
          "source": "http://chrishamblin.xyz/images/viscnn_images/325.jpg",
          "x": 0.054906027142325425,
          "xanchor": "center",
          "xref": "x",
          "y": 0.012865035379674785,
          "yanchor": "middle",
          "yref": "y"
         },
         {
          "sizex": 0.008,
          "sizey": 0.008,
          "source": "http://chrishamblin.xyz/images/viscnn_images/326.jpg",
          "x": 0.06818658031519738,
          "xanchor": "center",
          "xref": "x",
          "y": 0.05642402317692639,
          "yanchor": "middle",
          "yref": "y"
         },
         {
          "sizex": 0.008,
          "sizey": 0.008,
          "source": "http://chrishamblin.xyz/images/viscnn_images/327.jpg",
          "x": 0.05587658068541436,
          "xanchor": "center",
          "xref": "x",
          "y": -0.0010754592586527036,
          "yanchor": "middle",
          "yref": "y"
         },
         {
          "sizex": 0.008,
          "sizey": 0.008,
          "source": "http://chrishamblin.xyz/images/viscnn_images/328.jpg",
          "x": 0.07546743344601872,
          "xanchor": "center",
          "xref": "x",
          "y": -0.12351550929357903,
          "yanchor": "middle",
          "yref": "y"
         },
         {
          "sizex": 0.008,
          "sizey": 0.008,
          "source": "http://chrishamblin.xyz/images/viscnn_images/329.jpg",
          "x": -0.058335319632200205,
          "xanchor": "center",
          "xref": "x",
          "y": 0.04101023793639687,
          "yanchor": "middle",
          "yref": "y"
         },
         {
          "sizex": 0.008,
          "sizey": 0.008,
          "source": "http://chrishamblin.xyz/images/viscnn_images/330.jpg",
          "x": -0.017884149985155817,
          "xanchor": "center",
          "xref": "x",
          "y": -0.05948867404611566,
          "yanchor": "middle",
          "yref": "y"
         },
         {
          "sizex": 0.008,
          "sizey": 0.008,
          "source": "http://chrishamblin.xyz/images/viscnn_images/331.jpg",
          "x": 0.02662337922875183,
          "xanchor": "center",
          "xref": "x",
          "y": -0.004913589026856822,
          "yanchor": "middle",
          "yref": "y"
         },
         {
          "sizex": 0.008,
          "sizey": 0.008,
          "source": "http://chrishamblin.xyz/images/viscnn_images/332.jpg",
          "x": -0.05135404242099141,
          "xanchor": "center",
          "xref": "x",
          "y": -0.018408038842802305,
          "yanchor": "middle",
          "yref": "y"
         },
         {
          "sizex": 0.008,
          "sizey": 0.008,
          "source": "http://chrishamblin.xyz/images/viscnn_images/333.jpg",
          "x": -0.025170208413999872,
          "xanchor": "center",
          "xref": "x",
          "y": 0.023943051465191927,
          "yanchor": "middle",
          "yref": "y"
         },
         {
          "sizex": 0.008,
          "sizey": 0.008,
          "source": "http://chrishamblin.xyz/images/viscnn_images/334.jpg",
          "x": 0.03131961966045354,
          "xanchor": "center",
          "xref": "x",
          "y": 0.007882970568132055,
          "yanchor": "middle",
          "yref": "y"
         },
         {
          "sizex": 0.008,
          "sizey": 0.008,
          "source": "http://chrishamblin.xyz/images/viscnn_images/335.jpg",
          "x": 0.07574141486144668,
          "xanchor": "center",
          "xref": "x",
          "y": 0.01712314547797156,
          "yanchor": "middle",
          "yref": "y"
         },
         {
          "sizex": 0.008,
          "sizey": 0.008,
          "source": "http://chrishamblin.xyz/images/viscnn_images/336.jpg",
          "x": 0.13108003312770833,
          "xanchor": "center",
          "xref": "x",
          "y": -0.005694418813034946,
          "yanchor": "middle",
          "yref": "y"
         },
         {
          "sizex": 0.008,
          "sizey": 0.008,
          "source": "http://chrishamblin.xyz/images/viscnn_images/337.jpg",
          "x": -0.002585134799784118,
          "xanchor": "center",
          "xref": "x",
          "y": 0.00709694611834901,
          "yanchor": "middle",
          "yref": "y"
         },
         {
          "sizex": 0.008,
          "sizey": 0.008,
          "source": "http://chrishamblin.xyz/images/viscnn_images/338.jpg",
          "x": -0.045836339853792436,
          "xanchor": "center",
          "xref": "x",
          "y": 0.004154792109919412,
          "yanchor": "middle",
          "yref": "y"
         },
         {
          "sizex": 0.008,
          "sizey": 0.008,
          "source": "http://chrishamblin.xyz/images/viscnn_images/339.jpg",
          "x": 0.078162318770801,
          "xanchor": "center",
          "xref": "x",
          "y": -0.08850159369871623,
          "yanchor": "middle",
          "yref": "y"
         },
         {
          "sizex": 0.008,
          "sizey": 0.008,
          "source": "http://chrishamblin.xyz/images/viscnn_images/340.jpg",
          "x": -0.02612453969498962,
          "xanchor": "center",
          "xref": "x",
          "y": 0.056030831438951385,
          "yanchor": "middle",
          "yref": "y"
         },
         {
          "sizex": 0.008,
          "sizey": 0.008,
          "source": "http://chrishamblin.xyz/images/viscnn_images/341.jpg",
          "x": 0.10034601490900948,
          "xanchor": "center",
          "xref": "x",
          "y": -0.0922062335279583,
          "yanchor": "middle",
          "yref": "y"
         },
         {
          "sizex": 0.008,
          "sizey": 0.008,
          "source": "http://chrishamblin.xyz/images/viscnn_images/342.jpg",
          "x": -0.02181470102167738,
          "xanchor": "center",
          "xref": "x",
          "y": 0.14300078413734377,
          "yanchor": "middle",
          "yref": "y"
         },
         {
          "sizex": 0.008,
          "sizey": 0.008,
          "source": "http://chrishamblin.xyz/images/viscnn_images/343.jpg",
          "x": -0.029702463772107727,
          "xanchor": "center",
          "xref": "x",
          "y": -0.06667449295272125,
          "yanchor": "middle",
          "yref": "y"
         },
         {
          "sizex": 0.008,
          "sizey": 0.008,
          "source": "http://chrishamblin.xyz/images/viscnn_images/344.jpg",
          "x": -0.14344988285339394,
          "xanchor": "center",
          "xref": "x",
          "y": -0.021822950143726663,
          "yanchor": "middle",
          "yref": "y"
         },
         {
          "sizex": 0.008,
          "sizey": 0.008,
          "source": "http://chrishamblin.xyz/images/viscnn_images/345.jpg",
          "x": 0.13354950489050324,
          "xanchor": "center",
          "xref": "x",
          "y": 0.04086084259436682,
          "yanchor": "middle",
          "yref": "y"
         },
         {
          "sizex": 0.008,
          "sizey": 0.008,
          "source": "http://chrishamblin.xyz/images/viscnn_images/346.jpg",
          "x": 0.10637226019744611,
          "xanchor": "center",
          "xref": "x",
          "y": 0.09672383381527584,
          "yanchor": "middle",
          "yref": "y"
         },
         {
          "sizex": 0.008,
          "sizey": 0.008,
          "source": "http://chrishamblin.xyz/images/viscnn_images/347.jpg",
          "x": 0.08185446215562063,
          "xanchor": "center",
          "xref": "x",
          "y": 0.0918260761927219,
          "yanchor": "middle",
          "yref": "y"
         },
         {
          "sizex": 0.008,
          "sizey": 0.008,
          "source": "http://chrishamblin.xyz/images/viscnn_images/348.jpg",
          "x": -0.011930088263030518,
          "xanchor": "center",
          "xref": "x",
          "y": 0.062109724567270146,
          "yanchor": "middle",
          "yref": "y"
         },
         {
          "sizex": 0.008,
          "sizey": 0.008,
          "source": "http://chrishamblin.xyz/images/viscnn_images/349.jpg",
          "x": -0.12006412786881504,
          "xanchor": "center",
          "xref": "x",
          "y": 0.05618473137754009,
          "yanchor": "middle",
          "yref": "y"
         },
         {
          "sizex": 0.008,
          "sizey": 0.008,
          "source": "http://chrishamblin.xyz/images/viscnn_images/350.jpg",
          "x": 0.049080092068261645,
          "xanchor": "center",
          "xref": "x",
          "y": 0.07958071329443146,
          "yanchor": "middle",
          "yref": "y"
         },
         {
          "sizex": 0.008,
          "sizey": 0.008,
          "source": "http://chrishamblin.xyz/images/viscnn_images/351.jpg",
          "x": 0.11520381059946902,
          "xanchor": "center",
          "xref": "x",
          "y": 0.010476772203229463,
          "yanchor": "middle",
          "yref": "y"
         },
         {
          "sizex": 0.008,
          "sizey": 0.008,
          "source": "http://chrishamblin.xyz/images/viscnn_images/352.jpg",
          "x": 0.10335939259290844,
          "xanchor": "center",
          "xref": "x",
          "y": 0.0006201508136933362,
          "yanchor": "middle",
          "yref": "y"
         },
         {
          "sizex": 0.008,
          "sizey": 0.008,
          "source": "http://chrishamblin.xyz/images/viscnn_images/353.jpg",
          "x": 0.07210354248344615,
          "xanchor": "center",
          "xref": "x",
          "y": 0.12262470373740499,
          "yanchor": "middle",
          "yref": "y"
         },
         {
          "sizex": 0.008,
          "sizey": 0.008,
          "source": "http://chrishamblin.xyz/images/viscnn_images/354.jpg",
          "x": 0.00216291251653454,
          "xanchor": "center",
          "xref": "x",
          "y": 0.1460642139775514,
          "yanchor": "middle",
          "yref": "y"
         },
         {
          "sizex": 0.008,
          "sizey": 0.008,
          "source": "http://chrishamblin.xyz/images/viscnn_images/355.jpg",
          "x": -0.09685316580125278,
          "xanchor": "center",
          "xref": "x",
          "y": -0.03707013634269907,
          "yanchor": "middle",
          "yref": "y"
         },
         {
          "sizex": 0.008,
          "sizey": 0.008,
          "source": "http://chrishamblin.xyz/images/viscnn_images/356.jpg",
          "x": -0.07008311927748459,
          "xanchor": "center",
          "xref": "x",
          "y": -0.07310657850489255,
          "yanchor": "middle",
          "yref": "y"
         },
         {
          "sizex": 0.008,
          "sizey": 0.008,
          "source": "http://chrishamblin.xyz/images/viscnn_images/357.jpg",
          "x": 0.12781534783178677,
          "xanchor": "center",
          "xref": "x",
          "y": -0.03283063982599907,
          "yanchor": "middle",
          "yref": "y"
         },
         {
          "sizex": 0.008,
          "sizey": 0.008,
          "source": "http://chrishamblin.xyz/images/viscnn_images/358.jpg",
          "x": 0.004550131088118406,
          "xanchor": "center",
          "xref": "x",
          "y": -0.14456088232423522,
          "yanchor": "middle",
          "yref": "y"
         },
         {
          "sizex": 0.008,
          "sizey": 0.008,
          "source": "http://chrishamblin.xyz/images/viscnn_images/359.jpg",
          "x": -0.11927699910476118,
          "xanchor": "center",
          "xref": "x",
          "y": -0.05413584205009118,
          "yanchor": "middle",
          "yref": "y"
         },
         {
          "sizex": 0.008,
          "sizey": 0.008,
          "source": "http://chrishamblin.xyz/images/viscnn_images/360.jpg",
          "x": -0.04317663080461362,
          "xanchor": "center",
          "xref": "x",
          "y": 0.12558401656306895,
          "yanchor": "middle",
          "yref": "y"
         },
         {
          "sizex": 0.008,
          "sizey": 0.008,
          "source": "http://chrishamblin.xyz/images/viscnn_images/361.jpg",
          "x": 0.03384130542252149,
          "xanchor": "center",
          "xref": "x",
          "y": 0.08138021168332138,
          "yanchor": "middle",
          "yref": "y"
         },
         {
          "sizex": 0.008,
          "sizey": 0.008,
          "source": "http://chrishamblin.xyz/images/viscnn_images/362.jpg",
          "x": -0.031405092375389625,
          "xanchor": "center",
          "xref": "x",
          "y": -0.08842204380705655,
          "yanchor": "middle",
          "yref": "y"
         },
         {
          "sizex": 0.008,
          "sizey": 0.008,
          "source": "http://chrishamblin.xyz/images/viscnn_images/363.jpg",
          "x": -0.0098192133311156,
          "xanchor": "center",
          "xref": "x",
          "y": 0.0752100737712562,
          "yanchor": "middle",
          "yref": "y"
         },
         {
          "sizex": 0.008,
          "sizey": 0.008,
          "source": "http://chrishamblin.xyz/images/viscnn_images/364.jpg",
          "x": -0.1010217944034014,
          "xanchor": "center",
          "xref": "x",
          "y": 0.10151775856407717,
          "yanchor": "middle",
          "yref": "y"
         },
         {
          "sizex": 0.008,
          "sizey": 0.008,
          "source": "http://chrishamblin.xyz/images/viscnn_images/365.jpg",
          "x": 0.03657452505254766,
          "xanchor": "center",
          "xref": "x",
          "y": -0.10260836487222014,
          "yanchor": "middle",
          "yref": "y"
         },
         {
          "sizex": 0.008,
          "sizey": 0.008,
          "source": "http://chrishamblin.xyz/images/viscnn_images/366.jpg",
          "x": -0.10654283067468467,
          "xanchor": "center",
          "xref": "x",
          "y": 0.060250126292981834,
          "yanchor": "middle",
          "yref": "y"
         },
         {
          "sizex": 0.008,
          "sizey": 0.008,
          "source": "http://chrishamblin.xyz/images/viscnn_images/367.jpg",
          "x": -0.016072189421701046,
          "xanchor": "center",
          "xref": "x",
          "y": -0.012808053836268133,
          "yanchor": "middle",
          "yref": "y"
         },
         {
          "sizex": 0.008,
          "sizey": 0.008,
          "source": "http://chrishamblin.xyz/images/viscnn_images/368.jpg",
          "x": 0.053503336941466494,
          "xanchor": "center",
          "xref": "x",
          "y": -0.08084721338786165,
          "yanchor": "middle",
          "yref": "y"
         },
         {
          "sizex": 0.008,
          "sizey": 0.008,
          "source": "http://chrishamblin.xyz/images/viscnn_images/369.jpg",
          "x": -0.0954657411292869,
          "xanchor": "center",
          "xref": "x",
          "y": 0.06813454032629922,
          "yanchor": "middle",
          "yref": "y"
         },
         {
          "sizex": 0.008,
          "sizey": 0.008,
          "source": "http://chrishamblin.xyz/images/viscnn_images/370.jpg",
          "x": -0.04058475749225477,
          "xanchor": "center",
          "xref": "x",
          "y": -0.054124053609951005,
          "yanchor": "middle",
          "yref": "y"
         },
         {
          "sizex": 0.008,
          "sizey": 0.008,
          "source": "http://chrishamblin.xyz/images/viscnn_images/371.jpg",
          "x": 0.012097076108882325,
          "xanchor": "center",
          "xref": "x",
          "y": 0.09822832785539867,
          "yanchor": "middle",
          "yref": "y"
         },
         {
          "sizex": 0.008,
          "sizey": 0.008,
          "source": "http://chrishamblin.xyz/images/viscnn_images/372.jpg",
          "x": 0.004675167017308022,
          "xanchor": "center",
          "xref": "x",
          "y": -0.07605565288061027,
          "yanchor": "middle",
          "yref": "y"
         },
         {
          "sizex": 0.008,
          "sizey": 0.008,
          "source": "http://chrishamblin.xyz/images/viscnn_images/373.jpg",
          "x": -0.02220115400234777,
          "xanchor": "center",
          "xref": "x",
          "y": -0.11081372459136357,
          "yanchor": "middle",
          "yref": "y"
         },
         {
          "sizex": 0.008,
          "sizey": 0.008,
          "source": "http://chrishamblin.xyz/images/viscnn_images/374.jpg",
          "x": -0.015160401720150513,
          "xanchor": "center",
          "xref": "x",
          "y": 0.0896833395627992,
          "yanchor": "middle",
          "yref": "y"
         },
         {
          "sizex": 0.008,
          "sizey": 0.008,
          "source": "http://chrishamblin.xyz/images/viscnn_images/375.jpg",
          "x": -0.08281824175608277,
          "xanchor": "center",
          "xref": "x",
          "y": 0.06394547729408505,
          "yanchor": "middle",
          "yref": "y"
         },
         {
          "sizex": 0.008,
          "sizey": 0.008,
          "source": "http://chrishamblin.xyz/images/viscnn_images/376.jpg",
          "x": -0.11343290263250516,
          "xanchor": "center",
          "xref": "x",
          "y": 0.0027403828569164566,
          "yanchor": "middle",
          "yref": "y"
         },
         {
          "sizex": 0.008,
          "sizey": 0.008,
          "source": "http://chrishamblin.xyz/images/viscnn_images/377.jpg",
          "x": -0.10481031561280522,
          "xanchor": "center",
          "xref": "x",
          "y": 0.07853340391600633,
          "yanchor": "middle",
          "yref": "y"
         },
         {
          "sizex": 0.008,
          "sizey": 0.008,
          "source": "http://chrishamblin.xyz/images/viscnn_images/378.jpg",
          "x": 0.02514977107992799,
          "xanchor": "center",
          "xref": "x",
          "y": -0.10650585132614732,
          "yanchor": "middle",
          "yref": "y"
         },
         {
          "sizex": 0.008,
          "sizey": 0.008,
          "source": "http://chrishamblin.xyz/images/viscnn_images/379.jpg",
          "x": -0.08968738083593819,
          "xanchor": "center",
          "xref": "x",
          "y": -0.012850268602732683,
          "yanchor": "middle",
          "yref": "y"
         },
         {
          "sizex": 0.008,
          "sizey": 0.008,
          "source": "http://chrishamblin.xyz/images/viscnn_images/380.jpg",
          "x": 0.0448005695369531,
          "xanchor": "center",
          "xref": "x",
          "y": 0.09242574541460787,
          "yanchor": "middle",
          "yref": "y"
         },
         {
          "sizex": 0.008,
          "sizey": 0.008,
          "source": "http://chrishamblin.xyz/images/viscnn_images/381.jpg",
          "x": -0.12479250122756794,
          "xanchor": "center",
          "xref": "x",
          "y": -0.07363272864013536,
          "yanchor": "middle",
          "yref": "y"
         },
         {
          "sizex": 0.008,
          "sizey": 0.008,
          "source": "http://chrishamblin.xyz/images/viscnn_images/382.jpg",
          "x": -0.03822752330271201,
          "xanchor": "center",
          "xref": "x",
          "y": -0.024277287901910874,
          "yanchor": "middle",
          "yref": "y"
         },
         {
          "sizex": 0.008,
          "sizey": 0.008,
          "source": "http://chrishamblin.xyz/images/viscnn_images/383.jpg",
          "x": -0.07765944045110587,
          "xanchor": "center",
          "xref": "x",
          "y": -0.019744733983053396,
          "yanchor": "middle",
          "yref": "y"
         },
         {
          "sizex": 0.008,
          "sizey": 0.008,
          "source": "http://chrishamblin.xyz/images/viscnn_images/384.jpg",
          "x": 0.012923957833125384,
          "xanchor": "center",
          "xref": "x",
          "y": -0.000683576450573091,
          "yanchor": "middle",
          "yref": "y"
         },
         {
          "sizex": 0.008,
          "sizey": 0.008,
          "source": "http://chrishamblin.xyz/images/viscnn_images/385.jpg",
          "x": 0.010078552828246998,
          "xanchor": "center",
          "xref": "x",
          "y": 0.03518019175339707,
          "yanchor": "middle",
          "yref": "y"
         },
         {
          "sizex": 0.008,
          "sizey": 0.008,
          "source": "http://chrishamblin.xyz/images/viscnn_images/386.jpg",
          "x": 0.06297043923855891,
          "xanchor": "center",
          "xref": "x",
          "y": -0.018729751572975344,
          "yanchor": "middle",
          "yref": "y"
         },
         {
          "sizex": 0.008,
          "sizey": 0.008,
          "source": "http://chrishamblin.xyz/images/viscnn_images/387.jpg",
          "x": 0.060712024769407985,
          "xanchor": "center",
          "xref": "x",
          "y": -0.11239991358589552,
          "yanchor": "middle",
          "yref": "y"
         },
         {
          "sizex": 0.008,
          "sizey": 0.008,
          "source": "http://chrishamblin.xyz/images/viscnn_images/388.jpg",
          "x": -0.08141100287456919,
          "xanchor": "center",
          "xref": "x",
          "y": 0.05174624493217069,
          "yanchor": "middle",
          "yref": "y"
         },
         {
          "sizex": 0.008,
          "sizey": 0.008,
          "source": "http://chrishamblin.xyz/images/viscnn_images/389.jpg",
          "x": 0.05522213881769292,
          "xanchor": "center",
          "xref": "x",
          "y": 0.10206557716475574,
          "yanchor": "middle",
          "yref": "y"
         },
         {
          "sizex": 0.008,
          "sizey": 0.008,
          "source": "http://chrishamblin.xyz/images/viscnn_images/390.jpg",
          "x": 0.09908298557074308,
          "xanchor": "center",
          "xref": "x",
          "y": 0.06659803889104512,
          "yanchor": "middle",
          "yref": "y"
         },
         {
          "sizex": 0.008,
          "sizey": 0.008,
          "source": "http://chrishamblin.xyz/images/viscnn_images/391.jpg",
          "x": 0.11593647694337299,
          "xanchor": "center",
          "xref": "x",
          "y": 0.08563517947011326,
          "yanchor": "middle",
          "yref": "y"
         },
         {
          "sizex": 0.008,
          "sizey": 0.008,
          "source": "http://chrishamblin.xyz/images/viscnn_images/392.jpg",
          "x": -0.05177865736431401,
          "xanchor": "center",
          "xref": "x",
          "y": 0.025512388919444583,
          "yanchor": "middle",
          "yref": "y"
         },
         {
          "sizex": 0.008,
          "sizey": 0.008,
          "source": "http://chrishamblin.xyz/images/viscnn_images/393.jpg",
          "x": -0.09392271853265556,
          "xanchor": "center",
          "xref": "x",
          "y": -0.02445569934050357,
          "yanchor": "middle",
          "yref": "y"
         },
         {
          "sizex": 0.008,
          "sizey": 0.008,
          "source": "http://chrishamblin.xyz/images/viscnn_images/394.jpg",
          "x": 0.10530450355784489,
          "xanchor": "center",
          "xref": "x",
          "y": 0.04368363082648314,
          "yanchor": "middle",
          "yref": "y"
         },
         {
          "sizex": 0.008,
          "sizey": 0.008,
          "source": "http://chrishamblin.xyz/images/viscnn_images/395.jpg",
          "x": -0.00257893641263206,
          "xanchor": "center",
          "xref": "x",
          "y": 0.028544291690738972,
          "yanchor": "middle",
          "yref": "y"
         },
         {
          "sizex": 0.008,
          "sizey": 0.008,
          "source": "http://chrishamblin.xyz/images/viscnn_images/396.jpg",
          "x": 0.03690349349495326,
          "xanchor": "center",
          "xref": "x",
          "y": -0.13899140938933335,
          "yanchor": "middle",
          "yref": "y"
         },
         {
          "sizex": 0.008,
          "sizey": 0.008,
          "source": "http://chrishamblin.xyz/images/viscnn_images/397.jpg",
          "x": 0.030412712492127365,
          "xanchor": "center",
          "xref": "x",
          "y": 0.09385273785837878,
          "yanchor": "middle",
          "yref": "y"
         },
         {
          "sizex": 0.008,
          "sizey": 0.008,
          "source": "http://chrishamblin.xyz/images/viscnn_images/398.jpg",
          "x": 0.045032099084120945,
          "xanchor": "center",
          "xref": "x",
          "y": 0.0675808135066237,
          "yanchor": "middle",
          "yref": "y"
         },
         {
          "sizex": 0.008,
          "sizey": 0.008,
          "source": "http://chrishamblin.xyz/images/viscnn_images/399.jpg",
          "x": -0.14017769908590236,
          "xanchor": "center",
          "xref": "x",
          "y": 0.035338087102180865,
          "yanchor": "middle",
          "yref": "y"
         },
         {
          "sizex": 0.008,
          "sizey": 0.008,
          "source": "http://chrishamblin.xyz/images/viscnn_images/400.jpg",
          "x": 0.08248297065934462,
          "xanchor": "center",
          "xref": "x",
          "y": 0.10540584409983696,
          "yanchor": "middle",
          "yref": "y"
         },
         {
          "sizex": 0.008,
          "sizey": 0.008,
          "source": "http://chrishamblin.xyz/images/viscnn_images/401.jpg",
          "x": 0.036150865658456745,
          "xanchor": "center",
          "xref": "x",
          "y": 0.05734243886129975,
          "yanchor": "middle",
          "yref": "y"
         },
         {
          "sizex": 0.008,
          "sizey": 0.008,
          "source": "http://chrishamblin.xyz/images/viscnn_images/402.jpg",
          "x": -0.0795868438064245,
          "xanchor": "center",
          "xref": "x",
          "y": 0.1210402314840257,
          "yanchor": "middle",
          "yref": "y"
         },
         {
          "sizex": 0.008,
          "sizey": 0.008,
          "source": "http://chrishamblin.xyz/images/viscnn_images/403.jpg",
          "x": 0.026424639060010146,
          "xanchor": "center",
          "xref": "x",
          "y": -0.04696215141925809,
          "yanchor": "middle",
          "yref": "y"
         },
         {
          "sizex": 0.008,
          "sizey": 0.008,
          "source": "http://chrishamblin.xyz/images/viscnn_images/404.jpg",
          "x": 0.0634359027389575,
          "xanchor": "center",
          "xref": "x",
          "y": 0.023813931148109473,
          "yanchor": "middle",
          "yref": "y"
         },
         {
          "sizex": 0.008,
          "sizey": 0.008,
          "source": "http://chrishamblin.xyz/images/viscnn_images/405.jpg",
          "x": 0.12515626813738845,
          "xanchor": "center",
          "xref": "x",
          "y": 0.07309444931816553,
          "yanchor": "middle",
          "yref": "y"
         },
         {
          "sizex": 0.008,
          "sizey": 0.008,
          "source": "http://chrishamblin.xyz/images/viscnn_images/406.jpg",
          "x": -0.13561546957018006,
          "xanchor": "center",
          "xref": "x",
          "y": -0.03151389493403111,
          "yanchor": "middle",
          "yref": "y"
         },
         {
          "sizex": 0.008,
          "sizey": 0.008,
          "source": "http://chrishamblin.xyz/images/viscnn_images/407.jpg",
          "x": 0.007775776150768229,
          "xanchor": "center",
          "xref": "x",
          "y": 0.1239596175699279,
          "yanchor": "middle",
          "yref": "y"
         },
         {
          "sizex": 0.008,
          "sizey": 0.008,
          "source": "http://chrishamblin.xyz/images/viscnn_images/408.jpg",
          "x": 0.09637233987696121,
          "xanchor": "center",
          "xref": "x",
          "y": 0.10633430359531282,
          "yanchor": "middle",
          "yref": "y"
         },
         {
          "sizex": 0.008,
          "sizey": 0.008,
          "source": "http://chrishamblin.xyz/images/viscnn_images/409.jpg",
          "x": -0.05132700855276318,
          "xanchor": "center",
          "xref": "x",
          "y": -0.1361112029761957,
          "yanchor": "middle",
          "yref": "y"
         },
         {
          "sizex": 0.008,
          "sizey": 0.008,
          "source": "http://chrishamblin.xyz/images/viscnn_images/410.jpg",
          "x": 0.11736140307667159,
          "xanchor": "center",
          "xref": "x",
          "y": -0.02579184877547395,
          "yanchor": "middle",
          "yref": "y"
         },
         {
          "sizex": 0.008,
          "sizey": 0.008,
          "source": "http://chrishamblin.xyz/images/viscnn_images/411.jpg",
          "x": 0.08907743056420699,
          "xanchor": "center",
          "xref": "x",
          "y": 0.019267474070958624,
          "yanchor": "middle",
          "yref": "y"
         },
         {
          "sizex": 0.008,
          "sizey": 0.008,
          "source": "http://chrishamblin.xyz/images/viscnn_images/412.jpg",
          "x": 0.09589497398632431,
          "xanchor": "center",
          "xref": "x",
          "y": -0.07037204706150633,
          "yanchor": "middle",
          "yref": "y"
         },
         {
          "sizex": 0.008,
          "sizey": 0.008,
          "source": "http://chrishamblin.xyz/images/viscnn_images/413.jpg",
          "x": -0.052335052906429785,
          "xanchor": "center",
          "xref": "x",
          "y": 0.05496943596184829,
          "yanchor": "middle",
          "yref": "y"
         },
         {
          "sizex": 0.008,
          "sizey": 0.008,
          "source": "http://chrishamblin.xyz/images/viscnn_images/414.jpg",
          "x": -0.012789693737775701,
          "xanchor": "center",
          "xref": "x",
          "y": -0.14355832047998088,
          "yanchor": "middle",
          "yref": "y"
         },
         {
          "sizex": 0.008,
          "sizey": 0.008,
          "source": "http://chrishamblin.xyz/images/viscnn_images/415.jpg",
          "x": 0.055307679346674896,
          "xanchor": "center",
          "xref": "x",
          "y": 0.11792945020577285,
          "yanchor": "middle",
          "yref": "y"
         },
         {
          "sizex": 0.008,
          "sizey": 0.008,
          "source": "http://chrishamblin.xyz/images/viscnn_images/416.jpg",
          "x": -0.12232758407997801,
          "xanchor": "center",
          "xref": "x",
          "y": -0.028274110687473427,
          "yanchor": "middle",
          "yref": "y"
         },
         {
          "sizex": 0.008,
          "sizey": 0.008,
          "source": "http://chrishamblin.xyz/images/viscnn_images/417.jpg",
          "x": -0.03082424722117216,
          "xanchor": "center",
          "xref": "x",
          "y": 0.11255234023647191,
          "yanchor": "middle",
          "yref": "y"
         },
         {
          "sizex": 0.008,
          "sizey": 0.008,
          "source": "http://chrishamblin.xyz/images/viscnn_images/418.jpg",
          "x": 0.021960760397516845,
          "xanchor": "center",
          "xref": "x",
          "y": -0.11956419420602171,
          "yanchor": "middle",
          "yref": "y"
         },
         {
          "sizex": 0.008,
          "sizey": 0.008,
          "source": "http://chrishamblin.xyz/images/viscnn_images/419.jpg",
          "x": -0.06388959754506522,
          "xanchor": "center",
          "xref": "x",
          "y": -0.04019823317645311,
          "yanchor": "middle",
          "yref": "y"
         },
         {
          "sizex": 0.008,
          "sizey": 0.008,
          "source": "http://chrishamblin.xyz/images/viscnn_images/420.jpg",
          "x": -0.11512925730536312,
          "xanchor": "center",
          "xref": "x",
          "y": -0.06553502942736689,
          "yanchor": "middle",
          "yref": "y"
         },
         {
          "sizex": 0.008,
          "sizey": 0.008,
          "source": "http://chrishamblin.xyz/images/viscnn_images/421.jpg",
          "x": -0.09022349368786414,
          "xanchor": "center",
          "xref": "x",
          "y": 9.178736360968852e-05,
          "yanchor": "middle",
          "yref": "y"
         },
         {
          "sizex": 0.008,
          "sizey": 0.008,
          "source": "http://chrishamblin.xyz/images/viscnn_images/422.jpg",
          "x": 0.025785871799466842,
          "xanchor": "center",
          "xref": "x",
          "y": 0.03521269676701085,
          "yanchor": "middle",
          "yref": "y"
         },
         {
          "sizex": 0.008,
          "sizey": 0.008,
          "source": "http://chrishamblin.xyz/images/viscnn_images/423.jpg",
          "x": -0.04286856878133945,
          "xanchor": "center",
          "xref": "x",
          "y": 0.09914560265261119,
          "yanchor": "middle",
          "yref": "y"
         },
         {
          "sizex": 0.008,
          "sizey": 0.008,
          "source": "http://chrishamblin.xyz/images/viscnn_images/424.jpg",
          "x": -0.10153570030859432,
          "xanchor": "center",
          "xref": "x",
          "y": -0.06581694204837168,
          "yanchor": "middle",
          "yref": "y"
         },
         {
          "sizex": 0.008,
          "sizey": 0.008,
          "source": "http://chrishamblin.xyz/images/viscnn_images/425.jpg",
          "x": -0.02713181036456019,
          "xanchor": "center",
          "xref": "x",
          "y": 0.06834368308047666,
          "yanchor": "middle",
          "yref": "y"
         },
         {
          "sizex": 0.008,
          "sizey": 0.008,
          "source": "http://chrishamblin.xyz/images/viscnn_images/426.jpg",
          "x": 0.08595690538289893,
          "xanchor": "center",
          "xref": "x",
          "y": -0.09958499429120919,
          "yanchor": "middle",
          "yref": "y"
         },
         {
          "sizex": 0.008,
          "sizey": 0.008,
          "source": "http://chrishamblin.xyz/images/viscnn_images/427.jpg",
          "x": 0.07367543592966927,
          "xanchor": "center",
          "xref": "x",
          "y": -0.02908201094362439,
          "yanchor": "middle",
          "yref": "y"
         },
         {
          "sizex": 0.008,
          "sizey": 0.008,
          "source": "http://chrishamblin.xyz/images/viscnn_images/428.jpg",
          "x": 0.09371149800190928,
          "xanchor": "center",
          "xref": "x",
          "y": 0.09041819354383401,
          "yanchor": "middle",
          "yref": "y"
         },
         {
          "sizex": 0.008,
          "sizey": 0.008,
          "source": "http://chrishamblin.xyz/images/viscnn_images/429.jpg",
          "x": -0.0610649885918127,
          "xanchor": "center",
          "xref": "x",
          "y": -0.09246140675987723,
          "yanchor": "middle",
          "yref": "y"
         },
         {
          "sizex": 0.008,
          "sizey": 0.008,
          "source": "http://chrishamblin.xyz/images/viscnn_images/430.jpg",
          "x": 0.12634916730784485,
          "xanchor": "center",
          "xref": "x",
          "y": -0.06525989480755867,
          "yanchor": "middle",
          "yref": "y"
         },
         {
          "sizex": 0.008,
          "sizey": 0.008,
          "source": "http://chrishamblin.xyz/images/viscnn_images/431.jpg",
          "x": -0.10058902333552627,
          "xanchor": "center",
          "xref": "x",
          "y": -0.052884302427321554,
          "yanchor": "middle",
          "yref": "y"
         },
         {
          "sizex": 0.008,
          "sizey": 0.008,
          "source": "http://chrishamblin.xyz/images/viscnn_images/432.jpg",
          "x": -0.06548388183730287,
          "xanchor": "center",
          "xref": "x",
          "y": 0.055875494476199716,
          "yanchor": "middle",
          "yref": "y"
         },
         {
          "sizex": 0.008,
          "sizey": 0.008,
          "source": "http://chrishamblin.xyz/images/viscnn_images/433.jpg",
          "x": 0.004383744246850063,
          "xanchor": "center",
          "xref": "x",
          "y": -0.09333558579931142,
          "yanchor": "middle",
          "yref": "y"
         },
         {
          "sizex": 0.008,
          "sizey": 0.008,
          "source": "http://chrishamblin.xyz/images/viscnn_images/434.jpg",
          "x": 0.07097890507743329,
          "xanchor": "center",
          "xref": "x",
          "y": -0.05653859516794174,
          "yanchor": "middle",
          "yref": "y"
         },
         {
          "sizex": 0.008,
          "sizey": 0.008,
          "source": "http://chrishamblin.xyz/images/viscnn_images/435.jpg",
          "x": 0.12085652498487641,
          "xanchor": "center",
          "xref": "x",
          "y": 0.043586653619619796,
          "yanchor": "middle",
          "yref": "y"
         },
         {
          "sizex": 0.008,
          "sizey": 0.008,
          "source": "http://chrishamblin.xyz/images/viscnn_images/436.jpg",
          "x": -0.043713497080177306,
          "xanchor": "center",
          "xref": "x",
          "y": 0.11234053826096854,
          "yanchor": "middle",
          "yref": "y"
         },
         {
          "sizex": 0.008,
          "sizey": 0.008,
          "source": "http://chrishamblin.xyz/images/viscnn_images/437.jpg",
          "x": 0.13457017967571355,
          "xanchor": "center",
          "xref": "x",
          "y": 0.053756091968265515,
          "yanchor": "middle",
          "yref": "y"
         },
         {
          "sizex": 0.008,
          "sizey": 0.008,
          "source": "http://chrishamblin.xyz/images/viscnn_images/438.jpg",
          "x": 0.09149618506389656,
          "xanchor": "center",
          "xref": "x",
          "y": -0.00892375467411113,
          "yanchor": "middle",
          "yref": "y"
         },
         {
          "sizex": 0.008,
          "sizey": 0.008,
          "source": "http://chrishamblin.xyz/images/viscnn_images/439.jpg",
          "x": 0.08389534380990132,
          "xanchor": "center",
          "xref": "x",
          "y": 0.05987432786886363,
          "yanchor": "middle",
          "yref": "y"
         },
         {
          "sizex": 0.008,
          "sizey": 0.008,
          "source": "http://chrishamblin.xyz/images/viscnn_images/440.jpg",
          "x": 0.10424334347284481,
          "xanchor": "center",
          "xref": "x",
          "y": -0.028000925182996808,
          "yanchor": "middle",
          "yref": "y"
         },
         {
          "sizex": 0.008,
          "sizey": 0.008,
          "source": "http://chrishamblin.xyz/images/viscnn_images/441.jpg",
          "x": 0.05123713680757151,
          "xanchor": "center",
          "xref": "x",
          "y": -0.04202577542401454,
          "yanchor": "middle",
          "yref": "y"
         },
         {
          "sizex": 0.008,
          "sizey": 0.008,
          "source": "http://chrishamblin.xyz/images/viscnn_images/442.jpg",
          "x": 0.03647108547923384,
          "xanchor": "center",
          "xref": "x",
          "y": -0.11999324329487661,
          "yanchor": "middle",
          "yref": "y"
         },
         {
          "sizex": 0.008,
          "sizey": 0.008,
          "source": "http://chrishamblin.xyz/images/viscnn_images/443.jpg",
          "x": -0.006500204395000626,
          "xanchor": "center",
          "xref": "x",
          "y": -0.05167328234457978,
          "yanchor": "middle",
          "yref": "y"
         },
         {
          "sizex": 0.008,
          "sizey": 0.008,
          "source": "http://chrishamblin.xyz/images/viscnn_images/444.jpg",
          "x": -0.07551436969992585,
          "xanchor": "center",
          "xref": "x",
          "y": -0.06126742750783745,
          "yanchor": "middle",
          "yref": "y"
         },
         {
          "sizex": 0.008,
          "sizey": 0.008,
          "source": "http://chrishamblin.xyz/images/viscnn_images/445.jpg",
          "x": -0.13341803055805734,
          "xanchor": "center",
          "xref": "x",
          "y": -0.0138840777977518,
          "yanchor": "middle",
          "yref": "y"
         },
         {
          "sizex": 0.008,
          "sizey": 0.008,
          "source": "http://chrishamblin.xyz/images/viscnn_images/446.jpg",
          "x": -0.08793323310889965,
          "xanchor": "center",
          "xref": "x",
          "y": -0.06259681879498898,
          "yanchor": "middle",
          "yref": "y"
         },
         {
          "sizex": 0.008,
          "sizey": 0.008,
          "source": "http://chrishamblin.xyz/images/viscnn_images/447.jpg",
          "x": 0.09683987702341043,
          "xanchor": "center",
          "xref": "x",
          "y": -0.05767530106780506,
          "yanchor": "middle",
          "yref": "y"
         },
         {
          "sizex": 0.008,
          "sizey": 0.008,
          "source": "http://chrishamblin.xyz/images/viscnn_images/448.jpg",
          "x": 0.06904593002654348,
          "xanchor": "center",
          "xref": "x",
          "y": -0.09929052886813657,
          "yanchor": "middle",
          "yref": "y"
         },
         {
          "sizex": 0.008,
          "sizey": 0.008,
          "source": "http://chrishamblin.xyz/images/viscnn_images/449.jpg",
          "x": 0.058778012142638336,
          "xanchor": "center",
          "xref": "x",
          "y": 0.044974311542847215,
          "yanchor": "middle",
          "yref": "y"
         },
         {
          "sizex": 0.008,
          "sizey": 0.008,
          "source": "http://chrishamblin.xyz/images/viscnn_images/450.jpg",
          "x": 0.002581833504145422,
          "xanchor": "center",
          "xref": "x",
          "y": -0.12249295305552467,
          "yanchor": "middle",
          "yref": "y"
         },
         {
          "sizex": 0.008,
          "sizey": 0.008,
          "source": "http://chrishamblin.xyz/images/viscnn_images/451.jpg",
          "x": 0.0648496367823415,
          "xanchor": "center",
          "xref": "x",
          "y": -0.04054937508484589,
          "yanchor": "middle",
          "yref": "y"
         },
         {
          "sizex": 0.008,
          "sizey": 0.008,
          "source": "http://chrishamblin.xyz/images/viscnn_images/452.jpg",
          "x": -0.06436100790038009,
          "xanchor": "center",
          "xref": "x",
          "y": 0.12860014415822638,
          "yanchor": "middle",
          "yref": "y"
         },
         {
          "sizex": 0.008,
          "sizey": 0.008,
          "source": "http://chrishamblin.xyz/images/viscnn_images/453.jpg",
          "x": -0.03776481790012122,
          "xanchor": "center",
          "xref": "x",
          "y": 0.028931134211561366,
          "yanchor": "middle",
          "yref": "y"
         },
         {
          "sizex": 0.008,
          "sizey": 0.008,
          "source": "http://chrishamblin.xyz/images/viscnn_images/454.jpg",
          "x": -0.1200490471699328,
          "xanchor": "center",
          "xref": "x",
          "y": -0.014969294527981547,
          "yanchor": "middle",
          "yref": "y"
         },
         {
          "sizex": 0.008,
          "sizey": 0.008,
          "source": "http://chrishamblin.xyz/images/viscnn_images/455.jpg",
          "x": -0.09812252684202497,
          "xanchor": "center",
          "xref": "x",
          "y": -0.08724014983500696,
          "yanchor": "middle",
          "yref": "y"
         },
         {
          "sizex": 0.008,
          "sizey": 0.008,
          "source": "http://chrishamblin.xyz/images/viscnn_images/456.jpg",
          "x": -0.11065242401800819,
          "xanchor": "center",
          "xref": "x",
          "y": 0.02837967848850205,
          "yanchor": "middle",
          "yref": "y"
         },
         {
          "sizex": 0.008,
          "sizey": 0.008,
          "source": "http://chrishamblin.xyz/images/viscnn_images/457.jpg",
          "x": -0.013607043733688992,
          "xanchor": "center",
          "xref": "x",
          "y": -0.041309981979329474,
          "yanchor": "middle",
          "yref": "y"
         },
         {
          "sizex": 0.008,
          "sizey": 0.008,
          "source": "http://chrishamblin.xyz/images/viscnn_images/458.jpg",
          "x": 0.03957092322720139,
          "xanchor": "center",
          "xref": "x",
          "y": 0.03426882948465543,
          "yanchor": "middle",
          "yref": "y"
         },
         {
          "sizex": 0.008,
          "sizey": 0.008,
          "source": "http://chrishamblin.xyz/images/viscnn_images/459.jpg",
          "x": -0.023227069714088174,
          "xanchor": "center",
          "xref": "x",
          "y": 0.08006160768714828,
          "yanchor": "middle",
          "yref": "y"
         },
         {
          "sizex": 0.008,
          "sizey": 0.008,
          "source": "http://chrishamblin.xyz/images/viscnn_images/460.jpg",
          "x": 0.07935851693091,
          "xanchor": "center",
          "xref": "x",
          "y": -0.0153618330809291,
          "yanchor": "middle",
          "yref": "y"
         },
         {
          "sizex": 0.008,
          "sizey": 0.008,
          "source": "http://chrishamblin.xyz/images/viscnn_images/461.jpg",
          "x": -0.006540890739034246,
          "xanchor": "center",
          "xref": "x",
          "y": -0.08594539849624432,
          "yanchor": "middle",
          "yref": "y"
         },
         {
          "sizex": 0.008,
          "sizey": 0.008,
          "source": "http://chrishamblin.xyz/images/viscnn_images/462.jpg",
          "x": 0.13077583721600777,
          "xanchor": "center",
          "xref": "x",
          "y": 0.025920123792413086,
          "yanchor": "middle",
          "yref": "y"
         },
         {
          "sizex": 0.008,
          "sizey": 0.008,
          "source": "http://chrishamblin.xyz/images/viscnn_images/463.jpg",
          "x": 0.04018952956999164,
          "xanchor": "center",
          "xref": "x",
          "y": -0.07755437829122787,
          "yanchor": "middle",
          "yref": "y"
         },
         {
          "sizex": 0.008,
          "sizey": 0.008,
          "source": "http://chrishamblin.xyz/images/viscnn_images/464.jpg",
          "x": -0.029282810571949442,
          "xanchor": "center",
          "xref": "x",
          "y": -0.12194695289496278,
          "yanchor": "middle",
          "yref": "y"
         },
         {
          "sizex": 0.008,
          "sizey": 0.008,
          "source": "http://chrishamblin.xyz/images/viscnn_images/465.jpg",
          "x": 0.0692730490540423,
          "xanchor": "center",
          "xref": "x",
          "y": 0.09736152746753599,
          "yanchor": "middle",
          "yref": "y"
         },
         {
          "sizex": 0.008,
          "sizey": 0.008,
          "source": "http://chrishamblin.xyz/images/viscnn_images/466.jpg",
          "x": 0.056100356789018924,
          "xanchor": "center",
          "xref": "x",
          "y": -0.02921463605568673,
          "yanchor": "middle",
          "yref": "y"
         },
         {
          "sizex": 0.008,
          "sizey": 0.008,
          "source": "http://chrishamblin.xyz/images/viscnn_images/467.jpg",
          "x": 0.028272829983606283,
          "xanchor": "center",
          "xref": "x",
          "y": 0.11776506684284317,
          "yanchor": "middle",
          "yref": "y"
         },
         {
          "sizex": 0.008,
          "sizey": 0.008,
          "source": "http://chrishamblin.xyz/images/viscnn_images/468.jpg",
          "x": -0.010248447191580462,
          "xanchor": "center",
          "xref": "x",
          "y": -0.11843182277999165,
          "yanchor": "middle",
          "yref": "y"
         },
         {
          "sizex": 0.008,
          "sizey": 0.008,
          "source": "http://chrishamblin.xyz/images/viscnn_images/469.jpg",
          "x": -0.1449337314228615,
          "xanchor": "center",
          "xref": "x",
          "y": 0.012998843362951314,
          "yanchor": "middle",
          "yref": "y"
         },
         {
          "sizex": 0.008,
          "sizey": 0.008,
          "source": "http://chrishamblin.xyz/images/viscnn_images/470.jpg",
          "x": 0.07922570472064043,
          "xanchor": "center",
          "xref": "x",
          "y": -0.07447653543760094,
          "yanchor": "middle",
          "yref": "y"
         },
         {
          "sizex": 0.008,
          "sizey": 0.008,
          "source": "http://chrishamblin.xyz/images/viscnn_images/471.jpg",
          "x": 0.0008845196552750409,
          "xanchor": "center",
          "xref": "x",
          "y": 0.1098379978165437,
          "yanchor": "middle",
          "yref": "y"
         },
         {
          "sizex": 0.008,
          "sizey": 0.008,
          "source": "http://chrishamblin.xyz/images/viscnn_images/472.jpg",
          "x": 0.07336137966963704,
          "xanchor": "center",
          "xref": "x",
          "y": 0.08186674721349341,
          "yanchor": "middle",
          "yref": "y"
         },
         {
          "sizex": 0.008,
          "sizey": 0.008,
          "source": "http://chrishamblin.xyz/images/viscnn_images/473.jpg",
          "x": 0.10243070789146015,
          "xanchor": "center",
          "xref": "x",
          "y": -0.01500003851524201,
          "yanchor": "middle",
          "yref": "y"
         },
         {
          "sizex": 0.008,
          "sizey": 0.008,
          "source": "http://chrishamblin.xyz/images/viscnn_images/474.jpg",
          "x": -0.054584269543015686,
          "xanchor": "center",
          "xref": "x",
          "y": 0.07100658064905008,
          "yanchor": "middle",
          "yref": "y"
         },
         {
          "sizex": 0.008,
          "sizey": 0.008,
          "source": "http://chrishamblin.xyz/images/viscnn_images/475.jpg",
          "x": -0.11681327755136471,
          "xanchor": "center",
          "xref": "x",
          "y": 0.07031234998118414,
          "yanchor": "middle",
          "yref": "y"
         },
         {
          "sizex": 0.008,
          "sizey": 0.008,
          "source": "http://chrishamblin.xyz/images/viscnn_images/476.jpg",
          "x": 0.019562070460643604,
          "xanchor": "center",
          "xref": "x",
          "y": 0.1289663809996577,
          "yanchor": "middle",
          "yref": "y"
         },
         {
          "sizex": 0.008,
          "sizey": 0.008,
          "source": "http://chrishamblin.xyz/images/viscnn_images/477.jpg",
          "x": 0.0275153982786026,
          "xanchor": "center",
          "xref": "x",
          "y": -0.13112682683969823,
          "yanchor": "middle",
          "yref": "y"
         },
         {
          "sizex": 0.008,
          "sizey": 0.008,
          "source": "http://chrishamblin.xyz/images/viscnn_images/478.jpg",
          "x": 0.004972736968601167,
          "xanchor": "center",
          "xref": "x",
          "y": 0.01763504001776396,
          "yanchor": "middle",
          "yref": "y"
         },
         {
          "sizex": 0.008,
          "sizey": 0.008,
          "source": "http://chrishamblin.xyz/images/viscnn_images/479.jpg",
          "x": -0.07916017988748678,
          "xanchor": "center",
          "xref": "x",
          "y": 0.07632646325467635,
          "yanchor": "middle",
          "yref": "y"
         },
         {
          "sizex": 0.008,
          "sizey": 0.008,
          "source": "http://chrishamblin.xyz/images/viscnn_images/480.jpg",
          "x": -0.06807022162787218,
          "xanchor": "center",
          "xref": "x",
          "y": 0.1147711221777353,
          "yanchor": "middle",
          "yref": "y"
         },
         {
          "sizex": 0.008,
          "sizey": 0.008,
          "source": "http://chrishamblin.xyz/images/viscnn_images/481.jpg",
          "x": 0.08317351290600719,
          "xanchor": "center",
          "xref": "x",
          "y": -0.06174980759389078,
          "yanchor": "middle",
          "yref": "y"
         },
         {
          "sizex": 0.008,
          "sizey": 0.008,
          "source": "http://chrishamblin.xyz/images/viscnn_images/482.jpg",
          "x": -0.010943278170836358,
          "xanchor": "center",
          "xref": "x",
          "y": -0.10303081219148788,
          "yanchor": "middle",
          "yref": "y"
         },
         {
          "sizex": 0.008,
          "sizey": 0.008,
          "source": "http://chrishamblin.xyz/images/viscnn_images/483.jpg",
          "x": -0.02669270922033266,
          "xanchor": "center",
          "xref": "x",
          "y": -0.14169273471762128,
          "yanchor": "middle",
          "yref": "y"
         },
         {
          "sizex": 0.008,
          "sizey": 0.008,
          "source": "http://chrishamblin.xyz/images/viscnn_images/484.jpg",
          "x": 0.02925072111174554,
          "xanchor": "center",
          "xref": "x",
          "y": -0.08664552119257644,
          "yanchor": "middle",
          "yref": "y"
         },
         {
          "sizex": 0.008,
          "sizey": 0.008,
          "source": "http://chrishamblin.xyz/images/viscnn_images/485.jpg",
          "x": 0.03713663534644324,
          "xanchor": "center",
          "xref": "x",
          "y": -0.03595239795415745,
          "yanchor": "middle",
          "yref": "y"
         },
         {
          "sizex": 0.008,
          "sizey": 0.008,
          "source": "http://chrishamblin.xyz/images/viscnn_images/486.jpg",
          "x": -0.03966265437307743,
          "xanchor": "center",
          "xref": "x",
          "y": 0.0772863788075314,
          "yanchor": "middle",
          "yref": "y"
         },
         {
          "sizex": 0.008,
          "sizey": 0.008,
          "source": "http://chrishamblin.xyz/images/viscnn_images/487.jpg",
          "x": -0.04611851509381566,
          "xanchor": "center",
          "xref": "x",
          "y": -0.08897799902774363,
          "yanchor": "middle",
          "yref": "y"
         },
         {
          "sizex": 0.008,
          "sizey": 0.008,
          "source": "http://chrishamblin.xyz/images/viscnn_images/488.jpg",
          "x": 0.06283723238736312,
          "xanchor": "center",
          "xref": "x",
          "y": -0.12741788834129442,
          "yanchor": "middle",
          "yref": "y"
         },
         {
          "sizex": 0.008,
          "sizey": 0.008,
          "source": "http://chrishamblin.xyz/images/viscnn_images/489.jpg",
          "x": -0.12978828040471396,
          "xanchor": "center",
          "xref": "x",
          "y": 0.06497811451239716,
          "yanchor": "middle",
          "yref": "y"
         },
         {
          "sizex": 0.008,
          "sizey": 0.008,
          "source": "http://chrishamblin.xyz/images/viscnn_images/490.jpg",
          "x": 0.0532348089312203,
          "xanchor": "center",
          "xref": "x",
          "y": -0.06686424402847951,
          "yanchor": "middle",
          "yref": "y"
         },
         {
          "sizex": 0.008,
          "sizey": 0.008,
          "source": "http://chrishamblin.xyz/images/viscnn_images/491.jpg",
          "x": -0.019180986834230068,
          "xanchor": "center",
          "xref": "x",
          "y": 0.12337433757465642,
          "yanchor": "middle",
          "yref": "y"
         },
         {
          "sizex": 0.008,
          "sizey": 0.008,
          "source": "http://chrishamblin.xyz/images/viscnn_images/492.jpg",
          "x": -0.0679164593453741,
          "xanchor": "center",
          "xref": "x",
          "y": 0.06822746204640483,
          "yanchor": "middle",
          "yref": "y"
         },
         {
          "sizex": 0.008,
          "sizey": 0.008,
          "source": "http://chrishamblin.xyz/images/viscnn_images/493.jpg",
          "x": -0.031934155404240834,
          "xanchor": "center",
          "xref": "x",
          "y": -0.10172178045184846,
          "yanchor": "middle",
          "yref": "y"
         },
         {
          "sizex": 0.008,
          "sizey": 0.008,
          "source": "http://chrishamblin.xyz/images/viscnn_images/494.jpg",
          "x": 0.06527443987150668,
          "xanchor": "center",
          "xref": "x",
          "y": -0.0849908678229957,
          "yanchor": "middle",
          "yref": "y"
         },
         {
          "sizex": 0.008,
          "sizey": 0.008,
          "source": "http://chrishamblin.xyz/images/viscnn_images/495.jpg",
          "x": -0.13191584098147865,
          "xanchor": "center",
          "xref": "x",
          "y": -0.058596740745250266,
          "yanchor": "middle",
          "yref": "y"
         },
         {
          "sizex": 0.008,
          "sizey": 0.008,
          "source": "http://chrishamblin.xyz/images/viscnn_images/496.jpg",
          "x": 0.04244808392386321,
          "xanchor": "center",
          "xref": "x",
          "y": 0.0017524210396184538,
          "yanchor": "middle",
          "yref": "y"
         },
         {
          "sizex": 0.008,
          "sizey": 0.008,
          "source": "http://chrishamblin.xyz/images/viscnn_images/497.jpg",
          "x": -0.011695718222379048,
          "xanchor": "center",
          "xref": "x",
          "y": 0.01745965392415593,
          "yanchor": "middle",
          "yref": "y"
         },
         {
          "sizex": 0.008,
          "sizey": 0.008,
          "source": "http://chrishamblin.xyz/images/viscnn_images/498.jpg",
          "x": -0.036898498487078345,
          "xanchor": "center",
          "xref": "x",
          "y": -0.1353544109945451,
          "yanchor": "middle",
          "yref": "y"
         },
         {
          "sizex": 0.008,
          "sizey": 0.008,
          "source": "http://chrishamblin.xyz/images/viscnn_images/499.jpg",
          "x": -0.04409810454298712,
          "xanchor": "center",
          "xref": "x",
          "y": -0.12377262664902298,
          "yanchor": "middle",
          "yref": "y"
         },
         {
          "sizex": 0.008,
          "sizey": 0.008,
          "source": "http://chrishamblin.xyz/images/viscnn_images/500.jpg",
          "x": -0.14419465747713694,
          "xanchor": "center",
          "xref": "x",
          "y": -0.005030135065374984,
          "yanchor": "middle",
          "yref": "y"
         },
         {
          "sizex": 0.008,
          "sizey": 0.008,
          "source": "http://chrishamblin.xyz/images/viscnn_images/501.jpg",
          "x": 0.10655225279297154,
          "xanchor": "center",
          "xref": "x",
          "y": -0.07833897073328368,
          "yanchor": "middle",
          "yref": "y"
         },
         {
          "sizex": 0.008,
          "sizey": 0.008,
          "source": "http://chrishamblin.xyz/images/viscnn_images/502.jpg",
          "x": 0.12405231708811079,
          "xanchor": "center",
          "xref": "x",
          "y": 0.05999647750451635,
          "yanchor": "middle",
          "yref": "y"
         },
         {
          "sizex": 0.008,
          "sizey": 0.008,
          "source": "http://chrishamblin.xyz/images/viscnn_images/503.jpg",
          "x": 0.08842861307213568,
          "xanchor": "center",
          "xref": "x",
          "y": -0.11359555750032352,
          "yanchor": "middle",
          "yref": "y"
         },
         {
          "sizex": 0.008,
          "sizey": 0.008,
          "source": "http://chrishamblin.xyz/images/viscnn_images/504.jpg",
          "x": 0.05040791284216752,
          "xanchor": "center",
          "xref": "x",
          "y": -0.1357471526952618,
          "yanchor": "middle",
          "yref": "y"
         },
         {
          "sizex": 0.008,
          "sizey": 0.008,
          "source": "http://chrishamblin.xyz/images/viscnn_images/505.jpg",
          "x": 0.024726661069034123,
          "xanchor": "center",
          "xref": "x",
          "y": -0.021092183115539807,
          "yanchor": "middle",
          "yref": "y"
         },
         {
          "sizex": 0.008,
          "sizey": 0.008,
          "source": "http://chrishamblin.xyz/images/viscnn_images/506.jpg",
          "x": -0.039820289280946136,
          "xanchor": "center",
          "xref": "x",
          "y": -0.03807947803709569,
          "yanchor": "middle",
          "yref": "y"
         },
         {
          "sizex": 0.008,
          "sizey": 0.008,
          "source": "http://chrishamblin.xyz/images/viscnn_images/507.jpg",
          "x": -0.024069050853767718,
          "xanchor": "center",
          "xref": "x",
          "y": 0.010550698132162067,
          "yanchor": "middle",
          "yref": "y"
         },
         {
          "sizex": 0.008,
          "sizey": 0.008,
          "source": "http://chrishamblin.xyz/images/viscnn_images/508.jpg",
          "x": -0.018310487736788086,
          "xanchor": "center",
          "xref": "x",
          "y": -0.12958409438298454,
          "yanchor": "middle",
          "yref": "y"
         },
         {
          "sizex": 0.008,
          "sizey": 0.008,
          "source": "http://chrishamblin.xyz/images/viscnn_images/509.jpg",
          "x": -0.12510868545541382,
          "xanchor": "center",
          "xref": "x",
          "y": -0.0021428033928896453,
          "yanchor": "middle",
          "yref": "y"
         },
         {
          "sizex": 0.008,
          "sizey": 0.008,
          "source": "http://chrishamblin.xyz/images/viscnn_images/510.jpg",
          "x": 0.040626268158640434,
          "xanchor": "center",
          "xref": "x",
          "y": -0.06351100698079991,
          "yanchor": "middle",
          "yref": "y"
         },
         {
          "sizex": 0.008,
          "sizey": 0.008,
          "source": "http://chrishamblin.xyz/images/viscnn_images/511.jpg",
          "x": 0.13357279632696312,
          "xanchor": "center",
          "xref": "x",
          "y": -0.054841892188422336,
          "yanchor": "middle",
          "yref": "y"
         },
         {
          "sizex": 0.008,
          "sizey": 0.008,
          "source": "http://chrishamblin.xyz/images/viscnn_images/512.jpg",
          "x": 0.07783295473637056,
          "xanchor": "center",
          "xref": "x",
          "y": 0.0468286739201317,
          "yanchor": "middle",
          "yref": "y"
         },
         {
          "sizex": 0.008,
          "sizey": 0.008,
          "source": "http://chrishamblin.xyz/images/viscnn_images/513.jpg",
          "x": 0.11276030646756877,
          "xanchor": "center",
          "xref": "x",
          "y": 0.03257428397690051,
          "yanchor": "middle",
          "yref": "y"
         },
         {
          "sizex": 0.008,
          "sizey": 0.008,
          "source": "http://chrishamblin.xyz/images/viscnn_images/514.jpg",
          "x": 0.042914718187966855,
          "xanchor": "center",
          "xref": "x",
          "y": 0.12006601922937708,
          "yanchor": "middle",
          "yref": "y"
         },
         {
          "sizex": 0.008,
          "sizey": 0.008,
          "source": "http://chrishamblin.xyz/images/viscnn_images/515.jpg",
          "x": -0.07751292349826236,
          "xanchor": "center",
          "xref": "x",
          "y": 0.08909390055034855,
          "yanchor": "middle",
          "yref": "y"
         },
         {
          "sizex": 0.008,
          "sizey": 0.008,
          "source": "http://chrishamblin.xyz/images/viscnn_images/516.jpg",
          "x": -0.016797765028699313,
          "xanchor": "center",
          "xref": "x",
          "y": 0.10952229835712976,
          "yanchor": "middle",
          "yref": "y"
         },
         {
          "sizex": 0.008,
          "sizey": 0.008,
          "source": "http://chrishamblin.xyz/images/viscnn_images/517.jpg",
          "x": -0.0003900846376370237,
          "xanchor": "center",
          "xref": "x",
          "y": -0.005315842493216245,
          "yanchor": "middle",
          "yref": "y"
         },
         {
          "sizex": 0.008,
          "sizey": 0.008,
          "source": "http://chrishamblin.xyz/images/viscnn_images/518.jpg",
          "x": -0.027941805230457924,
          "xanchor": "center",
          "xref": "x",
          "y": -0.05087012659060421,
          "yanchor": "middle",
          "yref": "y"
         },
         {
          "sizex": 0.008,
          "sizey": 0.008,
          "source": "http://chrishamblin.xyz/images/viscnn_images/519.jpg",
          "x": 0.05541267155764541,
          "xanchor": "center",
          "xref": "x",
          "y": -0.09731696343159814,
          "yanchor": "middle",
          "yref": "y"
         },
         {
          "sizex": 0.008,
          "sizey": 0.008,
          "source": "http://chrishamblin.xyz/images/viscnn_images/520.jpg",
          "x": -0.06406112044187354,
          "xanchor": "center",
          "xref": "x",
          "y": 0.08263272817269993,
          "yanchor": "middle",
          "yref": "y"
         },
         {
          "sizex": 0.008,
          "sizey": 0.008,
          "source": "http://chrishamblin.xyz/images/viscnn_images/521.jpg",
          "x": 0.11086164455513542,
          "xanchor": "center",
          "xref": "x",
          "y": -0.06465998255102509,
          "yanchor": "middle",
          "yref": "y"
         },
         {
          "sizex": 0.008,
          "sizey": 0.008,
          "source": "http://chrishamblin.xyz/images/viscnn_images/522.jpg",
          "x": -0.12661682994128443,
          "xanchor": "center",
          "xref": "x",
          "y": 0.04039515968386848,
          "yanchor": "middle",
          "yref": "y"
         },
         {
          "sizex": 0.008,
          "sizey": 0.008,
          "source": "http://chrishamblin.xyz/images/viscnn_images/523.jpg",
          "x": 0.018576827029591434,
          "xanchor": "center",
          "xref": "x",
          "y": -0.09593952023435866,
          "yanchor": "middle",
          "yref": "y"
         },
         {
          "sizex": 0.008,
          "sizey": 0.008,
          "source": "http://chrishamblin.xyz/images/viscnn_images/524.jpg",
          "x": -0.06830154086789052,
          "xanchor": "center",
          "xref": "x",
          "y": 0.014271756070946653,
          "yanchor": "middle",
          "yref": "y"
         },
         {
          "sizex": 0.008,
          "sizey": 0.008,
          "source": "http://chrishamblin.xyz/images/viscnn_images/525.jpg",
          "x": 0.14425959241667324,
          "xanchor": "center",
          "xref": "x",
          "y": -0.012444008566380341,
          "yanchor": "middle",
          "yref": "y"
         },
         {
          "sizex": 0.008,
          "sizey": 0.008,
          "source": "http://chrishamblin.xyz/images/viscnn_images/526.jpg",
          "x": 0.04118749346838492,
          "xanchor": "center",
          "xref": "x",
          "y": -0.05012303524405046,
          "yanchor": "middle",
          "yref": "y"
         },
         {
          "sizex": 0.008,
          "sizey": 0.008,
          "source": "http://chrishamblin.xyz/images/viscnn_images/527.jpg",
          "x": -0.10459960888388527,
          "xanchor": "center",
          "xref": "x",
          "y": -0.09903738776966643,
          "yanchor": "middle",
          "yref": "y"
         },
         {
          "sizex": 0.008,
          "sizey": 0.008,
          "source": "http://chrishamblin.xyz/images/viscnn_images/528.jpg",
          "x": 0.06005786161666109,
          "xanchor": "center",
          "xref": "x",
          "y": 0.08718533790850766,
          "yanchor": "middle",
          "yref": "y"
         },
         {
          "sizex": 0.008,
          "sizey": 0.008,
          "source": "http://chrishamblin.xyz/images/viscnn_images/529.jpg",
          "x": -0.07524470042800026,
          "xanchor": "center",
          "xref": "x",
          "y": -0.04694575690145393,
          "yanchor": "middle",
          "yref": "y"
         },
         {
          "sizex": 0.008,
          "sizey": 0.008,
          "source": "http://chrishamblin.xyz/images/viscnn_images/530.jpg",
          "x": 0.027013970015859874,
          "xanchor": "center",
          "xref": "x",
          "y": 0.10529447462922321,
          "yanchor": "middle",
          "yref": "y"
         },
         {
          "sizex": 0.008,
          "sizey": 0.008,
          "source": "http://chrishamblin.xyz/images/viscnn_images/531.jpg",
          "x": -0.06735476440922367,
          "xanchor": "center",
          "xref": "x",
          "y": 0.09751613371697566,
          "yanchor": "middle",
          "yref": "y"
         },
         {
          "sizex": 0.008,
          "sizey": 0.008,
          "source": "http://chrishamblin.xyz/images/viscnn_images/532.jpg",
          "x": 0.01502535761099273,
          "xanchor": "center",
          "xref": "x",
          "y": -0.08294501282311047,
          "yanchor": "middle",
          "yref": "y"
         },
         {
          "sizex": 0.008,
          "sizey": 0.008,
          "source": "http://chrishamblin.xyz/images/viscnn_images/533.jpg",
          "x": -0.057749236431143755,
          "xanchor": "center",
          "xref": "x",
          "y": -0.07958113623140638,
          "yanchor": "middle",
          "yref": "y"
         },
         {
          "sizex": 0.008,
          "sizey": 0.008,
          "source": "http://chrishamblin.xyz/images/viscnn_images/534.jpg",
          "x": -0.07915646539035676,
          "xanchor": "center",
          "xref": "x",
          "y": 0.00706090476906328,
          "yanchor": "middle",
          "yref": "y"
         },
         {
          "sizex": 0.008,
          "sizey": 0.008,
          "source": "http://chrishamblin.xyz/images/viscnn_images/535.jpg",
          "x": -0.04502620678988332,
          "xanchor": "center",
          "xref": "x",
          "y": -0.007968477722746706,
          "yanchor": "middle",
          "yref": "y"
         },
         {
          "sizex": 0.008,
          "sizey": 0.008,
          "source": "http://chrishamblin.xyz/images/viscnn_images/536.jpg",
          "x": 0.04950868141912603,
          "xanchor": "center",
          "xref": "x",
          "y": -0.012334978315025181,
          "yanchor": "middle",
          "yref": "y"
         },
         {
          "sizex": 0.008,
          "sizey": 0.008,
          "source": "http://chrishamblin.xyz/images/viscnn_images/537.jpg",
          "x": -0.08390551666976973,
          "xanchor": "center",
          "xref": "x",
          "y": -0.11707539083237047,
          "yanchor": "middle",
          "yref": "y"
         },
         {
          "sizex": 0.008,
          "sizey": 0.008,
          "source": "http://chrishamblin.xyz/images/viscnn_images/538.jpg",
          "x": 0.023447115875960576,
          "xanchor": "center",
          "xref": "x",
          "y": -0.03331159836679305,
          "yanchor": "middle",
          "yref": "y"
         },
         {
          "sizex": 0.008,
          "sizey": 0.008,
          "source": "http://chrishamblin.xyz/images/viscnn_images/539.jpg",
          "x": 0.012385349610288324,
          "xanchor": "center",
          "xref": "x",
          "y": -0.1318871652849575,
          "yanchor": "middle",
          "yref": "y"
         },
         {
          "sizex": 0.008,
          "sizey": 0.008,
          "source": "http://chrishamblin.xyz/images/viscnn_images/540.jpg",
          "x": 0.04474005926540026,
          "xanchor": "center",
          "xref": "x",
          "y": 0.04684734917987759,
          "yanchor": "middle",
          "yref": "y"
         },
         {
          "sizex": 0.008,
          "sizey": 0.008,
          "source": "http://chrishamblin.xyz/images/viscnn_images/541.jpg",
          "x": 0.02996695417369742,
          "xanchor": "center",
          "xref": "x",
          "y": 0.0692770505105615,
          "yanchor": "middle",
          "yref": "y"
         },
         {
          "sizex": 0.008,
          "sizey": 0.008,
          "source": "http://chrishamblin.xyz/images/viscnn_images/542.jpg",
          "x": -0.0782923387165558,
          "xanchor": "center",
          "xref": "x",
          "y": 0.10568057039081705,
          "yanchor": "middle",
          "yref": "y"
         },
         {
          "sizex": 0.008,
          "sizey": 0.008,
          "source": "http://chrishamblin.xyz/images/viscnn_images/543.jpg",
          "x": -0.0038203665459127264,
          "xanchor": "center",
          "xref": "x",
          "y": -0.13418995996234329,
          "yanchor": "middle",
          "yref": "y"
         },
         {
          "sizex": 0.008,
          "sizey": 0.008,
          "source": "http://chrishamblin.xyz/images/viscnn_images/544.jpg",
          "x": 0.0665340705429619,
          "xanchor": "center",
          "xref": "x",
          "y": -0.06996130758447855,
          "yanchor": "middle",
          "yref": "y"
         },
         {
          "sizex": 0.008,
          "sizey": 0.008,
          "source": "http://chrishamblin.xyz/images/viscnn_images/545.jpg",
          "x": 0.13310206444486633,
          "xanchor": "center",
          "xref": "x",
          "y": -0.04347563403154567,
          "yanchor": "middle",
          "yref": "y"
         },
         {
          "sizex": 0.008,
          "sizey": 0.008,
          "source": "http://chrishamblin.xyz/images/viscnn_images/546.jpg",
          "x": 0.07691904529220957,
          "xanchor": "center",
          "xref": "x",
          "y": -0.04343853047104899,
          "yanchor": "middle",
          "yref": "y"
         },
         {
          "sizex": 0.008,
          "sizey": 0.008,
          "source": "http://chrishamblin.xyz/images/viscnn_images/547.jpg",
          "x": -0.0015727204048237781,
          "xanchor": "center",
          "xref": "x",
          "y": -0.06424235290955556,
          "yanchor": "middle",
          "yref": "y"
         },
         {
          "sizex": 0.008,
          "sizey": 0.008,
          "source": "http://chrishamblin.xyz/images/viscnn_images/548.jpg",
          "x": -0.10849084149059769,
          "xanchor": "center",
          "xref": "x",
          "y": 0.015276704095125606,
          "yanchor": "middle",
          "yref": "y"
         },
         {
          "sizex": 0.008,
          "sizey": 0.008,
          "source": "http://chrishamblin.xyz/images/viscnn_images/549.jpg",
          "x": -0.12378802101089831,
          "xanchor": "center",
          "xref": "x",
          "y": 0.027843127068117302,
          "yanchor": "middle",
          "yref": "y"
         },
         {
          "sizex": 0.008,
          "sizey": 0.008,
          "source": "http://chrishamblin.xyz/images/viscnn_images/550.jpg",
          "x": -0.06167247643968423,
          "xanchor": "center",
          "xref": "x",
          "y": 5.956471588729355e-05,
          "yanchor": "middle",
          "yref": "y"
         },
         {
          "sizex": 0.008,
          "sizey": 0.008,
          "source": "http://chrishamblin.xyz/images/viscnn_images/551.jpg",
          "x": 0.01855851087665761,
          "xanchor": "center",
          "xref": "x",
          "y": 0.05975320839059803,
          "yanchor": "middle",
          "yref": "y"
         },
         {
          "sizex": 0.008,
          "sizey": 0.008,
          "source": "http://chrishamblin.xyz/images/viscnn_images/552.jpg",
          "x": 0.061296568126235344,
          "xanchor": "center",
          "xref": "x",
          "y": 0.13041999100548085,
          "yanchor": "middle",
          "yref": "y"
         },
         {
          "sizex": 0.008,
          "sizey": 0.008,
          "source": "http://chrishamblin.xyz/images/viscnn_images/553.jpg",
          "x": -0.009825709297524831,
          "xanchor": "center",
          "xref": "x",
          "y": -0.028006294355383463,
          "yanchor": "middle",
          "yref": "y"
         },
         {
          "sizex": 0.008,
          "sizey": 0.008,
          "source": "http://chrishamblin.xyz/images/viscnn_images/554.jpg",
          "x": 0.11657221803369,
          "xanchor": "center",
          "xref": "x",
          "y": -0.00201473321195845,
          "yanchor": "middle",
          "yref": "y"
         },
         {
          "sizex": 0.008,
          "sizey": 0.008,
          "source": "http://chrishamblin.xyz/images/viscnn_images/555.jpg",
          "x": 0.10409725232445602,
          "xanchor": "center",
          "xref": "x",
          "y": -0.04732317909744431,
          "yanchor": "middle",
          "yref": "y"
         },
         {
          "sizex": 0.008,
          "sizey": 0.008,
          "source": "http://chrishamblin.xyz/images/viscnn_images/556.jpg",
          "x": -0.0939009777888231,
          "xanchor": "center",
          "xref": "x",
          "y": -0.107722707706013,
          "yanchor": "middle",
          "yref": "y"
         },
         {
          "sizex": 0.008,
          "sizey": 0.008,
          "source": "http://chrishamblin.xyz/images/viscnn_images/557.jpg",
          "x": 0.1137148037031691,
          "xanchor": "center",
          "xref": "x",
          "y": -0.08999518590792839,
          "yanchor": "middle",
          "yref": "y"
         },
         {
          "sizex": 0.008,
          "sizey": 0.008,
          "source": "http://chrishamblin.xyz/images/viscnn_images/558.jpg",
          "x": -0.0305088750465773,
          "xanchor": "center",
          "xref": "x",
          "y": -0.012660808765619208,
          "yanchor": "middle",
          "yref": "y"
         },
         {
          "sizex": 0.008,
          "sizey": 0.008,
          "source": "http://chrishamblin.xyz/images/viscnn_images/559.jpg",
          "x": -0.0527465433615751,
          "xanchor": "center",
          "xref": "x",
          "y": -0.03129301144561825,
          "yanchor": "middle",
          "yref": "y"
         },
         {
          "sizex": 0.008,
          "sizey": 0.008,
          "source": "http://chrishamblin.xyz/images/viscnn_images/560.jpg",
          "x": 0.008044003949461585,
          "xanchor": "center",
          "xref": "x",
          "y": -0.05394443523134859,
          "yanchor": "middle",
          "yref": "y"
         },
         {
          "sizex": 0.008,
          "sizey": 0.008,
          "source": "http://chrishamblin.xyz/images/viscnn_images/561.jpg",
          "x": 0.011548955898872143,
          "xanchor": "center",
          "xref": "x",
          "y": -0.11186769840632456,
          "yanchor": "middle",
          "yref": "y"
         },
         {
          "sizex": 0.008,
          "sizey": 0.008,
          "source": "http://chrishamblin.xyz/images/viscnn_images/562.jpg",
          "x": 0.10011322354871717,
          "xanchor": "center",
          "xref": "x",
          "y": -0.10452922533822173,
          "yanchor": "middle",
          "yref": "y"
         },
         {
          "sizex": 0.008,
          "sizey": 0.008,
          "source": "http://chrishamblin.xyz/images/viscnn_images/563.jpg",
          "x": 0.05265212650056582,
          "xanchor": "center",
          "xref": "x",
          "y": 0.03195283738874502,
          "yanchor": "middle",
          "yref": "y"
         },
         {
          "sizex": 0.008,
          "sizey": 0.008,
          "source": "http://chrishamblin.xyz/images/viscnn_images/564.jpg",
          "x": -0.018414334656887417,
          "xanchor": "center",
          "xref": "x",
          "y": -0.09292357286537213,
          "yanchor": "middle",
          "yref": "y"
         },
         {
          "sizex": 0.008,
          "sizey": 0.008,
          "source": "http://chrishamblin.xyz/images/viscnn_images/565.jpg",
          "x": 0.06786904600150824,
          "xanchor": "center",
          "xref": "x",
          "y": 0.007049111771140122,
          "yanchor": "middle",
          "yref": "y"
         },
         {
          "sizex": 0.008,
          "sizey": 0.008,
          "source": "http://chrishamblin.xyz/images/viscnn_images/566.jpg",
          "x": 0.013374852020106891,
          "xanchor": "center",
          "xref": "x",
          "y": -0.042695984496634046,
          "yanchor": "middle",
          "yref": "y"
         },
         {
          "sizex": 0.008,
          "sizey": 0.008,
          "source": "http://chrishamblin.xyz/images/viscnn_images/567.jpg",
          "x": -0.04790609330271534,
          "xanchor": "center",
          "xref": "x",
          "y": -0.10109035336422699,
          "yanchor": "middle",
          "yref": "y"
         },
         {
          "sizex": 0.008,
          "sizey": 0.008,
          "source": "http://chrishamblin.xyz/images/viscnn_images/568.jpg",
          "x": -0.10287528765156265,
          "xanchor": "center",
          "xref": "x",
          "y": -0.0035580908979131053,
          "yanchor": "middle",
          "yref": "y"
         },
         {
          "sizex": 0.008,
          "sizey": 0.008,
          "source": "http://chrishamblin.xyz/images/viscnn_images/569.jpg",
          "x": 0.09018130073204395,
          "xanchor": "center",
          "xref": "x",
          "y": 0.04147891176957656,
          "yanchor": "middle",
          "yref": "y"
         },
         {
          "sizex": 0.008,
          "sizey": 0.008,
          "source": "http://chrishamblin.xyz/images/viscnn_images/570.jpg",
          "x": 0.0882257444862983,
          "xanchor": "center",
          "xref": "x",
          "y": 0.07544160619629554,
          "yanchor": "middle",
          "yref": "y"
         },
         {
          "sizex": 0.008,
          "sizey": 0.008,
          "source": "http://chrishamblin.xyz/images/viscnn_images/571.jpg",
          "x": -0.10689693772861215,
          "xanchor": "center",
          "xref": "x",
          "y": -0.01574311394571588,
          "yanchor": "middle",
          "yref": "y"
         },
         {
          "sizex": 0.008,
          "sizey": 0.008,
          "source": "http://chrishamblin.xyz/images/viscnn_images/572.jpg",
          "x": -0.028862000387548253,
          "xanchor": "center",
          "xref": "x",
          "y": 0.0402180728548784,
          "yanchor": "middle",
          "yref": "y"
         },
         {
          "sizex": 0.008,
          "sizey": 0.008,
          "source": "http://chrishamblin.xyz/images/viscnn_images/573.jpg",
          "x": 0.0040658662509726945,
          "xanchor": "center",
          "xref": "x",
          "y": 0.0786801648158631,
          "yanchor": "middle",
          "yref": "y"
         },
         {
          "sizex": 0.008,
          "sizey": 0.008,
          "source": "http://chrishamblin.xyz/images/viscnn_images/574.jpg",
          "x": 0.043076163547771044,
          "xanchor": "center",
          "xref": "x",
          "y": -0.09158821674578344,
          "yanchor": "middle",
          "yref": "y"
         },
         {
          "sizex": 0.008,
          "sizey": 0.008,
          "source": "http://chrishamblin.xyz/images/viscnn_images/575.jpg",
          "x": -0.07858268493945682,
          "xanchor": "center",
          "xref": "x",
          "y": 0.03227870745922695,
          "yanchor": "middle",
          "yref": "y"
         },
         {
          "sizex": 0.008,
          "sizey": 0.008,
          "source": "http://chrishamblin.xyz/images/viscnn_images/576.jpg",
          "x": 0.02630833300322212,
          "xanchor": "center",
          "xref": "x",
          "y": -0.07277646417461416,
          "yanchor": "middle",
          "yref": "y"
         },
         {
          "sizex": 0.008,
          "sizey": 0.008,
          "source": "http://chrishamblin.xyz/images/viscnn_images/577.jpg",
          "x": 0.03584222893517374,
          "xanchor": "center",
          "xref": "x",
          "y": -0.013760152907781731,
          "yanchor": "middle",
          "yref": "y"
         },
         {
          "sizex": 0.008,
          "sizey": 0.008,
          "source": "http://chrishamblin.xyz/images/viscnn_images/578.jpg",
          "x": -0.045670864647089714,
          "xanchor": "center",
          "xref": "x",
          "y": 0.03951820905438386,
          "yanchor": "middle",
          "yref": "y"
         },
         {
          "sizex": 0.008,
          "sizey": 0.008,
          "source": "http://chrishamblin.xyz/images/viscnn_images/579.jpg",
          "x": 0.04835838876498154,
          "xanchor": "center",
          "xref": "x",
          "y": 0.13477947274582758,
          "yanchor": "middle",
          "yref": "y"
         },
         {
          "sizex": 0.008,
          "sizey": 0.008,
          "source": "http://chrishamblin.xyz/images/viscnn_images/580.jpg",
          "x": -0.0035355037417975728,
          "xanchor": "center",
          "xref": "x",
          "y": 0.04210160414515848,
          "yanchor": "middle",
          "yref": "y"
         },
         {
          "sizex": 0.008,
          "sizey": 0.008,
          "source": "http://chrishamblin.xyz/images/viscnn_images/581.jpg",
          "x": 0.11785821151721815,
          "xanchor": "center",
          "xref": "x",
          "y": -0.053045588428487715,
          "yanchor": "middle",
          "yref": "y"
         },
         {
          "sizex": 0.008,
          "sizey": 0.008,
          "source": "http://chrishamblin.xyz/images/viscnn_images/582.jpg",
          "x": -0.1192702810038278,
          "xanchor": "center",
          "xref": "x",
          "y": 0.08257876224589332,
          "yanchor": "middle",
          "yref": "y"
         },
         {
          "sizex": 0.008,
          "sizey": 0.008,
          "source": "http://chrishamblin.xyz/images/viscnn_images/583.jpg",
          "x": -0.05185866559512233,
          "xanchor": "center",
          "xref": "x",
          "y": 0.13456917199008975,
          "yanchor": "middle",
          "yref": "y"
         },
         {
          "sizex": 0.008,
          "sizey": 0.008,
          "source": "http://chrishamblin.xyz/images/viscnn_images/584.jpg",
          "x": 0.04746258893227116,
          "xanchor": "center",
          "xref": "x",
          "y": -0.10968293248282095,
          "yanchor": "middle",
          "yref": "y"
         },
         {
          "sizex": 0.008,
          "sizey": 0.008,
          "source": "http://chrishamblin.xyz/images/viscnn_images/585.jpg",
          "x": -0.1098578345902531,
          "xanchor": "center",
          "xref": "x",
          "y": -0.043601782909568496,
          "yanchor": "middle",
          "yref": "y"
         },
         {
          "sizex": 0.008,
          "sizey": 0.008,
          "source": "http://chrishamblin.xyz/images/viscnn_images/586.jpg",
          "x": -0.0347405024444097,
          "xanchor": "center",
          "xref": "x",
          "y": 0.08915280483811752,
          "yanchor": "middle",
          "yref": "y"
         },
         {
          "sizex": 0.008,
          "sizey": 0.008,
          "source": "http://chrishamblin.xyz/images/viscnn_images/587.jpg",
          "x": -0.09046934751953009,
          "xanchor": "center",
          "xref": "x",
          "y": -0.07596796550826591,
          "yanchor": "middle",
          "yref": "y"
         },
         {
          "sizex": 0.008,
          "sizey": 0.008,
          "source": "http://chrishamblin.xyz/images/viscnn_images/588.jpg",
          "x": -0.05108687873451079,
          "xanchor": "center",
          "xref": "x",
          "y": 0.08586859062513791,
          "yanchor": "middle",
          "yref": "y"
         },
         {
          "sizex": 0.008,
          "sizey": 0.008,
          "source": "http://chrishamblin.xyz/images/viscnn_images/589.jpg",
          "x": -0.07695938998063671,
          "xanchor": "center",
          "xref": "x",
          "y": -0.10515256211534241,
          "yanchor": "middle",
          "yref": "y"
         },
         {
          "sizex": 0.008,
          "sizey": 0.008,
          "source": "http://chrishamblin.xyz/images/viscnn_images/590.jpg",
          "x": -0.02622887379066622,
          "xanchor": "center",
          "xref": "x",
          "y": 0.09911331823180226,
          "yanchor": "middle",
          "yref": "y"
         },
         {
          "sizex": 0.008,
          "sizey": 0.008,
          "source": "http://chrishamblin.xyz/images/viscnn_images/591.jpg",
          "x": 0.12970319265164298,
          "xanchor": "center",
          "xref": "x",
          "y": 0.008395759858054358,
          "yanchor": "middle",
          "yref": "y"
         },
         {
          "sizex": 0.008,
          "sizey": 0.008,
          "source": "http://chrishamblin.xyz/images/viscnn_images/592.jpg",
          "x": 0.14186780890529355,
          "xanchor": "center",
          "xref": "x",
          "y": 0.015756083505646196,
          "yanchor": "middle",
          "yref": "y"
         },
         {
          "sizex": 0.008,
          "sizey": 0.008,
          "source": "http://chrishamblin.xyz/images/viscnn_images/593.jpg",
          "x": -0.05734605256742164,
          "xanchor": "center",
          "xref": "x",
          "y": -0.12397031252591989,
          "yanchor": "middle",
          "yref": "y"
         },
         {
          "sizex": 0.008,
          "sizey": 0.008,
          "source": "http://chrishamblin.xyz/images/viscnn_images/594.jpg",
          "x": 0.0747938678480245,
          "xanchor": "center",
          "xref": "x",
          "y": -0.1108072895805824,
          "yanchor": "middle",
          "yref": "y"
         },
         {
          "sizex": 0.008,
          "sizey": 0.008,
          "source": "http://chrishamblin.xyz/images/viscnn_images/595.jpg",
          "x": 0.0007199672867781074,
          "xanchor": "center",
          "xref": "x",
          "y": 0.05397633215185272,
          "yanchor": "middle",
          "yref": "y"
         },
         {
          "sizex": 0.008,
          "sizey": 0.008,
          "source": "http://chrishamblin.xyz/images/viscnn_images/596.jpg",
          "x": 0.11152761247648095,
          "xanchor": "center",
          "xref": "x",
          "y": 0.05576531676932989,
          "yanchor": "middle",
          "yref": "y"
         },
         {
          "sizex": 0.008,
          "sizey": 0.008,
          "source": "http://chrishamblin.xyz/images/viscnn_images/597.jpg",
          "x": -0.09602405281661698,
          "xanchor": "center",
          "xref": "x",
          "y": 0.05243742443120736,
          "yanchor": "middle",
          "yref": "y"
         },
         {
          "sizex": 0.008,
          "sizey": 0.008,
          "source": "http://chrishamblin.xyz/images/viscnn_images/598.jpg",
          "x": 0.08736718378079969,
          "xanchor": "center",
          "xref": "x",
          "y": -0.02534107872426728,
          "yanchor": "middle",
          "yref": "y"
         },
         {
          "sizex": 0.008,
          "sizey": 0.008,
          "source": "http://chrishamblin.xyz/images/viscnn_images/599.jpg",
          "x": -0.09115103601550398,
          "xanchor": "center",
          "xref": "x",
          "y": 0.11132390842462891,
          "yanchor": "middle",
          "yref": "y"
         },
         {
          "sizex": 0.008,
          "sizey": 0.008,
          "source": "http://chrishamblin.xyz/images/viscnn_images/600.jpg",
          "x": 0.11194335145931525,
          "xanchor": "center",
          "xref": "x",
          "y": 0.07069922209817607,
          "yanchor": "middle",
          "yref": "y"
         },
         {
          "sizex": 0.008,
          "sizey": 0.008,
          "source": "http://chrishamblin.xyz/images/viscnn_images/601.jpg",
          "x": 0.1422238595187056,
          "xanchor": "center",
          "xref": "x",
          "y": 0.030791879820663618,
          "yanchor": "middle",
          "yref": "y"
         },
         {
          "sizex": 0.008,
          "sizey": 0.008,
          "source": "http://chrishamblin.xyz/images/viscnn_images/602.jpg",
          "x": -0.07909295178930274,
          "xanchor": "center",
          "xref": "x",
          "y": -0.08158621753332113,
          "yanchor": "middle",
          "yref": "y"
         },
         {
          "sizex": 0.008,
          "sizey": 0.008,
          "source": "http://chrishamblin.xyz/images/viscnn_images/603.jpg",
          "x": -0.011386993963409463,
          "xanchor": "center",
          "xref": "x",
          "y": -0.07284840291717917,
          "yanchor": "middle",
          "yref": "y"
         },
         {
          "sizex": 0.008,
          "sizey": 0.008,
          "source": "http://chrishamblin.xyz/images/viscnn_images/604.jpg",
          "x": -0.07504380334759042,
          "xanchor": "center",
          "xref": "x",
          "y": -0.005833686413557568,
          "yanchor": "middle",
          "yref": "y"
         },
         {
          "sizex": 0.008,
          "sizey": 0.008,
          "source": "http://chrishamblin.xyz/images/viscnn_images/605.jpg",
          "x": -0.08760417060253357,
          "xanchor": "center",
          "xref": "x",
          "y": -0.09502009110800264,
          "yanchor": "middle",
          "yref": "y"
         },
         {
          "sizex": 0.008,
          "sizey": 0.008,
          "source": "http://chrishamblin.xyz/images/viscnn_images/606.jpg",
          "x": -0.06719709190325036,
          "xanchor": "center",
          "xref": "x",
          "y": -0.027530479859250674,
          "yanchor": "middle",
          "yref": "y"
         },
         {
          "sizex": 0.008,
          "sizey": 0.008,
          "source": "http://chrishamblin.xyz/images/viscnn_images/607.jpg",
          "x": 0.06880747487933872,
          "xanchor": "center",
          "xref": "x",
          "y": -0.007209415580924291,
          "yanchor": "middle",
          "yref": "y"
         },
         {
          "sizex": 0.008,
          "sizey": 0.008,
          "source": "http://chrishamblin.xyz/images/viscnn_images/608.jpg",
          "x": 0.08826244153576626,
          "xanchor": "center",
          "xref": "x",
          "y": -0.046627860719359863,
          "yanchor": "middle",
          "yref": "y"
         },
         {
          "sizex": 0.008,
          "sizey": 0.008,
          "source": "http://chrishamblin.xyz/images/viscnn_images/609.jpg",
          "x": 0.1435853687560735,
          "xanchor": "center",
          "xref": "x",
          "y": 0.002301146386890381,
          "yanchor": "middle",
          "yref": "y"
         },
         {
          "sizex": 0.008,
          "sizey": 0.008,
          "source": "http://chrishamblin.xyz/images/viscnn_images/610.jpg",
          "x": 0.11465479114887954,
          "xanchor": "center",
          "xref": "x",
          "y": -0.0399546922909528,
          "yanchor": "middle",
          "yref": "y"
         },
         {
          "sizex": 0.008,
          "sizey": 0.008,
          "source": "http://chrishamblin.xyz/images/viscnn_images/611.jpg",
          "x": 0.04216037132391005,
          "xanchor": "center",
          "xref": "x",
          "y": 0.10645186003245942,
          "yanchor": "middle",
          "yref": "y"
         },
         {
          "sizex": 0.008,
          "sizey": 0.008,
          "source": "http://chrishamblin.xyz/images/viscnn_images/612.jpg",
          "x": -0.0021945654378984986,
          "xanchor": "center",
          "xref": "x",
          "y": -0.01784249551119092,
          "yanchor": "middle",
          "yref": "y"
         },
         {
          "sizex": 0.008,
          "sizey": 0.008,
          "source": "http://chrishamblin.xyz/images/viscnn_images/613.jpg",
          "x": -0.04095752378836425,
          "xanchor": "center",
          "xref": "x",
          "y": -0.11198755039527135,
          "yanchor": "middle",
          "yref": "y"
         },
         {
          "sizex": 0.008,
          "sizey": 0.008,
          "source": "http://chrishamblin.xyz/images/viscnn_images/614.jpg",
          "x": 0.06700073246964737,
          "xanchor": "center",
          "xref": "x",
          "y": 0.110412859897438,
          "yanchor": "middle",
          "yref": "y"
         },
         {
          "sizex": 0.008,
          "sizey": 0.008,
          "source": "http://chrishamblin.xyz/images/viscnn_images/615.jpg",
          "x": 0.049150310828733966,
          "xanchor": "center",
          "xref": "x",
          "y": -0.12344165088939499,
          "yanchor": "middle",
          "yref": "y"
         },
         {
          "sizex": 0.008,
          "sizey": 0.008,
          "source": "http://chrishamblin.xyz/images/viscnn_images/616.jpg",
          "x": 0.12107758930482151,
          "xanchor": "center",
          "xref": "x",
          "y": -0.07690892109384945,
          "yanchor": "middle",
          "yref": "y"
         },
         {
          "sizex": 0.008,
          "sizey": 0.008,
          "source": "http://chrishamblin.xyz/images/viscnn_images/617.jpg",
          "x": -0.07090031058695491,
          "xanchor": "center",
          "xref": "x",
          "y": -0.12709192518155724,
          "yanchor": "middle",
          "yref": "y"
         },
         {
          "sizex": 0.008,
          "sizey": 0.008,
          "source": "http://chrishamblin.xyz/images/viscnn_images/618.jpg",
          "x": 0.06875783089647454,
          "xanchor": "center",
          "xref": "x",
          "y": 0.0364406115368259,
          "yanchor": "middle",
          "yref": "y"
         },
         {
          "sizex": 0.008,
          "sizey": 0.008,
          "source": "http://chrishamblin.xyz/images/viscnn_images/619.jpg",
          "x": 0.017858875543274207,
          "xanchor": "center",
          "xref": "x",
          "y": 0.02405795814332752,
          "yanchor": "middle",
          "yref": "y"
         },
         {
          "sizex": 0.008,
          "sizey": 0.008,
          "source": "http://chrishamblin.xyz/images/viscnn_images/620.jpg",
          "x": 0.02807378649277848,
          "xanchor": "center",
          "xref": "x",
          "y": 0.047615367002938315,
          "yanchor": "middle",
          "yref": "y"
         },
         {
          "sizex": 0.008,
          "sizey": 0.008,
          "source": "http://chrishamblin.xyz/images/viscnn_images/621.jpg",
          "x": -0.1030155583876829,
          "xanchor": "center",
          "xref": "x",
          "y": 0.039477361208495466,
          "yanchor": "middle",
          "yref": "y"
         },
         {
          "sizex": 0.008,
          "sizey": 0.008,
          "source": "http://chrishamblin.xyz/images/viscnn_images/622.jpg",
          "x": 0.0005209403298719812,
          "xanchor": "center",
          "xref": "x",
          "y": 0.0901148562370673,
          "yanchor": "middle",
          "yref": "y"
         },
         {
          "sizex": 0.008,
          "sizey": 0.008,
          "source": "http://chrishamblin.xyz/images/viscnn_images/623.jpg",
          "x": 0.09076875540195661,
          "xanchor": "center",
          "xref": "x",
          "y": -0.08320701290754719,
          "yanchor": "middle",
          "yref": "y"
         },
         {
          "sizex": 0.008,
          "sizey": 0.008,
          "source": "http://chrishamblin.xyz/images/viscnn_images/624.jpg",
          "x": 0.0007871556471168885,
          "xanchor": "center",
          "xref": "x",
          "y": -0.03790831590693784,
          "yanchor": "middle",
          "yref": "y"
         },
         {
          "sizex": 0.008,
          "sizey": 0.008,
          "source": "http://chrishamblin.xyz/images/viscnn_images/625.jpg",
          "x": 0.03420712978130945,
          "xanchor": "center",
          "xref": "x",
          "y": 0.13020200436347337,
          "yanchor": "middle",
          "yref": "y"
         },
         {
          "sizex": 0.008,
          "sizey": 0.008,
          "source": "http://chrishamblin.xyz/images/viscnn_images/626.jpg",
          "x": -0.12391224857245865,
          "xanchor": "center",
          "xref": "x",
          "y": -0.04183016406864744,
          "yanchor": "middle",
          "yref": "y"
         },
         {
          "sizex": 0.008,
          "sizey": 0.008,
          "source": "http://chrishamblin.xyz/images/viscnn_images/627.jpg",
          "x": -0.08220613472778521,
          "xanchor": "center",
          "xref": "x",
          "y": 0.020190284931467295,
          "yanchor": "middle",
          "yref": "y"
         },
         {
          "sizex": 0.008,
          "sizey": 0.008,
          "source": "http://chrishamblin.xyz/images/viscnn_images/628.jpg",
          "x": -0.10794464224723908,
          "xanchor": "center",
          "xref": "x",
          "y": -0.0778126092729979,
          "yanchor": "middle",
          "yref": "y"
         },
         {
          "sizex": 0.008,
          "sizey": 0.008,
          "source": "http://chrishamblin.xyz/images/viscnn_images/629.jpg",
          "x": -0.08795719556675334,
          "xanchor": "center",
          "xref": "x",
          "y": -0.047336445533533694,
          "yanchor": "middle",
          "yref": "y"
         },
         {
          "sizex": 0.008,
          "sizey": 0.008,
          "source": "http://chrishamblin.xyz/images/viscnn_images/630.jpg",
          "x": -0.038507299833049916,
          "xanchor": "center",
          "xref": "x",
          "y": 0.05096567041486508,
          "yanchor": "middle",
          "yref": "y"
         },
         {
          "sizex": 0.008,
          "sizey": 0.008,
          "source": "http://chrishamblin.xyz/images/viscnn_images/631.jpg",
          "x": 0.01479886912900671,
          "xanchor": "center",
          "xref": "x",
          "y": -0.06520602265386756,
          "yanchor": "middle",
          "yref": "y"
         },
         {
          "sizex": 0.008,
          "sizey": 0.008,
          "source": "http://chrishamblin.xyz/images/viscnn_images/632.jpg",
          "x": 0.08083276735284094,
          "xanchor": "center",
          "xref": "x",
          "y": 0.0009813025153341585,
          "yanchor": "middle",
          "yref": "y"
         },
         {
          "sizex": 0.008,
          "sizey": 0.008,
          "source": "http://chrishamblin.xyz/images/viscnn_images/633.jpg",
          "x": -0.08928815397409663,
          "xanchor": "center",
          "xref": "x",
          "y": 0.09575227910388326,
          "yanchor": "middle",
          "yref": "y"
         },
         {
          "sizex": 0.008,
          "sizey": 0.008,
          "source": "http://chrishamblin.xyz/images/viscnn_images/634.jpg",
          "x": 0.0037308403889026857,
          "xanchor": "center",
          "xref": "x",
          "y": 0.06577069480217036,
          "yanchor": "middle",
          "yref": "y"
         },
         {
          "sizex": 0.008,
          "sizey": 0.008,
          "source": "http://chrishamblin.xyz/images/viscnn_images/635.jpg",
          "x": 0.017436504442210735,
          "xanchor": "center",
          "xref": "x",
          "y": 0.010770898235359086,
          "yanchor": "middle",
          "yref": "y"
         },
         {
          "sizex": 0.008,
          "sizey": 0.008,
          "source": "http://chrishamblin.xyz/images/viscnn_images/636.jpg",
          "x": -0.05099955555135756,
          "xanchor": "center",
          "xref": "x",
          "y": -0.04666669590870387,
          "yanchor": "middle",
          "yref": "y"
         },
         {
          "sizex": 0.008,
          "sizey": 0.008,
          "source": "http://chrishamblin.xyz/images/viscnn_images/637.jpg",
          "x": -0.0713280460457573,
          "xanchor": "center",
          "xref": "x",
          "y": 0.043387247136845025,
          "yanchor": "middle",
          "yref": "y"
         },
         {
          "sizex": 0.008,
          "sizey": 0.008,
          "source": "http://chrishamblin.xyz/images/viscnn_images/638.jpg",
          "x": 0.01826411612695971,
          "xanchor": "center",
          "xref": "x",
          "y": 0.0867032329144741,
          "yanchor": "middle",
          "yref": "y"
         },
         {
          "sizex": 0.008,
          "sizey": 0.008,
          "source": "http://chrishamblin.xyz/images/viscnn_images/639.jpg",
          "x": 0.0012894380953082146,
          "xanchor": "center",
          "xref": "x",
          "y": 0.13472629871010539,
          "yanchor": "middle",
          "yref": "y"
         }
        ],
        "template": {
         "data": {
          "bar": [
           {
            "error_x": {
             "color": "#2a3f5f"
            },
            "error_y": {
             "color": "#2a3f5f"
            },
            "marker": {
             "line": {
              "color": "#E5ECF6",
              "width": 0.5
             }
            },
            "type": "bar"
           }
          ],
          "barpolar": [
           {
            "marker": {
             "line": {
              "color": "#E5ECF6",
              "width": 0.5
             }
            },
            "type": "barpolar"
           }
          ],
          "carpet": [
           {
            "aaxis": {
             "endlinecolor": "#2a3f5f",
             "gridcolor": "white",
             "linecolor": "white",
             "minorgridcolor": "white",
             "startlinecolor": "#2a3f5f"
            },
            "baxis": {
             "endlinecolor": "#2a3f5f",
             "gridcolor": "white",
             "linecolor": "white",
             "minorgridcolor": "white",
             "startlinecolor": "#2a3f5f"
            },
            "type": "carpet"
           }
          ],
          "choropleth": [
           {
            "colorbar": {
             "outlinewidth": 0,
             "ticks": ""
            },
            "type": "choropleth"
           }
          ],
          "contour": [
           {
            "colorbar": {
             "outlinewidth": 0,
             "ticks": ""
            },
            "colorscale": [
             [
              0,
              "#0d0887"
             ],
             [
              0.1111111111111111,
              "#46039f"
             ],
             [
              0.2222222222222222,
              "#7201a8"
             ],
             [
              0.3333333333333333,
              "#9c179e"
             ],
             [
              0.4444444444444444,
              "#bd3786"
             ],
             [
              0.5555555555555556,
              "#d8576b"
             ],
             [
              0.6666666666666666,
              "#ed7953"
             ],
             [
              0.7777777777777778,
              "#fb9f3a"
             ],
             [
              0.8888888888888888,
              "#fdca26"
             ],
             [
              1,
              "#f0f921"
             ]
            ],
            "type": "contour"
           }
          ],
          "contourcarpet": [
           {
            "colorbar": {
             "outlinewidth": 0,
             "ticks": ""
            },
            "type": "contourcarpet"
           }
          ],
          "heatmap": [
           {
            "colorbar": {
             "outlinewidth": 0,
             "ticks": ""
            },
            "colorscale": [
             [
              0,
              "#0d0887"
             ],
             [
              0.1111111111111111,
              "#46039f"
             ],
             [
              0.2222222222222222,
              "#7201a8"
             ],
             [
              0.3333333333333333,
              "#9c179e"
             ],
             [
              0.4444444444444444,
              "#bd3786"
             ],
             [
              0.5555555555555556,
              "#d8576b"
             ],
             [
              0.6666666666666666,
              "#ed7953"
             ],
             [
              0.7777777777777778,
              "#fb9f3a"
             ],
             [
              0.8888888888888888,
              "#fdca26"
             ],
             [
              1,
              "#f0f921"
             ]
            ],
            "type": "heatmap"
           }
          ],
          "heatmapgl": [
           {
            "colorbar": {
             "outlinewidth": 0,
             "ticks": ""
            },
            "colorscale": [
             [
              0,
              "#0d0887"
             ],
             [
              0.1111111111111111,
              "#46039f"
             ],
             [
              0.2222222222222222,
              "#7201a8"
             ],
             [
              0.3333333333333333,
              "#9c179e"
             ],
             [
              0.4444444444444444,
              "#bd3786"
             ],
             [
              0.5555555555555556,
              "#d8576b"
             ],
             [
              0.6666666666666666,
              "#ed7953"
             ],
             [
              0.7777777777777778,
              "#fb9f3a"
             ],
             [
              0.8888888888888888,
              "#fdca26"
             ],
             [
              1,
              "#f0f921"
             ]
            ],
            "type": "heatmapgl"
           }
          ],
          "histogram": [
           {
            "marker": {
             "colorbar": {
              "outlinewidth": 0,
              "ticks": ""
             }
            },
            "type": "histogram"
           }
          ],
          "histogram2d": [
           {
            "colorbar": {
             "outlinewidth": 0,
             "ticks": ""
            },
            "colorscale": [
             [
              0,
              "#0d0887"
             ],
             [
              0.1111111111111111,
              "#46039f"
             ],
             [
              0.2222222222222222,
              "#7201a8"
             ],
             [
              0.3333333333333333,
              "#9c179e"
             ],
             [
              0.4444444444444444,
              "#bd3786"
             ],
             [
              0.5555555555555556,
              "#d8576b"
             ],
             [
              0.6666666666666666,
              "#ed7953"
             ],
             [
              0.7777777777777778,
              "#fb9f3a"
             ],
             [
              0.8888888888888888,
              "#fdca26"
             ],
             [
              1,
              "#f0f921"
             ]
            ],
            "type": "histogram2d"
           }
          ],
          "histogram2dcontour": [
           {
            "colorbar": {
             "outlinewidth": 0,
             "ticks": ""
            },
            "colorscale": [
             [
              0,
              "#0d0887"
             ],
             [
              0.1111111111111111,
              "#46039f"
             ],
             [
              0.2222222222222222,
              "#7201a8"
             ],
             [
              0.3333333333333333,
              "#9c179e"
             ],
             [
              0.4444444444444444,
              "#bd3786"
             ],
             [
              0.5555555555555556,
              "#d8576b"
             ],
             [
              0.6666666666666666,
              "#ed7953"
             ],
             [
              0.7777777777777778,
              "#fb9f3a"
             ],
             [
              0.8888888888888888,
              "#fdca26"
             ],
             [
              1,
              "#f0f921"
             ]
            ],
            "type": "histogram2dcontour"
           }
          ],
          "mesh3d": [
           {
            "colorbar": {
             "outlinewidth": 0,
             "ticks": ""
            },
            "type": "mesh3d"
           }
          ],
          "parcoords": [
           {
            "line": {
             "colorbar": {
              "outlinewidth": 0,
              "ticks": ""
             }
            },
            "type": "parcoords"
           }
          ],
          "pie": [
           {
            "automargin": true,
            "type": "pie"
           }
          ],
          "scatter": [
           {
            "marker": {
             "colorbar": {
              "outlinewidth": 0,
              "ticks": ""
             }
            },
            "type": "scatter"
           }
          ],
          "scatter3d": [
           {
            "line": {
             "colorbar": {
              "outlinewidth": 0,
              "ticks": ""
             }
            },
            "marker": {
             "colorbar": {
              "outlinewidth": 0,
              "ticks": ""
             }
            },
            "type": "scatter3d"
           }
          ],
          "scattercarpet": [
           {
            "marker": {
             "colorbar": {
              "outlinewidth": 0,
              "ticks": ""
             }
            },
            "type": "scattercarpet"
           }
          ],
          "scattergeo": [
           {
            "marker": {
             "colorbar": {
              "outlinewidth": 0,
              "ticks": ""
             }
            },
            "type": "scattergeo"
           }
          ],
          "scattergl": [
           {
            "marker": {
             "colorbar": {
              "outlinewidth": 0,
              "ticks": ""
             }
            },
            "type": "scattergl"
           }
          ],
          "scattermapbox": [
           {
            "marker": {
             "colorbar": {
              "outlinewidth": 0,
              "ticks": ""
             }
            },
            "type": "scattermapbox"
           }
          ],
          "scatterpolar": [
           {
            "marker": {
             "colorbar": {
              "outlinewidth": 0,
              "ticks": ""
             }
            },
            "type": "scatterpolar"
           }
          ],
          "scatterpolargl": [
           {
            "marker": {
             "colorbar": {
              "outlinewidth": 0,
              "ticks": ""
             }
            },
            "type": "scatterpolargl"
           }
          ],
          "scatterternary": [
           {
            "marker": {
             "colorbar": {
              "outlinewidth": 0,
              "ticks": ""
             }
            },
            "type": "scatterternary"
           }
          ],
          "surface": [
           {
            "colorbar": {
             "outlinewidth": 0,
             "ticks": ""
            },
            "colorscale": [
             [
              0,
              "#0d0887"
             ],
             [
              0.1111111111111111,
              "#46039f"
             ],
             [
              0.2222222222222222,
              "#7201a8"
             ],
             [
              0.3333333333333333,
              "#9c179e"
             ],
             [
              0.4444444444444444,
              "#bd3786"
             ],
             [
              0.5555555555555556,
              "#d8576b"
             ],
             [
              0.6666666666666666,
              "#ed7953"
             ],
             [
              0.7777777777777778,
              "#fb9f3a"
             ],
             [
              0.8888888888888888,
              "#fdca26"
             ],
             [
              1,
              "#f0f921"
             ]
            ],
            "type": "surface"
           }
          ],
          "table": [
           {
            "cells": {
             "fill": {
              "color": "#EBF0F8"
             },
             "line": {
              "color": "white"
             }
            },
            "header": {
             "fill": {
              "color": "#C8D4E3"
             },
             "line": {
              "color": "white"
             }
            },
            "type": "table"
           }
          ]
         },
         "layout": {
          "annotationdefaults": {
           "arrowcolor": "#2a3f5f",
           "arrowhead": 0,
           "arrowwidth": 1
          },
          "autotypenumbers": "strict",
          "coloraxis": {
           "colorbar": {
            "outlinewidth": 0,
            "ticks": ""
           }
          },
          "colorscale": {
           "diverging": [
            [
             0,
             "#8e0152"
            ],
            [
             0.1,
             "#c51b7d"
            ],
            [
             0.2,
             "#de77ae"
            ],
            [
             0.3,
             "#f1b6da"
            ],
            [
             0.4,
             "#fde0ef"
            ],
            [
             0.5,
             "#f7f7f7"
            ],
            [
             0.6,
             "#e6f5d0"
            ],
            [
             0.7,
             "#b8e186"
            ],
            [
             0.8,
             "#7fbc41"
            ],
            [
             0.9,
             "#4d9221"
            ],
            [
             1,
             "#276419"
            ]
           ],
           "sequential": [
            [
             0,
             "#0d0887"
            ],
            [
             0.1111111111111111,
             "#46039f"
            ],
            [
             0.2222222222222222,
             "#7201a8"
            ],
            [
             0.3333333333333333,
             "#9c179e"
            ],
            [
             0.4444444444444444,
             "#bd3786"
            ],
            [
             0.5555555555555556,
             "#d8576b"
            ],
            [
             0.6666666666666666,
             "#ed7953"
            ],
            [
             0.7777777777777778,
             "#fb9f3a"
            ],
            [
             0.8888888888888888,
             "#fdca26"
            ],
            [
             1,
             "#f0f921"
            ]
           ],
           "sequentialminus": [
            [
             0,
             "#0d0887"
            ],
            [
             0.1111111111111111,
             "#46039f"
            ],
            [
             0.2222222222222222,
             "#7201a8"
            ],
            [
             0.3333333333333333,
             "#9c179e"
            ],
            [
             0.4444444444444444,
             "#bd3786"
            ],
            [
             0.5555555555555556,
             "#d8576b"
            ],
            [
             0.6666666666666666,
             "#ed7953"
            ],
            [
             0.7777777777777778,
             "#fb9f3a"
            ],
            [
             0.8888888888888888,
             "#fdca26"
            ],
            [
             1,
             "#f0f921"
            ]
           ]
          },
          "colorway": [
           "#636efa",
           "#EF553B",
           "#00cc96",
           "#ab63fa",
           "#FFA15A",
           "#19d3f3",
           "#FF6692",
           "#B6E880",
           "#FF97FF",
           "#FECB52"
          ],
          "font": {
           "color": "#2a3f5f"
          },
          "geo": {
           "bgcolor": "white",
           "lakecolor": "white",
           "landcolor": "#E5ECF6",
           "showlakes": true,
           "showland": true,
           "subunitcolor": "white"
          },
          "hoverlabel": {
           "align": "left"
          },
          "hovermode": "closest",
          "mapbox": {
           "style": "light"
          },
          "paper_bgcolor": "white",
          "plot_bgcolor": "#E5ECF6",
          "polar": {
           "angularaxis": {
            "gridcolor": "white",
            "linecolor": "white",
            "ticks": ""
           },
           "bgcolor": "#E5ECF6",
           "radialaxis": {
            "gridcolor": "white",
            "linecolor": "white",
            "ticks": ""
           }
          },
          "scene": {
           "xaxis": {
            "backgroundcolor": "#E5ECF6",
            "gridcolor": "white",
            "gridwidth": 2,
            "linecolor": "white",
            "showbackground": true,
            "ticks": "",
            "zerolinecolor": "white"
           },
           "yaxis": {
            "backgroundcolor": "#E5ECF6",
            "gridcolor": "white",
            "gridwidth": 2,
            "linecolor": "white",
            "showbackground": true,
            "ticks": "",
            "zerolinecolor": "white"
           },
           "zaxis": {
            "backgroundcolor": "#E5ECF6",
            "gridcolor": "white",
            "gridwidth": 2,
            "linecolor": "white",
            "showbackground": true,
            "ticks": "",
            "zerolinecolor": "white"
           }
          },
          "shapedefaults": {
           "line": {
            "color": "#2a3f5f"
           }
          },
          "ternary": {
           "aaxis": {
            "gridcolor": "white",
            "linecolor": "white",
            "ticks": ""
           },
           "baxis": {
            "gridcolor": "white",
            "linecolor": "white",
            "ticks": ""
           },
           "bgcolor": "#E5ECF6",
           "caxis": {
            "gridcolor": "white",
            "linecolor": "white",
            "ticks": ""
           }
          },
          "title": {
           "x": 0.05
          },
          "xaxis": {
           "automargin": true,
           "gridcolor": "white",
           "linecolor": "white",
           "ticks": "",
           "title": {
            "standoff": 15
           },
           "zerolinecolor": "white",
           "zerolinewidth": 2
          },
          "yaxis": {
           "automargin": true,
           "gridcolor": "white",
           "linecolor": "white",
           "ticks": "",
           "title": {
            "standoff": 15
           },
           "zerolinecolor": "white",
           "zerolinewidth": 2
          }
         }
        },
        "width": 1000
       }
      },
      "text/html": [
       "<div>                            <div id=\"a013f4db-29e8-4e78-a314-c4ed128f6b4e\" class=\"plotly-graph-div\" style=\"height:1000px; width:1000px;\"></div>            <script type=\"text/javascript\">                require([\"plotly\"], function(Plotly) {                    window.PLOTLYENV=window.PLOTLYENV || {};                                    if (document.getElementById(\"a013f4db-29e8-4e78-a314-c4ed128f6b4e\")) {                    Plotly.newPlot(                        \"a013f4db-29e8-4e78-a314-c4ed128f6b4e\",                        [{\"marker\": {\"opacity\": 0.99, \"size\": 5, \"symbol\": \"circle\"}, \"mode\": \"markers\", \"type\": \"scatter\", \"x\": [-0.023565856487747075, 0.013035531826479407, -0.05589245988187023, 0.14195897606707147, -0.055959891403627345, -0.12322071532642145, 0.03176681023751189, -0.1375252104304063, -0.13499632421165478, -0.09555466829164458, -0.03661561332498904, -0.04059292928475551, -0.011775828761425694, 0.09581607972493073, -0.029862753495127344, 0.09434711243887943, -0.06811980306727407, -0.031414027999018775, 0.06122048345392553, 0.01742261723835081, 0.09250633825799784, -0.09561841878915638, -0.07310464759721433, 0.04317723255599291, 0.01343101645352951, 0.020442482074098364, 0.11986016860606954, 0.000995656442513609, 0.027459234257491017, -0.038658051028287434, -0.0421739129076291, 0.11772489689218935, -0.09242267381460118, -0.06300577066763176, -0.015999289288443425, -0.062396503566775466, -0.08962625749185658, 0.0978184612643938, 0.03280954289081985, -0.015251642671579012, -0.11394605615634401, -0.022759586779316606, -0.058219536828277636, -0.026344676719915115, -0.11528199774589504, 0.014366710977068235, 0.00908245614048367, 0.07492781466301046, 0.05447316005743438, 0.04441259232577236, -0.08138728521244878, -0.10888544416940088, -0.13674989372231827, 0.0808611966683477, -0.06523499734815004, -0.10873068289018735, 0.10415515459609205, 0.10253521135639665, -0.057440157746558994, 0.13334104434308208, -0.044695847428861006, -0.13493921639456788, 0.05748755709847323, -0.055351459068964645, -0.0065114116880823384, 0.017086121586411665, -0.0073391115730947155, -0.015820071873595958, 0.08459293619040721, 0.054906027142325425, 0.06818658031519738, 0.05587658068541436, 0.07546743344601872, -0.058335319632200205, -0.017884149985155817, 0.02662337922875183, -0.05135404242099141, -0.025170208413999872, 0.03131961966045354, 0.07574141486144668, 0.13108003312770833, -0.002585134799784118, -0.045836339853792436, 0.078162318770801, -0.02612453969498962, 0.10034601490900948, -0.02181470102167738, -0.029702463772107727, -0.14344988285339394, 0.13354950489050324, 0.10637226019744611, 0.08185446215562063, -0.011930088263030518, -0.12006412786881504, 0.049080092068261645, 0.11520381059946902, 0.10335939259290844, 0.07210354248344615, 0.00216291251653454, -0.09685316580125278, -0.07008311927748459, 0.12781534783178677, 0.004550131088118406, -0.11927699910476118, -0.04317663080461362, 0.03384130542252149, -0.031405092375389625, -0.0098192133311156, -0.1010217944034014, 0.03657452505254766, -0.10654283067468467, -0.016072189421701046, 0.053503336941466494, -0.0954657411292869, -0.04058475749225477, 0.012097076108882325, 0.004675167017308022, -0.02220115400234777, -0.015160401720150513, -0.08281824175608277, -0.11343290263250516, -0.10481031561280522, 0.02514977107992799, -0.08968738083593819, 0.0448005695369531, -0.12479250122756794, -0.03822752330271201, -0.07765944045110587, 0.012923957833125384, 0.010078552828246998, 0.06297043923855891, 0.060712024769407985, -0.08141100287456919, 0.05522213881769292, 0.09908298557074308, 0.11593647694337299, -0.05177865736431401, -0.09392271853265556, 0.10530450355784489, -0.00257893641263206, 0.03690349349495326, 0.030412712492127365, 0.045032099084120945, -0.14017769908590236, 0.08248297065934462, 0.036150865658456745, -0.0795868438064245, 0.026424639060010146, 0.0634359027389575, 0.12515626813738845, -0.13561546957018006, 0.007775776150768229, 0.09637233987696121, -0.05132700855276318, 0.11736140307667159, 0.08907743056420699, 0.09589497398632431, -0.052335052906429785, -0.012789693737775701, 0.055307679346674896, -0.12232758407997801, -0.03082424722117216, 0.021960760397516845, -0.06388959754506522, -0.11512925730536312, -0.09022349368786414, 0.025785871799466842, -0.04286856878133945, -0.10153570030859432, -0.02713181036456019, 0.08595690538289893, 0.07367543592966927, 0.09371149800190928, -0.0610649885918127, 0.12634916730784485, -0.10058902333552627, -0.06548388183730287, 0.004383744246850063, 0.07097890507743329, 0.12085652498487641, -0.043713497080177306, 0.13457017967571355, 0.09149618506389656, 0.08389534380990132, 0.10424334347284481, 0.05123713680757151, 0.03647108547923384, -0.006500204395000626, -0.07551436969992585, -0.13341803055805734, -0.08793323310889965, 0.09683987702341043, 0.06904593002654348, 0.058778012142638336, 0.002581833504145422, 0.0648496367823415, -0.06436100790038009, -0.03776481790012122, -0.1200490471699328, -0.09812252684202497, -0.11065242401800819, -0.013607043733688992, 0.03957092322720139, -0.023227069714088174, 0.07935851693091, -0.006540890739034246, 0.13077583721600777, 0.04018952956999164, -0.029282810571949442, 0.0692730490540423, 0.056100356789018924, 0.028272829983606283, -0.010248447191580462, -0.1449337314228615, 0.07922570472064043, 0.0008845196552750409, 0.07336137966963704, 0.10243070789146015, -0.054584269543015686, -0.11681327755136471, 0.019562070460643604, 0.0275153982786026, 0.004972736968601167, -0.07916017988748678, -0.06807022162787218, 0.08317351290600719, -0.010943278170836358, -0.02669270922033266, 0.02925072111174554, 0.03713663534644324, -0.03966265437307743, -0.04611851509381566, 0.06283723238736312, -0.12978828040471396, 0.0532348089312203, -0.019180986834230068, -0.0679164593453741, -0.031934155404240834, 0.06527443987150668, -0.13191584098147865, 0.04244808392386321, -0.011695718222379048, -0.036898498487078345, -0.04409810454298712, -0.14419465747713694, 0.10655225279297154, 0.12405231708811079, 0.08842861307213568, 0.05040791284216752, 0.024726661069034123, -0.039820289280946136, -0.024069050853767718, -0.018310487736788086, -0.12510868545541382, 0.040626268158640434, 0.13357279632696312, 0.07783295473637056, 0.11276030646756877, 0.042914718187966855, -0.07751292349826236, -0.016797765028699313, -0.0003900846376370237, -0.027941805230457924, 0.05541267155764541, -0.06406112044187354, 0.11086164455513542, -0.12661682994128443, 0.018576827029591434, -0.06830154086789052, 0.14425959241667324, 0.04118749346838492, -0.10459960888388527, 0.06005786161666109, -0.07524470042800026, 0.027013970015859874, -0.06735476440922367, 0.01502535761099273, -0.057749236431143755, -0.07915646539035676, -0.04502620678988332, 0.04950868141912603, -0.08390551666976973, 0.023447115875960576, 0.012385349610288324, 0.04474005926540026, 0.02996695417369742, -0.0782923387165558, -0.0038203665459127264, 0.0665340705429619, 0.13310206444486633, 0.07691904529220957, -0.0015727204048237781, -0.10849084149059769, -0.12378802101089831, -0.06167247643968423, 0.01855851087665761, 0.061296568126235344, -0.009825709297524831, 0.11657221803369, 0.10409725232445602, -0.0939009777888231, 0.1137148037031691, -0.0305088750465773, -0.0527465433615751, 0.008044003949461585, 0.011548955898872143, 0.10011322354871717, 0.05265212650056582, -0.018414334656887417, 0.06786904600150824, 0.013374852020106891, -0.04790609330271534, -0.10287528765156265, 0.09018130073204395, 0.0882257444862983, -0.10689693772861215, -0.028862000387548253, 0.0040658662509726945, 0.043076163547771044, -0.07858268493945682, 0.02630833300322212, 0.03584222893517374, -0.045670864647089714, 0.04835838876498154, -0.0035355037417975728, 0.11785821151721815, -0.1192702810038278, -0.05185866559512233, 0.04746258893227116, -0.1098578345902531, -0.0347405024444097, -0.09046934751953009, -0.05108687873451079, -0.07695938998063671, -0.02622887379066622, 0.12970319265164298, 0.14186780890529355, -0.05734605256742164, 0.0747938678480245, 0.0007199672867781074, 0.11152761247648095, -0.09602405281661698, 0.08736718378079969, -0.09115103601550398, 0.11194335145931525, 0.1422238595187056, -0.07909295178930274, -0.011386993963409463, -0.07504380334759042, -0.08760417060253357, -0.06719709190325036, 0.06880747487933872, 0.08826244153576626, 0.1435853687560735, 0.11465479114887954, 0.04216037132391005, -0.0021945654378984986, -0.04095752378836425, 0.06700073246964737, 0.049150310828733966, 0.12107758930482151, -0.07090031058695491, 0.06875783089647454, 0.017858875543274207, 0.02807378649277848, -0.1030155583876829, 0.0005209403298719812, 0.09076875540195661, 0.0007871556471168885, 0.03420712978130945, -0.12391224857245865, -0.08220613472778521, -0.10794464224723908, -0.08795719556675334, -0.038507299833049916, 0.01479886912900671, 0.08083276735284094, -0.08928815397409663, 0.0037308403889026857, 0.017436504442210735, -0.05099955555135756, -0.0713280460457573, 0.01826411612695971, 0.0012894380953082146], \"y\": [-0.025015003617468796, -0.014002970051923677, 0.10038884936598706, -0.03099836276955048, 0.11594152446210415, 0.014360423771408799, 0.021310088573575473, -0.044580531905219774, 0.005684528250996246, 0.02606974686522987, 0.1398284173765618, -0.0776009181230357, 0.13711661603225042, 0.054048623968772413, 0.1287077467620477, -0.0355166649132568, -0.11457232410644974, 8.22711922030225e-05, 0.07135530287907152, 0.14203614308349824, 0.007096392485276213, 0.012309698739939074, -0.09296920681978775, -0.02499207835798521, 0.04772145629919049, -0.1432120346678884, 0.022232580067902942, -0.10604242445493421, -0.05914814755846098, 0.015408634226974523, 0.06453372527192301, -0.013781289310662298, 0.08266790863482655, -0.013208357347369732, 0.03341164114842488, -0.054603122222602885, 0.039489512901479853, 0.030358670361080784, 0.14184272862772837, 7.995964192926246e-05, 0.045072225911677886, -0.0782786173504575, -0.1076534580920055, -0.037837906640977546, -0.08779839582687617, 0.11172306298556305, -0.027071003290674578, 0.06916997921064881, 0.058307331084220336, 0.01901823760222, -0.03347205771015909, -0.029203164649408985, 0.022802204201150415, 0.030596852483211406, 0.02799215928364391, 0.09191892796794837, 0.01826761147042416, 0.08118189652187578, -0.06598546498837563, -0.019640428482691687, -0.06596578716768288, 0.0503976887110838, -0.05448514642896011, 0.012687482042225641, 0.12163526062535322, 0.0734985844563211, 0.10023240723528848, 0.04809410529005945, 0.11762908488975934, 0.012865035379674785, 0.05642402317692639, -0.0010754592586527036, -0.12351550929357903, 0.04101023793639687, -0.05948867404611566, -0.004913589026856822, -0.018408038842802305, 0.023943051465191927, 0.007882970568132055, 0.01712314547797156, -0.005694418813034946, 0.00709694611834901, 0.004154792109919412, -0.08850159369871623, 0.056030831438951385, -0.0922062335279583, 0.14300078413734377, -0.06667449295272125, -0.021822950143726663, 0.04086084259436682, 0.09672383381527584, 0.0918260761927219, 0.062109724567270146, 0.05618473137754009, 0.07958071329443146, 0.010476772203229463, 0.0006201508136933362, 0.12262470373740499, 0.1460642139775514, -0.03707013634269907, -0.07310657850489255, -0.03283063982599907, -0.14456088232423522, -0.05413584205009118, 0.12558401656306895, 0.08138021168332138, -0.08842204380705655, 0.0752100737712562, 0.10151775856407717, -0.10260836487222014, 0.060250126292981834, -0.012808053836268133, -0.08084721338786165, 0.06813454032629922, -0.054124053609951005, 0.09822832785539867, -0.07605565288061027, -0.11081372459136357, 0.0896833395627992, 0.06394547729408505, 0.0027403828569164566, 0.07853340391600633, -0.10650585132614732, -0.012850268602732683, 0.09242574541460787, -0.07363272864013536, -0.024277287901910874, -0.019744733983053396, -0.000683576450573091, 0.03518019175339707, -0.018729751572975344, -0.11239991358589552, 0.05174624493217069, 0.10206557716475574, 0.06659803889104512, 0.08563517947011326, 0.025512388919444583, -0.02445569934050357, 0.04368363082648314, 0.028544291690738972, -0.13899140938933335, 0.09385273785837878, 0.0675808135066237, 0.035338087102180865, 0.10540584409983696, 0.05734243886129975, 0.1210402314840257, -0.04696215141925809, 0.023813931148109473, 0.07309444931816553, -0.03151389493403111, 0.1239596175699279, 0.10633430359531282, -0.1361112029761957, -0.02579184877547395, 0.019267474070958624, -0.07037204706150633, 0.05496943596184829, -0.14355832047998088, 0.11792945020577285, -0.028274110687473427, 0.11255234023647191, -0.11956419420602171, -0.04019823317645311, -0.06553502942736689, 9.178736360968852e-05, 0.03521269676701085, 0.09914560265261119, -0.06581694204837168, 0.06834368308047666, -0.09958499429120919, -0.02908201094362439, 0.09041819354383401, -0.09246140675987723, -0.06525989480755867, -0.052884302427321554, 0.055875494476199716, -0.09333558579931142, -0.05653859516794174, 0.043586653619619796, 0.11234053826096854, 0.053756091968265515, -0.00892375467411113, 0.05987432786886363, -0.028000925182996808, -0.04202577542401454, -0.11999324329487661, -0.05167328234457978, -0.06126742750783745, -0.0138840777977518, -0.06259681879498898, -0.05767530106780506, -0.09929052886813657, 0.044974311542847215, -0.12249295305552467, -0.04054937508484589, 0.12860014415822638, 0.028931134211561366, -0.014969294527981547, -0.08724014983500696, 0.02837967848850205, -0.041309981979329474, 0.03426882948465543, 0.08006160768714828, -0.0153618330809291, -0.08594539849624432, 0.025920123792413086, -0.07755437829122787, -0.12194695289496278, 0.09736152746753599, -0.02921463605568673, 0.11776506684284317, -0.11843182277999165, 0.012998843362951314, -0.07447653543760094, 0.1098379978165437, 0.08186674721349341, -0.01500003851524201, 0.07100658064905008, 0.07031234998118414, 0.1289663809996577, -0.13112682683969823, 0.01763504001776396, 0.07632646325467635, 0.1147711221777353, -0.06174980759389078, -0.10303081219148788, -0.14169273471762128, -0.08664552119257644, -0.03595239795415745, 0.0772863788075314, -0.08897799902774363, -0.12741788834129442, 0.06497811451239716, -0.06686424402847951, 0.12337433757465642, 0.06822746204640483, -0.10172178045184846, -0.0849908678229957, -0.058596740745250266, 0.0017524210396184538, 0.01745965392415593, -0.1353544109945451, -0.12377262664902298, -0.005030135065374984, -0.07833897073328368, 0.05999647750451635, -0.11359555750032352, -0.1357471526952618, -0.021092183115539807, -0.03807947803709569, 0.010550698132162067, -0.12958409438298454, -0.0021428033928896453, -0.06351100698079991, -0.054841892188422336, 0.0468286739201317, 0.03257428397690051, 0.12006601922937708, 0.08909390055034855, 0.10952229835712976, -0.005315842493216245, -0.05087012659060421, -0.09731696343159814, 0.08263272817269993, -0.06465998255102509, 0.04039515968386848, -0.09593952023435866, 0.014271756070946653, -0.012444008566380341, -0.05012303524405046, -0.09903738776966643, 0.08718533790850766, -0.04694575690145393, 0.10529447462922321, 0.09751613371697566, -0.08294501282311047, -0.07958113623140638, 0.00706090476906328, -0.007968477722746706, -0.012334978315025181, -0.11707539083237047, -0.03331159836679305, -0.1318871652849575, 0.04684734917987759, 0.0692770505105615, 0.10568057039081705, -0.13418995996234329, -0.06996130758447855, -0.04347563403154567, -0.04343853047104899, -0.06424235290955556, 0.015276704095125606, 0.027843127068117302, 5.956471588729355e-05, 0.05975320839059803, 0.13041999100548085, -0.028006294355383463, -0.00201473321195845, -0.04732317909744431, -0.107722707706013, -0.08999518590792839, -0.012660808765619208, -0.03129301144561825, -0.05394443523134859, -0.11186769840632456, -0.10452922533822173, 0.03195283738874502, -0.09292357286537213, 0.007049111771140122, -0.042695984496634046, -0.10109035336422699, -0.0035580908979131053, 0.04147891176957656, 0.07544160619629554, -0.01574311394571588, 0.0402180728548784, 0.0786801648158631, -0.09158821674578344, 0.03227870745922695, -0.07277646417461416, -0.013760152907781731, 0.03951820905438386, 0.13477947274582758, 0.04210160414515848, -0.053045588428487715, 0.08257876224589332, 0.13456917199008975, -0.10968293248282095, -0.043601782909568496, 0.08915280483811752, -0.07596796550826591, 0.08586859062513791, -0.10515256211534241, 0.09911331823180226, 0.008395759858054358, 0.015756083505646196, -0.12397031252591989, -0.1108072895805824, 0.05397633215185272, 0.05576531676932989, 0.05243742443120736, -0.02534107872426728, 0.11132390842462891, 0.07069922209817607, 0.030791879820663618, -0.08158621753332113, -0.07284840291717917, -0.005833686413557568, -0.09502009110800264, -0.027530479859250674, -0.007209415580924291, -0.046627860719359863, 0.002301146386890381, -0.0399546922909528, 0.10645186003245942, -0.01784249551119092, -0.11198755039527135, 0.110412859897438, -0.12344165088939499, -0.07690892109384945, -0.12709192518155724, 0.0364406115368259, 0.02405795814332752, 0.047615367002938315, 0.039477361208495466, 0.0901148562370673, -0.08320701290754719, -0.03790831590693784, 0.13020200436347337, -0.04183016406864744, 0.020190284931467295, -0.0778126092729979, -0.047336445533533694, 0.05096567041486508, -0.06520602265386756, 0.0009813025153341585, 0.09575227910388326, 0.06577069480217036, 0.010770898235359086, -0.04666669590870387, 0.043387247136845025, 0.0867032329144741, 0.13472629871010539]}],                        {\"height\": 1000, \"images\": [{\"sizex\": 0.008, \"sizey\": 0.008, \"source\": \"http://chrishamblin.xyz/images/viscnn_images/256.jpg\", \"x\": -0.023565856487747075, \"xanchor\": \"center\", \"xref\": \"x\", \"y\": -0.025015003617468796, \"yanchor\": \"middle\", \"yref\": \"y\"}, {\"sizex\": 0.008, \"sizey\": 0.008, \"source\": \"http://chrishamblin.xyz/images/viscnn_images/257.jpg\", \"x\": 0.013035531826479407, \"xanchor\": \"center\", \"xref\": \"x\", \"y\": -0.014002970051923677, \"yanchor\": \"middle\", \"yref\": \"y\"}, {\"sizex\": 0.008, \"sizey\": 0.008, \"source\": \"http://chrishamblin.xyz/images/viscnn_images/258.jpg\", \"x\": -0.05589245988187023, \"xanchor\": \"center\", \"xref\": \"x\", \"y\": 0.10038884936598706, \"yanchor\": \"middle\", \"yref\": \"y\"}, {\"sizex\": 0.008, \"sizey\": 0.008, \"source\": \"http://chrishamblin.xyz/images/viscnn_images/259.jpg\", \"x\": 0.14195897606707147, \"xanchor\": \"center\", \"xref\": \"x\", \"y\": -0.03099836276955048, \"yanchor\": \"middle\", \"yref\": \"y\"}, {\"sizex\": 0.008, \"sizey\": 0.008, \"source\": \"http://chrishamblin.xyz/images/viscnn_images/260.jpg\", \"x\": -0.055959891403627345, \"xanchor\": \"center\", \"xref\": \"x\", \"y\": 0.11594152446210415, \"yanchor\": \"middle\", \"yref\": \"y\"}, {\"sizex\": 0.008, \"sizey\": 0.008, \"source\": \"http://chrishamblin.xyz/images/viscnn_images/261.jpg\", \"x\": -0.12322071532642145, \"xanchor\": \"center\", \"xref\": \"x\", \"y\": 0.014360423771408799, \"yanchor\": \"middle\", \"yref\": \"y\"}, {\"sizex\": 0.008, \"sizey\": 0.008, \"source\": \"http://chrishamblin.xyz/images/viscnn_images/262.jpg\", \"x\": 0.03176681023751189, \"xanchor\": \"center\", \"xref\": \"x\", \"y\": 0.021310088573575473, \"yanchor\": \"middle\", \"yref\": \"y\"}, {\"sizex\": 0.008, \"sizey\": 0.008, \"source\": \"http://chrishamblin.xyz/images/viscnn_images/263.jpg\", \"x\": -0.1375252104304063, \"xanchor\": \"center\", \"xref\": \"x\", \"y\": -0.044580531905219774, \"yanchor\": \"middle\", \"yref\": \"y\"}, {\"sizex\": 0.008, \"sizey\": 0.008, \"source\": \"http://chrishamblin.xyz/images/viscnn_images/264.jpg\", \"x\": -0.13499632421165478, \"xanchor\": \"center\", \"xref\": \"x\", \"y\": 0.005684528250996246, \"yanchor\": \"middle\", \"yref\": \"y\"}, {\"sizex\": 0.008, \"sizey\": 0.008, \"source\": \"http://chrishamblin.xyz/images/viscnn_images/265.jpg\", \"x\": -0.09555466829164458, \"xanchor\": \"center\", \"xref\": \"x\", \"y\": 0.02606974686522987, \"yanchor\": \"middle\", \"yref\": \"y\"}, {\"sizex\": 0.008, \"sizey\": 0.008, \"source\": \"http://chrishamblin.xyz/images/viscnn_images/266.jpg\", \"x\": -0.03661561332498904, \"xanchor\": \"center\", \"xref\": \"x\", \"y\": 0.1398284173765618, \"yanchor\": \"middle\", \"yref\": \"y\"}, {\"sizex\": 0.008, \"sizey\": 0.008, \"source\": \"http://chrishamblin.xyz/images/viscnn_images/267.jpg\", \"x\": -0.04059292928475551, \"xanchor\": \"center\", \"xref\": \"x\", \"y\": -0.0776009181230357, \"yanchor\": \"middle\", \"yref\": \"y\"}, {\"sizex\": 0.008, \"sizey\": 0.008, \"source\": \"http://chrishamblin.xyz/images/viscnn_images/268.jpg\", \"x\": -0.011775828761425694, \"xanchor\": \"center\", \"xref\": \"x\", \"y\": 0.13711661603225042, \"yanchor\": \"middle\", \"yref\": \"y\"}, {\"sizex\": 0.008, \"sizey\": 0.008, \"source\": \"http://chrishamblin.xyz/images/viscnn_images/269.jpg\", \"x\": 0.09581607972493073, \"xanchor\": \"center\", \"xref\": \"x\", \"y\": 0.054048623968772413, \"yanchor\": \"middle\", \"yref\": \"y\"}, {\"sizex\": 0.008, \"sizey\": 0.008, \"source\": \"http://chrishamblin.xyz/images/viscnn_images/270.jpg\", \"x\": -0.029862753495127344, \"xanchor\": \"center\", \"xref\": \"x\", \"y\": 0.1287077467620477, \"yanchor\": \"middle\", \"yref\": \"y\"}, {\"sizex\": 0.008, \"sizey\": 0.008, \"source\": \"http://chrishamblin.xyz/images/viscnn_images/271.jpg\", \"x\": 0.09434711243887943, \"xanchor\": \"center\", \"xref\": \"x\", \"y\": -0.0355166649132568, \"yanchor\": \"middle\", \"yref\": \"y\"}, {\"sizex\": 0.008, \"sizey\": 0.008, \"source\": \"http://chrishamblin.xyz/images/viscnn_images/272.jpg\", \"x\": -0.06811980306727407, \"xanchor\": \"center\", \"xref\": \"x\", \"y\": -0.11457232410644974, \"yanchor\": \"middle\", \"yref\": \"y\"}, {\"sizex\": 0.008, \"sizey\": 0.008, \"source\": \"http://chrishamblin.xyz/images/viscnn_images/273.jpg\", \"x\": -0.031414027999018775, \"xanchor\": \"center\", \"xref\": \"x\", \"y\": 8.22711922030225e-05, \"yanchor\": \"middle\", \"yref\": \"y\"}, {\"sizex\": 0.008, \"sizey\": 0.008, \"source\": \"http://chrishamblin.xyz/images/viscnn_images/274.jpg\", \"x\": 0.06122048345392553, \"xanchor\": \"center\", \"xref\": \"x\", \"y\": 0.07135530287907152, \"yanchor\": \"middle\", \"yref\": \"y\"}, {\"sizex\": 0.008, \"sizey\": 0.008, \"source\": \"http://chrishamblin.xyz/images/viscnn_images/275.jpg\", \"x\": 0.01742261723835081, \"xanchor\": \"center\", \"xref\": \"x\", \"y\": 0.14203614308349824, \"yanchor\": \"middle\", \"yref\": \"y\"}, {\"sizex\": 0.008, \"sizey\": 0.008, \"source\": \"http://chrishamblin.xyz/images/viscnn_images/276.jpg\", \"x\": 0.09250633825799784, \"xanchor\": \"center\", \"xref\": \"x\", \"y\": 0.007096392485276213, \"yanchor\": \"middle\", \"yref\": \"y\"}, {\"sizex\": 0.008, \"sizey\": 0.008, \"source\": \"http://chrishamblin.xyz/images/viscnn_images/277.jpg\", \"x\": -0.09561841878915638, \"xanchor\": \"center\", \"xref\": \"x\", \"y\": 0.012309698739939074, \"yanchor\": \"middle\", \"yref\": \"y\"}, {\"sizex\": 0.008, \"sizey\": 0.008, \"source\": \"http://chrishamblin.xyz/images/viscnn_images/278.jpg\", \"x\": -0.07310464759721433, \"xanchor\": \"center\", \"xref\": \"x\", \"y\": -0.09296920681978775, \"yanchor\": \"middle\", \"yref\": \"y\"}, {\"sizex\": 0.008, \"sizey\": 0.008, \"source\": \"http://chrishamblin.xyz/images/viscnn_images/279.jpg\", \"x\": 0.04317723255599291, \"xanchor\": \"center\", \"xref\": \"x\", \"y\": -0.02499207835798521, \"yanchor\": \"middle\", \"yref\": \"y\"}, {\"sizex\": 0.008, \"sizey\": 0.008, \"source\": \"http://chrishamblin.xyz/images/viscnn_images/280.jpg\", \"x\": 0.01343101645352951, \"xanchor\": \"center\", \"xref\": \"x\", \"y\": 0.04772145629919049, \"yanchor\": \"middle\", \"yref\": \"y\"}, {\"sizex\": 0.008, \"sizey\": 0.008, \"source\": \"http://chrishamblin.xyz/images/viscnn_images/281.jpg\", \"x\": 0.020442482074098364, \"xanchor\": \"center\", \"xref\": \"x\", \"y\": -0.1432120346678884, \"yanchor\": \"middle\", \"yref\": \"y\"}, {\"sizex\": 0.008, \"sizey\": 0.008, \"source\": \"http://chrishamblin.xyz/images/viscnn_images/282.jpg\", \"x\": 0.11986016860606954, \"xanchor\": \"center\", \"xref\": \"x\", \"y\": 0.022232580067902942, \"yanchor\": \"middle\", \"yref\": \"y\"}, {\"sizex\": 0.008, \"sizey\": 0.008, \"source\": \"http://chrishamblin.xyz/images/viscnn_images/283.jpg\", \"x\": 0.000995656442513609, \"xanchor\": \"center\", \"xref\": \"x\", \"y\": -0.10604242445493421, \"yanchor\": \"middle\", \"yref\": \"y\"}, {\"sizex\": 0.008, \"sizey\": 0.008, \"source\": \"http://chrishamblin.xyz/images/viscnn_images/284.jpg\", \"x\": 0.027459234257491017, \"xanchor\": \"center\", \"xref\": \"x\", \"y\": -0.05914814755846098, \"yanchor\": \"middle\", \"yref\": \"y\"}, {\"sizex\": 0.008, \"sizey\": 0.008, \"source\": \"http://chrishamblin.xyz/images/viscnn_images/285.jpg\", \"x\": -0.038658051028287434, \"xanchor\": \"center\", \"xref\": \"x\", \"y\": 0.015408634226974523, \"yanchor\": \"middle\", \"yref\": \"y\"}, {\"sizex\": 0.008, \"sizey\": 0.008, \"source\": \"http://chrishamblin.xyz/images/viscnn_images/286.jpg\", \"x\": -0.0421739129076291, \"xanchor\": \"center\", \"xref\": \"x\", \"y\": 0.06453372527192301, \"yanchor\": \"middle\", \"yref\": \"y\"}, {\"sizex\": 0.008, \"sizey\": 0.008, \"source\": \"http://chrishamblin.xyz/images/viscnn_images/287.jpg\", \"x\": 0.11772489689218935, \"xanchor\": \"center\", \"xref\": \"x\", \"y\": -0.013781289310662298, \"yanchor\": \"middle\", \"yref\": \"y\"}, {\"sizex\": 0.008, \"sizey\": 0.008, \"source\": \"http://chrishamblin.xyz/images/viscnn_images/288.jpg\", \"x\": -0.09242267381460118, \"xanchor\": \"center\", \"xref\": \"x\", \"y\": 0.08266790863482655, \"yanchor\": \"middle\", \"yref\": \"y\"}, {\"sizex\": 0.008, \"sizey\": 0.008, \"source\": \"http://chrishamblin.xyz/images/viscnn_images/289.jpg\", \"x\": -0.06300577066763176, \"xanchor\": \"center\", \"xref\": \"x\", \"y\": -0.013208357347369732, \"yanchor\": \"middle\", \"yref\": \"y\"}, {\"sizex\": 0.008, \"sizey\": 0.008, \"source\": \"http://chrishamblin.xyz/images/viscnn_images/290.jpg\", \"x\": -0.015999289288443425, \"xanchor\": \"center\", \"xref\": \"x\", \"y\": 0.03341164114842488, \"yanchor\": \"middle\", \"yref\": \"y\"}, {\"sizex\": 0.008, \"sizey\": 0.008, \"source\": \"http://chrishamblin.xyz/images/viscnn_images/291.jpg\", \"x\": -0.062396503566775466, \"xanchor\": \"center\", \"xref\": \"x\", \"y\": -0.054603122222602885, \"yanchor\": \"middle\", \"yref\": \"y\"}, {\"sizex\": 0.008, \"sizey\": 0.008, \"source\": \"http://chrishamblin.xyz/images/viscnn_images/292.jpg\", \"x\": -0.08962625749185658, \"xanchor\": \"center\", \"xref\": \"x\", \"y\": 0.039489512901479853, \"yanchor\": \"middle\", \"yref\": \"y\"}, {\"sizex\": 0.008, \"sizey\": 0.008, \"source\": \"http://chrishamblin.xyz/images/viscnn_images/293.jpg\", \"x\": 0.0978184612643938, \"xanchor\": \"center\", \"xref\": \"x\", \"y\": 0.030358670361080784, \"yanchor\": \"middle\", \"yref\": \"y\"}, {\"sizex\": 0.008, \"sizey\": 0.008, \"source\": \"http://chrishamblin.xyz/images/viscnn_images/294.jpg\", \"x\": 0.03280954289081985, \"xanchor\": \"center\", \"xref\": \"x\", \"y\": 0.14184272862772837, \"yanchor\": \"middle\", \"yref\": \"y\"}, {\"sizex\": 0.008, \"sizey\": 0.008, \"source\": \"http://chrishamblin.xyz/images/viscnn_images/295.jpg\", \"x\": -0.015251642671579012, \"xanchor\": \"center\", \"xref\": \"x\", \"y\": 7.995964192926246e-05, \"yanchor\": \"middle\", \"yref\": \"y\"}, {\"sizex\": 0.008, \"sizey\": 0.008, \"source\": \"http://chrishamblin.xyz/images/viscnn_images/296.jpg\", \"x\": -0.11394605615634401, \"xanchor\": \"center\", \"xref\": \"x\", \"y\": 0.045072225911677886, \"yanchor\": \"middle\", \"yref\": \"y\"}, {\"sizex\": 0.008, \"sizey\": 0.008, \"source\": \"http://chrishamblin.xyz/images/viscnn_images/297.jpg\", \"x\": -0.022759586779316606, \"xanchor\": \"center\", \"xref\": \"x\", \"y\": -0.0782786173504575, \"yanchor\": \"middle\", \"yref\": \"y\"}, {\"sizex\": 0.008, \"sizey\": 0.008, \"source\": \"http://chrishamblin.xyz/images/viscnn_images/298.jpg\", \"x\": -0.058219536828277636, \"xanchor\": \"center\", \"xref\": \"x\", \"y\": -0.1076534580920055, \"yanchor\": \"middle\", \"yref\": \"y\"}, {\"sizex\": 0.008, \"sizey\": 0.008, \"source\": \"http://chrishamblin.xyz/images/viscnn_images/299.jpg\", \"x\": -0.026344676719915115, \"xanchor\": \"center\", \"xref\": \"x\", \"y\": -0.037837906640977546, \"yanchor\": \"middle\", \"yref\": \"y\"}, {\"sizex\": 0.008, \"sizey\": 0.008, \"source\": \"http://chrishamblin.xyz/images/viscnn_images/300.jpg\", \"x\": -0.11528199774589504, \"xanchor\": \"center\", \"xref\": \"x\", \"y\": -0.08779839582687617, \"yanchor\": \"middle\", \"yref\": \"y\"}, {\"sizex\": 0.008, \"sizey\": 0.008, \"source\": \"http://chrishamblin.xyz/images/viscnn_images/301.jpg\", \"x\": 0.014366710977068235, \"xanchor\": \"center\", \"xref\": \"x\", \"y\": 0.11172306298556305, \"yanchor\": \"middle\", \"yref\": \"y\"}, {\"sizex\": 0.008, \"sizey\": 0.008, \"source\": \"http://chrishamblin.xyz/images/viscnn_images/302.jpg\", \"x\": 0.00908245614048367, \"xanchor\": \"center\", \"xref\": \"x\", \"y\": -0.027071003290674578, \"yanchor\": \"middle\", \"yref\": \"y\"}, {\"sizex\": 0.008, \"sizey\": 0.008, \"source\": \"http://chrishamblin.xyz/images/viscnn_images/303.jpg\", \"x\": 0.07492781466301046, \"xanchor\": \"center\", \"xref\": \"x\", \"y\": 0.06916997921064881, \"yanchor\": \"middle\", \"yref\": \"y\"}, {\"sizex\": 0.008, \"sizey\": 0.008, \"source\": \"http://chrishamblin.xyz/images/viscnn_images/304.jpg\", \"x\": 0.05447316005743438, \"xanchor\": \"center\", \"xref\": \"x\", \"y\": 0.058307331084220336, \"yanchor\": \"middle\", \"yref\": \"y\"}, {\"sizex\": 0.008, \"sizey\": 0.008, \"source\": \"http://chrishamblin.xyz/images/viscnn_images/305.jpg\", \"x\": 0.04441259232577236, \"xanchor\": \"center\", \"xref\": \"x\", \"y\": 0.01901823760222, \"yanchor\": \"middle\", \"yref\": \"y\"}, {\"sizex\": 0.008, \"sizey\": 0.008, \"source\": \"http://chrishamblin.xyz/images/viscnn_images/306.jpg\", \"x\": -0.08138728521244878, \"xanchor\": \"center\", \"xref\": \"x\", \"y\": -0.03347205771015909, \"yanchor\": \"middle\", \"yref\": \"y\"}, {\"sizex\": 0.008, \"sizey\": 0.008, \"source\": \"http://chrishamblin.xyz/images/viscnn_images/307.jpg\", \"x\": -0.10888544416940088, \"xanchor\": \"center\", \"xref\": \"x\", \"y\": -0.029203164649408985, \"yanchor\": \"middle\", \"yref\": \"y\"}, {\"sizex\": 0.008, \"sizey\": 0.008, \"source\": \"http://chrishamblin.xyz/images/viscnn_images/308.jpg\", \"x\": -0.13674989372231827, \"xanchor\": \"center\", \"xref\": \"x\", \"y\": 0.022802204201150415, \"yanchor\": \"middle\", \"yref\": \"y\"}, {\"sizex\": 0.008, \"sizey\": 0.008, \"source\": \"http://chrishamblin.xyz/images/viscnn_images/309.jpg\", \"x\": 0.0808611966683477, \"xanchor\": \"center\", \"xref\": \"x\", \"y\": 0.030596852483211406, \"yanchor\": \"middle\", \"yref\": \"y\"}, {\"sizex\": 0.008, \"sizey\": 0.008, \"source\": \"http://chrishamblin.xyz/images/viscnn_images/310.jpg\", \"x\": -0.06523499734815004, \"xanchor\": \"center\", \"xref\": \"x\", \"y\": 0.02799215928364391, \"yanchor\": \"middle\", \"yref\": \"y\"}, {\"sizex\": 0.008, \"sizey\": 0.008, \"source\": \"http://chrishamblin.xyz/images/viscnn_images/311.jpg\", \"x\": -0.10873068289018735, \"xanchor\": \"center\", \"xref\": \"x\", \"y\": 0.09191892796794837, \"yanchor\": \"middle\", \"yref\": \"y\"}, {\"sizex\": 0.008, \"sizey\": 0.008, \"source\": \"http://chrishamblin.xyz/images/viscnn_images/312.jpg\", \"x\": 0.10415515459609205, \"xanchor\": \"center\", \"xref\": \"x\", \"y\": 0.01826761147042416, \"yanchor\": \"middle\", \"yref\": \"y\"}, {\"sizex\": 0.008, \"sizey\": 0.008, \"source\": \"http://chrishamblin.xyz/images/viscnn_images/313.jpg\", \"x\": 0.10253521135639665, \"xanchor\": \"center\", \"xref\": \"x\", \"y\": 0.08118189652187578, \"yanchor\": \"middle\", \"yref\": \"y\"}, {\"sizex\": 0.008, \"sizey\": 0.008, \"source\": \"http://chrishamblin.xyz/images/viscnn_images/314.jpg\", \"x\": -0.057440157746558994, \"xanchor\": \"center\", \"xref\": \"x\", \"y\": -0.06598546498837563, \"yanchor\": \"middle\", \"yref\": \"y\"}, {\"sizex\": 0.008, \"sizey\": 0.008, \"source\": \"http://chrishamblin.xyz/images/viscnn_images/315.jpg\", \"x\": 0.13334104434308208, \"xanchor\": \"center\", \"xref\": \"x\", \"y\": -0.019640428482691687, \"yanchor\": \"middle\", \"yref\": \"y\"}, {\"sizex\": 0.008, \"sizey\": 0.008, \"source\": \"http://chrishamblin.xyz/images/viscnn_images/316.jpg\", \"x\": -0.044695847428861006, \"xanchor\": \"center\", \"xref\": \"x\", \"y\": -0.06596578716768288, \"yanchor\": \"middle\", \"yref\": \"y\"}, {\"sizex\": 0.008, \"sizey\": 0.008, \"source\": \"http://chrishamblin.xyz/images/viscnn_images/317.jpg\", \"x\": -0.13493921639456788, \"xanchor\": \"center\", \"xref\": \"x\", \"y\": 0.0503976887110838, \"yanchor\": \"middle\", \"yref\": \"y\"}, {\"sizex\": 0.008, \"sizey\": 0.008, \"source\": \"http://chrishamblin.xyz/images/viscnn_images/318.jpg\", \"x\": 0.05748755709847323, \"xanchor\": \"center\", \"xref\": \"x\", \"y\": -0.05448514642896011, \"yanchor\": \"middle\", \"yref\": \"y\"}, {\"sizex\": 0.008, \"sizey\": 0.008, \"source\": \"http://chrishamblin.xyz/images/viscnn_images/319.jpg\", \"x\": -0.055351459068964645, \"xanchor\": \"center\", \"xref\": \"x\", \"y\": 0.012687482042225641, \"yanchor\": \"middle\", \"yref\": \"y\"}, {\"sizex\": 0.008, \"sizey\": 0.008, \"source\": \"http://chrishamblin.xyz/images/viscnn_images/320.jpg\", \"x\": -0.0065114116880823384, \"xanchor\": \"center\", \"xref\": \"x\", \"y\": 0.12163526062535322, \"yanchor\": \"middle\", \"yref\": \"y\"}, {\"sizex\": 0.008, \"sizey\": 0.008, \"source\": \"http://chrishamblin.xyz/images/viscnn_images/321.jpg\", \"x\": 0.017086121586411665, \"xanchor\": \"center\", \"xref\": \"x\", \"y\": 0.0734985844563211, \"yanchor\": \"middle\", \"yref\": \"y\"}, {\"sizex\": 0.008, \"sizey\": 0.008, \"source\": \"http://chrishamblin.xyz/images/viscnn_images/322.jpg\", \"x\": -0.0073391115730947155, \"xanchor\": \"center\", \"xref\": \"x\", \"y\": 0.10023240723528848, \"yanchor\": \"middle\", \"yref\": \"y\"}, {\"sizex\": 0.008, \"sizey\": 0.008, \"source\": \"http://chrishamblin.xyz/images/viscnn_images/323.jpg\", \"x\": -0.015820071873595958, \"xanchor\": \"center\", \"xref\": \"x\", \"y\": 0.04809410529005945, \"yanchor\": \"middle\", \"yref\": \"y\"}, {\"sizex\": 0.008, \"sizey\": 0.008, \"source\": \"http://chrishamblin.xyz/images/viscnn_images/324.jpg\", \"x\": 0.08459293619040721, \"xanchor\": \"center\", \"xref\": \"x\", \"y\": 0.11762908488975934, \"yanchor\": \"middle\", \"yref\": \"y\"}, {\"sizex\": 0.008, \"sizey\": 0.008, \"source\": \"http://chrishamblin.xyz/images/viscnn_images/325.jpg\", \"x\": 0.054906027142325425, \"xanchor\": \"center\", \"xref\": \"x\", \"y\": 0.012865035379674785, \"yanchor\": \"middle\", \"yref\": \"y\"}, {\"sizex\": 0.008, \"sizey\": 0.008, \"source\": \"http://chrishamblin.xyz/images/viscnn_images/326.jpg\", \"x\": 0.06818658031519738, \"xanchor\": \"center\", \"xref\": \"x\", \"y\": 0.05642402317692639, \"yanchor\": \"middle\", \"yref\": \"y\"}, {\"sizex\": 0.008, \"sizey\": 0.008, \"source\": \"http://chrishamblin.xyz/images/viscnn_images/327.jpg\", \"x\": 0.05587658068541436, \"xanchor\": \"center\", \"xref\": \"x\", \"y\": -0.0010754592586527036, \"yanchor\": \"middle\", \"yref\": \"y\"}, {\"sizex\": 0.008, \"sizey\": 0.008, \"source\": \"http://chrishamblin.xyz/images/viscnn_images/328.jpg\", \"x\": 0.07546743344601872, \"xanchor\": \"center\", \"xref\": \"x\", \"y\": -0.12351550929357903, \"yanchor\": \"middle\", \"yref\": \"y\"}, {\"sizex\": 0.008, \"sizey\": 0.008, \"source\": \"http://chrishamblin.xyz/images/viscnn_images/329.jpg\", \"x\": -0.058335319632200205, \"xanchor\": \"center\", \"xref\": \"x\", \"y\": 0.04101023793639687, \"yanchor\": \"middle\", \"yref\": \"y\"}, {\"sizex\": 0.008, \"sizey\": 0.008, \"source\": \"http://chrishamblin.xyz/images/viscnn_images/330.jpg\", \"x\": -0.017884149985155817, \"xanchor\": \"center\", \"xref\": \"x\", \"y\": -0.05948867404611566, \"yanchor\": \"middle\", \"yref\": \"y\"}, {\"sizex\": 0.008, \"sizey\": 0.008, \"source\": \"http://chrishamblin.xyz/images/viscnn_images/331.jpg\", \"x\": 0.02662337922875183, \"xanchor\": \"center\", \"xref\": \"x\", \"y\": -0.004913589026856822, \"yanchor\": \"middle\", \"yref\": \"y\"}, {\"sizex\": 0.008, \"sizey\": 0.008, \"source\": \"http://chrishamblin.xyz/images/viscnn_images/332.jpg\", \"x\": -0.05135404242099141, \"xanchor\": \"center\", \"xref\": \"x\", \"y\": -0.018408038842802305, \"yanchor\": \"middle\", \"yref\": \"y\"}, {\"sizex\": 0.008, \"sizey\": 0.008, \"source\": \"http://chrishamblin.xyz/images/viscnn_images/333.jpg\", \"x\": -0.025170208413999872, \"xanchor\": \"center\", \"xref\": \"x\", \"y\": 0.023943051465191927, \"yanchor\": \"middle\", \"yref\": \"y\"}, {\"sizex\": 0.008, \"sizey\": 0.008, \"source\": \"http://chrishamblin.xyz/images/viscnn_images/334.jpg\", \"x\": 0.03131961966045354, \"xanchor\": \"center\", \"xref\": \"x\", \"y\": 0.007882970568132055, \"yanchor\": \"middle\", \"yref\": \"y\"}, {\"sizex\": 0.008, \"sizey\": 0.008, \"source\": \"http://chrishamblin.xyz/images/viscnn_images/335.jpg\", \"x\": 0.07574141486144668, \"xanchor\": \"center\", \"xref\": \"x\", \"y\": 0.01712314547797156, \"yanchor\": \"middle\", \"yref\": \"y\"}, {\"sizex\": 0.008, \"sizey\": 0.008, \"source\": \"http://chrishamblin.xyz/images/viscnn_images/336.jpg\", \"x\": 0.13108003312770833, \"xanchor\": \"center\", \"xref\": \"x\", \"y\": -0.005694418813034946, \"yanchor\": \"middle\", \"yref\": \"y\"}, {\"sizex\": 0.008, \"sizey\": 0.008, \"source\": \"http://chrishamblin.xyz/images/viscnn_images/337.jpg\", \"x\": -0.002585134799784118, \"xanchor\": \"center\", \"xref\": \"x\", \"y\": 0.00709694611834901, \"yanchor\": \"middle\", \"yref\": \"y\"}, {\"sizex\": 0.008, \"sizey\": 0.008, \"source\": \"http://chrishamblin.xyz/images/viscnn_images/338.jpg\", \"x\": -0.045836339853792436, \"xanchor\": \"center\", \"xref\": \"x\", \"y\": 0.004154792109919412, \"yanchor\": \"middle\", \"yref\": \"y\"}, {\"sizex\": 0.008, \"sizey\": 0.008, \"source\": \"http://chrishamblin.xyz/images/viscnn_images/339.jpg\", \"x\": 0.078162318770801, \"xanchor\": \"center\", \"xref\": \"x\", \"y\": -0.08850159369871623, \"yanchor\": \"middle\", \"yref\": \"y\"}, {\"sizex\": 0.008, \"sizey\": 0.008, \"source\": \"http://chrishamblin.xyz/images/viscnn_images/340.jpg\", \"x\": -0.02612453969498962, \"xanchor\": \"center\", \"xref\": \"x\", \"y\": 0.056030831438951385, \"yanchor\": \"middle\", \"yref\": \"y\"}, {\"sizex\": 0.008, \"sizey\": 0.008, \"source\": \"http://chrishamblin.xyz/images/viscnn_images/341.jpg\", \"x\": 0.10034601490900948, \"xanchor\": \"center\", \"xref\": \"x\", \"y\": -0.0922062335279583, \"yanchor\": \"middle\", \"yref\": \"y\"}, {\"sizex\": 0.008, \"sizey\": 0.008, \"source\": \"http://chrishamblin.xyz/images/viscnn_images/342.jpg\", \"x\": -0.02181470102167738, \"xanchor\": \"center\", \"xref\": \"x\", \"y\": 0.14300078413734377, \"yanchor\": \"middle\", \"yref\": \"y\"}, {\"sizex\": 0.008, \"sizey\": 0.008, \"source\": \"http://chrishamblin.xyz/images/viscnn_images/343.jpg\", \"x\": -0.029702463772107727, \"xanchor\": \"center\", \"xref\": \"x\", \"y\": -0.06667449295272125, \"yanchor\": \"middle\", \"yref\": \"y\"}, {\"sizex\": 0.008, \"sizey\": 0.008, \"source\": \"http://chrishamblin.xyz/images/viscnn_images/344.jpg\", \"x\": -0.14344988285339394, \"xanchor\": \"center\", \"xref\": \"x\", \"y\": -0.021822950143726663, \"yanchor\": \"middle\", \"yref\": \"y\"}, {\"sizex\": 0.008, \"sizey\": 0.008, \"source\": \"http://chrishamblin.xyz/images/viscnn_images/345.jpg\", \"x\": 0.13354950489050324, \"xanchor\": \"center\", \"xref\": \"x\", \"y\": 0.04086084259436682, \"yanchor\": \"middle\", \"yref\": \"y\"}, {\"sizex\": 0.008, \"sizey\": 0.008, \"source\": \"http://chrishamblin.xyz/images/viscnn_images/346.jpg\", \"x\": 0.10637226019744611, \"xanchor\": \"center\", \"xref\": \"x\", \"y\": 0.09672383381527584, \"yanchor\": \"middle\", \"yref\": \"y\"}, {\"sizex\": 0.008, \"sizey\": 0.008, \"source\": \"http://chrishamblin.xyz/images/viscnn_images/347.jpg\", \"x\": 0.08185446215562063, \"xanchor\": \"center\", \"xref\": \"x\", \"y\": 0.0918260761927219, \"yanchor\": \"middle\", \"yref\": \"y\"}, {\"sizex\": 0.008, \"sizey\": 0.008, \"source\": \"http://chrishamblin.xyz/images/viscnn_images/348.jpg\", \"x\": -0.011930088263030518, \"xanchor\": \"center\", \"xref\": \"x\", \"y\": 0.062109724567270146, \"yanchor\": \"middle\", \"yref\": \"y\"}, {\"sizex\": 0.008, \"sizey\": 0.008, \"source\": \"http://chrishamblin.xyz/images/viscnn_images/349.jpg\", \"x\": -0.12006412786881504, \"xanchor\": \"center\", \"xref\": \"x\", \"y\": 0.05618473137754009, \"yanchor\": \"middle\", \"yref\": \"y\"}, {\"sizex\": 0.008, \"sizey\": 0.008, \"source\": \"http://chrishamblin.xyz/images/viscnn_images/350.jpg\", \"x\": 0.049080092068261645, \"xanchor\": \"center\", \"xref\": \"x\", \"y\": 0.07958071329443146, \"yanchor\": \"middle\", \"yref\": \"y\"}, {\"sizex\": 0.008, \"sizey\": 0.008, \"source\": \"http://chrishamblin.xyz/images/viscnn_images/351.jpg\", \"x\": 0.11520381059946902, \"xanchor\": \"center\", \"xref\": \"x\", \"y\": 0.010476772203229463, \"yanchor\": \"middle\", \"yref\": \"y\"}, {\"sizex\": 0.008, \"sizey\": 0.008, \"source\": \"http://chrishamblin.xyz/images/viscnn_images/352.jpg\", \"x\": 0.10335939259290844, \"xanchor\": \"center\", \"xref\": \"x\", \"y\": 0.0006201508136933362, \"yanchor\": \"middle\", \"yref\": \"y\"}, {\"sizex\": 0.008, \"sizey\": 0.008, \"source\": \"http://chrishamblin.xyz/images/viscnn_images/353.jpg\", \"x\": 0.07210354248344615, \"xanchor\": \"center\", \"xref\": \"x\", \"y\": 0.12262470373740499, \"yanchor\": \"middle\", \"yref\": \"y\"}, {\"sizex\": 0.008, \"sizey\": 0.008, \"source\": \"http://chrishamblin.xyz/images/viscnn_images/354.jpg\", \"x\": 0.00216291251653454, \"xanchor\": \"center\", \"xref\": \"x\", \"y\": 0.1460642139775514, \"yanchor\": \"middle\", \"yref\": \"y\"}, {\"sizex\": 0.008, \"sizey\": 0.008, \"source\": \"http://chrishamblin.xyz/images/viscnn_images/355.jpg\", \"x\": -0.09685316580125278, \"xanchor\": \"center\", \"xref\": \"x\", \"y\": -0.03707013634269907, \"yanchor\": \"middle\", \"yref\": \"y\"}, {\"sizex\": 0.008, \"sizey\": 0.008, \"source\": \"http://chrishamblin.xyz/images/viscnn_images/356.jpg\", \"x\": -0.07008311927748459, \"xanchor\": \"center\", \"xref\": \"x\", \"y\": -0.07310657850489255, \"yanchor\": \"middle\", \"yref\": \"y\"}, {\"sizex\": 0.008, \"sizey\": 0.008, \"source\": \"http://chrishamblin.xyz/images/viscnn_images/357.jpg\", \"x\": 0.12781534783178677, \"xanchor\": \"center\", \"xref\": \"x\", \"y\": -0.03283063982599907, \"yanchor\": \"middle\", \"yref\": \"y\"}, {\"sizex\": 0.008, \"sizey\": 0.008, \"source\": \"http://chrishamblin.xyz/images/viscnn_images/358.jpg\", \"x\": 0.004550131088118406, \"xanchor\": \"center\", \"xref\": \"x\", \"y\": -0.14456088232423522, \"yanchor\": \"middle\", \"yref\": \"y\"}, {\"sizex\": 0.008, \"sizey\": 0.008, \"source\": \"http://chrishamblin.xyz/images/viscnn_images/359.jpg\", \"x\": -0.11927699910476118, \"xanchor\": \"center\", \"xref\": \"x\", \"y\": -0.05413584205009118, \"yanchor\": \"middle\", \"yref\": \"y\"}, {\"sizex\": 0.008, \"sizey\": 0.008, \"source\": \"http://chrishamblin.xyz/images/viscnn_images/360.jpg\", \"x\": -0.04317663080461362, \"xanchor\": \"center\", \"xref\": \"x\", \"y\": 0.12558401656306895, \"yanchor\": \"middle\", \"yref\": \"y\"}, {\"sizex\": 0.008, \"sizey\": 0.008, \"source\": \"http://chrishamblin.xyz/images/viscnn_images/361.jpg\", \"x\": 0.03384130542252149, \"xanchor\": \"center\", \"xref\": \"x\", \"y\": 0.08138021168332138, \"yanchor\": \"middle\", \"yref\": \"y\"}, {\"sizex\": 0.008, \"sizey\": 0.008, \"source\": \"http://chrishamblin.xyz/images/viscnn_images/362.jpg\", \"x\": -0.031405092375389625, \"xanchor\": \"center\", \"xref\": \"x\", \"y\": -0.08842204380705655, \"yanchor\": \"middle\", \"yref\": \"y\"}, {\"sizex\": 0.008, \"sizey\": 0.008, \"source\": \"http://chrishamblin.xyz/images/viscnn_images/363.jpg\", \"x\": -0.0098192133311156, \"xanchor\": \"center\", \"xref\": \"x\", \"y\": 0.0752100737712562, \"yanchor\": \"middle\", \"yref\": \"y\"}, {\"sizex\": 0.008, \"sizey\": 0.008, \"source\": \"http://chrishamblin.xyz/images/viscnn_images/364.jpg\", \"x\": -0.1010217944034014, \"xanchor\": \"center\", \"xref\": \"x\", \"y\": 0.10151775856407717, \"yanchor\": \"middle\", \"yref\": \"y\"}, {\"sizex\": 0.008, \"sizey\": 0.008, \"source\": \"http://chrishamblin.xyz/images/viscnn_images/365.jpg\", \"x\": 0.03657452505254766, \"xanchor\": \"center\", \"xref\": \"x\", \"y\": -0.10260836487222014, \"yanchor\": \"middle\", \"yref\": \"y\"}, {\"sizex\": 0.008, \"sizey\": 0.008, \"source\": \"http://chrishamblin.xyz/images/viscnn_images/366.jpg\", \"x\": -0.10654283067468467, \"xanchor\": \"center\", \"xref\": \"x\", \"y\": 0.060250126292981834, \"yanchor\": \"middle\", \"yref\": \"y\"}, {\"sizex\": 0.008, \"sizey\": 0.008, \"source\": \"http://chrishamblin.xyz/images/viscnn_images/367.jpg\", \"x\": -0.016072189421701046, \"xanchor\": \"center\", \"xref\": \"x\", \"y\": -0.012808053836268133, \"yanchor\": \"middle\", \"yref\": \"y\"}, {\"sizex\": 0.008, \"sizey\": 0.008, \"source\": \"http://chrishamblin.xyz/images/viscnn_images/368.jpg\", \"x\": 0.053503336941466494, \"xanchor\": \"center\", \"xref\": \"x\", \"y\": -0.08084721338786165, \"yanchor\": \"middle\", \"yref\": \"y\"}, {\"sizex\": 0.008, \"sizey\": 0.008, \"source\": \"http://chrishamblin.xyz/images/viscnn_images/369.jpg\", \"x\": -0.0954657411292869, \"xanchor\": \"center\", \"xref\": \"x\", \"y\": 0.06813454032629922, \"yanchor\": \"middle\", \"yref\": \"y\"}, {\"sizex\": 0.008, \"sizey\": 0.008, \"source\": \"http://chrishamblin.xyz/images/viscnn_images/370.jpg\", \"x\": -0.04058475749225477, \"xanchor\": \"center\", \"xref\": \"x\", \"y\": -0.054124053609951005, \"yanchor\": \"middle\", \"yref\": \"y\"}, {\"sizex\": 0.008, \"sizey\": 0.008, \"source\": \"http://chrishamblin.xyz/images/viscnn_images/371.jpg\", \"x\": 0.012097076108882325, \"xanchor\": \"center\", \"xref\": \"x\", \"y\": 0.09822832785539867, \"yanchor\": \"middle\", \"yref\": \"y\"}, {\"sizex\": 0.008, \"sizey\": 0.008, \"source\": \"http://chrishamblin.xyz/images/viscnn_images/372.jpg\", \"x\": 0.004675167017308022, \"xanchor\": \"center\", \"xref\": \"x\", \"y\": -0.07605565288061027, \"yanchor\": \"middle\", \"yref\": \"y\"}, {\"sizex\": 0.008, \"sizey\": 0.008, \"source\": \"http://chrishamblin.xyz/images/viscnn_images/373.jpg\", \"x\": -0.02220115400234777, \"xanchor\": \"center\", \"xref\": \"x\", \"y\": -0.11081372459136357, \"yanchor\": \"middle\", \"yref\": \"y\"}, {\"sizex\": 0.008, \"sizey\": 0.008, \"source\": \"http://chrishamblin.xyz/images/viscnn_images/374.jpg\", \"x\": -0.015160401720150513, \"xanchor\": \"center\", \"xref\": \"x\", \"y\": 0.0896833395627992, \"yanchor\": \"middle\", \"yref\": \"y\"}, {\"sizex\": 0.008, \"sizey\": 0.008, \"source\": \"http://chrishamblin.xyz/images/viscnn_images/375.jpg\", \"x\": -0.08281824175608277, \"xanchor\": \"center\", \"xref\": \"x\", \"y\": 0.06394547729408505, \"yanchor\": \"middle\", \"yref\": \"y\"}, {\"sizex\": 0.008, \"sizey\": 0.008, \"source\": \"http://chrishamblin.xyz/images/viscnn_images/376.jpg\", \"x\": -0.11343290263250516, \"xanchor\": \"center\", \"xref\": \"x\", \"y\": 0.0027403828569164566, \"yanchor\": \"middle\", \"yref\": \"y\"}, {\"sizex\": 0.008, \"sizey\": 0.008, \"source\": \"http://chrishamblin.xyz/images/viscnn_images/377.jpg\", \"x\": -0.10481031561280522, \"xanchor\": \"center\", \"xref\": \"x\", \"y\": 0.07853340391600633, \"yanchor\": \"middle\", \"yref\": \"y\"}, {\"sizex\": 0.008, \"sizey\": 0.008, \"source\": \"http://chrishamblin.xyz/images/viscnn_images/378.jpg\", \"x\": 0.02514977107992799, \"xanchor\": \"center\", \"xref\": \"x\", \"y\": -0.10650585132614732, \"yanchor\": \"middle\", \"yref\": \"y\"}, {\"sizex\": 0.008, \"sizey\": 0.008, \"source\": \"http://chrishamblin.xyz/images/viscnn_images/379.jpg\", \"x\": -0.08968738083593819, \"xanchor\": \"center\", \"xref\": \"x\", \"y\": -0.012850268602732683, \"yanchor\": \"middle\", \"yref\": \"y\"}, {\"sizex\": 0.008, \"sizey\": 0.008, \"source\": \"http://chrishamblin.xyz/images/viscnn_images/380.jpg\", \"x\": 0.0448005695369531, \"xanchor\": \"center\", \"xref\": \"x\", \"y\": 0.09242574541460787, \"yanchor\": \"middle\", \"yref\": \"y\"}, {\"sizex\": 0.008, \"sizey\": 0.008, \"source\": \"http://chrishamblin.xyz/images/viscnn_images/381.jpg\", \"x\": -0.12479250122756794, \"xanchor\": \"center\", \"xref\": \"x\", \"y\": -0.07363272864013536, \"yanchor\": \"middle\", \"yref\": \"y\"}, {\"sizex\": 0.008, \"sizey\": 0.008, \"source\": \"http://chrishamblin.xyz/images/viscnn_images/382.jpg\", \"x\": -0.03822752330271201, \"xanchor\": \"center\", \"xref\": \"x\", \"y\": -0.024277287901910874, \"yanchor\": \"middle\", \"yref\": \"y\"}, {\"sizex\": 0.008, \"sizey\": 0.008, \"source\": \"http://chrishamblin.xyz/images/viscnn_images/383.jpg\", \"x\": -0.07765944045110587, \"xanchor\": \"center\", \"xref\": \"x\", \"y\": -0.019744733983053396, \"yanchor\": \"middle\", \"yref\": \"y\"}, {\"sizex\": 0.008, \"sizey\": 0.008, \"source\": \"http://chrishamblin.xyz/images/viscnn_images/384.jpg\", \"x\": 0.012923957833125384, \"xanchor\": \"center\", \"xref\": \"x\", \"y\": -0.000683576450573091, \"yanchor\": \"middle\", \"yref\": \"y\"}, {\"sizex\": 0.008, \"sizey\": 0.008, \"source\": \"http://chrishamblin.xyz/images/viscnn_images/385.jpg\", \"x\": 0.010078552828246998, \"xanchor\": \"center\", \"xref\": \"x\", \"y\": 0.03518019175339707, \"yanchor\": \"middle\", \"yref\": \"y\"}, {\"sizex\": 0.008, \"sizey\": 0.008, \"source\": \"http://chrishamblin.xyz/images/viscnn_images/386.jpg\", \"x\": 0.06297043923855891, \"xanchor\": \"center\", \"xref\": \"x\", \"y\": -0.018729751572975344, \"yanchor\": \"middle\", \"yref\": \"y\"}, {\"sizex\": 0.008, \"sizey\": 0.008, \"source\": \"http://chrishamblin.xyz/images/viscnn_images/387.jpg\", \"x\": 0.060712024769407985, \"xanchor\": \"center\", \"xref\": \"x\", \"y\": -0.11239991358589552, \"yanchor\": \"middle\", \"yref\": \"y\"}, {\"sizex\": 0.008, \"sizey\": 0.008, \"source\": \"http://chrishamblin.xyz/images/viscnn_images/388.jpg\", \"x\": -0.08141100287456919, \"xanchor\": \"center\", \"xref\": \"x\", \"y\": 0.05174624493217069, \"yanchor\": \"middle\", \"yref\": \"y\"}, {\"sizex\": 0.008, \"sizey\": 0.008, \"source\": \"http://chrishamblin.xyz/images/viscnn_images/389.jpg\", \"x\": 0.05522213881769292, \"xanchor\": \"center\", \"xref\": \"x\", \"y\": 0.10206557716475574, \"yanchor\": \"middle\", \"yref\": \"y\"}, {\"sizex\": 0.008, \"sizey\": 0.008, \"source\": \"http://chrishamblin.xyz/images/viscnn_images/390.jpg\", \"x\": 0.09908298557074308, \"xanchor\": \"center\", \"xref\": \"x\", \"y\": 0.06659803889104512, \"yanchor\": \"middle\", \"yref\": \"y\"}, {\"sizex\": 0.008, \"sizey\": 0.008, \"source\": \"http://chrishamblin.xyz/images/viscnn_images/391.jpg\", \"x\": 0.11593647694337299, \"xanchor\": \"center\", \"xref\": \"x\", \"y\": 0.08563517947011326, \"yanchor\": \"middle\", \"yref\": \"y\"}, {\"sizex\": 0.008, \"sizey\": 0.008, \"source\": \"http://chrishamblin.xyz/images/viscnn_images/392.jpg\", \"x\": -0.05177865736431401, \"xanchor\": \"center\", \"xref\": \"x\", \"y\": 0.025512388919444583, \"yanchor\": \"middle\", \"yref\": \"y\"}, {\"sizex\": 0.008, \"sizey\": 0.008, \"source\": \"http://chrishamblin.xyz/images/viscnn_images/393.jpg\", \"x\": -0.09392271853265556, \"xanchor\": \"center\", \"xref\": \"x\", \"y\": -0.02445569934050357, \"yanchor\": \"middle\", \"yref\": \"y\"}, {\"sizex\": 0.008, \"sizey\": 0.008, \"source\": \"http://chrishamblin.xyz/images/viscnn_images/394.jpg\", \"x\": 0.10530450355784489, \"xanchor\": \"center\", \"xref\": \"x\", \"y\": 0.04368363082648314, \"yanchor\": \"middle\", \"yref\": \"y\"}, {\"sizex\": 0.008, \"sizey\": 0.008, \"source\": \"http://chrishamblin.xyz/images/viscnn_images/395.jpg\", \"x\": -0.00257893641263206, \"xanchor\": \"center\", \"xref\": \"x\", \"y\": 0.028544291690738972, \"yanchor\": \"middle\", \"yref\": \"y\"}, {\"sizex\": 0.008, \"sizey\": 0.008, \"source\": \"http://chrishamblin.xyz/images/viscnn_images/396.jpg\", \"x\": 0.03690349349495326, \"xanchor\": \"center\", \"xref\": \"x\", \"y\": -0.13899140938933335, \"yanchor\": \"middle\", \"yref\": \"y\"}, {\"sizex\": 0.008, \"sizey\": 0.008, \"source\": \"http://chrishamblin.xyz/images/viscnn_images/397.jpg\", \"x\": 0.030412712492127365, \"xanchor\": \"center\", \"xref\": \"x\", \"y\": 0.09385273785837878, \"yanchor\": \"middle\", \"yref\": \"y\"}, {\"sizex\": 0.008, \"sizey\": 0.008, \"source\": \"http://chrishamblin.xyz/images/viscnn_images/398.jpg\", \"x\": 0.045032099084120945, \"xanchor\": \"center\", \"xref\": \"x\", \"y\": 0.0675808135066237, \"yanchor\": \"middle\", \"yref\": \"y\"}, {\"sizex\": 0.008, \"sizey\": 0.008, \"source\": \"http://chrishamblin.xyz/images/viscnn_images/399.jpg\", \"x\": -0.14017769908590236, \"xanchor\": \"center\", \"xref\": \"x\", \"y\": 0.035338087102180865, \"yanchor\": \"middle\", \"yref\": \"y\"}, {\"sizex\": 0.008, \"sizey\": 0.008, \"source\": \"http://chrishamblin.xyz/images/viscnn_images/400.jpg\", \"x\": 0.08248297065934462, \"xanchor\": \"center\", \"xref\": \"x\", \"y\": 0.10540584409983696, \"yanchor\": \"middle\", \"yref\": \"y\"}, {\"sizex\": 0.008, \"sizey\": 0.008, \"source\": \"http://chrishamblin.xyz/images/viscnn_images/401.jpg\", \"x\": 0.036150865658456745, \"xanchor\": \"center\", \"xref\": \"x\", \"y\": 0.05734243886129975, \"yanchor\": \"middle\", \"yref\": \"y\"}, {\"sizex\": 0.008, \"sizey\": 0.008, \"source\": \"http://chrishamblin.xyz/images/viscnn_images/402.jpg\", \"x\": -0.0795868438064245, \"xanchor\": \"center\", \"xref\": \"x\", \"y\": 0.1210402314840257, \"yanchor\": \"middle\", \"yref\": \"y\"}, {\"sizex\": 0.008, \"sizey\": 0.008, \"source\": \"http://chrishamblin.xyz/images/viscnn_images/403.jpg\", \"x\": 0.026424639060010146, \"xanchor\": \"center\", \"xref\": \"x\", \"y\": -0.04696215141925809, \"yanchor\": \"middle\", \"yref\": \"y\"}, {\"sizex\": 0.008, \"sizey\": 0.008, \"source\": \"http://chrishamblin.xyz/images/viscnn_images/404.jpg\", \"x\": 0.0634359027389575, \"xanchor\": \"center\", \"xref\": \"x\", \"y\": 0.023813931148109473, \"yanchor\": \"middle\", \"yref\": \"y\"}, {\"sizex\": 0.008, \"sizey\": 0.008, \"source\": \"http://chrishamblin.xyz/images/viscnn_images/405.jpg\", \"x\": 0.12515626813738845, \"xanchor\": \"center\", \"xref\": \"x\", \"y\": 0.07309444931816553, \"yanchor\": \"middle\", \"yref\": \"y\"}, {\"sizex\": 0.008, \"sizey\": 0.008, \"source\": \"http://chrishamblin.xyz/images/viscnn_images/406.jpg\", \"x\": -0.13561546957018006, \"xanchor\": \"center\", \"xref\": \"x\", \"y\": -0.03151389493403111, \"yanchor\": \"middle\", \"yref\": \"y\"}, {\"sizex\": 0.008, \"sizey\": 0.008, \"source\": \"http://chrishamblin.xyz/images/viscnn_images/407.jpg\", \"x\": 0.007775776150768229, \"xanchor\": \"center\", \"xref\": \"x\", \"y\": 0.1239596175699279, \"yanchor\": \"middle\", \"yref\": \"y\"}, {\"sizex\": 0.008, \"sizey\": 0.008, \"source\": \"http://chrishamblin.xyz/images/viscnn_images/408.jpg\", \"x\": 0.09637233987696121, \"xanchor\": \"center\", \"xref\": \"x\", \"y\": 0.10633430359531282, \"yanchor\": \"middle\", \"yref\": \"y\"}, {\"sizex\": 0.008, \"sizey\": 0.008, \"source\": \"http://chrishamblin.xyz/images/viscnn_images/409.jpg\", \"x\": -0.05132700855276318, \"xanchor\": \"center\", \"xref\": \"x\", \"y\": -0.1361112029761957, \"yanchor\": \"middle\", \"yref\": \"y\"}, {\"sizex\": 0.008, \"sizey\": 0.008, \"source\": \"http://chrishamblin.xyz/images/viscnn_images/410.jpg\", \"x\": 0.11736140307667159, \"xanchor\": \"center\", \"xref\": \"x\", \"y\": -0.02579184877547395, \"yanchor\": \"middle\", \"yref\": \"y\"}, {\"sizex\": 0.008, \"sizey\": 0.008, \"source\": \"http://chrishamblin.xyz/images/viscnn_images/411.jpg\", \"x\": 0.08907743056420699, \"xanchor\": \"center\", \"xref\": \"x\", \"y\": 0.019267474070958624, \"yanchor\": \"middle\", \"yref\": \"y\"}, {\"sizex\": 0.008, \"sizey\": 0.008, \"source\": \"http://chrishamblin.xyz/images/viscnn_images/412.jpg\", \"x\": 0.09589497398632431, \"xanchor\": \"center\", \"xref\": \"x\", \"y\": -0.07037204706150633, \"yanchor\": \"middle\", \"yref\": \"y\"}, {\"sizex\": 0.008, \"sizey\": 0.008, \"source\": \"http://chrishamblin.xyz/images/viscnn_images/413.jpg\", \"x\": -0.052335052906429785, \"xanchor\": \"center\", \"xref\": \"x\", \"y\": 0.05496943596184829, \"yanchor\": \"middle\", \"yref\": \"y\"}, {\"sizex\": 0.008, \"sizey\": 0.008, \"source\": \"http://chrishamblin.xyz/images/viscnn_images/414.jpg\", \"x\": -0.012789693737775701, \"xanchor\": \"center\", \"xref\": \"x\", \"y\": -0.14355832047998088, \"yanchor\": \"middle\", \"yref\": \"y\"}, {\"sizex\": 0.008, \"sizey\": 0.008, \"source\": \"http://chrishamblin.xyz/images/viscnn_images/415.jpg\", \"x\": 0.055307679346674896, \"xanchor\": \"center\", \"xref\": \"x\", \"y\": 0.11792945020577285, \"yanchor\": \"middle\", \"yref\": \"y\"}, {\"sizex\": 0.008, \"sizey\": 0.008, \"source\": \"http://chrishamblin.xyz/images/viscnn_images/416.jpg\", \"x\": -0.12232758407997801, \"xanchor\": \"center\", \"xref\": \"x\", \"y\": -0.028274110687473427, \"yanchor\": \"middle\", \"yref\": \"y\"}, {\"sizex\": 0.008, \"sizey\": 0.008, \"source\": \"http://chrishamblin.xyz/images/viscnn_images/417.jpg\", \"x\": -0.03082424722117216, \"xanchor\": \"center\", \"xref\": \"x\", \"y\": 0.11255234023647191, \"yanchor\": \"middle\", \"yref\": \"y\"}, {\"sizex\": 0.008, \"sizey\": 0.008, \"source\": \"http://chrishamblin.xyz/images/viscnn_images/418.jpg\", \"x\": 0.021960760397516845, \"xanchor\": \"center\", \"xref\": \"x\", \"y\": -0.11956419420602171, \"yanchor\": \"middle\", \"yref\": \"y\"}, {\"sizex\": 0.008, \"sizey\": 0.008, \"source\": \"http://chrishamblin.xyz/images/viscnn_images/419.jpg\", \"x\": -0.06388959754506522, \"xanchor\": \"center\", \"xref\": \"x\", \"y\": -0.04019823317645311, \"yanchor\": \"middle\", \"yref\": \"y\"}, {\"sizex\": 0.008, \"sizey\": 0.008, \"source\": \"http://chrishamblin.xyz/images/viscnn_images/420.jpg\", \"x\": -0.11512925730536312, \"xanchor\": \"center\", \"xref\": \"x\", \"y\": -0.06553502942736689, \"yanchor\": \"middle\", \"yref\": \"y\"}, {\"sizex\": 0.008, \"sizey\": 0.008, \"source\": \"http://chrishamblin.xyz/images/viscnn_images/421.jpg\", \"x\": -0.09022349368786414, \"xanchor\": \"center\", \"xref\": \"x\", \"y\": 9.178736360968852e-05, \"yanchor\": \"middle\", \"yref\": \"y\"}, {\"sizex\": 0.008, \"sizey\": 0.008, \"source\": \"http://chrishamblin.xyz/images/viscnn_images/422.jpg\", \"x\": 0.025785871799466842, \"xanchor\": \"center\", \"xref\": \"x\", \"y\": 0.03521269676701085, \"yanchor\": \"middle\", \"yref\": \"y\"}, {\"sizex\": 0.008, \"sizey\": 0.008, \"source\": \"http://chrishamblin.xyz/images/viscnn_images/423.jpg\", \"x\": -0.04286856878133945, \"xanchor\": \"center\", \"xref\": \"x\", \"y\": 0.09914560265261119, \"yanchor\": \"middle\", \"yref\": \"y\"}, {\"sizex\": 0.008, \"sizey\": 0.008, \"source\": \"http://chrishamblin.xyz/images/viscnn_images/424.jpg\", \"x\": -0.10153570030859432, \"xanchor\": \"center\", \"xref\": \"x\", \"y\": -0.06581694204837168, \"yanchor\": \"middle\", \"yref\": \"y\"}, {\"sizex\": 0.008, \"sizey\": 0.008, \"source\": \"http://chrishamblin.xyz/images/viscnn_images/425.jpg\", \"x\": -0.02713181036456019, \"xanchor\": \"center\", \"xref\": \"x\", \"y\": 0.06834368308047666, \"yanchor\": \"middle\", \"yref\": \"y\"}, {\"sizex\": 0.008, \"sizey\": 0.008, \"source\": \"http://chrishamblin.xyz/images/viscnn_images/426.jpg\", \"x\": 0.08595690538289893, \"xanchor\": \"center\", \"xref\": \"x\", \"y\": -0.09958499429120919, \"yanchor\": \"middle\", \"yref\": \"y\"}, {\"sizex\": 0.008, \"sizey\": 0.008, \"source\": \"http://chrishamblin.xyz/images/viscnn_images/427.jpg\", \"x\": 0.07367543592966927, \"xanchor\": \"center\", \"xref\": \"x\", \"y\": -0.02908201094362439, \"yanchor\": \"middle\", \"yref\": \"y\"}, {\"sizex\": 0.008, \"sizey\": 0.008, \"source\": \"http://chrishamblin.xyz/images/viscnn_images/428.jpg\", \"x\": 0.09371149800190928, \"xanchor\": \"center\", \"xref\": \"x\", \"y\": 0.09041819354383401, \"yanchor\": \"middle\", \"yref\": \"y\"}, {\"sizex\": 0.008, \"sizey\": 0.008, \"source\": \"http://chrishamblin.xyz/images/viscnn_images/429.jpg\", \"x\": -0.0610649885918127, \"xanchor\": \"center\", \"xref\": \"x\", \"y\": -0.09246140675987723, \"yanchor\": \"middle\", \"yref\": \"y\"}, {\"sizex\": 0.008, \"sizey\": 0.008, \"source\": \"http://chrishamblin.xyz/images/viscnn_images/430.jpg\", \"x\": 0.12634916730784485, \"xanchor\": \"center\", \"xref\": \"x\", \"y\": -0.06525989480755867, \"yanchor\": \"middle\", \"yref\": \"y\"}, {\"sizex\": 0.008, \"sizey\": 0.008, \"source\": \"http://chrishamblin.xyz/images/viscnn_images/431.jpg\", \"x\": -0.10058902333552627, \"xanchor\": \"center\", \"xref\": \"x\", \"y\": -0.052884302427321554, \"yanchor\": \"middle\", \"yref\": \"y\"}, {\"sizex\": 0.008, \"sizey\": 0.008, \"source\": \"http://chrishamblin.xyz/images/viscnn_images/432.jpg\", \"x\": -0.06548388183730287, \"xanchor\": \"center\", \"xref\": \"x\", \"y\": 0.055875494476199716, \"yanchor\": \"middle\", \"yref\": \"y\"}, {\"sizex\": 0.008, \"sizey\": 0.008, \"source\": \"http://chrishamblin.xyz/images/viscnn_images/433.jpg\", \"x\": 0.004383744246850063, \"xanchor\": \"center\", \"xref\": \"x\", \"y\": -0.09333558579931142, \"yanchor\": \"middle\", \"yref\": \"y\"}, {\"sizex\": 0.008, \"sizey\": 0.008, \"source\": \"http://chrishamblin.xyz/images/viscnn_images/434.jpg\", \"x\": 0.07097890507743329, \"xanchor\": \"center\", \"xref\": \"x\", \"y\": -0.05653859516794174, \"yanchor\": \"middle\", \"yref\": \"y\"}, {\"sizex\": 0.008, \"sizey\": 0.008, \"source\": \"http://chrishamblin.xyz/images/viscnn_images/435.jpg\", \"x\": 0.12085652498487641, \"xanchor\": \"center\", \"xref\": \"x\", \"y\": 0.043586653619619796, \"yanchor\": \"middle\", \"yref\": \"y\"}, {\"sizex\": 0.008, \"sizey\": 0.008, \"source\": \"http://chrishamblin.xyz/images/viscnn_images/436.jpg\", \"x\": -0.043713497080177306, \"xanchor\": \"center\", \"xref\": \"x\", \"y\": 0.11234053826096854, \"yanchor\": \"middle\", \"yref\": \"y\"}, {\"sizex\": 0.008, \"sizey\": 0.008, \"source\": \"http://chrishamblin.xyz/images/viscnn_images/437.jpg\", \"x\": 0.13457017967571355, \"xanchor\": \"center\", \"xref\": \"x\", \"y\": 0.053756091968265515, \"yanchor\": \"middle\", \"yref\": \"y\"}, {\"sizex\": 0.008, \"sizey\": 0.008, \"source\": \"http://chrishamblin.xyz/images/viscnn_images/438.jpg\", \"x\": 0.09149618506389656, \"xanchor\": \"center\", \"xref\": \"x\", \"y\": -0.00892375467411113, \"yanchor\": \"middle\", \"yref\": \"y\"}, {\"sizex\": 0.008, \"sizey\": 0.008, \"source\": \"http://chrishamblin.xyz/images/viscnn_images/439.jpg\", \"x\": 0.08389534380990132, \"xanchor\": \"center\", \"xref\": \"x\", \"y\": 0.05987432786886363, \"yanchor\": \"middle\", \"yref\": \"y\"}, {\"sizex\": 0.008, \"sizey\": 0.008, \"source\": \"http://chrishamblin.xyz/images/viscnn_images/440.jpg\", \"x\": 0.10424334347284481, \"xanchor\": \"center\", \"xref\": \"x\", \"y\": -0.028000925182996808, \"yanchor\": \"middle\", \"yref\": \"y\"}, {\"sizex\": 0.008, \"sizey\": 0.008, \"source\": \"http://chrishamblin.xyz/images/viscnn_images/441.jpg\", \"x\": 0.05123713680757151, \"xanchor\": \"center\", \"xref\": \"x\", \"y\": -0.04202577542401454, \"yanchor\": \"middle\", \"yref\": \"y\"}, {\"sizex\": 0.008, \"sizey\": 0.008, \"source\": \"http://chrishamblin.xyz/images/viscnn_images/442.jpg\", \"x\": 0.03647108547923384, \"xanchor\": \"center\", \"xref\": \"x\", \"y\": -0.11999324329487661, \"yanchor\": \"middle\", \"yref\": \"y\"}, {\"sizex\": 0.008, \"sizey\": 0.008, \"source\": \"http://chrishamblin.xyz/images/viscnn_images/443.jpg\", \"x\": -0.006500204395000626, \"xanchor\": \"center\", \"xref\": \"x\", \"y\": -0.05167328234457978, \"yanchor\": \"middle\", \"yref\": \"y\"}, {\"sizex\": 0.008, \"sizey\": 0.008, \"source\": \"http://chrishamblin.xyz/images/viscnn_images/444.jpg\", \"x\": -0.07551436969992585, \"xanchor\": \"center\", \"xref\": \"x\", \"y\": -0.06126742750783745, \"yanchor\": \"middle\", \"yref\": \"y\"}, {\"sizex\": 0.008, \"sizey\": 0.008, \"source\": \"http://chrishamblin.xyz/images/viscnn_images/445.jpg\", \"x\": -0.13341803055805734, \"xanchor\": \"center\", \"xref\": \"x\", \"y\": -0.0138840777977518, \"yanchor\": \"middle\", \"yref\": \"y\"}, {\"sizex\": 0.008, \"sizey\": 0.008, \"source\": \"http://chrishamblin.xyz/images/viscnn_images/446.jpg\", \"x\": -0.08793323310889965, \"xanchor\": \"center\", \"xref\": \"x\", \"y\": -0.06259681879498898, \"yanchor\": \"middle\", \"yref\": \"y\"}, {\"sizex\": 0.008, \"sizey\": 0.008, \"source\": \"http://chrishamblin.xyz/images/viscnn_images/447.jpg\", \"x\": 0.09683987702341043, \"xanchor\": \"center\", \"xref\": \"x\", \"y\": -0.05767530106780506, \"yanchor\": \"middle\", \"yref\": \"y\"}, {\"sizex\": 0.008, \"sizey\": 0.008, \"source\": \"http://chrishamblin.xyz/images/viscnn_images/448.jpg\", \"x\": 0.06904593002654348, \"xanchor\": \"center\", \"xref\": \"x\", \"y\": -0.09929052886813657, \"yanchor\": \"middle\", \"yref\": \"y\"}, {\"sizex\": 0.008, \"sizey\": 0.008, \"source\": \"http://chrishamblin.xyz/images/viscnn_images/449.jpg\", \"x\": 0.058778012142638336, \"xanchor\": \"center\", \"xref\": \"x\", \"y\": 0.044974311542847215, \"yanchor\": \"middle\", \"yref\": \"y\"}, {\"sizex\": 0.008, \"sizey\": 0.008, \"source\": \"http://chrishamblin.xyz/images/viscnn_images/450.jpg\", \"x\": 0.002581833504145422, \"xanchor\": \"center\", \"xref\": \"x\", \"y\": -0.12249295305552467, \"yanchor\": \"middle\", \"yref\": \"y\"}, {\"sizex\": 0.008, \"sizey\": 0.008, \"source\": \"http://chrishamblin.xyz/images/viscnn_images/451.jpg\", \"x\": 0.0648496367823415, \"xanchor\": \"center\", \"xref\": \"x\", \"y\": -0.04054937508484589, \"yanchor\": \"middle\", \"yref\": \"y\"}, {\"sizex\": 0.008, \"sizey\": 0.008, \"source\": \"http://chrishamblin.xyz/images/viscnn_images/452.jpg\", \"x\": -0.06436100790038009, \"xanchor\": \"center\", \"xref\": \"x\", \"y\": 0.12860014415822638, \"yanchor\": \"middle\", \"yref\": \"y\"}, {\"sizex\": 0.008, \"sizey\": 0.008, \"source\": \"http://chrishamblin.xyz/images/viscnn_images/453.jpg\", \"x\": -0.03776481790012122, \"xanchor\": \"center\", \"xref\": \"x\", \"y\": 0.028931134211561366, \"yanchor\": \"middle\", \"yref\": \"y\"}, {\"sizex\": 0.008, \"sizey\": 0.008, \"source\": \"http://chrishamblin.xyz/images/viscnn_images/454.jpg\", \"x\": -0.1200490471699328, \"xanchor\": \"center\", \"xref\": \"x\", \"y\": -0.014969294527981547, \"yanchor\": \"middle\", \"yref\": \"y\"}, {\"sizex\": 0.008, \"sizey\": 0.008, \"source\": \"http://chrishamblin.xyz/images/viscnn_images/455.jpg\", \"x\": -0.09812252684202497, \"xanchor\": \"center\", \"xref\": \"x\", \"y\": -0.08724014983500696, \"yanchor\": \"middle\", \"yref\": \"y\"}, {\"sizex\": 0.008, \"sizey\": 0.008, \"source\": \"http://chrishamblin.xyz/images/viscnn_images/456.jpg\", \"x\": -0.11065242401800819, \"xanchor\": \"center\", \"xref\": \"x\", \"y\": 0.02837967848850205, \"yanchor\": \"middle\", \"yref\": \"y\"}, {\"sizex\": 0.008, \"sizey\": 0.008, \"source\": \"http://chrishamblin.xyz/images/viscnn_images/457.jpg\", \"x\": -0.013607043733688992, \"xanchor\": \"center\", \"xref\": \"x\", \"y\": -0.041309981979329474, \"yanchor\": \"middle\", \"yref\": \"y\"}, {\"sizex\": 0.008, \"sizey\": 0.008, \"source\": \"http://chrishamblin.xyz/images/viscnn_images/458.jpg\", \"x\": 0.03957092322720139, \"xanchor\": \"center\", \"xref\": \"x\", \"y\": 0.03426882948465543, \"yanchor\": \"middle\", \"yref\": \"y\"}, {\"sizex\": 0.008, \"sizey\": 0.008, \"source\": \"http://chrishamblin.xyz/images/viscnn_images/459.jpg\", \"x\": -0.023227069714088174, \"xanchor\": \"center\", \"xref\": \"x\", \"y\": 0.08006160768714828, \"yanchor\": \"middle\", \"yref\": \"y\"}, {\"sizex\": 0.008, \"sizey\": 0.008, \"source\": \"http://chrishamblin.xyz/images/viscnn_images/460.jpg\", \"x\": 0.07935851693091, \"xanchor\": \"center\", \"xref\": \"x\", \"y\": -0.0153618330809291, \"yanchor\": \"middle\", \"yref\": \"y\"}, {\"sizex\": 0.008, \"sizey\": 0.008, \"source\": \"http://chrishamblin.xyz/images/viscnn_images/461.jpg\", \"x\": -0.006540890739034246, \"xanchor\": \"center\", \"xref\": \"x\", \"y\": -0.08594539849624432, \"yanchor\": \"middle\", \"yref\": \"y\"}, {\"sizex\": 0.008, \"sizey\": 0.008, \"source\": \"http://chrishamblin.xyz/images/viscnn_images/462.jpg\", \"x\": 0.13077583721600777, \"xanchor\": \"center\", \"xref\": \"x\", \"y\": 0.025920123792413086, \"yanchor\": \"middle\", \"yref\": \"y\"}, {\"sizex\": 0.008, \"sizey\": 0.008, \"source\": \"http://chrishamblin.xyz/images/viscnn_images/463.jpg\", \"x\": 0.04018952956999164, \"xanchor\": \"center\", \"xref\": \"x\", \"y\": -0.07755437829122787, \"yanchor\": \"middle\", \"yref\": \"y\"}, {\"sizex\": 0.008, \"sizey\": 0.008, \"source\": \"http://chrishamblin.xyz/images/viscnn_images/464.jpg\", \"x\": -0.029282810571949442, \"xanchor\": \"center\", \"xref\": \"x\", \"y\": -0.12194695289496278, \"yanchor\": \"middle\", \"yref\": \"y\"}, {\"sizex\": 0.008, \"sizey\": 0.008, \"source\": \"http://chrishamblin.xyz/images/viscnn_images/465.jpg\", \"x\": 0.0692730490540423, \"xanchor\": \"center\", \"xref\": \"x\", \"y\": 0.09736152746753599, \"yanchor\": \"middle\", \"yref\": \"y\"}, {\"sizex\": 0.008, \"sizey\": 0.008, \"source\": \"http://chrishamblin.xyz/images/viscnn_images/466.jpg\", \"x\": 0.056100356789018924, \"xanchor\": \"center\", \"xref\": \"x\", \"y\": -0.02921463605568673, \"yanchor\": \"middle\", \"yref\": \"y\"}, {\"sizex\": 0.008, \"sizey\": 0.008, \"source\": \"http://chrishamblin.xyz/images/viscnn_images/467.jpg\", \"x\": 0.028272829983606283, \"xanchor\": \"center\", \"xref\": \"x\", \"y\": 0.11776506684284317, \"yanchor\": \"middle\", \"yref\": \"y\"}, {\"sizex\": 0.008, \"sizey\": 0.008, \"source\": \"http://chrishamblin.xyz/images/viscnn_images/468.jpg\", \"x\": -0.010248447191580462, \"xanchor\": \"center\", \"xref\": \"x\", \"y\": -0.11843182277999165, \"yanchor\": \"middle\", \"yref\": \"y\"}, {\"sizex\": 0.008, \"sizey\": 0.008, \"source\": \"http://chrishamblin.xyz/images/viscnn_images/469.jpg\", \"x\": -0.1449337314228615, \"xanchor\": \"center\", \"xref\": \"x\", \"y\": 0.012998843362951314, \"yanchor\": \"middle\", \"yref\": \"y\"}, {\"sizex\": 0.008, \"sizey\": 0.008, \"source\": \"http://chrishamblin.xyz/images/viscnn_images/470.jpg\", \"x\": 0.07922570472064043, \"xanchor\": \"center\", \"xref\": \"x\", \"y\": -0.07447653543760094, \"yanchor\": \"middle\", \"yref\": \"y\"}, {\"sizex\": 0.008, \"sizey\": 0.008, \"source\": \"http://chrishamblin.xyz/images/viscnn_images/471.jpg\", \"x\": 0.0008845196552750409, \"xanchor\": \"center\", \"xref\": \"x\", \"y\": 0.1098379978165437, \"yanchor\": \"middle\", \"yref\": \"y\"}, {\"sizex\": 0.008, \"sizey\": 0.008, \"source\": \"http://chrishamblin.xyz/images/viscnn_images/472.jpg\", \"x\": 0.07336137966963704, \"xanchor\": \"center\", \"xref\": \"x\", \"y\": 0.08186674721349341, \"yanchor\": \"middle\", \"yref\": \"y\"}, {\"sizex\": 0.008, \"sizey\": 0.008, \"source\": \"http://chrishamblin.xyz/images/viscnn_images/473.jpg\", \"x\": 0.10243070789146015, \"xanchor\": \"center\", \"xref\": \"x\", \"y\": -0.01500003851524201, \"yanchor\": \"middle\", \"yref\": \"y\"}, {\"sizex\": 0.008, \"sizey\": 0.008, \"source\": \"http://chrishamblin.xyz/images/viscnn_images/474.jpg\", \"x\": -0.054584269543015686, \"xanchor\": \"center\", \"xref\": \"x\", \"y\": 0.07100658064905008, \"yanchor\": \"middle\", \"yref\": \"y\"}, {\"sizex\": 0.008, \"sizey\": 0.008, \"source\": \"http://chrishamblin.xyz/images/viscnn_images/475.jpg\", \"x\": -0.11681327755136471, \"xanchor\": \"center\", \"xref\": \"x\", \"y\": 0.07031234998118414, \"yanchor\": \"middle\", \"yref\": \"y\"}, {\"sizex\": 0.008, \"sizey\": 0.008, \"source\": \"http://chrishamblin.xyz/images/viscnn_images/476.jpg\", \"x\": 0.019562070460643604, \"xanchor\": \"center\", \"xref\": \"x\", \"y\": 0.1289663809996577, \"yanchor\": \"middle\", \"yref\": \"y\"}, {\"sizex\": 0.008, \"sizey\": 0.008, \"source\": \"http://chrishamblin.xyz/images/viscnn_images/477.jpg\", \"x\": 0.0275153982786026, \"xanchor\": \"center\", \"xref\": \"x\", \"y\": -0.13112682683969823, \"yanchor\": \"middle\", \"yref\": \"y\"}, {\"sizex\": 0.008, \"sizey\": 0.008, \"source\": \"http://chrishamblin.xyz/images/viscnn_images/478.jpg\", \"x\": 0.004972736968601167, \"xanchor\": \"center\", \"xref\": \"x\", \"y\": 0.01763504001776396, \"yanchor\": \"middle\", \"yref\": \"y\"}, {\"sizex\": 0.008, \"sizey\": 0.008, \"source\": \"http://chrishamblin.xyz/images/viscnn_images/479.jpg\", \"x\": -0.07916017988748678, \"xanchor\": \"center\", \"xref\": \"x\", \"y\": 0.07632646325467635, \"yanchor\": \"middle\", \"yref\": \"y\"}, {\"sizex\": 0.008, \"sizey\": 0.008, \"source\": \"http://chrishamblin.xyz/images/viscnn_images/480.jpg\", \"x\": -0.06807022162787218, \"xanchor\": \"center\", \"xref\": \"x\", \"y\": 0.1147711221777353, \"yanchor\": \"middle\", \"yref\": \"y\"}, {\"sizex\": 0.008, \"sizey\": 0.008, \"source\": \"http://chrishamblin.xyz/images/viscnn_images/481.jpg\", \"x\": 0.08317351290600719, \"xanchor\": \"center\", \"xref\": \"x\", \"y\": -0.06174980759389078, \"yanchor\": \"middle\", \"yref\": \"y\"}, {\"sizex\": 0.008, \"sizey\": 0.008, \"source\": \"http://chrishamblin.xyz/images/viscnn_images/482.jpg\", \"x\": -0.010943278170836358, \"xanchor\": \"center\", \"xref\": \"x\", \"y\": -0.10303081219148788, \"yanchor\": \"middle\", \"yref\": \"y\"}, {\"sizex\": 0.008, \"sizey\": 0.008, \"source\": \"http://chrishamblin.xyz/images/viscnn_images/483.jpg\", \"x\": -0.02669270922033266, \"xanchor\": \"center\", \"xref\": \"x\", \"y\": -0.14169273471762128, \"yanchor\": \"middle\", \"yref\": \"y\"}, {\"sizex\": 0.008, \"sizey\": 0.008, \"source\": \"http://chrishamblin.xyz/images/viscnn_images/484.jpg\", \"x\": 0.02925072111174554, \"xanchor\": \"center\", \"xref\": \"x\", \"y\": -0.08664552119257644, \"yanchor\": \"middle\", \"yref\": \"y\"}, {\"sizex\": 0.008, \"sizey\": 0.008, \"source\": \"http://chrishamblin.xyz/images/viscnn_images/485.jpg\", \"x\": 0.03713663534644324, \"xanchor\": \"center\", \"xref\": \"x\", \"y\": -0.03595239795415745, \"yanchor\": \"middle\", \"yref\": \"y\"}, {\"sizex\": 0.008, \"sizey\": 0.008, \"source\": \"http://chrishamblin.xyz/images/viscnn_images/486.jpg\", \"x\": -0.03966265437307743, \"xanchor\": \"center\", \"xref\": \"x\", \"y\": 0.0772863788075314, \"yanchor\": \"middle\", \"yref\": \"y\"}, {\"sizex\": 0.008, \"sizey\": 0.008, \"source\": \"http://chrishamblin.xyz/images/viscnn_images/487.jpg\", \"x\": -0.04611851509381566, \"xanchor\": \"center\", \"xref\": \"x\", \"y\": -0.08897799902774363, \"yanchor\": \"middle\", \"yref\": \"y\"}, {\"sizex\": 0.008, \"sizey\": 0.008, \"source\": \"http://chrishamblin.xyz/images/viscnn_images/488.jpg\", \"x\": 0.06283723238736312, \"xanchor\": \"center\", \"xref\": \"x\", \"y\": -0.12741788834129442, \"yanchor\": \"middle\", \"yref\": \"y\"}, {\"sizex\": 0.008, \"sizey\": 0.008, \"source\": \"http://chrishamblin.xyz/images/viscnn_images/489.jpg\", \"x\": -0.12978828040471396, \"xanchor\": \"center\", \"xref\": \"x\", \"y\": 0.06497811451239716, \"yanchor\": \"middle\", \"yref\": \"y\"}, {\"sizex\": 0.008, \"sizey\": 0.008, \"source\": \"http://chrishamblin.xyz/images/viscnn_images/490.jpg\", \"x\": 0.0532348089312203, \"xanchor\": \"center\", \"xref\": \"x\", \"y\": -0.06686424402847951, \"yanchor\": \"middle\", \"yref\": \"y\"}, {\"sizex\": 0.008, \"sizey\": 0.008, \"source\": \"http://chrishamblin.xyz/images/viscnn_images/491.jpg\", \"x\": -0.019180986834230068, \"xanchor\": \"center\", \"xref\": \"x\", \"y\": 0.12337433757465642, \"yanchor\": \"middle\", \"yref\": \"y\"}, {\"sizex\": 0.008, \"sizey\": 0.008, \"source\": \"http://chrishamblin.xyz/images/viscnn_images/492.jpg\", \"x\": -0.0679164593453741, \"xanchor\": \"center\", \"xref\": \"x\", \"y\": 0.06822746204640483, \"yanchor\": \"middle\", \"yref\": \"y\"}, {\"sizex\": 0.008, \"sizey\": 0.008, \"source\": \"http://chrishamblin.xyz/images/viscnn_images/493.jpg\", \"x\": -0.031934155404240834, \"xanchor\": \"center\", \"xref\": \"x\", \"y\": -0.10172178045184846, \"yanchor\": \"middle\", \"yref\": \"y\"}, {\"sizex\": 0.008, \"sizey\": 0.008, \"source\": \"http://chrishamblin.xyz/images/viscnn_images/494.jpg\", \"x\": 0.06527443987150668, \"xanchor\": \"center\", \"xref\": \"x\", \"y\": -0.0849908678229957, \"yanchor\": \"middle\", \"yref\": \"y\"}, {\"sizex\": 0.008, \"sizey\": 0.008, \"source\": \"http://chrishamblin.xyz/images/viscnn_images/495.jpg\", \"x\": -0.13191584098147865, \"xanchor\": \"center\", \"xref\": \"x\", \"y\": -0.058596740745250266, \"yanchor\": \"middle\", \"yref\": \"y\"}, {\"sizex\": 0.008, \"sizey\": 0.008, \"source\": \"http://chrishamblin.xyz/images/viscnn_images/496.jpg\", \"x\": 0.04244808392386321, \"xanchor\": \"center\", \"xref\": \"x\", \"y\": 0.0017524210396184538, \"yanchor\": \"middle\", \"yref\": \"y\"}, {\"sizex\": 0.008, \"sizey\": 0.008, \"source\": \"http://chrishamblin.xyz/images/viscnn_images/497.jpg\", \"x\": -0.011695718222379048, \"xanchor\": \"center\", \"xref\": \"x\", \"y\": 0.01745965392415593, \"yanchor\": \"middle\", \"yref\": \"y\"}, {\"sizex\": 0.008, \"sizey\": 0.008, \"source\": \"http://chrishamblin.xyz/images/viscnn_images/498.jpg\", \"x\": -0.036898498487078345, \"xanchor\": \"center\", \"xref\": \"x\", \"y\": -0.1353544109945451, \"yanchor\": \"middle\", \"yref\": \"y\"}, {\"sizex\": 0.008, \"sizey\": 0.008, \"source\": \"http://chrishamblin.xyz/images/viscnn_images/499.jpg\", \"x\": -0.04409810454298712, \"xanchor\": \"center\", \"xref\": \"x\", \"y\": -0.12377262664902298, \"yanchor\": \"middle\", \"yref\": \"y\"}, {\"sizex\": 0.008, \"sizey\": 0.008, \"source\": \"http://chrishamblin.xyz/images/viscnn_images/500.jpg\", \"x\": -0.14419465747713694, \"xanchor\": \"center\", \"xref\": \"x\", \"y\": -0.005030135065374984, \"yanchor\": \"middle\", \"yref\": \"y\"}, {\"sizex\": 0.008, \"sizey\": 0.008, \"source\": \"http://chrishamblin.xyz/images/viscnn_images/501.jpg\", \"x\": 0.10655225279297154, \"xanchor\": \"center\", \"xref\": \"x\", \"y\": -0.07833897073328368, \"yanchor\": \"middle\", \"yref\": \"y\"}, {\"sizex\": 0.008, \"sizey\": 0.008, \"source\": \"http://chrishamblin.xyz/images/viscnn_images/502.jpg\", \"x\": 0.12405231708811079, \"xanchor\": \"center\", \"xref\": \"x\", \"y\": 0.05999647750451635, \"yanchor\": \"middle\", \"yref\": \"y\"}, {\"sizex\": 0.008, \"sizey\": 0.008, \"source\": \"http://chrishamblin.xyz/images/viscnn_images/503.jpg\", \"x\": 0.08842861307213568, \"xanchor\": \"center\", \"xref\": \"x\", \"y\": -0.11359555750032352, \"yanchor\": \"middle\", \"yref\": \"y\"}, {\"sizex\": 0.008, \"sizey\": 0.008, \"source\": \"http://chrishamblin.xyz/images/viscnn_images/504.jpg\", \"x\": 0.05040791284216752, \"xanchor\": \"center\", \"xref\": \"x\", \"y\": -0.1357471526952618, \"yanchor\": \"middle\", \"yref\": \"y\"}, {\"sizex\": 0.008, \"sizey\": 0.008, \"source\": \"http://chrishamblin.xyz/images/viscnn_images/505.jpg\", \"x\": 0.024726661069034123, \"xanchor\": \"center\", \"xref\": \"x\", \"y\": -0.021092183115539807, \"yanchor\": \"middle\", \"yref\": \"y\"}, {\"sizex\": 0.008, \"sizey\": 0.008, \"source\": \"http://chrishamblin.xyz/images/viscnn_images/506.jpg\", \"x\": -0.039820289280946136, \"xanchor\": \"center\", \"xref\": \"x\", \"y\": -0.03807947803709569, \"yanchor\": \"middle\", \"yref\": \"y\"}, {\"sizex\": 0.008, \"sizey\": 0.008, \"source\": \"http://chrishamblin.xyz/images/viscnn_images/507.jpg\", \"x\": -0.024069050853767718, \"xanchor\": \"center\", \"xref\": \"x\", \"y\": 0.010550698132162067, \"yanchor\": \"middle\", \"yref\": \"y\"}, {\"sizex\": 0.008, \"sizey\": 0.008, \"source\": \"http://chrishamblin.xyz/images/viscnn_images/508.jpg\", \"x\": -0.018310487736788086, \"xanchor\": \"center\", \"xref\": \"x\", \"y\": -0.12958409438298454, \"yanchor\": \"middle\", \"yref\": \"y\"}, {\"sizex\": 0.008, \"sizey\": 0.008, \"source\": \"http://chrishamblin.xyz/images/viscnn_images/509.jpg\", \"x\": -0.12510868545541382, \"xanchor\": \"center\", \"xref\": \"x\", \"y\": -0.0021428033928896453, \"yanchor\": \"middle\", \"yref\": \"y\"}, {\"sizex\": 0.008, \"sizey\": 0.008, \"source\": \"http://chrishamblin.xyz/images/viscnn_images/510.jpg\", \"x\": 0.040626268158640434, \"xanchor\": \"center\", \"xref\": \"x\", \"y\": -0.06351100698079991, \"yanchor\": \"middle\", \"yref\": \"y\"}, {\"sizex\": 0.008, \"sizey\": 0.008, \"source\": \"http://chrishamblin.xyz/images/viscnn_images/511.jpg\", \"x\": 0.13357279632696312, \"xanchor\": \"center\", \"xref\": \"x\", \"y\": -0.054841892188422336, \"yanchor\": \"middle\", \"yref\": \"y\"}, {\"sizex\": 0.008, \"sizey\": 0.008, \"source\": \"http://chrishamblin.xyz/images/viscnn_images/512.jpg\", \"x\": 0.07783295473637056, \"xanchor\": \"center\", \"xref\": \"x\", \"y\": 0.0468286739201317, \"yanchor\": \"middle\", \"yref\": \"y\"}, {\"sizex\": 0.008, \"sizey\": 0.008, \"source\": \"http://chrishamblin.xyz/images/viscnn_images/513.jpg\", \"x\": 0.11276030646756877, \"xanchor\": \"center\", \"xref\": \"x\", \"y\": 0.03257428397690051, \"yanchor\": \"middle\", \"yref\": \"y\"}, {\"sizex\": 0.008, \"sizey\": 0.008, \"source\": \"http://chrishamblin.xyz/images/viscnn_images/514.jpg\", \"x\": 0.042914718187966855, \"xanchor\": \"center\", \"xref\": \"x\", \"y\": 0.12006601922937708, \"yanchor\": \"middle\", \"yref\": \"y\"}, {\"sizex\": 0.008, \"sizey\": 0.008, \"source\": \"http://chrishamblin.xyz/images/viscnn_images/515.jpg\", \"x\": -0.07751292349826236, \"xanchor\": \"center\", \"xref\": \"x\", \"y\": 0.08909390055034855, \"yanchor\": \"middle\", \"yref\": \"y\"}, {\"sizex\": 0.008, \"sizey\": 0.008, \"source\": \"http://chrishamblin.xyz/images/viscnn_images/516.jpg\", \"x\": -0.016797765028699313, \"xanchor\": \"center\", \"xref\": \"x\", \"y\": 0.10952229835712976, \"yanchor\": \"middle\", \"yref\": \"y\"}, {\"sizex\": 0.008, \"sizey\": 0.008, \"source\": \"http://chrishamblin.xyz/images/viscnn_images/517.jpg\", \"x\": -0.0003900846376370237, \"xanchor\": \"center\", \"xref\": \"x\", \"y\": -0.005315842493216245, \"yanchor\": \"middle\", \"yref\": \"y\"}, {\"sizex\": 0.008, \"sizey\": 0.008, \"source\": \"http://chrishamblin.xyz/images/viscnn_images/518.jpg\", \"x\": -0.027941805230457924, \"xanchor\": \"center\", \"xref\": \"x\", \"y\": -0.05087012659060421, \"yanchor\": \"middle\", \"yref\": \"y\"}, {\"sizex\": 0.008, \"sizey\": 0.008, \"source\": \"http://chrishamblin.xyz/images/viscnn_images/519.jpg\", \"x\": 0.05541267155764541, \"xanchor\": \"center\", \"xref\": \"x\", \"y\": -0.09731696343159814, \"yanchor\": \"middle\", \"yref\": \"y\"}, {\"sizex\": 0.008, \"sizey\": 0.008, \"source\": \"http://chrishamblin.xyz/images/viscnn_images/520.jpg\", \"x\": -0.06406112044187354, \"xanchor\": \"center\", \"xref\": \"x\", \"y\": 0.08263272817269993, \"yanchor\": \"middle\", \"yref\": \"y\"}, {\"sizex\": 0.008, \"sizey\": 0.008, \"source\": \"http://chrishamblin.xyz/images/viscnn_images/521.jpg\", \"x\": 0.11086164455513542, \"xanchor\": \"center\", \"xref\": \"x\", \"y\": -0.06465998255102509, \"yanchor\": \"middle\", \"yref\": \"y\"}, {\"sizex\": 0.008, \"sizey\": 0.008, \"source\": \"http://chrishamblin.xyz/images/viscnn_images/522.jpg\", \"x\": -0.12661682994128443, \"xanchor\": \"center\", \"xref\": \"x\", \"y\": 0.04039515968386848, \"yanchor\": \"middle\", \"yref\": \"y\"}, {\"sizex\": 0.008, \"sizey\": 0.008, \"source\": \"http://chrishamblin.xyz/images/viscnn_images/523.jpg\", \"x\": 0.018576827029591434, \"xanchor\": \"center\", \"xref\": \"x\", \"y\": -0.09593952023435866, \"yanchor\": \"middle\", \"yref\": \"y\"}, {\"sizex\": 0.008, \"sizey\": 0.008, \"source\": \"http://chrishamblin.xyz/images/viscnn_images/524.jpg\", \"x\": -0.06830154086789052, \"xanchor\": \"center\", \"xref\": \"x\", \"y\": 0.014271756070946653, \"yanchor\": \"middle\", \"yref\": \"y\"}, {\"sizex\": 0.008, \"sizey\": 0.008, \"source\": \"http://chrishamblin.xyz/images/viscnn_images/525.jpg\", \"x\": 0.14425959241667324, \"xanchor\": \"center\", \"xref\": \"x\", \"y\": -0.012444008566380341, \"yanchor\": \"middle\", \"yref\": \"y\"}, {\"sizex\": 0.008, \"sizey\": 0.008, \"source\": \"http://chrishamblin.xyz/images/viscnn_images/526.jpg\", \"x\": 0.04118749346838492, \"xanchor\": \"center\", \"xref\": \"x\", \"y\": -0.05012303524405046, \"yanchor\": \"middle\", \"yref\": \"y\"}, {\"sizex\": 0.008, \"sizey\": 0.008, \"source\": \"http://chrishamblin.xyz/images/viscnn_images/527.jpg\", \"x\": -0.10459960888388527, \"xanchor\": \"center\", \"xref\": \"x\", \"y\": -0.09903738776966643, \"yanchor\": \"middle\", \"yref\": \"y\"}, {\"sizex\": 0.008, \"sizey\": 0.008, \"source\": \"http://chrishamblin.xyz/images/viscnn_images/528.jpg\", \"x\": 0.06005786161666109, \"xanchor\": \"center\", \"xref\": \"x\", \"y\": 0.08718533790850766, \"yanchor\": \"middle\", \"yref\": \"y\"}, {\"sizex\": 0.008, \"sizey\": 0.008, \"source\": \"http://chrishamblin.xyz/images/viscnn_images/529.jpg\", \"x\": -0.07524470042800026, \"xanchor\": \"center\", \"xref\": \"x\", \"y\": -0.04694575690145393, \"yanchor\": \"middle\", \"yref\": \"y\"}, {\"sizex\": 0.008, \"sizey\": 0.008, \"source\": \"http://chrishamblin.xyz/images/viscnn_images/530.jpg\", \"x\": 0.027013970015859874, \"xanchor\": \"center\", \"xref\": \"x\", \"y\": 0.10529447462922321, \"yanchor\": \"middle\", \"yref\": \"y\"}, {\"sizex\": 0.008, \"sizey\": 0.008, \"source\": \"http://chrishamblin.xyz/images/viscnn_images/531.jpg\", \"x\": -0.06735476440922367, \"xanchor\": \"center\", \"xref\": \"x\", \"y\": 0.09751613371697566, \"yanchor\": \"middle\", \"yref\": \"y\"}, {\"sizex\": 0.008, \"sizey\": 0.008, \"source\": \"http://chrishamblin.xyz/images/viscnn_images/532.jpg\", \"x\": 0.01502535761099273, \"xanchor\": \"center\", \"xref\": \"x\", \"y\": -0.08294501282311047, \"yanchor\": \"middle\", \"yref\": \"y\"}, {\"sizex\": 0.008, \"sizey\": 0.008, \"source\": \"http://chrishamblin.xyz/images/viscnn_images/533.jpg\", \"x\": -0.057749236431143755, \"xanchor\": \"center\", \"xref\": \"x\", \"y\": -0.07958113623140638, \"yanchor\": \"middle\", \"yref\": \"y\"}, {\"sizex\": 0.008, \"sizey\": 0.008, \"source\": \"http://chrishamblin.xyz/images/viscnn_images/534.jpg\", \"x\": -0.07915646539035676, \"xanchor\": \"center\", \"xref\": \"x\", \"y\": 0.00706090476906328, \"yanchor\": \"middle\", \"yref\": \"y\"}, {\"sizex\": 0.008, \"sizey\": 0.008, \"source\": \"http://chrishamblin.xyz/images/viscnn_images/535.jpg\", \"x\": -0.04502620678988332, \"xanchor\": \"center\", \"xref\": \"x\", \"y\": -0.007968477722746706, \"yanchor\": \"middle\", \"yref\": \"y\"}, {\"sizex\": 0.008, \"sizey\": 0.008, \"source\": \"http://chrishamblin.xyz/images/viscnn_images/536.jpg\", \"x\": 0.04950868141912603, \"xanchor\": \"center\", \"xref\": \"x\", \"y\": -0.012334978315025181, \"yanchor\": \"middle\", \"yref\": \"y\"}, {\"sizex\": 0.008, \"sizey\": 0.008, \"source\": \"http://chrishamblin.xyz/images/viscnn_images/537.jpg\", \"x\": -0.08390551666976973, \"xanchor\": \"center\", \"xref\": \"x\", \"y\": -0.11707539083237047, \"yanchor\": \"middle\", \"yref\": \"y\"}, {\"sizex\": 0.008, \"sizey\": 0.008, \"source\": \"http://chrishamblin.xyz/images/viscnn_images/538.jpg\", \"x\": 0.023447115875960576, \"xanchor\": \"center\", \"xref\": \"x\", \"y\": -0.03331159836679305, \"yanchor\": \"middle\", \"yref\": \"y\"}, {\"sizex\": 0.008, \"sizey\": 0.008, \"source\": \"http://chrishamblin.xyz/images/viscnn_images/539.jpg\", \"x\": 0.012385349610288324, \"xanchor\": \"center\", \"xref\": \"x\", \"y\": -0.1318871652849575, \"yanchor\": \"middle\", \"yref\": \"y\"}, {\"sizex\": 0.008, \"sizey\": 0.008, \"source\": \"http://chrishamblin.xyz/images/viscnn_images/540.jpg\", \"x\": 0.04474005926540026, \"xanchor\": \"center\", \"xref\": \"x\", \"y\": 0.04684734917987759, \"yanchor\": \"middle\", \"yref\": \"y\"}, {\"sizex\": 0.008, \"sizey\": 0.008, \"source\": \"http://chrishamblin.xyz/images/viscnn_images/541.jpg\", \"x\": 0.02996695417369742, \"xanchor\": \"center\", \"xref\": \"x\", \"y\": 0.0692770505105615, \"yanchor\": \"middle\", \"yref\": \"y\"}, {\"sizex\": 0.008, \"sizey\": 0.008, \"source\": \"http://chrishamblin.xyz/images/viscnn_images/542.jpg\", \"x\": -0.0782923387165558, \"xanchor\": \"center\", \"xref\": \"x\", \"y\": 0.10568057039081705, \"yanchor\": \"middle\", \"yref\": \"y\"}, {\"sizex\": 0.008, \"sizey\": 0.008, \"source\": \"http://chrishamblin.xyz/images/viscnn_images/543.jpg\", \"x\": -0.0038203665459127264, \"xanchor\": \"center\", \"xref\": \"x\", \"y\": -0.13418995996234329, \"yanchor\": \"middle\", \"yref\": \"y\"}, {\"sizex\": 0.008, \"sizey\": 0.008, \"source\": \"http://chrishamblin.xyz/images/viscnn_images/544.jpg\", \"x\": 0.0665340705429619, \"xanchor\": \"center\", \"xref\": \"x\", \"y\": -0.06996130758447855, \"yanchor\": \"middle\", \"yref\": \"y\"}, {\"sizex\": 0.008, \"sizey\": 0.008, \"source\": \"http://chrishamblin.xyz/images/viscnn_images/545.jpg\", \"x\": 0.13310206444486633, \"xanchor\": \"center\", \"xref\": \"x\", \"y\": -0.04347563403154567, \"yanchor\": \"middle\", \"yref\": \"y\"}, {\"sizex\": 0.008, \"sizey\": 0.008, \"source\": \"http://chrishamblin.xyz/images/viscnn_images/546.jpg\", \"x\": 0.07691904529220957, \"xanchor\": \"center\", \"xref\": \"x\", \"y\": -0.04343853047104899, \"yanchor\": \"middle\", \"yref\": \"y\"}, {\"sizex\": 0.008, \"sizey\": 0.008, \"source\": \"http://chrishamblin.xyz/images/viscnn_images/547.jpg\", \"x\": -0.0015727204048237781, \"xanchor\": \"center\", \"xref\": \"x\", \"y\": -0.06424235290955556, \"yanchor\": \"middle\", \"yref\": \"y\"}, {\"sizex\": 0.008, \"sizey\": 0.008, \"source\": \"http://chrishamblin.xyz/images/viscnn_images/548.jpg\", \"x\": -0.10849084149059769, \"xanchor\": \"center\", \"xref\": \"x\", \"y\": 0.015276704095125606, \"yanchor\": \"middle\", \"yref\": \"y\"}, {\"sizex\": 0.008, \"sizey\": 0.008, \"source\": \"http://chrishamblin.xyz/images/viscnn_images/549.jpg\", \"x\": -0.12378802101089831, \"xanchor\": \"center\", \"xref\": \"x\", \"y\": 0.027843127068117302, \"yanchor\": \"middle\", \"yref\": \"y\"}, {\"sizex\": 0.008, \"sizey\": 0.008, \"source\": \"http://chrishamblin.xyz/images/viscnn_images/550.jpg\", \"x\": -0.06167247643968423, \"xanchor\": \"center\", \"xref\": \"x\", \"y\": 5.956471588729355e-05, \"yanchor\": \"middle\", \"yref\": \"y\"}, {\"sizex\": 0.008, \"sizey\": 0.008, \"source\": \"http://chrishamblin.xyz/images/viscnn_images/551.jpg\", \"x\": 0.01855851087665761, \"xanchor\": \"center\", \"xref\": \"x\", \"y\": 0.05975320839059803, \"yanchor\": \"middle\", \"yref\": \"y\"}, {\"sizex\": 0.008, \"sizey\": 0.008, \"source\": \"http://chrishamblin.xyz/images/viscnn_images/552.jpg\", \"x\": 0.061296568126235344, \"xanchor\": \"center\", \"xref\": \"x\", \"y\": 0.13041999100548085, \"yanchor\": \"middle\", \"yref\": \"y\"}, {\"sizex\": 0.008, \"sizey\": 0.008, \"source\": \"http://chrishamblin.xyz/images/viscnn_images/553.jpg\", \"x\": -0.009825709297524831, \"xanchor\": \"center\", \"xref\": \"x\", \"y\": -0.028006294355383463, \"yanchor\": \"middle\", \"yref\": \"y\"}, {\"sizex\": 0.008, \"sizey\": 0.008, \"source\": \"http://chrishamblin.xyz/images/viscnn_images/554.jpg\", \"x\": 0.11657221803369, \"xanchor\": \"center\", \"xref\": \"x\", \"y\": -0.00201473321195845, \"yanchor\": \"middle\", \"yref\": \"y\"}, {\"sizex\": 0.008, \"sizey\": 0.008, \"source\": \"http://chrishamblin.xyz/images/viscnn_images/555.jpg\", \"x\": 0.10409725232445602, \"xanchor\": \"center\", \"xref\": \"x\", \"y\": -0.04732317909744431, \"yanchor\": \"middle\", \"yref\": \"y\"}, {\"sizex\": 0.008, \"sizey\": 0.008, \"source\": \"http://chrishamblin.xyz/images/viscnn_images/556.jpg\", \"x\": -0.0939009777888231, \"xanchor\": \"center\", \"xref\": \"x\", \"y\": -0.107722707706013, \"yanchor\": \"middle\", \"yref\": \"y\"}, {\"sizex\": 0.008, \"sizey\": 0.008, \"source\": \"http://chrishamblin.xyz/images/viscnn_images/557.jpg\", \"x\": 0.1137148037031691, \"xanchor\": \"center\", \"xref\": \"x\", \"y\": -0.08999518590792839, \"yanchor\": \"middle\", \"yref\": \"y\"}, {\"sizex\": 0.008, \"sizey\": 0.008, \"source\": \"http://chrishamblin.xyz/images/viscnn_images/558.jpg\", \"x\": -0.0305088750465773, \"xanchor\": \"center\", \"xref\": \"x\", \"y\": -0.012660808765619208, \"yanchor\": \"middle\", \"yref\": \"y\"}, {\"sizex\": 0.008, \"sizey\": 0.008, \"source\": \"http://chrishamblin.xyz/images/viscnn_images/559.jpg\", \"x\": -0.0527465433615751, \"xanchor\": \"center\", \"xref\": \"x\", \"y\": -0.03129301144561825, \"yanchor\": \"middle\", \"yref\": \"y\"}, {\"sizex\": 0.008, \"sizey\": 0.008, \"source\": \"http://chrishamblin.xyz/images/viscnn_images/560.jpg\", \"x\": 0.008044003949461585, \"xanchor\": \"center\", \"xref\": \"x\", \"y\": -0.05394443523134859, \"yanchor\": \"middle\", \"yref\": \"y\"}, {\"sizex\": 0.008, \"sizey\": 0.008, \"source\": \"http://chrishamblin.xyz/images/viscnn_images/561.jpg\", \"x\": 0.011548955898872143, \"xanchor\": \"center\", \"xref\": \"x\", \"y\": -0.11186769840632456, \"yanchor\": \"middle\", \"yref\": \"y\"}, {\"sizex\": 0.008, \"sizey\": 0.008, \"source\": \"http://chrishamblin.xyz/images/viscnn_images/562.jpg\", \"x\": 0.10011322354871717, \"xanchor\": \"center\", \"xref\": \"x\", \"y\": -0.10452922533822173, \"yanchor\": \"middle\", \"yref\": \"y\"}, {\"sizex\": 0.008, \"sizey\": 0.008, \"source\": \"http://chrishamblin.xyz/images/viscnn_images/563.jpg\", \"x\": 0.05265212650056582, \"xanchor\": \"center\", \"xref\": \"x\", \"y\": 0.03195283738874502, \"yanchor\": \"middle\", \"yref\": \"y\"}, {\"sizex\": 0.008, \"sizey\": 0.008, \"source\": \"http://chrishamblin.xyz/images/viscnn_images/564.jpg\", \"x\": -0.018414334656887417, \"xanchor\": \"center\", \"xref\": \"x\", \"y\": -0.09292357286537213, \"yanchor\": \"middle\", \"yref\": \"y\"}, {\"sizex\": 0.008, \"sizey\": 0.008, \"source\": \"http://chrishamblin.xyz/images/viscnn_images/565.jpg\", \"x\": 0.06786904600150824, \"xanchor\": \"center\", \"xref\": \"x\", \"y\": 0.007049111771140122, \"yanchor\": \"middle\", \"yref\": \"y\"}, {\"sizex\": 0.008, \"sizey\": 0.008, \"source\": \"http://chrishamblin.xyz/images/viscnn_images/566.jpg\", \"x\": 0.013374852020106891, \"xanchor\": \"center\", \"xref\": \"x\", \"y\": -0.042695984496634046, \"yanchor\": \"middle\", \"yref\": \"y\"}, {\"sizex\": 0.008, \"sizey\": 0.008, \"source\": \"http://chrishamblin.xyz/images/viscnn_images/567.jpg\", \"x\": -0.04790609330271534, \"xanchor\": \"center\", \"xref\": \"x\", \"y\": -0.10109035336422699, \"yanchor\": \"middle\", \"yref\": \"y\"}, {\"sizex\": 0.008, \"sizey\": 0.008, \"source\": \"http://chrishamblin.xyz/images/viscnn_images/568.jpg\", \"x\": -0.10287528765156265, \"xanchor\": \"center\", \"xref\": \"x\", \"y\": -0.0035580908979131053, \"yanchor\": \"middle\", \"yref\": \"y\"}, {\"sizex\": 0.008, \"sizey\": 0.008, \"source\": \"http://chrishamblin.xyz/images/viscnn_images/569.jpg\", \"x\": 0.09018130073204395, \"xanchor\": \"center\", \"xref\": \"x\", \"y\": 0.04147891176957656, \"yanchor\": \"middle\", \"yref\": \"y\"}, {\"sizex\": 0.008, \"sizey\": 0.008, \"source\": \"http://chrishamblin.xyz/images/viscnn_images/570.jpg\", \"x\": 0.0882257444862983, \"xanchor\": \"center\", \"xref\": \"x\", \"y\": 0.07544160619629554, \"yanchor\": \"middle\", \"yref\": \"y\"}, {\"sizex\": 0.008, \"sizey\": 0.008, \"source\": \"http://chrishamblin.xyz/images/viscnn_images/571.jpg\", \"x\": -0.10689693772861215, \"xanchor\": \"center\", \"xref\": \"x\", \"y\": -0.01574311394571588, \"yanchor\": \"middle\", \"yref\": \"y\"}, {\"sizex\": 0.008, \"sizey\": 0.008, \"source\": \"http://chrishamblin.xyz/images/viscnn_images/572.jpg\", \"x\": -0.028862000387548253, \"xanchor\": \"center\", \"xref\": \"x\", \"y\": 0.0402180728548784, \"yanchor\": \"middle\", \"yref\": \"y\"}, {\"sizex\": 0.008, \"sizey\": 0.008, \"source\": \"http://chrishamblin.xyz/images/viscnn_images/573.jpg\", \"x\": 0.0040658662509726945, \"xanchor\": \"center\", \"xref\": \"x\", \"y\": 0.0786801648158631, \"yanchor\": \"middle\", \"yref\": \"y\"}, {\"sizex\": 0.008, \"sizey\": 0.008, \"source\": \"http://chrishamblin.xyz/images/viscnn_images/574.jpg\", \"x\": 0.043076163547771044, \"xanchor\": \"center\", \"xref\": \"x\", \"y\": -0.09158821674578344, \"yanchor\": \"middle\", \"yref\": \"y\"}, {\"sizex\": 0.008, \"sizey\": 0.008, \"source\": \"http://chrishamblin.xyz/images/viscnn_images/575.jpg\", \"x\": -0.07858268493945682, \"xanchor\": \"center\", \"xref\": \"x\", \"y\": 0.03227870745922695, \"yanchor\": \"middle\", \"yref\": \"y\"}, {\"sizex\": 0.008, \"sizey\": 0.008, \"source\": \"http://chrishamblin.xyz/images/viscnn_images/576.jpg\", \"x\": 0.02630833300322212, \"xanchor\": \"center\", \"xref\": \"x\", \"y\": -0.07277646417461416, \"yanchor\": \"middle\", \"yref\": \"y\"}, {\"sizex\": 0.008, \"sizey\": 0.008, \"source\": \"http://chrishamblin.xyz/images/viscnn_images/577.jpg\", \"x\": 0.03584222893517374, \"xanchor\": \"center\", \"xref\": \"x\", \"y\": -0.013760152907781731, \"yanchor\": \"middle\", \"yref\": \"y\"}, {\"sizex\": 0.008, \"sizey\": 0.008, \"source\": \"http://chrishamblin.xyz/images/viscnn_images/578.jpg\", \"x\": -0.045670864647089714, \"xanchor\": \"center\", \"xref\": \"x\", \"y\": 0.03951820905438386, \"yanchor\": \"middle\", \"yref\": \"y\"}, {\"sizex\": 0.008, \"sizey\": 0.008, \"source\": \"http://chrishamblin.xyz/images/viscnn_images/579.jpg\", \"x\": 0.04835838876498154, \"xanchor\": \"center\", \"xref\": \"x\", \"y\": 0.13477947274582758, \"yanchor\": \"middle\", \"yref\": \"y\"}, {\"sizex\": 0.008, \"sizey\": 0.008, \"source\": \"http://chrishamblin.xyz/images/viscnn_images/580.jpg\", \"x\": -0.0035355037417975728, \"xanchor\": \"center\", \"xref\": \"x\", \"y\": 0.04210160414515848, \"yanchor\": \"middle\", \"yref\": \"y\"}, {\"sizex\": 0.008, \"sizey\": 0.008, \"source\": \"http://chrishamblin.xyz/images/viscnn_images/581.jpg\", \"x\": 0.11785821151721815, \"xanchor\": \"center\", \"xref\": \"x\", \"y\": -0.053045588428487715, \"yanchor\": \"middle\", \"yref\": \"y\"}, {\"sizex\": 0.008, \"sizey\": 0.008, \"source\": \"http://chrishamblin.xyz/images/viscnn_images/582.jpg\", \"x\": -0.1192702810038278, \"xanchor\": \"center\", \"xref\": \"x\", \"y\": 0.08257876224589332, \"yanchor\": \"middle\", \"yref\": \"y\"}, {\"sizex\": 0.008, \"sizey\": 0.008, \"source\": \"http://chrishamblin.xyz/images/viscnn_images/583.jpg\", \"x\": -0.05185866559512233, \"xanchor\": \"center\", \"xref\": \"x\", \"y\": 0.13456917199008975, \"yanchor\": \"middle\", \"yref\": \"y\"}, {\"sizex\": 0.008, \"sizey\": 0.008, \"source\": \"http://chrishamblin.xyz/images/viscnn_images/584.jpg\", \"x\": 0.04746258893227116, \"xanchor\": \"center\", \"xref\": \"x\", \"y\": -0.10968293248282095, \"yanchor\": \"middle\", \"yref\": \"y\"}, {\"sizex\": 0.008, \"sizey\": 0.008, \"source\": \"http://chrishamblin.xyz/images/viscnn_images/585.jpg\", \"x\": -0.1098578345902531, \"xanchor\": \"center\", \"xref\": \"x\", \"y\": -0.043601782909568496, \"yanchor\": \"middle\", \"yref\": \"y\"}, {\"sizex\": 0.008, \"sizey\": 0.008, \"source\": \"http://chrishamblin.xyz/images/viscnn_images/586.jpg\", \"x\": -0.0347405024444097, \"xanchor\": \"center\", \"xref\": \"x\", \"y\": 0.08915280483811752, \"yanchor\": \"middle\", \"yref\": \"y\"}, {\"sizex\": 0.008, \"sizey\": 0.008, \"source\": \"http://chrishamblin.xyz/images/viscnn_images/587.jpg\", \"x\": -0.09046934751953009, \"xanchor\": \"center\", \"xref\": \"x\", \"y\": -0.07596796550826591, \"yanchor\": \"middle\", \"yref\": \"y\"}, {\"sizex\": 0.008, \"sizey\": 0.008, \"source\": \"http://chrishamblin.xyz/images/viscnn_images/588.jpg\", \"x\": -0.05108687873451079, \"xanchor\": \"center\", \"xref\": \"x\", \"y\": 0.08586859062513791, \"yanchor\": \"middle\", \"yref\": \"y\"}, {\"sizex\": 0.008, \"sizey\": 0.008, \"source\": \"http://chrishamblin.xyz/images/viscnn_images/589.jpg\", \"x\": -0.07695938998063671, \"xanchor\": \"center\", \"xref\": \"x\", \"y\": -0.10515256211534241, \"yanchor\": \"middle\", \"yref\": \"y\"}, {\"sizex\": 0.008, \"sizey\": 0.008, \"source\": \"http://chrishamblin.xyz/images/viscnn_images/590.jpg\", \"x\": -0.02622887379066622, \"xanchor\": \"center\", \"xref\": \"x\", \"y\": 0.09911331823180226, \"yanchor\": \"middle\", \"yref\": \"y\"}, {\"sizex\": 0.008, \"sizey\": 0.008, \"source\": \"http://chrishamblin.xyz/images/viscnn_images/591.jpg\", \"x\": 0.12970319265164298, \"xanchor\": \"center\", \"xref\": \"x\", \"y\": 0.008395759858054358, \"yanchor\": \"middle\", \"yref\": \"y\"}, {\"sizex\": 0.008, \"sizey\": 0.008, \"source\": \"http://chrishamblin.xyz/images/viscnn_images/592.jpg\", \"x\": 0.14186780890529355, \"xanchor\": \"center\", \"xref\": \"x\", \"y\": 0.015756083505646196, \"yanchor\": \"middle\", \"yref\": \"y\"}, {\"sizex\": 0.008, \"sizey\": 0.008, \"source\": \"http://chrishamblin.xyz/images/viscnn_images/593.jpg\", \"x\": -0.05734605256742164, \"xanchor\": \"center\", \"xref\": \"x\", \"y\": -0.12397031252591989, \"yanchor\": \"middle\", \"yref\": \"y\"}, {\"sizex\": 0.008, \"sizey\": 0.008, \"source\": \"http://chrishamblin.xyz/images/viscnn_images/594.jpg\", \"x\": 0.0747938678480245, \"xanchor\": \"center\", \"xref\": \"x\", \"y\": -0.1108072895805824, \"yanchor\": \"middle\", \"yref\": \"y\"}, {\"sizex\": 0.008, \"sizey\": 0.008, \"source\": \"http://chrishamblin.xyz/images/viscnn_images/595.jpg\", \"x\": 0.0007199672867781074, \"xanchor\": \"center\", \"xref\": \"x\", \"y\": 0.05397633215185272, \"yanchor\": \"middle\", \"yref\": \"y\"}, {\"sizex\": 0.008, \"sizey\": 0.008, \"source\": \"http://chrishamblin.xyz/images/viscnn_images/596.jpg\", \"x\": 0.11152761247648095, \"xanchor\": \"center\", \"xref\": \"x\", \"y\": 0.05576531676932989, \"yanchor\": \"middle\", \"yref\": \"y\"}, {\"sizex\": 0.008, \"sizey\": 0.008, \"source\": \"http://chrishamblin.xyz/images/viscnn_images/597.jpg\", \"x\": -0.09602405281661698, \"xanchor\": \"center\", \"xref\": \"x\", \"y\": 0.05243742443120736, \"yanchor\": \"middle\", \"yref\": \"y\"}, {\"sizex\": 0.008, \"sizey\": 0.008, \"source\": \"http://chrishamblin.xyz/images/viscnn_images/598.jpg\", \"x\": 0.08736718378079969, \"xanchor\": \"center\", \"xref\": \"x\", \"y\": -0.02534107872426728, \"yanchor\": \"middle\", \"yref\": \"y\"}, {\"sizex\": 0.008, \"sizey\": 0.008, \"source\": \"http://chrishamblin.xyz/images/viscnn_images/599.jpg\", \"x\": -0.09115103601550398, \"xanchor\": \"center\", \"xref\": \"x\", \"y\": 0.11132390842462891, \"yanchor\": \"middle\", \"yref\": \"y\"}, {\"sizex\": 0.008, \"sizey\": 0.008, \"source\": \"http://chrishamblin.xyz/images/viscnn_images/600.jpg\", \"x\": 0.11194335145931525, \"xanchor\": \"center\", \"xref\": \"x\", \"y\": 0.07069922209817607, \"yanchor\": \"middle\", \"yref\": \"y\"}, {\"sizex\": 0.008, \"sizey\": 0.008, \"source\": \"http://chrishamblin.xyz/images/viscnn_images/601.jpg\", \"x\": 0.1422238595187056, \"xanchor\": \"center\", \"xref\": \"x\", \"y\": 0.030791879820663618, \"yanchor\": \"middle\", \"yref\": \"y\"}, {\"sizex\": 0.008, \"sizey\": 0.008, \"source\": \"http://chrishamblin.xyz/images/viscnn_images/602.jpg\", \"x\": -0.07909295178930274, \"xanchor\": \"center\", \"xref\": \"x\", \"y\": -0.08158621753332113, \"yanchor\": \"middle\", \"yref\": \"y\"}, {\"sizex\": 0.008, \"sizey\": 0.008, \"source\": \"http://chrishamblin.xyz/images/viscnn_images/603.jpg\", \"x\": -0.011386993963409463, \"xanchor\": \"center\", \"xref\": \"x\", \"y\": -0.07284840291717917, \"yanchor\": \"middle\", \"yref\": \"y\"}, {\"sizex\": 0.008, \"sizey\": 0.008, \"source\": \"http://chrishamblin.xyz/images/viscnn_images/604.jpg\", \"x\": -0.07504380334759042, \"xanchor\": \"center\", \"xref\": \"x\", \"y\": -0.005833686413557568, \"yanchor\": \"middle\", \"yref\": \"y\"}, {\"sizex\": 0.008, \"sizey\": 0.008, \"source\": \"http://chrishamblin.xyz/images/viscnn_images/605.jpg\", \"x\": -0.08760417060253357, \"xanchor\": \"center\", \"xref\": \"x\", \"y\": -0.09502009110800264, \"yanchor\": \"middle\", \"yref\": \"y\"}, {\"sizex\": 0.008, \"sizey\": 0.008, \"source\": \"http://chrishamblin.xyz/images/viscnn_images/606.jpg\", \"x\": -0.06719709190325036, \"xanchor\": \"center\", \"xref\": \"x\", \"y\": -0.027530479859250674, \"yanchor\": \"middle\", \"yref\": \"y\"}, {\"sizex\": 0.008, \"sizey\": 0.008, \"source\": \"http://chrishamblin.xyz/images/viscnn_images/607.jpg\", \"x\": 0.06880747487933872, \"xanchor\": \"center\", \"xref\": \"x\", \"y\": -0.007209415580924291, \"yanchor\": \"middle\", \"yref\": \"y\"}, {\"sizex\": 0.008, \"sizey\": 0.008, \"source\": \"http://chrishamblin.xyz/images/viscnn_images/608.jpg\", \"x\": 0.08826244153576626, \"xanchor\": \"center\", \"xref\": \"x\", \"y\": -0.046627860719359863, \"yanchor\": \"middle\", \"yref\": \"y\"}, {\"sizex\": 0.008, \"sizey\": 0.008, \"source\": \"http://chrishamblin.xyz/images/viscnn_images/609.jpg\", \"x\": 0.1435853687560735, \"xanchor\": \"center\", \"xref\": \"x\", \"y\": 0.002301146386890381, \"yanchor\": \"middle\", \"yref\": \"y\"}, {\"sizex\": 0.008, \"sizey\": 0.008, \"source\": \"http://chrishamblin.xyz/images/viscnn_images/610.jpg\", \"x\": 0.11465479114887954, \"xanchor\": \"center\", \"xref\": \"x\", \"y\": -0.0399546922909528, \"yanchor\": \"middle\", \"yref\": \"y\"}, {\"sizex\": 0.008, \"sizey\": 0.008, \"source\": \"http://chrishamblin.xyz/images/viscnn_images/611.jpg\", \"x\": 0.04216037132391005, \"xanchor\": \"center\", \"xref\": \"x\", \"y\": 0.10645186003245942, \"yanchor\": \"middle\", \"yref\": \"y\"}, {\"sizex\": 0.008, \"sizey\": 0.008, \"source\": \"http://chrishamblin.xyz/images/viscnn_images/612.jpg\", \"x\": -0.0021945654378984986, \"xanchor\": \"center\", \"xref\": \"x\", \"y\": -0.01784249551119092, \"yanchor\": \"middle\", \"yref\": \"y\"}, {\"sizex\": 0.008, \"sizey\": 0.008, \"source\": \"http://chrishamblin.xyz/images/viscnn_images/613.jpg\", \"x\": -0.04095752378836425, \"xanchor\": \"center\", \"xref\": \"x\", \"y\": -0.11198755039527135, \"yanchor\": \"middle\", \"yref\": \"y\"}, {\"sizex\": 0.008, \"sizey\": 0.008, \"source\": \"http://chrishamblin.xyz/images/viscnn_images/614.jpg\", \"x\": 0.06700073246964737, \"xanchor\": \"center\", \"xref\": \"x\", \"y\": 0.110412859897438, \"yanchor\": \"middle\", \"yref\": \"y\"}, {\"sizex\": 0.008, \"sizey\": 0.008, \"source\": \"http://chrishamblin.xyz/images/viscnn_images/615.jpg\", \"x\": 0.049150310828733966, \"xanchor\": \"center\", \"xref\": \"x\", \"y\": -0.12344165088939499, \"yanchor\": \"middle\", \"yref\": \"y\"}, {\"sizex\": 0.008, \"sizey\": 0.008, \"source\": \"http://chrishamblin.xyz/images/viscnn_images/616.jpg\", \"x\": 0.12107758930482151, \"xanchor\": \"center\", \"xref\": \"x\", \"y\": -0.07690892109384945, \"yanchor\": \"middle\", \"yref\": \"y\"}, {\"sizex\": 0.008, \"sizey\": 0.008, \"source\": \"http://chrishamblin.xyz/images/viscnn_images/617.jpg\", \"x\": -0.07090031058695491, \"xanchor\": \"center\", \"xref\": \"x\", \"y\": -0.12709192518155724, \"yanchor\": \"middle\", \"yref\": \"y\"}, {\"sizex\": 0.008, \"sizey\": 0.008, \"source\": \"http://chrishamblin.xyz/images/viscnn_images/618.jpg\", \"x\": 0.06875783089647454, \"xanchor\": \"center\", \"xref\": \"x\", \"y\": 0.0364406115368259, \"yanchor\": \"middle\", \"yref\": \"y\"}, {\"sizex\": 0.008, \"sizey\": 0.008, \"source\": \"http://chrishamblin.xyz/images/viscnn_images/619.jpg\", \"x\": 0.017858875543274207, \"xanchor\": \"center\", \"xref\": \"x\", \"y\": 0.02405795814332752, \"yanchor\": \"middle\", \"yref\": \"y\"}, {\"sizex\": 0.008, \"sizey\": 0.008, \"source\": \"http://chrishamblin.xyz/images/viscnn_images/620.jpg\", \"x\": 0.02807378649277848, \"xanchor\": \"center\", \"xref\": \"x\", \"y\": 0.047615367002938315, \"yanchor\": \"middle\", \"yref\": \"y\"}, {\"sizex\": 0.008, \"sizey\": 0.008, \"source\": \"http://chrishamblin.xyz/images/viscnn_images/621.jpg\", \"x\": -0.1030155583876829, \"xanchor\": \"center\", \"xref\": \"x\", \"y\": 0.039477361208495466, \"yanchor\": \"middle\", \"yref\": \"y\"}, {\"sizex\": 0.008, \"sizey\": 0.008, \"source\": \"http://chrishamblin.xyz/images/viscnn_images/622.jpg\", \"x\": 0.0005209403298719812, \"xanchor\": \"center\", \"xref\": \"x\", \"y\": 0.0901148562370673, \"yanchor\": \"middle\", \"yref\": \"y\"}, {\"sizex\": 0.008, \"sizey\": 0.008, \"source\": \"http://chrishamblin.xyz/images/viscnn_images/623.jpg\", \"x\": 0.09076875540195661, \"xanchor\": \"center\", \"xref\": \"x\", \"y\": -0.08320701290754719, \"yanchor\": \"middle\", \"yref\": \"y\"}, {\"sizex\": 0.008, \"sizey\": 0.008, \"source\": \"http://chrishamblin.xyz/images/viscnn_images/624.jpg\", \"x\": 0.0007871556471168885, \"xanchor\": \"center\", \"xref\": \"x\", \"y\": -0.03790831590693784, \"yanchor\": \"middle\", \"yref\": \"y\"}, {\"sizex\": 0.008, \"sizey\": 0.008, \"source\": \"http://chrishamblin.xyz/images/viscnn_images/625.jpg\", \"x\": 0.03420712978130945, \"xanchor\": \"center\", \"xref\": \"x\", \"y\": 0.13020200436347337, \"yanchor\": \"middle\", \"yref\": \"y\"}, {\"sizex\": 0.008, \"sizey\": 0.008, \"source\": \"http://chrishamblin.xyz/images/viscnn_images/626.jpg\", \"x\": -0.12391224857245865, \"xanchor\": \"center\", \"xref\": \"x\", \"y\": -0.04183016406864744, \"yanchor\": \"middle\", \"yref\": \"y\"}, {\"sizex\": 0.008, \"sizey\": 0.008, \"source\": \"http://chrishamblin.xyz/images/viscnn_images/627.jpg\", \"x\": -0.08220613472778521, \"xanchor\": \"center\", \"xref\": \"x\", \"y\": 0.020190284931467295, \"yanchor\": \"middle\", \"yref\": \"y\"}, {\"sizex\": 0.008, \"sizey\": 0.008, \"source\": \"http://chrishamblin.xyz/images/viscnn_images/628.jpg\", \"x\": -0.10794464224723908, \"xanchor\": \"center\", \"xref\": \"x\", \"y\": -0.0778126092729979, \"yanchor\": \"middle\", \"yref\": \"y\"}, {\"sizex\": 0.008, \"sizey\": 0.008, \"source\": \"http://chrishamblin.xyz/images/viscnn_images/629.jpg\", \"x\": -0.08795719556675334, \"xanchor\": \"center\", \"xref\": \"x\", \"y\": -0.047336445533533694, \"yanchor\": \"middle\", \"yref\": \"y\"}, {\"sizex\": 0.008, \"sizey\": 0.008, \"source\": \"http://chrishamblin.xyz/images/viscnn_images/630.jpg\", \"x\": -0.038507299833049916, \"xanchor\": \"center\", \"xref\": \"x\", \"y\": 0.05096567041486508, \"yanchor\": \"middle\", \"yref\": \"y\"}, {\"sizex\": 0.008, \"sizey\": 0.008, \"source\": \"http://chrishamblin.xyz/images/viscnn_images/631.jpg\", \"x\": 0.01479886912900671, \"xanchor\": \"center\", \"xref\": \"x\", \"y\": -0.06520602265386756, \"yanchor\": \"middle\", \"yref\": \"y\"}, {\"sizex\": 0.008, \"sizey\": 0.008, \"source\": \"http://chrishamblin.xyz/images/viscnn_images/632.jpg\", \"x\": 0.08083276735284094, \"xanchor\": \"center\", \"xref\": \"x\", \"y\": 0.0009813025153341585, \"yanchor\": \"middle\", \"yref\": \"y\"}, {\"sizex\": 0.008, \"sizey\": 0.008, \"source\": \"http://chrishamblin.xyz/images/viscnn_images/633.jpg\", \"x\": -0.08928815397409663, \"xanchor\": \"center\", \"xref\": \"x\", \"y\": 0.09575227910388326, \"yanchor\": \"middle\", \"yref\": \"y\"}, {\"sizex\": 0.008, \"sizey\": 0.008, \"source\": \"http://chrishamblin.xyz/images/viscnn_images/634.jpg\", \"x\": 0.0037308403889026857, \"xanchor\": \"center\", \"xref\": \"x\", \"y\": 0.06577069480217036, \"yanchor\": \"middle\", \"yref\": \"y\"}, {\"sizex\": 0.008, \"sizey\": 0.008, \"source\": \"http://chrishamblin.xyz/images/viscnn_images/635.jpg\", \"x\": 0.017436504442210735, \"xanchor\": \"center\", \"xref\": \"x\", \"y\": 0.010770898235359086, \"yanchor\": \"middle\", \"yref\": \"y\"}, {\"sizex\": 0.008, \"sizey\": 0.008, \"source\": \"http://chrishamblin.xyz/images/viscnn_images/636.jpg\", \"x\": -0.05099955555135756, \"xanchor\": \"center\", \"xref\": \"x\", \"y\": -0.04666669590870387, \"yanchor\": \"middle\", \"yref\": \"y\"}, {\"sizex\": 0.008, \"sizey\": 0.008, \"source\": \"http://chrishamblin.xyz/images/viscnn_images/637.jpg\", \"x\": -0.0713280460457573, \"xanchor\": \"center\", \"xref\": \"x\", \"y\": 0.043387247136845025, \"yanchor\": \"middle\", \"yref\": \"y\"}, {\"sizex\": 0.008, \"sizey\": 0.008, \"source\": \"http://chrishamblin.xyz/images/viscnn_images/638.jpg\", \"x\": 0.01826411612695971, \"xanchor\": \"center\", \"xref\": \"x\", \"y\": 0.0867032329144741, \"yanchor\": \"middle\", \"yref\": \"y\"}, {\"sizex\": 0.008, \"sizey\": 0.008, \"source\": \"http://chrishamblin.xyz/images/viscnn_images/639.jpg\", \"x\": 0.0012894380953082146, \"xanchor\": \"center\", \"xref\": \"x\", \"y\": 0.13472629871010539, \"yanchor\": \"middle\", \"yref\": \"y\"}], \"template\": {\"data\": {\"bar\": [{\"error_x\": {\"color\": \"#2a3f5f\"}, \"error_y\": {\"color\": \"#2a3f5f\"}, \"marker\": {\"line\": {\"color\": \"#E5ECF6\", \"width\": 0.5}}, \"type\": \"bar\"}], \"barpolar\": [{\"marker\": {\"line\": {\"color\": \"#E5ECF6\", \"width\": 0.5}}, \"type\": \"barpolar\"}], \"carpet\": [{\"aaxis\": {\"endlinecolor\": \"#2a3f5f\", \"gridcolor\": \"white\", \"linecolor\": \"white\", \"minorgridcolor\": \"white\", \"startlinecolor\": \"#2a3f5f\"}, \"baxis\": {\"endlinecolor\": \"#2a3f5f\", \"gridcolor\": \"white\", \"linecolor\": \"white\", \"minorgridcolor\": \"white\", \"startlinecolor\": \"#2a3f5f\"}, \"type\": \"carpet\"}], \"choropleth\": [{\"colorbar\": {\"outlinewidth\": 0, \"ticks\": \"\"}, \"type\": \"choropleth\"}], \"contour\": [{\"colorbar\": {\"outlinewidth\": 0, \"ticks\": \"\"}, \"colorscale\": [[0.0, \"#0d0887\"], [0.1111111111111111, \"#46039f\"], [0.2222222222222222, \"#7201a8\"], [0.3333333333333333, \"#9c179e\"], [0.4444444444444444, \"#bd3786\"], [0.5555555555555556, \"#d8576b\"], [0.6666666666666666, \"#ed7953\"], [0.7777777777777778, \"#fb9f3a\"], [0.8888888888888888, \"#fdca26\"], [1.0, \"#f0f921\"]], \"type\": \"contour\"}], \"contourcarpet\": [{\"colorbar\": {\"outlinewidth\": 0, \"ticks\": \"\"}, \"type\": \"contourcarpet\"}], \"heatmap\": [{\"colorbar\": {\"outlinewidth\": 0, \"ticks\": \"\"}, \"colorscale\": [[0.0, \"#0d0887\"], [0.1111111111111111, \"#46039f\"], [0.2222222222222222, \"#7201a8\"], [0.3333333333333333, \"#9c179e\"], [0.4444444444444444, \"#bd3786\"], [0.5555555555555556, \"#d8576b\"], [0.6666666666666666, \"#ed7953\"], [0.7777777777777778, \"#fb9f3a\"], [0.8888888888888888, \"#fdca26\"], [1.0, \"#f0f921\"]], \"type\": \"heatmap\"}], \"heatmapgl\": [{\"colorbar\": {\"outlinewidth\": 0, \"ticks\": \"\"}, \"colorscale\": [[0.0, \"#0d0887\"], [0.1111111111111111, \"#46039f\"], [0.2222222222222222, \"#7201a8\"], [0.3333333333333333, \"#9c179e\"], [0.4444444444444444, \"#bd3786\"], [0.5555555555555556, \"#d8576b\"], [0.6666666666666666, \"#ed7953\"], [0.7777777777777778, \"#fb9f3a\"], [0.8888888888888888, \"#fdca26\"], [1.0, \"#f0f921\"]], \"type\": \"heatmapgl\"}], \"histogram\": [{\"marker\": {\"colorbar\": {\"outlinewidth\": 0, \"ticks\": \"\"}}, \"type\": \"histogram\"}], \"histogram2d\": [{\"colorbar\": {\"outlinewidth\": 0, \"ticks\": \"\"}, \"colorscale\": [[0.0, \"#0d0887\"], [0.1111111111111111, \"#46039f\"], [0.2222222222222222, \"#7201a8\"], [0.3333333333333333, \"#9c179e\"], [0.4444444444444444, \"#bd3786\"], [0.5555555555555556, \"#d8576b\"], [0.6666666666666666, \"#ed7953\"], [0.7777777777777778, \"#fb9f3a\"], [0.8888888888888888, \"#fdca26\"], [1.0, \"#f0f921\"]], \"type\": \"histogram2d\"}], \"histogram2dcontour\": [{\"colorbar\": {\"outlinewidth\": 0, \"ticks\": \"\"}, \"colorscale\": [[0.0, \"#0d0887\"], [0.1111111111111111, \"#46039f\"], [0.2222222222222222, \"#7201a8\"], [0.3333333333333333, \"#9c179e\"], [0.4444444444444444, \"#bd3786\"], [0.5555555555555556, \"#d8576b\"], [0.6666666666666666, \"#ed7953\"], [0.7777777777777778, \"#fb9f3a\"], [0.8888888888888888, \"#fdca26\"], [1.0, \"#f0f921\"]], \"type\": \"histogram2dcontour\"}], \"mesh3d\": [{\"colorbar\": {\"outlinewidth\": 0, \"ticks\": \"\"}, \"type\": \"mesh3d\"}], \"parcoords\": [{\"line\": {\"colorbar\": {\"outlinewidth\": 0, \"ticks\": \"\"}}, \"type\": \"parcoords\"}], \"pie\": [{\"automargin\": true, \"type\": \"pie\"}], \"scatter\": [{\"marker\": {\"colorbar\": {\"outlinewidth\": 0, \"ticks\": \"\"}}, \"type\": \"scatter\"}], \"scatter3d\": [{\"line\": {\"colorbar\": {\"outlinewidth\": 0, \"ticks\": \"\"}}, \"marker\": {\"colorbar\": {\"outlinewidth\": 0, \"ticks\": \"\"}}, \"type\": \"scatter3d\"}], \"scattercarpet\": [{\"marker\": {\"colorbar\": {\"outlinewidth\": 0, \"ticks\": \"\"}}, \"type\": \"scattercarpet\"}], \"scattergeo\": [{\"marker\": {\"colorbar\": {\"outlinewidth\": 0, \"ticks\": \"\"}}, \"type\": \"scattergeo\"}], \"scattergl\": [{\"marker\": {\"colorbar\": {\"outlinewidth\": 0, \"ticks\": \"\"}}, \"type\": \"scattergl\"}], \"scattermapbox\": [{\"marker\": {\"colorbar\": {\"outlinewidth\": 0, \"ticks\": \"\"}}, \"type\": \"scattermapbox\"}], \"scatterpolar\": [{\"marker\": {\"colorbar\": {\"outlinewidth\": 0, \"ticks\": \"\"}}, \"type\": \"scatterpolar\"}], \"scatterpolargl\": [{\"marker\": {\"colorbar\": {\"outlinewidth\": 0, \"ticks\": \"\"}}, \"type\": \"scatterpolargl\"}], \"scatterternary\": [{\"marker\": {\"colorbar\": {\"outlinewidth\": 0, \"ticks\": \"\"}}, \"type\": \"scatterternary\"}], \"surface\": [{\"colorbar\": {\"outlinewidth\": 0, \"ticks\": \"\"}, \"colorscale\": [[0.0, \"#0d0887\"], [0.1111111111111111, \"#46039f\"], [0.2222222222222222, \"#7201a8\"], [0.3333333333333333, \"#9c179e\"], [0.4444444444444444, \"#bd3786\"], [0.5555555555555556, \"#d8576b\"], [0.6666666666666666, \"#ed7953\"], [0.7777777777777778, \"#fb9f3a\"], [0.8888888888888888, \"#fdca26\"], [1.0, \"#f0f921\"]], \"type\": \"surface\"}], \"table\": [{\"cells\": {\"fill\": {\"color\": \"#EBF0F8\"}, \"line\": {\"color\": \"white\"}}, \"header\": {\"fill\": {\"color\": \"#C8D4E3\"}, \"line\": {\"color\": \"white\"}}, \"type\": \"table\"}]}, \"layout\": {\"annotationdefaults\": {\"arrowcolor\": \"#2a3f5f\", \"arrowhead\": 0, \"arrowwidth\": 1}, \"autotypenumbers\": \"strict\", \"coloraxis\": {\"colorbar\": {\"outlinewidth\": 0, \"ticks\": \"\"}}, \"colorscale\": {\"diverging\": [[0, \"#8e0152\"], [0.1, \"#c51b7d\"], [0.2, \"#de77ae\"], [0.3, \"#f1b6da\"], [0.4, \"#fde0ef\"], [0.5, \"#f7f7f7\"], [0.6, \"#e6f5d0\"], [0.7, \"#b8e186\"], [0.8, \"#7fbc41\"], [0.9, \"#4d9221\"], [1, \"#276419\"]], \"sequential\": [[0.0, \"#0d0887\"], [0.1111111111111111, \"#46039f\"], [0.2222222222222222, \"#7201a8\"], [0.3333333333333333, \"#9c179e\"], [0.4444444444444444, \"#bd3786\"], [0.5555555555555556, \"#d8576b\"], [0.6666666666666666, \"#ed7953\"], [0.7777777777777778, \"#fb9f3a\"], [0.8888888888888888, \"#fdca26\"], [1.0, \"#f0f921\"]], \"sequentialminus\": [[0.0, \"#0d0887\"], [0.1111111111111111, \"#46039f\"], [0.2222222222222222, \"#7201a8\"], [0.3333333333333333, \"#9c179e\"], [0.4444444444444444, \"#bd3786\"], [0.5555555555555556, \"#d8576b\"], [0.6666666666666666, \"#ed7953\"], [0.7777777777777778, \"#fb9f3a\"], [0.8888888888888888, \"#fdca26\"], [1.0, \"#f0f921\"]]}, \"colorway\": [\"#636efa\", \"#EF553B\", \"#00cc96\", \"#ab63fa\", \"#FFA15A\", \"#19d3f3\", \"#FF6692\", \"#B6E880\", \"#FF97FF\", \"#FECB52\"], \"font\": {\"color\": \"#2a3f5f\"}, \"geo\": {\"bgcolor\": \"white\", \"lakecolor\": \"white\", \"landcolor\": \"#E5ECF6\", \"showlakes\": true, \"showland\": true, \"subunitcolor\": \"white\"}, \"hoverlabel\": {\"align\": \"left\"}, \"hovermode\": \"closest\", \"mapbox\": {\"style\": \"light\"}, \"paper_bgcolor\": \"white\", \"plot_bgcolor\": \"#E5ECF6\", \"polar\": {\"angularaxis\": {\"gridcolor\": \"white\", \"linecolor\": \"white\", \"ticks\": \"\"}, \"bgcolor\": \"#E5ECF6\", \"radialaxis\": {\"gridcolor\": \"white\", \"linecolor\": \"white\", \"ticks\": \"\"}}, \"scene\": {\"xaxis\": {\"backgroundcolor\": \"#E5ECF6\", \"gridcolor\": \"white\", \"gridwidth\": 2, \"linecolor\": \"white\", \"showbackground\": true, \"ticks\": \"\", \"zerolinecolor\": \"white\"}, \"yaxis\": {\"backgroundcolor\": \"#E5ECF6\", \"gridcolor\": \"white\", \"gridwidth\": 2, \"linecolor\": \"white\", \"showbackground\": true, \"ticks\": \"\", \"zerolinecolor\": \"white\"}, \"zaxis\": {\"backgroundcolor\": \"#E5ECF6\", \"gridcolor\": \"white\", \"gridwidth\": 2, \"linecolor\": \"white\", \"showbackground\": true, \"ticks\": \"\", \"zerolinecolor\": \"white\"}}, \"shapedefaults\": {\"line\": {\"color\": \"#2a3f5f\"}}, \"ternary\": {\"aaxis\": {\"gridcolor\": \"white\", \"linecolor\": \"white\", \"ticks\": \"\"}, \"baxis\": {\"gridcolor\": \"white\", \"linecolor\": \"white\", \"ticks\": \"\"}, \"bgcolor\": \"#E5ECF6\", \"caxis\": {\"gridcolor\": \"white\", \"linecolor\": \"white\", \"ticks\": \"\"}}, \"title\": {\"x\": 0.05}, \"xaxis\": {\"automargin\": true, \"gridcolor\": \"white\", \"linecolor\": \"white\", \"ticks\": \"\", \"title\": {\"standoff\": 15}, \"zerolinecolor\": \"white\", \"zerolinewidth\": 2}, \"yaxis\": {\"automargin\": true, \"gridcolor\": \"white\", \"linecolor\": \"white\", \"ticks\": \"\", \"title\": {\"standoff\": 15}, \"zerolinecolor\": \"white\", \"zerolinewidth\": 2}}}, \"width\": 1000},                        {\"responsive\": true}                    ).then(function(){\n",
       "                            \n",
       "var gd = document.getElementById('a013f4db-29e8-4e78-a314-c4ed128f6b4e');\n",
       "var x = new MutationObserver(function (mutations, observer) {{\n",
       "        var display = window.getComputedStyle(gd).display;\n",
       "        if (!display || display === 'none') {{\n",
       "            console.log([gd, 'removed!']);\n",
       "            Plotly.purge(gd);\n",
       "            observer.disconnect();\n",
       "        }}\n",
       "}});\n",
       "\n",
       "// Listen for the removal of the full notebook cells\n",
       "var notebookContainer = gd.closest('#notebook-container');\n",
       "if (notebookContainer) {{\n",
       "    x.observe(notebookContainer, {childList: true});\n",
       "}}\n",
       "\n",
       "// Listen for the clearing of the current output cell\n",
       "var outputEl = gd.closest('.output');\n",
       "if (outputEl) {{\n",
       "    x.observe(outputEl, {childList: true});\n",
       "}}\n",
       "\n",
       "                        })                };                });            </script>        </div>"
      ]
     },
     "metadata": {},
     "output_type": "display_data"
    }
   ],
   "source": [
    "#plot with images\n",
    "layer = 2\n",
    "\n",
    "\n",
    "trace=go.Scatter(x=smooth_embeddings[layer][:,0],\n",
    "                 y=smooth_embeddings[layer][:,1],\n",
    "                 mode='markers',\n",
    "                   marker=dict(symbol='circle',\n",
    "                         size=5,\n",
    "                         opacity=.99\n",
    "                         ),\n",
    "           )\n",
    "\n",
    "fig = go.Figure(data=trace)\n",
    "# Add images\n",
    "\n",
    "for i in range(smooth_embeddings[layer].shape[0]):\n",
    "    nodeid = str(params['layer_nodes'][layer][1][i])\n",
    "    fig.add_layout_image(\n",
    "        dict(\n",
    "            source=\"http://chrishamblin.xyz/images/viscnn_images/%s.jpg\"%nodeid,\n",
    "            x=smooth_embeddings[layer][i,0],\n",
    "            y=smooth_embeddings[layer][i,1],\n",
    "            ))\n",
    "# fig.add_layout_image(dict(\n",
    "#         source=\"https://raw.githubusercontent.com/michaelbabyn/plot_data/master/naphthalene.png\",\n",
    "#         x=1.0,\n",
    "#         y=1.0,\n",
    "#         )\n",
    "# )\n",
    "fig.update_layout_images(dict(\n",
    "        xref=\"x\",\n",
    "        yref=\"y\",\n",
    "        sizex=0.008,\n",
    "        sizey=0.008,\n",
    "        xanchor=\"center\",\n",
    "        yanchor=\"middle\"\n",
    "))\n",
    "\n",
    "fig.update_layout(width=1000,height=1000)\n",
    "\n",
    "\n",
    "\n",
    "fig.show()"
   ]
  },
  {
   "cell_type": "code",
   "execution_count": 36,
   "metadata": {},
   "outputs": [],
   "source": [
    "import dash\n",
    "import dash_core_components as dcc\n",
    "import dash_html_components as html\n",
    "import dash_daq as daq\n",
    "from dash.exceptions import PreventUpdate\n",
    "#import utils.dash_reusable_components as drc\n",
    "import flask\n",
    "import os\n",
    "\n",
    "import json\n",
    "\n",
    "from dash.dependencies import Input, Output, State\n",
    "\n",
    "from plotly.subplots import make_subplots\n",
    "\n",
    "from flask_caching import Cache\n",
    "\n",
    "\n",
    "\n",
    "#external_stylesheets = ['https://codepen.io/amyoshino/pen/jzXypZ.css']\n",
    "external_stylesheets = ['https://codepen.io/chriddyp/pen/bWLwgP.css']\n",
    "\n",
    "app = dash.Dash(external_stylesheets = external_stylesheets)\n",
    "\n",
    "\n",
    "styles = {\n",
    "    'pre': {\n",
    "        'border': 'thin lightgrey solid',\n",
    "        'overflowX': 'scroll'\n",
    "    }\n",
    "}\n",
    "\n",
    "\n",
    "theme =  {\n",
    "    'dark': True,\n",
    "    'detail': '#007439',\n",
    "    'primary': '#00EA64',\n",
    "    'secondary': '#6E6E6E',\n",
    "}\n",
    "\n",
    "\n",
    "app.layout = html.Div([\n",
    "        html.Div(\n",
    "            children = [\n",
    "                html.Label('Image Size'),\n",
    "                dcc.Slider(\n",
    "                        id='img_size',\n",
    "                        min=.001,\n",
    "                        max=.05,\n",
    "                        step=0.0005,\n",
    "                        value = .008\n",
    "                    )\n",
    "                ], className=\"three columns\",\n",
    "                ),\n",
    "                \n",
    "            html.Div([\n",
    "                dcc.Graph(\n",
    "                    id='fig',\n",
    "                    figure=fig\n",
    "                )\n",
    "                ], className= 'nine columns'\n",
    "                ),\n",
    "            ], className=\"row\")\n",
    "\n",
    "\n",
    "\n",
    "\n",
    "#Network Graph Figure\n",
    "@app.callback(\n",
    "    Output('fig', 'figure'),\n",
    "    [Input('img_size', 'value')],\n",
    "    [State('fig','figure')])\n",
    "def update_figure(img_size, fig):\n",
    "    for i in fig['layout']['images']:\n",
    "        i['sizex'] = img_size\n",
    "        i['sizey'] = img_size\n",
    "    return fig"
   ]
  },
  {
   "cell_type": "code",
   "execution_count": null,
   "metadata": {},
   "outputs": [
    {
     "name": "stdout",
     "output_type": "stream",
     "text": [
      "Dash is running on http://127.0.0.1:8051/\n",
      "\n",
      "Dash is running on http://127.0.0.1:8051/\n",
      "\n",
      "Dash is running on http://127.0.0.1:8051/\n",
      "\n",
      "Dash is running on http://127.0.0.1:8051/\n",
      "\n",
      "Dash is running on http://127.0.0.1:8051/\n",
      "\n",
      "Dash is running on http://127.0.0.1:8051/\n",
      "\n",
      "Dash is running on http://127.0.0.1:8051/\n",
      "\n",
      "Dash is running on http://127.0.0.1:8051/\n",
      "\n",
      "Dash is running on http://127.0.0.1:8051/\n",
      "\n",
      "Dash is running on http://127.0.0.1:8051/\n",
      "\n",
      " * Serving Flask app '__main__' (lazy loading)\n",
      " * Environment: production\n",
      "\u001b[31m   WARNING: This is a development server. Do not use it in a production deployment.\u001b[0m\n",
      "\u001b[2m   Use a production WSGI server instead.\u001b[0m\n",
      " * Debug mode: off\n"
     ]
    },
    {
     "name": "stderr",
     "output_type": "stream",
     "text": [
      " * Running on http://127.0.0.1:8051/ (Press CTRL+C to quit)\n",
      "127.0.0.1 - - [24/Jun/2021 21:24:17] \"GET / HTTP/1.1\" 200 -\n",
      "127.0.0.1 - - [24/Jun/2021 21:24:17] \"GET /_dash-component-suites/dash_renderer/polyfill@7.v1_9_1m1617985068.8.7.min.js HTTP/1.1\" 200 -\n",
      "127.0.0.1 - - [24/Jun/2021 21:24:17] \"GET /_dash-component-suites/dash_renderer/react@16.v1_9_1m1617985068.14.0.min.js HTTP/1.1\" 200 -\n",
      "127.0.0.1 - - [24/Jun/2021 21:24:17] \"GET /_dash-component-suites/dash_renderer/prop-types@15.v1_9_1m1617985068.7.2.min.js HTTP/1.1\" 200 -\n",
      "127.0.0.1 - - [24/Jun/2021 21:24:17] \"GET /_dash-component-suites/dash_renderer/react-dom@16.v1_9_1m1617985068.14.0.min.js HTTP/1.1\" 200 -\n",
      "127.0.0.1 - - [24/Jun/2021 21:24:17] \"GET /_dash-component-suites/dash_html_components/dash_html_components.v1_1_3m1617985573.min.js HTTP/1.1\" 200 -\n",
      "127.0.0.1 - - [24/Jun/2021 21:24:17] \"GET /_dash-component-suites/dash_daq/dash_daq.v0_5_0m1596869724.min.js HTTP/1.1\" 200 -\n",
      "127.0.0.1 - - [24/Jun/2021 21:24:17] \"GET /_dash-component-suites/dash_core_components/dash_core_components-shared.v1_16_0m1617985098.js HTTP/1.1\" 200 -\n",
      "127.0.0.1 - - [24/Jun/2021 21:24:17] \"GET /_dash-component-suites/dash_renderer/dash_renderer.v1_9_1m1617985068.min.js HTTP/1.1\" 200 -\n",
      "127.0.0.1 - - [24/Jun/2021 21:24:17] \"GET /_dash-component-suites/dash_core_components/dash_core_components.v1_16_0m1617985098.min.js HTTP/1.1\" 200 -\n",
      "127.0.0.1 - - [24/Jun/2021 21:24:18] \"GET /_dash-dependencies HTTP/1.1\" 200 -\n",
      "127.0.0.1 - - [24/Jun/2021 21:24:18] \"GET /_dash-layout HTTP/1.1\" 200 -\n",
      "127.0.0.1 - - [24/Jun/2021 21:24:18] \"GET /_favicon.ico?v=1.20.0 HTTP/1.1\" 200 -\n",
      "127.0.0.1 - - [24/Jun/2021 21:24:21] \"POST /_dash-update-component HTTP/1.1\" 200 -\n",
      "127.0.0.1 - - [24/Jun/2021 21:24:24] \"POST /_dash-update-component HTTP/1.1\" 200 -\n",
      "127.0.0.1 - - [24/Jun/2021 21:24:26] \"POST /_dash-update-component HTTP/1.1\" 200 -\n",
      "127.0.0.1 - - [24/Jun/2021 21:24:27] \"POST /_dash-update-component HTTP/1.1\" 200 -\n",
      "127.0.0.1 - - [24/Jun/2021 21:24:31] \"POST /_dash-update-component HTTP/1.1\" 200 -\n",
      "127.0.0.1 - - [24/Jun/2021 21:24:34] \"POST /_dash-update-component HTTP/1.1\" 200 -\n",
      "127.0.0.1 - - [24/Jun/2021 21:24:38] \"POST /_dash-update-component HTTP/1.1\" 200 -\n",
      "127.0.0.1 - - [24/Jun/2021 21:24:42] \"POST /_dash-update-component HTTP/1.1\" 200 -\n",
      "127.0.0.1 - - [24/Jun/2021 21:24:44] \"POST /_dash-update-component HTTP/1.1\" 200 -\n"
     ]
    }
   ],
   "source": [
    "app.run_server(port=8051)"
   ]
  },
  {
   "cell_type": "code",
   "execution_count": 38,
   "metadata": {},
   "outputs": [
    {
     "data": {
      "text/plain": [
       "258"
      ]
     },
     "execution_count": 38,
     "metadata": {},
     "output_type": "execute_result"
    }
   ],
   "source": [
    "layer = 2\n",
    "params['layer_nodes'][layer][1][2]"
   ]
  },
  {
   "cell_type": "code",
   "execution_count": 30,
   "metadata": {},
   "outputs": [],
   "source": [
    "all_positions = pickle.load(open('/mnt/data/chris/dropbox/Research-Hamblin/Projects/cnn_subgraph_visualizer/prepped_models/alexnet_sparse/node_positions.pkl','rb'))"
   ]
  },
  {
   "cell_type": "code",
   "execution_count": 37,
   "metadata": {},
   "outputs": [],
   "source": [
    "#### FORMAT NODE POSITIONS\n",
    "\n",
    "layer_distance = 1   # distance in X direction each layer is separated by\n",
    "layer_offset = 0\n",
    "node_positions = []\n",
    "for layer in smooth_embeddings:\n",
    "        node_positions.append({})\n",
    "        node_positions[-1]['X'] = [] \n",
    "        node_positions[-1]['Y'] = [] \n",
    "        node_positions[-1]['Z'] = []  \n",
    "        for i in range(len(smooth_embeddings[layer])): \n",
    "            node_positions[-1]['Y'].append(smooth_embeddings[layer][i][0])\n",
    "            node_positions[-1]['Z'].append(smooth_embeddings[layer][i][1])\n",
    "            node_positions[-1]['X'].append(layer_offset)\n",
    "        layer_offset+=1*layer_distance\n",
    "\n",
    "all_positions['Deepviz UMAP smooth'] = node_positions"
   ]
  },
  {
   "cell_type": "code",
   "execution_count": 38,
   "metadata": {},
   "outputs": [],
   "source": [
    "pickle.dump(all_positions,open('/mnt/data/chris/dropbox/Research-Hamblin/Projects/cnn_subgraph_visualizer/prepped_models/alexnet_sparse/node_positions.pkl','wb'))"
   ]
  },
  {
   "cell_type": "code",
   "execution_count": 41,
   "metadata": {},
   "outputs": [
    {
     "name": "stdout",
     "output_type": "stream",
     "text": [
      "0\n",
      "1\n",
      "2\n",
      "3\n",
      "4\n"
     ]
    }
   ],
   "source": [
    "for layer in smooth_embeddings:\n",
    "    print(layer)"
   ]
  },
  {
   "cell_type": "code",
   "execution_count": 53,
   "metadata": {},
   "outputs": [
    {
     "name": "stdout",
     "output_type": "stream",
     "text": [
      "generating feature_viz objective string for 0\n",
      "found image 0.jpg\n",
      "generating feature_viz objective string for 1\n",
      "found image 1.jpg\n",
      "generating feature_viz objective string for 2\n",
      "found image 2.jpg\n",
      "generating feature_viz objective string for 3\n",
      "found image 3.jpg\n",
      "generating feature_viz objective string for 4\n",
      "found image 4.jpg\n",
      "generating feature_viz objective string for 5\n",
      "found image 5.jpg\n",
      "generating feature_viz objective string for 6\n",
      "found image 6.jpg\n",
      "generating feature_viz objective string for 7\n",
      "found image 7.jpg\n",
      "generating feature_viz objective string for 8\n",
      "found image 8.jpg\n",
      "generating feature_viz objective string for 9\n",
      "found image 9.jpg\n",
      "generating feature_viz objective string for 10\n",
      "found image 10.jpg\n",
      "generating feature_viz objective string for 11\n",
      "found image 11.jpg\n",
      "generating feature_viz objective string for 12\n",
      "found image 12.jpg\n",
      "generating feature_viz objective string for 13\n",
      "found image 13.jpg\n",
      "generating feature_viz objective string for 14\n",
      "found image 14.jpg\n",
      "generating feature_viz objective string for 15\n",
      "found image 15.jpg\n",
      "generating feature_viz objective string for 16\n",
      "found image 16.jpg\n",
      "generating feature_viz objective string for 17\n",
      "found image 17.jpg\n",
      "generating feature_viz objective string for 18\n",
      "found image 18.jpg\n",
      "generating feature_viz objective string for 19\n",
      "found image 19.jpg\n",
      "generating feature_viz objective string for 20\n",
      "found image 20.jpg\n",
      "generating feature_viz objective string for 21\n",
      "found image 21.jpg\n",
      "generating feature_viz objective string for 22\n",
      "found image 22.jpg\n",
      "generating feature_viz objective string for 23\n",
      "found image 23.jpg\n",
      "generating feature_viz objective string for 24\n",
      "found image 24.jpg\n",
      "generating feature_viz objective string for 25\n",
      "found image 25.jpg\n",
      "generating feature_viz objective string for 26\n",
      "found image 26.jpg\n",
      "generating feature_viz objective string for 27\n",
      "found image 27.jpg\n",
      "generating feature_viz objective string for 28\n",
      "found image 28.jpg\n",
      "generating feature_viz objective string for 29\n",
      "found image 29.jpg\n",
      "generating feature_viz objective string for 30\n",
      "found image 30.jpg\n",
      "generating feature_viz objective string for 31\n",
      "found image 31.jpg\n",
      "generating feature_viz objective string for 32\n",
      "found image 32.jpg\n",
      "generating feature_viz objective string for 33\n",
      "found image 33.jpg\n",
      "generating feature_viz objective string for 34\n",
      "found image 34.jpg\n",
      "generating feature_viz objective string for 35\n",
      "found image 35.jpg\n",
      "generating feature_viz objective string for 36\n",
      "found image 36.jpg\n",
      "generating feature_viz objective string for 37\n",
      "found image 37.jpg\n",
      "generating feature_viz objective string for 38\n",
      "found image 38.jpg\n",
      "generating feature_viz objective string for 39\n",
      "found image 39.jpg\n",
      "generating feature_viz objective string for 40\n",
      "found image 40.jpg\n",
      "generating feature_viz objective string for 41\n",
      "found image 41.jpg\n",
      "generating feature_viz objective string for 42\n",
      "found image 42.jpg\n",
      "generating feature_viz objective string for 43\n",
      "found image 43.jpg\n",
      "generating feature_viz objective string for 44\n",
      "found image 44.jpg\n",
      "generating feature_viz objective string for 45\n",
      "found image 45.jpg\n",
      "generating feature_viz objective string for 46\n",
      "found image 46.jpg\n",
      "generating feature_viz objective string for 47\n",
      "found image 47.jpg\n",
      "generating feature_viz objective string for 48\n",
      "found image 48.jpg\n",
      "generating feature_viz objective string for 49\n",
      "found image 49.jpg\n",
      "generating feature_viz objective string for 50\n",
      "found image 50.jpg\n",
      "generating feature_viz objective string for 51\n",
      "found image 51.jpg\n",
      "generating feature_viz objective string for 52\n",
      "found image 52.jpg\n",
      "generating feature_viz objective string for 53\n",
      "found image 53.jpg\n",
      "generating feature_viz objective string for 54\n",
      "found image 54.jpg\n",
      "generating feature_viz objective string for 55\n",
      "found image 55.jpg\n",
      "generating feature_viz objective string for 56\n",
      "found image 56.jpg\n",
      "generating feature_viz objective string for 57\n",
      "found image 57.jpg\n",
      "generating feature_viz objective string for 58\n",
      "found image 58.jpg\n",
      "generating feature_viz objective string for 59\n",
      "found image 59.jpg\n",
      "generating feature_viz objective string for 60\n",
      "found image 60.jpg\n",
      "generating feature_viz objective string for 61\n",
      "found image 61.jpg\n",
      "generating feature_viz objective string for 62\n",
      "found image 62.jpg\n",
      "generating feature_viz objective string for 63\n",
      "found image 63.jpg\n",
      "generating feature_viz objective string for 64\n",
      "found image 64.jpg\n",
      "generating feature_viz objective string for 65\n",
      "found image 65.jpg\n",
      "generating feature_viz objective string for 66\n",
      "found image 66.jpg\n",
      "generating feature_viz objective string for 67\n",
      "found image 67.jpg\n",
      "generating feature_viz objective string for 68\n",
      "found image 68.jpg\n",
      "generating feature_viz objective string for 69\n",
      "found image 69.jpg\n",
      "generating feature_viz objective string for 70\n",
      "found image 70.jpg\n",
      "generating feature_viz objective string for 71\n",
      "found image 71.jpg\n",
      "generating feature_viz objective string for 72\n",
      "found image 72.jpg\n",
      "generating feature_viz objective string for 73\n",
      "found image 73.jpg\n",
      "generating feature_viz objective string for 74\n",
      "found image 74.jpg\n",
      "generating feature_viz objective string for 75\n",
      "found image 75.jpg\n",
      "generating feature_viz objective string for 76\n",
      "found image 76.jpg\n",
      "generating feature_viz objective string for 77\n",
      "found image 77.jpg\n",
      "generating feature_viz objective string for 78\n",
      "found image 78.jpg\n",
      "generating feature_viz objective string for 79\n",
      "found image 79.jpg\n",
      "generating feature_viz objective string for 80\n",
      "found image 80.jpg\n",
      "generating feature_viz objective string for 81\n",
      "found image 81.jpg\n",
      "generating feature_viz objective string for 82\n",
      "found image 82.jpg\n",
      "generating feature_viz objective string for 83\n",
      "found image 83.jpg\n",
      "generating feature_viz objective string for 84\n",
      "found image 84.jpg\n",
      "generating feature_viz objective string for 85\n",
      "found image 85.jpg\n",
      "generating feature_viz objective string for 86\n",
      "found image 86.jpg\n",
      "generating feature_viz objective string for 87\n",
      "found image 87.jpg\n",
      "generating feature_viz objective string for 88\n",
      "found image 88.jpg\n",
      "generating feature_viz objective string for 89\n",
      "found image 89.jpg\n",
      "generating feature_viz objective string for 90\n",
      "found image 90.jpg\n",
      "generating feature_viz objective string for 91\n",
      "found image 91.jpg\n",
      "generating feature_viz objective string for 92\n",
      "found image 92.jpg\n",
      "generating feature_viz objective string for 93\n",
      "found image 93.jpg\n",
      "generating feature_viz objective string for 94\n",
      "found image 94.jpg\n",
      "generating feature_viz objective string for 95\n",
      "found image 95.jpg\n",
      "generating feature_viz objective string for 96\n",
      "found image 96.jpg\n",
      "generating feature_viz objective string for 97\n",
      "found image 97.jpg\n",
      "generating feature_viz objective string for 98\n",
      "found image 98.jpg\n",
      "generating feature_viz objective string for 99\n",
      "found image 99.jpg\n",
      "generating feature_viz objective string for 100\n",
      "found image 100.jpg\n",
      "generating feature_viz objective string for 101\n",
      "found image 101.jpg\n",
      "generating feature_viz objective string for 102\n",
      "found image 102.jpg\n",
      "generating feature_viz objective string for 103\n",
      "found image 103.jpg\n",
      "generating feature_viz objective string for 104\n",
      "found image 104.jpg\n",
      "generating feature_viz objective string for 105\n",
      "found image 105.jpg\n",
      "generating feature_viz objective string for 106\n",
      "found image 106.jpg\n",
      "generating feature_viz objective string for 107\n",
      "found image 107.jpg\n",
      "generating feature_viz objective string for 108\n",
      "found image 108.jpg\n",
      "generating feature_viz objective string for 109\n",
      "found image 109.jpg\n",
      "generating feature_viz objective string for 110\n",
      "found image 110.jpg\n",
      "generating feature_viz objective string for 111\n",
      "found image 111.jpg\n",
      "generating feature_viz objective string for 112\n",
      "found image 112.jpg\n",
      "generating feature_viz objective string for 113\n",
      "found image 113.jpg\n",
      "generating feature_viz objective string for 114\n",
      "found image 114.jpg\n",
      "generating feature_viz objective string for 115\n",
      "found image 115.jpg\n",
      "generating feature_viz objective string for 116\n",
      "found image 116.jpg\n",
      "generating feature_viz objective string for 117\n",
      "found image 117.jpg\n",
      "generating feature_viz objective string for 118\n",
      "found image 118.jpg\n",
      "generating feature_viz objective string for 119\n",
      "found image 119.jpg\n",
      "generating feature_viz objective string for 120\n",
      "found image 120.jpg\n",
      "generating feature_viz objective string for 121\n",
      "found image 121.jpg\n",
      "generating feature_viz objective string for 122\n",
      "found image 122.jpg\n",
      "generating feature_viz objective string for 123\n",
      "found image 123.jpg\n"
     ]
    },
    {
     "name": "stdout",
     "output_type": "stream",
     "text": [
      "generating feature_viz objective string for 124\n",
      "found image 124.jpg\n",
      "generating feature_viz objective string for 125\n",
      "found image 125.jpg\n",
      "generating feature_viz objective string for 126\n",
      "found image 126.jpg\n",
      "generating feature_viz objective string for 127\n",
      "found image 127.jpg\n",
      "generating feature_viz objective string for 128\n",
      "found image 128.jpg\n",
      "generating feature_viz objective string for 129\n",
      "found image 129.jpg\n",
      "generating feature_viz objective string for 130\n",
      "found image 130.jpg\n",
      "generating feature_viz objective string for 131\n",
      "found image 131.jpg\n",
      "generating feature_viz objective string for 132\n",
      "found image 132.jpg\n",
      "generating feature_viz objective string for 133\n",
      "found image 133.jpg\n",
      "generating feature_viz objective string for 134\n",
      "found image 134.jpg\n",
      "generating feature_viz objective string for 135\n",
      "found image 135.jpg\n",
      "generating feature_viz objective string for 136\n",
      "found image 136.jpg\n",
      "generating feature_viz objective string for 137\n",
      "found image 137.jpg\n",
      "generating feature_viz objective string for 138\n",
      "found image 138.jpg\n",
      "generating feature_viz objective string for 139\n",
      "found image 139.jpg\n",
      "generating feature_viz objective string for 140\n",
      "found image 140.jpg\n",
      "generating feature_viz objective string for 141\n",
      "found image 141.jpg\n",
      "generating feature_viz objective string for 142\n",
      "found image 142.jpg\n",
      "generating feature_viz objective string for 143\n",
      "found image 143.jpg\n",
      "generating feature_viz objective string for 144\n",
      "found image 144.jpg\n",
      "generating feature_viz objective string for 145\n",
      "found image 145.jpg\n",
      "generating feature_viz objective string for 146\n",
      "found image 146.jpg\n",
      "generating feature_viz objective string for 147\n",
      "found image 147.jpg\n",
      "generating feature_viz objective string for 148\n",
      "found image 148.jpg\n",
      "generating feature_viz objective string for 149\n",
      "found image 149.jpg\n",
      "generating feature_viz objective string for 150\n",
      "found image 150.jpg\n",
      "generating feature_viz objective string for 151\n",
      "found image 151.jpg\n",
      "generating feature_viz objective string for 152\n",
      "found image 152.jpg\n",
      "generating feature_viz objective string for 153\n",
      "found image 153.jpg\n",
      "generating feature_viz objective string for 154\n",
      "found image 154.jpg\n",
      "generating feature_viz objective string for 155\n",
      "found image 155.jpg\n",
      "generating feature_viz objective string for 156\n",
      "found image 156.jpg\n",
      "generating feature_viz objective string for 157\n",
      "found image 157.jpg\n",
      "generating feature_viz objective string for 158\n",
      "found image 158.jpg\n",
      "generating feature_viz objective string for 159\n",
      "found image 159.jpg\n",
      "generating feature_viz objective string for 160\n",
      "found image 160.jpg\n",
      "generating feature_viz objective string for 161\n",
      "found image 161.jpg\n",
      "generating feature_viz objective string for 162\n",
      "found image 162.jpg\n",
      "generating feature_viz objective string for 163\n",
      "found image 163.jpg\n",
      "generating feature_viz objective string for 164\n",
      "found image 164.jpg\n",
      "generating feature_viz objective string for 165\n",
      "found image 165.jpg\n",
      "generating feature_viz objective string for 166\n",
      "found image 166.jpg\n",
      "generating feature_viz objective string for 167\n",
      "found image 167.jpg\n",
      "generating feature_viz objective string for 168\n",
      "found image 168.jpg\n",
      "generating feature_viz objective string for 169\n",
      "found image 169.jpg\n",
      "generating feature_viz objective string for 170\n",
      "found image 170.jpg\n",
      "generating feature_viz objective string for 171\n",
      "found image 171.jpg\n",
      "generating feature_viz objective string for 172\n",
      "found image 172.jpg\n",
      "generating feature_viz objective string for 173\n",
      "found image 173.jpg\n",
      "generating feature_viz objective string for 174\n",
      "found image 174.jpg\n",
      "generating feature_viz objective string for 175\n",
      "found image 175.jpg\n",
      "generating feature_viz objective string for 176\n",
      "found image 176.jpg\n",
      "generating feature_viz objective string for 177\n",
      "found image 177.jpg\n",
      "generating feature_viz objective string for 178\n",
      "found image 178.jpg\n",
      "generating feature_viz objective string for 179\n",
      "found image 179.jpg\n",
      "generating feature_viz objective string for 180\n",
      "found image 180.jpg\n",
      "generating feature_viz objective string for 181\n",
      "found image 181.jpg\n",
      "generating feature_viz objective string for 182\n",
      "found image 182.jpg\n",
      "generating feature_viz objective string for 183\n",
      "found image 183.jpg\n",
      "generating feature_viz objective string for 184\n",
      "found image 184.jpg\n",
      "generating feature_viz objective string for 185\n",
      "found image 185.jpg\n",
      "generating feature_viz objective string for 186\n",
      "found image 186.jpg\n",
      "generating feature_viz objective string for 187\n",
      "found image 187.jpg\n",
      "generating feature_viz objective string for 188\n",
      "found image 188.jpg\n",
      "generating feature_viz objective string for 189\n",
      "found image 189.jpg\n",
      "generating feature_viz objective string for 190\n",
      "found image 190.jpg\n",
      "generating feature_viz objective string for 191\n",
      "found image 191.jpg\n",
      "generating feature_viz objective string for 192\n",
      "found image 192.jpg\n",
      "generating feature_viz objective string for 193\n",
      "found image 193.jpg\n",
      "generating feature_viz objective string for 194\n",
      "found image 194.jpg\n",
      "generating feature_viz objective string for 195\n",
      "found image 195.jpg\n",
      "generating feature_viz objective string for 196\n",
      "found image 196.jpg\n",
      "generating feature_viz objective string for 197\n",
      "found image 197.jpg\n",
      "generating feature_viz objective string for 198\n",
      "found image 198.jpg\n",
      "generating feature_viz objective string for 199\n",
      "found image 199.jpg\n",
      "generating feature_viz objective string for 200\n",
      "found image 200.jpg\n",
      "generating feature_viz objective string for 201\n",
      "found image 201.jpg\n",
      "generating feature_viz objective string for 202\n",
      "found image 202.jpg\n",
      "generating feature_viz objective string for 203\n",
      "found image 203.jpg\n",
      "generating feature_viz objective string for 204\n",
      "found image 204.jpg\n",
      "generating feature_viz objective string for 205\n",
      "found image 205.jpg\n",
      "generating feature_viz objective string for 206\n",
      "found image 206.jpg\n",
      "generating feature_viz objective string for 207\n",
      "found image 207.jpg\n",
      "generating feature_viz objective string for 208\n",
      "found image 208.jpg\n",
      "generating feature_viz objective string for 209\n",
      "found image 209.jpg\n",
      "generating feature_viz objective string for 210\n",
      "found image 210.jpg\n",
      "generating feature_viz objective string for 211\n",
      "found image 211.jpg\n",
      "generating feature_viz objective string for 212\n",
      "found image 212.jpg\n",
      "generating feature_viz objective string for 213\n",
      "found image 213.jpg\n",
      "generating feature_viz objective string for 214\n",
      "found image 214.jpg\n",
      "generating feature_viz objective string for 215\n",
      "found image 215.jpg\n",
      "generating feature_viz objective string for 216\n",
      "found image 216.jpg\n",
      "generating feature_viz objective string for 217\n",
      "found image 217.jpg\n",
      "generating feature_viz objective string for 218\n",
      "found image 218.jpg\n",
      "generating feature_viz objective string for 219\n",
      "found image 219.jpg\n",
      "generating feature_viz objective string for 220\n",
      "found image 220.jpg\n",
      "generating feature_viz objective string for 221\n",
      "found image 221.jpg\n",
      "generating feature_viz objective string for 222\n",
      "found image 222.jpg\n",
      "generating feature_viz objective string for 223\n",
      "found image 223.jpg\n",
      "generating feature_viz objective string for 224\n",
      "found image 224.jpg\n",
      "generating feature_viz objective string for 225\n",
      "found image 225.jpg\n",
      "generating feature_viz objective string for 226\n",
      "found image 226.jpg\n",
      "generating feature_viz objective string for 227\n",
      "found image 227.jpg\n",
      "generating feature_viz objective string for 228\n",
      "found image 228.jpg\n",
      "generating feature_viz objective string for 229\n",
      "found image 229.jpg\n",
      "generating feature_viz objective string for 230\n",
      "found image 230.jpg\n",
      "generating feature_viz objective string for 231\n",
      "found image 231.jpg\n",
      "generating feature_viz objective string for 232\n",
      "found image 232.jpg\n",
      "generating feature_viz objective string for 233\n",
      "found image 233.jpg\n",
      "generating feature_viz objective string for 234\n",
      "found image 234.jpg\n",
      "generating feature_viz objective string for 235\n",
      "found image 235.jpg\n",
      "generating feature_viz objective string for 236\n",
      "found image 236.jpg\n",
      "generating feature_viz objective string for 237\n",
      "found image 237.jpg\n",
      "generating feature_viz objective string for 238\n",
      "found image 238.jpg\n",
      "generating feature_viz objective string for 239\n",
      "found image 239.jpg\n",
      "generating feature_viz objective string for 240\n",
      "found image 240.jpg\n",
      "generating feature_viz objective string for 241\n",
      "found image 241.jpg\n",
      "generating feature_viz objective string for 242\n",
      "found image 242.jpg\n",
      "generating feature_viz objective string for 243\n",
      "found image 243.jpg\n",
      "generating feature_viz objective string for 244\n",
      "found image 244.jpg\n"
     ]
    },
    {
     "name": "stdout",
     "output_type": "stream",
     "text": [
      "generating feature_viz objective string for 245\n",
      "found image 245.jpg\n",
      "generating feature_viz objective string for 246\n",
      "found image 246.jpg\n",
      "generating feature_viz objective string for 247\n",
      "found image 247.jpg\n",
      "generating feature_viz objective string for 248\n",
      "found image 248.jpg\n",
      "generating feature_viz objective string for 249\n",
      "found image 249.jpg\n",
      "generating feature_viz objective string for 250\n",
      "found image 250.jpg\n",
      "generating feature_viz objective string for 251\n",
      "found image 251.jpg\n",
      "generating feature_viz objective string for 252\n",
      "found image 252.jpg\n",
      "generating feature_viz objective string for 253\n",
      "found image 253.jpg\n",
      "generating feature_viz objective string for 254\n",
      "found image 254.jpg\n",
      "generating feature_viz objective string for 255\n",
      "found image 255.jpg\n",
      "generating feature_viz objective string for 256\n",
      "found image 256.jpg\n",
      "generating feature_viz objective string for 257\n",
      "found image 257.jpg\n",
      "generating feature_viz objective string for 258\n",
      "found image 258.jpg\n",
      "generating feature_viz objective string for 259\n",
      "found image 259.jpg\n",
      "generating feature_viz objective string for 260\n",
      "found image 260.jpg\n",
      "generating feature_viz objective string for 261\n",
      "found image 261.jpg\n",
      "generating feature_viz objective string for 262\n",
      "found image 262.jpg\n",
      "generating feature_viz objective string for 263\n",
      "found image 263.jpg\n",
      "generating feature_viz objective string for 264\n",
      "found image 264.jpg\n",
      "generating feature_viz objective string for 265\n",
      "found image 265.jpg\n",
      "generating feature_viz objective string for 266\n",
      "found image 266.jpg\n",
      "generating feature_viz objective string for 267\n",
      "found image 267.jpg\n",
      "generating feature_viz objective string for 268\n",
      "found image 268.jpg\n",
      "generating feature_viz objective string for 269\n",
      "found image 269.jpg\n",
      "generating feature_viz objective string for 270\n",
      "found image 270.jpg\n",
      "generating feature_viz objective string for 271\n",
      "found image 271.jpg\n",
      "generating feature_viz objective string for 272\n",
      "found image 272.jpg\n",
      "generating feature_viz objective string for 273\n",
      "found image 273.jpg\n",
      "generating feature_viz objective string for 274\n",
      "found image 274.jpg\n",
      "generating feature_viz objective string for 275\n",
      "found image 275.jpg\n",
      "generating feature_viz objective string for 276\n",
      "found image 276.jpg\n",
      "generating feature_viz objective string for 277\n",
      "found image 277.jpg\n",
      "generating feature_viz objective string for 278\n",
      "found image 278.jpg\n",
      "generating feature_viz objective string for 279\n",
      "found image 279.jpg\n",
      "generating feature_viz objective string for 280\n",
      "found image 280.jpg\n",
      "generating feature_viz objective string for 281\n",
      "found image 281.jpg\n",
      "generating feature_viz objective string for 282\n",
      "found image 282.jpg\n",
      "generating feature_viz objective string for 283\n",
      "found image 283.jpg\n",
      "generating feature_viz objective string for 284\n",
      "found image 284.jpg\n",
      "generating feature_viz objective string for 285\n",
      "found image 285.jpg\n",
      "generating feature_viz objective string for 286\n",
      "found image 286.jpg\n",
      "generating feature_viz objective string for 287\n",
      "found image 287.jpg\n",
      "generating feature_viz objective string for 288\n",
      "found image 288.jpg\n",
      "generating feature_viz objective string for 289\n",
      "found image 289.jpg\n",
      "generating feature_viz objective string for 290\n",
      "found image 290.jpg\n",
      "generating feature_viz objective string for 291\n",
      "found image 291.jpg\n",
      "generating feature_viz objective string for 292\n",
      "found image 292.jpg\n",
      "generating feature_viz objective string for 293\n",
      "found image 293.jpg\n",
      "generating feature_viz objective string for 294\n",
      "found image 294.jpg\n",
      "generating feature_viz objective string for 295\n",
      "found image 295.jpg\n",
      "generating feature_viz objective string for 296\n",
      "found image 296.jpg\n",
      "generating feature_viz objective string for 297\n",
      "found image 297.jpg\n",
      "generating feature_viz objective string for 298\n",
      "found image 298.jpg\n",
      "generating feature_viz objective string for 299\n",
      "found image 299.jpg\n",
      "generating feature_viz objective string for 300\n",
      "found image 300.jpg\n",
      "generating feature_viz objective string for 301\n",
      "found image 301.jpg\n",
      "generating feature_viz objective string for 302\n",
      "found image 302.jpg\n",
      "generating feature_viz objective string for 303\n",
      "found image 303.jpg\n",
      "generating feature_viz objective string for 304\n",
      "found image 304.jpg\n",
      "generating feature_viz objective string for 305\n",
      "found image 305.jpg\n",
      "generating feature_viz objective string for 306\n",
      "found image 306.jpg\n",
      "generating feature_viz objective string for 307\n",
      "found image 307.jpg\n",
      "generating feature_viz objective string for 308\n",
      "found image 308.jpg\n",
      "generating feature_viz objective string for 309\n",
      "found image 309.jpg\n",
      "generating feature_viz objective string for 310\n",
      "found image 310.jpg\n",
      "generating feature_viz objective string for 311\n",
      "found image 311.jpg\n",
      "generating feature_viz objective string for 312\n",
      "found image 312.jpg\n",
      "generating feature_viz objective string for 313\n",
      "found image 313.jpg\n",
      "generating feature_viz objective string for 314\n",
      "found image 314.jpg\n",
      "generating feature_viz objective string for 315\n",
      "found image 315.jpg\n",
      "generating feature_viz objective string for 316\n",
      "found image 316.jpg\n",
      "generating feature_viz objective string for 317\n",
      "found image 317.jpg\n",
      "generating feature_viz objective string for 318\n",
      "found image 318.jpg\n",
      "generating feature_viz objective string for 319\n",
      "found image 319.jpg\n",
      "generating feature_viz objective string for 320\n",
      "found image 320.jpg\n",
      "generating feature_viz objective string for 321\n",
      "found image 321.jpg\n",
      "generating feature_viz objective string for 322\n",
      "found image 322.jpg\n",
      "generating feature_viz objective string for 323\n",
      "found image 323.jpg\n",
      "generating feature_viz objective string for 324\n",
      "found image 324.jpg\n",
      "generating feature_viz objective string for 325\n",
      "found image 325.jpg\n",
      "generating feature_viz objective string for 326\n",
      "found image 326.jpg\n",
      "generating feature_viz objective string for 327\n",
      "found image 327.jpg\n",
      "generating feature_viz objective string for 328\n",
      "found image 328.jpg\n",
      "generating feature_viz objective string for 329\n",
      "found image 329.jpg\n",
      "generating feature_viz objective string for 330\n",
      "found image 330.jpg\n",
      "generating feature_viz objective string for 331\n",
      "found image 331.jpg\n",
      "generating feature_viz objective string for 332\n",
      "found image 332.jpg\n",
      "generating feature_viz objective string for 333\n",
      "found image 333.jpg\n",
      "generating feature_viz objective string for 334\n",
      "found image 334.jpg\n",
      "generating feature_viz objective string for 335\n",
      "found image 335.jpg\n",
      "generating feature_viz objective string for 336\n",
      "found image 336.jpg\n",
      "generating feature_viz objective string for 337\n",
      "found image 337.jpg\n",
      "generating feature_viz objective string for 338\n",
      "found image 338.jpg\n",
      "generating feature_viz objective string for 339\n",
      "found image 339.jpg\n",
      "generating feature_viz objective string for 340\n",
      "found image 340.jpg\n",
      "generating feature_viz objective string for 341\n",
      "found image 341.jpg\n",
      "generating feature_viz objective string for 342\n",
      "found image 342.jpg\n",
      "generating feature_viz objective string for 343\n",
      "found image 343.jpg\n",
      "generating feature_viz objective string for 344\n",
      "found image 344.jpg\n",
      "generating feature_viz objective string for 345\n",
      "found image 345.jpg\n",
      "generating feature_viz objective string for 346\n",
      "found image 346.jpg\n",
      "generating feature_viz objective string for 347\n",
      "found image 347.jpg\n",
      "generating feature_viz objective string for 348\n",
      "found image 348.jpg\n",
      "generating feature_viz objective string for 349\n",
      "found image 349.jpg\n",
      "generating feature_viz objective string for 350\n",
      "found image 350.jpg\n",
      "generating feature_viz objective string for 351\n",
      "found image 351.jpg\n",
      "generating feature_viz objective string for 352\n",
      "found image 352.jpg\n",
      "generating feature_viz objective string for 353\n",
      "found image 353.jpg\n",
      "generating feature_viz objective string for 354\n",
      "found image 354.jpg\n",
      "generating feature_viz objective string for 355\n",
      "found image 355.jpg\n",
      "generating feature_viz objective string for 356\n",
      "found image 356.jpg\n",
      "generating feature_viz objective string for 357\n",
      "found image 357.jpg\n",
      "generating feature_viz objective string for 358\n",
      "found image 358.jpg\n",
      "generating feature_viz objective string for 359\n",
      "found image 359.jpg\n",
      "generating feature_viz objective string for 360\n",
      "found image 360.jpg\n",
      "generating feature_viz objective string for 361\n",
      "found image 361.jpg\n",
      "generating feature_viz objective string for 362\n",
      "found image 362.jpg\n",
      "generating feature_viz objective string for 363\n",
      "found image 363.jpg\n",
      "generating feature_viz objective string for 364\n",
      "found image 364.jpg\n",
      "generating feature_viz objective string for 365\n",
      "found image 365.jpg\n"
     ]
    },
    {
     "name": "stdout",
     "output_type": "stream",
     "text": [
      "generating feature_viz objective string for 366\n",
      "found image 366.jpg\n",
      "generating feature_viz objective string for 367\n",
      "found image 367.jpg\n",
      "generating feature_viz objective string for 368\n",
      "found image 368.jpg\n",
      "generating feature_viz objective string for 369\n",
      "found image 369.jpg\n",
      "generating feature_viz objective string for 370\n",
      "found image 370.jpg\n",
      "generating feature_viz objective string for 371\n",
      "found image 371.jpg\n",
      "generating feature_viz objective string for 372\n",
      "found image 372.jpg\n",
      "generating feature_viz objective string for 373\n",
      "found image 373.jpg\n",
      "generating feature_viz objective string for 374\n",
      "found image 374.jpg\n",
      "generating feature_viz objective string for 375\n",
      "found image 375.jpg\n",
      "generating feature_viz objective string for 376\n",
      "found image 376.jpg\n",
      "generating feature_viz objective string for 377\n",
      "found image 377.jpg\n",
      "generating feature_viz objective string for 378\n",
      "found image 378.jpg\n",
      "generating feature_viz objective string for 379\n",
      "found image 379.jpg\n",
      "generating feature_viz objective string for 380\n",
      "found image 380.jpg\n",
      "generating feature_viz objective string for 381\n",
      "found image 381.jpg\n",
      "generating feature_viz objective string for 382\n",
      "found image 382.jpg\n",
      "generating feature_viz objective string for 383\n",
      "found image 383.jpg\n",
      "generating feature_viz objective string for 384\n",
      "found image 384.jpg\n",
      "generating feature_viz objective string for 385\n",
      "found image 385.jpg\n",
      "generating feature_viz objective string for 386\n",
      "found image 386.jpg\n",
      "generating feature_viz objective string for 387\n",
      "found image 387.jpg\n",
      "generating feature_viz objective string for 388\n",
      "found image 388.jpg\n",
      "generating feature_viz objective string for 389\n",
      "found image 389.jpg\n",
      "generating feature_viz objective string for 390\n",
      "found image 390.jpg\n",
      "generating feature_viz objective string for 391\n",
      "found image 391.jpg\n",
      "generating feature_viz objective string for 392\n",
      "found image 392.jpg\n",
      "generating feature_viz objective string for 393\n",
      "found image 393.jpg\n",
      "generating feature_viz objective string for 394\n",
      "found image 394.jpg\n",
      "generating feature_viz objective string for 395\n",
      "found image 395.jpg\n",
      "generating feature_viz objective string for 396\n",
      "found image 396.jpg\n",
      "generating feature_viz objective string for 397\n",
      "found image 397.jpg\n",
      "generating feature_viz objective string for 398\n",
      "found image 398.jpg\n",
      "generating feature_viz objective string for 399\n",
      "found image 399.jpg\n",
      "generating feature_viz objective string for 400\n",
      "found image 400.jpg\n",
      "generating feature_viz objective string for 401\n",
      "found image 401.jpg\n",
      "generating feature_viz objective string for 402\n",
      "found image 402.jpg\n",
      "generating feature_viz objective string for 403\n",
      "found image 403.jpg\n",
      "generating feature_viz objective string for 404\n",
      "found image 404.jpg\n",
      "generating feature_viz objective string for 405\n",
      "found image 405.jpg\n",
      "generating feature_viz objective string for 406\n",
      "found image 406.jpg\n",
      "generating feature_viz objective string for 407\n",
      "found image 407.jpg\n",
      "generating feature_viz objective string for 408\n",
      "found image 408.jpg\n",
      "generating feature_viz objective string for 409\n",
      "found image 409.jpg\n",
      "generating feature_viz objective string for 410\n",
      "found image 410.jpg\n",
      "generating feature_viz objective string for 411\n",
      "found image 411.jpg\n",
      "generating feature_viz objective string for 412\n",
      "found image 412.jpg\n",
      "generating feature_viz objective string for 413\n",
      "found image 413.jpg\n",
      "generating feature_viz objective string for 414\n",
      "found image 414.jpg\n",
      "generating feature_viz objective string for 415\n",
      "found image 415.jpg\n",
      "generating feature_viz objective string for 416\n",
      "found image 416.jpg\n",
      "generating feature_viz objective string for 417\n",
      "found image 417.jpg\n",
      "generating feature_viz objective string for 418\n",
      "found image 418.jpg\n",
      "generating feature_viz objective string for 419\n",
      "found image 419.jpg\n",
      "generating feature_viz objective string for 420\n",
      "found image 420.jpg\n",
      "generating feature_viz objective string for 421\n",
      "found image 421.jpg\n",
      "generating feature_viz objective string for 422\n",
      "found image 422.jpg\n",
      "generating feature_viz objective string for 423\n",
      "found image 423.jpg\n",
      "generating feature_viz objective string for 424\n",
      "found image 424.jpg\n",
      "generating feature_viz objective string for 425\n",
      "found image 425.jpg\n",
      "generating feature_viz objective string for 426\n",
      "found image 426.jpg\n",
      "generating feature_viz objective string for 427\n",
      "found image 427.jpg\n",
      "generating feature_viz objective string for 428\n",
      "found image 428.jpg\n",
      "generating feature_viz objective string for 429\n",
      "found image 429.jpg\n",
      "generating feature_viz objective string for 430\n",
      "found image 430.jpg\n",
      "generating feature_viz objective string for 431\n",
      "found image 431.jpg\n",
      "generating feature_viz objective string for 432\n",
      "found image 432.jpg\n",
      "generating feature_viz objective string for 433\n",
      "found image 433.jpg\n",
      "generating feature_viz objective string for 434\n",
      "found image 434.jpg\n",
      "generating feature_viz objective string for 435\n",
      "found image 435.jpg\n",
      "generating feature_viz objective string for 436\n",
      "found image 436.jpg\n",
      "generating feature_viz objective string for 437\n",
      "found image 437.jpg\n",
      "generating feature_viz objective string for 438\n",
      "found image 438.jpg\n",
      "generating feature_viz objective string for 439\n",
      "found image 439.jpg\n",
      "generating feature_viz objective string for 440\n",
      "found image 440.jpg\n",
      "generating feature_viz objective string for 441\n",
      "found image 441.jpg\n",
      "generating feature_viz objective string for 442\n",
      "found image 442.jpg\n",
      "generating feature_viz objective string for 443\n",
      "found image 443.jpg\n",
      "generating feature_viz objective string for 444\n",
      "found image 444.jpg\n",
      "generating feature_viz objective string for 445\n",
      "found image 445.jpg\n",
      "generating feature_viz objective string for 446\n",
      "found image 446.jpg\n",
      "generating feature_viz objective string for 447\n",
      "found image 447.jpg\n",
      "generating feature_viz objective string for 448\n",
      "found image 448.jpg\n",
      "generating feature_viz objective string for 449\n",
      "found image 449.jpg\n",
      "generating feature_viz objective string for 450\n",
      "found image 450.jpg\n",
      "generating feature_viz objective string for 451\n",
      "found image 451.jpg\n",
      "generating feature_viz objective string for 452\n",
      "found image 452.jpg\n",
      "generating feature_viz objective string for 453\n",
      "found image 453.jpg\n",
      "generating feature_viz objective string for 454\n",
      "found image 454.jpg\n",
      "generating feature_viz objective string for 455\n",
      "found image 455.jpg\n",
      "generating feature_viz objective string for 456\n",
      "found image 456.jpg\n",
      "generating feature_viz objective string for 457\n",
      "found image 457.jpg\n",
      "generating feature_viz objective string for 458\n",
      "found image 458.jpg\n",
      "generating feature_viz objective string for 459\n",
      "found image 459.jpg\n",
      "generating feature_viz objective string for 460\n",
      "found image 460.jpg\n",
      "generating feature_viz objective string for 461\n",
      "found image 461.jpg\n",
      "generating feature_viz objective string for 462\n",
      "found image 462.jpg\n",
      "generating feature_viz objective string for 463\n",
      "found image 463.jpg\n",
      "generating feature_viz objective string for 464\n",
      "found image 464.jpg\n",
      "generating feature_viz objective string for 465\n",
      "found image 465.jpg\n",
      "generating feature_viz objective string for 466\n",
      "found image 466.jpg\n",
      "generating feature_viz objective string for 467\n",
      "found image 467.jpg\n",
      "generating feature_viz objective string for 468\n",
      "found image 468.jpg\n",
      "generating feature_viz objective string for 469\n",
      "found image 469.jpg\n",
      "generating feature_viz objective string for 470\n",
      "found image 470.jpg\n",
      "generating feature_viz objective string for 471\n",
      "found image 471.jpg\n",
      "generating feature_viz objective string for 472\n",
      "found image 472.jpg\n",
      "generating feature_viz objective string for 473\n",
      "found image 473.jpg\n",
      "generating feature_viz objective string for 474\n",
      "found image 474.jpg\n",
      "generating feature_viz objective string for 475\n",
      "found image 475.jpg\n",
      "generating feature_viz objective string for 476\n",
      "found image 476.jpg\n",
      "generating feature_viz objective string for 477\n",
      "found image 477.jpg\n",
      "generating feature_viz objective string for 478\n",
      "found image 478.jpg\n",
      "generating feature_viz objective string for 479\n",
      "found image 479.jpg\n",
      "generating feature_viz objective string for 480\n",
      "found image 480.jpg\n",
      "generating feature_viz objective string for 481\n",
      "found image 481.jpg\n",
      "generating feature_viz objective string for 482\n",
      "found image 482.jpg\n",
      "generating feature_viz objective string for 483\n",
      "found image 483.jpg\n",
      "generating feature_viz objective string for 484\n",
      "found image 484.jpg\n",
      "generating feature_viz objective string for 485\n",
      "found image 485.jpg\n",
      "generating feature_viz objective string for 486\n",
      "found image 486.jpg\n"
     ]
    },
    {
     "name": "stdout",
     "output_type": "stream",
     "text": [
      "generating feature_viz objective string for 487\n",
      "found image 487.jpg\n",
      "generating feature_viz objective string for 488\n",
      "found image 488.jpg\n",
      "generating feature_viz objective string for 489\n",
      "found image 489.jpg\n",
      "generating feature_viz objective string for 490\n",
      "found image 490.jpg\n",
      "generating feature_viz objective string for 491\n",
      "found image 491.jpg\n",
      "generating feature_viz objective string for 492\n",
      "found image 492.jpg\n",
      "generating feature_viz objective string for 493\n",
      "found image 493.jpg\n",
      "generating feature_viz objective string for 494\n",
      "found image 494.jpg\n",
      "generating feature_viz objective string for 495\n",
      "found image 495.jpg\n",
      "generating feature_viz objective string for 496\n",
      "found image 496.jpg\n",
      "generating feature_viz objective string for 497\n",
      "found image 497.jpg\n",
      "generating feature_viz objective string for 498\n",
      "found image 498.jpg\n",
      "generating feature_viz objective string for 499\n",
      "found image 499.jpg\n",
      "generating feature_viz objective string for 500\n",
      "found image 500.jpg\n",
      "generating feature_viz objective string for 501\n",
      "found image 501.jpg\n",
      "generating feature_viz objective string for 502\n",
      "found image 502.jpg\n",
      "generating feature_viz objective string for 503\n",
      "found image 503.jpg\n",
      "generating feature_viz objective string for 504\n",
      "found image 504.jpg\n",
      "generating feature_viz objective string for 505\n",
      "found image 505.jpg\n",
      "generating feature_viz objective string for 506\n",
      "found image 506.jpg\n",
      "generating feature_viz objective string for 507\n",
      "found image 507.jpg\n",
      "generating feature_viz objective string for 508\n",
      "found image 508.jpg\n",
      "generating feature_viz objective string for 509\n",
      "found image 509.jpg\n",
      "generating feature_viz objective string for 510\n",
      "found image 510.jpg\n",
      "generating feature_viz objective string for 511\n",
      "found image 511.jpg\n",
      "generating feature_viz objective string for 512\n",
      "found image 512.jpg\n",
      "generating feature_viz objective string for 513\n",
      "found image 513.jpg\n",
      "generating feature_viz objective string for 514\n",
      "found image 514.jpg\n",
      "generating feature_viz objective string for 515\n",
      "found image 515.jpg\n",
      "generating feature_viz objective string for 516\n",
      "found image 516.jpg\n",
      "generating feature_viz objective string for 517\n",
      "found image 517.jpg\n",
      "generating feature_viz objective string for 518\n",
      "found image 518.jpg\n",
      "generating feature_viz objective string for 519\n",
      "found image 519.jpg\n",
      "generating feature_viz objective string for 520\n",
      "found image 520.jpg\n",
      "generating feature_viz objective string for 521\n",
      "found image 521.jpg\n",
      "generating feature_viz objective string for 522\n",
      "found image 522.jpg\n",
      "generating feature_viz objective string for 523\n",
      "found image 523.jpg\n",
      "generating feature_viz objective string for 524\n",
      "found image 524.jpg\n",
      "generating feature_viz objective string for 525\n",
      "found image 525.jpg\n",
      "generating feature_viz objective string for 526\n",
      "found image 526.jpg\n",
      "generating feature_viz objective string for 527\n",
      "found image 527.jpg\n",
      "generating feature_viz objective string for 528\n",
      "found image 528.jpg\n",
      "generating feature_viz objective string for 529\n",
      "found image 529.jpg\n",
      "generating feature_viz objective string for 530\n",
      "found image 530.jpg\n",
      "generating feature_viz objective string for 531\n",
      "found image 531.jpg\n",
      "generating feature_viz objective string for 532\n",
      "found image 532.jpg\n",
      "generating feature_viz objective string for 533\n",
      "found image 533.jpg\n",
      "generating feature_viz objective string for 534\n",
      "found image 534.jpg\n",
      "generating feature_viz objective string for 535\n",
      "found image 535.jpg\n",
      "generating feature_viz objective string for 536\n",
      "found image 536.jpg\n",
      "generating feature_viz objective string for 537\n",
      "found image 537.jpg\n",
      "generating feature_viz objective string for 538\n",
      "found image 538.jpg\n",
      "generating feature_viz objective string for 539\n",
      "found image 539.jpg\n",
      "generating feature_viz objective string for 540\n",
      "found image 540.jpg\n",
      "generating feature_viz objective string for 541\n",
      "found image 541.jpg\n",
      "generating feature_viz objective string for 542\n",
      "found image 542.jpg\n",
      "generating feature_viz objective string for 543\n",
      "found image 543.jpg\n",
      "generating feature_viz objective string for 544\n",
      "found image 544.jpg\n",
      "generating feature_viz objective string for 545\n",
      "found image 545.jpg\n",
      "generating feature_viz objective string for 546\n",
      "found image 546.jpg\n",
      "generating feature_viz objective string for 547\n",
      "found image 547.jpg\n",
      "generating feature_viz objective string for 548\n",
      "found image 548.jpg\n",
      "generating feature_viz objective string for 549\n",
      "found image 549.jpg\n",
      "generating feature_viz objective string for 550\n",
      "found image 550.jpg\n",
      "generating feature_viz objective string for 551\n",
      "found image 551.jpg\n",
      "generating feature_viz objective string for 552\n",
      "found image 552.jpg\n",
      "generating feature_viz objective string for 553\n",
      "found image 553.jpg\n",
      "generating feature_viz objective string for 554\n",
      "found image 554.jpg\n",
      "generating feature_viz objective string for 555\n",
      "found image 555.jpg\n",
      "generating feature_viz objective string for 556\n",
      "found image 556.jpg\n",
      "generating feature_viz objective string for 557\n",
      "found image 557.jpg\n",
      "generating feature_viz objective string for 558\n",
      "found image 558.jpg\n",
      "generating feature_viz objective string for 559\n",
      "found image 559.jpg\n",
      "generating feature_viz objective string for 560\n",
      "found image 560.jpg\n",
      "generating feature_viz objective string for 561\n",
      "found image 561.jpg\n",
      "generating feature_viz objective string for 562\n",
      "found image 562.jpg\n",
      "generating feature_viz objective string for 563\n",
      "found image 563.jpg\n",
      "generating feature_viz objective string for 564\n",
      "found image 564.jpg\n",
      "generating feature_viz objective string for 565\n",
      "found image 565.jpg\n",
      "generating feature_viz objective string for 566\n",
      "found image 566.jpg\n",
      "generating feature_viz objective string for 567\n",
      "found image 567.jpg\n",
      "generating feature_viz objective string for 568\n",
      "found image 568.jpg\n",
      "generating feature_viz objective string for 569\n",
      "found image 569.jpg\n",
      "generating feature_viz objective string for 570\n",
      "found image 570.jpg\n",
      "generating feature_viz objective string for 571\n",
      "found image 571.jpg\n",
      "generating feature_viz objective string for 572\n",
      "found image 572.jpg\n",
      "generating feature_viz objective string for 573\n",
      "found image 573.jpg\n",
      "generating feature_viz objective string for 574\n",
      "found image 574.jpg\n",
      "generating feature_viz objective string for 575\n",
      "found image 575.jpg\n",
      "generating feature_viz objective string for 576\n",
      "found image 576.jpg\n",
      "generating feature_viz objective string for 577\n",
      "found image 577.jpg\n",
      "generating feature_viz objective string for 578\n",
      "found image 578.jpg\n",
      "generating feature_viz objective string for 579\n",
      "found image 579.jpg\n",
      "generating feature_viz objective string for 580\n",
      "found image 580.jpg\n",
      "generating feature_viz objective string for 581\n",
      "found image 581.jpg\n",
      "generating feature_viz objective string for 582\n",
      "found image 582.jpg\n",
      "generating feature_viz objective string for 583\n",
      "found image 583.jpg\n",
      "generating feature_viz objective string for 584\n",
      "found image 584.jpg\n",
      "generating feature_viz objective string for 585\n",
      "found image 585.jpg\n",
      "generating feature_viz objective string for 586\n",
      "found image 586.jpg\n",
      "generating feature_viz objective string for 587\n",
      "found image 587.jpg\n",
      "generating feature_viz objective string for 588\n",
      "found image 588.jpg\n",
      "generating feature_viz objective string for 589\n",
      "found image 589.jpg\n",
      "generating feature_viz objective string for 590\n",
      "found image 590.jpg\n",
      "generating feature_viz objective string for 591\n",
      "found image 591.jpg\n",
      "generating feature_viz objective string for 592\n",
      "found image 592.jpg\n",
      "generating feature_viz objective string for 593\n",
      "found image 593.jpg\n",
      "generating feature_viz objective string for 594\n",
      "found image 594.jpg\n",
      "generating feature_viz objective string for 595\n",
      "found image 595.jpg\n",
      "generating feature_viz objective string for 596\n",
      "found image 596.jpg\n",
      "generating feature_viz objective string for 597\n",
      "found image 597.jpg\n",
      "generating feature_viz objective string for 598\n",
      "found image 598.jpg\n",
      "generating feature_viz objective string for 599\n",
      "found image 599.jpg\n",
      "generating feature_viz objective string for 600\n",
      "found image 600.jpg\n",
      "generating feature_viz objective string for 601\n",
      "found image 601.jpg\n",
      "generating feature_viz objective string for 602\n",
      "found image 602.jpg\n",
      "generating feature_viz objective string for 603\n",
      "found image 603.jpg\n",
      "generating feature_viz objective string for 604\n",
      "found image 604.jpg\n",
      "generating feature_viz objective string for 605\n",
      "found image 605.jpg\n",
      "generating feature_viz objective string for 606\n",
      "found image 606.jpg\n",
      "generating feature_viz objective string for 607\n",
      "found image 607.jpg\n"
     ]
    },
    {
     "name": "stdout",
     "output_type": "stream",
     "text": [
      "generating feature_viz objective string for 608\n",
      "found image 608.jpg\n",
      "generating feature_viz objective string for 609\n",
      "found image 609.jpg\n",
      "generating feature_viz objective string for 610\n",
      "found image 610.jpg\n",
      "generating feature_viz objective string for 611\n",
      "found image 611.jpg\n",
      "generating feature_viz objective string for 612\n",
      "found image 612.jpg\n",
      "generating feature_viz objective string for 613\n",
      "found image 613.jpg\n",
      "generating feature_viz objective string for 614\n",
      "found image 614.jpg\n",
      "generating feature_viz objective string for 615\n",
      "found image 615.jpg\n",
      "generating feature_viz objective string for 616\n",
      "found image 616.jpg\n",
      "generating feature_viz objective string for 617\n",
      "found image 617.jpg\n",
      "generating feature_viz objective string for 618\n",
      "found image 618.jpg\n",
      "generating feature_viz objective string for 619\n",
      "found image 619.jpg\n",
      "generating feature_viz objective string for 620\n",
      "found image 620.jpg\n",
      "generating feature_viz objective string for 621\n",
      "found image 621.jpg\n",
      "generating feature_viz objective string for 622\n",
      "found image 622.jpg\n",
      "generating feature_viz objective string for 623\n",
      "found image 623.jpg\n",
      "generating feature_viz objective string for 624\n",
      "found image 624.jpg\n",
      "generating feature_viz objective string for 625\n",
      "found image 625.jpg\n",
      "generating feature_viz objective string for 626\n",
      "found image 626.jpg\n",
      "generating feature_viz objective string for 627\n",
      "found image 627.jpg\n",
      "generating feature_viz objective string for 628\n",
      "found image 628.jpg\n",
      "generating feature_viz objective string for 629\n",
      "found image 629.jpg\n",
      "generating feature_viz objective string for 630\n",
      "found image 630.jpg\n",
      "generating feature_viz objective string for 631\n",
      "found image 631.jpg\n",
      "generating feature_viz objective string for 632\n",
      "found image 632.jpg\n",
      "generating feature_viz objective string for 633\n",
      "found image 633.jpg\n",
      "generating feature_viz objective string for 634\n",
      "found image 634.jpg\n",
      "generating feature_viz objective string for 635\n",
      "found image 635.jpg\n",
      "generating feature_viz objective string for 636\n",
      "found image 636.jpg\n",
      "generating feature_viz objective string for 637\n",
      "found image 637.jpg\n",
      "generating feature_viz objective string for 638\n",
      "found image 638.jpg\n",
      "generating feature_viz objective string for 639\n",
      "found image 639.jpg\n",
      "generating feature_viz objective string for 640\n",
      "found image 640.jpg\n",
      "generating feature_viz objective string for 641\n",
      "found image 641.jpg\n",
      "generating feature_viz objective string for 642\n",
      "found image 642.jpg\n",
      "generating feature_viz objective string for 643\n",
      "found image 643.jpg\n",
      "generating feature_viz objective string for 644\n",
      "found image 644.jpg\n",
      "generating feature_viz objective string for 645\n",
      "found image 645.jpg\n",
      "generating feature_viz objective string for 646\n",
      "found image 646.jpg\n",
      "generating feature_viz objective string for 647\n",
      "found image 647.jpg\n",
      "generating feature_viz objective string for 648\n",
      "found image 648.jpg\n",
      "generating feature_viz objective string for 649\n",
      "found image 649.jpg\n",
      "generating feature_viz objective string for 650\n",
      "found image 650.jpg\n",
      "generating feature_viz objective string for 651\n",
      "found image 651.jpg\n",
      "generating feature_viz objective string for 652\n",
      "found image 652.jpg\n",
      "generating feature_viz objective string for 653\n",
      "found image 653.jpg\n",
      "generating feature_viz objective string for 654\n",
      "found image 654.jpg\n",
      "generating feature_viz objective string for 655\n",
      "found image 655.jpg\n",
      "generating feature_viz objective string for 656\n",
      "found image 656.jpg\n",
      "generating feature_viz objective string for 657\n",
      "found image 657.jpg\n",
      "generating feature_viz objective string for 658\n",
      "found image 658.jpg\n",
      "generating feature_viz objective string for 659\n",
      "found image 659.jpg\n",
      "generating feature_viz objective string for 660\n",
      "found image 660.jpg\n",
      "generating feature_viz objective string for 661\n",
      "found image 661.jpg\n",
      "generating feature_viz objective string for 662\n",
      "found image 662.jpg\n",
      "generating feature_viz objective string for 663\n",
      "found image 663.jpg\n",
      "generating feature_viz objective string for 664\n",
      "found image 664.jpg\n",
      "generating feature_viz objective string for 665\n",
      "found image 665.jpg\n",
      "generating feature_viz objective string for 666\n",
      "found image 666.jpg\n",
      "generating feature_viz objective string for 667\n",
      "found image 667.jpg\n",
      "generating feature_viz objective string for 668\n",
      "found image 668.jpg\n",
      "generating feature_viz objective string for 669\n",
      "found image 669.jpg\n",
      "generating feature_viz objective string for 670\n",
      "found image 670.jpg\n",
      "generating feature_viz objective string for 671\n",
      "found image 671.jpg\n",
      "generating feature_viz objective string for 672\n",
      "found image 672.jpg\n",
      "generating feature_viz objective string for 673\n",
      "found image 673.jpg\n",
      "generating feature_viz objective string for 674\n",
      "found image 674.jpg\n",
      "generating feature_viz objective string for 675\n",
      "found image 675.jpg\n",
      "generating feature_viz objective string for 676\n",
      "found image 676.jpg\n",
      "generating feature_viz objective string for 677\n",
      "found image 677.jpg\n",
      "generating feature_viz objective string for 678\n",
      "found image 678.jpg\n",
      "generating feature_viz objective string for 679\n",
      "found image 679.jpg\n",
      "generating feature_viz objective string for 680\n",
      "found image 680.jpg\n",
      "generating feature_viz objective string for 681\n",
      "found image 681.jpg\n",
      "generating feature_viz objective string for 682\n",
      "found image 682.jpg\n",
      "generating feature_viz objective string for 683\n",
      "found image 683.jpg\n",
      "generating feature_viz objective string for 684\n",
      "found image 684.jpg\n",
      "generating feature_viz objective string for 685\n",
      "found image 685.jpg\n",
      "generating feature_viz objective string for 686\n",
      "found image 686.jpg\n",
      "generating feature_viz objective string for 687\n",
      "found image 687.jpg\n",
      "generating feature_viz objective string for 688\n",
      "found image 688.jpg\n",
      "generating feature_viz objective string for 689\n",
      "found image 689.jpg\n",
      "generating feature_viz objective string for 690\n",
      "found image 690.jpg\n",
      "generating feature_viz objective string for 691\n",
      "found image 691.jpg\n",
      "generating feature_viz objective string for 692\n",
      "found image 692.jpg\n",
      "generating feature_viz objective string for 693\n",
      "found image 693.jpg\n",
      "generating feature_viz objective string for 694\n",
      "found image 694.jpg\n",
      "generating feature_viz objective string for 695\n",
      "found image 695.jpg\n",
      "generating feature_viz objective string for 696\n",
      "found image 696.jpg\n",
      "generating feature_viz objective string for 697\n",
      "found image 697.jpg\n",
      "generating feature_viz objective string for 698\n",
      "found image 698.jpg\n",
      "generating feature_viz objective string for 699\n",
      "found image 699.jpg\n",
      "generating feature_viz objective string for 700\n",
      "found image 700.jpg\n",
      "generating feature_viz objective string for 701\n",
      "found image 701.jpg\n",
      "generating feature_viz objective string for 702\n",
      "found image 702.jpg\n",
      "generating feature_viz objective string for 703\n",
      "found image 703.jpg\n",
      "generating feature_viz objective string for 704\n",
      "found image 704.jpg\n",
      "generating feature_viz objective string for 705\n",
      "found image 705.jpg\n",
      "generating feature_viz objective string for 706\n",
      "found image 706.jpg\n",
      "generating feature_viz objective string for 707\n",
      "found image 707.jpg\n",
      "generating feature_viz objective string for 708\n",
      "found image 708.jpg\n",
      "generating feature_viz objective string for 709\n",
      "found image 709.jpg\n",
      "generating feature_viz objective string for 710\n",
      "found image 710.jpg\n",
      "generating feature_viz objective string for 711\n",
      "found image 711.jpg\n",
      "generating feature_viz objective string for 712\n",
      "found image 712.jpg\n",
      "generating feature_viz objective string for 713\n",
      "found image 713.jpg\n",
      "generating feature_viz objective string for 714\n",
      "found image 714.jpg\n",
      "generating feature_viz objective string for 715\n",
      "found image 715.jpg\n",
      "generating feature_viz objective string for 716\n",
      "found image 716.jpg\n",
      "generating feature_viz objective string for 717\n",
      "found image 717.jpg\n",
      "generating feature_viz objective string for 718\n",
      "found image 718.jpg\n",
      "generating feature_viz objective string for 719\n",
      "found image 719.jpg\n",
      "generating feature_viz objective string for 720\n",
      "found image 720.jpg\n",
      "generating feature_viz objective string for 721\n",
      "found image 721.jpg\n",
      "generating feature_viz objective string for 722\n",
      "found image 722.jpg\n",
      "generating feature_viz objective string for 723\n",
      "found image 723.jpg\n",
      "generating feature_viz objective string for 724\n",
      "found image 724.jpg\n",
      "generating feature_viz objective string for 725\n",
      "found image 725.jpg\n",
      "generating feature_viz objective string for 726\n",
      "found image 726.jpg\n",
      "generating feature_viz objective string for 727\n",
      "found image 727.jpg\n",
      "generating feature_viz objective string for 728\n",
      "found image 728.jpg\n"
     ]
    },
    {
     "name": "stdout",
     "output_type": "stream",
     "text": [
      "generating feature_viz objective string for 729\n",
      "found image 729.jpg\n",
      "generating feature_viz objective string for 730\n",
      "found image 730.jpg\n",
      "generating feature_viz objective string for 731\n",
      "found image 731.jpg\n",
      "generating feature_viz objective string for 732\n",
      "found image 732.jpg\n",
      "generating feature_viz objective string for 733\n",
      "found image 733.jpg\n",
      "generating feature_viz objective string for 734\n",
      "found image 734.jpg\n",
      "generating feature_viz objective string for 735\n",
      "found image 735.jpg\n",
      "generating feature_viz objective string for 736\n",
      "found image 736.jpg\n",
      "generating feature_viz objective string for 737\n",
      "found image 737.jpg\n",
      "generating feature_viz objective string for 738\n",
      "found image 738.jpg\n",
      "generating feature_viz objective string for 739\n",
      "found image 739.jpg\n",
      "generating feature_viz objective string for 740\n",
      "found image 740.jpg\n",
      "generating feature_viz objective string for 741\n",
      "found image 741.jpg\n",
      "generating feature_viz objective string for 742\n",
      "found image 742.jpg\n",
      "generating feature_viz objective string for 743\n",
      "found image 743.jpg\n",
      "generating feature_viz objective string for 744\n",
      "found image 744.jpg\n",
      "generating feature_viz objective string for 745\n",
      "found image 745.jpg\n",
      "generating feature_viz objective string for 746\n",
      "found image 746.jpg\n",
      "generating feature_viz objective string for 747\n",
      "found image 747.jpg\n",
      "generating feature_viz objective string for 748\n",
      "found image 748.jpg\n",
      "generating feature_viz objective string for 749\n",
      "found image 749.jpg\n",
      "generating feature_viz objective string for 750\n",
      "found image 750.jpg\n",
      "generating feature_viz objective string for 751\n",
      "found image 751.jpg\n",
      "generating feature_viz objective string for 752\n",
      "found image 752.jpg\n",
      "generating feature_viz objective string for 753\n",
      "found image 753.jpg\n",
      "generating feature_viz objective string for 754\n",
      "found image 754.jpg\n",
      "generating feature_viz objective string for 755\n",
      "found image 755.jpg\n",
      "generating feature_viz objective string for 756\n",
      "found image 756.jpg\n",
      "generating feature_viz objective string for 757\n",
      "found image 757.jpg\n",
      "generating feature_viz objective string for 758\n",
      "found image 758.jpg\n",
      "generating feature_viz objective string for 759\n",
      "found image 759.jpg\n",
      "generating feature_viz objective string for 760\n",
      "found image 760.jpg\n",
      "generating feature_viz objective string for 761\n",
      "found image 761.jpg\n",
      "generating feature_viz objective string for 762\n",
      "found image 762.jpg\n",
      "generating feature_viz objective string for 763\n",
      "found image 763.jpg\n",
      "generating feature_viz objective string for 764\n",
      "found image 764.jpg\n",
      "generating feature_viz objective string for 765\n",
      "found image 765.jpg\n",
      "generating feature_viz objective string for 766\n",
      "found image 766.jpg\n",
      "generating feature_viz objective string for 767\n",
      "found image 767.jpg\n",
      "generating feature_viz objective string for 768\n",
      "found image 768.jpg\n",
      "generating feature_viz objective string for 769\n",
      "found image 769.jpg\n",
      "generating feature_viz objective string for 770\n",
      "found image 770.jpg\n",
      "generating feature_viz objective string for 771\n",
      "found image 771.jpg\n",
      "generating feature_viz objective string for 772\n",
      "found image 772.jpg\n",
      "generating feature_viz objective string for 773\n",
      "found image 773.jpg\n",
      "generating feature_viz objective string for 774\n",
      "found image 774.jpg\n",
      "generating feature_viz objective string for 775\n",
      "found image 775.jpg\n",
      "generating feature_viz objective string for 776\n",
      "found image 776.jpg\n",
      "generating feature_viz objective string for 777\n",
      "found image 777.jpg\n",
      "generating feature_viz objective string for 778\n",
      "found image 778.jpg\n",
      "generating feature_viz objective string for 779\n",
      "found image 779.jpg\n",
      "generating feature_viz objective string for 780\n",
      "found image 780.jpg\n",
      "generating feature_viz objective string for 781\n",
      "found image 781.jpg\n",
      "generating feature_viz objective string for 782\n",
      "found image 782.jpg\n",
      "generating feature_viz objective string for 783\n",
      "found image 783.jpg\n",
      "generating feature_viz objective string for 784\n",
      "found image 784.jpg\n",
      "generating feature_viz objective string for 785\n",
      "found image 785.jpg\n",
      "generating feature_viz objective string for 786\n",
      "found image 786.jpg\n",
      "generating feature_viz objective string for 787\n",
      "found image 787.jpg\n",
      "generating feature_viz objective string for 788\n",
      "found image 788.jpg\n",
      "generating feature_viz objective string for 789\n",
      "found image 789.jpg\n",
      "generating feature_viz objective string for 790\n",
      "found image 790.jpg\n",
      "generating feature_viz objective string for 791\n",
      "found image 791.jpg\n",
      "generating feature_viz objective string for 792\n",
      "found image 792.jpg\n",
      "generating feature_viz objective string for 793\n",
      "found image 793.jpg\n",
      "generating feature_viz objective string for 794\n",
      "found image 794.jpg\n",
      "generating feature_viz objective string for 795\n",
      "found image 795.jpg\n",
      "generating feature_viz objective string for 796\n",
      "found image 796.jpg\n",
      "generating feature_viz objective string for 797\n",
      "found image 797.jpg\n",
      "generating feature_viz objective string for 798\n",
      "found image 798.jpg\n",
      "generating feature_viz objective string for 799\n",
      "found image 799.jpg\n",
      "generating feature_viz objective string for 800\n",
      "found image 800.jpg\n",
      "generating feature_viz objective string for 801\n",
      "found image 801.jpg\n",
      "generating feature_viz objective string for 802\n",
      "found image 802.jpg\n",
      "generating feature_viz objective string for 803\n",
      "found image 803.jpg\n",
      "generating feature_viz objective string for 804\n",
      "found image 804.jpg\n",
      "generating feature_viz objective string for 805\n",
      "found image 805.jpg\n",
      "generating feature_viz objective string for 806\n",
      "found image 806.jpg\n",
      "generating feature_viz objective string for 807\n",
      "found image 807.jpg\n",
      "generating feature_viz objective string for 808\n",
      "found image 808.jpg\n",
      "generating feature_viz objective string for 809\n",
      "found image 809.jpg\n",
      "generating feature_viz objective string for 810\n",
      "found image 810.jpg\n",
      "generating feature_viz objective string for 811\n",
      "found image 811.jpg\n",
      "generating feature_viz objective string for 812\n",
      "found image 812.jpg\n",
      "generating feature_viz objective string for 813\n",
      "found image 813.jpg\n",
      "generating feature_viz objective string for 814\n",
      "found image 814.jpg\n",
      "generating feature_viz objective string for 815\n",
      "found image 815.jpg\n",
      "generating feature_viz objective string for 816\n",
      "found image 816.jpg\n",
      "generating feature_viz objective string for 817\n",
      "found image 817.jpg\n",
      "generating feature_viz objective string for 818\n",
      "found image 818.jpg\n",
      "generating feature_viz objective string for 819\n",
      "found image 819.jpg\n",
      "generating feature_viz objective string for 820\n",
      "found image 820.jpg\n",
      "generating feature_viz objective string for 821\n",
      "found image 821.jpg\n",
      "generating feature_viz objective string for 822\n",
      "found image 822.jpg\n",
      "generating feature_viz objective string for 823\n",
      "found image 823.jpg\n",
      "generating feature_viz objective string for 824\n",
      "found image 824.jpg\n",
      "generating feature_viz objective string for 825\n",
      "found image 825.jpg\n",
      "generating feature_viz objective string for 826\n",
      "found image 826.jpg\n",
      "generating feature_viz objective string for 827\n",
      "found image 827.jpg\n",
      "generating feature_viz objective string for 828\n",
      "found image 828.jpg\n",
      "generating feature_viz objective string for 829\n",
      "found image 829.jpg\n",
      "generating feature_viz objective string for 830\n",
      "found image 830.jpg\n",
      "generating feature_viz objective string for 831\n",
      "found image 831.jpg\n",
      "generating feature_viz objective string for 832\n",
      "found image 832.jpg\n",
      "generating feature_viz objective string for 833\n",
      "found image 833.jpg\n",
      "generating feature_viz objective string for 834\n",
      "found image 834.jpg\n",
      "generating feature_viz objective string for 835\n",
      "found image 835.jpg\n",
      "generating feature_viz objective string for 836\n",
      "found image 836.jpg\n",
      "generating feature_viz objective string for 837\n",
      "found image 837.jpg\n",
      "generating feature_viz objective string for 838\n",
      "found image 838.jpg\n",
      "generating feature_viz objective string for 839\n",
      "found image 839.jpg\n",
      "generating feature_viz objective string for 840\n",
      "found image 840.jpg\n",
      "generating feature_viz objective string for 841\n",
      "found image 841.jpg\n",
      "generating feature_viz objective string for 842\n",
      "found image 842.jpg\n",
      "generating feature_viz objective string for 843\n",
      "found image 843.jpg\n",
      "generating feature_viz objective string for 844\n",
      "found image 844.jpg\n",
      "generating feature_viz objective string for 845\n",
      "found image 845.jpg\n",
      "generating feature_viz objective string for 846\n",
      "found image 846.jpg\n",
      "generating feature_viz objective string for 847\n",
      "found image 847.jpg\n",
      "generating feature_viz objective string for 848\n",
      "found image 848.jpg\n",
      "generating feature_viz objective string for 849\n",
      "found image 849.jpg\n"
     ]
    },
    {
     "name": "stdout",
     "output_type": "stream",
     "text": [
      "generating feature_viz objective string for 850\n",
      "found image 850.jpg\n",
      "generating feature_viz objective string for 851\n",
      "found image 851.jpg\n",
      "generating feature_viz objective string for 852\n",
      "found image 852.jpg\n",
      "generating feature_viz objective string for 853\n",
      "found image 853.jpg\n",
      "generating feature_viz objective string for 854\n",
      "found image 854.jpg\n",
      "generating feature_viz objective string for 855\n",
      "found image 855.jpg\n",
      "generating feature_viz objective string for 856\n",
      "found image 856.jpg\n",
      "generating feature_viz objective string for 857\n",
      "found image 857.jpg\n",
      "generating feature_viz objective string for 858\n",
      "found image 858.jpg\n",
      "generating feature_viz objective string for 859\n",
      "found image 859.jpg\n",
      "generating feature_viz objective string for 860\n",
      "found image 860.jpg\n",
      "generating feature_viz objective string for 861\n",
      "found image 861.jpg\n",
      "generating feature_viz objective string for 862\n",
      "found image 862.jpg\n",
      "generating feature_viz objective string for 863\n",
      "found image 863.jpg\n",
      "generating feature_viz objective string for 864\n",
      "found image 864.jpg\n",
      "generating feature_viz objective string for 865\n",
      "found image 865.jpg\n",
      "generating feature_viz objective string for 866\n",
      "found image 866.jpg\n",
      "generating feature_viz objective string for 867\n",
      "found image 867.jpg\n",
      "generating feature_viz objective string for 868\n",
      "found image 868.jpg\n",
      "generating feature_viz objective string for 869\n",
      "found image 869.jpg\n",
      "generating feature_viz objective string for 870\n",
      "found image 870.jpg\n",
      "generating feature_viz objective string for 871\n",
      "found image 871.jpg\n",
      "generating feature_viz objective string for 872\n",
      "found image 872.jpg\n",
      "generating feature_viz objective string for 873\n",
      "found image 873.jpg\n",
      "generating feature_viz objective string for 874\n",
      "found image 874.jpg\n",
      "generating feature_viz objective string for 875\n",
      "found image 875.jpg\n",
      "generating feature_viz objective string for 876\n",
      "found image 876.jpg\n",
      "generating feature_viz objective string for 877\n",
      "found image 877.jpg\n",
      "generating feature_viz objective string for 878\n",
      "found image 878.jpg\n",
      "generating feature_viz objective string for 879\n",
      "found image 879.jpg\n",
      "generating feature_viz objective string for 880\n",
      "found image 880.jpg\n",
      "generating feature_viz objective string for 881\n",
      "found image 881.jpg\n",
      "generating feature_viz objective string for 882\n",
      "found image 882.jpg\n",
      "generating feature_viz objective string for 883\n",
      "found image 883.jpg\n",
      "generating feature_viz objective string for 884\n",
      "found image 884.jpg\n",
      "generating feature_viz objective string for 885\n",
      "found image 885.jpg\n",
      "generating feature_viz objective string for 886\n",
      "found image 886.jpg\n",
      "generating feature_viz objective string for 887\n",
      "found image 887.jpg\n",
      "generating feature_viz objective string for 888\n",
      "found image 888.jpg\n",
      "generating feature_viz objective string for 889\n",
      "found image 889.jpg\n",
      "generating feature_viz objective string for 890\n",
      "found image 890.jpg\n",
      "generating feature_viz objective string for 891\n",
      "found image 891.jpg\n",
      "generating feature_viz objective string for 892\n",
      "found image 892.jpg\n",
      "generating feature_viz objective string for 893\n",
      "found image 893.jpg\n",
      "generating feature_viz objective string for 894\n",
      "found image 894.jpg\n",
      "generating feature_viz objective string for 895\n",
      "found image 895.jpg\n",
      "generating feature_viz objective string for 896\n",
      "found image 896.jpg\n",
      "generating feature_viz objective string for 897\n",
      "found image 897.jpg\n",
      "generating feature_viz objective string for 898\n",
      "found image 898.jpg\n",
      "generating feature_viz objective string for 899\n",
      "found image 899.jpg\n",
      "generating feature_viz objective string for 900\n",
      "found image 900.jpg\n",
      "generating feature_viz objective string for 901\n",
      "found image 901.jpg\n",
      "generating feature_viz objective string for 902\n",
      "found image 902.jpg\n",
      "generating feature_viz objective string for 903\n",
      "found image 903.jpg\n",
      "generating feature_viz objective string for 904\n",
      "found image 904.jpg\n",
      "generating feature_viz objective string for 905\n",
      "found image 905.jpg\n",
      "generating feature_viz objective string for 906\n",
      "found image 906.jpg\n",
      "generating feature_viz objective string for 907\n",
      "found image 907.jpg\n",
      "generating feature_viz objective string for 908\n",
      "found image 908.jpg\n",
      "generating feature_viz objective string for 909\n",
      "found image 909.jpg\n",
      "generating feature_viz objective string for 910\n",
      "found image 910.jpg\n",
      "generating feature_viz objective string for 911\n",
      "found image 911.jpg\n",
      "generating feature_viz objective string for 912\n",
      "found image 912.jpg\n",
      "generating feature_viz objective string for 913\n",
      "found image 913.jpg\n",
      "generating feature_viz objective string for 914\n",
      "found image 914.jpg\n",
      "generating feature_viz objective string for 915\n",
      "found image 915.jpg\n",
      "generating feature_viz objective string for 916\n",
      "found image 916.jpg\n",
      "generating feature_viz objective string for 917\n",
      "found image 917.jpg\n",
      "generating feature_viz objective string for 918\n",
      "found image 918.jpg\n",
      "generating feature_viz objective string for 919\n",
      "found image 919.jpg\n",
      "generating feature_viz objective string for 920\n",
      "found image 920.jpg\n",
      "generating feature_viz objective string for 921\n",
      "found image 921.jpg\n",
      "generating feature_viz objective string for 922\n",
      "found image 922.jpg\n",
      "generating feature_viz objective string for 923\n",
      "found image 923.jpg\n",
      "generating feature_viz objective string for 924\n",
      "found image 924.jpg\n",
      "generating feature_viz objective string for 925\n",
      "found image 925.jpg\n",
      "generating feature_viz objective string for 926\n",
      "found image 926.jpg\n",
      "generating feature_viz objective string for 927\n",
      "found image 927.jpg\n",
      "generating feature_viz objective string for 928\n",
      "found image 928.jpg\n",
      "generating feature_viz objective string for 929\n",
      "found image 929.jpg\n",
      "generating feature_viz objective string for 930\n",
      "found image 930.jpg\n",
      "generating feature_viz objective string for 931\n",
      "found image 931.jpg\n",
      "generating feature_viz objective string for 932\n",
      "found image 932.jpg\n",
      "generating feature_viz objective string for 933\n",
      "found image 933.jpg\n",
      "generating feature_viz objective string for 934\n",
      "found image 934.jpg\n",
      "generating feature_viz objective string for 935\n",
      "found image 935.jpg\n",
      "generating feature_viz objective string for 936\n",
      "found image 936.jpg\n",
      "generating feature_viz objective string for 937\n",
      "found image 937.jpg\n",
      "generating feature_viz objective string for 938\n",
      "found image 938.jpg\n",
      "generating feature_viz objective string for 939\n",
      "found image 939.jpg\n",
      "generating feature_viz objective string for 940\n",
      "found image 940.jpg\n",
      "generating feature_viz objective string for 941\n",
      "found image 941.jpg\n",
      "generating feature_viz objective string for 942\n",
      "found image 942.jpg\n",
      "generating feature_viz objective string for 943\n",
      "found image 943.jpg\n",
      "generating feature_viz objective string for 944\n",
      "found image 944.jpg\n",
      "generating feature_viz objective string for 945\n",
      "found image 945.jpg\n",
      "generating feature_viz objective string for 946\n",
      "found image 946.jpg\n",
      "generating feature_viz objective string for 947\n",
      "found image 947.jpg\n",
      "generating feature_viz objective string for 948\n",
      "found image 948.jpg\n",
      "generating feature_viz objective string for 949\n",
      "found image 949.jpg\n",
      "generating feature_viz objective string for 950\n",
      "found image 950.jpg\n",
      "generating feature_viz objective string for 951\n",
      "found image 951.jpg\n",
      "generating feature_viz objective string for 952\n",
      "found image 952.jpg\n",
      "generating feature_viz objective string for 953\n",
      "found image 953.jpg\n",
      "generating feature_viz objective string for 954\n",
      "found image 954.jpg\n",
      "generating feature_viz objective string for 955\n",
      "found image 955.jpg\n",
      "generating feature_viz objective string for 956\n",
      "found image 956.jpg\n",
      "generating feature_viz objective string for 957\n",
      "found image 957.jpg\n",
      "generating feature_viz objective string for 958\n",
      "found image 958.jpg\n",
      "generating feature_viz objective string for 959\n",
      "found image 959.jpg\n",
      "generating feature_viz objective string for 960\n",
      "found image 960.jpg\n",
      "generating feature_viz objective string for 961\n",
      "found image 961.jpg\n",
      "generating feature_viz objective string for 962\n",
      "found image 962.jpg\n",
      "generating feature_viz objective string for 963\n",
      "found image 963.jpg\n",
      "generating feature_viz objective string for 964\n",
      "found image 964.jpg\n",
      "generating feature_viz objective string for 965\n",
      "found image 965.jpg\n",
      "generating feature_viz objective string for 966\n",
      "found image 966.jpg\n",
      "generating feature_viz objective string for 967\n",
      "found image 967.jpg\n",
      "generating feature_viz objective string for 968\n",
      "found image 968.jpg\n",
      "generating feature_viz objective string for 969\n",
      "found image 969.jpg\n",
      "generating feature_viz objective string for 970\n",
      "found image 970.jpg\n"
     ]
    },
    {
     "name": "stdout",
     "output_type": "stream",
     "text": [
      "generating feature_viz objective string for 971\n",
      "found image 971.jpg\n",
      "generating feature_viz objective string for 972\n",
      "found image 972.jpg\n",
      "generating feature_viz objective string for 973\n",
      "found image 973.jpg\n",
      "generating feature_viz objective string for 974\n",
      "found image 974.jpg\n",
      "generating feature_viz objective string for 975\n",
      "found image 975.jpg\n",
      "generating feature_viz objective string for 976\n",
      "found image 976.jpg\n",
      "generating feature_viz objective string for 977\n",
      "found image 977.jpg\n",
      "generating feature_viz objective string for 978\n",
      "found image 978.jpg\n",
      "generating feature_viz objective string for 979\n",
      "found image 979.jpg\n",
      "generating feature_viz objective string for 980\n",
      "found image 980.jpg\n",
      "generating feature_viz objective string for 981\n",
      "found image 981.jpg\n",
      "generating feature_viz objective string for 982\n",
      "found image 982.jpg\n",
      "generating feature_viz objective string for 983\n",
      "found image 983.jpg\n",
      "generating feature_viz objective string for 984\n",
      "found image 984.jpg\n",
      "generating feature_viz objective string for 985\n",
      "found image 985.jpg\n",
      "generating feature_viz objective string for 986\n",
      "found image 986.jpg\n",
      "generating feature_viz objective string for 987\n",
      "found image 987.jpg\n",
      "generating feature_viz objective string for 988\n",
      "found image 988.jpg\n",
      "generating feature_viz objective string for 989\n",
      "found image 989.jpg\n",
      "generating feature_viz objective string for 990\n",
      "found image 990.jpg\n",
      "generating feature_viz objective string for 991\n",
      "found image 991.jpg\n",
      "generating feature_viz objective string for 992\n",
      "found image 992.jpg\n",
      "generating feature_viz objective string for 993\n",
      "found image 993.jpg\n",
      "generating feature_viz objective string for 994\n",
      "found image 994.jpg\n",
      "generating feature_viz objective string for 995\n",
      "found image 995.jpg\n",
      "generating feature_viz objective string for 996\n",
      "found image 996.jpg\n",
      "generating feature_viz objective string for 997\n",
      "found image 997.jpg\n",
      "generating feature_viz objective string for 998\n",
      "found image 998.jpg\n",
      "generating feature_viz objective string for 999\n",
      "found image 999.jpg\n",
      "generating feature_viz objective string for 1000\n",
      "found image 1000.jpg\n",
      "generating feature_viz objective string for 1001\n",
      "found image 1001.jpg\n",
      "generating feature_viz objective string for 1002\n",
      "found image 1002.jpg\n",
      "generating feature_viz objective string for 1003\n",
      "found image 1003.jpg\n",
      "generating feature_viz objective string for 1004\n",
      "found image 1004.jpg\n",
      "generating feature_viz objective string for 1005\n",
      "found image 1005.jpg\n",
      "generating feature_viz objective string for 1006\n",
      "found image 1006.jpg\n",
      "generating feature_viz objective string for 1007\n",
      "found image 1007.jpg\n",
      "generating feature_viz objective string for 1008\n",
      "found image 1008.jpg\n",
      "generating feature_viz objective string for 1009\n",
      "found image 1009.jpg\n",
      "generating feature_viz objective string for 1010\n",
      "found image 1010.jpg\n",
      "generating feature_viz objective string for 1011\n",
      "found image 1011.jpg\n",
      "generating feature_viz objective string for 1012\n",
      "found image 1012.jpg\n",
      "generating feature_viz objective string for 1013\n",
      "found image 1013.jpg\n",
      "generating feature_viz objective string for 1014\n",
      "found image 1014.jpg\n",
      "generating feature_viz objective string for 1015\n",
      "found image 1015.jpg\n",
      "generating feature_viz objective string for 1016\n",
      "found image 1016.jpg\n",
      "generating feature_viz objective string for 1017\n",
      "found image 1017.jpg\n",
      "generating feature_viz objective string for 1018\n",
      "found image 1018.jpg\n",
      "generating feature_viz objective string for 1019\n",
      "found image 1019.jpg\n",
      "generating feature_viz objective string for 1020\n",
      "found image 1020.jpg\n",
      "generating feature_viz objective string for 1021\n",
      "found image 1021.jpg\n",
      "generating feature_viz objective string for 1022\n",
      "found image 1022.jpg\n",
      "generating feature_viz objective string for 1023\n",
      "found image 1023.jpg\n",
      "generating feature_viz objective string for 1024\n",
      "found image 1024.jpg\n",
      "generating feature_viz objective string for 1025\n",
      "found image 1025.jpg\n",
      "generating feature_viz objective string for 1026\n",
      "found image 1026.jpg\n",
      "generating feature_viz objective string for 1027\n",
      "found image 1027.jpg\n",
      "generating feature_viz objective string for 1028\n",
      "found image 1028.jpg\n",
      "generating feature_viz objective string for 1029\n",
      "found image 1029.jpg\n",
      "generating feature_viz objective string for 1030\n",
      "found image 1030.jpg\n",
      "generating feature_viz objective string for 1031\n",
      "found image 1031.jpg\n",
      "generating feature_viz objective string for 1032\n",
      "found image 1032.jpg\n",
      "generating feature_viz objective string for 1033\n",
      "found image 1033.jpg\n",
      "generating feature_viz objective string for 1034\n",
      "found image 1034.jpg\n",
      "generating feature_viz objective string for 1035\n",
      "found image 1035.jpg\n",
      "generating feature_viz objective string for 1036\n",
      "found image 1036.jpg\n",
      "generating feature_viz objective string for 1037\n",
      "found image 1037.jpg\n",
      "generating feature_viz objective string for 1038\n",
      "found image 1038.jpg\n",
      "generating feature_viz objective string for 1039\n",
      "found image 1039.jpg\n",
      "generating feature_viz objective string for 1040\n",
      "found image 1040.jpg\n",
      "generating feature_viz objective string for 1041\n",
      "found image 1041.jpg\n",
      "generating feature_viz objective string for 1042\n",
      "found image 1042.jpg\n",
      "generating feature_viz objective string for 1043\n",
      "found image 1043.jpg\n",
      "generating feature_viz objective string for 1044\n",
      "found image 1044.jpg\n",
      "generating feature_viz objective string for 1045\n",
      "found image 1045.jpg\n",
      "generating feature_viz objective string for 1046\n",
      "found image 1046.jpg\n",
      "generating feature_viz objective string for 1047\n",
      "found image 1047.jpg\n",
      "generating feature_viz objective string for 1048\n",
      "found image 1048.jpg\n",
      "generating feature_viz objective string for 1049\n",
      "found image 1049.jpg\n",
      "generating feature_viz objective string for 1050\n",
      "found image 1050.jpg\n",
      "generating feature_viz objective string for 1051\n",
      "found image 1051.jpg\n",
      "generating feature_viz objective string for 1052\n",
      "found image 1052.jpg\n",
      "generating feature_viz objective string for 1053\n",
      "found image 1053.jpg\n",
      "generating feature_viz objective string for 1054\n",
      "found image 1054.jpg\n",
      "generating feature_viz objective string for 1055\n",
      "found image 1055.jpg\n",
      "generating feature_viz objective string for 1056\n",
      "found image 1056.jpg\n",
      "generating feature_viz objective string for 1057\n",
      "found image 1057.jpg\n",
      "generating feature_viz objective string for 1058\n",
      "found image 1058.jpg\n",
      "generating feature_viz objective string for 1059\n",
      "found image 1059.jpg\n",
      "generating feature_viz objective string for 1060\n",
      "found image 1060.jpg\n",
      "generating feature_viz objective string for 1061\n",
      "found image 1061.jpg\n",
      "generating feature_viz objective string for 1062\n",
      "found image 1062.jpg\n",
      "generating feature_viz objective string for 1063\n",
      "found image 1063.jpg\n",
      "generating feature_viz objective string for 1064\n",
      "found image 1064.jpg\n",
      "generating feature_viz objective string for 1065\n",
      "found image 1065.jpg\n",
      "generating feature_viz objective string for 1066\n",
      "found image 1066.jpg\n",
      "generating feature_viz objective string for 1067\n",
      "found image 1067.jpg\n",
      "generating feature_viz objective string for 1068\n",
      "found image 1068.jpg\n",
      "generating feature_viz objective string for 1069\n",
      "found image 1069.jpg\n",
      "generating feature_viz objective string for 1070\n",
      "found image 1070.jpg\n",
      "generating feature_viz objective string for 1071\n",
      "found image 1071.jpg\n",
      "generating feature_viz objective string for 1072\n",
      "found image 1072.jpg\n",
      "generating feature_viz objective string for 1073\n",
      "found image 1073.jpg\n",
      "generating feature_viz objective string for 1074\n",
      "found image 1074.jpg\n",
      "generating feature_viz objective string for 1075\n",
      "found image 1075.jpg\n",
      "generating feature_viz objective string for 1076\n",
      "found image 1076.jpg\n",
      "generating feature_viz objective string for 1077\n",
      "found image 1077.jpg\n",
      "generating feature_viz objective string for 1078\n",
      "found image 1078.jpg\n",
      "generating feature_viz objective string for 1079\n",
      "found image 1079.jpg\n",
      "generating feature_viz objective string for 1080\n",
      "found image 1080.jpg\n",
      "generating feature_viz objective string for 1081\n",
      "found image 1081.jpg\n",
      "generating feature_viz objective string for 1082\n",
      "found image 1082.jpg\n",
      "generating feature_viz objective string for 1083\n",
      "found image 1083.jpg\n",
      "generating feature_viz objective string for 1084\n",
      "found image 1084.jpg\n",
      "generating feature_viz objective string for 1085\n",
      "found image 1085.jpg\n",
      "generating feature_viz objective string for 1086\n",
      "found image 1086.jpg\n",
      "generating feature_viz objective string for 1087\n",
      "found image 1087.jpg\n",
      "generating feature_viz objective string for 1088\n",
      "found image 1088.jpg\n"
     ]
    },
    {
     "name": "stdout",
     "output_type": "stream",
     "text": [
      "generating feature_viz objective string for 1089\n",
      "found image 1089.jpg\n",
      "generating feature_viz objective string for 1090\n",
      "found image 1090.jpg\n",
      "generating feature_viz objective string for 1091\n",
      "found image 1091.jpg\n",
      "generating feature_viz objective string for 1092\n",
      "found image 1092.jpg\n",
      "generating feature_viz objective string for 1093\n",
      "found image 1093.jpg\n",
      "generating feature_viz objective string for 1094\n",
      "found image 1094.jpg\n",
      "generating feature_viz objective string for 1095\n",
      "found image 1095.jpg\n",
      "generating feature_viz objective string for 1096\n",
      "found image 1096.jpg\n",
      "generating feature_viz objective string for 1097\n",
      "found image 1097.jpg\n",
      "generating feature_viz objective string for 1098\n",
      "found image 1098.jpg\n",
      "generating feature_viz objective string for 1099\n",
      "found image 1099.jpg\n",
      "generating feature_viz objective string for 1100\n",
      "found image 1100.jpg\n",
      "generating feature_viz objective string for 1101\n",
      "found image 1101.jpg\n",
      "generating feature_viz objective string for 1102\n",
      "found image 1102.jpg\n",
      "generating feature_viz objective string for 1103\n",
      "found image 1103.jpg\n",
      "generating feature_viz objective string for 1104\n",
      "found image 1104.jpg\n",
      "generating feature_viz objective string for 1105\n",
      "found image 1105.jpg\n",
      "generating feature_viz objective string for 1106\n",
      "found image 1106.jpg\n",
      "generating feature_viz objective string for 1107\n",
      "found image 1107.jpg\n",
      "generating feature_viz objective string for 1108\n",
      "found image 1108.jpg\n",
      "generating feature_viz objective string for 1109\n",
      "found image 1109.jpg\n",
      "generating feature_viz objective string for 1110\n",
      "found image 1110.jpg\n",
      "generating feature_viz objective string for 1111\n",
      "found image 1111.jpg\n",
      "generating feature_viz objective string for 1112\n",
      "found image 1112.jpg\n",
      "generating feature_viz objective string for 1113\n",
      "found image 1113.jpg\n",
      "generating feature_viz objective string for 1114\n",
      "found image 1114.jpg\n",
      "generating feature_viz objective string for 1115\n",
      "found image 1115.jpg\n",
      "generating feature_viz objective string for 1116\n",
      "found image 1116.jpg\n",
      "generating feature_viz objective string for 1117\n",
      "found image 1117.jpg\n",
      "generating feature_viz objective string for 1118\n",
      "found image 1118.jpg\n",
      "generating feature_viz objective string for 1119\n",
      "found image 1119.jpg\n",
      "generating feature_viz objective string for 1120\n",
      "found image 1120.jpg\n",
      "generating feature_viz objective string for 1121\n",
      "found image 1121.jpg\n",
      "generating feature_viz objective string for 1122\n",
      "found image 1122.jpg\n",
      "generating feature_viz objective string for 1123\n",
      "found image 1123.jpg\n",
      "generating feature_viz objective string for 1124\n",
      "found image 1124.jpg\n",
      "generating feature_viz objective string for 1125\n",
      "found image 1125.jpg\n",
      "generating feature_viz objective string for 1126\n",
      "found image 1126.jpg\n",
      "generating feature_viz objective string for 1127\n",
      "found image 1127.jpg\n",
      "generating feature_viz objective string for 1128\n",
      "found image 1128.jpg\n",
      "generating feature_viz objective string for 1129\n",
      "found image 1129.jpg\n",
      "generating feature_viz objective string for 1130\n",
      "found image 1130.jpg\n",
      "generating feature_viz objective string for 1131\n",
      "found image 1131.jpg\n",
      "generating feature_viz objective string for 1132\n",
      "found image 1132.jpg\n",
      "generating feature_viz objective string for 1133\n",
      "found image 1133.jpg\n",
      "generating feature_viz objective string for 1134\n",
      "found image 1134.jpg\n",
      "generating feature_viz objective string for 1135\n",
      "found image 1135.jpg\n",
      "generating feature_viz objective string for 1136\n",
      "found image 1136.jpg\n",
      "generating feature_viz objective string for 1137\n",
      "found image 1137.jpg\n",
      "generating feature_viz objective string for 1138\n",
      "found image 1138.jpg\n",
      "generating feature_viz objective string for 1139\n",
      "found image 1139.jpg\n",
      "generating feature_viz objective string for 1140\n",
      "found image 1140.jpg\n",
      "generating feature_viz objective string for 1141\n",
      "found image 1141.jpg\n",
      "generating feature_viz objective string for 1142\n",
      "found image 1142.jpg\n",
      "generating feature_viz objective string for 1143\n",
      "found image 1143.jpg\n",
      "generating feature_viz objective string for 1144\n",
      "found image 1144.jpg\n",
      "generating feature_viz objective string for 1145\n",
      "found image 1145.jpg\n",
      "generating feature_viz objective string for 1146\n",
      "found image 1146.jpg\n",
      "generating feature_viz objective string for 1147\n",
      "found image 1147.jpg\n",
      "generating feature_viz objective string for 1148\n",
      "found image 1148.jpg\n",
      "generating feature_viz objective string for 1149\n",
      "found image 1149.jpg\n",
      "generating feature_viz objective string for 1150\n",
      "found image 1150.jpg\n",
      "generating feature_viz objective string for 1151\n",
      "found image 1151.jpg\n",
      "6257.649492025375\n"
     ]
    }
   ],
   "source": [
    "import time\n",
    "start = time.time()\n",
    "deepviz_activations = gen_deepviz_neuron_activations(model_dis,params)\n",
    "print(time.time()-start)"
   ]
  },
  {
   "cell_type": "code",
   "execution_count": 51,
   "metadata": {},
   "outputs": [
    {
     "data": {
      "text/plain": [
       "8.360067367553711"
      ]
     },
     "execution_count": 51,
     "metadata": {},
     "output_type": "execute_result"
    }
   ],
   "source": [
    "deepviz_activations[0][3][3]"
   ]
  },
  {
   "cell_type": "code",
   "execution_count": 23,
   "metadata": {},
   "outputs": [
    {
     "data": {
      "text/plain": [
       "(1, 64, 55, 55)"
      ]
     },
     "execution_count": 23,
     "metadata": {},
     "output_type": "execute_result"
    }
   ],
   "source": [
    "layer_activations['nodes'][0].shape"
   ]
  },
  {
   "cell_type": "code",
   "execution_count": 33,
   "metadata": {},
   "outputs": [
    {
     "data": {
      "text/plain": [
       "(1, 192, 27, 27)"
      ]
     },
     "execution_count": 33,
     "metadata": {},
     "output_type": "execute_result"
    }
   ],
   "source": [
    "layer_activations['nodes'][1].shape"
   ]
  },
  {
   "cell_type": "code",
   "execution_count": 30,
   "metadata": {},
   "outputs": [
    {
     "data": {
      "text/plain": [
       "(26, 25)"
      ]
     },
     "execution_count": 30,
     "metadata": {},
     "output_type": "execute_result"
    }
   ],
   "source": [
    "np.unravel_index(np.argmax(layer_activations['nodes'][0][0][0], axis=None), layer_activations['nodes'][0][0][0].shape)"
   ]
  },
  {
   "cell_type": "code",
   "execution_count": 11,
   "metadata": {},
   "outputs": [
    {
     "data": {
      "text/plain": [
       "{'X': [-1, -1, -1], 'Y': [0.0, 0.17, -0.17], 'Z': [0.2, -0.1, -0.1]}"
      ]
     },
     "execution_count": 11,
     "metadata": {},
     "output_type": "execute_result"
    }
   ],
   "source": [
    "params['imgnode_positions']"
   ]
  },
  {
   "cell_type": "code",
   "execution_count": 23,
   "metadata": {},
   "outputs": [
    {
     "name": "stdout",
     "output_type": "stream",
     "text": [
      "3.0\n",
      "4.0\n"
     ]
    },
    {
     "data": {
      "text/plain": [
       "array([[-2, -2],\n",
       "       [ 0,  0],\n",
       "       [ 2,  2]])"
      ]
     },
     "execution_count": 23,
     "metadata": {},
     "output_type": "execute_result"
    }
   ],
   "source": [
    "v = np.array([[1,2],[3,4],[5,6]])\n",
    "x_avg = np.average(v[:,0])\n",
    "y_avg = np.average(v[:,1])\n",
    "v[:,0] = v[:,0]-x_avg\n",
    "v[:,1] = v[:,1]-y_avg\n",
    "print(x_avg)\n",
    "print(y_avg)\n",
    "v"
   ]
  }
 ],
 "metadata": {
  "kernelspec": {
   "display_name": "viscnn",
   "language": "python",
   "name": "viscnn"
  },
  "language_info": {
   "codemirror_mode": {
    "name": "ipython",
    "version": 3
   },
   "file_extension": ".py",
   "mimetype": "text/x-python",
   "name": "python",
   "nbconvert_exporter": "python",
   "pygments_lexer": "ipython3",
   "version": "3.7.10"
  }
 },
 "nbformat": 4,
 "nbformat_minor": 2
}
