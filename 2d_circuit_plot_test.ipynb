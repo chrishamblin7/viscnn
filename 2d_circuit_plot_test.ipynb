{
 "cells": [
  {
   "cell_type": "code",
   "execution_count": 1,
   "metadata": {},
   "outputs": [
    {
     "data": {
      "text/html": [
       "        <script type=\"text/javascript\">\n",
       "        window.PlotlyConfig = {MathJaxConfig: 'local'};\n",
       "        if (window.MathJax) {MathJax.Hub.Config({SVG: {font: \"STIX-Web\"}});}\n",
       "        if (typeof require !== 'undefined') {\n",
       "        require.undef(\"plotly\");\n",
       "        requirejs.config({\n",
       "            paths: {\n",
       "                'plotly': ['https://cdn.plot.ly/plotly-latest.min']\n",
       "            }\n",
       "        });\n",
       "        require(['plotly'], function(Plotly) {\n",
       "            window._Plotly = Plotly;\n",
       "        });\n",
       "        }\n",
       "        </script>\n",
       "        "
      ]
     },
     "metadata": {},
     "output_type": "display_data"
    },
    {
     "name": "stdout",
     "output_type": "stream",
     "text": [
      "possible models to visualizer are:\n",
      "['mnist_resize', 'alexnet_old.tar.gz', 'mnist_old', '.keep', 'mnist', 'old', 'alexnet10', 'letter_mixed_not_trained', 'imagenet10_sparse', 'alexnet_sparse_test', '.DS_Store', 'alexnet_sparse_full_model_10classes', 'alexnet_sparse.tar.gz', 'imagenet10', 'alexnet_sparse', 'alexnet_lucent', 'mnist.tgz', 'alexnet', 'letter_mixed', 'googlenet10_test', '._.DS_Store', 'alexnet_corrupted', 'alexnet.tar.gz']\n",
      "\n",
      "You've chosen to visualize alexnet_sparse\n"
     ]
    },
    {
     "name": "stderr",
     "output_type": "stream",
     "text": [
      "/home/chris/miniconda3/envs/viscnn/lib/python3.7/site-packages/torch/cuda/__init__.py:125: UserWarning:\n",
      "\n",
      "\n",
      "Tesla K40c with CUDA capability sm_35 is not compatible with the current PyTorch installation.\n",
      "The current PyTorch install supports CUDA capabilities sm_37 sm_50 sm_60 sm_61 sm_70 sm_75 compute_37.\n",
      "If you want to use the Tesla K40c GPU with PyTorch, please check the instructions at https://pytorch.org/get-started/locally/\n",
      "\n",
      "\n"
     ]
    },
    {
     "name": "stdout",
     "output_type": "stream",
     "text": [
      "loaded model:\n",
      "AlexNet(\n",
      "  (features): Sequential(\n",
      "    (0): Conv2d(3, 64, kernel_size=(11, 11), stride=(4, 4), padding=(2, 2))\n",
      "    (1): ReLU(inplace=True)\n",
      "    (2): MaxPool2d(kernel_size=3, stride=2, padding=0, dilation=1, ceil_mode=False)\n",
      "    (3): Conv2d(64, 192, kernel_size=(5, 5), stride=(1, 1), padding=(2, 2))\n",
      "    (4): ReLU(inplace=True)\n",
      "    (5): MaxPool2d(kernel_size=3, stride=2, padding=0, dilation=1, ceil_mode=False)\n",
      "    (6): Conv2d(192, 384, kernel_size=(3, 3), stride=(1, 1), padding=(1, 1))\n",
      "    (7): ReLU(inplace=True)\n",
      "    (8): Conv2d(384, 256, kernel_size=(3, 3), stride=(1, 1), padding=(1, 1))\n",
      "    (9): ReLU(inplace=True)\n",
      "    (10): Conv2d(256, 256, kernel_size=(3, 3), stride=(1, 1), padding=(1, 1))\n",
      "    (11): ReLU(inplace=True)\n",
      "    (12): MaxPool2d(kernel_size=3, stride=2, padding=0, dilation=1, ceil_mode=False)\n",
      "  )\n",
      "  (avgpool): AdaptiveAvgPool2d(output_size=(6, 6))\n",
      "  (classifier): Sequential(\n",
      "    (0): Dropout(p=0.5, inplace=False)\n",
      "    (1): Linear(in_features=9216, out_features=4096, bias=True)\n",
      "    (2): ReLU(inplace=True)\n",
      "    (3): Dropout(p=0.5, inplace=False)\n",
      "    (4): Linear(in_features=4096, out_features=4096, bias=True)\n",
      "    (5): ReLU(inplace=True)\n",
      "    (6): Linear(in_features=4096, out_features=1000, bias=True)\n",
      "  )\n",
      ")\n",
      "loading misc graph data\n"
     ]
    }
   ],
   "source": [
    "\n",
    "\n",
    "#fetch command line argument (prepped model)\n",
    "#%reset\n",
    "import sys\n",
    "import os\n",
    "from copy import deepcopy\n",
    "import pickle\n",
    "import torch\n",
    "import plotly.offline as py\n",
    "import plotly.graph_objs as go\n",
    "\n",
    "os.chdir('/mnt/data/chris/dropbox/Research-Hamblin/Projects/cnn_subgraph_visualizer/')\n",
    "\n",
    "\n",
    "\n",
    "sys.path.insert(0, os.path.abspath('./prep_model_scripts/'))\n",
    "sys.path.insert(0, os.path.abspath('./visualizer_scripts/'))\n",
    "from visualizer_helper_functions import *\n",
    "from contrast_helper_functions import *\n",
    "from featureviz_helper_functions import *\n",
    "from subgraph_helper_functions import *\n",
    "from ablation_functions import *\n",
    "from receptive_field import *\n",
    "from dissected_Conv2d import *\n",
    "from copy import deepcopy\n",
    "\n",
    "\n",
    "py.init_notebook_mode(connected=True)   #jupyter notebook only\n",
    "\n",
    "prepped_model_folder = 'alexnet_sparse'    #set this to a subfolder of prunned_models\n",
    "\n",
    "full_prepped_model_folder = os.path.abspath('prepped_models/%s'%prepped_model_folder)\n",
    "\n",
    "possible_models = os.listdir('prepped_models')\n",
    "print('possible models to visualizer are:')\n",
    "print(possible_models)\n",
    "\n",
    "print('\\nYou\\'ve chosen to visualize %s'%prepped_model_folder)\n",
    "\n",
    "\n",
    "sys.path.insert(0,'prepped_models/%s'%prepped_model_folder)\n",
    "\n",
    "import prep_model_params_used as prep_model_params\n",
    "\n",
    "params = {}\n",
    "params['prepped_model'] = prepped_model_folder\n",
    "params['prepped_model_path'] = full_prepped_model_folder\n",
    "params['device'] = 'cuda:0'\n",
    "params['deepviz_neuron'] = True\n",
    "params['deepviz_edge'] = False\n",
    "\n",
    "#Parameters\n",
    "\n",
    "#Non-GUI parameters\n",
    "\n",
    "#deepviz\n",
    "params['deepviz_param'] = None\n",
    "params['deepviz_optim'] = None\n",
    "params['deepviz_transforms'] = None\n",
    "params['deepviz_image_size'] = prep_model_params.deepviz_image_size\n",
    "\n",
    "#backend\n",
    "params['cuda'] = prep_model_params.cuda    #use gpu acceleration when running model forward\n",
    "params['input_image_directory'] = prep_model_params.input_img_path+'/'   #path to directory of imput images you want fed through the network\n",
    "params['preprocess'] = prep_model_params.preprocess     #torchvision transfrom to pass input images through\n",
    "params['label_file_path'] = prep_model_params.label_file_path\n",
    "params['criterion'] = prep_model_params.criterion\n",
    "params['rank_img_path'] = prep_model_params.rank_img_path\n",
    "params['num_workers'] = prep_model_params.num_workers\n",
    "params['seed'] = prep_model_params.seed\n",
    "params['batch_size'] = prep_model_params.batch_size\n",
    "#params['dynamic_act_cache_num'] = 4  #max number of input image activations 'dynamic_activations' will have simultaneously\n",
    "\n",
    " \n",
    "#aesthetic \n",
    "\n",
    "params['node_size'] = 12\n",
    "params['edge_size'] = 1\n",
    "params['max_node_inputs'] = 10    #there is a dropdown showing the top weighted edge inputs to nodes, how many maps in dropdown?\n",
    "params['layer_colors'] = ['rgba(31,119,180,', \n",
    "                          'rgba(255,127,14,',\n",
    "                          'rgba(44,160,44,', \n",
    "                          'rgba(214,39,40,',\n",
    "                          'rgba(39, 208, 214,', \n",
    "                          'rgba(242, 250, 17,',\n",
    "                          'rgba(196, 94, 255,',\n",
    "                          'rgba(193, 245, 5,',\n",
    "                          'rgba(245, 85, 5,',\n",
    "                          'rgba(5, 165, 245,',\n",
    "                          'rgba(245, 5, 105,',\n",
    "                          'rgba(218, 232, 23,',\n",
    "                          'rgba(148, 23, 232,',\n",
    "                          'rgba(23, 232, 166,',]\n",
    "\n",
    "\n",
    "#visibility\n",
    "\n",
    "params['show_ablations'] = False    #show network ablations modules\n",
    "params['show_act_map_means'] = False #show mean value under activation maps\n",
    "params['show_image_manip'] = False\n",
    "\n",
    "#GUI parameters initialization (these parameters can be set in the GUI, but what values should they be initialized to?)\n",
    "target_category = 'overall'     #category of images edges and nodes are weighted based on (which subgraph) \n",
    "rank_type = 'actxgrad'       #weighting criterion (actxgrad, act, grad, or weight)\n",
    "projection = 'MDS smooth'           #how nodes within a layer are projected into the 2d plane (MDS or Grid)\n",
    "edge_threshold = [.7,1]     #what range do edge ranks need to be in to be visualized\n",
    "node_threshold = [.4,1]     #only relevant for hierarchical subgraph \n",
    "\n",
    "#### DONT EDIT BELOW initializations\n",
    "\n",
    "figure_init = go.Figure()\n",
    "figure_init.add_trace(go.Scatter(\n",
    "            x=[],\n",
    "            y=[]))\n",
    "figure_init.update_layout(xaxis=dict(visible=False),\n",
    "                  yaxis=dict(visible=False),\n",
    "                  annotations = [dict(text=\"No Inputs\",\n",
    "                                      xref=\"paper\",\n",
    "                                      yref=\"paper\",\n",
    "                                      showarrow=False,\n",
    "                                      font=dict(size=28))]\n",
    "                 )\n",
    "\n",
    "params['max_edge_weight'] = 1  #for the edge threshold slider, this dynamically adjusted its max value to max edge rank\n",
    "                     #before there were multiple rank criterions, which made things confusing\n",
    "                     #so well just fix it to 1 for now\n",
    "        \n",
    "        \n",
    "display_dict = {True:'block',False:'none'}\n",
    "\n",
    "\n",
    "#load Model\n",
    "\n",
    "model_dis = dissect_model(deepcopy(prep_model_params.model),store_ranks=True,clear_ranks=True,cuda=params['cuda'],device=params['device']) #version of model with accessible preadd activations in Conv2d modules \n",
    "if params['cuda']:\n",
    "    model_dis.cuda()\n",
    "model_dis = model_dis.eval()    \n",
    "model_dis.to(params['device'])\n",
    "\n",
    "print('loaded model:')\n",
    "print(prep_model_params.model)\n",
    "        \n",
    "#del prep_model_params.model\n",
    "model = prep_model_params.model\n",
    "if params['cuda']:\n",
    "    model.cuda()\n",
    "model = model.eval()\n",
    "model.to(params['device'])\n",
    "\n",
    "\n",
    "#load misc graph data\n",
    "print('loading misc graph data')\n",
    "misc_data = pickle.load(open('./prepped_models/%s/misc_graph_data.pkl'%prepped_model_folder,'rb'))\n",
    "params['layer_nodes'] = misc_data['layer_nodes']\n",
    "params['num_layers'] = misc_data['num_layers']\n",
    "params['num_nodes'] = misc_data['num_nodes']\n",
    "params['categories'] = misc_data['categories']\n",
    "params['num_img_chan'] = misc_data['num_img_chan']\n",
    "params['imgnode_positions'] = misc_data['imgnode_positions']\n",
    "params['imgnode_colors'] = misc_data['imgnode_colors']\n",
    "params['imgnode_names'] = misc_data['imgnode_names']\n",
    "params['prepped_model_path'] = full_prepped_model_folder\n",
    "params['ranks_data_path'] = full_prepped_model_folder+'/ranks/'\n",
    "\n",
    "\n",
    "kernels = torch.load('prepped_models/%s/kernels.pt'%prepped_model_folder)['kernels']\n",
    "kernel_colors = torch.load('prepped_models/%s/kernels.pt'%prepped_model_folder)['kernel_colors']\n"
   ]
  },
  {
   "cell_type": "code",
   "execution_count": 2,
   "metadata": {},
   "outputs": [
    {
     "data": {
      "text/plain": [
       "(64, 3, 3)"
      ]
     },
     "execution_count": 2,
     "metadata": {},
     "output_type": "execute_result"
    }
   ],
   "source": [
    "kernel_colors[0].shape"
   ]
  },
  {
   "cell_type": "code",
   "execution_count": 3,
   "metadata": {},
   "outputs": [],
   "source": [
    "subgraph_dict = torch.load('/mnt/data/chris/dropbox/Research-Hamblin/Projects/cnn_subgraph_visualizer/prepped_models/alexnet_sparse/subgraphs/models/435_0.20.6.pt')"
   ]
  },
  {
   "cell_type": "code",
   "execution_count": 4,
   "metadata": {},
   "outputs": [
    {
     "data": {
      "text/plain": [
       "{'model': Sequential(\n",
       "   (conv_0): Conv2d(3, 2, kernel_size=(11, 11), stride=(4, 4), padding=(2, 2))\n",
       "   (relu_1): ReLU()\n",
       "   (pool_1): MaxPool2d(kernel_size=3, stride=2, padding=0, dilation=1, ceil_mode=False)\n",
       "   (conv_1): Conv2d(2, 3, kernel_size=(5, 5), stride=(1, 1), padding=(2, 2))\n",
       "   (relu_2): ReLU()\n",
       "   (pool_2): MaxPool2d(kernel_size=3, stride=2, padding=0, dilation=1, ceil_mode=False)\n",
       "   (conv_2): Conv2d(3, 1, kernel_size=(3, 3), stride=(1, 1), padding=(1, 1))\n",
       " ),\n",
       " 'gen_params': {'node_thresh': 0.2,\n",
       "  'edge_thresh': 0.6,\n",
       "  'input': 'small_SPAN',\n",
       "  'output': '435'},\n",
       " 'node_df':     node_num  layer_name layer node_num_by_layer  act_rank  grad_rank  \\\n",
       " 21        21  features_0     0                21  0.418738   1.000000   \n",
       " 37        37  features_0     0                37  0.541165   0.384474   \n",
       " 75        75  features_3     1                11  0.262501   1.000000   \n",
       " 198      198  features_3     1               134  0.572941   0.347770   \n",
       " 244      244  features_3     1               180  0.277107   0.342456   \n",
       " 435      435  features_6     2               179  0.244534   1.000000   \n",
       " \n",
       "      actxgrad_rank  \n",
       " 21        1.000000  \n",
       " 37        0.514951  \n",
       " 75        1.000000  \n",
       " 198       0.400769  \n",
       " 244       0.397590  \n",
       " 435       1.000000  ,\n",
       " 'edge_df':       edge_num  layer_name layer out_channel in_channel  act_rank  grad_rank  \\\n",
       " 64          64  features_0     0          21          1  7.995568   0.000083   \n",
       " 63          63  features_0     0          21          0  4.647471   0.000083   \n",
       " 112        112  features_0     0          37          1  7.880744   0.000034   \n",
       " 113        113  features_0     0          37          2  4.310708   0.000034   \n",
       " 65          65  features_0     0          21          2  3.609935   0.000083   \n",
       " 917        917  features_3     1          11         21  1.830545   0.000081   \n",
       " 8789      8789  features_3     1         134         21  3.371428   0.000028   \n",
       " 11749    11749  features_3     1         180         37  2.083190   0.000028   \n",
       " 46859    46859  features_6     2         179         11  1.420799   0.000947   \n",
       " 46982    46982  features_6     2         179        134  0.498226   0.000947   \n",
       " 47028    47028  features_6     2         179        180  0.482315   0.000947   \n",
       " \n",
       "        actxgrad_rank  \n",
       " 64          0.000644  \n",
       " 63          0.000360  \n",
       " 112         0.000225  \n",
       " 113         0.000123  \n",
       " 65          0.000289  \n",
       " 917         0.000304  \n",
       " 8789        0.000038  \n",
       " 11749       0.000122  \n",
       " 46859       0.001231  \n",
       " 46982       0.000494  \n",
       " 47028       0.000489  }"
      ]
     },
     "execution_count": 4,
     "metadata": {},
     "output_type": "execute_result"
    }
   ],
   "source": [
    "subgraph_dict"
   ]
  },
  {
   "cell_type": "code",
   "execution_count": 5,
   "metadata": {},
   "outputs": [],
   "source": [
    "dissected_subgraph = dissect_model(subgraph_dict['model'])"
   ]
  },
  {
   "cell_type": "code",
   "execution_count": 6,
   "metadata": {},
   "outputs": [
    {
     "data": {
      "text/plain": [
       "Sequential(\n",
       "  (conv_0): dissected_Conv2d(\n",
       "    (preadd_conv): Conv2d(3, 6, kernel_size=(11, 11), stride=(4, 4), padding=(2, 2), groups=3, bias=False)\n",
       "  )\n",
       "  (relu_1): ReLU()\n",
       "  (pool_1): MaxPool2d(kernel_size=3, stride=2, padding=0, dilation=1, ceil_mode=False)\n",
       "  (conv_1): dissected_Conv2d(\n",
       "    (preadd_conv): Conv2d(2, 6, kernel_size=(5, 5), stride=(1, 1), padding=(2, 2), groups=2, bias=False)\n",
       "  )\n",
       "  (relu_2): ReLU()\n",
       "  (pool_2): MaxPool2d(kernel_size=3, stride=2, padding=0, dilation=1, ceil_mode=False)\n",
       "  (conv_2): dissected_Conv2d(\n",
       "    (preadd_conv): Conv2d(3, 3, kernel_size=(3, 3), stride=(1, 1), padding=(1, 1), groups=3, bias=False)\n",
       "  )\n",
       ")"
      ]
     },
     "execution_count": 6,
     "metadata": {},
     "output_type": "execute_result"
    }
   ],
   "source": [
    "dissected_subgraph"
   ]
  },
  {
   "cell_type": "code",
   "execution_count": 7,
   "metadata": {},
   "outputs": [
    {
     "data": {
      "text/html": [
       "<div>\n",
       "<style scoped>\n",
       "    .dataframe tbody tr th:only-of-type {\n",
       "        vertical-align: middle;\n",
       "    }\n",
       "\n",
       "    .dataframe tbody tr th {\n",
       "        vertical-align: top;\n",
       "    }\n",
       "\n",
       "    .dataframe thead th {\n",
       "        text-align: right;\n",
       "    }\n",
       "</style>\n",
       "<table border=\"1\" class=\"dataframe\">\n",
       "  <thead>\n",
       "    <tr style=\"text-align: right;\">\n",
       "      <th></th>\n",
       "      <th>edge_num</th>\n",
       "      <th>layer_name</th>\n",
       "      <th>layer</th>\n",
       "      <th>out_channel</th>\n",
       "      <th>in_channel</th>\n",
       "      <th>act_rank</th>\n",
       "      <th>grad_rank</th>\n",
       "      <th>actxgrad_rank</th>\n",
       "    </tr>\n",
       "  </thead>\n",
       "  <tbody>\n",
       "    <tr>\n",
       "      <th>64</th>\n",
       "      <td>64</td>\n",
       "      <td>features_0</td>\n",
       "      <td>0</td>\n",
       "      <td>21</td>\n",
       "      <td>1</td>\n",
       "      <td>7.995568</td>\n",
       "      <td>0.000083</td>\n",
       "      <td>0.000644</td>\n",
       "    </tr>\n",
       "    <tr>\n",
       "      <th>63</th>\n",
       "      <td>63</td>\n",
       "      <td>features_0</td>\n",
       "      <td>0</td>\n",
       "      <td>21</td>\n",
       "      <td>0</td>\n",
       "      <td>4.647471</td>\n",
       "      <td>0.000083</td>\n",
       "      <td>0.000360</td>\n",
       "    </tr>\n",
       "    <tr>\n",
       "      <th>112</th>\n",
       "      <td>112</td>\n",
       "      <td>features_0</td>\n",
       "      <td>0</td>\n",
       "      <td>37</td>\n",
       "      <td>1</td>\n",
       "      <td>7.880744</td>\n",
       "      <td>0.000034</td>\n",
       "      <td>0.000225</td>\n",
       "    </tr>\n",
       "    <tr>\n",
       "      <th>113</th>\n",
       "      <td>113</td>\n",
       "      <td>features_0</td>\n",
       "      <td>0</td>\n",
       "      <td>37</td>\n",
       "      <td>2</td>\n",
       "      <td>4.310708</td>\n",
       "      <td>0.000034</td>\n",
       "      <td>0.000123</td>\n",
       "    </tr>\n",
       "    <tr>\n",
       "      <th>65</th>\n",
       "      <td>65</td>\n",
       "      <td>features_0</td>\n",
       "      <td>0</td>\n",
       "      <td>21</td>\n",
       "      <td>2</td>\n",
       "      <td>3.609935</td>\n",
       "      <td>0.000083</td>\n",
       "      <td>0.000289</td>\n",
       "    </tr>\n",
       "    <tr>\n",
       "      <th>917</th>\n",
       "      <td>917</td>\n",
       "      <td>features_3</td>\n",
       "      <td>1</td>\n",
       "      <td>11</td>\n",
       "      <td>21</td>\n",
       "      <td>1.830545</td>\n",
       "      <td>0.000081</td>\n",
       "      <td>0.000304</td>\n",
       "    </tr>\n",
       "    <tr>\n",
       "      <th>8789</th>\n",
       "      <td>8789</td>\n",
       "      <td>features_3</td>\n",
       "      <td>1</td>\n",
       "      <td>134</td>\n",
       "      <td>21</td>\n",
       "      <td>3.371428</td>\n",
       "      <td>0.000028</td>\n",
       "      <td>0.000038</td>\n",
       "    </tr>\n",
       "    <tr>\n",
       "      <th>11749</th>\n",
       "      <td>11749</td>\n",
       "      <td>features_3</td>\n",
       "      <td>1</td>\n",
       "      <td>180</td>\n",
       "      <td>37</td>\n",
       "      <td>2.083190</td>\n",
       "      <td>0.000028</td>\n",
       "      <td>0.000122</td>\n",
       "    </tr>\n",
       "    <tr>\n",
       "      <th>46859</th>\n",
       "      <td>46859</td>\n",
       "      <td>features_6</td>\n",
       "      <td>2</td>\n",
       "      <td>179</td>\n",
       "      <td>11</td>\n",
       "      <td>1.420799</td>\n",
       "      <td>0.000947</td>\n",
       "      <td>0.001231</td>\n",
       "    </tr>\n",
       "    <tr>\n",
       "      <th>46982</th>\n",
       "      <td>46982</td>\n",
       "      <td>features_6</td>\n",
       "      <td>2</td>\n",
       "      <td>179</td>\n",
       "      <td>134</td>\n",
       "      <td>0.498226</td>\n",
       "      <td>0.000947</td>\n",
       "      <td>0.000494</td>\n",
       "    </tr>\n",
       "    <tr>\n",
       "      <th>47028</th>\n",
       "      <td>47028</td>\n",
       "      <td>features_6</td>\n",
       "      <td>2</td>\n",
       "      <td>179</td>\n",
       "      <td>180</td>\n",
       "      <td>0.482315</td>\n",
       "      <td>0.000947</td>\n",
       "      <td>0.000489</td>\n",
       "    </tr>\n",
       "  </tbody>\n",
       "</table>\n",
       "</div>"
      ],
      "text/plain": [
       "      edge_num  layer_name layer out_channel in_channel  act_rank  grad_rank  \\\n",
       "64          64  features_0     0          21          1  7.995568   0.000083   \n",
       "63          63  features_0     0          21          0  4.647471   0.000083   \n",
       "112        112  features_0     0          37          1  7.880744   0.000034   \n",
       "113        113  features_0     0          37          2  4.310708   0.000034   \n",
       "65          65  features_0     0          21          2  3.609935   0.000083   \n",
       "917        917  features_3     1          11         21  1.830545   0.000081   \n",
       "8789      8789  features_3     1         134         21  3.371428   0.000028   \n",
       "11749    11749  features_3     1         180         37  2.083190   0.000028   \n",
       "46859    46859  features_6     2         179         11  1.420799   0.000947   \n",
       "46982    46982  features_6     2         179        134  0.498226   0.000947   \n",
       "47028    47028  features_6     2         179        180  0.482315   0.000947   \n",
       "\n",
       "       actxgrad_rank  \n",
       "64          0.000644  \n",
       "63          0.000360  \n",
       "112         0.000225  \n",
       "113         0.000123  \n",
       "65          0.000289  \n",
       "917         0.000304  \n",
       "8789        0.000038  \n",
       "11749       0.000122  \n",
       "46859       0.001231  \n",
       "46982       0.000494  \n",
       "47028       0.000489  "
      ]
     },
     "execution_count": 7,
     "metadata": {},
     "output_type": "execute_result"
    }
   ],
   "source": [
    "subgraph_dict['edge_df']"
   ]
  },
  {
   "cell_type": "code",
   "execution_count": 8,
   "metadata": {},
   "outputs": [
    {
     "data": {
      "text/html": [
       "<div>\n",
       "<style scoped>\n",
       "    .dataframe tbody tr th:only-of-type {\n",
       "        vertical-align: middle;\n",
       "    }\n",
       "\n",
       "    .dataframe tbody tr th {\n",
       "        vertical-align: top;\n",
       "    }\n",
       "\n",
       "    .dataframe thead th {\n",
       "        text-align: right;\n",
       "    }\n",
       "</style>\n",
       "<table border=\"1\" class=\"dataframe\">\n",
       "  <thead>\n",
       "    <tr style=\"text-align: right;\">\n",
       "      <th></th>\n",
       "      <th>node_num</th>\n",
       "      <th>layer_name</th>\n",
       "      <th>layer</th>\n",
       "      <th>node_num_by_layer</th>\n",
       "      <th>act_rank</th>\n",
       "      <th>grad_rank</th>\n",
       "      <th>actxgrad_rank</th>\n",
       "    </tr>\n",
       "  </thead>\n",
       "  <tbody>\n",
       "    <tr>\n",
       "      <th>21</th>\n",
       "      <td>21</td>\n",
       "      <td>features_0</td>\n",
       "      <td>0</td>\n",
       "      <td>21</td>\n",
       "      <td>0.418738</td>\n",
       "      <td>1.000000</td>\n",
       "      <td>1.000000</td>\n",
       "    </tr>\n",
       "    <tr>\n",
       "      <th>37</th>\n",
       "      <td>37</td>\n",
       "      <td>features_0</td>\n",
       "      <td>0</td>\n",
       "      <td>37</td>\n",
       "      <td>0.541165</td>\n",
       "      <td>0.384474</td>\n",
       "      <td>0.514951</td>\n",
       "    </tr>\n",
       "    <tr>\n",
       "      <th>75</th>\n",
       "      <td>75</td>\n",
       "      <td>features_3</td>\n",
       "      <td>1</td>\n",
       "      <td>11</td>\n",
       "      <td>0.262501</td>\n",
       "      <td>1.000000</td>\n",
       "      <td>1.000000</td>\n",
       "    </tr>\n",
       "    <tr>\n",
       "      <th>198</th>\n",
       "      <td>198</td>\n",
       "      <td>features_3</td>\n",
       "      <td>1</td>\n",
       "      <td>134</td>\n",
       "      <td>0.572941</td>\n",
       "      <td>0.347770</td>\n",
       "      <td>0.400769</td>\n",
       "    </tr>\n",
       "    <tr>\n",
       "      <th>244</th>\n",
       "      <td>244</td>\n",
       "      <td>features_3</td>\n",
       "      <td>1</td>\n",
       "      <td>180</td>\n",
       "      <td>0.277107</td>\n",
       "      <td>0.342456</td>\n",
       "      <td>0.397590</td>\n",
       "    </tr>\n",
       "    <tr>\n",
       "      <th>435</th>\n",
       "      <td>435</td>\n",
       "      <td>features_6</td>\n",
       "      <td>2</td>\n",
       "      <td>179</td>\n",
       "      <td>0.244534</td>\n",
       "      <td>1.000000</td>\n",
       "      <td>1.000000</td>\n",
       "    </tr>\n",
       "  </tbody>\n",
       "</table>\n",
       "</div>"
      ],
      "text/plain": [
       "    node_num  layer_name layer node_num_by_layer  act_rank  grad_rank  \\\n",
       "21        21  features_0     0                21  0.418738   1.000000   \n",
       "37        37  features_0     0                37  0.541165   0.384474   \n",
       "75        75  features_3     1                11  0.262501   1.000000   \n",
       "198      198  features_3     1               134  0.572941   0.347770   \n",
       "244      244  features_3     1               180  0.277107   0.342456   \n",
       "435      435  features_6     2               179  0.244534   1.000000   \n",
       "\n",
       "     actxgrad_rank  \n",
       "21        1.000000  \n",
       "37        0.514951  \n",
       "75        1.000000  \n",
       "198       0.400769  \n",
       "244       0.397590  \n",
       "435       1.000000  "
      ]
     },
     "execution_count": 8,
     "metadata": {},
     "output_type": "execute_result"
    }
   ],
   "source": [
    "subgraph_dict['node_df']"
   ]
  },
  {
   "cell_type": "code",
   "execution_count": 9,
   "metadata": {},
   "outputs": [
    {
     "data": {
      "text/plain": [
       "[21, 37]"
      ]
     },
     "execution_count": 9,
     "metadata": {},
     "output_type": "execute_result"
    }
   ],
   "source": [
    "list(subgraph_dict['node_df'].loc[subgraph_dict['node_df']['layer']==0]['node_num'])"
   ]
  },
  {
   "cell_type": "code",
   "execution_count": 11,
   "metadata": {},
   "outputs": [],
   "source": [
    "def minmax_normalize_between_values(vec,min_v,max_v):\n",
    "    return (max_v-min_v)*(vec-np.min(vec))/(np.max(vec)-np.min(vec))+min_v\n",
    "    \n",
    "\n",
    "    \n",
    "    \n",
    "    \n",
    "def edge_width_scaling(x):\n",
    "    #return max(.4,(x*10)**1.7)\n",
    "    return max(.5,np.exp(1.5*x))\n",
    "    \n",
    "def subgraph_2_2d_circuit(subgraph_dict,params,rank_type = 'actxgrad_rank', num_hoverpoints=4,min_w=4,max_w=10):\n",
    "    layer_offset = 5\n",
    "    vert_offset = 1\n",
    "    rank = 'actxgrad_rank'\n",
    "    pos_dict_nodes = {}\n",
    "    imgnode_positions = {'X':[-layer_offset,-layer_offset,-layer_offset],'Y':[2,0,-2]}\n",
    "    #add img nodes\n",
    "    imgnode_trace=go.Scatter(x=imgnode_positions['X'],\n",
    "           y=imgnode_positions['Y'],\n",
    "           mode='markers',\n",
    "           name='image channels',\n",
    "           marker=dict(symbol='square',\n",
    "                         size=8,\n",
    "                         opacity=.99,\n",
    "                         color=params['imgnode_colors'],\n",
    "                         #colorscale='Viridis',\n",
    "                         line=dict(color='rgb(50,50,50)', width=.5)\n",
    "                         ),\n",
    "           text=params['imgnode_names'],\n",
    "           hoverinfo='text'\n",
    "           )\n",
    "\n",
    "    imgnode_traces = [imgnode_trace]\n",
    "\n",
    "    node_traces = []\n",
    "    for layer in list(subgraph_dict['node_df']['layer'].unique()):\n",
    "        #add nodes\n",
    "\n",
    "        within_layer_ids = list(subgraph_dict['node_df'].loc[subgraph_dict['node_df']['layer']==layer]['node_num_by_layer'])\n",
    "        scores = list(subgraph_dict['node_df'].loc[subgraph_dict['node_df']['layer']==layer][rank])\n",
    "        ids = list(subgraph_dict['node_df'].loc[subgraph_dict['node_df']['layer']==layer]['node_num'])\n",
    "        #print(np.dstack((ids,within_layer_ids,scores)).shape)\n",
    "        #print(np.dstack((ids,within_layer_ids,scores)))\n",
    "        # hovertext = ['<b>%{id}</b>' +\n",
    "        # \t\t\t'<br><i>layerwise ID</i>: %{within_layer_id}'+\n",
    "        # \t\t\t'<br><i>Score</i>: %{score}<br>'\n",
    "        # \t\t\t for id, within_layer_id, score in\n",
    "        # \t\t\t zip(ids, within_layer_ids, scores)]\n",
    "        #print(hovertext) \n",
    "        x_positions = []\n",
    "        y_positions = []\n",
    "        y_adjustment = (len(within_layer_ids)-1)/2*vert_offset\n",
    "        for i in range(len(within_layer_ids)):\n",
    "            x_positions.append(layer*layer_offset)\n",
    "            y_positions.append(i*vert_offset-y_adjustment)\n",
    "        node_trace=go.Scatter(x=x_positions,\n",
    "                   y=y_positions,\n",
    "                   mode='markers',\n",
    "                   name=list(subgraph_dict['node_df'].loc[subgraph_dict['node_df']['layer']==layer]['layer_name'].unique())[0],\n",
    "                   marker=dict(symbol='circle',\n",
    "                                 size=6,\n",
    "                                 color='rgba(50,50,50,0)',\n",
    "                                 opacity=0,\n",
    "                                 #colorscale='Viridis',\n",
    "                                 line=dict(color='rgba(50,50,50,0)', width=.5)\n",
    "                                 ),\n",
    "                   text=ids,\n",
    "                   #customdata = np.dstack((ids,within_layer_ids,scores)),\n",
    "                   customdata = np.stack((ids,within_layer_ids,scores),axis=-1),\n",
    "                   hovertemplate =\t'<b>%{customdata[0]}</b>' +\n",
    "                            '<br><i>layerwise ID</i>: %{customdata[1]}'+\n",
    "                            '<br><i>Score</i>: %{customdata[2]:.3f}<br>'\n",
    "                   #hoverinfo='text'\n",
    "                   )\n",
    "\n",
    "        node_traces.append(node_trace)\n",
    "        pos_dict_nodes[layer] = {'name':ids,'X':x_positions,'Y':y_positions}\n",
    "        \n",
    "    edge_df =  minmax_normalize_ranks_df(subgraph_dict['edge_df'],params)\n",
    "    edge_traces = []\n",
    "    pos_dict_edges = {}\n",
    "    for layer in list(edge_df['layer'].unique()):  \n",
    "        pos_dict_edges[layer] = {'name':[],'X':[],'Y':[]}\n",
    "        legendgroup = layernum2name(layer ,title = 'edges')\n",
    "        \n",
    "        #edge_widths = []\n",
    "        #names = []\n",
    "        #colors = []\n",
    "        for row in edge_df.loc[edge_df['layer']==layer].itertuples():\n",
    "            showlegend = False\n",
    "            if getattr(row, rank_type) > .999:\n",
    "                showlegend = True\n",
    "            #positions\n",
    "            edge_positions = {'X':[],'Y':[]}\n",
    "            for dim in ['X','Y']:\n",
    "                end_pos = pos_dict_nodes[layer][dim][pos_dict_nodes[layer]['name'].index(params['layer_nodes'][layer][1][row.out_channel])]\n",
    "                if layer != 0:\n",
    "                    start_pos = pos_dict_nodes[layer-1][dim][pos_dict_nodes[layer-1]['name'].index(params['layer_nodes'][layer-1][1][row.in_channel])]\n",
    "                else:\n",
    "                    start_pos = imgnode_positions[dim][row.in_channel]\n",
    "\n",
    "                step = (end_pos-start_pos)/(num_hoverpoints+1)\n",
    "                points = [start_pos]\n",
    "                for i in range(1,num_hoverpoints+1):\n",
    "                    points.append(start_pos+i*step)\n",
    "                points.append(end_pos)\n",
    "                edge_positions[dim]=points\n",
    "            #widths\n",
    "            edge_width = edge_width_scaling(getattr(row, rank_type))\n",
    "            #edge_widths.append(edge_width_scaling(getattr(row, rank_type)))\n",
    "            #names\n",
    "            out_node = params['layer_nodes'][row.layer][1][row.out_channel]\n",
    "            if row.layer != 0:\n",
    "                in_node = params['layer_nodes'][row.layer-1][1][row.in_channel]\n",
    "            else:\n",
    "                in_node = params['imgnode_names'][row.in_channel]\n",
    "            #names.append(str(in_node)+'-'+str(out_node))\n",
    "            edge_name = str(in_node)+'-'+str(out_node)\n",
    "            #color\n",
    "            if kernel_colors is None:\n",
    "                alpha = edge_color_scaling(getattr(row, rank_type))\n",
    "                #colors.append(params['layer_colors'][layer%len(params['layer_colors'])]+str(round(alpha,3))+')')\n",
    "                edge_color = params['layer_colors'][layer%len(params['layer_colors'])]+str(round(alpha,3))+')'\n",
    "            else:\n",
    "                #colors.append(color_vec_2_str(kernel_colors[int(layer)][int(row.out_channel)][int(row.in_channel)]))\n",
    "                edge_color = color_vec_2_str(kernel_colors[int(layer)][int(row.out_channel)][int(row.in_channel)])\n",
    "            edge_trace=go.Scatter(x=edge_positions['X'],\n",
    "                            y=edge_positions['Y'],\n",
    "                            legendgroup=legendgroup,\n",
    "                            showlegend=showlegend,\n",
    "                            name=params['layer_nodes'][layer][0],\n",
    "                            mode='lines',\n",
    "                            #line=dict(color=edge_colors_dict[layer], width=1.5),\n",
    "                            line=dict(color=edge_color, width=edge_width),\n",
    "                            text = edge_name,\n",
    "                            hoverinfo='text'\n",
    "                            )\n",
    "            edge_traces.append(edge_trace)\n",
    "            pos_dict_edges[layer]['name'].append(edge_name)\n",
    "            pos_dict_edges[layer]['X'].append(edge_positions['X'])\n",
    "            pos_dict_edges[layer]['Y'].append(edge_positions['Y'])\n",
    "    #trace just for storing data\n",
    "    misc_trace=go.Scatter(x=[-layer_offset-.5],\n",
    "                y=[-2.5],\n",
    "                showlegend=False,\n",
    "                name='misc',\n",
    "                mode='markers',\n",
    "                marker=dict(symbol='circle',\n",
    "                 size=6,\n",
    "                 color='rgba(255,255,255,0)',\n",
    "                 opacity=0,\n",
    "                 #colorscale='Viridis',\n",
    "                 line=dict(color='rgba(255,255,255,0)', width=.5)\n",
    "                 ),\n",
    "\n",
    "                text = 'full', #text info storing full or partial graph\n",
    "                hoverinfo='skip'\n",
    "                )\n",
    "    combined_traces = imgnode_traces+node_traces+edge_traces+[misc_trace]\n",
    "    return combined_traces, pos_dict_nodes, pos_dict_edges\n",
    "\n",
    "\n",
    "\n",
    "def circuit2d_curve_2_id(curve_num,point_num,subgraph_dict,params):\n",
    "    if curve_num == 0:\n",
    "        imgnode_dict = {0:'r',1:'g',2:'b'}\n",
    "        return imgnode_dict[point_num]\n",
    "    elif curve_num <= len(subgraph_dict['node_df']['layer'].unique()):\n",
    "        layer = curve_num-1\n",
    "        return str(subgraph_dict['node_df'].loc[subgraph_dict['node_df']['layer']==layer].iloc[point_num]['node_num'])\n",
    "    else:\n",
    "        edge_row_idx = curve_num - 1 - len(subgraph_dict['node_df']['layer'].unique())\n",
    "        row = subgraph_dict['edge_df'].iloc[edge_row_idx]\n",
    "        if row['layer'] != 0:\n",
    "            in_node = params['layer_nodes'][row['layer']-1][1][row['in_channel']]\n",
    "        else:\n",
    "            in_node = params['imgnode_names'][row['in_channel']]\n",
    "        out_node = params['layer_nodes'][row['layer']][1][row['out_channel']]\n",
    "        return str(in_node)+'-'+str(out_node)\n",
    "    "
   ]
  },
  {
   "cell_type": "code",
   "execution_count": 12,
   "metadata": {},
   "outputs": [
    {
     "name": "stdout",
     "output_type": "stream",
     "text": [
      "[[1.00000000e+04 1.00000000e+00 2.23606798e+00]\n",
      " [1.00000000e+04 1.00000000e+04 2.00000000e+00]\n",
      " [1.00000000e+04 1.00000000e+04 1.00000000e+04]]\n"
     ]
    },
    {
     "data": {
      "text/plain": [
       "1.0"
      ]
     },
     "execution_count": 12,
     "metadata": {},
     "output_type": "execute_result"
    }
   ],
   "source": [
    "from scipy.spatial import distance_matrix\n",
    "\n",
    "def min_distance(x,y,minimum=1):\n",
    "    dist = np.linalg.norm(x-y)\n",
    "    if dist > minimum:\n",
    "        return dist,True\n",
    "    else:\n",
    "        return dist,False\n",
    "    \n",
    "    \n",
    "def multipoint_min_distance(points):   #takes numpy array of shape (# points, # dimensions)\n",
    "    dist_mat = distance_matrix(points,points)\n",
    "    dist_mat[np.tril_indices(dist_mat.shape[0], 0)] = 10000\n",
    "    print(dist_mat)\n",
    "    return np.min(dist_mat)\n",
    "\n",
    "\n",
    "points = np.array([[1,1],\n",
    "                   [1,2],\n",
    "                   [3,2]])\n",
    "\n",
    "multipoint_min_distance(points)\n"
   ]
  },
  {
   "cell_type": "code",
   "execution_count": 82,
   "metadata": {},
   "outputs": [
    {
     "data": {
      "text/plain": [
       "(3, 2)"
      ]
     },
     "execution_count": 82,
     "metadata": {},
     "output_type": "execute_result"
    }
   ],
   "source": [
    "points.shape"
   ]
  },
  {
   "cell_type": "code",
   "execution_count": 13,
   "metadata": {},
   "outputs": [],
   "source": [
    "def gen_kernel_img(edge_name,kernels,params):\n",
    "    kernel,inmap,outmap = edgename_2_edge_figures(edge_name, None, kernels, None,params)\n",
    "    if kernel is not None:\n",
    "        fig =  go.Figure(data=go.Heatmap(z = kernel,\n",
    "                                         colorscale='RdBu',\n",
    "                                         reversescale=True,\n",
    "                                         zmid=0,\n",
    "                                         #zmin=-.5,\n",
    "                                         #zmax=.5,\n",
    "                                        showscale=False),\n",
    "                         layout=kernel_layout)\n",
    "        fig.update(layout_showlegend=False)\n",
    "        img_file_path = './prepped_models/%s//visualizations/images/kernels/%s.jpg'%(prepped_model_folder,str(edge_name))\n",
    "        if not os.path.exists(img_file_path):\n",
    "            fig.write_image(img_file_path)\n"
   ]
  },
  {
   "cell_type": "code",
   "execution_count": 14,
   "metadata": {},
   "outputs": [],
   "source": [
    "circuit_layout = go.Layout(\n",
    "         #title=\"%s through Prunned Cifar10 CNN\"%target_category,\n",
    "         #title = target_category,\n",
    "         #width=1000,\n",
    "         clickmode = 'event+select',\n",
    "         transition = {'duration': 20},\n",
    "         height=1300,\n",
    "         #showlegend=False,\n",
    "         margin = dict(l=20, r=20, t=20, b=20),  \n",
    "         #hovermode='closest',\n",
    "         paper_bgcolor='rgba(0,0,0,0)',\n",
    "         plot_bgcolor='rgba(0,0,0,0)',\n",
    "         xaxis=dict(showline=False,showgrid=False,showticklabels=False),\n",
    "         yaxis=dict(showline=False,showgrid=False,showticklabels=False))\n",
    "\n",
    "\n",
    "kernel_layout = go.Layout(\n",
    "    #title='kernel'\n",
    "    #autosize=False,\n",
    "    width=50,\n",
    "    height=50,\n",
    "    uirevision = True,\n",
    "    margin=dict(\n",
    "        l=1,\n",
    "        r=1,\n",
    "        b=1,\n",
    "        t=1,\n",
    "        pad=1\n",
    "    ),\n",
    "    xaxis=dict(showline=False,showgrid=False,showticklabels=False),\n",
    "    yaxis=dict(showline=False,showgrid=False,showticklabels=False))"
   ]
  },
  {
   "cell_type": "code",
   "execution_count": null,
   "metadata": {},
   "outputs": [],
   "source": []
  },
  {
   "cell_type": "code",
   "execution_count": 15,
   "metadata": {},
   "outputs": [],
   "source": [
    "gen_kernel_img('r-22',kernels,params)"
   ]
  },
  {
   "cell_type": "code",
   "execution_count": 24,
   "metadata": {},
   "outputs": [],
   "source": [
    "#subgraph_name = '698_0.20.6.pt'\n",
    "#subgraph_name = '837_0.20.6.pt'\n",
    "subgraph_name = '99_0.40.7.pt'\n",
    "subgraph_dict = torch.load('/mnt/data/chris/dropbox/Research-Hamblin/Projects/cnn_subgraph_visualizer/prepped_models/alexnet_sparse/subgraphs/models/%s'%subgraph_name)"
   ]
  },
  {
   "cell_type": "code",
   "execution_count": 25,
   "metadata": {},
   "outputs": [],
   "source": [
    "circuit_traces,pos_dict_nodes,pos_dict_edges = subgraph_2_2d_circuit(subgraph_dict,params)\n",
    "circuit_fig=go.Figure(data=circuit_traces, layout=circuit_layout)"
   ]
  },
  {
   "cell_type": "code",
   "execution_count": 26,
   "metadata": {},
   "outputs": [
    {
     "data": {
      "application/vnd.plotly.v1+json": {
       "config": {
        "plotlyServerURL": "https://plot.ly"
       },
       "data": [
        {
         "hoverinfo": "text",
         "marker": {
          "color": [
           "rgba(255,0,0,.7)",
           "rgba(0,255,0,.7)",
           "rgba(0,0,255,.7)"
          ],
          "line": {
           "color": "rgb(50,50,50)",
           "width": 0.5
          },
          "opacity": 0.99,
          "size": 8,
          "symbol": "square"
         },
         "mode": "markers",
         "name": "image channels",
         "text": [
          "r",
          "g",
          "b"
         ],
         "type": "scatter",
         "x": [
          -5,
          -5,
          -5
         ],
         "y": [
          2,
          0,
          -2
         ]
        },
        {
         "customdata": [
          [
           50,
           50,
           1
          ],
          [
           56,
           56,
           0.5265068603794981
          ],
          [
           38,
           38,
           0.3896398925434926
          ],
          [
           47,
           47,
           0.3756413754212973
          ],
          [
           28,
           28,
           0.2990399977967611
          ],
          [
           43,
           43,
           0.29424985266743325
          ],
          [
           34,
           34,
           0.2940277215832711
          ],
          [
           49,
           49,
           0.27671341424294904
          ]
         ],
         "hovertemplate": "<b>%{customdata[0]}</b><br><i>layerwise ID</i>: %{customdata[1]}<br><i>Score</i>: %{customdata[2]:.3f}<br>",
         "marker": {
          "color": "rgba(50,50,50,0)",
          "line": {
           "color": "rgba(50,50,50,0)",
           "width": 0.5
          },
          "opacity": 0,
          "size": 6,
          "symbol": "circle"
         },
         "mode": "markers",
         "name": "features_0",
         "text": [
          "50",
          "56",
          "38",
          "47",
          "28",
          "43",
          "34",
          "49"
         ],
         "type": "scatter",
         "x": [
          0,
          0,
          0,
          0,
          0,
          0,
          0,
          0
         ],
         "y": [
          -3.5,
          -2.5,
          -1.5,
          -0.5,
          0.5,
          1.5,
          2.5,
          3.5
         ]
        },
        {
         "customdata": [
          [
           99,
           35,
           1
          ]
         ],
         "hovertemplate": "<b>%{customdata[0]}</b><br><i>layerwise ID</i>: %{customdata[1]}<br><i>Score</i>: %{customdata[2]:.3f}<br>",
         "marker": {
          "color": "rgba(50,50,50,0)",
          "line": {
           "color": "rgba(50,50,50,0)",
           "width": 0.5
          },
          "opacity": 0,
          "size": 6,
          "symbol": "circle"
         },
         "mode": "markers",
         "name": "features_3",
         "text": [
          "99"
         ],
         "type": "scatter",
         "x": [
          5
         ],
         "y": [
          0
         ]
        },
        {
         "hoverinfo": "text",
         "legendgroup": "edges 1",
         "line": {
          "color": "rgba(161,165,170,1)",
          "width": 1.236209478547574
         },
         "mode": "lines",
         "name": "features_0",
         "showlegend": false,
         "text": "g-28",
         "type": "scatter",
         "x": [
          -5,
          -4,
          -3,
          -2,
          -1,
          0
         ],
         "y": [
          0,
          0.1,
          0.2,
          0.30000000000000004,
          0.4,
          0.5
         ]
        },
        {
         "hoverinfo": "text",
         "legendgroup": "edges 1",
         "line": {
          "color": "rgba(161,165,170,1)",
          "width": 1.0987028825987177
         },
         "mode": "lines",
         "name": "features_0",
         "showlegend": false,
         "text": "r-28",
         "type": "scatter",
         "x": [
          -5,
          -4,
          -3,
          -2,
          -1,
          0
         ],
         "y": [
          2,
          1.7,
          1.4,
          1.1,
          0.8,
          0.5
         ]
        },
        {
         "hoverinfo": "text",
         "legendgroup": "edges 1",
         "line": {
          "color": "rgba(161,165,170,1)",
          "width": 1.1987409144934482
         },
         "mode": "lines",
         "name": "features_0",
         "showlegend": false,
         "text": "g-34",
         "type": "scatter",
         "x": [
          -5,
          -4,
          -3,
          -2,
          -1,
          0
         ],
         "y": [
          0,
          0.5,
          1,
          1.5,
          2,
          2.5
         ]
        },
        {
         "hoverinfo": "text",
         "legendgroup": "edges 1",
         "line": {
          "color": "rgba(161,165,170,1)",
          "width": 1.1590899682735678
         },
         "mode": "lines",
         "name": "features_0",
         "showlegend": false,
         "text": "r-34",
         "type": "scatter",
         "x": [
          -5,
          -4,
          -3,
          -2,
          -1,
          0
         ],
         "y": [
          2,
          2.1,
          2.2,
          2.3,
          2.4,
          2.5
         ]
        },
        {
         "hoverinfo": "text",
         "legendgroup": "edges 1",
         "line": {
          "color": "rgba(162,166,170,1)",
          "width": 4.4816890703380645
         },
         "mode": "lines",
         "name": "features_0",
         "showlegend": true,
         "text": "b-38",
         "type": "scatter",
         "x": [
          -5,
          -4,
          -3,
          -2,
          -1,
          0
         ],
         "y": [
          -2,
          -1.9,
          -1.8,
          -1.7,
          -1.6,
          -1.5
         ]
        },
        {
         "hoverinfo": "text",
         "legendgroup": "edges 1",
         "line": {
          "color": "rgba(160,165,170,1)",
          "width": 2.5961354476660823
         },
         "mode": "lines",
         "name": "features_0",
         "showlegend": false,
         "text": "r-38",
         "type": "scatter",
         "x": [
          -5,
          -4,
          -3,
          -2,
          -1,
          0
         ],
         "y": [
          2,
          1.3,
          0.6000000000000001,
          -0.09999999999999964,
          -0.7999999999999998,
          -1.5
         ]
        },
        {
         "hoverinfo": "text",
         "legendgroup": "edges 1",
         "line": {
          "color": "rgba(161,165,170,1)",
          "width": 1.285653946952783
         },
         "mode": "lines",
         "name": "features_0",
         "showlegend": false,
         "text": "b-43",
         "type": "scatter",
         "x": [
          -5,
          -4,
          -3,
          -2,
          -1,
          0
         ],
         "y": [
          -2,
          -1.3,
          -0.6000000000000001,
          0.09999999999999964,
          0.7999999999999998,
          1.5
         ]
        },
        {
         "hoverinfo": "text",
         "legendgroup": "edges 1",
         "line": {
          "color": "rgba(159,164,170,1)",
          "width": 1
         },
         "mode": "lines",
         "name": "features_0",
         "showlegend": false,
         "text": "g-43",
         "type": "scatter",
         "x": [
          -5,
          -4,
          -3,
          -2,
          -1,
          0
         ],
         "y": [
          0,
          0.3,
          0.6,
          0.8999999999999999,
          1.2,
          1.5
         ]
        },
        {
         "hoverinfo": "text",
         "legendgroup": "edges 1",
         "line": {
          "color": "rgba(163,166,170,1)",
          "width": 1.4116446805141034
         },
         "mode": "lines",
         "name": "features_0",
         "showlegend": false,
         "text": "b-47",
         "type": "scatter",
         "x": [
          -5,
          -4,
          -3,
          -2,
          -1,
          0
         ],
         "y": [
          -2,
          -1.7,
          -1.4,
          -1.1,
          -0.8,
          -0.5
         ]
        },
        {
         "hoverinfo": "text",
         "legendgroup": "edges 1",
         "line": {
          "color": "rgba(157,163,170,1)",
          "width": 1.1448423041328732
         },
         "mode": "lines",
         "name": "features_0",
         "showlegend": false,
         "text": "g-47",
         "type": "scatter",
         "x": [
          -5,
          -4,
          -3,
          -2,
          -1,
          0
         ],
         "y": [
          0,
          -0.1,
          -0.2,
          -0.30000000000000004,
          -0.4,
          -0.5
         ]
        },
        {
         "hoverinfo": "text",
         "legendgroup": "edges 1",
         "line": {
          "color": "rgba(161,165,170,1)",
          "width": 2.558345145949038
         },
         "mode": "lines",
         "name": "features_0",
         "showlegend": false,
         "text": "r-49",
         "type": "scatter",
         "x": [
          -5,
          -4,
          -3,
          -2,
          -1,
          0
         ],
         "y": [
          2,
          2.3,
          2.6,
          2.9,
          3.2,
          3.5
         ]
        },
        {
         "hoverinfo": "text",
         "legendgroup": "edges 1",
         "line": {
          "color": "rgba(161,165,170,1)",
          "width": 2.3060749814948935
         },
         "mode": "lines",
         "name": "features_0",
         "showlegend": false,
         "text": "b-49",
         "type": "scatter",
         "x": [
          -5,
          -4,
          -3,
          -2,
          -1,
          0
         ],
         "y": [
          -2,
          -0.8999999999999999,
          0.20000000000000018,
          1.3000000000000003,
          2.4000000000000004,
          3.5
         ]
        },
        {
         "hoverinfo": "text",
         "legendgroup": "edges 1",
         "line": {
          "color": "rgba(161,166,170,1)",
          "width": 3.9402088290895163
         },
         "mode": "lines",
         "name": "features_0",
         "showlegend": false,
         "text": "r-50",
         "type": "scatter",
         "x": [
          -5,
          -4,
          -3,
          -2,
          -1,
          0
         ],
         "y": [
          2,
          0.8999999999999999,
          -0.20000000000000018,
          -1.3000000000000003,
          -2.4000000000000004,
          -3.5
         ]
        },
        {
         "hoverinfo": "text",
         "legendgroup": "edges 1",
         "line": {
          "color": "rgba(160,165,170,1)",
          "width": 2.8024838382071366
         },
         "mode": "lines",
         "name": "features_0",
         "showlegend": false,
         "text": "g-50",
         "type": "scatter",
         "x": [
          -5,
          -4,
          -3,
          -2,
          -1,
          0
         ],
         "y": [
          0,
          -0.7,
          -1.4,
          -2.0999999999999996,
          -2.8,
          -3.5
         ]
        },
        {
         "hoverinfo": "text",
         "legendgroup": "edges 1",
         "line": {
          "color": "rgba(161,165,170,1)",
          "width": 3.5120668172840643
         },
         "mode": "lines",
         "name": "features_0",
         "showlegend": false,
         "text": "r-56",
         "type": "scatter",
         "x": [
          -5,
          -4,
          -3,
          -2,
          -1,
          0
         ],
         "y": [
          2,
          1.1,
          0.19999999999999996,
          -0.7000000000000002,
          -1.6,
          -2.5
         ]
        },
        {
         "hoverinfo": "text",
         "legendgroup": "edges 1",
         "line": {
          "color": "rgba(164,167,170,1)",
          "width": 1.6566728339738033
         },
         "mode": "lines",
         "name": "features_0",
         "showlegend": false,
         "text": "g-56",
         "type": "scatter",
         "x": [
          -5,
          -4,
          -3,
          -2,
          -1,
          0
         ],
         "y": [
          0,
          -0.5,
          -1,
          -1.5,
          -2,
          -2.5
         ]
        },
        {
         "hoverinfo": "text",
         "legendgroup": "edges 1",
         "line": {
          "color": "rgba(159,165,170,1)",
          "width": 1.6228340006284157
         },
         "mode": "lines",
         "name": "features_0",
         "showlegend": false,
         "text": "b-56",
         "type": "scatter",
         "x": [
          -5,
          -4,
          -3,
          -2,
          -1,
          0
         ],
         "y": [
          -2,
          -2.1,
          -2.2,
          -2.3,
          -2.4,
          -2.5
         ]
        },
        {
         "hoverinfo": "text",
         "legendgroup": "edges 2",
         "line": {
          "color": "rgba(190,32,47,1)",
          "width": 4.4816890703380645
         },
         "mode": "lines",
         "name": "features_3",
         "showlegend": true,
         "text": "50-99",
         "type": "scatter",
         "x": [
          0,
          1,
          2,
          3,
          4,
          5
         ],
         "y": [
          -3.5,
          -2.8,
          -2.1,
          -1.4000000000000004,
          -0.7000000000000002,
          0
         ]
        },
        {
         "hoverinfo": "text",
         "legendgroup": "edges 2",
         "line": {
          "color": "rgba(42,104,168,1)",
          "width": 1.673993224765754
         },
         "mode": "lines",
         "name": "features_3",
         "showlegend": false,
         "text": "56-99",
         "type": "scatter",
         "x": [
          0,
          1,
          2,
          3,
          4,
          5
         ],
         "y": [
          -2.5,
          -2,
          -1.5,
          -1,
          -0.5,
          0
         ]
        },
        {
         "hoverinfo": "text",
         "legendgroup": "edges 2",
         "line": {
          "color": "rgba(180,100,108,1)",
          "width": 1.3112195804637294
         },
         "mode": "lines",
         "name": "features_3",
         "showlegend": false,
         "text": "47-99",
         "type": "scatter",
         "x": [
          0,
          1,
          2,
          3,
          4,
          5
         ],
         "y": [
          -0.5,
          -0.4,
          -0.3,
          -0.19999999999999996,
          -0.09999999999999998,
          0
         ]
        },
        {
         "hoverinfo": "text",
         "legendgroup": "edges 2",
         "line": {
          "color": "rgba(55,111,169,1)",
          "width": 1.2635359827759465
         },
         "mode": "lines",
         "name": "features_3",
         "showlegend": false,
         "text": "38-99",
         "type": "scatter",
         "x": [
          0,
          1,
          2,
          3,
          4,
          5
         ],
         "y": [
          -1.5,
          -1.2,
          -0.9,
          -0.6000000000000001,
          -0.30000000000000004,
          0
         ]
        },
        {
         "hoverinfo": "text",
         "legendgroup": "edges 2",
         "line": {
          "color": "rgba(55,110,169,1)",
          "width": 1.0425987689773017
         },
         "mode": "lines",
         "name": "features_3",
         "showlegend": false,
         "text": "28-99",
         "type": "scatter",
         "x": [
          0,
          1,
          2,
          3,
          4,
          5
         ],
         "y": [
          0.5,
          0.4,
          0.3,
          0.19999999999999996,
          0.09999999999999998,
          0
         ]
        },
        {
         "hoverinfo": "text",
         "legendgroup": "edges 2",
         "line": {
          "color": "rgba(46,106,168,1)",
          "width": 1.031425342262482
         },
         "mode": "lines",
         "name": "features_3",
         "showlegend": false,
         "text": "34-99",
         "type": "scatter",
         "x": [
          0,
          1,
          2,
          3,
          4,
          5
         ],
         "y": [
          2.5,
          2,
          1.5,
          1,
          0.5,
          0
         ]
        },
        {
         "hoverinfo": "text",
         "legendgroup": "edges 2",
         "line": {
          "color": "rgba(34,99,168,1)",
          "width": 1.0306728378907652
         },
         "mode": "lines",
         "name": "features_3",
         "showlegend": false,
         "text": "43-99",
         "type": "scatter",
         "x": [
          0,
          1,
          2,
          3,
          4,
          5
         ],
         "y": [
          1.5,
          1.2,
          0.9,
          0.6000000000000001,
          0.30000000000000004,
          0
         ]
        },
        {
         "hoverinfo": "text",
         "legendgroup": "edges 2",
         "line": {
          "color": "rgba(54,110,169,1)",
          "width": 1
         },
         "mode": "lines",
         "name": "features_3",
         "showlegend": false,
         "text": "49-99",
         "type": "scatter",
         "x": [
          0,
          1,
          2,
          3,
          4,
          5
         ],
         "y": [
          3.5,
          2.8,
          2.1,
          1.4000000000000004,
          0.7000000000000002,
          0
         ]
        },
        {
         "hoverinfo": "skip",
         "marker": {
          "color": "rgba(255,255,255,0)",
          "line": {
           "color": "rgba(255,255,255,0)",
           "width": 0.5
          },
          "opacity": 0,
          "size": 6,
          "symbol": "circle"
         },
         "mode": "markers",
         "name": "misc",
         "showlegend": false,
         "text": "full",
         "type": "scatter",
         "x": [
          -5.5
         ],
         "y": [
          -2.5
         ]
        }
       ],
       "layout": {
        "clickmode": "event+select",
        "height": 1300,
        "images": [
         {
          "name": "50",
          "sizex": 1,
          "sizey": 1,
          "source": "data:image/jpg;base64,/9j/4AAQSkZJRgABAQAAAQABAAD/2wBDAAgGBgcGBQgHBwcJCQgKDBQNDAsLDBkSEw8UHRofHh0aHBwgJC4nICIsIxwcKDcpLDAxNDQ0Hyc5PTgyPC4zNDL/2wBDAQkJCQwLDBgNDRgyIRwhMjIyMjIyMjIyMjIyMjIyMjIyMjIyMjIyMjIyMjIyMjIyMjIyMjIyMjIyMjIyMjIyMjL/wAARCADgAOADASIAAhEBAxEB/8QAHwAAAQUBAQEBAQEAAAAAAAAAAAECAwQFBgcICQoL/8QAtRAAAgEDAwIEAwUFBAQAAAF9AQIDAAQRBRIhMUEGE1FhByJxFDKBkaEII0KxwRVS0fAkM2JyggkKFhcYGRolJicoKSo0NTY3ODk6Q0RFRkdISUpTVFVWV1hZWmNkZWZnaGlqc3R1dnd4eXqDhIWGh4iJipKTlJWWl5iZmqKjpKWmp6ipqrKztLW2t7i5usLDxMXGx8jJytLT1NXW19jZ2uHi4+Tl5ufo6erx8vP09fb3+Pn6/8QAHwEAAwEBAQEBAQEBAQAAAAAAAAECAwQFBgcICQoL/8QAtREAAgECBAQDBAcFBAQAAQJ3AAECAxEEBSExBhJBUQdhcRMiMoEIFEKRobHBCSMzUvAVYnLRChYkNOEl8RcYGRomJygpKjU2Nzg5OkNERUZHSElKU1RVVldYWVpjZGVmZ2hpanN0dXZ3eHl6goOEhYaHiImKkpOUlZaXmJmaoqOkpaanqKmqsrO0tba3uLm6wsPExcbHyMnK0tPU1dbX2Nna4uPk5ebn6Onq8vP09fb3+Pn6/9oADAMBAAIRAxEAPwBKKKMUAFFLiimITFLRRQAUUuKKAEopaKQCUUtJQMSkpaSgBKKWigBKMUuKMUAGKMUuKMUAJRS0YoASilxSYoAKKMUuKAEopaKAFoopcUAJS4oopiCilxRQAlGKWjFABiilxSUDEpKdSUgEpKdSUDEopaKAEpcUAU4CgBMUYp2KSgBtFLiigQ3FFLiigBKKWigBKWiigBaKKWgBKWiimIKWiigAoxS0YoASinYpKBiUlOpMUgEpKdSYoGJijFLilAoGIBT8UoWlxQAzFJTzTaBCUlLRQA3FFLRQA2ilooEJS0UUALRRRQAUtJS0xBS0UtABRiilpgJRS0UAJijFOxRikMZijFPxRikUMxTlWlC5NSolAxoWkIqYrgUwikBERTTUhFNIoEMpKdSUAJSUtJQIKSlopgJRRRQIWikpaAFooopiFpaSigBaWkopiFpRSClFMdxwpcUCnUWHcbijFOzQBmlYpAiZNWljwKfbwE84qyYsCs2y7FF1qIirci81Ay0risVyKaakYUwimBGRSGnmmmgQ2kpaSmISilNJQISilpKYgopKKAHZpabS0xC0UlLTEOpQKaKeOlMAxS9KWkJ4piuG6k30xjUEkxTgVpGFw5i2ZVUcmrFqrTSAAcVzkmpRRSgPKFb0rs/B9s2pAzLESoON4HFXUouEOZmtN3ZpW9kVjBIps8W0V07acUTpWReWxBIxXmc+pruc/IlVnFak0OKoSpimpBYpsKiIqw4FQtVXJaIzTCKeTTCaoQlNNKTTc0xC0lJmjNMQUUmaKBCUtNzS0xC0uabmimIdThTKXNMQ8GnA1HTxTEOzSE0oUmpFgZqpNEO5UkY44rE1F5EjBDEFmC/nxXYw6WZcZHWtzTvBdresPtCblyCa6KVenB3kZSUnsfOl1dSpd/vG3ruwT2NfTfwtv9K1HwlE+mW32eNHKNGZN5DAAnJ/Gsb4gfCWw1rRVfRIIbK/tlOwIuFmAB+U+hz/ABfn7eF+BvFd34A8YC4uYJ/KG63vLf7rhc88H+JSM4OOhGRnNbZhmFKvQ9nSj7y1/r9Dow91eM9D6/mUFTXO3+wE1lXHxI0J4ljtb5Z5GiEqhQRlSMjr0rJuPEIueVPB5r5hVJz15bHbGDjuWruRQTWRPOMmq1xqBfPNUHuST1rpimDsW3lqJpKqedk9aXfmtUiGyYtTd1R7qM1RDHk0mabmjNUIXNGaSjNMQZpaSigQUUUUyRaKKWmACnAUgpwNAhwFSKtRg04NQIsooq3DtFZ4epkkPrSEb9rKikV1elXUe0civPYpjkc1uWd2YkHNZyC53F3qdvbWzySt8qjJxXy34/c+K/Gl5eWVr5cPyqpMYUtgYJJHXnuecYr1/XdWY2rRhyM1wDrhmKqCzHr0rOCfPzsG7tGZ4e0JdOTzJ9pkdcEjniuriIEYwMDGKykQJjcT9KtfaTgBelauN3dm0ZWJpZB0FVncjtS+YGbmlddwFK1jS5EslToxNR7BuzUqjFBLHZpaSimIdS02lpiFopKKYhaKKKYhaKSigQ6ikopgOFKKbS0CHU4GmUuaBEgNPD4qEGlzSAtxSc1b+0lV61mq2KSWXC1LEQahcGZ8E8VnMQoyBU8hyagkFCVgSKruxbJ6VPE4I4PNV3Uk06LKmm2Wi35fNTIhApkb8VYU+tZtmiYzac0uKcTTc00NsKKSiqJFzS5ptKKAFpaSimIWlpKKYhaKSloEKKKSlpgFLSUtAhaXNNozQA7NKDTM0opASA4qGVs08niomOaQiMiomXNT4ppFIpFVo/agR45qxtpNtIYiDFShsUwClzRYBxNJmkopjuLRRS0AFAoopgLS0lLQAtFJS0xBRRRQIWikpaYC0UlFAhaWkooAWikpaQCE0ynGkpAJikxTqKBjCKTFPNJSAbSGnGm0wCiiloGFLRRQMKKKWgAoopaBBS0lLTAKKKWgQlLRRQAUUUUAFFFFMBaKKSkAUUUUAFFLSUgEpKWkoASkxS4ooGJiilxRigBKKXFFAxKWiigQUtFFMApaSloAKWiigQUUUUAFFFLigBKKXFFABSUtFACUtFLigBKSloNADaKWkoGJRRRQAlFLRQAlFLRQAUUYoxQAUUtFABRRRigBaWiigAoopcUCEopaKAEpcUUUAJilxRRigAopaKAEpKWkoGJSUtIaACkpaKACiiloASilooASilooASlxRRQAUUYpaAP/2Q==",
          "x": 0,
          "xanchor": "center",
          "xref": "x",
          "y": -3.5,
          "yanchor": "middle",
          "yref": "y"
         },
         {
          "name": "56",
          "sizex": 1,
          "sizey": 1,
          "source": "data:image/jpg;base64,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",
          "x": 0,
          "xanchor": "center",
          "xref": "x",
          "y": -2.5,
          "yanchor": "middle",
          "yref": "y"
         },
         {
          "name": "38",
          "sizex": 1,
          "sizey": 1,
          "source": "data:image/jpg;base64,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",
          "x": 0,
          "xanchor": "center",
          "xref": "x",
          "y": -1.5,
          "yanchor": "middle",
          "yref": "y"
         },
         {
          "name": "47",
          "sizex": 1,
          "sizey": 1,
          "source": "data:image/jpg;base64,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",
          "x": 0,
          "xanchor": "center",
          "xref": "x",
          "y": -0.5,
          "yanchor": "middle",
          "yref": "y"
         },
         {
          "name": "28",
          "sizex": 1,
          "sizey": 1,
          "source": "data:image/jpg;base64,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",
          "x": 0,
          "xanchor": "center",
          "xref": "x",
          "y": 0.5,
          "yanchor": "middle",
          "yref": "y"
         },
         {
          "name": "43",
          "sizex": 1,
          "sizey": 1,
          "source": "data:image/jpg;base64,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",
          "x": 0,
          "xanchor": "center",
          "xref": "x",
          "y": 1.5,
          "yanchor": "middle",
          "yref": "y"
         },
         {
          "name": "34",
          "sizex": 1,
          "sizey": 1,
          "source": "data:image/jpg;base64,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",
          "x": 0,
          "xanchor": "center",
          "xref": "x",
          "y": 2.5,
          "yanchor": "middle",
          "yref": "y"
         },
         {
          "name": "49",
          "sizex": 1,
          "sizey": 1,
          "source": "data:image/jpg;base64,/9j/4AAQSkZJRgABAQAAAQABAAD/2wBDAAgGBgcGBQgHBwcJCQgKDBQNDAsLDBkSEw8UHRofHh0aHBwgJC4nICIsIxwcKDcpLDAxNDQ0Hyc5PTgyPC4zNDL/2wBDAQkJCQwLDBgNDRgyIRwhMjIyMjIyMjIyMjIyMjIyMjIyMjIyMjIyMjIyMjIyMjIyMjIyMjIyMjIyMjIyMjIyMjL/wAARCADgAOADASIAAhEBAxEB/8QAHwAAAQUBAQEBAQEAAAAAAAAAAAECAwQFBgcICQoL/8QAtRAAAgEDAwIEAwUFBAQAAAF9AQIDAAQRBRIhMUEGE1FhByJxFDKBkaEII0KxwRVS0fAkM2JyggkKFhcYGRolJicoKSo0NTY3ODk6Q0RFRkdISUpTVFVWV1hZWmNkZWZnaGlqc3R1dnd4eXqDhIWGh4iJipKTlJWWl5iZmqKjpKWmp6ipqrKztLW2t7i5usLDxMXGx8jJytLT1NXW19jZ2uHi4+Tl5ufo6erx8vP09fb3+Pn6/8QAHwEAAwEBAQEBAQEBAQAAAAAAAAECAwQFBgcICQoL/8QAtREAAgECBAQDBAcFBAQAAQJ3AAECAxEEBSExBhJBUQdhcRMiMoEIFEKRobHBCSMzUvAVYnLRChYkNOEl8RcYGRomJygpKjU2Nzg5OkNERUZHSElKU1RVVldYWVpjZGVmZ2hpanN0dXZ3eHl6goOEhYaHiImKkpOUlZaXmJmaoqOkpaanqKmqsrO0tba3uLm6wsPExcbHyMnK0tPU1dbX2Nna4uPk5ebn6Onq8vP09fb3+Pn6/9oADAMBAAIRAxEAPwBM0tNpc1LAWlptLmpYxaKSlqWMKKKKVwCkpaSncQUlLRVJgJS0lFO4goooqkwCiiiqTAKSloqrgJRRRTuIKKKKACiiikxhS0lFQwEoooqWAuaM03NLmpYx2aKbmlBqGMdS03NLUNgLSUUUXASjNLSVSYgoooq0wCiiiqTEFFFFUmAUlLRVXAKSiimAUlLRTEFJRRSGFFFFSwCkpaSkwCkopKhjHZozTc0ZqGMkzS5qMGnZrNjH0U0GlqLgFFFFUmIKKSlq0xBRRRWiYBRRRVIQUUUVQBSUtFMBKKKKYCUUtJQAUUUUgCkpaSkAlJS0hqWMSkJpaaahgLupwaoulKGrKRRMDT81Cpp4NYSdhofSUZozSUgaCikoraMiR1FJS1qmIKKKK0QBRRRVIQUUUVQBSUtFMBKKKKAEopaSkAUGiikAhpKWkpMBtIaU0hqGMaabTzTazkhgDipA1RUCuaZSLANLmoQ1SZrlc7MqwuaM03NKDW8J3IaHUtNpa6oMkWlpKWt0IKKKKsBRRRRTASilpKACkpaKAEpKWigApKWkNIBKSnUlIBppDTjSGkxjDSGnU01DQxhphOKeajasJxGg88K2M1KJVbBU1nyDvVa4vBaxkk159aD6FJ2NsPnvT1Nc7Y67b3Nx5W8BgpYjPpXRwJ5sQlRgyHkEVhGcoS5ZDauuZDhS0EYoFevRTaMmLS0lLXWoki0UUVdgCilooGJRRRSASilpKAEopaKAEopaSgBKSloNIBppDTqQ0gGGmmnkUhpWGRmonFTEVGwqHECpLkCud1tZGtZSgJIHQV07oGqq9qpbLKGXuD3rnnRbd0Wn3D4WeA9Xi1fT/Et1BbNZAuGtbhiDLE6MpbGCP4gQDjOO3Br0q903SPD+jG2tolihiQlU3Fj+ZJJ61i23jezsNKjV4ZItsRG1VGFIwNv68duD0rzPX/FV3q9wMzSiFSdqOQzDJzywAJ7D04+tc+XcN5vneM5qv7ulF72/q/r0uXVqUqVO8Hds7FLoS54wQcVMpzXM+HZJ7iMswJQdzXSqMV9XicpeDl7N62OCFXmHinUgpwFcTp2NUwopcUlZtFBRRiipAKSlopDEopaSkAlFLSUAFBpaSgBKSlopANpKdSUANpDTqaadgGEU0ipKaRTSAhZaiIxmrBFMZc1vTgm9RNmXe2wubcoBjAJrAh0XddKJt/l552YzXXmP1H4U0wDrjmvsMrxro0/Z30OSrC7ujudUutEn0O0j06zS3WFAiKMZUAdD6/WuXB3PxVFXZV25OKtWz4+tc1ahGEGk7+pS953LYXApcUvQZNBweleHVVjZDT1padt4pMVyNFCYpKdRis2hjaSnUlSMSg0UVICUUtJQAUUYopAJSUtFADaSnUlMBtJTqSmgGmkxT6birQhpFNIqTFJit4OwmR7aNtPxS4r0KVXlIaITHk1btlCHkVFinDpjNdkq3NGxKVi3KC/3e1PhiJGSO1QRsy56nirscilBhu1ebUTbKIyoFMIqVlYnI5FIVIzXNKJSISKSpCKYaxaKG0UuKKhgNoxRRUjEooopAFFFFIBKSnUlADaKWkpgJSUtFNAJSU6kq0IbijFOpK0iwExRS4pcVvGRImKMUtLiuiMxNDkbaamQHqCeOeKgFSIcMpB5705O4jRieMLyDk9abMy/w1VDHPWl3ZrmmikKaYRTyeKaawkihtJS0VmwGmkp1JUMYlJS0UgCkpaKQxKSlopCEpKWimA2kp1JVAJRS0VSAbRiloq0xCUtFFWmIKWiitVIApQaSitFIRIGpwNRilBqGBKDRTAadmspDFNJS0lZMYhpKdTTUMYUlLRUgJRS0lIYUlLSUgCkpaKBDaKWkp3ASilpKpMAoopcVSYhKKKKpMApaSirTAKKKKtSEFKKSlqrgOBp2aYDSg1DAkzRTQaM1mxjqQ0UGoYxKKKKhgFJRRUsAooopDEooooASilpKLiCkpaKq4CYoooqkwCkpaKaYCUtFFWmIKSloqkwEoooqriClFJS0mwHZpQaZS5qWMfmim5pahgLRSUVDGFFJRUsBaSiipYwooopAFJS0UXASkpaKaYBSUUtVcQlFFFUmAUUUVSYBRRRVXEJRS0lNMAooop3AKWkopMB1Lmm0VLAdRTaWoYz/9k=",
          "x": 0,
          "xanchor": "center",
          "xref": "x",
          "y": 3.5,
          "yanchor": "middle",
          "yref": "y"
         },
         {
          "name": "99",
          "sizex": 1,
          "sizey": 1,
          "source": "data:image/jpg;base64,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",
          "x": 5,
          "xanchor": "center",
          "xref": "x",
          "y": 0,
          "yanchor": "middle",
          "yref": "y"
         },
         {
          "name": "g-28",
          "sizex": 0.5,
          "sizey": 0.5,
          "source": "data:image/jpg;base64,/9j/4AAQSkZJRgABAQAAAQABAAD/2wBDAAMCAgICAgMCAgIDAwMDBAYEBAQEBAgGBgUGCQgKCgkICQkKDA8MCgsOCwkJDRENDg8QEBEQCgwSExIQEw8QEBD/2wBDAQMDAwQDBAgEBAgQCwkLEBAQEBAQEBAQEBAQEBAQEBAQEBAQEBAQEBAQEBAQEBAQEBAQEBAQEBAQEBAQEBAQEBD/wAARCAAyADIDASIAAhEBAxEB/8QAHAAAAQUBAQEAAAAAAAAAAAAAAAMFBgcIAgEJ/8QAOxAAAQIEAwUEBwUJAAAAAAAAAQIDAAQFERITIQYHFDFBIlFhsQgVIzJScoIJM2KSoRYXNEJTVWRxkf/EABgBAAMBAQAAAAAAAAAAAAAAAAQFBgID/8QAMBEAAQMCAwQJBAMAAAAAAAAAAQACAwQFESExBjKBsQcSEzNRYXGRoRQ0UlOywfD/2gAMAwEAAhEDEQA/APpY823wjRS2kKITc256RGdsKjk0OblZRTrM2MvC6g4bdtJPaBvyuIk0wSJNrD+HyiptvK+8KrPUaWm/b+ywt5Y+FKuZFuWvOBnzmGsibjvPaPcoxlN9RQTuw3WPdl5BeUSt1IVGRlZqozbpMw2ld3lKCgVjQ3Ouhh/2tqUzL1JtEtMvtJLAJShZSL4la6GMz/vVq9O350jYp6vZYcrNNllS3CpNw6pk4cYR1x876X6Rbm+ra1ezu1MrJJqHD46eh3DlY73ccF72PwwVtnHJQMjfoHDHL/BcOjsC6TSRYYlpwz9OKuyUAbx5wC72t1t/2HRTDBGjKPyiGND5N+3+kPbTmYopSb6XjFMSYGuB8eaxVYCoc0+XJNbwAdWALAKI/WCPX9H3PnPnBDEaINLvqVwrYvoLeUZ/2hmX5vfrMUfHmNrwexSBiNpMK6a9LxfuIuoS2rkAOUUW1ItPelMEqUsA9xH9uiauWMdVC/wezmq+wNbLR1bD+mTkFjHeLXavTPtCqJs+iaLEmNr9l21MqbTcJWmSKhcjFriPXrGiPTHqs1IbzqYzTplKWzQWVEAJV2uImOpv0Aigt/8ASJaV+0Yl59tbpcY2p2XdSFEWJSxIkX05aReXpHyze0W3EjOzpUhxFKaaAa0Fg88et9e0Yo9uGukt0Ez9Oq35SzorfHBfZIcPy+FqGgzzlQz7vpey8Pu20vfu/wBRLaeol5Vz/KfMRAt2Az/WePTDk8vrib01xRfVoPcPmIU2t5koWE+fMrje4hBcntGmX8QkJj+Id+dXnBA/q+4fxnzghwNEpOqVlRgXive6YrhErbfqJ7M+m3+HbnFmMIKEpWbWKRyhgbaV+3ImLjD3dfubRPXVnaSR56Pb/aorJN2Ec+Wsbh74LIW/DZji/Soma5x2C1TpDmVlX9xiW0vfrh7on1epXrGcQ/xGXhaCLYL9Se/xicbxaDOTW309UW3GQ2VsKsonFZLSAenhEi2Oos1MUx1aHGgA+oak/Cnwik2oca+zRRDVoYPYKW2NlNs2glndoS/5PFO269zP9Z6YcOT4/HEnp8theUcd+yeniIbNjUmW4zM1xZdrfVEhYlXGVlSikgi2hhDaT1KRrcfHmVQXwCSuc8DLLkE2vCzyx3KPnBHr/wB+58584IdjRJiucxy1sxVh4xwEID3EBCc347drlbnz5QQQDUbw9Qjqbdd6FIvyEjMuqemZJh1xXvLW2FKOltSRCkvLsSiC3KstsoJxFLaQkE99hBBDCfuBwSqm+6PFdNIQzfJSG788IteFeImP67n5jBBC+m3AmtV3hXBJJJJuTzMEEEHhAlf/2Q==",
          "visible": true,
          "x": -3,
          "xanchor": "center",
          "xref": "x",
          "y": 0.2,
          "yanchor": "middle",
          "yref": "y"
         },
         {
          "name": "r-28",
          "sizex": 0.5,
          "sizey": 0.5,
          "source": "data:image/jpg;base64,/9j/4AAQSkZJRgABAQAAAQABAAD/2wBDAAMCAgICAgMCAgIDAwMDBAYEBAQEBAgGBgUGCQgKCgkICQkKDA8MCgsOCwkJDRENDg8QEBEQCgwSExIQEw8QEBD/2wBDAQMDAwQDBAgEBAgQCwkLEBAQEBAQEBAQEBAQEBAQEBAQEBAQEBAQEBAQEBAQEBAQEBAQEBAQEBAQEBAQEBAQEBD/wAARCAAyADIDASIAAhEBAxEB/8QAHAAAAQUBAQEAAAAAAAAAAAAAAAMFBgcIAgQJ/8QAQBAAAQIEAwQGBgQPAAAAAAAAAQIDAAQFERITIQYUMUEHCCJRcbEjMjRSYXIJFVOBFhgkJTNiZYKDkaG1wcLR/8QAFwEBAQEBAAAAAAAAAAAAAAAABQQGAv/EADYRAAEDAQIIDAcBAAAAAAAAAAEAAgMEBREGITFBYXGBsQcVIiQyMzRRUqGy8BIUI0JDcsGR/9oADAMBAAIRAxEAPwD6UzbSBJMqQhKVHDcgWJ0iG7X1ZaKbN02SefYnBl4XUKwgdpKj2gb8LiJbNvLVKNttquUkaW+EUttrtDOHbKcoEpOflHo8LWWPskrPaItw14xDNO6GuhaM72jRjKTp6UVVnVDrujG92nEE4USp1tFUkZebq826DMthYMwtQUCsaG510h623nqk1VmkyM/MS7Zl0kpQ6pAJxK1sPujObnSjtFTenWk7Ev13LQ5WaZLLlt1Qbh0skpxhHPHxvpflFqdNu169mtqpSRVUN2zKe27gycd7uOC98J93+kXYaxSUccTr7g4X4vYUnBwBaU0sYF5abuVq2q8HUKlrZhvi4Wh4abl1qIyEcOaREfq80UZXbtfFy8IepN67pxq0w90dRg/LtOvepZXc5c06Ny8L4AfcAAACyAB4wQTBu+4RzWfOCLW5ApzlSKlKV2Qb25CM21Kdn5zrXuUFa1OSy7egCBc2poXxAxcRfjGkZTtTK0nkD5xnVltP47STc8/7RGdtX6dVC/ue1bPBUCakrYyPwS/xZf6T67U6V9IbR9nm5sMSY2u2XbUwtCbhK0SRULkYtcR584vPro1Gek+lGltUp70JoDClYEhYxbxMcyDyAiiusFTmEfSNMVMKXmtbU7LugXGG6WJG19L2074u7rJfnvbmRmprsLRSWmwG9BYPPHnfvh/DYOks2CZ+Pkt80XwVvjgt+WEDx+S04icm6jfEsvZfupGl/AfCJbTXMb6gpQIwHzEQ3YlxUxvuMAYcu1v3ol9LQN4VqfUPmIOs6Qy2e0nTvKhtaIQ2o9oxDk+kLl79M5b3j5wQPaPOD9Y+cEKNyBHHKk6b7Y78qvMRTj0jfrOKm83u7OH9n24xd1P9A8p1eoUkjTxEQN5pT3TAX0kBJtoePstozluD4nRXeNv9WowXkMLai/PE8bllXpv2bzutFNVjfbYKlSXMvL44WJfS9+du6J9VaZ9ZzCX8/LwoCLYb8yb8R3xOekanP/hzPzeNGBJYURc3sGkfD4RIthKVMVWkPTEuttKUzKkELJBvhSeQPfGnwmc6usOGIfaGD/AFkMDpuLcJZp3HETJoynan/o/e3zf+zgwZXO974/8AkS+ktYJhRxX7B5fEQwdH5vv/APC/3iTSLakPEkj1f8iArJdzJrde8p+3GjjFzgO70heGY9od+dXnBBMe0O/OrzghkZEOVwFKHBRH3wjucpve/wC6s7z9tgGZwt63Hhp4QQQdV9JusJKg6L/1KSmaTSpx1T83TJR9xdsS3GUqUrS2pI10hWUk5SntlmQlWZZtSsRQygIBPC9hz0H8oIIVqOzDYg6bth2ruXZalMW6NIZx2xZaQm9uF7eMKh51Jul1Y8FGCCDaTqh7zpiu68+8wXJJJJJJJ1JMEEEXDIoSv//Z",
          "visible": true,
          "x": -3,
          "xanchor": "center",
          "xref": "x",
          "y": 1.4,
          "yanchor": "middle",
          "yref": "y"
         },
         {
          "name": "g-34",
          "sizex": 0.5,
          "sizey": 0.5,
          "source": "data:image/jpg;base64,/9j/4AAQSkZJRgABAQAAAQABAAD/2wBDAAMCAgICAgMCAgIDAwMDBAYEBAQEBAgGBgUGCQgKCgkICQkKDA8MCgsOCwkJDRENDg8QEBEQCgwSExIQEw8QEBD/2wBDAQMDAwQDBAgEBAgQCwkLEBAQEBAQEBAQEBAQEBAQEBAQEBAQEBAQEBAQEBAQEBAQEBAQEBAQEBAQEBAQEBAQEBD/wAARCAAyADIDASIAAhEBAxEB/8QAHQAAAQMFAQAAAAAAAAAAAAAAAAQFCAIDBgcJAf/EADsQAAECAwUDCQcBCQAAAAAAAAECAwAEEQUGEhMhBxRRFRYiMUFhYnKxCAkjMjNSoTQXJCVCRHGBkZL/xAAZAQADAQEBAAAAAAAAAAAAAAADBAUCBgD/xAAxEQABAgMFBAkFAQAAAAAAAAABAAIDBBEFBhIhMRNBUXEUMjNCYYGh0fAiNEORk7L/2gAMAwEAAhEDEQA/AOmrMuyphsllskoBJKRwizPstMyy3Q2gAU6hr1iFMuTkN+QekJLUU4qWdbSa1w6f5EZjE4HUO4rcCm0aDvITTaMyhdjTbbAUh9Uu6G3BoUqKTQ1Gooaaxjt2V2lLSDiLSnnZh0vEhRdUuicKdKq76w2Wxeh2XvGq7qZ7C4440ylnKBqVpTQYqduLj2xov2hds969k99JK7sneTkpEzZbc6WdzbfxFTrqMWIoVT6YFK9nVrDt29pa4fLsIxA7/DlUpK9MMWK6HMvBwuFcvHnQKWc8+w3gwtkVr1Ad0KmJbpnElBFOEYFtMvzY91+Tc21N23nOp8BS8WHB4TT5vzGxmUqCjiGlIiw4jjMPhOObaeoqr8WAGSkKYaPpfip5GhTW6Al1YApRRH5gj1/67nnPrBF5ugUA6p4lwN3a8ifSLEw0XHFJKCUmnZF+WHwGz4E+kVnQwi4VqEy00oeCjvfN12S2yhxw5MszPSK1rWKJQkIaKiVHqA11iGPvIr4zP7cbD5vWzLvy3NSWxKYLbqQvfJyorQ60ppE5NtNkSzAvReVC3TNStnOTKEEjLKm5YFIIpWnRFdY5tbbGU7QL1Sts2ySy+zZ7cqlMr0UFAccUCQrEa1We3hArkbZluvgMyBxnXgugvtAgzN2Yc+78ezbpxCkv7Rm1iYnOb3J977PmMG948pbC8NcmlaDTqMT5acQtVG1pUadQNY4qWXeefv3m8rsy7O44cvdkqTXHWtcRV9g4dsdjbs2i/Nz7jbiUABkq6IP3J749azYcnbceCzfg/wAj3RZeE+YudZsw/rDb1/rlmlT/ANdzzn1ggmP1DvnV6wRTboFyJ1TrK6tIHgHpF49ERYlW1BpCqihQPSKygpczSRQQk7Uo7a5LEdp9nb9cW9IzsGbY04n5a0/d1DjEZNlmxvl678xOc48jBOLbw7nirRCDWuMcYlxeKYQuxLSlwFYlyjyQeypQYx/ZrJOt2E+CpH6tR0J+xET5WMZS1GRYRzwuVyZHTLAiycYZF7D+uXuufvu+9k/LHP3+P5OTyX/S4q13rxjhE59nByLcfX81ZRQ4fzojV/soWXMXQ508pLbd3vccGQSqmHPrXEB9wjd927Pekp5brqkEFop6JNa1Hd3Q5eqUYy2zMwu8R6NaEhdO1IkxYHRY3dBoObnHgnV44nVqp1qJ/MEeOauKPiMEUG9UKY7UqoPvgAB5wAaABRgMw+dC+5/0YIICUQKhz4qVId6aViigrUEcDFMslMmgtSiQwgnEUtjCCeNB/YQQQoO3Hmnj9seYSOSsOxLNx8nWPIyuZTHkS6EYqVpWg1pU/wC4WpAQaoGE92kEEULT7UfNwUqyOwPzeV716mCCCNDRaOq//9k=",
          "visible": true,
          "x": -2,
          "xanchor": "center",
          "xref": "x",
          "y": 1.5,
          "yanchor": "middle",
          "yref": "y"
         },
         {
          "name": "r-34",
          "sizex": 0.5,
          "sizey": 0.5,
          "source": "data:image/jpg;base64,/9j/4AAQSkZJRgABAQAAAQABAAD/2wBDAAMCAgICAgMCAgIDAwMDBAYEBAQEBAgGBgUGCQgKCgkICQkKDA8MCgsOCwkJDRENDg8QEBEQCgwSExIQEw8QEBD/2wBDAQMDAwQDBAgEBAgQCwkLEBAQEBAQEBAQEBAQEBAQEBAQEBAQEBAQEBAQEBAQEBAQEBAQEBAQEBAQEBAQEBAQEBD/wAARCAAyADIDASIAAhEBAxEB/8QAHQAAAQQDAQEAAAAAAAAAAAAAAAIFBwgBBAkGA//EADoQAAECBAMFBAgDCQAAAAAAAAECAwAEERIFBhMHFCExQRUiUbEIFjIzUmFigXFy0QkjJjRDRJGhsv/EABoBAAMBAQEBAAAAAAAAAAAAAAMEBQYCAAH/xAAxEQABAwIEAgcIAwAAAAAAAAABAAIDBBEFBhIxQVEhMzRCYaHwFBUiIzJxgZGTstH/2gAMAwEAAhEDEQA/AOmTcs2phtWmipSDWnyjWxBjRlnHgEgCnLnzEbzJIl2vyJ8o+GKpKsNdoKk2/wDQgVRfS4g8CjU1tbQRxCYMWW4vLc+JZam5gyj4bcBoULtVaajiKGnER4PK8xj0ph7jeKYvMTLpeKgszC10TanhVXHnX/MPWMZhS1MP4Aico+4nRQ1p81LTwF1Kcbh16xW3bttczRsszdKZfRmDswTGGtzmjujb91zrqLrrFU93SlenLjFbLJfijHU7CNQ5+A/JUfNkfumVlQ4GzgT0eJ/AVv8AMM5Lym72NqRffWwAVpSNrDpZReVq2qFp4Hj1ER7tdznIZd7J1MS3feNen7lS7rdP6TTnElYfXWVX4T5iM22Rzqx8ZJ+G3mFq5IBHh0U4HQ/V5Gy0nwEvOJAAAURw/GCCY/mHfzq84I0Q2WcO6dGSSw2PoHlGJkBxhTSuINOH3gb7su0R8I8oUEhXePWJsouSE7EbAFQdmUTbG1hsKbWiRTOyRcWUUQlFrdxKug51NeEUm/aYZjm5HbvgTWWcRbVKnKUqpZZCHk6m+TleJB40CeEdBNo2ESzEtjmYELdMxLSTkwhJIsKm2agEUrTuivGOcfpJ4ZL7QM8yOM4ytxl9nCWpVKZUhKCgPPKBIUFGtVnr4R3kkyxY06mb3tR35KjnVsVTgDK5w6vQ3bmpt9KLaw896s9k5ww56m+6mi4w5T3NK0Bp1i98mWg6bVJ9nxji2vM0/nyna7MuzuPu92SpNb+dbir4B4dY7C5axWYxCfcZeQ2lKWSrugg1uA6n5wPFYoqLG5oW8dP9R/qowRvqcmYbUO+r59/5bD7pwmOMw7T41ecEYe4POD6j5wRTGyyBTjLd1CD9AhS3LVFVIXLd1lsn4B5Rh51IJFDE6a17p2Ha1kx51lN+yZjyNSzWwyaRyrSrShFbsu7LO05Jb/buna6UU3WvQGvtjxi0U+4l3D5lhIIUtlaQTyqUmGTA5dcjKLadKSS4Vd3lSg/SF6N7oMRZPGdmkftO1umowaWjl2L2n9eua52+gtsi9ZfXf+Id23bs3+0vuu3n6xT2f9xePZRO75mKYa07KSS1Vur/AFEfrEaeh22rA/W7eyF6+4W6fGlN4rWtPGJfyPJu4fizrzykqSqXUnukk1uSev4QXNlMIswe0M2cR5NaF7KOJOrMtGkk7gNvDU9xPBetfFHnB4KPnBCXCFOKUORJMEVGm4BUVwsbLIeeAADqwByFxgLrh4lxR+8EEKyJiNJKlEEFRIPzjASkckgfaCCOIusCJL1RTfhmXcv4Jq9jYFh0hrW6m6yqGr6VpdaBWlTSviY3W5dhlVzTLaCRSqUgGkEEM4v2hvrgEpgfZXeuJS4IIII3YL4d1//Z",
          "visible": true,
          "x": -4,
          "xanchor": "center",
          "xref": "x",
          "y": 2.1,
          "yanchor": "middle",
          "yref": "y"
         },
         {
          "name": "b-38",
          "sizex": 0.5,
          "sizey": 0.5,
          "source": "data:image/jpg;base64,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",
          "visible": true,
          "x": -3,
          "xanchor": "center",
          "xref": "x",
          "y": -1.8,
          "yanchor": "middle",
          "yref": "y"
         },
         {
          "name": "r-38",
          "sizex": 0.5,
          "sizey": 0.5,
          "source": "data:image/jpg;base64,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",
          "visible": true,
          "x": -2,
          "xanchor": "center",
          "xref": "x",
          "y": -0.09999999999999964,
          "yanchor": "middle",
          "yref": "y"
         },
         {
          "name": "b-43",
          "sizex": 0.5,
          "sizey": 0.5,
          "source": "data:image/jpg;base64,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",
          "visible": true,
          "x": -4,
          "xanchor": "center",
          "xref": "x",
          "y": -1.3,
          "yanchor": "middle",
          "yref": "y"
         },
         {
          "name": "g-43",
          "sizex": 0.5,
          "sizey": 0.5,
          "source": "data:image/jpg;base64,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",
          "visible": true,
          "x": -4,
          "xanchor": "center",
          "xref": "x",
          "y": 0.3,
          "yanchor": "middle",
          "yref": "y"
         },
         {
          "name": "b-47",
          "sizex": 0.5,
          "sizey": 0.5,
          "source": "data:image/jpg;base64,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",
          "visible": true,
          "x": -2,
          "xanchor": "center",
          "xref": "x",
          "y": -1.1,
          "yanchor": "middle",
          "yref": "y"
         },
         {
          "name": "g-47",
          "sizex": 0.5,
          "sizey": 0.5,
          "source": "data:image/jpg;base64,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",
          "visible": true,
          "x": -1,
          "xanchor": "center",
          "xref": "x",
          "y": -0.4,
          "yanchor": "middle",
          "yref": "y"
         },
         {
          "name": "r-49",
          "sizex": 0.5,
          "sizey": 0.5,
          "source": "data:image/jpg;base64,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",
          "visible": true,
          "x": -3,
          "xanchor": "center",
          "xref": "x",
          "y": 2.6,
          "yanchor": "middle",
          "yref": "y"
         },
         {
          "name": "b-49",
          "sizex": 0.5,
          "sizey": 0.5,
          "source": "data:image/jpg;base64,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",
          "visible": true,
          "x": -1,
          "xanchor": "center",
          "xref": "x",
          "y": 2.4000000000000004,
          "yanchor": "middle",
          "yref": "y"
         },
         {
          "name": "r-50",
          "sizex": 0.5,
          "sizey": 0.5,
          "source": "data:image/jpg;base64,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",
          "visible": true,
          "x": -1,
          "xanchor": "center",
          "xref": "x",
          "y": -2.4000000000000004,
          "yanchor": "middle",
          "yref": "y"
         },
         {
          "name": "g-50",
          "sizex": 0.5,
          "sizey": 0.5,
          "source": "data:image/jpg;base64,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",
          "visible": true,
          "x": -2,
          "xanchor": "center",
          "xref": "x",
          "y": -2.0999999999999996,
          "yanchor": "middle",
          "yref": "y"
         },
         {
          "name": "r-56",
          "sizex": 0.5,
          "sizey": 0.5,
          "source": "data:image/jpg;base64,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",
          "visible": true,
          "x": -1,
          "xanchor": "center",
          "xref": "x",
          "y": -1.6,
          "yanchor": "middle",
          "yref": "y"
         },
         {
          "name": "g-56",
          "sizex": 0.5,
          "sizey": 0.5,
          "source": "data:image/jpg;base64,/9j/4AAQSkZJRgABAQAAAQABAAD/2wBDAAMCAgICAgMCAgIDAwMDBAYEBAQEBAgGBgUGCQgKCgkICQkKDA8MCgsOCwkJDRENDg8QEBEQCgwSExIQEw8QEBD/2wBDAQMDAwQDBAgEBAgQCwkLEBAQEBAQEBAQEBAQEBAQEBAQEBAQEBAQEBAQEBAQEBAQEBAQEBAQEBAQEBAQEBAQEBD/wAARCAEsASwDASIAAhEBAxEB/8QAHQAAAQQDAQEAAAAAAAAAAAAAAAUGBwgCAwQJAf/EAGgQAAEABQMFExAXBwUBAAAAAAABAgMEBQYHERITFBbRCBUXITE1NjdRU1RVdHWSo7Kz0jJBRlJhcYGCg5GTlKKxtOEiMzRCQ1ZXYmNkZXJzdoSFlaGkwcTT4iNERWbCw+MYJCVnpZb/xAAcAQACAgMBAQAAAAAAAAAAAAAEBQMGAAIHCAH/xAA/EQABAgIECQoGAgEEAwAAAAABAAIDBAUREnEGEyExM0FRgbEUFTI0UmGRocHRIjVCcrLwI1NDFiRigpLC4f/aAAwDAQACEQMRAD8AtvHo9HWMdiLFjGn9Rmo9tlVVVXldCFUIXTQhCKcJBw2xyh09iPbS90JR5IYpq1vu0icXNjG2RkXPIsWIIjviOc60o2xyh09iPbS90cEk4zGHmyrIir41qaiirbrLUcViUpGcOWRn751P+o0jsaIZqCklYrzGALj49ydtnv2jW/ZE3Qs9+0a37Im6aAF1QTm27am9OpG41DpsJXxCHxd9dnp2gMQbMG7F4XUaMmiruulVdVZCaVVkJQhKEow0JQecuDfPT6r0tfp97/MPQ2eDKllt8XIl4M0PL0tWD0KG+E+00HLsSGl4sRr22XEZNqeuDfPT6r0tfp97/MDBvnp9V6Wv0+9/mDKAsPJ4PYHgEox8XtHxKnmSc7c6rzJ91bPE5srGrRarpXXjTyssnyayMVK4r4Kk5/qjyo+mHjhkeyNyNufVN8WFo15PB7A8AgHzMa0fjPiU6MFSc/1R5UfTDxwzW3nVnQQohKJyJUow+NGHjhjbNTxxCOeYJeD2B4BaiZjds+JThwV50vVKlV9MvPDDBXnS9UqVX0y88MaoG3J4PYHgFtymN2z4lOrBXnS9UqVX0y88MuFf9HNOX7the6UTLvCKmoMNtiy0DPquTei48V1utx1a713X/RzTl+7YXuhf9HNOX7the6cICOw3Ym2NftKf030Qf32z7MfXhvUVqprrRZappq6aKU4WIgeFKc1Ix5tf4j1H+se4mmgBGIH7kVgkXEwGknbxX2lOakzd/JN2aq2GhK6qEoTzzWbHbzSy9+r3wY5kY05Qlux2Gcs9igLHYZyz2KDYADWUwqC12OwzlnsUCPEPIPbRVTyKEUUIRhIxEC4IcS82tOh3kAk65whio60bINaYhrGr2XNVLcsnrhVLcsnrnwBZjH7Sm2LZsCbcv319coMxaub22YLpeVVUrMmiVUpRUL4VKOcgYFsEe07f+2V7o+JyMY2Gq1dwuRwIqQjxRGqDj4lW2h5eC6VBcwHKdQXfbBHtO3/tle6FsEe07f8Atle6cAAPKI3bPiU05LA7A8AnlftFNMnrsy10L9oppk9dmWunKAbj4vaPiUp5PB7A8Auq/aKaZPXZlro7ZJPDw8w1o0eW7RqshulCFl1krJoqVcLDGQPOReNbXVC25VG9BxXvmwHOJyHWkmEEGGySJa0A1jUoqlHkhimrW+7SJw94vIuyos+vV+VTXnho0qazTRSslNFNUclofurtH6jqbJiGGgVrh8WUjF7iBrOxNMcsjP3zqf8AUb7Q/dXaP1DjkhIeosv/AJSmmt+ge+9cRzEzCxZyqWUk4wjD4fMbFrAc1pXultP6gtK90tp/ULeUwtqc8ljbOCiueDKllt8XIl4M0PL09a525D1yamWjO/Siqk9EUU1jNdmnrjzMwM/dv7N+suGDUVj4USydY4KsU8DAiMETJkTHAfGBn7t/Zv1hgZ+7f2b9ZZrQSHHM2pWkbkbc+qb4sLQ+ZvJjr8JHQ97tordcrvkbCpooaroxa5zBx4AX82fYP8gE+fl2OLS7KO4+y0MrGebTRkNyiM1PHEI55MOAF/Nn2D/IKUAvMVsj4u4272PUMktaq+2rpoShFFFdRy31GjqTlWC0X5Lj7LZlHzERwa1uU9491AYFm/8ARb/2V/43+cP9Fv8A2V/43+ci58kP7PJ3si+ZJ/8Ar82+6rIXeI8/0W/9lf8Ajf5yxmA3/Mf2P9Ylpil5OLYsP26j3dybUZQ86y3aZs1jv71GwEk4Df8AMf2P9YYDf8x/Y/1iTnGW7XkfZNeapvseY90mTa/xHqP9Y9zkk7IS1qyP+Vsmyaj0Coqamn1yaeK+oWL7fZu58YrmZqE+KXNOTencnJxocFrXNy5dY2riNjt5pZe/V75032+zdz4z6hyrCUN67VVvydFTRTRhg5mIdWdFNlotYyJVATb+Pa/d+IL+Pa/d+IX8phbU05JG2cEpCHEvNrTod5B1X8e1+78QnPbzXnhdrUVNNGFTTxgabjMewBp1ouTgRIcQlw1LADGucwK5zBdWmVSa05GMbDVau4XI4JInD/awVgrif7pVPcLkeVj1/wBQhpDLHKt1DECVF5WoDbWPX/UFY9f9QDUmtoJxgbrG9f8AUFjev+oOslJ7QWkeci8a2uqFtyqNKxvX/UPCR6lbhjVWmn9usnuVRzQQInBcUjwiIMibwuR881t/hFu+aTc+ea2/wi3fNJ0IZlyZ3SKBwST/AHrpP6hvjgkn+9dJ/URTGjKmltKP3UnAAALU2TVnXyrZY6wRDwdc83D0jnXyrZY6wRDwdc83C84J6GJeOCoeF+nh3HigAAtqqCsJNVkChfV9+XHYNOarIFC+r78uOwqUzpn3nirHA0TbhwQOqbnHtvqRbdqDVHVNzj231Itu1AOY0TkdJ6dt6kYAASqzoH0MUfQFOfTvR0n9W5AAACjVqb+d6JqNrfzvRNRG7OpmZkGtv5Q094nvGw1t/KGnvE941OZSN6QSQAALU5QaWnFpNxpacWk0fmWzc6xAAIlum1L7GdjqlXcLDBH9L7GdjqlXcLDBEk/plaqI6sLygAACTNOsAAYJOgdck8bmnw6dyqNQdck8bmnw6dyqOKD62LikmEHUjeFH0bnrmahUaf4XFJ25Fub65vTV3eXZ4jzqzasWqi6VV1F1FmiEqrIShKEoSilCUJQcWD3MX6tEhP8A6Nz/ADDyjvQ+X/OZ8cYz4a1I+Ouw6IY5gNo5lxqJOODyKl7O4Pcxfq0SE/8Ao3P8wec3U6k2EpL8LXpx5LxSx61XrCjDu3rdVV1NVULpopqU0U4tCcw8Ly294H5Ovmz8UaTFDsxZ+IrVtIugm2G5l6mW2SV9M0K7dZ3Qtskr6ZoV26zulaQFvM7O0VJz/E7AU2TsStkoiayWSUynhKEIk/EUpSl9Z6GX9cea9usjfTbBu32XCLHzv5Ustvi7EvBmh5flgoaCJCG5rTXWUppJ/Oz2vf8ADZyZFbG3WRvptg3b7LhBbrI302wbt9lwipwDrlJ2JbzWztFemc1kuZEqyDhaFpYQRCf2+EmIMc+X9cOy3qRHpxgf0ix4RRSbXITDurb8uOc05oZG/lLjly+KiM26CcWBmyeCuJb1Ij04wP6RY8Idc28uJFLRxuhWWEESmxFsSIMeXU9cUQHjNbkgeNRr7tQhmKDh4p3xlSwaSfDiB4bmXoLbrI302wXt9lwgt1kb6bYL2+y4RUsBJzJD7ZTT/UMXsBW0t1kb6bYL2+y4RKdWpy6vXPPgv2IqakGylio111+isFBUk+dxlptVVXnWuyrU5dXrhVqcur1zjAR4sKwYwre2ShaipShPONdCcwGfHMiF7aiioZraCsaE5hg38oae8T3jaa3nzM194t3iNwyFSs6QSLSjNQFKM1BrAUYwp5ZWylGag1L4ayUoPoHwutZF9AqWFCcwKE5hmB8qX1NGch8dHGBsGz69MXdml7VVQs1XQohKahfCpTx8JJG9sMA08h/bKl0cF6QyDuOuzLeWxW8QUgao9Xcr5g/ItjyQeTVlKnC2GAaeQ/tlS6FsMA08h/bKl0g8AG0nfNbO0VZe2mTHpjhfbjO6FtMmPTHC+3Gd0rsBPyk7EHzFD7ZVibaZMemOF9uM7o+JDv7jEYS1bw99YPTNV4WUSuxaKrqoWqVU0UoTi4aOuU+LG3nHIO/a6td5YjvB+MXzoFWoqsYXUWyUowxGuJyheSF6Hy/5zPjjGfDWpHxIN6Hy/wCcz44xnw1qR8d9g6NtwXnSL0zegtveB+Tr5s/FFSC294H5Ovmz8UazGjKgidEq2wAAtQqaU7+VLLb4uxLwZoeX56gTv5Ustvi7EvBmh5fh0r0SpoWZAAAUpVOk2uQmHdW35cc42JtchMO6tvy45x/B0bbgq5H0rrzxQPGa3JA8ajX3agzh4zW5IHjUa+7UNJnROUbc6lEAARqdBfsoIX7KvhJ/i/7eit2Cv+b/AK/+yAACrq3rNnxzIxZ8cyB39JGQugEGt58zNfeLd42Gt58zNfeLd4jd0SpmdIJBAAEafIAAPoWIAANliim9IZB3HXZlvLYreWQvSGQdx12Zby2K3lepLT7guk4MfLxeUAAACsS7gADFogsbeccg79rq13liVyLG3nHIO/a6td5Yj7BvrwuKp+HPyh33NXnzPPN5I59nhl0+vUHq2zxKWKNWi1kNUVSyz00SlNCFqEYaRm4GUiNJPtLbhkqzu5bEtfjFEvCWg0j07LwoeJZ8IzDV3Lx7MR4ojP8AiOc6ztTXwMpEaSfaW3DLQXiaQMknK3OxYTUVd91V+3apposmjFW5pA5Zi8YcmHzf+IAqZY1kk9zRUcnEImjIj4s0xrySMuQ3FT/ahJ3S7bmnCC1CTul23NOELIFFxsTtHxVsxELsjwCYM50ipMt5tZWMGsNqlGkDf1FkV5oilCXddCfPHnvgTzf6Qfam/DPSOcnK6lTrK/bwuUKLTg//ACQ3l+XLrVcpsmDEYIeTJqyJo4E83+kH2pvwwwJ5v9IPtTfhjuAsGKZsCSY+L2j4lTJNDMnNi8TeQls2kzVLrV+lNmvCPR2nsg8cA2a30r/bXn8w3zN5W8I+Ub+0HoVaYmo7Iz2teQATrO1PYMKG+G1zmgkgakxMA2a30r/bXn8wes0sxU1a8o3lC0lqUWEv+/POeM/ZDcPeaPJI86hX3xmATc5MCA7+R2baUdIy0F0wwOYCK9gS5gCzT+lT7c8/mBgCzT+lT7c8/mEgAVnl01/Y7xPurfzdJ/1N/wDEeyj/AABZp/Sp9uefzBfvzfs/7lFwcI1BNS03MPsWnk59Z7k+oSSlmYyzDaM2od/cuq/N+z/uUXAvzfs/7lFw5QE/KI3bPiU+5LA7A8AsYjHYq7VusvVTVU0+QVTmZqDitmjmjtqUuGMY9B6b7hNBYkxGtH4z4lHQZSBYHwDwCVLZo5o7alLhi0lLG1mayqX3CSqlCf2alwTT4vxC3OSR8ojds+JUolYFfQHgFtv7ieie4VuBf3E9E9wrcOECLGP2lEYmH2R4Luv7ieie4VuCLEJVx9g+NGTJ/qVVaKEVpRPGRzDsG7FscGvS7lBDHixGtyOPiiZWXhOeQWjNsC7rcZR6Y7Sz4IW4yj0x2lnwRFAFx8XtHxKP5JL9geASDO9HorFZNOzvEHqus1X5RdCKhVXyVbaIpwkIzUkQ1CuYSdObjC76sU3C5GYPEc57q3GtWSi2Nhy9lgqFZzLGoVzAqFcwyA0TFPy16D6D2xa6Fr0H0Hti10UQMSfGP2lJ1r0H0Hti10m2ZFydnGSj2ydWdQomINFkopSnDrbPN5xEZMUzmRh61evvbMfYN9eFxVVwxe51FkE/UFQKd3LYlr8Yol4S0GkOid5uoidmWqEoThSiiSPtLQaVkKZix6hlh/Cy4cF5HmNM+88VtLMXjDkw+b/xBWKyFMxYs/eJ1EvdudbShFRfdTVc2yQCnMkhEr7vyCLogVzjKu/gVZYDpsBtyynXTcCwG3LKddNw59aCu1h2xNOcnK6lTrK/bwuUKL/TkuDZE3UqU1SmMr9x05wuUIsNryyvXLbg44Yp944KrYQAiIyvYVoA32G15ZXrhYbXlleuWOsKvKyszeVvCPlG/tB6CHMhJaIPk18FeWTZ3QqvZNCFllqcJ4aIzOYPq02KZ+67JbglJm4rBMPFes8Va5aXiugsIGocEgj3mjySPOoV98ZiNabFM/ddktwR2zZydfYbHm7du1YLKrOiyiEKLJSmmrUTx0cwXTcVhgOAOpMZGBEbMsJGtSQBsrC+agKwvmoK3aCuFRWsag76wvmoGdVozEiilHD4N/ondDA/Hu9VkBjVozEhVozEimsJ5UuCMeg9N9wmi62hreKUWOuzVrWLVpSjF5yE5hqtXiGfO+yWuEToL3m00ZFOyYhQ22XOqKRz4vxC3OSLNq8Qz532S1w0P8AfHJxeHxq1YpUYMl2qyFVk0pQqhKU0YWLhGpgRAKyFI2aguIAckQBKtjcc6b7FF0LY3HOm+xRdA8azamfJ4vZSqN2LY4Nel3KDttjcc6b7FF0TXt4UfHhd5ZIWQqvRQhbFwkUfcQxntc2oFTy8J8N1bhUtAH2pSFSkGRtaaE5uMLvqxTcLkZkozjsF20DYKqpQhKHtVOH7xcji+5vyynXTcNHZ0+o9wEHeuUDqvub8sp103Avub8sp103DVHW27VIYHVfc35ZTrpuBfc35ZTrpuGJJbbtXKTFM5kYetXr72zInvub8sp103CXJo2KzCTbyoulCUpfl04XwbMfYN9eFxVXwvcDRhq2heeU8GW3Lf4xxLwloNEd08GW3Lf4xxLwloNE9Ry2gZcOC8lTGmfeeKC1V4X5Nvm38SVVLVXhfk2+bfxIup/5dE3fkEdQvXmb+BVqwADm6vibc5WVzKrWR+3hcoMX5nKyuZVayP28LlBi34N6J9/oqhhJpWXHigAAsirauVefsqKA/KvCmpIZHl5+yooD8q8KakhnO53rUT7jxK6JJdVh/aOAQLsjsc2vwC26VEIXZHY5tfgFt0qL5jROTCX0rU8AABKniBij6GKKqT+jf6J3Q/wBe71QAAKk6SjB/Rul+8UROg/o3S/eKIyl9GEpmdKf3UgT5RZH4nqNtuEigJ8osj8T1G23CTaL0DctYGlbeOKg0AApa6cg6mPlSvROU6mPlSvRPoWj8yzAAPqiTal9jOx1SruFhgj+l9jOx1SruFhgmjs6cyOhQAAaoxScAAYkiCUZrcj7xqxfcKEXEozW5H3jVi+4UH2DfXhcVWsLPlpvC87J4MtuW/wAY4l4S0GiO6eDLblv8Y4l4S0Gieo5bQMuHBeUJjTPvPFBaq8L8m3zb+JKqlqrwvybfNv4kXU/8uibvyCOoXrzN/Aq1YABzdXxNucrK5lVrI/bwuUGL+Ti5X0p9Zn3eFyipbsHDVCff6Kn4SmqLDuPFJoCkBY61W61bi8/ZUUB+VeFNSQzgvNGUlJz5Z4W2JPOZT81Zm4oq+p3ErqNHyluUhOtZ2t1dwUfi7I7HNr8AtulRxmxhxaecARZm0wipMIMpYeHV+S6QMQF1aZ2VkMUfA1xbSDbdnf6JtRbsXb3eqTwFABbiu9Nsd3L7B/Rul+8URFe/OdE5yZkbFCxUoXy+ONuuqtOIT5RZH4nqNtuEiacMcxliGpWu4SfIkzWw5NS2gyVURptaxqUWgcgFStLoVldZ1MfKleiJRuZ8Qg+hy1cysJSATwNrS0xXekqX2M7HVKu4WGCPCXeNDHVKu5WGKak1pxJMqhLqA5QPiLsqWAInAxA8g/5eX/1SwSjNbkfeNWL7hQqsWIvO2Ql911abyyH2DfXhcVVcMpXFUWXV1/EFQ2eDLblv8Y4l4S0GiO6eDLblv8Y4l4S0Gieo5bQMuHBeRZjTPvPFBaq8L8m3zb+JKqlqrwvybfNv4kXU/wDLom78gjqF68zfwKtWAAc3V8TenFyvpT6zPu8LlFS9U4uV9KfWZ93hcoqW3BzRPvHBU/CXSw7jxQAAWNVlXsvNGUlJz5Z4W2JPIwvNGUlJz5Z4W2JPOU0j1yL9zuJXYKM6lB+xvAINjDi0841mxhxaecAP6JTBnSC3gAA6IQNcdA1wCd+nf6JlR/1bvVAAAAmK53vznROc6HvznROchfnRUPohBwxzGWIala7hJ3HDHMZYhqVruEkb+iVPC0jbwoiAAKyrug3M+IQaTcz4hB9C+FZAAGy1Tcl3jQx1SruVhij6l3jQx1SruVhimJtJ6JAABiKQAAYsQWIvO2Ql911abyyK7liLztkJfddWm8sh9g314XFVDDj5Q77mqjs7kJrk60tGlkUVcoYitRUYlLy05o075vbPceMfs6+WlLHX+IeELjVPT0s44llw4LxxMn+Z954pMvm9s9x4y0l4hcLGt0/a1VVfd52jRPNK3FnLxXyZfN34gXU84mj4m78gj6Eyz8Pf+JVmK1676grXrvqNgHOq1f6k35dudkyHlE7VyprsKe1KqimilisikpvaL7qbR+ouhLHIjHNbXnelirRY6EivZDfZOtVXCCG10VlY1JqWi+6m0fqC0X3U2j9Q6wHfKYu1V/Es2KzEwSt880sCh1NerNleT4mml5apxMPNJBvw9h7rxDAmcyuIR8o39oPMoM40OmYhPaPFdLkHubKwgOy3gF2X4ew914jpcHqyGyVKipoVpppp46BKO6D+aVvg099AJEY2yUdDiOLhlStU80Knmn0AOyEbaK+VPNG/YXsncjhEcEmmNdVWjZSI5tdRXNYXsnchYXsncnSAJimbEZjn7Ulv7vW635Ommnjc4463zRSinoXTfccAFGaA8gJnLuLoYJWFb5pyxZhXYU+squird2itNGJSqk7TniON7z8CvuUkLgLJRMMkPF6i+1723tfjC1723tfjFgBJiWbFZuUxdqR7Xvbe1+MyRBKlFTZVNHrPGKxinFMMJg1L6JiIdaTL5vbPceML5vbPceMUgPmLbsWY+JtUdTqs755PO7zTXqp9UZ1PE0UqLpppw8wiq2H2ptniJXnwyJumuLPemhCBBEAa6oK1USBElg52espYth9qbZ4gth9qbZ4hHA0TLFM2KSLXvbe1+MLXvbe1+MWANa0nxr9qR7Xvbe1+MnmYVzsGR74yrlXTEmi1NFHoTK4Q8TVMpkVetcF97Zj/AAbP++FxVUw0iOdRRB7TVRydfLSljr/EPCFxqj0nUhUUaTnyvaM4a9LKLR6ILKrKsVkoShLwvQlCaBr3zxfSp87AtcPTcu5uJZl1DgvIEyDjn3niuMs5eK+TL5u/EFb754vpU+dgWuFmbxfDIkytxrsPeVKb76KpksinzRzBfTrm83xMuz8gj6DBM/D3/iVZMDdYT5oRt2NIWE+aEbdjSc7tDaug2TsSDLHIjHNbXnelirRayWLk+2oxz/aNsbXn0NOdLFWrAftBN+xpuFgodwxbsutVinmnGMyaloA32A/aCb9jTcCwH7QTfsabg4rCQVFWTmcyuIR8o39oPMaMzzo9KzcwhCzs1Qn/AHGElROftB52K86Ha7BJSpsjlD7zxXRJJp5LDyfSOAWo7oP5pW+DT30HNYrzodrsEnZC2LZm8LLNGS6qKhKKVlUo46ASIRZKNhg2wlQApRmhSjNA0cgRxYpRmiBZ7jo1h2RF0EmXAVVlGSjS6uoLeBos9x0aw7Ii6FnuOjWHZEXQW23ajMW/YVoinoXTfccB0xJ8dF63UPTFainEXQnMOKyXbRDPZoAIzgXnKmss1whCsfta2HPEcb3n4FfcpNlku2iGezQc8ReXe+95/wBwz8pX8+jlUkLiKiiWNNoZEywNdkO+fs9kgLId8/Z7JAorCsNk7FsMU4pjZDvn7PZIM1VVmiKtmqldVOIlVFKEmHLmWVVZ1iBnWWudL7FIVlrnS+xSfKisrCjmfDIm6a4s96aEIE3z6/sZIui7b9mqmIs0UrYSKa01zSC7KdtEMtmgFij4lcaFyyoq2lbQNVlO2iGWzQFlO2iGWzQRptUVMoHVfVFNLXrsK1wL6oppa9dhWuGtRVctt2rlJqmUyKvWuC+9syH76oppa9dhWuEyTNO7d2kw9KPDBoyWS/rpQhdVKqaK2zw8Mf4NgieFxVVwxc00WQD9QVaZfZO5R67vm/LCCL0vsnco9d3zflhBPQkHRtuC8mTGmfeeKCw95I5K/kP98rwWHvJHJX8h/vi+m+oxN3EJng98yh7/AMSrDgAFBXTEkSvyJxvW553pYrAWflfkTjetzzvSxWAsNC6N16qmEWlZcUAADlV1WKmnyv4V1ff2g7hozT5X8K6vv7QdxSpvrD7zxXRpHqsP7RwCD4tiH0+LYgMUUF8AANVugi8lAi8TUv8ARv8ARWCgv8m71QAAJlYFg04xgZtOMYGLYINEQ8wPPwK+5SbzREPMDz8CvuUmrsxW7OkEyQABSrAgc0HxtY9NukjZHNB8bWPTbpJPL9JCTmjF67QAAtLVE16VyCuOuzLeWxWosrelcgrjrsy3lsVqBI3SXQMHOoi8oAAIk9V1gAAhcvQPiQ2NLbVK25VGOPiQ2NLbVK25VHVAdcFxSDCTqBvCqfL7J3KPXd835YQSQJawpwaSyjzRd3pWWib0slNWthpS1W5oi3zw3Q3drXTusGK3FtuC80TEJ2NdeeKbJYe8kclfyH++Q9fPDdDd2tdJyvMjo7udsljM6irsOqw0ppor2bzxfTUUGRfu4hNMH4TucYe/8Sp2A11a2aFWtmlDthdLxZSZK/InG9bnnelisBaWNM1HmDP7u2RVM2rq1UXRiUqpUShKMIia06Tml23NOEPKJmWQ2OBrzqt07JxI0RhaRmUZgSZadJzS7bmnCC06Tml23NOENeWw9h/d6Rc2xdo8/ZP6afK/hXV9/aDuESRbm7Q+TTm6OjOtsmdcqVaUpopaLJThpw8VKRbKpMuDoz3DWTxV4lGlkvDadTRwQfFsQ+mDZKVVUJQnjkByBEjKV9A01xfNCuL5pHaCkslbiLySq4vmjTvscc47pN0VUmwxbNXf6J1Q8QQbdrXV6pBAXr7HHOO6TdC+xxzjuk3RXydydcrZsKbzTjGAtPrg6M6ioZUU00+STzDlsVhnf1pNDDINSmZGa5tYSeaIh5gefgV9ykV7FYZ39aT4u4urVRZk0ZUqroSqsiqThoSamGSKlI2K0EFRmBIFq0B0Dtq90LVoDoHbV7oDyKJtH7uTPnSDsPl7qPxzQfG1j026SLVq0B0Dtq90XYZJyDKOTNVVzoQin0RfNTzSeXkYlrOP3chJylIOLGQ5+73TVAelr0H0Hti10LXoPoPbFroZyCJtH7uS3nSDsPl7quV6VyCuOuzLeWxWouvP7JWAPUjnNm3cKpVETZrIRXV0Ydaa5iSArRZK6V7e04QpnGmBFsOXQsG6ShGRBqOc7PdRKBLVosldK9vacILRZK6V7e04QLbCfc4wth8vdT4BJFqMntL9tX4QWoye0v21fhDzmyNtHn7Lk3Pcvsd5e6jcfEhsaW2qVtyqKFqMntL9tX4R1ucOcoYyS7uLGtM1lqtKKpK2HiU4aU5iBrQ8lEgTQe4jMUopukoU1KGGwGusZ6vdVhljkujmuTzvqwjixLHJdHNcnnfVhHOwwtG24LgEfSuvPFBNd5u5Ivkn94hQmu83ckXyT+8AUz1J+7iE0wf+Yw9/4lTUAAUVdKXNE8bXv4BpuUkfEgxPG17+AablJHwzkOiUmpTptuQAAHpWn9JfGJ26fdrCoJcl8Ynbp92sKgmi6R15VggaJtwQa2/EI55sNbfiEc8hdmUzc60gAEKnQN8cA3wKc+nemEh9W71QAAApguOIeh9H7jjOyIeh9H7jjB39JHQegEAjFAEYpqpVkAAYtEC1DvMbPo99Iii1DvMbPo99IRLdM3ISc0YvXSAAGpao5n1yIumuTPempBROs+uRF01yZ701IKKvS3WTcF0XBrqAvKAABYrArfAAF+XF0GtfF6BsNa+L0AuR0yEndEqiy3j7mxlpH2KzJslZSKPSqaFUUUoarc0RbY3HOm+xRdNc4GTyUmu75vy4gHWYMFphtuC4pMRXY1154px2xuOdN9ii6TveXn9jErZqwqurW7Cpq0IRi17MTzCspYu8hclnyD8QLqbhNEhEI7vyCZ4PxXc4w9/4lWFrS2agK0tmoNoHP7IXTMY5cEVZpVhb4slKKEO7RPcpI4r6mYkkuMY0P2pmu5SRaNJBoslJ6SeS5q319TMSFfUzEmgA+yEttFSRJVZC0BdVkcer3awqiRJLI+6dU3awriKNpHXlWSBom3DggwbISlVCEZpmYr4nRIjmUwyFaahOagKhOagzA0shb2isKhOagbVdVzEjoGkL58VWau/0TSjfitV93qttdVzEhXVcxJqAXVppZC0vy6FqiinCp+45Toe/OdE5wd5+JFQ8jQEHxZdDNVK6aaFUUpoPprePKGnvE941rUgympab9HflGnWRdC/R35Rp1kXRLAhxjkXiGJUv0d+UadZF073aU7g7sFWK7F4SsrTTQqrRi88bhrX4pJs2O+Gawo4kpDiipydltsNzh52KvCC22G5w87FXhDSA35bFUXNsDv8AFIM/0toU6yOc2jR3e0oTE2aMJRXOmvriAcEWCaFftgpwiSL0bkIcddWW8tiuYrm3GNEtOzroGDkhBEiANpUiYIsE0K/bBThBgiwTQr9sFOER2ANYCfchgr0js1lyq/WQFmsuVX6yDhAtuOcuFYhi7rNZcqv1kH1Vqq2RVKoShCMLDOA6nXytPvg+jYjnR6jsKApKE1kCsbQqXzgZPJSa7vm/LiAL84GTyUmu75vy4gHZIGibcFweY0z7zxQWLvIXJZ8g/EFdCxd5C5LPkH4gXU51CJu/IJng98yh7/xKsUAAc9XTFyRjGh+1M13KSLSUoxjQ/ama7lJFo0kOiUppLpNQAAHpapGklkfdOqbtYVxIklkfdOqbtYVxBG0jryrNA0TbhwQYr4nRMjFfE6JEVKFgAAardA0h2jSF1IfTv9E1oz693qgAAXJqud7850TnOh7850TnB39JEM6KDW8eUNPeJ7xsNbx5Q094nvGhUjc4SKAADpkg1r8Uk2GtfiknwrF8AANViiu9G5CHHXVlvLYrmWMvRuQhx11Zby2K5gkbpK/YO9SF5QAARJ4vRUAAsy4Kg6nXytPvjlOp18rT74YUX1gXFLqU6ubwllj5Up71HeMzBj5Up71HeMx2c6r4QR/Ov/C+r/0EgEfzr/wvq/8AQK6Z6k/dxCdYPfMoe/8AEqPwACirpiUZN5IoXq1hviCeSBpN5IoXq1hviCeSz0Do33qk4VaaHceKAAB8qqmDKjH156TcKiWKkqMfXnpNwqJZU5nTPvPFXqT6vD+0cEAAEKJQAAYsQR+SAR+CTWpMaP8Aq3eqAAARMVudvPdA3mh2890DeSNzKF+dB8TiJ5x9PicRPONl8C1gAGilQP6S+MTt0+7WGCP6S+MTt0+7WC5PSG5LaU0Iv9ClQAAZJCmNPBkadtXKb20IgJfngyNO2rlN7aEQCae0yudB9UF5QAABpupeAAO8Lyegeci8a2uqFtyqMweci8a2uqFtyqQTOjRshptyeTHypT3qO8ZnAq+NVVUKoVVoQijEPtmteVU6yRMWmtPwV3Efzr/wvq/9A8rNa8qp1kiPKGCOspLHs5o1Z2NV1FaShFNVRTTShPKoF9KQXRZR7G66uITWhYzYE8yI7MK+BUSgSFgeQXRT7s1OCGB5BdFPuzU4JT+bYu0efsr9ztA2Hy90zpN5IoXq1hviCeSPnGQ8JcH13fmLw9paOzVRqohZdWhKVUoSinyOJhDtv0eOUZ9ZN0sFDSr4LHBxGdVPCKbZMxWFgOQJUAS79HjlGfWTdC/R45Rn1k3Rziyq7aCasqMfXnpNwqJY53+GMIi9tHxuu0VXaUUoVShCMJCEcdHMOe19zz1tskXCtx5KI6K4gjOeKt8tPQ2wGNIOQDhekABftfc89bbJFwLX3PPW2yRcIuQRNo/dyn5whbD+70gAL9r7nnrbZIuBa+55622SLhnIIm0fu5ZzhC2H93pAI/Jftfc89bbJFwR8DeB6KfuyKcEGmKOiuqqI8/ZHSVKQWWqwdWz3UcASPgbwPRT92RTghgbwPRT92RTgg3NkbaPP2R3O8DYfL3UfO3nugbx+qTdwVnTUvT9h5q6nBMsD+DaJfdmpwSQUbFqzjz9lE6loBOY+XumAfE4iecSBgfwbRL7s1OCCZv4MnCsl92anBPvNsXaPP2XznaDsPl7qOwJCwPILop92anBDA8guin3ZqcE05ti7R5+yk53gbD5e6j0f0l8Ynbp92sbMDyC6KfdmpwRYcIG6Q50ZubBo2WUZ00JXShKcNKU8ZHNCZWj4rHkkjN+6kDSFJwYkIAA5+7v71zgd9gMeWX66LgWAx5ZfrouB/I4m0JNy2HsKjeeDI07auU3toRAWSlJIyFyocVIfEG70zZs2qGyEsVlULVSEJRx1U4XkkjbwEJKaYRbsrP8ALFU3RsV8WsEefsrVRFMQIMsGuBznZ7qEQJuwEJKaYRbsrP8ALDAQkpphFuys/wAsG5rjbR5+yZ8+S/Zd4D3SeA87S4Xoh62avBC0uF6IetmrwTsWNC84cncmYPOReNbXVC25VC0uF6IetmrwRUhkMd4S7rOzsu0WVWXSulK6UJTTQhHGQjMII8QOZUEVJwXMi1lf/9k=",
          "visible": true,
          "x": -3,
          "xanchor": "center",
          "xref": "x",
          "y": -1,
          "yanchor": "middle",
          "yref": "y"
         },
         {
          "name": "b-56",
          "sizex": 0.5,
          "sizey": 0.5,
          "source": "data:image/jpg;base64,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",
          "visible": true,
          "x": -4,
          "xanchor": "center",
          "xref": "x",
          "y": -2.1,
          "yanchor": "middle",
          "yref": "y"
         },
         {
          "name": "50-99",
          "sizex": 0.5,
          "sizey": 0.5,
          "source": "data:image/jpg;base64,/9j/4AAQSkZJRgABAQAAAQABAAD/2wBDAAMCAgICAgMCAgIDAwMDBAYEBAQEBAgGBgUGCQgKCgkICQkKDA8MCgsOCwkJDRENDg8QEBEQCgwSExIQEw8QEBD/2wBDAQMDAwQDBAgEBAgQCwkLEBAQEBAQEBAQEBAQEBAQEBAQEBAQEBAQEBAQEBAQEBAQEBAQEBAQEBAQEBAQEBAQEBD/wAARCAAyADIDASIAAhEBAxEB/8QAHQAAAQMFAQAAAAAAAAAAAAAAAAQFBwIDBggJAf/EAD4QAAECAwQHAwkFCQAAAAAAAAECAwAEEQUGEhMHCBQVITFBMjNRCRciU2FxcpGxFiVkgZIYJ0JFVGOhouH/xAAaAQADAAMBAAAAAAAAAAAAAAAEBQYAAgcD/8QAKhEAAQMDAwIFBQEAAAAAAAAAAQIDEQAEIQUSMQbRIjIzQXETFFFhgbH/2gAMAwEAAhEDEQA/AOjZJrzhNMrWlYCVqHDoYw60r92vJ2jNSjUtJlDD620lSFVICiBX0vZEO6WtZO/Nyrxy1lWVZVhOtOySJhSphh5SsRccTQYXQKUSOnjEy/qSCpSQozNXOm9O3N2UpbSMiana8M5NsbPkzTzeLHXCsivLwi1dmenZi25Zp+bfcQrHVK3CQfQV0MR1q9aRLa057/8AtbKyMpuTZdn3chbeLOzcWPMUutMpNKU5nn0mVq7EhYrgtOVemFus9kOKSUmvomtADyMaspfcULgKO3nn8c1l+2zpyl6e+kfVAjAxKhIz/RT3lt+rT8oMtv1aflCCXtJ96YaaUhsBa0pNAa0J98Peyt+KvnDxl0vAlJqVfaDBAWKZ3AAtQHiYIqfAS84kdFEf5gh2ngUmPNY1NaK94zL1ob+y9pcU9g2WuHEa0rj4840I1873+Z/S/Y92t3722m7cvPZ+bkYcU1NIwYcK693WtevLhHTFh9oMNgq4hA6Hwjnz5QvVq016adNFi3p0aXL3zZcrdeWs95/eMpL4ZhM3NrUjC86hRol1BqBTjzqDSfc0i1KioIz8nvXQOluoXmr1IunglASedoHGMwKhbQdr/wDmQ33+6bfW+tm/n2zZWTm/h14q5vsph614bLaAPKJ/tB6XLB0QeZ/cG/8AavvH7QbVk5Es7Md1syMWLJw9sUxV40odGrxal+stYGz730bZGfjy/viz1YsNK9l805iJe1GtX3S9cjWluTei9F0disyS3lnv7fKuYMdnTKE+ihwqNVKSOA6+EYj7ZiLYkA8QTnP9nM1VaxZ6ffsvaoiFr2khQUSJSmBwduIjj2zXU5NjbKoTW04sk5mHBStONK1i7vv8L/v/AMhbNAiVeP8AbV9Ix3Gnxj0cZWzi3SY/We9cvaebuBN0oSOJMdqVrXmrU7SmMlVPCsEUJ7I90EO0TtE0mXG4xxS5taAhIKxyHWG+0mnXn0qZbWsBAFUgkVqYvDlCyT7o/FC9m6KnSmKLfs0hrdNQ7pfsK27R3Tu+x56Zy8/Hky614a5dK0HDkflDNoou9b9m3/sudtGw7QlZdvPxuvSy0ITVhYFVEUFSQPziepv+D84Sr7Jhfd6Qh65N8VGRBj28IHandj1G7bWA0oIBSQUzmfET/k06TTzK5Z1CHUKUpCgAFAkmkY9s0z/TufoMLGe9R8Q+sOcHW94qDik9zZJkZpoSClISoEEChBgi493q/iP1ghmDImgIjFU1PjHoccSKJWoD2GCCAm/Uoxz06Ctau0tR95jyp8TBBBCvIaFR5x80AkGoNCIqznfWr/UYIIFbotzkVSSSak1Jgggg8cUEea//2Q==",
          "visible": true,
          "x": 2,
          "xanchor": "center",
          "xref": "x",
          "y": -2.1,
          "yanchor": "middle",
          "yref": "y"
         },
         {
          "name": "56-99",
          "sizex": 0.5,
          "sizey": 0.5,
          "source": "data:image/jpg;base64,/9j/4AAQSkZJRgABAQAAAQABAAD/2wBDAAMCAgICAgMCAgIDAwMDBAYEBAQEBAgGBgUGCQgKCgkICQkKDA8MCgsOCwkJDRENDg8QEBEQCgwSExIQEw8QEBD/2wBDAQMDAwQDBAgEBAgQCwkLEBAQEBAQEBAQEBAQEBAQEBAQEBAQEBAQEBAQEBAQEBAQEBAQEBAQEBAQEBAQEBAQEBD/wAARCAAyADIDASIAAhEBAxEB/8QAHQAAAQMFAQAAAAAAAAAAAAAAAAMFBwECBAYICf/EAD0QAAECBAQCBgQMBwAAAAAAAAECAwAEBREGEhMUBzEIFRYhQVE0U5KxFyIyUmFjcXKBkaHhIyQnRXOi0f/EABoBAAIDAQEAAAAAAAAAAAAAAAMFAAQGAQL/xAAoEQABBAIABAYDAQAAAAAAAAABAAIDEQQhBRIxQQYTFCKh0TJRYZH/2gAMAwEAAhEDEQA/APTZhhgsNkstklAJJSPKEJpppLgCWkAZfBIhFuoPIQlASiyQAO4/9hmreIp2Um0NttMEFsK+Mk+Z+mCOhkl9rENuTFD7n9E+tNNm920n8IsnG0JllqShIIt3gfTEcYn4mV6g7bZykgvXz5tRtZtly2tZY8zCWEuJ1exRiGUoVQlKe2xM6mdTLawsZUKULErI5pHhBDwvLMJf2o90AcZw/UCPd2Oy3ptRLiQSbZhGfkR80flFG5BkOJOZfMeIjO2bXzlfnCpkM0enH5Tp88Mm2j4TUruUftgirwCXVpHIKI/WCHbfxCTu6lZrVOztoXrWzJBtl/eIK478W/g1xdJ0Ls/1jr01ub1d3o5czrqcuXIq/wAi97+MdAy/o7X3E+6OY+lDwyxvjTH9PqmGqJvJVqjtS63Nyy3ZwPvKIstYPJSe+1u+LnBhDJl8uQRy0epr50lXHvOjwi7GB5rHQX8bUBcb+mX2W6l/pxut1uf7xky5dP6g3+V+kNXAvpv9oOKlEpHwY6Gvuf4nXWfLllnVctAX5W5xGnSq4McSqZ2X3uG9PU3uX+clze2hfkv6RGl9HLhvjSS4zYemZmjZG0bvMrcNG15R4eCvMxtHYeO6I+WLZR2CSP7u1kIp5GgPlNSj96N9tf522vUKh9IXratU+ldkNLezTUvqdYZsmdYTe2mL2vyvEvdafUf7ftHKeD8M1xnF1EdckrIRUZZSjqo7gHU38Y6j2r/q/wBRGB4/AzHkYMUaI3W/tbnw1kvy4nuzDsEVeu38pJuLzuKXa2Yk2gihBSSk8wbGCPLPxFq26uY0nuX9Ha+4n3QwYklZl6eQtmXdcSGgLpQSL3PlD/L+jtfcT7oqvn+EVBIYncwRXxCZvKVyB0u8DY2xN2T7N4PrdV22/wBbY095/SzaGXNkSct8qrX52PlEU8HeFnE+mcRqRPVLhxiiUlmtxnefo8w2hN2HALqUgAXJA+0x6LN+MXRocbxLLBielEYIoi7Pe/tZ/J8NRT5JyDIb1qh2r6UG0HD1fl65Tn36HUG2m5tla1rllhKUhYJJJHcAImTXY9cj2hGVNejPf41e6NehXJkHM9zhVJjBjDABa03ayHSC4sg3BUYIsHIfZBEVjqlA++AAHnAB3ABRg13zzec9owQRXKM1G4fHJ5z2jBuJj17ntGCCOBQoL76gUqeWQe4gqMJ2HkIIILH0QZOqIIIIIoF//9k=",
          "visible": true,
          "x": 3,
          "xanchor": "center",
          "xref": "x",
          "y": -1,
          "yanchor": "middle",
          "yref": "y"
         },
         {
          "name": "47-99",
          "sizex": 0.5,
          "sizey": 0.5,
          "source": "data:image/jpg;base64,/9j/4AAQSkZJRgABAQAAAQABAAD/2wBDAAMCAgICAgMCAgIDAwMDBAYEBAQEBAgGBgUGCQgKCgkICQkKDA8MCgsOCwkJDRENDg8QEBEQCgwSExIQEw8QEBD/2wBDAQMDAwQDBAgEBAgQCwkLEBAQEBAQEBAQEBAQEBAQEBAQEBAQEBAQEBAQEBAQEBAQEBAQEBAQEBAQEBAQEBAQEBD/wAARCAAyADIDASIAAhEBAxEB/8QAHQAAAQUBAQEBAAAAAAAAAAAAAAIDBAUHBgkBCP/EAEUQAAECAwQGBAkGDwAAAAAAAAECAwAEEQUSExQGBwgVITEyM1FhFhdBUlNygZGSIkRiY6KxGCQlJjVCVHGCg6GywtHh/8QAGwEAAgIDAQAAAAAAAAAAAAAABAUBAwACBgf/xAApEQABAwQBAgQHAAAAAAAAAAABAAIDBAURIRMSMQYzcZEiQVFhodHw/9oADAMBAAIRAxEAPwD0hAFBwEIc4K4cOES22EFCSSeIBjFNd2uDSbVzpXKWJYkjZj7D9ntzSlTTTilhanHEkApWkUogeTthTWTmmaZHk4yn9qoXXKUU8AHVjO/stsspttzFxEJVS7Sor2xKm2GUy61JZQCKcQkdsYpqX1yaT6bb43rIWW1ksvh5dpxNb+JWt5Z80f1jUGbenJ10SzrbISutSkGvDj290TTXCOaMNaTk6/K1uNnqKGocJQPhwTj0BUttKStIKRzHkiZgteiR8IiEFFJvDmOMKzrvmo9xgsl8GnlL29FRuMdk06AHVgCgCjBCVKKlFR5k1ghww5aClLtOKkJm7qQnDrQU5xhGvnQXwv0vk7S3plMKzW2LmBiVo66qtbw87l3RuqZKaWkLS1UKFR8oRwOsCxrSetllbUteAlUjppH66++EN5puamLYmlzsjQySuh8M3F1FXiWR4YMHZwB7lfk3WLr5/A33f+anhf4X4vz7d+Vytz6t2/ezP0aXPLXhcbN+3948tc+juq3xTbk33m/x7f2ZwcGUef6vLovVwrvSFL1eNKHndszZn13a7vA/xYaFb63LvDPflKUlsLGy+H17qL1cJzo1pd40qK8jsa7GO0pqp2ktENPtPtW+67BsveGbm98SD+HiyEw0j5DT6lmq3EDgk0rU0AJga3UQihYZGEOH1yD31pd5cKm111HLO+VjpC13Z42QCBoH0+S9MMjXhi8/owbr+v8As/8AYlqBbSXF8EpFSe4QzvOR9P8AZP8AqGxj5tuGV5cJRT6YcZVa4i44pFa3SRWCPrqkrdWtJqlSiQe6sEMmjAAQROTlXEu4gMNgrT0B5e6OX0rYeftFtbDK3EhkAlCSRW8rsi7b6tPqiG3+mP3RTEeN/UFEreVnSVV6MTDFmZneTzcpiXLmOoN3qXq0rStKj3xftWxZLyw0zako4s8kpfSSfZWOG04+ZfzP8YqdG/01L/x/2GCzSiZhmJ/ggxVup3iADI/a1KZfZXLuoQ8hSlIUAAoEk05RQ5WZ/Z3fgMPy/Xt+uPvi6gPPFoI0t59lUiQUpCVAggUIMEOP9e565++CLxsKOySHFgUC1e+AqUeaifbBBGg7qSmX5aWmruZl2nrtbuIgKpXsrCGpCRZWHWZJhtY5KS2AR7aQQQWzy0E/zfZPjgQRwI5GHMd/0y/iMEECORrEgkkkk1JgggiwLCv/2Q==",
          "visible": true,
          "x": 2,
          "xanchor": "center",
          "xref": "x",
          "y": -0.3,
          "yanchor": "middle",
          "yref": "y"
         },
         {
          "name": "38-99",
          "sizex": 0.5,
          "sizey": 0.5,
          "source": "data:image/jpg;base64,/9j/4AAQSkZJRgABAQAAAQABAAD/2wBDAAMCAgICAgMCAgIDAwMDBAYEBAQEBAgGBgUGCQgKCgkICQkKDA8MCgsOCwkJDRENDg8QEBEQCgwSExIQEw8QEBD/2wBDAQMDAwQDBAgEBAgQCwkLEBAQEBAQEBAQEBAQEBAQEBAQEBAQEBAQEBAQEBAQEBAQEBAQEBAQEBAQEBAQEBAQEBD/wAARCAAyADIDASIAAhEBAxEB/8QAHQAAAQMFAQAAAAAAAAAAAAAAAAYHCAECAwQFCf/EAEIQAAECBAMEBAkHDQAAAAAAAAECAwAEERIFBhQHCBMhFTFBUhYiIzJRU2GSsQk0YoKRobIXJSY1QkNFY3Fyc4HB/8QAGQEAAwEBAQAAAAAAAAAAAAAAAwUGBAEC/8QAKhEAAQQBAgQEBwAAAAAAAAAAAQACAwQRITEFEhNBBjJRYRQicYGxwdH/2gAMAwEAAhEDEQA/APTZhhgsNkstklAJJSPRFHGGArkygcu6I1W595DaUBKKJAHUYjPvN7020HY3nyQyxljB8vTUrNYQ1PrXPy763A4p55BAKHkC2jaeytSecMaVCe/N0Yd991guXoaUXVl2Un+Cz6pHuiLkMMlQBZR7oiHuy3fE2mZ36T6VwLLDWi4PD08rMJrffWtz57o++He2fbaM05pzfIYFiEhhTcvNcW9TLTgWLWlqFCVkdaR2Rps8FuVebqY+UZOvtlYIOO053tYwnJOBp9k9CpeXCT5Bvq7ojX4LXqke6Iy8davFIFDyitg9JhI/m9VQR8pC5LoAdWAKAKMED3J5wfSPxghg3YLGd1UK5DlHnL8o5nfwb234HI9Gai/Kss7dxrKVm5sUpae798ei3GbHIq5j2RBPft3YNue2/a5hGa9l+R+msKlMuS+HPTHScnLWzCZqZcUi191CjRLrZqBTxuuoNGPArsUFwO6gGh7hLuMUpZ6vKWEjI7FRayBvNeAWv/QnXa7hfxLhWWX/AMpVa3+zqh/t2fe58Ltt2W8vfk+0mr1nluluJbbKPL83gitbadfbEfcz7lu8vlLTeEGzXS6q/g/nnD3LrbbvMfNKXDr9MLvdX2A7W8p7ecsZgzBlPSyErreM9r5Zdt0k+hPiocKjVSgOQ7YrLUkVqJ8hcHZB1B9sdlJxQNrSNGMOBGh3zuNCvTzDdomuxGVkuh7NQ8hq7UVtuUBWlvPrhecP2wzeA4bOtY5hzi2KJRNsqJuHIBY9sPJxW+990QN+OKJwDFbcLmmmY4yevouLMcn3B9M/GCCYNX3CO1Z+MEdbsEc7rUU06VEhtRBPojfw+blZRlTc1MtMrKioJcWEkig50MXI8xP9BCazP8/b/wAI/EqJmV3wjjK3XVU0EYvAQu0GPwklt6k5vHegug5V7EeBquLpEF6y7hUutrStDSvoMIPImWMyMZqkXX8vYm2hPFqpco4APJq7SIeTBv331f8Asd7Cf1g19b8JhvS8SyiFtfkGDpnJ7lIeI+EoXWXWuocjBxgdgP4uDh+GYkifllrw+ZSlLyCSWlAAXDn1Qt7F90/ZGzBBJ5DOQSvFaIVgQNcrhPcnl17x+MEVmPnDv96vjBGtuwQjurblD9o/bGJ1hh9V7zKHFAUqpIJp/uCCFdjylNavnCoiXl268NhtFeu1IFYyIAbUFt+KodRHIwQQKHcItjZ30/SyaiY9e57xg1Ex69z3jBBDJKlYSSSSSSeZJgggg42Qiv/Z",
          "visible": true,
          "x": 1,
          "xanchor": "center",
          "xref": "x",
          "y": -1.2,
          "yanchor": "middle",
          "yref": "y"
         },
         {
          "name": "28-99",
          "sizex": 0.5,
          "sizey": 0.5,
          "source": "data:image/jpg;base64,/9j/4AAQSkZJRgABAQAAAQABAAD/2wBDAAMCAgICAgMCAgIDAwMDBAYEBAQEBAgGBgUGCQgKCgkICQkKDA8MCgsOCwkJDRENDg8QEBEQCgwSExIQEw8QEBD/2wBDAQMDAwQDBAgEBAgQCwkLEBAQEBAQEBAQEBAQEBAQEBAQEBAQEBAQEBAQEBAQEBAQEBAQEBAQEBAQEBAQEBAQEBD/wAARCAAyADIDASIAAhEBAxEB/8QAHQAAAQMFAQAAAAAAAAAAAAAAAAEEBQIDBgcICf/EAEAQAAECAwQGBAsFCQAAAAAAAAECAwAEEQUGEhMHFBUhMVEIIjOxCRYXMkFTYXFygZEjNEJSkiQlJ0VjZKGi4f/EABoBAAIDAQEAAAAAAAAAAAAAAAQGAgMFAQD/xAAqEQABBAIBAgQGAwAAAAAAAAABAAIDBBExIQUSBhMjcRQyQUJR0aGxwf/aAAwDAQACEQMRAD8A9NmGGCw2Sy2SUAklI5RGWslLcylLaQkYAaJFPSYaKvFOsKLKGmCls4RVJrQbucRlpW/OOvpUppmuADck8z7YnPUnlbhn9quC9XhfmTXspyRAXjxgKpTjv5w6y2/Vp+kY/ZNrzLmbiQ1uw8Afb7YlpSddmJhDS0oAVWtAa8InFDJBF2ybCjLYisS90WjpO0tt4h9mnjyi9ks+qR+kQi0BCFLFapBIhtrrv5UfQxwO8zlq84eXw5N3gA6sAUAUe+CEWoqWpR4kkwQUNKpWzd/OOdrdMzrUy60r840bpz0y+SO9spdvxc2trNnNz2drmRhxOuow4cCq9nWtfTw3R0E3PyiG0oU7QpAB6p4xzN0nNDmkfSbf2Qt6493NpSLFkNSbjuuMM4XkvPKKcLq0qPVWk1pTfx4wZ0WatNb8u08duDsgfzwszrlezDTMlVh7sjQJ/wAK1Tfbwg/k31L+Ee0do5n8/wAnLy8P9sqtcfs4RP8AR28IF5bNMd39GPkk2NtnW/27b2sZWTKuvdnqyMVcrD5wpirvpQ8y9J3o8aYbB8Wtq3PyM/XMv94Sqq4cmvmuHmIq6Duja+l2elHcq3LcsXVpKW2lmu6y0vDis6ZSNyVEneoDcPTDLe6bSfBJLA3I7Tggkjge/wCVg9P6hYY+OKw7DsjIIAPJ/GM6XrcVZgy6Ux9WvKsU7L/r/wCv/Ybsz8op1CQ7vKgB1Tz90Sma3+b/ABCEfS4HCeG+tyeVCOowOLRWuFRFYIWYNX3CPSs98EGDSpPCbmVmVEqTLukE1BCDviUspKmZdSXklCismihQ0oIeS/3dr4E90WZrtB8MYohELzICtc2DYYIiMLnTpi3VvRenxR8WLt2pa+q6/n6hJuTGVi1fDiwA4a4VUrxoeUas0EaPL/2LpWsO07YuNeCQk2dZzJiZsx9ptFZZ1IqpSQBUkAV9JEdwSn4/lFU593X8u+Gav4glgofChgIw4Z98/tKtnw3FY6iLZeQctOMD6Y/SxuVZeEy0S0sALT+E84yCh5Qzb7RPxCH0L7pjY5IxhMbawrcA5yop7tV/Ee+CB7tnPiPfBGo3QWedpQ++AAHnABuACjCF51Rqp1Z96jBBAz1fHtAeeT5rqx7lGFL7yhRTyyORUYII4PlXfvVIWoGoUfrC5z3rV/qMEEQZpWP2qSSTUmpMEEEGjSDO1//Z",
          "visible": true,
          "x": 3,
          "xanchor": "center",
          "xref": "x",
          "y": 0.19999999999999996,
          "yanchor": "middle",
          "yref": "y"
         },
         {
          "name": "34-99",
          "sizex": 0.5,
          "sizey": 0.5,
          "source": "data:image/jpg;base64,/9j/4AAQSkZJRgABAQAAAQABAAD/2wBDAAMCAgICAgMCAgIDAwMDBAYEBAQEBAgGBgUGCQgKCgkICQkKDA8MCgsOCwkJDRENDg8QEBEQCgwSExIQEw8QEBD/2wBDAQMDAwQDBAgEBAgQCwkLEBAQEBAQEBAQEBAQEBAQEBAQEBAQEBAQEBAQEBAQEBAQEBAQEBAQEBAQEBAQEBAQEBD/wAARCAAyADIDASIAAhEBAxEB/8QAHQAAAQMFAQAAAAAAAAAAAAAAAAMEBQECBwgJBv/EAEQQAAECBAIFBQwFDQAAAAAAAAECAwAEERIFBgcTFBUxCCEyQVEJFhczNEJhcoGRkrEjU3GhohgiJCdERlJiY2SCweH/xAAZAQACAwEAAAAAAAAAAAAAAAAEBQIDBgf/xAAoEQACAQMDAwIHAAAAAAAAAAABAgADBBEFITESE0Ey0QYiUXGRoeH/2gAMAwEAAhEDEQA/AOhLzzweWA6sAKPnHthMvv18c58RhnNzrqJp5ISigcUOB7Ymsv4axi0muZmVuJUl0oAQQBSgPWD2wtr6deLl87feN6GrWD4pgb4+keZb+n2nX/SW2Uv56ce2Jh2XYCCQy2P8RDWWkWcJu2ZS1a2l15B4dlKdsOEPKdUG1AAHsg21SpTpAOd/7F15Vp1azNT4PtEHGmghRDaeB6oZ0HYIlXWUhpZqeZJ+URlog1GzAKgwYieJggV0j9sEECRmKMazzsmMT8puu/UzLrd2vpWiyK0t9EYZ0td0C/J+zHLZN8Em/ttkUYntO/tlsvccbss2Zdaamta+dSnNU5hxvRxnOexqfnZXBr2ZiaddbVtDQuSpZINCqo5j1xofy5NEukF7SzhK2sv3AZdYHlbA/aZn+eNHa2tndkUjhtuAfYzJvc3lo5qNlRnkjA/JEzjl7upXfPtH6i9m2az9577rq/2gp0fvjKGhLlr+FzSfguj3wabq3rtP6ZvnX6rVS7jvQ1Cbq6unSFK156UjmXgWBYrkLX99krsO3W7P+el2+yt3iyqlL08acY2H5EeO4VOcp7JktLTV7i942psUK0w+ZPWPRDW40PTaVjUqBMOFYj5m5AONsymhq97WvUQPlCyjgcZGd8TqstN6FIrS4EQ03f8A1vw/9h4pQSkqUaACphHbZb638Jjm/cCcmb3tl/GZEOpsdWitbVEffBFX1BTzikmoKiR74IPXiCnYyQZSosook9EdXojUjld5GztmTSThs9l3J+N4rLN4Gy0p6Sw959CViYfJSVISQDRSTTjQjtjb+X8na9RPyiq+PsiVhqDadX7yrk7iD6jp66jb9hmwNjOQumbQlpmxHc+79EedJrV7RfqcAm1211dK0b5uB90en5Emh/S1lblPZMx7M+i7N2EYZK7x187P4JMy7DV2HzKU3OLQEpqpSUip5yQOJjqNP+Z7f9QnJeUo9vyMOLj4iq3VF0KAdQI8+RiK7XQado6dLk9JB/eZIv8AOy56p+URNi/4T7ol3PFq9UwxjG116iJsLd+kGMFcyj9sEVc8Yr1jBDdPSIsb1GXB98AAPOADmACjBr3zxec+IwQRSZOWqccX0nFGnaYErWk3JWoEdYMEETHpkPMuMw+RQvufEYt1jn1ivfBBFD8y9JQkk1MEEEFjiDnmf//Z",
          "visible": true,
          "x": 2,
          "xanchor": "center",
          "xref": "x",
          "y": 1.5,
          "yanchor": "middle",
          "yref": "y"
         },
         {
          "name": "43-99",
          "sizex": 0.5,
          "sizey": 0.5,
          "source": "data:image/jpg;base64,/9j/4AAQSkZJRgABAQAAAQABAAD/2wBDAAMCAgICAgMCAgIDAwMDBAYEBAQEBAgGBgUGCQgKCgkICQkKDA8MCgsOCwkJDRENDg8QEBEQCgwSExIQEw8QEBD/2wBDAQMDAwQDBAgEBAgQCwkLEBAQEBAQEBAQEBAQEBAQEBAQEBAQEBAQEBAQEBAQEBAQEBAQEBAQEBAQEBAQEBAQEBD/wAARCAAyADIDASIAAhEBAxEB/8QAHQAAAQQDAQEAAAAAAAAAAAAAAAIEBQcDBggJAf/EAD8QAAECAwQHAQ0GBwAAAAAAAAECAwAEEQUGEhMHCBQVITFBURYXIjIzUlNhZHFykrEjJCdFgaElNEJikaLh/8QAGwEAAgIDAQAAAAAAAAAAAAAAAwQBBQACBwb/xAAlEQACAgIBBAICAwAAAAAAAAABAgADBBEhBRIxQRMUBrGBkaH/2gAMAwEAAhEDEQA/APSpttBQklCeQ6RC2444zNoS0tSAWwaJNBWpjZGJZCmW1Eq4pB/aKJ09aULfuHfCTsex5Oz3mXrNbmVKmW1qUFF11JAKVpFKIHTtizwamyrvjTzzKrqN64lHy2eOJb11/vG05/2mHBTHxp43bD+3G22bLfcaQlCxhopIoR4Q6xTug7SpeG92+95SdnN7Js2DIbWK4s2tarPmiLT3i/av8PmEoS27zKAQrhx4VJ7IzKxrMfIKv61+gZmHmVZOMCnvf7IkRJvvqnGEqecILiQQVGhFY2nKa9Gn/EMWLBk2323EuPVSsKFSOh90TGzo7VQvfarEdsaoqZQe6QzgAcUAOGIwQp8UfcA6LI/eCCDxJMlGHqMNjDyQOvqjhXXu0t9w+l2yLJ7n9tzbty8xmbXl0rNTKaUwHzedesdxtOoDSAVckjpHEuu9q3aaNMmlayrz6N7mb4syVu8xIOv7xlJfC+mZmVqRhedQo+C4g1Apx51Bhv8AH7Eqz+68gLo8ngf3EevU/Yweysdx2OByf8lJXH17+9Ntv4V713rl/nmRl5WL2dVa5nqpTrWLz1cdfvv36ZrvaL+9PuXfW1/ft+7TlZMo8/5PZ0Yq5WHxhTFXjSh5WvTqKa1R2X8LPP8Azyzf7faIsbU91WdO+iXWMulpB0g3F3VYFlbftc3vOTfy82RmGkeA06pZq44gcEmlamgBMej6kmBetlqMCxB1pveuPcoenfYxzXUwKqDzset8+RPT5bWShT2KuAFVKc6Q13z7N/v/AMjA5eew5hCmGZ7E44ChIylipPADlDOOc5b20sB4nQsGum9SfP8AMzuLzFqcpTESqnZWCEjkPdBFuh2oMqnGmIjxDTpQkhtRBA6Q9k0qS0QpJBxdRC5f+Xa+BP0jJCjNviFVNcyFvIy87s+U0tdMdcKSaco1yfkpxUo4EyjxPDgGz2iN3mf6f1hq95JX6Qem4oANRa/HFjFiZoMjZ8+mdl1KkZgAOoJJaV2j1RtuzzHoHPlMOWfKo+IfWJOAZyfbYM3Goz06w4SMq87kJQjgQQRwIMEZH/LufGfrBDaDSgQTHZJgH3wAA84AOAAUYNomPTufMYIICZuIF95XjPLPvUYSXHCKFaiPfBBGwmpnwKUDUKII9cLz3/TL+YwQRLeZCRBJJJJqTBBBBRIM/9k=",
          "visible": true,
          "x": 1,
          "xanchor": "center",
          "xref": "x",
          "y": 1.2,
          "yanchor": "middle",
          "yref": "y"
         },
         {
          "name": "49-99",
          "sizex": 0.5,
          "sizey": 0.5,
          "source": "data:image/jpg;base64,/9j/4AAQSkZJRgABAQAAAQABAAD/2wBDAAMCAgICAgMCAgIDAwMDBAYEBAQEBAgGBgUGCQgKCgkICQkKDA8MCgsOCwkJDRENDg8QEBEQCgwSExIQEw8QEBD/2wBDAQMDAwQDBAgEBAgQCwkLEBAQEBAQEBAQEBAQEBAQEBAQEBAQEBAQEBAQEBAQEBAQEBAQEBAQEBAQEBAQEBAQEBD/wAARCAAyADIDASIAAhEBAxEB/8QAHQAAAQMFAQAAAAAAAAAAAAAAAAIDBAEFBggJB//EAEQQAAECAwUFAQoJDQAAAAAAAAECAwAEEQUGEhMhBwgUFTGxIjI0QVFTYXFykgkWIyUzQ4KRohc2QkRSZHOBg7LB0eH/xAAYAQEBAQEBAAAAAAAAAAAAAAAFBAYDB//EACYRAAEDAwMDBQEAAAAAAAAAAAEAAgMEETEFEiETM5EGMkFRcbH/2gAMAwEAAhEDEQA/AOi6lKxHuj18sRJp11LgCXFAYfETE0oBJOsak7229PtB2G7R7NuldKx7vTcnN2IzaK12jLvuOBxT77ZALbyBho0nSlak6+Rqjpn1cvSjyhqqdtNHvfhbb2IS7nZpK6YaYtadYuZabp9Gn7o597Ot/Ha9bXMOKu5c9GTlYcuTmhWuOtazB8ke1bF952/u0faXY9zLcsiwGJK0eIzXJSXeS6MuXccGEqdUO+QK1B0r64rqdArYmumIG0C+fgBRwa9RukbT3O4kDHyTx/Vs0202VpBbT1HiiZw8v5hv3RCUsICgQToaw9Gdc6+Fomi2VY3wA+4AAAFkAD1wQTHhDvtq7YIsGFwOUnKrri6+iOd/wiNlcXtqsVziMNLrSyaYK/rc36Y6MIlX1ISoN6EAjURp5vjbvW2DajtNsy8FxboczkJewWZNx7mEqzheTMTCynC64lR7lxBqBTXroYX9P1EMNaHTPDRY8kgBD61BNLSEQtJNxgErQ6Vvp+TTF828y5lT67Jy8v7Kq1x+jpHu+5Ttm+NW81c2wfi3wvFcx+V4zHhw2fMr73AK97Tr44xm/G43vSWrwXAbL83KzMfz3ZyaVw06zA8hjO9z7dH3hdlO8XdK/wBf7Z9yuwbL4/i5vm0i/l5sjMNI7hp5SzVbiBok0rU0AJjTanqMD4JWRStILSBYg34WfoNMe2aOWaMhwcCbgjBXTdb2WhTmGuEE0rETnP7t+P8A5AudlXkKZadqtwFKRhOpPSIvLZ3zP4h/uPKqozMI2A+F6XRiCVpMhHlJcXmLU5SmIlVPJWCKFKkEoUKFOhHpghdl9oujX2DjZXmXByG9P0B2QxOPMtuhLjqEnDWilARJl/B2vYT2RYrxeGo/hDtMEVkhhYXD7SlFEJpAw/Sdmp6Sbw5k4wmtaVcArEdU3KTSciWmmnXFd6hCwpRproBGL2/9R9r/ABCro/nDKf1P7FRBBq7xI2HaMgeUpPocboXT7zexPgLJ5WWmUzTKlS7oAcSSSg0ArGRYk/tD74Seh9UNQ69/U5KzTGdLgK1zHhDvtq7YIo99M57R7YIqGFzKqH3wAA84ANAAow258srE93ZApVWppBBEVR7FZS9xNOSko7TNlWV06YkA0gZlJWXcD0vLNNOJ6KQgJI/mIIINZ3R+hLP7B/CpOe/55z3jFM57zq/eMEEMhAFJJJNSakwQQR3C5r//2Q==",
          "visible": true,
          "x": 3,
          "xanchor": "center",
          "xref": "x",
          "y": 1.4000000000000004,
          "yanchor": "middle",
          "yref": "y"
         }
        ],
        "margin": {
         "b": 20,
         "l": 20,
         "r": 20,
         "t": 20
        },
        "paper_bgcolor": "rgba(0,0,0,0)",
        "plot_bgcolor": "rgba(0,0,0,0)",
        "template": {
         "data": {
          "bar": [
           {
            "error_x": {
             "color": "#2a3f5f"
            },
            "error_y": {
             "color": "#2a3f5f"
            },
            "marker": {
             "line": {
              "color": "#E5ECF6",
              "width": 0.5
             }
            },
            "type": "bar"
           }
          ],
          "barpolar": [
           {
            "marker": {
             "line": {
              "color": "#E5ECF6",
              "width": 0.5
             }
            },
            "type": "barpolar"
           }
          ],
          "carpet": [
           {
            "aaxis": {
             "endlinecolor": "#2a3f5f",
             "gridcolor": "white",
             "linecolor": "white",
             "minorgridcolor": "white",
             "startlinecolor": "#2a3f5f"
            },
            "baxis": {
             "endlinecolor": "#2a3f5f",
             "gridcolor": "white",
             "linecolor": "white",
             "minorgridcolor": "white",
             "startlinecolor": "#2a3f5f"
            },
            "type": "carpet"
           }
          ],
          "choropleth": [
           {
            "colorbar": {
             "outlinewidth": 0,
             "ticks": ""
            },
            "type": "choropleth"
           }
          ],
          "contour": [
           {
            "colorbar": {
             "outlinewidth": 0,
             "ticks": ""
            },
            "colorscale": [
             [
              0,
              "#0d0887"
             ],
             [
              0.1111111111111111,
              "#46039f"
             ],
             [
              0.2222222222222222,
              "#7201a8"
             ],
             [
              0.3333333333333333,
              "#9c179e"
             ],
             [
              0.4444444444444444,
              "#bd3786"
             ],
             [
              0.5555555555555556,
              "#d8576b"
             ],
             [
              0.6666666666666666,
              "#ed7953"
             ],
             [
              0.7777777777777778,
              "#fb9f3a"
             ],
             [
              0.8888888888888888,
              "#fdca26"
             ],
             [
              1,
              "#f0f921"
             ]
            ],
            "type": "contour"
           }
          ],
          "contourcarpet": [
           {
            "colorbar": {
             "outlinewidth": 0,
             "ticks": ""
            },
            "type": "contourcarpet"
           }
          ],
          "heatmap": [
           {
            "colorbar": {
             "outlinewidth": 0,
             "ticks": ""
            },
            "colorscale": [
             [
              0,
              "#0d0887"
             ],
             [
              0.1111111111111111,
              "#46039f"
             ],
             [
              0.2222222222222222,
              "#7201a8"
             ],
             [
              0.3333333333333333,
              "#9c179e"
             ],
             [
              0.4444444444444444,
              "#bd3786"
             ],
             [
              0.5555555555555556,
              "#d8576b"
             ],
             [
              0.6666666666666666,
              "#ed7953"
             ],
             [
              0.7777777777777778,
              "#fb9f3a"
             ],
             [
              0.8888888888888888,
              "#fdca26"
             ],
             [
              1,
              "#f0f921"
             ]
            ],
            "type": "heatmap"
           }
          ],
          "heatmapgl": [
           {
            "colorbar": {
             "outlinewidth": 0,
             "ticks": ""
            },
            "colorscale": [
             [
              0,
              "#0d0887"
             ],
             [
              0.1111111111111111,
              "#46039f"
             ],
             [
              0.2222222222222222,
              "#7201a8"
             ],
             [
              0.3333333333333333,
              "#9c179e"
             ],
             [
              0.4444444444444444,
              "#bd3786"
             ],
             [
              0.5555555555555556,
              "#d8576b"
             ],
             [
              0.6666666666666666,
              "#ed7953"
             ],
             [
              0.7777777777777778,
              "#fb9f3a"
             ],
             [
              0.8888888888888888,
              "#fdca26"
             ],
             [
              1,
              "#f0f921"
             ]
            ],
            "type": "heatmapgl"
           }
          ],
          "histogram": [
           {
            "marker": {
             "colorbar": {
              "outlinewidth": 0,
              "ticks": ""
             }
            },
            "type": "histogram"
           }
          ],
          "histogram2d": [
           {
            "colorbar": {
             "outlinewidth": 0,
             "ticks": ""
            },
            "colorscale": [
             [
              0,
              "#0d0887"
             ],
             [
              0.1111111111111111,
              "#46039f"
             ],
             [
              0.2222222222222222,
              "#7201a8"
             ],
             [
              0.3333333333333333,
              "#9c179e"
             ],
             [
              0.4444444444444444,
              "#bd3786"
             ],
             [
              0.5555555555555556,
              "#d8576b"
             ],
             [
              0.6666666666666666,
              "#ed7953"
             ],
             [
              0.7777777777777778,
              "#fb9f3a"
             ],
             [
              0.8888888888888888,
              "#fdca26"
             ],
             [
              1,
              "#f0f921"
             ]
            ],
            "type": "histogram2d"
           }
          ],
          "histogram2dcontour": [
           {
            "colorbar": {
             "outlinewidth": 0,
             "ticks": ""
            },
            "colorscale": [
             [
              0,
              "#0d0887"
             ],
             [
              0.1111111111111111,
              "#46039f"
             ],
             [
              0.2222222222222222,
              "#7201a8"
             ],
             [
              0.3333333333333333,
              "#9c179e"
             ],
             [
              0.4444444444444444,
              "#bd3786"
             ],
             [
              0.5555555555555556,
              "#d8576b"
             ],
             [
              0.6666666666666666,
              "#ed7953"
             ],
             [
              0.7777777777777778,
              "#fb9f3a"
             ],
             [
              0.8888888888888888,
              "#fdca26"
             ],
             [
              1,
              "#f0f921"
             ]
            ],
            "type": "histogram2dcontour"
           }
          ],
          "mesh3d": [
           {
            "colorbar": {
             "outlinewidth": 0,
             "ticks": ""
            },
            "type": "mesh3d"
           }
          ],
          "parcoords": [
           {
            "line": {
             "colorbar": {
              "outlinewidth": 0,
              "ticks": ""
             }
            },
            "type": "parcoords"
           }
          ],
          "pie": [
           {
            "automargin": true,
            "type": "pie"
           }
          ],
          "scatter": [
           {
            "marker": {
             "colorbar": {
              "outlinewidth": 0,
              "ticks": ""
             }
            },
            "type": "scatter"
           }
          ],
          "scatter3d": [
           {
            "line": {
             "colorbar": {
              "outlinewidth": 0,
              "ticks": ""
             }
            },
            "marker": {
             "colorbar": {
              "outlinewidth": 0,
              "ticks": ""
             }
            },
            "type": "scatter3d"
           }
          ],
          "scattercarpet": [
           {
            "marker": {
             "colorbar": {
              "outlinewidth": 0,
              "ticks": ""
             }
            },
            "type": "scattercarpet"
           }
          ],
          "scattergeo": [
           {
            "marker": {
             "colorbar": {
              "outlinewidth": 0,
              "ticks": ""
             }
            },
            "type": "scattergeo"
           }
          ],
          "scattergl": [
           {
            "marker": {
             "colorbar": {
              "outlinewidth": 0,
              "ticks": ""
             }
            },
            "type": "scattergl"
           }
          ],
          "scattermapbox": [
           {
            "marker": {
             "colorbar": {
              "outlinewidth": 0,
              "ticks": ""
             }
            },
            "type": "scattermapbox"
           }
          ],
          "scatterpolar": [
           {
            "marker": {
             "colorbar": {
              "outlinewidth": 0,
              "ticks": ""
             }
            },
            "type": "scatterpolar"
           }
          ],
          "scatterpolargl": [
           {
            "marker": {
             "colorbar": {
              "outlinewidth": 0,
              "ticks": ""
             }
            },
            "type": "scatterpolargl"
           }
          ],
          "scatterternary": [
           {
            "marker": {
             "colorbar": {
              "outlinewidth": 0,
              "ticks": ""
             }
            },
            "type": "scatterternary"
           }
          ],
          "surface": [
           {
            "colorbar": {
             "outlinewidth": 0,
             "ticks": ""
            },
            "colorscale": [
             [
              0,
              "#0d0887"
             ],
             [
              0.1111111111111111,
              "#46039f"
             ],
             [
              0.2222222222222222,
              "#7201a8"
             ],
             [
              0.3333333333333333,
              "#9c179e"
             ],
             [
              0.4444444444444444,
              "#bd3786"
             ],
             [
              0.5555555555555556,
              "#d8576b"
             ],
             [
              0.6666666666666666,
              "#ed7953"
             ],
             [
              0.7777777777777778,
              "#fb9f3a"
             ],
             [
              0.8888888888888888,
              "#fdca26"
             ],
             [
              1,
              "#f0f921"
             ]
            ],
            "type": "surface"
           }
          ],
          "table": [
           {
            "cells": {
             "fill": {
              "color": "#EBF0F8"
             },
             "line": {
              "color": "white"
             }
            },
            "header": {
             "fill": {
              "color": "#C8D4E3"
             },
             "line": {
              "color": "white"
             }
            },
            "type": "table"
           }
          ]
         },
         "layout": {
          "annotationdefaults": {
           "arrowcolor": "#2a3f5f",
           "arrowhead": 0,
           "arrowwidth": 1
          },
          "autotypenumbers": "strict",
          "coloraxis": {
           "colorbar": {
            "outlinewidth": 0,
            "ticks": ""
           }
          },
          "colorscale": {
           "diverging": [
            [
             0,
             "#8e0152"
            ],
            [
             0.1,
             "#c51b7d"
            ],
            [
             0.2,
             "#de77ae"
            ],
            [
             0.3,
             "#f1b6da"
            ],
            [
             0.4,
             "#fde0ef"
            ],
            [
             0.5,
             "#f7f7f7"
            ],
            [
             0.6,
             "#e6f5d0"
            ],
            [
             0.7,
             "#b8e186"
            ],
            [
             0.8,
             "#7fbc41"
            ],
            [
             0.9,
             "#4d9221"
            ],
            [
             1,
             "#276419"
            ]
           ],
           "sequential": [
            [
             0,
             "#0d0887"
            ],
            [
             0.1111111111111111,
             "#46039f"
            ],
            [
             0.2222222222222222,
             "#7201a8"
            ],
            [
             0.3333333333333333,
             "#9c179e"
            ],
            [
             0.4444444444444444,
             "#bd3786"
            ],
            [
             0.5555555555555556,
             "#d8576b"
            ],
            [
             0.6666666666666666,
             "#ed7953"
            ],
            [
             0.7777777777777778,
             "#fb9f3a"
            ],
            [
             0.8888888888888888,
             "#fdca26"
            ],
            [
             1,
             "#f0f921"
            ]
           ],
           "sequentialminus": [
            [
             0,
             "#0d0887"
            ],
            [
             0.1111111111111111,
             "#46039f"
            ],
            [
             0.2222222222222222,
             "#7201a8"
            ],
            [
             0.3333333333333333,
             "#9c179e"
            ],
            [
             0.4444444444444444,
             "#bd3786"
            ],
            [
             0.5555555555555556,
             "#d8576b"
            ],
            [
             0.6666666666666666,
             "#ed7953"
            ],
            [
             0.7777777777777778,
             "#fb9f3a"
            ],
            [
             0.8888888888888888,
             "#fdca26"
            ],
            [
             1,
             "#f0f921"
            ]
           ]
          },
          "colorway": [
           "#636efa",
           "#EF553B",
           "#00cc96",
           "#ab63fa",
           "#FFA15A",
           "#19d3f3",
           "#FF6692",
           "#B6E880",
           "#FF97FF",
           "#FECB52"
          ],
          "font": {
           "color": "#2a3f5f"
          },
          "geo": {
           "bgcolor": "white",
           "lakecolor": "white",
           "landcolor": "#E5ECF6",
           "showlakes": true,
           "showland": true,
           "subunitcolor": "white"
          },
          "hoverlabel": {
           "align": "left"
          },
          "hovermode": "closest",
          "mapbox": {
           "style": "light"
          },
          "paper_bgcolor": "white",
          "plot_bgcolor": "#E5ECF6",
          "polar": {
           "angularaxis": {
            "gridcolor": "white",
            "linecolor": "white",
            "ticks": ""
           },
           "bgcolor": "#E5ECF6",
           "radialaxis": {
            "gridcolor": "white",
            "linecolor": "white",
            "ticks": ""
           }
          },
          "scene": {
           "xaxis": {
            "backgroundcolor": "#E5ECF6",
            "gridcolor": "white",
            "gridwidth": 2,
            "linecolor": "white",
            "showbackground": true,
            "ticks": "",
            "zerolinecolor": "white"
           },
           "yaxis": {
            "backgroundcolor": "#E5ECF6",
            "gridcolor": "white",
            "gridwidth": 2,
            "linecolor": "white",
            "showbackground": true,
            "ticks": "",
            "zerolinecolor": "white"
           },
           "zaxis": {
            "backgroundcolor": "#E5ECF6",
            "gridcolor": "white",
            "gridwidth": 2,
            "linecolor": "white",
            "showbackground": true,
            "ticks": "",
            "zerolinecolor": "white"
           }
          },
          "shapedefaults": {
           "line": {
            "color": "#2a3f5f"
           }
          },
          "ternary": {
           "aaxis": {
            "gridcolor": "white",
            "linecolor": "white",
            "ticks": ""
           },
           "baxis": {
            "gridcolor": "white",
            "linecolor": "white",
            "ticks": ""
           },
           "bgcolor": "#E5ECF6",
           "caxis": {
            "gridcolor": "white",
            "linecolor": "white",
            "ticks": ""
           }
          },
          "title": {
           "x": 0.05
          },
          "xaxis": {
           "automargin": true,
           "gridcolor": "white",
           "linecolor": "white",
           "ticks": "",
           "title": {
            "standoff": 15
           },
           "zerolinecolor": "white",
           "zerolinewidth": 2
          },
          "yaxis": {
           "automargin": true,
           "gridcolor": "white",
           "linecolor": "white",
           "ticks": "",
           "title": {
            "standoff": 15
           },
           "zerolinecolor": "white",
           "zerolinewidth": 2
          }
         }
        },
        "transition": {
         "duration": 20
        },
        "xaxis": {
         "showgrid": false,
         "showline": false,
         "showticklabels": false
        },
        "yaxis": {
         "showgrid": false,
         "showline": false,
         "showticklabels": false
        }
       }
      },
      "text/html": [
       "<div>                            <div id=\"e8ffc02a-cf00-4181-9fe8-ad6562202dc7\" class=\"plotly-graph-div\" style=\"height:1300px; width:100%;\"></div>            <script type=\"text/javascript\">                require([\"plotly\"], function(Plotly) {                    window.PLOTLYENV=window.PLOTLYENV || {};                                    if (document.getElementById(\"e8ffc02a-cf00-4181-9fe8-ad6562202dc7\")) {                    Plotly.newPlot(                        \"e8ffc02a-cf00-4181-9fe8-ad6562202dc7\",                        [{\"hoverinfo\": \"text\", \"marker\": {\"color\": [\"rgba(255,0,0,.7)\", \"rgba(0,255,0,.7)\", \"rgba(0,0,255,.7)\"], \"line\": {\"color\": \"rgb(50,50,50)\", \"width\": 0.5}, \"opacity\": 0.99, \"size\": 8, \"symbol\": \"square\"}, \"mode\": \"markers\", \"name\": \"image channels\", \"text\": [\"r\", \"g\", \"b\"], \"type\": \"scatter\", \"x\": [-5, -5, -5], \"y\": [2, 0, -2]}, {\"customdata\": [[50.0, 50.0, 1.0], [56.0, 56.0, 0.5265068603794981], [38.0, 38.0, 0.3896398925434926], [47.0, 47.0, 0.3756413754212973], [28.0, 28.0, 0.2990399977967611], [43.0, 43.0, 0.29424985266743325], [34.0, 34.0, 0.2940277215832711], [49.0, 49.0, 0.27671341424294904]], \"hovertemplate\": \"<b>%{customdata[0]}</b><br><i>layerwise ID</i>: %{customdata[1]}<br><i>Score</i>: %{customdata[2]:.3f}<br>\", \"marker\": {\"color\": \"rgba(50,50,50,0)\", \"line\": {\"color\": \"rgba(50,50,50,0)\", \"width\": 0.5}, \"opacity\": 0, \"size\": 6, \"symbol\": \"circle\"}, \"mode\": \"markers\", \"name\": \"features_0\", \"text\": [\"50\", \"56\", \"38\", \"47\", \"28\", \"43\", \"34\", \"49\"], \"type\": \"scatter\", \"x\": [0, 0, 0, 0, 0, 0, 0, 0], \"y\": [-3.5, -2.5, -1.5, -0.5, 0.5, 1.5, 2.5, 3.5]}, {\"customdata\": [[99.0, 35.0, 1.0]], \"hovertemplate\": \"<b>%{customdata[0]}</b><br><i>layerwise ID</i>: %{customdata[1]}<br><i>Score</i>: %{customdata[2]:.3f}<br>\", \"marker\": {\"color\": \"rgba(50,50,50,0)\", \"line\": {\"color\": \"rgba(50,50,50,0)\", \"width\": 0.5}, \"opacity\": 0, \"size\": 6, \"symbol\": \"circle\"}, \"mode\": \"markers\", \"name\": \"features_3\", \"text\": [\"99\"], \"type\": \"scatter\", \"x\": [5], \"y\": [0.0]}, {\"hoverinfo\": \"text\", \"legendgroup\": \"edges 1\", \"line\": {\"color\": \"rgba(161,165,170,1)\", \"width\": 1.236209478547574}, \"mode\": \"lines\", \"name\": \"features_0\", \"showlegend\": false, \"text\": \"g-28\", \"type\": \"scatter\", \"x\": [-5, -4.0, -3.0, -2.0, -1.0, 0], \"y\": [0, 0.1, 0.2, 0.30000000000000004, 0.4, 0.5]}, {\"hoverinfo\": \"text\", \"legendgroup\": \"edges 1\", \"line\": {\"color\": \"rgba(161,165,170,1)\", \"width\": 1.0987028825987177}, \"mode\": \"lines\", \"name\": \"features_0\", \"showlegend\": false, \"text\": \"r-28\", \"type\": \"scatter\", \"x\": [-5, -4.0, -3.0, -2.0, -1.0, 0], \"y\": [2, 1.7, 1.4, 1.1, 0.8, 0.5]}, {\"hoverinfo\": \"text\", \"legendgroup\": \"edges 1\", \"line\": {\"color\": \"rgba(161,165,170,1)\", \"width\": 1.1987409144934482}, \"mode\": \"lines\", \"name\": \"features_0\", \"showlegend\": false, \"text\": \"g-34\", \"type\": \"scatter\", \"x\": [-5, -4.0, -3.0, -2.0, -1.0, 0], \"y\": [0, 0.5, 1.0, 1.5, 2.0, 2.5]}, {\"hoverinfo\": \"text\", \"legendgroup\": \"edges 1\", \"line\": {\"color\": \"rgba(161,165,170,1)\", \"width\": 1.1590899682735678}, \"mode\": \"lines\", \"name\": \"features_0\", \"showlegend\": false, \"text\": \"r-34\", \"type\": \"scatter\", \"x\": [-5, -4.0, -3.0, -2.0, -1.0, 0], \"y\": [2, 2.1, 2.2, 2.3, 2.4, 2.5]}, {\"hoverinfo\": \"text\", \"legendgroup\": \"edges 1\", \"line\": {\"color\": \"rgba(162,166,170,1)\", \"width\": 4.4816890703380645}, \"mode\": \"lines\", \"name\": \"features_0\", \"showlegend\": true, \"text\": \"b-38\", \"type\": \"scatter\", \"x\": [-5, -4.0, -3.0, -2.0, -1.0, 0], \"y\": [-2, -1.9, -1.8, -1.7, -1.6, -1.5]}, {\"hoverinfo\": \"text\", \"legendgroup\": \"edges 1\", \"line\": {\"color\": \"rgba(160,165,170,1)\", \"width\": 2.5961354476660823}, \"mode\": \"lines\", \"name\": \"features_0\", \"showlegend\": false, \"text\": \"r-38\", \"type\": \"scatter\", \"x\": [-5, -4.0, -3.0, -2.0, -1.0, 0], \"y\": [2, 1.3, 0.6000000000000001, -0.09999999999999964, -0.7999999999999998, -1.5]}, {\"hoverinfo\": \"text\", \"legendgroup\": \"edges 1\", \"line\": {\"color\": \"rgba(161,165,170,1)\", \"width\": 1.285653946952783}, \"mode\": \"lines\", \"name\": \"features_0\", \"showlegend\": false, \"text\": \"b-43\", \"type\": \"scatter\", \"x\": [-5, -4.0, -3.0, -2.0, -1.0, 0], \"y\": [-2, -1.3, -0.6000000000000001, 0.09999999999999964, 0.7999999999999998, 1.5]}, {\"hoverinfo\": \"text\", \"legendgroup\": \"edges 1\", \"line\": {\"color\": \"rgba(159,164,170,1)\", \"width\": 1.0}, \"mode\": \"lines\", \"name\": \"features_0\", \"showlegend\": false, \"text\": \"g-43\", \"type\": \"scatter\", \"x\": [-5, -4.0, -3.0, -2.0, -1.0, 0], \"y\": [0, 0.3, 0.6, 0.8999999999999999, 1.2, 1.5]}, {\"hoverinfo\": \"text\", \"legendgroup\": \"edges 1\", \"line\": {\"color\": \"rgba(163,166,170,1)\", \"width\": 1.4116446805141034}, \"mode\": \"lines\", \"name\": \"features_0\", \"showlegend\": false, \"text\": \"b-47\", \"type\": \"scatter\", \"x\": [-5, -4.0, -3.0, -2.0, -1.0, 0], \"y\": [-2, -1.7, -1.4, -1.1, -0.8, -0.5]}, {\"hoverinfo\": \"text\", \"legendgroup\": \"edges 1\", \"line\": {\"color\": \"rgba(157,163,170,1)\", \"width\": 1.1448423041328732}, \"mode\": \"lines\", \"name\": \"features_0\", \"showlegend\": false, \"text\": \"g-47\", \"type\": \"scatter\", \"x\": [-5, -4.0, -3.0, -2.0, -1.0, 0], \"y\": [0, -0.1, -0.2, -0.30000000000000004, -0.4, -0.5]}, {\"hoverinfo\": \"text\", \"legendgroup\": \"edges 1\", \"line\": {\"color\": \"rgba(161,165,170,1)\", \"width\": 2.558345145949038}, \"mode\": \"lines\", \"name\": \"features_0\", \"showlegend\": false, \"text\": \"r-49\", \"type\": \"scatter\", \"x\": [-5, -4.0, -3.0, -2.0, -1.0, 0], \"y\": [2, 2.3, 2.6, 2.9, 3.2, 3.5]}, {\"hoverinfo\": \"text\", \"legendgroup\": \"edges 1\", \"line\": {\"color\": \"rgba(161,165,170,1)\", \"width\": 2.3060749814948935}, \"mode\": \"lines\", \"name\": \"features_0\", \"showlegend\": false, \"text\": \"b-49\", \"type\": \"scatter\", \"x\": [-5, -4.0, -3.0, -2.0, -1.0, 0], \"y\": [-2, -0.8999999999999999, 0.20000000000000018, 1.3000000000000003, 2.4000000000000004, 3.5]}, {\"hoverinfo\": \"text\", \"legendgroup\": \"edges 1\", \"line\": {\"color\": \"rgba(161,166,170,1)\", \"width\": 3.9402088290895163}, \"mode\": \"lines\", \"name\": \"features_0\", \"showlegend\": false, \"text\": \"r-50\", \"type\": \"scatter\", \"x\": [-5, -4.0, -3.0, -2.0, -1.0, 0], \"y\": [2, 0.8999999999999999, -0.20000000000000018, -1.3000000000000003, -2.4000000000000004, -3.5]}, {\"hoverinfo\": \"text\", \"legendgroup\": \"edges 1\", \"line\": {\"color\": \"rgba(160,165,170,1)\", \"width\": 2.8024838382071366}, \"mode\": \"lines\", \"name\": \"features_0\", \"showlegend\": false, \"text\": \"g-50\", \"type\": \"scatter\", \"x\": [-5, -4.0, -3.0, -2.0, -1.0, 0], \"y\": [0, -0.7, -1.4, -2.0999999999999996, -2.8, -3.5]}, {\"hoverinfo\": \"text\", \"legendgroup\": \"edges 1\", \"line\": {\"color\": \"rgba(161,165,170,1)\", \"width\": 3.5120668172840643}, \"mode\": \"lines\", \"name\": \"features_0\", \"showlegend\": false, \"text\": \"r-56\", \"type\": \"scatter\", \"x\": [-5, -4.0, -3.0, -2.0, -1.0, 0], \"y\": [2, 1.1, 0.19999999999999996, -0.7000000000000002, -1.6, -2.5]}, {\"hoverinfo\": \"text\", \"legendgroup\": \"edges 1\", \"line\": {\"color\": \"rgba(164,167,170,1)\", \"width\": 1.6566728339738033}, \"mode\": \"lines\", \"name\": \"features_0\", \"showlegend\": false, \"text\": \"g-56\", \"type\": \"scatter\", \"x\": [-5, -4.0, -3.0, -2.0, -1.0, 0], \"y\": [0, -0.5, -1.0, -1.5, -2.0, -2.5]}, {\"hoverinfo\": \"text\", \"legendgroup\": \"edges 1\", \"line\": {\"color\": \"rgba(159,165,170,1)\", \"width\": 1.6228340006284157}, \"mode\": \"lines\", \"name\": \"features_0\", \"showlegend\": false, \"text\": \"b-56\", \"type\": \"scatter\", \"x\": [-5, -4.0, -3.0, -2.0, -1.0, 0], \"y\": [-2, -2.1, -2.2, -2.3, -2.4, -2.5]}, {\"hoverinfo\": \"text\", \"legendgroup\": \"edges 2\", \"line\": {\"color\": \"rgba(190,32,47,1)\", \"width\": 4.4816890703380645}, \"mode\": \"lines\", \"name\": \"features_3\", \"showlegend\": true, \"text\": \"50-99\", \"type\": \"scatter\", \"x\": [0, 1.0, 2.0, 3.0, 4.0, 5], \"y\": [-3.5, -2.8, -2.1, -1.4000000000000004, -0.7000000000000002, 0.0]}, {\"hoverinfo\": \"text\", \"legendgroup\": \"edges 2\", \"line\": {\"color\": \"rgba(42,104,168,1)\", \"width\": 1.673993224765754}, \"mode\": \"lines\", \"name\": \"features_3\", \"showlegend\": false, \"text\": \"56-99\", \"type\": \"scatter\", \"x\": [0, 1.0, 2.0, 3.0, 4.0, 5], \"y\": [-2.5, -2.0, -1.5, -1.0, -0.5, 0.0]}, {\"hoverinfo\": \"text\", \"legendgroup\": \"edges 2\", \"line\": {\"color\": \"rgba(180,100,108,1)\", \"width\": 1.3112195804637294}, \"mode\": \"lines\", \"name\": \"features_3\", \"showlegend\": false, \"text\": \"47-99\", \"type\": \"scatter\", \"x\": [0, 1.0, 2.0, 3.0, 4.0, 5], \"y\": [-0.5, -0.4, -0.3, -0.19999999999999996, -0.09999999999999998, 0.0]}, {\"hoverinfo\": \"text\", \"legendgroup\": \"edges 2\", \"line\": {\"color\": \"rgba(55,111,169,1)\", \"width\": 1.2635359827759465}, \"mode\": \"lines\", \"name\": \"features_3\", \"showlegend\": false, \"text\": \"38-99\", \"type\": \"scatter\", \"x\": [0, 1.0, 2.0, 3.0, 4.0, 5], \"y\": [-1.5, -1.2, -0.9, -0.6000000000000001, -0.30000000000000004, 0.0]}, {\"hoverinfo\": \"text\", \"legendgroup\": \"edges 2\", \"line\": {\"color\": \"rgba(55,110,169,1)\", \"width\": 1.0425987689773017}, \"mode\": \"lines\", \"name\": \"features_3\", \"showlegend\": false, \"text\": \"28-99\", \"type\": \"scatter\", \"x\": [0, 1.0, 2.0, 3.0, 4.0, 5], \"y\": [0.5, 0.4, 0.3, 0.19999999999999996, 0.09999999999999998, 0.0]}, {\"hoverinfo\": \"text\", \"legendgroup\": \"edges 2\", \"line\": {\"color\": \"rgba(46,106,168,1)\", \"width\": 1.031425342262482}, \"mode\": \"lines\", \"name\": \"features_3\", \"showlegend\": false, \"text\": \"34-99\", \"type\": \"scatter\", \"x\": [0, 1.0, 2.0, 3.0, 4.0, 5], \"y\": [2.5, 2.0, 1.5, 1.0, 0.5, 0.0]}, {\"hoverinfo\": \"text\", \"legendgroup\": \"edges 2\", \"line\": {\"color\": \"rgba(34,99,168,1)\", \"width\": 1.0306728378907652}, \"mode\": \"lines\", \"name\": \"features_3\", \"showlegend\": false, \"text\": \"43-99\", \"type\": \"scatter\", \"x\": [0, 1.0, 2.0, 3.0, 4.0, 5], \"y\": [1.5, 1.2, 0.9, 0.6000000000000001, 0.30000000000000004, 0.0]}, {\"hoverinfo\": \"text\", \"legendgroup\": \"edges 2\", \"line\": {\"color\": \"rgba(54,110,169,1)\", \"width\": 1.0}, \"mode\": \"lines\", \"name\": \"features_3\", \"showlegend\": false, \"text\": \"49-99\", \"type\": \"scatter\", \"x\": [0, 1.0, 2.0, 3.0, 4.0, 5], \"y\": [3.5, 2.8, 2.1, 1.4000000000000004, 0.7000000000000002, 0.0]}, {\"hoverinfo\": \"skip\", \"marker\": {\"color\": \"rgba(255,255,255,0)\", \"line\": {\"color\": \"rgba(255,255,255,0)\", \"width\": 0.5}, \"opacity\": 0, \"size\": 6, \"symbol\": \"circle\"}, \"mode\": \"markers\", \"name\": \"misc\", \"showlegend\": false, \"text\": \"full\", \"type\": \"scatter\", \"x\": [-5.5], \"y\": [-2.5]}],                        {\"clickmode\": \"event+select\", \"height\": 1300, \"images\": [{\"name\": \"50\", \"sizex\": 1, \"sizey\": 1, \"source\": \"data:image/jpg;base64,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\", \"x\": 0, \"xanchor\": \"center\", \"xref\": \"x\", \"y\": -3.5, \"yanchor\": \"middle\", \"yref\": \"y\"}, {\"name\": \"56\", \"sizex\": 1, \"sizey\": 1, \"source\": \"data:image/jpg;base64,/9j/4AAQSkZJRgABAQAAAQABAAD/2wBDAAgGBgcGBQgHBwcJCQgKDBQNDAsLDBkSEw8UHRofHh0aHBwgJC4nICIsIxwcKDcpLDAxNDQ0Hyc5PTgyPC4zNDL/2wBDAQkJCQwLDBgNDRgyIRwhMjIyMjIyMjIyMjIyMjIyMjIyMjIyMjIyMjIyMjIyMjIyMjIyMjIyMjIyMjIyMjIyMjL/wAARCADgAOADASIAAhEBAxEB/8QAHwAAAQUBAQEBAQEAAAAAAAAAAAECAwQFBgcICQoL/8QAtRAAAgEDAwIEAwUFBAQAAAF9AQIDAAQRBRIhMUEGE1FhByJxFDKBkaEII0KxwRVS0fAkM2JyggkKFhcYGRolJicoKSo0NTY3ODk6Q0RFRkdISUpTVFVWV1hZWmNkZWZnaGlqc3R1dnd4eXqDhIWGh4iJipKTlJWWl5iZmqKjpKWmp6ipqrKztLW2t7i5usLDxMXGx8jJytLT1NXW19jZ2uHi4+Tl5ufo6erx8vP09fb3+Pn6/8QAHwEAAwEBAQEBAQEBAQAAAAAAAAECAwQFBgcICQoL/8QAtREAAgECBAQDBAcFBAQAAQJ3AAECAxEEBSExBhJBUQdhcRMiMoEIFEKRobHBCSMzUvAVYnLRChYkNOEl8RcYGRomJygpKjU2Nzg5OkNERUZHSElKU1RVVldYWVpjZGVmZ2hpanN0dXZ3eHl6goOEhYaHiImKkpOUlZaXmJmaoqOkpaanqKmqsrO0tba3uLm6wsPExcbHyMnK0tPU1dbX2Nna4uPk5ebn6Onq8vP09fb3+Pn6/9oADAMBAAIRAxEAPwBtGaTNJVALmikzRmmAuaKTNJmgB2aM03NGaQDs0lJmlzQAZpaSigBc0uabS0gFzS02lzSAWjNJRmgB2aM0maKAFopKM0AGaM0maKYC0UlFABRRmkzTAbRSZpM0xC5ozSZpM0wHZozTc0ZoAdRTc0uaAFzRmkopAOopKKQxc0tJmigBaXNJRSAWiiigAzS5pKKAFzRmkozQAUUlFMBaKSjNABmjNJSZpiG5pM0maTNUA7NJmkzSZosA7NGabmjNFgHUuaZmjNAD80uaZmlzSAdmlzTc0oNIY6ikpRUgLS0gpRSAKWijFFwCijFFAhKKDQaYwpM0UmaYhc0maSimAZopM0maYDc00mkJpM1dhC5pM03NGaLAOzRmmZpM07ASbqN1R7qTdSsBNmlzUO6nBqTQyXNOBqINTgahgSCnCmA08VDYx4paQU4VNwClxRilxSuAmKTFOxRTuAzFJT8UhFUmAykNOxSEVSENpKXFNNUgDNNzQaQmqsAw0w1IRTCKtCGE0m6g0w1VhDt1JuqItTS9PlFcm3U3dUPmUnmUcoXJ99ODVWD08PUyQ7ltWp6tVUSVIslYSGi0pqRarK1Toc1jJlInAp4FNQVMFrJzKGgUuKeFpdtLmCxHikxUu2kxVKQiLFIRUhFIRWiYERFNIqUimkVaYiMimEVIRTSKtMRGaYalIphFWgAioyKmIphFUmIgYUxhU5FRsKtMRWYVC1W2WoXStUxFViRURcirDpVZ1rVJMlh52KeLgetU3yKgaUih0ObYVzXFwD3p4m7g1z7XRXvUZ1Nozya56mHnHWxSkdVHccgE1oQEOMg5rjLfXIC4SWREyerHiuw0yzea0W+tpY7iDOCYmzj6/wCFeXiJKC10NYmlEh/CrKx1PaQrPEGQdOoPWrItsDpXmPEq5pYpeXRsq4YcUwx1pGrcLFQrTStWWSmFa3jMRXK00ipitMK1tGQiEimkVKRTSK1TEREUwipSKaRWiYiIimEVKRTCK0TEBFMIqYimEUJgQkUwipiKYRWiYEBFMZanIqMitEySsyVA8dXWWomWtFITRmyxVQnhIrbdKqyQ57VtGrYlo5ycFTVKR88ZroLi0DZ4rDvbKVEYqDkciu2ljIw+JXJauUJoQNxVdwb7yn+Y/WvSPgdo9xc6xqV8z7rCGER9Th5GOR7cANnuNw9a8xacspyrEgfOh7c9R+nFfT3w38Or4c8H20PnedNd4u5mDq673VeFKkggAAZBwcZHWvnuPMwwVHL4/VVac3b9W/8AgdHfbrvhYSc9dkbU2lQYLpGFYdwOorOmsNg4FdG/K4qrNGCK/KsLj6n2md0oLoc1JbY7VVeHHaugnhB7VQlh5r6HD4vmMWjGeOoWStKSLrVV469anVuQyky1GVq0yVEy12QkIrkUwip2WoyK3jIRCRTCKmIphFapiIiKYRUpFMIrVMQEU0ipSKYRSTAiIphFTEU0itExEBFMK1OVphFWpAQFaYVqwVppWqUhWKjJUbR1cKU0x0+cVjPaDI6VC9iJFAI6dDWsIqkjhHcVlUqOwWM628MaXcXcV7NGzbGy9uE+Vx0x268mvYtN8Q213GoEU0Lf3XXpXn9rEEIat+0kGB1r5nNKCxCtUV7beRtT913R2wuVfkdKazg1iQ3DDHNXEuM96+Yll6g/dOhTuTykYqlKAafLccVUkuF6GuuhQkiW0RyKDVSRKsNKDUTEGvWpKSM2VHSoGSrjioGWu6EmSVWWomWrLLUTCuqMhFcimEVOwqMit4sRCRTCKmIphFaJgBFMIqYimEU0xERFMIqYimEVaYERFNIqUimkVSYERWkK1Lik207iIdtG2pdtLtpOQEQSpkSgLUiispMZPCMGtK3bHes1OKtxNg1w1oXKRtQy8VYWfjrWQs2BUiz+9eZPDXZXMXpbgKpNZ81yemetJM5IwP51UIYtmuuhh0lqS2XFlNSebVJDipA1buiguWC+aaTUW6k3UvZ2Hcc1REU4tTCatRsAwioyKlNMNaoRERTCKlNMIrRMQhpppxppq0AwikxTzTSKYhhFNIqSkIqrgR4pMU/FGKLgMxRinYpcUrgIBTwKAKUVLAetTKcVCKeDWUkMsB6eH5quDTgxrJwAsbs8UhqINTgwNNRsA/ilpmRRmrAdmkLU0mkzTsA7NJmmZozT5QHE00mkzSZp2ADTTS5ppNOwDaSikq7ABpKKKYCUlLSUAJijFLRQIbS0UUgFFLSUtJgKKeDTKUVLQyQUoNMBpc0rASZpc1HmlzSsBJmjdTM0Zp2EPzTSabmjNNIB2aTNJmkzVWGOzSZpM0maLALSUZpM07ANzSUZpKoQZopKKACiijNABRSUUALRSUtIApaSikA6ikopWGOpabmlzRYB2aM03NLmiwDs0ZpuaM0WEOozTc0ZpgOzSZpM0UALmikzSZpgLSZozSUwG5opKM0wCikzRTAWikzSZoAXNLmm5pc0gFopKKAFpabmlpWAWlptLmlYBc0UlLmiwC5ozSUUWAXNGaSlzQAtFJmjNAC0maM0maYC5ozSZpM0ALmjNJmkzTASkzRmkpgLRmkopgGaKKKACjNJRSAdmim0ZoAdRmkzRmkA7NGaTNFADqKTNFKwDs0ZpuaXNAC5opKKAFzRmkozTAXNJRmkoAWikozTAXNJSUUAf//Z\", \"x\": 0, \"xanchor\": \"center\", \"xref\": \"x\", \"y\": -2.5, \"yanchor\": \"middle\", \"yref\": \"y\"}, {\"name\": \"38\", \"sizex\": 1, \"sizey\": 1, \"source\": \"data:image/jpg;base64,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\", \"x\": 0, \"xanchor\": \"center\", \"xref\": \"x\", \"y\": -1.5, \"yanchor\": \"middle\", \"yref\": \"y\"}, {\"name\": \"47\", \"sizex\": 1, \"sizey\": 1, \"source\": \"data:image/jpg;base64,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\", \"x\": 0, \"xanchor\": \"center\", \"xref\": \"x\", \"y\": -0.5, \"yanchor\": \"middle\", \"yref\": \"y\"}, {\"name\": \"28\", \"sizex\": 1, \"sizey\": 1, \"source\": \"data:image/jpg;base64,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\", \"x\": 0, \"xanchor\": \"center\", \"xref\": \"x\", \"y\": 0.5, \"yanchor\": \"middle\", \"yref\": \"y\"}, {\"name\": \"43\", \"sizex\": 1, \"sizey\": 1, \"source\": \"data:image/jpg;base64,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\", \"x\": 0, \"xanchor\": \"center\", \"xref\": \"x\", \"y\": 1.5, \"yanchor\": \"middle\", \"yref\": \"y\"}, {\"name\": \"34\", \"sizex\": 1, \"sizey\": 1, \"source\": \"data:image/jpg;base64,/9j/4AAQSkZJRgABAQAAAQABAAD/2wBDAAgGBgcGBQgHBwcJCQgKDBQNDAsLDBkSEw8UHRofHh0aHBwgJC4nICIsIxwcKDcpLDAxNDQ0Hyc5PTgyPC4zNDL/2wBDAQkJCQwLDBgNDRgyIRwhMjIyMjIyMjIyMjIyMjIyMjIyMjIyMjIyMjIyMjIyMjIyMjIyMjIyMjIyMjIyMjIyMjL/wAARCADgAOADASIAAhEBAxEB/8QAHwAAAQUBAQEBAQEAAAAAAAAAAAECAwQFBgcICQoL/8QAtRAAAgEDAwIEAwUFBAQAAAF9AQIDAAQRBRIhMUEGE1FhByJxFDKBkaEII0KxwRVS0fAkM2JyggkKFhcYGRolJicoKSo0NTY3ODk6Q0RFRkdISUpTVFVWV1hZWmNkZWZnaGlqc3R1dnd4eXqDhIWGh4iJipKTlJWWl5iZmqKjpKWmp6ipqrKztLW2t7i5usLDxMXGx8jJytLT1NXW19jZ2uHi4+Tl5ufo6erx8vP09fb3+Pn6/8QAHwEAAwEBAQEBAQEBAQAAAAAAAAECAwQFBgcICQoL/8QAtREAAgECBAQDBAcFBAQAAQJ3AAECAxEEBSExBhJBUQdhcRMiMoEIFEKRobHBCSMzUvAVYnLRChYkNOEl8RcYGRomJygpKjU2Nzg5OkNERUZHSElKU1RVVldYWVpjZGVmZ2hpanN0dXZ3eHl6goOEhYaHiImKkpOUlZaXmJmaoqOkpaanqKmqsrO0tba3uLm6wsPExcbHyMnK0tPU1dbX2Nna4uPk5ebn6Onq8vP09fb3+Pn6/9oADAMBAAIRAxEAPwBtLiiigAoooxQAUUtFACYpcUUUAJijFLRQAUUUUAJRS0lABRRiikAlFLRTASiiikAYpKWimAlFLRQAlLiiigAoopcUAFLRRQAUUUtACYpaKKACilxRQAlFLRSASjFLRigBMUlLRQAmKKWikAlJTqSgBKKWkpgJRS0UAJRS4opgJiloooAKKKMUALS0lLQAUUuKKYBRS0UAGKKXFFIBKKWjFIBKMUuKMUhjaKdikxQAmKSnUlIBKSnUlACUUUUxCUUtFACUUUUwCiiloAKKKKYC0tJS0wClopaACjFLRQAUuKXFGKAExRinYoxSAbijFOxRipYxmKSn4pCKkBuKTFPxSUrgMxRTqSi4DaKWkpgJRS0lMQUUUUwEpaKKYBRQKWmAtFFFMBaWkpaAFpwpBThTAMUuKUU4CgBoFLinBadtpWAixRipCtN21DGMIpMVJik25rNsZHijFSEAU0ip5gI8UmKkxTTRcBhpKcaaapMQlJS0VSASiiimhBRRRVAKKKQUtMBaKSloAWlptOFMBwpwpgpwpgPFPFMFSLTEOAqQCmqKlVc0WGRlaTZirGw0oQgZxScbjKjL3phI9akuGO7anBNUBPAHOZ0yOSu7qKynBpXGi4B3pCKWCYXP+qXKjvUphfuK4ZVEnYtIrEUwirLREVCy4q4zuJohIppqQimmtUyRtJS0VaYhKSlpKoAoooqhBS0lLTAKKSiqAdSim0opgOpwNMpwNMRIDUimoQaeDVAWFNWI+apqasRtinYZoQxBiK27HSlnxkcVi20gBFdVpE6AgEilK6Q0jmPiD4e+xeE7q9tRjYB5mRkrk4DL+JGfbNfPemXN/ca3FHHHPdy7iRGkZlYhQScLzwAM9OAM19i6pZR6toV7YNIUS5t3hLjqoZSMj86+NorzUPC/iuOdAYb2xuSrAscZU4ZTtIyp5BGeQSK6uaM8BP8AnT087r/Mz/5eeR9UWGkW8OlwIsKqfLBPHfFZd/YCJiQK6bTbiO90i2ukZGWWJXDKcg5GeOlYWsTqCRmvznDOvzXn1O+y2ObnUKTVGTGaszygsapSPX0FK9jGSGNTTSFqaTXZEgWkpM0ZrREhRSZoq0AZpabmlqhC0UlFMAopKWqAUUtNpaYDs0uabmjNMCQGnA1EDTs1SAmVqlV8VVBp4aqQGjFNg1p2moGJhzWAr1KspHeqC52D+Kjb25AXdx09a8j8TeFF8U65Pq0NyYhjEqzABy2MDGBgr0688V1c1woXnmsyaUs428Y54qk3GLUepLs3dmromualpOl22jzRjFtGEEqnO4Cn3WpNMSWPNZ8NyPL2sPzqtcSjdXkTwkea6RsqjLLz7uRVd5veohJlTjP1qrJI26pULOwNlzzM0u+qaOTUytWqRJPuozUYNLmrQh+aM03NLmqQC5pabS1QhaWm5pc0wEpabS0wHUUlFUAuaWkoFMBwpRTRS0wHinA0wGlzVIB+6l8yo80mapMQOciqUhIOattzULLk1aYmPgXzAC1E8QXjtUsZVRimTNmsJ6saK4qCWPmrQFRyCuWUdS7ldFxUwpoFOFFhDhS5ptKKdgHClpBS1QC0tNpaYC0tJRTEFLSUtMApaSlpgLSim0tMBaWkopgLS5ptLmmIXNJRmkzTuAE03FLSU7gOyMUxjQaSoYDckUh5p1IRWbQyPFFONJipsAlLRRRYYtLSUtMBaWkopiFooopgLS0lLQAUtJRTAWlpKKYC0uabmloAWjNJRTELmkopKAFpKKSi4BSUtJQAlIaWipYDaKWkxSGJRS0UgEpaKKAAUtFFAC0CilFMAoooFAC0UUUwClpKWgAooooAXNFJRTAWkoooAKSlpKACkpaSgQUlLRSAbRS0UhiUUuKTFABRRilpAJS0UUAFKKSlpgFLRRQAUUUUAFLRRTAKKKKACiiigAooooASilooASilpKAEopaKBCUUUUDEopaKQCUUuKKAEopaKACiiigBaKWigAooooAKKWigAxRRRQAUUUUAJiilooASilopgJRRRSAKSlooASiiigBKKWigBKKWigBKKWigAoooxQB//9k=\", \"x\": 0, \"xanchor\": \"center\", \"xref\": \"x\", \"y\": 2.5, \"yanchor\": \"middle\", \"yref\": \"y\"}, {\"name\": \"49\", \"sizex\": 1, \"sizey\": 1, \"source\": \"data:image/jpg;base64,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\", \"x\": 0, \"xanchor\": \"center\", \"xref\": \"x\", \"y\": 3.5, \"yanchor\": \"middle\", \"yref\": \"y\"}, {\"name\": \"99\", \"sizex\": 1, \"sizey\": 1, \"source\": \"data:image/jpg;base64,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\", \"x\": 5, \"xanchor\": \"center\", \"xref\": \"x\", \"y\": 0.0, \"yanchor\": \"middle\", \"yref\": \"y\"}, {\"name\": \"g-28\", \"sizex\": 0.5, \"sizey\": 0.5, \"source\": \"data:image/jpg;base64,/9j/4AAQSkZJRgABAQAAAQABAAD/2wBDAAMCAgICAgMCAgIDAwMDBAYEBAQEBAgGBgUGCQgKCgkICQkKDA8MCgsOCwkJDRENDg8QEBEQCgwSExIQEw8QEBD/2wBDAQMDAwQDBAgEBAgQCwkLEBAQEBAQEBAQEBAQEBAQEBAQEBAQEBAQEBAQEBAQEBAQEBAQEBAQEBAQEBAQEBAQEBD/wAARCAAyADIDASIAAhEBAxEB/8QAHAAAAQUBAQEAAAAAAAAAAAAAAAMFBgcIAgEJ/8QAOxAAAQIEAwUEBwUJAAAAAAAAAQIDAAQFERITIQYHFDFBIlFhsQgVIzJScoIJM2KSoRYXNEJTVWRxkf/EABgBAAMBAQAAAAAAAAAAAAAAAAQFBgID/8QAMBEAAQMCAwQJBAMAAAAAAAAAAQACAwQFESExBjKBsQcSEzNRYXGRoRQ0UlOywfD/2gAMAwEAAhEDEQA/APpY823wjRS2kKITc256RGdsKjk0OblZRTrM2MvC6g4bdtJPaBvyuIk0wSJNrD+HyiptvK+8KrPUaWm/b+ywt5Y+FKuZFuWvOBnzmGsibjvPaPcoxlN9RQTuw3WPdl5BeUSt1IVGRlZqozbpMw2ld3lKCgVjQ3Ouhh/2tqUzL1JtEtMvtJLAJShZSL4la6GMz/vVq9O350jYp6vZYcrNNllS3CpNw6pk4cYR1x876X6Rbm+ra1ezu1MrJJqHD46eh3DlY73ccF72PwwVtnHJQMjfoHDHL/BcOjsC6TSRYYlpwz9OKuyUAbx5wC72t1t/2HRTDBGjKPyiGND5N+3+kPbTmYopSb6XjFMSYGuB8eaxVYCoc0+XJNbwAdWALAKI/WCPX9H3PnPnBDEaINLvqVwrYvoLeUZ/2hmX5vfrMUfHmNrwexSBiNpMK6a9LxfuIuoS2rkAOUUW1ItPelMEqUsA9xH9uiauWMdVC/wezmq+wNbLR1bD+mTkFjHeLXavTPtCqJs+iaLEmNr9l21MqbTcJWmSKhcjFriPXrGiPTHqs1IbzqYzTplKWzQWVEAJV2uImOpv0Aigt/8ASJaV+0Yl59tbpcY2p2XdSFEWJSxIkX05aReXpHyze0W3EjOzpUhxFKaaAa0Fg88et9e0Yo9uGukt0Ez9Oq35SzorfHBfZIcPy+FqGgzzlQz7vpey8Pu20vfu/wBRLaeol5Vz/KfMRAt2Az/WePTDk8vrib01xRfVoPcPmIU2t5koWE+fMrje4hBcntGmX8QkJj+Id+dXnBA/q+4fxnzghwNEpOqVlRgXive6YrhErbfqJ7M+m3+HbnFmMIKEpWbWKRyhgbaV+3ImLjD3dfubRPXVnaSR56Pb/aorJN2Ec+Wsbh74LIW/DZji/Soma5x2C1TpDmVlX9xiW0vfrh7on1epXrGcQ/xGXhaCLYL9Se/xicbxaDOTW309UW3GQ2VsKsonFZLSAenhEi2Oos1MUx1aHGgA+oak/Cnwik2oca+zRRDVoYPYKW2NlNs2glndoS/5PFO269zP9Z6YcOT4/HEnp8theUcd+yeniIbNjUmW4zM1xZdrfVEhYlXGVlSikgi2hhDaT1KRrcfHmVQXwCSuc8DLLkE2vCzyx3KPnBHr/wB+58584IdjRJiucxy1sxVh4xwEID3EBCc347drlbnz5QQQDUbw9Qjqbdd6FIvyEjMuqemZJh1xXvLW2FKOltSRCkvLsSiC3KstsoJxFLaQkE99hBBDCfuBwSqm+6PFdNIQzfJSG788IteFeImP67n5jBBC+m3AmtV3hXBJJJJuTzMEEEHhAlf/2Q==\", \"visible\": true, \"x\": -3.0, \"xanchor\": \"center\", \"xref\": \"x\", \"y\": 0.2, \"yanchor\": \"middle\", \"yref\": \"y\"}, {\"name\": \"r-28\", \"sizex\": 0.5, \"sizey\": 0.5, \"source\": \"data:image/jpg;base64,/9j/4AAQSkZJRgABAQAAAQABAAD/2wBDAAMCAgICAgMCAgIDAwMDBAYEBAQEBAgGBgUGCQgKCgkICQkKDA8MCgsOCwkJDRENDg8QEBEQCgwSExIQEw8QEBD/2wBDAQMDAwQDBAgEBAgQCwkLEBAQEBAQEBAQEBAQEBAQEBAQEBAQEBAQEBAQEBAQEBAQEBAQEBAQEBAQEBAQEBAQEBD/wAARCAAyADIDASIAAhEBAxEB/8QAHAAAAQUBAQEAAAAAAAAAAAAAAAMFBgcIAgQJ/8QAQBAAAQIEAwQGBgQPAAAAAAAAAQIDAAQFERITIQYUMUEHCCJRcbEjMjRSYXIJFVOBFhgkJTNiZYKDkaG1wcLR/8QAFwEBAQEBAAAAAAAAAAAAAAAABQQGAv/EADYRAAEDAQIIDAcBAAAAAAAAAAEAAgMEBREGITFBYXGBsQcVIiQyMzRRUqGy8BIUI0JDcsGR/9oADAMBAAIRAxEAPwD6UzbSBJMqQhKVHDcgWJ0iG7X1ZaKbN02SefYnBl4XUKwgdpKj2gb8LiJbNvLVKNttquUkaW+EUttrtDOHbKcoEpOflHo8LWWPskrPaItw14xDNO6GuhaM72jRjKTp6UVVnVDrujG92nEE4USp1tFUkZebq826DMthYMwtQUCsaG510h623nqk1VmkyM/MS7Zl0kpQ6pAJxK1sPujObnSjtFTenWk7Ev13LQ5WaZLLlt1Qbh0skpxhHPHxvpflFqdNu169mtqpSRVUN2zKe27gycd7uOC98J93+kXYaxSUccTr7g4X4vYUnBwBaU0sYF5abuVq2q8HUKlrZhvi4Wh4abl1qIyEcOaREfq80UZXbtfFy8IepN67pxq0w90dRg/LtOvepZXc5c06Ny8L4AfcAAACyAB4wQTBu+4RzWfOCLW5ApzlSKlKV2Qb25CM21Kdn5zrXuUFa1OSy7egCBc2poXxAxcRfjGkZTtTK0nkD5xnVltP47STc8/7RGdtX6dVC/ue1bPBUCakrYyPwS/xZf6T67U6V9IbR9nm5sMSY2u2XbUwtCbhK0SRULkYtcR584vPro1Gek+lGltUp70JoDClYEhYxbxMcyDyAiiusFTmEfSNMVMKXmtbU7LugXGG6WJG19L2074u7rJfnvbmRmprsLRSWmwG9BYPPHnfvh/DYOks2CZ+Pkt80XwVvjgt+WEDx+S04icm6jfEsvZfupGl/AfCJbTXMb6gpQIwHzEQ3YlxUxvuMAYcu1v3ol9LQN4VqfUPmIOs6Qy2e0nTvKhtaIQ2o9oxDk+kLl79M5b3j5wQPaPOD9Y+cEKNyBHHKk6b7Y78qvMRTj0jfrOKm83u7OH9n24xd1P9A8p1eoUkjTxEQN5pT3TAX0kBJtoePstozluD4nRXeNv9WowXkMLai/PE8bllXpv2bzutFNVjfbYKlSXMvL44WJfS9+du6J9VaZ9ZzCX8/LwoCLYb8yb8R3xOekanP/hzPzeNGBJYURc3sGkfD4RIthKVMVWkPTEuttKUzKkELJBvhSeQPfGnwmc6usOGIfaGD/AFkMDpuLcJZp3HETJoynan/o/e3zf+zgwZXO974/8AkS+ktYJhRxX7B5fEQwdH5vv/APC/3iTSLakPEkj1f8iArJdzJrde8p+3GjjFzgO70heGY9od+dXnBBMe0O/OrzghkZEOVwFKHBRH3wjucpve/wC6s7z9tgGZwt63Hhp4QQQdV9JusJKg6L/1KSmaTSpx1T83TJR9xdsS3GUqUrS2pI10hWUk5SntlmQlWZZtSsRQygIBPC9hz0H8oIIVqOzDYg6bth2ruXZalMW6NIZx2xZaQm9uF7eMKh51Jul1Y8FGCCDaTqh7zpiu68+8wXJJJJJJJ1JMEEEXDIoSv//Z\", \"visible\": true, \"x\": -3.0, \"xanchor\": \"center\", \"xref\": \"x\", \"y\": 1.4, \"yanchor\": \"middle\", \"yref\": \"y\"}, {\"name\": \"g-34\", \"sizex\": 0.5, \"sizey\": 0.5, \"source\": \"data:image/jpg;base64,/9j/4AAQSkZJRgABAQAAAQABAAD/2wBDAAMCAgICAgMCAgIDAwMDBAYEBAQEBAgGBgUGCQgKCgkICQkKDA8MCgsOCwkJDRENDg8QEBEQCgwSExIQEw8QEBD/2wBDAQMDAwQDBAgEBAgQCwkLEBAQEBAQEBAQEBAQEBAQEBAQEBAQEBAQEBAQEBAQEBAQEBAQEBAQEBAQEBAQEBAQEBD/wAARCAAyADIDASIAAhEBAxEB/8QAHQAAAQMFAQAAAAAAAAAAAAAAAAQFCAIDBgcJAf/EADsQAAECAwUDCQcBCQAAAAAAAAECAwAEEQUGEhMhBxRRFRYiMUFhYnKxCAkjMjNSoTQXJCVCRHGBkZL/xAAZAQADAQEBAAAAAAAAAAAAAAADBAUCBgD/xAAxEQABAgMFBAkFAQAAAAAAAAABAAIDBBEFBhIhMRNBUXEUMjNCYYGh0fAiNEORk7L/2gAMAwEAAhEDEQA/AOmrMuyphsllskoBJKRwizPstMyy3Q2gAU6hr1iFMuTkN+QekJLUU4qWdbSa1w6f5EZjE4HUO4rcCm0aDvITTaMyhdjTbbAUh9Uu6G3BoUqKTQ1Gooaaxjt2V2lLSDiLSnnZh0vEhRdUuicKdKq76w2Wxeh2XvGq7qZ7C4440ylnKBqVpTQYqduLj2xov2hds969k99JK7sneTkpEzZbc6WdzbfxFTrqMWIoVT6YFK9nVrDt29pa4fLsIxA7/DlUpK9MMWK6HMvBwuFcvHnQKWc8+w3gwtkVr1Ad0KmJbpnElBFOEYFtMvzY91+Tc21N23nOp8BS8WHB4TT5vzGxmUqCjiGlIiw4jjMPhOObaeoqr8WAGSkKYaPpfip5GhTW6Al1YApRRH5gj1/67nnPrBF5ugUA6p4lwN3a8ifSLEw0XHFJKCUmnZF+WHwGz4E+kVnQwi4VqEy00oeCjvfN12S2yhxw5MszPSK1rWKJQkIaKiVHqA11iGPvIr4zP7cbD5vWzLvy3NSWxKYLbqQvfJyorQ60ppE5NtNkSzAvReVC3TNStnOTKEEjLKm5YFIIpWnRFdY5tbbGU7QL1Sts2ySy+zZ7cqlMr0UFAccUCQrEa1We3hArkbZluvgMyBxnXgugvtAgzN2Yc+78ezbpxCkv7Rm1iYnOb3J977PmMG948pbC8NcmlaDTqMT5acQtVG1pUadQNY4qWXeefv3m8rsy7O44cvdkqTXHWtcRV9g4dsdjbs2i/Nz7jbiUABkq6IP3J749azYcnbceCzfg/wAj3RZeE+YudZsw/rDb1/rlmlT/ANdzzn1ggmP1DvnV6wRTboFyJ1TrK6tIHgHpF49ERYlW1BpCqihQPSKygpczSRQQk7Uo7a5LEdp9nb9cW9IzsGbY04n5a0/d1DjEZNlmxvl678xOc48jBOLbw7nirRCDWuMcYlxeKYQuxLSlwFYlyjyQeypQYx/ZrJOt2E+CpH6tR0J+xET5WMZS1GRYRzwuVyZHTLAiycYZF7D+uXuufvu+9k/LHP3+P5OTyX/S4q13rxjhE59nByLcfX81ZRQ4fzojV/soWXMXQ508pLbd3vccGQSqmHPrXEB9wjd927Pekp5brqkEFop6JNa1Hd3Q5eqUYy2zMwu8R6NaEhdO1IkxYHRY3dBoObnHgnV44nVqp1qJ/MEeOauKPiMEUG9UKY7UqoPvgAB5wAaABRgMw+dC+5/0YIICUQKhz4qVId6aViigrUEcDFMslMmgtSiQwgnEUtjCCeNB/YQQQoO3Hmnj9seYSOSsOxLNx8nWPIyuZTHkS6EYqVpWg1pU/wC4WpAQaoGE92kEEULT7UfNwUqyOwPzeV716mCCCNDRaOq//9k=\", \"visible\": true, \"x\": -2.0, \"xanchor\": \"center\", \"xref\": \"x\", \"y\": 1.5, \"yanchor\": \"middle\", \"yref\": \"y\"}, {\"name\": \"r-34\", \"sizex\": 0.5, \"sizey\": 0.5, \"source\": \"data:image/jpg;base64,/9j/4AAQSkZJRgABAQAAAQABAAD/2wBDAAMCAgICAgMCAgIDAwMDBAYEBAQEBAgGBgUGCQgKCgkICQkKDA8MCgsOCwkJDRENDg8QEBEQCgwSExIQEw8QEBD/2wBDAQMDAwQDBAgEBAgQCwkLEBAQEBAQEBAQEBAQEBAQEBAQEBAQEBAQEBAQEBAQEBAQEBAQEBAQEBAQEBAQEBAQEBD/wAARCAAyADIDASIAAhEBAxEB/8QAHQAAAQQDAQEAAAAAAAAAAAAAAAIFBwgBBAkGA//EADoQAAECBAMFBAgDCQAAAAAAAAECAwAEERIFBhMHFCExQRUiUbEIFjIzUmFigXFy0QkjJjRDRJGhsv/EABoBAAMBAQEBAAAAAAAAAAAAAAMEBQYCAAH/xAAxEQABAwIEAgcIAwAAAAAAAAABAAIDBBEFBhIxQVEhMzRCYaHwFBUiIzJxgZGTstH/2gAMAwEAAhEDEQA/AOmTcs2phtWmipSDWnyjWxBjRlnHgEgCnLnzEbzJIl2vyJ8o+GKpKsNdoKk2/wDQgVRfS4g8CjU1tbQRxCYMWW4vLc+JZam5gyj4bcBoULtVaajiKGnER4PK8xj0ph7jeKYvMTLpeKgszC10TanhVXHnX/MPWMZhS1MP4Aico+4nRQ1p81LTwF1Kcbh16xW3bttczRsszdKZfRmDswTGGtzmjujb91zrqLrrFU93SlenLjFbLJfijHU7CNQ5+A/JUfNkfumVlQ4GzgT0eJ/AVv8AMM5Lym72NqRffWwAVpSNrDpZReVq2qFp4Hj1ER7tdznIZd7J1MS3feNen7lS7rdP6TTnElYfXWVX4T5iM22Rzqx8ZJ+G3mFq5IBHh0U4HQ/V5Gy0nwEvOJAAAURw/GCCY/mHfzq84I0Q2WcO6dGSSw2PoHlGJkBxhTSuINOH3gb7su0R8I8oUEhXePWJsouSE7EbAFQdmUTbG1hsKbWiRTOyRcWUUQlFrdxKug51NeEUm/aYZjm5HbvgTWWcRbVKnKUqpZZCHk6m+TleJB40CeEdBNo2ESzEtjmYELdMxLSTkwhJIsKm2agEUrTuivGOcfpJ4ZL7QM8yOM4ytxl9nCWpVKZUhKCgPPKBIUFGtVnr4R3kkyxY06mb3tR35KjnVsVTgDK5w6vQ3bmpt9KLaw896s9k5ww56m+6mi4w5T3NK0Bp1i98mWg6bVJ9nxji2vM0/nyna7MuzuPu92SpNb+dbir4B4dY7C5axWYxCfcZeQ2lKWSrugg1uA6n5wPFYoqLG5oW8dP9R/qowRvqcmYbUO+r59/5bD7pwmOMw7T41ecEYe4POD6j5wRTGyyBTjLd1CD9AhS3LVFVIXLd1lsn4B5Rh51IJFDE6a17p2Ha1kx51lN+yZjyNSzWwyaRyrSrShFbsu7LO05Jb/buna6UU3WvQGvtjxi0U+4l3D5lhIIUtlaQTyqUmGTA5dcjKLadKSS4Vd3lSg/SF6N7oMRZPGdmkftO1umowaWjl2L2n9eua52+gtsi9ZfXf+Id23bs3+0vuu3n6xT2f9xePZRO75mKYa07KSS1Vur/AFEfrEaeh22rA/W7eyF6+4W6fGlN4rWtPGJfyPJu4fizrzykqSqXUnukk1uSev4QXNlMIswe0M2cR5NaF7KOJOrMtGkk7gNvDU9xPBetfFHnB4KPnBCXCFOKUORJMEVGm4BUVwsbLIeeAADqwByFxgLrh4lxR+8EEKyJiNJKlEEFRIPzjASkckgfaCCOIusCJL1RTfhmXcv4Jq9jYFh0hrW6m6yqGr6VpdaBWlTSviY3W5dhlVzTLaCRSqUgGkEEM4v2hvrgEpgfZXeuJS4IIII3YL4d1//Z\", \"visible\": true, \"x\": -4.0, \"xanchor\": \"center\", \"xref\": \"x\", \"y\": 2.1, \"yanchor\": \"middle\", \"yref\": \"y\"}, {\"name\": \"b-38\", \"sizex\": 0.5, \"sizey\": 0.5, \"source\": \"data:image/jpg;base64,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\", \"visible\": true, \"x\": -3.0, \"xanchor\": \"center\", \"xref\": \"x\", \"y\": -1.8, \"yanchor\": \"middle\", \"yref\": \"y\"}, {\"name\": \"r-38\", \"sizex\": 0.5, \"sizey\": 0.5, \"source\": \"data:image/jpg;base64,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\", \"visible\": true, \"x\": -2.0, \"xanchor\": \"center\", \"xref\": \"x\", \"y\": -0.09999999999999964, \"yanchor\": \"middle\", \"yref\": \"y\"}, {\"name\": \"b-43\", \"sizex\": 0.5, \"sizey\": 0.5, \"source\": \"data:image/jpg;base64,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\", \"visible\": true, \"x\": -4.0, \"xanchor\": \"center\", \"xref\": \"x\", \"y\": -1.3, \"yanchor\": \"middle\", \"yref\": \"y\"}, {\"name\": \"g-43\", \"sizex\": 0.5, \"sizey\": 0.5, \"source\": \"data:image/jpg;base64,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\", \"visible\": true, \"x\": -4.0, \"xanchor\": \"center\", \"xref\": \"x\", \"y\": 0.3, \"yanchor\": \"middle\", \"yref\": \"y\"}, {\"name\": \"b-47\", \"sizex\": 0.5, \"sizey\": 0.5, \"source\": \"data:image/jpg;base64,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\", \"visible\": true, \"x\": -2.0, \"xanchor\": \"center\", \"xref\": \"x\", \"y\": -1.1, \"yanchor\": \"middle\", \"yref\": \"y\"}, {\"name\": \"g-47\", \"sizex\": 0.5, \"sizey\": 0.5, \"source\": \"data:image/jpg;base64,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\", \"visible\": true, \"x\": -1.0, \"xanchor\": \"center\", \"xref\": \"x\", \"y\": -0.4, \"yanchor\": \"middle\", \"yref\": \"y\"}, {\"name\": \"r-49\", \"sizex\": 0.5, \"sizey\": 0.5, \"source\": \"data:image/jpg;base64,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\", \"visible\": true, \"x\": -3.0, \"xanchor\": \"center\", \"xref\": \"x\", \"y\": 2.6, \"yanchor\": \"middle\", \"yref\": \"y\"}, {\"name\": \"b-49\", \"sizex\": 0.5, \"sizey\": 0.5, \"source\": \"data:image/jpg;base64,/9j/4AAQSkZJRgABAQAAAQABAAD/2wBDAAMCAgICAgMCAgIDAwMDBAYEBAQEBAgGBgUGCQgKCgkICQkKDA8MCgsOCwkJDRENDg8QEBEQCgwSExIQEw8QEBD/2wBDAQMDAwQDBAgEBAgQCwkLEBAQEBAQEBAQEBAQEBAQEBAQEBAQEBAQEBAQEBAQEBAQEBAQEBAQEBAQEBAQEBAQEBD/wAARCAEsASwDASIAAhEBAxEB/8QAHQAAAgIDAQEBAAAAAAAAAAAAAAUEBgIDBwgBCf/EAGUQAAEBAwMDGBAUBgMBAQAAAAABAgMEBQYRBxITFBUWFyEyMzQ1NlFSU1RVcnORkrGys9HSMUFEYWNxdIGCg5Oio6TB4RgiQkNFVmJkZWZ1hJSVocLD0+LjCCM3V6W0JSZGJPD/xAAcAQACAwEBAQEAAAAAAAAAAAAEBQIDBgEABwj/xAA+EQACAQIBBwkFBQgDAAAAAAAAAQIDBBEFEhMUMTJRITNBUmFxkbHRBhU0gaEWIiNTwUJDY3Ki4eLwYoKS/9oADAMBAAIRAxEAPwDr8+J8T1hJ6zghISeEtuXDmVIt27du5QfMsMMI+aRGWURqhEREoREEl2DP327y/wDWT7jBVBx+zk+V4zfmxAfO7i4rKtJKT2vpfE/QVlZWztqbdOO6uhcB/dgz99u8v/WT7jFXnvVNqkQlorS1QZyua+yV1jlZ+zTRW0U0NkkqM/8AmDtv3CNK4rZ6++/FjC3sbV1FjSj/AOV6Gu7Zqqf3LnX9cxPHC7Zqqf3LnX9cxPHKoAXp6vWfixl7vtPyo/8AlehdpHqq1UHsrQTt5VInS2w3Eu2WmWpYiFRUVpKUVK86hc+n17dJe+sX3GODSJi1AdVOt2h1sHr3FVNfefiwC8sLVSWFKP8A5XoPrn0+vbpL31i+4wXPp9e3SXvrF9xhCBRrFbrvxYHqNr+XHwXodsmbOackVNuDfxM4ZSfPWrJXNvIt400tDxpL1VXIHdv8u6NR/wBJb4SpTFxqwPbd8aHxYrithvvxZmq9rQVWSUFtfQuJPt/l3RqP+kt8JZqn8pylGyy+dRkoRL9hIVppGXr1ppEWvYvaFXk3qlKLZU1xdf8AUjW7YCrOvVdeKcnt4sWZRtqMbWbUFs4I6SAAabPlxMNmR4AOLA4zFjYoJx2GWspPHFgV5FLNwXEwsDjMWNigWBxmLGxQzALxYDgiBKDDDFjrGGWaaaaEoyCGTpS9b6/kIIRBvNBam8wMmb1pOmYmTF/Z6aEiKJFYxlU1grGMqmsfQI4ssPlYxlU1j6jDFF8Z1gMk5B7FnUfKxjKM6wVjGUZ1jID2LJGCsMUXxnWPlYxlU1jNrkGJ7FkWfKxjKprBWMZVNY+gexZwY2nh8wd7FAtPD5g72KGwAfFhGCNdp4fMHexQXSkww7fsowwyylYi0IlHLUaiuVMMM6RNtS2i25EZrkPDVUHH7OT5XjN+bEA+qgtf99nLeey8ZvzYgrucfL7jnp978z9IWPwtP+VeSPpUZ/8AMHbfuFtrucIZ0yVbraX+fYrFX+prqaa3npkEKbUZJsYUGo1E2UECwXE/f/gvOFxP3/4LzhOlhxGOlhxFkiYtQHVTrdodbKVNaZdrJzSRB25Vlnj4d3XWGmiueMpTRXc89E3Rvxo8S/cK5xdXlhyifKd/b0JRVSWGPY/Q5WB1S6N+NHiX7gXRvxo8S/cIaCpwFnvaz6/0fobpi41YHtu+ND4tsy6jNim1Bu7klNFkvbR9Ea92O7p34xeJ/rGMMkXk4qUYcj7V6mQufaDJ0a806nS+iXHuOblsqa4uv+pGt2wPLp34xeJ/rC4zdef81a23Cz//AC2Kx2Kin01dTS1lKKKOWF2eR71V4vM6eK9RXlH2gydK1mlU6OEvQtoFSuffBPh/0hc++CfD/pNR7qvOp9V6mH992PX+j9C2js5vc++CfD/pNF3X8WfHf2wq1yXdxxxh9V6gV5liylm4T49D9Dp4HMLuv4s+O/thd1/Fnx39sL923XV+q9QL3tZ9f6P0OhSl631/IQSlNVW7X/8An6ys990009hzj5dlfAvjP6S2NlXisHH6r1KZ5RtpPFS+j9C7GTF/Z6aFHuyvgXxn9Jshao1miXLm2aiyPGWabUU0UrpTup1ur9UcV/bt730foX0BHcm95eE8wXJveXhPMUaCpwCtZpcR4ZJyBDcm95eE8xNh5Xszll7aetppvK+nl9I46M1tRKNenJ4JjICDbl0HvvMFuXQe+8xzMkWaSPEmtcgxIrMfXrRYqOy8xlavof2nMyRzPiyQBHtX0P7QtX0P7T2Yzmeh6Bqs/uPtCz+4+0GzWFYm0VyphhnSJtqT7P7j7RdKLde/ZWij0ibaltJNSITfIeGqoOP2cvyxGb82IB/VBx+zl+WIzfmxAfL7jnp978z9I2PwtP8AlXkgIMpet9fyE4gyl631/IUhsN4hAAHggdTJx5yB8qQu+snrY8kzJx5yB8qQu+snrYMttjMj7Sc7DufmAAASZo6RNHG9Cds3bQ4E80cb0J2zdtDg21p8PDuXkfOb74qp/M/NgVOqViE46rZ3DZbCp1SsQnHVbO4bD7Xno94rvfh59xzYAA0JlAKuWgq5dR6Qev0AAAXg5KgPV9byksiQHq+t5SWUz2l0NgEiTsUIbVmN0hHJEnYoQ2rMbpCD2Fkd5F4AAFo5AcQGFHfX21E44gMKO+vtqV1dhdQ3iQAAUhRm6vy9I2mp1fl6RtIs6gAAOHR2AACBwEGNwVNL5VJxBjcFTS+VSynvEZbDxdPybc4n8+ZxP3EgSk8dvJWi22G2IV4rLTKvmlRUVEvUEVxWc/tclT6G84D0vLGK0b1S83SkQ+Z3FJOrLl6X5n3K0yzUjb045q5EvI853FZz+1yVPobzgI8VMmecXW2kmjLT6sprrHAPWqKeRTQzzj0oWKaHNfa/vEaVsqk1Fssq+0FWhB1FBch5CuvJ/wDtHnB9WP8AihdeT/8AaPOD6sf8U9wAF+7o9YD+2Ff8peLPGs0piz3g51yLFxczpccOHEoQzx69eSe+ZYYYZeMqrTSqzQiIiKqqp6Zr2MsmuWqPwjE6i3uVKWP8j+z9O7hKUptYMxXtT7aV6damtEtj6XxJVexlk1wr2MsmuRQHH2Uo/mPwRlvtxcflR8WXORaocwJEkxzJctT5m/ARjmussPFSm4dPWKWlaSuZaaRUpRUVKU5CopOu2Kln9y5q/XMNxzwhVw/qhLXzb/XdlFNxaeyVHV6f4j3V0LgYG89sq7uaj0S3n0vifpTdsVLP7lzV+uYbjlVqjVVKmD2RHDLuqPNdtbVsrQzLEOvqG/dngARzvxNdauzuWg2h7J0Y1E9I/BAdX2srV4Om6a5e1ntW7Nqbf3Bm19bQ/HC7Nqbf3Bm19bQ/HPz8Ab/Zul134IX+9p9VH6B3ZtTb+4M2vraH44guczJ9uEifWDnjHhssp73BTpbJsqq5UnLD7qPX9zmZPtwkT6wc8YLnMyfbhIn1g54x5AA97lp9ZlXvGXVPaUizom1KFmtBOKTImx1tfYYt23W000U0LechdYZ27SVonCd2Z4TzPUW9mfm/4h04WXFhGnVcUwyleylBPA6VbtJWicJ3ZnhJUlynJryU4R27lCGabafu2WWWXrKqqq0lCIlJysaTVxzyP1fD74yDTtIqLeJfTu5OaWHSegqxvKrrBWN5VdYlAZ7E1WaRaxvKrrDmT3T1YN2qO2l5PK56kAsElYQddlulKa0sIl9vDGRHsL3Mm9ioWF7mTexUZADaVhmiRAcuH7Taoy5bW85TKm+0sTnd7sFGMBgzWlXbQnlcqzT2FsKCaxxK/aWJzu92ChaWJzu92ClgAjp3wJauuJErmcsmuFczlk1zQAHrD4B+rLib65nLJrkKNVFepQtPpfKpuI0Rf06Rfb1nOeGBTWoqEMcTlcsYrRvVLzdKRCXLGK0b1S83SkQ+f1+dl3vzPqNtzMO5eQFimhzX2v7xXSxTQ5r7X94lbc6iF5zMvl5ljAAGgjNEfhGJ1FvcqUsukfhGJ1FvcqUs1vs5zU+9eRhvaznqfc/MAADRmSPKNXD+qEtfNv8AXdlFL1Vw/qhLXzb/AF3ZRTdWfw9P+VeRh7v4ip/M/MBHO/E11q7O5aHgjnfia61dnctBlPfRTHaVEAAPLgLKVospVV6CMgAAKiB02ot7M/N/xDpxzGot7M/N/wAQ6cIb3n5fLyGFDm0A0mrjnkfq+H3xkVjSauOeR+r4ffGQKpuPuCaXOR70ejAADJG3AsElYQddlulK+WCSsIOuy3SlFxuhFtvvuJQAAGGkmAwZrSrtoTyBAYM1pV20J5TPaEU90AACJMWgAAQwAjRF/TpEkjRF/TpBNpzgPdc2RWpoTdiWliX8nVzx6te21ZniUtLeqt40fLhM2NDPDPOMOXOBMaVNozBZWtBybcF4IKhe3KikqkvFiO4TNjQzwzzjEWNkWTJFrLbYaw2amv8ATtNU0UUX5VyVLMJ5w8z9n5C62taGlX3F4LgD3t9daCX4kujpfHvFFe1khXtZJ8Abapb9ReCEWvXX5kvF+pX6okpx0k1P5zSrJ7+xRUFI8bEOHlajVY8YcNtMrQqKi0KiXipQeG/RCVX/AG3eIQv5Z7bqq/0vnh8gSh/rtn5wG19lrO2dGpjTjtXQuBkPaS8uJVYY1JbH0vidE9EJVf8Abd4hC/lh6ISq/wC27xCF/LOdganUrb8uPgvQzetV+u/FnPKq9WuqbFz+lSIiJzV7xuwUraKHSmhywnKdlSu46o/tj8TccQi1TsfEpdp3lgqwtnJwk4xeCQ6pUac6cZSim2l0Fzu46o/tj8TccQxeVUp9ykzYI2XbIwyteiWlcpe8jlMc9SnG6FwRdKcVSae1k3b0UtxeCLPc3nRon4F3xQubzo0T8C74oiAs01XrPxIaGn1V4D25vOjRPwLvinpe22CzHvl4TyWevS+hUnLHObYsyjCMM3NWG39CNbbBZj3y8IW2wWY98vCSQCMWLDtP8Mk1ZBlW5JbhAWWxWjrP5rbNFNmp5CpkIdzuvpoaEeMPeMci/hT/APUfMvxzv5isr1qkbyaUn0dPYjY5Ko052kJSim+Xo7WV26+mhoR4w94xNkOYU03MtSe+dyVQ2xFOmmVs728VG0o9UNSXJGK0F1Q73SCudermv7z8WM6dvRz19xbeCL7bBJOdPCNcIWwSTnTwjXCMAM/pZ8WarQ0+qvAX2wSTnTwjXCaHrl3CNrDw7NY7Y5CU00U3vLG4rjcMt9baQHuas8zefiFWlGnnv7q2cDTXtZIV7WSfAAtLU6z8RhoaXVXgbHb966arnbVCqlHIQztdFZr3qGgCLqTx2skqNNfsrwN9rorNe9QLXRWa96hoA5pJ8WS0VPqrwMLUvsv9iBal9l/sQ1AU58uJdmR4G21L7L/YgV7Ty9bWleQajNjkdcNyfJutyvoAsoRiqLaQ1c4ExpU2jMU3IIJz/JbdPlad+lWhlKKU64XJYHMn+xThDXb1W90XK6opYOQ2E84eZ+z8hlclgcyf7FOEp1UOqfIE2bb7XwkoPLU2WssLthaK2spppbTLIEWlrWlWSUf9wBL68oRt5NyXR5obgc3u+ZoaGyx3F1+YF3zNDQ2WO4uvzBzqFz1GZ73ja9dD+qr/AEvnh8gSh/rtn5wHtuqZVxmnFVN51wruT5XRt9Ikc7ZVpy6oRVcNolP8w8AXPJHztGbBnjGv9m6U6FKaqLDFryM3lurC6qQdF44IsgFbueSPnaM2DPGC55I+dozYM8Y0mfHiJNFPgcpqnY+JS7TvLBVi4TygnsvzkjJWg2mGHL+x1rL1VRpK12yytNFKclF5YluNR2auNkvAKKsJObaXSx9RnGNOKb6EKTdC4IulGFxqOzVxsl4B1NSpzLc5ZReQEBFQLt47cq+VXzbaJQjTKcplb30yEFTlwJyrQUcWyvgdLugZ46JSN3Z7+WF0DPHRKRu7PfyyWjlwB9bo9ZHND16cNugZ46JSN3Z7+We2/Qn1RdGpufSX/wCSe1ilac/LNx2Yg1xSnfYass7Dbh27PI4sB2n0J9UXRqbn0l/+SHoT6oujU3PpL/8AJPe9LP8AMQL7qvfy2Nv4U/8A1HzL8c7+UCoXUVnVMC3u3mPkp9a+01jtM9eNUVllpprnbOXSiinlnVbjUdmrjZLwGLytlC1leTamujyRtMk5Mu1ZwTpvp82KSXJGK0F1Q73SEu41HZq42S8BnDyNFSc/dyg/eOmncK2j5tGFVWlZZWlaKU5N4K539tmv76GtPJt3nr8N7S/gVq59I+dozYMcYLn0j52jNgxxhDr9t10aj3bd/lssorjcMt9baQXXPpHztGbBjjCyMn3JCxLa2mjOV6hnI0xRcXtu48k0E2uTrpTeMHsHoFcudyRnaM2DPGC53JGdozYM8YD1uh1kH6hc9RljARQs8ZMi3iu3biKRUZrvTMs8bnkq5BB5k+2KcJ3WKUuVSIu0rR5HFjMBZcgg8yfbFOELkEHmT7YpwntPT4ntWq9UlgYWVnIULKzkKcxR7NZmZscjrmmys5Cm100jTKqmSHZOa0/yYDlFNUH3oRRWGX2qNbZqNsVhl9qjW2ajVLYYqW1gckq9+wXzr8I62ckq9+wXzr8IOyd8TH5+TFuVfg5/LzRyUAA1BjRFPzGNOL5Ji95aPGh7Ln5jGnF8kxe8tHjQPs91l1LYAAAYWml5f1MTJ5f1MSp7SSAvdRzHPFdQN747KIXuo5jniuoG98dnkVV+bZ2IAAkJwP0NPzyP0NMv7Sfuv+36Gr9mP3v/AF/UAADLmrGEk+u9j5RgL5J9d7HyjAzOUPiZfLyRrMmfCx+fmwI8pYnRWoN7lSQR5SxOitQb3KgE91jGnvrvKEAAITVgL4rB2uttDAXxWDtdbaIT2FtHeNQABUEDCRMNt6mu2g6EsiYbb1NdtB0F0d0XXPOAAAWlBYwABgKgJEPfF6ZHJEPfF6YwyZz/AMmLsqfDvvQkisMvtUa2zUI5TxSi9XebpSMbJUuTafP518JPkLKckq9+wXzr8IuxzOrP7D/OPww3J9PC5i8ePkxdlOtnWs1hw80c7AjgaXAyWIqn5jGnF8kxe8tHjQ9pS7iJKPUj7cKcdGFnHGLPafR8mBw8DuABmae1vsOEvL+pie0pi41YHtu+ND4XzuM2TjgXqviscDweXuo5jniuoG98dnrU6l/Dtj2jfkp5vzoHuMoavSlVzccO3+xdQp67UVvjhncmO08tAfpaAl+1P8L+r/Eb/ZH+N/T/AJH5pH6GlgOemZ9ovafO0X4XW/a7uw1fsx7IY6X8bq/s9/8AyLEBXQMz9pf4X9X9jWfZD+N/T/kXKSfXex8owPOtWL2I+cfhnNxJeZc0laUtHw6ezuNdkv2OxtIfjcf2e1/8j2kR5SxOitQb3KnjU1xGF3uka2gV5XxWGZ9f7DGHsdhJPTf0/wCR6RA8pAAa12Dn7PfxPp/c9Wi+KwdrrbR5iOlTQxuwnbN8aIyucVsITyNq6zs/H5f3OnAUkCvT9hVqX/L6HRpEw23qa7aDo59MvFR71O1umS6B9vUzoY4Ce9oaOrhiTQIQF+cCaMuAEsBtoxBpewiEiHvi9MzPrPID8nRwr49jAMpTzqGHajn8p4pRervN0pGJMp4pRervN0pGNpHYj53PeYHM6s/sP84/DOmHM6s/sP8AOPww2w+Ij8/JgGUfhpfLzRzMAA0RlyDLuIko9SPtwpx07FLuIko9SPtwpx0YWW6ymrtAAANKjrUxcasD23fGh8IZi41YHtu+ND4R1ucl3sMjuoDqX8O2PaN+Snm/Ojlp1L+HbHtG/JTzfnQuyj8LPuGOSvjafeeiAADEn0YDnp0I56Zv2h/d/P8AQ1nsv+9/6/qAABmzWHN6sXsR84/DObnSKsXsR84/DObi+vzjNhkr4SHz82BriMLvdI1tGw1xGF3uka2ioYLaIwADwQB0qaGN2E7ZvjRzU6VNDG7Cds3xo4wS85td44AAIiwfzLxUe9TtbpkuhS5l4qPep2t0yXQZ2vNiDKPPvuQAABACXsAAemXA+s8g+H1nkB2T+e+QFlDmfmUiUYKvlCJaslFL5tb77pSPaDovejKOw7Eaq3tqaDWxk8DCTis5kS0HRe9KXVImjb7bd/yFgsFm9arqa6s90mQX8RTo5m7P7pfb1JQqKUXygt1ShOk4yXJ/c5RdY/Dfi36wusfhvxb9ZeQGWt1uPkKNTo9X6soEbUmtfBv4G3+stQ6adV1paa2uRUpor73klU9C58ef8Z+6dsd39npoTCcco3NPkjL6L0PKwt5bY/V+pwf0Lnx5/wAZ+6HoXPjz/jP3TvAEvet51/ovQ77utur9X6iGYv8AC5/1WB/7zmvsZ0Rroo+9C58ef8Z+6damLjVge2740PjPV8sXull9/pfQvQ01vkOwlSjJ0+VpdMuHecH9C58ef8Z+6N5sVLLqWPeTjt9t1tS5WCsNpbBW1zTLddXV7VOB0UUcvk3h2Erc/MR3PVLO5aF2UMsXuqz+/wBHBeg1yVkHJ+u0/wAPp4y9RRcz+DfDfpC5n8G+G/SVoDFe97zr/Reh9G9w5P8Ay/rL1LLcz+DfDfpOCXf/AMUvH/2zqx5MF1/f3FfN0kscMehdnYab2dyJYR0uFPq9Mu3tOu3f/wAUvH/2wu//AIpeP/tnIgF2nqcTTe5rLqfV+pa6olWG3u2//rthsNl5rrqaaz3CZBTbsP4H8Y/SKpzczdn90Rnd/wC9LaNbayoUqShCPJ3viXG7D+B/GP0myHnza9+7gba6y1DaOq6z01tctFNFbe8kpRLkfFaC6pd7pD2ai6VtSSbSOiW39G73zhbf0bvfOTAKRdnMh239G73znS5nybTNyE/nZp6nojXPKAdMmdjchO2b40dST2gN/NqmsOPqTLbejd75wtt6N3vnJoEsxCnSS4jOZMl10qvUs9H/AM7XqfdM88u1s/vjvPOViY2Kz7qZrdMl5GlpCOjM7lKrNV3y9CFts/vjvPOFs/vjvPOMgCcyIBpp8SyW39G73zhbf0bvfOTANHoYcDJ6xU4kO2/o3e+c0vnNgaRiurqUp5FAyIMbgqaXyqE2lOMamKQPc1Zzp4SZSY7DsRqre2poJsZAxrcW/bYg37TLTxpUVHaqipSarb4/OMR3JrgNEpLDaZSUZZz5COIp0czdn90stt8fnGI7k1wCWccjys/tPYJLi3lbX01jhpaORkIWUpRz1ylFeEnTeCKsBPtgl3QWP+jN8AWwS7oLH/Rm+AMz48Rdop8GQnd/Z6aEwzdzfl5XjP8AwkfyU5mb4CbcdnBoFKH0VvgIupDiiyNKfVfgLwGFx2cGgUofRW+ALjs4NApQ+it8BzSQ4oloqnVfgdKmLjVge2740PhBNBUgJuwkJHKkM/d2SvdPfSNs0vGlSlFvUvFReuOLWwee3PdEM3XqQ0suVbX5mvtqVTQQ+69i6Ow3lbn5iO56pZ3LQ9tbB57c90Qq9UOVZLhpFcvImUoV0ysUyiNNvmWUprG7y9UXX9SDtp8q2DbJVKprtP7r28CnALrkc3tHZO+lMcIXI5vaOyd9KY4TG5y4n0bRT6r8BieTD1Fcjm9o7J30pjhPKtuEBn6H7qzwgty8cMDRZAhKOkxXD9SQBHtwgM/Q/dWeELcIDP0P3VnhBcGaPBiuc3M3Z/dEY7l5tiMsFpG2X9ZXV1jWuopoopo6QptLE53e7BS6OwLpckViaiXI+K0F1S73SGm0sTnd7sFJkjQkW1LECyzCvVVYl0iIjC0qtch1kpNZrOlASraZV0Mi+4tcAW0yroZF9xa4CgS58eJFOmTOxuQnbN8aOe20yroZF9xa4Dpkz5KlS45Cf8bFeuestZo1zicE2+QAyhOKpLl6fUngSrapU0Niu4tcAW1SpobFdxa4CzNlwE+khxQ4mNis+6ma3TJeSnTJk6UHUqvWnkDEMJadpKWnTSeqZ5xdbSxOd3uwUaWkJaPYZ3KU46d8vQjWBstLE53e7BQtLE53e7BQnMlwF+fHiWwD7WN5VdYKxvKrrGkwZk8UfCDG4Kml8qk+sbyq6xBjkVHyUoqel8qhFtvlVd/cMWb6nSPp8ZvqdI+hDAgAAPHgAAPHjNzgzvTJtjUVOcGd6ZNsaldQupbAAAKy0qMvYqv+x3KEAny9iq/7HcoQDL3HPT735mvtuYh3LyA55Vwxpwnyi73p4dDOeVcMacJ8ou96eAdzzUhtkv4yn3nDwABGfQwOKnajipZTGFh+18v1AAAsGA1kL1/sfKNRVIXr/Y+UalctoPPeAZTbxxSX1a43xBaMpt44pL6tcb4hwqqbj7jvIABAygHSJo43oTtm7aObnSJo43oTtm7aDLLnH3egrytzC7/0Y4AAGhnhlIOHG9SXbQfCGQcON6ku2g+G1nzQjv8AngAACgMagADAUgK5UwwzpE21GgrlTDDOkTbUto7xGew1M31OkfSU6cOldMKrN6rKctTK07nKfapx1YpnVQk1iQwJlp3OU+1T4rh0nqPtU5pontXkRAJVhdZX7QsLrK/ac08T2ryNDnBnemTbGpAeMMu2GnjCUNMorSLkKhCtyjc271OAorXUItYphVCznNPBoeAI7co3Nu9TgC3KNzbvU4CnXKfBl+oVOK/35C2XsVX/AGO5QgCWc0tym7lyJYYiaESs9QzlGecK7fpVz13jPAZqvcwdWXI9r8zX21hU0EOVbF5dxbjnlXDGnCfKLveng1t+lXPXeM8BTaqcpRsZN6HdRL+vZSMYaRK1EvaxvITnglevGVNpDPJ1nUhdQk2tpywAAVG6wA4qdqKrcWkHOPhW+ElGSiF2tRUscTn4HQLi0g5x8K3whcWkHOPhW+EnnoL1qHBlUkL1/sfKNS/TImVNmLtbaiTK+ssdH854lFNdkNFouvpoaEeMPeMQc1iA1so0oTcWn9PU4yMpt44pL6tcb4h1S6+mhoR4w94wwm/U/mizL8mtJJF6kY5XDD3Lp7o9F5zwQPVypRUG8Hs7PUagdYuDzW0L8O84wXB5raF+HecYO921eK+voYz37bdWXgvU5OdImjjehO2btoYXB5raF+HecYtUiTakSHkxy5cwVawzXUJZG19UvPDLLJtXSPlWzt7OwW5Uy3bzopJPb2cH2ldAuFsEk508I1whbBJOdPCNcI0921eK+voIve1Dg/p6iGQcON6ku2g+MnclQEItkh3FY0qVqrXNLeddecbLGxkDC2s5wp4NoV3d9Tq1M5J/78zSBusbGQFjYyAjVp9gNrUODJ4Fdt2lDPHeM8AW7ShnjvGeAP1eQr1iJYhXKmGGdIm2pBt2lDPHeM8BkkQ+if5j9uuaS8poRLzrE4UpQeLPaWM+RDVzgLvSptGZg5wF3pU2jMBltYxjsQHxo+nxoizp8AAInjW/wB5pF2hQN3+APNIu0KAO52oPs91gAADBhz+dOL0V2G4ZFQ1nTi9FdhuGRUZ6vzsu9mutuYh3LyAqdUrEJx1WzuGy2FTqlYhOOq2dw2UVN1jCz5+Pec1AABDVAKhqKjxKIAAHiZb5gc39q++W4qMwOb+1ffLcRYnuuef+9AE+QMXZN6rc7tCAT5Axdk3qtzu0JU99d4HW5uXcztIABqz58BYJKwg67LdKV8sElYQddlulDLLnH3egDlDml3+pLAAGgnMHt9Tpmo2vb6nTNRfT3SipvAAATIFfAADheBIh74vTI5Ih74vTOMnT3hs6fsI6YRUW8ZRDK1DGQ0RmL4z0kPoilUeczQRprNRItQxkNH1HrLfIRbwjGx1yzim28DzgkjdXIFchiBLEjmoxfqlheaVdoUjV9gLzSrtCoEudqDbVYJgAADhRRJzQ7bcuRLSKzQtZuGRXaV5ks647nDixEdhuEFwhrRWkl3s1VvNqjDuXkRbSvMlnXK5PmRYqUpJcuHDx0y0zEstqraqiUVrScpOeW0Wy9hNjVU2lKKkVmsMt6so1YtHK7hMq54hNm1xQuEyrniE2bXFLsAHgPNcqlJuEyrniE2bXFNV1fL+fJP7o3xC9jUlGKZCd/WhsOX3V8v58k/ujfEC6vl/Pkn90b4h1ADuYiHvKv2eBW5iVNJddWurouAvbFyHjfuvcFruuZbz1A7NvilgmVzZ2v7xZg+jZ0qkFKQgvcq3Ma8kmujo7Ec5uuZbz1A7NvikyR6n0sw8rwL9uJglZdxLptURtumhGkXKl6N8FhxxqrG2gRTsKOeu8Bq5WuXB8q2cBjbJFZo6114Atkis0da68A7A02pUjGa/WElskVmjrXXgJTmLdye7SDfMtNNu+SrKUpe3vL6YxEcpYdedbaQJtbSnGba4At5e1ZQSfEnW7w2Ue6ycIW7w2Ue6ycIoAO1eAt1qoMomW4R2wjTTt7yaLxE4SNcigsyf7FOEWx+As6ZNpSAEU7eGaUVLqpnFhuRQWZP8AYpwhcigsyf7FOErwE9XgV61UJ9qneQ1rBap3kNaxFAlmohnslWqd5DWsTIN4y8dK0yi36i96QpGUm4A1p12kOSSSLaMm5DVi+M9JD6fGL4z0kPpnJ7zNPDdQGx1yzWbHXLOR2npbDYAAWFZg+wF5pV2hUNX2AvNKu0KgW42oMttjAAAHCilzhxYiOw3CC4YzhxYiOw3CC4R1ucl3s09vzMO5eQC2XsJsaqm0oyFsvYTY1VNpSipusLoc4hCAABDYBqKhqSiU1egAACZUWeZXNna/vFmKzMrmztf3izDa25pf70mdv/iJfLyQG+Cw441VjbQ0G+Cw441VjbQKp767wGpuPuLYAAaUyQCOUsOvOttIPBHKWHXnW2kL7feBrrcXeRgAAwAI0fgLOmTaUgE+PwFnTJtKQC+nug9TeAAAsIG0AAgTAZSbgDWnXaQWjKTcAa067SEZ7C6hvjd3fGekhkYu74z0kMjOy3maWO6gNrj1XWNRtceq6x2G09PYbQAC4pMXmBtaVSCTnmBtaVSCD1tqCKOxgAAUlpDiMGa620azZEYM11to1gkt5h0N1AAARJAAAePASCOSCcSuoAABIrJ8l+u9j5SeQJL9d7Hyk8bW3NL/AHpE91zz/wB6ANEfhGI1JvaU3miPwjEak3tKEx2oGlsZTgABiKAKnLmKj/sdyhbCpy5io/7HcoX2+8C3e4u8gAABgvNji/r0jeaHF/XpG8iycdgAAHCQ4AAKggB/N/CbeqrtIIB/N/CbeqrtIVVt0JtOcH7u+M9JDIjI/bRERES8vAtQ3kMmelRk2zUxqxwRJNrj1XWINqG8hkyYjHrFNDLN7zj0aMsTkqsWhiBAte+yrGsvCFr32VY1l4S3Rsr0iJrzA2tKpBPrUc9aRWVZYvUo5CmmytZCFNWjJtF1KtFI2garK1kIFlayEKtBIs08TREYM11to1m9thG2laWmlTGxM5KgsrWbb5UGRuoKK5GagNtiZyVCxM5KnNVnxR3WocGagNtiZyVCxM5KntVnxR7WocGaiQYWJnJUzJRtZrpRCdzB9DAAAlq0+whrESfJfrvY+UnidxEvIeurEZWuoppNtuT/ACjvWXhGVvTcaaTFdxNSqtoZmiPwjEak3tKQ7cn+Ud6y8Ji+jnz5025aZYRltlWVoRaaFQvUWmUSlyMrgDC25xlm9dOALbnGWb104A7EWZjF5U5cxUf9juUL5bc4yzeunAL4uacnRkQ1EvX0SjTdFKMtM0XiUZHOLqM1GQPc0pShguJRALrcJkrPEXs2eKFwmSs8RezZ4oVpUBatPsKc4v69I3lsYmZJbC0o/itkzxTK4hJubxOyZ4pF1UTjbywKiBbriEm5vE7JnihcQk3N4nZM8U5pEd1eQpAf3H4PNX2yTgC4/B5q+2ScBXnou0MhAP5v4Tb1VdpAuPweavtknATIODdQTpXTpppUVqu9Mt7T/wDkK6sk4hFtTcZ4s//Z\", \"visible\": true, \"x\": -1.0, \"xanchor\": \"center\", \"xref\": \"x\", \"y\": 2.4000000000000004, \"yanchor\": \"middle\", \"yref\": \"y\"}, {\"name\": \"r-50\", \"sizex\": 0.5, \"sizey\": 0.5, \"source\": \"data:image/jpg;base64,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\", \"visible\": true, \"x\": -1.0, \"xanchor\": \"center\", \"xref\": \"x\", \"y\": -2.4000000000000004, \"yanchor\": \"middle\", \"yref\": \"y\"}, {\"name\": \"g-50\", \"sizex\": 0.5, \"sizey\": 0.5, \"source\": \"data:image/jpg;base64,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\", \"visible\": true, \"x\": -2.0, \"xanchor\": \"center\", \"xref\": \"x\", \"y\": -2.0999999999999996, \"yanchor\": \"middle\", \"yref\": \"y\"}, {\"name\": \"r-56\", \"sizex\": 0.5, \"sizey\": 0.5, \"source\": \"data:image/jpg;base64,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\", \"visible\": true, \"x\": -1.0, \"xanchor\": \"center\", \"xref\": \"x\", \"y\": -1.6, \"yanchor\": \"middle\", \"yref\": \"y\"}, {\"name\": \"g-56\", \"sizex\": 0.5, \"sizey\": 0.5, \"source\": \"data:image/jpg;base64,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\", \"visible\": true, \"x\": -3.0, \"xanchor\": \"center\", \"xref\": \"x\", \"y\": -1.0, \"yanchor\": \"middle\", \"yref\": \"y\"}, {\"name\": \"b-56\", \"sizex\": 0.5, \"sizey\": 0.5, \"source\": \"data:image/jpg;base64,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\", \"visible\": true, \"x\": -4.0, \"xanchor\": \"center\", \"xref\": \"x\", \"y\": -2.1, \"yanchor\": \"middle\", \"yref\": \"y\"}, {\"name\": \"50-99\", \"sizex\": 0.5, \"sizey\": 0.5, \"source\": \"data:image/jpg;base64,/9j/4AAQSkZJRgABAQAAAQABAAD/2wBDAAMCAgICAgMCAgIDAwMDBAYEBAQEBAgGBgUGCQgKCgkICQkKDA8MCgsOCwkJDRENDg8QEBEQCgwSExIQEw8QEBD/2wBDAQMDAwQDBAgEBAgQCwkLEBAQEBAQEBAQEBAQEBAQEBAQEBAQEBAQEBAQEBAQEBAQEBAQEBAQEBAQEBAQEBAQEBD/wAARCAAyADIDASIAAhEBAxEB/8QAHQAAAQMFAQAAAAAAAAAAAAAAAAQFBwIDBggJAf/EAD4QAAECAwQHAwkFCQAAAAAAAAECAwAEEQUGEhMHCBQVITFBMjNRCRciU2FxcpGxFiVkgZIYJ0JFVGOhouH/xAAaAQADAAMBAAAAAAAAAAAAAAAEBQYAAgcD/8QAKhEAAQMDAwIFBQEAAAAAAAAAAQIDEQAEIQUSMQbRIjIzQXETFFFhgbH/2gAMAwEAAhEDEQA/AOjZJrzhNMrWlYCVqHDoYw60r92vJ2jNSjUtJlDD620lSFVICiBX0vZEO6WtZO/Nyrxy1lWVZVhOtOySJhSphh5SsRccTQYXQKUSOnjEy/qSCpSQozNXOm9O3N2UpbSMiana8M5NsbPkzTzeLHXCsivLwi1dmenZi25Zp+bfcQrHVK3CQfQV0MR1q9aRLa057/8AtbKyMpuTZdn3chbeLOzcWPMUutMpNKU5nn0mVq7EhYrgtOVemFus9kOKSUmvomtADyMaspfcULgKO3nn8c1l+2zpyl6e+kfVAjAxKhIz/RT3lt+rT8oMtv1aflCCXtJ96YaaUhsBa0pNAa0J98Peyt+KvnDxl0vAlJqVfaDBAWKZ3AAtQHiYIqfAS84kdFEf5gh2ngUmPNY1NaK94zL1ob+y9pcU9g2WuHEa0rj4840I1873+Z/S/Y92t3722m7cvPZ+bkYcU1NIwYcK693WtevLhHTFh9oMNgq4hA6Hwjnz5QvVq016adNFi3p0aXL3zZcrdeWs95/eMpL4ZhM3NrUjC86hRol1BqBTjzqDSfc0i1KioIz8nvXQOluoXmr1IunglASedoHGMwKhbQdr/wDmQ33+6bfW+tm/n2zZWTm/h14q5vsph614bLaAPKJ/tB6XLB0QeZ/cG/8AavvH7QbVk5Es7Md1syMWLJw9sUxV40odGrxal+stYGz730bZGfjy/viz1YsNK9l805iJe1GtX3S9cjWluTei9F0disyS3lnv7fKuYMdnTKE+ihwqNVKSOA6+EYj7ZiLYkA8QTnP9nM1VaxZ6ffsvaoiFr2khQUSJSmBwduIjj2zXU5NjbKoTW04sk5mHBStONK1i7vv8L/v/AMhbNAiVeP8AbV9Ix3Gnxj0cZWzi3SY/We9cvaebuBN0oSOJMdqVrXmrU7SmMlVPCsEUJ7I90EO0TtE0mXG4xxS5taAhIKxyHWG+0mnXn0qZbWsBAFUgkVqYvDlCyT7o/FC9m6KnSmKLfs0hrdNQ7pfsK27R3Tu+x56Zy8/Hky614a5dK0HDkflDNoou9b9m3/sudtGw7QlZdvPxuvSy0ITVhYFVEUFSQPziepv+D84Sr7Jhfd6Qh65N8VGRBj28IHandj1G7bWA0oIBSQUzmfET/k06TTzK5Z1CHUKUpCgAFAkmkY9s0z/TufoMLGe9R8Q+sOcHW94qDik9zZJkZpoSClISoEEChBgi493q/iP1ghmDImgIjFU1PjHoccSKJWoD2GCCAm/Uoxz06Ctau0tR95jyp8TBBBCvIaFR5x80AkGoNCIqznfWr/UYIIFbotzkVSSSak1Jgggg8cUEea//2Q==\", \"visible\": true, \"x\": 2.0, \"xanchor\": \"center\", \"xref\": \"x\", \"y\": -2.1, \"yanchor\": \"middle\", \"yref\": \"y\"}, {\"name\": \"56-99\", \"sizex\": 0.5, \"sizey\": 0.5, \"source\": \"data:image/jpg;base64,/9j/4AAQSkZJRgABAQAAAQABAAD/2wBDAAMCAgICAgMCAgIDAwMDBAYEBAQEBAgGBgUGCQgKCgkICQkKDA8MCgsOCwkJDRENDg8QEBEQCgwSExIQEw8QEBD/2wBDAQMDAwQDBAgEBAgQCwkLEBAQEBAQEBAQEBAQEBAQEBAQEBAQEBAQEBAQEBAQEBAQEBAQEBAQEBAQEBAQEBAQEBD/wAARCAAyADIDASIAAhEBAxEB/8QAHQAAAQMFAQAAAAAAAAAAAAAAAAMFBwECBAYICf/EAD0QAAECBAQCBgQMBwAAAAAAAAECAwAEBREGEhMUBzEIFRYhQVE0U5KxFyIyUmFjcXKBkaHhIyQnRXOi0f/EABoBAAIDAQEAAAAAAAAAAAAAAAMFAAQGAQL/xAAoEQABBAIABAYDAQAAAAAAAAABAAIDEQQhBRIxQQYTFCKh0TJRYZH/2gAMAwEAAhEDEQA/APTZhhgsNkstklAJJSPKEJpppLgCWkAZfBIhFuoPIQlASiyQAO4/9hmreIp2Um0NttMEFsK+Mk+Z+mCOhkl9rENuTFD7n9E+tNNm920n8IsnG0JllqShIIt3gfTEcYn4mV6g7bZykgvXz5tRtZtly2tZY8zCWEuJ1exRiGUoVQlKe2xM6mdTLawsZUKULErI5pHhBDwvLMJf2o90AcZw/UCPd2Oy3ptRLiQSbZhGfkR80flFG5BkOJOZfMeIjO2bXzlfnCpkM0enH5Tp88Mm2j4TUruUftgirwCXVpHIKI/WCHbfxCTu6lZrVOztoXrWzJBtl/eIK478W/g1xdJ0Ls/1jr01ub1d3o5czrqcuXIq/wAi97+MdAy/o7X3E+6OY+lDwyxvjTH9PqmGqJvJVqjtS63Nyy3ZwPvKIstYPJSe+1u+LnBhDJl8uQRy0epr50lXHvOjwi7GB5rHQX8bUBcb+mX2W6l/pxut1uf7xky5dP6g3+V+kNXAvpv9oOKlEpHwY6Gvuf4nXWfLllnVctAX5W5xGnSq4McSqZ2X3uG9PU3uX+clze2hfkv6RGl9HLhvjSS4zYemZmjZG0bvMrcNG15R4eCvMxtHYeO6I+WLZR2CSP7u1kIp5GgPlNSj96N9tf522vUKh9IXratU+ldkNLezTUvqdYZsmdYTe2mL2vyvEvdafUf7ftHKeD8M1xnF1EdckrIRUZZSjqo7gHU38Y6j2r/q/wBRGB4/AzHkYMUaI3W/tbnw1kvy4nuzDsEVeu38pJuLzuKXa2Yk2gihBSSk8wbGCPLPxFq26uY0nuX9Ha+4n3QwYklZl6eQtmXdcSGgLpQSL3PlD/L+jtfcT7oqvn+EVBIYncwRXxCZvKVyB0u8DY2xN2T7N4PrdV22/wBbY095/SzaGXNkSct8qrX52PlEU8HeFnE+mcRqRPVLhxiiUlmtxnefo8w2hN2HALqUgAXJA+0x6LN+MXRocbxLLBielEYIoi7Pe/tZ/J8NRT5JyDIb1qh2r6UG0HD1fl65Tn36HUG2m5tla1rllhKUhYJJJHcAImTXY9cj2hGVNejPf41e6NehXJkHM9zhVJjBjDABa03ayHSC4sg3BUYIsHIfZBEVjqlA++AAHnAB3ABRg13zzec9owQRXKM1G4fHJ5z2jBuJj17ntGCCOBQoL76gUqeWQe4gqMJ2HkIIILH0QZOqIIIIIoF//9k=\", \"visible\": true, \"x\": 3.0, \"xanchor\": \"center\", \"xref\": \"x\", \"y\": -1.0, \"yanchor\": \"middle\", \"yref\": \"y\"}, {\"name\": \"47-99\", \"sizex\": 0.5, \"sizey\": 0.5, \"source\": \"data:image/jpg;base64,/9j/4AAQSkZJRgABAQAAAQABAAD/2wBDAAMCAgICAgMCAgIDAwMDBAYEBAQEBAgGBgUGCQgKCgkICQkKDA8MCgsOCwkJDRENDg8QEBEQCgwSExIQEw8QEBD/2wBDAQMDAwQDBAgEBAgQCwkLEBAQEBAQEBAQEBAQEBAQEBAQEBAQEBAQEBAQEBAQEBAQEBAQEBAQEBAQEBAQEBAQEBD/wAARCAAyADIDASIAAhEBAxEB/8QAHQAAAQUBAQEBAAAAAAAAAAAAAAIDBAUHBgkBCP/EAEUQAAECAwQGBAkGDwAAAAAAAAECAwAEEQUSExQGBwgVITEyM1FhFhdBUlNygZGSIkRiY6KxGCQlJjVCVHGCg6GywtHh/8QAGwEAAgIDAQAAAAAAAAAAAAAABAUBAwACBgf/xAApEQABAwQBAgQHAAAAAAAAAAABAAIDBAURIRMSMQYzcZEiQVFhodHw/9oADAMBAAIRAxEAPwD0hAFBwEIc4K4cOES22EFCSSeIBjFNd2uDSbVzpXKWJYkjZj7D9ntzSlTTTilhanHEkApWkUogeTthTWTmmaZHk4yn9qoXXKUU8AHVjO/stsspttzFxEJVS7Sor2xKm2GUy61JZQCKcQkdsYpqX1yaT6bb43rIWW1ksvh5dpxNb+JWt5Z80f1jUGbenJ10SzrbISutSkGvDj290TTXCOaMNaTk6/K1uNnqKGocJQPhwTj0BUttKStIKRzHkiZgteiR8IiEFFJvDmOMKzrvmo9xgsl8GnlL29FRuMdk06AHVgCgCjBCVKKlFR5k1ghww5aClLtOKkJm7qQnDrQU5xhGvnQXwv0vk7S3plMKzW2LmBiVo66qtbw87l3RuqZKaWkLS1UKFR8oRwOsCxrSetllbUteAlUjppH66++EN5puamLYmlzsjQySuh8M3F1FXiWR4YMHZwB7lfk3WLr5/A33f+anhf4X4vz7d+Vytz6t2/ezP0aXPLXhcbN+3948tc+juq3xTbk33m/x7f2ZwcGUef6vLovVwrvSFL1eNKHndszZn13a7vA/xYaFb63LvDPflKUlsLGy+H17qL1cJzo1pd40qK8jsa7GO0pqp2ktENPtPtW+67BsveGbm98SD+HiyEw0j5DT6lmq3EDgk0rU0AJga3UQihYZGEOH1yD31pd5cKm111HLO+VjpC13Z42QCBoH0+S9MMjXhi8/owbr+v8As/8AYlqBbSXF8EpFSe4QzvOR9P8AZP8AqGxj5tuGV5cJRT6YcZVa4i44pFa3SRWCPrqkrdWtJqlSiQe6sEMmjAAQROTlXEu4gMNgrT0B5e6OX0rYeftFtbDK3EhkAlCSRW8rsi7b6tPqiG3+mP3RTEeN/UFEreVnSVV6MTDFmZneTzcpiXLmOoN3qXq0rStKj3xftWxZLyw0zako4s8kpfSSfZWOG04+ZfzP8YqdG/01L/x/2GCzSiZhmJ/ggxVup3iADI/a1KZfZXLuoQ8hSlIUAAoEk05RQ5WZ/Z3fgMPy/Xt+uPvi6gPPFoI0t59lUiQUpCVAggUIMEOP9e565++CLxsKOySHFgUC1e+AqUeaifbBBGg7qSmX5aWmruZl2nrtbuIgKpXsrCGpCRZWHWZJhtY5KS2AR7aQQQWzy0E/zfZPjgQRwI5GHMd/0y/iMEECORrEgkkkk1JgggiwLCv/2Q==\", \"visible\": true, \"x\": 2.0, \"xanchor\": \"center\", \"xref\": \"x\", \"y\": -0.3, \"yanchor\": \"middle\", \"yref\": \"y\"}, {\"name\": \"38-99\", \"sizex\": 0.5, \"sizey\": 0.5, \"source\": \"data:image/jpg;base64,/9j/4AAQSkZJRgABAQAAAQABAAD/2wBDAAMCAgICAgMCAgIDAwMDBAYEBAQEBAgGBgUGCQgKCgkICQkKDA8MCgsOCwkJDRENDg8QEBEQCgwSExIQEw8QEBD/2wBDAQMDAwQDBAgEBAgQCwkLEBAQEBAQEBAQEBAQEBAQEBAQEBAQEBAQEBAQEBAQEBAQEBAQEBAQEBAQEBAQEBAQEBD/wAARCAAyADIDASIAAhEBAxEB/8QAHQAAAQMFAQAAAAAAAAAAAAAAAAYHCAECAwQFCf/EAEIQAAECBAMEBAkHDQAAAAAAAAECAwAEERIFBhQHCBMhFTFBUhYiIzJRU2GSsQk0YoKRobIXJSY1QkNFY3Fyc4HB/8QAGQEAAwEBAQAAAAAAAAAAAAAAAwUGBAEC/8QAKhEAAQQBAgQEBwAAAAAAAAAAAQACAwQRITEFEhNBBjJRYRQicYGxwdH/2gAMAwEAAhEDEQA/APTZhhgsNkstklAJJSPRFHGGArkygcu6I1W595DaUBKKJAHUYjPvN7020HY3nyQyxljB8vTUrNYQ1PrXPy763A4p55BAKHkC2jaeytSecMaVCe/N0Yd991guXoaUXVl2Un+Cz6pHuiLkMMlQBZR7oiHuy3fE2mZ36T6VwLLDWi4PD08rMJrffWtz57o++He2fbaM05pzfIYFiEhhTcvNcW9TLTgWLWlqFCVkdaR2Rps8FuVebqY+UZOvtlYIOO053tYwnJOBp9k9CpeXCT5Bvq7ojX4LXqke6Iy8davFIFDyitg9JhI/m9VQR8pC5LoAdWAKAKMED3J5wfSPxghg3YLGd1UK5DlHnL8o5nfwb234HI9Gai/Kss7dxrKVm5sUpae798ei3GbHIq5j2RBPft3YNue2/a5hGa9l+R+msKlMuS+HPTHScnLWzCZqZcUi191CjRLrZqBTxuuoNGPArsUFwO6gGh7hLuMUpZ6vKWEjI7FRayBvNeAWv/QnXa7hfxLhWWX/AMpVa3+zqh/t2fe58Ltt2W8vfk+0mr1nluluJbbKPL83gitbadfbEfcz7lu8vlLTeEGzXS6q/g/nnD3LrbbvMfNKXDr9MLvdX2A7W8p7ecsZgzBlPSyErreM9r5Zdt0k+hPiocKjVSgOQ7YrLUkVqJ8hcHZB1B9sdlJxQNrSNGMOBGh3zuNCvTzDdomuxGVkuh7NQ8hq7UVtuUBWlvPrhecP2wzeA4bOtY5hzi2KJRNsqJuHIBY9sPJxW+990QN+OKJwDFbcLmmmY4yevouLMcn3B9M/GCCYNX3CO1Z+MEdbsEc7rUU06VEhtRBPojfw+blZRlTc1MtMrKioJcWEkig50MXI8xP9BCazP8/b/wAI/EqJmV3wjjK3XVU0EYvAQu0GPwklt6k5vHegug5V7EeBquLpEF6y7hUutrStDSvoMIPImWMyMZqkXX8vYm2hPFqpco4APJq7SIeTBv331f8Asd7Cf1g19b8JhvS8SyiFtfkGDpnJ7lIeI+EoXWXWuocjBxgdgP4uDh+GYkifllrw+ZSlLyCSWlAAXDn1Qt7F90/ZGzBBJ5DOQSvFaIVgQNcrhPcnl17x+MEVmPnDv96vjBGtuwQjurblD9o/bGJ1hh9V7zKHFAUqpIJp/uCCFdjylNavnCoiXl268NhtFeu1IFYyIAbUFt+KodRHIwQQKHcItjZ30/SyaiY9e57xg1Ex69z3jBBDJKlYSSSSSSeZJgggg42Qiv/Z\", \"visible\": true, \"x\": 1.0, \"xanchor\": \"center\", \"xref\": \"x\", \"y\": -1.2, \"yanchor\": \"middle\", \"yref\": \"y\"}, {\"name\": \"28-99\", \"sizex\": 0.5, \"sizey\": 0.5, \"source\": \"data:image/jpg;base64,/9j/4AAQSkZJRgABAQAAAQABAAD/2wBDAAMCAgICAgMCAgIDAwMDBAYEBAQEBAgGBgUGCQgKCgkICQkKDA8MCgsOCwkJDRENDg8QEBEQCgwSExIQEw8QEBD/2wBDAQMDAwQDBAgEBAgQCwkLEBAQEBAQEBAQEBAQEBAQEBAQEBAQEBAQEBAQEBAQEBAQEBAQEBAQEBAQEBAQEBAQEBD/wAARCAAyADIDASIAAhEBAxEB/8QAHQAAAQMFAQAAAAAAAAAAAAAAAAEEBQIDBgcICf/EAEAQAAECAwQGBAsFCQAAAAAAAAECAwAEEQUGEhMHFBUhMVEIIjOxCRYXMkFTYXFygZEjNEJSkiQlJ0VjZKGi4f/EABoBAAIDAQEAAAAAAAAAAAAAAAQGAgMFAQD/xAAqEQABBAIBAgQGAwAAAAAAAAABAAIDBBExIQUSBhMjcRQyQUJR0aGxwf/aAAwDAQACEQMRAD8A9NmGGCw2Sy2SUAklI5RGWslLcylLaQkYAaJFPSYaKvFOsKLKGmCls4RVJrQbucRlpW/OOvpUppmuADck8z7YnPUnlbhn9quC9XhfmTXspyRAXjxgKpTjv5w6y2/Vp+kY/ZNrzLmbiQ1uw8Afb7YlpSddmJhDS0oAVWtAa8InFDJBF2ybCjLYisS90WjpO0tt4h9mnjyi9ks+qR+kQi0BCFLFapBIhtrrv5UfQxwO8zlq84eXw5N3gA6sAUAUe+CEWoqWpR4kkwQUNKpWzd/OOdrdMzrUy60r840bpz0y+SO9spdvxc2trNnNz2drmRhxOuow4cCq9nWtfTw3R0E3PyiG0oU7QpAB6p4xzN0nNDmkfSbf2Qt6493NpSLFkNSbjuuMM4XkvPKKcLq0qPVWk1pTfx4wZ0WatNb8u08duDsgfzwszrlezDTMlVh7sjQJ/wAK1Tfbwg/k31L+Ee0do5n8/wAnLy8P9sqtcfs4RP8AR28IF5bNMd39GPkk2NtnW/27b2sZWTKuvdnqyMVcrD5wpirvpQ8y9J3o8aYbB8Wtq3PyM/XMv94Sqq4cmvmuHmIq6Duja+l2elHcq3LcsXVpKW2lmu6y0vDis6ZSNyVEneoDcPTDLe6bSfBJLA3I7Tggkjge/wCVg9P6hYY+OKw7DsjIIAPJ/GM6XrcVZgy6Ux9WvKsU7L/r/wCv/Ybsz8op1CQ7vKgB1Tz90Sma3+b/ABCEfS4HCeG+tyeVCOowOLRWuFRFYIWYNX3CPSs98EGDSpPCbmVmVEqTLukE1BCDviUspKmZdSXklCismihQ0oIeS/3dr4E90WZrtB8MYohELzICtc2DYYIiMLnTpi3VvRenxR8WLt2pa+q6/n6hJuTGVi1fDiwA4a4VUrxoeUas0EaPL/2LpWsO07YuNeCQk2dZzJiZsx9ptFZZ1IqpSQBUkAV9JEdwSn4/lFU593X8u+Gav4glgofChgIw4Z98/tKtnw3FY6iLZeQctOMD6Y/SxuVZeEy0S0sALT+E84yCh5Qzb7RPxCH0L7pjY5IxhMbawrcA5yop7tV/Ee+CB7tnPiPfBGo3QWedpQ++AAHnABuACjCF51Rqp1Z96jBBAz1fHtAeeT5rqx7lGFL7yhRTyyORUYII4PlXfvVIWoGoUfrC5z3rV/qMEEQZpWP2qSSTUmpMEEEGjSDO1//Z\", \"visible\": true, \"x\": 3.0, \"xanchor\": \"center\", \"xref\": \"x\", \"y\": 0.19999999999999996, \"yanchor\": \"middle\", \"yref\": \"y\"}, {\"name\": \"34-99\", \"sizex\": 0.5, \"sizey\": 0.5, \"source\": \"data:image/jpg;base64,/9j/4AAQSkZJRgABAQAAAQABAAD/2wBDAAMCAgICAgMCAgIDAwMDBAYEBAQEBAgGBgUGCQgKCgkICQkKDA8MCgsOCwkJDRENDg8QEBEQCgwSExIQEw8QEBD/2wBDAQMDAwQDBAgEBAgQCwkLEBAQEBAQEBAQEBAQEBAQEBAQEBAQEBAQEBAQEBAQEBAQEBAQEBAQEBAQEBAQEBAQEBD/wAARCAAyADIDASIAAhEBAxEB/8QAHQAAAQMFAQAAAAAAAAAAAAAAAAMEBQECBwgJBv/EAEQQAAECBAIFBQwFDQAAAAAAAAECAwAEERIFBgcTFBUxCCEyQVEJFhczNEJhcoGRkrEjU3GhohgiJCdERlJiY2SCweH/xAAZAQACAwEAAAAAAAAAAAAAAAAEBQIDBgf/xAAoEQACAQMDAwIHAAAAAAAAAAABAgADBBEFITESE0Ey0QYiUXGRoeH/2gAMAwEAAhEDEQA/AOhLzzweWA6sAKPnHthMvv18c58RhnNzrqJp5ISigcUOB7Ymsv4axi0muZmVuJUl0oAQQBSgPWD2wtr6deLl87feN6GrWD4pgb4+keZb+n2nX/SW2Uv56ce2Jh2XYCCQy2P8RDWWkWcJu2ZS1a2l15B4dlKdsOEPKdUG1AAHsg21SpTpAOd/7F15Vp1azNT4PtEHGmghRDaeB6oZ0HYIlXWUhpZqeZJ+URlog1GzAKgwYieJggV0j9sEECRmKMazzsmMT8puu/UzLrd2vpWiyK0t9EYZ0td0C/J+zHLZN8Em/ttkUYntO/tlsvccbss2Zdaamta+dSnNU5hxvRxnOexqfnZXBr2ZiaddbVtDQuSpZINCqo5j1xofy5NEukF7SzhK2sv3AZdYHlbA/aZn+eNHa2tndkUjhtuAfYzJvc3lo5qNlRnkjA/JEzjl7upXfPtH6i9m2az9577rq/2gp0fvjKGhLlr+FzSfguj3wabq3rtP6ZvnX6rVS7jvQ1Cbq6unSFK156UjmXgWBYrkLX99krsO3W7P+el2+yt3iyqlL08acY2H5EeO4VOcp7JktLTV7i942psUK0w+ZPWPRDW40PTaVjUqBMOFYj5m5AONsymhq97WvUQPlCyjgcZGd8TqstN6FIrS4EQ03f8A1vw/9h4pQSkqUaACphHbZb638Jjm/cCcmb3tl/GZEOpsdWitbVEffBFX1BTzikmoKiR74IPXiCnYyQZSosook9EdXojUjld5GztmTSThs9l3J+N4rLN4Gy0p6Sw959CViYfJSVISQDRSTTjQjtjb+X8na9RPyiq+PsiVhqDadX7yrk7iD6jp66jb9hmwNjOQumbQlpmxHc+79EedJrV7RfqcAm1211dK0b5uB90en5Emh/S1lblPZMx7M+i7N2EYZK7x187P4JMy7DV2HzKU3OLQEpqpSUip5yQOJjqNP+Z7f9QnJeUo9vyMOLj4iq3VF0KAdQI8+RiK7XQado6dLk9JB/eZIv8AOy56p+URNi/4T7ol3PFq9UwxjG116iJsLd+kGMFcyj9sEVc8Yr1jBDdPSIsb1GXB98AAPOADmACjBr3zxec+IwQRSZOWqccX0nFGnaYErWk3JWoEdYMEETHpkPMuMw+RQvufEYt1jn1ivfBBFD8y9JQkk1MEEEFjiDnmf//Z\", \"visible\": true, \"x\": 2.0, \"xanchor\": \"center\", \"xref\": \"x\", \"y\": 1.5, \"yanchor\": \"middle\", \"yref\": \"y\"}, {\"name\": \"43-99\", \"sizex\": 0.5, \"sizey\": 0.5, \"source\": \"data:image/jpg;base64,/9j/4AAQSkZJRgABAQAAAQABAAD/2wBDAAMCAgICAgMCAgIDAwMDBAYEBAQEBAgGBgUGCQgKCgkICQkKDA8MCgsOCwkJDRENDg8QEBEQCgwSExIQEw8QEBD/2wBDAQMDAwQDBAgEBAgQCwkLEBAQEBAQEBAQEBAQEBAQEBAQEBAQEBAQEBAQEBAQEBAQEBAQEBAQEBAQEBAQEBAQEBD/wAARCAAyADIDASIAAhEBAxEB/8QAHQAAAQQDAQEAAAAAAAAAAAAAAAIEBQcDBggJAf/EAD8QAAECAwQHAQ0GBwAAAAAAAAECAwAEEQUGEhMHCBQVITFBURYXIjIzUlNhZHFykrEjJCdFgaElNEJikaLh/8QAGwEAAgIDAQAAAAAAAAAAAAAAAwQBBQACBwb/xAAlEQACAgIBBAICAwAAAAAAAAABAgADBBEhBRIxQRMUBrGBkaH/2gAMAwEAAhEDEQA/APSpttBQklCeQ6RC2444zNoS0tSAWwaJNBWpjZGJZCmW1Eq4pB/aKJ09aULfuHfCTsex5Oz3mXrNbmVKmW1qUFF11JAKVpFKIHTtizwamyrvjTzzKrqN64lHy2eOJb11/vG05/2mHBTHxp43bD+3G22bLfcaQlCxhopIoR4Q6xTug7SpeG92+95SdnN7Js2DIbWK4s2tarPmiLT3i/av8PmEoS27zKAQrhx4VJ7IzKxrMfIKv61+gZmHmVZOMCnvf7IkRJvvqnGEqecILiQQVGhFY2nKa9Gn/EMWLBk2323EuPVSsKFSOh90TGzo7VQvfarEdsaoqZQe6QzgAcUAOGIwQp8UfcA6LI/eCCDxJMlGHqMNjDyQOvqjhXXu0t9w+l2yLJ7n9tzbty8xmbXl0rNTKaUwHzedesdxtOoDSAVckjpHEuu9q3aaNMmlayrz6N7mb4syVu8xIOv7xlJfC+mZmVqRhedQo+C4g1Apx51Bhv8AH7Eqz+68gLo8ngf3EevU/Yweysdx2OByf8lJXH17+9Ntv4V713rl/nmRl5WL2dVa5nqpTrWLz1cdfvv36ZrvaL+9PuXfW1/ft+7TlZMo8/5PZ0Yq5WHxhTFXjSh5WvTqKa1R2X8LPP8Azyzf7faIsbU91WdO+iXWMulpB0g3F3VYFlbftc3vOTfy82RmGkeA06pZq44gcEmlamgBMej6kmBetlqMCxB1pveuPcoenfYxzXUwKqDzset8+RPT5bWShT2KuAFVKc6Q13z7N/v/AMjA5eew5hCmGZ7E44ChIylipPADlDOOc5b20sB4nQsGum9SfP8AMzuLzFqcpTESqnZWCEjkPdBFuh2oMqnGmIjxDTpQkhtRBA6Q9k0qS0QpJBxdRC5f+Xa+BP0jJCjNviFVNcyFvIy87s+U0tdMdcKSaco1yfkpxUo4EyjxPDgGz2iN3mf6f1hq95JX6Qem4oANRa/HFjFiZoMjZ8+mdl1KkZgAOoJJaV2j1RtuzzHoHPlMOWfKo+IfWJOAZyfbYM3Goz06w4SMq87kJQjgQQRwIMEZH/LufGfrBDaDSgQTHZJgH3wAA84AOAAUYNomPTufMYIICZuIF95XjPLPvUYSXHCKFaiPfBBGwmpnwKUDUKII9cLz3/TL+YwQRLeZCRBJJJJqTBBBBRIM/9k=\", \"visible\": true, \"x\": 1.0, \"xanchor\": \"center\", \"xref\": \"x\", \"y\": 1.2, \"yanchor\": \"middle\", \"yref\": \"y\"}, {\"name\": \"49-99\", \"sizex\": 0.5, \"sizey\": 0.5, \"source\": \"data:image/jpg;base64,/9j/4AAQSkZJRgABAQAAAQABAAD/2wBDAAMCAgICAgMCAgIDAwMDBAYEBAQEBAgGBgUGCQgKCgkICQkKDA8MCgsOCwkJDRENDg8QEBEQCgwSExIQEw8QEBD/2wBDAQMDAwQDBAgEBAgQCwkLEBAQEBAQEBAQEBAQEBAQEBAQEBAQEBAQEBAQEBAQEBAQEBAQEBAQEBAQEBAQEBAQEBD/wAARCAAyADIDASIAAhEBAxEB/8QAHQAAAQMFAQAAAAAAAAAAAAAAAAIDBAEFBggJB//EAEQQAAECAwUFAQoJDQAAAAAAAAECAwAEEQUGEhMhBwgUFTGxIjI0QVFTYXFykgkWIyUzQ4KRohc2QkRSZHOBg7LB0eH/xAAYAQEBAQEBAAAAAAAAAAAAAAAFBAYDB//EACYRAAEDAwMDBQEAAAAAAAAAAAEAAgMEETEFEiETM5EGMkFRcbH/2gAMAwEAAhEDEQA/AOi6lKxHuj18sRJp11LgCXFAYfETE0oBJOsak7229PtB2G7R7NuldKx7vTcnN2IzaK12jLvuOBxT77ZALbyBho0nSlak6+Rqjpn1cvSjyhqqdtNHvfhbb2IS7nZpK6YaYtadYuZabp9Gn7o597Ot/Ha9bXMOKu5c9GTlYcuTmhWuOtazB8ke1bF952/u0faXY9zLcsiwGJK0eIzXJSXeS6MuXccGEqdUO+QK1B0r64rqdArYmumIG0C+fgBRwa9RukbT3O4kDHyTx/Vs0202VpBbT1HiiZw8v5hv3RCUsICgQToaw9Gdc6+Fomi2VY3wA+4AAAFkAD1wQTHhDvtq7YIsGFwOUnKrri6+iOd/wiNlcXtqsVziMNLrSyaYK/rc36Y6MIlX1ISoN6EAjURp5vjbvW2DajtNsy8FxboczkJewWZNx7mEqzheTMTCynC64lR7lxBqBTXroYX9P1EMNaHTPDRY8kgBD61BNLSEQtJNxgErQ6Vvp+TTF828y5lT67Jy8v7Kq1x+jpHu+5Ttm+NW81c2wfi3wvFcx+V4zHhw2fMr73AK97Tr44xm/G43vSWrwXAbL83KzMfz3ZyaVw06zA8hjO9z7dH3hdlO8XdK/wBf7Z9yuwbL4/i5vm0i/l5sjMNI7hp5SzVbiBok0rU0AJjTanqMD4JWRStILSBYg34WfoNMe2aOWaMhwcCbgjBXTdb2WhTmGuEE0rETnP7t+P8A5AudlXkKZadqtwFKRhOpPSIvLZ3zP4h/uPKqozMI2A+F6XRiCVpMhHlJcXmLU5SmIlVPJWCKFKkEoUKFOhHpghdl9oujX2DjZXmXByG9P0B2QxOPMtuhLjqEnDWilARJl/B2vYT2RYrxeGo/hDtMEVkhhYXD7SlFEJpAw/Sdmp6Sbw5k4wmtaVcArEdU3KTSciWmmnXFd6hCwpRproBGL2/9R9r/ABCro/nDKf1P7FRBBq7xI2HaMgeUpPocboXT7zexPgLJ5WWmUzTKlS7oAcSSSg0ArGRYk/tD74Seh9UNQ69/U5KzTGdLgK1zHhDvtq7YIo99M57R7YIqGFzKqH3wAA84ANAAow258srE93ZApVWppBBEVR7FZS9xNOSko7TNlWV06YkA0gZlJWXcD0vLNNOJ6KQgJI/mIIINZ3R+hLP7B/CpOe/55z3jFM57zq/eMEEMhAFJJJNSakwQQR3C5r//2Q==\", \"visible\": true, \"x\": 3.0, \"xanchor\": \"center\", \"xref\": \"x\", \"y\": 1.4000000000000004, \"yanchor\": \"middle\", \"yref\": \"y\"}], \"margin\": {\"b\": 20, \"l\": 20, \"r\": 20, \"t\": 20}, \"paper_bgcolor\": \"rgba(0,0,0,0)\", \"plot_bgcolor\": \"rgba(0,0,0,0)\", \"template\": {\"data\": {\"bar\": [{\"error_x\": {\"color\": \"#2a3f5f\"}, \"error_y\": {\"color\": \"#2a3f5f\"}, \"marker\": {\"line\": {\"color\": \"#E5ECF6\", \"width\": 0.5}}, \"type\": \"bar\"}], \"barpolar\": [{\"marker\": {\"line\": {\"color\": \"#E5ECF6\", \"width\": 0.5}}, \"type\": \"barpolar\"}], \"carpet\": [{\"aaxis\": {\"endlinecolor\": \"#2a3f5f\", \"gridcolor\": \"white\", \"linecolor\": \"white\", \"minorgridcolor\": \"white\", \"startlinecolor\": \"#2a3f5f\"}, \"baxis\": {\"endlinecolor\": \"#2a3f5f\", \"gridcolor\": \"white\", \"linecolor\": \"white\", \"minorgridcolor\": \"white\", \"startlinecolor\": \"#2a3f5f\"}, \"type\": \"carpet\"}], \"choropleth\": [{\"colorbar\": {\"outlinewidth\": 0, \"ticks\": \"\"}, \"type\": \"choropleth\"}], \"contour\": [{\"colorbar\": {\"outlinewidth\": 0, \"ticks\": \"\"}, \"colorscale\": [[0.0, \"#0d0887\"], [0.1111111111111111, \"#46039f\"], [0.2222222222222222, \"#7201a8\"], [0.3333333333333333, \"#9c179e\"], [0.4444444444444444, \"#bd3786\"], [0.5555555555555556, \"#d8576b\"], [0.6666666666666666, \"#ed7953\"], [0.7777777777777778, \"#fb9f3a\"], [0.8888888888888888, \"#fdca26\"], [1.0, \"#f0f921\"]], \"type\": \"contour\"}], \"contourcarpet\": [{\"colorbar\": {\"outlinewidth\": 0, \"ticks\": \"\"}, \"type\": \"contourcarpet\"}], \"heatmap\": [{\"colorbar\": {\"outlinewidth\": 0, \"ticks\": \"\"}, \"colorscale\": [[0.0, \"#0d0887\"], [0.1111111111111111, \"#46039f\"], [0.2222222222222222, \"#7201a8\"], [0.3333333333333333, \"#9c179e\"], [0.4444444444444444, \"#bd3786\"], [0.5555555555555556, \"#d8576b\"], [0.6666666666666666, \"#ed7953\"], [0.7777777777777778, \"#fb9f3a\"], [0.8888888888888888, \"#fdca26\"], [1.0, \"#f0f921\"]], \"type\": \"heatmap\"}], \"heatmapgl\": [{\"colorbar\": {\"outlinewidth\": 0, \"ticks\": \"\"}, \"colorscale\": [[0.0, \"#0d0887\"], [0.1111111111111111, \"#46039f\"], [0.2222222222222222, \"#7201a8\"], [0.3333333333333333, \"#9c179e\"], [0.4444444444444444, \"#bd3786\"], [0.5555555555555556, \"#d8576b\"], [0.6666666666666666, \"#ed7953\"], [0.7777777777777778, \"#fb9f3a\"], [0.8888888888888888, \"#fdca26\"], [1.0, \"#f0f921\"]], \"type\": \"heatmapgl\"}], \"histogram\": [{\"marker\": {\"colorbar\": {\"outlinewidth\": 0, \"ticks\": \"\"}}, \"type\": \"histogram\"}], \"histogram2d\": [{\"colorbar\": {\"outlinewidth\": 0, \"ticks\": \"\"}, \"colorscale\": [[0.0, \"#0d0887\"], [0.1111111111111111, \"#46039f\"], [0.2222222222222222, \"#7201a8\"], [0.3333333333333333, \"#9c179e\"], [0.4444444444444444, \"#bd3786\"], [0.5555555555555556, \"#d8576b\"], [0.6666666666666666, \"#ed7953\"], [0.7777777777777778, \"#fb9f3a\"], [0.8888888888888888, \"#fdca26\"], [1.0, \"#f0f921\"]], \"type\": \"histogram2d\"}], \"histogram2dcontour\": [{\"colorbar\": {\"outlinewidth\": 0, \"ticks\": \"\"}, \"colorscale\": [[0.0, \"#0d0887\"], [0.1111111111111111, \"#46039f\"], [0.2222222222222222, \"#7201a8\"], [0.3333333333333333, \"#9c179e\"], [0.4444444444444444, \"#bd3786\"], [0.5555555555555556, \"#d8576b\"], [0.6666666666666666, \"#ed7953\"], [0.7777777777777778, \"#fb9f3a\"], [0.8888888888888888, \"#fdca26\"], [1.0, \"#f0f921\"]], \"type\": \"histogram2dcontour\"}], \"mesh3d\": [{\"colorbar\": {\"outlinewidth\": 0, \"ticks\": \"\"}, \"type\": \"mesh3d\"}], \"parcoords\": [{\"line\": {\"colorbar\": {\"outlinewidth\": 0, \"ticks\": \"\"}}, \"type\": \"parcoords\"}], \"pie\": [{\"automargin\": true, \"type\": \"pie\"}], \"scatter\": [{\"marker\": {\"colorbar\": {\"outlinewidth\": 0, \"ticks\": \"\"}}, \"type\": \"scatter\"}], \"scatter3d\": [{\"line\": {\"colorbar\": {\"outlinewidth\": 0, \"ticks\": \"\"}}, \"marker\": {\"colorbar\": {\"outlinewidth\": 0, \"ticks\": \"\"}}, \"type\": \"scatter3d\"}], \"scattercarpet\": [{\"marker\": {\"colorbar\": {\"outlinewidth\": 0, \"ticks\": \"\"}}, \"type\": \"scattercarpet\"}], \"scattergeo\": [{\"marker\": {\"colorbar\": {\"outlinewidth\": 0, \"ticks\": \"\"}}, \"type\": \"scattergeo\"}], \"scattergl\": [{\"marker\": {\"colorbar\": {\"outlinewidth\": 0, \"ticks\": \"\"}}, \"type\": \"scattergl\"}], \"scattermapbox\": [{\"marker\": {\"colorbar\": {\"outlinewidth\": 0, \"ticks\": \"\"}}, \"type\": \"scattermapbox\"}], \"scatterpolar\": [{\"marker\": {\"colorbar\": {\"outlinewidth\": 0, \"ticks\": \"\"}}, \"type\": \"scatterpolar\"}], \"scatterpolargl\": [{\"marker\": {\"colorbar\": {\"outlinewidth\": 0, \"ticks\": \"\"}}, \"type\": \"scatterpolargl\"}], \"scatterternary\": [{\"marker\": {\"colorbar\": {\"outlinewidth\": 0, \"ticks\": \"\"}}, \"type\": \"scatterternary\"}], \"surface\": [{\"colorbar\": {\"outlinewidth\": 0, \"ticks\": \"\"}, \"colorscale\": [[0.0, \"#0d0887\"], [0.1111111111111111, \"#46039f\"], [0.2222222222222222, \"#7201a8\"], [0.3333333333333333, \"#9c179e\"], [0.4444444444444444, \"#bd3786\"], [0.5555555555555556, \"#d8576b\"], [0.6666666666666666, \"#ed7953\"], [0.7777777777777778, \"#fb9f3a\"], [0.8888888888888888, \"#fdca26\"], [1.0, \"#f0f921\"]], \"type\": \"surface\"}], \"table\": [{\"cells\": {\"fill\": {\"color\": \"#EBF0F8\"}, \"line\": {\"color\": \"white\"}}, \"header\": {\"fill\": {\"color\": \"#C8D4E3\"}, \"line\": {\"color\": \"white\"}}, \"type\": \"table\"}]}, \"layout\": {\"annotationdefaults\": {\"arrowcolor\": \"#2a3f5f\", \"arrowhead\": 0, \"arrowwidth\": 1}, \"autotypenumbers\": \"strict\", \"coloraxis\": {\"colorbar\": {\"outlinewidth\": 0, \"ticks\": \"\"}}, \"colorscale\": {\"diverging\": [[0, \"#8e0152\"], [0.1, \"#c51b7d\"], [0.2, \"#de77ae\"], [0.3, \"#f1b6da\"], [0.4, \"#fde0ef\"], [0.5, \"#f7f7f7\"], [0.6, \"#e6f5d0\"], [0.7, \"#b8e186\"], [0.8, \"#7fbc41\"], [0.9, \"#4d9221\"], [1, \"#276419\"]], \"sequential\": [[0.0, \"#0d0887\"], [0.1111111111111111, \"#46039f\"], [0.2222222222222222, \"#7201a8\"], [0.3333333333333333, \"#9c179e\"], [0.4444444444444444, \"#bd3786\"], [0.5555555555555556, \"#d8576b\"], [0.6666666666666666, \"#ed7953\"], [0.7777777777777778, \"#fb9f3a\"], [0.8888888888888888, \"#fdca26\"], [1.0, \"#f0f921\"]], \"sequentialminus\": [[0.0, \"#0d0887\"], [0.1111111111111111, \"#46039f\"], [0.2222222222222222, \"#7201a8\"], [0.3333333333333333, \"#9c179e\"], [0.4444444444444444, \"#bd3786\"], [0.5555555555555556, \"#d8576b\"], [0.6666666666666666, \"#ed7953\"], [0.7777777777777778, \"#fb9f3a\"], [0.8888888888888888, \"#fdca26\"], [1.0, \"#f0f921\"]]}, \"colorway\": [\"#636efa\", \"#EF553B\", \"#00cc96\", \"#ab63fa\", \"#FFA15A\", \"#19d3f3\", \"#FF6692\", \"#B6E880\", \"#FF97FF\", \"#FECB52\"], \"font\": {\"color\": \"#2a3f5f\"}, \"geo\": {\"bgcolor\": \"white\", \"lakecolor\": \"white\", \"landcolor\": \"#E5ECF6\", \"showlakes\": true, \"showland\": true, \"subunitcolor\": \"white\"}, \"hoverlabel\": {\"align\": \"left\"}, \"hovermode\": \"closest\", \"mapbox\": {\"style\": \"light\"}, \"paper_bgcolor\": \"white\", \"plot_bgcolor\": \"#E5ECF6\", \"polar\": {\"angularaxis\": {\"gridcolor\": \"white\", \"linecolor\": \"white\", \"ticks\": \"\"}, \"bgcolor\": \"#E5ECF6\", \"radialaxis\": {\"gridcolor\": \"white\", \"linecolor\": \"white\", \"ticks\": \"\"}}, \"scene\": {\"xaxis\": {\"backgroundcolor\": \"#E5ECF6\", \"gridcolor\": \"white\", \"gridwidth\": 2, \"linecolor\": \"white\", \"showbackground\": true, \"ticks\": \"\", \"zerolinecolor\": \"white\"}, \"yaxis\": {\"backgroundcolor\": \"#E5ECF6\", \"gridcolor\": \"white\", \"gridwidth\": 2, \"linecolor\": \"white\", \"showbackground\": true, \"ticks\": \"\", \"zerolinecolor\": \"white\"}, \"zaxis\": {\"backgroundcolor\": \"#E5ECF6\", \"gridcolor\": \"white\", \"gridwidth\": 2, \"linecolor\": \"white\", \"showbackground\": true, \"ticks\": \"\", \"zerolinecolor\": \"white\"}}, \"shapedefaults\": {\"line\": {\"color\": \"#2a3f5f\"}}, \"ternary\": {\"aaxis\": {\"gridcolor\": \"white\", \"linecolor\": \"white\", \"ticks\": \"\"}, \"baxis\": {\"gridcolor\": \"white\", \"linecolor\": \"white\", \"ticks\": \"\"}, \"bgcolor\": \"#E5ECF6\", \"caxis\": {\"gridcolor\": \"white\", \"linecolor\": \"white\", \"ticks\": \"\"}}, \"title\": {\"x\": 0.05}, \"xaxis\": {\"automargin\": true, \"gridcolor\": \"white\", \"linecolor\": \"white\", \"ticks\": \"\", \"title\": {\"standoff\": 15}, \"zerolinecolor\": \"white\", \"zerolinewidth\": 2}, \"yaxis\": {\"automargin\": true, \"gridcolor\": \"white\", \"linecolor\": \"white\", \"ticks\": \"\", \"title\": {\"standoff\": 15}, \"zerolinecolor\": \"white\", \"zerolinewidth\": 2}}}, \"transition\": {\"duration\": 20}, \"xaxis\": {\"showgrid\": false, \"showline\": false, \"showticklabels\": false}, \"yaxis\": {\"showgrid\": false, \"showline\": false, \"showticklabels\": false}},                        {\"responsive\": true}                    ).then(function(){\n",
       "                            \n",
       "var gd = document.getElementById('e8ffc02a-cf00-4181-9fe8-ad6562202dc7');\n",
       "var x = new MutationObserver(function (mutations, observer) {{\n",
       "        var display = window.getComputedStyle(gd).display;\n",
       "        if (!display || display === 'none') {{\n",
       "            console.log([gd, 'removed!']);\n",
       "            Plotly.purge(gd);\n",
       "            observer.disconnect();\n",
       "        }}\n",
       "}});\n",
       "\n",
       "// Listen for the removal of the full notebook cells\n",
       "var notebookContainer = gd.closest('#notebook-container');\n",
       "if (notebookContainer) {{\n",
       "    x.observe(notebookContainer, {childList: true});\n",
       "}}\n",
       "\n",
       "// Listen for the clearing of the current output cell\n",
       "var outputEl = gd.closest('.output');\n",
       "if (outputEl) {{\n",
       "    x.observe(outputEl, {childList: true});\n",
       "}}\n",
       "\n",
       "                        })                };                });            </script>        </div>"
      ]
     },
     "metadata": {},
     "output_type": "display_data"
    }
   ],
   "source": [
    "import base64\n",
    "#fetch feature viz images on nodes\n",
    "for layer in pos_dict_nodes:\n",
    "    for i in range(len(pos_dict_nodes[layer]['name'])):\n",
    "        nodeid = pos_dict_nodes[layer]['name'][i]\n",
    "        img_file_path = './prepped_models/%s//visualizations/images/neuron/%s.jpg'%(prepped_model_folder,str(nodeid))\n",
    "        img = base64.b64encode(open(img_file_path, 'rb').read())\n",
    "        circuit_fig.add_layout_image(\n",
    "            dict(\n",
    "                source='data:image/jpg;base64,{}'.format(img.decode()),\n",
    "                #source=\"http://chrishamblin.xyz/images/viscnn_images/%s.jpg\"%nodeid,\n",
    "                x=pos_dict_nodes[layer]['X'][i],\n",
    "                y=pos_dict_nodes[layer]['Y'][i],\n",
    "                sizex=1,\n",
    "                sizey=1,\n",
    "                name = nodeid\n",
    "            ))\n",
    "\n",
    "#fetch kernel images on edges\n",
    "kernel_positions = []\n",
    "for layer in pos_dict_edges:\n",
    "    for i in range(len(pos_dict_edges[layer]['name'])):\n",
    "        edgeid = pos_dict_edges[layer]['name'][i]\n",
    "        gen_kernel_img(edgeid,kernels,params)\n",
    "        img_file_path = './prepped_models/%s/visualizations/images/kernels/%s.jpg'%(prepped_model_folder,str(edgeid))\n",
    "        img = base64.b64encode(open(img_file_path, 'rb').read())\n",
    "        #getting best position\n",
    "        best_dist=[0,0]\n",
    "        for pos in [2,3,1,4]:\n",
    "            far_enough_all=True\n",
    "            smallest_dist = 1000000000\n",
    "            for kernel_position in kernel_positions:\n",
    "                dist, far_enough = min_distance(np.array([pos_dict_edges[layer]['X'][i][pos],pos_dict_edges[layer]['Y'][i][pos]]),np.array(kernel_position))\n",
    "                if dist < smallest_dist:\n",
    "                    smallest_dist=dist\n",
    "                if not far_enough:\n",
    "                    far_enough_all=False\n",
    "            if far_enough_all:\n",
    "                kernel_positions.append([pos_dict_edges[layer]['X'][i][pos],pos_dict_edges[layer]['Y'][i][pos]])\n",
    "                break\n",
    "            elif smallest_dist>best_dist[1]:\n",
    "                best_dist = [pos,smallest_dist]\n",
    "            if pos == 4:\n",
    "                kernel_positions.append([pos_dict_edges[layer]['X'][i][best_dist[0]],pos_dict_edges[layer]['Y'][i][best_dist[0]]])\n",
    "                    \n",
    "        circuit_fig.add_layout_image(\n",
    "            dict(\n",
    "                source='data:image/jpg;base64,{}'.format(img.decode()),\n",
    "                #source=\"http://chrishamblin.xyz/images/viscnn_images/%s.jpg\"%nodeid,\n",
    "                #x=pos_dict_edges[layer]['X'][i][2],\n",
    "                #y=pos_dict_edges[layer]['Y'][i][2],\n",
    "                x=kernel_positions[-1][0],\n",
    "                y=kernel_positions[-1][1],\n",
    "                sizex=.5,\n",
    "                sizey=.5,\n",
    "                name=edgeid,\n",
    "                visible=True\n",
    "            ))        \n",
    "        \n",
    "\n",
    "circuit_fig.update_layout_images(dict(\n",
    "        xref=\"x\",\n",
    "        yref=\"y\",\n",
    "        xanchor=\"center\",\n",
    "        yanchor=\"middle\"\n",
    "))\n",
    "    \n",
    "circuit_fig.show()"
   ]
  },
  {
   "cell_type": "code",
   "execution_count": 27,
   "metadata": {},
   "outputs": [],
   "source": [
    "from plotly.io import to_json\n",
    "\n",
    "circuit_json = to_json(circuit_fig)"
   ]
  },
  {
   "cell_type": "code",
   "execution_count": 28,
   "metadata": {},
   "outputs": [
    {
     "data": {
      "text/plain": [
       "'{\"data\":[{\"hoverinfo\":\"text\",\"marker\":{\"color\":[\"rgba(255,0,0,.7)\",\"rgba(0,255,0,.7)\",\"rgba(0,0,255,.7)\"],\"line\":{\"color\":\"rgb(50,50,50)\",\"width\":0.5},\"opacity\":0.99,\"size\":8,\"symbol\":\"square\"},\"mode\":\"markers\",\"name\":\"image channels\",\"text\":[\"r\",\"g\",\"b\"],\"type\":\"scatter\",\"x\":[-5,-5,-5],\"y\":[2,0,-2]},{\"customdata\":[[50.0,50.0,1.0],[56.0,56.0,0.5265068603794981],[38.0,38.0,0.3896398925434926],[47.0,47.0,0.3756413754212973],[28.0,28.0,0.2990399977967611],[43.0,43.0,0.29424985266743325],[34.0,34.0,0.2940277215832711],[49.0,49.0,0.27671341424294904]],\"hovertemplate\":\"<b>%{customdata[0]}</b><br><i>layerwise ID</i>: %{customdata[1]}<br><i>Score</i>: %{customdata[2]:.3f}<br>\",\"marker\":{\"color\":\"rgba(50,50,50,0)\",\"line\":{\"color\":\"rgba(50,50,50,0)\",\"width\":0.5},\"opacity\":0,\"size\":6,\"symbol\":\"circle\"},\"mode\":\"markers\",\"name\":\"features_0\",\"text\":[\"50\",\"56\",\"38\",\"47\",\"28\",\"43\",\"34\",\"49\"],\"type\":\"scatter\",\"x\":[0,0,0,0,0,0,0,0],\"y\":[-3.5,-2.5,-1.5,-0.5,0.5,1.5,2.5,3.5]},{\"customdata\":[[99.0,35.0,1.0]],\"hovertemplate\":\"<b>%{customdata[0]}</b><br><i>layerwise ID</i>: %{customdata[1]}<br><i>Score</i>: %{customdata[2]:.3f}<br>\",\"marker\":{\"color\":\"rgba(50,50,50,0)\",\"line\":{\"color\":\"rgba(50,50,50,0)\",\"width\":0.5},\"opacity\":0,\"size\":6,\"symbol\":\"circle\"},\"mode\":\"markers\",\"name\":\"features_3\",\"text\":[\"99\"],\"type\":\"scatter\",\"x\":[5],\"y\":[0.0]},{\"hoverinfo\":\"text\",\"legendgroup\":\"edges 1\",\"line\":{\"color\":\"rgba(161,165,170,1)\",\"width\":1.236209478547574},\"mode\":\"lines\",\"name\":\"features_0\",\"showlegend\":false,\"text\":\"g-28\",\"type\":\"scatter\",\"x\":[-5,-4.0,-3.0,-2.0,-1.0,0],\"y\":[0,0.1,0.2,0.30000000000000004,0.4,0.5]},{\"hoverinfo\":\"text\",\"legendgroup\":\"edges 1\",\"line\":{\"color\":\"rgba(161,165,170,1)\",\"width\":1.0987028825987177},\"mode\":\"lines\",\"name\":\"features_0\",\"showlegend\":false,\"text\":\"r-28\",\"type\":\"scatter\",\"x\":[-5,-4.0,-3.0,-2.0,-1.0,0],\"y\":[2,1.7,1.4,1.1,0.8,0.5]},{\"hoverinfo\":\"text\",\"legendgroup\":\"edges 1\",\"line\":{\"color\":\"rgba(161,165,170,1)\",\"width\":1.1987409144934482},\"mode\":\"lines\",\"name\":\"features_0\",\"showlegend\":false,\"text\":\"g-34\",\"type\":\"scatter\",\"x\":[-5,-4.0,-3.0,-2.0,-1.0,0],\"y\":[0,0.5,1.0,1.5,2.0,2.5]},{\"hoverinfo\":\"text\",\"legendgroup\":\"edges 1\",\"line\":{\"color\":\"rgba(161,165,170,1)\",\"width\":1.1590899682735678},\"mode\":\"lines\",\"name\":\"features_0\",\"showlegend\":false,\"text\":\"r-34\",\"type\":\"scatter\",\"x\":[-5,-4.0,-3.0,-2.0,-1.0,0],\"y\":[2,2.1,2.2,2.3,2.4,2.5]},{\"hoverinfo\":\"text\",\"legendgroup\":\"edges 1\",\"line\":{\"color\":\"rgba(162,166,170,1)\",\"width\":4.4816890703380645},\"mode\":\"lines\",\"name\":\"features_0\",\"showlegend\":true,\"text\":\"b-38\",\"type\":\"scatter\",\"x\":[-5,-4.0,-3.0,-2.0,-1.0,0],\"y\":[-2,-1.9,-1.8,-1.7,-1.6,-1.5]},{\"hoverinfo\":\"text\",\"legendgroup\":\"edges 1\",\"line\":{\"color\":\"rgba(160,165,170,1)\",\"width\":2.5961354476660823},\"mode\":\"lines\",\"name\":\"features_0\",\"showlegend\":false,\"text\":\"r-38\",\"type\":\"scatter\",\"x\":[-5,-4.0,-3.0,-2.0,-1.0,0],\"y\":[2,1.3,0.6000000000000001,-0.09999999999999964,-0.7999999999999998,-1.5]},{\"hoverinfo\":\"text\",\"legendgroup\":\"edges 1\",\"line\":{\"color\":\"rgba(161,165,170,1)\",\"width\":1.285653946952783},\"mode\":\"lines\",\"name\":\"features_0\",\"showlegend\":false,\"text\":\"b-43\",\"type\":\"scatter\",\"x\":[-5,-4.0,-3.0,-2.0,-1.0,0],\"y\":[-2,-1.3,-0.6000000000000001,0.09999999999999964,0.7999999999999998,1.5]},{\"hoverinfo\":\"text\",\"legendgroup\":\"edges 1\",\"line\":{\"color\":\"rgba(159,164,170,1)\",\"width\":1.0},\"mode\":\"lines\",\"name\":\"features_0\",\"showlegend\":false,\"text\":\"g-43\",\"type\":\"scatter\",\"x\":[-5,-4.0,-3.0,-2.0,-1.0,0],\"y\":[0,0.3,0.6,0.8999999999999999,1.2,1.5]},{\"hoverinfo\":\"text\",\"legendgroup\":\"edges 1\",\"line\":{\"color\":\"rgba(163,166,170,1)\",\"width\":1.4116446805141034},\"mode\":\"lines\",\"name\":\"features_0\",\"showlegend\":false,\"text\":\"b-47\",\"type\":\"scatter\",\"x\":[-5,-4.0,-3.0,-2.0,-1.0,0],\"y\":[-2,-1.7,-1.4,-1.1,-0.8,-0.5]},{\"hoverinfo\":\"text\",\"legendgroup\":\"edges 1\",\"line\":{\"color\":\"rgba(157,163,170,1)\",\"width\":1.1448423041328732},\"mode\":\"lines\",\"name\":\"features_0\",\"showlegend\":false,\"text\":\"g-47\",\"type\":\"scatter\",\"x\":[-5,-4.0,-3.0,-2.0,-1.0,0],\"y\":[0,-0.1,-0.2,-0.30000000000000004,-0.4,-0.5]},{\"hoverinfo\":\"text\",\"legendgroup\":\"edges 1\",\"line\":{\"color\":\"rgba(161,165,170,1)\",\"width\":2.558345145949038},\"mode\":\"lines\",\"name\":\"features_0\",\"showlegend\":false,\"text\":\"r-49\",\"type\":\"scatter\",\"x\":[-5,-4.0,-3.0,-2.0,-1.0,0],\"y\":[2,2.3,2.6,2.9,3.2,3.5]},{\"hoverinfo\":\"text\",\"legendgroup\":\"edges 1\",\"line\":{\"color\":\"rgba(161,165,170,1)\",\"width\":2.3060749814948935},\"mode\":\"lines\",\"name\":\"features_0\",\"showlegend\":false,\"text\":\"b-49\",\"type\":\"scatter\",\"x\":[-5,-4.0,-3.0,-2.0,-1.0,0],\"y\":[-2,-0.8999999999999999,0.20000000000000018,1.3000000000000003,2.4000000000000004,3.5]},{\"hoverinfo\":\"text\",\"legendgroup\":\"edges 1\",\"line\":{\"color\":\"rgba(161,166,170,1)\",\"width\":3.9402088290895163},\"mode\":\"lines\",\"name\":\"features_0\",\"showlegend\":false,\"text\":\"r-50\",\"type\":\"scatter\",\"x\":[-5,-4.0,-3.0,-2.0,-1.0,0],\"y\":[2,0.8999999999999999,-0.20000000000000018,-1.3000000000000003,-2.4000000000000004,-3.5]},{\"hoverinfo\":\"text\",\"legendgroup\":\"edges 1\",\"line\":{\"color\":\"rgba(160,165,170,1)\",\"width\":2.8024838382071366},\"mode\":\"lines\",\"name\":\"features_0\",\"showlegend\":false,\"text\":\"g-50\",\"type\":\"scatter\",\"x\":[-5,-4.0,-3.0,-2.0,-1.0,0],\"y\":[0,-0.7,-1.4,-2.0999999999999996,-2.8,-3.5]},{\"hoverinfo\":\"text\",\"legendgroup\":\"edges 1\",\"line\":{\"color\":\"rgba(161,165,170,1)\",\"width\":3.5120668172840643},\"mode\":\"lines\",\"name\":\"features_0\",\"showlegend\":false,\"text\":\"r-56\",\"type\":\"scatter\",\"x\":[-5,-4.0,-3.0,-2.0,-1.0,0],\"y\":[2,1.1,0.19999999999999996,-0.7000000000000002,-1.6,-2.5]},{\"hoverinfo\":\"text\",\"legendgroup\":\"edges 1\",\"line\":{\"color\":\"rgba(164,167,170,1)\",\"width\":1.6566728339738033},\"mode\":\"lines\",\"name\":\"features_0\",\"showlegend\":false,\"text\":\"g-56\",\"type\":\"scatter\",\"x\":[-5,-4.0,-3.0,-2.0,-1.0,0],\"y\":[0,-0.5,-1.0,-1.5,-2.0,-2.5]},{\"hoverinfo\":\"text\",\"legendgroup\":\"edges 1\",\"line\":{\"color\":\"rgba(159,165,170,1)\",\"width\":1.6228340006284157},\"mode\":\"lines\",\"name\":\"features_0\",\"showlegend\":false,\"text\":\"b-56\",\"type\":\"scatter\",\"x\":[-5,-4.0,-3.0,-2.0,-1.0,0],\"y\":[-2,-2.1,-2.2,-2.3,-2.4,-2.5]},{\"hoverinfo\":\"text\",\"legendgroup\":\"edges 2\",\"line\":{\"color\":\"rgba(190,32,47,1)\",\"width\":4.4816890703380645},\"mode\":\"lines\",\"name\":\"features_3\",\"showlegend\":true,\"text\":\"50-99\",\"type\":\"scatter\",\"x\":[0,1.0,2.0,3.0,4.0,5],\"y\":[-3.5,-2.8,-2.1,-1.4000000000000004,-0.7000000000000002,0.0]},{\"hoverinfo\":\"text\",\"legendgroup\":\"edges 2\",\"line\":{\"color\":\"rgba(42,104,168,1)\",\"width\":1.673993224765754},\"mode\":\"lines\",\"name\":\"features_3\",\"showlegend\":false,\"text\":\"56-99\",\"type\":\"scatter\",\"x\":[0,1.0,2.0,3.0,4.0,5],\"y\":[-2.5,-2.0,-1.5,-1.0,-0.5,0.0]},{\"hoverinfo\":\"text\",\"legendgroup\":\"edges 2\",\"line\":{\"color\":\"rgba(180,100,108,1)\",\"width\":1.3112195804637294},\"mode\":\"lines\",\"name\":\"features_3\",\"showlegend\":false,\"text\":\"47-99\",\"type\":\"scatter\",\"x\":[0,1.0,2.0,3.0,4.0,5],\"y\":[-0.5,-0.4,-0.3,-0.19999999999999996,-0.09999999999999998,0.0]},{\"hoverinfo\":\"text\",\"legendgroup\":\"edges 2\",\"line\":{\"color\":\"rgba(55,111,169,1)\",\"width\":1.2635359827759465},\"mode\":\"lines\",\"name\":\"features_3\",\"showlegend\":false,\"text\":\"38-99\",\"type\":\"scatter\",\"x\":[0,1.0,2.0,3.0,4.0,5],\"y\":[-1.5,-1.2,-0.9,-0.6000000000000001,-0.30000000000000004,0.0]},{\"hoverinfo\":\"text\",\"legendgroup\":\"edges 2\",\"line\":{\"color\":\"rgba(55,110,169,1)\",\"width\":1.0425987689773017},\"mode\":\"lines\",\"name\":\"features_3\",\"showlegend\":false,\"text\":\"28-99\",\"type\":\"scatter\",\"x\":[0,1.0,2.0,3.0,4.0,5],\"y\":[0.5,0.4,0.3,0.19999999999999996,0.09999999999999998,0.0]},{\"hoverinfo\":\"text\",\"legendgroup\":\"edges 2\",\"line\":{\"color\":\"rgba(46,106,168,1)\",\"width\":1.031425342262482},\"mode\":\"lines\",\"name\":\"features_3\",\"showlegend\":false,\"text\":\"34-99\",\"type\":\"scatter\",\"x\":[0,1.0,2.0,3.0,4.0,5],\"y\":[2.5,2.0,1.5,1.0,0.5,0.0]},{\"hoverinfo\":\"text\",\"legendgroup\":\"edges 2\",\"line\":{\"color\":\"rgba(34,99,168,1)\",\"width\":1.0306728378907652},\"mode\":\"lines\",\"name\":\"features_3\",\"showlegend\":false,\"text\":\"43-99\",\"type\":\"scatter\",\"x\":[0,1.0,2.0,3.0,4.0,5],\"y\":[1.5,1.2,0.9,0.6000000000000001,0.30000000000000004,0.0]},{\"hoverinfo\":\"text\",\"legendgroup\":\"edges 2\",\"line\":{\"color\":\"rgba(54,110,169,1)\",\"width\":1.0},\"mode\":\"lines\",\"name\":\"features_3\",\"showlegend\":false,\"text\":\"49-99\",\"type\":\"scatter\",\"x\":[0,1.0,2.0,3.0,4.0,5],\"y\":[3.5,2.8,2.1,1.4000000000000004,0.7000000000000002,0.0]},{\"hoverinfo\":\"skip\",\"marker\":{\"color\":\"rgba(255,255,255,0)\",\"line\":{\"color\":\"rgba(255,255,255,0)\",\"width\":0.5},\"opacity\":0,\"size\":6,\"symbol\":\"circle\"},\"mode\":\"markers\",\"name\":\"misc\",\"showlegend\":false,\"text\":\"full\",\"type\":\"scatter\",\"x\":[-5.5],\"y\":[-2.5]}],\"layout\":{\"clickmode\":\"event+select\",\"height\":1300,\"images\":[{\"name\":\"50\",\"sizex\":1,\"sizey\":1,\"source\":\"data:image/jpg;base64,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\",\"x\":0,\"xanchor\":\"center\",\"xref\":\"x\",\"y\":-3.5,\"yanchor\":\"middle\",\"yref\":\"y\"},{\"name\":\"56\",\"sizex\":1,\"sizey\":1,\"source\":\"data:image/jpg;base64,/9j/4AAQSkZJRgABAQAAAQABAAD/2wBDAAgGBgcGBQgHBwcJCQgKDBQNDAsLDBkSEw8UHRofHh0aHBwgJC4nICIsIxwcKDcpLDAxNDQ0Hyc5PTgyPC4zNDL/2wBDAQkJCQwLDBgNDRgyIRwhMjIyMjIyMjIyMjIyMjIyMjIyMjIyMjIyMjIyMjIyMjIyMjIyMjIyMjIyMjIyMjIyMjL/wAARCADgAOADASIAAhEBAxEB/8QAHwAAAQUBAQEBAQEAAAAAAAAAAAECAwQFBgcICQoL/8QAtRAAAgEDAwIEAwUFBAQAAAF9AQIDAAQRBRIhMUEGE1FhByJxFDKBkaEII0KxwRVS0fAkM2JyggkKFhcYGRolJicoKSo0NTY3ODk6Q0RFRkdISUpTVFVWV1hZWmNkZWZnaGlqc3R1dnd4eXqDhIWGh4iJipKTlJWWl5iZmqKjpKWmp6ipqrKztLW2t7i5usLDxMXGx8jJytLT1NXW19jZ2uHi4+Tl5ufo6erx8vP09fb3+Pn6/8QAHwEAAwEBAQEBAQEBAQAAAAAAAAECAwQFBgcICQoL/8QAtREAAgECBAQDBAcFBAQAAQJ3AAECAxEEBSExBhJBUQdhcRMiMoEIFEKRobHBCSMzUvAVYnLRChYkNOEl8RcYGRomJygpKjU2Nzg5OkNERUZHSElKU1RVVldYWVpjZGVmZ2hpanN0dXZ3eHl6goOEhYaHiImKkpOUlZaXmJmaoqOkpaanqKmqsrO0tba3uLm6wsPExcbHyMnK0tPU1dbX2Nna4uPk5ebn6Onq8vP09fb3+Pn6/9oADAMBAAIRAxEAPwBtGaTNJVALmikzRmmAuaKTNJmgB2aM03NGaQDs0lJmlzQAZpaSigBc0uabS0gFzS02lzSAWjNJRmgB2aM0maKAFopKM0AGaM0maKYC0UlFABRRmkzTAbRSZpM0xC5ozSZpM0wHZozTc0ZoAdRTc0uaAFzRmkopAOopKKQxc0tJmigBaXNJRSAWiiigAzS5pKKAFzRmkozQAUUlFMBaKSjNABmjNJSZpiG5pM0maTNUA7NJmkzSZosA7NGabmjNFgHUuaZmjNAD80uaZmlzSAdmlzTc0oNIY6ikpRUgLS0gpRSAKWijFFwCijFFAhKKDQaYwpM0UmaYhc0maSimAZopM0maYDc00mkJpM1dhC5pM03NGaLAOzRmmZpM07ASbqN1R7qTdSsBNmlzUO6nBqTQyXNOBqINTgahgSCnCmA08VDYx4paQU4VNwClxRilxSuAmKTFOxRTuAzFJT8UhFUmAykNOxSEVSENpKXFNNUgDNNzQaQmqsAw0w1IRTCKtCGE0m6g0w1VhDt1JuqItTS9PlFcm3U3dUPmUnmUcoXJ99ODVWD08PUyQ7ltWp6tVUSVIslYSGi0pqRarK1Toc1jJlInAp4FNQVMFrJzKGgUuKeFpdtLmCxHikxUu2kxVKQiLFIRUhFIRWiYERFNIqUimkVaYiMimEVIRTSKtMRGaYalIphFWgAioyKmIphFUmIgYUxhU5FRsKtMRWYVC1W2WoXStUxFViRURcirDpVZ1rVJMlh52KeLgetU3yKgaUih0ObYVzXFwD3p4m7g1z7XRXvUZ1Nozya56mHnHWxSkdVHccgE1oQEOMg5rjLfXIC4SWREyerHiuw0yzea0W+tpY7iDOCYmzj6/wCFeXiJKC10NYmlEh/CrKx1PaQrPEGQdOoPWrItsDpXmPEq5pYpeXRsq4YcUwx1pGrcLFQrTStWWSmFa3jMRXK00ipitMK1tGQiEimkVKRTSK1TEREUwipSKaRWiYiIimEVKRTCK0TEBFMIqYimEUJgQkUwipiKYRWiYEBFMZanIqMitEySsyVA8dXWWomWtFITRmyxVQnhIrbdKqyQ57VtGrYlo5ycFTVKR88ZroLi0DZ4rDvbKVEYqDkciu2ljIw+JXJauUJoQNxVdwb7yn+Y/WvSPgdo9xc6xqV8z7rCGER9Th5GOR7cANnuNw9a8xacspyrEgfOh7c9R+nFfT3w38Or4c8H20PnedNd4u5mDq673VeFKkggAAZBwcZHWvnuPMwwVHL4/VVac3b9W/8AgdHfbrvhYSc9dkbU2lQYLpGFYdwOorOmsNg4FdG/K4qrNGCK/KsLj6n2md0oLoc1JbY7VVeHHaugnhB7VQlh5r6HD4vmMWjGeOoWStKSLrVV469anVuQyky1GVq0yVEy12QkIrkUwip2WoyK3jIRCRTCKmIphFapiIiKYRUpFMIrVMQEU0ipSKYRSTAiIphFTEU0itExEBFMK1OVphFWpAQFaYVqwVppWqUhWKjJUbR1cKU0x0+cVjPaDI6VC9iJFAI6dDWsIqkjhHcVlUqOwWM628MaXcXcV7NGzbGy9uE+Vx0x268mvYtN8Q213GoEU0Lf3XXpXn9rEEIat+0kGB1r5nNKCxCtUV7beRtT913R2wuVfkdKazg1iQ3DDHNXEuM96+Yll6g/dOhTuTykYqlKAafLccVUkuF6GuuhQkiW0RyKDVSRKsNKDUTEGvWpKSM2VHSoGSrjioGWu6EmSVWWomWrLLUTCuqMhFcimEVOwqMit4sRCRTCKmIphFaJgBFMIqYimEU0xERFMIqYimEVaYERFNIqUimkVSYERWkK1Lik207iIdtG2pdtLtpOQEQSpkSgLUiispMZPCMGtK3bHes1OKtxNg1w1oXKRtQy8VYWfjrWQs2BUiz+9eZPDXZXMXpbgKpNZ81yemetJM5IwP51UIYtmuuhh0lqS2XFlNSebVJDipA1buiguWC+aaTUW6k3UvZ2Hcc1REU4tTCatRsAwioyKlNMNaoRERTCKlNMIrRMQhpppxppq0AwikxTzTSKYhhFNIqSkIqrgR4pMU/FGKLgMxRinYpcUrgIBTwKAKUVLAetTKcVCKeDWUkMsB6eH5quDTgxrJwAsbs8UhqINTgwNNRsA/ilpmRRmrAdmkLU0mkzTsA7NJmmZozT5QHE00mkzSZp2ADTTS5ppNOwDaSikq7ABpKKKYCUlLSUAJijFLRQIbS0UUgFFLSUtJgKKeDTKUVLQyQUoNMBpc0rASZpc1HmlzSsBJmjdTM0Zp2EPzTSabmjNNIB2aTNJmkzVWGOzSZpM0maLALSUZpM07ANzSUZpKoQZopKKACiijNABRSUUALRSUtIApaSikA6ikopWGOpabmlzRYB2aM03NLmiwDs0ZpuaM0WEOozTc0ZpgOzSZpM0UALmikzSZpgLSZozSUwG5opKM0wCikzRTAWikzSZoAXNLmm5pc0gFopKKAFpabmlpWAWlptLmlYBc0UlLmiwC5ozSUUWAXNGaSlzQAtFJmjNAC0maM0maYC5ozSZpM0ALmjNJmkzTASkzRmkpgLRmkopgGaKKKACjNJRSAdmim0ZoAdRmkzRmkA7NGaTNFADqKTNFKwDs0ZpuaXNAC5opKKAFzRmkozTAXNJRmkoAWikozTAXNJSUUAf//Z\",\"x\":0,\"xanchor\":\"center\",\"xref\":\"x\",\"y\":-2.5,\"yanchor\":\"middle\",\"yref\":\"y\"},{\"name\":\"38\",\"sizex\":1,\"sizey\":1,\"source\":\"data:image/jpg;base64,/9j/4AAQSkZJRgABAQAAAQABAAD/2wBDAAgGBgcGBQgHBwcJCQgKDBQNDAsLDBkSEw8UHRofHh0aHBwgJC4nICIsIxwcKDcpLDAxNDQ0Hyc5PTgyPC4zNDL/2wBDAQkJCQwLDBgNDRgyIRwhMjIyMjIyMjIyMjIyMjIyMjIyMjIyMjIyMjIyMjIyMjIyMjIyMjIyMjIyMjIyMjIyMjL/wAARCADgAOADASIAAhEBAxEB/8QAHwAAAQUBAQEBAQEAAAAAAAAAAAECAwQFBgcICQoL/8QAtRAAAgEDAwIEAwUFBAQAAAF9AQIDAAQRBRIhMUEGE1FhByJxFDKBkaEII0KxwRVS0fAkM2JyggkKFhcYGRolJicoKSo0NTY3ODk6Q0RFRkdISUpTVFVWV1hZWmNkZWZnaGlqc3R1dnd4eXqDhIWGh4iJipKTlJWWl5iZmqKjpKWmp6ipqrKztLW2t7i5usLDxMXGx8jJytLT1NXW19jZ2uHi4+Tl5ufo6erx8vP09fb3+Pn6/8QAHwEAAwEBAQEBAQEBAQAAAAAAAAECAwQFBgcICQoL/8QAtREAAgECBAQDBAcFBAQAAQJ3AAECAxEEBSExBhJBUQdhcRMiMoEIFEKRobHBCSMzUvAVYnLRChYkNOEl8RcYGRomJygpKjU2Nzg5OkNERUZHSElKU1RVVldYWVpjZGVmZ2hpanN0dXZ3eHl6goOEhYaHiImKkpOUlZaXmJmaoqOkpaanqKmqsrO0tba3uLm6wsPExcbHyMnK0tPU1dbX2Nna4uPk5ebn6Onq8vP09fb3+Pn6/9oADAMBAAIRAxEAPwAopaKaJYlFLRVEMSijFFFhXCilpKQXCiiigdwooooHcSilopFXEooopDuFFFFBVwooopDCiiigdxaKKKQ7hRRmloAKSlopksWiilqkQxKMUtFUjNjaKdikxVWIbExRS4opWFcSkp1JRYdxKKWkpWHcKKKKRSYlFFFIpMKKKKRVwooooKCjNFLSGFFFFAC0UmaWgYUUUtAgpaSlqiGLRRRVIhhRilpatGMhmKKfimkVVjPmG0UtGKmw1IbRS0lKxSYlFLSUrFphSUUVJaYUUUUikwooopFIKKKKChaKKKQBS0lLQAClpBS0wClpKWmSxRS0gpRTRLFpaSlFaIykgoIpaK2jqcs9BhFJUhFMIqnAz5xuKSn00is3EtTG0lONNqGjaMhKKKSoZqmFFFFSaIKKKKRSFopKKRQtLSUUhi0tJS0wCiiigQtLSUUxC0tJS96ZLFFLSClFWjOQtOFNpwraDOeohaCtKKcBXZBJnnVW4kJFMqdlzUTLg0p0zOFfUjIpDUmKYRXJKJ206lxlJSng0wmsWdcGLRTc0ZqGbodRTaWpLQtLSUUFC0tJRQAtLSUUALS0lLQAUtJRTELS0gpaYmLS02lqkQ0PFKKaKUGtIsxkh4p4NRg08V1U5WOCtC6HgZpfLz2pVGasItd0bSR4WJk6TuUmiK8gVDIgIzmtj7PuXpmqN5AIIzK6kKOuBXNWpW1LweNU5cpmMRUZamyTxnlOhqPzAa82bsfS0dUTZozUQanA1k2diRJmlzUYNOBoLsPzRTc0tIB1LTaWgYtLSUUxDhRSUtABS0lLTEFLSUUxDqKSimiWOpQabS1SZDQ8Gng1EDTga1jI55wuWozVyEZNZqvV22mG4ZIFdlKrY8jGYN1ItI0oUG3J71Q17WbPQdMkvLyTbH90KOS5/ugdz1qbVNQi0TT2nuI2YbfkCsBz26+vT6kV5Trd7dazq/2q7JdQF8mIISls2cgjoTkgbiCPfjG1Y7H06FO71b2Ry8O8IZhmGL9o/cpxer/Rf1p+Vmy8YWurPIstuLXJJjwcg+2a0UmziuXm0jDLdRjEu4+Zj+L/AGu2CRycDr+Z1rKYlFV+oFeDHEqorn6BXyqeEm6cuhtK+alBqnG1WFINaKVzldOxODThUYNPFXchofS00GnA0xC0opKUUCFpaSloAWlptLTEFLSUtAC0UlLTEFLSUUxC0tNzRTuJodmlzTM0Zqrk8o/d71G8hA60hNRucijnsONJN6mL4ktJ9UtIw9wWWHlUZj/jx9ayLYSCMLNuLjgsSOfyxXTSJnIPIqi8HJ2gD8K4MVH2i1PpsoxTwjvF2vuV1AMe01D5e1uOKs7ClMZSa82CcJWPZxc4YiPMSwvVtDVFDtOP1q3H0r0abuj5bERUXYtKaeDUSmpBXQjjaJAaUU0U4UyGhwpRTacKYhaWkooEOpaSimIWikFLQAtFJS0CFopKKYBRRRQAUmaKSi40hDTDTzTTSbNIkLDmoHT0qyRTCuaykrnXTnYoyJxUGw5/kavtHzSrCM1i6PMdX1pxVirFBnkjgdKl27enSrBQKPaomHNbQp8pxzbm7gpqRTUQp6mrZk4kop4qMU8UEND6UU0U6gkdRSClpki0tIKWgApaSlpiCiiigBaM0lFABRRRQAUlLSUDQlNNOpDSLQwimkVIRTcVJomRlaOlPxSEUI0uMIpjCpSKaRVXLiQYpRUhWk21LYSQq1IKYBThQYNDxThTBThTM2hwpabThTJClpKWgQtKKSimIWiiigQUUUUDCiiigApKWkoGFJS0lIpCUhFOpKRSY3FGKdSUFpjCKQin4pMUi0xm2jFPxRiky7keKWnYoxSuTJCCnUlKKaZi0KKUUgpaohi0tJS0yRaKKKYgoopaBBRRRQAUUUUDCiiigYlFLikpDCkpaKCkxMUlLiikNMTFJinUmKC0xMUYpaKTKTG4oxTsUYqCrjMUtLiimiGJS0UtWjJhS0lKKZDFooopki0UUUxBRRRQAUUUUAFFFFIYUUUUDEopaKRQlFFFA0wpKWikVcSilooKTEoxS0YqbFXExRiloxSAbRS0VSM2JS0UVSM2LilooqiGFFFFBIYopaKAuJS0UUDuFJilooC4lFLSUFXCiiikO4UlLRSHcKSlooKuJS0UUh3Ciiigq4UYoopBcTFGKWigTEopaKpEM//Z\",\"x\":0,\"xanchor\":\"center\",\"xref\":\"x\",\"y\":-1.5,\"yanchor\":\"middle\",\"yref\":\"y\"},{\"name\":\"47\",\"sizex\":1,\"sizey\":1,\"source\":\"data:image/jpg;base64,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\",\"x\":0,\"xanchor\":\"center\",\"xref\":\"x\",\"y\":-0.5,\"yanchor\":\"middle\",\"yref\":\"y\"},{\"name\":\"28\",\"sizex\":1,\"sizey\":1,\"source\":\"data:image/jpg;base64,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\",\"x\":0,\"xanchor\":\"center\",\"xref\":\"x\",\"y\":0.5,\"yanchor\":\"middle\",\"yref\":\"y\"},{\"name\":\"43\",\"sizex\":1,\"sizey\":1,\"source\":\"data:image/jpg;base64,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\",\"x\":0,\"xanchor\":\"center\",\"xref\":\"x\",\"y\":1.5,\"yanchor\":\"middle\",\"yref\":\"y\"},{\"name\":\"34\",\"sizex\":1,\"sizey\":1,\"source\":\"data:image/jpg;base64,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\",\"x\":0,\"xanchor\":\"center\",\"xref\":\"x\",\"y\":2.5,\"yanchor\":\"middle\",\"yref\":\"y\"},{\"name\":\"49\",\"sizex\":1,\"sizey\":1,\"source\":\"data:image/jpg;base64,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\",\"x\":0,\"xanchor\":\"center\",\"xref\":\"x\",\"y\":3.5,\"yanchor\":\"middle\",\"yref\":\"y\"},{\"name\":\"99\",\"sizex\":1,\"sizey\":1,\"source\":\"data:image/jpg;base64,/9j/4AAQSkZJRgABAQAAAQABAAD/2wBDAAgGBgcGBQgHBwcJCQgKDBQNDAsLDBkSEw8UHRofHh0aHBwgJC4nICIsIxwcKDcpLDAxNDQ0Hyc5PTgyPC4zNDL/2wBDAQkJCQwLDBgNDRgyIRwhMjIyMjIyMjIyMjIyMjIyMjIyMjIyMjIyMjIyMjIyMjIyMjIyMjIyMjIyMjIyMjIyMjL/wAARCADgAOADASIAAhEBAxEB/8QAHwAAAQUBAQEBAQEAAAAAAAAAAAECAwQFBgcICQoL/8QAtRAAAgEDAwIEAwUFBAQAAAF9AQIDAAQRBRIhMUEGE1FhByJxFDKBkaEII0KxwRVS0fAkM2JyggkKFhcYGRolJicoKSo0NTY3ODk6Q0RFRkdISUpTVFVWV1hZWmNkZWZnaGlqc3R1dnd4eXqDhIWGh4iJipKTlJWWl5iZmqKjpKWmp6ipqrKztLW2t7i5usLDxMXGx8jJytLT1NXW19jZ2uHi4+Tl5ufo6erx8vP09fb3+Pn6/8QAHwEAAwEBAQEBAQEBAQAAAAAAAAECAwQFBgcICQoL/8QAtREAAgECBAQDBAcFBAQAAQJ3AAECAxEEBSExBhJBUQdhcRMiMoEIFEKRobHBCSMzUvAVYnLRChYkNOEl8RcYGRomJygpKjU2Nzg5OkNERUZHSElKU1RVVldYWVpjZGVmZ2hpanN0dXZ3eHl6goOEhYaHiImKkpOUlZaXmJmaoqOkpaanqKmqsrO0tba3uLm6wsPExcbHyMnK0tPU1dbX2Nna4uPk5ebn6Onq8vP09fb3+Pn6/9oADAMBAAIRAxEAPwBlLRS0hhRRS0CCilpcUCExRS0UBcKMUtGKAuNoxS4pcUwuNxSYp1JTsFxuKTFPpMUWC4zFFOxRikMZijFOxSUAJikxTqSgYmKMUtFACYpaKKAFooopALS0UUxC0tFLSEJS0UtMQYpcUtGKBXExS4paUUBcZiin4pMUwuJimkVJikIphcjxQRTsUYphcZikxTiKMUrDG4pMU6kxSGNpKdijFAxtFLRQAlFGKXFIBKWiigBaWkpaBC0Ckp1AhaUUgpwpCClxSgZpQKaJYgFKKXGDS4oFcTFIRUoGRTSKaC40CginAU7HFWkFyEikxUjCmkU7BcjxRin4pMUrFJjMUmKeRSEUihlJTqSkMbiilopANxRS0UAJRRRSAWiiigQop1NpaBDhThTKcDQJki07FMFSLyKm9hPUMZFA5pV64oI2n2q9zJuw5PSnFfypuO4qwq7196EFyDbzTgKm2cU0rtreKJ5yBlqMip34qIir5R3GYoxTgKftrNo0TISKYRU5FRkVDNEyPFJin4pCKkoZim08ikoAbSUtJSEFFFFABRRRSAWlptLQIWnCm0ooJY8VIpwaiFPBpPUhuxOR3pSMikjcHg0o4NRzcopaix88Gp4eGwaij5YEVMwwwI4FHtVcxuy0sXOajnhIG7HFaNrD5kYYDjvU01v5kDbRz0Fd9LVXOeU7Sscw78nNMVt5wKrajcCCYoDznH40y2uBnCnOOM+9dkaV0dEXdGiExTwvFWIof3QY8nFKYSOornqQsaJlRlqJhVt0qBlrmkjVMgIppFSkUwioLRGRTTTyKaaQxhpKcRSEUgG0UtFABSUtJSAKKKKBC0tNpc0iWPBp4NRZpwNJkslVh260kkmFzmmcjkUjxEqSTWNR6Gb0H21383NTX92LWMPIMIf4ieKyZEeKMyuyxRjqWbFTW1xb+K/D+oaXp5Et/HGZIjhu34V5lWpNWfS+ooQc6qiup6F4TjF/ohnUhh2PrTIZTNDdxHCzICAM1g/A7xENS0G60qdj9qsZOVIx8jdD+eRWlrAW38Qtahi95cq0iwb0URxDjeQDnBPH+TX0uG0XK+tjycwlLDuM7Xs2meL6n4kafVpFBwAxCj+tdBolyJyhzkA4Hua4rx3YPpviaZ1KBJWMiiM5Cgk8ZxXR+ALn7VdxISvHGCTx+Vevg6kZc0J7o9Bzg6UakNmesaZamWMFxU9zZnoBxXQWumrFbqVGBjrg/wBajuoQVIArz6lRSloaxTtqcjLFtOKpumMmtu7hCZ9ay5V9awkjVFEio2FTsOtQsKyaNERkUw1IaYagsYaSnGmmkAlJTqbQAlFKaKQCUUUdqBMKKKKZDEzSg80lFNIzbJkPI9KsQ7fMCtznpVWPrjvV2JBIMHqKtUVJ6mE52QakfD1gEm1Cxn1W6Y4itIhkE+4//X9Kyr19d0LUbbVbzydKs94eLR7J/ml/2TjqcfhW/YLLPq9ukKlWByXVQSAPrVrWLS4v3mupne1jII+13dxGqWsC/eZQATubkf8A6sV2UsHQTcKvwtanK8VKKU46ST0/r8DiNVkXwR480/xzoce/w/qvMwQZWMtw6n0ORnHHII4xXo/im1TVNOGraVqIstKukWfVtVg/172yKWEceBnnP4e+SK4aKO1h0Ge11C0muPBd+2bVQjPcWbY5uMHkRnBY9TyCBywKeA/E48KasvhXxHexS6VdP5tjqcbBoZPmyVB5GwtuBHYk5xkmuBRqYCoqFX3o/Zl3j2f96PVfNXW3peyp5lS9vh3aa3T7/jq9no77Xva9PxhYNr2nwtcWT2N5dJ5mmaYimS48kEAPLzhN3v0x1OMVyngO7m0HxethdAo7SeUyb+j5xgke/FfRGpeDoL17mZcxXmoOguJlOdkCEHy1PYHABAPUk1zD/DHTrvWb6/u1EdtdSHYYjseGTOAynHc/zrtjWpSkqil01/r5nlU6NShF0nHR/g/8j0OKVXtFbGCB0PUVmXMmM1HaXF21qI7wqbiAmKSReBIRxux2yMNjtnFRXLcZzWF7M9CMm0jOu8cnvWNP3z3rSuZOpJ/CsqdgW5NDkaxKrnn2qFqkds8DpURNZtmqQw0004001JQw0hpxpppDEpppxpKQhKKKKRVgoooouTYKSloouS0NNFOxQBzTUiHEF4q9bk9TwtVlTOKtwJ82fyFbQmc9SmX4pjaxSSAIZHG1dw4AqkbKz1rxLLbatPH/AGNpFutzdQxWZVJCo3Yc85A6471dhiyyjkgHJ9zWRIGisvFCzQxtJfMqZkmdRtIAx8vNbPEcsfM894eUp7FzTdR1LxjfSarpmnXNtYgkG6nQZ8ofdiiQdjjJPXn2GMTXvh5YeIZhpukTRaXr1wPPbTZTmAopAMnAJjY5HTg4xjqRf1jxF4qvltvC/hGCDT7VIo43ntopMgFcEBnUbR7jngHd1FQ69ZWXwy8G3kpvX1DxZrTG2N077pEBHzEHqAARz1JZfwKqqez99aPVJvX18l6/5m1HBzw9VVKMmpNaro0+j/r5GX4X+JHiP4cXQ8P+MdOu2tl4jZ+XjUcZU9HX6HHHHevU08aaDr2lE6XqUEgZARHuwyntlTyDmuQm1+TStMl03xbaR6tYy3EFpCtwo8xD5SlyTjnDdD1zk56Vz+peAfCt/Et34fvntJGt0mW3d+mXx3/L61yyjHRnvyp1akeerHfr/mepTa5aiNJA6hnHIz1NZNxq8bbtjZHpmvLLvSNb0JzG9280SysAxOfxqzb3l2Aock5+6fX3rPmsyVRi1od1JerIxweB1qlJMGJ5rDjunwMtx6+pq0s5I5rS5HsrF0vngUwmoBJmnhvSgOUfmmk0maM0gsBNNNBNJSFYDSUUlAWCikzRUjClpKWkAUtJS0gsFOAptOFK4rE0Yq5Hz9KoqcVYSTjirUiXG5oCbGNpxt/U1WnkMhcjIA5ODgk1A821cA1D5+Op/CtYytqXToq497uGxYy7TLcEDlmZsfhnFVba3tpvF+k3uoB3SzE94xbYq+YxBU46+n5CoJx8xfqTzzWVfzF3DtgcY+tY4idSrJcz0R2qnGMdNzI8ba5d+IfFgnjBS3hcPGvbgAZP5VzNxfX6S7ldgAgjGPQHP866tI0mJTbz3PcmqM2nETlCoJHfsKSm7amr95aMZYeIb27iMNzKz4JPzdya1bK8ZmME3Hox7VhfYjDKsqghAePc1upCJ4Vcf6xa2hyyVjjlzQZsRANgH/gP+NTxnB296qWrCRAc5ZetXOvNZOLg+V7DclJXW5IDj6U8NiogadmqRmyXNGajBp2aYh2aM03NLmkIKKKTNAgzRSUUgFopKXNABS0lFIY6lBpuaM1NgJM04PxUOaN1CAlZqquxzUpNROKtMuLsIW3DFZt5Fkkjr0ye1Xc4NRzLvWhnQpmKoMLhhkID+LGrzxLNCHI+b+6KY8fOcZI4AqW1+XKZz6moE5FZoBKpOBvxgei0lmPKcp/D6+tXHTY/A4NRSR7JAwqU3F3QpPmViRcwzAgYU1eDcVUxuQetTRn5cGulvmRzrRk4Ip2aizinA1JRIDS0wGlzQIeDS5poNLmkIdmikzRQISiiigQtFJRQAtFFFIAoopDSGGaM0hoFAx46UxxTxTXoArkUmMinN1oAoKTKrphqYF2n2q1IuaiK0FKQ5huTPeo2XcmKmUfLimEUmh3GR8DFSAYNMA5qQVUdCWh45FKDSClqidhwNOpgpwpAOFOpgp1AhaWkoFAgooooELRRRQAtFFFIBKKWkoGJRS0UAKKa1LSGgZCwpRTiKTFACMMioiKnNRkUBcatBHNLilIoHciIwacKUilAoQ7gKdSCloAO9LRS1RIopRSClpALS0lLQIKBRS0CCloooAKKWigBKKWikAlFLRQAlNNOpKBjSKTFOpKYXG0hFOpKAuMxRT8UmKAG4pMU/FJigdwxRSiigLhRS0UAFLSCloELS0lLQAtLSUtBIUUUtABRRS0AJRS0UAJS0uKMUANpCKdikxQFxuKMU6imFxhFJinGkxQA3FJipMUhFIBlFOxSYoHcSlxRRTAKKKWkAlLRRQAUtFLQB//Z\",\"x\":5,\"xanchor\":\"center\",\"xref\":\"x\",\"y\":0.0,\"yanchor\":\"middle\",\"yref\":\"y\"},{\"name\":\"g-28\",\"sizex\":0.5,\"sizey\":0.5,\"source\":\"data:image/jpg;base64,/9j/4AAQSkZJRgABAQAAAQABAAD/2wBDAAMCAgICAgMCAgIDAwMDBAYEBAQEBAgGBgUGCQgKCgkICQkKDA8MCgsOCwkJDRENDg8QEBEQCgwSExIQEw8QEBD/2wBDAQMDAwQDBAgEBAgQCwkLEBAQEBAQEBAQEBAQEBAQEBAQEBAQEBAQEBAQEBAQEBAQEBAQEBAQEBAQEBAQEBAQEBD/wAARCAAyADIDASIAAhEBAxEB/8QAHAAAAQUBAQEAAAAAAAAAAAAAAAMFBgcIAgEJ/8QAOxAAAQIEAwUEBwUJAAAAAAAAAQIDAAQFERITIQYHFDFBIlFhsQgVIzJScoIJM2KSoRYXNEJTVWRxkf/EABgBAAMBAQAAAAAAAAAAAAAAAAQFBgID/8QAMBEAAQMCAwQJBAMAAAAAAAAAAQACAwQFESExBjKBsQcSEzNRYXGRoRQ0UlOywfD/2gAMAwEAAhEDEQA/APpY823wjRS2kKITc256RGdsKjk0OblZRTrM2MvC6g4bdtJPaBvyuIk0wSJNrD+HyiptvK+8KrPUaWm/b+ywt5Y+FKuZFuWvOBnzmGsibjvPaPcoxlN9RQTuw3WPdl5BeUSt1IVGRlZqozbpMw2ld3lKCgVjQ3Ouhh/2tqUzL1JtEtMvtJLAJShZSL4la6GMz/vVq9O350jYp6vZYcrNNllS3CpNw6pk4cYR1x876X6Rbm+ra1ezu1MrJJqHD46eh3DlY73ccF72PwwVtnHJQMjfoHDHL/BcOjsC6TSRYYlpwz9OKuyUAbx5wC72t1t/2HRTDBGjKPyiGND5N+3+kPbTmYopSb6XjFMSYGuB8eaxVYCoc0+XJNbwAdWALAKI/WCPX9H3PnPnBDEaINLvqVwrYvoLeUZ/2hmX5vfrMUfHmNrwexSBiNpMK6a9LxfuIuoS2rkAOUUW1ItPelMEqUsA9xH9uiauWMdVC/wezmq+wNbLR1bD+mTkFjHeLXavTPtCqJs+iaLEmNr9l21MqbTcJWmSKhcjFriPXrGiPTHqs1IbzqYzTplKWzQWVEAJV2uImOpv0Aigt/8ASJaV+0Yl59tbpcY2p2XdSFEWJSxIkX05aReXpHyze0W3EjOzpUhxFKaaAa0Fg88et9e0Yo9uGukt0Ez9Oq35SzorfHBfZIcPy+FqGgzzlQz7vpey8Pu20vfu/wBRLaeol5Vz/KfMRAt2Az/WePTDk8vrib01xRfVoPcPmIU2t5koWE+fMrje4hBcntGmX8QkJj+Id+dXnBA/q+4fxnzghwNEpOqVlRgXive6YrhErbfqJ7M+m3+HbnFmMIKEpWbWKRyhgbaV+3ImLjD3dfubRPXVnaSR56Pb/aorJN2Ec+Wsbh74LIW/DZji/Soma5x2C1TpDmVlX9xiW0vfrh7on1epXrGcQ/xGXhaCLYL9Se/xicbxaDOTW309UW3GQ2VsKsonFZLSAenhEi2Oos1MUx1aHGgA+oak/Cnwik2oca+zRRDVoYPYKW2NlNs2glndoS/5PFO269zP9Z6YcOT4/HEnp8theUcd+yeniIbNjUmW4zM1xZdrfVEhYlXGVlSikgi2hhDaT1KRrcfHmVQXwCSuc8DLLkE2vCzyx3KPnBHr/wB+58584IdjRJiucxy1sxVh4xwEID3EBCc347drlbnz5QQQDUbw9Qjqbdd6FIvyEjMuqemZJh1xXvLW2FKOltSRCkvLsSiC3KstsoJxFLaQkE99hBBDCfuBwSqm+6PFdNIQzfJSG788IteFeImP67n5jBBC+m3AmtV3hXBJJJJuTzMEEEHhAlf/2Q==\",\"visible\":true,\"x\":-3.0,\"xanchor\":\"center\",\"xref\":\"x\",\"y\":0.2,\"yanchor\":\"middle\",\"yref\":\"y\"},{\"name\":\"r-28\",\"sizex\":0.5,\"sizey\":0.5,\"source\":\"data:image/jpg;base64,/9j/4AAQSkZJRgABAQAAAQABAAD/2wBDAAMCAgICAgMCAgIDAwMDBAYEBAQEBAgGBgUGCQgKCgkICQkKDA8MCgsOCwkJDRENDg8QEBEQCgwSExIQEw8QEBD/2wBDAQMDAwQDBAgEBAgQCwkLEBAQEBAQEBAQEBAQEBAQEBAQEBAQEBAQEBAQEBAQEBAQEBAQEBAQEBAQEBAQEBAQEBD/wAARCAAyADIDASIAAhEBAxEB/8QAHAAAAQUBAQEAAAAAAAAAAAAAAAMFBgcIAgQJ/8QAQBAAAQIEAwQGBgQPAAAAAAAAAQIDAAQFERITIQYUMUEHCCJRcbEjMjRSYXIJFVOBFhgkJTNiZYKDkaG1wcLR/8QAFwEBAQEBAAAAAAAAAAAAAAAABQQGAv/EADYRAAEDAQIIDAcBAAAAAAAAAAEAAgMEBREGITFBYXGBsQcVIiQyMzRRUqGy8BIUI0JDcsGR/9oADAMBAAIRAxEAPwD6UzbSBJMqQhKVHDcgWJ0iG7X1ZaKbN02SefYnBl4XUKwgdpKj2gb8LiJbNvLVKNttquUkaW+EUttrtDOHbKcoEpOflHo8LWWPskrPaItw14xDNO6GuhaM72jRjKTp6UVVnVDrujG92nEE4USp1tFUkZebq826DMthYMwtQUCsaG510h623nqk1VmkyM/MS7Zl0kpQ6pAJxK1sPujObnSjtFTenWk7Ev13LQ5WaZLLlt1Qbh0skpxhHPHxvpflFqdNu169mtqpSRVUN2zKe27gycd7uOC98J93+kXYaxSUccTr7g4X4vYUnBwBaU0sYF5abuVq2q8HUKlrZhvi4Wh4abl1qIyEcOaREfq80UZXbtfFy8IepN67pxq0w90dRg/LtOvepZXc5c06Ny8L4AfcAAACyAB4wQTBu+4RzWfOCLW5ApzlSKlKV2Qb25CM21Kdn5zrXuUFa1OSy7egCBc2poXxAxcRfjGkZTtTK0nkD5xnVltP47STc8/7RGdtX6dVC/ue1bPBUCakrYyPwS/xZf6T67U6V9IbR9nm5sMSY2u2XbUwtCbhK0SRULkYtcR584vPro1Gek+lGltUp70JoDClYEhYxbxMcyDyAiiusFTmEfSNMVMKXmtbU7LugXGG6WJG19L2074u7rJfnvbmRmprsLRSWmwG9BYPPHnfvh/DYOks2CZ+Pkt80XwVvjgt+WEDx+S04icm6jfEsvZfupGl/AfCJbTXMb6gpQIwHzEQ3YlxUxvuMAYcu1v3ol9LQN4VqfUPmIOs6Qy2e0nTvKhtaIQ2o9oxDk+kLl79M5b3j5wQPaPOD9Y+cEKNyBHHKk6b7Y78qvMRTj0jfrOKm83u7OH9n24xd1P9A8p1eoUkjTxEQN5pT3TAX0kBJtoePstozluD4nRXeNv9WowXkMLai/PE8bllXpv2bzutFNVjfbYKlSXMvL44WJfS9+du6J9VaZ9ZzCX8/LwoCLYb8yb8R3xOekanP/hzPzeNGBJYURc3sGkfD4RIthKVMVWkPTEuttKUzKkELJBvhSeQPfGnwmc6usOGIfaGD/AFkMDpuLcJZp3HETJoynan/o/e3zf+zgwZXO974/8AkS+ktYJhRxX7B5fEQwdH5vv/APC/3iTSLakPEkj1f8iArJdzJrde8p+3GjjFzgO70heGY9od+dXnBBMe0O/OrzghkZEOVwFKHBRH3wjucpve/wC6s7z9tgGZwt63Hhp4QQQdV9JusJKg6L/1KSmaTSpx1T83TJR9xdsS3GUqUrS2pI10hWUk5SntlmQlWZZtSsRQygIBPC9hz0H8oIIVqOzDYg6bth2ruXZalMW6NIZx2xZaQm9uF7eMKh51Jul1Y8FGCCDaTqh7zpiu68+8wXJJJJJJJ1JMEEEXDIoSv//Z\",\"visible\":true,\"x\":-3.0,\"xanchor\":\"center\",\"xref\":\"x\",\"y\":1.4,\"yanchor\":\"middle\",\"yref\":\"y\"},{\"name\":\"g-34\",\"sizex\":0.5,\"sizey\":0.5,\"source\":\"data:image/jpg;base64,/9j/4AAQSkZJRgABAQAAAQABAAD/2wBDAAMCAgICAgMCAgIDAwMDBAYEBAQEBAgGBgUGCQgKCgkICQkKDA8MCgsOCwkJDRENDg8QEBEQCgwSExIQEw8QEBD/2wBDAQMDAwQDBAgEBAgQCwkLEBAQEBAQEBAQEBAQEBAQEBAQEBAQEBAQEBAQEBAQEBAQEBAQEBAQEBAQEBAQEBAQEBD/wAARCAAyADIDASIAAhEBAxEB/8QAHQAAAQMFAQAAAAAAAAAAAAAAAAQFCAIDBgcJAf/EADsQAAECAwUDCQcBCQAAAAAAAAECAwAEEQUGEhMhBxRRFRYiMUFhYnKxCAkjMjNSoTQXJCVCRHGBkZL/xAAZAQADAQEBAAAAAAAAAAAAAAADBAUCBgD/xAAxEQABAgMFBAkFAQAAAAAAAAABAAIDBBEFBhIhMRNBUXEUMjNCYYGh0fAiNEORk7L/2gAMAwEAAhEDEQA/AOmrMuyphsllskoBJKRwizPstMyy3Q2gAU6hr1iFMuTkN+QekJLUU4qWdbSa1w6f5EZjE4HUO4rcCm0aDvITTaMyhdjTbbAUh9Uu6G3BoUqKTQ1Gooaaxjt2V2lLSDiLSnnZh0vEhRdUuicKdKq76w2Wxeh2XvGq7qZ7C4440ylnKBqVpTQYqduLj2xov2hds969k99JK7sneTkpEzZbc6WdzbfxFTrqMWIoVT6YFK9nVrDt29pa4fLsIxA7/DlUpK9MMWK6HMvBwuFcvHnQKWc8+w3gwtkVr1Ad0KmJbpnElBFOEYFtMvzY91+Tc21N23nOp8BS8WHB4TT5vzGxmUqCjiGlIiw4jjMPhOObaeoqr8WAGSkKYaPpfip5GhTW6Al1YApRRH5gj1/67nnPrBF5ugUA6p4lwN3a8ifSLEw0XHFJKCUmnZF+WHwGz4E+kVnQwi4VqEy00oeCjvfN12S2yhxw5MszPSK1rWKJQkIaKiVHqA11iGPvIr4zP7cbD5vWzLvy3NSWxKYLbqQvfJyorQ60ppE5NtNkSzAvReVC3TNStnOTKEEjLKm5YFIIpWnRFdY5tbbGU7QL1Sts2ySy+zZ7cqlMr0UFAccUCQrEa1We3hArkbZluvgMyBxnXgugvtAgzN2Yc+78ezbpxCkv7Rm1iYnOb3J977PmMG948pbC8NcmlaDTqMT5acQtVG1pUadQNY4qWXeefv3m8rsy7O44cvdkqTXHWtcRV9g4dsdjbs2i/Nz7jbiUABkq6IP3J749azYcnbceCzfg/wAj3RZeE+YudZsw/rDb1/rlmlT/ANdzzn1ggmP1DvnV6wRTboFyJ1TrK6tIHgHpF49ERYlW1BpCqihQPSKygpczSRQQk7Uo7a5LEdp9nb9cW9IzsGbY04n5a0/d1DjEZNlmxvl678xOc48jBOLbw7nirRCDWuMcYlxeKYQuxLSlwFYlyjyQeypQYx/ZrJOt2E+CpH6tR0J+xET5WMZS1GRYRzwuVyZHTLAiycYZF7D+uXuufvu+9k/LHP3+P5OTyX/S4q13rxjhE59nByLcfX81ZRQ4fzojV/soWXMXQ508pLbd3vccGQSqmHPrXEB9wjd927Pekp5brqkEFop6JNa1Hd3Q5eqUYy2zMwu8R6NaEhdO1IkxYHRY3dBoObnHgnV44nVqp1qJ/MEeOauKPiMEUG9UKY7UqoPvgAB5wAaABRgMw+dC+5/0YIICUQKhz4qVId6aViigrUEcDFMslMmgtSiQwgnEUtjCCeNB/YQQQoO3Hmnj9seYSOSsOxLNx8nWPIyuZTHkS6EYqVpWg1pU/wC4WpAQaoGE92kEEULT7UfNwUqyOwPzeV716mCCCNDRaOq//9k=\",\"visible\":true,\"x\":-2.0,\"xanchor\":\"center\",\"xref\":\"x\",\"y\":1.5,\"yanchor\":\"middle\",\"yref\":\"y\"},{\"name\":\"r-34\",\"sizex\":0.5,\"sizey\":0.5,\"source\":\"data:image/jpg;base64,/9j/4AAQSkZJRgABAQAAAQABAAD/2wBDAAMCAgICAgMCAgIDAwMDBAYEBAQEBAgGBgUGCQgKCgkICQkKDA8MCgsOCwkJDRENDg8QEBEQCgwSExIQEw8QEBD/2wBDAQMDAwQDBAgEBAgQCwkLEBAQEBAQEBAQEBAQEBAQEBAQEBAQEBAQEBAQEBAQEBAQEBAQEBAQEBAQEBAQEBAQEBD/wAARCAAyADIDASIAAhEBAxEB/8QAHQAAAQQDAQEAAAAAAAAAAAAAAAIFBwgBBAkGA//EADoQAAECBAMFBAgDCQAAAAAAAAECAwAEERIFBhMHFCExQRUiUbEIFjIzUmFigXFy0QkjJjRDRJGhsv/EABoBAAMBAQEBAAAAAAAAAAAAAAMEBQYCAAH/xAAxEQABAwIEAgcIAwAAAAAAAAABAAIDBBEFBhIxQVEhMzRCYaHwFBUiIzJxgZGTstH/2gAMAwEAAhEDEQA/AOmTcs2phtWmipSDWnyjWxBjRlnHgEgCnLnzEbzJIl2vyJ8o+GKpKsNdoKk2/wDQgVRfS4g8CjU1tbQRxCYMWW4vLc+JZam5gyj4bcBoULtVaajiKGnER4PK8xj0ph7jeKYvMTLpeKgszC10TanhVXHnX/MPWMZhS1MP4Aico+4nRQ1p81LTwF1Kcbh16xW3bttczRsszdKZfRmDswTGGtzmjujb91zrqLrrFU93SlenLjFbLJfijHU7CNQ5+A/JUfNkfumVlQ4GzgT0eJ/AVv8AMM5Lym72NqRffWwAVpSNrDpZReVq2qFp4Hj1ER7tdznIZd7J1MS3feNen7lS7rdP6TTnElYfXWVX4T5iM22Rzqx8ZJ+G3mFq5IBHh0U4HQ/V5Gy0nwEvOJAAAURw/GCCY/mHfzq84I0Q2WcO6dGSSw2PoHlGJkBxhTSuINOH3gb7su0R8I8oUEhXePWJsouSE7EbAFQdmUTbG1hsKbWiRTOyRcWUUQlFrdxKug51NeEUm/aYZjm5HbvgTWWcRbVKnKUqpZZCHk6m+TleJB40CeEdBNo2ESzEtjmYELdMxLSTkwhJIsKm2agEUrTuivGOcfpJ4ZL7QM8yOM4ytxl9nCWpVKZUhKCgPPKBIUFGtVnr4R3kkyxY06mb3tR35KjnVsVTgDK5w6vQ3bmpt9KLaw896s9k5ww56m+6mi4w5T3NK0Bp1i98mWg6bVJ9nxji2vM0/nyna7MuzuPu92SpNb+dbir4B4dY7C5axWYxCfcZeQ2lKWSrugg1uA6n5wPFYoqLG5oW8dP9R/qowRvqcmYbUO+r59/5bD7pwmOMw7T41ecEYe4POD6j5wRTGyyBTjLd1CD9AhS3LVFVIXLd1lsn4B5Rh51IJFDE6a17p2Ha1kx51lN+yZjyNSzWwyaRyrSrShFbsu7LO05Jb/buna6UU3WvQGvtjxi0U+4l3D5lhIIUtlaQTyqUmGTA5dcjKLadKSS4Vd3lSg/SF6N7oMRZPGdmkftO1umowaWjl2L2n9eua52+gtsi9ZfXf+Id23bs3+0vuu3n6xT2f9xePZRO75mKYa07KSS1Vur/AFEfrEaeh22rA/W7eyF6+4W6fGlN4rWtPGJfyPJu4fizrzykqSqXUnukk1uSev4QXNlMIswe0M2cR5NaF7KOJOrMtGkk7gNvDU9xPBetfFHnB4KPnBCXCFOKUORJMEVGm4BUVwsbLIeeAADqwByFxgLrh4lxR+8EEKyJiNJKlEEFRIPzjASkckgfaCCOIusCJL1RTfhmXcv4Jq9jYFh0hrW6m6yqGr6VpdaBWlTSviY3W5dhlVzTLaCRSqUgGkEEM4v2hvrgEpgfZXeuJS4IIII3YL4d1//Z\",\"visible\":true,\"x\":-4.0,\"xanchor\":\"center\",\"xref\":\"x\",\"y\":2.1,\"yanchor\":\"middle\",\"yref\":\"y\"},{\"name\":\"b-38\",\"sizex\":0.5,\"sizey\":0.5,\"source\":\"data:image/jpg;base64,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\",\"visible\":true,\"x\":-3.0,\"xanchor\":\"center\",\"xref\":\"x\",\"y\":-1.8,\"yanchor\":\"middle\",\"yref\":\"y\"},{\"name\":\"r-38\",\"sizex\":0.5,\"sizey\":0.5,\"source\":\"data:image/jpg;base64,/9j/4AAQSkZJRgABAQAAAQABAAD/2wBDAAMCAgICAgMCAgIDAwMDBAYEBAQEBAgGBgUGCQgKCgkICQkKDA8MCgsOCwkJDRENDg8QEBEQCgwSExIQEw8QEBD/2wBDAQMDAwQDBAgEBAgQCwkLEBAQEBAQEBAQEBAQEBAQEBAQEBAQEBAQEBAQEBAQEBAQEBAQEBAQEBAQEBAQEBAQEBD/wAARCAAyADIDASIAAhEBAxEB/8QAHQAAAgICAwEAAAAAAAAAAAAAAAcECAEFAgMGCf/EADsQAAECBQIEAwUFBgcAAAAAAAECAwAEBRESBgcTFCExQVFhFSIyQnEIFiMzYiRDUmOh0XOBkaKxs8L/xAAbAQACAgMBAAAAAAAAAAAAAAAGBwQFAAIIA//EACwRAAECBAMGBgMAAAAAAAAAAAEAAgMEBRESMVEGQWFxobEUITIzQoETwfD/2gAMAwEAAhEDEQA/APpJNJTyrZQkBRtcgekUD+1rr/cykbkaqo2ldwtRUhtrkeA3J1aYl22ry7ClYhChje6ibDqSfOLH6r3arEjVJ6mSeoMOUnHWQjlEHFKVKTa5R1tYeMUn33q2ptUbs1ybcmOZRM8tdWDaMsZZodrC3w/0g72cpzmxy6MAWlp7jUIDrtUZGhhkAkEOHQHQpfNam+0/UZxt+V381Yhl1aQEK1TUB4gHoDbveG3oOa+0MqjvGpby1+Zd5lVlr1FPLITinpdXrf8A1js242rr9WptIqblB4su6/da+aQm6Q8QemYPgYtLtvszQ3aG+qb03dYm1Afti+2CPJcXE9MScjctAJvwKp5fx1QOAE2+17/S+kNeuczzWp+LbDHOdeVb4r90wypV+TecKRL9k36oEQarP03TXCwd5bmcvlUvLG3obfF/WF7pbXc3P1Bxn2rnZkqtwAPmT+n1hRVSuNEcM7W0HFOKjbOPdLOijqTqeCYr1uM5iLDI2H+cEdLLpeZbeUrIuJCibWvcXgi4YcTQVUvbhcW6Kv1eoFMnNV1hSpMuLVOzC1WWq9+IbnofWFhP7Y0WpbmuO1HTUyuTctm4VPJQbS4t7wI8QB3h7yNNYnNbVlLq3AONMK90jvxh6escXqNKuaoMiXHeGfEEX/Lv5QUwZ10C4aT6UBx5ERjit8lN29290zI0SlyclRVolkOKCUh11QALqiepVfuTDYptFpFHYVLSsuGEqWXClTijckAX94+kazTFNYp9ElgytxXBzUnIg3OZPWwjqrldm2ptCUts2LYPUHzPrAdV6m5hN3HPjqjyhUhsRowtGQ3DRL/dfVU0x7LvVWUZcfvh1+DzEJLR2sK4zU3VNVNIJYUPy2z8yfSIe5u4FZqvs3mJaSTwuNbBCx3w73UfKPO7TTTld1HMyc4lKEIkluAtixuHGx438zCxmIro8QxbroGnUpsnT8L2jfuGpV29NPuTWnKVMvLzcekmHFqsBclsEnpBGNMtpZ03SWkkkIkWEi/ewbTBDSl/ZZyHZIObt4h9tT3UXT+msdST87zv5wdVjw+13Ae94nu0bgVwzHM5Y+GFvkt5xt1qHAQPp/xELURtpiYV4e5/2CPCaqD4ZedGn+yWSdLhxcA1cOp5rxmt9zfusxVqf7E5rk5Va8+Zwzu1na2Bt3tFatVb+85UG3funhZkJtz9/mV/L9Y2m7jC36xXsCBnLWF/8BMV9m6e8y4ErUgkpv0J/tC8mpuJORHflPlc6ap97O0CSloDXBvnYbzpzXPU0/x+W/Cxxz+a/wDDD22JXzerptq2Fqa4q/f961/eF1p3a3UE5zHCnKeMML5OL8b/AKPSLc7XbZ17S2oJioVCbkHG3JNbIDLiyrIrQfFA6e6Y1loJmIjWMGSlbRVSXlJRzLi9jbomHTE4U2UTe9mGx/tEESikoJSe46QQzoQwsaOAXO0V2KI52pKMlEWKjb6xh0B5osPAONHuhXVJ637fWCCIsf5clKl82cwtTNaR0pPLW5O6YpMwtwWWp2SbWVC1rElPXp0iAvbLbZw3Xt7ppR7XNJlz/wCIIIH/AJJgSftjkFPY0hpOWy5bS9IaytlhJNJv9bJjbI/DN0e6e1x0ggiZI+o/SHqxu+/0skkm5PWCCCCEZITOa//Z\",\"visible\":true,\"x\":-2.0,\"xanchor\":\"center\",\"xref\":\"x\",\"y\":-0.09999999999999964,\"yanchor\":\"middle\",\"yref\":\"y\"},{\"name\":\"b-43\",\"sizex\":0.5,\"sizey\":0.5,\"source\":\"data:image/jpg;base64,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\",\"visible\":true,\"x\":-4.0,\"xanchor\":\"center\",\"xref\":\"x\",\"y\":-1.3,\"yanchor\":\"middle\",\"yref\":\"y\"},{\"name\":\"g-43\",\"sizex\":0.5,\"sizey\":0.5,\"source\":\"data:image/jpg;base64,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\",\"visible\":true,\"x\":-4.0,\"xanchor\":\"center\",\"xref\":\"x\",\"y\":0.3,\"yanchor\":\"middle\",\"yref\":\"y\"},{\"name\":\"b-47\",\"sizex\":0.5,\"sizey\":0.5,\"source\":\"data:image/jpg;base64,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\",\"visible\":true,\"x\":-2.0,\"xanchor\":\"center\",\"xref\":\"x\",\"y\":-1.1,\"yanchor\":\"middle\",\"yref\":\"y\"},{\"name\":\"g-47\",\"sizex\":0.5,\"sizey\":0.5,\"source\":\"data:image/jpg;base64,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\",\"visible\":true,\"x\":-1.0,\"xanchor\":\"center\",\"xref\":\"x\",\"y\":-0.4,\"yanchor\":\"middle\",\"yref\":\"y\"},{\"name\":\"r-49\",\"sizex\":0.5,\"sizey\":0.5,\"source\":\"data:image/jpg;base64,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\",\"visible\":true,\"x\":-3.0,\"xanchor\":\"center\",\"xref\":\"x\",\"y\":2.6,\"yanchor\":\"middle\",\"yref\":\"y\"},{\"name\":\"b-49\",\"sizex\":0.5,\"sizey\":0.5,\"source\":\"data:image/jpg;base64,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\",\"visible\":true,\"x\":-1.0,\"xanchor\":\"center\",\"xref\":\"x\",\"y\":2.4000000000000004,\"yanchor\":\"middle\",\"yref\":\"y\"},{\"name\":\"r-50\",\"sizex\":0.5,\"sizey\":0.5,\"source\":\"data:image/jpg;base64,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\",\"visible\":true,\"x\":-1.0,\"xanchor\":\"center\",\"xref\":\"x\",\"y\":-2.4000000000000004,\"yanchor\":\"middle\",\"yref\":\"y\"},{\"name\":\"g-50\",\"sizex\":0.5,\"sizey\":0.5,\"source\":\"data:image/jpg;base64,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\",\"visible\":true,\"x\":-2.0,\"xanchor\":\"center\",\"xref\":\"x\",\"y\":-2.0999999999999996,\"yanchor\":\"middle\",\"yref\":\"y\"},{\"name\":\"r-56\",\"sizex\":0.5,\"sizey\":0.5,\"source\":\"data:image/jpg;base64,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\",\"visible\":true,\"x\":-1.0,\"xanchor\":\"center\",\"xref\":\"x\",\"y\":-1.6,\"yanchor\":\"middle\",\"yref\":\"y\"},{\"name\":\"g-56\",\"sizex\":0.5,\"sizey\":0.5,\"source\":\"data:image/jpg;base64,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\",\"visible\":true,\"x\":-3.0,\"xanchor\":\"center\",\"xref\":\"x\",\"y\":-1.0,\"yanchor\":\"middle\",\"yref\":\"y\"},{\"name\":\"b-56\",\"sizex\":0.5,\"sizey\":0.5,\"source\":\"data:image/jpg;base64,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\",\"visible\":true,\"x\":-4.0,\"xanchor\":\"center\",\"xref\":\"x\",\"y\":-2.1,\"yanchor\":\"middle\",\"yref\":\"y\"},{\"name\":\"50-99\",\"sizex\":0.5,\"sizey\":0.5,\"source\":\"data:image/jpg;base64,/9j/4AAQSkZJRgABAQAAAQABAAD/2wBDAAMCAgICAgMCAgIDAwMDBAYEBAQEBAgGBgUGCQgKCgkICQkKDA8MCgsOCwkJDRENDg8QEBEQCgwSExIQEw8QEBD/2wBDAQMDAwQDBAgEBAgQCwkLEBAQEBAQEBAQEBAQEBAQEBAQEBAQEBAQEBAQEBAQEBAQEBAQEBAQEBAQEBAQEBAQEBD/wAARCAAyADIDASIAAhEBAxEB/8QAHQAAAQMFAQAAAAAAAAAAAAAAAAQFBwIDBggJAf/EAD4QAAECAwQHAwkFCQAAAAAAAAECAwAEEQUGEhMHCBQVITFBMjNRCRciU2FxcpGxFiVkgZIYJ0JFVGOhouH/xAAaAQADAAMBAAAAAAAAAAAAAAAEBQYAAgcD/8QAKhEAAQMDAwIFBQEAAAAAAAAAAQIDEQAEIQUSMQbRIjIzQXETFFFhgbH/2gAMAwEAAhEDEQA/AOjZJrzhNMrWlYCVqHDoYw60r92vJ2jNSjUtJlDD620lSFVICiBX0vZEO6WtZO/Nyrxy1lWVZVhOtOySJhSphh5SsRccTQYXQKUSOnjEy/qSCpSQozNXOm9O3N2UpbSMiana8M5NsbPkzTzeLHXCsivLwi1dmenZi25Zp+bfcQrHVK3CQfQV0MR1q9aRLa057/8AtbKyMpuTZdn3chbeLOzcWPMUutMpNKU5nn0mVq7EhYrgtOVemFus9kOKSUmvomtADyMaspfcULgKO3nn8c1l+2zpyl6e+kfVAjAxKhIz/RT3lt+rT8oMtv1aflCCXtJ96YaaUhsBa0pNAa0J98Peyt+KvnDxl0vAlJqVfaDBAWKZ3AAtQHiYIqfAS84kdFEf5gh2ngUmPNY1NaK94zL1ob+y9pcU9g2WuHEa0rj4840I1873+Z/S/Y92t3722m7cvPZ+bkYcU1NIwYcK693WtevLhHTFh9oMNgq4hA6Hwjnz5QvVq016adNFi3p0aXL3zZcrdeWs95/eMpL4ZhM3NrUjC86hRol1BqBTjzqDSfc0i1KioIz8nvXQOluoXmr1IunglASedoHGMwKhbQdr/wDmQ33+6bfW+tm/n2zZWTm/h14q5vsph614bLaAPKJ/tB6XLB0QeZ/cG/8AavvH7QbVk5Es7Md1syMWLJw9sUxV40odGrxal+stYGz730bZGfjy/viz1YsNK9l805iJe1GtX3S9cjWluTei9F0disyS3lnv7fKuYMdnTKE+ihwqNVKSOA6+EYj7ZiLYkA8QTnP9nM1VaxZ6ffsvaoiFr2khQUSJSmBwduIjj2zXU5NjbKoTW04sk5mHBStONK1i7vv8L/v/AMhbNAiVeP8AbV9Ix3Gnxj0cZWzi3SY/We9cvaebuBN0oSOJMdqVrXmrU7SmMlVPCsEUJ7I90EO0TtE0mXG4xxS5taAhIKxyHWG+0mnXn0qZbWsBAFUgkVqYvDlCyT7o/FC9m6KnSmKLfs0hrdNQ7pfsK27R3Tu+x56Zy8/Hky614a5dK0HDkflDNoou9b9m3/sudtGw7QlZdvPxuvSy0ITVhYFVEUFSQPziepv+D84Sr7Jhfd6Qh65N8VGRBj28IHandj1G7bWA0oIBSQUzmfET/k06TTzK5Z1CHUKUpCgAFAkmkY9s0z/TufoMLGe9R8Q+sOcHW94qDik9zZJkZpoSClISoEEChBgi493q/iP1ghmDImgIjFU1PjHoccSKJWoD2GCCAm/Uoxz06Ctau0tR95jyp8TBBBCvIaFR5x80AkGoNCIqznfWr/UYIIFbotzkVSSSak1Jgggg8cUEea//2Q==\",\"visible\":true,\"x\":2.0,\"xanchor\":\"center\",\"xref\":\"x\",\"y\":-2.1,\"yanchor\":\"middle\",\"yref\":\"y\"},{\"name\":\"56-99\",\"sizex\":0.5,\"sizey\":0.5,\"source\":\"data:image/jpg;base64,/9j/4AAQSkZJRgABAQAAAQABAAD/2wBDAAMCAgICAgMCAgIDAwMDBAYEBAQEBAgGBgUGCQgKCgkICQkKDA8MCgsOCwkJDRENDg8QEBEQCgwSExIQEw8QEBD/2wBDAQMDAwQDBAgEBAgQCwkLEBAQEBAQEBAQEBAQEBAQEBAQEBAQEBAQEBAQEBAQEBAQEBAQEBAQEBAQEBAQEBAQEBD/wAARCAAyADIDASIAAhEBAxEB/8QAHQAAAQMFAQAAAAAAAAAAAAAAAAMFBwECBAYICf/EAD0QAAECBAQCBgQMBwAAAAAAAAECAwAEBREGEhMUBzEIFRYhQVE0U5KxFyIyUmFjcXKBkaHhIyQnRXOi0f/EABoBAAIDAQEAAAAAAAAAAAAAAAMFAAQGAQL/xAAoEQABBAIABAYDAQAAAAAAAAABAAIDEQQhBRIxQQYTFCKh0TJRYZH/2gAMAwEAAhEDEQA/APTZhhgsNkstklAJJSPKEJpppLgCWkAZfBIhFuoPIQlASiyQAO4/9hmreIp2Um0NttMEFsK+Mk+Z+mCOhkl9rENuTFD7n9E+tNNm920n8IsnG0JllqShIIt3gfTEcYn4mV6g7bZykgvXz5tRtZtly2tZY8zCWEuJ1exRiGUoVQlKe2xM6mdTLawsZUKULErI5pHhBDwvLMJf2o90AcZw/UCPd2Oy3ptRLiQSbZhGfkR80flFG5BkOJOZfMeIjO2bXzlfnCpkM0enH5Tp88Mm2j4TUruUftgirwCXVpHIKI/WCHbfxCTu6lZrVOztoXrWzJBtl/eIK478W/g1xdJ0Ls/1jr01ub1d3o5czrqcuXIq/wAi97+MdAy/o7X3E+6OY+lDwyxvjTH9PqmGqJvJVqjtS63Nyy3ZwPvKIstYPJSe+1u+LnBhDJl8uQRy0epr50lXHvOjwi7GB5rHQX8bUBcb+mX2W6l/pxut1uf7xky5dP6g3+V+kNXAvpv9oOKlEpHwY6Gvuf4nXWfLllnVctAX5W5xGnSq4McSqZ2X3uG9PU3uX+clze2hfkv6RGl9HLhvjSS4zYemZmjZG0bvMrcNG15R4eCvMxtHYeO6I+WLZR2CSP7u1kIp5GgPlNSj96N9tf522vUKh9IXratU+ldkNLezTUvqdYZsmdYTe2mL2vyvEvdafUf7ftHKeD8M1xnF1EdckrIRUZZSjqo7gHU38Y6j2r/q/wBRGB4/AzHkYMUaI3W/tbnw1kvy4nuzDsEVeu38pJuLzuKXa2Yk2gihBSSk8wbGCPLPxFq26uY0nuX9Ha+4n3QwYklZl6eQtmXdcSGgLpQSL3PlD/L+jtfcT7oqvn+EVBIYncwRXxCZvKVyB0u8DY2xN2T7N4PrdV22/wBbY095/SzaGXNkSct8qrX52PlEU8HeFnE+mcRqRPVLhxiiUlmtxnefo8w2hN2HALqUgAXJA+0x6LN+MXRocbxLLBielEYIoi7Pe/tZ/J8NRT5JyDIb1qh2r6UG0HD1fl65Tn36HUG2m5tla1rllhKUhYJJJHcAImTXY9cj2hGVNejPf41e6NehXJkHM9zhVJjBjDABa03ayHSC4sg3BUYIsHIfZBEVjqlA++AAHnAB3ABRg13zzec9owQRXKM1G4fHJ5z2jBuJj17ntGCCOBQoL76gUqeWQe4gqMJ2HkIIILH0QZOqIIIIIoF//9k=\",\"visible\":true,\"x\":3.0,\"xanchor\":\"center\",\"xref\":\"x\",\"y\":-1.0,\"yanchor\":\"middle\",\"yref\":\"y\"},{\"name\":\"47-99\",\"sizex\":0.5,\"sizey\":0.5,\"source\":\"data:image/jpg;base64,/9j/4AAQSkZJRgABAQAAAQABAAD/2wBDAAMCAgICAgMCAgIDAwMDBAYEBAQEBAgGBgUGCQgKCgkICQkKDA8MCgsOCwkJDRENDg8QEBEQCgwSExIQEw8QEBD/2wBDAQMDAwQDBAgEBAgQCwkLEBAQEBAQEBAQEBAQEBAQEBAQEBAQEBAQEBAQEBAQEBAQEBAQEBAQEBAQEBAQEBAQEBD/wAARCAAyADIDASIAAhEBAxEB/8QAHQAAAQUBAQEBAAAAAAAAAAAAAAIDBAUHBgkBCP/EAEUQAAECAwQGBAkGDwAAAAAAAAECAwAEEQUSExQGBwgVITEyM1FhFhdBUlNygZGSIkRiY6KxGCQlJjVCVHGCg6GywtHh/8QAGwEAAgIDAQAAAAAAAAAAAAAABAUBAwACBgf/xAApEQABAwQBAgQHAAAAAAAAAAABAAIDBAURIRMSMQYzcZEiQVFhodHw/9oADAMBAAIRAxEAPwD0hAFBwEIc4K4cOES22EFCSSeIBjFNd2uDSbVzpXKWJYkjZj7D9ntzSlTTTilhanHEkApWkUogeTthTWTmmaZHk4yn9qoXXKUU8AHVjO/stsspttzFxEJVS7Sor2xKm2GUy61JZQCKcQkdsYpqX1yaT6bb43rIWW1ksvh5dpxNb+JWt5Z80f1jUGbenJ10SzrbISutSkGvDj290TTXCOaMNaTk6/K1uNnqKGocJQPhwTj0BUttKStIKRzHkiZgteiR8IiEFFJvDmOMKzrvmo9xgsl8GnlL29FRuMdk06AHVgCgCjBCVKKlFR5k1ghww5aClLtOKkJm7qQnDrQU5xhGvnQXwv0vk7S3plMKzW2LmBiVo66qtbw87l3RuqZKaWkLS1UKFR8oRwOsCxrSetllbUteAlUjppH66++EN5puamLYmlzsjQySuh8M3F1FXiWR4YMHZwB7lfk3WLr5/A33f+anhf4X4vz7d+Vytz6t2/ezP0aXPLXhcbN+3948tc+juq3xTbk33m/x7f2ZwcGUef6vLovVwrvSFL1eNKHndszZn13a7vA/xYaFb63LvDPflKUlsLGy+H17qL1cJzo1pd40qK8jsa7GO0pqp2ktENPtPtW+67BsveGbm98SD+HiyEw0j5DT6lmq3EDgk0rU0AJga3UQihYZGEOH1yD31pd5cKm111HLO+VjpC13Z42QCBoH0+S9MMjXhi8/owbr+v8As/8AYlqBbSXF8EpFSe4QzvOR9P8AZP8AqGxj5tuGV5cJRT6YcZVa4i44pFa3SRWCPrqkrdWtJqlSiQe6sEMmjAAQROTlXEu4gMNgrT0B5e6OX0rYeftFtbDK3EhkAlCSRW8rsi7b6tPqiG3+mP3RTEeN/UFEreVnSVV6MTDFmZneTzcpiXLmOoN3qXq0rStKj3xftWxZLyw0zako4s8kpfSSfZWOG04+ZfzP8YqdG/01L/x/2GCzSiZhmJ/ggxVup3iADI/a1KZfZXLuoQ8hSlIUAAoEk05RQ5WZ/Z3fgMPy/Xt+uPvi6gPPFoI0t59lUiQUpCVAggUIMEOP9e565++CLxsKOySHFgUC1e+AqUeaifbBBGg7qSmX5aWmruZl2nrtbuIgKpXsrCGpCRZWHWZJhtY5KS2AR7aQQQWzy0E/zfZPjgQRwI5GHMd/0y/iMEECORrEgkkkk1JgggiwLCv/2Q==\",\"visible\":true,\"x\":2.0,\"xanchor\":\"center\",\"xref\":\"x\",\"y\":-0.3,\"yanchor\":\"middle\",\"yref\":\"y\"},{\"name\":\"38-99\",\"sizex\":0.5,\"sizey\":0.5,\"source\":\"data:image/jpg;base64,/9j/4AAQSkZJRgABAQAAAQABAAD/2wBDAAMCAgICAgMCAgIDAwMDBAYEBAQEBAgGBgUGCQgKCgkICQkKDA8MCgsOCwkJDRENDg8QEBEQCgwSExIQEw8QEBD/2wBDAQMDAwQDBAgEBAgQCwkLEBAQEBAQEBAQEBAQEBAQEBAQEBAQEBAQEBAQEBAQEBAQEBAQEBAQEBAQEBAQEBAQEBD/wAARCAAyADIDASIAAhEBAxEB/8QAHQAAAQMFAQAAAAAAAAAAAAAAAAYHCAECAwQFCf/EAEIQAAECBAMEBAkHDQAAAAAAAAECAwAEERIFBhQHCBMhFTFBUhYiIzJRU2GSsQk0YoKRobIXJSY1QkNFY3Fyc4HB/8QAGQEAAwEBAQAAAAAAAAAAAAAAAwUGBAEC/8QAKhEAAQQBAgQEBwAAAAAAAAAAAQACAwQRITEFEhNBBjJRYRQicYGxwdH/2gAMAwEAAhEDEQA/APTZhhgsNkstklAJJSPRFHGGArkygcu6I1W595DaUBKKJAHUYjPvN7020HY3nyQyxljB8vTUrNYQ1PrXPy763A4p55BAKHkC2jaeytSecMaVCe/N0Yd991guXoaUXVl2Un+Cz6pHuiLkMMlQBZR7oiHuy3fE2mZ36T6VwLLDWi4PD08rMJrffWtz57o++He2fbaM05pzfIYFiEhhTcvNcW9TLTgWLWlqFCVkdaR2Rps8FuVebqY+UZOvtlYIOO053tYwnJOBp9k9CpeXCT5Bvq7ojX4LXqke6Iy8davFIFDyitg9JhI/m9VQR8pC5LoAdWAKAKMED3J5wfSPxghg3YLGd1UK5DlHnL8o5nfwb234HI9Gai/Kss7dxrKVm5sUpae798ei3GbHIq5j2RBPft3YNue2/a5hGa9l+R+msKlMuS+HPTHScnLWzCZqZcUi191CjRLrZqBTxuuoNGPArsUFwO6gGh7hLuMUpZ6vKWEjI7FRayBvNeAWv/QnXa7hfxLhWWX/AMpVa3+zqh/t2fe58Ltt2W8vfk+0mr1nluluJbbKPL83gitbadfbEfcz7lu8vlLTeEGzXS6q/g/nnD3LrbbvMfNKXDr9MLvdX2A7W8p7ecsZgzBlPSyErreM9r5Zdt0k+hPiocKjVSgOQ7YrLUkVqJ8hcHZB1B9sdlJxQNrSNGMOBGh3zuNCvTzDdomuxGVkuh7NQ8hq7UVtuUBWlvPrhecP2wzeA4bOtY5hzi2KJRNsqJuHIBY9sPJxW+990QN+OKJwDFbcLmmmY4yevouLMcn3B9M/GCCYNX3CO1Z+MEdbsEc7rUU06VEhtRBPojfw+blZRlTc1MtMrKioJcWEkig50MXI8xP9BCazP8/b/wAI/EqJmV3wjjK3XVU0EYvAQu0GPwklt6k5vHegug5V7EeBquLpEF6y7hUutrStDSvoMIPImWMyMZqkXX8vYm2hPFqpco4APJq7SIeTBv331f8Asd7Cf1g19b8JhvS8SyiFtfkGDpnJ7lIeI+EoXWXWuocjBxgdgP4uDh+GYkifllrw+ZSlLyCSWlAAXDn1Qt7F90/ZGzBBJ5DOQSvFaIVgQNcrhPcnl17x+MEVmPnDv96vjBGtuwQjurblD9o/bGJ1hh9V7zKHFAUqpIJp/uCCFdjylNavnCoiXl268NhtFeu1IFYyIAbUFt+KodRHIwQQKHcItjZ30/SyaiY9e57xg1Ex69z3jBBDJKlYSSSSSSeZJgggg42Qiv/Z\",\"visible\":true,\"x\":1.0,\"xanchor\":\"center\",\"xref\":\"x\",\"y\":-1.2,\"yanchor\":\"middle\",\"yref\":\"y\"},{\"name\":\"28-99\",\"sizex\":0.5,\"sizey\":0.5,\"source\":\"data:image/jpg;base64,/9j/4AAQSkZJRgABAQAAAQABAAD/2wBDAAMCAgICAgMCAgIDAwMDBAYEBAQEBAgGBgUGCQgKCgkICQkKDA8MCgsOCwkJDRENDg8QEBEQCgwSExIQEw8QEBD/2wBDAQMDAwQDBAgEBAgQCwkLEBAQEBAQEBAQEBAQEBAQEBAQEBAQEBAQEBAQEBAQEBAQEBAQEBAQEBAQEBAQEBAQEBD/wAARCAAyADIDASIAAhEBAxEB/8QAHQAAAQMFAQAAAAAAAAAAAAAAAAEEBQIDBgcICf/EAEAQAAECAwQGBAsFCQAAAAAAAAECAwAEEQUGEhMHFBUhMVEIIjOxCRYXMkFTYXFygZEjNEJSkiQlJ0VjZKGi4f/EABoBAAIDAQEAAAAAAAAAAAAAAAQGAgMFAQD/xAAqEQABBAIBAgQGAwAAAAAAAAABAAIDBBExIQUSBhMjcRQyQUJR0aGxwf/aAAwDAQACEQMRAD8A9NmGGCw2Sy2SUAklI5RGWslLcylLaQkYAaJFPSYaKvFOsKLKGmCls4RVJrQbucRlpW/OOvpUppmuADck8z7YnPUnlbhn9quC9XhfmTXspyRAXjxgKpTjv5w6y2/Vp+kY/ZNrzLmbiQ1uw8Afb7YlpSddmJhDS0oAVWtAa8InFDJBF2ybCjLYisS90WjpO0tt4h9mnjyi9ks+qR+kQi0BCFLFapBIhtrrv5UfQxwO8zlq84eXw5N3gA6sAUAUe+CEWoqWpR4kkwQUNKpWzd/OOdrdMzrUy60r840bpz0y+SO9spdvxc2trNnNz2drmRhxOuow4cCq9nWtfTw3R0E3PyiG0oU7QpAB6p4xzN0nNDmkfSbf2Qt6493NpSLFkNSbjuuMM4XkvPKKcLq0qPVWk1pTfx4wZ0WatNb8u08duDsgfzwszrlezDTMlVh7sjQJ/wAK1Tfbwg/k31L+Ee0do5n8/wAnLy8P9sqtcfs4RP8AR28IF5bNMd39GPkk2NtnW/27b2sZWTKuvdnqyMVcrD5wpirvpQ8y9J3o8aYbB8Wtq3PyM/XMv94Sqq4cmvmuHmIq6Duja+l2elHcq3LcsXVpKW2lmu6y0vDis6ZSNyVEneoDcPTDLe6bSfBJLA3I7Tggkjge/wCVg9P6hYY+OKw7DsjIIAPJ/GM6XrcVZgy6Ux9WvKsU7L/r/wCv/Ybsz8op1CQ7vKgB1Tz90Sma3+b/ABCEfS4HCeG+tyeVCOowOLRWuFRFYIWYNX3CPSs98EGDSpPCbmVmVEqTLukE1BCDviUspKmZdSXklCismihQ0oIeS/3dr4E90WZrtB8MYohELzICtc2DYYIiMLnTpi3VvRenxR8WLt2pa+q6/n6hJuTGVi1fDiwA4a4VUrxoeUas0EaPL/2LpWsO07YuNeCQk2dZzJiZsx9ptFZZ1IqpSQBUkAV9JEdwSn4/lFU593X8u+Gav4glgofChgIw4Z98/tKtnw3FY6iLZeQctOMD6Y/SxuVZeEy0S0sALT+E84yCh5Qzb7RPxCH0L7pjY5IxhMbawrcA5yop7tV/Ee+CB7tnPiPfBGo3QWedpQ++AAHnABuACjCF51Rqp1Z96jBBAz1fHtAeeT5rqx7lGFL7yhRTyyORUYII4PlXfvVIWoGoUfrC5z3rV/qMEEQZpWP2qSSTUmpMEEEGjSDO1//Z\",\"visible\":true,\"x\":3.0,\"xanchor\":\"center\",\"xref\":\"x\",\"y\":0.19999999999999996,\"yanchor\":\"middle\",\"yref\":\"y\"},{\"name\":\"34-99\",\"sizex\":0.5,\"sizey\":0.5,\"source\":\"data:image/jpg;base64,/9j/4AAQSkZJRgABAQAAAQABAAD/2wBDAAMCAgICAgMCAgIDAwMDBAYEBAQEBAgGBgUGCQgKCgkICQkKDA8MCgsOCwkJDRENDg8QEBEQCgwSExIQEw8QEBD/2wBDAQMDAwQDBAgEBAgQCwkLEBAQEBAQEBAQEBAQEBAQEBAQEBAQEBAQEBAQEBAQEBAQEBAQEBAQEBAQEBAQEBAQEBD/wAARCAAyADIDASIAAhEBAxEB/8QAHQAAAQMFAQAAAAAAAAAAAAAAAAMEBQECBwgJBv/EAEQQAAECBAIFBQwFDQAAAAAAAAECAwAEERIFBgcTFBUxCCEyQVEJFhczNEJhcoGRkrEjU3GhohgiJCdERlJiY2SCweH/xAAZAQACAwEAAAAAAAAAAAAAAAAEBQIDBgf/xAAoEQACAQMDAwIHAAAAAAAAAAABAgADBBEFITESE0Ey0QYiUXGRoeH/2gAMAwEAAhEDEQA/AOhLzzweWA6sAKPnHthMvv18c58RhnNzrqJp5ISigcUOB7Ymsv4axi0muZmVuJUl0oAQQBSgPWD2wtr6deLl87feN6GrWD4pgb4+keZb+n2nX/SW2Uv56ce2Jh2XYCCQy2P8RDWWkWcJu2ZS1a2l15B4dlKdsOEPKdUG1AAHsg21SpTpAOd/7F15Vp1azNT4PtEHGmghRDaeB6oZ0HYIlXWUhpZqeZJ+URlog1GzAKgwYieJggV0j9sEECRmKMazzsmMT8puu/UzLrd2vpWiyK0t9EYZ0td0C/J+zHLZN8Em/ttkUYntO/tlsvccbss2Zdaamta+dSnNU5hxvRxnOexqfnZXBr2ZiaddbVtDQuSpZINCqo5j1xofy5NEukF7SzhK2sv3AZdYHlbA/aZn+eNHa2tndkUjhtuAfYzJvc3lo5qNlRnkjA/JEzjl7upXfPtH6i9m2az9577rq/2gp0fvjKGhLlr+FzSfguj3wabq3rtP6ZvnX6rVS7jvQ1Cbq6unSFK156UjmXgWBYrkLX99krsO3W7P+el2+yt3iyqlL08acY2H5EeO4VOcp7JktLTV7i942psUK0w+ZPWPRDW40PTaVjUqBMOFYj5m5AONsymhq97WvUQPlCyjgcZGd8TqstN6FIrS4EQ03f8A1vw/9h4pQSkqUaACphHbZb638Jjm/cCcmb3tl/GZEOpsdWitbVEffBFX1BTzikmoKiR74IPXiCnYyQZSosook9EdXojUjld5GztmTSThs9l3J+N4rLN4Gy0p6Sw959CViYfJSVISQDRSTTjQjtjb+X8na9RPyiq+PsiVhqDadX7yrk7iD6jp66jb9hmwNjOQumbQlpmxHc+79EedJrV7RfqcAm1211dK0b5uB90en5Emh/S1lblPZMx7M+i7N2EYZK7x187P4JMy7DV2HzKU3OLQEpqpSUip5yQOJjqNP+Z7f9QnJeUo9vyMOLj4iq3VF0KAdQI8+RiK7XQado6dLk9JB/eZIv8AOy56p+URNi/4T7ol3PFq9UwxjG116iJsLd+kGMFcyj9sEVc8Yr1jBDdPSIsb1GXB98AAPOADmACjBr3zxec+IwQRSZOWqccX0nFGnaYErWk3JWoEdYMEETHpkPMuMw+RQvufEYt1jn1ivfBBFD8y9JQkk1MEEEFjiDnmf//Z\",\"visible\":true,\"x\":2.0,\"xanchor\":\"center\",\"xref\":\"x\",\"y\":1.5,\"yanchor\":\"middle\",\"yref\":\"y\"},{\"name\":\"43-99\",\"sizex\":0.5,\"sizey\":0.5,\"source\":\"data:image/jpg;base64,/9j/4AAQSkZJRgABAQAAAQABAAD/2wBDAAMCAgICAgMCAgIDAwMDBAYEBAQEBAgGBgUGCQgKCgkICQkKDA8MCgsOCwkJDRENDg8QEBEQCgwSExIQEw8QEBD/2wBDAQMDAwQDBAgEBAgQCwkLEBAQEBAQEBAQEBAQEBAQEBAQEBAQEBAQEBAQEBAQEBAQEBAQEBAQEBAQEBAQEBAQEBD/wAARCAAyADIDASIAAhEBAxEB/8QAHQAAAQQDAQEAAAAAAAAAAAAAAAIEBQcDBggJAf/EAD8QAAECAwQHAQ0GBwAAAAAAAAECAwAEEQUGEhMHCBQVITFBURYXIjIzUlNhZHFykrEjJCdFgaElNEJikaLh/8QAGwEAAgIDAQAAAAAAAAAAAAAAAwQBBQACBwb/xAAlEQACAgIBBAICAwAAAAAAAAABAgADBBEhBRIxQRMUBrGBkaH/2gAMAwEAAhEDEQA/APSpttBQklCeQ6RC2444zNoS0tSAWwaJNBWpjZGJZCmW1Eq4pB/aKJ09aULfuHfCTsex5Oz3mXrNbmVKmW1qUFF11JAKVpFKIHTtizwamyrvjTzzKrqN64lHy2eOJb11/vG05/2mHBTHxp43bD+3G22bLfcaQlCxhopIoR4Q6xTug7SpeG92+95SdnN7Js2DIbWK4s2tarPmiLT3i/av8PmEoS27zKAQrhx4VJ7IzKxrMfIKv61+gZmHmVZOMCnvf7IkRJvvqnGEqecILiQQVGhFY2nKa9Gn/EMWLBk2323EuPVSsKFSOh90TGzo7VQvfarEdsaoqZQe6QzgAcUAOGIwQp8UfcA6LI/eCCDxJMlGHqMNjDyQOvqjhXXu0t9w+l2yLJ7n9tzbty8xmbXl0rNTKaUwHzedesdxtOoDSAVckjpHEuu9q3aaNMmlayrz6N7mb4syVu8xIOv7xlJfC+mZmVqRhedQo+C4g1Apx51Bhv8AH7Eqz+68gLo8ngf3EevU/Yweysdx2OByf8lJXH17+9Ntv4V713rl/nmRl5WL2dVa5nqpTrWLz1cdfvv36ZrvaL+9PuXfW1/ft+7TlZMo8/5PZ0Yq5WHxhTFXjSh5WvTqKa1R2X8LPP8Azyzf7faIsbU91WdO+iXWMulpB0g3F3VYFlbftc3vOTfy82RmGkeA06pZq44gcEmlamgBMej6kmBetlqMCxB1pveuPcoenfYxzXUwKqDzset8+RPT5bWShT2KuAFVKc6Q13z7N/v/AMjA5eew5hCmGZ7E44ChIylipPADlDOOc5b20sB4nQsGum9SfP8AMzuLzFqcpTESqnZWCEjkPdBFuh2oMqnGmIjxDTpQkhtRBA6Q9k0qS0QpJBxdRC5f+Xa+BP0jJCjNviFVNcyFvIy87s+U0tdMdcKSaco1yfkpxUo4EyjxPDgGz2iN3mf6f1hq95JX6Qem4oANRa/HFjFiZoMjZ8+mdl1KkZgAOoJJaV2j1RtuzzHoHPlMOWfKo+IfWJOAZyfbYM3Goz06w4SMq87kJQjgQQRwIMEZH/LufGfrBDaDSgQTHZJgH3wAA84AOAAUYNomPTufMYIICZuIF95XjPLPvUYSXHCKFaiPfBBGwmpnwKUDUKII9cLz3/TL+YwQRLeZCRBJJJJqTBBBBRIM/9k=\",\"visible\":true,\"x\":1.0,\"xanchor\":\"center\",\"xref\":\"x\",\"y\":1.2,\"yanchor\":\"middle\",\"yref\":\"y\"},{\"name\":\"49-99\",\"sizex\":0.5,\"sizey\":0.5,\"source\":\"data:image/jpg;base64,/9j/4AAQSkZJRgABAQAAAQABAAD/2wBDAAMCAgICAgMCAgIDAwMDBAYEBAQEBAgGBgUGCQgKCgkICQkKDA8MCgsOCwkJDRENDg8QEBEQCgwSExIQEw8QEBD/2wBDAQMDAwQDBAgEBAgQCwkLEBAQEBAQEBAQEBAQEBAQEBAQEBAQEBAQEBAQEBAQEBAQEBAQEBAQEBAQEBAQEBAQEBD/wAARCAAyADIDASIAAhEBAxEB/8QAHQAAAQMFAQAAAAAAAAAAAAAAAAIDBAEFBggJB//EAEQQAAECAwUFAQoJDQAAAAAAAAECAwAEEQUGEhMhBwgUFTGxIjI0QVFTYXFykgkWIyUzQ4KRohc2QkRSZHOBg7LB0eH/xAAYAQEBAQEBAAAAAAAAAAAAAAAFBAYDB//EACYRAAEDAwMDBQEAAAAAAAAAAAEAAgMEETEFEiETM5EGMkFRcbH/2gAMAwEAAhEDEQA/AOi6lKxHuj18sRJp11LgCXFAYfETE0oBJOsak7229PtB2G7R7NuldKx7vTcnN2IzaK12jLvuOBxT77ZALbyBho0nSlak6+Rqjpn1cvSjyhqqdtNHvfhbb2IS7nZpK6YaYtadYuZabp9Gn7o597Ot/Ha9bXMOKu5c9GTlYcuTmhWuOtazB8ke1bF952/u0faXY9zLcsiwGJK0eIzXJSXeS6MuXccGEqdUO+QK1B0r64rqdArYmumIG0C+fgBRwa9RukbT3O4kDHyTx/Vs0202VpBbT1HiiZw8v5hv3RCUsICgQToaw9Gdc6+Fomi2VY3wA+4AAAFkAD1wQTHhDvtq7YIsGFwOUnKrri6+iOd/wiNlcXtqsVziMNLrSyaYK/rc36Y6MIlX1ISoN6EAjURp5vjbvW2DajtNsy8FxboczkJewWZNx7mEqzheTMTCynC64lR7lxBqBTXroYX9P1EMNaHTPDRY8kgBD61BNLSEQtJNxgErQ6Vvp+TTF828y5lT67Jy8v7Kq1x+jpHu+5Ttm+NW81c2wfi3wvFcx+V4zHhw2fMr73AK97Tr44xm/G43vSWrwXAbL83KzMfz3ZyaVw06zA8hjO9z7dH3hdlO8XdK/wBf7Z9yuwbL4/i5vm0i/l5sjMNI7hp5SzVbiBok0rU0AJjTanqMD4JWRStILSBYg34WfoNMe2aOWaMhwcCbgjBXTdb2WhTmGuEE0rETnP7t+P8A5AudlXkKZadqtwFKRhOpPSIvLZ3zP4h/uPKqozMI2A+F6XRiCVpMhHlJcXmLU5SmIlVPJWCKFKkEoUKFOhHpghdl9oujX2DjZXmXByG9P0B2QxOPMtuhLjqEnDWilARJl/B2vYT2RYrxeGo/hDtMEVkhhYXD7SlFEJpAw/Sdmp6Sbw5k4wmtaVcArEdU3KTSciWmmnXFd6hCwpRproBGL2/9R9r/ABCro/nDKf1P7FRBBq7xI2HaMgeUpPocboXT7zexPgLJ5WWmUzTKlS7oAcSSSg0ArGRYk/tD74Seh9UNQ69/U5KzTGdLgK1zHhDvtq7YIo99M57R7YIqGFzKqH3wAA84ANAAow258srE93ZApVWppBBEVR7FZS9xNOSko7TNlWV06YkA0gZlJWXcD0vLNNOJ6KQgJI/mIIINZ3R+hLP7B/CpOe/55z3jFM57zq/eMEEMhAFJJJNSakwQQR3C5r//2Q==\",\"visible\":true,\"x\":3.0,\"xanchor\":\"center\",\"xref\":\"x\",\"y\":1.4000000000000004,\"yanchor\":\"middle\",\"yref\":\"y\"}],\"margin\":{\"b\":20,\"l\":20,\"r\":20,\"t\":20},\"paper_bgcolor\":\"rgba(0,0,0,0)\",\"plot_bgcolor\":\"rgba(0,0,0,0)\",\"template\":{\"data\":{\"bar\":[{\"error_x\":{\"color\":\"#2a3f5f\"},\"error_y\":{\"color\":\"#2a3f5f\"},\"marker\":{\"line\":{\"color\":\"#E5ECF6\",\"width\":0.5}},\"type\":\"bar\"}],\"barpolar\":[{\"marker\":{\"line\":{\"color\":\"#E5ECF6\",\"width\":0.5}},\"type\":\"barpolar\"}],\"carpet\":[{\"aaxis\":{\"endlinecolor\":\"#2a3f5f\",\"gridcolor\":\"white\",\"linecolor\":\"white\",\"minorgridcolor\":\"white\",\"startlinecolor\":\"#2a3f5f\"},\"baxis\":{\"endlinecolor\":\"#2a3f5f\",\"gridcolor\":\"white\",\"linecolor\":\"white\",\"minorgridcolor\":\"white\",\"startlinecolor\":\"#2a3f5f\"},\"type\":\"carpet\"}],\"choropleth\":[{\"colorbar\":{\"outlinewidth\":0,\"ticks\":\"\"},\"type\":\"choropleth\"}],\"contour\":[{\"colorbar\":{\"outlinewidth\":0,\"ticks\":\"\"},\"colorscale\":[[0.0,\"#0d0887\"],[0.1111111111111111,\"#46039f\"],[0.2222222222222222,\"#7201a8\"],[0.3333333333333333,\"#9c179e\"],[0.4444444444444444,\"#bd3786\"],[0.5555555555555556,\"#d8576b\"],[0.6666666666666666,\"#ed7953\"],[0.7777777777777778,\"#fb9f3a\"],[0.8888888888888888,\"#fdca26\"],[1.0,\"#f0f921\"]],\"type\":\"contour\"}],\"contourcarpet\":[{\"colorbar\":{\"outlinewidth\":0,\"ticks\":\"\"},\"type\":\"contourcarpet\"}],\"heatmap\":[{\"colorbar\":{\"outlinewidth\":0,\"ticks\":\"\"},\"colorscale\":[[0.0,\"#0d0887\"],[0.1111111111111111,\"#46039f\"],[0.2222222222222222,\"#7201a8\"],[0.3333333333333333,\"#9c179e\"],[0.4444444444444444,\"#bd3786\"],[0.5555555555555556,\"#d8576b\"],[0.6666666666666666,\"#ed7953\"],[0.7777777777777778,\"#fb9f3a\"],[0.8888888888888888,\"#fdca26\"],[1.0,\"#f0f921\"]],\"type\":\"heatmap\"}],\"heatmapgl\":[{\"colorbar\":{\"outlinewidth\":0,\"ticks\":\"\"},\"colorscale\":[[0.0,\"#0d0887\"],[0.1111111111111111,\"#46039f\"],[0.2222222222222222,\"#7201a8\"],[0.3333333333333333,\"#9c179e\"],[0.4444444444444444,\"#bd3786\"],[0.5555555555555556,\"#d8576b\"],[0.6666666666666666,\"#ed7953\"],[0.7777777777777778,\"#fb9f3a\"],[0.8888888888888888,\"#fdca26\"],[1.0,\"#f0f921\"]],\"type\":\"heatmapgl\"}],\"histogram\":[{\"marker\":{\"colorbar\":{\"outlinewidth\":0,\"ticks\":\"\"}},\"type\":\"histogram\"}],\"histogram2d\":[{\"colorbar\":{\"outlinewidth\":0,\"ticks\":\"\"},\"colorscale\":[[0.0,\"#0d0887\"],[0.1111111111111111,\"#46039f\"],[0.2222222222222222,\"#7201a8\"],[0.3333333333333333,\"#9c179e\"],[0.4444444444444444,\"#bd3786\"],[0.5555555555555556,\"#d8576b\"],[0.6666666666666666,\"#ed7953\"],[0.7777777777777778,\"#fb9f3a\"],[0.8888888888888888,\"#fdca26\"],[1.0,\"#f0f921\"]],\"type\":\"histogram2d\"}],\"histogram2dcontour\":[{\"colorbar\":{\"outlinewidth\":0,\"ticks\":\"\"},\"colorscale\":[[0.0,\"#0d0887\"],[0.1111111111111111,\"#46039f\"],[0.2222222222222222,\"#7201a8\"],[0.3333333333333333,\"#9c179e\"],[0.4444444444444444,\"#bd3786\"],[0.5555555555555556,\"#d8576b\"],[0.6666666666666666,\"#ed7953\"],[0.7777777777777778,\"#fb9f3a\"],[0.8888888888888888,\"#fdca26\"],[1.0,\"#f0f921\"]],\"type\":\"histogram2dcontour\"}],\"mesh3d\":[{\"colorbar\":{\"outlinewidth\":0,\"ticks\":\"\"},\"type\":\"mesh3d\"}],\"parcoords\":[{\"line\":{\"colorbar\":{\"outlinewidth\":0,\"ticks\":\"\"}},\"type\":\"parcoords\"}],\"pie\":[{\"automargin\":true,\"type\":\"pie\"}],\"scatter\":[{\"marker\":{\"colorbar\":{\"outlinewidth\":0,\"ticks\":\"\"}},\"type\":\"scatter\"}],\"scatter3d\":[{\"line\":{\"colorbar\":{\"outlinewidth\":0,\"ticks\":\"\"}},\"marker\":{\"colorbar\":{\"outlinewidth\":0,\"ticks\":\"\"}},\"type\":\"scatter3d\"}],\"scattercarpet\":[{\"marker\":{\"colorbar\":{\"outlinewidth\":0,\"ticks\":\"\"}},\"type\":\"scattercarpet\"}],\"scattergeo\":[{\"marker\":{\"colorbar\":{\"outlinewidth\":0,\"ticks\":\"\"}},\"type\":\"scattergeo\"}],\"scattergl\":[{\"marker\":{\"colorbar\":{\"outlinewidth\":0,\"ticks\":\"\"}},\"type\":\"scattergl\"}],\"scattermapbox\":[{\"marker\":{\"colorbar\":{\"outlinewidth\":0,\"ticks\":\"\"}},\"type\":\"scattermapbox\"}],\"scatterpolar\":[{\"marker\":{\"colorbar\":{\"outlinewidth\":0,\"ticks\":\"\"}},\"type\":\"scatterpolar\"}],\"scatterpolargl\":[{\"marker\":{\"colorbar\":{\"outlinewidth\":0,\"ticks\":\"\"}},\"type\":\"scatterpolargl\"}],\"scatterternary\":[{\"marker\":{\"colorbar\":{\"outlinewidth\":0,\"ticks\":\"\"}},\"type\":\"scatterternary\"}],\"surface\":[{\"colorbar\":{\"outlinewidth\":0,\"ticks\":\"\"},\"colorscale\":[[0.0,\"#0d0887\"],[0.1111111111111111,\"#46039f\"],[0.2222222222222222,\"#7201a8\"],[0.3333333333333333,\"#9c179e\"],[0.4444444444444444,\"#bd3786\"],[0.5555555555555556,\"#d8576b\"],[0.6666666666666666,\"#ed7953\"],[0.7777777777777778,\"#fb9f3a\"],[0.8888888888888888,\"#fdca26\"],[1.0,\"#f0f921\"]],\"type\":\"surface\"}],\"table\":[{\"cells\":{\"fill\":{\"color\":\"#EBF0F8\"},\"line\":{\"color\":\"white\"}},\"header\":{\"fill\":{\"color\":\"#C8D4E3\"},\"line\":{\"color\":\"white\"}},\"type\":\"table\"}]},\"layout\":{\"annotationdefaults\":{\"arrowcolor\":\"#2a3f5f\",\"arrowhead\":0,\"arrowwidth\":1},\"autotypenumbers\":\"strict\",\"coloraxis\":{\"colorbar\":{\"outlinewidth\":0,\"ticks\":\"\"}},\"colorscale\":{\"diverging\":[[0,\"#8e0152\"],[0.1,\"#c51b7d\"],[0.2,\"#de77ae\"],[0.3,\"#f1b6da\"],[0.4,\"#fde0ef\"],[0.5,\"#f7f7f7\"],[0.6,\"#e6f5d0\"],[0.7,\"#b8e186\"],[0.8,\"#7fbc41\"],[0.9,\"#4d9221\"],[1,\"#276419\"]],\"sequential\":[[0.0,\"#0d0887\"],[0.1111111111111111,\"#46039f\"],[0.2222222222222222,\"#7201a8\"],[0.3333333333333333,\"#9c179e\"],[0.4444444444444444,\"#bd3786\"],[0.5555555555555556,\"#d8576b\"],[0.6666666666666666,\"#ed7953\"],[0.7777777777777778,\"#fb9f3a\"],[0.8888888888888888,\"#fdca26\"],[1.0,\"#f0f921\"]],\"sequentialminus\":[[0.0,\"#0d0887\"],[0.1111111111111111,\"#46039f\"],[0.2222222222222222,\"#7201a8\"],[0.3333333333333333,\"#9c179e\"],[0.4444444444444444,\"#bd3786\"],[0.5555555555555556,\"#d8576b\"],[0.6666666666666666,\"#ed7953\"],[0.7777777777777778,\"#fb9f3a\"],[0.8888888888888888,\"#fdca26\"],[1.0,\"#f0f921\"]]},\"colorway\":[\"#636efa\",\"#EF553B\",\"#00cc96\",\"#ab63fa\",\"#FFA15A\",\"#19d3f3\",\"#FF6692\",\"#B6E880\",\"#FF97FF\",\"#FECB52\"],\"font\":{\"color\":\"#2a3f5f\"},\"geo\":{\"bgcolor\":\"white\",\"lakecolor\":\"white\",\"landcolor\":\"#E5ECF6\",\"showlakes\":true,\"showland\":true,\"subunitcolor\":\"white\"},\"hoverlabel\":{\"align\":\"left\"},\"hovermode\":\"closest\",\"mapbox\":{\"style\":\"light\"},\"paper_bgcolor\":\"white\",\"plot_bgcolor\":\"#E5ECF6\",\"polar\":{\"angularaxis\":{\"gridcolor\":\"white\",\"linecolor\":\"white\",\"ticks\":\"\"},\"bgcolor\":\"#E5ECF6\",\"radialaxis\":{\"gridcolor\":\"white\",\"linecolor\":\"white\",\"ticks\":\"\"}},\"scene\":{\"xaxis\":{\"backgroundcolor\":\"#E5ECF6\",\"gridcolor\":\"white\",\"gridwidth\":2,\"linecolor\":\"white\",\"showbackground\":true,\"ticks\":\"\",\"zerolinecolor\":\"white\"},\"yaxis\":{\"backgroundcolor\":\"#E5ECF6\",\"gridcolor\":\"white\",\"gridwidth\":2,\"linecolor\":\"white\",\"showbackground\":true,\"ticks\":\"\",\"zerolinecolor\":\"white\"},\"zaxis\":{\"backgroundcolor\":\"#E5ECF6\",\"gridcolor\":\"white\",\"gridwidth\":2,\"linecolor\":\"white\",\"showbackground\":true,\"ticks\":\"\",\"zerolinecolor\":\"white\"}},\"shapedefaults\":{\"line\":{\"color\":\"#2a3f5f\"}},\"ternary\":{\"aaxis\":{\"gridcolor\":\"white\",\"linecolor\":\"white\",\"ticks\":\"\"},\"baxis\":{\"gridcolor\":\"white\",\"linecolor\":\"white\",\"ticks\":\"\"},\"bgcolor\":\"#E5ECF6\",\"caxis\":{\"gridcolor\":\"white\",\"linecolor\":\"white\",\"ticks\":\"\"}},\"title\":{\"x\":0.05},\"xaxis\":{\"automargin\":true,\"gridcolor\":\"white\",\"linecolor\":\"white\",\"ticks\":\"\",\"title\":{\"standoff\":15},\"zerolinecolor\":\"white\",\"zerolinewidth\":2},\"yaxis\":{\"automargin\":true,\"gridcolor\":\"white\",\"linecolor\":\"white\",\"ticks\":\"\",\"title\":{\"standoff\":15},\"zerolinecolor\":\"white\",\"zerolinewidth\":2}}},\"transition\":{\"duration\":20},\"xaxis\":{\"showgrid\":false,\"showline\":false,\"showticklabels\":false},\"yaxis\":{\"showgrid\":false,\"showline\":false,\"showticklabels\":false}}}'"
      ]
     },
     "execution_count": 28,
     "metadata": {},
     "output_type": "execute_result"
    }
   ],
   "source": [
    "circuit_json"
   ]
  },
  {
   "cell_type": "code",
   "execution_count": 29,
   "metadata": {},
   "outputs": [
    {
     "data": {
      "text/plain": [
       "(Scatter({\n",
       "     'hoverinfo': 'text',\n",
       "     'marker': {'color': [rgba(255,0,0,.7), rgba(0,255,0,.7), rgba(0,0,255,.7)],\n",
       "                'line': {'color': 'rgb(50,50,50)', 'width': 0.5},\n",
       "                'opacity': 0.99,\n",
       "                'size': 8,\n",
       "                'symbol': 'square'},\n",
       "     'mode': 'markers',\n",
       "     'name': 'image channels',\n",
       "     'text': [r, g, b],\n",
       "     'x': [-5, -5, -5],\n",
       "     'y': [2, 0, -2]\n",
       " }),\n",
       " Scatter({\n",
       "     'customdata': array([[50.        , 50.        ,  1.        ],\n",
       "                          [56.        , 56.        ,  0.52650686],\n",
       "                          [38.        , 38.        ,  0.38963989],\n",
       "                          [47.        , 47.        ,  0.37564138],\n",
       "                          [28.        , 28.        ,  0.29904   ],\n",
       "                          [43.        , 43.        ,  0.29424985],\n",
       "                          [34.        , 34.        ,  0.29402772],\n",
       "                          [49.        , 49.        ,  0.27671341]]),\n",
       "     'hovertemplate': ('<b>%{customdata[0]}</b><br><i>' ... '</i>: %{customdata[2]:.3f}<br>'),\n",
       "     'marker': {'color': 'rgba(50,50,50,0)',\n",
       "                'line': {'color': 'rgba(50,50,50,0)', 'width': 0.5},\n",
       "                'opacity': 0,\n",
       "                'size': 6,\n",
       "                'symbol': 'circle'},\n",
       "     'mode': 'markers',\n",
       "     'name': 'features_0',\n",
       "     'text': [50, 56, 38, 47, 28, 43, 34, 49],\n",
       "     'x': [0, 0, 0, 0, 0, 0, 0, 0],\n",
       "     'y': [-3.5, -2.5, -1.5, -0.5, 0.5, 1.5, 2.5, 3.5]\n",
       " }),\n",
       " Scatter({\n",
       "     'customdata': array([[99., 35.,  1.]]),\n",
       "     'hovertemplate': ('<b>%{customdata[0]}</b><br><i>' ... '</i>: %{customdata[2]:.3f}<br>'),\n",
       "     'marker': {'color': 'rgba(50,50,50,0)',\n",
       "                'line': {'color': 'rgba(50,50,50,0)', 'width': 0.5},\n",
       "                'opacity': 0,\n",
       "                'size': 6,\n",
       "                'symbol': 'circle'},\n",
       "     'mode': 'markers',\n",
       "     'name': 'features_3',\n",
       "     'text': [99],\n",
       "     'x': [5],\n",
       "     'y': [0.0]\n",
       " }),\n",
       " Scatter({\n",
       "     'hoverinfo': 'text',\n",
       "     'legendgroup': 'edges 1',\n",
       "     'line': {'color': 'rgba(161,165,170,1)', 'width': 1.236209478547574},\n",
       "     'mode': 'lines',\n",
       "     'name': 'features_0',\n",
       "     'showlegend': False,\n",
       "     'text': 'g-28',\n",
       "     'x': [-5, -4.0, -3.0, -2.0, -1.0, 0],\n",
       "     'y': [0, 0.1, 0.2, 0.30000000000000004, 0.4, 0.5]\n",
       " }),\n",
       " Scatter({\n",
       "     'hoverinfo': 'text',\n",
       "     'legendgroup': 'edges 1',\n",
       "     'line': {'color': 'rgba(161,165,170,1)', 'width': 1.0987028825987177},\n",
       "     'mode': 'lines',\n",
       "     'name': 'features_0',\n",
       "     'showlegend': False,\n",
       "     'text': 'r-28',\n",
       "     'x': [-5, -4.0, -3.0, -2.0, -1.0, 0],\n",
       "     'y': [2, 1.7, 1.4, 1.1, 0.8, 0.5]\n",
       " }),\n",
       " Scatter({\n",
       "     'hoverinfo': 'text',\n",
       "     'legendgroup': 'edges 1',\n",
       "     'line': {'color': 'rgba(161,165,170,1)', 'width': 1.1987409144934482},\n",
       "     'mode': 'lines',\n",
       "     'name': 'features_0',\n",
       "     'showlegend': False,\n",
       "     'text': 'g-34',\n",
       "     'x': [-5, -4.0, -3.0, -2.0, -1.0, 0],\n",
       "     'y': [0, 0.5, 1.0, 1.5, 2.0, 2.5]\n",
       " }),\n",
       " Scatter({\n",
       "     'hoverinfo': 'text',\n",
       "     'legendgroup': 'edges 1',\n",
       "     'line': {'color': 'rgba(161,165,170,1)', 'width': 1.1590899682735678},\n",
       "     'mode': 'lines',\n",
       "     'name': 'features_0',\n",
       "     'showlegend': False,\n",
       "     'text': 'r-34',\n",
       "     'x': [-5, -4.0, -3.0, -2.0, -1.0, 0],\n",
       "     'y': [2, 2.1, 2.2, 2.3, 2.4, 2.5]\n",
       " }),\n",
       " Scatter({\n",
       "     'hoverinfo': 'text',\n",
       "     'legendgroup': 'edges 1',\n",
       "     'line': {'color': 'rgba(162,166,170,1)', 'width': 4.4816890703380645},\n",
       "     'mode': 'lines',\n",
       "     'name': 'features_0',\n",
       "     'showlegend': True,\n",
       "     'text': 'b-38',\n",
       "     'x': [-5, -4.0, -3.0, -2.0, -1.0, 0],\n",
       "     'y': [-2, -1.9, -1.8, -1.7, -1.6, -1.5]\n",
       " }),\n",
       " Scatter({\n",
       "     'hoverinfo': 'text',\n",
       "     'legendgroup': 'edges 1',\n",
       "     'line': {'color': 'rgba(160,165,170,1)', 'width': 2.5961354476660823},\n",
       "     'mode': 'lines',\n",
       "     'name': 'features_0',\n",
       "     'showlegend': False,\n",
       "     'text': 'r-38',\n",
       "     'x': [-5, -4.0, -3.0, -2.0, -1.0, 0],\n",
       "     'y': [2, 1.3, 0.6000000000000001, -0.09999999999999964, -0.7999999999999998,\n",
       "           -1.5]\n",
       " }),\n",
       " Scatter({\n",
       "     'hoverinfo': 'text',\n",
       "     'legendgroup': 'edges 1',\n",
       "     'line': {'color': 'rgba(161,165,170,1)', 'width': 1.285653946952783},\n",
       "     'mode': 'lines',\n",
       "     'name': 'features_0',\n",
       "     'showlegend': False,\n",
       "     'text': 'b-43',\n",
       "     'x': [-5, -4.0, -3.0, -2.0, -1.0, 0],\n",
       "     'y': [-2, -1.3, -0.6000000000000001, 0.09999999999999964, 0.7999999999999998,\n",
       "           1.5]\n",
       " }),\n",
       " Scatter({\n",
       "     'hoverinfo': 'text',\n",
       "     'legendgroup': 'edges 1',\n",
       "     'line': {'color': 'rgba(159,164,170,1)', 'width': 1.0},\n",
       "     'mode': 'lines',\n",
       "     'name': 'features_0',\n",
       "     'showlegend': False,\n",
       "     'text': 'g-43',\n",
       "     'x': [-5, -4.0, -3.0, -2.0, -1.0, 0],\n",
       "     'y': [0, 0.3, 0.6, 0.8999999999999999, 1.2, 1.5]\n",
       " }),\n",
       " Scatter({\n",
       "     'hoverinfo': 'text',\n",
       "     'legendgroup': 'edges 1',\n",
       "     'line': {'color': 'rgba(163,166,170,1)', 'width': 1.4116446805141034},\n",
       "     'mode': 'lines',\n",
       "     'name': 'features_0',\n",
       "     'showlegend': False,\n",
       "     'text': 'b-47',\n",
       "     'x': [-5, -4.0, -3.0, -2.0, -1.0, 0],\n",
       "     'y': [-2, -1.7, -1.4, -1.1, -0.8, -0.5]\n",
       " }),\n",
       " Scatter({\n",
       "     'hoverinfo': 'text',\n",
       "     'legendgroup': 'edges 1',\n",
       "     'line': {'color': 'rgba(157,163,170,1)', 'width': 1.1448423041328732},\n",
       "     'mode': 'lines',\n",
       "     'name': 'features_0',\n",
       "     'showlegend': False,\n",
       "     'text': 'g-47',\n",
       "     'x': [-5, -4.0, -3.0, -2.0, -1.0, 0],\n",
       "     'y': [0, -0.1, -0.2, -0.30000000000000004, -0.4, -0.5]\n",
       " }),\n",
       " Scatter({\n",
       "     'hoverinfo': 'text',\n",
       "     'legendgroup': 'edges 1',\n",
       "     'line': {'color': 'rgba(161,165,170,1)', 'width': 2.558345145949038},\n",
       "     'mode': 'lines',\n",
       "     'name': 'features_0',\n",
       "     'showlegend': False,\n",
       "     'text': 'r-49',\n",
       "     'x': [-5, -4.0, -3.0, -2.0, -1.0, 0],\n",
       "     'y': [2, 2.3, 2.6, 2.9, 3.2, 3.5]\n",
       " }),\n",
       " Scatter({\n",
       "     'hoverinfo': 'text',\n",
       "     'legendgroup': 'edges 1',\n",
       "     'line': {'color': 'rgba(161,165,170,1)', 'width': 2.3060749814948935},\n",
       "     'mode': 'lines',\n",
       "     'name': 'features_0',\n",
       "     'showlegend': False,\n",
       "     'text': 'b-49',\n",
       "     'x': [-5, -4.0, -3.0, -2.0, -1.0, 0],\n",
       "     'y': [-2, -0.8999999999999999, 0.20000000000000018, 1.3000000000000003,\n",
       "           2.4000000000000004, 3.5]\n",
       " }),\n",
       " Scatter({\n",
       "     'hoverinfo': 'text',\n",
       "     'legendgroup': 'edges 1',\n",
       "     'line': {'color': 'rgba(161,166,170,1)', 'width': 3.9402088290895163},\n",
       "     'mode': 'lines',\n",
       "     'name': 'features_0',\n",
       "     'showlegend': False,\n",
       "     'text': 'r-50',\n",
       "     'x': [-5, -4.0, -3.0, -2.0, -1.0, 0],\n",
       "     'y': [2, 0.8999999999999999, -0.20000000000000018, -1.3000000000000003,\n",
       "           -2.4000000000000004, -3.5]\n",
       " }),\n",
       " Scatter({\n",
       "     'hoverinfo': 'text',\n",
       "     'legendgroup': 'edges 1',\n",
       "     'line': {'color': 'rgba(160,165,170,1)', 'width': 2.8024838382071366},\n",
       "     'mode': 'lines',\n",
       "     'name': 'features_0',\n",
       "     'showlegend': False,\n",
       "     'text': 'g-50',\n",
       "     'x': [-5, -4.0, -3.0, -2.0, -1.0, 0],\n",
       "     'y': [0, -0.7, -1.4, -2.0999999999999996, -2.8, -3.5]\n",
       " }),\n",
       " Scatter({\n",
       "     'hoverinfo': 'text',\n",
       "     'legendgroup': 'edges 1',\n",
       "     'line': {'color': 'rgba(161,165,170,1)', 'width': 3.5120668172840643},\n",
       "     'mode': 'lines',\n",
       "     'name': 'features_0',\n",
       "     'showlegend': False,\n",
       "     'text': 'r-56',\n",
       "     'x': [-5, -4.0, -3.0, -2.0, -1.0, 0],\n",
       "     'y': [2, 1.1, 0.19999999999999996, -0.7000000000000002, -1.6, -2.5]\n",
       " }),\n",
       " Scatter({\n",
       "     'hoverinfo': 'text',\n",
       "     'legendgroup': 'edges 1',\n",
       "     'line': {'color': 'rgba(164,167,170,1)', 'width': 1.6566728339738033},\n",
       "     'mode': 'lines',\n",
       "     'name': 'features_0',\n",
       "     'showlegend': False,\n",
       "     'text': 'g-56',\n",
       "     'x': [-5, -4.0, -3.0, -2.0, -1.0, 0],\n",
       "     'y': [0, -0.5, -1.0, -1.5, -2.0, -2.5]\n",
       " }),\n",
       " Scatter({\n",
       "     'hoverinfo': 'text',\n",
       "     'legendgroup': 'edges 1',\n",
       "     'line': {'color': 'rgba(159,165,170,1)', 'width': 1.6228340006284157},\n",
       "     'mode': 'lines',\n",
       "     'name': 'features_0',\n",
       "     'showlegend': False,\n",
       "     'text': 'b-56',\n",
       "     'x': [-5, -4.0, -3.0, -2.0, -1.0, 0],\n",
       "     'y': [-2, -2.1, -2.2, -2.3, -2.4, -2.5]\n",
       " }),\n",
       " Scatter({\n",
       "     'hoverinfo': 'text',\n",
       "     'legendgroup': 'edges 2',\n",
       "     'line': {'color': 'rgba(190,32,47,1)', 'width': 4.4816890703380645},\n",
       "     'mode': 'lines',\n",
       "     'name': 'features_3',\n",
       "     'showlegend': True,\n",
       "     'text': '50-99',\n",
       "     'x': [0, 1.0, 2.0, 3.0, 4.0, 5],\n",
       "     'y': [-3.5, -2.8, -2.1, -1.4000000000000004, -0.7000000000000002, 0.0]\n",
       " }),\n",
       " Scatter({\n",
       "     'hoverinfo': 'text',\n",
       "     'legendgroup': 'edges 2',\n",
       "     'line': {'color': 'rgba(42,104,168,1)', 'width': 1.673993224765754},\n",
       "     'mode': 'lines',\n",
       "     'name': 'features_3',\n",
       "     'showlegend': False,\n",
       "     'text': '56-99',\n",
       "     'x': [0, 1.0, 2.0, 3.0, 4.0, 5],\n",
       "     'y': [-2.5, -2.0, -1.5, -1.0, -0.5, 0.0]\n",
       " }),\n",
       " Scatter({\n",
       "     'hoverinfo': 'text',\n",
       "     'legendgroup': 'edges 2',\n",
       "     'line': {'color': 'rgba(180,100,108,1)', 'width': 1.3112195804637294},\n",
       "     'mode': 'lines',\n",
       "     'name': 'features_3',\n",
       "     'showlegend': False,\n",
       "     'text': '47-99',\n",
       "     'x': [0, 1.0, 2.0, 3.0, 4.0, 5],\n",
       "     'y': [-0.5, -0.4, -0.3, -0.19999999999999996, -0.09999999999999998, 0.0]\n",
       " }),\n",
       " Scatter({\n",
       "     'hoverinfo': 'text',\n",
       "     'legendgroup': 'edges 2',\n",
       "     'line': {'color': 'rgba(55,111,169,1)', 'width': 1.2635359827759465},\n",
       "     'mode': 'lines',\n",
       "     'name': 'features_3',\n",
       "     'showlegend': False,\n",
       "     'text': '38-99',\n",
       "     'x': [0, 1.0, 2.0, 3.0, 4.0, 5],\n",
       "     'y': [-1.5, -1.2, -0.9, -0.6000000000000001, -0.30000000000000004, 0.0]\n",
       " }),\n",
       " Scatter({\n",
       "     'hoverinfo': 'text',\n",
       "     'legendgroup': 'edges 2',\n",
       "     'line': {'color': 'rgba(55,110,169,1)', 'width': 1.0425987689773017},\n",
       "     'mode': 'lines',\n",
       "     'name': 'features_3',\n",
       "     'showlegend': False,\n",
       "     'text': '28-99',\n",
       "     'x': [0, 1.0, 2.0, 3.0, 4.0, 5],\n",
       "     'y': [0.5, 0.4, 0.3, 0.19999999999999996, 0.09999999999999998, 0.0]\n",
       " }),\n",
       " Scatter({\n",
       "     'hoverinfo': 'text',\n",
       "     'legendgroup': 'edges 2',\n",
       "     'line': {'color': 'rgba(46,106,168,1)', 'width': 1.031425342262482},\n",
       "     'mode': 'lines',\n",
       "     'name': 'features_3',\n",
       "     'showlegend': False,\n",
       "     'text': '34-99',\n",
       "     'x': [0, 1.0, 2.0, 3.0, 4.0, 5],\n",
       "     'y': [2.5, 2.0, 1.5, 1.0, 0.5, 0.0]\n",
       " }),\n",
       " Scatter({\n",
       "     'hoverinfo': 'text',\n",
       "     'legendgroup': 'edges 2',\n",
       "     'line': {'color': 'rgba(34,99,168,1)', 'width': 1.0306728378907652},\n",
       "     'mode': 'lines',\n",
       "     'name': 'features_3',\n",
       "     'showlegend': False,\n",
       "     'text': '43-99',\n",
       "     'x': [0, 1.0, 2.0, 3.0, 4.0, 5],\n",
       "     'y': [1.5, 1.2, 0.9, 0.6000000000000001, 0.30000000000000004, 0.0]\n",
       " }),\n",
       " Scatter({\n",
       "     'hoverinfo': 'text',\n",
       "     'legendgroup': 'edges 2',\n",
       "     'line': {'color': 'rgba(54,110,169,1)', 'width': 1.0},\n",
       "     'mode': 'lines',\n",
       "     'name': 'features_3',\n",
       "     'showlegend': False,\n",
       "     'text': '49-99',\n",
       "     'x': [0, 1.0, 2.0, 3.0, 4.0, 5],\n",
       "     'y': [3.5, 2.8, 2.1, 1.4000000000000004, 0.7000000000000002, 0.0]\n",
       " }),\n",
       " Scatter({\n",
       "     'hoverinfo': 'skip',\n",
       "     'marker': {'color': 'rgba(255,255,255,0)',\n",
       "                'line': {'color': 'rgba(255,255,255,0)', 'width': 0.5},\n",
       "                'opacity': 0,\n",
       "                'size': 6,\n",
       "                'symbol': 'circle'},\n",
       "     'mode': 'markers',\n",
       "     'name': 'misc',\n",
       "     'showlegend': False,\n",
       "     'text': 'full',\n",
       "     'x': [-5.5],\n",
       "     'y': [-2.5]\n",
       " }))"
      ]
     },
     "execution_count": 29,
     "metadata": {},
     "output_type": "execute_result"
    }
   ],
   "source": [
    "circuit_fig['data']\n"
   ]
  },
  {
   "cell_type": "code",
   "execution_count": 30,
   "metadata": {},
   "outputs": [],
   "source": [
    "import dash\n",
    "import dash_core_components as dcc\n",
    "import dash_html_components as html\n",
    "import dash_daq as daq\n",
    "from dash.exceptions import PreventUpdate\n",
    "#import utils.dash_reusable_components as drc\n",
    "import flask\n",
    "import os\n",
    "\n",
    "import json\n",
    "\n",
    "from dash.dependencies import Input, Output, State\n",
    "\n",
    "from plotly.subplots import make_subplots\n",
    "\n",
    "from flask_caching import Cache\n",
    "\n",
    "\n",
    "\n",
    "#external_stylesheets = ['https://codepen.io/amyoshino/pen/jzXypZ.css']\n",
    "external_stylesheets = ['https://codepen.io/chriddyp/pen/bWLwgP.css']\n",
    "\n",
    "app = dash.Dash(external_stylesheets = external_stylesheets)\n",
    "\n",
    "\n",
    "styles = {\n",
    "    'pre': {\n",
    "        'border': 'thin lightgrey solid',\n",
    "        'overflowX': 'scroll'\n",
    "    }\n",
    "}\n",
    "\n",
    "\n",
    "theme =  {\n",
    "    'dark': True,\n",
    "    'detail': '#007439',\n",
    "    'primary': '#00EA64',\n",
    "    'secondary': '#6E6E6E',\n",
    "}\n",
    "\n",
    "\n",
    "\n",
    "\n",
    "state = {'select':False}\n",
    "\n",
    "app.layout = html.Div([\n",
    "        html.Div(\n",
    "            children = [\n",
    "                html.Label('Feature Size'),\n",
    "                dcc.Slider(\n",
    "                        id='feat_size',\n",
    "                        min=.1,\n",
    "                        max=3,\n",
    "                        step=0.0005,\n",
    "                        value = 1\n",
    "                    ),\n",
    "                html.Label('Kernel Size'),\n",
    "                dcc.Slider(\n",
    "                        id='kernel_size',\n",
    "                        min=.05,\n",
    "                        max=2,\n",
    "                        step=0.0005,\n",
    "                        value = .5\n",
    "                    )\n",
    "                ], className=\"three columns\",\n",
    "                ),\n",
    "                \n",
    "            html.Div([\n",
    "                dcc.Graph(\n",
    "                    id='fig',\n",
    "                    figure=circuit_fig\n",
    "                )\n",
    "                ], className= 'nine columns'\n",
    "                ),\n",
    "            dcc.Store(id='memory',data=state)\n",
    "            ], className=\"row\")\n",
    "\n",
    "\n",
    "\n",
    "\n",
    "#Network Graph Figure\n",
    "@app.callback(\n",
    "    Output('fig', 'figure'),\n",
    "    [Input('feat_size', 'value'),\n",
    "     Input('kernel_size','value'),\n",
    "     Input('fig', 'clickData')],\n",
    "    [State('fig','figure')])\n",
    "def update_figure(feat_size, kernel_size, clickData, fig):\n",
    "    print(clickData)\n",
    "    ctx = dash.callback_context\n",
    "    if not ctx.triggered:\n",
    "        raise Exception('no figure updates yet')\n",
    "    else:\n",
    "        trigger = ctx.triggered[0]['prop_id']\n",
    "    print(trigger)\n",
    "    \n",
    "    if trigger in ['feat_size.value','kernel_size.value']:\n",
    "        for i in range(len(fig['layout']['images'])):\n",
    "            if '-' not in fig['layout']['images'][i]['name']:\n",
    "                fig['layout']['images'][i]['sizex'] = feat_size\n",
    "                fig['layout']['images'][i]['sizey'] = feat_size\n",
    "            else:\n",
    "                fig['layout']['images'][i]['sizex'] = kernel_size\n",
    "                fig['layout']['images'][i]['sizey'] = kernel_size\n",
    "                \n",
    "    \n",
    "    #highlight graph\n",
    "    elif fig['data'][-1]['text'] == 'full':\n",
    "        \n",
    "        click_name = circuit2d_curve_2_id(clickData['points'][0]['curveNumber'],clickData['points'][0]['pointNumber'],subgraph_dict,params)\n",
    "        highlight = {'nodes':[],'edges':[]}\n",
    "        #edge clicked\n",
    "        if '-' in click_name:\n",
    "            highlight['edges'].append(click_name)\n",
    "            highlight['nodes'].append(click_name.split('-')[0])\n",
    "            highlight['nodes'].append(click_name.split('-')[1])\n",
    "        #node clicked\n",
    "        else:\n",
    "            highlight['nodes'].append(click_name)\n",
    "            layer,within_layer_id,layer_name = nodeid_2_perlayerid(click_name,params)\n",
    "            for row in subgraph_dict['edge_df'].itertuples():\n",
    "                if row.layer == layer and row.out_channel==within_layer_id:\n",
    "                    if row.layer != 0:\n",
    "                        in_node = params['layer_nodes'][row.layer-1][1][row.in_channel]\n",
    "                    else:\n",
    "                        in_node = params['imgnode_names'][row.in_channel]\n",
    "                    highlight['edges'].append(str(in_node)+'-'+str(click_name))\n",
    "                    highlight['nodes'].append(str(in_node))\n",
    "                if row.layer == int(layer)+1 and row.in_channel==int(within_layer_id):\n",
    "                    out_node = params['layer_nodes'][row.layer][1][row.out_channel]\n",
    "                    highlight['edges'].append(str(click_name)+'-'+str(out_node))\n",
    "                    highlight['nodes'].append(str(out_node))\n",
    "        #highlight from highlight dict\n",
    "        #print(highlight)\n",
    "        for i in range(len(fig['data'])-1):\n",
    "            if i == 0:\n",
    "                op = []\n",
    "                for c in ['r','g','b']:\n",
    "                    if c in highlight['nodes']:\n",
    "                        op.append(.99)\n",
    "                    else:\n",
    "                        op.append(.1)\n",
    "                fig['data'][i]['marker']['opacity'] = op\n",
    "            #if i <= len(subgraph_dict['node_df']['layer'].unique()):\n",
    "            #    op = []\n",
    "            #    for n in fig['data'][i]['text']:\n",
    "            #        if n in highlight['nodes']:\n",
    "            #            op.append(.99)\n",
    "            #        else:\n",
    "            #            op.append(.1)\n",
    "            elif i > len(subgraph_dict['node_df']['layer'].unique()):\n",
    "                old_color = fig['data'][i]['line']['color']\n",
    "                if fig['data'][i]['text'] in highlight['edges']:\n",
    "                    new_color = ','.join(old_color.split(',')[:-1])+',1)'  #makes opacity full\n",
    "                else:\n",
    "                    new_color = ','.join(old_color.split(',')[:-1])+',.1)'\n",
    "                fig['data'][i]['line']['color'] = new_color\n",
    "        for i in range(len(fig['layout']['images'])):\n",
    "            if fig['layout']['images'][i]['name'] in highlight['edges'] or fig['layout']['images'][i]['name'] in highlight['nodes']:\n",
    "                fig['layout']['images'][i]['visible'] = True\n",
    "            else:\n",
    "                fig['layout']['images'][i]['visible'] = False\n",
    "        fig['data'][-1]['text'] = 'partial'\n",
    "    #reset opacity\n",
    "    else:\n",
    "        print('resetting graph opacity')\n",
    "        for i in range(len(fig['data'])-1):\n",
    "            if i == 0:\n",
    "                fig['data'][i]['marker']['opacity'] = .99\n",
    "            elif i > len(subgraph_dict['node_df']['layer'].unique()):\n",
    "                old_color = fig['data'][i]['line']['color']\n",
    "                new_color = ','.join(old_color.split(',')[:-1])+',1)'  #makes opacity full\n",
    "                fig['data'][i]['line']['color'] = new_color\n",
    "        for i in range(len(fig['layout']['images'])):\n",
    "            fig['layout']['images'][i]['visible'] = True\n",
    "        fig['data'][-1]['text'] = 'full'\n",
    "    return fig"
   ]
  },
  {
   "cell_type": "code",
   "execution_count": null,
   "metadata": {},
   "outputs": [
    {
     "name": "stdout",
     "output_type": "stream",
     "text": [
      "Dash is running on http://127.0.0.1:8051/\n",
      "\n",
      "Dash is running on http://127.0.0.1:8051/\n",
      "\n",
      " * Serving Flask app '__main__' (lazy loading)\n",
      " * Environment: production\n",
      "\u001b[31m   WARNING: This is a development server. Do not use it in a production deployment.\u001b[0m\n",
      "\u001b[2m   Use a production WSGI server instead.\u001b[0m\n",
      " * Debug mode: off\n"
     ]
    },
    {
     "name": "stderr",
     "output_type": "stream",
     "text": [
      " * Running on http://127.0.0.1:8051/ (Press CTRL+C to quit)\n",
      "127.0.0.1 - - [07/Jul/2021 15:28:48] \"GET / HTTP/1.1\" 200 -\n",
      "127.0.0.1 - - [07/Jul/2021 15:28:48] \"GET /_dash-component-suites/dash_renderer/polyfill@7.v1_9_1m1617985068.8.7.min.js HTTP/1.1\" 200 -\n",
      "127.0.0.1 - - [07/Jul/2021 15:28:48] \"GET /_dash-component-suites/dash_renderer/prop-types@15.v1_9_1m1617985068.7.2.min.js HTTP/1.1\" 200 -\n",
      "127.0.0.1 - - [07/Jul/2021 15:28:48] \"GET /_dash-component-suites/dash_renderer/react@16.v1_9_1m1617985068.14.0.min.js HTTP/1.1\" 200 -\n",
      "127.0.0.1 - - [07/Jul/2021 15:28:48] \"GET /_dash-component-suites/dash_daq/dash_daq.v0_5_0m1596869724.min.js HTTP/1.1\" 200 -\n",
      "127.0.0.1 - - [07/Jul/2021 15:28:48] \"GET /_dash-component-suites/dash_renderer/react-dom@16.v1_9_1m1617985068.14.0.min.js HTTP/1.1\" 200 -\n",
      "127.0.0.1 - - [07/Jul/2021 15:28:48] \"GET /_dash-component-suites/dash_core_components/dash_core_components.v1_16_0m1617985098.min.js HTTP/1.1\" 200 -\n",
      "127.0.0.1 - - [07/Jul/2021 15:28:48] \"GET /_dash-component-suites/dash_core_components/dash_core_components-shared.v1_16_0m1617985098.js HTTP/1.1\" 200 -\n",
      "127.0.0.1 - - [07/Jul/2021 15:28:48] \"GET /_dash-component-suites/dash_html_components/dash_html_components.v1_1_3m1617985573.min.js HTTP/1.1\" 200 -\n",
      "127.0.0.1 - - [07/Jul/2021 15:28:48] \"GET /_dash-component-suites/dash_renderer/dash_renderer.v1_9_1m1617985068.min.js HTTP/1.1\" 200 -\n",
      "127.0.0.1 - - [07/Jul/2021 15:28:49] \"GET /_dash-layout HTTP/1.1\" 200 -\n",
      "127.0.0.1 - - [07/Jul/2021 15:28:49] \"GET /_dash-dependencies HTTP/1.1\" 200 -\n",
      "127.0.0.1 - - [07/Jul/2021 15:28:49] \"GET /_favicon.ico?v=1.20.0 HTTP/1.1\" 200 -\n"
     ]
    },
    {
     "name": "stdout",
     "output_type": "stream",
     "text": [
      "None\n",
      "Exception on /_dash-update-component [POST]\n",
      "Traceback (most recent call last):\n",
      "  File \"/home/chris/miniconda3/envs/viscnn/lib/python3.7/site-packages/flask/app.py\", line 2070, in wsgi_app\n",
      "    response = self.full_dispatch_request()\n",
      "  File \"/home/chris/miniconda3/envs/viscnn/lib/python3.7/site-packages/flask/app.py\", line 1515, in full_dispatch_request\n",
      "    rv = self.handle_user_exception(e)\n",
      "  File \"/home/chris/miniconda3/envs/viscnn/lib/python3.7/site-packages/flask/app.py\", line 1513, in full_dispatch_request\n",
      "    rv = self.dispatch_request()\n",
      "  File \"/home/chris/miniconda3/envs/viscnn/lib/python3.7/site-packages/flask/app.py\", line 1499, in dispatch_request\n",
      "    return self.ensure_sync(self.view_functions[rule.endpoint])(**req.view_args)\n",
      "  File \"/home/chris/miniconda3/envs/viscnn/lib/python3.7/site-packages/dash/dash.py\", line 1079, in dispatch\n",
      "    response.set_data(func(*args, outputs_list=outputs_list))\n",
      "  File \"/home/chris/miniconda3/envs/viscnn/lib/python3.7/site-packages/dash/dash.py\", line 1010, in add_context\n",
      "    output_value = func(*args, **kwargs)  # %% callback invoked %%\n",
      "  File \"<ipython-input-30-82f50da933b0>\", line 92, in update_figure\n",
      "    raise Exception('no figure updates yet')\n",
      "Exception: no figure updates yet\n",
      "Exception on /_dash-update-component [POST]\n",
      "Traceback (most recent call last):\n",
      "  File \"/home/chris/miniconda3/envs/viscnn/lib/python3.7/site-packages/flask/app.py\", line 2070, in wsgi_app\n",
      "    response = self.full_dispatch_request()\n",
      "  File \"/home/chris/miniconda3/envs/viscnn/lib/python3.7/site-packages/flask/app.py\", line 1515, in full_dispatch_request\n",
      "    rv = self.handle_user_exception(e)\n",
      "  File \"/home/chris/miniconda3/envs/viscnn/lib/python3.7/site-packages/flask/app.py\", line 1513, in full_dispatch_request\n",
      "    rv = self.dispatch_request()\n",
      "  File \"/home/chris/miniconda3/envs/viscnn/lib/python3.7/site-packages/flask/app.py\", line 1499, in dispatch_request\n",
      "    return self.ensure_sync(self.view_functions[rule.endpoint])(**req.view_args)\n",
      "  File \"/home/chris/miniconda3/envs/viscnn/lib/python3.7/site-packages/dash/dash.py\", line 1079, in dispatch\n",
      "    response.set_data(func(*args, outputs_list=outputs_list))\n",
      "  File \"/home/chris/miniconda3/envs/viscnn/lib/python3.7/site-packages/dash/dash.py\", line 1010, in add_context\n",
      "    output_value = func(*args, **kwargs)  # %% callback invoked %%\n",
      "  File \"<ipython-input-30-82f50da933b0>\", line 92, in update_figure\n",
      "    raise Exception('no figure updates yet')\n",
      "Exception: no figure updates yet\n"
     ]
    },
    {
     "name": "stderr",
     "output_type": "stream",
     "text": [
      "127.0.0.1 - - [07/Jul/2021 15:28:51] \"\u001b[35m\u001b[1mPOST /_dash-update-component HTTP/1.1\u001b[0m\" 500 -\n"
     ]
    }
   ],
   "source": [
    "app.run_server(port=8051)"
   ]
  },
  {
   "cell_type": "code",
   "execution_count": 40,
   "metadata": {},
   "outputs": [
    {
     "data": {
      "text/plain": [
       "(Scatter({\n",
       "     'hoverinfo': 'text',\n",
       "     'marker': {'color': [rgba(255,0,0,.7), rgba(0,255,0,.7), rgba(0,0,255,.7)],\n",
       "                'line': {'color': 'rgb(50,50,50)', 'width': 0.5},\n",
       "                'opacity': 0.99,\n",
       "                'size': 8,\n",
       "                'symbol': 'square'},\n",
       "     'mode': 'markers',\n",
       "     'name': 'image channels',\n",
       "     'text': [r, g, b],\n",
       "     'x': [-5, -5, -5],\n",
       "     'y': [2, 0, -2]\n",
       " }),\n",
       " Scatter({\n",
       "     'customdata': array([[50.        , 50.        ,  1.        ],\n",
       "                          [56.        , 56.        ,  0.52650686],\n",
       "                          [38.        , 38.        ,  0.38963989],\n",
       "                          [47.        , 47.        ,  0.37564138],\n",
       "                          [28.        , 28.        ,  0.29904   ],\n",
       "                          [43.        , 43.        ,  0.29424985],\n",
       "                          [34.        , 34.        ,  0.29402772],\n",
       "                          [49.        , 49.        ,  0.27671341]]),\n",
       "     'hovertemplate': ('<b>%{customdata[0]}</b><br><i>' ... '</i>: %{customdata[2]:.3f}<br>'),\n",
       "     'marker': {'color': 'rgba(50,50,50,0)',\n",
       "                'line': {'color': 'rgba(50,50,50,0)', 'width': 0.5},\n",
       "                'opacity': 0,\n",
       "                'size': 6,\n",
       "                'symbol': 'circle'},\n",
       "     'mode': 'markers',\n",
       "     'name': 'features_0',\n",
       "     'text': [50, 56, 38, 47, 28, 43, 34, 49],\n",
       "     'x': [0, 0, 0, 0, 0, 0, 0, 0],\n",
       "     'y': [-3.5, -2.5, -1.5, -0.5, 0.5, 1.5, 2.5, 3.5]\n",
       " }),\n",
       " Scatter({\n",
       "     'customdata': array([[99., 35.,  1.]]),\n",
       "     'hovertemplate': ('<b>%{customdata[0]}</b><br><i>' ... '</i>: %{customdata[2]:.3f}<br>'),\n",
       "     'marker': {'color': 'rgba(50,50,50,0)',\n",
       "                'line': {'color': 'rgba(50,50,50,0)', 'width': 0.5},\n",
       "                'opacity': 0,\n",
       "                'size': 6,\n",
       "                'symbol': 'circle'},\n",
       "     'mode': 'markers',\n",
       "     'name': 'features_3',\n",
       "     'text': [99],\n",
       "     'x': [5],\n",
       "     'y': [0.0]\n",
       " }),\n",
       " Scatter({\n",
       "     'hoverinfo': 'text',\n",
       "     'legendgroup': 'edges 1',\n",
       "     'line': {'color': 'rgba(161,165,170,1)', 'width': 1.236209478547574},\n",
       "     'mode': 'lines',\n",
       "     'name': 'features_0',\n",
       "     'showlegend': False,\n",
       "     'text': 'g-28',\n",
       "     'x': [-5, -4.0, -3.0, -2.0, -1.0, 0],\n",
       "     'y': [0, 0.1, 0.2, 0.30000000000000004, 0.4, 0.5]\n",
       " }),\n",
       " Scatter({\n",
       "     'hoverinfo': 'text',\n",
       "     'legendgroup': 'edges 1',\n",
       "     'line': {'color': 'rgba(161,165,170,1)', 'width': 1.0987028825987177},\n",
       "     'mode': 'lines',\n",
       "     'name': 'features_0',\n",
       "     'showlegend': False,\n",
       "     'text': 'r-28',\n",
       "     'x': [-5, -4.0, -3.0, -2.0, -1.0, 0],\n",
       "     'y': [2, 1.7, 1.4, 1.1, 0.8, 0.5]\n",
       " }),\n",
       " Scatter({\n",
       "     'hoverinfo': 'text',\n",
       "     'legendgroup': 'edges 1',\n",
       "     'line': {'color': 'rgba(161,165,170,1)', 'width': 1.1987409144934482},\n",
       "     'mode': 'lines',\n",
       "     'name': 'features_0',\n",
       "     'showlegend': False,\n",
       "     'text': 'g-34',\n",
       "     'x': [-5, -4.0, -3.0, -2.0, -1.0, 0],\n",
       "     'y': [0, 0.5, 1.0, 1.5, 2.0, 2.5]\n",
       " }),\n",
       " Scatter({\n",
       "     'hoverinfo': 'text',\n",
       "     'legendgroup': 'edges 1',\n",
       "     'line': {'color': 'rgba(161,165,170,1)', 'width': 1.1590899682735678},\n",
       "     'mode': 'lines',\n",
       "     'name': 'features_0',\n",
       "     'showlegend': False,\n",
       "     'text': 'r-34',\n",
       "     'x': [-5, -4.0, -3.0, -2.0, -1.0, 0],\n",
       "     'y': [2, 2.1, 2.2, 2.3, 2.4, 2.5]\n",
       " }),\n",
       " Scatter({\n",
       "     'hoverinfo': 'text',\n",
       "     'legendgroup': 'edges 1',\n",
       "     'line': {'color': 'rgba(162,166,170,1)', 'width': 4.4816890703380645},\n",
       "     'mode': 'lines',\n",
       "     'name': 'features_0',\n",
       "     'showlegend': True,\n",
       "     'text': 'b-38',\n",
       "     'x': [-5, -4.0, -3.0, -2.0, -1.0, 0],\n",
       "     'y': [-2, -1.9, -1.8, -1.7, -1.6, -1.5]\n",
       " }),\n",
       " Scatter({\n",
       "     'hoverinfo': 'text',\n",
       "     'legendgroup': 'edges 1',\n",
       "     'line': {'color': 'rgba(160,165,170,1)', 'width': 2.5961354476660823},\n",
       "     'mode': 'lines',\n",
       "     'name': 'features_0',\n",
       "     'showlegend': False,\n",
       "     'text': 'r-38',\n",
       "     'x': [-5, -4.0, -3.0, -2.0, -1.0, 0],\n",
       "     'y': [2, 1.3, 0.6000000000000001, -0.09999999999999964, -0.7999999999999998,\n",
       "           -1.5]\n",
       " }),\n",
       " Scatter({\n",
       "     'hoverinfo': 'text',\n",
       "     'legendgroup': 'edges 1',\n",
       "     'line': {'color': 'rgba(161,165,170,1)', 'width': 1.285653946952783},\n",
       "     'mode': 'lines',\n",
       "     'name': 'features_0',\n",
       "     'showlegend': False,\n",
       "     'text': 'b-43',\n",
       "     'x': [-5, -4.0, -3.0, -2.0, -1.0, 0],\n",
       "     'y': [-2, -1.3, -0.6000000000000001, 0.09999999999999964, 0.7999999999999998,\n",
       "           1.5]\n",
       " }),\n",
       " Scatter({\n",
       "     'hoverinfo': 'text',\n",
       "     'legendgroup': 'edges 1',\n",
       "     'line': {'color': 'rgba(159,164,170,1)', 'width': 1.0},\n",
       "     'mode': 'lines',\n",
       "     'name': 'features_0',\n",
       "     'showlegend': False,\n",
       "     'text': 'g-43',\n",
       "     'x': [-5, -4.0, -3.0, -2.0, -1.0, 0],\n",
       "     'y': [0, 0.3, 0.6, 0.8999999999999999, 1.2, 1.5]\n",
       " }),\n",
       " Scatter({\n",
       "     'hoverinfo': 'text',\n",
       "     'legendgroup': 'edges 1',\n",
       "     'line': {'color': 'rgba(163,166,170,1)', 'width': 1.4116446805141034},\n",
       "     'mode': 'lines',\n",
       "     'name': 'features_0',\n",
       "     'showlegend': False,\n",
       "     'text': 'b-47',\n",
       "     'x': [-5, -4.0, -3.0, -2.0, -1.0, 0],\n",
       "     'y': [-2, -1.7, -1.4, -1.1, -0.8, -0.5]\n",
       " }),\n",
       " Scatter({\n",
       "     'hoverinfo': 'text',\n",
       "     'legendgroup': 'edges 1',\n",
       "     'line': {'color': 'rgba(157,163,170,1)', 'width': 1.1448423041328732},\n",
       "     'mode': 'lines',\n",
       "     'name': 'features_0',\n",
       "     'showlegend': False,\n",
       "     'text': 'g-47',\n",
       "     'x': [-5, -4.0, -3.0, -2.0, -1.0, 0],\n",
       "     'y': [0, -0.1, -0.2, -0.30000000000000004, -0.4, -0.5]\n",
       " }),\n",
       " Scatter({\n",
       "     'hoverinfo': 'text',\n",
       "     'legendgroup': 'edges 1',\n",
       "     'line': {'color': 'rgba(161,165,170,1)', 'width': 2.558345145949038},\n",
       "     'mode': 'lines',\n",
       "     'name': 'features_0',\n",
       "     'showlegend': False,\n",
       "     'text': 'r-49',\n",
       "     'x': [-5, -4.0, -3.0, -2.0, -1.0, 0],\n",
       "     'y': [2, 2.3, 2.6, 2.9, 3.2, 3.5]\n",
       " }),\n",
       " Scatter({\n",
       "     'hoverinfo': 'text',\n",
       "     'legendgroup': 'edges 1',\n",
       "     'line': {'color': 'rgba(161,165,170,1)', 'width': 2.3060749814948935},\n",
       "     'mode': 'lines',\n",
       "     'name': 'features_0',\n",
       "     'showlegend': False,\n",
       "     'text': 'b-49',\n",
       "     'x': [-5, -4.0, -3.0, -2.0, -1.0, 0],\n",
       "     'y': [-2, -0.8999999999999999, 0.20000000000000018, 1.3000000000000003,\n",
       "           2.4000000000000004, 3.5]\n",
       " }),\n",
       " Scatter({\n",
       "     'hoverinfo': 'text',\n",
       "     'legendgroup': 'edges 1',\n",
       "     'line': {'color': 'rgba(161,166,170,1)', 'width': 3.9402088290895163},\n",
       "     'mode': 'lines',\n",
       "     'name': 'features_0',\n",
       "     'showlegend': False,\n",
       "     'text': 'r-50',\n",
       "     'x': [-5, -4.0, -3.0, -2.0, -1.0, 0],\n",
       "     'y': [2, 0.8999999999999999, -0.20000000000000018, -1.3000000000000003,\n",
       "           -2.4000000000000004, -3.5]\n",
       " }),\n",
       " Scatter({\n",
       "     'hoverinfo': 'text',\n",
       "     'legendgroup': 'edges 1',\n",
       "     'line': {'color': 'rgba(160,165,170,1)', 'width': 2.8024838382071366},\n",
       "     'mode': 'lines',\n",
       "     'name': 'features_0',\n",
       "     'showlegend': False,\n",
       "     'text': 'g-50',\n",
       "     'x': [-5, -4.0, -3.0, -2.0, -1.0, 0],\n",
       "     'y': [0, -0.7, -1.4, -2.0999999999999996, -2.8, -3.5]\n",
       " }),\n",
       " Scatter({\n",
       "     'hoverinfo': 'text',\n",
       "     'legendgroup': 'edges 1',\n",
       "     'line': {'color': 'rgba(161,165,170,1)', 'width': 3.5120668172840643},\n",
       "     'mode': 'lines',\n",
       "     'name': 'features_0',\n",
       "     'showlegend': False,\n",
       "     'text': 'r-56',\n",
       "     'x': [-5, -4.0, -3.0, -2.0, -1.0, 0],\n",
       "     'y': [2, 1.1, 0.19999999999999996, -0.7000000000000002, -1.6, -2.5]\n",
       " }),\n",
       " Scatter({\n",
       "     'hoverinfo': 'text',\n",
       "     'legendgroup': 'edges 1',\n",
       "     'line': {'color': 'rgba(164,167,170,1)', 'width': 1.6566728339738033},\n",
       "     'mode': 'lines',\n",
       "     'name': 'features_0',\n",
       "     'showlegend': False,\n",
       "     'text': 'g-56',\n",
       "     'x': [-5, -4.0, -3.0, -2.0, -1.0, 0],\n",
       "     'y': [0, -0.5, -1.0, -1.5, -2.0, -2.5]\n",
       " }),\n",
       " Scatter({\n",
       "     'hoverinfo': 'text',\n",
       "     'legendgroup': 'edges 1',\n",
       "     'line': {'color': 'rgba(159,165,170,1)', 'width': 1.6228340006284157},\n",
       "     'mode': 'lines',\n",
       "     'name': 'features_0',\n",
       "     'showlegend': False,\n",
       "     'text': 'b-56',\n",
       "     'x': [-5, -4.0, -3.0, -2.0, -1.0, 0],\n",
       "     'y': [-2, -2.1, -2.2, -2.3, -2.4, -2.5]\n",
       " }),\n",
       " Scatter({\n",
       "     'hoverinfo': 'text',\n",
       "     'legendgroup': 'edges 2',\n",
       "     'line': {'color': 'rgba(190,32,47,1)', 'width': 4.4816890703380645},\n",
       "     'mode': 'lines',\n",
       "     'name': 'features_3',\n",
       "     'showlegend': True,\n",
       "     'text': '50-99',\n",
       "     'x': [0, 1.0, 2.0, 3.0, 4.0, 5],\n",
       "     'y': [-3.5, -2.8, -2.1, -1.4000000000000004, -0.7000000000000002, 0.0]\n",
       " }),\n",
       " Scatter({\n",
       "     'hoverinfo': 'text',\n",
       "     'legendgroup': 'edges 2',\n",
       "     'line': {'color': 'rgba(42,104,168,1)', 'width': 1.673993224765754},\n",
       "     'mode': 'lines',\n",
       "     'name': 'features_3',\n",
       "     'showlegend': False,\n",
       "     'text': '56-99',\n",
       "     'x': [0, 1.0, 2.0, 3.0, 4.0, 5],\n",
       "     'y': [-2.5, -2.0, -1.5, -1.0, -0.5, 0.0]\n",
       " }),\n",
       " Scatter({\n",
       "     'hoverinfo': 'text',\n",
       "     'legendgroup': 'edges 2',\n",
       "     'line': {'color': 'rgba(180,100,108,1)', 'width': 1.3112195804637294},\n",
       "     'mode': 'lines',\n",
       "     'name': 'features_3',\n",
       "     'showlegend': False,\n",
       "     'text': '47-99',\n",
       "     'x': [0, 1.0, 2.0, 3.0, 4.0, 5],\n",
       "     'y': [-0.5, -0.4, -0.3, -0.19999999999999996, -0.09999999999999998, 0.0]\n",
       " }),\n",
       " Scatter({\n",
       "     'hoverinfo': 'text',\n",
       "     'legendgroup': 'edges 2',\n",
       "     'line': {'color': 'rgba(55,111,169,1)', 'width': 1.2635359827759465},\n",
       "     'mode': 'lines',\n",
       "     'name': 'features_3',\n",
       "     'showlegend': False,\n",
       "     'text': '38-99',\n",
       "     'x': [0, 1.0, 2.0, 3.0, 4.0, 5],\n",
       "     'y': [-1.5, -1.2, -0.9, -0.6000000000000001, -0.30000000000000004, 0.0]\n",
       " }),\n",
       " Scatter({\n",
       "     'hoverinfo': 'text',\n",
       "     'legendgroup': 'edges 2',\n",
       "     'line': {'color': 'rgba(55,110,169,1)', 'width': 1.0425987689773017},\n",
       "     'mode': 'lines',\n",
       "     'name': 'features_3',\n",
       "     'showlegend': False,\n",
       "     'text': '28-99',\n",
       "     'x': [0, 1.0, 2.0, 3.0, 4.0, 5],\n",
       "     'y': [0.5, 0.4, 0.3, 0.19999999999999996, 0.09999999999999998, 0.0]\n",
       " }),\n",
       " Scatter({\n",
       "     'hoverinfo': 'text',\n",
       "     'legendgroup': 'edges 2',\n",
       "     'line': {'color': 'rgba(46,106,168,1)', 'width': 1.031425342262482},\n",
       "     'mode': 'lines',\n",
       "     'name': 'features_3',\n",
       "     'showlegend': False,\n",
       "     'text': '34-99',\n",
       "     'x': [0, 1.0, 2.0, 3.0, 4.0, 5],\n",
       "     'y': [2.5, 2.0, 1.5, 1.0, 0.5, 0.0]\n",
       " }),\n",
       " Scatter({\n",
       "     'hoverinfo': 'text',\n",
       "     'legendgroup': 'edges 2',\n",
       "     'line': {'color': 'rgba(34,99,168,1)', 'width': 1.0306728378907652},\n",
       "     'mode': 'lines',\n",
       "     'name': 'features_3',\n",
       "     'showlegend': False,\n",
       "     'text': '43-99',\n",
       "     'x': [0, 1.0, 2.0, 3.0, 4.0, 5],\n",
       "     'y': [1.5, 1.2, 0.9, 0.6000000000000001, 0.30000000000000004, 0.0]\n",
       " }),\n",
       " Scatter({\n",
       "     'hoverinfo': 'text',\n",
       "     'legendgroup': 'edges 2',\n",
       "     'line': {'color': 'rgba(54,110,169,1)', 'width': 1.0},\n",
       "     'mode': 'lines',\n",
       "     'name': 'features_3',\n",
       "     'showlegend': False,\n",
       "     'text': '49-99',\n",
       "     'x': [0, 1.0, 2.0, 3.0, 4.0, 5],\n",
       "     'y': [3.5, 2.8, 2.1, 1.4000000000000004, 0.7000000000000002, 0.0]\n",
       " }))"
      ]
     },
     "execution_count": 40,
     "metadata": {},
     "output_type": "execute_result"
    }
   ],
   "source": [
    "circuit_fig['data']"
   ]
  },
  {
   "cell_type": "code",
   "execution_count": null,
   "metadata": {},
   "outputs": [],
   "source": []
  },
  {
   "cell_type": "code",
   "execution_count": 31,
   "metadata": {},
   "outputs": [
    {
     "data": {
      "text/plain": [
       "{0: {'nodes': [21, 37], 'xs': [0, 0], 'ys': [-0.5, 0.5]},\n",
       " 1: {'nodes': [75, 198, 244], 'xs': [5, 5, 5], 'ys': [-1.0, 0.0, 1.0]},\n",
       " 2: {'nodes': [435], 'xs': [10], 'ys': [0.0]}}"
      ]
     },
     "execution_count": 31,
     "metadata": {},
     "output_type": "execute_result"
    }
   ],
   "source": [
    "pos_dict"
   ]
  },
  {
   "cell_type": "code",
   "execution_count": 34,
   "metadata": {},
   "outputs": [
    {
     "data": {
      "text/plain": [
       "262"
      ]
     },
     "execution_count": 34,
     "metadata": {},
     "output_type": "execute_result"
    }
   ],
   "source": [
    "params['layer_nodes'][2][1][6]"
   ]
  },
  {
   "cell_type": "code",
   "execution_count": 47,
   "metadata": {},
   "outputs": [
    {
     "name": "stdout",
     "output_type": "stream",
     "text": [
      "edge_num\n",
      "layer_name\n",
      "layer\n",
      "out_channel\n",
      "in_channel\n",
      "act_rank\n",
      "grad_rank\n",
      "actxgrad_rank\n"
     ]
    }
   ],
   "source": [
    "for row in edge_df.loc[edge_df['layer']==layer]:\n",
    "    print(row)"
   ]
  },
  {
   "cell_type": "code",
   "execution_count": null,
   "metadata": {},
   "outputs": [],
   "source": [
    "def minmax_normalize_between_values(vec,min_v,max_v):\n",
    "    return (max_v-min_v)*(vec-np.min(vec))/(np.max(vec)-np.min(vec))+min_v\n",
    "\n",
    "\n",
    "subgraph_dict['edge_df']"
   ]
  }
 ],
 "metadata": {
  "kernelspec": {
   "display_name": "viscnn",
   "language": "python",
   "name": "viscnn"
  },
  "language_info": {
   "codemirror_mode": {
    "name": "ipython",
    "version": 3
   },
   "file_extension": ".py",
   "mimetype": "text/x-python",
   "name": "python",
   "nbconvert_exporter": "python",
   "pygments_lexer": "ipython3",
   "version": "3.7.10"
  }
 },
 "nbformat": 4,
 "nbformat_minor": 2
}
