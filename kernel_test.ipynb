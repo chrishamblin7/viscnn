{
 "cells": [
  {
   "cell_type": "code",
   "execution_count": 1,
   "metadata": {},
   "outputs": [
    {
     "data": {
      "text/html": [
       "        <script type=\"text/javascript\">\n",
       "        window.PlotlyConfig = {MathJaxConfig: 'local'};\n",
       "        if (window.MathJax) {MathJax.Hub.Config({SVG: {font: \"STIX-Web\"}});}\n",
       "        if (typeof require !== 'undefined') {\n",
       "        require.undef(\"plotly\");\n",
       "        requirejs.config({\n",
       "            paths: {\n",
       "                'plotly': ['https://cdn.plot.ly/plotly-latest.min']\n",
       "            }\n",
       "        });\n",
       "        require(['plotly'], function(Plotly) {\n",
       "            window._Plotly = Plotly;\n",
       "        });\n",
       "        }\n",
       "        </script>\n",
       "        "
      ]
     },
     "metadata": {},
     "output_type": "display_data"
    },
    {
     "name": "stdout",
     "output_type": "stream",
     "text": [
      "possible models to visualizer are:\n",
      "['mnist_resize', 'alexnet_old.tar.gz', 'mnist_old', '.keep', 'mnist', 'old', 'alexnet10', 'letter_mixed_not_trained', 'imagenet10_sparse', '.DS_Store', 'imagenet10', 'alexnet_lucent', 'mnist.tgz', 'alexnet', 'letter_mixed', 'googlenet10_test', '._.DS_Store', 'alexnet.tar.gz']\n",
      "\n",
      "You've chosen to visualize imagenet10_sparse\n"
     ]
    }
   ],
   "source": [
    "#fetch command line argument (prepped model)\n",
    "#%reset\n",
    "import sys\n",
    "import os\n",
    "from copy import deepcopy\n",
    "import pickle\n",
    "import torch\n",
    "import plotly.offline as py\n",
    "import plotly.graph_objs as go\n",
    "\n",
    "\n",
    "sys.path.insert(0, os.path.abspath('./prep_model_scripts/'))\n",
    "sys.path.insert(0, os.path.abspath('./visualizer_scripts/'))\n",
    "from visualizer_helper_functions import *\n",
    "from contrast_helper_functions import *\n",
    "from featureviz_helper_functions import *\n",
    "from receptive_field import *\n",
    "from dissected_Conv2d import *\n",
    "from copy import deepcopy\n",
    "\n",
    "\n",
    "py.init_notebook_mode(connected=True)   #jupyter notebook only\n",
    "\n",
    "prepped_model_folder = 'imagenet10_sparse'    #set this to a subfolder of prunned_models\n",
    "\n",
    "full_prepped_model_folder = os.path.abspath('prepped_models/%s'%prepped_model_folder)\n",
    "\n",
    "possible_models = os.listdir('prepped_models')\n",
    "print('possible models to visualizer are:')\n",
    "print(possible_models)\n",
    "\n",
    "print('\\nYou\\'ve chosen to visualize %s'%prepped_model_folder)\n",
    "\n",
    "\n",
    "sys.path.insert(0,'prepped_models/%s'%prepped_model_folder)\n",
    "\n",
    "import prep_model_params_used as prep_model_params\n",
    "\n",
    "params = {}\n",
    "params['prepped_model'] = prepped_model_folder\n",
    "params['prepped_model_path'] = full_prepped_model_folder"
   ]
  },
  {
   "cell_type": "code",
   "execution_count": 2,
   "metadata": {},
   "outputs": [],
   "source": [
    "#Parameters\n",
    "\n",
    "#Non-GUI parameters\n",
    "\n",
    "#deepviz\n",
    "params['deepviz_param'] = None\n",
    "params['deepviz_optim'] = None\n",
    "params['deepviz_transforms'] = None\n",
    "params['deepviz_image_size'] = prep_model_params.deepviz_image_size\n",
    "\n",
    "#backend\n",
    "params['cuda'] = prep_model_params.cuda    #use gpu acceleration when running model forward\n",
    "params['input_image_directory'] = prep_model_params.input_img_path+'/'   #path to directory of imput images you want fed through the network\n",
    "params['preprocess'] = prep_model_params.preprocess     #torchvision transfrom to pass input images through\n",
    "params['label_file_path'] = prep_model_params.label_file_path\n",
    "params['criterion'] = prep_model_params.criterion\n",
    "params['rank_img_path'] = prep_model_params.rank_img_path\n",
    "params['num_workers'] = prep_model_params.num_workers\n",
    "params['seed'] = prep_model_params.seed\n",
    "params['batch_size'] = prep_model_params.batch_size\n",
    "#params['dynamic_act_cache_num'] = 4  #max number of input image activations 'dynamic_activations' will have simultaneously\n",
    "\n",
    " \n",
    "#aesthetic \n",
    "\n",
    "params['node_size'] = 12\n",
    "params['edge_size'] = 1\n",
    "params['max_node_inputs'] = 10    #there is a dropdown showing the top weighted edge inputs to nodes, how many maps in dropdown?\n",
    "params['layer_colors'] = ['rgba(31,119,180,', \n",
    "                          'rgba(255,127,14,',\n",
    "                          'rgba(44,160,44,', \n",
    "                          'rgba(214,39,40,',\n",
    "                          'rgba(39, 208, 214,', \n",
    "                          'rgba(242, 250, 17,',\n",
    "                          'rgba(196, 94, 255,',\n",
    "                          'rgba(193, 245, 5,',\n",
    "                          'rgba(245, 85, 5,',\n",
    "                          'rgba(5, 165, 245,',\n",
    "                          'rgba(245, 5, 105,',\n",
    "                          'rgba(218, 232, 23,',\n",
    "                          'rgba(148, 23, 232,',\n",
    "                          'rgba(23, 232, 166,',]\n",
    "\n",
    "\n",
    "\n",
    "\n",
    "#GUI parameters initialization (these parameters can be set in the GUI, but what values should they be initialized to?)\n",
    "target_category = 'overall'     #category of images edges and nodes are weighted based on (which subgraph) \n",
    "rank_type = 'actxgrad'       #weighting criterion (actxgrad, act, grad, or weight)\n",
    "projection = 'MDS'           #how nodes within a layer are projected into the 2d plane (MDS or Grid)\n",
    "edge_threshold = [.7,1]     #what range do edge ranks need to be in to be visualized\n",
    "\n",
    "\n",
    "#### DONT EDIT BELOW initializations\n",
    "\n",
    "figure_init = go.Figure()\n",
    "figure_init.add_trace(go.Scatter(\n",
    "            x=[],\n",
    "            y=[]))\n",
    "figure_init.update_layout(xaxis=dict(visible=False),\n",
    "                  yaxis=dict(visible=False),\n",
    "                  annotations = [dict(text=\"No Inputs\",\n",
    "                                      xref=\"paper\",\n",
    "                                      yref=\"paper\",\n",
    "                                      showarrow=False,\n",
    "                                      font=dict(size=28))]\n",
    "                 )\n",
    "\n",
    "params['max_edge_weight'] = 1  #for the edge threshold slider, this dynamically adjusted its max value to max edge rank\n",
    "                     #before there were multiple rank criterions, which made things confusing\n",
    "                     #so well just fix it to 1 for now"
   ]
  },
  {
   "cell_type": "code",
   "execution_count": 3,
   "metadata": {},
   "outputs": [
    {
     "name": "stdout",
     "output_type": "stream",
     "text": [
      "loaded model:\n",
      "AlexNet(\n",
      "  (features): Sequential(\n",
      "    (0): Conv2d(3, 64, kernel_size=(11, 11), stride=(4, 4), padding=(2, 2))\n",
      "    (1): ReLU(inplace=True)\n",
      "    (2): MaxPool2d(kernel_size=3, stride=2, padding=0, dilation=1, ceil_mode=False)\n",
      "    (3): Conv2d(64, 192, kernel_size=(5, 5), stride=(1, 1), padding=(2, 2))\n",
      "    (4): ReLU(inplace=True)\n",
      "    (5): MaxPool2d(kernel_size=3, stride=2, padding=0, dilation=1, ceil_mode=False)\n",
      "    (6): Conv2d(192, 384, kernel_size=(3, 3), stride=(1, 1), padding=(1, 1))\n",
      "    (7): ReLU(inplace=True)\n",
      "    (8): Conv2d(384, 256, kernel_size=(3, 3), stride=(1, 1), padding=(1, 1))\n",
      "    (9): ReLU(inplace=True)\n",
      "    (10): Conv2d(256, 256, kernel_size=(3, 3), stride=(1, 1), padding=(1, 1))\n",
      "    (11): ReLU(inplace=True)\n",
      "    (12): MaxPool2d(kernel_size=3, stride=2, padding=0, dilation=1, ceil_mode=False)\n",
      "  )\n",
      "  (avgpool): AdaptiveAvgPool2d(output_size=(6, 6))\n",
      "  (classifier): Sequential(\n",
      "    (0): Dropout(p=0.5, inplace=False)\n",
      "    (1): Linear(in_features=9216, out_features=4096, bias=True)\n",
      "    (2): ReLU(inplace=True)\n",
      "    (3): Dropout(p=0.5, inplace=False)\n",
      "    (4): Linear(in_features=4096, out_features=4096, bias=True)\n",
      "    (5): ReLU(inplace=True)\n",
      "    (6): Linear(in_features=4096, out_features=10, bias=True)\n",
      "  )\n",
      ")\n"
     ]
    }
   ],
   "source": [
    "#load Model\n",
    "\n",
    "model_dis = dissect_model(deepcopy(prep_model_params.model),store_ranks=True,clear_ranks=True,cuda=params['cuda']) #version of model with accessible preadd activations in Conv2d modules \n",
    "if params['cuda']:\n",
    "    model_dis.cuda()\n",
    "model_dis = model_dis.eval()    \n",
    "\n",
    "print('loaded model:')\n",
    "print(prep_model_params.model)\n",
    "        \n",
    "#del prep_model_params.model\n",
    "model = prep_model_params.model\n",
    "if params['cuda']:\n",
    "    model.cuda()\n",
    "model = model.eval()\n"
   ]
  },
  {
   "cell_type": "code",
   "execution_count": 4,
   "metadata": {},
   "outputs": [
    {
     "name": "stdout",
     "output_type": "stream",
     "text": [
      "loading misc graph data\n",
      "model has categories:\n",
      "['overall', 'English_springer', 'French_horn', 'cassette_player', 'chain_saw', 'church', 'garbage_truck', 'gas_pump', 'golf_ball', 'parachute', 'tench']\n"
     ]
    }
   ],
   "source": [
    "#load misc graph data\n",
    "print('loading misc graph data')\n",
    "misc_data = pickle.load(open('./prepped_models/%s/misc_graph_data.pkl'%prepped_model_folder,'rb'))\n",
    "params['layer_nodes'] = misc_data['layer_nodes']\n",
    "params['num_layers'] = misc_data['num_layers']\n",
    "params['num_nodes'] = misc_data['num_nodes']\n",
    "params['categories'] = misc_data['categories']\n",
    "params['num_img_chan'] = misc_data['num_img_chan']\n",
    "params['imgnode_positions'] = misc_data['imgnode_positions']\n",
    "params['imgnode_colors'] = misc_data['imgnode_colors']\n",
    "params['imgnode_names'] = misc_data['imgnode_names']\n",
    "params['prepped_model_path'] = full_prepped_model_folder\n",
    "params['ranks_data_path'] = full_prepped_model_folder+'/ranks/'\n",
    "\n",
    "\n",
    "print('model has categories:')\n",
    "print(params['categories'])"
   ]
  },
  {
   "cell_type": "code",
   "execution_count": 5,
   "metadata": {},
   "outputs": [
    {
     "name": "stdout",
     "output_type": "stream",
     "text": [
      "loading nodes rank data\n"
     ]
    },
    {
     "name": "stderr",
     "output_type": "stream",
     "text": [
      "/mnt/data/chris/dropbox/Research-Hamblin/Projects/cnn_subgraph_visualizer/visualizer_scripts/visualizer_helper_functions.py:146: SettingWithCopyWarning:\n",
      "\n",
      "\n",
      "A value is trying to be set on a copy of a slice from a DataFrame.\n",
      "Try using .loc[row_indexer,col_indexer] = value instead\n",
      "\n",
      "See the caveats in the documentation: https://pandas.pydata.org/pandas-docs/stable/user_guide/indexing.html#returning-a-view-versus-a-copy\n",
      "\n"
     ]
    },
    {
     "name": "stdout",
     "output_type": "stream",
     "text": [
      "loading node position data\n"
     ]
    }
   ],
   "source": [
    "#load nodes df\n",
    "print('loading nodes rank data')\n",
    "target_node = 'loss'\n",
    "\n",
    "categories_nodes_df = pd.read_csv('prepped_models/%s/ranks/categories_nodes_ranks.csv'%prepped_model_folder)\n",
    "target_nodes_df = categories_nodes_df.loc[categories_nodes_df['category']==target_category]\n",
    "\n",
    "target_nodes_df = minmax_normalize_ranks_df(target_nodes_df,params,weight=False)\n",
    "\n",
    "weight_nodes_df = pd.read_csv('prepped_models/%s/ranks/weight_nodes_ranks.csv'%prepped_model_folder)\n",
    "\n",
    "weight_nodes_df = minmax_normalize_ranks_df(weight_nodes_df,params,weight=True)\n",
    "\n",
    "node_colors,node_weights = gen_node_colors(target_nodes_df,rank_type,params) \n",
    "\n",
    "#load node positions\n",
    "print('loading node position data')\n",
    "all_node_positions = pickle.load(open('./prepped_models/%s/node_positions.pkl'%prepped_model_folder,'rb'))\n",
    "\n",
    "if projection == 'MDS':\n",
    "    node_positions = all_node_positions[projection][rank_type]\n",
    "else:\n",
    "    node_positions = all_node_positions[projection]\n",
    "\n"
   ]
  },
  {
   "cell_type": "code",
   "execution_count": 6,
   "metadata": {},
   "outputs": [
    {
     "name": "stdout",
     "output_type": "stream",
     "text": [
      "[64, 65, 66, 67, 68, 69, 70, 71, 72, 73, 74, 75, 76, 77, 78, 79, 80, 81, 82, 83, 84, 85, 86, 87, 88, 89, 90, 91, 92, 93, 94, 95, 96, 97, 98, 99, 100, 101, 102, 103, 104, 105, 106, 107, 108, 109, 110, 111, 112, 113, 114, 115, 116, 117, 118, 119, 120, 121, 122, 123, 124, 125, 126, 127, 128, 129, 130, 131, 132, 133, 134, 135, 136, 137, 138, 139, 140, 141, 142, 143, 144, 145, 146, 147, 148, 149, 150, 151, 152, 153, 154, 155, 156, 157, 158, 159, 160, 161, 162, 163, 164, 165, 166, 167, 168, 169, 170, 171, 172, 173, 174, 175, 176, 177, 178, 179, 180, 181, 182, 183, 184, 185, 186, 187, 188, 189, 190, 191, 192, 193, 194, 195, 196, 197, 198, 199, 200, 201, 202, 203, 204, 205, 206, 207, 208, 209, 210, 211, 212, 213, 214, 215, 216, 217, 218, 219, 220, 221, 222, 223, 224, 225, 226, 227, 228, 229, 230, 231, 232, 233, 234, 235, 236, 237, 238, 239, 240, 241, 242, 243, 244, 245, 246, 247, 248, 249, 250, 251, 252, 253, 254, 255]\n"
     ]
    }
   ],
   "source": [
    "len(params['layer_nodes'][0][1])\n",
    "params['imgnode_names']\n",
    "print(params['layer_nodes'][1][1])"
   ]
  },
  {
   "cell_type": "code",
   "execution_count": 7,
   "metadata": {},
   "outputs": [
    {
     "name": "stdout",
     "output_type": "stream",
     "text": [
      "loading edge data\n"
     ]
    }
   ],
   "source": [
    "#load edges\n",
    "print('loading edge data')\n",
    "\n",
    "categories_edges_df = None\n",
    "if os.path.exists('prepped_models/%s/edge_ranks.csv'%prepped_model_folder):\n",
    "    categories_edges_df = pd.read_csv('prepped_models/%s/ranks/categories_edges_ranks.csv'%prepped_model_folder)   #load edges\n",
    "\n",
    "if categories_edges_df is not None:\n",
    "    #overall_edges_df = categories_edges_df.loc[categories_edges_df['category']=='overall']\n",
    "    target_edges_df = categories_edges_df.loc[categories_edges_df['category']==target_category]\n",
    "else:\n",
    "    #overall_edges_df = rank_file_2_df(os.path.join(params['ranks_data_path'],'categories_edges','overall_edges_rank.pt'))\n",
    "    target_edges_df = rank_file_2_df(os.path.join(params['ranks_data_path'],'categories_edges','%s_edges_rank.pt'%target_category))\n",
    "\n",
    "target_edges_df = minmax_normalize_ranks_df(target_edges_df,params,weight=False)\n",
    "\n",
    "weight_edges_df = pd.read_csv('prepped_models/%s/ranks/weight_edges_ranks.csv'%prepped_model_folder)\n",
    "  \n",
    "weight_edges_df = minmax_normalize_ranks_df(weight_edges_df,params,weight=True)    \n",
    "    \n",
    "edges_thresholded_df = get_thresholded_edges(edge_threshold,rank_type,target_edges_df,target_category)\n",
    " \n",
    "    \n",
    "num_edges = len(target_edges_df)\n",
    "edges_df_columns = list(target_edges_df.columns)\n",
    "\n",
    "edge_positions, edge_colors, edge_widths, edge_weights, edge_names, max_edge_width_indices = gen_edge_graphdata(edges_thresholded_df, node_positions, rank_type, target_category,params)"
   ]
  },
  {
   "cell_type": "code",
   "execution_count": 8,
   "metadata": {},
   "outputs": [
    {
     "name": "stdout",
     "output_type": "stream",
     "text": [
      "loading convolutional kernels\n"
     ]
    }
   ],
   "source": [
    "#Load Edge Kernels\n",
    "print('loading convolutional kernels')\n",
    "kernels = torch.load('prepped_models/%s/kernels.pt'%prepped_model_folder)"
   ]
  },
  {
   "cell_type": "code",
   "execution_count": 9,
   "metadata": {},
   "outputs": [],
   "source": [
    "#Input Image names\n",
    "params['input_image_directory'] = prep_model_params.input_img_path+'/'\n",
    "params['input_image_list'] = os.listdir(params['input_image_directory'])\n",
    "params['input_image_list'].sort()\n",
    "input_image_name = params['input_image_list'][0]"
   ]
  },
  {
   "cell_type": "code",
   "execution_count": 10,
   "metadata": {},
   "outputs": [],
   "source": [
    "receptive_fields = None\n",
    "if os.path.exists('prepped_models/%s/receptive_fields.pkl'%prepped_model_folder):\n",
    "    receptive_fields = pickle.load(open('prepped_models/%s/receptive_fields.pkl'%prepped_model_folder,'rb'))\n",
    "    \n",
    "input_image_size = 224   #got to figure out a way not to hard-code this\n",
    "receptive_fields"
   ]
  },
  {
   "cell_type": "code",
   "execution_count": 11,
   "metadata": {},
   "outputs": [
    {
     "name": "stdout",
     "output_type": "stream",
     "text": [
      "loading activation maps\n"
     ]
    }
   ],
   "source": [
    "#Format Node Feature Maps\n",
    "print('loading activation maps')\n",
    "\n",
    "all_activations = {'nodes':{},'edges_in':{},'edges_out':{}}\n",
    "if os.path.exists('prepped_models/%s/input_img_activations.pt'%prepped_model_folder):\n",
    "    all_activations = torch.load('prepped_models/%s/input_img_activations.pt'%prepped_model_folder)\n"
   ]
  },
  {
   "cell_type": "code",
   "execution_count": 12,
   "metadata": {},
   "outputs": [],
   "source": [
    "#hidden state, stores python values within the html itself\n",
    "state = {'projection':projection,'rank_type':rank_type,'edge_positions':edge_positions,'edge_colors': edge_colors, 'edge_widths':edge_widths,'edge_names':edge_names,\n",
    "         'edge_threshold':edge_threshold,'edge_weights':edge_weights,'max_edge_width_indices':max_edge_width_indices,\n",
    "         'node_positions':node_positions,'node_colors':node_colors,'node_weights':node_weights,'target_category':target_category,'target_node':'loss',\n",
    "         'node_select_history':['0'],'edge_select_history':[edge_names[0][0]],'last_trigger':None,'input_image_name':input_image_name,\n",
    "         'imgnode_positions':params['imgnode_positions'],'imgnode_colors':params['imgnode_colors'],'imgnode_names':params['imgnode_names']}\n"
   ]
  },
  {
   "cell_type": "code",
   "execution_count": 13,
   "metadata": {},
   "outputs": [],
   "source": [
    "#App Component Layouts\n",
    "axis=dict(showbackground=False,\n",
    "          showspikes=False,\n",
    "          showline=False,\n",
    "          zeroline=False,\n",
    "          showgrid=False,\n",
    "          showticklabels=False,\n",
    "          #range=[0,0],\n",
    "          title=''\n",
    "          )\n",
    "\n",
    "camera = dict(\n",
    "    up=dict(x=0, y=0, z=1),\n",
    "    center=dict(x=0, y=0, z=0),\n",
    "    eye=dict(x=-1.00, y=-1.25, z=1.25)\n",
    ")\n",
    "\n",
    "\n",
    "network_graph_layout = go.Layout(\n",
    "         #title=\"%s through Prunned Cifar10 CNN\"%target_category,\n",
    "         #title = target_category,\n",
    "         #width=1000,\n",
    "         clickmode = 'event+select',\n",
    "         transition = {'duration': 20},\n",
    "         height=500,\n",
    "         #showlegend=False,\n",
    "         margin = dict(l=20, r=20, t=20, b=20),\n",
    "         scene=dict(\n",
    "             xaxis=dict(axis),\n",
    "             yaxis=dict(axis),\n",
    "             zaxis=dict(axis),\n",
    "             aspectmode =\"manual\", \n",
    "             aspectratio = dict(x=1, y=0.5, z=0.5) #adjusting this stretches the network layer-to-layer\n",
    "         ),\n",
    "         scene_camera = camera,\n",
    "         uirevision =  True   \n",
    "         #hovermode='closest',\n",
    "   )\n",
    "\n",
    "\n",
    "input_image_layout = go.Layout(#width=200, \n",
    "                      #height=200,\n",
    "                      uirevision = True,\n",
    "                      margin=dict(\n",
    "                        l=12,\n",
    "                        r=1,\n",
    "                        b=12,\n",
    "                        t=1,\n",
    "                        pad=10\n",
    "                        ),\n",
    "                        paper_bgcolor='rgba(0,0,0,0)',\n",
    "                        plot_bgcolor='rgba(0,0,0,0)',\n",
    "                        xaxis=dict(range=(0,10),showline=False,showgrid=False,showticklabels=False),\n",
    "                        yaxis=dict(range=(0,10),showline=False,showgrid=False,showticklabels=False))\n",
    "\n",
    "\n",
    "node_actmap_layout = go.Layout(\n",
    "    #autosize=False,\n",
    "    #width=270,\n",
    "    #height=200,\n",
    "    uirevision = True,\n",
    "    margin=dict(\n",
    "        l=1,\n",
    "        r=1,\n",
    "        b=1,\n",
    "        t=1,\n",
    "        pad=1\n",
    "    ))\n",
    "\n",
    "\n",
    "edge_inmap_layout = go.Layout(\n",
    "    #title = 'edge input map',\n",
    "    #autosize=False,\n",
    "    #width=270,\n",
    "    #height=200,\n",
    "    uirevision = True,\n",
    "    margin=dict(\n",
    "        l=1,\n",
    "        r=1,\n",
    "        b=1,\n",
    "        t=10,\n",
    "        pad=1\n",
    "    ))\n",
    "\n",
    "\n",
    "edge_outmap_layout = go.Layout(\n",
    "    #title = 'edge output map',\n",
    "    #autosize=False,\n",
    "    #width=270,\n",
    "    #height=200,\n",
    "    uirevision = True,\n",
    "    margin=dict(\n",
    "        l=1,\n",
    "        r=1,\n",
    "        b=1,\n",
    "        t=10,\n",
    "        pad=1\n",
    "    ))\n",
    "\n",
    "\n",
    "kernel_layout = go.Layout(\n",
    "    #title='kernel'\n",
    "    #autosize=False,\n",
    "    #width=180,\n",
    "    #height=120,\n",
    "    uirevision = True,\n",
    "    margin=dict(\n",
    "        l=1,\n",
    "        r=1,\n",
    "        b=1,\n",
    "        t=1,\n",
    "        pad=1\n",
    "    ))\n"
   ]
  },
  {
   "cell_type": "code",
   "execution_count": 14,
   "metadata": {},
   "outputs": [
    {
     "name": "stdout",
     "output_type": "stream",
     "text": [
      "building graph from browser \"state\"\n"
     ]
    }
   ],
   "source": [
    "#Generate Network Graph\n",
    "combined_traces = gen_networkgraph_traces(state,params)\n",
    "network_graph_fig=go.Figure(data=combined_traces, layout=network_graph_layout)"
   ]
  },
  {
   "cell_type": "code",
   "execution_count": 15,
   "metadata": {},
   "outputs": [
    {
     "name": "stdout",
     "output_type": "stream",
     "text": [
      "setting up dash app\n"
     ]
    }
   ],
   "source": [
    "#Dash App Setup\n",
    "print('setting up dash app')\n",
    "\n",
    "import dash\n",
    "import dash_core_components as dcc\n",
    "import dash_html_components as html\n",
    "from dash.exceptions import PreventUpdate\n",
    "#import utils.dash_reusable_components as drc\n",
    "import flask\n",
    "import os\n",
    "\n",
    "import json\n",
    "\n",
    "from dash.dependencies import Input, Output, State\n",
    "\n",
    "from plotly.subplots import make_subplots\n",
    "\n",
    "from flask_caching import Cache\n",
    "\n",
    "#external_stylesheets = ['https://codepen.io/amyoshino/pen/jzXypZ.css']\n",
    "external_stylesheets = ['https://codepen.io/chriddyp/pen/bWLwgP.css']\n",
    "\n",
    "app = dash.Dash(external_stylesheets = external_stylesheets)\n",
    "\n",
    "\n",
    "\n",
    "if not os.path.exists(full_prepped_model_folder+'/cache/'):\n",
    "    os.mkdir(full_prepped_model_folder+'/cache/')\n",
    "CACHE_CONFIG = {\n",
    "    # try 'filesystem' if you don't want to setup redis\n",
    "    'CACHE_TYPE': 'filesystem',\n",
    "    'CACHE_DIR': full_prepped_model_folder+'/cache/'}\n",
    "cache = Cache()\n",
    "cache.init_app(app.server, config=CACHE_CONFIG)\n",
    "    \n",
    "\n",
    "\n",
    "styles = {\n",
    "    'pre': {\n",
    "        'border': 'thin lightgrey solid',\n",
    "        'overflowX': 'scroll'\n",
    "    }\n",
    "}\n",
    "\n",
    "\n",
    "theme =  {\n",
    "    'dark': True,\n",
    "    'detail': '#007439',\n",
    "    'primary': '#00EA64',\n",
    "    'secondary': '#6E6E6E',\n",
    "}\n",
    "\n",
    "\n",
    "app.layout = html.Div([\n",
    "        html.Div(\n",
    "            children = [\n",
    "                \n",
    "            html.Div(\n",
    "                #Left side control panel\n",
    "                children = [\n",
    "                 html.Label('Input'),\n",
    "                 #dcc.Dropdown(\n",
    "                 #  id='weight-category',\n",
    "                 #  options=[{'label': i, 'value': i} for i in params['categories']],\n",
    "                 #   value=target_category\n",
    "                 #   ),\n",
    "                dcc.Input(id='input-category',value=state['target_category']),\n",
    "                html.Br(),\n",
    "                html.Br(),\n",
    "                html.Label('Output'),\n",
    "                 #dcc.Dropdown(\n",
    "                 #  id='weight-category',\n",
    "                 #  options=[{'label': i, 'value': i} for i in params['categories']],\n",
    "                 #   value=target_category\n",
    "                 #   ),\n",
    "                dcc.Dropdown(\n",
    "                    id='target-node',\n",
    "                    options=[\n",
    "                    {'label': i, 'value': i} for i in ['loss']+[str(node) for node in list(range(params['num_nodes']))]\n",
    "                    ],\n",
    "                    value=state['target_node']),\n",
    "                 html.Br(),\n",
    "                 html.Label('Subgraph Criterion'),\n",
    "                 dcc.Dropdown(\n",
    "                    id='subgraph-criterion',\n",
    "                    options=[\n",
    "                        {'label': 'Activations*Grads', 'value': 'actxgrad'},\n",
    "                        {'label': 'Activations', 'value': 'act'},\n",
    "                        {'label': 'Gradients', 'value': 'grad'},\n",
    "                        {'label': 'Weights', 'value': 'weight'}\n",
    "                    ],\n",
    "                    value='actxgrad'\n",
    "                    ),\n",
    "                 html.Br(),   \n",
    "                 html.Label('Layer Projection'),\n",
    "                 dcc.Dropdown(\n",
    "                    id = 'layer-projection',\n",
    "                    options=[\n",
    "                        {'label': 'MDS', 'value': 'MDS'},\n",
    "                        {'label': 'Grid', 'value': 'Grid'},\n",
    "                        #{'label': 'SOM', 'value': 'SOM'}\n",
    "                    ],\n",
    "                    value='MDS'\n",
    "                    ),\n",
    "\n",
    "                html.Br(),\n",
    "                html.Label('Edge Thresholds'),\n",
    "                    dcc.RangeSlider(\n",
    "                        id='edge-thresh-slider',\n",
    "                        min=0,\n",
    "                        max=np.ceil(params['max_edge_weight']*10)/10,\n",
    "                        step=0.001,\n",
    "                        marks={i/10: str(i/10) for i in range(0,int(np.ceil(params['max_edge_weight']*10))+1,int(round(np.ceil(params['max_edge_weight']*10)/5)))},\n",
    "                        value=[.7,np.ceil(params['max_edge_weight']*10)/10],\n",
    "                    ),\n",
    "\n",
    "                ], className=\"two columns\",\n",
    "                ),\n",
    "                \n",
    "            html.Div([\n",
    "                dcc.Graph(\n",
    "                    id='network-graph',\n",
    "                    figure=network_graph_fig\n",
    "                )\n",
    "                ], className= 'ten columns'\n",
    "                ),\n",
    "            ], className=\"row\"\n",
    "        ),\n",
    "\n",
    "\n",
    "                \n",
    "        html.Div([\n",
    "            html.Div([\n",
    "            html.Label('Input Image'),\n",
    "            dcc.Dropdown(id=\"dynamic-input-image-dropdown\",value=params['input_image_list'][0]),\n",
    "            #dcc.Dropdown(\n",
    "            #    id='input-image-dropdown',\n",
    "            #    options=[{'label': i, 'value': i} for i in params['input_image_list']+os.listdir(params['prepped_model_path']+'/visualizations/images/')],\n",
    "            #    value=input_image_name\n",
    "            #),\n",
    "            html.Br(),\n",
    "            dcc.Graph(\n",
    "                id='img-actmap-graph',\n",
    "                style={\n",
    "               'width': '14vw',\n",
    "               'height':'14vw'\n",
    "                },\n",
    "                figure=image2heatmap(params['input_image_directory']+input_image_name,input_image_layout),\n",
    "                config={\n",
    "                        'displayModeBar': False\n",
    "                        }\n",
    "            )\n",
    "            ], className = \"two columns\"),\n",
    "\n",
    "            html.Div([\n",
    "            html.Label('Node'),\n",
    "            dcc.Dropdown(\n",
    "                id='node-actmap-dropdown',\n",
    "                options=[{'label': str(j), 'value': str(j)} for j in params['imgnode_names']]+[{'label': str(i), 'value': str(i)} for i in range(params['num_nodes'])],\n",
    "                value='0'\n",
    "            ),\n",
    "            html.Br(),\n",
    "            dcc.Graph(\n",
    "                id='node-actmap-graph',\n",
    "                style={\n",
    "               'width': '18vw',\n",
    "               'height':'14vw'\n",
    "                },\n",
    "                figure=figure_init,\n",
    "                config={\n",
    "                        'displayModeBar': False\n",
    "                        }\n",
    "            ),\n",
    "            dcc.Checklist(\n",
    "                id = 'relu-checkbox',\n",
    "                options = [{'label':'relu','value':'relu'}],\n",
    "                value = []\n",
    "                \n",
    "            ),\n",
    "            html.Div(id='node-sum', style={'whiteSpace': 'pre-line'}),\n",
    "            html.Br(),\n",
    "            html.Br(),\n",
    "            dcc.Graph(\n",
    "                id='node-deepviz-image',\n",
    "                style={\n",
    "               'width': '14vw',\n",
    "               'height':'14vw'\n",
    "                },\n",
    "                figure=figure_init,\n",
    "                config={\n",
    "                        'displayModeBar': False\n",
    "                        }\n",
    "            )\n",
    "            ], className = \"three columns\"),\n",
    "            \n",
    "            html.Div([\n",
    "            html.Label('Node Inputs'),\n",
    "            html.Br(),\n",
    "            html.Div(dcc.Graph(\n",
    "                id='node-inputs-graph',\n",
    "                figure=figure_init,\n",
    "                config={\n",
    "                        'displayModeBar': False\n",
    "                        }\n",
    "            ),style={'overflowY': 'scroll', 'height': 500})\n",
    "            ], className = \"three columns\"),\n",
    "\n",
    "            html.Div([\n",
    "            html.Label('Edge'),    \n",
    "            dcc.Input(\n",
    "                id='edge-actmaps-input',value=state['edge_names'][0][0], type='text'),\n",
    "            #html.Button(id='edge-kernel-button',n_clicks=0, children='Submit'),\n",
    "            html.Br(),\n",
    "            html.Br(),\n",
    "            dcc.Graph(\n",
    "                id='edge-kernel-graph',\n",
    "                style={\n",
    "               'width': '14vw',\n",
    "               'height':'10vw'\n",
    "                },\n",
    "                figure=go.Figure(data=go.Heatmap(\n",
    "                                    z = edgename_2_edge_figures(state['edge_names'][0][0], input_image_name, kernels, None,params)[0]),\n",
    "                                 layout=kernel_layout\n",
    "                                ),\n",
    "                config={\n",
    "                        'displayModeBar': False\n",
    "                        }\n",
    "            ),\n",
    "            html.Br(),\n",
    "            html.Br(),\n",
    "            dcc.Graph(\n",
    "               id='edge-deepviz-image',\n",
    "               style={\n",
    "              'width': '14vw',\n",
    "              'height':'14vw'\n",
    "               },\n",
    "               figure=figure_init,\n",
    "               config={\n",
    "                       'displayModeBar': False\n",
    "                       }\n",
    "            )\n",
    "            ], className = \"two columns\"),\n",
    "\n",
    "\n",
    "            html.Div([\n",
    "            html.Label('Edge Input'),\n",
    "            html.Br(),\n",
    "            dcc.Graph(\n",
    "                id='edge-inmap-graph',\n",
    "                style={\n",
    "               'width': '18vw',\n",
    "               'height':'14vw'\n",
    "                },\n",
    "                figure=figure_init,\n",
    "                config={\n",
    "                        'displayModeBar': False\n",
    "                        }\n",
    "            ),\n",
    "            html.Div(id='edgein-sum', style={'whiteSpace': 'pre-line'}),\n",
    "            html.Br(),\n",
    "            html.Br(),\n",
    "            html.Label('Edge Output'),\n",
    "            html.Br(),\n",
    "            dcc.Graph(\n",
    "                id='edge-outmap-graph',\n",
    "                style={\n",
    "               'width': '18vw',\n",
    "               'height':'14vw'\n",
    "                },\n",
    "                figure=figure_init,\n",
    "                config={\n",
    "                        'displayModeBar': False\n",
    "                        }\n",
    "            ),\n",
    "            html.Div(id='edgeout-sum', style={'whiteSpace': 'pre-line'}),\n",
    "\n",
    "            ], className = \"two columns\")\n",
    "\n",
    "\n",
    "         ], className= 'row'\n",
    "         ),\n",
    "                \n",
    "                \n",
    "        html.Div([\n",
    "            html.Div([\n",
    "                dcc.Markdown(\"\"\"\n",
    "                    **Hover Data**\n",
    "\n",
    "                    Mouse over values in the graph.\n",
    "                \"\"\"),\n",
    "                html.Pre(id='hover-data', style=styles['pre'])\n",
    "            ], className='two columns'),\n",
    "\n",
    "            html.Div([\n",
    "                dcc.Markdown(\"\"\"\n",
    "                    **Click Data**\n",
    "\n",
    "                    Click on points in the graph.\n",
    "                \"\"\"),\n",
    "                html.Pre(id='click-data', style=styles['pre']),\n",
    "            ], className='two columns'),\n",
    "\n",
    "            html.Div([\n",
    "                dcc.Markdown(\"\"\"\n",
    "                    **Selection Data**\n",
    "\n",
    "                    Choose the lasso or rectangle tool in the graph's menu\n",
    "                    bar and then select points in the graph.\n",
    "\n",
    "                    Note that if `layout.clickmode = 'event+select'`, selection data also \n",
    "                    accumulates (or un-accumulates) selected data if you hold down the shift\n",
    "                    button while clicking.\n",
    "                \"\"\"),\n",
    "                html.Pre(id='selected-data', style=styles['pre']),\n",
    "            ], className='two columns'),\n",
    "\n",
    "#                 html.Div([\n",
    "#                     dcc.Markdown(\"\"\"\n",
    "#                         **Zoom and Relayout Data**\n",
    "\n",
    "#                         Click and drag on the graph to zoom or click on the zoom\n",
    "#                         buttons in the graph's menu bar.\n",
    "#                         Clicking on legend items will also fire\n",
    "#                         this event.\n",
    "#                     \"\"\"),\n",
    "#                     html.Pre(id='relayout-data', style=styles['pre']),\n",
    "#                 ], className='two columns')\n",
    "                \n",
    "            html.Div([\n",
    "                dcc.Markdown(\"\"\"\n",
    "                    **Figure Data**\n",
    "\n",
    "                    Figure json info.\n",
    "                \"\"\"),\n",
    "                html.Pre(id='figure-data', style=styles['pre']),\n",
    "            ], className='four columns')\n",
    "\n",
    "        ], className= 'row'\n",
    "        ),\n",
    "\n",
    "    #hidden divs for storing intermediate values     \n",
    "    # The memory store reverts to the default on every page refresh\n",
    "    dcc.Store(id='memory',data=state),\n",
    "    # The local store will take the initial data\n",
    "    # only the first time the page is loaded\n",
    "    # and keep it until it is cleared.\n",
    "    #dcc.Store(id='local', storage_type='local'),\n",
    "    # Same as the local store but will lose the data\n",
    "    # when the browser/tab closes.\n",
    "    #dcc.Store(id='session', storage_type='session',data=state),\n",
    "    \n",
    "\n",
    "    # hidden signal value\n",
    "    html.Div(id='input-image-signal',  style={'display': 'none'}),\n",
    "    html.Div(id='target-signal', style={'display': 'none'},children = [state['target_category'],state['target_node']])\n",
    "\n",
    "])\n",
    "\n",
    "\n",
    "\n",
    "# perform expensive computations in this \"global store\"\n",
    "# these computations are cached in a globally available\n",
    "# redis memory store which is available across processes\n",
    "# and for all time.\n",
    "@cache.memoize()\n",
    "def activations_store(image_name):\n",
    "\n",
    "    print('Updating cached activations with {}'.format(image_name))\n",
    "    activations = get_model_activations_from_image(get_image_path(image_name,params)[1], model_dis, params)\n",
    "    \n",
    "    return activations\n",
    "\n",
    "@app.callback(Output('input-image-signal', 'children'), \n",
    "              [Input('dynamic-input-image-dropdown', 'value')])\n",
    "def update_activations_store(image_name):\n",
    "    # compute value and send a signal when done\n",
    "    activations_store(image_name)\n",
    "    return image_name\n",
    "\n",
    "\n",
    "@cache.memoize()\n",
    "def ranksdf_store(target_category, target_node,model_dis=model_dis):\n",
    "    print('Updating cached rank dfs with {}'.format(target_category))\n",
    "    model_dis = clear_ranks_across_model(model_dis)\n",
    "    target_type = image_category_or_contrast(target_category,params)\n",
    "    target_category_nodes_df = None\n",
    "    target_category_edges_df = None\n",
    "    if target_type == 'category' and target_node == 'loss':\n",
    "        #edges\n",
    "        if categories_edges_df is not None:\n",
    "            if len(categories_edges_df.loc[categories_edges_df['category']==target_category]) > 0:\n",
    "                target_category_edges_df = categories_edges_df.loc[categories_edges_df['category']==target_category]\n",
    "        if target_category_edges_df is None:\n",
    "            target_category_edges_df = rank_file_2_df(os.path.join(params['ranks_data_path'],'categories_edges','%s_edges_rank.pt'%target_category))   \n",
    "        #node\n",
    "        if categories_nodes_df is not None:\n",
    "            if len(categories_nodes_df.loc[categories_nodes_df['category']==target_category]) > 0:\n",
    "                target_category_nodes_df = categories_nodes_df.loc[categories_nodes_df['category']==target_category]\n",
    "        if target_category_nodes_df is None:\n",
    "            target_category_nodes_df = rank_file_2_df(os.path.join(params['ranks_data_path'],'categories_nodes','%s_nodes_rank.pt'%target_category))\n",
    "    elif target_type == 'category':\n",
    "        target_category_nodes_df,target_category_edges_df = rank_dict_2_df(get_model_ranks_for_category(target_category, target_node, model_dis,params))\n",
    "    elif target_type == 'input_image':\n",
    "        target_category_nodes_df,target_category_edges_df = rank_dict_2_df(get_model_ranks_from_image(get_image_path(target_category,params)[1],target_node, model_dis, params))\n",
    "\n",
    "    else:  #contrast\n",
    "        target_category_nodes_df,target_category_edges_df = contrast_str_2_dfs(target_category,target_node,model_dis,params)\n",
    "    print('FROM RANKS DF STORE')\n",
    "    print(target_category_edges_df)\n",
    "    return target_category_nodes_df,target_category_edges_df\n",
    "\n",
    "@app.callback(Output('target-signal', 'children'), \n",
    "              [Input('input-category', 'value'),\n",
    "               Input('target-node','value')])\n",
    "def update_ranksdf_store(target_category,target_node):\n",
    "    # compute value and send a signal when done\n",
    "    print('update ranksdf_store triggered')\n",
    "    ranksdf_store(target_category,target_node)\n",
    "    return [target_category,target_node]\n",
    "\n",
    "\n",
    "\n",
    "####Call Back Functions\n",
    "\n",
    "#Hidden State\n",
    "@app.callback(\n",
    "    Output('memory', 'data'),\n",
    "    [Input('target-signal', 'children'),\n",
    "     Input('node-actmap-dropdown', 'value'),\n",
    "     Input('edge-actmaps-input', 'value'),\n",
    "     Input('edge-thresh-slider','value'),\n",
    "     Input('layer-projection','value'),\n",
    "     Input('subgraph-criterion','value')],\n",
    "    [State('memory', 'data')])\n",
    "def update_store(target,node_value,edge_value,edge_threshold,projection,rank_type,state):\n",
    "    print('CALLED: update_store\\n')\n",
    "    ctx = dash.callback_context\n",
    "    if not ctx.triggered:\n",
    "        raise Exception('no figure updates yet')\n",
    "    else:\n",
    "        trigger = ctx.triggered[0]['prop_id']\n",
    "    state['last_trigger'] = trigger  #store the last trigger of state change in state\n",
    "    print('TRIGGER %s'%trigger)\n",
    "\n",
    "    target_category,target_node = target[0],target[1]\n",
    "    #fetch select edges DF\n",
    "    if trigger in ['target-signal.children','edge-thresh-slider.value','layer-projection.value','subgraph-criterion.value']:\n",
    "        if rank_type == 'weight':\n",
    "            target_edges_df = weight_edges_df\n",
    "            target_nodes_df = weight_nodes_df\n",
    "            weight=True\n",
    "        else:   \n",
    "            target_nodes_df,target_edges_df = ranksdf_store(target_category,target_node)\n",
    "            weight=False   \n",
    "        target_edges_df = minmax_normalize_ranks_df(target_edges_df,params,weight=weight)\n",
    "        target_nodes_df = minmax_normalize_ranks_df(target_nodes_df,params,weight=weight)\n",
    "        print(\"MINMAX EDGES DF\")\n",
    "        print(target_edges_df)\n",
    "        edges_thresholded_df = get_thresholded_edges(edge_threshold,rank_type,target_edges_df,target_category)\n",
    "\n",
    "    if trigger == 'target-signal.children':\n",
    "        print('changing target category to %s'%target_category)\n",
    "        #print(target_nodes_df)\n",
    "        state['node_colors'], state['node_weights'] = gen_node_colors(target_nodes_df,rank_type,params)\n",
    "        #state['max_edge_weight'] = get_max_edge_weight(target_category)\n",
    "        state['edge_positions'], state['edge_colors'], state['edge_widths'],state['edge_weights'], state['edge_names'], state['max_edge_width_indices'] = gen_edge_graphdata(edges_thresholded_df, state['node_positions'], rank_type, target_category,params)\n",
    "\n",
    "    elif trigger == 'node-actmap-dropdown.value' or trigger == 'edge-actmaps-input.value':\n",
    "        state['last_trigger'] = 'selection_change'\n",
    "        print(edge_value)\n",
    "        #update node if button value different than store value\n",
    "        if state['node_select_history'][-1] != node_value:\n",
    "            print('changing selected node to %s'%node_value)\n",
    "            state['node_select_history'].append(node_value)\n",
    "            if len(state['node_select_history']) > 10:\n",
    "                del state['node_select_history'][0] \n",
    "        #update edge if button value different than store value\n",
    "        if state['edge_select_history'][-1] != edge_value and check_edge_validity(edge_value.strip(),params)[0]:\n",
    "            print('changing selected edge to %s'%edge_value)\n",
    "            state['edge_select_history'].append(edge_value)\n",
    "            print(state['edge_select_history'])\n",
    "            if len(state['edge_select_history']) > 10:\n",
    "                del state['edge_select_history'][0]              \n",
    "\n",
    "    elif trigger == 'edge-thresh-slider.value':\n",
    "        print('changing edge thresholds to %s - %s'%(edge_threshold[0],edge_threshold[1]))\n",
    "        state['edge_threshold'] == edge_threshold\n",
    "        print('found %s edges'%len(edges_thresholded_df))\n",
    "        state['edge_positions'], state['edge_colors'], state['edge_widths'], state['edge_weights'], state['edge_names'], state['max_edge_width_indices'] = gen_edge_graphdata(edges_thresholded_df, state['node_positions'], rank_type, target_category,params)\n",
    "\n",
    "    elif trigger == 'layer-projection.value':\n",
    "        print('changing layer projection to %s\\n'%projection)\n",
    "        state['projection']=projection\n",
    "        if projection == 'MDS':\n",
    "            state['node_positions'] = all_node_positions[projection][rank_type]\n",
    "        else:\n",
    "            state['node_positions'] = all_node_positions[projection]\n",
    "        state['edge_positions'], state['edge_colors'], state['edge_widths'],state['edge_weights'], state['edge_names'], state['max_edge_width_indices'] = gen_edge_graphdata(edges_thresholded_df, state['node_positions'], rank_type, target_category,params)\n",
    "\n",
    "    elif trigger == 'subgraph-criterion.value':\n",
    "        print('changing weighting criterion to %s\\n'%rank_type)\n",
    "        state['rank_type']=rank_type\n",
    "        state['node_colors'], state['node_weights'] = gen_node_colors(target_nodes_df,rank_type,params)\n",
    "        #state['node_positions']=format_node_positions(projection=projection,rank_type=rank_type)\n",
    "        state['edge_positions'], state['edge_colors'], state['edge_widths'],state['edge_weights'], state['edge_names'], state['max_edge_width_indices'] = gen_edge_graphdata(edges_thresholded_df, state['node_positions'], rank_type, target_category,params)\n",
    "\n",
    "    else:\n",
    "        raise Exception('unknown trigger: %s'%trigger)    \n",
    "    return state\n",
    "\n",
    "\n",
    "#Network Graph Figure\n",
    "@app.callback(\n",
    "    Output('network-graph', 'figure'),\n",
    "    [Input('memory', 'data')],\n",
    "    [State('network-graph','figure')])\n",
    "def update_figure(state, fig):\n",
    "    #network_graph_layout['uirevision'] = True\n",
    "    print('CALLED: update_figure\\n')\n",
    "    print(state['edge_threshold'])\n",
    "    print(state['edge_select_history'])\n",
    "    print(state['node_select_history'])\n",
    "    if state['last_trigger'] == 'selection_change':   #minimal updates\n",
    "        #hightlight edge\n",
    "        print('updating edge highlight to %s'%state['edge_select_history'][-1])\n",
    "        #if len(state['edge_select_history']) >1:\n",
    "        #if state['edge_select_history'][-1] != state['edge_select_history'][-2]:  #didnt click same point\n",
    "        flat_edge_names = [item for sublist in state['edge_names'] for item in sublist]\n",
    "        flat_edge_colors = [item for sublist in state['edge_colors'] for item in sublist]\n",
    "        try:  #update current edge if it exists to black\n",
    "            #print(flat_edge_names)\n",
    "            fig['data'][flat_edge_names.index(state['edge_select_history'][-1])+params['num_layers']+1]['line']['color'] = 'rgba(0,0,0,1)'\n",
    "        except:\n",
    "            print('select edge, %s,  not recolored as no longer shown'%state['edge_select_history'][-1])\n",
    "        if len(state['edge_select_history']) > 1: #there is a previous edge to unselect\n",
    "            try: #recolor previous edge if it exists from black\n",
    "                fig['data'][flat_edge_names.index(state['edge_select_history'][-2])+params['num_layers']+1]['line']['color'] = flat_edge_colors[flat_edge_names.index(state['edge_select_history'][-2])]\n",
    "            except:\n",
    "                print('previous edge, %s,  not recolored as no longer shown'%state['edge_select_history'][-2])\n",
    "        #highlight node\n",
    "        print('updating node highlight to %s'%state['node_select_history'][-1])\n",
    "        #if len(state['node_select_history']) >1:\n",
    "        #    if state['node_select_history'][-1] != state['node_select_history'][-2]: \n",
    "                #update current node color to black\n",
    "        if str(state['node_select_history'][-1]).isnumeric():  #if normal node\n",
    "            select_layer,select_position,select_layer_name = nodeid_2_perlayerid(state['node_select_history'][-1],params)\n",
    "            fig['data'][select_layer+1]['marker']['color'][select_position] = 'rgba(0,0,0,1)'\n",
    "        else:   #imgnode\n",
    "            fig['data'][0]['marker']['color'][fig['data'][0]['text'].index(state['node_select_history'][-1])] = 'rgba(0,0,0,1)'\n",
    "        #update previous node color to its usual color\n",
    "        if len(state['node_select_history']) > 1: #there is a previous node to unselect\n",
    "            if str(state['node_select_history'][-2]).isnumeric():  #if normal node\n",
    "                prev_select_layer,prev_select_position,prev_select_layer_name = nodeid_2_perlayerid(state['node_select_history'][-2],params)\n",
    "                print(prev_select_layer,prev_select_position,prev_select_layer_name)\n",
    "                fig['data'][prev_select_layer+1]['marker']['color'][prev_select_position] = state['node_colors'][prev_select_layer][prev_select_position]\n",
    "            else:   #imgnode\n",
    "                fig['data'][0]['marker']['color'][fig['data'][0]['text'].index(state['node_select_history'][-2])] = state['imgnode_colors'][fig['data'][0]['text'].index(state['node_select_history'][-2])]\n",
    "        #fig['layout']['uirevision']=True   \n",
    "        return fig    \n",
    "    else:   #regenerate full traces\n",
    "        combined_traces = gen_networkgraph_traces(state,params)\n",
    "        fig['data'] = combined_traces\n",
    "        #layout = network_graph_layout\n",
    "        #layout['uirevision'] = True\n",
    "        return fig\n",
    "\n",
    "#Node Actmap Dropdown\n",
    "@app.callback(\n",
    "    Output('node-actmap-dropdown', 'value'),\n",
    "    [Input('network-graph', 'clickData')],\n",
    "    [State('node-actmap-dropdown', 'value')])\n",
    "def switch_node_actmap_click(clickData,current_value):\n",
    "    print('CALLED: switch_node_actmap_click')\n",
    "    if clickData is None:\n",
    "        return current_value \n",
    "        #raise Exception('no click data')\n",
    "    if int(clickData['points'][0]['curveNumber']) > params['num_layers']:\n",
    "        return current_value\n",
    "        #raise Exception('edge was clicked')\n",
    "    return clickData['points'][0]['text']\n",
    "\n",
    "#Edge Actmaps Input\n",
    "@app.callback(\n",
    "    Output('edge-actmaps-input', 'value'),\n",
    "    [Input('network-graph', 'clickData')],\n",
    "    [State('edge-actmaps-input', 'value'),\n",
    "     State('memory', 'data')])\n",
    "def switch_edge_actmaps_click(clickData,current_value,state):\n",
    "    print('CALLED: switch_edge_actmaps_click')\n",
    "    if clickData is None:\n",
    "        return current_value\n",
    "        #raise Exception('no click data')\n",
    "    if int(clickData['points'][0]['curveNumber']) <= params['num_layers']:\n",
    "        return current_value\n",
    "        #raise Exception('node was clicked')\n",
    "    return get_nth_element_from_nested_list(state['edge_names'],int(clickData['points'][0]['curveNumber'])-(params['num_layers']+1))\n",
    "\n",
    "\n",
    "#Node actmap graph\n",
    "@app.callback(\n",
    "    Output('node-actmap-graph', 'figure'),\n",
    "    [Input('node-actmap-dropdown', 'value'),\n",
    "     Input('relu-checkbox','value'),\n",
    "     Input('input-image-signal', 'children')])\n",
    "def update_node_actmap(nodeid,relu_checked,image_name):       #EDIT: needs support for black and white images\n",
    "    print('CALLED: update_node_actmap')\n",
    "    layer, within_id,layer_name = nodeid_2_perlayerid(nodeid,params)\n",
    "    #fetch activations\n",
    "    if image_name in all_activations['nodes']:\n",
    "        activations = all_activations\n",
    "    else:\n",
    "        activations  = activations_store(image_name)\n",
    "        \n",
    "    if layer == 'img': #code for returning color channel as activation map\n",
    "        #np_chan_im = get_channelwise_image(image_name,state['imgnode_names'].index(nodeid),params['input_image_directory']=params['input_image_directory'])\n",
    "        np_chan_im = activations['edges_in'][image_name][0][within_id]\n",
    "        return go.Figure(data=go.Heatmap( z = np.flip(np_chan_im,0), name = nodeid),\n",
    "                        layout=node_actmap_layout) \n",
    "    act_map = activations['nodes'][image_name][layer][within_id]\n",
    "    if relu_checked != []:\n",
    "        act_map = relu(act_map)\n",
    "    return go.Figure(data=go.Heatmap( z = np.flip(act_map,0),\n",
    "                                      #zmin=-11,\n",
    "                                      #zmax=14,\n",
    "                                      colorbar = dict(thicknessmode = \"fraction\",thickness=.1)\n",
    "                                    ),\n",
    "                     layout=node_actmap_layout) \n",
    "\n",
    "@app.callback(\n",
    "    Output('node-sum', 'children'),\n",
    "    [Input('node-actmap-graph', 'figure')])\n",
    "def update_node_sum(fig):\n",
    "    mean = np.mean(fig['data'][0]['z'])\n",
    "    return 'mean: %s'%str(mean)\n",
    "\n",
    "\n",
    "#Node deepviz graph\n",
    "@app.callback(\n",
    "    Output('node-deepviz-image', 'figure'),\n",
    "    [Input('node-actmap-dropdown', 'value')])\n",
    "def update_node_deepviz(nodeid):       #EDIT: needs support for black and white images\n",
    "    print('CALLED: update_node_deepviz')\n",
    "    layer,within_layer_id,layer_name = nodeid_2_perlayerid(nodeid,params)    \n",
    "    if layer == 'img': \n",
    "        return figure_init\n",
    "    image_name = fetch_deepviz_img(model,str(nodeid),params)\n",
    "    image_path = params['prepped_model_path']+'/visualizations/images/'+image_name\n",
    "    return image2plot(image_path,input_image_layout)\n",
    "    \n",
    "\n",
    "#Edge deepviz graph\n",
    "@app.callback(\n",
    "    Output('edge-deepviz-image', 'figure'),\n",
    "    [Input('edge-actmaps-input', 'value')])\n",
    "def update_edge_deepviz(edgename):       #EDIT: needs support for black and white images\n",
    "    print('CALLED: update_edge_deepviz')\n",
    "    #layer,within_layer_id,layer_name = nodeid_2_perlayerid(nodeid,params)    \n",
    "    #if layer == 'img': \n",
    "    #    return figure_init\n",
    "    image_name = fetch_deepviz_img(model_dis,edgename,params)\n",
    "    image_path = params['prepped_model_path']+'/visualizations/images/'+image_name\n",
    "    return image2plot(image_path,input_image_layout)\n",
    "     \n",
    "\n",
    "#Node inputs actmap graph\n",
    "@app.callback(\n",
    "    Output('node-inputs-graph', 'figure'),\n",
    "    [Input('node-actmap-dropdown', 'value'),\n",
    "     Input('input-image-signal', 'children'),\n",
    "     Input('target-signal', 'children'),\n",
    "     Input('subgraph-criterion','value')])\n",
    "def update_node_inputs(nodeid,image_name,target,rank_type,model=model_dis,max_num = params['max_node_inputs']):       \n",
    "    print('CALLED: update_node_inputs')\n",
    "    target_category,target_node = target[0],target[1]\n",
    "    node_layer,node_within_layer_id,layer_name = nodeid_2_perlayerid(nodeid,params)\n",
    "    #fetch activations\n",
    "    if image_name in all_activations['nodes']:\n",
    "        activations = all_activations\n",
    "    else:\n",
    "        activations = activations_store(image_name)\n",
    "    #fetch edges df\n",
    "    if rank_type == 'weight':\n",
    "        target_edges_df = weight_edges_df\n",
    "    else:\n",
    "        target_edges_df = ranksdf_store(target_category,target_node)[1]\n",
    "    #return no input if on input image node \n",
    "    if node_layer == 'img':\n",
    "        fig = go.Figure()\n",
    "\n",
    "        fig.add_trace(go.Scatter(\n",
    "            x=[],\n",
    "            y=[]))\n",
    "        fig.update_layout(xaxis=dict(visible=False),\n",
    "                          yaxis=dict(visible=False),\n",
    "                          annotations = [dict(text=\"No Inputs\",\n",
    "                                              xref=\"paper\",\n",
    "                                              yref=\"paper\",\n",
    "                                              showarrow=False,\n",
    "                                              font=dict(size=28))]\n",
    "                         )\n",
    "        return fig\n",
    "\n",
    "    all_node_edges_df = target_edges_df.loc[(target_edges_df['layer']==node_layer) & (target_edges_df['out_channel'] == node_within_layer_id)]\n",
    "    #if sort_images:                      \n",
    "    all_node_edges_df = all_node_edges_df.sort_values(by=[rank_type+'_rank'],ascending=False)\n",
    "    top_node_edges_df = all_node_edges_df.head(max_num)\n",
    "    fig = make_subplots(rows=len(top_node_edges_df)+1, cols=3)\n",
    "    #print(top_node_edges_df)\n",
    "    i=1\n",
    "    for row in top_node_edges_df.itertuples():\n",
    "        if node_layer == 0:\n",
    "            edge_name = str(params['imgnode_names'][row.in_channel])+'-'+str(nodeid)\n",
    "        else:\n",
    "            edge_name = str(params['layer_nodes'][node_layer-1][1][row.in_channel])+'-'+str(nodeid)\n",
    "        #add activation map\n",
    "        fig.add_trace(\n",
    "               go.Heatmap(z = edgename_2_edge_figures(edge_name, image_name, kernels, activations,params)[2],\n",
    "                          #zmin = -1,\n",
    "                          #zmax = 1,\n",
    "                          name = edge_name,\n",
    "                          coloraxis=\"coloraxis\"\n",
    "                          #showscale = False,\n",
    "                          #colorbar = dict(lenmode='fraction',len=1/len(top_node_edges_df), \n",
    "                          #                y=(i)/len(top_node_edges_df)-.01,\n",
    "                          #                thicknessmode = \"fraction\",thickness=.1,\n",
    "                          #                ypad=1\n",
    "                          #               )\n",
    "                          ),\n",
    "               row=i, col=2),\n",
    "        #add kernel\n",
    "        fig.add_trace(\n",
    "               go.Heatmap(z = edgename_2_edge_figures(edge_name, image_name, kernels, activations,params)[0],\n",
    "                          #zmin = -1,\n",
    "                          #zmax = 1,\n",
    "                          name = edge_name+'_kernel',\n",
    "                          coloraxis=\"coloraxis2\"\n",
    "                          #showscale = False,\n",
    "                          #colorbar = dict(lenmode='fraction',len=1/len(top_node_edges_df), \n",
    "                          #                y=(i)/len(top_node_edges_df)-.01,\n",
    "                          #                thicknessmode = \"fraction\",thickness=.1,\n",
    "                          #                ypad=1\n",
    "                          #               )\n",
    "                          ),\n",
    "               row=i, col=3),\n",
    "\n",
    "        #add visualization\n",
    "        viz_img_name = fetch_deepviz_img_for_node_inputs(model,edge_name,params)\n",
    "        viz_img_path = params['prepped_model_path']+'/visualizations/images/'+viz_img_name\n",
    "        viz_img = Image.open(viz_img_path)\n",
    "        #fig.add_trace(go.Image(z=viz_img,name=viz_img_name), row=i, col=1)\n",
    "        fig.add_trace(go.Scatter(x=[],y=[]),row=i,col=1)\n",
    "        fig.add_layout_image(\n",
    "                            source=viz_img,\n",
    "                            xref=\"x\",\n",
    "                            yref=\"y\",\n",
    "                            x=0,\n",
    "                            y=10,\n",
    "                            sizex=10,\n",
    "                            sizey=10,\n",
    "                            sizing=\"stretch\",\n",
    "                            opacity=1,\n",
    "                            layer=\"below\",\n",
    "                            row=i, col=1\n",
    "                            )\n",
    "        fig.update_xaxes(visible=False,range=(0,10),showline=False,showgrid=False,showticklabels=False,row=i,col=1)\n",
    "        fig.update_yaxes(visible=False,range=(0,10),showline=False,showgrid=False,showticklabels=False,row=i,col=1)\n",
    "   \n",
    "\n",
    "\n",
    "        i+=1\n",
    "    \n",
    "    fig.update_layout(height=200*len(top_node_edges_df), \n",
    "                      width=340,\n",
    "                      #yaxis=dict(scaleanchor=\"x\", scaleratio=1/len(top_node_edges_df)),\n",
    "                      #title_text=\"Inputs to Node\",\n",
    "                      #xaxis=dict(visible=False),\n",
    "                      #yaxis=dict(visible=False),\n",
    "                      coloraxis_showscale=False,\n",
    "                      coloraxis2 = dict(showscale=False,\n",
    "                                        colorscale='inferno',\n",
    "                                        colorbar = dict(\n",
    "                                                        thicknessmode = \"fraction\",thickness=.05, \n",
    "                                                        lenmode='fraction',len=.7)),\n",
    "                      margin=dict(\n",
    "                                    l=0,\n",
    "                                    r=0,\n",
    "                                    b=0,\n",
    "                                    t=0,\n",
    "                                    pad=0)\n",
    "                     )\n",
    "    fig.update_coloraxes(colorscale='inferno',colorbar = dict(\n",
    "                                                              thicknessmode = \"fraction\",thickness=.05, \n",
    "                                                              lenmode='fraction',len=.7)\n",
    "                        )\n",
    "#     fig.update_coloraxes2(colorscale='inferno',colorbar = dict(\n",
    "#                                                               thicknessmode = \"fraction\",thickness=.05, \n",
    "#                                                               lenmode='fraction',len=.7)\n",
    "#                        )\n",
    "    return fig\n",
    "\n",
    "\n",
    "\n",
    "\n",
    "\n",
    "\n",
    "\n",
    "#image graph\n",
    "@app.callback(\n",
    "    Output('img-actmap-graph', 'figure'),\n",
    "    [Input('dynamic-input-image-dropdown', 'value'),\n",
    "     Input('node-actmap-graph','clickData'),\n",
    "     Input('node-actmap-graph','figure')],\n",
    "    [State('img-actmap-graph', 'figure'),\n",
    "     State('node-actmap-dropdown', 'value')])\n",
    "def update_inputimg_actmap(image_name,click_data,node_actmap_fig,image_fig,nodeid): \n",
    "    print('CALLED: update_inputimg_actmap')\n",
    "    #if os.path.exists(params['input_image_directory']+image_name):\n",
    "    ctx = dash.callback_context\n",
    "    if not ctx.triggered:\n",
    "        raise Exception('no figure updates yet')\n",
    "    else:\n",
    "        trigger = ctx.triggered[0]['prop_id']\n",
    "    if trigger == 'dynamic-input-image-dropdown.value':\n",
    "        return image2plot(get_image_path(image_name,params)[1],input_image_layout)\n",
    "    elif receptive_fields is None:\n",
    "        return image2plot(get_image_path(image_name,params)[1],input_image_layout)\n",
    "    elif click_data is None:\n",
    "        return image2plot(get_image_path(image_name,params)[1],input_image_layout)\n",
    "    else:\n",
    "        #nodeid = node_actmap_fig['data'][0]['name']\n",
    "        layer_name = nodeid_2_perlayerid(nodeid,params)[2]\n",
    "        if layer_name == 'img':\n",
    "            raise Exception('no receptive fields for input image actmap')\n",
    "        heatmap_dim_y = len(node_actmap_fig['data'][0]['z'])\n",
    "        heatmap_dim_x = len(node_actmap_fig['data'][0]['z'][0]) \n",
    "        x_click = click_data['points'][0]['x']\n",
    "        y_click = heatmap_dim_y - click_data['points'][0]['y']-1\n",
    "        print('x_click')\n",
    "        print(x_click)\n",
    "        print('y_click')\n",
    "        print(y_click)\n",
    "        recep_field = receptive_field_for_unit(receptive_fields, layer_name, (x_click,y_click))\n",
    "        recep_field_normed = [[recep_field[0][0]*10/input_image_size,recep_field[0][1]*10/input_image_size],\n",
    "                              [recep_field[1][0]*10/input_image_size,recep_field[1][1]*10/input_image_size]]\n",
    "        print('normalized')\n",
    "        print(recep_field_normed)\n",
    "        x_points = [recep_field_normed[0][0],recep_field_normed[0][0],recep_field_normed[0][1],recep_field_normed[0][1],recep_field_normed[0][0]]\n",
    "        y_points = [10 - recep_field_normed[1][0],10 - recep_field_normed[1][1],10 - recep_field_normed[1][1],10 - recep_field_normed[1][0],10 - recep_field_normed[1][0]]\n",
    "        print('x points')\n",
    "        print(x_points)\n",
    "        print('y points')\n",
    "        print(y_points)\n",
    "        image_fig['data'] = [{'mode': 'lines', 'x': x_points, 'y': y_points, 'type': 'scatter'}]\n",
    "        return image_fig\n",
    "        \n",
    "\n",
    "\n",
    "\n",
    "    #else:\n",
    "        #return image2plot(params['prepped_model_path']+'/visualizations/'+image_name,input_image_layout)\n",
    "    \n",
    "# #image dropdown\n",
    "# @app.callback(\n",
    "#     Output('input-image-dropdown', 'options'),\n",
    "#     [Input('node-deepviz-image', 'figure'),\n",
    "#      Input('edge-deepviz-image', 'figure')])\n",
    "# def update_inputimg_dropdown(node_fig,edge_fig): \n",
    "#     print('CALLED: update_inputimg_dropdown options')\n",
    "#     return [{'label': i, 'value': i} for i in params['input_image_list']+os.listdir(params['prepped_model_path']+'/visualizations/images/')]\n",
    "\n",
    "#dynamic dropdown\n",
    "@app.callback(\n",
    "    dash.dependencies.Output(\"dynamic-input-image-dropdown\", \"options\"),\n",
    "    [dash.dependencies.Input(\"dynamic-input-image-dropdown\", \"search_value\")],\n",
    ")\n",
    "def update_options(search_value):\n",
    "    if not search_value:\n",
    "        raise PreventUpdate\n",
    "    return [{'label': i, 'value': i} for i in params['input_image_list']+os.listdir(params['prepped_model_path']+'/visualizations/images/') if search_value in i]\n",
    "\n",
    "\n",
    "\n",
    "\n",
    "\n",
    "#kernel\n",
    "@app.callback(\n",
    "    Output('edge-kernel-graph', 'figure'),\n",
    "    [Input('edge-actmaps-input','value')],\n",
    "    [State('edge-kernel-graph','figure')])\n",
    "def update_edge_kernelmap(edge_name,figure):\n",
    "    print('CALLED: update_edge_kernelmap')\n",
    "    kernel,inmap,outmap = edgename_2_edge_figures(edge_name, None, kernels, None,params)\n",
    "    if kernel is not None:\n",
    "        return go.Figure(data=go.Heatmap(z = kernel,\n",
    "                                         #zmin=-.5,\n",
    "                                         #zmax=.5,\n",
    "                                         colorbar = dict(thicknessmode = \"fraction\",thickness=.1)),\n",
    "                         layout=kernel_layout)\n",
    "    else:\n",
    "        return figure\n",
    "                \n",
    "\n",
    "#edge in        \n",
    "@app.callback(\n",
    "    Output('edge-inmap-graph', 'figure'),\n",
    "    [Input('edge-actmaps-input','value'),\n",
    "     Input('input-image-signal', 'children')],\n",
    "    [State('edge-inmap-graph','figure')])\n",
    "def update_edge_inmap(edge_name,image_name,figure):\n",
    "    print('CALLED: update_edge_inmap')\n",
    "    #fetch activations\n",
    "    if image_name in all_activations['nodes']:\n",
    "        activations = all_activations\n",
    "    else:\n",
    "        activations = activations = activations_store(image_name)\n",
    "        \n",
    "    kernel,inmap,outmap = edgename_2_edge_figures(edge_name, image_name, kernels, activations,params)\n",
    "    if inmap is not None:\n",
    "        return go.Figure(data=go.Heatmap(z = inmap,\n",
    "                                         #zmin=-2,zmax=2,\n",
    "                                         colorbar = dict(thicknessmode = \"fraction\",thickness=.1)\n",
    "                                        ),\n",
    "                         layout=edge_inmap_layout)\n",
    "    else:\n",
    "        print('edge inmap error')\n",
    "        return figure\n",
    "\n",
    "@app.callback(\n",
    "    Output('edgein-sum', 'children'),\n",
    "    [Input('edge-inmap-graph', 'figure')])\n",
    "def update_node_sum(fig):\n",
    "    mean = np.mean(fig['data'][0]['z'])\n",
    "    return 'mean: %s'%str(mean)    \n",
    "\n",
    "#edge out\n",
    "@app.callback(\n",
    "    Output('edge-outmap-graph', 'figure'),\n",
    "    [Input('edge-actmaps-input','value'),\n",
    "     Input('input-image-signal', 'children')],\n",
    "    [State('edge-outmap-graph','figure')])\n",
    "def update_edge_outmap(edge_name,image_name,figure):\n",
    "    print('CALLED: update_edge_outmap')\n",
    "    #fetch activations\n",
    "    if image_name in all_activations['nodes']:\n",
    "        activations = all_activations\n",
    "    else:\n",
    "        activations = activations_store(image_name)\n",
    "        \n",
    "    kernel,inmap,outmap = edgename_2_edge_figures(edge_name, image_name, kernels, activations,params)\n",
    "    if outmap is not None:\n",
    "        return go.Figure(data=go.Heatmap(z = outmap,\n",
    "                                         #zmin=-11,\n",
    "                                         #zmax=14,\n",
    "                                         colorbar = dict(thicknessmode = \"fraction\",thickness=.1)\n",
    "                                        ),\n",
    "                         layout=edge_outmap_layout)\n",
    "    else:\n",
    "        print('edge outmap error')\n",
    "        return figure\n",
    "        \n",
    "@app.callback(\n",
    "    Output('edgeout-sum', 'children'),\n",
    "    [Input('edge-outmap-graph', 'figure')])\n",
    "def update_node_sum(fig):\n",
    "    mean = np.mean(fig['data'][0]['z'])\n",
    "    return 'mean: %s'%str(mean)\n",
    "\n",
    "\n",
    "    \n",
    "\n",
    "\n",
    "# #JSON INFO\n",
    "\n",
    "# @app.callback(\n",
    "#     Output('hover-data', 'children'),\n",
    "#     [Input('node-actmap-graph', 'hoverData')])\n",
    "# def display_hover_data(hoverData):\n",
    "#     return json.dumps(hoverData, indent=2)\n",
    "\n",
    "\n",
    "\n",
    "\n",
    "# @app.callback(\n",
    "#     Output('click-data', 'children'),\n",
    "#     [Input('network-graph', 'clickData')])\n",
    "# def display_click_data(clickData):\n",
    "#     return json.dumps(clickData, indent=2)\n",
    "\n",
    "\n",
    "# @app.callback(\n",
    "#     Output('selected-data', 'children'),\n",
    "#     [Input('network-graph', 'selectedData')])\n",
    "# def display_selected_data(selectedData):\n",
    "#     return json.dumps(selectedData, indent=2)\n",
    "\n",
    "\n",
    "# @app.callback(\n",
    "#     Output('figure-data', 'children'),\n",
    "#     [Input('input-category', 'value'),\n",
    "#      Input('network-graph', 'clickData'),\n",
    "#      Input('edge-thresh-slider','value'),\n",
    "#      Input('memory','data')])\n",
    "# def display_trigger(target_category,clickData,edge_thresh,state):\n",
    "#     ctx = dash.callback_context\n",
    "#     if not ctx.triggered:\n",
    "#         raise Exception('no figure updates yet')\n",
    "#     else:\n",
    "#         trigger = ctx.triggered[0]['prop_id'].split('.')[0]\n",
    "#     ctx_msg = json.dumps({\n",
    "#         'states': ctx.states,\n",
    "#         'triggered': ctx.triggered,\n",
    "#         'inputs': ctx.inputs,\n",
    "#         'full_state':state\n",
    "#     }, indent=2)\n",
    "#     return ctx_msg"
   ]
  },
  {
   "cell_type": "code",
   "execution_count": null,
   "metadata": {},
   "outputs": [
    {
     "name": "stdout",
     "output_type": "stream",
     "text": [
      "Dash is running on http://127.0.0.1:8051/\n",
      "\n",
      " Warning: This is a development server. Do not use app.run_server\n",
      " in production, use a production WSGI server like gunicorn instead.\n",
      "\n",
      " * Serving Flask app \"__main__\" (lazy loading)\n",
      " * Environment: production\n",
      "\u001b[31m   WARNING: This is a development server. Do not use it in a production deployment.\u001b[0m\n",
      "\u001b[2m   Use a production WSGI server instead.\u001b[0m\n",
      " * Debug mode: off\n"
     ]
    },
    {
     "name": "stderr",
     "output_type": "stream",
     "text": [
      " * Running on http://127.0.0.1:8051/ (Press CTRL+C to quit)\n",
      "127.0.0.1 - - [03/Mar/2021 12:55:53] \"\u001b[37mGET / HTTP/1.1\u001b[0m\" 200 -\n",
      "127.0.0.1 - - [03/Mar/2021 12:55:54] \"\u001b[37mGET /_dash-component-suites/dash_renderer/polyfill@7.v1_6_0m1596203731.8.7.min.js HTTP/1.1\u001b[0m\" 200 -\n",
      "127.0.0.1 - - [03/Mar/2021 12:55:54] \"\u001b[37mGET /_dash-component-suites/dash_renderer/prop-types@15.v1_6_0m1596203731.7.2.min.js HTTP/1.1\u001b[0m\" 200 -\n",
      "127.0.0.1 - - [03/Mar/2021 12:55:54] \"\u001b[37mGET /_dash-component-suites/dash_renderer/react@16.v1_6_0m1596203731.13.0.min.js HTTP/1.1\u001b[0m\" 200 -\n",
      "127.0.0.1 - - [03/Mar/2021 12:55:54] \"\u001b[37mGET /_dash-component-suites/dash_core_components/dash_core_components-shared.v1_10_2m1596203744.js HTTP/1.1\u001b[0m\" 200 -\n",
      "127.0.0.1 - - [03/Mar/2021 12:55:54] \"\u001b[37mGET /_dash-component-suites/dash_renderer/react-dom@16.v1_6_0m1596203731.13.0.min.js HTTP/1.1\u001b[0m\" 200 -\n",
      "127.0.0.1 - - [03/Mar/2021 12:55:54] \"\u001b[37mGET /_dash-component-suites/dash_core_components/dash_core_components.v1_10_2m1596203744.min.js HTTP/1.1\u001b[0m\" 200 -\n",
      "127.0.0.1 - - [03/Mar/2021 12:55:54] \"\u001b[37mGET /_dash-component-suites/dash_html_components/dash_html_components.v1_0_3m1585840840.min.js HTTP/1.1\u001b[0m\" 200 -\n",
      "127.0.0.1 - - [03/Mar/2021 12:55:54] \"\u001b[37mGET /_dash-component-suites/dash_renderer/dash_renderer.v1_6_0m1596203731.min.js HTTP/1.1\u001b[0m\" 200 -\n",
      "127.0.0.1 - - [03/Mar/2021 12:55:55] \"\u001b[37mGET /_dash-dependencies HTTP/1.1\u001b[0m\" 200 -\n",
      "127.0.0.1 - - [03/Mar/2021 12:55:55] \"\u001b[37mGET /_favicon.ico?v=1.14.0 HTTP/1.1\u001b[0m\" 200 -\n",
      "127.0.0.1 - - [03/Mar/2021 12:55:57] \"\u001b[37mGET /_dash-layout HTTP/1.1\u001b[0m\" 200 -\n",
      "127.0.0.1 - - [03/Mar/2021 12:55:59] \"\u001b[37mPOST /_dash-update-component HTTP/1.1\u001b[0m\" 204 -\n"
     ]
    },
    {
     "name": "stdout",
     "output_type": "stream",
     "text": [
      "update ranksdf_store triggered\n",
      "Updating cached activations with Afghan_hound_10.JPEGUpdating cached rank dfs with overall\n",
      "\n",
      "running model to fetch activations\n"
     ]
    },
    {
     "name": "stderr",
     "output_type": "stream",
     "text": [
      "127.0.0.1 - - [03/Mar/2021 12:56:00] \"\u001b[37mPOST /_dash-update-component HTTP/1.1\u001b[0m\" 200 -\n"
     ]
    },
    {
     "name": "stdout",
     "output_type": "stream",
     "text": [
      "FROM RANKS DF STORE\n",
      "        edge_num   layer_name  layer  out_channel  in_channel  act_rank  \\\n",
      "0              0   features_0      0            0           0  1.465034   \n",
      "1              1   features_0      0            0           1  1.970814   \n",
      "2              2   features_0      0            0           2  0.393406   \n",
      "3              3   features_0      0            1           0  0.148556   \n",
      "4              4   features_0      0            1           1  1.430647   \n",
      "...          ...          ...    ...          ...         ...       ...   \n",
      "250043    250043  features_10      4          255         251  0.023459   \n",
      "250044    250044  features_10      4          255         252  0.002939   \n",
      "250045    250045  features_10      4          255         253  0.000003   \n",
      "250046    250046  features_10      4          255         254  0.000003   \n",
      "250047    250047  features_10      4          255         255  0.000001   \n",
      "\n",
      "        grad_rank  actxgrad_rank  \n",
      "0        0.000003   7.300622e-06  \n",
      "1        0.000003   1.105402e-05  \n",
      "2        0.000003   2.781176e-06  \n",
      "3        0.000003   7.590066e-07  \n",
      "4        0.000003   7.485013e-06  \n",
      "...           ...            ...  \n",
      "250043   0.000002   1.034863e-08  \n",
      "250044   0.000002   6.914784e-09  \n",
      "250045   0.000002   1.660530e-11  \n",
      "250046   0.000002   6.499231e-12  \n",
      "250047   0.000002   1.299915e-12  \n",
      "\n",
      "[250048 rows x 8 columns]\n"
     ]
    },
    {
     "name": "stderr",
     "output_type": "stream",
     "text": [
      "127.0.0.1 - - [03/Mar/2021 12:56:07] \"\u001b[37mPOST /_dash-update-component HTTP/1.1\u001b[0m\" 200 -\n",
      "127.0.0.1 - - [03/Mar/2021 12:56:23] \"\u001b[37mPOST /_dash-update-component HTTP/1.1\u001b[0m\" 200 -\n"
     ]
    },
    {
     "name": "stdout",
     "output_type": "stream",
     "text": [
      "CALLED: switch_node_actmap_click\n"
     ]
    },
    {
     "name": "stderr",
     "output_type": "stream",
     "text": [
      "127.0.0.1 - - [03/Mar/2021 12:56:23] \"\u001b[37mPOST /_dash-update-component HTTP/1.1\u001b[0m\" 200 -\n"
     ]
    },
    {
     "name": "stdout",
     "output_type": "stream",
     "text": [
      "CALLED: switch_edge_actmaps_click\n",
      "CALLED: update_node_actmap\n",
      "CALLED: update_node_deepviz\n",
      "generating feature_viz objective string for 0\n",
      "CALLED: update_node_inputs\n",
      "found pre-generated image\n",
      "CALLED: update_edge_outmap\n",
      "CALLED: update_edge_inmap\n",
      "CALLED: update_store\n",
      "\n",
      "TRIGGER edge-actmaps-input.value\n",
      "g-21\n"
     ]
    },
    {
     "name": "stderr",
     "output_type": "stream",
     "text": [
      "127.0.0.1 - - [03/Mar/2021 12:56:40] \"\u001b[37mPOST /_dash-update-component HTTP/1.1\u001b[0m\" 200 -\n",
      "127.0.0.1 - - [03/Mar/2021 12:56:40] \"\u001b[37mPOST /_dash-update-component HTTP/1.1\u001b[0m\" 200 -\n",
      "127.0.0.1 - - [03/Mar/2021 12:56:40] \"\u001b[37mPOST /_dash-update-component HTTP/1.1\u001b[0m\" 200 -\n"
     ]
    },
    {
     "name": "stdout",
     "output_type": "stream",
     "text": [
      "CALLED: update_edge_deepviz\n",
      "generating feature_viz objective string for g-21\n",
      "CALLED: update_edge_kernelmap\n",
      "found pre-generated image\n"
     ]
    },
    {
     "name": "stderr",
     "output_type": "stream",
     "text": [
      "127.0.0.1 - - [03/Mar/2021 12:56:40] \"\u001b[37mPOST /_dash-update-component HTTP/1.1\u001b[0m\" 200 -\n",
      "127.0.0.1 - - [03/Mar/2021 12:56:41] \"\u001b[37mPOST /_dash-update-component HTTP/1.1\u001b[0m\" 200 -\n"
     ]
    },
    {
     "name": "stdout",
     "output_type": "stream",
     "text": [
      "CALLED: update_figure\n",
      "\n",
      "[0.7, 1]\n",
      "['g-21']\n",
      "['0']\n",
      "updating edge highlight to g-21\n",
      "updating node highlight to 0\n"
     ]
    },
    {
     "name": "stderr",
     "output_type": "stream",
     "text": [
      "127.0.0.1 - - [03/Mar/2021 12:56:41] \"\u001b[37mPOST /_dash-update-component HTTP/1.1\u001b[0m\" 200 -\n",
      "127.0.0.1 - - [03/Mar/2021 12:56:41] \"\u001b[37mPOST /_dash-update-component HTTP/1.1\u001b[0m\" 200 -\n",
      "127.0.0.1 - - [03/Mar/2021 12:56:42] \"\u001b[37mPOST /_dash-update-component HTTP/1.1\u001b[0m\" 200 -\n",
      "127.0.0.1 - - [03/Mar/2021 12:56:42] \"\u001b[37mPOST /_dash-update-component HTTP/1.1\u001b[0m\" 200 -\n",
      "/home/chris/miniconda3/envs/pruning_viz/lib/python3.6/site-packages/lucent_edited/optvis/param/spatial.py:57: UserWarning:\n",
      "\n",
      "The function torch.irfft is deprecated and will be removed in a future PyTorch release. Use the new torch.fft module functions, instead, by importing torch.fft and calling torch.fft.ifft or torch.fft.irfft. (Triggered internally at  /pytorch/aten/src/ATen/native/SpectralOps.cpp:602.)\n",
      "\n",
      "  0%|          | 0/512 [00:00<?, ?it/s]"
     ]
    },
    {
     "name": "stdout",
     "output_type": "stream",
     "text": [
      "generating feature_viz objective string for g-0\n",
      "deepviz image not found for node input g-0, generating . . .\n",
      "generating featviz with objective: features_0_preadd_conv:64\n"
     ]
    },
    {
     "name": "stderr",
     "output_type": "stream",
     "text": [
      "  1%|          | 3/512 [00:00<00:18, 28.15it/s]127.0.0.1 - - [03/Mar/2021 12:56:42] \"\u001b[37mPOST /_dash-update-component HTTP/1.1\u001b[0m\" 200 -\n",
      " 12%|█▏        | 62/512 [00:01<00:12, 35.95it/s]127.0.0.1 - - [03/Mar/2021 12:56:44] \"\u001b[37mPOST /_dash-update-component HTTP/1.1\u001b[0m\" 200 -\n"
     ]
    },
    {
     "name": "stdout",
     "output_type": "stream",
     "text": [
      "CALLED: update_inputimg_actmap\n"
     ]
    },
    {
     "name": "stderr",
     "output_type": "stream",
     "text": [
      " 18%|█▊        | 90/512 [00:03<00:13, 30.94it/s]127.0.0.1 - - [03/Mar/2021 12:56:45] \"\u001b[37mPOST /_dash-update-component HTTP/1.1\u001b[0m\" 200 -\n",
      "100%|██████████| 512/512 [00:14<00:00, 34.34it/s]\n"
     ]
    },
    {
     "data": {
      "text/html": [
       "<div style=\"display: flex; flex-direction: row;\"><div style=\"margin-right:10px; margin-top: 4px;\">\n",
       "                            0 <br/>\n",
       "                            <img src=\"data:image/PNG;base64,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\" style=\"image-rendering: pixelated;\">\n",
       "                        </div></div>"
      ],
      "text/plain": [
       "<IPython.core.display.HTML object>"
      ]
     },
     "metadata": {},
     "output_type": "display_data"
    },
    {
     "name": "stderr",
     "output_type": "stream",
     "text": [
      "  1%|          | 4/512 [00:00<00:13, 37.67it/s]"
     ]
    },
    {
     "name": "stdout",
     "output_type": "stream",
     "text": [
      "generating feature_viz objective string for r-0\n",
      "deepviz image not found for node input r-0, generating . . .\n",
      "generating featviz with objective: features_0_preadd_conv:0\n"
     ]
    },
    {
     "name": "stderr",
     "output_type": "stream",
     "text": [
      "100%|██████████| 512/512 [00:14<00:00, 35.82it/s]\n"
     ]
    },
    {
     "data": {
      "text/html": [
       "<div style=\"display: flex; flex-direction: row;\"><div style=\"margin-right:10px; margin-top: 4px;\">\n",
       "                            0 <br/>\n",
       "                            <img src=\"data:image/PNG;base64,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\" style=\"image-rendering: pixelated;\">\n",
       "                        </div></div>"
      ],
      "text/plain": [
       "<IPython.core.display.HTML object>"
      ]
     },
     "metadata": {},
     "output_type": "display_data"
    },
    {
     "name": "stderr",
     "output_type": "stream",
     "text": [
      "  1%|          | 4/512 [00:00<00:13, 36.92it/s]"
     ]
    },
    {
     "name": "stdout",
     "output_type": "stream",
     "text": [
      "generating feature_viz objective string for b-0\n",
      "deepviz image not found for node input b-0, generating . . .\n",
      "generating featviz with objective: features_0_preadd_conv:128\n"
     ]
    },
    {
     "name": "stderr",
     "output_type": "stream",
     "text": [
      "100%|██████████| 512/512 [00:14<00:00, 35.79it/s]\n"
     ]
    },
    {
     "data": {
      "text/html": [
       "<div style=\"display: flex; flex-direction: row;\"><div style=\"margin-right:10px; margin-top: 4px;\">\n",
       "                            0 <br/>\n",
       "                            <img src=\"data:image/PNG;base64,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\" style=\"image-rendering: pixelated;\">\n",
       "                        </div></div>"
      ],
      "text/plain": [
       "<IPython.core.display.HTML object>"
      ]
     },
     "metadata": {},
     "output_type": "display_data"
    },
    {
     "name": "stderr",
     "output_type": "stream",
     "text": [
      "127.0.0.1 - - [03/Mar/2021 12:57:26] \"\u001b[37mPOST /_dash-update-component HTTP/1.1\u001b[0m\" 200 -\n",
      "127.0.0.1 - - [03/Mar/2021 12:58:13] \"\u001b[37mPOST /_dash-update-component HTTP/1.1\u001b[0m\" 200 -\n",
      "127.0.0.1 - - [03/Mar/2021 12:58:13] \"\u001b[37mPOST /_dash-update-component HTTP/1.1\u001b[0m\" 200 -\n",
      "127.0.0.1 - - [03/Mar/2021 12:58:13] \"\u001b[37mPOST /_dash-update-component HTTP/1.1\u001b[0m\" 200 -\n",
      "127.0.0.1 - - [03/Mar/2021 12:58:13] \"\u001b[37mPOST /_dash-update-component HTTP/1.1\u001b[0m\" 200 -\n",
      "127.0.0.1 - - [03/Mar/2021 12:58:13] \"\u001b[37mPOST /_dash-update-component HTTP/1.1\u001b[0m\" 200 -\n",
      "127.0.0.1 - - [03/Mar/2021 12:58:15] \"\u001b[37mPOST /_dash-update-component HTTP/1.1\u001b[0m\" 204 -\n",
      "127.0.0.1 - - [03/Mar/2021 12:58:15] \"\u001b[37mPOST /_dash-update-component HTTP/1.1\u001b[0m\" 200 -\n"
     ]
    },
    {
     "name": "stdout",
     "output_type": "stream",
     "text": [
      "Updating cached activations with tench_10026.JPEG\n",
      "running model to fetch activations\n",
      "CALLED: update_inputimg_actmap\n"
     ]
    },
    {
     "name": "stderr",
     "output_type": "stream",
     "text": [
      "127.0.0.1 - - [03/Mar/2021 12:58:22] \"\u001b[37mPOST /_dash-update-component HTTP/1.1\u001b[0m\" 200 -\n"
     ]
    },
    {
     "name": "stdout",
     "output_type": "stream",
     "text": [
      "CALLED: update_node_actmap\n",
      "CALLED: update_node_inputs\n",
      "CALLED: update_edge_outmap\n",
      "CALLED: update_edge_inmap\n"
     ]
    },
    {
     "name": "stderr",
     "output_type": "stream",
     "text": [
      "127.0.0.1 - - [03/Mar/2021 12:58:24] \"\u001b[37mPOST /_dash-update-component HTTP/1.1\u001b[0m\" 200 -\n",
      "127.0.0.1 - - [03/Mar/2021 12:58:24] \"\u001b[37mPOST /_dash-update-component HTTP/1.1\u001b[0m\" 200 -\n",
      "127.0.0.1 - - [03/Mar/2021 12:58:24] \"\u001b[37mPOST /_dash-update-component HTTP/1.1\u001b[0m\" 200 -\n",
      "127.0.0.1 - - [03/Mar/2021 12:58:25] \"\u001b[37mPOST /_dash-update-component HTTP/1.1\u001b[0m\" 200 -\n"
     ]
    },
    {
     "name": "stdout",
     "output_type": "stream",
     "text": [
      "generating feature_viz objective string for g-0\n",
      "found pre-generated edge image\n",
      "generating feature_viz objective string for r-0\n",
      "found pre-generated edge image\n",
      "generating feature_viz objective string for b-0\n",
      "found pre-generated edge image\n"
     ]
    },
    {
     "name": "stderr",
     "output_type": "stream",
     "text": [
      "127.0.0.1 - - [03/Mar/2021 12:58:25] \"\u001b[37mPOST /_dash-update-component HTTP/1.1\u001b[0m\" 200 -\n",
      "127.0.0.1 - - [03/Mar/2021 12:58:25] \"\u001b[37mPOST /_dash-update-component HTTP/1.1\u001b[0m\" 200 -\n",
      "127.0.0.1 - - [03/Mar/2021 12:58:25] \"\u001b[37mPOST /_dash-update-component HTTP/1.1\u001b[0m\" 200 -\n"
     ]
    },
    {
     "name": "stdout",
     "output_type": "stream",
     "text": [
      "CALLED: update_inputimg_actmap\n"
     ]
    },
    {
     "name": "stderr",
     "output_type": "stream",
     "text": [
      "127.0.0.1 - - [03/Mar/2021 12:58:25] \"\u001b[37mPOST /_dash-update-component HTTP/1.1\u001b[0m\" 200 -\n"
     ]
    },
    {
     "name": "stdout",
     "output_type": "stream",
     "text": [
      "update ranksdf_store triggered\n",
      "Updating cached rank dfs with t\n",
      "Exception on /_dash-update-component [POST]\n",
      "Traceback (most recent call last):\n",
      "  File \"/home/chris/miniconda3/envs/pruning_viz/lib/python3.6/site-packages/flask/app.py\", line 2447, in wsgi_app\n",
      "    response = self.full_dispatch_request()\n",
      "  File \"/home/chris/miniconda3/envs/pruning_viz/lib/python3.6/site-packages/flask/app.py\", line 1952, in full_dispatch_request\n",
      "    rv = self.handle_user_exception(e)\n",
      "  File \"/home/chris/miniconda3/envs/pruning_viz/lib/python3.6/site-packages/flask/app.py\", line 1821, in handle_user_exception\n",
      "    reraise(exc_type, exc_value, tb)\n",
      "  File \"/home/chris/miniconda3/envs/pruning_viz/lib/python3.6/site-packages/flask/_compat.py\", line 39, in reraise\n",
      "    raise value\n",
      "  File \"/home/chris/miniconda3/envs/pruning_viz/lib/python3.6/site-packages/flask/app.py\", line 1950, in full_dispatch_request\n",
      "    rv = self.dispatch_request()\n",
      "  File \"/home/chris/miniconda3/envs/pruning_viz/lib/python3.6/site-packages/flask/app.py\", line 1936, in dispatch_request\n",
      "    return self.view_functions[rule.endpoint](**req.view_args)\n",
      "  File \"/home/chris/miniconda3/envs/pruning_viz/lib/python3.6/site-packages/dash/dash.py\", line 1050, in dispatch\n",
      "    response.set_data(func(*args, outputs_list=outputs_list))\n",
      "  File \"/home/chris/miniconda3/envs/pruning_viz/lib/python3.6/site-packages/dash/dash.py\", line 985, in add_context\n",
      "    output_value = func(*args, **kwargs)  # %% callback invoked %%\n",
      "  File \"<ipython-input-15-ec10a891a1b5>\", line 418, in update_ranksdf_store\n",
      "    ranksdf_store(target_category,target_node)\n",
      "  File \"/home/chris/miniconda3/envs/pruning_viz/lib/python3.6/site-packages/flask_caching/__init__.py\", line 779, in decorated_function\n",
      "    rv = f(*args, **kwargs)\n",
      "  File \"<ipython-input-15-ec10a891a1b5>\", line 407, in ranksdf_store\n",
      "    target_category_nodes_df,target_category_edges_df = contrast_str_2_dfs(target_category,target_node,model_dis,params)\n",
      "  File \"/mnt/data/chris/dropbox/Research-Hamblin/Projects/cnn_subgraph_visualizer/visualizer_scripts/contrast_helper_functions.py\", line 165, in contrast_str_2_dfs\n",
      "    var_dict, sym_contrast_string = parse_contrast(contrast_string,all_input_images,params['categories'])\n",
      "  File \"/mnt/data/chris/dropbox/Research-Hamblin/Projects/cnn_subgraph_visualizer/visualizer_scripts/contrast_helper_functions.py\", line 72, in parse_contrast\n",
      "    raise ValueError(message)\n",
      "ValueError: \"t\" is not a valid weight category, all weight categories must be from image names in the \"input_image\" folder, or folder names under the \"rank_image\" folder\n"
     ]
    },
    {
     "name": "stderr",
     "output_type": "stream",
     "text": [
      "127.0.0.1 - - [03/Mar/2021 12:58:38] \"\u001b[35m\u001b[1mPOST /_dash-update-component HTTP/1.1\u001b[0m\" 500 -\n"
     ]
    },
    {
     "name": "stdout",
     "output_type": "stream",
     "text": [
      "update ranksdf_store triggered\n",
      "Updating cached rank dfs with te\n",
      "Exception on /_dash-update-component [POST]\n",
      "Traceback (most recent call last):\n",
      "  File \"/home/chris/miniconda3/envs/pruning_viz/lib/python3.6/site-packages/flask/app.py\", line 2447, in wsgi_app\n",
      "    response = self.full_dispatch_request()\n",
      "  File \"/home/chris/miniconda3/envs/pruning_viz/lib/python3.6/site-packages/flask/app.py\", line 1952, in full_dispatch_request\n",
      "    rv = self.handle_user_exception(e)\n",
      "  File \"/home/chris/miniconda3/envs/pruning_viz/lib/python3.6/site-packages/flask/app.py\", line 1821, in handle_user_exception\n",
      "    reraise(exc_type, exc_value, tb)\n",
      "  File \"/home/chris/miniconda3/envs/pruning_viz/lib/python3.6/site-packages/flask/_compat.py\", line 39, in reraise\n",
      "    raise value\n",
      "  File \"/home/chris/miniconda3/envs/pruning_viz/lib/python3.6/site-packages/flask/app.py\", line 1950, in full_dispatch_request\n",
      "    rv = self.dispatch_request()\n",
      "  File \"/home/chris/miniconda3/envs/pruning_viz/lib/python3.6/site-packages/flask/app.py\", line 1936, in dispatch_request\n",
      "    return self.view_functions[rule.endpoint](**req.view_args)\n",
      "  File \"/home/chris/miniconda3/envs/pruning_viz/lib/python3.6/site-packages/dash/dash.py\", line 1050, in dispatch\n",
      "    response.set_data(func(*args, outputs_list=outputs_list))\n",
      "  File \"/home/chris/miniconda3/envs/pruning_viz/lib/python3.6/site-packages/dash/dash.py\", line 985, in add_context\n",
      "    output_value = func(*args, **kwargs)  # %% callback invoked %%\n",
      "  File \"<ipython-input-15-ec10a891a1b5>\", line 418, in update_ranksdf_store\n",
      "    ranksdf_store(target_category,target_node)\n",
      "  File \"/home/chris/miniconda3/envs/pruning_viz/lib/python3.6/site-packages/flask_caching/__init__.py\", line 779, in decorated_function\n",
      "    rv = f(*args, **kwargs)\n",
      "  File \"<ipython-input-15-ec10a891a1b5>\", line 407, in ranksdf_store\n",
      "    target_category_nodes_df,target_category_edges_df = contrast_str_2_dfs(target_category,target_node,model_dis,params)\n",
      "  File \"/mnt/data/chris/dropbox/Research-Hamblin/Projects/cnn_subgraph_visualizer/visualizer_scripts/contrast_helper_functions.py\", line 165, in contrast_str_2_dfs\n",
      "    var_dict, sym_contrast_string = parse_contrast(contrast_string,all_input_images,params['categories'])\n",
      "  File \"/mnt/data/chris/dropbox/Research-Hamblin/Projects/cnn_subgraph_visualizer/visualizer_scripts/contrast_helper_functions.py\", line 72, in parse_contrast\n",
      "    raise ValueError(message)\n",
      "ValueError: \"te\" is not a valid weight category, all weight categories must be from image names in the \"input_image\" folder, or folder names under the \"rank_image\" folder\n"
     ]
    },
    {
     "name": "stderr",
     "output_type": "stream",
     "text": [
      "127.0.0.1 - - [03/Mar/2021 12:58:38] \"\u001b[35m\u001b[1mPOST /_dash-update-component HTTP/1.1\u001b[0m\" 500 -\n"
     ]
    },
    {
     "name": "stdout",
     "output_type": "stream",
     "text": [
      "update ranksdf_store triggered\n",
      "Updating cached rank dfs with ten\n",
      "Exception on /_dash-update-component [POST]\n",
      "Traceback (most recent call last):\n",
      "  File \"/home/chris/miniconda3/envs/pruning_viz/lib/python3.6/site-packages/flask/app.py\", line 2447, in wsgi_app\n",
      "    response = self.full_dispatch_request()\n",
      "  File \"/home/chris/miniconda3/envs/pruning_viz/lib/python3.6/site-packages/flask/app.py\", line 1952, in full_dispatch_request\n",
      "    rv = self.handle_user_exception(e)\n",
      "  File \"/home/chris/miniconda3/envs/pruning_viz/lib/python3.6/site-packages/flask/app.py\", line 1821, in handle_user_exception\n",
      "    reraise(exc_type, exc_value, tb)\n",
      "  File \"/home/chris/miniconda3/envs/pruning_viz/lib/python3.6/site-packages/flask/_compat.py\", line 39, in reraise\n",
      "    raise value\n",
      "  File \"/home/chris/miniconda3/envs/pruning_viz/lib/python3.6/site-packages/flask/app.py\", line 1950, in full_dispatch_request\n",
      "    rv = self.dispatch_request()\n",
      "  File \"/home/chris/miniconda3/envs/pruning_viz/lib/python3.6/site-packages/flask/app.py\", line 1936, in dispatch_request\n",
      "    return self.view_functions[rule.endpoint](**req.view_args)\n",
      "  File \"/home/chris/miniconda3/envs/pruning_viz/lib/python3.6/site-packages/dash/dash.py\", line 1050, in dispatch\n",
      "    response.set_data(func(*args, outputs_list=outputs_list))\n",
      "  File \"/home/chris/miniconda3/envs/pruning_viz/lib/python3.6/site-packages/dash/dash.py\", line 985, in add_context\n",
      "    output_value = func(*args, **kwargs)  # %% callback invoked %%\n",
      "  File \"<ipython-input-15-ec10a891a1b5>\", line 418, in update_ranksdf_store\n",
      "    ranksdf_store(target_category,target_node)\n",
      "  File \"/home/chris/miniconda3/envs/pruning_viz/lib/python3.6/site-packages/flask_caching/__init__.py\", line 779, in decorated_function\n",
      "    rv = f(*args, **kwargs)\n",
      "  File \"<ipython-input-15-ec10a891a1b5>\", line 407, in ranksdf_store\n",
      "    target_category_nodes_df,target_category_edges_df = contrast_str_2_dfs(target_category,target_node,model_dis,params)\n",
      "  File \"/mnt/data/chris/dropbox/Research-Hamblin/Projects/cnn_subgraph_visualizer/visualizer_scripts/contrast_helper_functions.py\", line 165, in contrast_str_2_dfs\n",
      "    var_dict, sym_contrast_string = parse_contrast(contrast_string,all_input_images,params['categories'])\n",
      "  File \"/mnt/data/chris/dropbox/Research-Hamblin/Projects/cnn_subgraph_visualizer/visualizer_scripts/contrast_helper_functions.py\", line 72, in parse_contrast\n",
      "    raise ValueError(message)\n",
      "ValueError: \"ten\" is not a valid weight category, all weight categories must be from image names in the \"input_image\" folder, or folder names under the \"rank_image\" folder\n"
     ]
    },
    {
     "name": "stderr",
     "output_type": "stream",
     "text": [
      "127.0.0.1 - - [03/Mar/2021 12:58:38] \"\u001b[35m\u001b[1mPOST /_dash-update-component HTTP/1.1\u001b[0m\" 500 -\n"
     ]
    },
    {
     "name": "stdout",
     "output_type": "stream",
     "text": [
      "update ranksdf_store triggered\n",
      "Updating cached rank dfs with tenc\n",
      "Exception on /_dash-update-component [POST]\n",
      "Traceback (most recent call last):\n",
      "  File \"/home/chris/miniconda3/envs/pruning_viz/lib/python3.6/site-packages/flask/app.py\", line 2447, in wsgi_app\n",
      "    response = self.full_dispatch_request()\n",
      "  File \"/home/chris/miniconda3/envs/pruning_viz/lib/python3.6/site-packages/flask/app.py\", line 1952, in full_dispatch_request\n",
      "    rv = self.handle_user_exception(e)\n",
      "  File \"/home/chris/miniconda3/envs/pruning_viz/lib/python3.6/site-packages/flask/app.py\", line 1821, in handle_user_exception\n",
      "    reraise(exc_type, exc_value, tb)\n",
      "  File \"/home/chris/miniconda3/envs/pruning_viz/lib/python3.6/site-packages/flask/_compat.py\", line 39, in reraise\n",
      "    raise value\n",
      "  File \"/home/chris/miniconda3/envs/pruning_viz/lib/python3.6/site-packages/flask/app.py\", line 1950, in full_dispatch_request\n",
      "    rv = self.dispatch_request()\n",
      "  File \"/home/chris/miniconda3/envs/pruning_viz/lib/python3.6/site-packages/flask/app.py\", line 1936, in dispatch_request\n",
      "    return self.view_functions[rule.endpoint](**req.view_args)\n",
      "  File \"/home/chris/miniconda3/envs/pruning_viz/lib/python3.6/site-packages/dash/dash.py\", line 1050, in dispatch\n",
      "    response.set_data(func(*args, outputs_list=outputs_list))\n",
      "  File \"/home/chris/miniconda3/envs/pruning_viz/lib/python3.6/site-packages/dash/dash.py\", line 985, in add_context\n",
      "    output_value = func(*args, **kwargs)  # %% callback invoked %%\n",
      "  File \"<ipython-input-15-ec10a891a1b5>\", line 418, in update_ranksdf_store\n",
      "    ranksdf_store(target_category,target_node)\n",
      "  File \"/home/chris/miniconda3/envs/pruning_viz/lib/python3.6/site-packages/flask_caching/__init__.py\", line 779, in decorated_function\n",
      "    rv = f(*args, **kwargs)\n",
      "  File \"<ipython-input-15-ec10a891a1b5>\", line 407, in ranksdf_store\n",
      "    target_category_nodes_df,target_category_edges_df = contrast_str_2_dfs(target_category,target_node,model_dis,params)\n",
      "  File \"/mnt/data/chris/dropbox/Research-Hamblin/Projects/cnn_subgraph_visualizer/visualizer_scripts/contrast_helper_functions.py\", line 165, in contrast_str_2_dfs\n",
      "    var_dict, sym_contrast_string = parse_contrast(contrast_string,all_input_images,params['categories'])\n",
      "  File \"/mnt/data/chris/dropbox/Research-Hamblin/Projects/cnn_subgraph_visualizer/visualizer_scripts/contrast_helper_functions.py\", line 72, in parse_contrast\n",
      "    raise ValueError(message)\n",
      "ValueError: \"tenc\" is not a valid weight category, all weight categories must be from image names in the \"input_image\" folder, or folder names under the \"rank_image\" folder\n"
     ]
    },
    {
     "name": "stderr",
     "output_type": "stream",
     "text": [
      "127.0.0.1 - - [03/Mar/2021 12:58:38] \"\u001b[35m\u001b[1mPOST /_dash-update-component HTTP/1.1\u001b[0m\" 500 -\n"
     ]
    },
    {
     "name": "stdout",
     "output_type": "stream",
     "text": [
      "update ranksdf_store triggered\n",
      "Updating cached rank dfs with tench\n"
     ]
    },
    {
     "name": "stderr",
     "output_type": "stream",
     "text": [
      "127.0.0.1 - - [03/Mar/2021 12:58:39] \"\u001b[37mPOST /_dash-update-component HTTP/1.1\u001b[0m\" 200 -\n"
     ]
    },
    {
     "name": "stdout",
     "output_type": "stream",
     "text": [
      "FROM RANKS DF STORE\n",
      "        edge_num   layer_name  layer  out_channel  in_channel      act_rank  \\\n",
      "0              0   features_0      0            0           0  1.366810e+00   \n",
      "1              1   features_0      0            0           1  1.800102e+00   \n",
      "2              2   features_0      0            0           2  3.738796e-01   \n",
      "3              3   features_0      0            1           0  1.411693e-01   \n",
      "4              4   features_0      0            1           1  1.281977e+00   \n",
      "...          ...          ...    ...          ...         ...           ...   \n",
      "250043    250043  features_10      4          255         251  2.375380e-02   \n",
      "250044    250044  features_10      4          255         252  4.073031e-03   \n",
      "250045    250045  features_10      4          255         253  9.949202e-07   \n",
      "250046    250046  features_10      4          255         254  2.298118e-06   \n",
      "250047    250047  features_10      4          255         255  1.944253e-06   \n",
      "\n",
      "           grad_rank  actxgrad_rank  \n",
      "0       2.708934e-06   6.568685e-06  \n",
      "1       2.708934e-06   9.726934e-06  \n",
      "2       2.708934e-06   2.536956e-06  \n",
      "3       3.188572e-06   6.239373e-07  \n",
      "4       3.188572e-06   6.351909e-06  \n",
      "...              ...            ...  \n",
      "250043  4.193042e-07   1.548404e-08  \n",
      "250044  4.193042e-07   2.135007e-09  \n",
      "250045  4.193042e-07   1.241065e-12  \n",
      "250046  4.193042e-07   4.550656e-13  \n",
      "250047  4.193042e-07   8.802435e-13  \n",
      "\n",
      "[250048 rows x 8 columns]\n",
      "CALLED: update_node_inputs\n",
      "CALLED: update_store\n",
      "\n",
      "TRIGGER target-signal.children\n"
     ]
    },
    {
     "name": "stderr",
     "output_type": "stream",
     "text": [
      "127.0.0.1 - - [03/Mar/2021 12:58:40] \"\u001b[37mPOST /_dash-update-component HTTP/1.1\u001b[0m\" 200 -\n"
     ]
    },
    {
     "name": "stdout",
     "output_type": "stream",
     "text": [
      "generating feature_viz objective string for g-0\n",
      "found pre-generated edge image\n",
      "generating feature_viz objective string for r-0\n",
      "found pre-generated edge image\n",
      "generating feature_viz objective string for b-0\n",
      "found pre-generated edge image\n",
      "MINMAX EDGES DF\n",
      "        edge_num   layer_name  layer  out_channel  in_channel  act_rank  \\\n",
      "0              0   features_0      0            0           0  0.206240   \n",
      "1              1   features_0      0            0           1  0.271625   \n",
      "2              2   features_0      0            0           2  0.056403   \n",
      "3              3   features_0      0            1           0  0.021287   \n",
      "4              4   features_0      0            1           1  0.193438   \n",
      "...          ...          ...    ...          ...         ...       ...   \n",
      "250043    250043  features_10      4          255         251  0.065638   \n",
      "250044    250044  features_10      4          255         252  0.011255   \n",
      "250045    250045  features_10      4          255         253  0.000003   \n",
      "250046    250046  features_10      4          255         254  0.000006   \n",
      "250047    250047  features_10      4          255         255  0.000005   \n",
      "\n",
      "        grad_rank  actxgrad_rank  \n",
      "0        0.128264   9.715675e-02  \n",
      "1        0.128264   1.438735e-01  \n",
      "2        0.128264   3.751945e-02  \n",
      "3        0.177000   9.222105e-03  \n",
      "4        0.177000   9.395021e-02  \n",
      "...           ...            ...  \n",
      "250043   0.005132   9.118823e-04  \n",
      "250044   0.005132   1.257343e-04  \n",
      "250045   0.005132   7.308846e-08  \n",
      "250046   0.005132   2.679961e-08  \n",
      "250047   0.005132   5.183907e-08  \n",
      "\n",
      "[250048 rows x 8 columns]\n",
      "changing target category to tench\n"
     ]
    },
    {
     "name": "stderr",
     "output_type": "stream",
     "text": [
      "127.0.0.1 - - [03/Mar/2021 12:58:41] \"\u001b[37mPOST /_dash-update-component HTTP/1.1\u001b[0m\" 200 -\n",
      "127.0.0.1 - - [03/Mar/2021 12:58:41] \"\u001b[37mPOST /_dash-update-component HTTP/1.1\u001b[0m\" 200 -\n"
     ]
    },
    {
     "name": "stdout",
     "output_type": "stream",
     "text": [
      "CALLED: update_figure\n",
      "\n",
      "[0.7, 1]\n",
      "['g-21']\n",
      "['0']\n",
      "building graph from browser \"state\"\n",
      "update ranksdf_store triggered\n",
      "Updating cached rank dfs with p\n",
      "update ranksdf_store triggered\n",
      "Updating cached rank dfs with pa\n",
      "Exception on /_dash-update-component [POST]\n",
      "Traceback (most recent call last):\n",
      "  File \"/home/chris/miniconda3/envs/pruning_viz/lib/python3.6/site-packages/flask/app.py\", line 2447, in wsgi_app\n",
      "    response = self.full_dispatch_request()\n",
      "  File \"/home/chris/miniconda3/envs/pruning_viz/lib/python3.6/site-packages/flask/app.py\", line 1952, in full_dispatch_request\n",
      "    rv = self.handle_user_exception(e)\n",
      "  File \"/home/chris/miniconda3/envs/pruning_viz/lib/python3.6/site-packages/flask/app.py\", line 1821, in handle_user_exception\n",
      "    reraise(exc_type, exc_value, tb)\n",
      "  File \"/home/chris/miniconda3/envs/pruning_viz/lib/python3.6/site-packages/flask/_compat.py\", line 39, in reraise\n",
      "    raise value\n",
      "  File \"/home/chris/miniconda3/envs/pruning_viz/lib/python3.6/site-packages/flask/app.py\", line 1950, in full_dispatch_request\n",
      "    rv = self.dispatch_request()\n",
      "  File \"/home/chris/miniconda3/envs/pruning_viz/lib/python3.6/site-packages/flask/app.py\", line 1936, in dispatch_request\n",
      "    return self.view_functions[rule.endpoint](**req.view_args)\n",
      "  File \"/home/chris/miniconda3/envs/pruning_viz/lib/python3.6/site-packages/dash/dash.py\", line 1050, in dispatch\n",
      "    response.set_data(func(*args, outputs_list=outputs_list))\n",
      "  File \"/home/chris/miniconda3/envs/pruning_viz/lib/python3.6/site-packages/dash/dash.py\", line 985, in add_context\n",
      "    output_value = func(*args, **kwargs)  # %% callback invoked %%\n",
      "  File \"<ipython-input-15-ec10a891a1b5>\", line 418, in update_ranksdf_store\n",
      "    ranksdf_store(target_category,target_node)\n",
      "  File \"/home/chris/miniconda3/envs/pruning_viz/lib/python3.6/site-packages/flask_caching/__init__.py\", line 779, in decorated_function\n",
      "    rv = f(*args, **kwargs)\n",
      "  File \"<ipython-input-15-ec10a891a1b5>\", line 407, in ranksdf_store\n",
      "    target_category_nodes_df,target_category_edges_df = contrast_str_2_dfs(target_category,target_node,model_dis,params)\n",
      "  File \"/mnt/data/chris/dropbox/Research-Hamblin/Projects/cnn_subgraph_visualizer/visualizer_scripts/contrast_helper_functions.py\", line 165, in contrast_str_2_dfs\n",
      "    var_dict, sym_contrast_string = parse_contrast(contrast_string,all_input_images,params['categories'])\n",
      "  File \"/mnt/data/chris/dropbox/Research-Hamblin/Projects/cnn_subgraph_visualizer/visualizer_scripts/contrast_helper_functions.py\", line 72, in parse_contrast\n",
      "    raise ValueError(message)\n",
      "ValueError: \"pa\" is not a valid weight category, all weight categories must be from image names in the \"input_image\" folder, or folder names under the \"rank_image\" folder\n"
     ]
    },
    {
     "name": "stderr",
     "output_type": "stream",
     "text": [
      "127.0.0.1 - - [03/Mar/2021 12:58:58] \"\u001b[35m\u001b[1mPOST /_dash-update-component HTTP/1.1\u001b[0m\" 500 -\n"
     ]
    },
    {
     "name": "stdout",
     "output_type": "stream",
     "text": [
      "Exception on /_dash-update-component [POST]\n",
      "Traceback (most recent call last):\n",
      "  File \"/home/chris/miniconda3/envs/pruning_viz/lib/python3.6/site-packages/flask/app.py\", line 2447, in wsgi_app\n",
      "    response = self.full_dispatch_request()\n",
      "  File \"/home/chris/miniconda3/envs/pruning_viz/lib/python3.6/site-packages/flask/app.py\", line 1952, in full_dispatch_request\n",
      "    rv = self.handle_user_exception(e)\n",
      "  File \"/home/chris/miniconda3/envs/pruning_viz/lib/python3.6/site-packages/flask/app.py\", line 1821, in handle_user_exception\n",
      "    reraise(exc_type, exc_value, tb)\n",
      "  File \"/home/chris/miniconda3/envs/pruning_viz/lib/python3.6/site-packages/flask/_compat.py\", line 39, in reraise\n",
      "    raise value\n",
      "  File \"/home/chris/miniconda3/envs/pruning_viz/lib/python3.6/site-packages/flask/app.py\", line 1950, in full_dispatch_request\n",
      "    rv = self.dispatch_request()\n",
      "  File \"/home/chris/miniconda3/envs/pruning_viz/lib/python3.6/site-packages/flask/app.py\", line 1936, in dispatch_request\n",
      "    return self.view_functions[rule.endpoint](**req.view_args)\n",
      "  File \"/home/chris/miniconda3/envs/pruning_viz/lib/python3.6/site-packages/dash/dash.py\", line 1050, in dispatch\n",
      "    response.set_data(func(*args, outputs_list=outputs_list))\n",
      "  File \"/home/chris/miniconda3/envs/pruning_viz/lib/python3.6/site-packages/dash/dash.py\", line 985, in add_context\n",
      "    output_value = func(*args, **kwargs)  # %% callback invoked %%\n",
      "  File \"<ipython-input-15-ec10a891a1b5>\", line 418, in update_ranksdf_store\n",
      "    ranksdf_store(target_category,target_node)\n",
      "  File \"/home/chris/miniconda3/envs/pruning_viz/lib/python3.6/site-packages/flask_caching/__init__.py\", line 779, in decorated_function\n",
      "    rv = f(*args, **kwargs)\n",
      "  File \"<ipython-input-15-ec10a891a1b5>\", line 407, in ranksdf_store\n",
      "    target_category_nodes_df,target_category_edges_df = contrast_str_2_dfs(target_category,target_node,model_dis,params)\n",
      "  File \"/mnt/data/chris/dropbox/Research-Hamblin/Projects/cnn_subgraph_visualizer/visualizer_scripts/contrast_helper_functions.py\", line 165, in contrast_str_2_dfs\n",
      "    var_dict, sym_contrast_string = parse_contrast(contrast_string,all_input_images,params['categories'])\n",
      "  File \"/mnt/data/chris/dropbox/Research-Hamblin/Projects/cnn_subgraph_visualizer/visualizer_scripts/contrast_helper_functions.py\", line 72, in parse_contrast\n",
      "    raise ValueError(message)\n",
      "ValueError: \"p\" is not a valid weight category, all weight categories must be from image names in the \"input_image\" folder, or folder names under the \"rank_image\" folder\n"
     ]
    },
    {
     "name": "stderr",
     "output_type": "stream",
     "text": [
      "127.0.0.1 - - [03/Mar/2021 12:58:58] \"\u001b[35m\u001b[1mPOST /_dash-update-component HTTP/1.1\u001b[0m\" 500 -\n"
     ]
    },
    {
     "name": "stdout",
     "output_type": "stream",
     "text": [
      "update ranksdf_store triggered\n",
      "Updating cached rank dfs with par\n",
      "Exception on /_dash-update-component [POST]\n",
      "Traceback (most recent call last):\n",
      "  File \"/home/chris/miniconda3/envs/pruning_viz/lib/python3.6/site-packages/flask/app.py\", line 2447, in wsgi_app\n",
      "    response = self.full_dispatch_request()\n",
      "  File \"/home/chris/miniconda3/envs/pruning_viz/lib/python3.6/site-packages/flask/app.py\", line 1952, in full_dispatch_request\n",
      "    rv = self.handle_user_exception(e)\n",
      "  File \"/home/chris/miniconda3/envs/pruning_viz/lib/python3.6/site-packages/flask/app.py\", line 1821, in handle_user_exception\n",
      "    reraise(exc_type, exc_value, tb)\n",
      "  File \"/home/chris/miniconda3/envs/pruning_viz/lib/python3.6/site-packages/flask/_compat.py\", line 39, in reraise\n",
      "    raise value\n",
      "  File \"/home/chris/miniconda3/envs/pruning_viz/lib/python3.6/site-packages/flask/app.py\", line 1950, in full_dispatch_request\n",
      "    rv = self.dispatch_request()\n",
      "  File \"/home/chris/miniconda3/envs/pruning_viz/lib/python3.6/site-packages/flask/app.py\", line 1936, in dispatch_request\n",
      "    return self.view_functions[rule.endpoint](**req.view_args)\n",
      "  File \"/home/chris/miniconda3/envs/pruning_viz/lib/python3.6/site-packages/dash/dash.py\", line 1050, in dispatch\n",
      "    response.set_data(func(*args, outputs_list=outputs_list))\n",
      "  File \"/home/chris/miniconda3/envs/pruning_viz/lib/python3.6/site-packages/dash/dash.py\", line 985, in add_context\n",
      "    output_value = func(*args, **kwargs)  # %% callback invoked %%\n",
      "  File \"<ipython-input-15-ec10a891a1b5>\", line 418, in update_ranksdf_store\n",
      "    ranksdf_store(target_category,target_node)\n",
      "  File \"/home/chris/miniconda3/envs/pruning_viz/lib/python3.6/site-packages/flask_caching/__init__.py\", line 779, in decorated_function\n",
      "    rv = f(*args, **kwargs)\n",
      "  File \"<ipython-input-15-ec10a891a1b5>\", line 407, in ranksdf_store\n",
      "    target_category_nodes_df,target_category_edges_df = contrast_str_2_dfs(target_category,target_node,model_dis,params)\n",
      "  File \"/mnt/data/chris/dropbox/Research-Hamblin/Projects/cnn_subgraph_visualizer/visualizer_scripts/contrast_helper_functions.py\", line 165, in contrast_str_2_dfs\n",
      "    var_dict, sym_contrast_string = parse_contrast(contrast_string,all_input_images,params['categories'])\n",
      "  File \"/mnt/data/chris/dropbox/Research-Hamblin/Projects/cnn_subgraph_visualizer/visualizer_scripts/contrast_helper_functions.py\", line 72, in parse_contrast\n",
      "    raise ValueError(message)\n",
      "ValueError: \"par\" is not a valid weight category, all weight categories must be from image names in the \"input_image\" folder, or folder names under the \"rank_image\" folder\n"
     ]
    },
    {
     "name": "stderr",
     "output_type": "stream",
     "text": [
      "127.0.0.1 - - [03/Mar/2021 12:58:58] \"\u001b[35m\u001b[1mPOST /_dash-update-component HTTP/1.1\u001b[0m\" 500 -\n"
     ]
    },
    {
     "name": "stdout",
     "output_type": "stream",
     "text": [
      "update ranksdf_store triggered\n",
      "Updating cached rank dfs with para\n",
      "Exception on /_dash-update-component [POST]\n",
      "Traceback (most recent call last):\n",
      "  File \"/home/chris/miniconda3/envs/pruning_viz/lib/python3.6/site-packages/flask/app.py\", line 2447, in wsgi_app\n",
      "    response = self.full_dispatch_request()\n",
      "  File \"/home/chris/miniconda3/envs/pruning_viz/lib/python3.6/site-packages/flask/app.py\", line 1952, in full_dispatch_request\n",
      "    rv = self.handle_user_exception(e)\n",
      "  File \"/home/chris/miniconda3/envs/pruning_viz/lib/python3.6/site-packages/flask/app.py\", line 1821, in handle_user_exception\n",
      "    reraise(exc_type, exc_value, tb)\n",
      "  File \"/home/chris/miniconda3/envs/pruning_viz/lib/python3.6/site-packages/flask/_compat.py\", line 39, in reraise\n",
      "    raise value\n",
      "  File \"/home/chris/miniconda3/envs/pruning_viz/lib/python3.6/site-packages/flask/app.py\", line 1950, in full_dispatch_request\n",
      "    rv = self.dispatch_request()\n",
      "  File \"/home/chris/miniconda3/envs/pruning_viz/lib/python3.6/site-packages/flask/app.py\", line 1936, in dispatch_request\n",
      "    return self.view_functions[rule.endpoint](**req.view_args)\n",
      "  File \"/home/chris/miniconda3/envs/pruning_viz/lib/python3.6/site-packages/dash/dash.py\", line 1050, in dispatch\n",
      "    response.set_data(func(*args, outputs_list=outputs_list))\n",
      "  File \"/home/chris/miniconda3/envs/pruning_viz/lib/python3.6/site-packages/dash/dash.py\", line 985, in add_context\n",
      "    output_value = func(*args, **kwargs)  # %% callback invoked %%\n",
      "  File \"<ipython-input-15-ec10a891a1b5>\", line 418, in update_ranksdf_store\n",
      "    ranksdf_store(target_category,target_node)\n",
      "  File \"/home/chris/miniconda3/envs/pruning_viz/lib/python3.6/site-packages/flask_caching/__init__.py\", line 779, in decorated_function\n",
      "    rv = f(*args, **kwargs)\n",
      "  File \"<ipython-input-15-ec10a891a1b5>\", line 407, in ranksdf_store\n",
      "    target_category_nodes_df,target_category_edges_df = contrast_str_2_dfs(target_category,target_node,model_dis,params)\n",
      "  File \"/mnt/data/chris/dropbox/Research-Hamblin/Projects/cnn_subgraph_visualizer/visualizer_scripts/contrast_helper_functions.py\", line 165, in contrast_str_2_dfs\n",
      "    var_dict, sym_contrast_string = parse_contrast(contrast_string,all_input_images,params['categories'])\n",
      "  File \"/mnt/data/chris/dropbox/Research-Hamblin/Projects/cnn_subgraph_visualizer/visualizer_scripts/contrast_helper_functions.py\", line 72, in parse_contrast\n",
      "    raise ValueError(message)\n",
      "ValueError: \"para\" is not a valid weight category, all weight categories must be from image names in the \"input_image\" folder, or folder names under the \"rank_image\" folder\n"
     ]
    },
    {
     "name": "stderr",
     "output_type": "stream",
     "text": [
      "127.0.0.1 - - [03/Mar/2021 12:58:58] \"\u001b[35m\u001b[1mPOST /_dash-update-component HTTP/1.1\u001b[0m\" 500 -\n"
     ]
    },
    {
     "name": "stdout",
     "output_type": "stream",
     "text": [
      "update ranksdf_store triggered\n",
      "Updating cached rank dfs with parac\n",
      "Exception on /_dash-update-component [POST]\n",
      "Traceback (most recent call last):\n",
      "  File \"/home/chris/miniconda3/envs/pruning_viz/lib/python3.6/site-packages/flask/app.py\", line 2447, in wsgi_app\n",
      "    response = self.full_dispatch_request()\n",
      "  File \"/home/chris/miniconda3/envs/pruning_viz/lib/python3.6/site-packages/flask/app.py\", line 1952, in full_dispatch_request\n",
      "    rv = self.handle_user_exception(e)\n",
      "  File \"/home/chris/miniconda3/envs/pruning_viz/lib/python3.6/site-packages/flask/app.py\", line 1821, in handle_user_exception\n",
      "    reraise(exc_type, exc_value, tb)\n",
      "  File \"/home/chris/miniconda3/envs/pruning_viz/lib/python3.6/site-packages/flask/_compat.py\", line 39, in reraise\n",
      "    raise value\n",
      "  File \"/home/chris/miniconda3/envs/pruning_viz/lib/python3.6/site-packages/flask/app.py\", line 1950, in full_dispatch_request\n",
      "    rv = self.dispatch_request()\n",
      "  File \"/home/chris/miniconda3/envs/pruning_viz/lib/python3.6/site-packages/flask/app.py\", line 1936, in dispatch_request\n",
      "    return self.view_functions[rule.endpoint](**req.view_args)\n",
      "  File \"/home/chris/miniconda3/envs/pruning_viz/lib/python3.6/site-packages/dash/dash.py\", line 1050, in dispatch\n",
      "    response.set_data(func(*args, outputs_list=outputs_list))\n",
      "  File \"/home/chris/miniconda3/envs/pruning_viz/lib/python3.6/site-packages/dash/dash.py\", line 985, in add_context\n",
      "    output_value = func(*args, **kwargs)  # %% callback invoked %%\n",
      "  File \"<ipython-input-15-ec10a891a1b5>\", line 418, in update_ranksdf_store\n",
      "    ranksdf_store(target_category,target_node)\n",
      "  File \"/home/chris/miniconda3/envs/pruning_viz/lib/python3.6/site-packages/flask_caching/__init__.py\", line 779, in decorated_function\n",
      "    rv = f(*args, **kwargs)\n",
      "  File \"<ipython-input-15-ec10a891a1b5>\", line 407, in ranksdf_store\n",
      "    target_category_nodes_df,target_category_edges_df = contrast_str_2_dfs(target_category,target_node,model_dis,params)\n",
      "  File \"/mnt/data/chris/dropbox/Research-Hamblin/Projects/cnn_subgraph_visualizer/visualizer_scripts/contrast_helper_functions.py\", line 165, in contrast_str_2_dfs\n",
      "    var_dict, sym_contrast_string = parse_contrast(contrast_string,all_input_images,params['categories'])\n",
      "  File \"/mnt/data/chris/dropbox/Research-Hamblin/Projects/cnn_subgraph_visualizer/visualizer_scripts/contrast_helper_functions.py\", line 72, in parse_contrast\n",
      "    raise ValueError(message)\n",
      "ValueError: \"parac\" is not a valid weight category, all weight categories must be from image names in the \"input_image\" folder, or folder names under the \"rank_image\" folder\n"
     ]
    },
    {
     "name": "stderr",
     "output_type": "stream",
     "text": [
      "127.0.0.1 - - [03/Mar/2021 12:58:58] \"\u001b[35m\u001b[1mPOST /_dash-update-component HTTP/1.1\u001b[0m\" 500 -\n"
     ]
    },
    {
     "name": "stdout",
     "output_type": "stream",
     "text": [
      "update ranksdf_store triggered\n",
      "Updating cached rank dfs with parach\n",
      "Exception on /_dash-update-component [POST]\n",
      "Traceback (most recent call last):\n",
      "  File \"/home/chris/miniconda3/envs/pruning_viz/lib/python3.6/site-packages/flask/app.py\", line 2447, in wsgi_app\n",
      "    response = self.full_dispatch_request()\n",
      "  File \"/home/chris/miniconda3/envs/pruning_viz/lib/python3.6/site-packages/flask/app.py\", line 1952, in full_dispatch_request\n",
      "    rv = self.handle_user_exception(e)\n",
      "  File \"/home/chris/miniconda3/envs/pruning_viz/lib/python3.6/site-packages/flask/app.py\", line 1821, in handle_user_exception\n",
      "    reraise(exc_type, exc_value, tb)\n",
      "  File \"/home/chris/miniconda3/envs/pruning_viz/lib/python3.6/site-packages/flask/_compat.py\", line 39, in reraise\n",
      "    raise value\n",
      "  File \"/home/chris/miniconda3/envs/pruning_viz/lib/python3.6/site-packages/flask/app.py\", line 1950, in full_dispatch_request\n",
      "    rv = self.dispatch_request()\n",
      "  File \"/home/chris/miniconda3/envs/pruning_viz/lib/python3.6/site-packages/flask/app.py\", line 1936, in dispatch_request\n",
      "    return self.view_functions[rule.endpoint](**req.view_args)\n",
      "  File \"/home/chris/miniconda3/envs/pruning_viz/lib/python3.6/site-packages/dash/dash.py\", line 1050, in dispatch\n",
      "    response.set_data(func(*args, outputs_list=outputs_list))\n",
      "  File \"/home/chris/miniconda3/envs/pruning_viz/lib/python3.6/site-packages/dash/dash.py\", line 985, in add_context\n",
      "    output_value = func(*args, **kwargs)  # %% callback invoked %%\n",
      "  File \"<ipython-input-15-ec10a891a1b5>\", line 418, in update_ranksdf_store\n",
      "    ranksdf_store(target_category,target_node)\n",
      "  File \"/home/chris/miniconda3/envs/pruning_viz/lib/python3.6/site-packages/flask_caching/__init__.py\", line 779, in decorated_function\n",
      "    rv = f(*args, **kwargs)\n",
      "  File \"<ipython-input-15-ec10a891a1b5>\", line 407, in ranksdf_store\n",
      "    target_category_nodes_df,target_category_edges_df = contrast_str_2_dfs(target_category,target_node,model_dis,params)\n",
      "  File \"/mnt/data/chris/dropbox/Research-Hamblin/Projects/cnn_subgraph_visualizer/visualizer_scripts/contrast_helper_functions.py\", line 165, in contrast_str_2_dfs\n",
      "    var_dict, sym_contrast_string = parse_contrast(contrast_string,all_input_images,params['categories'])\n",
      "  File \"/mnt/data/chris/dropbox/Research-Hamblin/Projects/cnn_subgraph_visualizer/visualizer_scripts/contrast_helper_functions.py\", line 72, in parse_contrast\n",
      "    raise ValueError(message)\n",
      "ValueError: \"parach\" is not a valid weight category, all weight categories must be from image names in the \"input_image\" folder, or folder names under the \"rank_image\" folder\n"
     ]
    },
    {
     "name": "stderr",
     "output_type": "stream",
     "text": [
      "127.0.0.1 - - [03/Mar/2021 12:58:58] \"\u001b[35m\u001b[1mPOST /_dash-update-component HTTP/1.1\u001b[0m\" 500 -\n"
     ]
    },
    {
     "name": "stdout",
     "output_type": "stream",
     "text": [
      "update ranksdf_store triggered\n",
      "Updating cached rank dfs with parachu\n",
      "Exception on /_dash-update-component [POST]\n",
      "Traceback (most recent call last):\n",
      "  File \"/home/chris/miniconda3/envs/pruning_viz/lib/python3.6/site-packages/flask/app.py\", line 2447, in wsgi_app\n",
      "    response = self.full_dispatch_request()\n",
      "  File \"/home/chris/miniconda3/envs/pruning_viz/lib/python3.6/site-packages/flask/app.py\", line 1952, in full_dispatch_request\n",
      "    rv = self.handle_user_exception(e)\n",
      "  File \"/home/chris/miniconda3/envs/pruning_viz/lib/python3.6/site-packages/flask/app.py\", line 1821, in handle_user_exception\n",
      "    reraise(exc_type, exc_value, tb)\n",
      "  File \"/home/chris/miniconda3/envs/pruning_viz/lib/python3.6/site-packages/flask/_compat.py\", line 39, in reraise\n",
      "    raise value\n",
      "  File \"/home/chris/miniconda3/envs/pruning_viz/lib/python3.6/site-packages/flask/app.py\", line 1950, in full_dispatch_request\n",
      "    rv = self.dispatch_request()\n",
      "  File \"/home/chris/miniconda3/envs/pruning_viz/lib/python3.6/site-packages/flask/app.py\", line 1936, in dispatch_request\n",
      "    return self.view_functions[rule.endpoint](**req.view_args)\n",
      "  File \"/home/chris/miniconda3/envs/pruning_viz/lib/python3.6/site-packages/dash/dash.py\", line 1050, in dispatch\n",
      "    response.set_data(func(*args, outputs_list=outputs_list))\n",
      "  File \"/home/chris/miniconda3/envs/pruning_viz/lib/python3.6/site-packages/dash/dash.py\", line 985, in add_context\n",
      "    output_value = func(*args, **kwargs)  # %% callback invoked %%\n",
      "  File \"<ipython-input-15-ec10a891a1b5>\", line 418, in update_ranksdf_store\n",
      "    ranksdf_store(target_category,target_node)\n",
      "  File \"/home/chris/miniconda3/envs/pruning_viz/lib/python3.6/site-packages/flask_caching/__init__.py\", line 779, in decorated_function\n",
      "    rv = f(*args, **kwargs)\n",
      "  File \"<ipython-input-15-ec10a891a1b5>\", line 407, in ranksdf_store\n",
      "    target_category_nodes_df,target_category_edges_df = contrast_str_2_dfs(target_category,target_node,model_dis,params)\n",
      "  File \"/mnt/data/chris/dropbox/Research-Hamblin/Projects/cnn_subgraph_visualizer/visualizer_scripts/contrast_helper_functions.py\", line 165, in contrast_str_2_dfs\n",
      "    var_dict, sym_contrast_string = parse_contrast(contrast_string,all_input_images,params['categories'])\n",
      "  File \"/mnt/data/chris/dropbox/Research-Hamblin/Projects/cnn_subgraph_visualizer/visualizer_scripts/contrast_helper_functions.py\", line 72, in parse_contrast\n",
      "    raise ValueError(message)\n",
      "ValueError: \"parachu\" is not a valid weight category, all weight categories must be from image names in the \"input_image\" folder, or folder names under the \"rank_image\" folder\n"
     ]
    },
    {
     "name": "stderr",
     "output_type": "stream",
     "text": [
      "127.0.0.1 - - [03/Mar/2021 12:58:59] \"\u001b[35m\u001b[1mPOST /_dash-update-component HTTP/1.1\u001b[0m\" 500 -\n"
     ]
    },
    {
     "name": "stdout",
     "output_type": "stream",
     "text": [
      "update ranksdf_store triggered\n",
      "Updating cached rank dfs with parachut\n",
      "Exception on /_dash-update-component [POST]\n",
      "Traceback (most recent call last):\n",
      "  File \"/home/chris/miniconda3/envs/pruning_viz/lib/python3.6/site-packages/flask/app.py\", line 2447, in wsgi_app\n",
      "    response = self.full_dispatch_request()\n",
      "  File \"/home/chris/miniconda3/envs/pruning_viz/lib/python3.6/site-packages/flask/app.py\", line 1952, in full_dispatch_request\n",
      "    rv = self.handle_user_exception(e)\n",
      "  File \"/home/chris/miniconda3/envs/pruning_viz/lib/python3.6/site-packages/flask/app.py\", line 1821, in handle_user_exception\n",
      "    reraise(exc_type, exc_value, tb)\n",
      "  File \"/home/chris/miniconda3/envs/pruning_viz/lib/python3.6/site-packages/flask/_compat.py\", line 39, in reraise\n",
      "    raise value\n",
      "  File \"/home/chris/miniconda3/envs/pruning_viz/lib/python3.6/site-packages/flask/app.py\", line 1950, in full_dispatch_request\n",
      "    rv = self.dispatch_request()\n",
      "  File \"/home/chris/miniconda3/envs/pruning_viz/lib/python3.6/site-packages/flask/app.py\", line 1936, in dispatch_request\n",
      "    return self.view_functions[rule.endpoint](**req.view_args)\n",
      "  File \"/home/chris/miniconda3/envs/pruning_viz/lib/python3.6/site-packages/dash/dash.py\", line 1050, in dispatch\n",
      "    response.set_data(func(*args, outputs_list=outputs_list))\n",
      "  File \"/home/chris/miniconda3/envs/pruning_viz/lib/python3.6/site-packages/dash/dash.py\", line 985, in add_context\n",
      "    output_value = func(*args, **kwargs)  # %% callback invoked %%\n",
      "  File \"<ipython-input-15-ec10a891a1b5>\", line 418, in update_ranksdf_store\n",
      "    ranksdf_store(target_category,target_node)\n",
      "  File \"/home/chris/miniconda3/envs/pruning_viz/lib/python3.6/site-packages/flask_caching/__init__.py\", line 779, in decorated_function\n",
      "    rv = f(*args, **kwargs)\n",
      "  File \"<ipython-input-15-ec10a891a1b5>\", line 407, in ranksdf_store\n",
      "    target_category_nodes_df,target_category_edges_df = contrast_str_2_dfs(target_category,target_node,model_dis,params)\n",
      "  File \"/mnt/data/chris/dropbox/Research-Hamblin/Projects/cnn_subgraph_visualizer/visualizer_scripts/contrast_helper_functions.py\", line 165, in contrast_str_2_dfs\n",
      "    var_dict, sym_contrast_string = parse_contrast(contrast_string,all_input_images,params['categories'])\n",
      "  File \"/mnt/data/chris/dropbox/Research-Hamblin/Projects/cnn_subgraph_visualizer/visualizer_scripts/contrast_helper_functions.py\", line 72, in parse_contrast\n",
      "    raise ValueError(message)\n",
      "ValueError: \"parachut\" is not a valid weight category, all weight categories must be from image names in the \"input_image\" folder, or folder names under the \"rank_image\" folder\n"
     ]
    },
    {
     "name": "stderr",
     "output_type": "stream",
     "text": [
      "127.0.0.1 - - [03/Mar/2021 12:58:59] \"\u001b[35m\u001b[1mPOST /_dash-update-component HTTP/1.1\u001b[0m\" 500 -\n"
     ]
    },
    {
     "name": "stdout",
     "output_type": "stream",
     "text": [
      "update ranksdf_store triggered\n",
      "Updating cached rank dfs with parachute\n"
     ]
    },
    {
     "name": "stderr",
     "output_type": "stream",
     "text": [
      "127.0.0.1 - - [03/Mar/2021 12:59:00] \"\u001b[37mPOST /_dash-update-component HTTP/1.1\u001b[0m\" 200 -\n"
     ]
    },
    {
     "name": "stdout",
     "output_type": "stream",
     "text": [
      "FROM RANKS DF STORE\n",
      "        edge_num   layer_name  layer  out_channel  in_channel      act_rank  \\\n",
      "0              0   features_0      0            0           0  9.570010e-01   \n",
      "1              1   features_0      0            0           1  1.269885e+00   \n",
      "2              2   features_0      0            0           2  2.921651e-01   \n",
      "3              3   features_0      0            1           0  9.160648e-02   \n",
      "4              4   features_0      0            1           1  1.234085e+00   \n",
      "...          ...          ...    ...          ...         ...           ...   \n",
      "250043    250043  features_10      4          255         251  2.110358e-02   \n",
      "250044    250044  features_10      4          255         252  2.345574e-03   \n",
      "250045    250045  features_10      4          255         253  4.583593e-06   \n",
      "250046    250046  features_10      4          255         254  1.751005e-06   \n",
      "250047    250047  features_10      4          255         255  6.064408e-07   \n",
      "\n",
      "           grad_rank  actxgrad_rank  \n",
      "0       1.613262e-06   3.969410e-06  \n",
      "1       1.613262e-06   5.953386e-06  \n",
      "2       1.613262e-06   1.448877e-06  \n",
      "3       1.755072e-06   4.079668e-07  \n",
      "4       1.755072e-06   3.826364e-06  \n",
      "...              ...            ...  \n",
      "250043  4.386533e-07   2.193596e-09  \n",
      "250044  4.386533e-07   1.444722e-09  \n",
      "250045  4.386533e-07   2.123225e-12  \n",
      "250046  4.386533e-07   9.177516e-13  \n",
      "250047  4.386533e-07   3.506657e-13  \n",
      "\n",
      "[250048 rows x 8 columns]\n",
      "CALLED: update_node_inputs\n",
      "CALLED: update_store\n",
      "\n",
      "TRIGGER target-signal.children\n"
     ]
    },
    {
     "name": "stderr",
     "output_type": "stream",
     "text": [
      "127.0.0.1 - - [03/Mar/2021 12:59:01] \"\u001b[37mPOST /_dash-update-component HTTP/1.1\u001b[0m\" 200 -\n"
     ]
    },
    {
     "name": "stdout",
     "output_type": "stream",
     "text": [
      "generating feature_viz objective string for g-0\n",
      "found pre-generated edge image\n",
      "generating feature_viz objective string for r-0\n",
      "found pre-generated edge image\n",
      "generating feature_viz objective string for b-0\n",
      "found pre-generated edge image\n",
      "MINMAX EDGES DF\n",
      "        edge_num   layer_name  layer  out_channel  in_channel      act_rank  \\\n",
      "0              0   features_0      0            0           0  1.489598e-01   \n",
      "1              1   features_0      0            0           1  1.976667e-01   \n",
      "2              2   features_0      0            0           2  4.546441e-02   \n",
      "3              3   features_0      0            1           0  1.424333e-02   \n",
      "4              4   features_0      0            1           1  1.920936e-01   \n",
      "...          ...          ...    ...          ...         ...           ...   \n",
      "250043    250043  features_10      4          255         251  3.350759e-02   \n",
      "250044    250044  features_10      4          255         252  3.724215e-03   \n",
      "250045    250045  features_10      4          255         253  7.264084e-06   \n",
      "250046    250046  features_10      4          255         254  2.766589e-06   \n",
      "250047    250047  features_10      4          255         255  9.492866e-07   \n",
      "\n",
      "        grad_rank  actxgrad_rank  \n",
      "0        0.130304   1.053211e-01  \n",
      "1        0.130304   1.579687e-01  \n",
      "2        0.130304   3.843511e-02  \n",
      "3        0.154912   1.081306e-02  \n",
      "4        0.154912   1.015251e-01  \n",
      "...           ...            ...  \n",
      "250043   0.006622   8.502724e-05  \n",
      "250044   0.006622   5.599968e-05  \n",
      "250045   0.006622   8.229953e-08  \n",
      "250046   0.006622   3.557349e-08  \n",
      "250047   0.006622   1.359236e-08  \n",
      "\n",
      "[250048 rows x 8 columns]\n",
      "changing target category to parachute\n"
     ]
    },
    {
     "name": "stderr",
     "output_type": "stream",
     "text": [
      "127.0.0.1 - - [03/Mar/2021 12:59:01] \"\u001b[37mPOST /_dash-update-component HTTP/1.1\u001b[0m\" 200 -\n",
      "127.0.0.1 - - [03/Mar/2021 12:59:02] \"\u001b[37mPOST /_dash-update-component HTTP/1.1\u001b[0m\" 200 -\n"
     ]
    },
    {
     "name": "stdout",
     "output_type": "stream",
     "text": [
      "CALLED: update_figure\n",
      "\n",
      "[0.7, 1]\n",
      "['g-21']\n",
      "['0']\n",
      "building graph from browser \"state\"\n",
      "update ranksdf_store triggered\n",
      "Updating cached rank dfs with c\n",
      "Exception on /_dash-update-component [POST]\n",
      "Traceback (most recent call last):\n",
      "  File \"/home/chris/miniconda3/envs/pruning_viz/lib/python3.6/site-packages/flask/app.py\", line 2447, in wsgi_app\n",
      "    response = self.full_dispatch_request()\n",
      "  File \"/home/chris/miniconda3/envs/pruning_viz/lib/python3.6/site-packages/flask/app.py\", line 1952, in full_dispatch_request\n",
      "    rv = self.handle_user_exception(e)\n",
      "  File \"/home/chris/miniconda3/envs/pruning_viz/lib/python3.6/site-packages/flask/app.py\", line 1821, in handle_user_exception\n",
      "    reraise(exc_type, exc_value, tb)\n",
      "  File \"/home/chris/miniconda3/envs/pruning_viz/lib/python3.6/site-packages/flask/_compat.py\", line 39, in reraise\n",
      "    raise value\n",
      "  File \"/home/chris/miniconda3/envs/pruning_viz/lib/python3.6/site-packages/flask/app.py\", line 1950, in full_dispatch_request\n",
      "    rv = self.dispatch_request()\n",
      "  File \"/home/chris/miniconda3/envs/pruning_viz/lib/python3.6/site-packages/flask/app.py\", line 1936, in dispatch_request\n",
      "    return self.view_functions[rule.endpoint](**req.view_args)\n",
      "  File \"/home/chris/miniconda3/envs/pruning_viz/lib/python3.6/site-packages/dash/dash.py\", line 1050, in dispatch\n",
      "    response.set_data(func(*args, outputs_list=outputs_list))\n",
      "  File \"/home/chris/miniconda3/envs/pruning_viz/lib/python3.6/site-packages/dash/dash.py\", line 985, in add_context\n",
      "    output_value = func(*args, **kwargs)  # %% callback invoked %%\n",
      "  File \"<ipython-input-15-ec10a891a1b5>\", line 418, in update_ranksdf_store\n",
      "    ranksdf_store(target_category,target_node)\n",
      "  File \"/home/chris/miniconda3/envs/pruning_viz/lib/python3.6/site-packages/flask_caching/__init__.py\", line 779, in decorated_function\n",
      "    rv = f(*args, **kwargs)\n",
      "  File \"<ipython-input-15-ec10a891a1b5>\", line 407, in ranksdf_store\n",
      "    target_category_nodes_df,target_category_edges_df = contrast_str_2_dfs(target_category,target_node,model_dis,params)\n",
      "  File \"/mnt/data/chris/dropbox/Research-Hamblin/Projects/cnn_subgraph_visualizer/visualizer_scripts/contrast_helper_functions.py\", line 165, in contrast_str_2_dfs\n",
      "    var_dict, sym_contrast_string = parse_contrast(contrast_string,all_input_images,params['categories'])\n",
      "  File \"/mnt/data/chris/dropbox/Research-Hamblin/Projects/cnn_subgraph_visualizer/visualizer_scripts/contrast_helper_functions.py\", line 72, in parse_contrast\n",
      "    raise ValueError(message)\n",
      "ValueError: \"c\" is not a valid weight category, all weight categories must be from image names in the \"input_image\" folder, or folder names under the \"rank_image\" folder\n"
     ]
    },
    {
     "name": "stderr",
     "output_type": "stream",
     "text": [
      "127.0.0.1 - - [03/Mar/2021 12:59:58] \"\u001b[35m\u001b[1mPOST /_dash-update-component HTTP/1.1\u001b[0m\" 500 -\n"
     ]
    },
    {
     "name": "stdout",
     "output_type": "stream",
     "text": [
      "update ranksdf_store triggered\n",
      "Updating cached rank dfs with ch\n",
      "Exception on /_dash-update-component [POST]\n",
      "Traceback (most recent call last):\n",
      "  File \"/home/chris/miniconda3/envs/pruning_viz/lib/python3.6/site-packages/flask/app.py\", line 2447, in wsgi_app\n",
      "    response = self.full_dispatch_request()\n",
      "  File \"/home/chris/miniconda3/envs/pruning_viz/lib/python3.6/site-packages/flask/app.py\", line 1952, in full_dispatch_request\n",
      "    rv = self.handle_user_exception(e)\n",
      "  File \"/home/chris/miniconda3/envs/pruning_viz/lib/python3.6/site-packages/flask/app.py\", line 1821, in handle_user_exception\n",
      "    reraise(exc_type, exc_value, tb)\n",
      "  File \"/home/chris/miniconda3/envs/pruning_viz/lib/python3.6/site-packages/flask/_compat.py\", line 39, in reraise\n",
      "    raise value\n",
      "  File \"/home/chris/miniconda3/envs/pruning_viz/lib/python3.6/site-packages/flask/app.py\", line 1950, in full_dispatch_request\n",
      "    rv = self.dispatch_request()\n",
      "  File \"/home/chris/miniconda3/envs/pruning_viz/lib/python3.6/site-packages/flask/app.py\", line 1936, in dispatch_request\n",
      "    return self.view_functions[rule.endpoint](**req.view_args)\n",
      "  File \"/home/chris/miniconda3/envs/pruning_viz/lib/python3.6/site-packages/dash/dash.py\", line 1050, in dispatch\n",
      "    response.set_data(func(*args, outputs_list=outputs_list))\n",
      "  File \"/home/chris/miniconda3/envs/pruning_viz/lib/python3.6/site-packages/dash/dash.py\", line 985, in add_context\n",
      "    output_value = func(*args, **kwargs)  # %% callback invoked %%\n",
      "  File \"<ipython-input-15-ec10a891a1b5>\", line 418, in update_ranksdf_store\n",
      "    ranksdf_store(target_category,target_node)\n",
      "  File \"/home/chris/miniconda3/envs/pruning_viz/lib/python3.6/site-packages/flask_caching/__init__.py\", line 779, in decorated_function\n",
      "    rv = f(*args, **kwargs)\n",
      "  File \"<ipython-input-15-ec10a891a1b5>\", line 407, in ranksdf_store\n",
      "    target_category_nodes_df,target_category_edges_df = contrast_str_2_dfs(target_category,target_node,model_dis,params)\n",
      "  File \"/mnt/data/chris/dropbox/Research-Hamblin/Projects/cnn_subgraph_visualizer/visualizer_scripts/contrast_helper_functions.py\", line 165, in contrast_str_2_dfs\n",
      "    var_dict, sym_contrast_string = parse_contrast(contrast_string,all_input_images,params['categories'])\n",
      "  File \"/mnt/data/chris/dropbox/Research-Hamblin/Projects/cnn_subgraph_visualizer/visualizer_scripts/contrast_helper_functions.py\", line 72, in parse_contrast\n",
      "    raise ValueError(message)\n",
      "ValueError: \"ch\" is not a valid weight category, all weight categories must be from image names in the \"input_image\" folder, or folder names under the \"rank_image\" folder\n"
     ]
    },
    {
     "name": "stderr",
     "output_type": "stream",
     "text": [
      "127.0.0.1 - - [03/Mar/2021 12:59:58] \"\u001b[35m\u001b[1mPOST /_dash-update-component HTTP/1.1\u001b[0m\" 500 -\n"
     ]
    },
    {
     "name": "stdout",
     "output_type": "stream",
     "text": [
      "update ranksdf_store triggered\n",
      "Updating cached rank dfs with chu\n",
      "Exception on /_dash-update-component [POST]\n",
      "Traceback (most recent call last):\n",
      "  File \"/home/chris/miniconda3/envs/pruning_viz/lib/python3.6/site-packages/flask/app.py\", line 2447, in wsgi_app\n",
      "    response = self.full_dispatch_request()\n",
      "  File \"/home/chris/miniconda3/envs/pruning_viz/lib/python3.6/site-packages/flask/app.py\", line 1952, in full_dispatch_request\n",
      "    rv = self.handle_user_exception(e)\n",
      "  File \"/home/chris/miniconda3/envs/pruning_viz/lib/python3.6/site-packages/flask/app.py\", line 1821, in handle_user_exception\n",
      "    reraise(exc_type, exc_value, tb)\n",
      "  File \"/home/chris/miniconda3/envs/pruning_viz/lib/python3.6/site-packages/flask/_compat.py\", line 39, in reraise\n",
      "    raise value\n",
      "  File \"/home/chris/miniconda3/envs/pruning_viz/lib/python3.6/site-packages/flask/app.py\", line 1950, in full_dispatch_request\n",
      "    rv = self.dispatch_request()\n",
      "  File \"/home/chris/miniconda3/envs/pruning_viz/lib/python3.6/site-packages/flask/app.py\", line 1936, in dispatch_request\n",
      "    return self.view_functions[rule.endpoint](**req.view_args)\n",
      "  File \"/home/chris/miniconda3/envs/pruning_viz/lib/python3.6/site-packages/dash/dash.py\", line 1050, in dispatch\n",
      "    response.set_data(func(*args, outputs_list=outputs_list))\n",
      "  File \"/home/chris/miniconda3/envs/pruning_viz/lib/python3.6/site-packages/dash/dash.py\", line 985, in add_context\n",
      "    output_value = func(*args, **kwargs)  # %% callback invoked %%\n",
      "  File \"<ipython-input-15-ec10a891a1b5>\", line 418, in update_ranksdf_store\n",
      "    ranksdf_store(target_category,target_node)\n",
      "  File \"/home/chris/miniconda3/envs/pruning_viz/lib/python3.6/site-packages/flask_caching/__init__.py\", line 779, in decorated_function\n",
      "    rv = f(*args, **kwargs)\n",
      "  File \"<ipython-input-15-ec10a891a1b5>\", line 407, in ranksdf_store\n",
      "    target_category_nodes_df,target_category_edges_df = contrast_str_2_dfs(target_category,target_node,model_dis,params)\n",
      "  File \"/mnt/data/chris/dropbox/Research-Hamblin/Projects/cnn_subgraph_visualizer/visualizer_scripts/contrast_helper_functions.py\", line 165, in contrast_str_2_dfs\n",
      "    var_dict, sym_contrast_string = parse_contrast(contrast_string,all_input_images,params['categories'])\n",
      "  File \"/mnt/data/chris/dropbox/Research-Hamblin/Projects/cnn_subgraph_visualizer/visualizer_scripts/contrast_helper_functions.py\", line 72, in parse_contrast\n",
      "    raise ValueError(message)\n",
      "ValueError: \"chu\" is not a valid weight category, all weight categories must be from image names in the \"input_image\" folder, or folder names under the \"rank_image\" folder\n"
     ]
    },
    {
     "name": "stderr",
     "output_type": "stream",
     "text": [
      "127.0.0.1 - - [03/Mar/2021 12:59:59] \"\u001b[35m\u001b[1mPOST /_dash-update-component HTTP/1.1\u001b[0m\" 500 -\n"
     ]
    },
    {
     "name": "stdout",
     "output_type": "stream",
     "text": [
      "update ranksdf_store triggered\n",
      "Updating cached rank dfs with chur\n",
      "Exception on /_dash-update-component [POST]\n",
      "Traceback (most recent call last):\n",
      "  File \"/home/chris/miniconda3/envs/pruning_viz/lib/python3.6/site-packages/flask/app.py\", line 2447, in wsgi_app\n",
      "    response = self.full_dispatch_request()\n",
      "  File \"/home/chris/miniconda3/envs/pruning_viz/lib/python3.6/site-packages/flask/app.py\", line 1952, in full_dispatch_request\n",
      "    rv = self.handle_user_exception(e)\n",
      "  File \"/home/chris/miniconda3/envs/pruning_viz/lib/python3.6/site-packages/flask/app.py\", line 1821, in handle_user_exception\n",
      "    reraise(exc_type, exc_value, tb)\n",
      "  File \"/home/chris/miniconda3/envs/pruning_viz/lib/python3.6/site-packages/flask/_compat.py\", line 39, in reraise\n",
      "    raise value\n",
      "  File \"/home/chris/miniconda3/envs/pruning_viz/lib/python3.6/site-packages/flask/app.py\", line 1950, in full_dispatch_request\n",
      "    rv = self.dispatch_request()\n",
      "  File \"/home/chris/miniconda3/envs/pruning_viz/lib/python3.6/site-packages/flask/app.py\", line 1936, in dispatch_request\n",
      "    return self.view_functions[rule.endpoint](**req.view_args)\n",
      "  File \"/home/chris/miniconda3/envs/pruning_viz/lib/python3.6/site-packages/dash/dash.py\", line 1050, in dispatch\n",
      "    response.set_data(func(*args, outputs_list=outputs_list))\n",
      "  File \"/home/chris/miniconda3/envs/pruning_viz/lib/python3.6/site-packages/dash/dash.py\", line 985, in add_context\n",
      "    output_value = func(*args, **kwargs)  # %% callback invoked %%\n",
      "  File \"<ipython-input-15-ec10a891a1b5>\", line 418, in update_ranksdf_store\n",
      "    ranksdf_store(target_category,target_node)\n",
      "  File \"/home/chris/miniconda3/envs/pruning_viz/lib/python3.6/site-packages/flask_caching/__init__.py\", line 779, in decorated_function\n",
      "    rv = f(*args, **kwargs)\n",
      "  File \"<ipython-input-15-ec10a891a1b5>\", line 407, in ranksdf_store\n",
      "    target_category_nodes_df,target_category_edges_df = contrast_str_2_dfs(target_category,target_node,model_dis,params)\n",
      "  File \"/mnt/data/chris/dropbox/Research-Hamblin/Projects/cnn_subgraph_visualizer/visualizer_scripts/contrast_helper_functions.py\", line 165, in contrast_str_2_dfs\n",
      "    var_dict, sym_contrast_string = parse_contrast(contrast_string,all_input_images,params['categories'])\n",
      "  File \"/mnt/data/chris/dropbox/Research-Hamblin/Projects/cnn_subgraph_visualizer/visualizer_scripts/contrast_helper_functions.py\", line 72, in parse_contrast\n",
      "    raise ValueError(message)\n",
      "ValueError: \"chur\" is not a valid weight category, all weight categories must be from image names in the \"input_image\" folder, or folder names under the \"rank_image\" folder\n"
     ]
    },
    {
     "name": "stderr",
     "output_type": "stream",
     "text": [
      "127.0.0.1 - - [03/Mar/2021 12:59:59] \"\u001b[35m\u001b[1mPOST /_dash-update-component HTTP/1.1\u001b[0m\" 500 -\n"
     ]
    },
    {
     "name": "stdout",
     "output_type": "stream",
     "text": [
      "update ranksdf_store triggered\n",
      "Updating cached rank dfs with churc\n",
      "Exception on /_dash-update-component [POST]\n",
      "Traceback (most recent call last):\n",
      "  File \"/home/chris/miniconda3/envs/pruning_viz/lib/python3.6/site-packages/flask/app.py\", line 2447, in wsgi_app\n",
      "    response = self.full_dispatch_request()\n",
      "  File \"/home/chris/miniconda3/envs/pruning_viz/lib/python3.6/site-packages/flask/app.py\", line 1952, in full_dispatch_request\n",
      "    rv = self.handle_user_exception(e)\n",
      "  File \"/home/chris/miniconda3/envs/pruning_viz/lib/python3.6/site-packages/flask/app.py\", line 1821, in handle_user_exception\n",
      "    reraise(exc_type, exc_value, tb)\n",
      "  File \"/home/chris/miniconda3/envs/pruning_viz/lib/python3.6/site-packages/flask/_compat.py\", line 39, in reraise\n",
      "    raise value\n",
      "  File \"/home/chris/miniconda3/envs/pruning_viz/lib/python3.6/site-packages/flask/app.py\", line 1950, in full_dispatch_request\n",
      "    rv = self.dispatch_request()\n",
      "  File \"/home/chris/miniconda3/envs/pruning_viz/lib/python3.6/site-packages/flask/app.py\", line 1936, in dispatch_request\n",
      "    return self.view_functions[rule.endpoint](**req.view_args)\n",
      "  File \"/home/chris/miniconda3/envs/pruning_viz/lib/python3.6/site-packages/dash/dash.py\", line 1050, in dispatch\n",
      "    response.set_data(func(*args, outputs_list=outputs_list))\n",
      "  File \"/home/chris/miniconda3/envs/pruning_viz/lib/python3.6/site-packages/dash/dash.py\", line 985, in add_context\n",
      "    output_value = func(*args, **kwargs)  # %% callback invoked %%\n",
      "  File \"<ipython-input-15-ec10a891a1b5>\", line 418, in update_ranksdf_store\n",
      "    ranksdf_store(target_category,target_node)\n",
      "  File \"/home/chris/miniconda3/envs/pruning_viz/lib/python3.6/site-packages/flask_caching/__init__.py\", line 779, in decorated_function\n",
      "    rv = f(*args, **kwargs)\n",
      "  File \"<ipython-input-15-ec10a891a1b5>\", line 407, in ranksdf_store\n",
      "    target_category_nodes_df,target_category_edges_df = contrast_str_2_dfs(target_category,target_node,model_dis,params)\n",
      "  File \"/mnt/data/chris/dropbox/Research-Hamblin/Projects/cnn_subgraph_visualizer/visualizer_scripts/contrast_helper_functions.py\", line 165, in contrast_str_2_dfs\n",
      "    var_dict, sym_contrast_string = parse_contrast(contrast_string,all_input_images,params['categories'])\n",
      "  File \"/mnt/data/chris/dropbox/Research-Hamblin/Projects/cnn_subgraph_visualizer/visualizer_scripts/contrast_helper_functions.py\", line 72, in parse_contrast\n",
      "    raise ValueError(message)\n",
      "ValueError: \"churc\" is not a valid weight category, all weight categories must be from image names in the \"input_image\" folder, or folder names under the \"rank_image\" folder\n"
     ]
    },
    {
     "name": "stderr",
     "output_type": "stream",
     "text": [
      "127.0.0.1 - - [03/Mar/2021 12:59:59] \"\u001b[35m\u001b[1mPOST /_dash-update-component HTTP/1.1\u001b[0m\" 500 -\n"
     ]
    },
    {
     "name": "stdout",
     "output_type": "stream",
     "text": [
      "update ranksdf_store triggered\n",
      "Updating cached rank dfs with church\n"
     ]
    },
    {
     "name": "stderr",
     "output_type": "stream",
     "text": [
      "127.0.0.1 - - [03/Mar/2021 13:00:00] \"\u001b[37mPOST /_dash-update-component HTTP/1.1\u001b[0m\" 200 -\n"
     ]
    },
    {
     "name": "stdout",
     "output_type": "stream",
     "text": [
      "FROM RANKS DF STORE\n",
      "        edge_num   layer_name  layer  out_channel  in_channel      act_rank  \\\n",
      "0              0   features_0      0            0           0  1.500678e+00   \n",
      "1              1   features_0      0            0           1  1.973359e+00   \n",
      "2              2   features_0      0            0           2  3.977078e-01   \n",
      "3              3   features_0      0            1           0  1.567559e-01   \n",
      "4              4   features_0      0            1           1  1.383913e+00   \n",
      "...          ...          ...    ...          ...         ...           ...   \n",
      "250043    250043  features_10      4          255         251  1.000592e-02   \n",
      "250044    250044  features_10      4          255         252  1.975851e-03   \n",
      "250045    250045  features_10      4          255         253  4.006391e-06   \n",
      "250046    250046  features_10      4          255         254  4.539887e-06   \n",
      "250047    250047  features_10      4          255         255  5.064773e-07   \n",
      "\n",
      "        grad_rank  actxgrad_rank  \n",
      "0        0.000002   4.116427e-06  \n",
      "1        0.000002   6.253016e-06  \n",
      "2        0.000002   1.623620e-06  \n",
      "3        0.000002   5.307938e-07  \n",
      "4        0.000002   5.149459e-06  \n",
      "...           ...            ...  \n",
      "250043   0.000001   4.192668e-09  \n",
      "250044   0.000001   3.908091e-09  \n",
      "250045   0.000001   9.190872e-12  \n",
      "250046   0.000001   5.443044e-12  \n",
      "250047   0.000001   5.800848e-13  \n",
      "\n",
      "[250048 rows x 8 columns]\n",
      "CALLED: update_node_inputs\n",
      "CALLED: update_store\n",
      "\n",
      "TRIGGER target-signal.children\n"
     ]
    },
    {
     "name": "stderr",
     "output_type": "stream",
     "text": [
      "127.0.0.1 - - [03/Mar/2021 13:00:01] \"\u001b[37mPOST /_dash-update-component HTTP/1.1\u001b[0m\" 200 -\n"
     ]
    },
    {
     "name": "stdout",
     "output_type": "stream",
     "text": [
      "generating feature_viz objective string for g-0\n",
      "found pre-generated edge image\n",
      "generating feature_viz objective string for r-0\n",
      "found pre-generated edge image\n",
      "generating feature_viz objective string for b-0\n",
      "found pre-generated edge image\n",
      "MINMAX EDGES DF\n",
      "        edge_num   layer_name  layer  out_channel  in_channel      act_rank  \\\n",
      "0              0   features_0      0            0           0  2.093018e-01   \n",
      "1              1   features_0      0            0           1  2.752324e-01   \n",
      "2              2   features_0      0            0           2  5.545716e-02   \n",
      "3              3   features_0      0            1           0  2.184865e-02   \n",
      "4              4   features_0      0            1           1  1.930152e-01   \n",
      "...          ...          ...    ...          ...         ...           ...   \n",
      "250043    250043  features_10      4          255         251  1.230921e-02   \n",
      "250044    250044  features_10      4          255         252  2.430665e-03   \n",
      "250045    250045  features_10      4          255         253  4.912956e-06   \n",
      "250046    250046  features_10      4          255         254  5.569259e-06   \n",
      "250047    250047  features_10      4          255         255  6.073828e-07   \n",
      "\n",
      "        grad_rank  actxgrad_rank  \n",
      "0        0.138094   1.183149e-01  \n",
      "1        0.138094   1.797312e-01  \n",
      "2        0.138094   4.665903e-02  \n",
      "3        0.276744   1.524569e-02  \n",
      "4        0.276744   1.480094e-01  \n",
      "...           ...            ...  \n",
      "250043   0.015454   8.247336e-05  \n",
      "250044   0.015454   7.687548e-05  \n",
      "250045   0.015454   1.807922e-07  \n",
      "250046   0.015454   1.070692e-07  \n",
      "250047   0.015454   1.141067e-08  \n",
      "\n",
      "[250048 rows x 8 columns]\n",
      "changing target category to church\n"
     ]
    },
    {
     "name": "stderr",
     "output_type": "stream",
     "text": [
      "127.0.0.1 - - [03/Mar/2021 13:00:01] \"\u001b[37mPOST /_dash-update-component HTTP/1.1\u001b[0m\" 200 -\n",
      "127.0.0.1 - - [03/Mar/2021 13:00:02] \"\u001b[37mPOST /_dash-update-component HTTP/1.1\u001b[0m\" 200 -\n"
     ]
    },
    {
     "name": "stdout",
     "output_type": "stream",
     "text": [
      "CALLED: update_figure\n",
      "\n",
      "[0.7, 1]\n",
      "['g-21']\n",
      "['0']\n",
      "building graph from browser \"state\"\n"
     ]
    },
    {
     "name": "stderr",
     "output_type": "stream",
     "text": [
      "127.0.0.1 - - [03/Mar/2021 13:00:22] \"\u001b[37mPOST /_dash-update-component HTTP/1.1\u001b[0m\" 200 -\n",
      "127.0.0.1 - - [03/Mar/2021 13:00:23] \"\u001b[37mPOST /_dash-update-component HTTP/1.1\u001b[0m\" 200 -\n"
     ]
    },
    {
     "name": "stdout",
     "output_type": "stream",
     "text": [
      "CALLED: switch_node_actmap_click\n",
      "CALLED: switch_edge_actmaps_click\n"
     ]
    },
    {
     "name": "stderr",
     "output_type": "stream",
     "text": [
      "127.0.0.1 - - [03/Mar/2021 13:00:23] \"\u001b[37mPOST /_dash-update-component HTTP/1.1\u001b[0m\" 200 -\n"
     ]
    },
    {
     "name": "stdout",
     "output_type": "stream",
     "text": [
      "CALLED: update_edge_deepviz\n",
      "generating feature_viz objective string for g-21\n",
      "CALLED: update_edge_kernelmap\n",
      "CALLED: update_node_actmap\n",
      "CALLED: update_edge_outmap\n",
      "CALLED: update_store\n",
      "\n",
      "TRIGGER node-actmap-dropdown.value\n",
      "g-21\n",
      "changing selected node to 929\n",
      "found pre-generated image\n",
      "CALLED: update_edge_inmap\n",
      "CALLED: update_node_deepviz\n",
      "generating feature_viz objective string for 929\n",
      "found pre-generated image\n"
     ]
    },
    {
     "name": "stderr",
     "output_type": "stream",
     "text": [
      "127.0.0.1 - - [03/Mar/2021 13:00:24] \"\u001b[37mPOST /_dash-update-component HTTP/1.1\u001b[0m\" 200 -\n"
     ]
    },
    {
     "name": "stdout",
     "output_type": "stream",
     "text": [
      "CALLED: update_node_inputs\n"
     ]
    },
    {
     "name": "stderr",
     "output_type": "stream",
     "text": [
      "127.0.0.1 - - [03/Mar/2021 13:00:25] \"\u001b[37mPOST /_dash-update-component HTTP/1.1\u001b[0m\" 200 -\n",
      "127.0.0.1 - - [03/Mar/2021 13:00:25] \"\u001b[37mPOST /_dash-update-component HTTP/1.1\u001b[0m\" 200 -\n"
     ]
    },
    {
     "name": "stdout",
     "output_type": "stream",
     "text": [
      "CALLED: update_figure\n",
      "\n",
      "[0.7, 1]\n",
      "['g-21']\n",
      "['0', '929']\n",
      "updating edge highlight to g-21\n",
      "updating node highlight to 929\n",
      "0 0 features_0\n"
     ]
    },
    {
     "name": "stderr",
     "output_type": "stream",
     "text": [
      "127.0.0.1 - - [03/Mar/2021 13:00:26] \"\u001b[37mPOST /_dash-update-component HTTP/1.1\u001b[0m\" 200 -\n",
      "127.0.0.1 - - [03/Mar/2021 13:00:26] \"\u001b[37mPOST /_dash-update-component HTTP/1.1\u001b[0m\" 200 -\n",
      "127.0.0.1 - - [03/Mar/2021 13:00:26] \"\u001b[37mPOST /_dash-update-component HTTP/1.1\u001b[0m\" 200 -\n",
      "127.0.0.1 - - [03/Mar/2021 13:00:27] \"\u001b[37mPOST /_dash-update-component HTTP/1.1\u001b[0m\" 200 -\n"
     ]
    },
    {
     "name": "stdout",
     "output_type": "stream",
     "text": [
      "generating feature_viz objective string for 704-929\n",
      "generating feature_viz objective string for 704\n",
      "found pregenerated node image\n",
      "generating feature_viz objective string for 641-929\n",
      "generating feature_viz objective string for 641\n",
      "found pregenerated node image\n",
      "generating feature_viz objective string for 823-929\n",
      "generating feature_viz objective string for 823\n",
      "found pregenerated node image\n",
      "generating feature_viz objective string for 841-929\n",
      "generating feature_viz objective string for 841\n",
      "found pregenerated node image\n",
      "generating feature_viz objective string for 827-929\n",
      "generating feature_viz objective string for 827\n",
      "found pregenerated node image\n",
      "generating feature_viz objective string for 873-929\n",
      "generating feature_viz objective string for 873\n",
      "found pregenerated node image\n",
      "generating feature_viz objective string for 835-929\n",
      "generating feature_viz objective string for 835\n",
      "found pregenerated node image\n",
      "generating feature_viz objective string for 834-929\n",
      "generating feature_viz objective string for 834\n",
      "found pregenerated node image\n",
      "generating feature_viz objective string for 756-929\n",
      "generating feature_viz objective string for 756\n",
      "found pregenerated node image\n",
      "generating feature_viz objective string for 875-929\n",
      "generating feature_viz objective string for 875\n",
      "found pregenerated node image\n"
     ]
    },
    {
     "name": "stderr",
     "output_type": "stream",
     "text": [
      "127.0.0.1 - - [03/Mar/2021 13:00:27] \"\u001b[37mPOST /_dash-update-component HTTP/1.1\u001b[0m\" 200 -\n",
      "127.0.0.1 - - [03/Mar/2021 13:00:28] \"\u001b[37mPOST /_dash-update-component HTTP/1.1\u001b[0m\" 200 -\n",
      "127.0.0.1 - - [03/Mar/2021 13:00:28] \"\u001b[37mPOST /_dash-update-component HTTP/1.1\u001b[0m\" 200 -\n",
      "127.0.0.1 - - [03/Mar/2021 13:00:28] \"\u001b[37mPOST /_dash-update-component HTTP/1.1\u001b[0m\" 200 -\n"
     ]
    },
    {
     "name": "stdout",
     "output_type": "stream",
     "text": [
      "CALLED: update_inputimg_actmap\n"
     ]
    },
    {
     "name": "stderr",
     "output_type": "stream",
     "text": [
      "127.0.0.1 - - [03/Mar/2021 13:00:28] \"\u001b[37mPOST /_dash-update-component HTTP/1.1\u001b[0m\" 200 -\n"
     ]
    },
    {
     "name": "stdout",
     "output_type": "stream",
     "text": [
      "CALLED: update_store\n",
      "\n",
      "TRIGGER edge-actmaps-input.value\n",
      "7\n",
      "Exception on /_dash-update-component [POST]\n",
      "Traceback (most recent call last):\n",
      "  File \"/home/chris/miniconda3/envs/pruning_viz/lib/python3.6/site-packages/flask/app.py\", line 2447, in wsgi_app\n",
      "    response = self.full_dispatch_request()\n",
      "  File \"/home/chris/miniconda3/envs/pruning_viz/lib/python3.6/site-packages/flask/app.py\", line 1952, in full_dispatch_request\n",
      "    rv = self.handle_user_exception(e)\n",
      "  File \"/home/chris/miniconda3/envs/pruning_viz/lib/python3.6/site-packages/flask/app.py\", line 1821, in handle_user_exception\n",
      "    reraise(exc_type, exc_value, tb)\n",
      "  File \"/home/chris/miniconda3/envs/pruning_viz/lib/python3.6/site-packages/flask/_compat.py\", line 39, in reraise\n",
      "    raise value\n",
      "  File \"/home/chris/miniconda3/envs/pruning_viz/lib/python3.6/site-packages/flask/app.py\", line 1950, in full_dispatch_request\n",
      "    rv = self.dispatch_request()\n",
      "  File \"/home/chris/miniconda3/envs/pruning_viz/lib/python3.6/site-packages/flask/app.py\", line 1936, in dispatch_request\n",
      "    return self.view_functions[rule.endpoint](**req.view_args)\n",
      "  File \"/home/chris/miniconda3/envs/pruning_viz/lib/python3.6/site-packages/dash/dash.py\", line 1050, in dispatch\n",
      "    response.set_data(func(*args, outputs_list=outputs_list))\n",
      "  File \"/home/chris/miniconda3/envs/pruning_viz/lib/python3.6/site-packages/dash/dash.py\", line 985, in add_context\n",
      "    output_value = func(*args, **kwargs)  # %% callback invoked %%\n",
      "  File \"<ipython-input-15-ec10a891a1b5>\", line 478, in update_store\n",
      "    if state['edge_select_history'][-1] != edge_value and check_edge_validity(edge_value.strip(),params)[0]:\n",
      "  File \"/mnt/data/chris/dropbox/Research-Hamblin/Projects/cnn_subgraph_visualizer/visualizer_scripts/visualizer_helper_functions.py\", line 474, in check_edge_validity\n",
      "    to_node = nodestring.split('-')[1]\n",
      "IndexError: list index out of range\n"
     ]
    },
    {
     "name": "stderr",
     "output_type": "stream",
     "text": [
      "127.0.0.1 - - [03/Mar/2021 13:01:07] \"\u001b[35m\u001b[1mPOST /_dash-update-component HTTP/1.1\u001b[0m\" 500 -\n"
     ]
    },
    {
     "name": "stdout",
     "output_type": "stream",
     "text": [
      "CALLED: update_edge_deepviz\n",
      "generating feature_viz objective string for 7\n",
      "CALLED: update_edge_kernelmap\n",
      "Exception on /_dash-update-component [POST]\n",
      "Traceback (most recent call last):\n",
      "  File \"/home/chris/miniconda3/envs/pruning_viz/lib/python3.6/site-packages/flask/app.py\", line 2447, in wsgi_app\n",
      "    response = self.full_dispatch_request()\n",
      "  File \"/home/chris/miniconda3/envs/pruning_viz/lib/python3.6/site-packages/flask/app.py\", line 1952, in full_dispatch_request\n",
      "    rv = self.handle_user_exception(e)\n",
      "  File \"/home/chris/miniconda3/envs/pruning_viz/lib/python3.6/site-packages/flask/app.py\", line 1821, in handle_user_exception\n",
      "    reraise(exc_type, exc_value, tb)\n",
      "  File \"/home/chris/miniconda3/envs/pruning_viz/lib/python3.6/site-packages/flask/_compat.py\", line 39, in reraise\n",
      "    raise value\n",
      "  File \"/home/chris/miniconda3/envs/pruning_viz/lib/python3.6/site-packages/flask/app.py\", line 1950, in full_dispatch_request\n",
      "    rv = self.dispatch_request()\n",
      "  File \"/home/chris/miniconda3/envs/pruning_viz/lib/python3.6/site-packages/flask/app.py\", line 1936, in dispatch_request\n",
      "    return self.view_functions[rule.endpoint](**req.view_args)\n",
      "  File \"/home/chris/miniconda3/envs/pruning_viz/lib/python3.6/site-packages/dash/dash.py\", line 1050, in dispatch\n",
      "    response.set_data(func(*args, outputs_list=outputs_list))\n",
      "  File \"/home/chris/miniconda3/envs/pruning_viz/lib/python3.6/site-packages/dash/dash.py\", line 985, in add_context\n",
      "    output_value = func(*args, **kwargs)  # %% callback invoked %%\n",
      "  File \"<ipython-input-15-ec10a891a1b5>\", line 892, in update_edge_kernelmap\n",
      "    kernel,inmap,outmap = edgename_2_edge_figures(edge_name, None, kernels, None,params)\n",
      "  File \"/mnt/data/chris/dropbox/Research-Hamblin/Projects/cnn_subgraph_visualizer/visualizer_scripts/visualizer_helper_functions.py\", line 502, in edgename_2_edge_figures\n",
      "    valid,from_layer,to_layer,from_within_id,to_within_id  = check_edge_validity(edgename,params)\n",
      "  File \"/mnt/data/chris/dropbox/Research-Hamblin/Projects/cnn_subgraph_visualizer/visualizer_scripts/visualizer_helper_functions.py\", line 474, in check_edge_validity\n",
      "    to_node = nodestring.split('-')[1]\n",
      "IndexError: list index out of rangefound pre-generated image\n",
      "\n",
      "CALLED: update_edge_outmap\n"
     ]
    },
    {
     "name": "stderr",
     "output_type": "stream",
     "text": [
      "127.0.0.1 - - [03/Mar/2021 13:01:08] \"\u001b[35m\u001b[1mPOST /_dash-update-component HTTP/1.1\u001b[0m\" 500 -\n"
     ]
    },
    {
     "name": "stdout",
     "output_type": "stream",
     "text": [
      "Updating cached activations with tench_10026.JPEG\n",
      "running model to fetch activations\n",
      "CALLED: update_store\n",
      "\n",
      "TRIGGER edge-actmaps-input.value\n",
      "79\n",
      "Exception on /_dash-update-component [POST]\n",
      "Traceback (most recent call last):\n",
      "  File \"/home/chris/miniconda3/envs/pruning_viz/lib/python3.6/site-packages/flask/app.py\", line 2447, in wsgi_app\n",
      "    response = self.full_dispatch_request()\n",
      "  File \"/home/chris/miniconda3/envs/pruning_viz/lib/python3.6/site-packages/flask/app.py\", line 1952, in full_dispatch_request\n",
      "    rv = self.handle_user_exception(e)\n",
      "  File \"/home/chris/miniconda3/envs/pruning_viz/lib/python3.6/site-packages/flask/app.py\", line 1821, in handle_user_exception\n",
      "    reraise(exc_type, exc_value, tb)\n",
      "  File \"/home/chris/miniconda3/envs/pruning_viz/lib/python3.6/site-packages/flask/_compat.py\", line 39, in reraise\n",
      "    raise value\n",
      "  File \"/home/chris/miniconda3/envs/pruning_viz/lib/python3.6/site-packages/flask/app.py\", line 1950, in full_dispatch_request\n",
      "    rv = self.dispatch_request()\n",
      "  File \"/home/chris/miniconda3/envs/pruning_viz/lib/python3.6/site-packages/flask/app.py\", line 1936, in dispatch_request\n",
      "    return self.view_functions[rule.endpoint](**req.view_args)\n",
      "  File \"/home/chris/miniconda3/envs/pruning_viz/lib/python3.6/site-packages/dash/dash.py\", line 1050, in dispatch\n",
      "    response.set_data(func(*args, outputs_list=outputs_list))\n",
      "  File \"/home/chris/miniconda3/envs/pruning_viz/lib/python3.6/site-packages/dash/dash.py\", line 985, in add_context\n",
      "    output_value = func(*args, **kwargs)  # %% callback invoked %%\n",
      "  File \"<ipython-input-15-ec10a891a1b5>\", line 478, in update_store\n",
      "    if state['edge_select_history'][-1] != edge_value and check_edge_validity(edge_value.strip(),params)[0]:\n",
      "  File \"/mnt/data/chris/dropbox/Research-Hamblin/Projects/cnn_subgraph_visualizer/visualizer_scripts/visualizer_helper_functions.py\", line 474, in check_edge_validity\n",
      "    to_node = nodestring.split('-')[1]\n",
      "IndexError: list index out of range\n"
     ]
    },
    {
     "name": "stderr",
     "output_type": "stream",
     "text": [
      "127.0.0.1 - - [03/Mar/2021 13:01:08] \"\u001b[35m\u001b[1mPOST /_dash-update-component HTTP/1.1\u001b[0m\" 500 -\n",
      "127.0.0.1 - - [03/Mar/2021 13:01:08] \"\u001b[37mPOST /_dash-update-component HTTP/1.1\u001b[0m\" 200 -\n"
     ]
    },
    {
     "name": "stdout",
     "output_type": "stream",
     "text": [
      "CALLED: update_edge_inmap\n",
      "Updating cached activations with tench_10026.JPEG\n",
      "running model to fetch activations\n",
      "CALLED: update_edge_inmap\n",
      "Updating cached activations with tench_10026.JPEG\n",
      "running model to fetch activations\n",
      "CALLED: update_edge_deepviz\n",
      "generating feature_viz objective string for 79\n",
      "found pre-generated image\n",
      "CALLED: update_edge_outmap\n",
      "Updating cached activations with tench_10026.JPEG\n",
      "running model to fetch activations\n",
      "CALLED: update_edge_kernelmap\n",
      "Exception on /_dash-update-component [POST]\n",
      "Traceback (most recent call last):\n",
      "  File \"/home/chris/miniconda3/envs/pruning_viz/lib/python3.6/site-packages/flask/app.py\", line 2447, in wsgi_app\n",
      "    response = self.full_dispatch_request()\n",
      "  File \"/home/chris/miniconda3/envs/pruning_viz/lib/python3.6/site-packages/flask/app.py\", line 1952, in full_dispatch_request\n",
      "    rv = self.handle_user_exception(e)\n",
      "  File \"/home/chris/miniconda3/envs/pruning_viz/lib/python3.6/site-packages/flask/app.py\", line 1821, in handle_user_exception\n",
      "    reraise(exc_type, exc_value, tb)\n",
      "  File \"/home/chris/miniconda3/envs/pruning_viz/lib/python3.6/site-packages/flask/_compat.py\", line 39, in reraise\n",
      "    raise value\n",
      "  File \"/home/chris/miniconda3/envs/pruning_viz/lib/python3.6/site-packages/flask/app.py\", line 1950, in full_dispatch_request\n",
      "    rv = self.dispatch_request()\n",
      "  File \"/home/chris/miniconda3/envs/pruning_viz/lib/python3.6/site-packages/flask/app.py\", line 1936, in dispatch_request\n",
      "    return self.view_functions[rule.endpoint](**req.view_args)\n",
      "  File \"/home/chris/miniconda3/envs/pruning_viz/lib/python3.6/site-packages/dash/dash.py\", line 1050, in dispatch\n",
      "    response.set_data(func(*args, outputs_list=outputs_list))\n",
      "  File \"/home/chris/miniconda3/envs/pruning_viz/lib/python3.6/site-packages/dash/dash.py\", line 985, in add_context\n",
      "    output_value = func(*args, **kwargs)  # %% callback invoked %%\n",
      "  File \"<ipython-input-15-ec10a891a1b5>\", line 892, in update_edge_kernelmap\n",
      "    kernel,inmap,outmap = edgename_2_edge_figures(edge_name, None, kernels, None,params)\n",
      "  File \"/mnt/data/chris/dropbox/Research-Hamblin/Projects/cnn_subgraph_visualizer/visualizer_scripts/visualizer_helper_functions.py\", line 502, in edgename_2_edge_figures\n",
      "    valid,from_layer,to_layer,from_within_id,to_within_id  = check_edge_validity(edgename,params)\n",
      "  File \"/mnt/data/chris/dropbox/Research-Hamblin/Projects/cnn_subgraph_visualizer/visualizer_scripts/visualizer_helper_functions.py\", line 474, in check_edge_validity\n",
      "    to_node = nodestring.split('-')[1]\n",
      "IndexError: list index out of range\n"
     ]
    },
    {
     "name": "stderr",
     "output_type": "stream",
     "text": [
      "127.0.0.1 - - [03/Mar/2021 13:01:08] \"\u001b[35m\u001b[1mPOST /_dash-update-component HTTP/1.1\u001b[0m\" 500 -\n",
      "127.0.0.1 - - [03/Mar/2021 13:01:08] \"\u001b[37mPOST /_dash-update-component HTTP/1.1\u001b[0m\" 200 -\n"
     ]
    },
    {
     "name": "stdout",
     "output_type": "stream",
     "text": [
      "CALLED: update_store\n",
      "\n",
      "TRIGGER edge-actmaps-input.value\n",
      "794\n",
      "Exception on /_dash-update-component [POST]\n",
      "Traceback (most recent call last):\n",
      "  File \"/home/chris/miniconda3/envs/pruning_viz/lib/python3.6/site-packages/flask/app.py\", line 2447, in wsgi_app\n",
      "    response = self.full_dispatch_request()\n",
      "  File \"/home/chris/miniconda3/envs/pruning_viz/lib/python3.6/site-packages/flask/app.py\", line 1952, in full_dispatch_request\n",
      "    rv = self.handle_user_exception(e)\n",
      "  File \"/home/chris/miniconda3/envs/pruning_viz/lib/python3.6/site-packages/flask/app.py\", line 1821, in handle_user_exception\n",
      "    reraise(exc_type, exc_value, tb)\n",
      "  File \"/home/chris/miniconda3/envs/pruning_viz/lib/python3.6/site-packages/flask/_compat.py\", line 39, in reraise\n",
      "    raise value\n",
      "  File \"/home/chris/miniconda3/envs/pruning_viz/lib/python3.6/site-packages/flask/app.py\", line 1950, in full_dispatch_request\n",
      "    rv = self.dispatch_request()\n",
      "  File \"/home/chris/miniconda3/envs/pruning_viz/lib/python3.6/site-packages/flask/app.py\", line 1936, in dispatch_request\n",
      "    return self.view_functions[rule.endpoint](**req.view_args)\n",
      "  File \"/home/chris/miniconda3/envs/pruning_viz/lib/python3.6/site-packages/dash/dash.py\", line 1050, in dispatch\n",
      "    response.set_data(func(*args, outputs_list=outputs_list))\n",
      "  File \"/home/chris/miniconda3/envs/pruning_viz/lib/python3.6/site-packages/dash/dash.py\", line 985, in add_context\n",
      "    output_value = func(*args, **kwargs)  # %% callback invoked %%\n",
      "  File \"<ipython-input-15-ec10a891a1b5>\", line 478, in update_store\n",
      "    if state['edge_select_history'][-1] != edge_value and check_edge_validity(edge_value.strip(),params)[0]:\n",
      "  File \"/mnt/data/chris/dropbox/Research-Hamblin/Projects/cnn_subgraph_visualizer/visualizer_scripts/visualizer_helper_functions.py\", line 474, in check_edge_validity\n",
      "    to_node = nodestring.split('-')[1]\n",
      "IndexError: list index out of range\n"
     ]
    },
    {
     "name": "stderr",
     "output_type": "stream",
     "text": [
      "127.0.0.1 - - [03/Mar/2021 13:01:09] \"\u001b[35m\u001b[1mPOST /_dash-update-component HTTP/1.1\u001b[0m\" 500 -\n"
     ]
    },
    {
     "name": "stdout",
     "output_type": "stream",
     "text": [
      "CALLED: update_edge_inmap\n",
      "Updating cached activations with tench_10026.JPEG\n",
      "running model to fetch activations\n",
      "CALLED: update_edge_outmap\n",
      "Updating cached activations with tench_10026.JPEG\n",
      "running model to fetch activations\n",
      "Exception on /_dash-update-component [POST]\n",
      "Traceback (most recent call last):\n",
      "  File \"/home/chris/miniconda3/envs/pruning_viz/lib/python3.6/site-packages/flask/app.py\", line 2447, in wsgi_app\n",
      "    response = self.full_dispatch_request()\n",
      "  File \"/home/chris/miniconda3/envs/pruning_viz/lib/python3.6/site-packages/flask/app.py\", line 1952, in full_dispatch_request\n",
      "    rv = self.handle_user_exception(e)\n",
      "  File \"/home/chris/miniconda3/envs/pruning_viz/lib/python3.6/site-packages/flask/app.py\", line 1821, in handle_user_exception\n",
      "    reraise(exc_type, exc_value, tb)\n",
      "  File \"/home/chris/miniconda3/envs/pruning_viz/lib/python3.6/site-packages/flask/_compat.py\", line 39, in reraise\n",
      "    raise value\n",
      "  File \"/home/chris/miniconda3/envs/pruning_viz/lib/python3.6/site-packages/flask/app.py\", line 1950, in full_dispatch_request\n",
      "    rv = self.dispatch_request()\n",
      "  File \"/home/chris/miniconda3/envs/pruning_viz/lib/python3.6/site-packages/flask/app.py\", line 1936, in dispatch_request\n",
      "    return self.view_functions[rule.endpoint](**req.view_args)\n",
      "  File \"/home/chris/miniconda3/envs/pruning_viz/lib/python3.6/site-packages/dash/dash.py\", line 1050, in dispatch\n",
      "    response.set_data(func(*args, outputs_list=outputs_list))\n",
      "  File \"/home/chris/miniconda3/envs/pruning_viz/lib/python3.6/site-packages/dash/dash.py\", line 985, in add_context\n",
      "    output_value = func(*args, **kwargs)  # %% callback invoked %%\n",
      "  File \"<ipython-input-15-ec10a891a1b5>\", line 949, in update_edge_outmap\n",
      "    kernel,inmap,outmap = edgename_2_edge_figures(edge_name, image_name, kernels, activations,params)\n",
      "  File \"/mnt/data/chris/dropbox/Research-Hamblin/Projects/cnn_subgraph_visualizer/visualizer_scripts/visualizer_helper_functions.py\", line 502, in edgename_2_edge_figures\n",
      "    valid,from_layer,to_layer,from_within_id,to_within_id  = check_edge_validity(edgename,params)\n",
      "  File \"/mnt/data/chris/dropbox/Research-Hamblin/Projects/cnn_subgraph_visualizer/visualizer_scripts/visualizer_helper_functions.py\", line 474, in check_edge_validity\n",
      "    to_node = nodestring.split('-')[1]\n",
      "IndexError: list index out of range\n"
     ]
    },
    {
     "name": "stderr",
     "output_type": "stream",
     "text": [
      "127.0.0.1 - - [03/Mar/2021 13:02:32] \"\u001b[35m\u001b[1mPOST /_dash-update-component HTTP/1.1\u001b[0m\" 500 -\n",
      "127.0.0.1 - - [03/Mar/2021 13:02:33] \"\u001b[37mPOST /_dash-update-component HTTP/1.1\u001b[0m\" 200 -\n"
     ]
    },
    {
     "name": "stdout",
     "output_type": "stream",
     "text": [
      "CALLED: update_edge_deepviz\n",
      "generating feature_viz objective string for 794\n",
      "found pre-generated image\n",
      "CALLED: update_edge_kernelmap\n",
      "Exception on /_dash-update-component [POST]\n",
      "Traceback (most recent call last):\n",
      "  File \"/home/chris/miniconda3/envs/pruning_viz/lib/python3.6/site-packages/flask/app.py\", line 2447, in wsgi_app\n",
      "    response = self.full_dispatch_request()\n",
      "  File \"/home/chris/miniconda3/envs/pruning_viz/lib/python3.6/site-packages/flask/app.py\", line 1952, in full_dispatch_request\n",
      "    rv = self.handle_user_exception(e)\n",
      "  File \"/home/chris/miniconda3/envs/pruning_viz/lib/python3.6/site-packages/flask/app.py\", line 1821, in handle_user_exception\n",
      "    reraise(exc_type, exc_value, tb)\n",
      "  File \"/home/chris/miniconda3/envs/pruning_viz/lib/python3.6/site-packages/flask/_compat.py\", line 39, in reraise\n",
      "    raise value\n",
      "  File \"/home/chris/miniconda3/envs/pruning_viz/lib/python3.6/site-packages/flask/app.py\", line 1950, in full_dispatch_request\n",
      "    rv = self.dispatch_request()\n",
      "  File \"/home/chris/miniconda3/envs/pruning_viz/lib/python3.6/site-packages/flask/app.py\", line 1936, in dispatch_request\n",
      "    return self.view_functions[rule.endpoint](**req.view_args)\n",
      "  File \"/home/chris/miniconda3/envs/pruning_viz/lib/python3.6/site-packages/dash/dash.py\", line 1050, in dispatch\n",
      "    response.set_data(func(*args, outputs_list=outputs_list))\n",
      "  File \"/home/chris/miniconda3/envs/pruning_viz/lib/python3.6/site-packages/dash/dash.py\", line 985, in add_context\n",
      "    output_value = func(*args, **kwargs)  # %% callback invoked %%\n",
      "  File \"<ipython-input-15-ec10a891a1b5>\", line 892, in update_edge_kernelmap\n",
      "    kernel,inmap,outmap = edgename_2_edge_figures(edge_name, None, kernels, None,params)\n",
      "  File \"/mnt/data/chris/dropbox/Research-Hamblin/Projects/cnn_subgraph_visualizer/visualizer_scripts/visualizer_helper_functions.py\", line 502, in edgename_2_edge_figures\n",
      "    valid,from_layer,to_layer,from_within_id,to_within_id  = check_edge_validity(edgename,params)\n",
      "  File \"/mnt/data/chris/dropbox/Research-Hamblin/Projects/cnn_subgraph_visualizer/visualizer_scripts/visualizer_helper_functions.py\", line 474, in check_edge_validity\n",
      "    to_node = nodestring.split('-')[1]\n",
      "IndexError: list index out of range\n"
     ]
    },
    {
     "name": "stderr",
     "output_type": "stream",
     "text": [
      "127.0.0.1 - - [03/Mar/2021 13:02:33] \"\u001b[35m\u001b[1mPOST /_dash-update-component HTTP/1.1\u001b[0m\" 500 -\n"
     ]
    },
    {
     "name": "stdout",
     "output_type": "stream",
     "text": [
      "CALLED: update_store\n",
      "\n",
      "TRIGGER edge-actmaps-input.value\n",
      "7940\n",
      "Exception on /_dash-update-component [POST]\n",
      "Traceback (most recent call last):\n",
      "  File \"/home/chris/miniconda3/envs/pruning_viz/lib/python3.6/site-packages/flask/app.py\", line 2447, in wsgi_app\n",
      "    response = self.full_dispatch_request()\n",
      "  File \"/home/chris/miniconda3/envs/pruning_viz/lib/python3.6/site-packages/flask/app.py\", line 1952, in full_dispatch_request\n",
      "    rv = self.handle_user_exception(e)\n",
      "  File \"/home/chris/miniconda3/envs/pruning_viz/lib/python3.6/site-packages/flask/app.py\", line 1821, in handle_user_exception\n",
      "    reraise(exc_type, exc_value, tb)\n",
      "  File \"/home/chris/miniconda3/envs/pruning_viz/lib/python3.6/site-packages/flask/_compat.py\", line 39, in reraise\n",
      "    raise value\n",
      "  File \"/home/chris/miniconda3/envs/pruning_viz/lib/python3.6/site-packages/flask/app.py\", line 1950, in full_dispatch_request\n",
      "    rv = self.dispatch_request()\n",
      "  File \"/home/chris/miniconda3/envs/pruning_viz/lib/python3.6/site-packages/flask/app.py\", line 1936, in dispatch_request\n",
      "    return self.view_functions[rule.endpoint](**req.view_args)\n",
      "  File \"/home/chris/miniconda3/envs/pruning_viz/lib/python3.6/site-packages/dash/dash.py\", line 1050, in dispatch\n",
      "    response.set_data(func(*args, outputs_list=outputs_list))\n",
      "  File \"/home/chris/miniconda3/envs/pruning_viz/lib/python3.6/site-packages/dash/dash.py\", line 985, in add_context\n",
      "    output_value = func(*args, **kwargs)  # %% callback invoked %%\n",
      "  File \"<ipython-input-15-ec10a891a1b5>\", line 478, in update_store\n",
      "    if state['edge_select_history'][-1] != edge_value and check_edge_validity(edge_value.strip(),params)[0]:\n",
      "  File \"/mnt/data/chris/dropbox/Research-Hamblin/Projects/cnn_subgraph_visualizer/visualizer_scripts/visualizer_helper_functions.py\", line 474, in check_edge_validity\n",
      "    to_node = nodestring.split('-')[1]\n",
      "IndexError: list index out of range\n"
     ]
    },
    {
     "name": "stderr",
     "output_type": "stream",
     "text": [
      "127.0.0.1 - - [03/Mar/2021 13:02:34] \"\u001b[35m\u001b[1mPOST /_dash-update-component HTTP/1.1\u001b[0m\" 500 -\n"
     ]
    },
    {
     "name": "stdout",
     "output_type": "stream",
     "text": [
      "CALLED: update_edge_inmap\n",
      "Exception on /_dash-update-component [POST]\n",
      "Traceback (most recent call last):\n",
      "  File \"/home/chris/miniconda3/envs/pruning_viz/lib/python3.6/site-packages/flask/app.py\", line 2447, in wsgi_app\n",
      "    response = self.full_dispatch_request()\n",
      "  File \"/home/chris/miniconda3/envs/pruning_viz/lib/python3.6/site-packages/flask/app.py\", line 1952, in full_dispatch_request\n",
      "    rv = self.handle_user_exception(e)\n",
      "  File \"/home/chris/miniconda3/envs/pruning_viz/lib/python3.6/site-packages/flask/app.py\", line 1821, in handle_user_exception\n",
      "    reraise(exc_type, exc_value, tb)\n",
      "  File \"/home/chris/miniconda3/envs/pruning_viz/lib/python3.6/site-packages/flask/_compat.py\", line 39, in reraise\n",
      "    raise value\n",
      "  File \"/home/chris/miniconda3/envs/pruning_viz/lib/python3.6/site-packages/flask/app.py\", line 1950, in full_dispatch_request\n",
      "    rv = self.dispatch_request()\n",
      "  File \"/home/chris/miniconda3/envs/pruning_viz/lib/python3.6/site-packages/flask/app.py\", line 1936, in dispatch_request\n",
      "    return self.view_functions[rule.endpoint](**req.view_args)\n",
      "  File \"/home/chris/miniconda3/envs/pruning_viz/lib/python3.6/site-packages/dash/dash.py\", line 1050, in dispatch\n",
      "    response.set_data(func(*args, outputs_list=outputs_list))\n",
      "  File \"/home/chris/miniconda3/envs/pruning_viz/lib/python3.6/site-packages/dash/dash.py\", line 985, in add_context\n",
      "    output_value = func(*args, **kwargs)  # %% callback invoked %%\n",
      "  File \"<ipython-input-15-ec10a891a1b5>\", line 949, in update_edge_outmap\n",
      "    kernel,inmap,outmap = edgename_2_edge_figures(edge_name, image_name, kernels, activations,params)\n",
      "  File \"/mnt/data/chris/dropbox/Research-Hamblin/Projects/cnn_subgraph_visualizer/visualizer_scripts/visualizer_helper_functions.py\", line 502, in edgename_2_edge_figures\n",
      "    valid,from_layer,to_layer,from_within_id,to_within_id  = check_edge_validity(edgename,params)\n",
      "  File \"/mnt/data/chris/dropbox/Research-Hamblin/Projects/cnn_subgraph_visualizer/visualizer_scripts/visualizer_helper_functions.py\", line 474, in check_edge_validity\n",
      "    to_node = nodestring.split('-')[1]\n",
      "IndexError: list index out of range\n"
     ]
    },
    {
     "name": "stderr",
     "output_type": "stream",
     "text": [
      "127.0.0.1 - - [03/Mar/2021 13:02:34] \"\u001b[35m\u001b[1mPOST /_dash-update-component HTTP/1.1\u001b[0m\" 500 -\n"
     ]
    },
    {
     "name": "stdout",
     "output_type": "stream",
     "text": [
      "Exception on /_dash-update-component [POST]\n",
      "Traceback (most recent call last):\n",
      "  File \"/home/chris/miniconda3/envs/pruning_viz/lib/python3.6/site-packages/flask/app.py\", line 2447, in wsgi_app\n",
      "    response = self.full_dispatch_request()\n",
      "  File \"/home/chris/miniconda3/envs/pruning_viz/lib/python3.6/site-packages/flask/app.py\", line 1952, in full_dispatch_request\n",
      "    rv = self.handle_user_exception(e)\n",
      "  File \"/home/chris/miniconda3/envs/pruning_viz/lib/python3.6/site-packages/flask/app.py\", line 1821, in handle_user_exception\n",
      "    reraise(exc_type, exc_value, tb)\n",
      "  File \"/home/chris/miniconda3/envs/pruning_viz/lib/python3.6/site-packages/flask/_compat.py\", line 39, in reraise\n",
      "    raise value\n",
      "  File \"/home/chris/miniconda3/envs/pruning_viz/lib/python3.6/site-packages/flask/app.py\", line 1950, in full_dispatch_request\n",
      "    rv = self.dispatch_request()\n",
      "  File \"/home/chris/miniconda3/envs/pruning_viz/lib/python3.6/site-packages/flask/app.py\", line 1936, in dispatch_request\n",
      "    return self.view_functions[rule.endpoint](**req.view_args)\n",
      "  File \"/home/chris/miniconda3/envs/pruning_viz/lib/python3.6/site-packages/dash/dash.py\", line 1050, in dispatch\n",
      "    response.set_data(func(*args, outputs_list=outputs_list))\n",
      "  File \"/home/chris/miniconda3/envs/pruning_viz/lib/python3.6/site-packages/dash/dash.py\", line 985, in add_context\n",
      "    output_value = func(*args, **kwargs)  # %% callback invoked %%\n",
      "  File \"<ipython-input-15-ec10a891a1b5>\", line 917, in update_edge_inmap\n",
      "    kernel,inmap,outmap = edgename_2_edge_figures(edge_name, image_name, kernels, activations,params)\n",
      "  File \"/mnt/data/chris/dropbox/Research-Hamblin/Projects/cnn_subgraph_visualizer/visualizer_scripts/visualizer_helper_functions.py\", line 502, in edgename_2_edge_figures\n",
      "    valid,from_layer,to_layer,from_within_id,to_within_id  = check_edge_validity(edgename,params)\n",
      "  File \"/mnt/data/chris/dropbox/Research-Hamblin/Projects/cnn_subgraph_visualizer/visualizer_scripts/visualizer_helper_functions.py\", line 474, in check_edge_validity\n",
      "    to_node = nodestring.split('-')[1]\n",
      "IndexError: list index out of range\n"
     ]
    },
    {
     "name": "stderr",
     "output_type": "stream",
     "text": [
      "127.0.0.1 - - [03/Mar/2021 13:02:35] \"\u001b[35m\u001b[1mPOST /_dash-update-component HTTP/1.1\u001b[0m\" 500 -\n"
     ]
    },
    {
     "name": "stdout",
     "output_type": "stream",
     "text": [
      "CALLED: update_edge_outmap\n",
      "CALLED: update_edge_deepviz\n",
      "generating feature_viz objective string for 7940\n",
      "Exception on /_dash-update-component [POST]\n",
      "Traceback (most recent call last):\n",
      "  File \"/home/chris/miniconda3/envs/pruning_viz/lib/python3.6/site-packages/flask/app.py\", line 2447, in wsgi_app\n",
      "    response = self.full_dispatch_request()\n",
      "  File \"/home/chris/miniconda3/envs/pruning_viz/lib/python3.6/site-packages/flask/app.py\", line 1952, in full_dispatch_request\n",
      "    rv = self.handle_user_exception(e)\n",
      "  File \"/home/chris/miniconda3/envs/pruning_viz/lib/python3.6/site-packages/flask/app.py\", line 1821, in handle_user_exception\n",
      "    reraise(exc_type, exc_value, tb)\n",
      "  File \"/home/chris/miniconda3/envs/pruning_viz/lib/python3.6/site-packages/flask/_compat.py\", line 39, in reraise\n",
      "    raise value\n",
      "  File \"/home/chris/miniconda3/envs/pruning_viz/lib/python3.6/site-packages/flask/app.py\", line 1950, in full_dispatch_request\n",
      "    rv = self.dispatch_request()\n",
      "  File \"/home/chris/miniconda3/envs/pruning_viz/lib/python3.6/site-packages/flask/app.py\", line 1936, in dispatch_request\n",
      "    return self.view_functions[rule.endpoint](**req.view_args)\n",
      "  File \"/home/chris/miniconda3/envs/pruning_viz/lib/python3.6/site-packages/dash/dash.py\", line 1050, in dispatch\n",
      "    response.set_data(func(*args, outputs_list=outputs_list))\n",
      "  File \"/home/chris/miniconda3/envs/pruning_viz/lib/python3.6/site-packages/dash/dash.py\", line 985, in add_context\n",
      "    output_value = func(*args, **kwargs)  # %% callback invoked %%\n",
      "  File \"<ipython-input-15-ec10a891a1b5>\", line 660, in update_edge_deepviz\n",
      "    image_name = fetch_deepviz_img(model_dis,edgename,params)\n",
      "  File \"/mnt/data/chris/dropbox/Research-Hamblin/Projects/cnn_subgraph_visualizer/visualizer_scripts/featureviz_helper_functions.py\", line 81, in fetch_deepviz_img\n",
      "    objective = gen_objective_str(targetid,model,params)\n",
      "  File \"/mnt/data/chris/dropbox/Research-Hamblin/Projects/cnn_subgraph_visualizer/visualizer_scripts/featureviz_helper_functions.py\", line 38, in gen_objective_str\n",
      "    layer, within_id, layer_name = nodeid_2_perlayerid(targetid,params)\n",
      "  File \"/mnt/data/chris/dropbox/Research-Hamblin/Projects/cnn_subgraph_visualizer/visualizer_scripts/visualizer_helper_functions.py\", line 173, in nodeid_2_perlayerid\n",
      "    return layer,within_layer_id,layer_name\n",
      "UnboundLocalError: local variable 'layer' referenced before assignment\n"
     ]
    },
    {
     "name": "stderr",
     "output_type": "stream",
     "text": [
      "127.0.0.1 - - [03/Mar/2021 13:02:35] \"\u001b[35m\u001b[1mPOST /_dash-update-component HTTP/1.1\u001b[0m\" 500 -\n"
     ]
    },
    {
     "name": "stdout",
     "output_type": "stream",
     "text": [
      "Exception on /_dash-update-component [POST]\n",
      "Traceback (most recent call last):\n",
      "  File \"/home/chris/miniconda3/envs/pruning_viz/lib/python3.6/site-packages/flask/app.py\", line 2447, in wsgi_app\n",
      "    response = self.full_dispatch_request()\n",
      "  File \"/home/chris/miniconda3/envs/pruning_viz/lib/python3.6/site-packages/flask/app.py\", line 1952, in full_dispatch_request\n",
      "    rv = self.handle_user_exception(e)\n",
      "  File \"/home/chris/miniconda3/envs/pruning_viz/lib/python3.6/site-packages/flask/app.py\", line 1821, in handle_user_exception\n",
      "    reraise(exc_type, exc_value, tb)\n",
      "  File \"/home/chris/miniconda3/envs/pruning_viz/lib/python3.6/site-packages/flask/_compat.py\", line 39, in reraise\n",
      "    raise value\n",
      "  File \"/home/chris/miniconda3/envs/pruning_viz/lib/python3.6/site-packages/flask/app.py\", line 1950, in full_dispatch_request\n",
      "    rv = self.dispatch_request()\n",
      "  File \"/home/chris/miniconda3/envs/pruning_viz/lib/python3.6/site-packages/flask/app.py\", line 1936, in dispatch_request\n",
      "    return self.view_functions[rule.endpoint](**req.view_args)\n",
      "  File \"/home/chris/miniconda3/envs/pruning_viz/lib/python3.6/site-packages/dash/dash.py\", line 1050, in dispatch\n",
      "    response.set_data(func(*args, outputs_list=outputs_list))\n",
      "  File \"/home/chris/miniconda3/envs/pruning_viz/lib/python3.6/site-packages/dash/dash.py\", line 985, in add_context\n",
      "    output_value = func(*args, **kwargs)  # %% callback invoked %%\n",
      "  File \"<ipython-input-15-ec10a891a1b5>\", line 949, in update_edge_outmap\n",
      "    kernel,inmap,outmap = edgename_2_edge_figures(edge_name, image_name, kernels, activations,params)\n",
      "  File \"/mnt/data/chris/dropbox/Research-Hamblin/Projects/cnn_subgraph_visualizer/visualizer_scripts/visualizer_helper_functions.py\", line 502, in edgename_2_edge_figures\n",
      "    valid,from_layer,to_layer,from_within_id,to_within_id  = check_edge_validity(edgename,params)\n",
      "  File \"/mnt/data/chris/dropbox/Research-Hamblin/Projects/cnn_subgraph_visualizer/visualizer_scripts/visualizer_helper_functions.py\", line 474, in check_edge_validity\n",
      "    to_node = nodestring.split('-')[1]\n",
      "IndexError: list index out of range\n"
     ]
    },
    {
     "name": "stderr",
     "output_type": "stream",
     "text": [
      "127.0.0.1 - - [03/Mar/2021 13:02:35] \"\u001b[35m\u001b[1mPOST /_dash-update-component HTTP/1.1\u001b[0m\" 500 -\n"
     ]
    },
    {
     "name": "stdout",
     "output_type": "stream",
     "text": [
      "CALLED: update_edge_kernelmap\n",
      "Exception on /_dash-update-component [POST]\n",
      "Traceback (most recent call last):\n",
      "  File \"/home/chris/miniconda3/envs/pruning_viz/lib/python3.6/site-packages/flask/app.py\", line 2447, in wsgi_app\n",
      "    response = self.full_dispatch_request()\n",
      "  File \"/home/chris/miniconda3/envs/pruning_viz/lib/python3.6/site-packages/flask/app.py\", line 1952, in full_dispatch_request\n",
      "    rv = self.handle_user_exception(e)\n",
      "  File \"/home/chris/miniconda3/envs/pruning_viz/lib/python3.6/site-packages/flask/app.py\", line 1821, in handle_user_exception\n",
      "    reraise(exc_type, exc_value, tb)\n",
      "  File \"/home/chris/miniconda3/envs/pruning_viz/lib/python3.6/site-packages/flask/_compat.py\", line 39, in reraise\n",
      "    raise value\n",
      "  File \"/home/chris/miniconda3/envs/pruning_viz/lib/python3.6/site-packages/flask/app.py\", line 1950, in full_dispatch_request\n",
      "    rv = self.dispatch_request()\n",
      "  File \"/home/chris/miniconda3/envs/pruning_viz/lib/python3.6/site-packages/flask/app.py\", line 1936, in dispatch_request\n",
      "    return self.view_functions[rule.endpoint](**req.view_args)\n",
      "  File \"/home/chris/miniconda3/envs/pruning_viz/lib/python3.6/site-packages/dash/dash.py\", line 1050, in dispatch\n",
      "    response.set_data(func(*args, outputs_list=outputs_list))\n",
      "  File \"/home/chris/miniconda3/envs/pruning_viz/lib/python3.6/site-packages/dash/dash.py\", line 985, in add_context\n",
      "    output_value = func(*args, **kwargs)  # %% callback invoked %%\n",
      "  File \"<ipython-input-15-ec10a891a1b5>\", line 892, in update_edge_kernelmap\n",
      "    kernel,inmap,outmap = edgename_2_edge_figures(edge_name, None, kernels, None,params)\n",
      "  File \"/mnt/data/chris/dropbox/Research-Hamblin/Projects/cnn_subgraph_visualizer/visualizer_scripts/visualizer_helper_functions.py\", line 502, in edgename_2_edge_figures\n",
      "    valid,from_layer,to_layer,from_within_id,to_within_id  = check_edge_validity(edgename,params)\n",
      "  File \"/mnt/data/chris/dropbox/Research-Hamblin/Projects/cnn_subgraph_visualizer/visualizer_scripts/visualizer_helper_functions.py\", line 474, in check_edge_validity\n",
      "    to_node = nodestring.split('-')[1]\n",
      "IndexError: list index out of range\n"
     ]
    },
    {
     "name": "stderr",
     "output_type": "stream",
     "text": [
      "127.0.0.1 - - [03/Mar/2021 13:02:35] \"\u001b[35m\u001b[1mPOST /_dash-update-component HTTP/1.1\u001b[0m\" 500 -\n"
     ]
    },
    {
     "name": "stdout",
     "output_type": "stream",
     "text": [
      "CALLED: update_store\n",
      "\n",
      "TRIGGER edge-actmaps-input.value\n",
      "794\n",
      "Exception on /_dash-update-component [POST]\n",
      "Traceback (most recent call last):\n",
      "  File \"/home/chris/miniconda3/envs/pruning_viz/lib/python3.6/site-packages/flask/app.py\", line 2447, in wsgi_app\n",
      "    response = self.full_dispatch_request()\n",
      "  File \"/home/chris/miniconda3/envs/pruning_viz/lib/python3.6/site-packages/flask/app.py\", line 1952, in full_dispatch_request\n",
      "    rv = self.handle_user_exception(e)\n",
      "  File \"/home/chris/miniconda3/envs/pruning_viz/lib/python3.6/site-packages/flask/app.py\", line 1821, in handle_user_exception\n",
      "    reraise(exc_type, exc_value, tb)\n",
      "  File \"/home/chris/miniconda3/envs/pruning_viz/lib/python3.6/site-packages/flask/_compat.py\", line 39, in reraise\n",
      "    raise value\n",
      "  File \"/home/chris/miniconda3/envs/pruning_viz/lib/python3.6/site-packages/flask/app.py\", line 1950, in full_dispatch_request\n",
      "    rv = self.dispatch_request()\n",
      "  File \"/home/chris/miniconda3/envs/pruning_viz/lib/python3.6/site-packages/flask/app.py\", line 1936, in dispatch_request\n",
      "    return self.view_functions[rule.endpoint](**req.view_args)\n",
      "  File \"/home/chris/miniconda3/envs/pruning_viz/lib/python3.6/site-packages/dash/dash.py\", line 1050, in dispatch\n",
      "    response.set_data(func(*args, outputs_list=outputs_list))\n",
      "  File \"/home/chris/miniconda3/envs/pruning_viz/lib/python3.6/site-packages/dash/dash.py\", line 985, in add_context\n",
      "    output_value = func(*args, **kwargs)  # %% callback invoked %%\n",
      "  File \"<ipython-input-15-ec10a891a1b5>\", line 478, in update_store\n",
      "    if state['edge_select_history'][-1] != edge_value and check_edge_validity(edge_value.strip(),params)[0]:\n",
      "  File \"/mnt/data/chris/dropbox/Research-Hamblin/Projects/cnn_subgraph_visualizer/visualizer_scripts/visualizer_helper_functions.py\", line 474, in check_edge_validity\n",
      "    to_node = nodestring.split('-')[1]\n",
      "IndexError: list index out of range\n"
     ]
    },
    {
     "name": "stderr",
     "output_type": "stream",
     "text": [
      "127.0.0.1 - - [03/Mar/2021 13:02:35] \"\u001b[35m\u001b[1mPOST /_dash-update-component HTTP/1.1\u001b[0m\" 500 -\n"
     ]
    },
    {
     "name": "stdout",
     "output_type": "stream",
     "text": [
      "CALLED: update_edge_inmap\n",
      "Exception on /_dash-update-component [POST]\n",
      "Traceback (most recent call last):\n",
      "  File \"/home/chris/miniconda3/envs/pruning_viz/lib/python3.6/site-packages/flask/app.py\", line 2447, in wsgi_app\n",
      "    response = self.full_dispatch_request()\n",
      "  File \"/home/chris/miniconda3/envs/pruning_viz/lib/python3.6/site-packages/flask/app.py\", line 1952, in full_dispatch_request\n",
      "    rv = self.handle_user_exception(e)\n",
      "  File \"/home/chris/miniconda3/envs/pruning_viz/lib/python3.6/site-packages/flask/app.py\", line 1821, in handle_user_exception\n",
      "    reraise(exc_type, exc_value, tb)\n",
      "  File \"/home/chris/miniconda3/envs/pruning_viz/lib/python3.6/site-packages/flask/_compat.py\", line 39, in reraise\n",
      "    raise value\n",
      "  File \"/home/chris/miniconda3/envs/pruning_viz/lib/python3.6/site-packages/flask/app.py\", line 1950, in full_dispatch_request\n",
      "    rv = self.dispatch_request()\n",
      "  File \"/home/chris/miniconda3/envs/pruning_viz/lib/python3.6/site-packages/flask/app.py\", line 1936, in dispatch_request\n",
      "    return self.view_functions[rule.endpoint](**req.view_args)\n",
      "  File \"/home/chris/miniconda3/envs/pruning_viz/lib/python3.6/site-packages/dash/dash.py\", line 1050, in dispatch\n",
      "    response.set_data(func(*args, outputs_list=outputs_list))\n",
      "  File \"/home/chris/miniconda3/envs/pruning_viz/lib/python3.6/site-packages/dash/dash.py\", line 985, in add_context\n",
      "    output_value = func(*args, **kwargs)  # %% callback invoked %%\n",
      "  File \"<ipython-input-15-ec10a891a1b5>\", line 917, in update_edge_inmap\n",
      "    kernel,inmap,outmap = edgename_2_edge_figures(edge_name, image_name, kernels, activations,params)\n",
      "  File \"/mnt/data/chris/dropbox/Research-Hamblin/Projects/cnn_subgraph_visualizer/visualizer_scripts/visualizer_helper_functions.py\", line 502, in edgename_2_edge_figures\n",
      "    valid,from_layer,to_layer,from_within_id,to_within_id  = check_edge_validity(edgename,params)\n",
      "  File \"/mnt/data/chris/dropbox/Research-Hamblin/Projects/cnn_subgraph_visualizer/visualizer_scripts/visualizer_helper_functions.py\", line 474, in check_edge_validity\n",
      "    to_node = nodestring.split('-')[1]\n",
      "IndexError: list index out of range\n"
     ]
    },
    {
     "name": "stderr",
     "output_type": "stream",
     "text": [
      "127.0.0.1 - - [03/Mar/2021 13:02:36] \"\u001b[35m\u001b[1mPOST /_dash-update-component HTTP/1.1\u001b[0m\" 500 -\n"
     ]
    },
    {
     "name": "stdout",
     "output_type": "stream",
     "text": [
      "CALLED: update_edge_outmap\n",
      "Exception on /_dash-update-component [POST]\n",
      "Traceback (most recent call last):\n",
      "  File \"/home/chris/miniconda3/envs/pruning_viz/lib/python3.6/site-packages/flask/app.py\", line 2447, in wsgi_app\n",
      "    response = self.full_dispatch_request()\n",
      "  File \"/home/chris/miniconda3/envs/pruning_viz/lib/python3.6/site-packages/flask/app.py\", line 1952, in full_dispatch_request\n",
      "    rv = self.handle_user_exception(e)\n",
      "  File \"/home/chris/miniconda3/envs/pruning_viz/lib/python3.6/site-packages/flask/app.py\", line 1821, in handle_user_exception\n",
      "    reraise(exc_type, exc_value, tb)\n",
      "  File \"/home/chris/miniconda3/envs/pruning_viz/lib/python3.6/site-packages/flask/_compat.py\", line 39, in reraise\n",
      "    raise value\n",
      "  File \"/home/chris/miniconda3/envs/pruning_viz/lib/python3.6/site-packages/flask/app.py\", line 1950, in full_dispatch_request\n",
      "    rv = self.dispatch_request()\n",
      "  File \"/home/chris/miniconda3/envs/pruning_viz/lib/python3.6/site-packages/flask/app.py\", line 1936, in dispatch_request\n",
      "    return self.view_functions[rule.endpoint](**req.view_args)\n",
      "  File \"/home/chris/miniconda3/envs/pruning_viz/lib/python3.6/site-packages/dash/dash.py\", line 1050, in dispatch\n",
      "    response.set_data(func(*args, outputs_list=outputs_list))\n",
      "  File \"/home/chris/miniconda3/envs/pruning_viz/lib/python3.6/site-packages/dash/dash.py\", line 985, in add_context\n",
      "    output_value = func(*args, **kwargs)  # %% callback invoked %%\n",
      "  File \"<ipython-input-15-ec10a891a1b5>\", line 949, in update_edge_outmap\n",
      "    kernel,inmap,outmap = edgename_2_edge_figures(edge_name, image_name, kernels, activations,params)\n",
      "  File \"/mnt/data/chris/dropbox/Research-Hamblin/Projects/cnn_subgraph_visualizer/visualizer_scripts/visualizer_helper_functions.py\", line 502, in edgename_2_edge_figures\n",
      "    valid,from_layer,to_layer,from_within_id,to_within_id  = check_edge_validity(edgename,params)\n",
      "  File \"/mnt/data/chris/dropbox/Research-Hamblin/Projects/cnn_subgraph_visualizer/visualizer_scripts/visualizer_helper_functions.py\", line 474, in check_edge_validity\n",
      "    to_node = nodestring.split('-')[1]\n",
      "IndexError: list index out of range\n"
     ]
    },
    {
     "name": "stderr",
     "output_type": "stream",
     "text": [
      "127.0.0.1 - - [03/Mar/2021 13:02:37] \"\u001b[35m\u001b[1mPOST /_dash-update-component HTTP/1.1\u001b[0m\" 500 -\n"
     ]
    },
    {
     "name": "stdout",
     "output_type": "stream",
     "text": [
      "Exception on /_dash-update-component [POST]\n",
      "Traceback (most recent call last):\n",
      "  File \"/home/chris/miniconda3/envs/pruning_viz/lib/python3.6/site-packages/flask/app.py\", line 2447, in wsgi_app\n",
      "    response = self.full_dispatch_request()\n",
      "  File \"/home/chris/miniconda3/envs/pruning_viz/lib/python3.6/site-packages/flask/app.py\", line 1952, in full_dispatch_request\n",
      "    rv = self.handle_user_exception(e)\n",
      "  File \"/home/chris/miniconda3/envs/pruning_viz/lib/python3.6/site-packages/flask/app.py\", line 1821, in handle_user_exception\n",
      "    reraise(exc_type, exc_value, tb)\n",
      "  File \"/home/chris/miniconda3/envs/pruning_viz/lib/python3.6/site-packages/flask/_compat.py\", line 39, in reraise\n",
      "    raise value\n",
      "  File \"/home/chris/miniconda3/envs/pruning_viz/lib/python3.6/site-packages/flask/app.py\", line 1950, in full_dispatch_request\n",
      "    rv = self.dispatch_request()\n",
      "  File \"/home/chris/miniconda3/envs/pruning_viz/lib/python3.6/site-packages/flask/app.py\", line 1936, in dispatch_request\n",
      "    return self.view_functions[rule.endpoint](**req.view_args)\n",
      "  File \"/home/chris/miniconda3/envs/pruning_viz/lib/python3.6/site-packages/dash/dash.py\", line 1050, in dispatch\n",
      "    response.set_data(func(*args, outputs_list=outputs_list))\n",
      "  File \"/home/chris/miniconda3/envs/pruning_viz/lib/python3.6/site-packages/dash/dash.py\", line 985, in add_context\n",
      "    output_value = func(*args, **kwargs)  # %% callback invoked %%\n",
      "  File \"<ipython-input-15-ec10a891a1b5>\", line 917, in update_edge_inmap\n",
      "    kernel,inmap,outmap = edgename_2_edge_figures(edge_name, image_name, kernels, activations,params)\n",
      "  File \"/mnt/data/chris/dropbox/Research-Hamblin/Projects/cnn_subgraph_visualizer/visualizer_scripts/visualizer_helper_functions.py\", line 502, in edgename_2_edge_figures\n",
      "    valid,from_layer,to_layer,from_within_id,to_within_id  = check_edge_validity(edgename,params)\n",
      "  File \"/mnt/data/chris/dropbox/Research-Hamblin/Projects/cnn_subgraph_visualizer/visualizer_scripts/visualizer_helper_functions.py\", line 474, in check_edge_validity\n",
      "    to_node = nodestring.split('-')[1]\n",
      "IndexError: list index out of range\n"
     ]
    },
    {
     "name": "stderr",
     "output_type": "stream",
     "text": [
      "127.0.0.1 - - [03/Mar/2021 13:02:37] \"\u001b[35m\u001b[1mPOST /_dash-update-component HTTP/1.1\u001b[0m\" 500 -\n"
     ]
    },
    {
     "name": "stdout",
     "output_type": "stream",
     "text": [
      "CALLED: update_edge_deepviz\n",
      "generating feature_viz objective string for 794\n",
      "found pre-generated image\n",
      "CALLED: update_edge_kernelmap\n",
      "Exception on /_dash-update-component [POST]\n",
      "Traceback (most recent call last):\n",
      "  File \"/home/chris/miniconda3/envs/pruning_viz/lib/python3.6/site-packages/flask/app.py\", line 2447, in wsgi_app\n",
      "    response = self.full_dispatch_request()\n",
      "  File \"/home/chris/miniconda3/envs/pruning_viz/lib/python3.6/site-packages/flask/app.py\", line 1952, in full_dispatch_request\n",
      "    rv = self.handle_user_exception(e)\n",
      "  File \"/home/chris/miniconda3/envs/pruning_viz/lib/python3.6/site-packages/flask/app.py\", line 1821, in handle_user_exception\n",
      "    reraise(exc_type, exc_value, tb)\n",
      "  File \"/home/chris/miniconda3/envs/pruning_viz/lib/python3.6/site-packages/flask/_compat.py\", line 39, in reraise\n",
      "    raise value\n",
      "  File \"/home/chris/miniconda3/envs/pruning_viz/lib/python3.6/site-packages/flask/app.py\", line 1950, in full_dispatch_request\n",
      "    rv = self.dispatch_request()\n",
      "  File \"/home/chris/miniconda3/envs/pruning_viz/lib/python3.6/site-packages/flask/app.py\", line 1936, in dispatch_request\n",
      "    return self.view_functions[rule.endpoint](**req.view_args)\n",
      "  File \"/home/chris/miniconda3/envs/pruning_viz/lib/python3.6/site-packages/dash/dash.py\", line 1050, in dispatch\n",
      "    response.set_data(func(*args, outputs_list=outputs_list))\n",
      "  File \"/home/chris/miniconda3/envs/pruning_viz/lib/python3.6/site-packages/dash/dash.py\", line 985, in add_context\n",
      "    output_value = func(*args, **kwargs)  # %% callback invoked %%\n",
      "  File \"<ipython-input-15-ec10a891a1b5>\", line 892, in update_edge_kernelmap\n",
      "    kernel,inmap,outmap = edgename_2_edge_figures(edge_name, None, kernels, None,params)\n",
      "  File \"/mnt/data/chris/dropbox/Research-Hamblin/Projects/cnn_subgraph_visualizer/visualizer_scripts/visualizer_helper_functions.py\", line 502, in edgename_2_edge_figures\n",
      "    valid,from_layer,to_layer,from_within_id,to_within_id  = check_edge_validity(edgename,params)\n",
      "  File \"/mnt/data/chris/dropbox/Research-Hamblin/Projects/cnn_subgraph_visualizer/visualizer_scripts/visualizer_helper_functions.py\", line 474, in check_edge_validity\n",
      "    to_node = nodestring.split('-')[1]\n",
      "IndexError: list index out of range\n"
     ]
    },
    {
     "name": "stderr",
     "output_type": "stream",
     "text": [
      "127.0.0.1 - - [03/Mar/2021 13:02:37] \"\u001b[35m\u001b[1mPOST /_dash-update-component HTTP/1.1\u001b[0m\" 500 -\n",
      "127.0.0.1 - - [03/Mar/2021 13:02:37] \"\u001b[37mPOST /_dash-update-component HTTP/1.1\u001b[0m\" 200 -\n"
     ]
    },
    {
     "name": "stdout",
     "output_type": "stream",
     "text": [
      "CALLED: update_store\n",
      "\n",
      "TRIGGER edge-actmaps-input.value\n",
      "794-\n"
     ]
    },
    {
     "name": "stderr",
     "output_type": "stream",
     "text": [
      "127.0.0.1 - - [03/Mar/2021 13:02:37] \"\u001b[37mPOST /_dash-update-component HTTP/1.1\u001b[0m\" 200 -\n"
     ]
    },
    {
     "name": "stdout",
     "output_type": "stream",
     "text": [
      "CALLED: update_edge_outmap\n",
      "CALLED: update_edge_deepviz\n",
      "generating feature_viz objective string for 794-\n",
      "CALLED: update_edge_inmap\n",
      "Exception on /_dash-update-component [POST]\n",
      "Traceback (most recent call last):\n",
      "  File \"/home/chris/miniconda3/envs/pruning_viz/lib/python3.6/site-packages/flask/app.py\", line 2447, in wsgi_app\n",
      "    response = self.full_dispatch_request()\n",
      "  File \"/home/chris/miniconda3/envs/pruning_viz/lib/python3.6/site-packages/flask/app.py\", line 1952, in full_dispatch_request\n",
      "    rv = self.handle_user_exception(e)\n",
      "  File \"/home/chris/miniconda3/envs/pruning_viz/lib/python3.6/site-packages/flask/app.py\", line 1821, in handle_user_exception\n",
      "    reraise(exc_type, exc_value, tb)\n",
      "  File \"/home/chris/miniconda3/envs/pruning_viz/lib/python3.6/site-packages/flask/_compat.py\", line 39, in reraise\n",
      "    raise value\n",
      "  File \"/home/chris/miniconda3/envs/pruning_viz/lib/python3.6/site-packages/flask/app.py\", line 1950, in full_dispatch_request\n",
      "    rv = self.dispatch_request()\n",
      "  File \"/home/chris/miniconda3/envs/pruning_viz/lib/python3.6/site-packages/flask/app.py\", line 1936, in dispatch_request\n",
      "    return self.view_functions[rule.endpoint](**req.view_args)\n",
      "  File \"/home/chris/miniconda3/envs/pruning_viz/lib/python3.6/site-packages/dash/dash.py\", line 1050, in dispatch\n",
      "    response.set_data(func(*args, outputs_list=outputs_list))\n",
      "  File \"/home/chris/miniconda3/envs/pruning_viz/lib/python3.6/site-packages/dash/dash.py\", line 985, in add_context\n",
      "    output_value = func(*args, **kwargs)  # %% callback invoked %%\n",
      "  File \"<ipython-input-15-ec10a891a1b5>\", line 660, in update_edge_deepviz\n",
      "    image_name = fetch_deepviz_img(model_dis,edgename,params)\n",
      "  File \"/mnt/data/chris/dropbox/Research-Hamblin/Projects/cnn_subgraph_visualizer/visualizer_scripts/featureviz_helper_functions.py\", line 81, in fetch_deepviz_img\n",
      "    objective = gen_objective_str(targetid,model,params)\n",
      "  File \"/mnt/data/chris/dropbox/Research-Hamblin/Projects/cnn_subgraph_visualizer/visualizer_scripts/featureviz_helper_functions.py\", line 31, in gen_objective_str\n",
      "    within_id = edgename_2_singlenum(model,targetid,params)\n",
      "  File \"/mnt/data/chris/dropbox/Research-Hamblin/Projects/cnn_subgraph_visualizer/visualizer_scripts/visualizer_helper_functions.py\", line 496, in edgename_2_singlenum\n",
      "    raise ValueError('edgename %s is invalid'%edgename)\n",
      "ValueError: edgename 794- is invalid\n"
     ]
    },
    {
     "name": "stderr",
     "output_type": "stream",
     "text": [
      "127.0.0.1 - - [03/Mar/2021 13:02:38] \"\u001b[35m\u001b[1mPOST /_dash-update-component HTTP/1.1\u001b[0m\" 500 -\n",
      "127.0.0.1 - - [03/Mar/2021 13:02:38] \"\u001b[37mPOST /_dash-update-component HTTP/1.1\u001b[0m\" 200 -\n"
     ]
    },
    {
     "name": "stdout",
     "output_type": "stream",
     "text": [
      "edge outmap error\n",
      "edge inmap errorCALLED: update_edge_kernelmap\n",
      "\n"
     ]
    },
    {
     "name": "stderr",
     "output_type": "stream",
     "text": [
      "127.0.0.1 - - [03/Mar/2021 13:02:38] \"\u001b[37mPOST /_dash-update-component HTTP/1.1\u001b[0m\" 200 -\n",
      "127.0.0.1 - - [03/Mar/2021 13:02:38] \"\u001b[37mPOST /_dash-update-component HTTP/1.1\u001b[0m\" 200 -\n",
      "127.0.0.1 - - [03/Mar/2021 13:02:38] \"\u001b[37mPOST /_dash-update-component HTTP/1.1\u001b[0m\" 200 -\n"
     ]
    },
    {
     "name": "stdout",
     "output_type": "stream",
     "text": [
      "CALLED: update_store\n",
      "\n",
      "TRIGGER edge-actmaps-input.value\n",
      "794-7\n",
      "invalid edge name\n",
      "CALLED: update_edge_outmap\n",
      "CALLED: update_edge_deepviz\n",
      "generating feature_viz objective string for 794-7\n",
      "invalid edge name\n",
      "CALLED: update_edge_inmap\n",
      "Exception on /_dash-update-component [POST]\n",
      "Traceback (most recent call last):\n",
      "  File \"/home/chris/miniconda3/envs/pruning_viz/lib/python3.6/site-packages/flask/app.py\", line 2447, in wsgi_app\n",
      "    response = self.full_dispatch_request()\n",
      "  File \"/home/chris/miniconda3/envs/pruning_viz/lib/python3.6/site-packages/flask/app.py\", line 1952, in full_dispatch_request\n",
      "    rv = self.handle_user_exception(e)\n",
      "  File \"/home/chris/miniconda3/envs/pruning_viz/lib/python3.6/site-packages/flask/app.py\", line 1821, in handle_user_exception\n",
      "    reraise(exc_type, exc_value, tb)\n",
      "  File \"/home/chris/miniconda3/envs/pruning_viz/lib/python3.6/site-packages/flask/_compat.py\", line 39, in reraise\n",
      "    raise value\n",
      "  File \"/home/chris/miniconda3/envs/pruning_viz/lib/python3.6/site-packages/flask/app.py\", line 1950, in full_dispatch_request\n",
      "    rv = self.dispatch_request()\n",
      "  File \"/home/chris/miniconda3/envs/pruning_viz/lib/python3.6/site-packages/flask/app.py\", line 1936, in dispatch_request\n",
      "    return self.view_functions[rule.endpoint](**req.view_args)\n",
      "  File \"/home/chris/miniconda3/envs/pruning_viz/lib/python3.6/site-packages/dash/dash.py\", line 1050, in dispatch\n",
      "    response.set_data(func(*args, outputs_list=outputs_list))\n",
      "  File \"/home/chris/miniconda3/envs/pruning_viz/lib/python3.6/site-packages/dash/dash.py\", line 985, in add_context\n",
      "    output_value = func(*args, **kwargs)  # %% callback invoked %%\n",
      "  File \"<ipython-input-15-ec10a891a1b5>\", line 660, in update_edge_deepviz\n",
      "    image_name = fetch_deepviz_img(model_dis,edgename,params)\n",
      "  File \"/mnt/data/chris/dropbox/Research-Hamblin/Projects/cnn_subgraph_visualizer/visualizer_scripts/featureviz_helper_functions.py\", line 81, in fetch_deepviz_img\n",
      "    objective = gen_objective_str(targetid,model,params)\n",
      "  File \"/mnt/data/chris/dropbox/Research-Hamblin/Projects/cnn_subgraph_visualizer/visualizer_scripts/featureviz_helper_functions.py\", line 31, in gen_objective_str\n",
      "    within_id = edgename_2_singlenum(model,targetid,params)\n",
      "  File \"/mnt/data/chris/dropbox/Research-Hamblin/Projects/cnn_subgraph_visualizer/visualizer_scripts/visualizer_helper_functions.py\", line 496, in edgename_2_singlenum\n",
      "    raise ValueError('edgename %s is invalid'%edgename)\n",
      "ValueError: edgename 794-7 is invalid\n"
     ]
    },
    {
     "name": "stderr",
     "output_type": "stream",
     "text": [
      "127.0.0.1 - - [03/Mar/2021 13:02:38] \"\u001b[35m\u001b[1mPOST /_dash-update-component HTTP/1.1\u001b[0m\" 500 -\n",
      "127.0.0.1 - - [03/Mar/2021 13:02:38] \"\u001b[37mPOST /_dash-update-component HTTP/1.1\u001b[0m\" 200 -\n",
      "127.0.0.1 - - [03/Mar/2021 13:02:39] \"\u001b[37mPOST /_dash-update-component HTTP/1.1\u001b[0m\" 200 -\n"
     ]
    },
    {
     "name": "stdout",
     "output_type": "stream",
     "text": [
      "invalid edge name\n",
      "edge outmap error\n",
      "CALLED: update_edge_kernelmap\n",
      "invalid edge name\n",
      "invalid edge name\n",
      "edge inmap error\n"
     ]
    },
    {
     "name": "stderr",
     "output_type": "stream",
     "text": [
      "127.0.0.1 - - [03/Mar/2021 13:02:39] \"\u001b[37mPOST /_dash-update-component HTTP/1.1\u001b[0m\" 200 -\n",
      "127.0.0.1 - - [03/Mar/2021 13:02:39] \"\u001b[37mPOST /_dash-update-component HTTP/1.1\u001b[0m\" 200 -\n"
     ]
    },
    {
     "name": "stdout",
     "output_type": "stream",
     "text": [
      "CALLED: update_store\n",
      "\n",
      "TRIGGER edge-actmaps-input.value\n",
      "794-72\n",
      "invalid edge name\n",
      "CALLED: update_edge_inmap\n",
      "CALLED: update_edge_deepviz\n",
      "generating feature_viz objective string for 794-72\n",
      "invalid edge name\n",
      "CALLED: update_edge_outmap\n",
      "Exception on /_dash-update-component [POST]\n",
      "Traceback (most recent call last):\n",
      "  File \"/home/chris/miniconda3/envs/pruning_viz/lib/python3.6/site-packages/flask/app.py\", line 2447, in wsgi_app\n",
      "    response = self.full_dispatch_request()\n",
      "  File \"/home/chris/miniconda3/envs/pruning_viz/lib/python3.6/site-packages/flask/app.py\", line 1952, in full_dispatch_request\n",
      "    rv = self.handle_user_exception(e)\n",
      "  File \"/home/chris/miniconda3/envs/pruning_viz/lib/python3.6/site-packages/flask/app.py\", line 1821, in handle_user_exception\n",
      "    reraise(exc_type, exc_value, tb)\n",
      "  File \"/home/chris/miniconda3/envs/pruning_viz/lib/python3.6/site-packages/flask/_compat.py\", line 39, in reraise\n",
      "    raise value\n",
      "  File \"/home/chris/miniconda3/envs/pruning_viz/lib/python3.6/site-packages/flask/app.py\", line 1950, in full_dispatch_request\n",
      "    rv = self.dispatch_request()\n",
      "  File \"/home/chris/miniconda3/envs/pruning_viz/lib/python3.6/site-packages/flask/app.py\", line 1936, in dispatch_request\n",
      "    return self.view_functions[rule.endpoint](**req.view_args)\n",
      "  File \"/home/chris/miniconda3/envs/pruning_viz/lib/python3.6/site-packages/dash/dash.py\", line 1050, in dispatch\n",
      "    response.set_data(func(*args, outputs_list=outputs_list))\n",
      "  File \"/home/chris/miniconda3/envs/pruning_viz/lib/python3.6/site-packages/dash/dash.py\", line 985, in add_context\n",
      "    output_value = func(*args, **kwargs)  # %% callback invoked %%\n",
      "  File \"<ipython-input-15-ec10a891a1b5>\", line 660, in update_edge_deepviz\n",
      "    image_name = fetch_deepviz_img(model_dis,edgename,params)\n",
      "  File \"/mnt/data/chris/dropbox/Research-Hamblin/Projects/cnn_subgraph_visualizer/visualizer_scripts/featureviz_helper_functions.py\", line 81, in fetch_deepviz_img\n",
      "    objective = gen_objective_str(targetid,model,params)\n",
      "  File \"/mnt/data/chris/dropbox/Research-Hamblin/Projects/cnn_subgraph_visualizer/visualizer_scripts/featureviz_helper_functions.py\", line 31, in gen_objective_str\n",
      "    within_id = edgename_2_singlenum(model,targetid,params)\n",
      "  File \"/mnt/data/chris/dropbox/Research-Hamblin/Projects/cnn_subgraph_visualizer/visualizer_scripts/visualizer_helper_functions.py\", line 496, in edgename_2_singlenum\n",
      "    raise ValueError('edgename %s is invalid'%edgename)\n",
      "ValueError: edgename 794-72 is invalid\n"
     ]
    },
    {
     "name": "stderr",
     "output_type": "stream",
     "text": [
      "127.0.0.1 - - [03/Mar/2021 13:02:39] \"\u001b[35m\u001b[1mPOST /_dash-update-component HTTP/1.1\u001b[0m\" 500 -\n"
     ]
    },
    {
     "name": "stdout",
     "output_type": "stream",
     "text": [
      "invalid edge name\n",
      "edge inmap error\n"
     ]
    },
    {
     "name": "stderr",
     "output_type": "stream",
     "text": [
      "127.0.0.1 - - [03/Mar/2021 13:02:39] \"\u001b[37mPOST /_dash-update-component HTTP/1.1\u001b[0m\" 200 -\n"
     ]
    },
    {
     "name": "stdout",
     "output_type": "stream",
     "text": [
      "CALLED: update_edge_kernelmap\n",
      "invalid edge name\n"
     ]
    },
    {
     "name": "stderr",
     "output_type": "stream",
     "text": [
      "127.0.0.1 - - [03/Mar/2021 13:02:39] \"\u001b[37mPOST /_dash-update-component HTTP/1.1\u001b[0m\" 200 -\n",
      "127.0.0.1 - - [03/Mar/2021 13:02:39] \"\u001b[37mPOST /_dash-update-component HTTP/1.1\u001b[0m\" 200 -\n"
     ]
    },
    {
     "name": "stdout",
     "output_type": "stream",
     "text": [
      "invalid edge name\n",
      "edge outmap error\n",
      "Exception on /_dash-update-component [POST]\n",
      "Traceback (most recent call last):\n",
      "  File \"/home/chris/miniconda3/envs/pruning_viz/lib/python3.6/site-packages/flask/app.py\", line 2447, in wsgi_app\n",
      "    response = self.full_dispatch_request()\n",
      "  File \"/home/chris/miniconda3/envs/pruning_viz/lib/python3.6/site-packages/flask/app.py\", line 1952, in full_dispatch_request\n",
      "    rv = self.handle_user_exception(e)\n",
      "  File \"/home/chris/miniconda3/envs/pruning_viz/lib/python3.6/site-packages/flask/app.py\", line 1821, in handle_user_exception\n",
      "    reraise(exc_type, exc_value, tb)\n",
      "  File \"/home/chris/miniconda3/envs/pruning_viz/lib/python3.6/site-packages/flask/_compat.py\", line 39, in reraise\n",
      "    raise value\n",
      "  File \"/home/chris/miniconda3/envs/pruning_viz/lib/python3.6/site-packages/flask/app.py\", line 1950, in full_dispatch_request\n",
      "    rv = self.dispatch_request()\n",
      "  File \"/home/chris/miniconda3/envs/pruning_viz/lib/python3.6/site-packages/flask/app.py\", line 1936, in dispatch_request\n",
      "    return self.view_functions[rule.endpoint](**req.view_args)\n",
      "  File \"/home/chris/miniconda3/envs/pruning_viz/lib/python3.6/site-packages/dash/dash.py\", line 1050, in dispatch\n",
      "    response.set_data(func(*args, outputs_list=outputs_list))\n",
      "  File \"/home/chris/miniconda3/envs/pruning_viz/lib/python3.6/site-packages/dash/dash.py\", line 985, in add_context\n",
      "    output_value = func(*args, **kwargs)  # %% callback invoked %%\n",
      "  File \"<ipython-input-15-ec10a891a1b5>\", line 917, in update_edge_inmap\n",
      "    kernel,inmap,outmap = edgename_2_edge_figures(edge_name, image_name, kernels, activations,params)\n",
      "  File \"/mnt/data/chris/dropbox/Research-Hamblin/Projects/cnn_subgraph_visualizer/visualizer_scripts/visualizer_helper_functions.py\", line 502, in edgename_2_edge_figures\n",
      "    valid,from_layer,to_layer,from_within_id,to_within_id  = check_edge_validity(edgename,params)\n",
      "  File \"/mnt/data/chris/dropbox/Research-Hamblin/Projects/cnn_subgraph_visualizer/visualizer_scripts/visualizer_helper_functions.py\", line 474, in check_edge_validity\n",
      "    to_node = nodestring.split('-')[1]\n",
      "IndexError: list index out of range\n"
     ]
    },
    {
     "name": "stderr",
     "output_type": "stream",
     "text": [
      "127.0.0.1 - - [03/Mar/2021 13:02:39] \"\u001b[35m\u001b[1mPOST /_dash-update-component HTTP/1.1\u001b[0m\" 500 -\n",
      "127.0.0.1 - - [03/Mar/2021 13:02:40] \"\u001b[37mPOST /_dash-update-component HTTP/1.1\u001b[0m\" 200 -\n"
     ]
    },
    {
     "name": "stdout",
     "output_type": "stream",
     "text": [
      "CALLED: update_store\n",
      "\n",
      "TRIGGER edge-actmaps-input.value\n",
      "794-729\n",
      "invalid edge name\n",
      "CALLED: update_edge_deepviz\n",
      "generating feature_viz objective string for 794-729\n",
      "invalid edge name\n",
      "CALLED: update_edge_outmap\n",
      "CALLED: update_edge_inmap\n",
      "Exception on /_dash-update-component [POST]\n",
      "Traceback (most recent call last):\n",
      "  File \"/home/chris/miniconda3/envs/pruning_viz/lib/python3.6/site-packages/flask/app.py\", line 2447, in wsgi_app\n",
      "    response = self.full_dispatch_request()\n",
      "  File \"/home/chris/miniconda3/envs/pruning_viz/lib/python3.6/site-packages/flask/app.py\", line 1952, in full_dispatch_request\n",
      "    rv = self.handle_user_exception(e)\n",
      "  File \"/home/chris/miniconda3/envs/pruning_viz/lib/python3.6/site-packages/flask/app.py\", line 1821, in handle_user_exception\n",
      "    reraise(exc_type, exc_value, tb)\n",
      "  File \"/home/chris/miniconda3/envs/pruning_viz/lib/python3.6/site-packages/flask/_compat.py\", line 39, in reraise\n",
      "    raise value\n",
      "  File \"/home/chris/miniconda3/envs/pruning_viz/lib/python3.6/site-packages/flask/app.py\", line 1950, in full_dispatch_request\n",
      "    rv = self.dispatch_request()\n",
      "  File \"/home/chris/miniconda3/envs/pruning_viz/lib/python3.6/site-packages/flask/app.py\", line 1936, in dispatch_request\n",
      "    return self.view_functions[rule.endpoint](**req.view_args)\n",
      "  File \"/home/chris/miniconda3/envs/pruning_viz/lib/python3.6/site-packages/dash/dash.py\", line 1050, in dispatch\n",
      "    response.set_data(func(*args, outputs_list=outputs_list))\n",
      "  File \"/home/chris/miniconda3/envs/pruning_viz/lib/python3.6/site-packages/dash/dash.py\", line 985, in add_context\n",
      "    output_value = func(*args, **kwargs)  # %% callback invoked %%\n",
      "  File \"<ipython-input-15-ec10a891a1b5>\", line 660, in update_edge_deepviz\n",
      "    image_name = fetch_deepviz_img(model_dis,edgename,params)\n",
      "  File \"/mnt/data/chris/dropbox/Research-Hamblin/Projects/cnn_subgraph_visualizer/visualizer_scripts/featureviz_helper_functions.py\", line 81, in fetch_deepviz_img\n",
      "    objective = gen_objective_str(targetid,model,params)\n",
      "  File \"/mnt/data/chris/dropbox/Research-Hamblin/Projects/cnn_subgraph_visualizer/visualizer_scripts/featureviz_helper_functions.py\", line 31, in gen_objective_str\n",
      "    within_id = edgename_2_singlenum(model,targetid,params)\n",
      "  File \"/mnt/data/chris/dropbox/Research-Hamblin/Projects/cnn_subgraph_visualizer/visualizer_scripts/visualizer_helper_functions.py\", line 496, in edgename_2_singlenum\n",
      "    raise ValueError('edgename %s is invalid'%edgename)\n",
      "ValueError: edgename 794-729 is invalid\n"
     ]
    },
    {
     "name": "stderr",
     "output_type": "stream",
     "text": [
      "127.0.0.1 - - [03/Mar/2021 13:02:40] \"\u001b[35m\u001b[1mPOST /_dash-update-component HTTP/1.1\u001b[0m\" 500 -\n",
      "127.0.0.1 - - [03/Mar/2021 13:02:40] \"\u001b[37mPOST /_dash-update-component HTTP/1.1\u001b[0m\" 200 -\n"
     ]
    },
    {
     "name": "stdout",
     "output_type": "stream",
     "text": [
      "CALLED: update_edge_kernelmap\n",
      "invalid edge name\n",
      "invalid edge nameCALLED: update_store\n",
      "\n",
      "edge inmap error\n",
      "\n",
      "TRIGGER edge-actmaps-input.value\n",
      "794-72\n",
      "invalid edge name\n",
      "invalid edge name\n",
      "edge outmap error\n",
      "Exception on /_dash-update-component [POST]\n",
      "Traceback (most recent call last):\n",
      "  File \"/home/chris/miniconda3/envs/pruning_viz/lib/python3.6/site-packages/flask/app.py\", line 2447, in wsgi_app\n",
      "    response = self.full_dispatch_request()\n",
      "  File \"/home/chris/miniconda3/envs/pruning_viz/lib/python3.6/site-packages/flask/app.py\", line 1952, in full_dispatch_request\n",
      "    rv = self.handle_user_exception(e)\n",
      "  File \"/home/chris/miniconda3/envs/pruning_viz/lib/python3.6/site-packages/flask/app.py\", line 1821, in handle_user_exception\n",
      "    reraise(exc_type, exc_value, tb)\n",
      "  File \"/home/chris/miniconda3/envs/pruning_viz/lib/python3.6/site-packages/flask/_compat.py\", line 39, in reraise\n",
      "    raise value\n",
      "  File \"/home/chris/miniconda3/envs/pruning_viz/lib/python3.6/site-packages/flask/app.py\", line 1950, in full_dispatch_request\n",
      "    rv = self.dispatch_request()\n",
      "  File \"/home/chris/miniconda3/envs/pruning_viz/lib/python3.6/site-packages/flask/app.py\", line 1936, in dispatch_request\n",
      "    return self.view_functions[rule.endpoint](**req.view_args)\n",
      "  File \"/home/chris/miniconda3/envs/pruning_viz/lib/python3.6/site-packages/dash/dash.py\", line 1050, in dispatch\n",
      "    response.set_data(func(*args, outputs_list=outputs_list))\n",
      "  File \"/home/chris/miniconda3/envs/pruning_viz/lib/python3.6/site-packages/dash/dash.py\", line 985, in add_context\n",
      "    output_value = func(*args, **kwargs)  # %% callback invoked %%\n",
      "  File \"<ipython-input-15-ec10a891a1b5>\", line 917, in update_edge_inmap\n",
      "    kernel,inmap,outmap = edgename_2_edge_figures(edge_name, image_name, kernels, activations,params)\n",
      "  File \"/mnt/data/chris/dropbox/Research-Hamblin/Projects/cnn_subgraph_visualizer/visualizer_scripts/visualizer_helper_functions.py\", line 502, in edgename_2_edge_figures\n",
      "    valid,from_layer,to_layer,from_within_id,to_within_id  = check_edge_validity(edgename,params)\n",
      "  File \"/mnt/data/chris/dropbox/Research-Hamblin/Projects/cnn_subgraph_visualizer/visualizer_scripts/visualizer_helper_functions.py\", line 474, in check_edge_validity\n",
      "    to_node = nodestring.split('-')[1]\n",
      "IndexError: list index out of range\n"
     ]
    },
    {
     "name": "stderr",
     "output_type": "stream",
     "text": [
      "127.0.0.1 - - [03/Mar/2021 13:02:40] \"\u001b[35m\u001b[1mPOST /_dash-update-component HTTP/1.1\u001b[0m\" 500 -\n"
     ]
    },
    {
     "name": "stdout",
     "output_type": "stream",
     "text": [
      "Exception on /_dash-update-component [POST]\n",
      "Traceback (most recent call last):\n",
      "  File \"/home/chris/miniconda3/envs/pruning_viz/lib/python3.6/site-packages/flask/app.py\", line 2447, in wsgi_app\n",
      "    response = self.full_dispatch_request()\n",
      "  File \"/home/chris/miniconda3/envs/pruning_viz/lib/python3.6/site-packages/flask/app.py\", line 1952, in full_dispatch_request\n",
      "    rv = self.handle_user_exception(e)\n",
      "  File \"/home/chris/miniconda3/envs/pruning_viz/lib/python3.6/site-packages/flask/app.py\", line 1821, in handle_user_exception\n",
      "    reraise(exc_type, exc_value, tb)\n",
      "  File \"/home/chris/miniconda3/envs/pruning_viz/lib/python3.6/site-packages/flask/_compat.py\", line 39, in reraise\n",
      "    raise value\n",
      "  File \"/home/chris/miniconda3/envs/pruning_viz/lib/python3.6/site-packages/flask/app.py\", line 1950, in full_dispatch_request\n",
      "    rv = self.dispatch_request()\n",
      "  File \"/home/chris/miniconda3/envs/pruning_viz/lib/python3.6/site-packages/flask/app.py\", line 1936, in dispatch_request\n",
      "    return self.view_functions[rule.endpoint](**req.view_args)\n",
      "  File \"/home/chris/miniconda3/envs/pruning_viz/lib/python3.6/site-packages/dash/dash.py\", line 1050, in dispatch\n",
      "    response.set_data(func(*args, outputs_list=outputs_list))\n",
      "  File \"/home/chris/miniconda3/envs/pruning_viz/lib/python3.6/site-packages/dash/dash.py\", line 985, in add_context\n",
      "    output_value = func(*args, **kwargs)  # %% callback invoked %%\n",
      "  File \"<ipython-input-15-ec10a891a1b5>\", line 949, in update_edge_outmap\n",
      "    kernel,inmap,outmap = edgename_2_edge_figures(edge_name, image_name, kernels, activations,params)\n",
      "  File \"/mnt/data/chris/dropbox/Research-Hamblin/Projects/cnn_subgraph_visualizer/visualizer_scripts/visualizer_helper_functions.py\", line 502, in edgename_2_edge_figures\n",
      "    valid,from_layer,to_layer,from_within_id,to_within_id  = check_edge_validity(edgename,params)\n",
      "  File \"/mnt/data/chris/dropbox/Research-Hamblin/Projects/cnn_subgraph_visualizer/visualizer_scripts/visualizer_helper_functions.py\", line 474, in check_edge_validity\n",
      "    to_node = nodestring.split('-')[1]\n",
      "IndexError: list index out of range\n"
     ]
    },
    {
     "name": "stderr",
     "output_type": "stream",
     "text": [
      "127.0.0.1 - - [03/Mar/2021 13:02:40] \"\u001b[37mPOST /_dash-update-component HTTP/1.1\u001b[0m\" 200 -\n",
      "127.0.0.1 - - [03/Mar/2021 13:02:40] \"\u001b[37mPOST /_dash-update-component HTTP/1.1\u001b[0m\" 200 -\n",
      "127.0.0.1 - - [03/Mar/2021 13:02:40] \"\u001b[37mPOST /_dash-update-component HTTP/1.1\u001b[0m\" 200 -\n",
      "127.0.0.1 - - [03/Mar/2021 13:02:40] \"\u001b[35m\u001b[1mPOST /_dash-update-component HTTP/1.1\u001b[0m\" 500 -\n"
     ]
    },
    {
     "name": "stdout",
     "output_type": "stream",
     "text": [
      "CALLED: update_edge_inmap\n",
      "CALLED: update_edge_deepviz\n",
      "generating feature_viz objective string for 794-72\n",
      "invalid edge name\n",
      "CALLED: update_edge_kernelmap\n",
      "invalid edge name\n",
      "Exception on /_dash-update-component [POST]\n",
      "Traceback (most recent call last):\n",
      "  File \"/home/chris/miniconda3/envs/pruning_viz/lib/python3.6/site-packages/flask/app.py\", line 2447, in wsgi_app\n",
      "    response = self.full_dispatch_request()\n",
      "  File \"/home/chris/miniconda3/envs/pruning_viz/lib/python3.6/site-packages/flask/app.py\", line 1952, in full_dispatch_request\n",
      "    rv = self.handle_user_exception(e)\n",
      "  File \"/home/chris/miniconda3/envs/pruning_viz/lib/python3.6/site-packages/flask/app.py\", line 1821, in handle_user_exception\n",
      "    reraise(exc_type, exc_value, tb)\n",
      "  File \"/home/chris/miniconda3/envs/pruning_viz/lib/python3.6/site-packages/flask/_compat.py\", line 39, in reraise\n",
      "    raise value\n",
      "  File \"/home/chris/miniconda3/envs/pruning_viz/lib/python3.6/site-packages/flask/app.py\", line 1950, in full_dispatch_request\n",
      "    rv = self.dispatch_request()\n",
      "  File \"/home/chris/miniconda3/envs/pruning_viz/lib/python3.6/site-packages/flask/app.py\", line 1936, in dispatch_request\n",
      "    return self.view_functions[rule.endpoint](**req.view_args)\n",
      "  File \"/home/chris/miniconda3/envs/pruning_viz/lib/python3.6/site-packages/dash/dash.py\", line 1050, in dispatch\n",
      "    response.set_data(func(*args, outputs_list=outputs_list))\n",
      "  File \"/home/chris/miniconda3/envs/pruning_viz/lib/python3.6/site-packages/dash/dash.py\", line 985, in add_context\n",
      "    output_value = func(*args, **kwargs)  # %% callback invoked %%\n",
      "  File \"<ipython-input-15-ec10a891a1b5>\", line 660, in update_edge_deepviz\n",
      "    image_name = fetch_deepviz_img(model_dis,edgename,params)\n",
      "  File \"/mnt/data/chris/dropbox/Research-Hamblin/Projects/cnn_subgraph_visualizer/visualizer_scripts/featureviz_helper_functions.py\", line 81, in fetch_deepviz_img\n",
      "    objective = gen_objective_str(targetid,model,params)\n",
      "  File \"/mnt/data/chris/dropbox/Research-Hamblin/Projects/cnn_subgraph_visualizer/visualizer_scripts/featureviz_helper_functions.py\", line 31, in gen_objective_str\n",
      "    within_id = edgename_2_singlenum(model,targetid,params)\n",
      "  File \"/mnt/data/chris/dropbox/Research-Hamblin/Projects/cnn_subgraph_visualizer/visualizer_scripts/visualizer_helper_functions.py\", line 496, in edgename_2_singlenum\n",
      "    raise ValueError('edgename %s is invalid'%edgename)\n",
      "ValueError: edgename 794-72 is invalid\n"
     ]
    },
    {
     "name": "stderr",
     "output_type": "stream",
     "text": [
      "127.0.0.1 - - [03/Mar/2021 13:02:41] \"\u001b[37mPOST /_dash-update-component HTTP/1.1\u001b[0m\" 200 -\n"
     ]
    },
    {
     "name": "stdout",
     "output_type": "stream",
     "text": [
      "CALLED: update_edge_outmap\n",
      "CALLED: update_store\n",
      "\n",
      "TRIGGER edge-actmaps-input.value\n",
      "794-7\n",
      "invalid edge name\n"
     ]
    },
    {
     "name": "stderr",
     "output_type": "stream",
     "text": [
      "127.0.0.1 - - [03/Mar/2021 13:02:41] \"\u001b[35m\u001b[1mPOST /_dash-update-component HTTP/1.1\u001b[0m\" 500 -\n",
      "127.0.0.1 - - [03/Mar/2021 13:02:41] \"\u001b[37mPOST /_dash-update-component HTTP/1.1\u001b[0m\" 200 -\n",
      "127.0.0.1 - - [03/Mar/2021 13:02:41] \"\u001b[37mPOST /_dash-update-component HTTP/1.1\u001b[0m\" 200 -\n"
     ]
    },
    {
     "name": "stdout",
     "output_type": "stream",
     "text": [
      "invalid edge name\n",
      "edge inmap error\n",
      "CALLED: update_edge_inmap\n",
      "CALLED: update_edge_kernelmap\n",
      "invalid edge name\n",
      "CALLED: update_edge_deepviz\n",
      "generating feature_viz objective string for 794-7\n",
      "invalid edge name\n",
      "invalid edge name\n",
      "invalid edge nameedge inmap error\n",
      "CALLED: update_edge_outmap\n",
      "\n",
      "edge outmap error\n",
      "Exception on /_dash-update-component [POST]\n",
      "Traceback (most recent call last):\n",
      "  File \"/home/chris/miniconda3/envs/pruning_viz/lib/python3.6/site-packages/flask/app.py\", line 2447, in wsgi_app\n",
      "    response = self.full_dispatch_request()\n",
      "  File \"/home/chris/miniconda3/envs/pruning_viz/lib/python3.6/site-packages/flask/app.py\", line 1952, in full_dispatch_request\n",
      "    rv = self.handle_user_exception(e)\n",
      "  File \"/home/chris/miniconda3/envs/pruning_viz/lib/python3.6/site-packages/flask/app.py\", line 1821, in handle_user_exception\n",
      "    reraise(exc_type, exc_value, tb)\n",
      "  File \"/home/chris/miniconda3/envs/pruning_viz/lib/python3.6/site-packages/flask/_compat.py\", line 39, in reraise\n",
      "    raise value\n",
      "  File \"/home/chris/miniconda3/envs/pruning_viz/lib/python3.6/site-packages/flask/app.py\", line 1950, in full_dispatch_request\n",
      "    rv = self.dispatch_request()\n",
      "  File \"/home/chris/miniconda3/envs/pruning_viz/lib/python3.6/site-packages/flask/app.py\", line 1936, in dispatch_request\n",
      "    return self.view_functions[rule.endpoint](**req.view_args)\n",
      "  File \"/home/chris/miniconda3/envs/pruning_viz/lib/python3.6/site-packages/dash/dash.py\", line 1050, in dispatch\n",
      "    response.set_data(func(*args, outputs_list=outputs_list))\n",
      "  File \"/home/chris/miniconda3/envs/pruning_viz/lib/python3.6/site-packages/dash/dash.py\", line 985, in add_context\n",
      "    output_value = func(*args, **kwargs)  # %% callback invoked %%\n",
      "  File \"<ipython-input-15-ec10a891a1b5>\", line 660, in update_edge_deepviz\n",
      "    image_name = fetch_deepviz_img(model_dis,edgename,params)\n",
      "  File \"/mnt/data/chris/dropbox/Research-Hamblin/Projects/cnn_subgraph_visualizer/visualizer_scripts/featureviz_helper_functions.py\", line 81, in fetch_deepviz_img\n",
      "    objective = gen_objective_str(targetid,model,params)\n",
      "  File \"/mnt/data/chris/dropbox/Research-Hamblin/Projects/cnn_subgraph_visualizer/visualizer_scripts/featureviz_helper_functions.py\", line 31, in gen_objective_str\n",
      "    within_id = edgename_2_singlenum(model,targetid,params)\n",
      "  File \"/mnt/data/chris/dropbox/Research-Hamblin/Projects/cnn_subgraph_visualizer/visualizer_scripts/visualizer_helper_functions.py\", line 496, in edgename_2_singlenum\n",
      "    raise ValueError('edgename %s is invalid'%edgename)\n",
      "ValueError: edgename 794-7 is invalid\n"
     ]
    },
    {
     "name": "stderr",
     "output_type": "stream",
     "text": [
      "127.0.0.1 - - [03/Mar/2021 13:02:41] \"\u001b[35m\u001b[1mPOST /_dash-update-component HTTP/1.1\u001b[0m\" 500 -\n",
      "127.0.0.1 - - [03/Mar/2021 13:02:41] \"\u001b[37mPOST /_dash-update-component HTTP/1.1\u001b[0m\" 200 -\n",
      "127.0.0.1 - - [03/Mar/2021 13:02:41] \"\u001b[37mPOST /_dash-update-component HTTP/1.1\u001b[0m\" 200 -\n",
      "127.0.0.1 - - [03/Mar/2021 13:02:41] \"\u001b[37mPOST /_dash-update-component HTTP/1.1\u001b[0m\" 200 -\n",
      "127.0.0.1 - - [03/Mar/2021 13:02:41] \"\u001b[37mPOST /_dash-update-component HTTP/1.1\u001b[0m\" 200 -\n"
     ]
    },
    {
     "name": "stdout",
     "output_type": "stream",
     "text": [
      "CALLED: update_store\n",
      "\n",
      "TRIGGER edge-actmaps-input.value\n",
      "794-\n",
      "invalid edge name\n",
      "edge outmap error\n",
      "CALLED: update_edge_kernelmap\n",
      "CALLED: update_edge_deepviz\n",
      "generating feature_viz objective string for 794-\n",
      "Exception on /_dash-update-component [POST]\n",
      "Traceback (most recent call last):\n",
      "  File \"/home/chris/miniconda3/envs/pruning_viz/lib/python3.6/site-packages/flask/app.py\", line 2447, in wsgi_app\n",
      "    response = self.full_dispatch_request()\n",
      "  File \"/home/chris/miniconda3/envs/pruning_viz/lib/python3.6/site-packages/flask/app.py\", line 1952, in full_dispatch_request\n",
      "    rv = self.handle_user_exception(e)\n",
      "  File \"/home/chris/miniconda3/envs/pruning_viz/lib/python3.6/site-packages/flask/app.py\", line 1821, in handle_user_exception\n",
      "    reraise(exc_type, exc_value, tb)\n",
      "  File \"/home/chris/miniconda3/envs/pruning_viz/lib/python3.6/site-packages/flask/_compat.py\", line 39, in reraise\n",
      "    raise value\n",
      "  File \"/home/chris/miniconda3/envs/pruning_viz/lib/python3.6/site-packages/flask/app.py\", line 1950, in full_dispatch_request\n",
      "    rv = self.dispatch_request()\n",
      "  File \"/home/chris/miniconda3/envs/pruning_viz/lib/python3.6/site-packages/flask/app.py\", line 1936, in dispatch_request\n",
      "    return self.view_functions[rule.endpoint](**req.view_args)\n",
      "  File \"/home/chris/miniconda3/envs/pruning_viz/lib/python3.6/site-packages/dash/dash.py\", line 1050, in dispatch\n",
      "    response.set_data(func(*args, outputs_list=outputs_list))\n",
      "  File \"/home/chris/miniconda3/envs/pruning_viz/lib/python3.6/site-packages/dash/dash.py\", line 985, in add_context\n",
      "    output_value = func(*args, **kwargs)  # %% callback invoked %%\n",
      "  File \"<ipython-input-15-ec10a891a1b5>\", line 660, in update_edge_deepviz\n",
      "    image_name = fetch_deepviz_img(model_dis,edgename,params)\n",
      "  File \"/mnt/data/chris/dropbox/Research-Hamblin/Projects/cnn_subgraph_visualizer/visualizer_scripts/featureviz_helper_functions.py\", line 81, in fetch_deepviz_img\n",
      "    objective = gen_objective_str(targetid,model,params)\n",
      "  File \"/mnt/data/chris/dropbox/Research-Hamblin/Projects/cnn_subgraph_visualizer/visualizer_scripts/featureviz_helper_functions.py\", line 31, in gen_objective_str\n",
      "    within_id = edgename_2_singlenum(model,targetid,params)\n",
      "  File \"/mnt/data/chris/dropbox/Research-Hamblin/Projects/cnn_subgraph_visualizer/visualizer_scripts/visualizer_helper_functions.py\", line 496, in edgename_2_singlenum\n",
      "    raise ValueError('edgename %s is invalid'%edgename)\n",
      "ValueError: edgename 794- is invalid\n"
     ]
    },
    {
     "name": "stderr",
     "output_type": "stream",
     "text": [
      "127.0.0.1 - - [03/Mar/2021 13:02:41] \"\u001b[37mPOST /_dash-update-component HTTP/1.1\u001b[0m\" 200 -\n",
      "127.0.0.1 - - [03/Mar/2021 13:02:41] \"\u001b[37mPOST /_dash-update-component HTTP/1.1\u001b[0m\" 200 -\n",
      "127.0.0.1 - - [03/Mar/2021 13:02:41] \"\u001b[35m\u001b[1mPOST /_dash-update-component HTTP/1.1\u001b[0m\" 500 -\n"
     ]
    },
    {
     "name": "stdout",
     "output_type": "stream",
     "text": [
      "CALLED: update_edge_outmap\n",
      "CALLED: update_edge_inmap\n",
      "CALLED: update_store\n",
      "\n",
      "TRIGGER edge-actmaps-input.value\n",
      "794-9\n",
      "invalid edge name\n"
     ]
    },
    {
     "name": "stderr",
     "output_type": "stream",
     "text": [
      "127.0.0.1 - - [03/Mar/2021 13:02:42] \"\u001b[37mPOST /_dash-update-component HTTP/1.1\u001b[0m\" 200 -\n",
      "127.0.0.1 - - [03/Mar/2021 13:02:42] \"\u001b[37mPOST /_dash-update-component HTTP/1.1\u001b[0m\" 200 -\n"
     ]
    },
    {
     "name": "stdout",
     "output_type": "stream",
     "text": [
      "edge outmap error\n",
      "CALLED: update_edge_outmap\n",
      "CALLED: update_edge_deepviz\n",
      "generating feature_viz objective string for 794-9\n",
      "invalid edge name\n",
      "Exception on /_dash-update-component [POST]\n",
      "Traceback (most recent call last):\n",
      "  File \"/home/chris/miniconda3/envs/pruning_viz/lib/python3.6/site-packages/flask/app.py\", line 2447, in wsgi_app\n",
      "    response = self.full_dispatch_request()\n",
      "  File \"/home/chris/miniconda3/envs/pruning_viz/lib/python3.6/site-packages/flask/app.py\", line 1952, in full_dispatch_request\n",
      "    rv = self.handle_user_exception(e)\n",
      "  File \"/home/chris/miniconda3/envs/pruning_viz/lib/python3.6/site-packages/flask/app.py\", line 1821, in handle_user_exception\n",
      "    reraise(exc_type, exc_value, tb)\n",
      "  File \"/home/chris/miniconda3/envs/pruning_viz/lib/python3.6/site-packages/flask/_compat.py\", line 39, in reraise\n",
      "    raise value\n",
      "  File \"/home/chris/miniconda3/envs/pruning_viz/lib/python3.6/site-packages/flask/app.py\", line 1950, in full_dispatch_request\n",
      "    rv = self.dispatch_request()\n",
      "  File \"/home/chris/miniconda3/envs/pruning_viz/lib/python3.6/site-packages/flask/app.py\", line 1936, in dispatch_request\n",
      "    return self.view_functions[rule.endpoint](**req.view_args)\n",
      "  File \"/home/chris/miniconda3/envs/pruning_viz/lib/python3.6/site-packages/dash/dash.py\", line 1050, in dispatch\n",
      "    response.set_data(func(*args, outputs_list=outputs_list))\n",
      "  File \"/home/chris/miniconda3/envs/pruning_viz/lib/python3.6/site-packages/dash/dash.py\", line 985, in add_context\n",
      "    output_value = func(*args, **kwargs)  # %% callback invoked %%\n",
      "  File \"<ipython-input-15-ec10a891a1b5>\", line 660, in update_edge_deepviz\n",
      "    image_name = fetch_deepviz_img(model_dis,edgename,params)\n",
      "  File \"/mnt/data/chris/dropbox/Research-Hamblin/Projects/cnn_subgraph_visualizer/visualizer_scripts/featureviz_helper_functions.py\", line 81, in fetch_deepviz_img\n",
      "    objective = gen_objective_str(targetid,model,params)\n",
      "  File \"/mnt/data/chris/dropbox/Research-Hamblin/Projects/cnn_subgraph_visualizer/visualizer_scripts/featureviz_helper_functions.py\", line 31, in gen_objective_str\n",
      "    within_id = edgename_2_singlenum(model,targetid,params)\n",
      "  File \"/mnt/data/chris/dropbox/Research-Hamblin/Projects/cnn_subgraph_visualizer/visualizer_scripts/visualizer_helper_functions.py\", line 496, in edgename_2_singlenum\n",
      "    raise ValueError('edgename %s is invalid'%edgename)\n",
      "ValueError: edgename 794-9 is invalid\n",
      "edge inmap error\n"
     ]
    },
    {
     "name": "stderr",
     "output_type": "stream",
     "text": [
      "127.0.0.1 - - [03/Mar/2021 13:02:42] \"\u001b[35m\u001b[1mPOST /_dash-update-component HTTP/1.1\u001b[0m\" 500 -\n"
     ]
    },
    {
     "name": "stdout",
     "output_type": "stream",
     "text": [
      "CALLED: update_edge_kernelmap\n",
      "invalid edge name\n",
      "invalid edge name\n",
      "edge outmap error\n"
     ]
    },
    {
     "name": "stderr",
     "output_type": "stream",
     "text": [
      "127.0.0.1 - - [03/Mar/2021 13:02:42] \"\u001b[37mPOST /_dash-update-component HTTP/1.1\u001b[0m\" 200 -\n",
      "127.0.0.1 - - [03/Mar/2021 13:02:42] \"\u001b[37mPOST /_dash-update-component HTTP/1.1\u001b[0m\" 200 -\n",
      "127.0.0.1 - - [03/Mar/2021 13:02:42] \"\u001b[37mPOST /_dash-update-component HTTP/1.1\u001b[0m\" 200 -\n",
      "127.0.0.1 - - [03/Mar/2021 13:02:42] \"\u001b[37mPOST /_dash-update-component HTTP/1.1\u001b[0m\" 200 -\n"
     ]
    },
    {
     "name": "stdout",
     "output_type": "stream",
     "text": [
      "CALLED: update_edge_inmap\n",
      "CALLED: update_store\n",
      "\n",
      "TRIGGER edge-actmaps-input.value\n",
      "794-92\n",
      "invalid edge name\n"
     ]
    },
    {
     "name": "stderr",
     "output_type": "stream",
     "text": [
      "127.0.0.1 - - [03/Mar/2021 13:02:42] \"\u001b[37mPOST /_dash-update-component HTTP/1.1\u001b[0m\" 200 -\n"
     ]
    },
    {
     "name": "stdout",
     "output_type": "stream",
     "text": [
      "invalid edge name\n",
      "edge inmap error\n",
      "CALLED: update_edge_deepviz\n",
      "generating feature_viz objective string for 794-92\n",
      "invalid edge name\n",
      "CALLED: update_edge_kernelmap\n",
      "invalid edge name\n",
      "CALLED: update_edge_outmap\n",
      "Exception on /_dash-update-component [POST]\n",
      "Traceback (most recent call last):\n",
      "  File \"/home/chris/miniconda3/envs/pruning_viz/lib/python3.6/site-packages/flask/app.py\", line 2447, in wsgi_app\n",
      "    response = self.full_dispatch_request()\n",
      "  File \"/home/chris/miniconda3/envs/pruning_viz/lib/python3.6/site-packages/flask/app.py\", line 1952, in full_dispatch_request\n",
      "    rv = self.handle_user_exception(e)\n",
      "  File \"/home/chris/miniconda3/envs/pruning_viz/lib/python3.6/site-packages/flask/app.py\", line 1821, in handle_user_exception\n",
      "    reraise(exc_type, exc_value, tb)\n",
      "  File \"/home/chris/miniconda3/envs/pruning_viz/lib/python3.6/site-packages/flask/_compat.py\", line 39, in reraise\n",
      "    raise value\n",
      "  File \"/home/chris/miniconda3/envs/pruning_viz/lib/python3.6/site-packages/flask/app.py\", line 1950, in full_dispatch_request\n",
      "    rv = self.dispatch_request()\n",
      "  File \"/home/chris/miniconda3/envs/pruning_viz/lib/python3.6/site-packages/flask/app.py\", line 1936, in dispatch_request\n",
      "    return self.view_functions[rule.endpoint](**req.view_args)\n",
      "  File \"/home/chris/miniconda3/envs/pruning_viz/lib/python3.6/site-packages/dash/dash.py\", line 1050, in dispatch\n",
      "    response.set_data(func(*args, outputs_list=outputs_list))\n",
      "  File \"/home/chris/miniconda3/envs/pruning_viz/lib/python3.6/site-packages/dash/dash.py\", line 985, in add_context\n",
      "    output_value = func(*args, **kwargs)  # %% callback invoked %%\n",
      "  File \"<ipython-input-15-ec10a891a1b5>\", line 660, in update_edge_deepviz\n",
      "    image_name = fetch_deepviz_img(model_dis,edgename,params)\n",
      "  File \"/mnt/data/chris/dropbox/Research-Hamblin/Projects/cnn_subgraph_visualizer/visualizer_scripts/featureviz_helper_functions.py\", line 81, in fetch_deepviz_img\n",
      "    objective = gen_objective_str(targetid,model,params)\n",
      "  File \"/mnt/data/chris/dropbox/Research-Hamblin/Projects/cnn_subgraph_visualizer/visualizer_scripts/featureviz_helper_functions.py\", line 31, in gen_objective_str\n",
      "    within_id = edgename_2_singlenum(model,targetid,params)\n",
      "  File \"/mnt/data/chris/dropbox/Research-Hamblin/Projects/cnn_subgraph_visualizer/visualizer_scripts/visualizer_helper_functions.py\", line 496, in edgename_2_singlenum\n",
      "    raise ValueError('edgename %s is invalid'%edgename)\n",
      "ValueError: edgename 794-92 is invalid\n"
     ]
    },
    {
     "name": "stderr",
     "output_type": "stream",
     "text": [
      "127.0.0.1 - - [03/Mar/2021 13:02:42] \"\u001b[35m\u001b[1mPOST /_dash-update-component HTTP/1.1\u001b[0m\" 500 -\n",
      "127.0.0.1 - - [03/Mar/2021 13:02:42] \"\u001b[37mPOST /_dash-update-component HTTP/1.1\u001b[0m\" 200 -\n",
      "127.0.0.1 - - [03/Mar/2021 13:02:43] \"\u001b[37mPOST /_dash-update-component HTTP/1.1\u001b[0m\" 200 -\n"
     ]
    },
    {
     "name": "stdout",
     "output_type": "stream",
     "text": [
      "CALLED: update_edge_inmap\n",
      "CALLED: update_store\n",
      "\n",
      "TRIGGER edge-actmaps-input.value\n",
      "794-929\n",
      "changing selected edge to 794-929\n",
      "['g-21', '794-929']\n",
      "invalid edge name\n"
     ]
    },
    {
     "name": "stderr",
     "output_type": "stream",
     "text": [
      "127.0.0.1 - - [03/Mar/2021 13:02:43] \"\u001b[37mPOST /_dash-update-component HTTP/1.1\u001b[0m\" 200 -\n"
     ]
    },
    {
     "name": "stdout",
     "output_type": "stream",
     "text": [
      "CALLED: update_edge_outmap\n",
      "edge outmap error\n",
      "CALLED: update_edge_deepviz\n",
      "generating feature_viz objective string for 794-929\n",
      "invalid edge name\n",
      "edge inmap error\n",
      "CALLED: update_edge_inmap\n",
      "CALLED: update_edge_kernelmap\n",
      "deepviz image not found, generating . . .\n",
      "generating featviz with objective: features_10_preadd_conv:39457\n"
     ]
    },
    {
     "name": "stderr",
     "output_type": "stream",
     "text": [
      "127.0.0.1 - - [03/Mar/2021 13:02:43] \"\u001b[37mPOST /_dash-update-component HTTP/1.1\u001b[0m\" 200 -\n",
      "  0%|          | 0/512 [00:00<?, ?it/s]127.0.0.1 - - [03/Mar/2021 13:02:44] \"\u001b[37mPOST /_dash-update-component HTTP/1.1\u001b[0m\" 200 -\n"
     ]
    },
    {
     "name": "stdout",
     "output_type": "stream",
     "text": [
      "CALLED: update_store\n",
      "\n",
      "TRIGGER edge-actmaps-input.value\n",
      "79-929\n",
      "invalid edge name\n",
      "CALLED: update_edge_inmap\n"
     ]
    },
    {
     "name": "stderr",
     "output_type": "stream",
     "text": [
      "127.0.0.1 - - [03/Mar/2021 13:02:44] \"\u001b[37mPOST /_dash-update-component HTTP/1.1\u001b[0m\" 200 -\n"
     ]
    },
    {
     "name": "stdout",
     "output_type": "stream",
     "text": [
      "invalid edge name\n",
      "edge inmap error\n",
      "CALLED: update_edge_outmap\n"
     ]
    },
    {
     "name": "stderr",
     "output_type": "stream",
     "text": [
      "127.0.0.1 - - [03/Mar/2021 13:02:44] \"\u001b[37mPOST /_dash-update-component HTTP/1.1\u001b[0m\" 200 -\n",
      "  0%|          | 1/512 [00:00<05:09,  1.65it/s]127.0.0.1 - - [03/Mar/2021 13:02:44] \"\u001b[37mPOST /_dash-update-component HTTP/1.1\u001b[0m\" 200 -\n"
     ]
    },
    {
     "name": "stdout",
     "output_type": "stream",
     "text": [
      "invalid edge name\n",
      "edge outmap error\n",
      "CALLED: update_edge_deepviz\n",
      "generating feature_viz objective string for 79-929\n",
      "invalid edge name\n",
      "Exception on /_dash-update-component [POST]\n",
      "Traceback (most recent call last):\n",
      "  File \"/home/chris/miniconda3/envs/pruning_viz/lib/python3.6/site-packages/flask/app.py\", line 2447, in wsgi_app\n",
      "    response = self.full_dispatch_request()\n",
      "  File \"/home/chris/miniconda3/envs/pruning_viz/lib/python3.6/site-packages/flask/app.py\", line 1952, in full_dispatch_request\n",
      "    rv = self.handle_user_exception(e)\n",
      "  File \"/home/chris/miniconda3/envs/pruning_viz/lib/python3.6/site-packages/flask/app.py\", line 1821, in handle_user_exception\n",
      "    reraise(exc_type, exc_value, tb)\n",
      "  File \"/home/chris/miniconda3/envs/pruning_viz/lib/python3.6/site-packages/flask/_compat.py\", line 39, in reraise\n",
      "    raise value\n",
      "  File \"/home/chris/miniconda3/envs/pruning_viz/lib/python3.6/site-packages/flask/app.py\", line 1950, in full_dispatch_request\n",
      "    rv = self.dispatch_request()\n",
      "  File \"/home/chris/miniconda3/envs/pruning_viz/lib/python3.6/site-packages/flask/app.py\", line 1936, in dispatch_request\n",
      "    return self.view_functions[rule.endpoint](**req.view_args)\n",
      "  File \"/home/chris/miniconda3/envs/pruning_viz/lib/python3.6/site-packages/dash/dash.py\", line 1050, in dispatch\n",
      "    response.set_data(func(*args, outputs_list=outputs_list))\n",
      "  File \"/home/chris/miniconda3/envs/pruning_viz/lib/python3.6/site-packages/dash/dash.py\", line 985, in add_context\n",
      "    output_value = func(*args, **kwargs)  # %% callback invoked %%\n",
      "  File \"<ipython-input-15-ec10a891a1b5>\", line 660, in update_edge_deepviz\n",
      "    image_name = fetch_deepviz_img(model_dis,edgename,params)\n",
      "  File \"/mnt/data/chris/dropbox/Research-Hamblin/Projects/cnn_subgraph_visualizer/visualizer_scripts/featureviz_helper_functions.py\", line 81, in fetch_deepviz_img\n",
      "    objective = gen_objective_str(targetid,model,params)\n",
      "  File \"/mnt/data/chris/dropbox/Research-Hamblin/Projects/cnn_subgraph_visualizer/visualizer_scripts/featureviz_helper_functions.py\", line 31, in gen_objective_str\n",
      "    within_id = edgename_2_singlenum(model,targetid,params)\n",
      "  File \"/mnt/data/chris/dropbox/Research-Hamblin/Projects/cnn_subgraph_visualizer/visualizer_scripts/visualizer_helper_functions.py\", line 496, in edgename_2_singlenum\n",
      "    raise ValueError('edgename %s is invalid'%edgename)\n",
      "ValueError: edgename 79-929 is invalid\n"
     ]
    },
    {
     "name": "stderr",
     "output_type": "stream",
     "text": [
      "127.0.0.1 - - [03/Mar/2021 13:02:44] \"\u001b[35m\u001b[1mPOST /_dash-update-component HTTP/1.1\u001b[0m\" 500 -\n",
      "  0%|          | 2/512 [00:00<03:59,  2.13it/s]127.0.0.1 - - [03/Mar/2021 13:02:44] \"\u001b[37mPOST /_dash-update-component HTTP/1.1\u001b[0m\" 200 -\n",
      "  1%|          | 3/512 [00:00<03:09,  2.69it/s]127.0.0.1 - - [03/Mar/2021 13:02:44] \"\u001b[37mPOST /_dash-update-component HTTP/1.1\u001b[0m\" 200 -\n"
     ]
    },
    {
     "name": "stdout",
     "output_type": "stream",
     "text": [
      "CALLED: update_edge_kernelmap\n",
      "invalid edge name\n",
      "CALLED: update_store\n",
      "\n",
      "TRIGGER edge-actmaps-input.value\n",
      "7-929\n",
      "invalid edge name\n"
     ]
    },
    {
     "name": "stderr",
     "output_type": "stream",
     "text": [
      "127.0.0.1 - - [03/Mar/2021 13:02:45] \"\u001b[37mPOST /_dash-update-component HTTP/1.1\u001b[0m\" 200 -\n",
      "127.0.0.1 - - [03/Mar/2021 13:02:45] \"\u001b[37mPOST /_dash-update-component HTTP/1.1\u001b[0m\" 200 -\n",
      "  1%|          | 4/512 [00:01<02:51,  2.96it/s]"
     ]
    },
    {
     "name": "stdout",
     "output_type": "stream",
     "text": [
      "CALLED: update_edge_inmap\n",
      "CALLED: update_edge_deepviz\n",
      "CALLED: update_edge_outmap\n",
      "generating feature_viz objective string for 7-929\n",
      "invalid edge name\n",
      "Exception on /_dash-update-component [POST]\n",
      "Traceback (most recent call last):\n",
      "  File \"/home/chris/miniconda3/envs/pruning_viz/lib/python3.6/site-packages/flask/app.py\", line 2447, in wsgi_app\n",
      "    response = self.full_dispatch_request()\n",
      "  File \"/home/chris/miniconda3/envs/pruning_viz/lib/python3.6/site-packages/flask/app.py\", line 1952, in full_dispatch_request\n",
      "    rv = self.handle_user_exception(e)\n",
      "  File \"/home/chris/miniconda3/envs/pruning_viz/lib/python3.6/site-packages/flask/app.py\", line 1821, in handle_user_exception\n",
      "    reraise(exc_type, exc_value, tb)\n",
      "  File \"/home/chris/miniconda3/envs/pruning_viz/lib/python3.6/site-packages/flask/_compat.py\", line 39, in reraise\n",
      "    raise value\n",
      "  File \"/home/chris/miniconda3/envs/pruning_viz/lib/python3.6/site-packages/flask/app.py\", line 1950, in full_dispatch_request\n",
      "    rv = self.dispatch_request()\n",
      "  File \"/home/chris/miniconda3/envs/pruning_viz/lib/python3.6/site-packages/flask/app.py\", line 1936, in dispatch_request\n",
      "    return self.view_functions[rule.endpoint](**req.view_args)\n",
      "  File \"/home/chris/miniconda3/envs/pruning_viz/lib/python3.6/site-packages/dash/dash.py\", line 1050, in dispatch\n",
      "    response.set_data(func(*args, outputs_list=outputs_list))\n",
      "  File \"/home/chris/miniconda3/envs/pruning_viz/lib/python3.6/site-packages/dash/dash.py\", line 985, in add_context\n",
      "    output_value = func(*args, **kwargs)  # %% callback invoked %%\n",
      "  File \"<ipython-input-15-ec10a891a1b5>\", line 660, in update_edge_deepviz\n",
      "    image_name = fetch_deepviz_img(model_dis,edgename,params)\n",
      "  File \"/mnt/data/chris/dropbox/Research-Hamblin/Projects/cnn_subgraph_visualizer/visualizer_scripts/featureviz_helper_functions.py\", line 81, in fetch_deepviz_img\n",
      "    objective = gen_objective_str(targetid,model,params)\n",
      "  File \"/mnt/data/chris/dropbox/Research-Hamblin/Projects/cnn_subgraph_visualizer/visualizer_scripts/featureviz_helper_functions.py\", line 31, in gen_objective_str\n",
      "    within_id = edgename_2_singlenum(model,targetid,params)\n",
      "  File \"/mnt/data/chris/dropbox/Research-Hamblin/Projects/cnn_subgraph_visualizer/visualizer_scripts/visualizer_helper_functions.py\", line 496, in edgename_2_singlenum\n",
      "    raise ValueError('edgename %s is invalid'%edgename)\n",
      "ValueError: edgename 7-929 is invalid\n"
     ]
    },
    {
     "name": "stderr",
     "output_type": "stream",
     "text": [
      "127.0.0.1 - - [03/Mar/2021 13:02:45] \"\u001b[35m\u001b[1mPOST /_dash-update-component HTTP/1.1\u001b[0m\" 500 -\n"
     ]
    },
    {
     "name": "stdout",
     "output_type": "stream",
     "text": [
      "CALLED: update_edge_kernelmap\n",
      "invalid edge name\n"
     ]
    },
    {
     "name": "stderr",
     "output_type": "stream",
     "text": [
      "127.0.0.1 - - [03/Mar/2021 13:02:45] \"\u001b[37mPOST /_dash-update-component HTTP/1.1\u001b[0m\" 200 -\n"
     ]
    },
    {
     "name": "stdout",
     "output_type": "stream",
     "text": [
      "invalid edge name\n",
      "edge inmap error\n",
      "CALLED: update_store\n",
      "\n",
      "TRIGGER edge-actmaps-input.value\n",
      "70-929\n",
      "invalid edge name\n"
     ]
    },
    {
     "name": "stderr",
     "output_type": "stream",
     "text": [
      "127.0.0.1 - - [03/Mar/2021 13:02:45] \"\u001b[37mPOST /_dash-update-component HTTP/1.1\u001b[0m\" 200 -\n"
     ]
    },
    {
     "name": "stdout",
     "output_type": "stream",
     "text": [
      "invalid edge name\n",
      "edge outmap error\n"
     ]
    },
    {
     "name": "stderr",
     "output_type": "stream",
     "text": [
      "127.0.0.1 - - [03/Mar/2021 13:02:45] \"\u001b[37mPOST /_dash-update-component HTTP/1.1\u001b[0m\" 200 -\n",
      "127.0.0.1 - - [03/Mar/2021 13:02:45] \"\u001b[37mPOST /_dash-update-component HTTP/1.1\u001b[0m\" 200 -\n",
      "  1%|          | 5/512 [00:01<03:14,  2.60it/s]"
     ]
    },
    {
     "name": "stdout",
     "output_type": "stream",
     "text": [
      "CALLED: update_edge_inmap\n"
     ]
    },
    {
     "name": "stderr",
     "output_type": "stream",
     "text": [
      "\r",
      "  1%|▏         | 7/512 [00:01<02:31,  3.33it/s]"
     ]
    },
    {
     "name": "stdout",
     "output_type": "stream",
     "text": [
      "CALLED: update_edge_deepviz\n",
      "generating feature_viz objective string for 70-929\n",
      "invalid edge name\n",
      "CALLED: update_edge_outmap\n",
      "CALLED: update_edge_kernelmap\n",
      "Exception on /_dash-update-component [POST]\n",
      "Traceback (most recent call last):\n",
      "  File \"/home/chris/miniconda3/envs/pruning_viz/lib/python3.6/site-packages/flask/app.py\", line 2447, in wsgi_app\n",
      "    response = self.full_dispatch_request()\n",
      "  File \"/home/chris/miniconda3/envs/pruning_viz/lib/python3.6/site-packages/flask/app.py\", line 1952, in full_dispatch_request\n",
      "    rv = self.handle_user_exception(e)\n",
      "  File \"/home/chris/miniconda3/envs/pruning_viz/lib/python3.6/site-packages/flask/app.py\", line 1821, in handle_user_exception\n",
      "    reraise(exc_type, exc_value, tb)\n",
      "  File \"/home/chris/miniconda3/envs/pruning_viz/lib/python3.6/site-packages/flask/_compat.py\", line 39, in reraise\n",
      "    raise value\n",
      "  File \"/home/chris/miniconda3/envs/pruning_viz/lib/python3.6/site-packages/flask/app.py\", line 1950, in full_dispatch_request\n",
      "    rv = self.dispatch_request()\n",
      "  File \"/home/chris/miniconda3/envs/pruning_viz/lib/python3.6/site-packages/flask/app.py\", line 1936, in dispatch_request\n",
      "    return self.view_functions[rule.endpoint](**req.view_args)\n",
      "  File \"/home/chris/miniconda3/envs/pruning_viz/lib/python3.6/site-packages/dash/dash.py\", line 1050, in dispatch\n",
      "    response.set_data(func(*args, outputs_list=outputs_list))\n",
      "  File \"/home/chris/miniconda3/envs/pruning_viz/lib/python3.6/site-packages/dash/dash.py\", line 985, in add_context\n",
      "    output_value = func(*args, **kwargs)  # %% callback invoked %%\n",
      "  File \"<ipython-input-15-ec10a891a1b5>\", line 660, in update_edge_deepviz\n",
      "    image_name = fetch_deepviz_img(model_dis,edgename,params)\n",
      "  File \"/mnt/data/chris/dropbox/Research-Hamblin/Projects/cnn_subgraph_visualizer/visualizer_scripts/featureviz_helper_functions.py\", line 81, in fetch_deepviz_img\n",
      "    objective = gen_objective_str(targetid,model,params)\n",
      "  File \"/mnt/data/chris/dropbox/Research-Hamblin/Projects/cnn_subgraph_visualizer/visualizer_scripts/featureviz_helper_functions.py\", line 31, in gen_objective_str\n",
      "    within_id = edgename_2_singlenum(model,targetid,params)\n",
      "  File \"/mnt/data/chris/dropbox/Research-Hamblin/Projects/cnn_subgraph_visualizer/visualizer_scripts/visualizer_helper_functions.py\", line 496, in edgename_2_singlenum\n",
      "    raise ValueError('edgename %s is invalid'%edgename)\n",
      "ValueError: edgename 70-929 is invalid\n"
     ]
    },
    {
     "name": "stderr",
     "output_type": "stream",
     "text": [
      "127.0.0.1 - - [03/Mar/2021 13:02:45] \"\u001b[35m\u001b[1mPOST /_dash-update-component HTTP/1.1\u001b[0m\" 500 -\n"
     ]
    },
    {
     "name": "stdout",
     "output_type": "stream",
     "text": [
      "invalid edge name\n"
     ]
    },
    {
     "name": "stderr",
     "output_type": "stream",
     "text": [
      "127.0.0.1 - - [03/Mar/2021 13:02:45] \"\u001b[37mPOST /_dash-update-component HTTP/1.1\u001b[0m\" 200 -\n",
      "127.0.0.1 - - [03/Mar/2021 13:02:46] \"\u001b[37mPOST /_dash-update-component HTTP/1.1\u001b[0m\" 200 -\n",
      "127.0.0.1 - - [03/Mar/2021 13:02:46] \"\u001b[37mPOST /_dash-update-component HTTP/1.1\u001b[0m\" 200 -\n"
     ]
    },
    {
     "name": "stdout",
     "output_type": "stream",
     "text": [
      "invalid edge name\n",
      "edge inmap error\n",
      "CALLED: update_store\n",
      "\n",
      "TRIGGER edge-actmaps-input.value\n",
      "704-929\n",
      "changing selected edge to 704-929\n",
      "['g-21', '704-929']\n"
     ]
    },
    {
     "name": "stderr",
     "output_type": "stream",
     "text": [
      "  2%|▏         | 8/512 [00:02<02:32,  3.29it/s]127.0.0.1 - - [03/Mar/2021 13:02:46] \"\u001b[37mPOST /_dash-update-component HTTP/1.1\u001b[0m\" 200 -\n",
      "  2%|▏         | 9/512 [00:02<02:13,  3.76it/s]"
     ]
    },
    {
     "name": "stdout",
     "output_type": "stream",
     "text": [
      "invalid edge nameCALLED: update_edge_inmap\n",
      "\n",
      "edge outmap error\n",
      "CALLED: update_edge_outmap\n",
      "CALLED: update_edge_deepviz\n",
      "generating feature_viz objective string for 704-929\n",
      "CALLED: update_edge_kernelmap\n"
     ]
    },
    {
     "name": "stderr",
     "output_type": "stream",
     "text": [
      "\n",
      "  0%|          | 0/512 [00:00<?, ?it/s]127.0.0.1 - - [03/Mar/2021 13:02:46] \"\u001b[37mPOST /_dash-update-component HTTP/1.1\u001b[0m\" 200 -\n",
      "\u001b[A"
     ]
    },
    {
     "name": "stdout",
     "output_type": "stream",
     "text": [
      "deepviz image not found, generating . . .\n",
      "generating featviz with objective: features_10_preadd_conv:16417\n",
      "CALLED: update_figure\n",
      "\n",
      "[0.7, 1]\n",
      "['g-21', '704-929']\n",
      "['0', '929']\n",
      "updating edge highlight to 704-929\n",
      "updating node highlight to 929\n",
      "0 0 features_0\n"
     ]
    },
    {
     "name": "stderr",
     "output_type": "stream",
     "text": [
      "  0%|          | 0/512 [00:00<?, ?it/s]2.98it/s]"
     ]
    },
    {
     "name": "stdout",
     "output_type": "stream",
     "text": [
      "Exception on /_dash-update-component [POST]\n",
      "Traceback (most recent call last):\n",
      "  File \"/home/chris/miniconda3/envs/pruning_viz/lib/python3.6/site-packages/flask/app.py\", line 2447, in wsgi_app\n",
      "    response = self.full_dispatch_request()\n",
      "  File \"/home/chris/miniconda3/envs/pruning_viz/lib/python3.6/site-packages/flask/app.py\", line 1952, in full_dispatch_request\n",
      "    rv = self.handle_user_exception(e)\n",
      "  File \"/home/chris/miniconda3/envs/pruning_viz/lib/python3.6/site-packages/flask/app.py\", line 1821, in handle_user_exception\n",
      "    reraise(exc_type, exc_value, tb)\n",
      "  File \"/home/chris/miniconda3/envs/pruning_viz/lib/python3.6/site-packages/flask/_compat.py\", line 39, in reraise\n",
      "    raise value\n",
      "  File \"/home/chris/miniconda3/envs/pruning_viz/lib/python3.6/site-packages/flask/app.py\", line 1950, in full_dispatch_request\n",
      "    rv = self.dispatch_request()\n",
      "  File \"/home/chris/miniconda3/envs/pruning_viz/lib/python3.6/site-packages/flask/app.py\", line 1936, in dispatch_request\n",
      "    return self.view_functions[rule.endpoint](**req.view_args)\n",
      "  File \"/home/chris/miniconda3/envs/pruning_viz/lib/python3.6/site-packages/dash/dash.py\", line 1050, in dispatch\n",
      "    response.set_data(func(*args, outputs_list=outputs_list))\n",
      "  File \"/home/chris/miniconda3/envs/pruning_viz/lib/python3.6/site-packages/dash/dash.py\", line 985, in add_context\n",
      "    output_value = func(*args, **kwargs)  # %% callback invoked %%\n",
      "  File \"<ipython-input-15-ec10a891a1b5>\", line 660, in update_edge_deepviz\n",
      "    image_name = fetch_deepviz_img(model_dis,edgename,params)\n",
      "  File \"/mnt/data/chris/dropbox/Research-Hamblin/Projects/cnn_subgraph_visualizer/visualizer_scripts/featureviz_helper_functions.py\", line 97, in fetch_deepviz_img\n",
      "    gen_visualization(model,image_name,objective,parametrizer,optimizer,transforms,image_size,params)\n",
      "  File \"/mnt/data/chris/dropbox/Research-Hamblin/Projects/cnn_subgraph_visualizer/visualizer_scripts/featureviz_helper_functions.py\", line 26, in gen_visualization\n",
      "    _ = render.render_vis(model, objective, parametrizer, optimizer, transforms=transforms,save_image=True,image_name=full_image_path, show_inline=True)\n",
      "  File \"/home/chris/miniconda3/envs/pruning_viz/lib/python3.6/site-packages/lucent_edited/optvis/render.py\", line 113, in render_vis\n",
      "    loss.backward()\n",
      "  File \"/home/chris/miniconda3/envs/pruning_viz/lib/python3.6/site-packages/torch/tensor.py\", line 221, in backward\n",
      "    torch.autograd.backward(self, gradient, retain_graph, create_graph)\n",
      "  File \"/home/chris/miniconda3/envs/pruning_viz/lib/python3.6/site-packages/torch/autograd/__init__.py\", line 132, in backward\n",
      "    allow_unreachable=True)  # allow_unreachable flag\n",
      "  File \"/mnt/data/chris/dropbox/Research-Hamblin/Projects/cnn_subgraph_visualizer/prep_model_scripts/dissected_Conv2d.py\", line 176, in compute_node_rank\n",
      "    self.postbias_ranks[key] += mean_sum    # we sum up the mean activations over all images, after all batches\n",
      "RuntimeError: Expected all tensors to be on the same device, but found at least two devices, cuda:0 and cpu!\n"
     ]
    },
    {
     "name": "stderr",
     "output_type": "stream",
     "text": [
      "\n",
      "127.0.0.1 - - [03/Mar/2021 13:02:46] \"\u001b[35m\u001b[1mPOST /_dash-update-component HTTP/1.1\u001b[0m\" 500 -\n",
      "  3%|▎         | 14/512 [00:03<02:23,  3.46it/s]127.0.0.1 - - [03/Mar/2021 13:02:47] \"\u001b[37mPOST /_dash-update-component HTTP/1.1\u001b[0m\" 200 -\n",
      "127.0.0.1 - - [03/Mar/2021 13:02:47] \"\u001b[37mPOST /_dash-update-component HTTP/1.1\u001b[0m\" 200 -\n",
      "127.0.0.1 - - [03/Mar/2021 13:02:48] \"\u001b[37mPOST /_dash-update-component HTTP/1.1\u001b[0m\" 200 -\n",
      "  4%|▎         | 19/512 [00:04<01:22,  5.98it/s]127.0.0.1 - - [03/Mar/2021 13:02:48] \"\u001b[37mPOST /_dash-update-component HTTP/1.1\u001b[0m\" 200 -\n",
      "  4%|▍         | 21/512 [00:04<01:06,  7.37it/s]127.0.0.1 - - [03/Mar/2021 13:02:48] \"\u001b[37mPOST /_dash-update-component HTTP/1.1\u001b[0m\" 200 -\n",
      " 67%|██████▋   | 345/512 [00:23<00:10, 16.67it/s]127.0.0.1 - - [03/Mar/2021 13:03:07] \"\u001b[37mPOST /_dash-update-component HTTP/1.1\u001b[0m\" 200 -\n"
     ]
    },
    {
     "name": "stdout",
     "output_type": "stream",
     "text": [
      "CALLED: update_edge_outmap\n",
      "CALLED: update_edge_kernelmap\n",
      "invalid edge name\n",
      "CALLED: update_edge_inmap\n",
      "CALLED: update_edge_deepviz\n",
      "generating feature_viz objective string for 704-92\n",
      "invalid edge name\n",
      "Exception on /_dash-update-component [POST]\n",
      "Traceback (most recent call last):\n",
      "  File \"/home/chris/miniconda3/envs/pruning_viz/lib/python3.6/site-packages/flask/app.py\", line 2447, in wsgi_app\n",
      "    response = self.full_dispatch_request()\n",
      "  File \"/home/chris/miniconda3/envs/pruning_viz/lib/python3.6/site-packages/flask/app.py\", line 1952, in full_dispatch_request\n",
      "    rv = self.handle_user_exception(e)\n",
      "  File \"/home/chris/miniconda3/envs/pruning_viz/lib/python3.6/site-packages/flask/app.py\", line 1821, in handle_user_exception\n",
      "    reraise(exc_type, exc_value, tb)\n",
      "  File \"/home/chris/miniconda3/envs/pruning_viz/lib/python3.6/site-packages/flask/_compat.py\", line 39, in reraise\n",
      "    raise value\n",
      "  File \"/home/chris/miniconda3/envs/pruning_viz/lib/python3.6/site-packages/flask/app.py\", line 1950, in full_dispatch_request\n",
      "    rv = self.dispatch_request()\n",
      "  File \"/home/chris/miniconda3/envs/pruning_viz/lib/python3.6/site-packages/flask/app.py\", line 1936, in dispatch_request\n",
      "    return self.view_functions[rule.endpoint](**req.view_args)\n",
      "  File \"/home/chris/miniconda3/envs/pruning_viz/lib/python3.6/site-packages/dash/dash.py\", line 1050, in dispatch\n",
      "    response.set_data(func(*args, outputs_list=outputs_list))\n",
      "  File \"/home/chris/miniconda3/envs/pruning_viz/lib/python3.6/site-packages/dash/dash.py\", line 985, in add_context\n",
      "    output_value = func(*args, **kwargs)  # %% callback invoked %%\n",
      "  File \"<ipython-input-15-ec10a891a1b5>\", line 660, in update_edge_deepviz\n",
      "    image_name = fetch_deepviz_img(model_dis,edgename,params)\n",
      "  File \"/mnt/data/chris/dropbox/Research-Hamblin/Projects/cnn_subgraph_visualizer/visualizer_scripts/featureviz_helper_functions.py\", line 81, in fetch_deepviz_img\n",
      "    objective = gen_objective_str(targetid,model,params)\n",
      "  File \"/mnt/data/chris/dropbox/Research-Hamblin/Projects/cnn_subgraph_visualizer/visualizer_scripts/featureviz_helper_functions.py\", line 31, in gen_objective_str\n",
      "    within_id = edgename_2_singlenum(model,targetid,params)\n",
      "  File \"/mnt/data/chris/dropbox/Research-Hamblin/Projects/cnn_subgraph_visualizer/visualizer_scripts/visualizer_helper_functions.py\", line 496, in edgename_2_singlenum\n",
      "    raise ValueError('edgename %s is invalid'%edgename)\n",
      "ValueError: edgename 704-92 is invalid\n"
     ]
    },
    {
     "name": "stderr",
     "output_type": "stream",
     "text": [
      "127.0.0.1 - - [03/Mar/2021 13:03:07] \"\u001b[35m\u001b[1mPOST /_dash-update-component HTTP/1.1\u001b[0m\" 500 -\n",
      "127.0.0.1 - - [03/Mar/2021 13:03:07] \"\u001b[37mPOST /_dash-update-component HTTP/1.1\u001b[0m\" 200 -\n"
     ]
    },
    {
     "name": "stdout",
     "output_type": "stream",
     "text": [
      "CALLED: update_store\n",
      "\n",
      "TRIGGER edge-actmaps-input.value\n",
      "704-92\n",
      "invalid edge name\n"
     ]
    },
    {
     "name": "stderr",
     "output_type": "stream",
     "text": [
      "127.0.0.1 - - [03/Mar/2021 13:03:08] \"\u001b[37mPOST /_dash-update-component HTTP/1.1\u001b[0m\" 200 -\n",
      "127.0.0.1 - - [03/Mar/2021 13:03:08] \"\u001b[37mPOST /_dash-update-component HTTP/1.1\u001b[0m\" 200 -\n",
      " 68%|██████▊   | 347/512 [00:24<00:17,  9.31it/s]127.0.0.1 - - [03/Mar/2021 13:03:08] \"\u001b[37mPOST /_dash-update-component HTTP/1.1\u001b[0m\" 200 -\n"
     ]
    },
    {
     "name": "stdout",
     "output_type": "stream",
     "text": [
      "invalid edge name\n",
      "edge inmap error\n",
      "invalid edge name\n",
      "edge outmap error\n",
      "CALLED: update_edge_inmap\n",
      "CALLED: update_store\n",
      "\n",
      "TRIGGER edge-actmaps-input.value\n",
      "704-929\n",
      "CALLED: update_edge_outmap\n"
     ]
    },
    {
     "name": "stderr",
     "output_type": "stream",
     "text": [
      "\n",
      "  0%|          | 0/512 [00:00<?, ?it/s]\u001b[A"
     ]
    },
    {
     "name": "stdout",
     "output_type": "stream",
     "text": [
      "CALLED: update_edge_deepviz\n",
      "generating feature_viz objective string for 704-929\n",
      "CALLED: update_edge_kernelmap\n",
      "deepviz image not found, generating . . .\n",
      "generating featviz with objective: features_10_preadd_conv:16417\n"
     ]
    },
    {
     "name": "stderr",
     "output_type": "stream",
     "text": [
      "127.0.0.1 - - [03/Mar/2021 13:03:08] \"\u001b[37mPOST /_dash-update-component HTTP/1.1\u001b[0m\" 200 -\n",
      " 68%|██████▊   | 349/512 [00:24<00:25,  6.28it/s]\n",
      "  0%|          | 1/512 [00:00<01:45,  4.83it/s]\u001b[A"
     ]
    },
    {
     "name": "stdout",
     "output_type": "stream",
     "text": [
      "CALLED: update_figure\n",
      "\n",
      "[0.7, 1]\n",
      "['g-21', '704-929']\n",
      "['0', '929']\n",
      "updating edge highlight to 704-929\n",
      "updating node highlight to 929\n",
      "0 0 features_0\n"
     ]
    },
    {
     "name": "stderr",
     "output_type": "stream",
     "text": [
      "\r",
      "  0%|          | 1/512 [00:00<03:22,  2.52it/s]"
     ]
    },
    {
     "name": "stdout",
     "output_type": "stream",
     "text": [
      "Exception on /_dash-update-component [POST]\n",
      "Traceback (most recent call last):\n",
      "  File \"/home/chris/miniconda3/envs/pruning_viz/lib/python3.6/site-packages/flask/app.py\", line 2447, in wsgi_app\n",
      "    response = self.full_dispatch_request()\n",
      "  File \"/home/chris/miniconda3/envs/pruning_viz/lib/python3.6/site-packages/flask/app.py\", line 1952, in full_dispatch_request\n",
      "    rv = self.handle_user_exception(e)\n",
      "  File \"/home/chris/miniconda3/envs/pruning_viz/lib/python3.6/site-packages/flask/app.py\", line 1821, in handle_user_exception\n",
      "    reraise(exc_type, exc_value, tb)\n",
      "  File \"/home/chris/miniconda3/envs/pruning_viz/lib/python3.6/site-packages/flask/_compat.py\", line 39, in reraise\n",
      "    raise value\n",
      "  File \"/home/chris/miniconda3/envs/pruning_viz/lib/python3.6/site-packages/flask/app.py\", line 1950, in full_dispatch_request\n",
      "    rv = self.dispatch_request()\n",
      "  File \"/home/chris/miniconda3/envs/pruning_viz/lib/python3.6/site-packages/flask/app.py\", line 1936, in dispatch_request\n",
      "    return self.view_functions[rule.endpoint](**req.view_args)\n",
      "  File \"/home/chris/miniconda3/envs/pruning_viz/lib/python3.6/site-packages/dash/dash.py\", line 1050, in dispatch\n",
      "    response.set_data(func(*args, outputs_list=outputs_list))\n",
      "  File \"/home/chris/miniconda3/envs/pruning_viz/lib/python3.6/site-packages/dash/dash.py\", line 985, in add_context\n",
      "    output_value = func(*args, **kwargs)  # %% callback invoked %%\n",
      "  File \"<ipython-input-15-ec10a891a1b5>\", line 660, in update_edge_deepviz\n",
      "    image_name = fetch_deepviz_img(model_dis,edgename,params)\n",
      "  File \"/mnt/data/chris/dropbox/Research-Hamblin/Projects/cnn_subgraph_visualizer/visualizer_scripts/featureviz_helper_functions.py\", line 97, in fetch_deepviz_img\n",
      "    gen_visualization(model,image_name,objective,parametrizer,optimizer,transforms,image_size,params)\n",
      "  File \"/mnt/data/chris/dropbox/Research-Hamblin/Projects/cnn_subgraph_visualizer/visualizer_scripts/featureviz_helper_functions.py\", line 26, in gen_visualization\n",
      "    _ = render.render_vis(model, objective, parametrizer, optimizer, transforms=transforms,save_image=True,image_name=full_image_path, show_inline=True)\n",
      "  File \"/home/chris/miniconda3/envs/pruning_viz/lib/python3.6/site-packages/lucent_edited/optvis/render.py\", line 113, in render_vis\n",
      "    loss.backward()\n",
      "  File \"/home/chris/miniconda3/envs/pruning_viz/lib/python3.6/site-packages/torch/tensor.py\", line 221, in backward\n",
      "    torch.autograd.backward(self, gradient, retain_graph, create_graph)\n",
      "  File \"/home/chris/miniconda3/envs/pruning_viz/lib/python3.6/site-packages/torch/autograd/__init__.py\", line 132, in backward\n",
      "    allow_unreachable=True)  # allow_unreachable flag\n",
      "  File \"/mnt/data/chris/dropbox/Research-Hamblin/Projects/cnn_subgraph_visualizer/prep_model_scripts/dissected_Conv2d.py\", line 155, in compute_edge_rank\n",
      "    self.preadd_ranks[key] += mean_sum    # we sum up the mean activations over all images, after all batches\n",
      "RuntimeError: Expected all tensors to be on the same device, but found at least two devices, cuda:0 and cpu!\n"
     ]
    },
    {
     "name": "stderr",
     "output_type": "stream",
     "text": [
      "\n",
      "127.0.0.1 - - [03/Mar/2021 13:03:09] \"\u001b[35m\u001b[1mPOST /_dash-update-component HTTP/1.1\u001b[0m\" 500 -\n",
      " 69%|██████▉   | 353/512 [00:25<00:24,  6.41it/s]127.0.0.1 - - [03/Mar/2021 13:03:09] \"\u001b[37mPOST /_dash-update-component HTTP/1.1\u001b[0m\" 200 -\n",
      " 69%|██████▉   | 354/512 [00:25<00:25,  6.22it/s]127.0.0.1 - - [03/Mar/2021 13:03:09] \"\u001b[37mPOST /_dash-update-component HTTP/1.1\u001b[0m\" 200 -\n",
      "127.0.0.1 - - [03/Mar/2021 13:03:09] \"\u001b[37mPOST /_dash-update-component HTTP/1.1\u001b[0m\" 200 -\n",
      " 71%|███████   | 361/512 [00:26<00:14, 10.66it/s]127.0.0.1 - - [03/Mar/2021 13:03:10] \"\u001b[37mPOST /_dash-update-component HTTP/1.1\u001b[0m\" 200 -\n",
      " 71%|███████▏  | 365/512 [00:26<00:11, 12.92it/s]127.0.0.1 - - [03/Mar/2021 13:03:10] \"\u001b[37mPOST /_dash-update-component HTTP/1.1\u001b[0m\" 200 -\n",
      "100%|██████████| 512/512 [00:35<00:00, 14.45it/s]\n"
     ]
    },
    {
     "data": {
      "text/html": [
       "<div style=\"display: flex; flex-direction: row;\"><div style=\"margin-right:10px; margin-top: 4px;\">\n",
       "                            0 <br/>\n",
       "                            <img src=\"data:image/PNG;base64,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\" style=\"image-rendering: pixelated;\">\n",
       "                        </div></div>"
      ],
      "text/plain": [
       "<IPython.core.display.HTML object>"
      ]
     },
     "metadata": {},
     "output_type": "display_data"
    },
    {
     "name": "stderr",
     "output_type": "stream",
     "text": [
      "127.0.0.1 - - [03/Mar/2021 13:03:19] \"\u001b[37mPOST /_dash-update-component HTTP/1.1\u001b[0m\" 200 -\n",
      "127.0.0.1 - - [03/Mar/2021 13:03:34] \"\u001b[37mPOST /_dash-update-component HTTP/1.1\u001b[0m\" 200 -\n",
      "127.0.0.1 - - [03/Mar/2021 13:03:34] \"\u001b[37mPOST /_dash-update-component HTTP/1.1\u001b[0m\" 200 -\n",
      "127.0.0.1 - - [03/Mar/2021 13:03:34] \"\u001b[37mPOST /_dash-update-component HTTP/1.1\u001b[0m\" 200 -\n",
      "127.0.0.1 - - [03/Mar/2021 13:03:35] \"\u001b[37mPOST /_dash-update-component HTTP/1.1\u001b[0m\" 200 -\n",
      "127.0.0.1 - - [03/Mar/2021 13:03:35] \"\u001b[37mPOST /_dash-update-component HTTP/1.1\u001b[0m\" 200 -\n",
      "127.0.0.1 - - [03/Mar/2021 13:03:35] \"\u001b[37mPOST /_dash-update-component HTTP/1.1\u001b[0m\" 200 -\n",
      "127.0.0.1 - - [03/Mar/2021 13:03:37] \"\u001b[37mPOST /_dash-update-component HTTP/1.1\u001b[0m\" 204 -\n"
     ]
    },
    {
     "name": "stdout",
     "output_type": "stream",
     "text": [
      "Updating cached activations with church_10006.JPEG\n",
      "running model to fetch activations\n",
      "CALLED: update_inputimg_actmap\n"
     ]
    },
    {
     "name": "stderr",
     "output_type": "stream",
     "text": [
      "127.0.0.1 - - [03/Mar/2021 13:03:37] \"\u001b[37mPOST /_dash-update-component HTTP/1.1\u001b[0m\" 200 -\n",
      "127.0.0.1 - - [03/Mar/2021 13:03:44] \"\u001b[37mPOST /_dash-update-component HTTP/1.1\u001b[0m\" 200 -\n"
     ]
    },
    {
     "name": "stdout",
     "output_type": "stream",
     "text": [
      "CALLED: update_node_actmap\n",
      "CALLED: update_node_inputs\n",
      "CALLED: update_edge_outmap\n",
      "CALLED: update_edge_inmap\n",
      "Updating cached rank dfs with church\n",
      "FROM RANKS DF STORE\n",
      "        edge_num   layer_name  layer  out_channel  in_channel      act_rank  \\\n",
      "0              0   features_0      0            0           0  1.500678e+00   \n",
      "1              1   features_0      0            0           1  1.973359e+00   \n",
      "2              2   features_0      0            0           2  3.977078e-01   \n",
      "3              3   features_0      0            1           0  1.567559e-01   \n",
      "4              4   features_0      0            1           1  1.383913e+00   \n",
      "...          ...          ...    ...          ...         ...           ...   \n",
      "250043    250043  features_10      4          255         251  1.000592e-02   \n",
      "250044    250044  features_10      4          255         252  1.975851e-03   \n",
      "250045    250045  features_10      4          255         253  4.006391e-06   \n",
      "250046    250046  features_10      4          255         254  4.539887e-06   \n",
      "250047    250047  features_10      4          255         255  5.064773e-07   \n",
      "\n",
      "        grad_rank  actxgrad_rank  \n",
      "0        0.000002   4.116427e-06  \n",
      "1        0.000002   6.253016e-06  \n",
      "2        0.000002   1.623620e-06  \n",
      "3        0.000002   5.307938e-07  \n",
      "4        0.000002   5.149459e-06  \n",
      "...           ...            ...  \n",
      "250043   0.000001   4.192668e-09  \n",
      "250044   0.000001   3.908091e-09  \n",
      "250045   0.000001   9.190872e-12  \n",
      "250046   0.000001   5.443044e-12  \n",
      "250047   0.000001   5.800848e-13  \n",
      "\n",
      "[250048 rows x 8 columns]\n"
     ]
    },
    {
     "name": "stderr",
     "output_type": "stream",
     "text": [
      "127.0.0.1 - - [03/Mar/2021 13:03:47] \"\u001b[37mPOST /_dash-update-component HTTP/1.1\u001b[0m\" 200 -\n",
      "127.0.0.1 - - [03/Mar/2021 13:03:47] \"\u001b[37mPOST /_dash-update-component HTTP/1.1\u001b[0m\" 200 -\n",
      "127.0.0.1 - - [03/Mar/2021 13:03:47] \"\u001b[37mPOST /_dash-update-component HTTP/1.1\u001b[0m\" 200 -\n",
      "127.0.0.1 - - [03/Mar/2021 13:03:48] \"\u001b[37mPOST /_dash-update-component HTTP/1.1\u001b[0m\" 200 -\n"
     ]
    },
    {
     "name": "stdout",
     "output_type": "stream",
     "text": [
      "generating feature_viz objective string for 704-929\n",
      "generating feature_viz objective string for 704\n",
      "found pregenerated node image\n",
      "generating feature_viz objective string for 641-929\n",
      "generating feature_viz objective string for 641\n",
      "found pregenerated node image\n",
      "generating feature_viz objective string for 823-929\n",
      "generating feature_viz objective string for 823\n",
      "found pregenerated node image\n",
      "generating feature_viz objective string for 841-929\n",
      "generating feature_viz objective string for 841\n",
      "found pregenerated node image\n",
      "generating feature_viz objective string for 827-929\n",
      "generating feature_viz objective string for 827\n",
      "found pregenerated node image\n",
      "generating feature_viz objective string for 873-929\n",
      "generating feature_viz objective string for 873\n",
      "found pregenerated node image\n"
     ]
    },
    {
     "name": "stderr",
     "output_type": "stream",
     "text": [
      "127.0.0.1 - - [03/Mar/2021 13:03:48] \"\u001b[37mPOST /_dash-update-component HTTP/1.1\u001b[0m\" 200 -\n",
      "127.0.0.1 - - [03/Mar/2021 13:03:48] \"\u001b[37mPOST /_dash-update-component HTTP/1.1\u001b[0m\" 200 -\n"
     ]
    },
    {
     "name": "stdout",
     "output_type": "stream",
     "text": [
      "generating feature_viz objective string for 835-929\n",
      "generating feature_viz objective string for 835\n",
      "found pregenerated node image\n",
      "CALLED: update_inputimg_actmap\n",
      "generating feature_viz objective string for 834-929\n",
      "generating feature_viz objective string for 834\n",
      "found pregenerated node image\n"
     ]
    },
    {
     "name": "stderr",
     "output_type": "stream",
     "text": [
      "127.0.0.1 - - [03/Mar/2021 13:03:48] \"\u001b[37mPOST /_dash-update-component HTTP/1.1\u001b[0m\" 200 -\n",
      "127.0.0.1 - - [03/Mar/2021 13:03:48] \"\u001b[37mPOST /_dash-update-component HTTP/1.1\u001b[0m\" 200 -\n"
     ]
    },
    {
     "name": "stdout",
     "output_type": "stream",
     "text": [
      "generating feature_viz objective string for 756-929\n",
      "generating feature_viz objective string for 756\n",
      "found pregenerated node image\n",
      "generating feature_viz objective string for 875-929\n",
      "generating feature_viz objective string for 875\n",
      "found pregenerated node image\n",
      "Updating cached activations with church_1.JPEG\n",
      "running model to fetch activations\n",
      "CALLED: update_inputimg_actmap\n"
     ]
    },
    {
     "name": "stderr",
     "output_type": "stream",
     "text": [
      "127.0.0.1 - - [03/Mar/2021 13:04:09] \"\u001b[37mPOST /_dash-update-component HTTP/1.1\u001b[0m\" 200 -\n",
      "127.0.0.1 - - [03/Mar/2021 13:04:16] \"\u001b[37mPOST /_dash-update-component HTTP/1.1\u001b[0m\" 200 -\n"
     ]
    },
    {
     "name": "stdout",
     "output_type": "stream",
     "text": [
      "CALLED: update_node_actmap\n",
      "CALLED: update_edge_inmap\n",
      "CALLED: update_edge_outmap\n",
      "CALLED: update_node_inputs\n"
     ]
    },
    {
     "name": "stderr",
     "output_type": "stream",
     "text": [
      "127.0.0.1 - - [03/Mar/2021 13:04:18] \"\u001b[37mPOST /_dash-update-component HTTP/1.1\u001b[0m\" 200 -\n",
      "127.0.0.1 - - [03/Mar/2021 13:04:18] \"\u001b[37mPOST /_dash-update-component HTTP/1.1\u001b[0m\" 200 -\n",
      "127.0.0.1 - - [03/Mar/2021 13:04:18] \"\u001b[37mPOST /_dash-update-component HTTP/1.1\u001b[0m\" 200 -\n",
      "127.0.0.1 - - [03/Mar/2021 13:04:19] \"\u001b[37mPOST /_dash-update-component HTTP/1.1\u001b[0m\" 200 -\n",
      "127.0.0.1 - - [03/Mar/2021 13:04:19] \"\u001b[37mPOST /_dash-update-component HTTP/1.1\u001b[0m\" 200 -\n",
      "127.0.0.1 - - [03/Mar/2021 13:04:19] \"\u001b[37mPOST /_dash-update-component HTTP/1.1\u001b[0m\" 200 -\n"
     ]
    },
    {
     "name": "stdout",
     "output_type": "stream",
     "text": [
      "generating feature_viz objective string for 704-929\n",
      "generating feature_viz objective string for 704\n",
      "found pregenerated node image\n",
      "generating feature_viz objective string for 641-929\n",
      "generating feature_viz objective string for 641\n",
      "found pregenerated node image\n",
      "generating feature_viz objective string for 823-929CALLED: update_inputimg_actmap\n",
      "\n",
      "generating feature_viz objective string for 823\n",
      "found pregenerated node image\n"
     ]
    },
    {
     "name": "stderr",
     "output_type": "stream",
     "text": [
      "127.0.0.1 - - [03/Mar/2021 13:04:19] \"\u001b[37mPOST /_dash-update-component HTTP/1.1\u001b[0m\" 200 -\n"
     ]
    },
    {
     "name": "stdout",
     "output_type": "stream",
     "text": [
      "generating feature_viz objective string for 841-929\n",
      "generating feature_viz objective string for 841\n",
      "found pregenerated node image\n",
      "generating feature_viz objective string for 827-929\n",
      "generating feature_viz objective string for 827\n",
      "found pregenerated node image\n",
      "generating feature_viz objective string for 873-929\n",
      "generating feature_viz objective string for 873\n",
      "found pregenerated node image\n",
      "generating feature_viz objective string for 835-929\n",
      "generating feature_viz objective string for 835\n",
      "found pregenerated node image\n",
      "generating feature_viz objective string for 834-929\n",
      "generating feature_viz objective string for 834\n",
      "found pregenerated node image\n",
      "generating feature_viz objective string for 756-929\n",
      "generating feature_viz objective string for 756\n",
      "found pregenerated node image\n",
      "generating feature_viz objective string for 875-929\n",
      "generating feature_viz objective string for 875\n",
      "found pregenerated node image\n"
     ]
    },
    {
     "name": "stderr",
     "output_type": "stream",
     "text": [
      "127.0.0.1 - - [03/Mar/2021 13:04:19] \"\u001b[37mPOST /_dash-update-component HTTP/1.1\u001b[0m\" 200 -\n"
     ]
    },
    {
     "name": "stdout",
     "output_type": "stream",
     "text": [
      "CALLED: update_store\n",
      "\n",
      "TRIGGER edge-thresh-slider.value\n",
      "Updating cached rank dfs with church\n"
     ]
    },
    {
     "name": "stderr",
     "output_type": "stream",
     "text": [
      "127.0.0.1 - - [03/Mar/2021 13:33:31] \"\u001b[37mPOST /_dash-update-component HTTP/1.1\u001b[0m\" 200 -\n"
     ]
    },
    {
     "name": "stdout",
     "output_type": "stream",
     "text": [
      "FROM RANKS DF STORE\n",
      "        edge_num   layer_name  layer  out_channel  in_channel      act_rank  \\\n",
      "0              0   features_0      0            0           0  1.500678e+00   \n",
      "1              1   features_0      0            0           1  1.973359e+00   \n",
      "2              2   features_0      0            0           2  3.977078e-01   \n",
      "3              3   features_0      0            1           0  1.567559e-01   \n",
      "4              4   features_0      0            1           1  1.383913e+00   \n",
      "...          ...          ...    ...          ...         ...           ...   \n",
      "250043    250043  features_10      4          255         251  1.000592e-02   \n",
      "250044    250044  features_10      4          255         252  1.975851e-03   \n",
      "250045    250045  features_10      4          255         253  4.006391e-06   \n",
      "250046    250046  features_10      4          255         254  4.539887e-06   \n",
      "250047    250047  features_10      4          255         255  5.064773e-07   \n",
      "\n",
      "        grad_rank  actxgrad_rank  \n",
      "0        0.000002   4.116427e-06  \n",
      "1        0.000002   6.253016e-06  \n",
      "2        0.000002   1.623620e-06  \n",
      "3        0.000002   5.307938e-07  \n",
      "4        0.000002   5.149459e-06  \n",
      "...           ...            ...  \n",
      "250043   0.000001   4.192668e-09  \n",
      "250044   0.000001   3.908091e-09  \n",
      "250045   0.000001   9.190872e-12  \n",
      "250046   0.000001   5.443044e-12  \n",
      "250047   0.000001   5.800848e-13  \n",
      "\n",
      "[250048 rows x 8 columns]\n",
      "MINMAX EDGES DF\n",
      "        edge_num   layer_name  layer  out_channel  in_channel      act_rank  \\\n",
      "0              0   features_0      0            0           0  2.093018e-01   \n",
      "1              1   features_0      0            0           1  2.752324e-01   \n",
      "2              2   features_0      0            0           2  5.545716e-02   \n",
      "3              3   features_0      0            1           0  2.184865e-02   \n",
      "4              4   features_0      0            1           1  1.930152e-01   \n",
      "...          ...          ...    ...          ...         ...           ...   \n",
      "250043    250043  features_10      4          255         251  1.230921e-02   \n",
      "250044    250044  features_10      4          255         252  2.430665e-03   \n",
      "250045    250045  features_10      4          255         253  4.912956e-06   \n",
      "250046    250046  features_10      4          255         254  5.569259e-06   \n",
      "250047    250047  features_10      4          255         255  6.073828e-07   \n",
      "\n",
      "        grad_rank  actxgrad_rank  \n",
      "0        0.138094   1.183149e-01  \n",
      "1        0.138094   1.797312e-01  \n",
      "2        0.138094   4.665903e-02  \n",
      "3        0.276744   1.524569e-02  \n",
      "4        0.276744   1.480094e-01  \n",
      "...           ...            ...  \n",
      "250043   0.015454   8.247336e-05  \n",
      "250044   0.015454   7.687548e-05  \n",
      "250045   0.015454   1.807922e-07  \n",
      "250046   0.015454   1.070692e-07  \n",
      "250047   0.015454   1.141067e-08  \n",
      "\n",
      "[250048 rows x 8 columns]\n",
      "changing edge thresholds to 0.439 - 1\n",
      "found 77 edges\n",
      "CALLED: update_figure\n",
      "\n",
      "[0.7, 1]\n",
      "['g-21', '704-929']\n",
      "['0', '929']\n",
      "building graph from browser \"state\"\n",
      "CALLED: update_store\n",
      "\n",
      "TRIGGER edge-thresh-slider.value\n"
     ]
    },
    {
     "name": "stderr",
     "output_type": "stream",
     "text": [
      "127.0.0.1 - - [03/Mar/2021 13:33:33] \"\u001b[37mPOST /_dash-update-component HTTP/1.1\u001b[0m\" 200 -\n",
      "127.0.0.1 - - [03/Mar/2021 13:33:33] \"\u001b[37mPOST /_dash-update-component HTTP/1.1\u001b[0m\" 200 -\n"
     ]
    },
    {
     "name": "stdout",
     "output_type": "stream",
     "text": [
      "MINMAX EDGES DF\n",
      "        edge_num   layer_name  layer  out_channel  in_channel      act_rank  \\\n",
      "0              0   features_0      0            0           0  2.093018e-01   \n",
      "1              1   features_0      0            0           1  2.752324e-01   \n",
      "2              2   features_0      0            0           2  5.545716e-02   \n",
      "3              3   features_0      0            1           0  2.184865e-02   \n",
      "4              4   features_0      0            1           1  1.930152e-01   \n",
      "...          ...          ...    ...          ...         ...           ...   \n",
      "250043    250043  features_10      4          255         251  1.230921e-02   \n",
      "250044    250044  features_10      4          255         252  2.430665e-03   \n",
      "250045    250045  features_10      4          255         253  4.912956e-06   \n",
      "250046    250046  features_10      4          255         254  5.569259e-06   \n",
      "250047    250047  features_10      4          255         255  6.073828e-07   \n",
      "\n",
      "        grad_rank  actxgrad_rank  \n",
      "0        0.138094   1.183149e-01  \n",
      "1        0.138094   1.797312e-01  \n",
      "2        0.138094   4.665903e-02  \n",
      "3        0.276744   1.524569e-02  \n",
      "4        0.276744   1.480094e-01  \n",
      "...           ...            ...  \n",
      "250043   0.015454   8.247336e-05  \n",
      "250044   0.015454   7.687548e-05  \n",
      "250045   0.015454   1.807922e-07  \n",
      "250046   0.015454   1.070692e-07  \n",
      "250047   0.015454   1.141067e-08  \n",
      "\n",
      "[250048 rows x 8 columns]\n",
      "changing edge thresholds to 0.439 - 0.755\n",
      "found 65 edges\n",
      "CALLED: update_figure\n",
      "\n",
      "[0.7, 1]\n",
      "['g-21', '704-929']\n",
      "['0', '929']\n",
      "building graph from browser \"state\"\n"
     ]
    },
    {
     "name": "stderr",
     "output_type": "stream",
     "text": [
      "127.0.0.1 - - [03/Mar/2021 13:33:35] \"\u001b[37mPOST /_dash-update-component HTTP/1.1\u001b[0m\" 200 -\n",
      "127.0.0.1 - - [03/Mar/2021 13:33:38] \"\u001b[37mPOST /_dash-update-component HTTP/1.1\u001b[0m\" 200 -\n"
     ]
    },
    {
     "name": "stdout",
     "output_type": "stream",
     "text": [
      "CALLED: update_store\n",
      "\n",
      "TRIGGER edge-thresh-slider.value\n",
      "MINMAX EDGES DF\n",
      "        edge_num   layer_name  layer  out_channel  in_channel      act_rank  \\\n",
      "0              0   features_0      0            0           0  2.093018e-01   \n",
      "1              1   features_0      0            0           1  2.752324e-01   \n",
      "2              2   features_0      0            0           2  5.545716e-02   \n",
      "3              3   features_0      0            1           0  2.184865e-02   \n",
      "4              4   features_0      0            1           1  1.930152e-01   \n",
      "...          ...          ...    ...          ...         ...           ...   \n",
      "250043    250043  features_10      4          255         251  1.230921e-02   \n",
      "250044    250044  features_10      4          255         252  2.430665e-03   \n",
      "250045    250045  features_10      4          255         253  4.912956e-06   \n",
      "250046    250046  features_10      4          255         254  5.569259e-06   \n",
      "250047    250047  features_10      4          255         255  6.073828e-07   \n",
      "\n",
      "        grad_rank  actxgrad_rank  \n",
      "0        0.138094   1.183149e-01  \n",
      "1        0.138094   1.797312e-01  \n",
      "2        0.138094   4.665903e-02  \n",
      "3        0.276744   1.524569e-02  \n",
      "4        0.276744   1.480094e-01  \n",
      "...           ...            ...  \n",
      "250043   0.015454   8.247336e-05  \n",
      "250044   0.015454   7.687548e-05  \n",
      "250045   0.015454   1.807922e-07  \n",
      "250046   0.015454   1.070692e-07  \n",
      "250047   0.015454   1.141067e-08  \n",
      "\n",
      "[250048 rows x 8 columns]\n",
      "changing edge thresholds to 0.279 - 0.755\n",
      "found 211 edges\n",
      "CALLED: update_figure\n",
      "\n",
      "[0.7, 1]\n",
      "['g-21', '704-929']\n",
      "['0', '929']\n",
      "building graph from browser \"state\"\n"
     ]
    },
    {
     "name": "stderr",
     "output_type": "stream",
     "text": [
      "127.0.0.1 - - [03/Mar/2021 13:33:40] \"\u001b[37mPOST /_dash-update-component HTTP/1.1\u001b[0m\" 200 -\n"
     ]
    },
    {
     "name": "stdout",
     "output_type": "stream",
     "text": [
      "CALLED: update_store\n",
      "\n",
      "TRIGGER edge-thresh-slider.value\n"
     ]
    },
    {
     "name": "stderr",
     "output_type": "stream",
     "text": [
      "127.0.0.1 - - [03/Mar/2021 13:33:40] \"\u001b[37mPOST /_dash-update-component HTTP/1.1\u001b[0m\" 200 -\n"
     ]
    },
    {
     "name": "stdout",
     "output_type": "stream",
     "text": [
      "MINMAX EDGES DF\n",
      "        edge_num   layer_name  layer  out_channel  in_channel      act_rank  \\\n",
      "0              0   features_0      0            0           0  2.093018e-01   \n",
      "1              1   features_0      0            0           1  2.752324e-01   \n",
      "2              2   features_0      0            0           2  5.545716e-02   \n",
      "3              3   features_0      0            1           0  2.184865e-02   \n",
      "4              4   features_0      0            1           1  1.930152e-01   \n",
      "...          ...          ...    ...          ...         ...           ...   \n",
      "250043    250043  features_10      4          255         251  1.230921e-02   \n",
      "250044    250044  features_10      4          255         252  2.430665e-03   \n",
      "250045    250045  features_10      4          255         253  4.912956e-06   \n",
      "250046    250046  features_10      4          255         254  5.569259e-06   \n",
      "250047    250047  features_10      4          255         255  6.073828e-07   \n",
      "\n",
      "        grad_rank  actxgrad_rank  \n",
      "0        0.138094   1.183149e-01  \n",
      "1        0.138094   1.797312e-01  \n",
      "2        0.138094   4.665903e-02  \n",
      "3        0.276744   1.524569e-02  \n",
      "4        0.276744   1.480094e-01  \n",
      "...           ...            ...  \n",
      "250043   0.015454   8.247336e-05  \n",
      "250044   0.015454   7.687548e-05  \n",
      "250045   0.015454   1.807922e-07  \n",
      "250046   0.015454   1.070692e-07  \n",
      "250047   0.015454   1.141067e-08  \n",
      "\n",
      "[250048 rows x 8 columns]\n",
      "changing edge thresholds to 0.279 - 0.585\n",
      "found 193 edges\n",
      "CALLED: update_figure\n",
      "\n",
      "[0.7, 1]\n",
      "['g-21', '704-929']\n",
      "['0', '929']\n",
      "building graph from browser \"state\"\n"
     ]
    },
    {
     "name": "stderr",
     "output_type": "stream",
     "text": [
      "127.0.0.1 - - [03/Mar/2021 13:33:43] \"\u001b[37mPOST /_dash-update-component HTTP/1.1\u001b[0m\" 200 -\n"
     ]
    }
   ],
   "source": [
    "app.run_server(port=8051)"
   ]
  },
  {
   "cell_type": "code",
   "execution_count": null,
   "metadata": {},
   "outputs": [],
   "source": []
  }
 ],
 "metadata": {
  "kernelspec": {
   "display_name": "pruning_viz",
   "language": "python",
   "name": "pruning_viz"
  },
  "language_info": {
   "codemirror_mode": {
    "name": "ipython",
    "version": 3
   },
   "file_extension": ".py",
   "mimetype": "text/x-python",
   "name": "python",
   "nbconvert_exporter": "python",
   "pygments_lexer": "ipython3",
   "version": "3.6.10"
  }
 },
 "nbformat": 4,
 "nbformat_minor": 2
}
