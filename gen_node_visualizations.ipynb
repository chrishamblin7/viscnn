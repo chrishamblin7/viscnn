{
 "cells": [
  {
   "cell_type": "code",
   "execution_count": 1,
   "metadata": {},
   "outputs": [
    {
     "data": {
      "text/html": [
       "        <script type=\"text/javascript\">\n",
       "        window.PlotlyConfig = {MathJaxConfig: 'local'};\n",
       "        if (window.MathJax) {MathJax.Hub.Config({SVG: {font: \"STIX-Web\"}});}\n",
       "        if (typeof require !== 'undefined') {\n",
       "        require.undef(\"plotly\");\n",
       "        requirejs.config({\n",
       "            paths: {\n",
       "                'plotly': ['https://cdn.plot.ly/plotly-latest.min']\n",
       "            }\n",
       "        });\n",
       "        require(['plotly'], function(Plotly) {\n",
       "            window._Plotly = Plotly;\n",
       "        });\n",
       "        }\n",
       "        </script>\n",
       "        "
      ]
     },
     "metadata": {},
     "output_type": "display_data"
    },
    {
     "name": "stdout",
     "output_type": "stream",
     "text": [
      "possible models to visualizer are:\n",
      "['mnist_resize', 'alexnet_old.tar.gz', 'mnist_old', '.keep', 'mnist', 'old', 'alexnet10', 'letter_mixed_not_trained', 'imagenet10_sparse', 'alexnet_sparse_test', '.DS_Store', 'alexnet_sparse_full_model_10classes', 'imagenet10', 'alexnet_sparse', 'alexnet_lucent', 'mnist.tgz', 'alexnet', 'letter_mixed', 'googlenet10_test', '._.DS_Store', 'alexnet_corrupted', 'alexnet.tar.gz']\n",
      "\n",
      "You've chosen to visualize alexnet_sparse\n"
     ]
    }
   ],
   "source": [
    "#fetch command line argument (prepped model)\n",
    "#%reset\n",
    "import sys\n",
    "import os\n",
    "from copy import deepcopy\n",
    "import pickle\n",
    "import torch\n",
    "import plotly.offline as py\n",
    "import plotly.graph_objs as go\n",
    "\n",
    "\n",
    "sys.path.insert(0, os.path.abspath('./prep_model_scripts/'))\n",
    "sys.path.insert(0, os.path.abspath('./visualizer_scripts/'))\n",
    "from visualizer_helper_functions import *\n",
    "from contrast_helper_functions import *\n",
    "from featureviz_helper_functions import *\n",
    "from ablation_functions import *\n",
    "from receptive_field import *\n",
    "from dissected_Conv2d import *\n",
    "from copy import deepcopy\n",
    "\n",
    "\n",
    "py.init_notebook_mode(connected=True)   #jupyter notebook only\n",
    "\n",
    "prepped_model_folder = 'alexnet_sparse'    #set this to a subfolder of prunned_models\n",
    "\n",
    "full_prepped_model_folder = os.path.abspath('prepped_models/%s'%prepped_model_folder)\n",
    "\n",
    "possible_models = os.listdir('prepped_models')\n",
    "print('possible models to visualizer are:')\n",
    "print(possible_models)\n",
    "\n",
    "print('\\nYou\\'ve chosen to visualize %s'%prepped_model_folder)\n",
    "\n",
    "\n",
    "sys.path.insert(0,'prepped_models/%s'%prepped_model_folder)\n",
    "\n",
    "import prep_model_params_used as prep_model_params\n",
    "\n",
    "params = {}\n",
    "params['prepped_model'] = prepped_model_folder\n",
    "params['prepped_model_path'] = full_prepped_model_folder\n",
    "params['device'] = 'cuda:0'"
   ]
  },
  {
   "cell_type": "code",
   "execution_count": 2,
   "metadata": {},
   "outputs": [],
   "source": [
    "#Parameters\n",
    "\n",
    "#Non-GUI parameters\n",
    "\n",
    "#deepviz\n",
    "params['deepviz_param'] = None\n",
    "params['deepviz_optim'] = None\n",
    "params['deepviz_transforms'] = None\n",
    "params['deepviz_image_size'] = prep_model_params.deepviz_image_size\n",
    "\n",
    "#backend\n",
    "params['cuda'] = prep_model_params.cuda    #use gpu acceleration when running model forward\n",
    "params['input_image_directory'] = prep_model_params.input_img_path+'/'   #path to directory of imput images you want fed through the network\n",
    "params['preprocess'] = prep_model_params.preprocess     #torchvision transfrom to pass input images through\n",
    "params['label_file_path'] = prep_model_params.label_file_path\n",
    "params['criterion'] = prep_model_params.criterion\n",
    "params['rank_img_path'] = prep_model_params.rank_img_path\n",
    "params['num_workers'] = prep_model_params.num_workers\n",
    "params['seed'] = prep_model_params.seed\n",
    "params['batch_size'] = prep_model_params.batch_size\n",
    "#params['dynamic_act_cache_num'] = 4  #max number of input image activations 'dynamic_activations' will have simultaneously\n",
    "\n",
    " \n",
    "#aesthetic \n",
    "\n",
    "params['node_size'] = 12\n",
    "params['edge_size'] = 1\n",
    "params['max_node_inputs'] = 10    #there is a dropdown showing the top weighted edge inputs to nodes, how many maps in dropdown?\n",
    "params['layer_colors'] = ['rgba(31,119,180,', \n",
    "                          'rgba(255,127,14,',\n",
    "                          'rgba(44,160,44,', \n",
    "                          'rgba(214,39,40,',\n",
    "                          'rgba(39, 208, 214,', \n",
    "                          'rgba(242, 250, 17,',\n",
    "                          'rgba(196, 94, 255,',\n",
    "                          'rgba(193, 245, 5,',\n",
    "                          'rgba(245, 85, 5,',\n",
    "                          'rgba(5, 165, 245,',\n",
    "                          'rgba(245, 5, 105,',\n",
    "                          'rgba(218, 232, 23,',\n",
    "                          'rgba(148, 23, 232,',\n",
    "                          'rgba(23, 232, 166,',]\n",
    "\n",
    "\n",
    "\n",
    "\n",
    "#GUI parameters initialization (these parameters can be set in the GUI, but what values should they be initialized to?)\n",
    "target_category = 'overall'     #category of images edges and nodes are weighted based on (which subgraph) \n",
    "rank_type = 'actxgrad'       #weighting criterion (actxgrad, act, grad, or weight)\n",
    "projection = 'MDS smooth'           #how nodes within a layer are projected into the 2d plane (MDS or Grid)\n",
    "edge_threshold = [.7,1]     #what range do edge ranks need to be in to be visualized\n",
    "node_threshold = [.4,1]     #only relevant for hierarchical subgraph \n",
    "\n",
    "#### DONT EDIT BELOW initializations\n",
    "\n",
    "figure_init = go.Figure()\n",
    "figure_init.add_trace(go.Scatter(\n",
    "            x=[],\n",
    "            y=[]))\n",
    "figure_init.update_layout(xaxis=dict(visible=False),\n",
    "                  yaxis=dict(visible=False),\n",
    "                  annotations = [dict(text=\"No Inputs\",\n",
    "                                      xref=\"paper\",\n",
    "                                      yref=\"paper\",\n",
    "                                      showarrow=False,\n",
    "                                      font=dict(size=28))]\n",
    "                 )\n",
    "\n",
    "params['max_edge_weight'] = 1  #for the edge threshold slider, this dynamically adjusted its max value to max edge rank\n",
    "                     #before there were multiple rank criterions, which made things confusing\n",
    "                     #so well just fix it to 1 for now"
   ]
  },
  {
   "cell_type": "code",
   "execution_count": 3,
   "metadata": {},
   "outputs": [
    {
     "name": "stdout",
     "output_type": "stream",
     "text": [
      "loaded model:\n",
      "AlexNet(\n",
      "  (features): Sequential(\n",
      "    (0): Conv2d(3, 64, kernel_size=(11, 11), stride=(4, 4), padding=(2, 2))\n",
      "    (1): ReLU(inplace=True)\n",
      "    (2): MaxPool2d(kernel_size=3, stride=2, padding=0, dilation=1, ceil_mode=False)\n",
      "    (3): Conv2d(64, 192, kernel_size=(5, 5), stride=(1, 1), padding=(2, 2))\n",
      "    (4): ReLU(inplace=True)\n",
      "    (5): MaxPool2d(kernel_size=3, stride=2, padding=0, dilation=1, ceil_mode=False)\n",
      "    (6): Conv2d(192, 384, kernel_size=(3, 3), stride=(1, 1), padding=(1, 1))\n",
      "    (7): ReLU(inplace=True)\n",
      "    (8): Conv2d(384, 256, kernel_size=(3, 3), stride=(1, 1), padding=(1, 1))\n",
      "    (9): ReLU(inplace=True)\n",
      "    (10): Conv2d(256, 256, kernel_size=(3, 3), stride=(1, 1), padding=(1, 1))\n",
      "    (11): ReLU(inplace=True)\n",
      "    (12): MaxPool2d(kernel_size=3, stride=2, padding=0, dilation=1, ceil_mode=False)\n",
      "  )\n",
      "  (avgpool): AdaptiveAvgPool2d(output_size=(6, 6))\n",
      "  (classifier): Sequential(\n",
      "    (0): Dropout(p=0.5, inplace=False)\n",
      "    (1): Linear(in_features=9216, out_features=4096, bias=True)\n",
      "    (2): ReLU(inplace=True)\n",
      "    (3): Dropout(p=0.5, inplace=False)\n",
      "    (4): Linear(in_features=4096, out_features=4096, bias=True)\n",
      "    (5): ReLU(inplace=True)\n",
      "    (6): Linear(in_features=4096, out_features=1000, bias=True)\n",
      "  )\n",
      ")\n"
     ]
    },
    {
     "data": {
      "text/plain": [
       "AlexNet(\n",
       "  (features): Sequential(\n",
       "    (0): Conv2d(3, 64, kernel_size=(11, 11), stride=(4, 4), padding=(2, 2))\n",
       "    (1): ReLU(inplace=True)\n",
       "    (2): MaxPool2d(kernel_size=3, stride=2, padding=0, dilation=1, ceil_mode=False)\n",
       "    (3): Conv2d(64, 192, kernel_size=(5, 5), stride=(1, 1), padding=(2, 2))\n",
       "    (4): ReLU(inplace=True)\n",
       "    (5): MaxPool2d(kernel_size=3, stride=2, padding=0, dilation=1, ceil_mode=False)\n",
       "    (6): Conv2d(192, 384, kernel_size=(3, 3), stride=(1, 1), padding=(1, 1))\n",
       "    (7): ReLU(inplace=True)\n",
       "    (8): Conv2d(384, 256, kernel_size=(3, 3), stride=(1, 1), padding=(1, 1))\n",
       "    (9): ReLU(inplace=True)\n",
       "    (10): Conv2d(256, 256, kernel_size=(3, 3), stride=(1, 1), padding=(1, 1))\n",
       "    (11): ReLU(inplace=True)\n",
       "    (12): MaxPool2d(kernel_size=3, stride=2, padding=0, dilation=1, ceil_mode=False)\n",
       "  )\n",
       "  (avgpool): AdaptiveAvgPool2d(output_size=(6, 6))\n",
       "  (classifier): Sequential(\n",
       "    (0): Dropout(p=0.5, inplace=False)\n",
       "    (1): Linear(in_features=9216, out_features=4096, bias=True)\n",
       "    (2): ReLU(inplace=True)\n",
       "    (3): Dropout(p=0.5, inplace=False)\n",
       "    (4): Linear(in_features=4096, out_features=4096, bias=True)\n",
       "    (5): ReLU(inplace=True)\n",
       "    (6): Linear(in_features=4096, out_features=1000, bias=True)\n",
       "  )\n",
       ")"
      ]
     },
     "execution_count": 3,
     "metadata": {},
     "output_type": "execute_result"
    }
   ],
   "source": [
    "#load Model\n",
    "\n",
    "model_dis = dissect_model(deepcopy(prep_model_params.model),store_ranks=True,clear_ranks=True,cuda=params['cuda'],device=params['device']) #version of model with accessible preadd activations in Conv2d modules \n",
    "if params['cuda']:\n",
    "    model_dis.cuda()\n",
    "model_dis = model_dis.eval()    \n",
    "model_dis.to(params['device'])\n",
    "\n",
    "print('loaded model:')\n",
    "print(prep_model_params.model)\n",
    "        \n",
    "#del prep_model_params.model\n",
    "model = prep_model_params.model\n",
    "if params['cuda']:\n",
    "    model.cuda()\n",
    "model = model.eval()\n",
    "model.to(params['device'])"
   ]
  },
  {
   "cell_type": "code",
   "execution_count": 4,
   "metadata": {},
   "outputs": [
    {
     "name": "stdout",
     "output_type": "stream",
     "text": [
      "loading misc graph data\n",
      "model has categories:\n",
      "['overall', 'Afghan_hound', 'African_chameleon', 'African_crocodile', 'African_elephant', 'African_grey', 'African_hunting_dog', 'Airedale', 'American_Staffordshire_terrier', 'American_alligator', 'American_black_bear', 'American_chameleon', 'American_coot', 'American_egret', 'American_lobster', 'Angora', 'Appenzeller', 'Arabian_camel', 'Arctic_fox', 'Australian_terrier', 'Band_Aid', 'Bedlington_terrier', 'Bernese_mountain_dog', 'Blenheim_spaniel', 'Border_collie', 'Border_terrier', 'Boston_bull', 'Bouvier_des_Flandres', 'Brabancon_griffon', 'Brittany_spaniel', 'CD_player', 'Cardigan_corgi', 'Chesapeake_Bay_retriever', 'Chihuahua', 'Christmas_stocking', 'Crock_Pot', 'Dandie_Dinmont', 'Doberman', 'Dungeness_crab', 'Dutch_oven', 'Egyptian_cat', 'English_foxhound', 'English_setter', 'English_springer', 'EntleBucher', 'Eskimo_dog', 'European_fire_salamander', 'European_gallinule', 'French_bulldog', 'French_horn', 'French_loaf', 'German_shepherd', 'German_short_haired_pointer', 'Gila_monster', 'Gordon_setter', 'Granny_Smith', 'Great_Dane', 'Great_Pyrenees', 'Greater_Swiss_Mountain_dog', 'Ibizan_hound', 'Indian_cobra', 'Indian_elephant', 'Irish_setter', 'Irish_terrier', 'Irish_water_spaniel', 'Irish_wolfhound', 'Italian_greyhound', 'Japanese_spaniel', 'Kerry_blue_terrier', 'Komodo_dragon', 'Labrador_retriever', 'Lakeland_terrier', 'Leonberg', 'Lhasa', 'Loafer', 'Madagascar_cat', 'Maltese_dog', 'Mexican_hairless', 'Model_T', 'Newfoundland', 'Norfolk_terrier', 'Norwegian_elkhound', 'Norwich_terrier', 'Old_English_sheepdog', 'Pekinese', 'Pembroke', 'Persian_cat', 'Petri_dish', 'Polaroid_camera', 'Pomeranian', 'Rhodesian_ridgeback', 'Rottweiler', 'Saint_Bernard', 'Saluki', 'Samoyed', 'Scotch_terrier', 'Scottish_deerhound', 'Sealyham_terrier', 'Shetland_sheepdog', 'Shih_Tzu', 'Siamese_cat', 'Siberian_husky', 'Staffordshire_bullterrier', 'Sussex_spaniel', 'Tibetan_mastiff', 'Tibetan_terrier', 'Walker_hound', 'Weimaraner', 'Welsh_springer_spaniel', 'West_Highland_white_terrier', 'Windsor_tie', 'Yorkshire_terrier', 'abacus', 'abaya', 'academic_gown', 'accordion', 'acorn', 'acorn_squash', 'acoustic_guitar', 'admiral', 'affenpinscher', 'agama', 'agaric', 'aircraft_carrier', 'airliner', 'airship', 'albatross', 'alligator_lizard', 'alp', 'altar', 'ambulance', 'amphibian', 'analog_clock', 'anemone_fish', 'ant', 'apiary', 'apron', 'armadillo', 'artichoke', 'ashcan', 'assault_rifle', 'axolotl', 'baboon', 'backpack', 'badger', 'bagel', 'bakery', 'balance_beam', 'bald_eagle', 'balloon', 'ballplayer', 'ballpoint', 'banana', 'banded_gecko', 'banjo', 'bannister', 'barbell', 'barber_chair', 'barbershop', 'barn', 'barn_spider', 'barometer', 'barracouta', 'barrel', 'barrow', 'baseball', 'basenji', 'basketball', 'basset', 'bassinet', 'bassoon', 'bath_towel', 'bathing_cap', 'bathtub', 'beach_wagon', 'beacon', 'beagle', 'beaker', 'bearskin', 'beaver', 'bee', 'bee_eater', 'beer_bottle', 'beer_glass', 'bell_cote', 'bell_pepper', 'bib', 'bicycle_built_for_two', 'bighorn', 'bikini', 'binder', 'binoculars', 'birdhouse', 'bison', 'bittern', 'black_and_gold_garden_spider', 'black_and_tan_coonhound', 'black_footed_ferret', 'black_grouse', 'black_stork', 'black_swan', 'black_widow', 'bloodhound', 'bluetick', 'boa_constrictor', 'boathouse', 'bobsled', 'bolete', 'bolo_tie', 'bonnet', 'book_jacket', 'bookcase', 'bookshop', 'borzoi', 'bottlecap', 'bow', 'bow_tie', 'box_turtle', 'boxer', 'brain_coral', 'brambling', 'brass', 'brassiere', 'breakwater', 'breastplate', 'briard', 'broccoli', 'broom', 'brown_bear', 'bubble', 'bucket', 'buckeye', 'buckle', 'bulbul', 'bull_mastiff', 'bullet_train', 'bulletproof_vest', 'bullfrog', 'burrito', 'bustard', 'butcher_shop', 'butternut_squash', 'cab', 'cabbage_butterfly', 'cairn', 'caldron', 'can_opener', 'candle', 'cannon', 'canoe', 'capuchin', 'car_mirror', 'car_wheel', 'carbonara', 'cardigan_sweater', 'cardoon', 'carousel', 'carpenters_kit', 'carton', 'cash_machine', 'cassette', 'cassette_player', 'castle', 'catamaran', 'cauliflower', 'cello', 'cellular_telephone', 'centipede', 'chain', 'chain_mail', 'chain_saw', 'chainlink_fence', 'chambered_nautilus', 'cheeseburger', 'cheetah', 'chest', 'chickadee', 'chiffonier', 'chime', 'chimpanzee', 'china_cabinet', 'chiton', 'chocolate_sauce', 'chow', 'church', 'cicada', 'cinema', 'cleaver', 'cliff', 'cliff_dwelling', 'cloak', 'clog', 'clumber', 'cocker_spaniel', 'cockroach', 'cocktail_shaker', 'coffee_mug', 'coffeepot', 'coho', 'coil', 'collie', 'colobus', 'combination_lock', 'comic_book', 'common_iguana', 'common_newt', 'computer_keyboard', 'conch', 'confectionery', 'consomme', 'container_ship', 'convertible', 'coral_fungus', 'coral_reef', 'corkscrew', 'corn', 'cornet', 'coucal', 'cougar', 'cowboy_boot', 'cowboy_hat', 'coyote', 'cradle', 'crane_bird', 'crane_equipment', 'crash_helmet', 'crate', 'crayfish', 'crib', 'cricket', 'croquet_ball', 'crossword_puzzle', 'crutch', 'cucumber', 'cuirass', 'cup', 'curly_coated_retriever', 'custard_apple', 'daisy', 'dalmatian', 'dam', 'damselfly', 'desk', 'desktop_computer', 'dhole', 'dial_telephone', 'diamondback', 'diaper', 'digital_clock', 'digital_watch', 'dingo', 'dining_table', 'dishrag', 'dishwasher', 'disk_brake', 'dock', 'dogsled', 'dome', 'doormat', 'dough', 'dowitcher', 'dragonfly', 'drake', 'drilling_platform', 'drum', 'drumstick', 'dugong', 'dumbbell', 'dung_beetle', 'ear', 'earthstar', 'echidna', 'eel', 'eft', 'eggnog', 'electric_fan', 'electric_guitar', 'electric_locomotive', 'electric_ray', 'entertainment_center', 'envelope', 'espresso', 'espresso_maker', 'face_powder', 'feather_boa', 'fiddler_crab', 'fig', 'file', 'fire_engine', 'fire_screen', 'fireboat', 'flagpole', 'flamingo', 'flat_coated_retriever', 'flatworm', 'flute', 'fly', 'folding_chair', 'football_helmet', 'forklift', 'fountain', 'fountain_pen', 'four_poster', 'fox_squirrel', 'freight_car', 'frilled_lizard', 'frying_pan', 'fur_coat', 'gar', 'garbage_truck', 'garden_spider', 'garter_snake', 'gas_pump', 'gasmask', 'gazelle', 'geyser', 'giant_panda', 'giant_schnauzer', 'gibbon', 'go_kart', 'goblet', 'golden_retriever', 'goldfinch', 'goldfish', 'golf_ball', 'golfcart', 'gondola', 'gong', 'goose', 'gorilla', 'gown', 'grand_piano', 'grasshopper', 'great_grey_owl', 'great_white_shark', 'green_lizard', 'green_mamba', 'green_snake', 'greenhouse', 'grey_fox', 'grey_whale', 'grille', 'grocery_store', 'groenendael', 'groom', 'ground_beetle', 'guacamole', 'guenon', 'guillotine', 'guinea_pig', 'gyromitra', 'hair_slide', 'hair_spray', 'half_track', 'hammer', 'hammerhead', 'hamper', 'hamster', 'hand_blower', 'hand_held_computer', 'handkerchief', 'hard_disc', 'hare', 'harmonica', 'harp', 'hartebeest', 'harvester', 'harvestman', 'hatchet', 'hay', 'head_cabbage', 'hen', 'hen_of_the_woods', 'hermit_crab', 'hip', 'hippopotamus', 'hog', 'hognose_snake', 'holster', 'home_theater', 'honeycomb', 'hook', 'hoopskirt', 'horizontal_bar', 'hornbill', 'horned_viper', 'horse_cart', 'hot_pot', 'hotdog', 'hourglass', 'house_finch', 'howler_monkey', 'hummingbird', 'hyena', 'iPod', 'ibex', 'ice_bear', 'ice_cream', 'ice_lolly', 'impala', 'indigo_bunting', 'indri', 'iron', 'isopod', 'jacamar', 'jack_o_lantern', 'jackfruit', 'jaguar', 'jay', 'jean', 'jeep', 'jellyfish', 'jersey', 'jigsaw_puzzle', 'jinrikisha', 'joystick', 'junco', 'keeshond', 'kelpie', 'killer_whale', 'kimono', 'king_crab', 'king_penguin', 'king_snake', 'kit_fox', 'kite', 'knee_pad', 'knot', 'koala', 'komondor', 'kuvasz', 'lab_coat', 'lacewing', 'ladle', 'ladybug', 'lakeside', 'lampshade', 'langur', 'laptop', 'lawn_mower', 'leaf_beetle', 'leafhopper', 'leatherback_turtle', 'lemon', 'lens_cap', 'leopard', 'lesser_panda', 'letter_opener', 'library', 'lifeboat', 'lighter', 'limousine', 'limpkin', 'liner', 'lion', 'lionfish', 'lipstick', 'little_blue_heron', 'llama', 'loggerhead', 'long_horned_beetle', 'lorikeet', 'lotion', 'loudspeaker', 'loupe', 'lumbermill', 'lycaenid', 'lynx', 'macaque', 'macaw', 'magnetic_compass', 'magpie', 'mailbag', 'mailbox', 'maillot_1', 'maillot_2', 'malamute', 'malinois', 'manhole_cover', 'mantis', 'maraca', 'marimba', 'marmoset', 'marmot', 'mashed_potato', 'mask', 'matchstick', 'maypole', 'maze', 'measuring_cup', 'meat_loaf', 'medicine_chest', 'meerkat', 'megalith', 'menu', 'microphone', 'microwave', 'military_uniform', 'milk_can', 'miniature_pinscher', 'miniature_poodle', 'miniature_schnauzer', 'minibus', 'miniskirt', 'minivan', 'mink', 'missile', 'mitten', 'mixing_bowl', 'mobile_home', 'modem', 'monarch', 'monastery', 'mongoose', 'monitor', 'moped', 'mortar', 'mortarboard', 'mosque', 'mosquito_net', 'motor_scooter', 'mountain_bike', 'mountain_tent', 'mouse', 'mousetrap', 'moving_van', 'mud_turtle', 'mushroom', 'muzzle', 'nail', 'neck_brace', 'necklace', 'nematode', 'night_snake', 'nipple', 'notebook', 'obelisk', 'oboe', 'ocarina', 'odometer', 'oil_filter', 'orange', 'orangutan', 'organ', 'oscilloscope', 'ostrich', 'otter', 'otterhound', 'overskirt', 'ox', 'oxcart', 'oxygen_mask', 'oystercatcher', 'packet', 'paddle', 'paddlewheel', 'padlock', 'paintbrush', 'pajama', 'palace', 'panpipe', 'paper_towel', 'papillon', 'parachute', 'parallel_bars', 'park_bench', 'parking_meter', 'partridge', 'passenger_car', 'patas', 'patio', 'pay_phone', 'peacock', 'pedestal', 'pelican', 'pencil_box', 'pencil_sharpener', 'perfume', 'photocopier', 'pick', 'pickelhaube', 'picket_fence', 'pickup', 'pier', 'piggy_bank', 'pill_bottle', 'pillow', 'pineapple', 'ping_pong_ball', 'pinwheel', 'pirate', 'pitcher', 'pizza', 'plane', 'planetarium', 'plastic_bag', 'plate', 'plate_rack', 'platypus', 'plow', 'plunger', 'pole', 'polecat', 'police_van', 'pomegranate', 'poncho', 'pool_table', 'pop_bottle', 'porcupine', 'pot', 'potpie', 'potters_wheel', 'power_drill', 'prairie_chicken', 'prayer_rug', 'pretzel', 'printer', 'prison', 'proboscis_monkey', 'projectile', 'projector', 'promontory', 'ptarmigan', 'puck', 'puffer', 'pug', 'punching_bag', 'purse', 'quail', 'quill', 'quilt', 'racer', 'racket', 'radiator', 'radio', 'radio_telescope', 'rain_barrel', 'ram', 'rapeseed', 'recreational_vehicle', 'red_backed_sandpiper', 'red_breasted_merganser', 'red_fox', 'red_wine', 'red_wolf', 'redbone', 'redshank', 'reel', 'reflex_camera', 'refrigerator', 'remote_control', 'restaurant', 'revolver', 'rhinoceros_beetle', 'rifle', 'ringlet', 'ringneck_snake', 'robin', 'rock_beauty', 'rock_crab', 'rock_python', 'rocking_chair', 'rooster', 'rotisserie', 'rubber_eraser', 'ruddy_turnstone', 'ruffed_grouse', 'rugby_ball', 'rule', 'running_shoe', 'safe', 'safety_pin', 'saltshaker', 'sandal', 'sandbar', 'sarong', 'sax', 'scabbard', 'scale', 'schipperke', 'school_bus', 'schooner', 'scoreboard', 'scorpion', 'screen', 'screw', 'screwdriver', 'scuba_diver', 'sea_anemone', 'sea_cucumber', 'sea_lion', 'sea_slug', 'sea_snake', 'sea_urchin', 'seashore', 'seat_belt', 'sewing_machine', 'shield', 'shoe_shop', 'shoji', 'shopping_basket', 'shopping_cart', 'shovel', 'shower_cap', 'shower_curtain', 'siamang', 'sidewinder', 'silky_terrier', 'ski', 'ski_mask', 'skunk', 'sleeping_bag', 'slide_rule', 'sliding_door', 'slot', 'sloth_bear', 'slug', 'small_SPAN', 'snail', 'snorkel', 'snow_leopard', 'snowmobile', 'snowplow', 'soap_dispenser', 'soccer_ball', 'sock', 'soft_coated_wheaten_terrier', 'solar_dish', 'sombrero', 'sorrel', 'soup_bowl', 'space_bar', 'space_heater', 'space_shuttle', 'spaghetti_squash', 'spatula', 'speedboat', 'spider_monkey', 'spider_web', 'spindle', 'spiny_lobster', 'spoonbill', 'sports_car', 'spotlight', 'spotted_salamander', 'squirrel_monkey', 'stage', 'standard_poodle', 'standard_schnauzer', 'starfish', 'steam_locomotive', 'steel_arch_bridge', 'steel_drum', 'stethoscope', 'stingray', 'stinkhorn', 'stole', 'stone_wall', 'stopwatch', 'stove', 'strainer', 'strawberry', 'street_sign', 'streetcar', 'stretcher', 'studio_couch', 'stupa', 'sturgeon', 'submarine', 'suit', 'sulphur_butterfly', 'sulphur_crested_cockatoo', 'sundial', 'sunglass', 'sunglasses', 'sunscreen', 'suspension_bridge', 'swab', 'sweatshirt', 'swimming_trunks', 'swing', 'switch', 'syringe', 'tabby', 'table_lamp', 'tailed_frog', 'tank', 'tape_player', 'tarantula', 'teapot', 'teddy', 'television', 'tench', 'tennis_ball', 'terrapin', 'thatch', 'theater_curtain', 'thimble', 'three_toed_sloth', 'thresher', 'throne', 'thunder_snake', 'tick', 'tiger', 'tiger_beetle', 'tiger_cat', 'tiger_shark', 'tile_roof', 'timber_wolf', 'titi', 'toaster', 'tobacco_shop', 'toilet_seat', 'toilet_tissue', 'torch', 'totem_pole', 'toucan', 'tow_truck', 'toy_poodle', 'toy_terrier', 'toyshop', 'tractor', 'traffic_light', 'trailer_truck', 'tray', 'tree_frog', 'trench_coat', 'triceratops', 'tricycle', 'trifle', 'trilobite', 'trimaran', 'tripod', 'triumphal_arch', 'trolleybus', 'trombone', 'tub', 'turnstile', 'tusker', 'typewriter_keyboard', 'umbrella', 'unicycle', 'upright', 'vacuum', 'valley', 'vase', 'vault', 'velvet', 'vending_machine', 'vestment', 'viaduct', 'vine_snake', 'violin', 'vizsla', 'volcano', 'volleyball', 'vulture', 'waffle_iron', 'walking_stick', 'wall_clock', 'wallaby', 'wallet', 'wardrobe', 'warplane', 'warthog', 'washbasin', 'washer', 'water_bottle', 'water_buffalo', 'water_jug', 'water_ouzel', 'water_snake', 'water_tower', 'weasel', 'web_site', 'weevil', 'whippet', 'whiptail', 'whiskey_jug', 'whistle', 'white_stork', 'white_wolf', 'wig', 'wild_boar', 'window_screen', 'window_shade', 'wine_bottle', 'wing', 'wire_haired_fox_terrier', 'wok', 'wolf_spider', 'wombat', 'wood_rabbit', 'wooden_spoon', 'wool', 'worm_fence', 'wreck', 'yawl', 'yellow_ladys_slipper', 'yurt', 'zebra', 'zucchini']\n"
     ]
    }
   ],
   "source": [
    "#load misc graph data\n",
    "print('loading misc graph data')\n",
    "misc_data = pickle.load(open('./prepped_models/%s/misc_graph_data.pkl'%prepped_model_folder,'rb'))\n",
    "params['layer_nodes'] = misc_data['layer_nodes']\n",
    "params['num_layers'] = misc_data['num_layers']\n",
    "params['num_nodes'] = misc_data['num_nodes']\n",
    "params['categories'] = misc_data['categories']\n",
    "params['num_img_chan'] = misc_data['num_img_chan']\n",
    "params['imgnode_positions'] = misc_data['imgnode_positions']\n",
    "params['imgnode_colors'] = misc_data['imgnode_colors']\n",
    "params['imgnode_names'] = misc_data['imgnode_names']\n",
    "params['prepped_model_path'] = full_prepped_model_folder\n",
    "params['ranks_data_path'] = full_prepped_model_folder+'/ranks/'\n",
    "\n",
    "\n",
    "print('model has categories:')\n",
    "print(params['categories'])"
   ]
  },
  {
   "cell_type": "code",
   "execution_count": 5,
   "metadata": {},
   "outputs": [
    {
     "name": "stdout",
     "output_type": "stream",
     "text": [
      "loading nodes rank data\n"
     ]
    },
    {
     "name": "stderr",
     "output_type": "stream",
     "text": [
      "/mnt/data/chris/dropbox/Research-Hamblin/Projects/cnn_subgraph_visualizer/visualizer_scripts/visualizer_helper_functions.py:146: SettingWithCopyWarning:\n",
      "\n",
      "\n",
      "A value is trying to be set on a copy of a slice from a DataFrame.\n",
      "Try using .loc[row_indexer,col_indexer] = value instead\n",
      "\n",
      "See the caveats in the documentation: https://pandas.pydata.org/pandas-docs/stable/user_guide/indexing.html#returning-a-view-versus-a-copy\n",
      "\n"
     ]
    },
    {
     "name": "stdout",
     "output_type": "stream",
     "text": [
      "loading node position data\n"
     ]
    }
   ],
   "source": [
    "#load nodes df\n",
    "print('loading nodes rank data')\n",
    "target_node = 'loss'\n",
    "\n",
    "categories_nodes_df = pd.read_csv('prepped_models/%s/ranks/categories_nodes_ranks.csv'%prepped_model_folder)\n",
    "target_nodes_df = categories_nodes_df.loc[categories_nodes_df['category']==target_category]\n",
    "\n",
    "target_nodes_df = minmax_normalize_ranks_df(target_nodes_df,params,weight=False)\n",
    "\n",
    "weight_nodes_df = pd.read_csv('prepped_models/%s/ranks/weight_nodes_ranks.csv'%prepped_model_folder)\n",
    "\n",
    "weight_nodes_df = minmax_normalize_ranks_df(weight_nodes_df,params,weight=True)\n",
    "\n",
    "node_colors,node_weights = gen_node_colors(target_nodes_df,rank_type,params) \n",
    "\n",
    "#load node positions\n",
    "print('loading node position data')\n",
    "all_node_positions = pickle.load(open('./prepped_models/%s/node_positions.pkl'%prepped_model_folder,'rb'))\n",
    "\n",
    "if projection == 'Grid':\n",
    "    node_positions = all_node_positions[projection]\n",
    "else:\n",
    "    node_positions = all_node_positions[projection][rank_type]\n",
    "\n"
   ]
  },
  {
   "cell_type": "code",
   "execution_count": 6,
   "metadata": {},
   "outputs": [
    {
     "name": "stdout",
     "output_type": "stream",
     "text": [
      "loading edge data\n"
     ]
    }
   ],
   "source": [
    "#load edges\n",
    "print('loading edge data')\n",
    "\n",
    "categories_edges_df = None\n",
    "if os.path.exists('prepped_models/%s/edge_ranks.csv'%prepped_model_folder):\n",
    "    categories_edges_df = pd.read_csv('prepped_models/%s/ranks/categories_edges_ranks.csv'%prepped_model_folder)   #load edges\n",
    "\n",
    "if categories_edges_df is not None:\n",
    "    #overall_edges_df = categories_edges_df.loc[categories_edges_df['category']=='overall']\n",
    "    target_edges_df = categories_edges_df.loc[categories_edges_df['category']==target_category]\n",
    "else:\n",
    "    #overall_edges_df = rank_file_2_df(os.path.join(params['ranks_data_path'],'categories_edges','overall_edges_rank.pt'))\n",
    "    target_edges_df = rank_file_2_df(os.path.join(params['ranks_data_path'],'categories_edges','%s_edges_rank.pt'%target_category))\n",
    "\n",
    "target_edges_df = minmax_normalize_ranks_df(target_edges_df,params,weight=False)\n",
    "\n",
    "weight_edges_df = pd.read_csv('prepped_models/%s/ranks/weight_edges_ranks.csv'%prepped_model_folder)\n",
    "  \n",
    "weight_edges_df = minmax_normalize_ranks_df(weight_edges_df,params,weight=True)    \n",
    "    \n",
    "edges_thresholded_df = get_thresholded_ranksdf(edge_threshold,rank_type,target_edges_df)\n",
    " \n",
    "    \n",
    "num_edges = len(target_edges_df)\n",
    "edges_df_columns = list(target_edges_df.columns)\n",
    "\n",
    "edge_positions, edge_colors, edge_widths, edge_weights, edge_names, max_edge_width_indices = gen_edge_graphdata(edges_thresholded_df, node_positions, rank_type, target_category,params)"
   ]
  },
  {
   "cell_type": "code",
   "execution_count": 7,
   "metadata": {},
   "outputs": [
    {
     "name": "stdout",
     "output_type": "stream",
     "text": [
      "loading convolutional kernels\n"
     ]
    }
   ],
   "source": [
    "#Load Edge Kernels\n",
    "print('loading convolutional kernels')\n",
    "kernels = torch.load('prepped_models/%s/kernels.pt'%prepped_model_folder)"
   ]
  },
  {
   "cell_type": "code",
   "execution_count": 8,
   "metadata": {},
   "outputs": [],
   "source": [
    "#Input Image names\n",
    "params['input_image_directory'] = prep_model_params.input_img_path+'/'\n",
    "params['input_image_list'] = os.listdir(params['input_image_directory'])\n",
    "params['input_image_list'].sort()\n",
    "input_image_name = params['input_image_list'][0]"
   ]
  },
  {
   "cell_type": "code",
   "execution_count": 9,
   "metadata": {},
   "outputs": [
    {
     "data": {
      "text/plain": [
       "OrderedDict([('features_-1',\n",
       "              OrderedDict([('j', 1.0),\n",
       "                           ('r', 1.0),\n",
       "                           ('start', 0.5),\n",
       "                           ('conv_stage', True),\n",
       "                           ('output_shape', [-1, 3, 224, 224])])),\n",
       "             ('features_0',\n",
       "              OrderedDict([('j', 4.0),\n",
       "                           ('r', 11.0),\n",
       "                           ('start', 3.5),\n",
       "                           ('input_shape', [-1, 3, 224, 224]),\n",
       "                           ('output_shape', [-1, 64, 55, 55])])),\n",
       "             ('features_1',\n",
       "              OrderedDict([('j', 4.0),\n",
       "                           ('r', 11.0),\n",
       "                           ('start', 3.5),\n",
       "                           ('input_shape', [-1, 64, 55, 55]),\n",
       "                           ('output_shape', [-1, 64, 55, 55])])),\n",
       "             ('features_2',\n",
       "              OrderedDict([('j', 8.0),\n",
       "                           ('r', 19.0),\n",
       "                           ('start', 7.5),\n",
       "                           ('input_shape', [-1, 64, 55, 55]),\n",
       "                           ('output_shape', [-1, 64, 27, 27])])),\n",
       "             ('features_3',\n",
       "              OrderedDict([('j', 8.0),\n",
       "                           ('r', 51.0),\n",
       "                           ('start', 7.5),\n",
       "                           ('input_shape', [-1, 64, 27, 27]),\n",
       "                           ('output_shape', [-1, 192, 27, 27])])),\n",
       "             ('features_4',\n",
       "              OrderedDict([('j', 8.0),\n",
       "                           ('r', 51.0),\n",
       "                           ('start', 7.5),\n",
       "                           ('input_shape', [-1, 192, 27, 27]),\n",
       "                           ('output_shape', [-1, 192, 27, 27])])),\n",
       "             ('features_5',\n",
       "              OrderedDict([('j', 16.0),\n",
       "                           ('r', 67.0),\n",
       "                           ('start', 15.5),\n",
       "                           ('input_shape', [-1, 192, 27, 27]),\n",
       "                           ('output_shape', [-1, 192, 13, 13])])),\n",
       "             ('features_6',\n",
       "              OrderedDict([('j', 16.0),\n",
       "                           ('r', 99.0),\n",
       "                           ('start', 15.5),\n",
       "                           ('input_shape', [-1, 192, 13, 13]),\n",
       "                           ('output_shape', [-1, 384, 13, 13])])),\n",
       "             ('features_7',\n",
       "              OrderedDict([('j', 16.0),\n",
       "                           ('r', 99.0),\n",
       "                           ('start', 15.5),\n",
       "                           ('input_shape', [-1, 384, 13, 13]),\n",
       "                           ('output_shape', [-1, 384, 13, 13])])),\n",
       "             ('features_8',\n",
       "              OrderedDict([('j', 16.0),\n",
       "                           ('r', 131.0),\n",
       "                           ('start', 15.5),\n",
       "                           ('input_shape', [-1, 384, 13, 13]),\n",
       "                           ('output_shape', [-1, 256, 13, 13])])),\n",
       "             ('features_9',\n",
       "              OrderedDict([('j', 16.0),\n",
       "                           ('r', 131.0),\n",
       "                           ('start', 15.5),\n",
       "                           ('input_shape', [-1, 256, 13, 13]),\n",
       "                           ('output_shape', [-1, 256, 13, 13])])),\n",
       "             ('features_10',\n",
       "              OrderedDict([('j', 16.0),\n",
       "                           ('r', 163.0),\n",
       "                           ('start', 15.5),\n",
       "                           ('input_shape', [-1, 256, 13, 13]),\n",
       "                           ('output_shape', [-1, 256, 13, 13])])),\n",
       "             ('features_11',\n",
       "              OrderedDict([('j', 16.0),\n",
       "                           ('r', 163.0),\n",
       "                           ('start', 15.5),\n",
       "                           ('input_shape', [-1, 256, 13, 13]),\n",
       "                           ('output_shape', [-1, 256, 13, 13])])),\n",
       "             ('features_12',\n",
       "              OrderedDict([('j', 32.0),\n",
       "                           ('r', 195.0),\n",
       "                           ('start', 31.5),\n",
       "                           ('input_shape', [-1, 256, 13, 13]),\n",
       "                           ('output_shape', [-1, 256, 6, 6])])),\n",
       "             ('input_size', (3, 224, 224))])"
      ]
     },
     "execution_count": 9,
     "metadata": {},
     "output_type": "execute_result"
    }
   ],
   "source": [
    "receptive_fields = None\n",
    "if os.path.exists('prepped_models/%s/receptive_fields.pkl'%prepped_model_folder):\n",
    "    receptive_fields = pickle.load(open('prepped_models/%s/receptive_fields.pkl'%prepped_model_folder,'rb'))\n",
    "    \n",
    "input_image_size = 224   #got to figure out a way not to hard-code this\n",
    "receptive_fields"
   ]
  },
  {
   "cell_type": "code",
   "execution_count": 10,
   "metadata": {},
   "outputs": [
    {
     "name": "stdout",
     "output_type": "stream",
     "text": [
      "loading activation maps\n"
     ]
    }
   ],
   "source": [
    "#Format Node Feature Maps\n",
    "print('loading activation maps')\n",
    "\n",
    "all_activations = {'nodes':{},'edges_in':{},'edges_out':{}}\n",
    "if os.path.exists('prepped_models/%s/input_img_activations.pt'%prepped_model_folder):\n",
    "    all_activations = torch.load('prepped_models/%s/input_img_activations.pt'%prepped_model_folder)\n"
   ]
  },
  {
   "cell_type": "code",
   "execution_count": 11,
   "metadata": {},
   "outputs": [],
   "source": [
    "#hidden state, stores python values within the html itself\n",
    "state = {'projection':projection,'rank_type':rank_type,'edge_positions':edge_positions,'edge_colors': edge_colors, 'edge_widths':edge_widths,'edge_names':edge_names,\n",
    "         'edge_threshold':edge_threshold,'edge_weights':edge_weights,'max_edge_width_indices':max_edge_width_indices,\n",
    "         'node_positions':node_positions,'node_colors':node_colors,'node_weights':node_weights,'node_threshold':node_threshold,'target_category':target_category,'target_node':'loss',\n",
    "         'node_select_history':['0'],'edge_select_history':[edge_names[0][0]],'last_trigger':None,'input_image_name':input_image_name,\n",
    "         'imgnode_positions':params['imgnode_positions'],'imgnode_colors':params['imgnode_colors'],'imgnode_names':params['imgnode_names']}\n"
   ]
  },
  {
   "cell_type": "code",
   "execution_count": 12,
   "metadata": {},
   "outputs": [],
   "source": [
    "#App Component Layouts\n",
    "axis=dict(showbackground=False,\n",
    "          showspikes=False,\n",
    "          showline=False,\n",
    "          zeroline=False,\n",
    "          showgrid=False,\n",
    "          showticklabels=False,\n",
    "          #range=[0,0],\n",
    "          title=''\n",
    "          )\n",
    "\n",
    "camera = dict(\n",
    "    up=dict(x=0, y=0, z=1),\n",
    "    center=dict(x=0, y=0, z=0),\n",
    "    eye=dict(x=-1.00, y=-1.25, z=1.25)\n",
    ")\n",
    "\n",
    "\n",
    "network_graph_layout = go.Layout(\n",
    "         #title=\"%s through Prunned Cifar10 CNN\"%target_category,\n",
    "         #title = target_category,\n",
    "         #width=1000,\n",
    "         clickmode = 'event+select',\n",
    "         transition = {'duration': 20},\n",
    "         height=500,\n",
    "         #showlegend=False,\n",
    "         margin = dict(l=20, r=20, t=20, b=20),\n",
    "         scene=dict(\n",
    "             xaxis=dict(axis),\n",
    "             yaxis=dict(axis),\n",
    "             zaxis=dict(axis),\n",
    "             aspectmode =\"manual\", \n",
    "             aspectratio = dict(x=1, y=0.5, z=0.5) #adjusting this stretches the network layer-to-layer\n",
    "         ),\n",
    "         scene_camera = camera,\n",
    "         uirevision =  True   \n",
    "         #hovermode='closest',\n",
    "   )\n",
    "\n",
    "\n",
    "input_image_layout = go.Layout(#width=200, \n",
    "                      #height=200,\n",
    "                      uirevision = True,\n",
    "                      margin=dict(\n",
    "                        l=12,\n",
    "                        r=1,\n",
    "                        b=12,\n",
    "                        t=1,\n",
    "                        pad=10\n",
    "                        ),\n",
    "                        paper_bgcolor='rgba(0,0,0,0)',\n",
    "                        plot_bgcolor='rgba(0,0,0,0)',\n",
    "                        xaxis=dict(range=(0,10),showline=False,showgrid=False,showticklabels=False),\n",
    "                        yaxis=dict(range=(0,10),showline=False,showgrid=False,showticklabels=False))\n",
    "\n",
    "\n",
    "node_actmap_layout = go.Layout(\n",
    "    #autosize=False,\n",
    "    #width=270,\n",
    "    #height=200,\n",
    "    uirevision = True,\n",
    "    margin=dict(\n",
    "        l=1,\n",
    "        r=1,\n",
    "        b=1,\n",
    "        t=1,\n",
    "        pad=1\n",
    "    ))\n",
    "\n",
    "\n",
    "edge_inmap_layout = go.Layout(\n",
    "    #title = 'edge input map',\n",
    "    #autosize=False,\n",
    "    #width=270,\n",
    "    #height=200,\n",
    "    uirevision = True,\n",
    "    margin=dict(\n",
    "        l=1,\n",
    "        r=1,\n",
    "        b=1,\n",
    "        t=10,\n",
    "        pad=1\n",
    "    ))\n",
    "\n",
    "\n",
    "edge_outmap_layout = go.Layout(\n",
    "    #title = 'edge output map',\n",
    "    #autosize=False,\n",
    "    #width=270,\n",
    "    #height=200,\n",
    "    uirevision = True,\n",
    "    margin=dict(\n",
    "        l=1,\n",
    "        r=1,\n",
    "        b=1,\n",
    "        t=10,\n",
    "        pad=1\n",
    "    ))\n",
    "\n",
    "\n",
    "kernel_layout = go.Layout(\n",
    "    #title='kernel'\n",
    "    #autosize=False,\n",
    "    #width=180,\n",
    "    #height=120,\n",
    "    uirevision = True,\n",
    "    margin=dict(\n",
    "        l=1,\n",
    "        r=1,\n",
    "        b=1,\n",
    "        t=1,\n",
    "        pad=1\n",
    "    ))\n"
   ]
  },
  {
   "cell_type": "code",
   "execution_count": 13,
   "metadata": {},
   "outputs": [
    {
     "name": "stdout",
     "output_type": "stream",
     "text": [
      "building graph from browser \"state\"\n"
     ]
    }
   ],
   "source": [
    "#Generate Network Graph\n",
    "combined_traces = gen_networkgraph_traces(state,params)\n",
    "network_graph_fig=go.Figure(data=combined_traces, layout=network_graph_layout)"
   ]
  },
  {
   "cell_type": "code",
   "execution_count": 14,
   "metadata": {},
   "outputs": [
    {
     "name": "stdout",
     "output_type": "stream",
     "text": [
      "setting up dash app\n"
     ]
    }
   ],
   "source": [
    "#Dash App Setup\n",
    "print('setting up dash app')\n",
    "\n",
    "import dash\n",
    "import dash_core_components as dcc\n",
    "import dash_html_components as html\n",
    "import dash_daq as daq\n",
    "from dash.exceptions import PreventUpdate\n",
    "#import utils.dash_reusable_components as drc\n",
    "import flask\n",
    "import os\n",
    "\n",
    "import json\n",
    "\n",
    "from dash.dependencies import Input, Output, State\n",
    "\n",
    "from plotly.subplots import make_subplots\n",
    "\n",
    "from flask_caching import Cache\n",
    "\n",
    "#external_stylesheets = ['https://codepen.io/amyoshino/pen/jzXypZ.css']\n",
    "external_stylesheets = ['https://codepen.io/chriddyp/pen/bWLwgP.css']\n",
    "\n",
    "app = dash.Dash(external_stylesheets = external_stylesheets)\n",
    "\n",
    "\n",
    "\n",
    "if not os.path.exists(full_prepped_model_folder+'/cache/'):\n",
    "    os.mkdir(full_prepped_model_folder+'/cache/')\n",
    "CACHE_CONFIG = {\n",
    "    # try 'filesystem' if you don't want to setup redis\n",
    "    'CACHE_TYPE': 'filesystem',\n",
    "    'CACHE_DIR': full_prepped_model_folder+'/cache/'}\n",
    "cache = Cache()\n",
    "cache.init_app(app.server, config=CACHE_CONFIG)\n",
    "    \n",
    "\n",
    "\n",
    "styles = {\n",
    "    'pre': {\n",
    "        'border': 'thin lightgrey solid',\n",
    "        'overflowX': 'scroll'\n",
    "    }\n",
    "}\n",
    "\n",
    "\n",
    "theme =  {\n",
    "    'dark': True,\n",
    "    'detail': '#007439',\n",
    "    'primary': '#00EA64',\n",
    "    'secondary': '#6E6E6E',\n",
    "}\n",
    "\n",
    "\n",
    "app.layout = html.Div([\n",
    "        html.Div(\n",
    "            children = [\n",
    "                \n",
    "            html.Div(\n",
    "                #Left side control panel\n",
    "                children = [\n",
    "                 html.Label('Subgraph Controls', style={'fontSize': 18,'font-weight':'bold'}),\n",
    "                 html.Br(),\n",
    "                 html.Label('Input'),\n",
    "                 #dcc.Dropdown(\n",
    "                 #  id='weight-category',\n",
    "                 #  options=[{'label': i, 'value': i} for i in params['categories']],\n",
    "                 #   value=target_category\n",
    "                 #   ),\n",
    "                dcc.Input(id='input-category',value=state['target_category']),\n",
    "                html.Br(),\n",
    "                html.Br(),\n",
    "                html.Label('Output'),\n",
    "                 #dcc.Dropdown(\n",
    "                 #  id='weight-category',\n",
    "                 #  options=[{'label': i, 'value': i} for i in params['categories']],\n",
    "                 #   value=target_category\n",
    "                 #   ),\n",
    "                dcc.Dropdown(\n",
    "                    id='target-node',\n",
    "                    options=[\n",
    "                    {'label': i, 'value': i} for i in ['loss']+[str(node) for node in list(range(params['num_nodes']))]\n",
    "                    ],\n",
    "                    value=state['target_node']),\n",
    "                 html.Br(),\n",
    "                 html.Label('Subgraph Criterion'),\n",
    "                 dcc.Dropdown(\n",
    "                    id='subgraph-criterion',\n",
    "                    options=[\n",
    "                        {'label': 'Activations*Grads', 'value': 'actxgrad'},\n",
    "                        {'label': 'Activations', 'value': 'act'},\n",
    "                        {'label': 'Gradients', 'value': 'grad'},\n",
    "                        {'label': 'Weights', 'value': 'weight'},\n",
    "                        {'label': 'Hierarchical', 'value': 'hierarchical'}\n",
    "                        \n",
    "                    ],\n",
    "                    value='actxgrad'\n",
    "                    ),\n",
    "                 html.Br(),   \n",
    "                 html.Label('Layer Projection'),\n",
    "                 dcc.Dropdown(\n",
    "                    id = 'layer-projection',\n",
    "                    options=[\n",
    "                        {'label': 'MDS', 'value': 'MDS'},\n",
    "                        {'label': 'MDS smooth', 'value': 'MDS smooth'},\n",
    "                        {'label': 'Grid', 'value': 'Grid'},\n",
    "                        #{'label': 'SOM', 'value': 'SOM'}\n",
    "                    ],\n",
    "                    value='MDS smooth'\n",
    "                    ),\n",
    "\n",
    "                html.Br(),\n",
    "                html.Label('Edge Thresholds'),\n",
    "                    dcc.RangeSlider(\n",
    "                        id='edge-thresh-slider',\n",
    "                        min=0,\n",
    "                        max=np.ceil(params['max_edge_weight']*10)/10,\n",
    "                        step=0.001,\n",
    "                        marks={i/10: str(i/10) for i in range(0,int(np.ceil(params['max_edge_weight']*10))+1,int(round(np.ceil(params['max_edge_weight']*10)/5)))},\n",
    "                        value=edge_threshold,\n",
    "                    ),\n",
    "                html.Label('Node Thresholds'),\n",
    "                    dcc.RangeSlider(\n",
    "                        id='node-thresh-slider',\n",
    "                        min=0,\n",
    "                        max=1,\n",
    "                        step=0.001,\n",
    "                        marks={i/10: str(i/10.0) for i in range(0,11)},\n",
    "                        value=node_threshold,\n",
    "                    ),\n",
    "\n",
    "                ], className=\"two columns\",\n",
    "                ),\n",
    "                \n",
    "            html.Div([\n",
    "                dcc.Graph(\n",
    "                    id='network-graph',\n",
    "                    figure=network_graph_fig\n",
    "                )\n",
    "                ], className= 'ten columns'\n",
    "                ),\n",
    "            ], className=\"row\"\n",
    "        ),\n",
    "\n",
    "\n",
    "                \n",
    "        html.Div([\n",
    "            html.Div([\n",
    "            html.Label('Input Image', style={'fontSize': 18,'font-weight':'bold'}),\n",
    "            dcc.Dropdown(id=\"dynamic-input-image-dropdown\",value=params['input_image_list'][0]),\n",
    "            #dcc.Dropdown(\n",
    "            #    id='input-image-dropdown',\n",
    "            #    options=[{'label': i, 'value': i} for i in params['input_image_list']+os.listdir(params['prepped_model_path']+'/visualizations/images/')],\n",
    "            #    value=input_image_name\n",
    "            #),\n",
    "            html.Br(),\n",
    "            dcc.Graph(\n",
    "                id='img-actmap-graph',\n",
    "                style={\n",
    "               'width': '14vw',\n",
    "               'height':'14vw'\n",
    "                },\n",
    "                figure=image2heatmap(params['input_image_directory']+input_image_name,input_image_layout),\n",
    "                config={\n",
    "                        'displayModeBar': False\n",
    "                        }\n",
    "            )\n",
    "            ], className = \"two columns\"),\n",
    "\n",
    "            html.Div([\n",
    "            html.Label('Node', style={'fontSize': 18,'font-weight':'bold'}),\n",
    "            dcc.Dropdown(\n",
    "                id='node-actmap-dropdown',\n",
    "                options=[{'label': str(j), 'value': str(j)} for j in params['imgnode_names']]+[{'label': str(i), 'value': str(i)} for i in range(params['num_nodes'])],\n",
    "                value='0'\n",
    "            ),\n",
    "            html.Br(),\n",
    "            dcc.Graph(\n",
    "                id='node-actmap-graph',\n",
    "                style={\n",
    "               'width': '18vw',\n",
    "               'height':'14vw'\n",
    "                },\n",
    "                figure=figure_init,\n",
    "                config={\n",
    "                        'displayModeBar': False\n",
    "                        }\n",
    "            ),\n",
    "            dcc.Checklist(\n",
    "                id = 'relu-checkbox',\n",
    "                options = [{'label':'relu','value':'relu'}],\n",
    "                value = []\n",
    "                \n",
    "            ),\n",
    "            html.Div(id='node-sum', style={'whiteSpace': 'pre-line'}),\n",
    "            html.Br(),\n",
    "            html.Br(),\n",
    "            dcc.Graph(\n",
    "                id='node-deepviz-image',\n",
    "                style={\n",
    "               'width': '14vw',\n",
    "               'height':'14vw'\n",
    "                },\n",
    "                figure=figure_init,\n",
    "                config={\n",
    "                        'displayModeBar': False\n",
    "                        }\n",
    "            )\n",
    "            ], className = \"three columns\"),\n",
    "            \n",
    "            html.Div([\n",
    "            html.Label('Node Inputs', style={'fontSize': 18,'font-weight':'bold'}),\n",
    "            html.Br(),\n",
    "            html.Div(dcc.Graph(\n",
    "                id='node-inputs-graph',\n",
    "                figure=figure_init,\n",
    "                config={\n",
    "                        'displayModeBar': False\n",
    "                        }\n",
    "            ),style={'overflowY': 'scroll', 'height': 500})\n",
    "            ], className = \"three columns\"),\n",
    "\n",
    "            html.Div([\n",
    "            html.Label('Edge', style={'fontSize': 18,'font-weight':'bold'}),    \n",
    "            dcc.Input(\n",
    "                id='edge-actmaps-input',value=state['edge_names'][0][0], type='text'),\n",
    "            #html.Button(id='edge-kernel-button',n_clicks=0, children='Submit'),\n",
    "            html.Br(),\n",
    "            html.Br(),\n",
    "            html.Label('Kernel'),\n",
    "            dcc.Graph(\n",
    "                id='edge-kernel-graph',\n",
    "                style={\n",
    "               'width': '14vw',\n",
    "               'height':'10vw'\n",
    "                },\n",
    "                figure=go.Figure(data=go.Heatmap(\n",
    "                                    z = edgename_2_edge_figures(state['edge_names'][0][0], input_image_name, kernels, None,params)[0]),\n",
    "                                 layout=kernel_layout\n",
    "                                ),\n",
    "                config={\n",
    "                        'displayModeBar': False\n",
    "                        }\n",
    "            ),\n",
    "            html.Br(),\n",
    "            html.Br(),\n",
    "            dcc.Graph(\n",
    "               id='edge-deepviz-image',\n",
    "               style={\n",
    "              'width': '14vw',\n",
    "              'height':'14vw'\n",
    "               },\n",
    "               figure=figure_init,\n",
    "               config={\n",
    "                       'displayModeBar': False\n",
    "                       }\n",
    "            )\n",
    "            ], className = \"two columns\"),\n",
    "\n",
    "\n",
    "            html.Div([\n",
    "            html.Label('Edge Input'),\n",
    "            html.Br(),\n",
    "            dcc.Graph(\n",
    "                id='edge-inmap-graph',\n",
    "                style={\n",
    "               'width': '18vw',\n",
    "               'height':'14vw'\n",
    "                },\n",
    "                figure=figure_init,\n",
    "                config={\n",
    "                        'displayModeBar': False\n",
    "                        }\n",
    "            ),\n",
    "            html.Div(id='edgein-sum', style={'whiteSpace': 'pre-line'}),\n",
    "            html.Br(),\n",
    "            html.Br(),\n",
    "            html.Label('Edge Output'),\n",
    "            html.Br(),\n",
    "            dcc.Graph(\n",
    "                id='edge-outmap-graph',\n",
    "                style={\n",
    "               'width': '18vw',\n",
    "               'height':'14vw'\n",
    "                },\n",
    "                figure=figure_init,\n",
    "                config={\n",
    "                        'displayModeBar': False\n",
    "                        }\n",
    "            ),\n",
    "            html.Div(id='edgeout-sum', style={'whiteSpace': 'pre-line'}),\n",
    "\n",
    "            ], className = \"two columns\")\n",
    "\n",
    "\n",
    "         ], className= 'row'\n",
    "         ),\n",
    "    \n",
    "    \n",
    "    html.Div([\n",
    "            html.Div([\n",
    "            html.Label('Image Manipulations', style={'fontSize': 18,'font-weight':'bold'}),\n",
    "            html.Br(),\n",
    "            html.Label('rotation'),\n",
    "            dcc.Slider(\n",
    "                id='image-rotation-slider',\n",
    "                min=0,\n",
    "                max=350,\n",
    "                step=10,\n",
    "                marks={\n",
    "                        0:   '0°',\n",
    "                        20:  '20°',\n",
    "                        40:  '40°',\n",
    "                        60:  '60°',\n",
    "                        80:  '80°',\n",
    "                        100: '100°',\n",
    "                        120: '120°',\n",
    "                        140: '140°',\n",
    "                        160: '160°',\n",
    "                        180: '180°',\n",
    "                        200: '200°',\n",
    "                        220: '220°',\n",
    "                        240: '240°',\n",
    "                        260: '260°',\n",
    "                        280: '280°',\n",
    "                        300: '300°',\n",
    "                        320: '320°',\n",
    "                        340: '240°',\n",
    "                        },\n",
    "                included=False,\n",
    "                value=0,\n",
    "            ),\n",
    "            html.Br(),\n",
    "            html.Label('scaling'),\n",
    "            dcc.Slider(\n",
    "                id='image-scaling-slider',\n",
    "                min=-10,\n",
    "                max=10,\n",
    "                step=1,\n",
    "                marks={\n",
    "                        -8:  '.33',\n",
    "                        -6:  '.4',\n",
    "                        -4: '.5',\n",
    "                        -2: '.67',\n",
    "                         0: '1',\n",
    "                         2: '1.5',\n",
    "                         4: '2',\n",
    "                         6: '2.5',\n",
    "                         8: '3',\n",
    "                        },\n",
    "                included=False,\n",
    "                value=0,\n",
    "            ),            \n",
    "            html.Br(),\n",
    "            html.Label('colors'),\n",
    "\n",
    "                    html.Label('R',style={'fontSize': 10,'font-weight':'italic'}),\n",
    "                    dcc.Slider(\n",
    "                        id='image-r-slider',\n",
    "                        min=-1,\n",
    "                        max=1,\n",
    "                        step=.05,\n",
    "                        marks={\n",
    "                                -1:'-1',\n",
    "                                -.8:'-.8',\n",
    "                                -.6:'-.6',\n",
    "                                -.4:'-.4',\n",
    "                                 -.2:'-.2',\n",
    "                                 0:'0',\n",
    "                                 .2:'.2',\n",
    "                                 .4:'.4',\n",
    "                                 .6:'.6',\n",
    "                                 .8:'.8',\n",
    "                                  1:'1',\n",
    "                                },\n",
    "                        included=False,\n",
    "                        value=0,\n",
    "                    ),\n",
    " \n",
    "\n",
    "                    html.Label('G',style={'fontSize': 10,'font-weight':'italic'}),\n",
    "                    dcc.Slider(\n",
    "                        id='image-g-slider',\n",
    "                        min=-1,\n",
    "                        max=1,\n",
    "                        step=.05,\n",
    "                        marks={\n",
    "                                -1:'-1',\n",
    "                                -.8:'-.8',\n",
    "                                -.6:'-.6',\n",
    "                                -.4:'-.4',\n",
    "                                 -.2:'-.2',\n",
    "                                 0:'0',\n",
    "                                 .2:'.2',\n",
    "                                 .4:'.4',\n",
    "                                 .6:'.6',\n",
    "                                 .8:'.8',\n",
    "                                  1:'1',\n",
    "                                },\n",
    "                        included=False,\n",
    "                        value=0,\n",
    "                    ),\n",
    "    \n",
    "\n",
    "                    html.Label('B',style={'fontSize': 10,'font-weight':'italic'}),\n",
    "                    dcc.Slider(\n",
    "                        id='image-b-slider',\n",
    "                        min=-1,\n",
    "                        max=1,\n",
    "                        step=.05,\n",
    "                        marks={\n",
    "                                -1:'-1',\n",
    "                                -.8:'-.8',\n",
    "                                -.6:'-.6',\n",
    "                                -.4:'-.4',\n",
    "                                 -.2:'-.2',\n",
    "                                 0:'0',\n",
    "                                 .2:'.2',\n",
    "                                 .4:'.4',\n",
    "                                 .6:'.6',\n",
    "                                 .8:'.8',\n",
    "                                  1:'1',\n",
    "                                },\n",
    "                        included=False,\n",
    "                        value=0,\n",
    "                    )\n",
    "           \n",
    "            ], className = \"three columns\"),\n",
    "                \n",
    "                \n",
    "            html.Div([\n",
    "            html.Label('Feature Visualizations', style={'fontSize': 18,'font-weight':'bold'}),\n",
    "            html.Br(),\n",
    "            html.Div( style=dict(display='flex'),\n",
    "                children = [     \n",
    "                    daq.ToggleSwitch(\n",
    "                        id='featviz-nodeedge-toggle',\n",
    "                        label=['node','edge    '],\n",
    "                        style={'float': 'right','margin': 'auto'}\n",
    "                        #labelPosition='bottom'\n",
    "                    ), \n",
    "                    html.Label(''),\n",
    "                    daq.ToggleSwitch(\n",
    "                        id='featviz-channelneuron-toggle',\n",
    "                        label=['channel','neuron    '],\n",
    "                        style={'float': 'right','margin': 'auto'}\n",
    "                        #labelPosition='bottom'\n",
    "                    ),\n",
    "                    html.Label(''),\n",
    "                    daq.ToggleSwitch(\n",
    "                        id='featviz-positivenegative-toggle',\n",
    "                        label=['positive','negative    '],\n",
    "                        style={'float': 'right','margin': 'auto'}\n",
    "                        #labelPosition='bottom'\n",
    "                    )\n",
    "                ]),\n",
    "            html.Br(),\n",
    "            dcc.Graph(\n",
    "               id='featviz-image',\n",
    "               style={\n",
    "              'width': '14vw',\n",
    "              'height':'14vw'\n",
    "               },\n",
    "               figure=figure_init,\n",
    "               config={\n",
    "                       'displayModeBar': False\n",
    "                       }\n",
    "            ),\n",
    "            html.Button('Generate', id='featviz-button')\n",
    "            #html.Button('Generate', id='gen-featviz-button')\n",
    "            ], className= \"five columns\"),\n",
    "        \n",
    "        \n",
    "        \n",
    "            html.Div([\n",
    "            html.Label('Model Ablations', style={'fontSize': 18,'font-weight':'bold'}),\n",
    "            dcc.Textarea(\n",
    "                id='ablations-textarea',\n",
    "                value='',\n",
    "                style={'width': '70%', 'height': 300}),\n",
    "            html.Button('Ablate', id='ablate-model-button')\n",
    "            ], className= \"four columns\"),\n",
    "        \n",
    "        ], className=\"row\"\n",
    "        ),\n",
    "                \n",
    "#         html.Div([\n",
    "#             html.Div([\n",
    "#                 dcc.Markdown(\"\"\"\n",
    "#                     **Hover Data**\n",
    "\n",
    "#                     Mouse over values in the graph.\n",
    "#                 \"\"\"),\n",
    "#                 html.Pre(id='hover-data', style=styles['pre'])\n",
    "#             ], className='two columns'),\n",
    "\n",
    "#             html.Div([\n",
    "#                 dcc.Markdown(\"\"\"\n",
    "#                     **Click Data**\n",
    "\n",
    "#                     Click on points in the graph.\n",
    "#                 \"\"\"),\n",
    "#                 html.Pre(id='click-data', style=styles['pre']),\n",
    "#             ], className='two columns'),\n",
    "\n",
    "#             html.Div([\n",
    "#                 dcc.Markdown(\"\"\"\n",
    "#                     **Selection Data**\n",
    "\n",
    "#                     Choose the lasso or rectangle tool in the graph's menu\n",
    "#                     bar and then select points in the graph.\n",
    "\n",
    "#                     Note that if `layout.clickmode = 'event+select'`, selection data also \n",
    "#                     accumulates (or un-accumulates) selected data if you hold down the shift\n",
    "#                     button while clicking.\n",
    "#                 \"\"\"),\n",
    "#                 html.Pre(id='selected-data', style=styles['pre']),\n",
    "#             ], className='two columns'),\n",
    "\n",
    "# #                 html.Div([\n",
    "# #                     dcc.Markdown(\"\"\"\n",
    "# #                         **Zoom and Relayout Data**\n",
    "\n",
    "# #                         Click and drag on the graph to zoom or click on the zoom\n",
    "# #                         buttons in the graph's menu bar.\n",
    "# #                         Clicking on legend items will also fire\n",
    "# #                         this event.\n",
    "# #                     \"\"\"),\n",
    "# #                     html.Pre(id='relayout-data', style=styles['pre']),\n",
    "# #                 ], className='two columns')\n",
    "                \n",
    "#             html.Div([\n",
    "#                 dcc.Markdown(\"\"\"\n",
    "#                     **Figure Data**\n",
    "\n",
    "#                     Figure json info.\n",
    "#                 \"\"\"),\n",
    "#                 html.Pre(id='figure-data', style=styles['pre']),\n",
    "#             ], className='four columns')\n",
    "\n",
    "#         ], className= 'row'\n",
    "#         ),\n",
    "\n",
    "    #hidden divs for storing intermediate values     \n",
    "    # The memory store reverts to the default on every page refresh\n",
    "    dcc.Store(id='memory',data=state),\n",
    "    # The local store will take the initial data\n",
    "    # only the first time the page is loaded\n",
    "    # and keep it until it is cleared.\n",
    "    #dcc.Store(id='local', storage_type='local'),\n",
    "    # Same as the local store but will lose the data\n",
    "    # when the browser/tab closes.\n",
    "    #dcc.Store(id='session', storage_type='session',data=state),\n",
    "    \n",
    "\n",
    "    # hidden signal value\n",
    "    html.Div(id='input-image-signal',  style={'display': 'none'}),\n",
    "    html.Div(id='target-signal', style={'display': 'none'},children = [state['target_category'],state['target_node']]),\n",
    "    html.Div(id='ablations-signal',  style={'display': 'none'}, children = [])\n",
    "])\n",
    "\n",
    "\n",
    "\n",
    "# perform expensive computations in this \"global store\"\n",
    "# these computations are cached in a globally available\n",
    "# 'cached' folder in the prepped_models/[model] folder\n",
    "@cache.memoize()\n",
    "def activations_store(image_name,ablation_list):\n",
    "\n",
    "    print('Updating cached activations with {}'.format(image_name))\n",
    "    activations = get_model_activations_from_image(get_image_path(image_name,params)[1], model_dis, params)\n",
    "    \n",
    "    return activations\n",
    "\n",
    "@app.callback(Output('input-image-signal', 'children'), \n",
    "              [Input('dynamic-input-image-dropdown', 'value'),\n",
    "               Input('ablations-signal', 'children')])\n",
    "def update_activations_store(image_name,ablation_list):\n",
    "    # compute value and send a signal when done\n",
    "    activations_store(image_name,ablation_list)\n",
    "    return image_name\n",
    "\n",
    "\n",
    "@cache.memoize()\n",
    "def ranksdf_store(target_category, target_node,ablation_list,model_dis=model_dis):\n",
    "    print('Updating cached rank dfs with {}'.format(target_category))\n",
    "    model_dis = clear_ranks_across_model(model_dis)\n",
    "    target_type = image_category_or_contrast(target_category,params)\n",
    "    target_category_nodes_df = None\n",
    "    target_category_edges_df = None\n",
    "    if target_type == 'category' and target_node == 'loss' and ablation_list == []:\n",
    "        #edges\n",
    "        if categories_edges_df is not None:\n",
    "            if len(categories_edges_df.loc[categories_edges_df['category']==target_category]) > 0:\n",
    "                target_category_edges_df = categories_edges_df.loc[categories_edges_df['category']==target_category]\n",
    "        if target_category_edges_df is None:\n",
    "            target_category_edges_df = rank_file_2_df(os.path.join(params['ranks_data_path'],'categories_edges','%s_edges_rank.pt'%target_category))   \n",
    "        #node\n",
    "        if categories_nodes_df is not None:\n",
    "            if len(categories_nodes_df.loc[categories_nodes_df['category']==target_category]) > 0:\n",
    "                target_category_nodes_df = categories_nodes_df.loc[categories_nodes_df['category']==target_category]\n",
    "        if target_category_nodes_df is None:\n",
    "            target_category_nodes_df = rank_file_2_df(os.path.join(params['ranks_data_path'],'categories_nodes','%s_nodes_rank.pt'%target_category))\n",
    "    elif target_type == 'category':\n",
    "        target_category_nodes_df,target_category_edges_df = rank_dict_2_df(get_model_ranks_for_category(target_category, target_node, model_dis,params))\n",
    "    elif target_type == 'input_image':\n",
    "        target_category_nodes_df,target_category_edges_df = rank_dict_2_df(get_model_ranks_from_image(get_image_path(target_category,params)[1],target_node, model_dis, params))\n",
    "\n",
    "    else:  #contrast\n",
    "        target_category_nodes_df,target_category_edges_df = contrast_str_2_dfs(target_category,target_node,model_dis,params,ablation_list)\n",
    "    print('FROM RANKS DF STORE')\n",
    "    print(target_category_edges_df)\n",
    "    return target_category_nodes_df,target_category_edges_df\n",
    "\n",
    "@app.callback(Output('target-signal', 'children'), \n",
    "              [Input('input-category', 'value'),\n",
    "               Input('target-node','value'),\n",
    "               Input('ablations-signal', 'children')])\n",
    "def update_ranksdf_store(target_category,target_node,ablation_list):\n",
    "    # compute value and send a signal when done\n",
    "    print('update ranksdf_store triggered')\n",
    "    ranksdf_store(target_category,target_node,ablation_list)\n",
    "    return [target_category,target_node]\n",
    "\n",
    "\n",
    "\n",
    "####Call Back Functions\n",
    "\n",
    "#Ablations\n",
    "@app.callback(Output('ablations-signal', 'children'), \n",
    "              [Input('ablate-model-button', 'n_clicks')],\n",
    "              [State('ablations-textarea','value')])\n",
    "def update_ablations(n_clicks,text,model_dis=model_dis):\n",
    "    # compute value and send a signal when done\n",
    "    ablation_list = ablation_text_2_list(text, params)\n",
    "    ablate_model_with_list(ablation_list,model_dis,params)\n",
    "    return ablation_list\n",
    "\n",
    "\n",
    "#Hidden State\n",
    "@app.callback(\n",
    "    Output('memory', 'data'),\n",
    "    [Input('target-signal', 'children'),\n",
    "     Input('node-actmap-dropdown', 'value'),\n",
    "     Input('edge-actmaps-input', 'value'),\n",
    "     Input('edge-thresh-slider','value'),\n",
    "     Input('node-thresh-slider','value'),\n",
    "     Input('layer-projection','value'),\n",
    "     Input('subgraph-criterion','value')],\n",
    "    [State('memory', 'data'),\n",
    "     State('ablations-signal', 'children')])\n",
    "def update_store(target,node_value,edge_value,edge_threshold,node_threshold,projection,rank_type,state,ablation_list):\n",
    "    print('CALLED: update_store\\n')\n",
    "    ctx = dash.callback_context\n",
    "    if not ctx.triggered:\n",
    "        raise Exception('no figure updates yet')\n",
    "    else:\n",
    "        trigger = ctx.triggered[0]['prop_id']\n",
    "    state['last_trigger'] = trigger  #store the last trigger of state change in state\n",
    "    print('TRIGGER %s'%trigger)\n",
    "    \n",
    "    hierarchical = False\n",
    "    if rank_type == 'hierarchical':\n",
    "        hierarchical = True\n",
    "        rank_type = 'actxgrad'\n",
    "        \n",
    "    target_category,target_node = target[0],target[1]\n",
    "    #fetch select edges DF\n",
    "    if trigger in ['target-signal.children','edge-thresh-slider.value','node-thresh-slider.value','layer-projection.value','subgraph-criterion.value']:\n",
    "        if rank_type == 'weight':\n",
    "            target_edges_df = weight_edges_df\n",
    "            target_nodes_df = weight_nodes_df\n",
    "            weight=True\n",
    "        else:   \n",
    "            target_nodes_df,target_edges_df = ranksdf_store(target_category,target_node,ablation_list)\n",
    "            weight=False   \n",
    "        target_edges_df = minmax_normalize_ranks_df(target_edges_df,params,weight=weight)\n",
    "        target_nodes_df = minmax_normalize_ranks_df(target_nodes_df,params,weight=weight)\n",
    "\n",
    "        if hierarchical:\n",
    "            #nodes_thresholded_df = get_thresholded_ranksdf(node_threshold,rank_type, target_nodes_df)\n",
    "            #filter_edges_df = filter_edges_by_nodes(target_edges_df,nodes_thresholded_df)\n",
    "            #edges_thresholded_df = get_thresholded_ranksdf(edge_threshold,rank_type,filter_edges_df)\n",
    "            #edges_thresholded_df = hierarchically_threshold_edges(edge_threshold,rank_type,target_edges_df,nodes_thresholded_df)\n",
    "            print('finding hierarchical subgraph')\n",
    "            start = time.time()\n",
    "            nodes_thresholded_df,edges_thresholded_df = hierarchical_accum_threshold(node_threshold[0],edge_threshold[0],rank_type,target_edges_df,target_nodes_df,ascending=False)\n",
    "            print('time: %s'%str(time.time() - start))\n",
    "            print('found %s nodes and %s edges'%(str(len(nodes_thresholded_df)),str(len(edges_thresholded_df))))\n",
    "            #node_minmax = node_threshold\n",
    "            node_min = {}\n",
    "            for layer in target_nodes_df['layer'].unique():\n",
    "                if len(nodes_thresholded_df.loc[nodes_thresholded_df['layer']==layer]) > 1:\n",
    "                    node_min[layer] = nodes_thresholded_df.loc[nodes_thresholded_df['layer']==layer][rank_type+'_rank'].min()\n",
    "                else:\n",
    "                    node_min[layer] = None\n",
    "\n",
    "        else: \n",
    "            nodes_thresholded_df = None\n",
    "            edges_thresholded_df = get_thresholded_ranksdf(edge_threshold,rank_type,target_edges_df)\n",
    "            node_min = None\n",
    "\n",
    "    if trigger == 'target-signal.children':\n",
    "        print('changing target category to %s'%target_category)\n",
    "        #print(target_nodes_df)\n",
    "        state['node_colors'], state['node_weights'] = gen_node_colors(target_nodes_df,rank_type,params,node_min=node_min)\n",
    "        #state['max_edge_weight'] = get_max_edge_weight(target_category)\n",
    "        state['edge_positions'], state['edge_colors'], state['edge_widths'],state['edge_weights'], state['edge_names'], state['max_edge_width_indices'] = gen_edge_graphdata(edges_thresholded_df, state['node_positions'], rank_type, target_category,params)\n",
    "\n",
    "    elif trigger == 'node-actmap-dropdown.value' or trigger == 'edge-actmaps-input.value':\n",
    "        state['last_trigger'] = 'selection_change'\n",
    "        print(edge_value)\n",
    "        #update node if button value different than store value\n",
    "        if state['node_select_history'][-1] != node_value:\n",
    "            print('changing selected node to %s'%node_value)\n",
    "            state['node_select_history'].append(node_value)\n",
    "            if len(state['node_select_history']) > 10:\n",
    "                del state['node_select_history'][0] \n",
    "        #update edge if button value different than store value\n",
    "        if state['edge_select_history'][-1] != edge_value and check_edge_validity(edge_value.strip(),params)[0]:\n",
    "            print('changing selected edge to %s'%edge_value)\n",
    "            state['edge_select_history'].append(edge_value)\n",
    "            print(state['edge_select_history'])\n",
    "            if len(state['edge_select_history']) > 10:\n",
    "                del state['edge_select_history'][0]              \n",
    "\n",
    "    elif trigger == 'edge-thresh-slider.value':\n",
    "        print('changing edge thresholds to %s - %s'%(edge_threshold[0],edge_threshold[1]))\n",
    "        state['edge_threshold'] == edge_threshold\n",
    "        print('found %s edges'%len(edges_thresholded_df))\n",
    "        state['edge_positions'], state['edge_colors'], state['edge_widths'], state['edge_weights'], state['edge_names'], state['max_edge_width_indices'] = gen_edge_graphdata(edges_thresholded_df, state['node_positions'], rank_type, target_category,params)\n",
    "    \n",
    "    elif trigger == 'node-thresh-slider.value':\n",
    "        print('changing node thresholds to %s - %s'%(node_threshold[0],node_threshold[1]))\n",
    "        state['node_threshold'] == node_threshold\n",
    "        print('found %s nodes'%len(nodes_thresholded_df))\n",
    "        state['edge_positions'], state['edge_colors'], state['edge_widths'], state['edge_weights'], state['edge_names'], state['max_edge_width_indices'] = gen_edge_graphdata(edges_thresholded_df, state['node_positions'], rank_type, target_category,params)\n",
    "        state['node_colors'], state['node_weights'] = gen_node_colors(target_nodes_df,rank_type,params,node_min=node_min)\n",
    "        \n",
    "        \n",
    "    elif trigger == 'layer-projection.value':\n",
    "        print('changing layer projection to %s\\n'%projection)\n",
    "        state['projection']=projection\n",
    "        if projection == 'Grid':\n",
    "            node_positions = all_node_positions[projection]\n",
    "        else:\n",
    "            node_positions = all_node_positions[projection][rank_type]\n",
    "        state['edge_positions'], state['edge_colors'], state['edge_widths'],state['edge_weights'], state['edge_names'], state['max_edge_width_indices'] = gen_edge_graphdata(edges_thresholded_df, state['node_positions'], rank_type, target_category,params)\n",
    "\n",
    "    elif trigger == 'subgraph-criterion.value':\n",
    "        print('changing weighting criterion to %s\\n'%rank_type)\n",
    "        state['rank_type']=rank_type\n",
    "        state['node_colors'], state['node_weights'] = gen_node_colors(target_nodes_df,rank_type,params,node_min=node_min)\n",
    "        #state['node_positions']=format_node_positions(projection=projection,rank_type=rank_type)\n",
    "        state['edge_positions'], state['edge_colors'], state['edge_widths'],state['edge_weights'], state['edge_names'], state['max_edge_width_indices'] = gen_edge_graphdata(edges_thresholded_df, state['node_positions'], rank_type, target_category,params)\n",
    "\n",
    "    else:\n",
    "        raise Exception('unknown trigger: %s'%trigger)    \n",
    "    return state\n",
    "\n",
    "\n",
    "#Network Graph Figure\n",
    "@app.callback(\n",
    "    Output('network-graph', 'figure'),\n",
    "    [Input('memory', 'data')],\n",
    "    [State('network-graph','figure')])\n",
    "def update_figure(state, fig):\n",
    "    #network_graph_layout['uirevision'] = True\n",
    "    print('CALLED: update_figure\\n')\n",
    "    print(state['edge_threshold'])\n",
    "    print(state['edge_select_history'])\n",
    "    print(state['node_select_history'])\n",
    "    if state['last_trigger'] == 'selection_change':   #minimal updates\n",
    "        #hightlight edge\n",
    "        print('updating edge highlight to %s'%state['edge_select_history'][-1])\n",
    "        #if len(state['edge_select_history']) >1:\n",
    "        #if state['edge_select_history'][-1] != state['edge_select_history'][-2]:  #didnt click same point\n",
    "        flat_edge_names = [item for sublist in state['edge_names'] for item in sublist]\n",
    "        flat_edge_colors = [item for sublist in state['edge_colors'] for item in sublist]\n",
    "        try:  #update current edge if it exists to black\n",
    "            #print(flat_edge_names)\n",
    "            fig['data'][flat_edge_names.index(state['edge_select_history'][-1])+params['num_layers']+1]['line']['color'] = 'rgba(0,0,0,1)'\n",
    "        except:\n",
    "            print('select edge, %s,  not recolored as no longer shown'%state['edge_select_history'][-1])\n",
    "        if len(state['edge_select_history']) > 1: #there is a previous edge to unselect\n",
    "            try: #recolor previous edge if it exists from black\n",
    "                fig['data'][flat_edge_names.index(state['edge_select_history'][-2])+params['num_layers']+1]['line']['color'] = flat_edge_colors[flat_edge_names.index(state['edge_select_history'][-2])]\n",
    "            except:\n",
    "                print('previous edge, %s,  not recolored as no longer shown'%state['edge_select_history'][-2])\n",
    "        #highlight node\n",
    "        print('updating node highlight to %s'%state['node_select_history'][-1])\n",
    "        #if len(state['node_select_history']) >1:\n",
    "        #    if state['node_select_history'][-1] != state['node_select_history'][-2]: \n",
    "                #update current node color to black\n",
    "        if str(state['node_select_history'][-1]).isnumeric():  #if normal node\n",
    "            select_layer,select_position,select_layer_name = nodeid_2_perlayerid(state['node_select_history'][-1],params)\n",
    "            fig['data'][select_layer+1]['marker']['color'][select_position] = 'rgba(0,0,0,1)'\n",
    "        else:   #imgnode\n",
    "            fig['data'][0]['marker']['color'][fig['data'][0]['text'].index(state['node_select_history'][-1])] = 'rgba(0,0,0,1)'\n",
    "        #update previous node color to its usual color\n",
    "        if len(state['node_select_history']) > 1: #there is a previous node to unselect\n",
    "            if str(state['node_select_history'][-2]).isnumeric():  #if normal node\n",
    "                prev_select_layer,prev_select_position,prev_select_layer_name = nodeid_2_perlayerid(state['node_select_history'][-2],params)\n",
    "                print(prev_select_layer,prev_select_position,prev_select_layer_name)\n",
    "                fig['data'][prev_select_layer+1]['marker']['color'][prev_select_position] = state['node_colors'][prev_select_layer][prev_select_position]\n",
    "            else:   #imgnode\n",
    "                fig['data'][0]['marker']['color'][fig['data'][0]['text'].index(state['node_select_history'][-2])] = state['imgnode_colors'][fig['data'][0]['text'].index(state['node_select_history'][-2])]\n",
    "        #fig['layout']['uirevision']=True   \n",
    "        return fig    \n",
    "    else:   #regenerate full traces\n",
    "        combined_traces = gen_networkgraph_traces(state,params)\n",
    "        fig['data'] = combined_traces\n",
    "        #layout = network_graph_layout\n",
    "        #layout['uirevision'] = True\n",
    "        return fig\n",
    "\n",
    "#Node Actmap Dropdown\n",
    "@app.callback(\n",
    "    Output('node-actmap-dropdown', 'value'),\n",
    "    [Input('network-graph', 'clickData')],\n",
    "    [State('node-actmap-dropdown', 'value')])\n",
    "def switch_node_actmap_click(clickData,current_value):\n",
    "    print('CALLED: switch_node_actmap_click')\n",
    "    if clickData is None:\n",
    "        return current_value \n",
    "        #raise Exception('no click data')\n",
    "    if int(clickData['points'][0]['curveNumber']) > params['num_layers']:\n",
    "        return current_value\n",
    "        #raise Exception('edge was clicked')\n",
    "    return clickData['points'][0]['text']\n",
    "\n",
    "#Edge Actmaps Input\n",
    "@app.callback(\n",
    "    Output('edge-actmaps-input', 'value'),\n",
    "    [Input('network-graph', 'clickData')],\n",
    "    [State('edge-actmaps-input', 'value'),\n",
    "     State('memory', 'data')])\n",
    "def switch_edge_actmaps_click(clickData,current_value,state):\n",
    "    print('CALLED: switch_edge_actmaps_click')\n",
    "    if clickData is None:\n",
    "        return current_value\n",
    "        #raise Exception('no click data')\n",
    "    if int(clickData['points'][0]['curveNumber']) <= params['num_layers']:\n",
    "        return current_value\n",
    "        #raise Exception('node was clicked')\n",
    "    return get_nth_element_from_nested_list(state['edge_names'],int(clickData['points'][0]['curveNumber'])-(params['num_layers']+1))\n",
    "\n",
    "\n",
    "#Node actmap graph\n",
    "@app.callback(\n",
    "    Output('node-actmap-graph', 'figure'),\n",
    "    [Input('node-actmap-dropdown', 'value'),\n",
    "     Input('relu-checkbox','value'),\n",
    "     Input('input-image-signal', 'children')],\n",
    "    [State('ablations-signal', 'children')])\n",
    "def update_node_actmap(nodeid,relu_checked,image_name,ablation_list):       #EDIT: needs support for black and white images\n",
    "    print('CALLED: update_node_actmap')\n",
    "    layer, within_id,layer_name = nodeid_2_perlayerid(nodeid,params)\n",
    "    #fetch activations\n",
    "    if image_name in all_activations['nodes'] and ablation_list == []:\n",
    "        activations = all_activations\n",
    "    else:\n",
    "        activations  = activations_store(image_name,ablation_list)\n",
    "        \n",
    "    if layer == 'img': #code for returning color channel as activation map\n",
    "        #np_chan_im = get_channelwise_image(image_name,state['imgnode_names'].index(nodeid),params['input_image_directory']=params['input_image_directory'])\n",
    "        np_chan_im = activations['edges_in'][image_name][0][within_id]\n",
    "        return go.Figure(data=go.Heatmap( z = np.flip(np_chan_im,0), name = nodeid),\n",
    "                        layout=node_actmap_layout) \n",
    "    act_map = activations['nodes'][image_name][layer][within_id]\n",
    "    if relu_checked != []:\n",
    "        act_map = relu(act_map)\n",
    "    return go.Figure(data=go.Heatmap( z = np.flip(act_map,0),\n",
    "                                      #zmin=-11,\n",
    "                                      #zmax=14,\n",
    "                                      colorbar = dict(thicknessmode = \"fraction\",thickness=.1)\n",
    "                                    ),\n",
    "                     layout=node_actmap_layout) \n",
    "\n",
    "@app.callback(\n",
    "    Output('node-sum', 'children'),\n",
    "    [Input('node-actmap-graph', 'figure')])\n",
    "def update_node_sum(fig):\n",
    "    mean = np.mean(fig['data'][0]['z'])\n",
    "    return 'mean: %s'%str(mean)\n",
    "\n",
    "\n",
    "#Node deepviz graph\n",
    "@app.callback(\n",
    "    Output('node-deepviz-image', 'figure'),\n",
    "    [Input('node-actmap-dropdown', 'value')])\n",
    "def update_node_deepviz(nodeid):       #EDIT: needs support for black and white images\n",
    "    print('CALLED: update_node_deepviz')\n",
    "    layer,within_layer_id,layer_name = nodeid_2_perlayerid(nodeid,params)    \n",
    "    if layer == 'img': \n",
    "        return figure_init\n",
    "    image_name = fetch_deepviz_img(model,str(nodeid),params)\n",
    "    image_path = params['prepped_model_path']+'/visualizations/images/'+image_name\n",
    "    return image2plot(image_path,input_image_layout)\n",
    "    \n",
    "\n",
    "#Edge deepviz graph\n",
    "@app.callback(\n",
    "    Output('edge-deepviz-image', 'figure'),\n",
    "    [Input('edge-actmaps-input', 'value')])\n",
    "def update_edge_deepviz(edgename):       #EDIT: needs support for black and white images\n",
    "    print('CALLED: update_edge_deepviz')\n",
    "    #layer,within_layer_id,layer_name = nodeid_2_perlayerid(nodeid,params)    \n",
    "    #if layer == 'img': \n",
    "    #    return figure_init\n",
    "    image_name = fetch_deepviz_img(model_dis,edgename,params)\n",
    "    image_path = params['prepped_model_path']+'/visualizations/images/'+image_name\n",
    "    return image2plot(image_path,input_image_layout)\n",
    "     \n",
    "\n",
    "#Node inputs actmap graph\n",
    "@app.callback(\n",
    "    Output('node-inputs-graph', 'figure'),\n",
    "    [Input('node-actmap-dropdown', 'value'),\n",
    "     Input('input-image-signal', 'children'),\n",
    "     Input('target-signal', 'children'),\n",
    "     Input('subgraph-criterion','value')],\n",
    "     [State('ablations-signal', 'children')])\n",
    "def update_node_inputs(nodeid,image_name,target,rank_type,ablation_list,model=model_dis,max_num = params['max_node_inputs']):       \n",
    "    print('CALLED: update_node_inputs')\n",
    "    \n",
    "    hierarchical = False\n",
    "    if rank_type == 'hierarchical':\n",
    "        hierarchical = True\n",
    "        rank_type = 'actxgrad'\n",
    "    \n",
    "    \n",
    "    target_category,target_node = target[0],target[1]\n",
    "    node_layer,node_within_layer_id,layer_name = nodeid_2_perlayerid(nodeid,params)\n",
    "    #fetch activations\n",
    "    if image_name in all_activations['nodes'] and ablation_list == []:\n",
    "        activations = all_activations\n",
    "    else:\n",
    "        activations = activations_store(image_name,ablation_list)\n",
    "    #fetch edges df\n",
    "    if rank_type == 'weight':\n",
    "        target_edges_df = weight_edges_df\n",
    "    else:\n",
    "        target_edges_df = ranksdf_store(target_category,target_node,ablation_list)[1]\n",
    "    #return no input if on input image node \n",
    "    if node_layer == 'img':\n",
    "        fig = go.Figure()\n",
    "\n",
    "        fig.add_trace(go.Scatter(\n",
    "            x=[],\n",
    "            y=[]))\n",
    "        fig.update_layout(xaxis=dict(visible=False),\n",
    "                          yaxis=dict(visible=False),\n",
    "                          annotations = [dict(text=\"No Inputs\",\n",
    "                                              xref=\"paper\",\n",
    "                                              yref=\"paper\",\n",
    "                                              showarrow=False,\n",
    "                                              font=dict(size=28))]\n",
    "                         )\n",
    "        return fig\n",
    "\n",
    "    all_node_edges_df = target_edges_df.loc[(target_edges_df['layer']==node_layer) & (target_edges_df['out_channel'] == node_within_layer_id)]\n",
    "    #if sort_images:                      \n",
    "    all_node_edges_df = all_node_edges_df.sort_values(by=[rank_type+'_rank'],ascending=False)\n",
    "    top_node_edges_df = all_node_edges_df.head(max_num)\n",
    "    fig = make_subplots(rows=len(top_node_edges_df)+1, cols=3)\n",
    "    #print(top_node_edges_df)\n",
    "    i=1\n",
    "    for row in top_node_edges_df.itertuples():\n",
    "        if node_layer == 0:\n",
    "            edge_name = str(params['imgnode_names'][row.in_channel])+'-'+str(nodeid)\n",
    "        else:\n",
    "            edge_name = str(params['layer_nodes'][node_layer-1][1][row.in_channel])+'-'+str(nodeid)\n",
    "        #add activation map\n",
    "        fig.add_trace(\n",
    "               go.Heatmap(z = edgename_2_edge_figures(edge_name, image_name, kernels, activations,params)[2],\n",
    "                          #zmin = -1,\n",
    "                          #zmax = 1,\n",
    "                          name = edge_name,\n",
    "                          coloraxis=\"coloraxis\"\n",
    "                          #showscale = False,\n",
    "                          #colorbar = dict(lenmode='fraction',len=1/len(top_node_edges_df), \n",
    "                          #                y=(i)/len(top_node_edges_df)-.01,\n",
    "                          #                thicknessmode = \"fraction\",thickness=.1,\n",
    "                          #                ypad=1\n",
    "                          #               )\n",
    "                          ),\n",
    "               row=i, col=2),\n",
    "        #add kernel\n",
    "        fig.add_trace(\n",
    "               go.Heatmap(z = edgename_2_edge_figures(edge_name, image_name, kernels, activations,params)[0],\n",
    "                          #zmin = -1,\n",
    "                          #zmax = 1,\n",
    "                          name = edge_name+'_kernel',\n",
    "                          coloraxis=\"coloraxis2\"\n",
    "                          #showscale = False,\n",
    "                          #colorbar = dict(lenmode='fraction',len=1/len(top_node_edges_df), \n",
    "                          #                y=(i)/len(top_node_edges_df)-.01,\n",
    "                          #                thicknessmode = \"fraction\",thickness=.1,\n",
    "                          #                ypad=1\n",
    "                          #               )\n",
    "                          ),\n",
    "               row=i, col=3),\n",
    "\n",
    "        #add visualization\n",
    "        viz_img_name = fetch_deepviz_img_for_node_inputs(model,edge_name,params)\n",
    "        viz_img_path = params['prepped_model_path']+'/visualizations/images/'+viz_img_name\n",
    "        viz_img = Image.open(viz_img_path)\n",
    "        #fig.add_trace(go.Image(z=viz_img,name=viz_img_name), row=i, col=1)\n",
    "        fig.add_trace(go.Scatter(x=[],y=[]),row=i,col=1)\n",
    "        fig.add_layout_image(\n",
    "                            source=viz_img,\n",
    "                            xref=\"x\",\n",
    "                            yref=\"y\",\n",
    "                            x=0,\n",
    "                            y=10,\n",
    "                            sizex=10,\n",
    "                            sizey=10,\n",
    "                            sizing=\"stretch\",\n",
    "                            opacity=1,\n",
    "                            layer=\"below\",\n",
    "                            row=i, col=1\n",
    "                            )\n",
    "        fig.update_xaxes(visible=False,range=(0,10),showline=False,showgrid=False,showticklabels=False,row=i,col=1)\n",
    "        fig.update_yaxes(visible=False,range=(0,10),showline=False,showgrid=False,showticklabels=False,row=i,col=1)\n",
    "   \n",
    "\n",
    "\n",
    "        i+=1\n",
    "    \n",
    "    fig.update_layout(height=200*len(top_node_edges_df), \n",
    "                      width=340,\n",
    "                      #yaxis=dict(scaleanchor=\"x\", scaleratio=1/len(top_node_edges_df)),\n",
    "                      #title_text=\"Inputs to Node\",\n",
    "                      #xaxis=dict(visible=False),\n",
    "                      #yaxis=dict(visible=False),\n",
    "                      coloraxis_showscale=False,\n",
    "                      coloraxis2 = dict(showscale=False,\n",
    "                                        colorscale='inferno',\n",
    "                                        colorbar = dict(\n",
    "                                                        thicknessmode = \"fraction\",thickness=.05, \n",
    "                                                        lenmode='fraction',len=.7)),\n",
    "                      margin=dict(\n",
    "                                    l=0,\n",
    "                                    r=0,\n",
    "                                    b=0,\n",
    "                                    t=0,\n",
    "                                    pad=0)\n",
    "                     )\n",
    "    fig.update_coloraxes(colorscale='inferno',colorbar = dict(\n",
    "                                                              thicknessmode = \"fraction\",thickness=.05, \n",
    "                                                              lenmode='fraction',len=.7)\n",
    "                        )\n",
    "#     fig.update_coloraxes2(colorscale='inferno',colorbar = dict(\n",
    "#                                                               thicknessmode = \"fraction\",thickness=.05, \n",
    "#                                                               lenmode='fraction',len=.7)\n",
    "#                        )\n",
    "    return fig\n",
    "\n",
    "\n",
    "\n",
    "\n",
    "\n",
    "\n",
    "\n",
    "#image graph\n",
    "@app.callback(\n",
    "    Output('img-actmap-graph', 'figure'),\n",
    "    [Input('dynamic-input-image-dropdown', 'value'),\n",
    "     Input('node-actmap-graph','clickData'),\n",
    "     Input('node-actmap-graph','figure')],\n",
    "    [State('img-actmap-graph', 'figure'),\n",
    "     State('node-actmap-dropdown', 'value')])\n",
    "def update_inputimg_actmap(image_name,click_data,node_actmap_fig,image_fig,nodeid): \n",
    "    print('CALLED: update_inputimg_actmap')\n",
    "    #if os.path.exists(params['input_image_directory']+image_name):\n",
    "    ctx = dash.callback_context\n",
    "    if not ctx.triggered:\n",
    "        raise Exception('no figure updates yet')\n",
    "    else:\n",
    "        trigger = ctx.triggered[0]['prop_id']\n",
    "    if trigger == 'dynamic-input-image-dropdown.value':\n",
    "        return image2plot(get_image_path(image_name,params)[1],input_image_layout)\n",
    "    elif receptive_fields is None:\n",
    "        return image2plot(get_image_path(image_name,params)[1],input_image_layout)\n",
    "    elif click_data is None:\n",
    "        return image2plot(get_image_path(image_name,params)[1],input_image_layout)\n",
    "    else:\n",
    "        #nodeid = node_actmap_fig['data'][0]['name']\n",
    "        layer_name = nodeid_2_perlayerid(nodeid,params)[2]\n",
    "        if layer_name == 'img':\n",
    "            raise Exception('no receptive fields for input image actmap')\n",
    "        heatmap_dim_y = len(node_actmap_fig['data'][0]['z'])\n",
    "        heatmap_dim_x = len(node_actmap_fig['data'][0]['z'][0]) \n",
    "        x_click = click_data['points'][0]['x']\n",
    "        y_click = heatmap_dim_y - click_data['points'][0]['y']-1\n",
    "        print('x_click')\n",
    "        print(x_click)\n",
    "        print('y_click')\n",
    "        print(y_click)\n",
    "        recep_field = receptive_field_for_unit(receptive_fields, layer_name, (x_click,y_click))\n",
    "        recep_field_normed = [[recep_field[0][0]*10/input_image_size,recep_field[0][1]*10/input_image_size],\n",
    "                              [recep_field[1][0]*10/input_image_size,recep_field[1][1]*10/input_image_size]]\n",
    "        print('normalized')\n",
    "        print(recep_field_normed)\n",
    "        x_points = [recep_field_normed[0][0],recep_field_normed[0][0],recep_field_normed[0][1],recep_field_normed[0][1],recep_field_normed[0][0]]\n",
    "        y_points = [10 - recep_field_normed[1][0],10 - recep_field_normed[1][1],10 - recep_field_normed[1][1],10 - recep_field_normed[1][0],10 - recep_field_normed[1][0]]\n",
    "        print('x points')\n",
    "        print(x_points)\n",
    "        print('y points')\n",
    "        print(y_points)\n",
    "        image_fig['data'] = [{'mode': 'lines', 'x': x_points, 'y': y_points, 'type': 'scatter'}]\n",
    "        return image_fig\n",
    "        \n",
    "\n",
    "\n",
    "\n",
    "    #else:\n",
    "        #return image2plot(params['prepped_model_path']+'/visualizations/'+image_name,input_image_layout)\n",
    "    \n",
    "# #image dropdown\n",
    "# @app.callback(\n",
    "#     Output('input-image-dropdown', 'options'),\n",
    "#     [Input('node-deepviz-image', 'figure'),\n",
    "#      Input('edge-deepviz-image', 'figure')])\n",
    "# def update_inputimg_dropdown(node_fig,edge_fig): \n",
    "#     print('CALLED: update_inputimg_dropdown options')\n",
    "#     return [{'label': i, 'value': i} for i in params['input_image_list']+os.listdir(params['prepped_model_path']+'/visualizations/images/')]\n",
    "\n",
    "#dynamic dropdown\n",
    "@app.callback(\n",
    "    dash.dependencies.Output(\"dynamic-input-image-dropdown\", \"options\"),\n",
    "    [dash.dependencies.Input(\"dynamic-input-image-dropdown\", \"search_value\")],\n",
    ")\n",
    "def update_options(search_value):\n",
    "    if not search_value:\n",
    "        raise PreventUpdate\n",
    "    return [{'label': i, 'value': i} for i in params['input_image_list']+os.listdir(params['prepped_model_path']+'/visualizations/images/') if search_value in i]\n",
    "\n",
    "\n",
    "\n",
    "\n",
    "\n",
    "#kernel\n",
    "@app.callback(\n",
    "    Output('edge-kernel-graph', 'figure'),\n",
    "    [Input('edge-actmaps-input','value')],\n",
    "    [State('edge-kernel-graph','figure')])\n",
    "def update_edge_kernelmap(edge_name,figure):\n",
    "    print('CALLED: update_edge_kernelmap')\n",
    "    kernel,inmap,outmap = edgename_2_edge_figures(edge_name, None, kernels, None,params)\n",
    "    if kernel is not None:\n",
    "        return go.Figure(data=go.Heatmap(z = kernel,\n",
    "                                         #zmin=-.5,\n",
    "                                         #zmax=.5,\n",
    "                                         colorbar = dict(thicknessmode = \"fraction\",thickness=.1)),\n",
    "                         layout=kernel_layout)\n",
    "    else:\n",
    "        return figure\n",
    "                \n",
    "\n",
    "#edge in        \n",
    "@app.callback(\n",
    "    Output('edge-inmap-graph', 'figure'),\n",
    "    [Input('edge-actmaps-input','value'),\n",
    "     Input('input-image-signal', 'children')],\n",
    "    [State('edge-inmap-graph','figure'),\n",
    "     State('ablations-signal', 'children')])\n",
    "def update_edge_inmap(edge_name,image_name,figure,ablation_list):\n",
    "    print('CALLED: update_edge_inmap')\n",
    "    #fetch activations\n",
    "    if image_name in all_activations['nodes'] and ablation_list == []:\n",
    "        activations = all_activations\n",
    "    else:\n",
    "        activations = activations_store(image_name, ablation_list)\n",
    "        \n",
    "    kernel,inmap,outmap = edgename_2_edge_figures(edge_name, image_name, kernels, activations,params)\n",
    "    if inmap is not None:\n",
    "        return go.Figure(data=go.Heatmap(z = inmap,\n",
    "                                         #zmin=-2,zmax=2,\n",
    "                                         colorbar = dict(thicknessmode = \"fraction\",thickness=.1)\n",
    "                                        ),\n",
    "                         layout=edge_inmap_layout)\n",
    "    else:\n",
    "        print('edge inmap error')\n",
    "        return figure\n",
    "\n",
    "@app.callback(\n",
    "    Output('edgein-sum', 'children'),\n",
    "    [Input('edge-inmap-graph', 'figure')])\n",
    "def update_node_sum(fig):\n",
    "    mean = np.mean(fig['data'][0]['z'])\n",
    "    return 'mean: %s'%str(mean)    \n",
    "\n",
    "#edge out\n",
    "@app.callback(\n",
    "    Output('edge-outmap-graph', 'figure'),\n",
    "    [Input('edge-actmaps-input','value'),\n",
    "     Input('input-image-signal', 'children')],\n",
    "    [State('edge-outmap-graph','figure'),\n",
    "     State('ablations-signal', 'children')])\n",
    "def update_edge_outmap(edge_name,image_name,figure, ablation_list):\n",
    "    print('CALLED: update_edge_outmap')\n",
    "    #fetch activations\n",
    "    if image_name in all_activations['nodes'] and ablation_list == []:\n",
    "        activations = all_activations\n",
    "    else:\n",
    "        activations = activations_store(image_name,ablation_list)\n",
    "        \n",
    "    kernel,inmap,outmap = edgename_2_edge_figures(edge_name, image_name, kernels, activations,params)\n",
    "    if outmap is not None:\n",
    "        return go.Figure(data=go.Heatmap(z = outmap,\n",
    "                                         #zmin=-11,\n",
    "                                         #zmax=14,\n",
    "                                         colorbar = dict(thicknessmode = \"fraction\",thickness=.1)\n",
    "                                        ),\n",
    "                         layout=edge_outmap_layout)\n",
    "    else:\n",
    "        print('edge outmap error')\n",
    "        return figure\n",
    "        \n",
    "@app.callback(\n",
    "    Output('edgeout-sum', 'children'),\n",
    "    [Input('edge-outmap-graph', 'figure')])\n",
    "def update_node_sum(fig):\n",
    "    mean = np.mean(fig['data'][0]['z'])\n",
    "    return 'mean: %s'%str(mean)\n",
    "\n",
    "\n",
    " \n",
    "#feature viz graph\n",
    "@app.callback(\n",
    "    Output('featviz-image', 'figure'),\n",
    "    [Input('featviz-button','n_clicks')],\n",
    "    [State('featviz-nodeedge-toggle', 'value'),\n",
    "     State('featviz-channelneuron-toggle', 'value'),\n",
    "     State('node-actmap-dropdown','value'),\n",
    "     State('edge-actmaps-input','value')],\n",
    "    prevent_initial_call=True)\n",
    "def update_featviz_image(n_clicks,edge,neuron,nodeid,edgeid):       #EDIT: needs support for black and white images\n",
    "    print('CALLED: update_featviz')\n",
    "    if edge:\n",
    "        image_name = regen_visualization(model_dis,edgeid,neuron,params)\n",
    "    else:\n",
    "        layer,within_layer_id,layer_name = nodeid_2_perlayerid(nodeid,params)    \n",
    "        if layer == 'img': \n",
    "            return figure_init\n",
    "        image_name = regen_visualization(model_dis,nodeid,neuron,params)\n",
    "        \n",
    "    image_path = params['prepped_model_path']+'/visualizations/images/'+image_name\n",
    "    return image2plot(image_path,input_image_layout)\n",
    "\n",
    "\n",
    "# #JSON INFO\n",
    "\n",
    "# @app.callback(\n",
    "#     Output('hover-data', 'children'),\n",
    "#     [Input('node-actmap-graph', 'hoverData')])\n",
    "# def display_hover_data(hoverData):\n",
    "#     return json.dumps(hoverData, indent=2)\n",
    "\n",
    "\n",
    "\n",
    "\n",
    "# @app.callback(\n",
    "#     Output('click-data', 'children'),\n",
    "#     [Input('network-graph', 'clickData')])\n",
    "# def display_click_data(clickData):\n",
    "#     return json.dumps(clickData, indent=2)\n",
    "\n",
    "\n",
    "# @app.callback(\n",
    "#     Output('selected-data', 'children'),\n",
    "#     [Input('network-graph', 'selectedData')])\n",
    "# def display_selected_data(selectedData):\n",
    "#     return json.dumps(selectedData, indent=2)\n",
    "\n",
    "\n",
    "# @app.callback(\n",
    "#     Output('figure-data', 'children'),\n",
    "#     [Input('input-category', 'value'),\n",
    "#      Input('network-graph', 'clickData'),\n",
    "#      Input('edge-thresh-slider','value'),\n",
    "#      Input('memory','data')])\n",
    "# def display_trigger(target_category,clickData,edge_thresh,state):\n",
    "#     ctx = dash.callback_context\n",
    "#     if not ctx.triggered:\n",
    "#         raise Exception('no figure updates yet')\n",
    "#     else:\n",
    "#         trigger = ctx.triggered[0]['prop_id'].split('.')[0]\n",
    "#     ctx_msg = json.dumps({\n",
    "#         'states': ctx.states,\n",
    "#         'triggered': ctx.triggered,\n",
    "#         'inputs': ctx.inputs,\n",
    "#         'full_state':state\n",
    "#     }, indent=2)\n",
    "#     return ctx_msg"
   ]
  },
  {
   "cell_type": "code",
   "execution_count": 15,
   "metadata": {},
   "outputs": [],
   "source": [
    "\n",
    "import torch\n",
    "import sys\n",
    "sys.path.append('../')\n",
    "from lucent_edited.optvis import render\n",
    "from lucent_edited.modelzoo import inceptionv1\n",
    "from lucent_edited.modelzoo.util import get_model_layers\n",
    "from torchvision import models"
   ]
  },
  {
   "cell_type": "code",
   "execution_count": 27,
   "metadata": {},
   "outputs": [
    {
     "data": {
      "text/plain": [
       "(3, 60, 'features_8')"
      ]
     },
     "execution_count": 27,
     "metadata": {},
     "output_type": "execute_result"
    }
   ],
   "source": [
    "nodeid_2_perlayerid(700,params)"
   ]
  },
  {
   "cell_type": "code",
   "execution_count": 29,
   "metadata": {},
   "outputs": [
    {
     "name": "stderr",
     "output_type": "stream",
     "text": [
      "\r",
      "  0%|          | 0/512 [00:00<?, ?it/s]"
     ]
    },
    {
     "name": "stdout",
     "output_type": "stream",
     "text": [
      "64\n",
      "Initial loss: 0.130\n"
     ]
    },
    {
     "name": "stderr",
     "output_type": "stream",
     "text": [
      "100%|██████████| 512/512 [00:23<00:00, 21.92it/s]\n",
      "  1%|          | 3/512 [00:00<00:22, 22.49it/s]"
     ]
    },
    {
     "name": "stdout",
     "output_type": "stream",
     "text": [
      "Loss at step 512: -91.941\n",
      "65\n",
      "Initial loss: 0.061\n"
     ]
    },
    {
     "name": "stderr",
     "output_type": "stream",
     "text": [
      "100%|██████████| 512/512 [00:23<00:00, 21.64it/s]\n",
      "  1%|          | 3/512 [00:00<00:21, 23.19it/s]"
     ]
    },
    {
     "name": "stdout",
     "output_type": "stream",
     "text": [
      "Loss at step 512: -146.012\n",
      "66\n",
      "Initial loss: 0.047\n"
     ]
    },
    {
     "name": "stderr",
     "output_type": "stream",
     "text": [
      "100%|██████████| 512/512 [00:23<00:00, 21.47it/s]\n",
      "  1%|          | 3/512 [00:00<00:21, 23.37it/s]"
     ]
    },
    {
     "name": "stdout",
     "output_type": "stream",
     "text": [
      "Loss at step 512: -40.740\n",
      "67\n",
      "Initial loss: 1.917\n"
     ]
    },
    {
     "name": "stderr",
     "output_type": "stream",
     "text": [
      "100%|██████████| 512/512 [00:23<00:00, 21.40it/s]\n",
      "  1%|          | 3/512 [00:00<00:22, 22.18it/s]"
     ]
    },
    {
     "name": "stdout",
     "output_type": "stream",
     "text": [
      "Loss at step 512: -94.519\n",
      "68\n",
      "Initial loss: -0.049\n"
     ]
    },
    {
     "name": "stderr",
     "output_type": "stream",
     "text": [
      "100%|██████████| 512/512 [00:24<00:00, 21.23it/s]\n",
      "  1%|          | 3/512 [00:00<00:23, 22.06it/s]"
     ]
    },
    {
     "name": "stdout",
     "output_type": "stream",
     "text": [
      "Loss at step 512: -65.786\n",
      "69\n",
      "Initial loss: -0.938\n"
     ]
    },
    {
     "name": "stderr",
     "output_type": "stream",
     "text": [
      "100%|██████████| 512/512 [00:24<00:00, 21.12it/s]\n",
      "  1%|          | 3/512 [00:00<00:22, 23.06it/s]"
     ]
    },
    {
     "name": "stdout",
     "output_type": "stream",
     "text": [
      "Loss at step 512: -116.919\n",
      "70\n",
      "Initial loss: 2.525\n"
     ]
    },
    {
     "name": "stderr",
     "output_type": "stream",
     "text": [
      "100%|██████████| 512/512 [00:24<00:00, 21.04it/s]\n",
      "  1%|          | 3/512 [00:00<00:22, 22.33it/s]"
     ]
    },
    {
     "name": "stdout",
     "output_type": "stream",
     "text": [
      "Loss at step 512: -129.711\n",
      "71\n",
      "Initial loss: 0.515\n"
     ]
    },
    {
     "name": "stderr",
     "output_type": "stream",
     "text": [
      "100%|██████████| 512/512 [00:24<00:00, 20.93it/s]\n",
      "  1%|          | 3/512 [00:00<00:22, 22.84it/s]"
     ]
    },
    {
     "name": "stdout",
     "output_type": "stream",
     "text": [
      "Loss at step 512: -54.568\n",
      "72\n",
      "Initial loss: -0.144\n"
     ]
    },
    {
     "name": "stderr",
     "output_type": "stream",
     "text": [
      "100%|██████████| 512/512 [00:24<00:00, 21.02it/s]\n",
      "  1%|          | 3/512 [00:00<00:22, 22.45it/s]"
     ]
    },
    {
     "name": "stdout",
     "output_type": "stream",
     "text": [
      "Loss at step 512: -101.348\n",
      "73\n",
      "Initial loss: 0.785\n"
     ]
    },
    {
     "name": "stderr",
     "output_type": "stream",
     "text": [
      "100%|██████████| 512/512 [00:23<00:00, 21.47it/s]\n",
      "  1%|          | 3/512 [00:00<00:23, 22.05it/s]"
     ]
    },
    {
     "name": "stdout",
     "output_type": "stream",
     "text": [
      "Loss at step 512: -137.319\n",
      "74\n",
      "Initial loss: -0.310\n"
     ]
    },
    {
     "name": "stderr",
     "output_type": "stream",
     "text": [
      "100%|██████████| 512/512 [00:24<00:00, 21.05it/s]\n",
      "  1%|          | 3/512 [00:00<00:23, 21.71it/s]"
     ]
    },
    {
     "name": "stdout",
     "output_type": "stream",
     "text": [
      "Loss at step 512: -58.820\n",
      "75\n",
      "Initial loss: 0.627\n"
     ]
    },
    {
     "name": "stderr",
     "output_type": "stream",
     "text": [
      "100%|██████████| 512/512 [00:23<00:00, 21.58it/s]\n",
      "  1%|          | 3/512 [00:00<00:22, 22.63it/s]"
     ]
    },
    {
     "name": "stdout",
     "output_type": "stream",
     "text": [
      "Loss at step 512: -199.149\n",
      "76\n",
      "Initial loss: -0.143\n"
     ]
    },
    {
     "name": "stderr",
     "output_type": "stream",
     "text": [
      "100%|██████████| 512/512 [00:24<00:00, 20.90it/s]\n",
      "  1%|          | 3/512 [00:00<00:22, 22.22it/s]"
     ]
    },
    {
     "name": "stdout",
     "output_type": "stream",
     "text": [
      "Loss at step 512: -130.049\n",
      "77\n",
      "Initial loss: -0.612\n"
     ]
    },
    {
     "name": "stderr",
     "output_type": "stream",
     "text": [
      "100%|██████████| 512/512 [00:24<00:00, 20.91it/s]\n",
      "  1%|          | 3/512 [00:00<00:21, 23.19it/s]"
     ]
    },
    {
     "name": "stdout",
     "output_type": "stream",
     "text": [
      "Loss at step 512: -90.997\n",
      "78\n",
      "Initial loss: 0.892\n"
     ]
    },
    {
     "name": "stderr",
     "output_type": "stream",
     "text": [
      "100%|██████████| 512/512 [00:24<00:00, 21.11it/s]\n",
      "  1%|          | 3/512 [00:00<00:21, 24.01it/s]"
     ]
    },
    {
     "name": "stdout",
     "output_type": "stream",
     "text": [
      "Loss at step 512: -73.330\n",
      "79\n",
      "Initial loss: -0.714\n"
     ]
    },
    {
     "name": "stderr",
     "output_type": "stream",
     "text": [
      "100%|██████████| 512/512 [00:24<00:00, 21.10it/s]\n",
      "  1%|          | 3/512 [00:00<00:23, 22.01it/s]"
     ]
    },
    {
     "name": "stdout",
     "output_type": "stream",
     "text": [
      "Loss at step 512: -108.156\n",
      "80\n",
      "Initial loss: -0.176\n"
     ]
    },
    {
     "name": "stderr",
     "output_type": "stream",
     "text": [
      "100%|██████████| 512/512 [00:24<00:00, 20.73it/s]\n",
      "  1%|          | 3/512 [00:00<00:23, 22.03it/s]"
     ]
    },
    {
     "name": "stdout",
     "output_type": "stream",
     "text": [
      "Loss at step 512: -92.643\n",
      "81\n",
      "Initial loss: -0.670\n"
     ]
    },
    {
     "name": "stderr",
     "output_type": "stream",
     "text": [
      "100%|██████████| 512/512 [00:25<00:00, 20.40it/s]\n",
      "  1%|          | 3/512 [00:00<00:23, 21.85it/s]"
     ]
    },
    {
     "name": "stdout",
     "output_type": "stream",
     "text": [
      "Loss at step 512: -87.016\n",
      "82\n",
      "Initial loss: -1.909\n"
     ]
    },
    {
     "name": "stderr",
     "output_type": "stream",
     "text": [
      "100%|██████████| 512/512 [00:24<00:00, 20.67it/s]\n",
      "  1%|          | 3/512 [00:00<00:23, 22.05it/s]"
     ]
    },
    {
     "name": "stdout",
     "output_type": "stream",
     "text": [
      "Loss at step 512: -19.009\n",
      "83\n",
      "Initial loss: -0.809\n"
     ]
    },
    {
     "name": "stderr",
     "output_type": "stream",
     "text": [
      "100%|██████████| 512/512 [00:24<00:00, 20.94it/s]\n",
      "  1%|          | 3/512 [00:00<00:24, 20.44it/s]"
     ]
    },
    {
     "name": "stdout",
     "output_type": "stream",
     "text": [
      "Loss at step 512: -32.369\n",
      "84\n",
      "Initial loss: -2.211\n"
     ]
    },
    {
     "name": "stderr",
     "output_type": "stream",
     "text": [
      "100%|██████████| 512/512 [00:24<00:00, 21.00it/s]\n",
      "  1%|          | 3/512 [00:00<00:23, 21.97it/s]"
     ]
    },
    {
     "name": "stdout",
     "output_type": "stream",
     "text": [
      "Loss at step 512: -96.874\n",
      "85\n",
      "Initial loss: 0.143\n"
     ]
    },
    {
     "name": "stderr",
     "output_type": "stream",
     "text": [
      "100%|██████████| 512/512 [00:24<00:00, 21.09it/s]\n",
      "  1%|          | 3/512 [00:00<00:24, 21.13it/s]"
     ]
    },
    {
     "name": "stdout",
     "output_type": "stream",
     "text": [
      "Loss at step 512: -57.289\n",
      "86\n",
      "Initial loss: 0.231\n"
     ]
    },
    {
     "name": "stderr",
     "output_type": "stream",
     "text": [
      "100%|██████████| 512/512 [00:24<00:00, 21.17it/s]\n",
      "  1%|          | 3/512 [00:00<00:21, 23.60it/s]"
     ]
    },
    {
     "name": "stdout",
     "output_type": "stream",
     "text": [
      "Loss at step 512: -79.343\n",
      "87\n",
      "Initial loss: 0.772\n"
     ]
    },
    {
     "name": "stderr",
     "output_type": "stream",
     "text": [
      "100%|██████████| 512/512 [00:24<00:00, 20.88it/s]\n",
      "  1%|          | 3/512 [00:00<00:21, 23.95it/s]"
     ]
    },
    {
     "name": "stdout",
     "output_type": "stream",
     "text": [
      "Loss at step 512: -103.666\n",
      "88\n",
      "Initial loss: -0.095\n"
     ]
    },
    {
     "name": "stderr",
     "output_type": "stream",
     "text": [
      "100%|██████████| 512/512 [00:24<00:00, 21.03it/s]\n",
      "  1%|          | 3/512 [00:00<00:22, 23.10it/s]"
     ]
    },
    {
     "name": "stdout",
     "output_type": "stream",
     "text": [
      "Loss at step 512: -71.631\n",
      "89\n",
      "Initial loss: -0.516\n"
     ]
    },
    {
     "name": "stderr",
     "output_type": "stream",
     "text": [
      "100%|██████████| 512/512 [00:24<00:00, 21.25it/s]\n",
      "  1%|          | 3/512 [00:00<00:20, 24.52it/s]"
     ]
    },
    {
     "name": "stdout",
     "output_type": "stream",
     "text": [
      "Loss at step 512: -120.176\n",
      "90\n",
      "Initial loss: -0.138\n"
     ]
    },
    {
     "name": "stderr",
     "output_type": "stream",
     "text": [
      "100%|██████████| 512/512 [00:24<00:00, 21.21it/s]\n",
      "  1%|          | 3/512 [00:00<00:23, 21.32it/s]"
     ]
    },
    {
     "name": "stdout",
     "output_type": "stream",
     "text": [
      "Loss at step 512: -62.370\n",
      "91\n",
      "Initial loss: -0.170\n"
     ]
    },
    {
     "name": "stderr",
     "output_type": "stream",
     "text": [
      "100%|██████████| 512/512 [00:24<00:00, 21.03it/s]\n",
      "  1%|          | 3/512 [00:00<00:23, 21.80it/s]"
     ]
    },
    {
     "name": "stdout",
     "output_type": "stream",
     "text": [
      "Loss at step 512: -70.015\n",
      "92\n",
      "Initial loss: 3.721\n"
     ]
    },
    {
     "name": "stderr",
     "output_type": "stream",
     "text": [
      "100%|██████████| 512/512 [00:24<00:00, 20.88it/s]\n",
      "  1%|          | 3/512 [00:00<00:22, 22.85it/s]"
     ]
    },
    {
     "name": "stdout",
     "output_type": "stream",
     "text": [
      "Loss at step 512: -39.215\n",
      "93\n",
      "Initial loss: -0.365\n"
     ]
    },
    {
     "name": "stderr",
     "output_type": "stream",
     "text": [
      "100%|██████████| 512/512 [00:24<00:00, 21.05it/s]\n",
      "  1%|          | 3/512 [00:00<00:21, 23.76it/s]"
     ]
    },
    {
     "name": "stdout",
     "output_type": "stream",
     "text": [
      "Loss at step 512: -91.769\n",
      "94\n",
      "Initial loss: 0.149\n"
     ]
    },
    {
     "name": "stderr",
     "output_type": "stream",
     "text": [
      "100%|██████████| 512/512 [00:24<00:00, 21.28it/s]\n",
      "  1%|          | 3/512 [00:00<00:21, 23.23it/s]"
     ]
    },
    {
     "name": "stdout",
     "output_type": "stream",
     "text": [
      "Loss at step 512: -86.774\n",
      "95\n",
      "Initial loss: -0.154\n"
     ]
    },
    {
     "name": "stderr",
     "output_type": "stream",
     "text": [
      "100%|██████████| 512/512 [00:24<00:00, 21.21it/s]\n",
      "  1%|          | 3/512 [00:00<00:22, 22.94it/s]"
     ]
    },
    {
     "name": "stdout",
     "output_type": "stream",
     "text": [
      "Loss at step 512: -149.375\n",
      "96\n",
      "Initial loss: 1.055\n"
     ]
    },
    {
     "name": "stderr",
     "output_type": "stream",
     "text": [
      "100%|██████████| 512/512 [00:24<00:00, 21.30it/s]\n",
      "  1%|          | 3/512 [00:00<00:22, 22.47it/s]"
     ]
    },
    {
     "name": "stdout",
     "output_type": "stream",
     "text": [
      "Loss at step 512: -76.393\n",
      "97\n",
      "Initial loss: 4.089\n"
     ]
    },
    {
     "name": "stderr",
     "output_type": "stream",
     "text": [
      "100%|██████████| 512/512 [00:24<00:00, 20.70it/s]\n",
      "  1%|          | 3/512 [00:00<00:23, 21.49it/s]"
     ]
    },
    {
     "name": "stdout",
     "output_type": "stream",
     "text": [
      "Loss at step 512: -66.759\n",
      "98\n",
      "Initial loss: -0.776\n"
     ]
    },
    {
     "name": "stderr",
     "output_type": "stream",
     "text": [
      "100%|██████████| 512/512 [00:24<00:00, 20.99it/s]\n",
      "  1%|          | 3/512 [00:00<00:21, 23.69it/s]"
     ]
    },
    {
     "name": "stdout",
     "output_type": "stream",
     "text": [
      "Loss at step 512: -92.388\n",
      "99\n",
      "Initial loss: 0.349\n"
     ]
    },
    {
     "name": "stderr",
     "output_type": "stream",
     "text": [
      "100%|██████████| 512/512 [00:24<00:00, 20.86it/s]\n",
      "  1%|          | 3/512 [00:00<00:22, 22.43it/s]"
     ]
    },
    {
     "name": "stdout",
     "output_type": "stream",
     "text": [
      "Loss at step 512: -165.075\n",
      "100\n",
      "Initial loss: 0.538\n"
     ]
    },
    {
     "name": "stderr",
     "output_type": "stream",
     "text": [
      "100%|██████████| 512/512 [00:24<00:00, 21.05it/s]\n",
      "  1%|          | 3/512 [00:00<00:23, 21.65it/s]"
     ]
    },
    {
     "name": "stdout",
     "output_type": "stream",
     "text": [
      "Loss at step 512: -90.047\n",
      "101\n",
      "Initial loss: 0.172\n"
     ]
    },
    {
     "name": "stderr",
     "output_type": "stream",
     "text": [
      "100%|██████████| 512/512 [00:24<00:00, 21.01it/s]\n",
      "  1%|          | 3/512 [00:00<00:23, 21.33it/s]"
     ]
    },
    {
     "name": "stdout",
     "output_type": "stream",
     "text": [
      "Loss at step 512: -123.379\n",
      "102\n",
      "Initial loss: -1.022\n"
     ]
    },
    {
     "name": "stderr",
     "output_type": "stream",
     "text": [
      "100%|██████████| 512/512 [00:24<00:00, 20.97it/s]\n",
      "  1%|          | 3/512 [00:00<00:22, 22.65it/s]"
     ]
    },
    {
     "name": "stdout",
     "output_type": "stream",
     "text": [
      "Loss at step 512: -75.086\n",
      "103\n",
      "Initial loss: 0.774\n"
     ]
    },
    {
     "name": "stderr",
     "output_type": "stream",
     "text": [
      "100%|██████████| 512/512 [00:24<00:00, 21.01it/s]\n",
      "  1%|          | 3/512 [00:00<00:23, 21.70it/s]"
     ]
    },
    {
     "name": "stdout",
     "output_type": "stream",
     "text": [
      "Loss at step 512: -85.329\n",
      "104\n",
      "Initial loss: -0.159\n"
     ]
    },
    {
     "name": "stderr",
     "output_type": "stream",
     "text": [
      "100%|██████████| 512/512 [00:24<00:00, 20.99it/s]\n",
      "  1%|          | 3/512 [00:00<00:22, 22.90it/s]"
     ]
    },
    {
     "name": "stdout",
     "output_type": "stream",
     "text": [
      "Loss at step 512: -70.177\n",
      "105\n",
      "Initial loss: -0.970\n"
     ]
    },
    {
     "name": "stderr",
     "output_type": "stream",
     "text": [
      "100%|██████████| 512/512 [00:24<00:00, 20.95it/s]\n",
      "  1%|          | 3/512 [00:00<00:21, 23.20it/s]"
     ]
    },
    {
     "name": "stdout",
     "output_type": "stream",
     "text": [
      "Loss at step 512: -96.831\n",
      "106\n",
      "Initial loss: 0.167\n"
     ]
    },
    {
     "name": "stderr",
     "output_type": "stream",
     "text": [
      "100%|██████████| 512/512 [00:24<00:00, 20.76it/s]\n",
      "  1%|          | 3/512 [00:00<00:25, 20.19it/s]"
     ]
    },
    {
     "name": "stdout",
     "output_type": "stream",
     "text": [
      "Loss at step 512: -83.952\n",
      "107\n",
      "Initial loss: -0.191\n"
     ]
    },
    {
     "name": "stderr",
     "output_type": "stream",
     "text": [
      "100%|██████████| 512/512 [00:24<00:00, 20.84it/s]\n",
      "  1%|          | 3/512 [00:00<00:21, 23.29it/s]"
     ]
    },
    {
     "name": "stdout",
     "output_type": "stream",
     "text": [
      "Loss at step 512: -55.033\n",
      "108\n",
      "Initial loss: 1.211\n"
     ]
    },
    {
     "name": "stderr",
     "output_type": "stream",
     "text": [
      "100%|██████████| 512/512 [00:24<00:00, 20.93it/s]\n",
      "  1%|          | 3/512 [00:00<00:23, 21.79it/s]"
     ]
    },
    {
     "name": "stdout",
     "output_type": "stream",
     "text": [
      "Loss at step 512: -109.456\n",
      "109\n",
      "Initial loss: -1.473\n"
     ]
    },
    {
     "name": "stderr",
     "output_type": "stream",
     "text": [
      "100%|██████████| 512/512 [00:24<00:00, 21.03it/s]\n",
      "  1%|          | 3/512 [00:00<00:23, 21.98it/s]"
     ]
    },
    {
     "name": "stdout",
     "output_type": "stream",
     "text": [
      "Loss at step 512: -78.880\n",
      "110\n",
      "Initial loss: -0.232\n"
     ]
    },
    {
     "name": "stderr",
     "output_type": "stream",
     "text": [
      "100%|██████████| 512/512 [00:24<00:00, 20.84it/s]\n",
      "  1%|          | 3/512 [00:00<00:21, 23.51it/s]"
     ]
    },
    {
     "name": "stdout",
     "output_type": "stream",
     "text": [
      "Loss at step 512: -56.278\n",
      "111\n",
      "Initial loss: -0.003\n"
     ]
    },
    {
     "name": "stderr",
     "output_type": "stream",
     "text": [
      "100%|██████████| 512/512 [00:24<00:00, 20.92it/s]\n",
      "  1%|          | 3/512 [00:00<00:22, 22.98it/s]"
     ]
    },
    {
     "name": "stdout",
     "output_type": "stream",
     "text": [
      "Loss at step 512: -117.864\n",
      "112\n",
      "Initial loss: -0.120\n"
     ]
    },
    {
     "name": "stderr",
     "output_type": "stream",
     "text": [
      "100%|██████████| 512/512 [00:24<00:00, 21.19it/s]\n",
      "  1%|          | 3/512 [00:00<00:26, 19.16it/s]"
     ]
    },
    {
     "name": "stdout",
     "output_type": "stream",
     "text": [
      "Loss at step 512: -57.365\n",
      "113\n",
      "Initial loss: 0.328\n"
     ]
    },
    {
     "name": "stderr",
     "output_type": "stream",
     "text": [
      "100%|██████████| 512/512 [00:24<00:00, 20.65it/s]\n",
      "  1%|          | 3/512 [00:00<00:21, 23.93it/s]"
     ]
    },
    {
     "name": "stdout",
     "output_type": "stream",
     "text": [
      "Loss at step 512: -57.959\n",
      "114\n",
      "Initial loss: 0.705\n"
     ]
    },
    {
     "name": "stderr",
     "output_type": "stream",
     "text": [
      "100%|██████████| 512/512 [00:24<00:00, 20.93it/s]\n",
      "  1%|          | 3/512 [00:00<00:24, 20.37it/s]"
     ]
    },
    {
     "name": "stdout",
     "output_type": "stream",
     "text": [
      "Loss at step 512: -82.380\n",
      "115\n",
      "Initial loss: -0.435\n"
     ]
    },
    {
     "name": "stderr",
     "output_type": "stream",
     "text": [
      "100%|██████████| 512/512 [00:24<00:00, 20.68it/s]\n",
      "  1%|          | 3/512 [00:00<00:23, 22.05it/s]"
     ]
    },
    {
     "name": "stdout",
     "output_type": "stream",
     "text": [
      "Loss at step 512: -81.192\n",
      "116\n",
      "Initial loss: -0.379\n"
     ]
    },
    {
     "name": "stderr",
     "output_type": "stream",
     "text": [
      "100%|██████████| 512/512 [00:23<00:00, 21.37it/s]\n",
      "  1%|          | 3/512 [00:00<00:22, 23.06it/s]"
     ]
    },
    {
     "name": "stdout",
     "output_type": "stream",
     "text": [
      "Loss at step 512: -89.667\n",
      "117\n",
      "Initial loss: -0.699\n"
     ]
    },
    {
     "name": "stderr",
     "output_type": "stream",
     "text": [
      "100%|██████████| 512/512 [00:24<00:00, 20.69it/s]\n",
      "  1%|          | 3/512 [00:00<00:24, 21.06it/s]"
     ]
    },
    {
     "name": "stdout",
     "output_type": "stream",
     "text": [
      "Loss at step 512: -54.633\n",
      "118\n",
      "Initial loss: 0.159\n"
     ]
    },
    {
     "name": "stderr",
     "output_type": "stream",
     "text": [
      "100%|██████████| 512/512 [00:24<00:00, 20.75it/s]\n",
      "  1%|          | 3/512 [00:00<00:23, 22.10it/s]"
     ]
    },
    {
     "name": "stdout",
     "output_type": "stream",
     "text": [
      "Loss at step 512: -128.623\n",
      "119\n",
      "Initial loss: -1.825\n"
     ]
    },
    {
     "name": "stderr",
     "output_type": "stream",
     "text": [
      "100%|██████████| 512/512 [00:24<00:00, 20.97it/s]\n",
      "  1%|          | 3/512 [00:00<00:22, 22.20it/s]"
     ]
    },
    {
     "name": "stdout",
     "output_type": "stream",
     "text": [
      "Loss at step 512: -41.773\n",
      "120\n",
      "Initial loss: 0.347\n"
     ]
    },
    {
     "name": "stderr",
     "output_type": "stream",
     "text": [
      "100%|██████████| 512/512 [00:24<00:00, 20.85it/s]\n",
      "  1%|          | 3/512 [00:00<00:23, 21.59it/s]"
     ]
    },
    {
     "name": "stdout",
     "output_type": "stream",
     "text": [
      "Loss at step 512: -75.819\n",
      "121\n",
      "Initial loss: 1.020\n"
     ]
    },
    {
     "name": "stderr",
     "output_type": "stream",
     "text": [
      "100%|██████████| 512/512 [00:24<00:00, 20.79it/s]\n",
      "  1%|          | 3/512 [00:00<00:23, 21.68it/s]"
     ]
    },
    {
     "name": "stdout",
     "output_type": "stream",
     "text": [
      "Loss at step 512: -51.979\n",
      "122\n",
      "Initial loss: -0.212\n"
     ]
    },
    {
     "name": "stderr",
     "output_type": "stream",
     "text": [
      "100%|██████████| 512/512 [00:24<00:00, 20.85it/s]\n",
      "  1%|          | 3/512 [00:00<00:23, 21.63it/s]"
     ]
    },
    {
     "name": "stdout",
     "output_type": "stream",
     "text": [
      "Loss at step 512: -62.245\n",
      "123\n",
      "Initial loss: -1.913\n"
     ]
    },
    {
     "name": "stderr",
     "output_type": "stream",
     "text": [
      "100%|██████████| 512/512 [00:24<00:00, 20.94it/s]\n",
      "  1%|          | 3/512 [00:00<00:23, 21.37it/s]"
     ]
    },
    {
     "name": "stdout",
     "output_type": "stream",
     "text": [
      "Loss at step 512: -34.368\n",
      "124\n",
      "Initial loss: -0.336\n"
     ]
    },
    {
     "name": "stderr",
     "output_type": "stream",
     "text": [
      "100%|██████████| 512/512 [00:24<00:00, 20.94it/s]\n",
      "  1%|          | 3/512 [00:00<00:23, 22.06it/s]"
     ]
    },
    {
     "name": "stdout",
     "output_type": "stream",
     "text": [
      "Loss at step 512: -90.643\n",
      "125\n",
      "Initial loss: 0.177\n"
     ]
    },
    {
     "name": "stderr",
     "output_type": "stream",
     "text": [
      "100%|██████████| 512/512 [00:24<00:00, 20.99it/s]\n",
      "  1%|          | 3/512 [00:00<00:22, 22.35it/s]"
     ]
    },
    {
     "name": "stdout",
     "output_type": "stream",
     "text": [
      "Loss at step 512: -78.563\n",
      "126\n",
      "Initial loss: -0.722\n"
     ]
    },
    {
     "name": "stderr",
     "output_type": "stream",
     "text": [
      "100%|██████████| 512/512 [00:24<00:00, 20.76it/s]\n",
      "  1%|          | 3/512 [00:00<00:23, 21.69it/s]"
     ]
    },
    {
     "name": "stdout",
     "output_type": "stream",
     "text": [
      "Loss at step 512: -55.756\n",
      "127\n",
      "Initial loss: -1.245\n"
     ]
    },
    {
     "name": "stderr",
     "output_type": "stream",
     "text": [
      "100%|██████████| 512/512 [00:24<00:00, 20.88it/s]\n",
      "  1%|          | 3/512 [00:00<00:22, 22.31it/s]"
     ]
    },
    {
     "name": "stdout",
     "output_type": "stream",
     "text": [
      "Loss at step 512: -35.088\n",
      "128\n",
      "Initial loss: -1.225\n"
     ]
    },
    {
     "name": "stderr",
     "output_type": "stream",
     "text": [
      "100%|██████████| 512/512 [00:24<00:00, 20.94it/s]\n",
      "  1%|          | 3/512 [00:00<00:21, 23.24it/s]"
     ]
    },
    {
     "name": "stdout",
     "output_type": "stream",
     "text": [
      "Loss at step 512: -56.214\n",
      "129\n",
      "Initial loss: 0.498\n"
     ]
    },
    {
     "name": "stderr",
     "output_type": "stream",
     "text": [
      "100%|██████████| 512/512 [00:24<00:00, 20.68it/s]\n",
      "  1%|          | 3/512 [00:00<00:22, 22.17it/s]"
     ]
    },
    {
     "name": "stdout",
     "output_type": "stream",
     "text": [
      "Loss at step 512: -124.795\n",
      "130\n",
      "Initial loss: 0.067\n"
     ]
    },
    {
     "name": "stderr",
     "output_type": "stream",
     "text": [
      "100%|██████████| 512/512 [00:24<00:00, 20.98it/s]\n",
      "  1%|          | 3/512 [00:00<00:21, 23.21it/s]"
     ]
    },
    {
     "name": "stdout",
     "output_type": "stream",
     "text": [
      "Loss at step 512: -27.467\n",
      "131\n",
      "Initial loss: -1.065\n"
     ]
    },
    {
     "name": "stderr",
     "output_type": "stream",
     "text": [
      "100%|██████████| 512/512 [00:24<00:00, 20.71it/s]\n",
      "  1%|          | 3/512 [00:00<00:26, 19.55it/s]"
     ]
    },
    {
     "name": "stdout",
     "output_type": "stream",
     "text": [
      "Loss at step 512: -109.870\n",
      "132\n",
      "Initial loss: -0.351\n"
     ]
    },
    {
     "name": "stderr",
     "output_type": "stream",
     "text": [
      "100%|██████████| 512/512 [00:24<00:00, 20.65it/s]\n",
      "  1%|          | 3/512 [00:00<00:23, 21.43it/s]"
     ]
    },
    {
     "name": "stdout",
     "output_type": "stream",
     "text": [
      "Loss at step 512: -77.329\n",
      "133\n",
      "Initial loss: 0.657\n"
     ]
    },
    {
     "name": "stderr",
     "output_type": "stream",
     "text": [
      "100%|██████████| 512/512 [00:24<00:00, 20.67it/s]\n",
      "  1%|          | 3/512 [00:00<00:23, 21.33it/s]"
     ]
    },
    {
     "name": "stdout",
     "output_type": "stream",
     "text": [
      "Loss at step 512: -181.628\n",
      "134\n",
      "Initial loss: -0.409\n"
     ]
    },
    {
     "name": "stderr",
     "output_type": "stream",
     "text": [
      "100%|██████████| 512/512 [00:24<00:00, 21.26it/s]\n",
      "  1%|          | 3/512 [00:00<00:22, 23.13it/s]"
     ]
    },
    {
     "name": "stdout",
     "output_type": "stream",
     "text": [
      "Loss at step 512: -95.851\n",
      "135\n",
      "Initial loss: 0.279\n"
     ]
    },
    {
     "name": "stderr",
     "output_type": "stream",
     "text": [
      "100%|██████████| 512/512 [00:24<00:00, 21.00it/s]\n",
      "  1%|          | 3/512 [00:00<00:23, 21.95it/s]"
     ]
    },
    {
     "name": "stdout",
     "output_type": "stream",
     "text": [
      "Loss at step 512: -58.022\n",
      "136\n",
      "Initial loss: 0.124\n"
     ]
    },
    {
     "name": "stderr",
     "output_type": "stream",
     "text": [
      "100%|██████████| 512/512 [00:24<00:00, 20.92it/s]\n",
      "  1%|          | 3/512 [00:00<00:22, 22.79it/s]"
     ]
    },
    {
     "name": "stdout",
     "output_type": "stream",
     "text": [
      "Loss at step 512: -75.339\n",
      "137\n",
      "Initial loss: -0.334\n"
     ]
    },
    {
     "name": "stderr",
     "output_type": "stream",
     "text": [
      "100%|██████████| 512/512 [00:24<00:00, 20.71it/s]\n",
      "  1%|          | 3/512 [00:00<00:23, 21.73it/s]"
     ]
    },
    {
     "name": "stdout",
     "output_type": "stream",
     "text": [
      "Loss at step 512: -65.754\n",
      "138\n",
      "Initial loss: 4.922\n"
     ]
    },
    {
     "name": "stderr",
     "output_type": "stream",
     "text": [
      "100%|██████████| 512/512 [00:24<00:00, 20.93it/s]\n",
      "  1%|          | 3/512 [00:00<00:22, 22.33it/s]"
     ]
    },
    {
     "name": "stdout",
     "output_type": "stream",
     "text": [
      "Loss at step 512: -86.583\n",
      "139\n",
      "Initial loss: 0.075\n"
     ]
    },
    {
     "name": "stderr",
     "output_type": "stream",
     "text": [
      "100%|██████████| 512/512 [00:24<00:00, 20.55it/s]\n",
      "  1%|          | 3/512 [00:00<00:23, 21.33it/s]"
     ]
    },
    {
     "name": "stdout",
     "output_type": "stream",
     "text": [
      "Loss at step 512: -101.547\n",
      "140\n",
      "Initial loss: -0.495\n"
     ]
    },
    {
     "name": "stderr",
     "output_type": "stream",
     "text": [
      "100%|██████████| 512/512 [00:24<00:00, 20.80it/s]\n",
      "  1%|          | 3/512 [00:00<00:22, 22.52it/s]"
     ]
    },
    {
     "name": "stdout",
     "output_type": "stream",
     "text": [
      "Loss at step 512: -32.919\n",
      "141\n",
      "Initial loss: -0.410\n"
     ]
    },
    {
     "name": "stderr",
     "output_type": "stream",
     "text": [
      "100%|██████████| 512/512 [00:24<00:00, 20.58it/s]\n",
      "  1%|          | 3/512 [00:00<00:23, 22.04it/s]"
     ]
    },
    {
     "name": "stdout",
     "output_type": "stream",
     "text": [
      "Loss at step 512: -90.712\n",
      "142\n",
      "Initial loss: -0.886\n"
     ]
    },
    {
     "name": "stderr",
     "output_type": "stream",
     "text": [
      "100%|██████████| 512/512 [00:24<00:00, 20.70it/s]\n",
      "  1%|          | 3/512 [00:00<00:22, 22.18it/s]"
     ]
    },
    {
     "name": "stdout",
     "output_type": "stream",
     "text": [
      "Loss at step 512: -95.626\n",
      "143\n",
      "Initial loss: -1.176\n"
     ]
    },
    {
     "name": "stderr",
     "output_type": "stream",
     "text": [
      "100%|██████████| 512/512 [00:25<00:00, 20.39it/s]\n",
      "  1%|          | 3/512 [00:00<00:23, 21.72it/s]"
     ]
    },
    {
     "name": "stdout",
     "output_type": "stream",
     "text": [
      "Loss at step 512: -75.080\n",
      "144\n",
      "Initial loss: 0.014\n"
     ]
    },
    {
     "name": "stderr",
     "output_type": "stream",
     "text": [
      "100%|██████████| 512/512 [00:24<00:00, 20.59it/s]\n",
      "  1%|          | 3/512 [00:00<00:22, 22.34it/s]"
     ]
    },
    {
     "name": "stdout",
     "output_type": "stream",
     "text": [
      "Loss at step 512: -112.816\n",
      "145\n",
      "Initial loss: 1.492\n"
     ]
    },
    {
     "name": "stderr",
     "output_type": "stream",
     "text": [
      "100%|██████████| 512/512 [00:24<00:00, 20.60it/s]\n",
      "  1%|          | 3/512 [00:00<00:23, 21.28it/s]"
     ]
    },
    {
     "name": "stdout",
     "output_type": "stream",
     "text": [
      "Loss at step 512: -132.191\n",
      "146\n",
      "Initial loss: 0.182\n"
     ]
    },
    {
     "name": "stderr",
     "output_type": "stream",
     "text": [
      "100%|██████████| 512/512 [00:24<00:00, 20.49it/s]\n",
      "  1%|          | 3/512 [00:00<00:23, 21.23it/s]"
     ]
    },
    {
     "name": "stdout",
     "output_type": "stream",
     "text": [
      "Loss at step 512: -60.832\n",
      "147\n",
      "Initial loss: -1.032\n"
     ]
    },
    {
     "name": "stderr",
     "output_type": "stream",
     "text": [
      "100%|██████████| 512/512 [00:24<00:00, 20.59it/s]\n",
      "  1%|          | 3/512 [00:00<00:21, 23.85it/s]"
     ]
    },
    {
     "name": "stdout",
     "output_type": "stream",
     "text": [
      "Loss at step 512: -17.914\n",
      "148\n",
      "Initial loss: 0.089\n"
     ]
    },
    {
     "name": "stderr",
     "output_type": "stream",
     "text": [
      "100%|██████████| 512/512 [00:24<00:00, 20.63it/s]\n",
      "  1%|          | 3/512 [00:00<00:22, 22.64it/s]"
     ]
    },
    {
     "name": "stdout",
     "output_type": "stream",
     "text": [
      "Loss at step 512: -117.141\n",
      "149\n",
      "Initial loss: -0.128\n"
     ]
    },
    {
     "name": "stderr",
     "output_type": "stream",
     "text": [
      "100%|██████████| 512/512 [00:24<00:00, 20.54it/s]\n",
      "  0%|          | 2/512 [00:00<00:25, 19.98it/s]"
     ]
    },
    {
     "name": "stdout",
     "output_type": "stream",
     "text": [
      "Loss at step 512: -57.793\n",
      "150\n",
      "Initial loss: -0.698\n"
     ]
    },
    {
     "name": "stderr",
     "output_type": "stream",
     "text": [
      "100%|██████████| 512/512 [00:25<00:00, 20.30it/s]\n",
      "  1%|          | 3/512 [00:00<00:23, 21.93it/s]"
     ]
    },
    {
     "name": "stdout",
     "output_type": "stream",
     "text": [
      "Loss at step 512: -47.961\n",
      "151\n",
      "Initial loss: -0.038\n"
     ]
    },
    {
     "name": "stderr",
     "output_type": "stream",
     "text": [
      "100%|██████████| 512/512 [00:25<00:00, 20.18it/s]\n",
      "  0%|          | 2/512 [00:00<00:26, 19.44it/s]"
     ]
    },
    {
     "name": "stdout",
     "output_type": "stream",
     "text": [
      "Loss at step 512: -115.249\n",
      "152\n",
      "Initial loss: 0.174\n"
     ]
    },
    {
     "name": "stderr",
     "output_type": "stream",
     "text": [
      "100%|██████████| 512/512 [00:24<00:00, 20.74it/s]\n",
      "  1%|          | 3/512 [00:00<00:22, 22.61it/s]"
     ]
    },
    {
     "name": "stdout",
     "output_type": "stream",
     "text": [
      "Loss at step 512: -129.772\n",
      "153\n",
      "Initial loss: 0.663\n"
     ]
    },
    {
     "name": "stderr",
     "output_type": "stream",
     "text": [
      "100%|██████████| 512/512 [00:24<00:00, 20.67it/s]\n",
      "  1%|          | 3/512 [00:00<00:24, 21.20it/s]"
     ]
    },
    {
     "name": "stdout",
     "output_type": "stream",
     "text": [
      "Loss at step 512: -77.558\n",
      "154\n",
      "Initial loss: -0.255\n"
     ]
    },
    {
     "name": "stderr",
     "output_type": "stream",
     "text": [
      "100%|██████████| 512/512 [00:25<00:00, 20.24it/s]\n",
      "  1%|          | 3/512 [00:00<00:23, 22.05it/s]"
     ]
    },
    {
     "name": "stdout",
     "output_type": "stream",
     "text": [
      "Loss at step 512: -69.501\n",
      "155\n",
      "Initial loss: -0.090\n"
     ]
    },
    {
     "name": "stderr",
     "output_type": "stream",
     "text": [
      "100%|██████████| 512/512 [00:24<00:00, 20.49it/s]\n",
      "  1%|          | 3/512 [00:00<00:23, 21.92it/s]"
     ]
    },
    {
     "name": "stdout",
     "output_type": "stream",
     "text": [
      "Loss at step 512: -107.734\n",
      "156\n",
      "Initial loss: -0.283\n"
     ]
    },
    {
     "name": "stderr",
     "output_type": "stream",
     "text": [
      "100%|██████████| 512/512 [00:24<00:00, 20.55it/s]\n",
      "  1%|          | 3/512 [00:00<00:23, 21.42it/s]"
     ]
    },
    {
     "name": "stdout",
     "output_type": "stream",
     "text": [
      "Loss at step 512: -52.863\n",
      "157\n",
      "Initial loss: 0.687\n"
     ]
    },
    {
     "name": "stderr",
     "output_type": "stream",
     "text": [
      "100%|██████████| 512/512 [00:24<00:00, 20.72it/s]\n",
      "  1%|          | 3/512 [00:00<00:22, 22.50it/s]"
     ]
    },
    {
     "name": "stdout",
     "output_type": "stream",
     "text": [
      "Loss at step 512: -93.329\n",
      "158\n",
      "Initial loss: -0.093\n"
     ]
    },
    {
     "name": "stderr",
     "output_type": "stream",
     "text": [
      "100%|██████████| 512/512 [00:24<00:00, 20.64it/s]\n",
      "  1%|          | 3/512 [00:00<00:23, 21.44it/s]"
     ]
    },
    {
     "name": "stdout",
     "output_type": "stream",
     "text": [
      "Loss at step 512: -72.454\n",
      "159\n",
      "Initial loss: 0.232\n"
     ]
    },
    {
     "name": "stderr",
     "output_type": "stream",
     "text": [
      "100%|██████████| 512/512 [00:24<00:00, 20.67it/s]\n",
      "  1%|          | 3/512 [00:00<00:22, 22.34it/s]"
     ]
    },
    {
     "name": "stdout",
     "output_type": "stream",
     "text": [
      "Loss at step 512: -39.990\n",
      "160\n",
      "Initial loss: -0.418\n"
     ]
    },
    {
     "name": "stderr",
     "output_type": "stream",
     "text": [
      "100%|██████████| 512/512 [00:24<00:00, 20.86it/s]\n",
      "  1%|          | 3/512 [00:00<00:23, 21.39it/s]"
     ]
    },
    {
     "name": "stdout",
     "output_type": "stream",
     "text": [
      "Loss at step 512: -83.313\n",
      "161\n",
      "Initial loss: -0.034\n"
     ]
    },
    {
     "name": "stderr",
     "output_type": "stream",
     "text": [
      "100%|██████████| 512/512 [00:24<00:00, 20.72it/s]\n",
      "  1%|          | 3/512 [00:00<00:23, 21.31it/s]"
     ]
    },
    {
     "name": "stdout",
     "output_type": "stream",
     "text": [
      "Loss at step 512: -110.726\n",
      "162\n",
      "Initial loss: 0.216\n"
     ]
    },
    {
     "name": "stderr",
     "output_type": "stream",
     "text": [
      "100%|██████████| 512/512 [00:24<00:00, 20.80it/s]\n",
      "  1%|          | 3/512 [00:00<00:22, 22.74it/s]"
     ]
    },
    {
     "name": "stdout",
     "output_type": "stream",
     "text": [
      "Loss at step 512: -76.750\n",
      "163\n",
      "Initial loss: 0.622\n"
     ]
    },
    {
     "name": "stderr",
     "output_type": "stream",
     "text": [
      "100%|██████████| 512/512 [00:25<00:00, 20.34it/s]\n",
      "  1%|          | 3/512 [00:00<00:24, 21.18it/s]"
     ]
    },
    {
     "name": "stdout",
     "output_type": "stream",
     "text": [
      "Loss at step 512: -93.229\n",
      "164\n",
      "Initial loss: -0.097\n"
     ]
    },
    {
     "name": "stderr",
     "output_type": "stream",
     "text": [
      "100%|██████████| 512/512 [00:24<00:00, 20.61it/s]\n",
      "  1%|          | 3/512 [00:00<00:22, 22.93it/s]"
     ]
    },
    {
     "name": "stdout",
     "output_type": "stream",
     "text": [
      "Loss at step 512: -70.948\n",
      "165\n",
      "Initial loss: 2.668\n"
     ]
    },
    {
     "name": "stderr",
     "output_type": "stream",
     "text": [
      "100%|██████████| 512/512 [00:24<00:00, 20.65it/s]\n",
      "  1%|          | 3/512 [00:00<00:21, 23.49it/s]"
     ]
    },
    {
     "name": "stdout",
     "output_type": "stream",
     "text": [
      "Loss at step 512: -86.280\n",
      "166\n",
      "Initial loss: 0.209\n"
     ]
    },
    {
     "name": "stderr",
     "output_type": "stream",
     "text": [
      "100%|██████████| 512/512 [00:24<00:00, 20.63it/s]\n",
      "  1%|          | 3/512 [00:00<00:23, 21.61it/s]"
     ]
    },
    {
     "name": "stdout",
     "output_type": "stream",
     "text": [
      "Loss at step 512: -60.531\n",
      "167\n",
      "Initial loss: 0.104\n"
     ]
    },
    {
     "name": "stderr",
     "output_type": "stream",
     "text": [
      "100%|██████████| 512/512 [00:25<00:00, 20.37it/s]\n",
      "  0%|          | 2/512 [00:00<00:28, 17.89it/s]"
     ]
    },
    {
     "name": "stdout",
     "output_type": "stream",
     "text": [
      "Loss at step 512: -52.794\n",
      "168\n",
      "Initial loss: -0.132\n"
     ]
    },
    {
     "name": "stderr",
     "output_type": "stream",
     "text": [
      "100%|██████████| 512/512 [00:24<00:00, 20.62it/s]\n",
      "  1%|          | 3/512 [00:00<00:23, 21.92it/s]"
     ]
    },
    {
     "name": "stdout",
     "output_type": "stream",
     "text": [
      "Loss at step 512: -157.062\n",
      "169\n",
      "Initial loss: -0.014\n"
     ]
    },
    {
     "name": "stderr",
     "output_type": "stream",
     "text": [
      "100%|██████████| 512/512 [00:25<00:00, 20.41it/s]\n",
      "  1%|          | 3/512 [00:00<00:24, 21.16it/s]"
     ]
    },
    {
     "name": "stdout",
     "output_type": "stream",
     "text": [
      "Loss at step 512: -98.226\n",
      "170\n",
      "Initial loss: 0.388\n"
     ]
    },
    {
     "name": "stderr",
     "output_type": "stream",
     "text": [
      "100%|██████████| 512/512 [00:24<00:00, 20.56it/s]\n",
      "  1%|          | 3/512 [00:00<00:24, 20.95it/s]"
     ]
    },
    {
     "name": "stdout",
     "output_type": "stream",
     "text": [
      "Loss at step 512: -121.150\n",
      "171\n",
      "Initial loss: -0.567\n"
     ]
    },
    {
     "name": "stderr",
     "output_type": "stream",
     "text": [
      "100%|██████████| 512/512 [00:24<00:00, 20.58it/s]\n",
      "  1%|          | 3/512 [00:00<00:24, 20.92it/s]"
     ]
    },
    {
     "name": "stdout",
     "output_type": "stream",
     "text": [
      "Loss at step 512: -102.746\n",
      "172\n",
      "Initial loss: 2.207\n"
     ]
    },
    {
     "name": "stderr",
     "output_type": "stream",
     "text": [
      "100%|██████████| 512/512 [00:25<00:00, 20.24it/s]\n",
      "  1%|          | 3/512 [00:00<00:24, 20.65it/s]"
     ]
    },
    {
     "name": "stdout",
     "output_type": "stream",
     "text": [
      "Loss at step 512: -87.092\n",
      "173\n",
      "Initial loss: 0.380\n"
     ]
    },
    {
     "name": "stderr",
     "output_type": "stream",
     "text": [
      "100%|██████████| 512/512 [00:25<00:00, 20.37it/s]\n",
      "  1%|          | 3/512 [00:00<00:23, 21.44it/s]"
     ]
    },
    {
     "name": "stdout",
     "output_type": "stream",
     "text": [
      "Loss at step 512: -117.786\n",
      "174\n",
      "Initial loss: 4.751\n"
     ]
    },
    {
     "name": "stderr",
     "output_type": "stream",
     "text": [
      "100%|██████████| 512/512 [00:25<00:00, 20.34it/s]\n",
      "  1%|          | 3/512 [00:00<00:22, 22.43it/s]"
     ]
    },
    {
     "name": "stdout",
     "output_type": "stream",
     "text": [
      "Loss at step 512: -113.268\n",
      "175\n",
      "Initial loss: 0.026\n"
     ]
    },
    {
     "name": "stderr",
     "output_type": "stream",
     "text": [
      "100%|██████████| 512/512 [00:24<00:00, 20.70it/s]\n",
      "  1%|          | 3/512 [00:00<00:23, 21.31it/s]"
     ]
    },
    {
     "name": "stdout",
     "output_type": "stream",
     "text": [
      "Loss at step 512: -86.639\n",
      "176\n",
      "Initial loss: 3.293\n"
     ]
    },
    {
     "name": "stderr",
     "output_type": "stream",
     "text": [
      "100%|██████████| 512/512 [00:25<00:00, 20.32it/s]\n",
      "  1%|          | 3/512 [00:00<00:24, 21.18it/s]"
     ]
    },
    {
     "name": "stdout",
     "output_type": "stream",
     "text": [
      "Loss at step 512: -71.663\n",
      "177\n",
      "Initial loss: -0.106\n"
     ]
    },
    {
     "name": "stderr",
     "output_type": "stream",
     "text": [
      "100%|██████████| 512/512 [00:24<00:00, 20.72it/s]\n",
      "  1%|          | 3/512 [00:00<00:22, 22.82it/s]"
     ]
    },
    {
     "name": "stdout",
     "output_type": "stream",
     "text": [
      "Loss at step 512: -108.208\n",
      "178\n",
      "Initial loss: -0.121\n"
     ]
    },
    {
     "name": "stderr",
     "output_type": "stream",
     "text": [
      "100%|██████████| 512/512 [00:24<00:00, 20.58it/s]\n",
      "  1%|          | 3/512 [00:00<00:23, 22.11it/s]"
     ]
    },
    {
     "name": "stdout",
     "output_type": "stream",
     "text": [
      "Loss at step 512: -114.572\n",
      "179\n",
      "Initial loss: -1.092\n"
     ]
    },
    {
     "name": "stderr",
     "output_type": "stream",
     "text": [
      "100%|██████████| 512/512 [00:24<00:00, 20.62it/s]\n",
      "  1%|          | 3/512 [00:00<00:22, 22.18it/s]"
     ]
    },
    {
     "name": "stdout",
     "output_type": "stream",
     "text": [
      "Loss at step 512: -57.465\n",
      "180\n",
      "Initial loss: 0.119\n"
     ]
    },
    {
     "name": "stderr",
     "output_type": "stream",
     "text": [
      "100%|██████████| 512/512 [00:24<00:00, 20.70it/s]\n",
      "  0%|          | 0/512 [00:00<?, ?it/s]"
     ]
    },
    {
     "name": "stdout",
     "output_type": "stream",
     "text": [
      "Loss at step 512: -117.768\n",
      "181\n",
      "Initial loss: 3.096\n"
     ]
    },
    {
     "name": "stderr",
     "output_type": "stream",
     "text": [
      "100%|██████████| 512/512 [00:25<00:00, 20.38it/s]\n",
      "  1%|          | 3/512 [00:00<00:22, 22.29it/s]"
     ]
    },
    {
     "name": "stdout",
     "output_type": "stream",
     "text": [
      "Loss at step 512: -111.095\n",
      "182\n",
      "Initial loss: -0.529\n"
     ]
    },
    {
     "name": "stderr",
     "output_type": "stream",
     "text": [
      "100%|██████████| 512/512 [00:25<00:00, 20.41it/s]\n",
      "  1%|          | 3/512 [00:00<00:24, 20.63it/s]"
     ]
    },
    {
     "name": "stdout",
     "output_type": "stream",
     "text": [
      "Loss at step 512: -96.432\n",
      "183\n",
      "Initial loss: 0.068\n"
     ]
    },
    {
     "name": "stderr",
     "output_type": "stream",
     "text": [
      "100%|██████████| 512/512 [00:25<00:00, 20.32it/s]\n",
      "  1%|          | 3/512 [00:00<00:24, 20.95it/s]"
     ]
    },
    {
     "name": "stdout",
     "output_type": "stream",
     "text": [
      "Loss at step 512: -99.254\n",
      "184\n",
      "Initial loss: -0.051\n"
     ]
    },
    {
     "name": "stderr",
     "output_type": "stream",
     "text": [
      "100%|██████████| 512/512 [00:25<00:00, 20.42it/s]\n",
      "  1%|          | 3/512 [00:00<00:23, 21.58it/s]"
     ]
    },
    {
     "name": "stdout",
     "output_type": "stream",
     "text": [
      "Loss at step 512: -97.673\n",
      "185\n",
      "Initial loss: -0.419\n"
     ]
    },
    {
     "name": "stderr",
     "output_type": "stream",
     "text": [
      "100%|██████████| 512/512 [00:24<00:00, 20.61it/s]\n",
      "  1%|          | 3/512 [00:00<00:23, 21.85it/s]"
     ]
    },
    {
     "name": "stdout",
     "output_type": "stream",
     "text": [
      "Loss at step 512: -36.144\n",
      "186\n",
      "Initial loss: -0.308\n"
     ]
    },
    {
     "name": "stderr",
     "output_type": "stream",
     "text": [
      "100%|██████████| 512/512 [00:24<00:00, 20.53it/s]\n",
      "  1%|          | 3/512 [00:00<00:22, 22.36it/s]"
     ]
    },
    {
     "name": "stdout",
     "output_type": "stream",
     "text": [
      "Loss at step 512: -62.669\n",
      "187\n",
      "Initial loss: -1.769\n"
     ]
    },
    {
     "name": "stderr",
     "output_type": "stream",
     "text": [
      "100%|██████████| 512/512 [00:24<00:00, 20.54it/s]\n",
      "  1%|          | 3/512 [00:00<00:22, 22.73it/s]"
     ]
    },
    {
     "name": "stdout",
     "output_type": "stream",
     "text": [
      "Loss at step 512: -61.650\n",
      "188\n",
      "Initial loss: 0.159\n"
     ]
    },
    {
     "name": "stderr",
     "output_type": "stream",
     "text": [
      "100%|██████████| 512/512 [00:25<00:00, 20.42it/s]\n",
      "  1%|          | 3/512 [00:00<00:24, 20.50it/s]"
     ]
    },
    {
     "name": "stdout",
     "output_type": "stream",
     "text": [
      "Loss at step 512: -69.354\n",
      "189\n",
      "Initial loss: -0.444\n"
     ]
    },
    {
     "name": "stderr",
     "output_type": "stream",
     "text": [
      "100%|██████████| 512/512 [00:25<00:00, 20.46it/s]\n",
      "  1%|          | 3/512 [00:00<00:23, 21.97it/s]"
     ]
    },
    {
     "name": "stdout",
     "output_type": "stream",
     "text": [
      "Loss at step 512: -79.607\n",
      "190\n",
      "Initial loss: 0.865\n"
     ]
    },
    {
     "name": "stderr",
     "output_type": "stream",
     "text": [
      "100%|██████████| 512/512 [00:25<00:00, 20.13it/s]\n",
      "  1%|          | 3/512 [00:00<00:24, 20.82it/s]"
     ]
    },
    {
     "name": "stdout",
     "output_type": "stream",
     "text": [
      "Loss at step 512: -39.909\n",
      "191\n",
      "Initial loss: 0.071\n"
     ]
    },
    {
     "name": "stderr",
     "output_type": "stream",
     "text": [
      "100%|██████████| 512/512 [00:24<00:00, 20.61it/s]\n",
      "  1%|          | 3/512 [00:00<00:22, 22.21it/s]"
     ]
    },
    {
     "name": "stdout",
     "output_type": "stream",
     "text": [
      "Loss at step 512: -67.998\n",
      "192\n",
      "Initial loss: 0.374\n"
     ]
    },
    {
     "name": "stderr",
     "output_type": "stream",
     "text": [
      "100%|██████████| 512/512 [00:25<00:00, 20.29it/s]\n",
      "  1%|          | 3/512 [00:00<00:23, 21.58it/s]"
     ]
    },
    {
     "name": "stdout",
     "output_type": "stream",
     "text": [
      "Loss at step 512: -72.868\n",
      "193\n",
      "Initial loss: -0.711\n"
     ]
    },
    {
     "name": "stderr",
     "output_type": "stream",
     "text": [
      "100%|██████████| 512/512 [00:25<00:00, 20.47it/s]\n",
      "  1%|          | 3/512 [00:00<00:23, 21.37it/s]"
     ]
    },
    {
     "name": "stdout",
     "output_type": "stream",
     "text": [
      "Loss at step 512: -131.753\n",
      "194\n",
      "Initial loss: -1.121\n"
     ]
    },
    {
     "name": "stderr",
     "output_type": "stream",
     "text": [
      "100%|██████████| 512/512 [00:25<00:00, 20.44it/s]\n",
      "  1%|          | 3/512 [00:00<00:22, 22.15it/s]"
     ]
    },
    {
     "name": "stdout",
     "output_type": "stream",
     "text": [
      "Loss at step 512: -91.761\n",
      "195\n",
      "Initial loss: 0.061\n"
     ]
    },
    {
     "name": "stderr",
     "output_type": "stream",
     "text": [
      "100%|██████████| 512/512 [00:25<00:00, 20.32it/s]\n",
      "  1%|          | 3/512 [00:00<00:24, 20.68it/s]"
     ]
    },
    {
     "name": "stdout",
     "output_type": "stream",
     "text": [
      "Loss at step 512: -46.011\n",
      "196\n",
      "Initial loss: 0.787\n"
     ]
    },
    {
     "name": "stderr",
     "output_type": "stream",
     "text": [
      "100%|██████████| 512/512 [00:25<00:00, 20.26it/s]\n",
      "  1%|          | 3/512 [00:00<00:23, 22.07it/s]"
     ]
    },
    {
     "name": "stdout",
     "output_type": "stream",
     "text": [
      "Loss at step 512: -34.122\n",
      "197\n",
      "Initial loss: 1.601\n"
     ]
    },
    {
     "name": "stderr",
     "output_type": "stream",
     "text": [
      "100%|██████████| 512/512 [00:24<00:00, 20.51it/s]\n",
      "  1%|          | 3/512 [00:00<00:22, 22.72it/s]"
     ]
    },
    {
     "name": "stdout",
     "output_type": "stream",
     "text": [
      "Loss at step 512: -43.713\n",
      "198\n",
      "Initial loss: -0.876\n"
     ]
    },
    {
     "name": "stderr",
     "output_type": "stream",
     "text": [
      "100%|██████████| 512/512 [00:25<00:00, 20.38it/s]\n",
      "  1%|          | 3/512 [00:00<00:23, 21.23it/s]"
     ]
    },
    {
     "name": "stdout",
     "output_type": "stream",
     "text": [
      "Loss at step 512: -74.101\n",
      "199\n",
      "Initial loss: 0.090\n"
     ]
    },
    {
     "name": "stderr",
     "output_type": "stream",
     "text": [
      "100%|██████████| 512/512 [00:25<00:00, 20.19it/s]\n",
      "  1%|          | 3/512 [00:00<00:22, 22.37it/s]"
     ]
    },
    {
     "name": "stdout",
     "output_type": "stream",
     "text": [
      "Loss at step 512: -84.634\n",
      "200\n",
      "Initial loss: 0.056\n"
     ]
    },
    {
     "name": "stderr",
     "output_type": "stream",
     "text": [
      "100%|██████████| 512/512 [00:24<00:00, 20.56it/s]\n",
      "  1%|          | 3/512 [00:00<00:21, 23.59it/s]"
     ]
    },
    {
     "name": "stdout",
     "output_type": "stream",
     "text": [
      "Loss at step 512: -136.810\n",
      "201\n",
      "Initial loss: -0.044\n"
     ]
    },
    {
     "name": "stderr",
     "output_type": "stream",
     "text": [
      "100%|██████████| 512/512 [00:24<00:00, 21.05it/s]\n",
      "  1%|          | 3/512 [00:00<00:24, 21.09it/s]"
     ]
    },
    {
     "name": "stdout",
     "output_type": "stream",
     "text": [
      "Loss at step 512: -141.256\n",
      "202\n",
      "Initial loss: -0.873\n"
     ]
    },
    {
     "name": "stderr",
     "output_type": "stream",
     "text": [
      "100%|██████████| 512/512 [00:25<00:00, 20.20it/s]\n",
      "  1%|          | 3/512 [00:00<00:22, 22.38it/s]"
     ]
    },
    {
     "name": "stdout",
     "output_type": "stream",
     "text": [
      "Loss at step 512: -113.692\n",
      "203\n",
      "Initial loss: -1.060\n"
     ]
    },
    {
     "name": "stderr",
     "output_type": "stream",
     "text": [
      "100%|██████████| 512/512 [00:25<00:00, 20.32it/s]\n",
      "  1%|          | 3/512 [00:00<00:22, 22.65it/s]"
     ]
    },
    {
     "name": "stdout",
     "output_type": "stream",
     "text": [
      "Loss at step 512: -58.663\n",
      "204\n",
      "Initial loss: 0.141\n"
     ]
    },
    {
     "name": "stderr",
     "output_type": "stream",
     "text": [
      "100%|██████████| 512/512 [00:25<00:00, 20.48it/s]\n",
      "  1%|          | 3/512 [00:00<00:24, 21.07it/s]"
     ]
    },
    {
     "name": "stdout",
     "output_type": "stream",
     "text": [
      "Loss at step 512: -130.678\n",
      "205\n",
      "Initial loss: 0.034\n"
     ]
    },
    {
     "name": "stderr",
     "output_type": "stream",
     "text": [
      "100%|██████████| 512/512 [00:24<00:00, 20.50it/s]\n",
      "  1%|          | 3/512 [00:00<00:23, 22.00it/s]"
     ]
    },
    {
     "name": "stdout",
     "output_type": "stream",
     "text": [
      "Loss at step 512: -205.120\n",
      "206\n",
      "Initial loss: -0.671\n"
     ]
    },
    {
     "name": "stderr",
     "output_type": "stream",
     "text": [
      "100%|██████████| 512/512 [00:25<00:00, 20.05it/s]\n",
      "  1%|          | 3/512 [00:00<00:23, 21.75it/s]"
     ]
    },
    {
     "name": "stdout",
     "output_type": "stream",
     "text": [
      "Loss at step 512: -70.226\n",
      "207\n",
      "Initial loss: 0.072\n"
     ]
    },
    {
     "name": "stderr",
     "output_type": "stream",
     "text": [
      "100%|██████████| 512/512 [00:25<00:00, 20.36it/s]\n",
      "  1%|          | 3/512 [00:00<00:24, 20.64it/s]"
     ]
    },
    {
     "name": "stdout",
     "output_type": "stream",
     "text": [
      "Loss at step 512: -55.678\n",
      "208\n",
      "Initial loss: -0.812\n"
     ]
    },
    {
     "name": "stderr",
     "output_type": "stream",
     "text": [
      "100%|██████████| 512/512 [00:24<00:00, 20.52it/s]\n",
      "  1%|          | 3/512 [00:00<00:24, 20.91it/s]"
     ]
    },
    {
     "name": "stdout",
     "output_type": "stream",
     "text": [
      "Loss at step 512: -72.795\n",
      "209\n",
      "Initial loss: -0.648\n"
     ]
    },
    {
     "name": "stderr",
     "output_type": "stream",
     "text": [
      "100%|██████████| 512/512 [00:25<00:00, 20.32it/s]\n",
      "  1%|          | 3/512 [00:00<00:23, 21.48it/s]"
     ]
    },
    {
     "name": "stdout",
     "output_type": "stream",
     "text": [
      "Loss at step 512: -35.398\n",
      "210\n",
      "Initial loss: 1.510\n"
     ]
    },
    {
     "name": "stderr",
     "output_type": "stream",
     "text": [
      "100%|██████████| 512/512 [00:25<00:00, 20.12it/s]\n",
      "  0%|          | 2/512 [00:00<00:25, 19.74it/s]"
     ]
    },
    {
     "name": "stdout",
     "output_type": "stream",
     "text": [
      "Loss at step 512: -136.705\n",
      "211\n",
      "Initial loss: -0.096\n"
     ]
    },
    {
     "name": "stderr",
     "output_type": "stream",
     "text": [
      "100%|██████████| 512/512 [00:25<00:00, 20.14it/s]\n",
      "  1%|          | 3/512 [00:00<00:24, 20.91it/s]"
     ]
    },
    {
     "name": "stdout",
     "output_type": "stream",
     "text": [
      "Loss at step 512: -87.468\n",
      "212\n",
      "Initial loss: -0.341\n"
     ]
    },
    {
     "name": "stderr",
     "output_type": "stream",
     "text": [
      "100%|██████████| 512/512 [00:24<00:00, 20.72it/s]\n",
      "  1%|          | 3/512 [00:00<00:22, 22.42it/s]"
     ]
    },
    {
     "name": "stdout",
     "output_type": "stream",
     "text": [
      "Loss at step 512: -94.407\n",
      "213\n",
      "Initial loss: 1.405\n"
     ]
    },
    {
     "name": "stderr",
     "output_type": "stream",
     "text": [
      "100%|██████████| 512/512 [00:24<00:00, 20.67it/s]\n",
      "  1%|          | 3/512 [00:00<00:22, 22.34it/s]"
     ]
    },
    {
     "name": "stdout",
     "output_type": "stream",
     "text": [
      "Loss at step 512: -59.034\n",
      "214\n",
      "Initial loss: -0.481\n"
     ]
    },
    {
     "name": "stderr",
     "output_type": "stream",
     "text": [
      "100%|██████████| 512/512 [00:25<00:00, 20.20it/s]\n",
      "  1%|          | 3/512 [00:00<00:23, 21.77it/s]"
     ]
    },
    {
     "name": "stdout",
     "output_type": "stream",
     "text": [
      "Loss at step 512: -90.700\n",
      "215\n",
      "Initial loss: -0.698\n"
     ]
    },
    {
     "name": "stderr",
     "output_type": "stream",
     "text": [
      "100%|██████████| 512/512 [00:24<00:00, 20.81it/s]\n",
      "  1%|          | 3/512 [00:00<00:22, 22.27it/s]"
     ]
    },
    {
     "name": "stdout",
     "output_type": "stream",
     "text": [
      "Loss at step 512: -91.879\n",
      "216\n",
      "Initial loss: 0.052\n"
     ]
    },
    {
     "name": "stderr",
     "output_type": "stream",
     "text": [
      "100%|██████████| 512/512 [00:25<00:00, 19.97it/s]\n",
      "  1%|          | 3/512 [00:00<00:22, 22.69it/s]"
     ]
    },
    {
     "name": "stdout",
     "output_type": "stream",
     "text": [
      "Loss at step 512: -167.627\n",
      "217\n",
      "Initial loss: 0.155\n"
     ]
    },
    {
     "name": "stderr",
     "output_type": "stream",
     "text": [
      "100%|██████████| 512/512 [00:25<00:00, 20.42it/s]\n",
      "  1%|          | 3/512 [00:00<00:24, 20.85it/s]"
     ]
    },
    {
     "name": "stdout",
     "output_type": "stream",
     "text": [
      "Loss at step 512: -233.596\n",
      "218\n",
      "Initial loss: 1.724\n"
     ]
    },
    {
     "name": "stderr",
     "output_type": "stream",
     "text": [
      "100%|██████████| 512/512 [00:25<00:00, 20.23it/s]\n",
      "  1%|          | 3/512 [00:00<00:23, 21.57it/s]"
     ]
    },
    {
     "name": "stdout",
     "output_type": "stream",
     "text": [
      "Loss at step 512: -49.634\n",
      "219\n",
      "Initial loss: -0.110\n"
     ]
    },
    {
     "name": "stderr",
     "output_type": "stream",
     "text": [
      "100%|██████████| 512/512 [00:25<00:00, 20.02it/s]\n",
      "  1%|          | 3/512 [00:00<00:22, 22.17it/s]"
     ]
    },
    {
     "name": "stdout",
     "output_type": "stream",
     "text": [
      "Loss at step 512: -180.866\n",
      "220\n",
      "Initial loss: -1.210\n"
     ]
    },
    {
     "name": "stderr",
     "output_type": "stream",
     "text": [
      "100%|██████████| 512/512 [00:25<00:00, 20.30it/s]\n",
      "  1%|          | 3/512 [00:00<00:24, 21.04it/s]"
     ]
    },
    {
     "name": "stdout",
     "output_type": "stream",
     "text": [
      "Loss at step 512: -47.464\n",
      "221\n",
      "Initial loss: 0.172\n"
     ]
    },
    {
     "name": "stderr",
     "output_type": "stream",
     "text": [
      "100%|██████████| 512/512 [00:25<00:00, 20.23it/s]\n",
      "  1%|          | 3/512 [00:00<00:23, 21.52it/s]"
     ]
    },
    {
     "name": "stdout",
     "output_type": "stream",
     "text": [
      "Loss at step 512: -79.362\n",
      "222\n",
      "Initial loss: 0.086\n"
     ]
    },
    {
     "name": "stderr",
     "output_type": "stream",
     "text": [
      "100%|██████████| 512/512 [00:25<00:00, 20.31it/s]\n",
      "  1%|          | 3/512 [00:00<00:25, 20.09it/s]"
     ]
    },
    {
     "name": "stdout",
     "output_type": "stream",
     "text": [
      "Loss at step 512: -125.705\n",
      "223\n",
      "Initial loss: 0.179\n"
     ]
    },
    {
     "name": "stderr",
     "output_type": "stream",
     "text": [
      "100%|██████████| 512/512 [00:25<00:00, 19.89it/s]\n",
      "  1%|          | 3/512 [00:00<00:23, 21.29it/s]"
     ]
    },
    {
     "name": "stdout",
     "output_type": "stream",
     "text": [
      "Loss at step 512: -120.498\n",
      "224\n",
      "Initial loss: -2.454\n"
     ]
    },
    {
     "name": "stderr",
     "output_type": "stream",
     "text": [
      "100%|██████████| 512/512 [00:25<00:00, 19.88it/s]\n",
      "  1%|          | 3/512 [00:00<00:24, 20.94it/s]"
     ]
    },
    {
     "name": "stdout",
     "output_type": "stream",
     "text": [
      "Loss at step 512: -38.170\n",
      "225\n",
      "Initial loss: 4.392\n"
     ]
    },
    {
     "name": "stderr",
     "output_type": "stream",
     "text": [
      "100%|██████████| 512/512 [00:25<00:00, 19.98it/s]\n",
      "  1%|          | 3/512 [00:00<00:23, 21.46it/s]"
     ]
    },
    {
     "name": "stdout",
     "output_type": "stream",
     "text": [
      "Loss at step 512: -84.539\n",
      "226\n",
      "Initial loss: -0.486\n"
     ]
    },
    {
     "name": "stderr",
     "output_type": "stream",
     "text": [
      "100%|██████████| 512/512 [00:25<00:00, 20.38it/s]\n",
      "  1%|          | 3/512 [00:00<00:22, 22.29it/s]"
     ]
    },
    {
     "name": "stdout",
     "output_type": "stream",
     "text": [
      "Loss at step 512: -76.695\n",
      "227\n",
      "Initial loss: -0.274\n"
     ]
    },
    {
     "name": "stderr",
     "output_type": "stream",
     "text": [
      "100%|██████████| 512/512 [00:25<00:00, 20.27it/s]\n",
      "  1%|          | 3/512 [00:00<00:23, 21.94it/s]"
     ]
    },
    {
     "name": "stdout",
     "output_type": "stream",
     "text": [
      "Loss at step 512: -117.454\n",
      "228\n",
      "Initial loss: -1.430\n"
     ]
    },
    {
     "name": "stderr",
     "output_type": "stream",
     "text": [
      "100%|██████████| 512/512 [00:25<00:00, 20.19it/s]\n",
      "  1%|          | 3/512 [00:00<00:24, 20.95it/s]"
     ]
    },
    {
     "name": "stdout",
     "output_type": "stream",
     "text": [
      "Loss at step 512: -54.729\n",
      "229\n",
      "Initial loss: -0.579\n"
     ]
    },
    {
     "name": "stderr",
     "output_type": "stream",
     "text": [
      "100%|██████████| 512/512 [00:25<00:00, 20.27it/s]\n",
      "  1%|          | 3/512 [00:00<00:23, 22.04it/s]"
     ]
    },
    {
     "name": "stdout",
     "output_type": "stream",
     "text": [
      "Loss at step 512: -50.079\n",
      "230\n",
      "Initial loss: -0.919\n"
     ]
    },
    {
     "name": "stderr",
     "output_type": "stream",
     "text": [
      "100%|██████████| 512/512 [00:25<00:00, 20.17it/s]\n",
      "  1%|          | 3/512 [00:00<00:24, 20.76it/s]"
     ]
    },
    {
     "name": "stdout",
     "output_type": "stream",
     "text": [
      "Loss at step 512: -61.839\n",
      "231\n",
      "Initial loss: -0.190\n"
     ]
    },
    {
     "name": "stderr",
     "output_type": "stream",
     "text": [
      "100%|██████████| 512/512 [00:25<00:00, 20.01it/s]\n",
      "  1%|          | 3/512 [00:00<00:24, 20.83it/s]"
     ]
    },
    {
     "name": "stdout",
     "output_type": "stream",
     "text": [
      "Loss at step 512: -204.306\n",
      "232\n",
      "Initial loss: 0.408\n"
     ]
    },
    {
     "name": "stderr",
     "output_type": "stream",
     "text": [
      "100%|██████████| 512/512 [00:25<00:00, 20.05it/s]\n",
      "  1%|          | 3/512 [00:00<00:23, 22.08it/s]"
     ]
    },
    {
     "name": "stdout",
     "output_type": "stream",
     "text": [
      "Loss at step 512: -144.253\n",
      "233\n",
      "Initial loss: -0.246\n"
     ]
    },
    {
     "name": "stderr",
     "output_type": "stream",
     "text": [
      "100%|██████████| 512/512 [00:24<00:00, 20.59it/s]\n",
      "  1%|          | 3/512 [00:00<00:24, 20.78it/s]"
     ]
    },
    {
     "name": "stdout",
     "output_type": "stream",
     "text": [
      "Loss at step 512: -107.957\n",
      "234\n",
      "Initial loss: -0.002\n"
     ]
    },
    {
     "name": "stderr",
     "output_type": "stream",
     "text": [
      "100%|██████████| 512/512 [00:25<00:00, 20.07it/s]\n",
      "  1%|          | 3/512 [00:00<00:25, 20.12it/s]"
     ]
    },
    {
     "name": "stdout",
     "output_type": "stream",
     "text": [
      "Loss at step 512: -137.747\n",
      "235\n",
      "Initial loss: -2.982\n"
     ]
    },
    {
     "name": "stderr",
     "output_type": "stream",
     "text": [
      "100%|██████████| 512/512 [00:25<00:00, 19.84it/s]\n",
      "  1%|          | 3/512 [00:00<00:25, 20.27it/s]"
     ]
    },
    {
     "name": "stdout",
     "output_type": "stream",
     "text": [
      "Loss at step 512: -34.523\n",
      "236\n",
      "Initial loss: 0.013\n"
     ]
    },
    {
     "name": "stderr",
     "output_type": "stream",
     "text": [
      "100%|██████████| 512/512 [00:25<00:00, 20.44it/s]\n",
      "  1%|          | 3/512 [00:00<00:22, 22.73it/s]"
     ]
    },
    {
     "name": "stdout",
     "output_type": "stream",
     "text": [
      "Loss at step 512: -72.701\n",
      "237\n",
      "Initial loss: -0.982\n"
     ]
    },
    {
     "name": "stderr",
     "output_type": "stream",
     "text": [
      "100%|██████████| 512/512 [00:25<00:00, 20.33it/s]\n",
      "  1%|          | 3/512 [00:00<00:24, 20.98it/s]"
     ]
    },
    {
     "name": "stdout",
     "output_type": "stream",
     "text": [
      "Loss at step 512: -27.859\n",
      "238\n",
      "Initial loss: 1.383\n"
     ]
    },
    {
     "name": "stderr",
     "output_type": "stream",
     "text": [
      "100%|██████████| 512/512 [00:25<00:00, 20.09it/s]\n",
      "  1%|          | 3/512 [00:00<00:22, 22.30it/s]"
     ]
    },
    {
     "name": "stdout",
     "output_type": "stream",
     "text": [
      "Loss at step 512: -61.975\n",
      "239\n",
      "Initial loss: -0.295\n"
     ]
    },
    {
     "name": "stderr",
     "output_type": "stream",
     "text": [
      "100%|██████████| 512/512 [00:25<00:00, 19.97it/s]\n",
      "  1%|          | 3/512 [00:00<00:25, 19.92it/s]"
     ]
    },
    {
     "name": "stdout",
     "output_type": "stream",
     "text": [
      "Loss at step 512: -47.451\n",
      "240\n",
      "Initial loss: 0.578\n"
     ]
    },
    {
     "name": "stderr",
     "output_type": "stream",
     "text": [
      "100%|██████████| 512/512 [00:25<00:00, 20.20it/s]\n",
      "  1%|          | 3/512 [00:00<00:22, 22.42it/s]"
     ]
    },
    {
     "name": "stdout",
     "output_type": "stream",
     "text": [
      "Loss at step 512: -104.273\n",
      "241\n",
      "Initial loss: 0.269\n"
     ]
    },
    {
     "name": "stderr",
     "output_type": "stream",
     "text": [
      "100%|██████████| 512/512 [00:25<00:00, 20.28it/s]\n",
      "  1%|          | 3/512 [00:00<00:23, 21.21it/s]"
     ]
    },
    {
     "name": "stdout",
     "output_type": "stream",
     "text": [
      "Loss at step 512: -105.613\n",
      "242\n",
      "Initial loss: 0.155\n"
     ]
    },
    {
     "name": "stderr",
     "output_type": "stream",
     "text": [
      "100%|██████████| 512/512 [00:25<00:00, 20.12it/s]\n",
      "  1%|          | 3/512 [00:00<00:24, 20.71it/s]"
     ]
    },
    {
     "name": "stdout",
     "output_type": "stream",
     "text": [
      "Loss at step 512: -57.686\n",
      "243\n",
      "Initial loss: -0.354\n"
     ]
    },
    {
     "name": "stderr",
     "output_type": "stream",
     "text": [
      "100%|██████████| 512/512 [00:25<00:00, 19.99it/s]\n",
      "  1%|          | 3/512 [00:00<00:25, 20.28it/s]"
     ]
    },
    {
     "name": "stdout",
     "output_type": "stream",
     "text": [
      "Loss at step 512: -20.057\n",
      "244\n",
      "Initial loss: 0.398\n"
     ]
    },
    {
     "name": "stderr",
     "output_type": "stream",
     "text": [
      "100%|██████████| 512/512 [00:25<00:00, 20.06it/s]\n",
      "  1%|          | 3/512 [00:00<00:24, 20.82it/s]"
     ]
    },
    {
     "name": "stdout",
     "output_type": "stream",
     "text": [
      "Loss at step 512: -187.580\n",
      "245\n",
      "Initial loss: 0.610\n"
     ]
    },
    {
     "name": "stderr",
     "output_type": "stream",
     "text": [
      "100%|██████████| 512/512 [00:25<00:00, 20.15it/s]\n",
      "  1%|          | 3/512 [00:00<00:23, 21.66it/s]"
     ]
    },
    {
     "name": "stdout",
     "output_type": "stream",
     "text": [
      "Loss at step 512: -82.450\n",
      "246\n",
      "Initial loss: 0.370\n"
     ]
    },
    {
     "name": "stderr",
     "output_type": "stream",
     "text": [
      "100%|██████████| 512/512 [00:25<00:00, 20.15it/s]\n",
      "  1%|          | 3/512 [00:00<00:24, 20.97it/s]"
     ]
    },
    {
     "name": "stdout",
     "output_type": "stream",
     "text": [
      "Loss at step 512: -45.997\n",
      "247\n",
      "Initial loss: -0.675\n"
     ]
    },
    {
     "name": "stderr",
     "output_type": "stream",
     "text": [
      "100%|██████████| 512/512 [00:25<00:00, 20.32it/s]\n",
      "  1%|          | 3/512 [00:00<00:23, 21.25it/s]"
     ]
    },
    {
     "name": "stdout",
     "output_type": "stream",
     "text": [
      "Loss at step 512: -130.007\n",
      "248\n",
      "Initial loss: -0.147\n"
     ]
    },
    {
     "name": "stderr",
     "output_type": "stream",
     "text": [
      "100%|██████████| 512/512 [00:25<00:00, 20.29it/s]\n",
      "  1%|          | 3/512 [00:00<00:24, 20.81it/s]"
     ]
    },
    {
     "name": "stdout",
     "output_type": "stream",
     "text": [
      "Loss at step 512: -105.688\n",
      "249\n",
      "Initial loss: -0.685\n"
     ]
    },
    {
     "name": "stderr",
     "output_type": "stream",
     "text": [
      "100%|██████████| 512/512 [00:25<00:00, 20.12it/s]\n",
      "  1%|          | 3/512 [00:00<00:25, 20.05it/s]"
     ]
    },
    {
     "name": "stdout",
     "output_type": "stream",
     "text": [
      "Loss at step 512: -50.313\n",
      "250\n",
      "Initial loss: 0.061\n"
     ]
    },
    {
     "name": "stderr",
     "output_type": "stream",
     "text": [
      "100%|██████████| 512/512 [00:25<00:00, 20.03it/s]\n",
      "  1%|          | 3/512 [00:00<00:22, 22.26it/s]"
     ]
    },
    {
     "name": "stdout",
     "output_type": "stream",
     "text": [
      "Loss at step 512: -63.593\n",
      "251\n",
      "Initial loss: -0.260\n"
     ]
    },
    {
     "name": "stderr",
     "output_type": "stream",
     "text": [
      "100%|██████████| 512/512 [00:25<00:00, 20.05it/s]\n",
      "  1%|          | 3/512 [00:00<00:24, 20.52it/s]"
     ]
    },
    {
     "name": "stdout",
     "output_type": "stream",
     "text": [
      "Loss at step 512: -61.442\n",
      "252\n",
      "Initial loss: -0.146\n"
     ]
    },
    {
     "name": "stderr",
     "output_type": "stream",
     "text": [
      "100%|██████████| 512/512 [00:25<00:00, 20.01it/s]\n",
      "  1%|          | 3/512 [00:00<00:23, 21.31it/s]"
     ]
    },
    {
     "name": "stdout",
     "output_type": "stream",
     "text": [
      "Loss at step 512: -73.800\n",
      "253\n",
      "Initial loss: -0.020\n"
     ]
    },
    {
     "name": "stderr",
     "output_type": "stream",
     "text": [
      "100%|██████████| 512/512 [00:25<00:00, 19.99it/s]\n",
      "  1%|          | 3/512 [00:00<00:24, 20.83it/s]"
     ]
    },
    {
     "name": "stdout",
     "output_type": "stream",
     "text": [
      "Loss at step 512: -123.995\n",
      "254\n",
      "Initial loss: -0.100\n"
     ]
    },
    {
     "name": "stderr",
     "output_type": "stream",
     "text": [
      "100%|██████████| 512/512 [00:25<00:00, 20.21it/s]\n",
      "  1%|          | 3/512 [00:00<00:23, 21.21it/s]"
     ]
    },
    {
     "name": "stdout",
     "output_type": "stream",
     "text": [
      "Loss at step 512: -72.794\n",
      "255\n",
      "Initial loss: -1.068\n"
     ]
    },
    {
     "name": "stderr",
     "output_type": "stream",
     "text": [
      "100%|██████████| 512/512 [00:25<00:00, 19.98it/s]\n",
      "  0%|          | 2/512 [00:00<00:28, 17.99it/s]"
     ]
    },
    {
     "name": "stdout",
     "output_type": "stream",
     "text": [
      "Loss at step 512: -51.566\n",
      "256\n",
      "Initial loss: 0.505\n"
     ]
    },
    {
     "name": "stderr",
     "output_type": "stream",
     "text": [
      "100%|██████████| 512/512 [00:30<00:00, 16.94it/s]\n",
      "  0%|          | 2/512 [00:00<00:27, 18.41it/s]"
     ]
    },
    {
     "name": "stdout",
     "output_type": "stream",
     "text": [
      "Loss at step 512: -95.189\n",
      "257\n",
      "Initial loss: 0.593\n"
     ]
    },
    {
     "name": "stderr",
     "output_type": "stream",
     "text": [
      "100%|██████████| 512/512 [00:30<00:00, 16.92it/s]\n",
      "  0%|          | 2/512 [00:00<00:29, 17.08it/s]"
     ]
    },
    {
     "name": "stdout",
     "output_type": "stream",
     "text": [
      "Loss at step 512: -38.680\n",
      "258\n",
      "Initial loss: 1.266\n"
     ]
    },
    {
     "name": "stderr",
     "output_type": "stream",
     "text": [
      "100%|██████████| 512/512 [00:30<00:00, 16.96it/s]\n",
      "  0%|          | 2/512 [00:00<00:29, 17.48it/s]"
     ]
    },
    {
     "name": "stdout",
     "output_type": "stream",
     "text": [
      "Loss at step 512: -110.893\n",
      "259\n",
      "Initial loss: -1.406\n"
     ]
    },
    {
     "name": "stderr",
     "output_type": "stream",
     "text": [
      "100%|██████████| 512/512 [00:30<00:00, 16.79it/s]\n",
      "  0%|          | 2/512 [00:00<00:29, 17.31it/s]"
     ]
    },
    {
     "name": "stdout",
     "output_type": "stream",
     "text": [
      "Loss at step 512: -38.554\n",
      "260\n",
      "Initial loss: 0.211\n"
     ]
    },
    {
     "name": "stderr",
     "output_type": "stream",
     "text": [
      "100%|██████████| 512/512 [00:30<00:00, 16.86it/s]\n",
      "  0%|          | 2/512 [00:00<00:28, 17.62it/s]"
     ]
    },
    {
     "name": "stdout",
     "output_type": "stream",
     "text": [
      "Loss at step 512: -125.690\n",
      "261\n",
      "Initial loss: 0.285\n"
     ]
    },
    {
     "name": "stderr",
     "output_type": "stream",
     "text": [
      "100%|██████████| 512/512 [00:30<00:00, 16.98it/s]\n",
      "  0%|          | 2/512 [00:00<00:27, 18.30it/s]"
     ]
    },
    {
     "name": "stdout",
     "output_type": "stream",
     "text": [
      "Loss at step 512: -119.073\n",
      "262\n",
      "Initial loss: -0.105\n"
     ]
    },
    {
     "name": "stderr",
     "output_type": "stream",
     "text": [
      "100%|██████████| 512/512 [00:30<00:00, 16.75it/s]\n",
      "  0%|          | 2/512 [00:00<00:29, 17.40it/s]"
     ]
    },
    {
     "name": "stdout",
     "output_type": "stream",
     "text": [
      "Loss at step 512: -67.793\n",
      "263\n",
      "Initial loss: 0.454\n"
     ]
    },
    {
     "name": "stderr",
     "output_type": "stream",
     "text": [
      "100%|██████████| 512/512 [00:30<00:00, 16.67it/s]\n",
      "  0%|          | 2/512 [00:00<00:27, 18.37it/s]"
     ]
    },
    {
     "name": "stdout",
     "output_type": "stream",
     "text": [
      "Loss at step 512: -79.131\n",
      "264\n",
      "Initial loss: 0.725\n"
     ]
    },
    {
     "name": "stderr",
     "output_type": "stream",
     "text": [
      "100%|██████████| 512/512 [00:30<00:00, 16.88it/s]\n",
      "  1%|          | 3/512 [00:00<00:25, 20.11it/s]"
     ]
    },
    {
     "name": "stdout",
     "output_type": "stream",
     "text": [
      "Loss at step 512: -205.253\n",
      "265\n",
      "Initial loss: 0.550\n"
     ]
    },
    {
     "name": "stderr",
     "output_type": "stream",
     "text": [
      "100%|██████████| 512/512 [00:29<00:00, 17.26it/s]\n",
      "  0%|          | 2/512 [00:00<00:27, 18.62it/s]"
     ]
    },
    {
     "name": "stdout",
     "output_type": "stream",
     "text": [
      "Loss at step 512: -146.041\n",
      "266\n",
      "Initial loss: -0.229\n"
     ]
    },
    {
     "name": "stderr",
     "output_type": "stream",
     "text": [
      "100%|██████████| 512/512 [00:29<00:00, 17.46it/s]\n",
      "  0%|          | 2/512 [00:00<00:28, 17.62it/s]"
     ]
    },
    {
     "name": "stdout",
     "output_type": "stream",
     "text": [
      "Loss at step 512: -109.599\n",
      "267\n",
      "Initial loss: -0.101\n"
     ]
    },
    {
     "name": "stderr",
     "output_type": "stream",
     "text": [
      "100%|██████████| 512/512 [00:30<00:00, 16.75it/s]\n",
      "  0%|          | 2/512 [00:00<00:26, 19.43it/s]"
     ]
    },
    {
     "name": "stdout",
     "output_type": "stream",
     "text": [
      "Loss at step 512: -114.551\n",
      "268\n",
      "Initial loss: 1.191\n"
     ]
    },
    {
     "name": "stderr",
     "output_type": "stream",
     "text": [
      "100%|██████████| 512/512 [00:30<00:00, 16.74it/s]\n",
      "  0%|          | 2/512 [00:00<00:26, 19.16it/s]"
     ]
    },
    {
     "name": "stdout",
     "output_type": "stream",
     "text": [
      "Loss at step 512: -99.424\n",
      "269\n",
      "Initial loss: 0.228\n"
     ]
    },
    {
     "name": "stderr",
     "output_type": "stream",
     "text": [
      "100%|██████████| 512/512 [00:30<00:00, 16.66it/s]\n",
      "  0%|          | 2/512 [00:00<00:27, 18.32it/s]"
     ]
    },
    {
     "name": "stdout",
     "output_type": "stream",
     "text": [
      "Loss at step 512: -103.461\n",
      "270\n",
      "Initial loss: 1.156\n"
     ]
    },
    {
     "name": "stderr",
     "output_type": "stream",
     "text": [
      "100%|██████████| 512/512 [00:30<00:00, 16.88it/s]\n",
      "  0%|          | 2/512 [00:00<00:28, 18.07it/s]"
     ]
    },
    {
     "name": "stdout",
     "output_type": "stream",
     "text": [
      "Loss at step 512: -121.584\n",
      "271\n",
      "Initial loss: 0.866\n"
     ]
    },
    {
     "name": "stderr",
     "output_type": "stream",
     "text": [
      "100%|██████████| 512/512 [00:30<00:00, 16.86it/s]\n",
      "  0%|          | 2/512 [00:00<00:28, 17.72it/s]"
     ]
    },
    {
     "name": "stdout",
     "output_type": "stream",
     "text": [
      "Loss at step 512: -134.561\n",
      "272\n",
      "Initial loss: 0.062\n"
     ]
    },
    {
     "name": "stderr",
     "output_type": "stream",
     "text": [
      "100%|██████████| 512/512 [00:30<00:00, 16.93it/s]\n",
      "  0%|          | 2/512 [00:00<00:29, 17.26it/s]"
     ]
    },
    {
     "name": "stdout",
     "output_type": "stream",
     "text": [
      "Loss at step 512: -222.960\n",
      "273\n",
      "Initial loss: 0.769\n"
     ]
    },
    {
     "name": "stderr",
     "output_type": "stream",
     "text": [
      "100%|██████████| 512/512 [00:30<00:00, 16.72it/s]\n",
      "  0%|          | 2/512 [00:00<00:28, 17.66it/s]"
     ]
    },
    {
     "name": "stdout",
     "output_type": "stream",
     "text": [
      "Loss at step 512: -180.300\n",
      "274\n",
      "Initial loss: 1.004\n"
     ]
    },
    {
     "name": "stderr",
     "output_type": "stream",
     "text": [
      "100%|██████████| 512/512 [00:30<00:00, 16.59it/s]\n",
      "  0%|          | 2/512 [00:00<00:28, 18.00it/s]"
     ]
    },
    {
     "name": "stdout",
     "output_type": "stream",
     "text": [
      "Loss at step 512: -137.927\n",
      "275\n",
      "Initial loss: 0.545\n"
     ]
    },
    {
     "name": "stderr",
     "output_type": "stream",
     "text": [
      "100%|██████████| 512/512 [00:30<00:00, 16.80it/s]\n",
      "  0%|          | 2/512 [00:00<00:27, 18.54it/s]"
     ]
    },
    {
     "name": "stdout",
     "output_type": "stream",
     "text": [
      "Loss at step 512: -56.502\n",
      "276\n",
      "Initial loss: -2.426\n"
     ]
    },
    {
     "name": "stderr",
     "output_type": "stream",
     "text": [
      "100%|██████████| 512/512 [00:29<00:00, 17.08it/s]\n",
      "  0%|          | 2/512 [00:00<00:27, 18.41it/s]"
     ]
    },
    {
     "name": "stdout",
     "output_type": "stream",
     "text": [
      "Loss at step 512: -68.327\n",
      "277\n",
      "Initial loss: -1.477\n"
     ]
    },
    {
     "name": "stderr",
     "output_type": "stream",
     "text": [
      "100%|██████████| 512/512 [00:30<00:00, 16.75it/s]\n",
      "  0%|          | 2/512 [00:00<00:27, 18.24it/s]"
     ]
    },
    {
     "name": "stdout",
     "output_type": "stream",
     "text": [
      "Loss at step 512: -97.514\n",
      "278\n",
      "Initial loss: -0.272\n"
     ]
    },
    {
     "name": "stderr",
     "output_type": "stream",
     "text": [
      "100%|██████████| 512/512 [00:30<00:00, 16.83it/s]\n",
      "  0%|          | 2/512 [00:00<00:28, 18.20it/s]"
     ]
    },
    {
     "name": "stdout",
     "output_type": "stream",
     "text": [
      "Loss at step 512: -163.140\n",
      "279\n",
      "Initial loss: 0.451\n"
     ]
    },
    {
     "name": "stderr",
     "output_type": "stream",
     "text": [
      "100%|██████████| 512/512 [00:30<00:00, 16.88it/s]\n",
      "  0%|          | 2/512 [00:00<00:26, 18.94it/s]"
     ]
    },
    {
     "name": "stdout",
     "output_type": "stream",
     "text": [
      "Loss at step 512: -131.916\n",
      "280\n",
      "Initial loss: -0.214\n"
     ]
    },
    {
     "name": "stderr",
     "output_type": "stream",
     "text": [
      "100%|██████████| 512/512 [00:30<00:00, 16.88it/s]\n",
      "  0%|          | 2/512 [00:00<00:27, 18.27it/s]"
     ]
    },
    {
     "name": "stdout",
     "output_type": "stream",
     "text": [
      "Loss at step 512: -66.556\n",
      "281\n",
      "Initial loss: -0.352\n"
     ]
    },
    {
     "name": "stderr",
     "output_type": "stream",
     "text": [
      "100%|██████████| 512/512 [00:30<00:00, 16.69it/s]\n",
      "  0%|          | 2/512 [00:00<00:27, 18.57it/s]"
     ]
    },
    {
     "name": "stdout",
     "output_type": "stream",
     "text": [
      "Loss at step 512: -67.549\n",
      "282\n",
      "Initial loss: -1.349\n"
     ]
    },
    {
     "name": "stderr",
     "output_type": "stream",
     "text": [
      "100%|██████████| 512/512 [00:30<00:00, 16.99it/s]\n",
      "  0%|          | 2/512 [00:00<00:27, 18.38it/s]"
     ]
    },
    {
     "name": "stdout",
     "output_type": "stream",
     "text": [
      "Loss at step 512: -84.697\n",
      "283\n",
      "Initial loss: 0.267\n"
     ]
    },
    {
     "name": "stderr",
     "output_type": "stream",
     "text": [
      "100%|██████████| 512/512 [00:31<00:00, 16.43it/s]\n",
      "  0%|          | 2/512 [00:00<00:29, 17.50it/s]"
     ]
    },
    {
     "name": "stdout",
     "output_type": "stream",
     "text": [
      "Loss at step 512: -74.217\n",
      "284\n",
      "Initial loss: -0.547\n"
     ]
    },
    {
     "name": "stderr",
     "output_type": "stream",
     "text": [
      "100%|██████████| 512/512 [00:30<00:00, 16.63it/s]\n",
      "  0%|          | 2/512 [00:00<00:29, 17.15it/s]"
     ]
    },
    {
     "name": "stdout",
     "output_type": "stream",
     "text": [
      "Loss at step 512: -99.531\n",
      "285\n",
      "Initial loss: -0.134\n"
     ]
    },
    {
     "name": "stderr",
     "output_type": "stream",
     "text": [
      "100%|██████████| 512/512 [00:30<00:00, 16.79it/s]\n",
      "  0%|          | 2/512 [00:00<00:26, 18.94it/s]"
     ]
    },
    {
     "name": "stdout",
     "output_type": "stream",
     "text": [
      "Loss at step 512: -61.895\n",
      "286\n",
      "Initial loss: 0.831\n"
     ]
    },
    {
     "name": "stderr",
     "output_type": "stream",
     "text": [
      "100%|██████████| 512/512 [00:30<00:00, 16.87it/s]\n",
      "  0%|          | 2/512 [00:00<00:27, 18.44it/s]"
     ]
    },
    {
     "name": "stdout",
     "output_type": "stream",
     "text": [
      "Loss at step 512: -82.844\n",
      "287\n",
      "Initial loss: -1.036\n"
     ]
    },
    {
     "name": "stderr",
     "output_type": "stream",
     "text": [
      "100%|██████████| 512/512 [00:30<00:00, 16.61it/s]\n",
      "  0%|          | 2/512 [00:00<00:28, 17.83it/s]"
     ]
    },
    {
     "name": "stdout",
     "output_type": "stream",
     "text": [
      "Loss at step 512: -89.157\n",
      "288\n",
      "Initial loss: 0.584\n"
     ]
    },
    {
     "name": "stderr",
     "output_type": "stream",
     "text": [
      "100%|██████████| 512/512 [00:30<00:00, 16.93it/s]\n",
      "  0%|          | 2/512 [00:00<00:27, 18.40it/s]"
     ]
    },
    {
     "name": "stdout",
     "output_type": "stream",
     "text": [
      "Loss at step 512: -93.713\n",
      "289\n",
      "Initial loss: 1.016\n"
     ]
    },
    {
     "name": "stderr",
     "output_type": "stream",
     "text": [
      "100%|██████████| 512/512 [00:30<00:00, 16.83it/s]\n",
      "  0%|          | 2/512 [00:00<00:28, 18.05it/s]"
     ]
    },
    {
     "name": "stdout",
     "output_type": "stream",
     "text": [
      "Loss at step 512: -81.526\n",
      "290\n",
      "Initial loss: 0.045\n"
     ]
    },
    {
     "name": "stderr",
     "output_type": "stream",
     "text": [
      "100%|██████████| 512/512 [00:30<00:00, 16.93it/s]\n",
      "  0%|          | 2/512 [00:00<00:28, 17.64it/s]"
     ]
    },
    {
     "name": "stdout",
     "output_type": "stream",
     "text": [
      "Loss at step 512: -85.086\n",
      "291\n",
      "Initial loss: -0.294\n"
     ]
    },
    {
     "name": "stderr",
     "output_type": "stream",
     "text": [
      "100%|██████████| 512/512 [00:30<00:00, 16.64it/s]\n",
      "  0%|          | 2/512 [00:00<00:27, 18.57it/s]"
     ]
    },
    {
     "name": "stdout",
     "output_type": "stream",
     "text": [
      "Loss at step 512: -156.424\n",
      "292\n",
      "Initial loss: -0.686\n"
     ]
    },
    {
     "name": "stderr",
     "output_type": "stream",
     "text": [
      "100%|██████████| 512/512 [00:30<00:00, 16.65it/s]\n",
      "  0%|          | 2/512 [00:00<00:29, 17.15it/s]"
     ]
    },
    {
     "name": "stdout",
     "output_type": "stream",
     "text": [
      "Loss at step 512: -94.571\n",
      "293\n",
      "Initial loss: -0.051\n"
     ]
    },
    {
     "name": "stderr",
     "output_type": "stream",
     "text": [
      "100%|██████████| 512/512 [00:31<00:00, 16.43it/s]\n",
      "  0%|          | 2/512 [00:00<00:27, 18.30it/s]"
     ]
    },
    {
     "name": "stdout",
     "output_type": "stream",
     "text": [
      "Loss at step 512: -74.454\n",
      "294\n",
      "Initial loss: 0.898\n"
     ]
    },
    {
     "name": "stderr",
     "output_type": "stream",
     "text": [
      "100%|██████████| 512/512 [00:30<00:00, 16.71it/s]\n",
      "  0%|          | 2/512 [00:00<00:27, 18.61it/s]"
     ]
    },
    {
     "name": "stdout",
     "output_type": "stream",
     "text": [
      "Loss at step 512: -132.278\n",
      "295\n",
      "Initial loss: -0.080\n"
     ]
    },
    {
     "name": "stderr",
     "output_type": "stream",
     "text": [
      "100%|██████████| 512/512 [00:30<00:00, 16.77it/s]\n",
      "  0%|          | 2/512 [00:00<00:27, 18.40it/s]"
     ]
    },
    {
     "name": "stdout",
     "output_type": "stream",
     "text": [
      "Loss at step 512: -137.674\n",
      "296\n",
      "Initial loss: 1.429\n"
     ]
    },
    {
     "name": "stderr",
     "output_type": "stream",
     "text": [
      "100%|██████████| 512/512 [00:30<00:00, 16.52it/s]\n",
      "  0%|          | 2/512 [00:00<00:28, 17.75it/s]"
     ]
    },
    {
     "name": "stdout",
     "output_type": "stream",
     "text": [
      "Loss at step 512: -111.719\n",
      "297\n",
      "Initial loss: 0.548\n"
     ]
    },
    {
     "name": "stderr",
     "output_type": "stream",
     "text": [
      "100%|██████████| 512/512 [00:30<00:00, 16.84it/s]\n",
      "  0%|          | 2/512 [00:00<00:28, 17.89it/s]"
     ]
    },
    {
     "name": "stdout",
     "output_type": "stream",
     "text": [
      "Loss at step 512: -86.128\n",
      "298\n",
      "Initial loss: 0.791\n"
     ]
    },
    {
     "name": "stderr",
     "output_type": "stream",
     "text": [
      "100%|██████████| 512/512 [00:31<00:00, 16.50it/s]\n",
      "  0%|          | 2/512 [00:00<00:28, 17.66it/s]"
     ]
    },
    {
     "name": "stdout",
     "output_type": "stream",
     "text": [
      "Loss at step 512: -125.252\n",
      "299\n",
      "Initial loss: 0.449\n"
     ]
    },
    {
     "name": "stderr",
     "output_type": "stream",
     "text": [
      "100%|██████████| 512/512 [00:30<00:00, 16.75it/s]\n",
      "  0%|          | 2/512 [00:00<00:31, 16.43it/s]"
     ]
    },
    {
     "name": "stdout",
     "output_type": "stream",
     "text": [
      "Loss at step 512: -165.087\n",
      "300\n",
      "Initial loss: -0.170\n"
     ]
    },
    {
     "name": "stderr",
     "output_type": "stream",
     "text": [
      "100%|██████████| 512/512 [00:31<00:00, 16.42it/s]\n",
      "  0%|          | 2/512 [00:00<00:29, 17.30it/s]"
     ]
    },
    {
     "name": "stdout",
     "output_type": "stream",
     "text": [
      "Loss at step 512: -205.781\n",
      "301\n",
      "Initial loss: 0.460\n"
     ]
    },
    {
     "name": "stderr",
     "output_type": "stream",
     "text": [
      "100%|██████████| 512/512 [00:30<00:00, 16.60it/s]\n",
      "  0%|          | 2/512 [00:00<00:29, 17.10it/s]"
     ]
    },
    {
     "name": "stdout",
     "output_type": "stream",
     "text": [
      "Loss at step 512: -68.554\n",
      "302\n",
      "Initial loss: 0.674\n"
     ]
    },
    {
     "name": "stderr",
     "output_type": "stream",
     "text": [
      "100%|██████████| 512/512 [00:31<00:00, 16.45it/s]\n",
      "  0%|          | 2/512 [00:00<00:28, 17.64it/s]"
     ]
    },
    {
     "name": "stdout",
     "output_type": "stream",
     "text": [
      "Loss at step 512: -62.343\n",
      "303\n",
      "Initial loss: 1.066\n"
     ]
    },
    {
     "name": "stderr",
     "output_type": "stream",
     "text": [
      "100%|██████████| 512/512 [00:30<00:00, 16.70it/s]\n",
      "  0%|          | 2/512 [00:00<00:28, 18.21it/s]"
     ]
    },
    {
     "name": "stdout",
     "output_type": "stream",
     "text": [
      "Loss at step 512: -77.701\n",
      "304\n",
      "Initial loss: 0.686\n"
     ]
    },
    {
     "name": "stderr",
     "output_type": "stream",
     "text": [
      "100%|██████████| 512/512 [00:30<00:00, 16.80it/s]\n",
      "  0%|          | 2/512 [00:00<00:29, 17.16it/s]"
     ]
    },
    {
     "name": "stdout",
     "output_type": "stream",
     "text": [
      "Loss at step 512: -86.761\n",
      "305\n",
      "Initial loss: -0.863\n"
     ]
    },
    {
     "name": "stderr",
     "output_type": "stream",
     "text": [
      "100%|██████████| 512/512 [00:30<00:00, 16.56it/s]\n",
      "  0%|          | 2/512 [00:00<00:27, 18.22it/s]"
     ]
    },
    {
     "name": "stdout",
     "output_type": "stream",
     "text": [
      "Loss at step 512: -77.547\n",
      "306\n",
      "Initial loss: 0.473\n"
     ]
    },
    {
     "name": "stderr",
     "output_type": "stream",
     "text": [
      "100%|██████████| 512/512 [00:30<00:00, 16.55it/s]\n",
      "  0%|          | 2/512 [00:00<00:30, 16.95it/s]"
     ]
    },
    {
     "name": "stdout",
     "output_type": "stream",
     "text": [
      "Loss at step 512: -208.105\n",
      "307\n",
      "Initial loss: -0.204\n"
     ]
    },
    {
     "name": "stderr",
     "output_type": "stream",
     "text": [
      "100%|██████████| 512/512 [00:30<00:00, 16.64it/s]\n",
      "  0%|          | 2/512 [00:00<00:28, 17.74it/s]"
     ]
    },
    {
     "name": "stdout",
     "output_type": "stream",
     "text": [
      "Loss at step 512: -120.834\n",
      "308\n",
      "Initial loss: -0.169\n"
     ]
    },
    {
     "name": "stderr",
     "output_type": "stream",
     "text": [
      "100%|██████████| 512/512 [00:30<00:00, 16.65it/s]\n",
      "  0%|          | 2/512 [00:00<00:26, 19.12it/s]"
     ]
    },
    {
     "name": "stdout",
     "output_type": "stream",
     "text": [
      "Loss at step 512: -140.933\n",
      "309\n",
      "Initial loss: 0.078\n"
     ]
    },
    {
     "name": "stderr",
     "output_type": "stream",
     "text": [
      "100%|██████████| 512/512 [00:30<00:00, 16.87it/s]\n",
      "  0%|          | 2/512 [00:00<00:28, 17.59it/s]"
     ]
    },
    {
     "name": "stdout",
     "output_type": "stream",
     "text": [
      "Loss at step 512: -57.340\n",
      "310\n",
      "Initial loss: 0.392\n"
     ]
    },
    {
     "name": "stderr",
     "output_type": "stream",
     "text": [
      "100%|██████████| 512/512 [00:30<00:00, 16.75it/s]\n",
      "  0%|          | 2/512 [00:00<00:28, 18.01it/s]"
     ]
    },
    {
     "name": "stdout",
     "output_type": "stream",
     "text": [
      "Loss at step 512: -105.233\n",
      "311\n",
      "Initial loss: -0.293\n"
     ]
    },
    {
     "name": "stderr",
     "output_type": "stream",
     "text": [
      "100%|██████████| 512/512 [00:30<00:00, 16.68it/s]\n",
      "  0%|          | 2/512 [00:00<00:28, 18.06it/s]"
     ]
    },
    {
     "name": "stdout",
     "output_type": "stream",
     "text": [
      "Loss at step 512: -135.701\n",
      "312\n",
      "Initial loss: 0.447\n"
     ]
    },
    {
     "name": "stderr",
     "output_type": "stream",
     "text": [
      "100%|██████████| 512/512 [00:30<00:00, 16.65it/s]\n",
      "  0%|          | 2/512 [00:00<00:27, 18.55it/s]"
     ]
    },
    {
     "name": "stdout",
     "output_type": "stream",
     "text": [
      "Loss at step 512: -150.325\n",
      "313\n",
      "Initial loss: 1.129\n"
     ]
    },
    {
     "name": "stderr",
     "output_type": "stream",
     "text": [
      "100%|██████████| 512/512 [00:31<00:00, 16.49it/s]\n",
      "  0%|          | 2/512 [00:00<00:29, 17.36it/s]"
     ]
    },
    {
     "name": "stdout",
     "output_type": "stream",
     "text": [
      "Loss at step 512: -95.240\n",
      "314\n",
      "Initial loss: 0.181\n"
     ]
    },
    {
     "name": "stderr",
     "output_type": "stream",
     "text": [
      "100%|██████████| 512/512 [00:30<00:00, 16.66it/s]\n",
      "  0%|          | 2/512 [00:00<00:27, 18.53it/s]"
     ]
    },
    {
     "name": "stdout",
     "output_type": "stream",
     "text": [
      "Loss at step 512: -169.303\n",
      "315\n",
      "Initial loss: -0.335\n"
     ]
    },
    {
     "name": "stderr",
     "output_type": "stream",
     "text": [
      "100%|██████████| 512/512 [00:30<00:00, 16.62it/s]\n",
      "  0%|          | 2/512 [00:00<00:28, 17.59it/s]"
     ]
    },
    {
     "name": "stdout",
     "output_type": "stream",
     "text": [
      "Loss at step 512: -62.480\n",
      "316\n",
      "Initial loss: -0.177\n"
     ]
    },
    {
     "name": "stderr",
     "output_type": "stream",
     "text": [
      "100%|██████████| 512/512 [00:31<00:00, 16.49it/s]\n",
      "  0%|          | 2/512 [00:00<00:26, 18.95it/s]"
     ]
    },
    {
     "name": "stdout",
     "output_type": "stream",
     "text": [
      "Loss at step 512: -115.399\n",
      "317\n",
      "Initial loss: 0.142\n"
     ]
    },
    {
     "name": "stderr",
     "output_type": "stream",
     "text": [
      "100%|██████████| 512/512 [00:30<00:00, 16.64it/s]\n",
      "  0%|          | 2/512 [00:00<00:29, 17.41it/s]"
     ]
    },
    {
     "name": "stdout",
     "output_type": "stream",
     "text": [
      "Loss at step 512: -168.884\n",
      "318\n",
      "Initial loss: -0.232\n"
     ]
    },
    {
     "name": "stderr",
     "output_type": "stream",
     "text": [
      "100%|██████████| 512/512 [00:30<00:00, 16.80it/s]\n",
      "  0%|          | 2/512 [00:00<00:27, 18.30it/s]"
     ]
    },
    {
     "name": "stdout",
     "output_type": "stream",
     "text": [
      "Loss at step 512: -110.990\n",
      "319\n",
      "Initial loss: 1.212\n"
     ]
    },
    {
     "name": "stderr",
     "output_type": "stream",
     "text": [
      "100%|██████████| 512/512 [00:31<00:00, 16.36it/s]\n",
      "  0%|          | 2/512 [00:00<00:27, 18.74it/s]"
     ]
    },
    {
     "name": "stdout",
     "output_type": "stream",
     "text": [
      "Loss at step 512: -29.560\n",
      "320\n",
      "Initial loss: -0.513\n"
     ]
    },
    {
     "name": "stderr",
     "output_type": "stream",
     "text": [
      "100%|██████████| 512/512 [00:30<00:00, 16.73it/s]\n",
      "  0%|          | 2/512 [00:00<00:27, 18.37it/s]"
     ]
    },
    {
     "name": "stdout",
     "output_type": "stream",
     "text": [
      "Loss at step 512: -92.515\n",
      "321\n",
      "Initial loss: 1.821\n"
     ]
    },
    {
     "name": "stderr",
     "output_type": "stream",
     "text": [
      "100%|██████████| 512/512 [00:30<00:00, 16.86it/s]\n",
      "  0%|          | 2/512 [00:00<00:28, 18.04it/s]"
     ]
    },
    {
     "name": "stdout",
     "output_type": "stream",
     "text": [
      "Loss at step 512: -95.815\n",
      "322\n",
      "Initial loss: 0.468\n"
     ]
    },
    {
     "name": "stderr",
     "output_type": "stream",
     "text": [
      "100%|██████████| 512/512 [00:30<00:00, 16.86it/s]\n",
      "  0%|          | 2/512 [00:00<00:28, 17.68it/s]"
     ]
    },
    {
     "name": "stdout",
     "output_type": "stream",
     "text": [
      "Loss at step 512: -84.805\n",
      "323\n",
      "Initial loss: 1.320\n"
     ]
    },
    {
     "name": "stderr",
     "output_type": "stream",
     "text": [
      "100%|██████████| 512/512 [00:30<00:00, 16.66it/s]\n",
      "  0%|          | 2/512 [00:00<00:29, 17.32it/s]"
     ]
    },
    {
     "name": "stdout",
     "output_type": "stream",
     "text": [
      "Loss at step 512: -114.027\n",
      "324\n",
      "Initial loss: 0.811\n"
     ]
    },
    {
     "name": "stderr",
     "output_type": "stream",
     "text": [
      "100%|██████████| 512/512 [00:30<00:00, 16.68it/s]\n",
      "  0%|          | 2/512 [00:00<00:29, 17.42it/s]"
     ]
    },
    {
     "name": "stdout",
     "output_type": "stream",
     "text": [
      "Loss at step 512: -116.812\n",
      "325\n",
      "Initial loss: 1.496\n"
     ]
    },
    {
     "name": "stderr",
     "output_type": "stream",
     "text": [
      "100%|██████████| 512/512 [00:30<00:00, 16.54it/s]\n",
      "  0%|          | 2/512 [00:00<00:28, 17.61it/s]"
     ]
    },
    {
     "name": "stdout",
     "output_type": "stream",
     "text": [
      "Loss at step 512: -121.659\n",
      "326\n",
      "Initial loss: 0.892\n"
     ]
    },
    {
     "name": "stderr",
     "output_type": "stream",
     "text": [
      "100%|██████████| 512/512 [00:31<00:00, 16.44it/s]\n",
      "  0%|          | 2/512 [00:00<00:27, 18.66it/s]"
     ]
    },
    {
     "name": "stdout",
     "output_type": "stream",
     "text": [
      "Loss at step 512: -116.816\n",
      "327\n",
      "Initial loss: -0.502\n"
     ]
    },
    {
     "name": "stderr",
     "output_type": "stream",
     "text": [
      "100%|██████████| 512/512 [00:31<00:00, 16.40it/s]\n",
      "  0%|          | 2/512 [00:00<00:29, 17.50it/s]"
     ]
    },
    {
     "name": "stdout",
     "output_type": "stream",
     "text": [
      "Loss at step 512: -65.253\n",
      "328\n",
      "Initial loss: 0.132\n"
     ]
    },
    {
     "name": "stderr",
     "output_type": "stream",
     "text": [
      "100%|██████████| 512/512 [00:30<00:00, 16.81it/s]\n",
      "  0%|          | 2/512 [00:00<00:28, 17.72it/s]"
     ]
    },
    {
     "name": "stdout",
     "output_type": "stream",
     "text": [
      "Loss at step 512: -86.151\n",
      "329\n",
      "Initial loss: -0.169\n"
     ]
    },
    {
     "name": "stderr",
     "output_type": "stream",
     "text": [
      "100%|██████████| 512/512 [00:31<00:00, 16.29it/s]\n",
      "  0%|          | 2/512 [00:00<00:32, 15.53it/s]"
     ]
    },
    {
     "name": "stdout",
     "output_type": "stream",
     "text": [
      "Loss at step 512: -74.557\n",
      "330\n",
      "Initial loss: 0.474\n"
     ]
    },
    {
     "name": "stderr",
     "output_type": "stream",
     "text": [
      "100%|██████████| 512/512 [00:31<00:00, 16.44it/s]\n",
      "  0%|          | 2/512 [00:00<00:29, 17.29it/s]"
     ]
    },
    {
     "name": "stdout",
     "output_type": "stream",
     "text": [
      "Loss at step 512: -137.197\n",
      "331\n",
      "Initial loss: 0.124\n"
     ]
    },
    {
     "name": "stderr",
     "output_type": "stream",
     "text": [
      "100%|██████████| 512/512 [00:30<00:00, 16.67it/s]\n",
      "  0%|          | 2/512 [00:00<00:26, 19.06it/s]"
     ]
    },
    {
     "name": "stdout",
     "output_type": "stream",
     "text": [
      "Loss at step 512: -61.047\n",
      "332\n",
      "Initial loss: -0.114\n"
     ]
    },
    {
     "name": "stderr",
     "output_type": "stream",
     "text": [
      "100%|██████████| 512/512 [00:30<00:00, 16.75it/s]\n",
      "  0%|          | 2/512 [00:00<00:29, 17.43it/s]"
     ]
    },
    {
     "name": "stdout",
     "output_type": "stream",
     "text": [
      "Loss at step 512: -82.449\n",
      "333\n",
      "Initial loss: -0.137\n"
     ]
    },
    {
     "name": "stderr",
     "output_type": "stream",
     "text": [
      "100%|██████████| 512/512 [00:31<00:00, 16.45it/s]\n",
      "  0%|          | 2/512 [00:00<00:29, 17.21it/s]"
     ]
    },
    {
     "name": "stdout",
     "output_type": "stream",
     "text": [
      "Loss at step 512: -132.669\n",
      "334\n",
      "Initial loss: -0.934\n"
     ]
    },
    {
     "name": "stderr",
     "output_type": "stream",
     "text": [
      "100%|██████████| 512/512 [00:31<00:00, 16.35it/s]\n",
      "  0%|          | 2/512 [00:00<00:27, 18.49it/s]"
     ]
    },
    {
     "name": "stdout",
     "output_type": "stream",
     "text": [
      "Loss at step 512: -75.531\n",
      "335\n",
      "Initial loss: -0.177\n"
     ]
    },
    {
     "name": "stderr",
     "output_type": "stream",
     "text": [
      "100%|██████████| 512/512 [00:31<00:00, 16.16it/s]\n",
      "  0%|          | 0/512 [00:00<?, ?it/s]"
     ]
    },
    {
     "name": "stdout",
     "output_type": "stream",
     "text": [
      "Loss at step 512: -77.478\n",
      "336\n",
      "Initial loss: 0.209\n"
     ]
    },
    {
     "name": "stderr",
     "output_type": "stream",
     "text": [
      "100%|██████████| 512/512 [00:30<00:00, 16.77it/s]\n",
      "  0%|          | 2/512 [00:00<00:27, 18.73it/s]"
     ]
    },
    {
     "name": "stdout",
     "output_type": "stream",
     "text": [
      "Loss at step 512: -52.884\n",
      "337\n",
      "Initial loss: 0.086\n"
     ]
    },
    {
     "name": "stderr",
     "output_type": "stream",
     "text": [
      "100%|██████████| 512/512 [00:31<00:00, 16.50it/s]\n",
      "  0%|          | 2/512 [00:00<00:28, 17.80it/s]"
     ]
    },
    {
     "name": "stdout",
     "output_type": "stream",
     "text": [
      "Loss at step 512: -90.902\n",
      "338\n",
      "Initial loss: 0.496\n"
     ]
    },
    {
     "name": "stderr",
     "output_type": "stream",
     "text": [
      "100%|██████████| 512/512 [00:31<00:00, 16.35it/s]\n",
      "  0%|          | 2/512 [00:00<00:29, 17.02it/s]"
     ]
    },
    {
     "name": "stdout",
     "output_type": "stream",
     "text": [
      "Loss at step 512: -89.869\n",
      "339\n",
      "Initial loss: -0.997\n"
     ]
    },
    {
     "name": "stderr",
     "output_type": "stream",
     "text": [
      "100%|██████████| 512/512 [00:31<00:00, 16.30it/s]\n",
      "  0%|          | 2/512 [00:00<00:31, 16.35it/s]"
     ]
    },
    {
     "name": "stdout",
     "output_type": "stream",
     "text": [
      "Loss at step 512: -76.578\n",
      "340\n",
      "Initial loss: -0.027\n"
     ]
    },
    {
     "name": "stderr",
     "output_type": "stream",
     "text": [
      "100%|██████████| 512/512 [00:31<00:00, 16.29it/s]\n",
      "  0%|          | 2/512 [00:00<00:32, 15.86it/s]"
     ]
    },
    {
     "name": "stdout",
     "output_type": "stream",
     "text": [
      "Loss at step 512: -73.206\n",
      "341\n",
      "Initial loss: 1.520\n"
     ]
    },
    {
     "name": "stderr",
     "output_type": "stream",
     "text": [
      "100%|██████████| 512/512 [00:31<00:00, 16.30it/s]\n",
      "  0%|          | 2/512 [00:00<00:28, 18.05it/s]"
     ]
    },
    {
     "name": "stdout",
     "output_type": "stream",
     "text": [
      "Loss at step 512: -93.793\n",
      "342\n",
      "Initial loss: 0.477\n"
     ]
    },
    {
     "name": "stderr",
     "output_type": "stream",
     "text": [
      "100%|██████████| 512/512 [00:31<00:00, 16.19it/s]\n",
      "  0%|          | 2/512 [00:00<00:29, 17.42it/s]"
     ]
    },
    {
     "name": "stdout",
     "output_type": "stream",
     "text": [
      "Loss at step 512: -128.491\n",
      "343\n",
      "Initial loss: -0.959\n"
     ]
    },
    {
     "name": "stderr",
     "output_type": "stream",
     "text": [
      "100%|██████████| 512/512 [00:31<00:00, 16.18it/s]\n",
      "  0%|          | 2/512 [00:00<00:28, 17.63it/s]"
     ]
    },
    {
     "name": "stdout",
     "output_type": "stream",
     "text": [
      "Loss at step 512: -34.306\n",
      "344\n",
      "Initial loss: 1.349\n"
     ]
    },
    {
     "name": "stderr",
     "output_type": "stream",
     "text": [
      "100%|██████████| 512/512 [00:31<00:00, 16.20it/s]\n",
      "  0%|          | 2/512 [00:00<00:27, 18.40it/s]"
     ]
    },
    {
     "name": "stdout",
     "output_type": "stream",
     "text": [
      "Loss at step 512: -231.847\n",
      "345\n",
      "Initial loss: -0.502\n"
     ]
    },
    {
     "name": "stderr",
     "output_type": "stream",
     "text": [
      "100%|██████████| 512/512 [00:31<00:00, 16.17it/s]\n",
      "  0%|          | 2/512 [00:00<00:27, 18.46it/s]"
     ]
    },
    {
     "name": "stdout",
     "output_type": "stream",
     "text": [
      "Loss at step 512: -44.498\n",
      "346\n",
      "Initial loss: -0.364\n"
     ]
    },
    {
     "name": "stderr",
     "output_type": "stream",
     "text": [
      "100%|██████████| 512/512 [00:31<00:00, 16.34it/s]\n",
      "  0%|          | 2/512 [00:00<00:28, 17.81it/s]"
     ]
    },
    {
     "name": "stdout",
     "output_type": "stream",
     "text": [
      "Loss at step 512: -84.558\n",
      "347\n",
      "Initial loss: 0.433\n"
     ]
    },
    {
     "name": "stderr",
     "output_type": "stream",
     "text": [
      "100%|██████████| 512/512 [00:31<00:00, 16.16it/s]\n",
      "  0%|          | 2/512 [00:00<00:29, 17.28it/s]"
     ]
    },
    {
     "name": "stdout",
     "output_type": "stream",
     "text": [
      "Loss at step 512: -120.275\n",
      "348\n",
      "Initial loss: -0.219\n"
     ]
    },
    {
     "name": "stderr",
     "output_type": "stream",
     "text": [
      "100%|██████████| 512/512 [00:31<00:00, 16.02it/s]\n",
      "  0%|          | 2/512 [00:00<00:33, 15.24it/s]"
     ]
    },
    {
     "name": "stdout",
     "output_type": "stream",
     "text": [
      "Loss at step 512: -69.685\n",
      "349\n",
      "Initial loss: 0.360\n"
     ]
    },
    {
     "name": "stderr",
     "output_type": "stream",
     "text": [
      "100%|██████████| 512/512 [00:29<00:00, 17.27it/s]\n",
      "  0%|          | 2/512 [00:00<00:27, 18.34it/s]"
     ]
    },
    {
     "name": "stdout",
     "output_type": "stream",
     "text": [
      "Loss at step 512: -97.498\n",
      "350\n",
      "Initial loss: 0.111\n"
     ]
    },
    {
     "name": "stderr",
     "output_type": "stream",
     "text": [
      "100%|██████████| 512/512 [00:31<00:00, 16.42it/s]\n",
      "  0%|          | 2/512 [00:00<00:28, 17.60it/s]"
     ]
    },
    {
     "name": "stdout",
     "output_type": "stream",
     "text": [
      "Loss at step 512: -63.100\n",
      "351\n",
      "Initial loss: -0.208\n"
     ]
    },
    {
     "name": "stderr",
     "output_type": "stream",
     "text": [
      "100%|██████████| 512/512 [00:31<00:00, 16.13it/s]\n",
      "  0%|          | 2/512 [00:00<00:28, 17.60it/s]"
     ]
    },
    {
     "name": "stdout",
     "output_type": "stream",
     "text": [
      "Loss at step 512: -54.397\n",
      "352\n",
      "Initial loss: -0.580\n"
     ]
    },
    {
     "name": "stderr",
     "output_type": "stream",
     "text": [
      "100%|██████████| 512/512 [00:32<00:00, 16.00it/s]\n",
      "  0%|          | 2/512 [00:00<00:29, 17.45it/s]"
     ]
    },
    {
     "name": "stdout",
     "output_type": "stream",
     "text": [
      "Loss at step 512: -92.219\n",
      "353\n",
      "Initial loss: 0.612\n"
     ]
    },
    {
     "name": "stderr",
     "output_type": "stream",
     "text": [
      "100%|██████████| 512/512 [00:32<00:00, 15.94it/s]\n",
      "  0%|          | 2/512 [00:00<00:31, 16.40it/s]"
     ]
    },
    {
     "name": "stdout",
     "output_type": "stream",
     "text": [
      "Loss at step 512: -99.421\n",
      "354\n",
      "Initial loss: 1.527\n"
     ]
    },
    {
     "name": "stderr",
     "output_type": "stream",
     "text": [
      "100%|██████████| 512/512 [00:32<00:00, 15.94it/s]\n",
      "  0%|          | 2/512 [00:00<00:30, 16.67it/s]"
     ]
    },
    {
     "name": "stdout",
     "output_type": "stream",
     "text": [
      "Loss at step 512: -107.308\n",
      "355\n",
      "Initial loss: 1.035\n"
     ]
    },
    {
     "name": "stderr",
     "output_type": "stream",
     "text": [
      "100%|██████████| 512/512 [00:31<00:00, 16.18it/s]\n",
      "  0%|          | 2/512 [00:00<00:29, 17.51it/s]"
     ]
    },
    {
     "name": "stdout",
     "output_type": "stream",
     "text": [
      "Loss at step 512: -100.200\n",
      "356\n",
      "Initial loss: -0.284\n"
     ]
    },
    {
     "name": "stderr",
     "output_type": "stream",
     "text": [
      "100%|██████████| 512/512 [00:31<00:00, 16.09it/s]\n",
      "  0%|          | 2/512 [00:00<00:29, 17.50it/s]"
     ]
    },
    {
     "name": "stdout",
     "output_type": "stream",
     "text": [
      "Loss at step 512: -131.886\n",
      "357\n",
      "Initial loss: 0.327\n"
     ]
    },
    {
     "name": "stderr",
     "output_type": "stream",
     "text": [
      "100%|██████████| 512/512 [00:31<00:00, 16.07it/s]\n",
      "  0%|          | 2/512 [00:00<00:30, 16.85it/s]"
     ]
    },
    {
     "name": "stdout",
     "output_type": "stream",
     "text": [
      "Loss at step 512: -160.107\n",
      "358\n",
      "Initial loss: -0.514\n"
     ]
    },
    {
     "name": "stderr",
     "output_type": "stream",
     "text": [
      "100%|██████████| 512/512 [00:32<00:00, 15.96it/s]\n",
      "  0%|          | 2/512 [00:00<00:30, 16.46it/s]"
     ]
    },
    {
     "name": "stdout",
     "output_type": "stream",
     "text": [
      "Loss at step 512: -60.817\n",
      "359\n",
      "Initial loss: -0.562\n"
     ]
    },
    {
     "name": "stderr",
     "output_type": "stream",
     "text": [
      "100%|██████████| 512/512 [00:31<00:00, 16.02it/s]\n",
      "  0%|          | 2/512 [00:00<00:30, 16.51it/s]"
     ]
    },
    {
     "name": "stdout",
     "output_type": "stream",
     "text": [
      "Loss at step 512: -89.693\n",
      "360\n",
      "Initial loss: 0.682\n"
     ]
    },
    {
     "name": "stderr",
     "output_type": "stream",
     "text": [
      "100%|██████████| 512/512 [00:31<00:00, 16.16it/s]\n",
      "  0%|          | 2/512 [00:00<00:30, 16.73it/s]"
     ]
    },
    {
     "name": "stdout",
     "output_type": "stream",
     "text": [
      "Loss at step 512: -76.177\n",
      "361\n",
      "Initial loss: -0.137\n"
     ]
    },
    {
     "name": "stderr",
     "output_type": "stream",
     "text": [
      "100%|██████████| 512/512 [00:31<00:00, 16.08it/s]\n",
      "  0%|          | 2/512 [00:00<00:29, 17.07it/s]"
     ]
    },
    {
     "name": "stdout",
     "output_type": "stream",
     "text": [
      "Loss at step 512: -108.058\n",
      "362\n",
      "Initial loss: -0.002\n"
     ]
    },
    {
     "name": "stderr",
     "output_type": "stream",
     "text": [
      "100%|██████████| 512/512 [00:31<00:00, 16.10it/s]\n",
      "  0%|          | 2/512 [00:00<00:29, 17.44it/s]"
     ]
    },
    {
     "name": "stdout",
     "output_type": "stream",
     "text": [
      "Loss at step 512: -123.289\n",
      "363\n",
      "Initial loss: 0.023\n"
     ]
    },
    {
     "name": "stderr",
     "output_type": "stream",
     "text": [
      "100%|██████████| 512/512 [00:31<00:00, 16.43it/s]\n",
      "  0%|          | 2/512 [00:00<00:33, 15.32it/s]"
     ]
    },
    {
     "name": "stdout",
     "output_type": "stream",
     "text": [
      "Loss at step 512: -79.382\n",
      "364\n",
      "Initial loss: 0.753\n"
     ]
    },
    {
     "name": "stderr",
     "output_type": "stream",
     "text": [
      "100%|██████████| 512/512 [00:31<00:00, 16.14it/s]\n",
      "  0%|          | 2/512 [00:00<00:28, 17.97it/s]"
     ]
    },
    {
     "name": "stdout",
     "output_type": "stream",
     "text": [
      "Loss at step 512: -136.740\n",
      "365\n",
      "Initial loss: 0.379\n"
     ]
    },
    {
     "name": "stderr",
     "output_type": "stream",
     "text": [
      "100%|██████████| 512/512 [00:31<00:00, 16.24it/s]\n",
      "  0%|          | 2/512 [00:00<00:30, 16.75it/s]"
     ]
    },
    {
     "name": "stdout",
     "output_type": "stream",
     "text": [
      "Loss at step 512: -189.550\n",
      "366\n",
      "Initial loss: 0.543\n"
     ]
    },
    {
     "name": "stderr",
     "output_type": "stream",
     "text": [
      "100%|██████████| 512/512 [00:32<00:00, 15.97it/s]\n",
      "  0%|          | 2/512 [00:00<00:29, 17.30it/s]"
     ]
    },
    {
     "name": "stdout",
     "output_type": "stream",
     "text": [
      "Loss at step 512: -169.344\n",
      "367\n",
      "Initial loss: -0.023\n"
     ]
    },
    {
     "name": "stderr",
     "output_type": "stream",
     "text": [
      "100%|██████████| 512/512 [00:31<00:00, 16.21it/s]\n",
      "  0%|          | 2/512 [00:00<00:30, 16.91it/s]"
     ]
    },
    {
     "name": "stdout",
     "output_type": "stream",
     "text": [
      "Loss at step 512: -49.999\n",
      "368\n",
      "Initial loss: 1.347\n"
     ]
    },
    {
     "name": "stderr",
     "output_type": "stream",
     "text": [
      "100%|██████████| 512/512 [00:31<00:00, 16.29it/s]\n",
      "  0%|          | 2/512 [00:00<00:28, 17.79it/s]"
     ]
    },
    {
     "name": "stdout",
     "output_type": "stream",
     "text": [
      "Loss at step 512: -133.167\n",
      "369\n",
      "Initial loss: 0.443\n"
     ]
    },
    {
     "name": "stderr",
     "output_type": "stream",
     "text": [
      "100%|██████████| 512/512 [00:31<00:00, 16.33it/s]\n",
      "  0%|          | 2/512 [00:00<00:27, 18.22it/s]"
     ]
    },
    {
     "name": "stdout",
     "output_type": "stream",
     "text": [
      "Loss at step 512: -81.530\n",
      "370\n",
      "Initial loss: 1.172\n"
     ]
    },
    {
     "name": "stderr",
     "output_type": "stream",
     "text": [
      "100%|██████████| 512/512 [00:31<00:00, 16.41it/s]\n",
      "  0%|          | 2/512 [00:00<00:30, 16.67it/s]"
     ]
    },
    {
     "name": "stdout",
     "output_type": "stream",
     "text": [
      "Loss at step 512: -168.288\n",
      "371\n",
      "Initial loss: 0.213\n"
     ]
    },
    {
     "name": "stderr",
     "output_type": "stream",
     "text": [
      "100%|██████████| 512/512 [00:31<00:00, 16.23it/s]\n",
      "  0%|          | 2/512 [00:00<00:29, 17.28it/s]"
     ]
    },
    {
     "name": "stdout",
     "output_type": "stream",
     "text": [
      "Loss at step 512: -135.570\n",
      "372\n",
      "Initial loss: -0.282\n"
     ]
    },
    {
     "name": "stderr",
     "output_type": "stream",
     "text": [
      "100%|██████████| 512/512 [00:31<00:00, 16.10it/s]\n",
      "  0%|          | 2/512 [00:00<00:29, 17.23it/s]"
     ]
    },
    {
     "name": "stdout",
     "output_type": "stream",
     "text": [
      "Loss at step 512: -190.684\n",
      "373\n",
      "Initial loss: -1.139\n"
     ]
    },
    {
     "name": "stderr",
     "output_type": "stream",
     "text": [
      "100%|██████████| 512/512 [00:31<00:00, 16.00it/s]\n",
      "  0%|          | 2/512 [00:00<00:29, 17.58it/s]"
     ]
    },
    {
     "name": "stdout",
     "output_type": "stream",
     "text": [
      "Loss at step 512: -96.008\n",
      "374\n",
      "Initial loss: -0.925\n"
     ]
    },
    {
     "name": "stderr",
     "output_type": "stream",
     "text": [
      "100%|██████████| 512/512 [00:31<00:00, 16.24it/s]\n",
      "  0%|          | 2/512 [00:00<00:29, 17.45it/s]"
     ]
    },
    {
     "name": "stdout",
     "output_type": "stream",
     "text": [
      "Loss at step 512: -69.896\n",
      "375\n",
      "Initial loss: 0.256\n"
     ]
    },
    {
     "name": "stderr",
     "output_type": "stream",
     "text": [
      "100%|██████████| 512/512 [00:31<00:00, 16.12it/s]\n",
      "  0%|          | 2/512 [00:00<00:29, 17.58it/s]"
     ]
    },
    {
     "name": "stdout",
     "output_type": "stream",
     "text": [
      "Loss at step 512: -141.275\n",
      "376\n",
      "Initial loss: 0.352\n"
     ]
    },
    {
     "name": "stderr",
     "output_type": "stream",
     "text": [
      "100%|██████████| 512/512 [00:31<00:00, 16.12it/s]\n",
      "  0%|          | 2/512 [00:00<00:29, 17.01it/s]"
     ]
    },
    {
     "name": "stdout",
     "output_type": "stream",
     "text": [
      "Loss at step 512: -119.709\n",
      "377\n",
      "Initial loss: 1.779\n"
     ]
    },
    {
     "name": "stderr",
     "output_type": "stream",
     "text": [
      "100%|██████████| 512/512 [00:31<00:00, 16.12it/s]\n",
      "  0%|          | 2/512 [00:00<00:31, 16.16it/s]"
     ]
    },
    {
     "name": "stdout",
     "output_type": "stream",
     "text": [
      "Loss at step 512: -89.138\n",
      "378\n",
      "Initial loss: -0.992\n"
     ]
    },
    {
     "name": "stderr",
     "output_type": "stream",
     "text": [
      "100%|██████████| 512/512 [00:31<00:00, 16.13it/s]\n",
      "  0%|          | 2/512 [00:00<00:28, 17.83it/s]"
     ]
    },
    {
     "name": "stdout",
     "output_type": "stream",
     "text": [
      "Loss at step 512: -76.001\n",
      "379\n",
      "Initial loss: 0.356\n"
     ]
    },
    {
     "name": "stderr",
     "output_type": "stream",
     "text": [
      "100%|██████████| 512/512 [00:31<00:00, 16.03it/s]\n",
      "  0%|          | 2/512 [00:00<00:29, 17.13it/s]"
     ]
    },
    {
     "name": "stdout",
     "output_type": "stream",
     "text": [
      "Loss at step 512: -88.565\n",
      "380\n",
      "Initial loss: 0.351\n"
     ]
    },
    {
     "name": "stderr",
     "output_type": "stream",
     "text": [
      "100%|██████████| 512/512 [00:31<00:00, 16.06it/s]\n",
      "  0%|          | 2/512 [00:00<00:29, 17.53it/s]"
     ]
    },
    {
     "name": "stdout",
     "output_type": "stream",
     "text": [
      "Loss at step 512: -92.642\n",
      "381\n",
      "Initial loss: -0.244\n"
     ]
    },
    {
     "name": "stderr",
     "output_type": "stream",
     "text": [
      "100%|██████████| 512/512 [00:31<00:00, 16.12it/s]\n",
      "  0%|          | 2/512 [00:00<00:29, 17.26it/s]"
     ]
    },
    {
     "name": "stdout",
     "output_type": "stream",
     "text": [
      "Loss at step 512: -146.279\n",
      "382\n",
      "Initial loss: 0.031\n"
     ]
    },
    {
     "name": "stderr",
     "output_type": "stream",
     "text": [
      "100%|██████████| 512/512 [00:31<00:00, 16.02it/s]\n",
      "  0%|          | 2/512 [00:00<00:29, 17.02it/s]"
     ]
    },
    {
     "name": "stdout",
     "output_type": "stream",
     "text": [
      "Loss at step 512: -143.267\n",
      "383\n",
      "Initial loss: -0.027\n"
     ]
    },
    {
     "name": "stderr",
     "output_type": "stream",
     "text": [
      "100%|██████████| 512/512 [00:32<00:00, 15.97it/s]\n",
      "  0%|          | 2/512 [00:00<00:29, 17.08it/s]"
     ]
    },
    {
     "name": "stdout",
     "output_type": "stream",
     "text": [
      "Loss at step 512: -107.701\n",
      "384\n",
      "Initial loss: 0.394\n"
     ]
    },
    {
     "name": "stderr",
     "output_type": "stream",
     "text": [
      "100%|██████████| 512/512 [00:31<00:00, 16.09it/s]\n",
      "  0%|          | 2/512 [00:00<00:29, 17.18it/s]"
     ]
    },
    {
     "name": "stdout",
     "output_type": "stream",
     "text": [
      "Loss at step 512: -129.484\n",
      "385\n",
      "Initial loss: 0.320\n"
     ]
    },
    {
     "name": "stderr",
     "output_type": "stream",
     "text": [
      "100%|██████████| 512/512 [00:32<00:00, 15.93it/s]\n",
      "  0%|          | 2/512 [00:00<00:29, 17.46it/s]"
     ]
    },
    {
     "name": "stdout",
     "output_type": "stream",
     "text": [
      "Loss at step 512: -119.348\n",
      "386\n",
      "Initial loss: -1.060\n"
     ]
    },
    {
     "name": "stderr",
     "output_type": "stream",
     "text": [
      "100%|██████████| 512/512 [00:31<00:00, 16.14it/s]\n",
      "  0%|          | 2/512 [00:00<00:29, 17.44it/s]"
     ]
    },
    {
     "name": "stdout",
     "output_type": "stream",
     "text": [
      "Loss at step 512: -52.583\n",
      "387\n",
      "Initial loss: 0.334\n"
     ]
    },
    {
     "name": "stderr",
     "output_type": "stream",
     "text": [
      "100%|██████████| 512/512 [00:32<00:00, 15.96it/s]\n",
      "  0%|          | 2/512 [00:00<00:28, 17.92it/s]"
     ]
    },
    {
     "name": "stdout",
     "output_type": "stream",
     "text": [
      "Loss at step 512: -87.657\n",
      "388\n",
      "Initial loss: 0.837\n"
     ]
    },
    {
     "name": "stderr",
     "output_type": "stream",
     "text": [
      "100%|██████████| 512/512 [00:31<00:00, 16.12it/s]\n",
      "  0%|          | 2/512 [00:00<00:27, 18.28it/s]"
     ]
    },
    {
     "name": "stdout",
     "output_type": "stream",
     "text": [
      "Loss at step 512: -85.992\n",
      "389\n",
      "Initial loss: 0.864\n"
     ]
    },
    {
     "name": "stderr",
     "output_type": "stream",
     "text": [
      "100%|██████████| 512/512 [00:32<00:00, 15.92it/s]\n",
      "  0%|          | 2/512 [00:00<00:28, 18.01it/s]"
     ]
    },
    {
     "name": "stdout",
     "output_type": "stream",
     "text": [
      "Loss at step 512: -90.193\n",
      "390\n",
      "Initial loss: 0.106\n"
     ]
    },
    {
     "name": "stderr",
     "output_type": "stream",
     "text": [
      "100%|██████████| 512/512 [00:31<00:00, 16.07it/s]\n",
      "  0%|          | 2/512 [00:00<00:28, 18.01it/s]"
     ]
    },
    {
     "name": "stdout",
     "output_type": "stream",
     "text": [
      "Loss at step 512: -88.001\n",
      "391\n",
      "Initial loss: 0.073\n"
     ]
    },
    {
     "name": "stderr",
     "output_type": "stream",
     "text": [
      "100%|██████████| 512/512 [00:31<00:00, 16.16it/s]\n",
      "  0%|          | 2/512 [00:00<00:28, 18.04it/s]"
     ]
    },
    {
     "name": "stdout",
     "output_type": "stream",
     "text": [
      "Loss at step 512: -89.405\n",
      "392\n",
      "Initial loss: 0.451\n"
     ]
    },
    {
     "name": "stderr",
     "output_type": "stream",
     "text": [
      "100%|██████████| 512/512 [00:31<00:00, 16.06it/s]\n",
      "  0%|          | 2/512 [00:00<00:28, 17.97it/s]"
     ]
    },
    {
     "name": "stdout",
     "output_type": "stream",
     "text": [
      "Loss at step 512: -118.762\n",
      "393\n",
      "Initial loss: 1.343\n"
     ]
    },
    {
     "name": "stderr",
     "output_type": "stream",
     "text": [
      "100%|██████████| 512/512 [00:31<00:00, 16.16it/s]\n",
      "  0%|          | 2/512 [00:00<00:29, 17.10it/s]"
     ]
    },
    {
     "name": "stdout",
     "output_type": "stream",
     "text": [
      "Loss at step 512: -81.431\n",
      "394\n",
      "Initial loss: 0.472\n"
     ]
    },
    {
     "name": "stderr",
     "output_type": "stream",
     "text": [
      "100%|██████████| 512/512 [00:32<00:00, 15.99it/s]\n",
      "  0%|          | 2/512 [00:00<00:29, 17.57it/s]"
     ]
    },
    {
     "name": "stdout",
     "output_type": "stream",
     "text": [
      "Loss at step 512: -123.204\n",
      "395\n",
      "Initial loss: -0.068\n"
     ]
    },
    {
     "name": "stderr",
     "output_type": "stream",
     "text": [
      "100%|██████████| 512/512 [00:32<00:00, 15.98it/s]\n",
      "  0%|          | 2/512 [00:00<00:30, 16.50it/s]"
     ]
    },
    {
     "name": "stdout",
     "output_type": "stream",
     "text": [
      "Loss at step 512: -176.154\n",
      "396\n",
      "Initial loss: -0.691\n"
     ]
    },
    {
     "name": "stderr",
     "output_type": "stream",
     "text": [
      "100%|██████████| 512/512 [00:32<00:00, 15.60it/s]\n",
      "  0%|          | 2/512 [00:00<00:28, 18.06it/s]"
     ]
    },
    {
     "name": "stdout",
     "output_type": "stream",
     "text": [
      "Loss at step 512: -90.539\n",
      "397\n",
      "Initial loss: 0.069\n"
     ]
    },
    {
     "name": "stderr",
     "output_type": "stream",
     "text": [
      "100%|██████████| 512/512 [00:31<00:00, 16.01it/s]\n",
      "  0%|          | 2/512 [00:00<00:29, 17.15it/s]"
     ]
    },
    {
     "name": "stdout",
     "output_type": "stream",
     "text": [
      "Loss at step 512: -98.850\n",
      "398\n",
      "Initial loss: -0.057\n"
     ]
    },
    {
     "name": "stderr",
     "output_type": "stream",
     "text": [
      "100%|██████████| 512/512 [00:32<00:00, 15.63it/s]\n",
      "  0%|          | 0/512 [00:00<?, ?it/s]"
     ]
    },
    {
     "name": "stdout",
     "output_type": "stream",
     "text": [
      "Loss at step 512: -72.921\n",
      "399\n",
      "Initial loss: 0.518\n"
     ]
    },
    {
     "name": "stderr",
     "output_type": "stream",
     "text": [
      "100%|██████████| 512/512 [00:32<00:00, 15.99it/s]\n",
      "  0%|          | 2/512 [00:00<00:28, 17.78it/s]"
     ]
    },
    {
     "name": "stdout",
     "output_type": "stream",
     "text": [
      "Loss at step 512: -307.393\n",
      "400\n",
      "Initial loss: 0.015\n"
     ]
    },
    {
     "name": "stderr",
     "output_type": "stream",
     "text": [
      "100%|██████████| 512/512 [00:32<00:00, 15.91it/s]\n",
      "  0%|          | 2/512 [00:00<00:29, 17.47it/s]"
     ]
    },
    {
     "name": "stdout",
     "output_type": "stream",
     "text": [
      "Loss at step 512: -80.356\n",
      "401\n",
      "Initial loss: -0.125\n"
     ]
    },
    {
     "name": "stderr",
     "output_type": "stream",
     "text": [
      "100%|██████████| 512/512 [00:31<00:00, 16.14it/s]\n",
      "  0%|          | 2/512 [00:00<00:30, 16.59it/s]"
     ]
    },
    {
     "name": "stdout",
     "output_type": "stream",
     "text": [
      "Loss at step 512: -95.624\n",
      "402\n",
      "Initial loss: 0.456\n"
     ]
    },
    {
     "name": "stderr",
     "output_type": "stream",
     "text": [
      "100%|██████████| 512/512 [00:31<00:00, 16.10it/s]\n",
      "  0%|          | 2/512 [00:00<00:29, 17.23it/s]"
     ]
    },
    {
     "name": "stdout",
     "output_type": "stream",
     "text": [
      "Loss at step 512: -98.597\n",
      "403\n",
      "Initial loss: -0.445\n"
     ]
    },
    {
     "name": "stderr",
     "output_type": "stream",
     "text": [
      "100%|██████████| 512/512 [00:32<00:00, 15.75it/s]\n",
      "  0%|          | 2/512 [00:00<00:28, 17.72it/s]"
     ]
    },
    {
     "name": "stdout",
     "output_type": "stream",
     "text": [
      "Loss at step 512: -74.899\n",
      "404\n",
      "Initial loss: 0.818\n"
     ]
    },
    {
     "name": "stderr",
     "output_type": "stream",
     "text": [
      "100%|██████████| 512/512 [00:32<00:00, 15.86it/s]\n",
      "  0%|          | 2/512 [00:00<00:30, 16.90it/s]"
     ]
    },
    {
     "name": "stdout",
     "output_type": "stream",
     "text": [
      "Loss at step 512: -75.265\n",
      "405\n",
      "Initial loss: 0.364\n"
     ]
    },
    {
     "name": "stderr",
     "output_type": "stream",
     "text": [
      "100%|██████████| 512/512 [00:32<00:00, 15.99it/s]\n",
      "  0%|          | 2/512 [00:00<00:31, 16.38it/s]"
     ]
    },
    {
     "name": "stdout",
     "output_type": "stream",
     "text": [
      "Loss at step 512: -78.961\n",
      "406\n",
      "Initial loss: 0.338\n"
     ]
    },
    {
     "name": "stderr",
     "output_type": "stream",
     "text": [
      "100%|██████████| 512/512 [00:32<00:00, 15.98it/s]\n",
      "  0%|          | 2/512 [00:00<00:30, 16.81it/s]"
     ]
    },
    {
     "name": "stdout",
     "output_type": "stream",
     "text": [
      "Loss at step 512: -166.357\n",
      "407\n",
      "Initial loss: 0.724\n"
     ]
    },
    {
     "name": "stderr",
     "output_type": "stream",
     "text": [
      "100%|██████████| 512/512 [00:32<00:00, 15.92it/s]\n",
      "  0%|          | 2/512 [00:00<00:30, 16.65it/s]"
     ]
    },
    {
     "name": "stdout",
     "output_type": "stream",
     "text": [
      "Loss at step 512: -65.525\n",
      "408\n",
      "Initial loss: 1.014\n"
     ]
    },
    {
     "name": "stderr",
     "output_type": "stream",
     "text": [
      "100%|██████████| 512/512 [00:32<00:00, 15.84it/s]\n",
      "  0%|          | 2/512 [00:00<00:32, 15.86it/s]"
     ]
    },
    {
     "name": "stdout",
     "output_type": "stream",
     "text": [
      "Loss at step 512: -74.718\n",
      "409\n",
      "Initial loss: 0.376\n"
     ]
    },
    {
     "name": "stderr",
     "output_type": "stream",
     "text": [
      "100%|██████████| 512/512 [00:32<00:00, 15.89it/s]\n",
      "  0%|          | 2/512 [00:00<00:28, 17.91it/s]"
     ]
    },
    {
     "name": "stdout",
     "output_type": "stream",
     "text": [
      "Loss at step 512: -69.381\n",
      "410\n",
      "Initial loss: 2.591\n"
     ]
    },
    {
     "name": "stderr",
     "output_type": "stream",
     "text": [
      "100%|██████████| 512/512 [00:32<00:00, 15.92it/s]\n",
      "  0%|          | 2/512 [00:00<00:30, 16.90it/s]"
     ]
    },
    {
     "name": "stdout",
     "output_type": "stream",
     "text": [
      "Loss at step 512: -169.187\n",
      "411\n",
      "Initial loss: -0.237\n"
     ]
    },
    {
     "name": "stderr",
     "output_type": "stream",
     "text": [
      "100%|██████████| 512/512 [00:32<00:00, 15.98it/s]\n",
      "  0%|          | 2/512 [00:00<00:28, 17.71it/s]"
     ]
    },
    {
     "name": "stdout",
     "output_type": "stream",
     "text": [
      "Loss at step 512: -62.664\n",
      "412\n",
      "Initial loss: -0.141\n"
     ]
    },
    {
     "name": "stderr",
     "output_type": "stream",
     "text": [
      "100%|██████████| 512/512 [00:32<00:00, 15.87it/s]\n",
      "  0%|          | 2/512 [00:00<00:30, 16.70it/s]"
     ]
    },
    {
     "name": "stdout",
     "output_type": "stream",
     "text": [
      "Loss at step 512: -66.033\n",
      "413\n",
      "Initial loss: 0.213\n"
     ]
    },
    {
     "name": "stderr",
     "output_type": "stream",
     "text": [
      "100%|██████████| 512/512 [00:31<00:00, 16.19it/s]\n",
      "  0%|          | 2/512 [00:00<00:29, 17.35it/s]"
     ]
    },
    {
     "name": "stdout",
     "output_type": "stream",
     "text": [
      "Loss at step 512: -88.263\n",
      "414\n",
      "Initial loss: -0.492\n"
     ]
    },
    {
     "name": "stderr",
     "output_type": "stream",
     "text": [
      "100%|██████████| 512/512 [00:32<00:00, 16.00it/s]\n",
      "  0%|          | 2/512 [00:00<00:30, 16.93it/s]"
     ]
    },
    {
     "name": "stdout",
     "output_type": "stream",
     "text": [
      "Loss at step 512: -60.622\n",
      "415\n",
      "Initial loss: 0.798\n"
     ]
    },
    {
     "name": "stderr",
     "output_type": "stream",
     "text": [
      "100%|██████████| 512/512 [00:32<00:00, 15.76it/s]\n",
      "  0%|          | 2/512 [00:00<00:29, 17.01it/s]"
     ]
    },
    {
     "name": "stdout",
     "output_type": "stream",
     "text": [
      "Loss at step 512: -101.401\n",
      "416\n",
      "Initial loss: 0.358\n"
     ]
    },
    {
     "name": "stderr",
     "output_type": "stream",
     "text": [
      "100%|██████████| 512/512 [00:32<00:00, 15.89it/s]\n",
      "  0%|          | 2/512 [00:00<00:28, 17.68it/s]"
     ]
    },
    {
     "name": "stdout",
     "output_type": "stream",
     "text": [
      "Loss at step 512: -122.857\n",
      "417\n",
      "Initial loss: -0.557\n"
     ]
    },
    {
     "name": "stderr",
     "output_type": "stream",
     "text": [
      "100%|██████████| 512/512 [00:32<00:00, 15.95it/s]\n",
      "  0%|          | 2/512 [00:00<00:31, 16.31it/s]"
     ]
    },
    {
     "name": "stdout",
     "output_type": "stream",
     "text": [
      "Loss at step 512: -107.720\n",
      "418\n",
      "Initial loss: -0.493\n"
     ]
    },
    {
     "name": "stderr",
     "output_type": "stream",
     "text": [
      "100%|██████████| 512/512 [00:32<00:00, 15.85it/s]\n",
      "  0%|          | 2/512 [00:00<00:32, 15.85it/s]"
     ]
    },
    {
     "name": "stdout",
     "output_type": "stream",
     "text": [
      "Loss at step 512: -157.787\n",
      "419\n",
      "Initial loss: 0.009\n"
     ]
    },
    {
     "name": "stderr",
     "output_type": "stream",
     "text": [
      "100%|██████████| 512/512 [00:32<00:00, 15.80it/s]\n",
      "  0%|          | 2/512 [00:00<00:27, 18.49it/s]"
     ]
    },
    {
     "name": "stdout",
     "output_type": "stream",
     "text": [
      "Loss at step 512: -66.536\n",
      "420\n",
      "Initial loss: -0.371\n"
     ]
    },
    {
     "name": "stderr",
     "output_type": "stream",
     "text": [
      "100%|██████████| 512/512 [00:31<00:00, 16.01it/s]\n",
      "  0%|          | 2/512 [00:00<00:30, 16.73it/s]"
     ]
    },
    {
     "name": "stdout",
     "output_type": "stream",
     "text": [
      "Loss at step 512: -95.416\n",
      "421\n",
      "Initial loss: 1.006\n"
     ]
    },
    {
     "name": "stderr",
     "output_type": "stream",
     "text": [
      "100%|██████████| 512/512 [00:32<00:00, 15.83it/s]\n",
      "  0%|          | 2/512 [00:00<00:30, 16.87it/s]"
     ]
    },
    {
     "name": "stdout",
     "output_type": "stream",
     "text": [
      "Loss at step 512: -122.651\n",
      "422\n",
      "Initial loss: -0.415\n"
     ]
    },
    {
     "name": "stderr",
     "output_type": "stream",
     "text": [
      "100%|██████████| 512/512 [00:32<00:00, 15.86it/s]\n",
      "  0%|          | 2/512 [00:00<00:30, 16.96it/s]"
     ]
    },
    {
     "name": "stdout",
     "output_type": "stream",
     "text": [
      "Loss at step 512: -65.303\n",
      "423\n",
      "Initial loss: -0.561\n"
     ]
    },
    {
     "name": "stderr",
     "output_type": "stream",
     "text": [
      "100%|██████████| 512/512 [00:32<00:00, 16.00it/s]\n",
      "  0%|          | 2/512 [00:00<00:28, 17.73it/s]"
     ]
    },
    {
     "name": "stdout",
     "output_type": "stream",
     "text": [
      "Loss at step 512: -102.843\n",
      "424\n",
      "Initial loss: 0.967\n"
     ]
    },
    {
     "name": "stderr",
     "output_type": "stream",
     "text": [
      "100%|██████████| 512/512 [00:31<00:00, 16.01it/s]\n",
      "  0%|          | 2/512 [00:00<00:29, 17.42it/s]"
     ]
    },
    {
     "name": "stdout",
     "output_type": "stream",
     "text": [
      "Loss at step 512: -101.874\n",
      "425\n",
      "Initial loss: -0.534\n"
     ]
    },
    {
     "name": "stderr",
     "output_type": "stream",
     "text": [
      "100%|██████████| 512/512 [00:31<00:00, 16.03it/s]\n",
      "  0%|          | 2/512 [00:00<00:28, 17.65it/s]"
     ]
    },
    {
     "name": "stdout",
     "output_type": "stream",
     "text": [
      "Loss at step 512: -52.473\n",
      "426\n",
      "Initial loss: -1.383\n"
     ]
    },
    {
     "name": "stderr",
     "output_type": "stream",
     "text": [
      "100%|██████████| 512/512 [00:32<00:00, 15.92it/s]\n",
      "  0%|          | 2/512 [00:00<00:30, 16.95it/s]"
     ]
    },
    {
     "name": "stdout",
     "output_type": "stream",
     "text": [
      "Loss at step 512: -67.389\n",
      "427\n",
      "Initial loss: -0.614\n"
     ]
    },
    {
     "name": "stderr",
     "output_type": "stream",
     "text": [
      "100%|██████████| 512/512 [00:32<00:00, 15.65it/s]\n",
      "  0%|          | 2/512 [00:00<00:30, 16.96it/s]"
     ]
    },
    {
     "name": "stdout",
     "output_type": "stream",
     "text": [
      "Loss at step 512: -142.696\n",
      "428\n",
      "Initial loss: -0.470\n"
     ]
    },
    {
     "name": "stderr",
     "output_type": "stream",
     "text": [
      "100%|██████████| 512/512 [00:32<00:00, 15.88it/s]\n",
      "  0%|          | 2/512 [00:00<00:28, 17.88it/s]"
     ]
    },
    {
     "name": "stdout",
     "output_type": "stream",
     "text": [
      "Loss at step 512: -67.166\n",
      "429\n",
      "Initial loss: -0.445\n"
     ]
    },
    {
     "name": "stderr",
     "output_type": "stream",
     "text": [
      "100%|██████████| 512/512 [00:31<00:00, 16.36it/s]\n",
      "  0%|          | 2/512 [00:00<00:28, 17.84it/s]"
     ]
    },
    {
     "name": "stdout",
     "output_type": "stream",
     "text": [
      "Loss at step 512: -179.326\n",
      "430\n",
      "Initial loss: 0.948\n"
     ]
    },
    {
     "name": "stderr",
     "output_type": "stream",
     "text": [
      "100%|██████████| 512/512 [00:30<00:00, 16.73it/s]\n",
      "  0%|          | 2/512 [00:00<00:29, 17.51it/s]"
     ]
    },
    {
     "name": "stdout",
     "output_type": "stream",
     "text": [
      "Loss at step 512: -51.403\n",
      "431\n",
      "Initial loss: 1.135\n"
     ]
    },
    {
     "name": "stderr",
     "output_type": "stream",
     "text": [
      "100%|██████████| 512/512 [00:32<00:00, 15.76it/s]\n",
      "  0%|          | 2/512 [00:00<00:30, 16.65it/s]"
     ]
    },
    {
     "name": "stdout",
     "output_type": "stream",
     "text": [
      "Loss at step 512: -81.569\n",
      "432\n",
      "Initial loss: 1.047\n"
     ]
    },
    {
     "name": "stderr",
     "output_type": "stream",
     "text": [
      "100%|██████████| 512/512 [00:32<00:00, 15.92it/s]\n",
      "  0%|          | 2/512 [00:00<00:29, 17.56it/s]"
     ]
    },
    {
     "name": "stdout",
     "output_type": "stream",
     "text": [
      "Loss at step 512: -125.589\n",
      "433\n",
      "Initial loss: -0.610\n"
     ]
    },
    {
     "name": "stderr",
     "output_type": "stream",
     "text": [
      "100%|██████████| 512/512 [00:32<00:00, 15.97it/s]\n",
      "  0%|          | 2/512 [00:00<00:28, 17.99it/s]"
     ]
    },
    {
     "name": "stdout",
     "output_type": "stream",
     "text": [
      "Loss at step 512: -129.329\n",
      "434\n",
      "Initial loss: -0.904\n"
     ]
    },
    {
     "name": "stderr",
     "output_type": "stream",
     "text": [
      "100%|██████████| 512/512 [00:31<00:00, 16.12it/s]\n",
      "  0%|          | 2/512 [00:00<00:30, 16.89it/s]"
     ]
    },
    {
     "name": "stdout",
     "output_type": "stream",
     "text": [
      "Loss at step 512: -129.822\n",
      "435\n",
      "Initial loss: -0.816\n"
     ]
    },
    {
     "name": "stderr",
     "output_type": "stream",
     "text": [
      "100%|██████████| 512/512 [00:32<00:00, 15.99it/s]\n",
      "  0%|          | 2/512 [00:00<00:30, 16.84it/s]"
     ]
    },
    {
     "name": "stdout",
     "output_type": "stream",
     "text": [
      "Loss at step 512: -54.731\n",
      "436\n",
      "Initial loss: 0.316\n"
     ]
    },
    {
     "name": "stderr",
     "output_type": "stream",
     "text": [
      "100%|██████████| 512/512 [00:32<00:00, 15.87it/s]\n",
      "  0%|          | 2/512 [00:00<00:31, 16.39it/s]"
     ]
    },
    {
     "name": "stdout",
     "output_type": "stream",
     "text": [
      "Loss at step 512: -106.956\n",
      "437\n",
      "Initial loss: -0.198\n"
     ]
    },
    {
     "name": "stderr",
     "output_type": "stream",
     "text": [
      "100%|██████████| 512/512 [00:32<00:00, 15.89it/s]\n",
      "  0%|          | 2/512 [00:00<00:28, 17.87it/s]"
     ]
    },
    {
     "name": "stdout",
     "output_type": "stream",
     "text": [
      "Loss at step 512: -84.564\n",
      "438\n",
      "Initial loss: 0.445\n"
     ]
    },
    {
     "name": "stderr",
     "output_type": "stream",
     "text": [
      "100%|██████████| 512/512 [00:32<00:00, 15.94it/s]\n",
      "  0%|          | 2/512 [00:00<00:29, 17.34it/s]"
     ]
    },
    {
     "name": "stdout",
     "output_type": "stream",
     "text": [
      "Loss at step 512: -125.619\n",
      "439\n",
      "Initial loss: 0.210\n"
     ]
    },
    {
     "name": "stderr",
     "output_type": "stream",
     "text": [
      "100%|██████████| 512/512 [00:32<00:00, 15.79it/s]\n",
      "  0%|          | 2/512 [00:00<00:28, 18.02it/s]"
     ]
    },
    {
     "name": "stdout",
     "output_type": "stream",
     "text": [
      "Loss at step 512: -101.308\n",
      "440\n",
      "Initial loss: 2.053\n"
     ]
    },
    {
     "name": "stderr",
     "output_type": "stream",
     "text": [
      "100%|██████████| 512/512 [00:32<00:00, 15.99it/s]\n",
      "  0%|          | 2/512 [00:00<00:29, 17.45it/s]"
     ]
    },
    {
     "name": "stdout",
     "output_type": "stream",
     "text": [
      "Loss at step 512: -217.862\n",
      "441\n",
      "Initial loss: 0.778\n"
     ]
    },
    {
     "name": "stderr",
     "output_type": "stream",
     "text": [
      "100%|██████████| 512/512 [00:32<00:00, 15.87it/s]\n",
      "  0%|          | 2/512 [00:00<00:29, 17.07it/s]"
     ]
    },
    {
     "name": "stdout",
     "output_type": "stream",
     "text": [
      "Loss at step 512: -72.716\n",
      "442\n",
      "Initial loss: -0.343\n"
     ]
    },
    {
     "name": "stderr",
     "output_type": "stream",
     "text": [
      "100%|██████████| 512/512 [00:32<00:00, 15.84it/s]\n",
      "  0%|          | 2/512 [00:00<00:30, 16.70it/s]"
     ]
    },
    {
     "name": "stdout",
     "output_type": "stream",
     "text": [
      "Loss at step 512: -198.835\n",
      "443\n",
      "Initial loss: -0.028\n"
     ]
    },
    {
     "name": "stderr",
     "output_type": "stream",
     "text": [
      "100%|██████████| 512/512 [00:32<00:00, 15.78it/s]\n",
      "  0%|          | 2/512 [00:00<00:30, 16.63it/s]"
     ]
    },
    {
     "name": "stdout",
     "output_type": "stream",
     "text": [
      "Loss at step 512: -110.595\n",
      "444\n",
      "Initial loss: -0.455\n"
     ]
    },
    {
     "name": "stderr",
     "output_type": "stream",
     "text": [
      "100%|██████████| 512/512 [00:32<00:00, 15.79it/s]\n",
      "  0%|          | 2/512 [00:00<00:29, 17.39it/s]"
     ]
    },
    {
     "name": "stdout",
     "output_type": "stream",
     "text": [
      "Loss at step 512: -78.563\n",
      "445\n",
      "Initial loss: 0.529\n"
     ]
    },
    {
     "name": "stderr",
     "output_type": "stream",
     "text": [
      "100%|██████████| 512/512 [00:32<00:00, 15.87it/s]\n",
      "  0%|          | 2/512 [00:00<00:30, 16.71it/s]"
     ]
    },
    {
     "name": "stdout",
     "output_type": "stream",
     "text": [
      "Loss at step 512: -263.738\n",
      "446\n",
      "Initial loss: 0.055\n"
     ]
    },
    {
     "name": "stderr",
     "output_type": "stream",
     "text": [
      "100%|██████████| 512/512 [00:31<00:00, 16.36it/s]\n",
      "  0%|          | 2/512 [00:00<00:29, 17.17it/s]"
     ]
    },
    {
     "name": "stdout",
     "output_type": "stream",
     "text": [
      "Loss at step 512: -248.084\n",
      "447\n",
      "Initial loss: 0.520\n"
     ]
    },
    {
     "name": "stderr",
     "output_type": "stream",
     "text": [
      "100%|██████████| 512/512 [00:32<00:00, 15.98it/s]\n",
      "  0%|          | 2/512 [00:00<00:29, 17.55it/s]"
     ]
    },
    {
     "name": "stdout",
     "output_type": "stream",
     "text": [
      "Loss at step 512: -102.682\n",
      "448\n",
      "Initial loss: -0.972\n"
     ]
    },
    {
     "name": "stderr",
     "output_type": "stream",
     "text": [
      "100%|██████████| 512/512 [00:32<00:00, 15.80it/s]\n",
      "  0%|          | 2/512 [00:00<00:28, 17.68it/s]"
     ]
    },
    {
     "name": "stdout",
     "output_type": "stream",
     "text": [
      "Loss at step 512: -57.516\n",
      "449\n",
      "Initial loss: 1.368\n"
     ]
    },
    {
     "name": "stderr",
     "output_type": "stream",
     "text": [
      "100%|██████████| 512/512 [00:32<00:00, 15.93it/s]\n",
      "  0%|          | 2/512 [00:00<00:29, 17.10it/s]"
     ]
    },
    {
     "name": "stdout",
     "output_type": "stream",
     "text": [
      "Loss at step 512: -95.130\n",
      "450\n",
      "Initial loss: -0.320\n"
     ]
    },
    {
     "name": "stderr",
     "output_type": "stream",
     "text": [
      "100%|██████████| 512/512 [00:32<00:00, 15.86it/s]\n",
      "  0%|          | 2/512 [00:00<00:28, 17.81it/s]"
     ]
    },
    {
     "name": "stdout",
     "output_type": "stream",
     "text": [
      "Loss at step 512: -134.056\n",
      "451\n",
      "Initial loss: -0.402\n"
     ]
    },
    {
     "name": "stderr",
     "output_type": "stream",
     "text": [
      "100%|██████████| 512/512 [00:32<00:00, 15.98it/s]\n",
      "  0%|          | 2/512 [00:00<00:30, 16.64it/s]"
     ]
    },
    {
     "name": "stdout",
     "output_type": "stream",
     "text": [
      "Loss at step 512: -69.908\n",
      "452\n",
      "Initial loss: 0.460\n"
     ]
    },
    {
     "name": "stderr",
     "output_type": "stream",
     "text": [
      "100%|██████████| 512/512 [00:32<00:00, 15.77it/s]\n",
      "  0%|          | 2/512 [00:00<00:31, 16.05it/s]"
     ]
    },
    {
     "name": "stdout",
     "output_type": "stream",
     "text": [
      "Loss at step 512: -96.269\n",
      "453\n",
      "Initial loss: -0.091\n"
     ]
    },
    {
     "name": "stderr",
     "output_type": "stream",
     "text": [
      "100%|██████████| 512/512 [00:32<00:00, 16.00it/s]\n",
      "  0%|          | 2/512 [00:00<00:30, 16.81it/s]"
     ]
    },
    {
     "name": "stdout",
     "output_type": "stream",
     "text": [
      "Loss at step 512: -115.319\n",
      "454\n",
      "Initial loss: 0.216\n"
     ]
    },
    {
     "name": "stderr",
     "output_type": "stream",
     "text": [
      "100%|██████████| 512/512 [00:32<00:00, 15.76it/s]\n",
      "  0%|          | 2/512 [00:00<00:30, 16.54it/s]"
     ]
    },
    {
     "name": "stdout",
     "output_type": "stream",
     "text": [
      "Loss at step 512: -242.525\n",
      "455\n",
      "Initial loss: -0.171\n"
     ]
    },
    {
     "name": "stderr",
     "output_type": "stream",
     "text": [
      "100%|██████████| 512/512 [00:32<00:00, 15.78it/s]\n",
      "  0%|          | 2/512 [00:00<00:29, 17.24it/s]"
     ]
    },
    {
     "name": "stdout",
     "output_type": "stream",
     "text": [
      "Loss at step 512: -62.394\n",
      "456\n",
      "Initial loss: 0.869\n"
     ]
    },
    {
     "name": "stderr",
     "output_type": "stream",
     "text": [
      "100%|██████████| 512/512 [00:31<00:00, 16.04it/s]\n",
      "  0%|          | 2/512 [00:00<00:29, 17.49it/s]"
     ]
    },
    {
     "name": "stdout",
     "output_type": "stream",
     "text": [
      "Loss at step 512: -61.669\n",
      "457\n",
      "Initial loss: 2.103\n"
     ]
    },
    {
     "name": "stderr",
     "output_type": "stream",
     "text": [
      "100%|██████████| 512/512 [00:32<00:00, 15.95it/s]\n",
      "  0%|          | 2/512 [00:00<00:30, 16.45it/s]"
     ]
    },
    {
     "name": "stdout",
     "output_type": "stream",
     "text": [
      "Loss at step 512: -101.821\n",
      "458\n",
      "Initial loss: 0.311\n"
     ]
    },
    {
     "name": "stderr",
     "output_type": "stream",
     "text": [
      "100%|██████████| 512/512 [00:32<00:00, 15.76it/s]\n",
      "  0%|          | 2/512 [00:00<00:28, 17.80it/s]"
     ]
    },
    {
     "name": "stdout",
     "output_type": "stream",
     "text": [
      "Loss at step 512: -64.841\n",
      "459\n",
      "Initial loss: -0.557\n"
     ]
    },
    {
     "name": "stderr",
     "output_type": "stream",
     "text": [
      "100%|██████████| 512/512 [00:32<00:00, 15.97it/s]\n",
      "  0%|          | 2/512 [00:00<00:30, 16.99it/s]"
     ]
    },
    {
     "name": "stdout",
     "output_type": "stream",
     "text": [
      "Loss at step 512: -59.221\n",
      "460\n",
      "Initial loss: -1.866\n"
     ]
    },
    {
     "name": "stderr",
     "output_type": "stream",
     "text": [
      "100%|██████████| 512/512 [00:32<00:00, 15.69it/s]\n",
      "  0%|          | 2/512 [00:00<00:29, 17.37it/s]"
     ]
    },
    {
     "name": "stdout",
     "output_type": "stream",
     "text": [
      "Loss at step 512: -60.361\n",
      "461\n",
      "Initial loss: -1.207\n"
     ]
    },
    {
     "name": "stderr",
     "output_type": "stream",
     "text": [
      "100%|██████████| 512/512 [00:32<00:00, 15.66it/s]\n",
      "  0%|          | 2/512 [00:00<00:29, 17.32it/s]"
     ]
    },
    {
     "name": "stdout",
     "output_type": "stream",
     "text": [
      "Loss at step 512: -68.479\n",
      "462\n",
      "Initial loss: -0.903\n"
     ]
    },
    {
     "name": "stderr",
     "output_type": "stream",
     "text": [
      "100%|██████████| 512/512 [00:32<00:00, 15.76it/s]\n",
      "  0%|          | 2/512 [00:00<00:30, 16.75it/s]"
     ]
    },
    {
     "name": "stdout",
     "output_type": "stream",
     "text": [
      "Loss at step 512: -78.465\n",
      "463\n",
      "Initial loss: 1.085\n"
     ]
    },
    {
     "name": "stderr",
     "output_type": "stream",
     "text": [
      "100%|██████████| 512/512 [00:32<00:00, 15.99it/s]\n",
      "  0%|          | 2/512 [00:00<00:29, 17.24it/s]"
     ]
    },
    {
     "name": "stdout",
     "output_type": "stream",
     "text": [
      "Loss at step 512: -94.912\n",
      "464\n",
      "Initial loss: -0.176\n"
     ]
    },
    {
     "name": "stderr",
     "output_type": "stream",
     "text": [
      "100%|██████████| 512/512 [00:32<00:00, 15.88it/s]\n",
      "  0%|          | 2/512 [00:00<00:27, 18.27it/s]"
     ]
    },
    {
     "name": "stdout",
     "output_type": "stream",
     "text": [
      "Loss at step 512: -76.789\n",
      "465\n",
      "Initial loss: -0.871\n"
     ]
    },
    {
     "name": "stderr",
     "output_type": "stream",
     "text": [
      "100%|██████████| 512/512 [00:32<00:00, 15.89it/s]\n",
      "  0%|          | 2/512 [00:00<00:29, 17.58it/s]"
     ]
    },
    {
     "name": "stdout",
     "output_type": "stream",
     "text": [
      "Loss at step 512: -92.633\n",
      "466\n",
      "Initial loss: 0.048\n"
     ]
    },
    {
     "name": "stderr",
     "output_type": "stream",
     "text": [
      "100%|██████████| 512/512 [00:32<00:00, 15.67it/s]\n",
      "  0%|          | 2/512 [00:00<00:29, 17.18it/s]"
     ]
    },
    {
     "name": "stdout",
     "output_type": "stream",
     "text": [
      "Loss at step 512: -190.515\n",
      "467\n",
      "Initial loss: 0.298\n"
     ]
    },
    {
     "name": "stderr",
     "output_type": "stream",
     "text": [
      "100%|██████████| 512/512 [00:32<00:00, 15.58it/s]\n",
      "  0%|          | 2/512 [00:00<00:32, 15.49it/s]"
     ]
    },
    {
     "name": "stdout",
     "output_type": "stream",
     "text": [
      "Loss at step 512: -106.296\n",
      "468\n",
      "Initial loss: -0.205\n"
     ]
    },
    {
     "name": "stderr",
     "output_type": "stream",
     "text": [
      "100%|██████████| 512/512 [00:32<00:00, 15.89it/s]\n",
      "  0%|          | 2/512 [00:00<00:31, 16.05it/s]"
     ]
    },
    {
     "name": "stdout",
     "output_type": "stream",
     "text": [
      "Loss at step 512: -90.522\n",
      "469\n",
      "Initial loss: 1.000\n"
     ]
    },
    {
     "name": "stderr",
     "output_type": "stream",
     "text": [
      "100%|██████████| 512/512 [00:32<00:00, 15.81it/s]\n",
      "  0%|          | 2/512 [00:00<00:30, 16.79it/s]"
     ]
    },
    {
     "name": "stdout",
     "output_type": "stream",
     "text": [
      "Loss at step 512: -168.464\n",
      "470\n",
      "Initial loss: 0.831\n"
     ]
    },
    {
     "name": "stderr",
     "output_type": "stream",
     "text": [
      "100%|██████████| 512/512 [00:31<00:00, 16.03it/s]\n",
      "  0%|          | 2/512 [00:00<00:31, 16.39it/s]"
     ]
    },
    {
     "name": "stdout",
     "output_type": "stream",
     "text": [
      "Loss at step 512: -94.809\n",
      "471\n",
      "Initial loss: 0.320\n"
     ]
    },
    {
     "name": "stderr",
     "output_type": "stream",
     "text": [
      "100%|██████████| 512/512 [00:33<00:00, 15.35it/s]\n",
      "  0%|          | 2/512 [00:00<00:30, 16.92it/s]"
     ]
    },
    {
     "name": "stdout",
     "output_type": "stream",
     "text": [
      "Loss at step 512: -90.670\n",
      "472\n",
      "Initial loss: 0.404\n"
     ]
    },
    {
     "name": "stderr",
     "output_type": "stream",
     "text": [
      "100%|██████████| 512/512 [00:32<00:00, 15.53it/s]\n",
      "  0%|          | 2/512 [00:00<00:31, 16.16it/s]"
     ]
    },
    {
     "name": "stdout",
     "output_type": "stream",
     "text": [
      "Loss at step 512: -131.942\n",
      "473\n",
      "Initial loss: -0.154\n"
     ]
    },
    {
     "name": "stderr",
     "output_type": "stream",
     "text": [
      "100%|██████████| 512/512 [00:32<00:00, 15.68it/s]\n",
      "  0%|          | 2/512 [00:00<00:31, 16.28it/s]"
     ]
    },
    {
     "name": "stdout",
     "output_type": "stream",
     "text": [
      "Loss at step 512: -77.294\n",
      "474\n",
      "Initial loss: 1.150\n"
     ]
    },
    {
     "name": "stderr",
     "output_type": "stream",
     "text": [
      "100%|██████████| 512/512 [00:32<00:00, 15.74it/s]\n",
      "  0%|          | 2/512 [00:00<00:29, 17.13it/s]"
     ]
    },
    {
     "name": "stdout",
     "output_type": "stream",
     "text": [
      "Loss at step 512: -110.461\n",
      "475\n",
      "Initial loss: 0.164\n"
     ]
    },
    {
     "name": "stderr",
     "output_type": "stream",
     "text": [
      "100%|██████████| 512/512 [00:32<00:00, 15.76it/s]\n",
      "  0%|          | 2/512 [00:00<00:28, 17.61it/s]"
     ]
    },
    {
     "name": "stdout",
     "output_type": "stream",
     "text": [
      "Loss at step 512: -65.761\n",
      "476\n",
      "Initial loss: -0.271\n"
     ]
    },
    {
     "name": "stderr",
     "output_type": "stream",
     "text": [
      "100%|██████████| 512/512 [00:32<00:00, 15.95it/s]\n",
      "  0%|          | 2/512 [00:00<00:29, 17.06it/s]"
     ]
    },
    {
     "name": "stdout",
     "output_type": "stream",
     "text": [
      "Loss at step 512: -107.023\n",
      "477\n",
      "Initial loss: -0.250\n"
     ]
    },
    {
     "name": "stderr",
     "output_type": "stream",
     "text": [
      "100%|██████████| 512/512 [00:32<00:00, 15.91it/s]\n",
      "  0%|          | 2/512 [00:00<00:27, 18.34it/s]"
     ]
    },
    {
     "name": "stdout",
     "output_type": "stream",
     "text": [
      "Loss at step 512: -97.933\n",
      "478\n",
      "Initial loss: 0.792\n"
     ]
    },
    {
     "name": "stderr",
     "output_type": "stream",
     "text": [
      "100%|██████████| 512/512 [00:32<00:00, 15.87it/s]\n",
      "  0%|          | 2/512 [00:00<00:30, 16.95it/s]"
     ]
    },
    {
     "name": "stdout",
     "output_type": "stream",
     "text": [
      "Loss at step 512: -117.271\n",
      "479\n",
      "Initial loss: 0.233\n"
     ]
    },
    {
     "name": "stderr",
     "output_type": "stream",
     "text": [
      "100%|██████████| 512/512 [00:32<00:00, 15.90it/s]\n",
      "  0%|          | 2/512 [00:00<00:30, 16.95it/s]"
     ]
    },
    {
     "name": "stdout",
     "output_type": "stream",
     "text": [
      "Loss at step 512: -62.300\n",
      "480\n",
      "Initial loss: 0.003\n"
     ]
    },
    {
     "name": "stderr",
     "output_type": "stream",
     "text": [
      "100%|██████████| 512/512 [00:32<00:00, 15.57it/s]\n",
      "  0%|          | 2/512 [00:00<00:30, 16.89it/s]"
     ]
    },
    {
     "name": "stdout",
     "output_type": "stream",
     "text": [
      "Loss at step 512: -75.156\n",
      "481\n",
      "Initial loss: 1.687\n"
     ]
    },
    {
     "name": "stderr",
     "output_type": "stream",
     "text": [
      "100%|██████████| 512/512 [00:32<00:00, 15.54it/s]\n",
      "  0%|          | 2/512 [00:00<00:30, 16.84it/s]"
     ]
    },
    {
     "name": "stdout",
     "output_type": "stream",
     "text": [
      "Loss at step 512: -96.611\n",
      "482\n",
      "Initial loss: 0.001\n"
     ]
    },
    {
     "name": "stderr",
     "output_type": "stream",
     "text": [
      "100%|██████████| 512/512 [00:32<00:00, 15.71it/s]\n",
      "  0%|          | 2/512 [00:00<00:31, 16.21it/s]"
     ]
    },
    {
     "name": "stdout",
     "output_type": "stream",
     "text": [
      "Loss at step 512: -68.991\n",
      "483\n",
      "Initial loss: 0.148\n"
     ]
    },
    {
     "name": "stderr",
     "output_type": "stream",
     "text": [
      "100%|██████████| 512/512 [00:32<00:00, 15.64it/s]\n",
      "  0%|          | 2/512 [00:00<00:30, 16.92it/s]"
     ]
    },
    {
     "name": "stdout",
     "output_type": "stream",
     "text": [
      "Loss at step 512: -269.212\n",
      "484\n",
      "Initial loss: -0.265\n"
     ]
    },
    {
     "name": "stderr",
     "output_type": "stream",
     "text": [
      "100%|██████████| 512/512 [00:32<00:00, 15.75it/s]\n",
      "  0%|          | 2/512 [00:00<00:30, 16.90it/s]"
     ]
    },
    {
     "name": "stdout",
     "output_type": "stream",
     "text": [
      "Loss at step 512: -132.057\n",
      "485\n",
      "Initial loss: -0.099\n"
     ]
    },
    {
     "name": "stderr",
     "output_type": "stream",
     "text": [
      "100%|██████████| 512/512 [00:32<00:00, 15.52it/s]\n",
      "  0%|          | 2/512 [00:00<00:30, 16.92it/s]"
     ]
    },
    {
     "name": "stdout",
     "output_type": "stream",
     "text": [
      "Loss at step 512: -90.889\n",
      "486\n",
      "Initial loss: 1.104\n"
     ]
    },
    {
     "name": "stderr",
     "output_type": "stream",
     "text": [
      "100%|██████████| 512/512 [00:32<00:00, 15.75it/s]\n",
      "  0%|          | 2/512 [00:00<00:30, 16.61it/s]"
     ]
    },
    {
     "name": "stdout",
     "output_type": "stream",
     "text": [
      "Loss at step 512: -91.514\n",
      "487\n",
      "Initial loss: -0.473\n"
     ]
    },
    {
     "name": "stderr",
     "output_type": "stream",
     "text": [
      "100%|██████████| 512/512 [00:32<00:00, 15.56it/s]\n",
      "  0%|          | 2/512 [00:00<00:32, 15.56it/s]"
     ]
    },
    {
     "name": "stdout",
     "output_type": "stream",
     "text": [
      "Loss at step 512: -138.412\n",
      "488\n",
      "Initial loss: -2.030\n"
     ]
    },
    {
     "name": "stderr",
     "output_type": "stream",
     "text": [
      "100%|██████████| 512/512 [00:32<00:00, 15.73it/s]\n",
      "  0%|          | 2/512 [00:00<00:30, 16.48it/s]"
     ]
    },
    {
     "name": "stdout",
     "output_type": "stream",
     "text": [
      "Loss at step 512: -80.582\n",
      "489\n",
      "Initial loss: 1.641\n"
     ]
    },
    {
     "name": "stderr",
     "output_type": "stream",
     "text": [
      "100%|██████████| 512/512 [00:32<00:00, 15.57it/s]\n",
      "  0%|          | 2/512 [00:00<00:32, 15.84it/s]"
     ]
    },
    {
     "name": "stdout",
     "output_type": "stream",
     "text": [
      "Loss at step 512: -235.376\n",
      "490\n",
      "Initial loss: 0.581\n"
     ]
    },
    {
     "name": "stderr",
     "output_type": "stream",
     "text": [
      "100%|██████████| 512/512 [00:32<00:00, 15.52it/s]\n",
      "  0%|          | 2/512 [00:00<00:30, 16.89it/s]"
     ]
    },
    {
     "name": "stdout",
     "output_type": "stream",
     "text": [
      "Loss at step 512: -106.444\n",
      "491\n",
      "Initial loss: 0.476\n"
     ]
    },
    {
     "name": "stderr",
     "output_type": "stream",
     "text": [
      "100%|██████████| 512/512 [00:32<00:00, 15.69it/s]\n",
      "  0%|          | 2/512 [00:00<00:29, 17.10it/s]"
     ]
    },
    {
     "name": "stdout",
     "output_type": "stream",
     "text": [
      "Loss at step 512: -140.898\n",
      "492\n",
      "Initial loss: 0.972\n"
     ]
    },
    {
     "name": "stderr",
     "output_type": "stream",
     "text": [
      "100%|██████████| 512/512 [00:32<00:00, 15.53it/s]\n",
      "  0%|          | 2/512 [00:00<00:30, 16.91it/s]"
     ]
    },
    {
     "name": "stdout",
     "output_type": "stream",
     "text": [
      "Loss at step 512: -96.645\n",
      "493\n",
      "Initial loss: -0.499\n"
     ]
    },
    {
     "name": "stderr",
     "output_type": "stream",
     "text": [
      "100%|██████████| 512/512 [00:32<00:00, 15.71it/s]\n",
      "  0%|          | 2/512 [00:00<00:30, 16.75it/s]"
     ]
    },
    {
     "name": "stdout",
     "output_type": "stream",
     "text": [
      "Loss at step 512: -53.875\n",
      "494\n",
      "Initial loss: -0.662\n"
     ]
    },
    {
     "name": "stderr",
     "output_type": "stream",
     "text": [
      "100%|██████████| 512/512 [00:32<00:00, 15.83it/s]\n",
      "  0%|          | 2/512 [00:00<00:28, 17.87it/s]"
     ]
    },
    {
     "name": "stdout",
     "output_type": "stream",
     "text": [
      "Loss at step 512: -122.943\n",
      "495\n",
      "Initial loss: 0.279\n"
     ]
    },
    {
     "name": "stderr",
     "output_type": "stream",
     "text": [
      "100%|██████████| 512/512 [00:32<00:00, 15.66it/s]\n",
      "  0%|          | 2/512 [00:00<00:31, 16.14it/s]"
     ]
    },
    {
     "name": "stdout",
     "output_type": "stream",
     "text": [
      "Loss at step 512: -156.190\n",
      "496\n",
      "Initial loss: 1.053\n"
     ]
    },
    {
     "name": "stderr",
     "output_type": "stream",
     "text": [
      "100%|██████████| 512/512 [00:32<00:00, 15.59it/s]\n",
      "  0%|          | 2/512 [00:00<00:30, 16.75it/s]"
     ]
    },
    {
     "name": "stdout",
     "output_type": "stream",
     "text": [
      "Loss at step 512: -156.675\n",
      "497\n",
      "Initial loss: 0.279\n"
     ]
    },
    {
     "name": "stderr",
     "output_type": "stream",
     "text": [
      "100%|██████████| 512/512 [00:32<00:00, 15.75it/s]\n",
      "  0%|          | 2/512 [00:00<00:30, 16.48it/s]"
     ]
    },
    {
     "name": "stdout",
     "output_type": "stream",
     "text": [
      "Loss at step 512: -104.664\n",
      "498\n",
      "Initial loss: 0.401\n"
     ]
    },
    {
     "name": "stderr",
     "output_type": "stream",
     "text": [
      "100%|██████████| 512/512 [00:32<00:00, 15.54it/s]\n",
      "  0%|          | 2/512 [00:00<00:32, 15.92it/s]"
     ]
    },
    {
     "name": "stdout",
     "output_type": "stream",
     "text": [
      "Loss at step 512: -130.532\n",
      "499\n",
      "Initial loss: -0.416\n"
     ]
    },
    {
     "name": "stderr",
     "output_type": "stream",
     "text": [
      "100%|██████████| 512/512 [00:33<00:00, 15.45it/s]\n",
      "  0%|          | 2/512 [00:00<00:30, 16.59it/s]"
     ]
    },
    {
     "name": "stdout",
     "output_type": "stream",
     "text": [
      "Loss at step 512: -190.803\n",
      "500\n",
      "Initial loss: 0.137\n"
     ]
    },
    {
     "name": "stderr",
     "output_type": "stream",
     "text": [
      "100%|██████████| 512/512 [00:32<00:00, 15.71it/s]\n",
      "  0%|          | 2/512 [00:00<00:29, 17.03it/s]"
     ]
    },
    {
     "name": "stdout",
     "output_type": "stream",
     "text": [
      "Loss at step 512: -426.588\n",
      "501\n",
      "Initial loss: -2.166\n"
     ]
    },
    {
     "name": "stderr",
     "output_type": "stream",
     "text": [
      "100%|██████████| 512/512 [00:32<00:00, 15.61it/s]\n",
      "  0%|          | 2/512 [00:00<00:30, 16.47it/s]"
     ]
    },
    {
     "name": "stdout",
     "output_type": "stream",
     "text": [
      "Loss at step 512: -58.343\n",
      "502\n",
      "Initial loss: -0.028\n"
     ]
    },
    {
     "name": "stderr",
     "output_type": "stream",
     "text": [
      "100%|██████████| 512/512 [00:32<00:00, 15.69it/s]\n",
      "  0%|          | 2/512 [00:00<00:31, 16.36it/s]"
     ]
    },
    {
     "name": "stdout",
     "output_type": "stream",
     "text": [
      "Loss at step 512: -65.578\n",
      "503\n",
      "Initial loss: -0.661\n"
     ]
    },
    {
     "name": "stderr",
     "output_type": "stream",
     "text": [
      "100%|██████████| 512/512 [00:32<00:00, 15.55it/s]\n",
      "  0%|          | 2/512 [00:00<00:31, 16.37it/s]"
     ]
    },
    {
     "name": "stdout",
     "output_type": "stream",
     "text": [
      "Loss at step 512: -112.747\n",
      "504\n",
      "Initial loss: -1.341\n"
     ]
    },
    {
     "name": "stderr",
     "output_type": "stream",
     "text": [
      "100%|██████████| 512/512 [00:32<00:00, 15.63it/s]\n",
      "  0%|          | 2/512 [00:00<00:30, 16.99it/s]"
     ]
    },
    {
     "name": "stdout",
     "output_type": "stream",
     "text": [
      "Loss at step 512: -65.093\n",
      "505\n",
      "Initial loss: -0.732\n"
     ]
    },
    {
     "name": "stderr",
     "output_type": "stream",
     "text": [
      "100%|██████████| 512/512 [00:33<00:00, 15.46it/s]\n",
      "  0%|          | 2/512 [00:00<00:30, 16.88it/s]"
     ]
    },
    {
     "name": "stdout",
     "output_type": "stream",
     "text": [
      "Loss at step 512: -51.706\n",
      "506\n",
      "Initial loss: -0.044\n"
     ]
    },
    {
     "name": "stderr",
     "output_type": "stream",
     "text": [
      "100%|██████████| 512/512 [00:32<00:00, 15.55it/s]\n",
      "  0%|          | 2/512 [00:00<00:29, 17.29it/s]"
     ]
    },
    {
     "name": "stdout",
     "output_type": "stream",
     "text": [
      "Loss at step 512: -131.633\n",
      "507\n",
      "Initial loss: -0.014\n"
     ]
    },
    {
     "name": "stderr",
     "output_type": "stream",
     "text": [
      "100%|██████████| 512/512 [00:32<00:00, 15.64it/s]\n",
      "  0%|          | 2/512 [00:00<00:31, 16.15it/s]"
     ]
    },
    {
     "name": "stdout",
     "output_type": "stream",
     "text": [
      "Loss at step 512: -124.044\n",
      "508\n",
      "Initial loss: -0.418\n"
     ]
    },
    {
     "name": "stderr",
     "output_type": "stream",
     "text": [
      "100%|██████████| 512/512 [00:33<00:00, 15.46it/s]\n",
      "  0%|          | 2/512 [00:00<00:31, 16.08it/s]"
     ]
    },
    {
     "name": "stdout",
     "output_type": "stream",
     "text": [
      "Loss at step 512: -96.099\n",
      "509\n",
      "Initial loss: 0.123\n"
     ]
    },
    {
     "name": "stderr",
     "output_type": "stream",
     "text": [
      "100%|██████████| 512/512 [00:32<00:00, 15.52it/s]\n",
      "  0%|          | 2/512 [00:00<00:30, 16.52it/s]"
     ]
    },
    {
     "name": "stdout",
     "output_type": "stream",
     "text": [
      "Loss at step 512: -124.997\n",
      "510\n",
      "Initial loss: -0.573\n"
     ]
    },
    {
     "name": "stderr",
     "output_type": "stream",
     "text": [
      "100%|██████████| 512/512 [00:32<00:00, 15.62it/s]\n",
      "  0%|          | 2/512 [00:00<00:30, 16.56it/s]"
     ]
    },
    {
     "name": "stdout",
     "output_type": "stream",
     "text": [
      "Loss at step 512: -70.444\n",
      "511\n",
      "Initial loss: 2.197\n"
     ]
    },
    {
     "name": "stderr",
     "output_type": "stream",
     "text": [
      "100%|██████████| 512/512 [00:33<00:00, 15.35it/s]\n",
      "  0%|          | 2/512 [00:00<00:30, 16.68it/s]"
     ]
    },
    {
     "name": "stdout",
     "output_type": "stream",
     "text": [
      "Loss at step 512: -195.362\n",
      "512\n",
      "Initial loss: -0.901\n"
     ]
    },
    {
     "name": "stderr",
     "output_type": "stream",
     "text": [
      "100%|██████████| 512/512 [00:32<00:00, 15.56it/s]\n",
      "  0%|          | 2/512 [00:00<00:29, 17.31it/s]"
     ]
    },
    {
     "name": "stdout",
     "output_type": "stream",
     "text": [
      "Loss at step 512: -63.051\n",
      "513\n",
      "Initial loss: 1.216\n"
     ]
    },
    {
     "name": "stderr",
     "output_type": "stream",
     "text": [
      "100%|██████████| 512/512 [00:33<00:00, 15.46it/s]\n",
      "  0%|          | 2/512 [00:00<00:29, 17.29it/s]"
     ]
    },
    {
     "name": "stdout",
     "output_type": "stream",
     "text": [
      "Loss at step 512: -86.308\n",
      "514\n",
      "Initial loss: 0.090\n"
     ]
    },
    {
     "name": "stderr",
     "output_type": "stream",
     "text": [
      "100%|██████████| 512/512 [00:32<00:00, 15.72it/s]\n",
      "  0%|          | 2/512 [00:00<00:30, 16.46it/s]"
     ]
    },
    {
     "name": "stdout",
     "output_type": "stream",
     "text": [
      "Loss at step 512: -147.743\n",
      "515\n",
      "Initial loss: 0.128\n"
     ]
    },
    {
     "name": "stderr",
     "output_type": "stream",
     "text": [
      "100%|██████████| 512/512 [00:32<00:00, 15.80it/s]\n",
      "  0%|          | 2/512 [00:00<00:31, 16.24it/s]"
     ]
    },
    {
     "name": "stdout",
     "output_type": "stream",
     "text": [
      "Loss at step 512: -145.649\n",
      "516\n",
      "Initial loss: 0.295\n"
     ]
    },
    {
     "name": "stderr",
     "output_type": "stream",
     "text": [
      "100%|██████████| 512/512 [00:33<00:00, 15.32it/s]\n",
      "  0%|          | 2/512 [00:00<00:31, 16.36it/s]"
     ]
    },
    {
     "name": "stdout",
     "output_type": "stream",
     "text": [
      "Loss at step 512: -111.778\n",
      "517\n",
      "Initial loss: -0.049\n"
     ]
    },
    {
     "name": "stderr",
     "output_type": "stream",
     "text": [
      "100%|██████████| 512/512 [00:32<00:00, 15.54it/s]\n",
      "  0%|          | 2/512 [00:00<00:30, 16.90it/s]"
     ]
    },
    {
     "name": "stdout",
     "output_type": "stream",
     "text": [
      "Loss at step 512: -100.380\n",
      "518\n",
      "Initial loss: -0.230\n"
     ]
    },
    {
     "name": "stderr",
     "output_type": "stream",
     "text": [
      "100%|██████████| 512/512 [00:33<00:00, 15.49it/s]\n",
      "  0%|          | 2/512 [00:00<00:30, 16.72it/s]"
     ]
    },
    {
     "name": "stdout",
     "output_type": "stream",
     "text": [
      "Loss at step 512: -59.857\n",
      "519\n",
      "Initial loss: 0.637\n"
     ]
    },
    {
     "name": "stderr",
     "output_type": "stream",
     "text": [
      "100%|██████████| 512/512 [00:32<00:00, 15.52it/s]\n",
      "  0%|          | 2/512 [00:00<00:29, 17.13it/s]"
     ]
    },
    {
     "name": "stdout",
     "output_type": "stream",
     "text": [
      "Loss at step 512: -148.597\n",
      "520\n",
      "Initial loss: 0.384\n"
     ]
    },
    {
     "name": "stderr",
     "output_type": "stream",
     "text": [
      "100%|██████████| 512/512 [00:33<00:00, 15.22it/s]\n",
      "  0%|          | 2/512 [00:00<00:31, 16.44it/s]"
     ]
    },
    {
     "name": "stdout",
     "output_type": "stream",
     "text": [
      "Loss at step 512: -78.564\n",
      "521\n",
      "Initial loss: -0.939\n"
     ]
    },
    {
     "name": "stderr",
     "output_type": "stream",
     "text": [
      "100%|██████████| 512/512 [00:33<00:00, 15.37it/s]\n",
      "  0%|          | 2/512 [00:00<00:30, 16.82it/s]"
     ]
    },
    {
     "name": "stdout",
     "output_type": "stream",
     "text": [
      "Loss at step 512: -108.497\n",
      "522\n",
      "Initial loss: 1.302\n"
     ]
    },
    {
     "name": "stderr",
     "output_type": "stream",
     "text": [
      "100%|██████████| 512/512 [00:33<00:00, 15.47it/s]\n",
      "  0%|          | 2/512 [00:00<00:32, 15.89it/s]"
     ]
    },
    {
     "name": "stdout",
     "output_type": "stream",
     "text": [
      "Loss at step 512: -95.620\n",
      "523\n",
      "Initial loss: -0.270\n"
     ]
    },
    {
     "name": "stderr",
     "output_type": "stream",
     "text": [
      "100%|██████████| 512/512 [00:33<00:00, 15.25it/s]\n",
      "  0%|          | 2/512 [00:00<00:29, 17.03it/s]"
     ]
    },
    {
     "name": "stdout",
     "output_type": "stream",
     "text": [
      "Loss at step 512: -174.036\n",
      "524\n",
      "Initial loss: -0.309\n"
     ]
    },
    {
     "name": "stderr",
     "output_type": "stream",
     "text": [
      "100%|██████████| 512/512 [00:32<00:00, 15.53it/s]\n",
      "  0%|          | 2/512 [00:00<00:30, 16.52it/s]"
     ]
    },
    {
     "name": "stdout",
     "output_type": "stream",
     "text": [
      "Loss at step 512: -122.964\n",
      "525\n",
      "Initial loss: 0.249\n"
     ]
    },
    {
     "name": "stderr",
     "output_type": "stream",
     "text": [
      "100%|██████████| 512/512 [00:33<00:00, 15.47it/s]\n",
      "  0%|          | 2/512 [00:00<00:31, 16.25it/s]"
     ]
    },
    {
     "name": "stdout",
     "output_type": "stream",
     "text": [
      "Loss at step 512: -70.824\n",
      "526\n",
      "Initial loss: -0.134\n"
     ]
    },
    {
     "name": "stderr",
     "output_type": "stream",
     "text": [
      "100%|██████████| 512/512 [00:33<00:00, 15.35it/s]\n",
      "  0%|          | 2/512 [00:00<00:31, 16.08it/s]"
     ]
    },
    {
     "name": "stdout",
     "output_type": "stream",
     "text": [
      "Loss at step 512: -53.489\n",
      "527\n",
      "Initial loss: 0.104\n"
     ]
    },
    {
     "name": "stderr",
     "output_type": "stream",
     "text": [
      "100%|██████████| 512/512 [00:33<00:00, 15.41it/s]\n",
      "  0%|          | 2/512 [00:00<00:29, 17.07it/s]"
     ]
    },
    {
     "name": "stdout",
     "output_type": "stream",
     "text": [
      "Loss at step 512: -112.153\n",
      "528\n",
      "Initial loss: 0.014\n"
     ]
    },
    {
     "name": "stderr",
     "output_type": "stream",
     "text": [
      "100%|██████████| 512/512 [00:32<00:00, 15.66it/s]\n",
      "  0%|          | 2/512 [00:00<00:31, 15.99it/s]"
     ]
    },
    {
     "name": "stdout",
     "output_type": "stream",
     "text": [
      "Loss at step 512: -82.873\n",
      "529\n",
      "Initial loss: -0.464\n"
     ]
    },
    {
     "name": "stderr",
     "output_type": "stream",
     "text": [
      "100%|██████████| 512/512 [00:32<00:00, 15.53it/s]\n",
      "  0%|          | 2/512 [00:00<00:29, 17.23it/s]"
     ]
    },
    {
     "name": "stdout",
     "output_type": "stream",
     "text": [
      "Loss at step 512: -88.257\n",
      "530\n",
      "Initial loss: 0.817\n"
     ]
    },
    {
     "name": "stderr",
     "output_type": "stream",
     "text": [
      "100%|██████████| 512/512 [00:32<00:00, 15.57it/s]\n",
      "  0%|          | 2/512 [00:00<00:35, 14.47it/s]"
     ]
    },
    {
     "name": "stdout",
     "output_type": "stream",
     "text": [
      "Loss at step 512: -89.940\n",
      "531\n",
      "Initial loss: 0.716\n"
     ]
    },
    {
     "name": "stderr",
     "output_type": "stream",
     "text": [
      "100%|██████████| 512/512 [00:33<00:00, 15.31it/s]\n",
      "  0%|          | 2/512 [00:00<00:33, 15.23it/s]"
     ]
    },
    {
     "name": "stdout",
     "output_type": "stream",
     "text": [
      "Loss at step 512: -81.964\n",
      "532\n",
      "Initial loss: -0.522\n"
     ]
    },
    {
     "name": "stderr",
     "output_type": "stream",
     "text": [
      "100%|██████████| 512/512 [00:32<00:00, 15.67it/s]\n",
      "  0%|          | 2/512 [00:00<00:32, 15.53it/s]"
     ]
    },
    {
     "name": "stdout",
     "output_type": "stream",
     "text": [
      "Loss at step 512: -85.856\n",
      "533\n",
      "Initial loss: -0.117\n"
     ]
    },
    {
     "name": "stderr",
     "output_type": "stream",
     "text": [
      "100%|██████████| 512/512 [00:33<00:00, 15.45it/s]\n",
      "  0%|          | 2/512 [00:00<00:31, 16.35it/s]"
     ]
    },
    {
     "name": "stdout",
     "output_type": "stream",
     "text": [
      "Loss at step 512: -62.829\n",
      "534\n",
      "Initial loss: -0.074\n"
     ]
    },
    {
     "name": "stderr",
     "output_type": "stream",
     "text": [
      "100%|██████████| 512/512 [00:32<00:00, 15.52it/s]\n",
      "  0%|          | 2/512 [00:00<00:29, 17.37it/s]"
     ]
    },
    {
     "name": "stdout",
     "output_type": "stream",
     "text": [
      "Loss at step 512: -114.285\n",
      "535\n",
      "Initial loss: 0.533\n"
     ]
    },
    {
     "name": "stderr",
     "output_type": "stream",
     "text": [
      "100%|██████████| 512/512 [00:33<00:00, 15.42it/s]\n",
      "  0%|          | 2/512 [00:00<00:30, 16.55it/s]"
     ]
    },
    {
     "name": "stdout",
     "output_type": "stream",
     "text": [
      "Loss at step 512: -144.580\n",
      "536\n",
      "Initial loss: -0.060\n"
     ]
    },
    {
     "name": "stderr",
     "output_type": "stream",
     "text": [
      "100%|██████████| 512/512 [00:33<00:00, 15.35it/s]\n",
      "  0%|          | 2/512 [00:00<00:31, 16.08it/s]"
     ]
    },
    {
     "name": "stdout",
     "output_type": "stream",
     "text": [
      "Loss at step 512: -123.699\n",
      "537\n",
      "Initial loss: 0.903\n"
     ]
    },
    {
     "name": "stderr",
     "output_type": "stream",
     "text": [
      "100%|██████████| 512/512 [00:33<00:00, 15.30it/s]\n",
      "  0%|          | 2/512 [00:00<00:32, 15.54it/s]"
     ]
    },
    {
     "name": "stdout",
     "output_type": "stream",
     "text": [
      "Loss at step 512: -89.215\n",
      "538\n",
      "Initial loss: -0.466\n"
     ]
    },
    {
     "name": "stderr",
     "output_type": "stream",
     "text": [
      "100%|██████████| 512/512 [00:32<00:00, 15.72it/s]\n",
      "  0%|          | 2/512 [00:00<00:30, 16.76it/s]"
     ]
    },
    {
     "name": "stdout",
     "output_type": "stream",
     "text": [
      "Loss at step 512: -118.515\n",
      "539\n",
      "Initial loss: -0.269\n"
     ]
    },
    {
     "name": "stderr",
     "output_type": "stream",
     "text": [
      "100%|██████████| 512/512 [00:33<00:00, 15.36it/s]\n",
      "  0%|          | 2/512 [00:00<00:29, 17.33it/s]"
     ]
    },
    {
     "name": "stdout",
     "output_type": "stream",
     "text": [
      "Loss at step 512: -89.796\n",
      "540\n",
      "Initial loss: -0.446\n"
     ]
    },
    {
     "name": "stderr",
     "output_type": "stream",
     "text": [
      "100%|██████████| 512/512 [00:32<00:00, 15.57it/s]\n",
      "  0%|          | 2/512 [00:00<00:31, 16.06it/s]"
     ]
    },
    {
     "name": "stdout",
     "output_type": "stream",
     "text": [
      "Loss at step 512: -54.017\n",
      "541\n",
      "Initial loss: 0.787\n"
     ]
    },
    {
     "name": "stderr",
     "output_type": "stream",
     "text": [
      "100%|██████████| 512/512 [00:33<00:00, 15.25it/s]\n",
      "  0%|          | 2/512 [00:00<00:30, 16.91it/s]"
     ]
    },
    {
     "name": "stdout",
     "output_type": "stream",
     "text": [
      "Loss at step 512: -72.542\n",
      "542\n",
      "Initial loss: -0.757\n"
     ]
    },
    {
     "name": "stderr",
     "output_type": "stream",
     "text": [
      "100%|██████████| 512/512 [00:33<00:00, 15.29it/s]\n",
      "  0%|          | 2/512 [00:00<00:31, 16.38it/s]"
     ]
    },
    {
     "name": "stdout",
     "output_type": "stream",
     "text": [
      "Loss at step 512: -76.093\n",
      "543\n",
      "Initial loss: -0.696\n"
     ]
    },
    {
     "name": "stderr",
     "output_type": "stream",
     "text": [
      "100%|██████████| 512/512 [00:33<00:00, 15.12it/s]\n",
      "  0%|          | 2/512 [00:00<00:31, 16.34it/s]"
     ]
    },
    {
     "name": "stdout",
     "output_type": "stream",
     "text": [
      "Loss at step 512: -87.258\n",
      "544\n",
      "Initial loss: 1.129\n"
     ]
    },
    {
     "name": "stderr",
     "output_type": "stream",
     "text": [
      "100%|██████████| 512/512 [00:33<00:00, 15.36it/s]\n",
      "  0%|          | 2/512 [00:00<00:31, 16.39it/s]"
     ]
    },
    {
     "name": "stdout",
     "output_type": "stream",
     "text": [
      "Loss at step 512: -45.316\n",
      "545\n",
      "Initial loss: -0.488\n"
     ]
    },
    {
     "name": "stderr",
     "output_type": "stream",
     "text": [
      "100%|██████████| 512/512 [00:33<00:00, 15.22it/s]\n",
      "  0%|          | 2/512 [00:00<00:31, 16.27it/s]"
     ]
    },
    {
     "name": "stdout",
     "output_type": "stream",
     "text": [
      "Loss at step 512: -74.489\n",
      "546\n",
      "Initial loss: 0.712\n"
     ]
    },
    {
     "name": "stderr",
     "output_type": "stream",
     "text": [
      "100%|██████████| 512/512 [00:33<00:00, 15.49it/s]\n",
      "  0%|          | 2/512 [00:00<00:31, 16.37it/s]"
     ]
    },
    {
     "name": "stdout",
     "output_type": "stream",
     "text": [
      "Loss at step 512: -215.316\n",
      "547\n",
      "Initial loss: 0.468\n"
     ]
    },
    {
     "name": "stderr",
     "output_type": "stream",
     "text": [
      "100%|██████████| 512/512 [00:33<00:00, 15.31it/s]\n",
      "  0%|          | 2/512 [00:00<00:30, 16.52it/s]"
     ]
    },
    {
     "name": "stdout",
     "output_type": "stream",
     "text": [
      "Loss at step 512: -112.778\n",
      "548\n",
      "Initial loss: -0.275\n"
     ]
    },
    {
     "name": "stderr",
     "output_type": "stream",
     "text": [
      "100%|██████████| 512/512 [00:33<00:00, 15.23it/s]\n",
      "  0%|          | 2/512 [00:00<00:31, 16.15it/s]"
     ]
    },
    {
     "name": "stdout",
     "output_type": "stream",
     "text": [
      "Loss at step 512: -119.506\n",
      "549\n",
      "Initial loss: 0.659\n"
     ]
    },
    {
     "name": "stderr",
     "output_type": "stream",
     "text": [
      "100%|██████████| 512/512 [00:33<00:00, 15.45it/s]\n",
      "  0%|          | 2/512 [00:00<00:31, 15.98it/s]"
     ]
    },
    {
     "name": "stdout",
     "output_type": "stream",
     "text": [
      "Loss at step 512: -133.247\n",
      "550\n",
      "Initial loss: 0.185\n"
     ]
    },
    {
     "name": "stderr",
     "output_type": "stream",
     "text": [
      "100%|██████████| 512/512 [00:32<00:00, 15.57it/s]\n",
      "  0%|          | 2/512 [00:00<00:31, 16.06it/s]"
     ]
    },
    {
     "name": "stdout",
     "output_type": "stream",
     "text": [
      "Loss at step 512: -82.348\n",
      "551\n",
      "Initial loss: -1.118\n"
     ]
    },
    {
     "name": "stderr",
     "output_type": "stream",
     "text": [
      "100%|██████████| 512/512 [00:33<00:00, 15.47it/s]\n",
      "  0%|          | 2/512 [00:00<00:30, 16.64it/s]"
     ]
    },
    {
     "name": "stdout",
     "output_type": "stream",
     "text": [
      "Loss at step 512: -57.770\n",
      "552\n",
      "Initial loss: 0.165\n"
     ]
    },
    {
     "name": "stderr",
     "output_type": "stream",
     "text": [
      "100%|██████████| 512/512 [00:32<00:00, 15.59it/s]\n",
      "  0%|          | 2/512 [00:00<00:30, 16.69it/s]"
     ]
    },
    {
     "name": "stdout",
     "output_type": "stream",
     "text": [
      "Loss at step 512: -124.291\n",
      "553\n",
      "Initial loss: 0.524\n"
     ]
    },
    {
     "name": "stderr",
     "output_type": "stream",
     "text": [
      "100%|██████████| 512/512 [00:33<00:00, 15.51it/s]\n",
      "  0%|          | 2/512 [00:00<00:30, 16.65it/s]"
     ]
    },
    {
     "name": "stdout",
     "output_type": "stream",
     "text": [
      "Loss at step 512: -174.620\n",
      "554\n",
      "Initial loss: -0.712\n"
     ]
    },
    {
     "name": "stderr",
     "output_type": "stream",
     "text": [
      "100%|██████████| 512/512 [00:33<00:00, 15.50it/s]\n",
      "  0%|          | 2/512 [00:00<00:29, 17.44it/s]"
     ]
    },
    {
     "name": "stdout",
     "output_type": "stream",
     "text": [
      "Loss at step 512: -90.783\n",
      "555\n",
      "Initial loss: 0.589\n"
     ]
    },
    {
     "name": "stderr",
     "output_type": "stream",
     "text": [
      "100%|██████████| 512/512 [00:33<00:00, 15.27it/s]\n",
      "  0%|          | 2/512 [00:00<00:31, 16.20it/s]"
     ]
    },
    {
     "name": "stdout",
     "output_type": "stream",
     "text": [
      "Loss at step 512: -141.905\n",
      "556\n",
      "Initial loss: -0.384\n"
     ]
    },
    {
     "name": "stderr",
     "output_type": "stream",
     "text": [
      "100%|██████████| 512/512 [00:33<00:00, 15.40it/s]\n",
      "  0%|          | 2/512 [00:00<00:31, 16.09it/s]"
     ]
    },
    {
     "name": "stdout",
     "output_type": "stream",
     "text": [
      "Loss at step 512: -121.693\n",
      "557\n",
      "Initial loss: -1.297\n"
     ]
    },
    {
     "name": "stderr",
     "output_type": "stream",
     "text": [
      "100%|██████████| 512/512 [00:33<00:00, 15.12it/s]\n",
      "  0%|          | 2/512 [00:00<00:31, 16.44it/s]"
     ]
    },
    {
     "name": "stdout",
     "output_type": "stream",
     "text": [
      "Loss at step 512: -38.720\n",
      "558\n",
      "Initial loss: -0.659\n"
     ]
    },
    {
     "name": "stderr",
     "output_type": "stream",
     "text": [
      "100%|██████████| 512/512 [00:33<00:00, 15.19it/s]\n",
      "  0%|          | 2/512 [00:00<00:31, 16.23it/s]"
     ]
    },
    {
     "name": "stdout",
     "output_type": "stream",
     "text": [
      "Loss at step 512: -81.437\n",
      "559\n",
      "Initial loss: 0.148\n"
     ]
    },
    {
     "name": "stderr",
     "output_type": "stream",
     "text": [
      "100%|██████████| 512/512 [00:33<00:00, 15.24it/s]\n",
      "  0%|          | 2/512 [00:00<00:30, 16.73it/s]"
     ]
    },
    {
     "name": "stdout",
     "output_type": "stream",
     "text": [
      "Loss at step 512: -166.412\n",
      "560\n",
      "Initial loss: -0.189\n"
     ]
    },
    {
     "name": "stderr",
     "output_type": "stream",
     "text": [
      "100%|██████████| 512/512 [00:33<00:00, 15.36it/s]\n",
      "  0%|          | 2/512 [00:00<00:32, 15.47it/s]"
     ]
    },
    {
     "name": "stdout",
     "output_type": "stream",
     "text": [
      "Loss at step 512: -201.717\n",
      "561\n",
      "Initial loss: 0.087\n"
     ]
    },
    {
     "name": "stderr",
     "output_type": "stream",
     "text": [
      "100%|██████████| 512/512 [00:33<00:00, 15.10it/s]\n",
      "  0%|          | 2/512 [00:00<00:32, 15.86it/s]"
     ]
    },
    {
     "name": "stdout",
     "output_type": "stream",
     "text": [
      "Loss at step 512: -160.437\n",
      "562\n",
      "Initial loss: -1.064\n"
     ]
    },
    {
     "name": "stderr",
     "output_type": "stream",
     "text": [
      "100%|██████████| 512/512 [00:33<00:00, 15.23it/s]\n",
      "  0%|          | 2/512 [00:00<00:32, 15.70it/s]"
     ]
    },
    {
     "name": "stdout",
     "output_type": "stream",
     "text": [
      "Loss at step 512: -41.699\n",
      "563\n",
      "Initial loss: 0.311\n"
     ]
    },
    {
     "name": "stderr",
     "output_type": "stream",
     "text": [
      "100%|██████████| 512/512 [00:33<00:00, 15.25it/s]\n",
      "  0%|          | 2/512 [00:00<00:31, 16.12it/s]"
     ]
    },
    {
     "name": "stdout",
     "output_type": "stream",
     "text": [
      "Loss at step 512: -99.946\n",
      "564\n",
      "Initial loss: -0.782\n"
     ]
    },
    {
     "name": "stderr",
     "output_type": "stream",
     "text": [
      "100%|██████████| 512/512 [00:33<00:00, 15.40it/s]\n",
      "  0%|          | 2/512 [00:00<00:30, 16.72it/s]"
     ]
    },
    {
     "name": "stdout",
     "output_type": "stream",
     "text": [
      "Loss at step 512: -65.155\n",
      "565\n",
      "Initial loss: 0.342\n"
     ]
    },
    {
     "name": "stderr",
     "output_type": "stream",
     "text": [
      "100%|██████████| 512/512 [00:33<00:00, 15.49it/s]\n",
      "  0%|          | 2/512 [00:00<00:30, 16.66it/s]"
     ]
    },
    {
     "name": "stdout",
     "output_type": "stream",
     "text": [
      "Loss at step 512: -86.663\n",
      "566\n",
      "Initial loss: -0.410\n"
     ]
    },
    {
     "name": "stderr",
     "output_type": "stream",
     "text": [
      "100%|██████████| 512/512 [00:31<00:00, 16.07it/s]\n",
      "  0%|          | 2/512 [00:00<00:29, 17.10it/s]"
     ]
    },
    {
     "name": "stdout",
     "output_type": "stream",
     "text": [
      "Loss at step 512: -88.110\n",
      "567\n",
      "Initial loss: 0.143\n"
     ]
    },
    {
     "name": "stderr",
     "output_type": "stream",
     "text": [
      "100%|██████████| 512/512 [00:31<00:00, 16.35it/s]\n",
      "  0%|          | 2/512 [00:00<00:29, 17.19it/s]"
     ]
    },
    {
     "name": "stdout",
     "output_type": "stream",
     "text": [
      "Loss at step 512: -171.372\n",
      "568\n",
      "Initial loss: -0.469\n"
     ]
    },
    {
     "name": "stderr",
     "output_type": "stream",
     "text": [
      "100%|██████████| 512/512 [00:31<00:00, 16.38it/s]\n",
      "  0%|          | 2/512 [00:00<00:30, 16.93it/s]"
     ]
    },
    {
     "name": "stdout",
     "output_type": "stream",
     "text": [
      "Loss at step 512: -90.751\n",
      "569\n",
      "Initial loss: 0.342\n"
     ]
    },
    {
     "name": "stderr",
     "output_type": "stream",
     "text": [
      "100%|██████████| 512/512 [00:33<00:00, 15.44it/s]\n",
      "  0%|          | 2/512 [00:00<00:32, 15.90it/s]"
     ]
    },
    {
     "name": "stdout",
     "output_type": "stream",
     "text": [
      "Loss at step 512: -156.553\n",
      "570\n",
      "Initial loss: 1.279\n"
     ]
    },
    {
     "name": "stderr",
     "output_type": "stream",
     "text": [
      "100%|██████████| 512/512 [00:33<00:00, 15.21it/s]\n",
      "  0%|          | 2/512 [00:00<00:30, 16.53it/s]"
     ]
    },
    {
     "name": "stdout",
     "output_type": "stream",
     "text": [
      "Loss at step 512: -60.539\n",
      "571\n",
      "Initial loss: 0.596\n"
     ]
    },
    {
     "name": "stderr",
     "output_type": "stream",
     "text": [
      "100%|██████████| 512/512 [00:33<00:00, 15.47it/s]\n",
      "  0%|          | 2/512 [00:00<00:29, 17.10it/s]"
     ]
    },
    {
     "name": "stdout",
     "output_type": "stream",
     "text": [
      "Loss at step 512: -126.020\n",
      "572\n",
      "Initial loss: 0.276\n"
     ]
    },
    {
     "name": "stderr",
     "output_type": "stream",
     "text": [
      "100%|██████████| 512/512 [00:33<00:00, 15.42it/s]\n",
      "  0%|          | 2/512 [00:00<00:30, 17.00it/s]"
     ]
    },
    {
     "name": "stdout",
     "output_type": "stream",
     "text": [
      "Loss at step 512: -74.814\n",
      "573\n",
      "Initial loss: -0.443\n"
     ]
    },
    {
     "name": "stderr",
     "output_type": "stream",
     "text": [
      "100%|██████████| 512/512 [00:34<00:00, 15.06it/s]\n",
      "  0%|          | 2/512 [00:00<00:32, 15.93it/s]"
     ]
    },
    {
     "name": "stdout",
     "output_type": "stream",
     "text": [
      "Loss at step 512: -62.486\n",
      "574\n",
      "Initial loss: 1.324\n"
     ]
    },
    {
     "name": "stderr",
     "output_type": "stream",
     "text": [
      "100%|██████████| 512/512 [00:33<00:00, 15.18it/s]\n",
      "  0%|          | 2/512 [00:00<00:30, 16.82it/s]"
     ]
    },
    {
     "name": "stdout",
     "output_type": "stream",
     "text": [
      "Loss at step 512: -72.500\n",
      "575\n",
      "Initial loss: 0.031\n"
     ]
    },
    {
     "name": "stderr",
     "output_type": "stream",
     "text": [
      "100%|██████████| 512/512 [00:32<00:00, 15.54it/s]\n",
      "  0%|          | 2/512 [00:00<00:30, 16.66it/s]"
     ]
    },
    {
     "name": "stdout",
     "output_type": "stream",
     "text": [
      "Loss at step 512: -89.252\n",
      "576\n",
      "Initial loss: 0.308\n"
     ]
    },
    {
     "name": "stderr",
     "output_type": "stream",
     "text": [
      "100%|██████████| 512/512 [00:33<00:00, 15.38it/s]\n",
      "  0%|          | 2/512 [00:00<00:30, 16.98it/s]"
     ]
    },
    {
     "name": "stdout",
     "output_type": "stream",
     "text": [
      "Loss at step 512: -125.339\n",
      "577\n",
      "Initial loss: -0.347\n"
     ]
    },
    {
     "name": "stderr",
     "output_type": "stream",
     "text": [
      "100%|██████████| 512/512 [00:33<00:00, 15.36it/s]\n",
      "  0%|          | 2/512 [00:00<00:32, 15.80it/s]"
     ]
    },
    {
     "name": "stdout",
     "output_type": "stream",
     "text": [
      "Loss at step 512: -69.320\n",
      "578\n",
      "Initial loss: -0.530\n"
     ]
    },
    {
     "name": "stderr",
     "output_type": "stream",
     "text": [
      "100%|██████████| 512/512 [00:33<00:00, 15.22it/s]\n",
      "  0%|          | 2/512 [00:00<00:32, 15.60it/s]"
     ]
    },
    {
     "name": "stdout",
     "output_type": "stream",
     "text": [
      "Loss at step 512: -53.826\n",
      "579\n",
      "Initial loss: 1.240\n"
     ]
    },
    {
     "name": "stderr",
     "output_type": "stream",
     "text": [
      "100%|██████████| 512/512 [00:33<00:00, 15.37it/s]\n",
      "  0%|          | 2/512 [00:00<00:29, 17.02it/s]"
     ]
    },
    {
     "name": "stdout",
     "output_type": "stream",
     "text": [
      "Loss at step 512: -112.053\n",
      "580\n",
      "Initial loss: 0.069\n"
     ]
    },
    {
     "name": "stderr",
     "output_type": "stream",
     "text": [
      "100%|██████████| 512/512 [00:33<00:00, 15.47it/s]\n",
      "  0%|          | 2/512 [00:00<00:32, 15.87it/s]"
     ]
    },
    {
     "name": "stdout",
     "output_type": "stream",
     "text": [
      "Loss at step 512: -72.146\n",
      "581\n",
      "Initial loss: -0.167\n"
     ]
    },
    {
     "name": "stderr",
     "output_type": "stream",
     "text": [
      "100%|██████████| 512/512 [00:33<00:00, 15.29it/s]\n",
      "  0%|          | 2/512 [00:00<00:31, 16.33it/s]"
     ]
    },
    {
     "name": "stdout",
     "output_type": "stream",
     "text": [
      "Loss at step 512: -75.476\n",
      "582\n",
      "Initial loss: 0.280\n"
     ]
    },
    {
     "name": "stderr",
     "output_type": "stream",
     "text": [
      "100%|██████████| 512/512 [00:33<00:00, 15.35it/s]\n",
      "  0%|          | 2/512 [00:00<00:29, 17.19it/s]"
     ]
    },
    {
     "name": "stdout",
     "output_type": "stream",
     "text": [
      "Loss at step 512: -161.068\n",
      "583\n",
      "Initial loss: -0.020\n"
     ]
    },
    {
     "name": "stderr",
     "output_type": "stream",
     "text": [
      "100%|██████████| 512/512 [00:33<00:00, 15.47it/s]\n",
      "  0%|          | 2/512 [00:00<00:30, 16.46it/s]"
     ]
    },
    {
     "name": "stdout",
     "output_type": "stream",
     "text": [
      "Loss at step 512: -134.816\n",
      "584\n",
      "Initial loss: 0.457\n"
     ]
    },
    {
     "name": "stderr",
     "output_type": "stream",
     "text": [
      "100%|██████████| 512/512 [00:33<00:00, 15.28it/s]\n",
      "  0%|          | 2/512 [00:00<00:28, 17.79it/s]"
     ]
    },
    {
     "name": "stdout",
     "output_type": "stream",
     "text": [
      "Loss at step 512: -154.813\n",
      "585\n",
      "Initial loss: 1.250\n"
     ]
    },
    {
     "name": "stderr",
     "output_type": "stream",
     "text": [
      "100%|██████████| 512/512 [00:33<00:00, 15.38it/s]\n",
      "  0%|          | 2/512 [00:00<00:31, 16.28it/s]"
     ]
    },
    {
     "name": "stdout",
     "output_type": "stream",
     "text": [
      "Loss at step 512: -73.342\n",
      "586\n",
      "Initial loss: 0.402\n"
     ]
    },
    {
     "name": "stderr",
     "output_type": "stream",
     "text": [
      "100%|██████████| 512/512 [00:33<00:00, 15.44it/s]\n",
      "  0%|          | 2/512 [00:00<00:31, 16.19it/s]"
     ]
    },
    {
     "name": "stdout",
     "output_type": "stream",
     "text": [
      "Loss at step 512: -66.082\n",
      "587\n",
      "Initial loss: 0.285\n"
     ]
    },
    {
     "name": "stderr",
     "output_type": "stream",
     "text": [
      "100%|██████████| 512/512 [00:33<00:00, 15.24it/s]\n",
      "  0%|          | 2/512 [00:00<00:31, 16.14it/s]"
     ]
    },
    {
     "name": "stdout",
     "output_type": "stream",
     "text": [
      "Loss at step 512: -165.426\n",
      "588\n",
      "Initial loss: -0.197\n"
     ]
    },
    {
     "name": "stderr",
     "output_type": "stream",
     "text": [
      "100%|██████████| 512/512 [00:33<00:00, 15.42it/s]\n",
      "  0%|          | 2/512 [00:00<00:32, 15.90it/s]"
     ]
    },
    {
     "name": "stdout",
     "output_type": "stream",
     "text": [
      "Loss at step 512: -62.463\n",
      "589\n",
      "Initial loss: -1.041\n"
     ]
    },
    {
     "name": "stderr",
     "output_type": "stream",
     "text": [
      "100%|██████████| 512/512 [00:33<00:00, 15.10it/s]\n",
      "  0%|          | 2/512 [00:00<00:30, 16.85it/s]"
     ]
    },
    {
     "name": "stdout",
     "output_type": "stream",
     "text": [
      "Loss at step 512: -124.891\n",
      "590\n",
      "Initial loss: -0.238\n"
     ]
    },
    {
     "name": "stderr",
     "output_type": "stream",
     "text": [
      "100%|██████████| 512/512 [00:33<00:00, 15.19it/s]\n",
      "  0%|          | 2/512 [00:00<00:30, 16.93it/s]"
     ]
    },
    {
     "name": "stdout",
     "output_type": "stream",
     "text": [
      "Loss at step 512: -104.876\n",
      "591\n",
      "Initial loss: 0.592\n"
     ]
    },
    {
     "name": "stderr",
     "output_type": "stream",
     "text": [
      "100%|██████████| 512/512 [00:33<00:00, 15.36it/s]\n",
      "  0%|          | 2/512 [00:00<00:32, 15.76it/s]"
     ]
    },
    {
     "name": "stdout",
     "output_type": "stream",
     "text": [
      "Loss at step 512: -70.980\n",
      "592\n",
      "Initial loss: 0.288\n"
     ]
    },
    {
     "name": "stderr",
     "output_type": "stream",
     "text": [
      "100%|██████████| 512/512 [00:32<00:00, 15.53it/s]\n",
      "  0%|          | 2/512 [00:00<00:30, 16.63it/s]"
     ]
    },
    {
     "name": "stdout",
     "output_type": "stream",
     "text": [
      "Loss at step 512: -91.582\n",
      "593\n",
      "Initial loss: -0.279\n"
     ]
    },
    {
     "name": "stderr",
     "output_type": "stream",
     "text": [
      "100%|██████████| 512/512 [00:33<00:00, 15.26it/s]\n",
      "  0%|          | 2/512 [00:00<00:31, 16.41it/s]"
     ]
    },
    {
     "name": "stdout",
     "output_type": "stream",
     "text": [
      "Loss at step 512: -120.444\n",
      "594\n",
      "Initial loss: -1.072\n"
     ]
    },
    {
     "name": "stderr",
     "output_type": "stream",
     "text": [
      "100%|██████████| 512/512 [00:33<00:00, 15.41it/s]\n",
      "  0%|          | 2/512 [00:00<00:32, 15.63it/s]"
     ]
    },
    {
     "name": "stdout",
     "output_type": "stream",
     "text": [
      "Loss at step 512: -56.918\n",
      "595\n",
      "Initial loss: 0.206\n"
     ]
    },
    {
     "name": "stderr",
     "output_type": "stream",
     "text": [
      "100%|██████████| 512/512 [00:33<00:00, 15.39it/s]\n",
      "  0%|          | 2/512 [00:00<00:30, 16.50it/s]"
     ]
    },
    {
     "name": "stdout",
     "output_type": "stream",
     "text": [
      "Loss at step 512: -88.264\n",
      "596\n",
      "Initial loss: 1.212\n"
     ]
    },
    {
     "name": "stderr",
     "output_type": "stream",
     "text": [
      "100%|██████████| 512/512 [00:32<00:00, 15.54it/s]\n",
      "  0%|          | 2/512 [00:00<00:32, 15.92it/s]"
     ]
    },
    {
     "name": "stdout",
     "output_type": "stream",
     "text": [
      "Loss at step 512: -50.287\n",
      "597\n",
      "Initial loss: 0.972\n"
     ]
    },
    {
     "name": "stderr",
     "output_type": "stream",
     "text": [
      "100%|██████████| 512/512 [00:33<00:00, 15.30it/s]\n",
      "  0%|          | 2/512 [00:00<00:30, 16.58it/s]"
     ]
    },
    {
     "name": "stdout",
     "output_type": "stream",
     "text": [
      "Loss at step 512: -68.411\n",
      "598\n",
      "Initial loss: 1.292\n"
     ]
    },
    {
     "name": "stderr",
     "output_type": "stream",
     "text": [
      "100%|██████████| 512/512 [00:33<00:00, 15.15it/s]\n",
      "  0%|          | 2/512 [00:00<00:31, 16.34it/s]"
     ]
    },
    {
     "name": "stdout",
     "output_type": "stream",
     "text": [
      "Loss at step 512: -158.353\n",
      "599\n",
      "Initial loss: 0.855\n"
     ]
    },
    {
     "name": "stderr",
     "output_type": "stream",
     "text": [
      "100%|██████████| 512/512 [00:33<00:00, 15.22it/s]\n",
      "  0%|          | 2/512 [00:00<00:31, 16.02it/s]"
     ]
    },
    {
     "name": "stdout",
     "output_type": "stream",
     "text": [
      "Loss at step 512: -206.559\n",
      "600\n",
      "Initial loss: -0.591\n"
     ]
    },
    {
     "name": "stderr",
     "output_type": "stream",
     "text": [
      "100%|██████████| 512/512 [00:33<00:00, 15.24it/s]\n",
      "  0%|          | 2/512 [00:00<00:30, 16.88it/s]"
     ]
    },
    {
     "name": "stdout",
     "output_type": "stream",
     "text": [
      "Loss at step 512: -60.996\n",
      "601\n",
      "Initial loss: 0.217\n"
     ]
    },
    {
     "name": "stderr",
     "output_type": "stream",
     "text": [
      "100%|██████████| 512/512 [00:33<00:00, 15.27it/s]\n",
      "  0%|          | 2/512 [00:00<00:30, 16.53it/s]"
     ]
    },
    {
     "name": "stdout",
     "output_type": "stream",
     "text": [
      "Loss at step 512: -77.532\n",
      "602\n",
      "Initial loss: 0.681\n"
     ]
    },
    {
     "name": "stderr",
     "output_type": "stream",
     "text": [
      "100%|██████████| 512/512 [00:33<00:00, 15.39it/s]\n",
      "  0%|          | 2/512 [00:00<00:31, 16.29it/s]"
     ]
    },
    {
     "name": "stdout",
     "output_type": "stream",
     "text": [
      "Loss at step 512: -73.865\n",
      "603\n",
      "Initial loss: -0.123\n"
     ]
    },
    {
     "name": "stderr",
     "output_type": "stream",
     "text": [
      "100%|██████████| 512/512 [00:33<00:00, 15.17it/s]\n",
      "  0%|          | 2/512 [00:00<00:31, 16.30it/s]"
     ]
    },
    {
     "name": "stdout",
     "output_type": "stream",
     "text": [
      "Loss at step 512: -67.116\n",
      "604\n",
      "Initial loss: -0.547\n"
     ]
    },
    {
     "name": "stderr",
     "output_type": "stream",
     "text": [
      "100%|██████████| 512/512 [00:33<00:00, 15.29it/s]\n",
      "  0%|          | 2/512 [00:00<00:32, 15.83it/s]"
     ]
    },
    {
     "name": "stdout",
     "output_type": "stream",
     "text": [
      "Loss at step 512: -53.377\n",
      "605\n",
      "Initial loss: -0.083\n"
     ]
    },
    {
     "name": "stderr",
     "output_type": "stream",
     "text": [
      "100%|██████████| 512/512 [00:33<00:00, 15.20it/s]\n",
      "  0%|          | 2/512 [00:00<00:31, 16.03it/s]"
     ]
    },
    {
     "name": "stdout",
     "output_type": "stream",
     "text": [
      "Loss at step 512: -136.494\n",
      "606\n",
      "Initial loss: 0.277\n"
     ]
    },
    {
     "name": "stderr",
     "output_type": "stream",
     "text": [
      "100%|██████████| 512/512 [00:33<00:00, 15.25it/s]\n",
      "  0%|          | 2/512 [00:00<00:30, 16.72it/s]"
     ]
    },
    {
     "name": "stdout",
     "output_type": "stream",
     "text": [
      "Loss at step 512: -134.946\n",
      "607\n",
      "Initial loss: -0.056\n"
     ]
    },
    {
     "name": "stderr",
     "output_type": "stream",
     "text": [
      "100%|██████████| 512/512 [00:33<00:00, 15.32it/s]\n",
      "  0%|          | 2/512 [00:00<00:31, 15.95it/s]"
     ]
    },
    {
     "name": "stdout",
     "output_type": "stream",
     "text": [
      "Loss at step 512: -65.472\n",
      "608\n",
      "Initial loss: 0.348\n"
     ]
    },
    {
     "name": "stderr",
     "output_type": "stream",
     "text": [
      "100%|██████████| 512/512 [00:33<00:00, 15.27it/s]\n",
      "  0%|          | 2/512 [00:00<00:32, 15.65it/s]"
     ]
    },
    {
     "name": "stdout",
     "output_type": "stream",
     "text": [
      "Loss at step 512: -77.083\n",
      "609\n",
      "Initial loss: -0.298\n"
     ]
    },
    {
     "name": "stderr",
     "output_type": "stream",
     "text": [
      "100%|██████████| 512/512 [00:34<00:00, 15.01it/s]\n",
      "  0%|          | 2/512 [00:00<00:30, 16.55it/s]"
     ]
    },
    {
     "name": "stdout",
     "output_type": "stream",
     "text": [
      "Loss at step 512: -46.986\n",
      "610\n",
      "Initial loss: -0.777\n"
     ]
    },
    {
     "name": "stderr",
     "output_type": "stream",
     "text": [
      "100%|██████████| 512/512 [00:34<00:00, 14.96it/s]\n",
      "  0%|          | 2/512 [00:00<00:31, 16.20it/s]"
     ]
    },
    {
     "name": "stdout",
     "output_type": "stream",
     "text": [
      "Loss at step 512: -53.120\n",
      "611\n",
      "Initial loss: 1.449\n"
     ]
    },
    {
     "name": "stderr",
     "output_type": "stream",
     "text": [
      "100%|██████████| 512/512 [00:33<00:00, 15.08it/s]\n",
      "  0%|          | 2/512 [00:00<00:31, 16.35it/s]"
     ]
    },
    {
     "name": "stdout",
     "output_type": "stream",
     "text": [
      "Loss at step 512: -61.920\n",
      "612\n",
      "Initial loss: 0.330\n"
     ]
    },
    {
     "name": "stderr",
     "output_type": "stream",
     "text": [
      "100%|██████████| 512/512 [00:33<00:00, 15.32it/s]\n",
      "  0%|          | 2/512 [00:00<00:30, 16.71it/s]"
     ]
    },
    {
     "name": "stdout",
     "output_type": "stream",
     "text": [
      "Loss at step 512: -74.192\n",
      "613\n",
      "Initial loss: -0.346\n"
     ]
    },
    {
     "name": "stderr",
     "output_type": "stream",
     "text": [
      "100%|██████████| 512/512 [00:33<00:00, 15.09it/s]\n",
      "  0%|          | 2/512 [00:00<00:31, 16.15it/s]"
     ]
    },
    {
     "name": "stdout",
     "output_type": "stream",
     "text": [
      "Loss at step 512: -141.420\n",
      "614\n",
      "Initial loss: 0.878\n"
     ]
    },
    {
     "name": "stderr",
     "output_type": "stream",
     "text": [
      "100%|██████████| 512/512 [00:34<00:00, 14.95it/s]\n",
      "  0%|          | 2/512 [00:00<00:32, 15.78it/s]"
     ]
    },
    {
     "name": "stdout",
     "output_type": "stream",
     "text": [
      "Loss at step 512: -97.490\n",
      "615\n",
      "Initial loss: -1.292\n"
     ]
    },
    {
     "name": "stderr",
     "output_type": "stream",
     "text": [
      "100%|██████████| 512/512 [00:34<00:00, 14.91it/s]\n",
      "  0%|          | 2/512 [00:00<00:31, 16.17it/s]"
     ]
    },
    {
     "name": "stdout",
     "output_type": "stream",
     "text": [
      "Loss at step 512: -51.488\n",
      "616\n",
      "Initial loss: -0.115\n"
     ]
    },
    {
     "name": "stderr",
     "output_type": "stream",
     "text": [
      "100%|██████████| 512/512 [00:33<00:00, 15.22it/s]\n",
      "  0%|          | 2/512 [00:00<00:31, 16.07it/s]"
     ]
    },
    {
     "name": "stdout",
     "output_type": "stream",
     "text": [
      "Loss at step 512: -53.578\n",
      "617\n",
      "Initial loss: 0.373\n"
     ]
    },
    {
     "name": "stderr",
     "output_type": "stream",
     "text": [
      "100%|██████████| 512/512 [00:33<00:00, 15.06it/s]\n",
      "  0%|          | 2/512 [00:00<00:30, 16.60it/s]"
     ]
    },
    {
     "name": "stdout",
     "output_type": "stream",
     "text": [
      "Loss at step 512: -133.634\n",
      "618\n",
      "Initial loss: 0.453\n"
     ]
    },
    {
     "name": "stderr",
     "output_type": "stream",
     "text": [
      "100%|██████████| 512/512 [00:33<00:00, 15.37it/s]\n",
      "  0%|          | 2/512 [00:00<00:32, 15.91it/s]"
     ]
    },
    {
     "name": "stdout",
     "output_type": "stream",
     "text": [
      "Loss at step 512: -115.431\n",
      "619\n",
      "Initial loss: 0.326\n"
     ]
    },
    {
     "name": "stderr",
     "output_type": "stream",
     "text": [
      "100%|██████████| 512/512 [00:33<00:00, 15.16it/s]\n",
      "  0%|          | 2/512 [00:00<00:31, 16.44it/s]"
     ]
    },
    {
     "name": "stdout",
     "output_type": "stream",
     "text": [
      "Loss at step 512: -64.987\n",
      "620\n",
      "Initial loss: -0.875\n"
     ]
    },
    {
     "name": "stderr",
     "output_type": "stream",
     "text": [
      "100%|██████████| 512/512 [00:33<00:00, 15.13it/s]\n",
      "  0%|          | 2/512 [00:00<00:30, 16.69it/s]"
     ]
    },
    {
     "name": "stdout",
     "output_type": "stream",
     "text": [
      "Loss at step 512: -68.826\n",
      "621\n",
      "Initial loss: 1.039\n"
     ]
    },
    {
     "name": "stderr",
     "output_type": "stream",
     "text": [
      "100%|██████████| 512/512 [00:33<00:00, 15.07it/s]\n",
      "  0%|          | 2/512 [00:00<00:32, 15.86it/s]"
     ]
    },
    {
     "name": "stdout",
     "output_type": "stream",
     "text": [
      "Loss at step 512: -76.839\n",
      "622\n",
      "Initial loss: 0.258\n"
     ]
    },
    {
     "name": "stderr",
     "output_type": "stream",
     "text": [
      "100%|██████████| 512/512 [00:34<00:00, 14.85it/s]\n",
      "  0%|          | 2/512 [00:00<00:32, 15.52it/s]"
     ]
    },
    {
     "name": "stdout",
     "output_type": "stream",
     "text": [
      "Loss at step 512: -80.273\n",
      "623\n",
      "Initial loss: -0.659\n"
     ]
    },
    {
     "name": "stderr",
     "output_type": "stream",
     "text": [
      "100%|██████████| 512/512 [00:34<00:00, 14.84it/s]\n",
      "  0%|          | 2/512 [00:00<00:32, 15.88it/s]"
     ]
    },
    {
     "name": "stdout",
     "output_type": "stream",
     "text": [
      "Loss at step 512: -110.294\n",
      "624\n",
      "Initial loss: -0.069\n"
     ]
    },
    {
     "name": "stderr",
     "output_type": "stream",
     "text": [
      "100%|██████████| 512/512 [00:34<00:00, 14.99it/s]\n",
      "  0%|          | 2/512 [00:00<00:32, 15.76it/s]"
     ]
    },
    {
     "name": "stdout",
     "output_type": "stream",
     "text": [
      "Loss at step 512: -66.947\n",
      "625\n",
      "Initial loss: 0.212\n"
     ]
    },
    {
     "name": "stderr",
     "output_type": "stream",
     "text": [
      "100%|██████████| 512/512 [00:34<00:00, 14.93it/s]\n",
      "  0%|          | 2/512 [00:00<00:36, 14.09it/s]"
     ]
    },
    {
     "name": "stdout",
     "output_type": "stream",
     "text": [
      "Loss at step 512: -107.564\n",
      "626\n",
      "Initial loss: 1.317\n"
     ]
    },
    {
     "name": "stderr",
     "output_type": "stream",
     "text": [
      "100%|██████████| 512/512 [00:34<00:00, 15.01it/s]\n",
      "  0%|          | 2/512 [00:00<00:34, 14.81it/s]"
     ]
    },
    {
     "name": "stdout",
     "output_type": "stream",
     "text": [
      "Loss at step 512: -142.488\n",
      "627\n",
      "Initial loss: 0.194\n"
     ]
    },
    {
     "name": "stderr",
     "output_type": "stream",
     "text": [
      "100%|██████████| 512/512 [00:34<00:00, 14.98it/s]\n",
      "  0%|          | 2/512 [00:00<00:34, 14.92it/s]"
     ]
    },
    {
     "name": "stdout",
     "output_type": "stream",
     "text": [
      "Loss at step 512: -91.319\n",
      "628\n",
      "Initial loss: -0.252\n"
     ]
    },
    {
     "name": "stderr",
     "output_type": "stream",
     "text": [
      "100%|██████████| 512/512 [00:34<00:00, 15.04it/s]\n",
      "  0%|          | 2/512 [00:00<00:32, 15.63it/s]"
     ]
    },
    {
     "name": "stdout",
     "output_type": "stream",
     "text": [
      "Loss at step 512: -81.328\n",
      "629\n",
      "Initial loss: 0.133\n"
     ]
    },
    {
     "name": "stderr",
     "output_type": "stream",
     "text": [
      "100%|██████████| 512/512 [00:34<00:00, 14.99it/s]\n",
      "  0%|          | 2/512 [00:00<00:32, 15.65it/s]"
     ]
    },
    {
     "name": "stdout",
     "output_type": "stream",
     "text": [
      "Loss at step 512: -79.246\n",
      "630\n",
      "Initial loss: 0.145\n"
     ]
    },
    {
     "name": "stderr",
     "output_type": "stream",
     "text": [
      "100%|██████████| 512/512 [00:34<00:00, 14.87it/s]\n",
      "  0%|          | 2/512 [00:00<00:31, 15.96it/s]"
     ]
    },
    {
     "name": "stdout",
     "output_type": "stream",
     "text": [
      "Loss at step 512: -67.647\n",
      "631\n",
      "Initial loss: -0.307\n"
     ]
    },
    {
     "name": "stderr",
     "output_type": "stream",
     "text": [
      "100%|██████████| 512/512 [00:35<00:00, 14.52it/s]\n",
      "  0%|          | 2/512 [00:00<00:34, 14.86it/s]"
     ]
    },
    {
     "name": "stdout",
     "output_type": "stream",
     "text": [
      "Loss at step 512: -46.490\n",
      "632\n",
      "Initial loss: 0.779\n"
     ]
    },
    {
     "name": "stderr",
     "output_type": "stream",
     "text": [
      "100%|██████████| 512/512 [00:35<00:00, 14.58it/s]\n",
      "  0%|          | 2/512 [00:00<00:37, 13.78it/s]"
     ]
    },
    {
     "name": "stdout",
     "output_type": "stream",
     "text": [
      "Loss at step 512: -142.960\n",
      "633\n",
      "Initial loss: 0.299\n"
     ]
    },
    {
     "name": "stderr",
     "output_type": "stream",
     "text": [
      "100%|██████████| 512/512 [00:35<00:00, 14.50it/s]\n",
      "  0%|          | 2/512 [00:00<00:31, 16.04it/s]"
     ]
    },
    {
     "name": "stdout",
     "output_type": "stream",
     "text": [
      "Loss at step 512: -101.272\n",
      "634\n",
      "Initial loss: -0.785\n"
     ]
    },
    {
     "name": "stderr",
     "output_type": "stream",
     "text": [
      "100%|██████████| 512/512 [00:34<00:00, 14.68it/s]\n",
      "  0%|          | 2/512 [00:00<00:34, 14.60it/s]"
     ]
    },
    {
     "name": "stdout",
     "output_type": "stream",
     "text": [
      "Loss at step 512: -95.894\n",
      "635\n",
      "Initial loss: 0.749\n"
     ]
    },
    {
     "name": "stderr",
     "output_type": "stream",
     "text": [
      "100%|██████████| 512/512 [00:35<00:00, 14.54it/s]\n",
      "  0%|          | 2/512 [00:00<00:32, 15.78it/s]"
     ]
    },
    {
     "name": "stdout",
     "output_type": "stream",
     "text": [
      "Loss at step 512: -129.669\n",
      "636\n",
      "Initial loss: 1.947\n"
     ]
    },
    {
     "name": "stderr",
     "output_type": "stream",
     "text": [
      "100%|██████████| 512/512 [00:35<00:00, 14.57it/s]\n",
      "  0%|          | 2/512 [00:00<00:32, 15.71it/s]"
     ]
    },
    {
     "name": "stdout",
     "output_type": "stream",
     "text": [
      "Loss at step 512: -51.958\n",
      "637\n",
      "Initial loss: 0.680\n"
     ]
    },
    {
     "name": "stderr",
     "output_type": "stream",
     "text": [
      "100%|██████████| 512/512 [00:35<00:00, 14.58it/s]\n",
      "  0%|          | 2/512 [00:00<00:31, 15.97it/s]"
     ]
    },
    {
     "name": "stdout",
     "output_type": "stream",
     "text": [
      "Loss at step 512: -84.775\n",
      "638\n",
      "Initial loss: -0.763\n"
     ]
    },
    {
     "name": "stderr",
     "output_type": "stream",
     "text": [
      "100%|██████████| 512/512 [00:34<00:00, 14.70it/s]\n",
      "  0%|          | 2/512 [00:00<00:32, 15.68it/s]"
     ]
    },
    {
     "name": "stdout",
     "output_type": "stream",
     "text": [
      "Loss at step 512: -98.311\n",
      "639\n",
      "Initial loss: 0.551\n"
     ]
    },
    {
     "name": "stderr",
     "output_type": "stream",
     "text": [
      "100%|██████████| 512/512 [00:34<00:00, 14.69it/s]\n",
      "  0%|          | 2/512 [00:00<00:37, 13.69it/s]"
     ]
    },
    {
     "name": "stdout",
     "output_type": "stream",
     "text": [
      "Loss at step 512: -128.666\n",
      "640\n",
      "Initial loss: 0.361\n"
     ]
    },
    {
     "name": "stderr",
     "output_type": "stream",
     "text": [
      "100%|██████████| 512/512 [00:38<00:00, 13.40it/s]\n",
      "  0%|          | 2/512 [00:00<00:34, 14.80it/s]"
     ]
    },
    {
     "name": "stdout",
     "output_type": "stream",
     "text": [
      "Loss at step 512: -114.882\n",
      "641\n",
      "Initial loss: 0.627\n"
     ]
    },
    {
     "name": "stderr",
     "output_type": "stream",
     "text": [
      "100%|██████████| 512/512 [00:38<00:00, 13.35it/s]\n",
      "  0%|          | 0/512 [00:00<?, ?it/s]"
     ]
    },
    {
     "name": "stdout",
     "output_type": "stream",
     "text": [
      "Loss at step 512: -91.002\n",
      "642\n",
      "Initial loss: 0.693\n"
     ]
    },
    {
     "name": "stderr",
     "output_type": "stream",
     "text": [
      "100%|██████████| 512/512 [00:38<00:00, 13.38it/s]\n",
      "  0%|          | 2/512 [00:00<00:34, 14.68it/s]"
     ]
    },
    {
     "name": "stdout",
     "output_type": "stream",
     "text": [
      "Loss at step 512: -56.713\n",
      "643\n",
      "Initial loss: 0.061\n"
     ]
    },
    {
     "name": "stderr",
     "output_type": "stream",
     "text": [
      "100%|██████████| 512/512 [00:38<00:00, 13.46it/s]\n",
      "  0%|          | 2/512 [00:00<00:35, 14.50it/s]"
     ]
    },
    {
     "name": "stdout",
     "output_type": "stream",
     "text": [
      "Loss at step 512: -36.136\n",
      "644\n",
      "Initial loss: 1.034\n"
     ]
    },
    {
     "name": "stderr",
     "output_type": "stream",
     "text": [
      "100%|██████████| 512/512 [00:38<00:00, 13.38it/s]\n",
      "  0%|          | 2/512 [00:00<00:36, 13.98it/s]"
     ]
    },
    {
     "name": "stdout",
     "output_type": "stream",
     "text": [
      "Loss at step 512: -107.784\n",
      "645\n",
      "Initial loss: 0.449\n"
     ]
    },
    {
     "name": "stderr",
     "output_type": "stream",
     "text": [
      "100%|██████████| 512/512 [00:38<00:00, 13.34it/s]\n",
      "  0%|          | 0/512 [00:00<?, ?it/s]"
     ]
    },
    {
     "name": "stdout",
     "output_type": "stream",
     "text": [
      "Loss at step 512: -107.293\n",
      "646\n",
      "Initial loss: 0.266\n"
     ]
    },
    {
     "name": "stderr",
     "output_type": "stream",
     "text": [
      "100%|██████████| 512/512 [00:38<00:00, 13.31it/s]\n",
      "  0%|          | 0/512 [00:00<?, ?it/s]"
     ]
    },
    {
     "name": "stdout",
     "output_type": "stream",
     "text": [
      "Loss at step 512: -68.537\n",
      "647\n",
      "Initial loss: 0.783\n"
     ]
    },
    {
     "name": "stderr",
     "output_type": "stream",
     "text": [
      "100%|██████████| 512/512 [00:38<00:00, 13.40it/s]\n",
      "  0%|          | 2/512 [00:00<00:37, 13.42it/s]"
     ]
    },
    {
     "name": "stdout",
     "output_type": "stream",
     "text": [
      "Loss at step 512: -96.653\n",
      "648\n",
      "Initial loss: 0.060\n"
     ]
    },
    {
     "name": "stderr",
     "output_type": "stream",
     "text": [
      "100%|██████████| 512/512 [00:38<00:00, 13.25it/s]\n",
      "  0%|          | 2/512 [00:00<00:37, 13.77it/s]"
     ]
    },
    {
     "name": "stdout",
     "output_type": "stream",
     "text": [
      "Loss at step 512: -75.610\n",
      "649\n",
      "Initial loss: -0.734\n"
     ]
    },
    {
     "name": "stderr",
     "output_type": "stream",
     "text": [
      "100%|██████████| 512/512 [00:37<00:00, 13.61it/s]\n",
      "  0%|          | 2/512 [00:00<00:35, 14.56it/s]"
     ]
    },
    {
     "name": "stdout",
     "output_type": "stream",
     "text": [
      "Loss at step 512: -49.596\n",
      "650\n",
      "Initial loss: 1.187\n"
     ]
    },
    {
     "name": "stderr",
     "output_type": "stream",
     "text": [
      "100%|██████████| 512/512 [00:38<00:00, 13.44it/s]\n",
      "  0%|          | 2/512 [00:00<00:35, 14.35it/s]"
     ]
    },
    {
     "name": "stdout",
     "output_type": "stream",
     "text": [
      "Loss at step 512: -112.766\n",
      "651\n",
      "Initial loss: 1.482\n"
     ]
    },
    {
     "name": "stderr",
     "output_type": "stream",
     "text": [
      "100%|██████████| 512/512 [00:38<00:00, 13.31it/s]\n",
      "  0%|          | 2/512 [00:00<00:35, 14.50it/s]"
     ]
    },
    {
     "name": "stdout",
     "output_type": "stream",
     "text": [
      "Loss at step 512: -65.168\n",
      "652\n",
      "Initial loss: 0.282\n"
     ]
    },
    {
     "name": "stderr",
     "output_type": "stream",
     "text": [
      "100%|██████████| 512/512 [00:38<00:00, 13.24it/s]\n",
      "  0%|          | 2/512 [00:00<00:37, 13.68it/s]"
     ]
    },
    {
     "name": "stdout",
     "output_type": "stream",
     "text": [
      "Loss at step 512: -76.967\n",
      "653\n",
      "Initial loss: 0.967\n"
     ]
    },
    {
     "name": "stderr",
     "output_type": "stream",
     "text": [
      "100%|██████████| 512/512 [00:38<00:00, 13.27it/s]\n",
      "  0%|          | 2/512 [00:00<00:36, 14.01it/s]"
     ]
    },
    {
     "name": "stdout",
     "output_type": "stream",
     "text": [
      "Loss at step 512: -125.338\n",
      "654\n",
      "Initial loss: 0.451\n"
     ]
    },
    {
     "name": "stderr",
     "output_type": "stream",
     "text": [
      "100%|██████████| 512/512 [00:38<00:00, 13.29it/s]\n",
      "  0%|          | 2/512 [00:00<00:36, 14.10it/s]"
     ]
    },
    {
     "name": "stdout",
     "output_type": "stream",
     "text": [
      "Loss at step 512: -62.513\n",
      "655\n",
      "Initial loss: 1.572\n"
     ]
    },
    {
     "name": "stderr",
     "output_type": "stream",
     "text": [
      "100%|██████████| 512/512 [00:38<00:00, 13.28it/s]\n",
      "  0%|          | 2/512 [00:00<00:37, 13.65it/s]"
     ]
    },
    {
     "name": "stdout",
     "output_type": "stream",
     "text": [
      "Loss at step 512: -206.494\n",
      "656\n",
      "Initial loss: 0.763\n"
     ]
    },
    {
     "name": "stderr",
     "output_type": "stream",
     "text": [
      "100%|██████████| 512/512 [00:38<00:00, 13.14it/s]\n",
      "  0%|          | 2/512 [00:00<00:36, 14.04it/s]"
     ]
    },
    {
     "name": "stdout",
     "output_type": "stream",
     "text": [
      "Loss at step 512: -102.922\n",
      "657\n",
      "Initial loss: 2.750\n"
     ]
    },
    {
     "name": "stderr",
     "output_type": "stream",
     "text": [
      "100%|██████████| 512/512 [00:38<00:00, 13.27it/s]\n",
      "  0%|          | 2/512 [00:00<00:35, 14.33it/s]"
     ]
    },
    {
     "name": "stdout",
     "output_type": "stream",
     "text": [
      "Loss at step 512: -222.900\n",
      "658\n",
      "Initial loss: -0.189\n"
     ]
    },
    {
     "name": "stderr",
     "output_type": "stream",
     "text": [
      "100%|██████████| 512/512 [00:38<00:00, 13.34it/s]\n",
      "  0%|          | 2/512 [00:00<00:36, 13.84it/s]"
     ]
    },
    {
     "name": "stdout",
     "output_type": "stream",
     "text": [
      "Loss at step 512: -133.166\n",
      "659\n",
      "Initial loss: 1.003\n"
     ]
    },
    {
     "name": "stderr",
     "output_type": "stream",
     "text": [
      "100%|██████████| 512/512 [00:38<00:00, 13.44it/s]\n",
      "  0%|          | 2/512 [00:00<00:36, 13.97it/s]"
     ]
    },
    {
     "name": "stdout",
     "output_type": "stream",
     "text": [
      "Loss at step 512: -141.542\n",
      "660\n",
      "Initial loss: 0.550\n"
     ]
    },
    {
     "name": "stderr",
     "output_type": "stream",
     "text": [
      "100%|██████████| 512/512 [00:37<00:00, 13.72it/s]\n",
      "  0%|          | 2/512 [00:00<00:34, 14.64it/s]"
     ]
    },
    {
     "name": "stdout",
     "output_type": "stream",
     "text": [
      "Loss at step 512: -190.862\n",
      "661\n",
      "Initial loss: 0.653\n"
     ]
    },
    {
     "name": "stderr",
     "output_type": "stream",
     "text": [
      "100%|██████████| 512/512 [00:38<00:00, 13.41it/s]\n",
      "  0%|          | 2/512 [00:00<00:36, 13.84it/s]"
     ]
    },
    {
     "name": "stdout",
     "output_type": "stream",
     "text": [
      "Loss at step 512: -70.069\n",
      "662\n",
      "Initial loss: 1.328\n"
     ]
    },
    {
     "name": "stderr",
     "output_type": "stream",
     "text": [
      "100%|██████████| 512/512 [00:38<00:00, 13.38it/s]\n",
      "  0%|          | 2/512 [00:00<00:35, 14.25it/s]"
     ]
    },
    {
     "name": "stdout",
     "output_type": "stream",
     "text": [
      "Loss at step 512: -118.047\n",
      "663\n",
      "Initial loss: 1.640\n"
     ]
    },
    {
     "name": "stderr",
     "output_type": "stream",
     "text": [
      "100%|██████████| 512/512 [00:37<00:00, 13.47it/s]\n",
      "  0%|          | 2/512 [00:00<00:32, 15.58it/s]"
     ]
    },
    {
     "name": "stdout",
     "output_type": "stream",
     "text": [
      "Loss at step 512: -199.051\n",
      "664\n",
      "Initial loss: 0.639\n"
     ]
    },
    {
     "name": "stderr",
     "output_type": "stream",
     "text": [
      "100%|██████████| 512/512 [00:37<00:00, 13.68it/s]\n",
      "  0%|          | 2/512 [00:00<00:37, 13.74it/s]"
     ]
    },
    {
     "name": "stdout",
     "output_type": "stream",
     "text": [
      "Loss at step 512: -154.831\n",
      "665\n",
      "Initial loss: 0.407\n"
     ]
    },
    {
     "name": "stderr",
     "output_type": "stream",
     "text": [
      "100%|██████████| 512/512 [00:38<00:00, 13.44it/s]\n",
      "  0%|          | 2/512 [00:00<00:34, 14.61it/s]"
     ]
    },
    {
     "name": "stdout",
     "output_type": "stream",
     "text": [
      "Loss at step 512: -65.895\n",
      "666\n",
      "Initial loss: 1.400\n"
     ]
    },
    {
     "name": "stderr",
     "output_type": "stream",
     "text": [
      "100%|██████████| 512/512 [00:38<00:00, 13.45it/s]\n",
      "  0%|          | 2/512 [00:00<00:35, 14.23it/s]"
     ]
    },
    {
     "name": "stdout",
     "output_type": "stream",
     "text": [
      "Loss at step 512: -186.509\n",
      "667\n",
      "Initial loss: 0.343\n"
     ]
    },
    {
     "name": "stderr",
     "output_type": "stream",
     "text": [
      "100%|██████████| 512/512 [00:38<00:00, 13.38it/s]\n",
      "  0%|          | 2/512 [00:00<00:35, 14.28it/s]"
     ]
    },
    {
     "name": "stdout",
     "output_type": "stream",
     "text": [
      "Loss at step 512: -85.281\n",
      "668\n",
      "Initial loss: 0.651\n"
     ]
    },
    {
     "name": "stderr",
     "output_type": "stream",
     "text": [
      "100%|██████████| 512/512 [00:37<00:00, 13.49it/s]\n",
      "  0%|          | 0/512 [00:00<?, ?it/s]"
     ]
    },
    {
     "name": "stdout",
     "output_type": "stream",
     "text": [
      "Loss at step 512: -135.243\n",
      "669\n",
      "Initial loss: 0.667\n"
     ]
    },
    {
     "name": "stderr",
     "output_type": "stream",
     "text": [
      "100%|██████████| 512/512 [00:38<00:00, 13.25it/s]\n",
      "  0%|          | 2/512 [00:00<00:35, 14.25it/s]"
     ]
    },
    {
     "name": "stdout",
     "output_type": "stream",
     "text": [
      "Loss at step 512: -87.943\n",
      "670\n",
      "Initial loss: 0.283\n"
     ]
    },
    {
     "name": "stderr",
     "output_type": "stream",
     "text": [
      "100%|██████████| 512/512 [00:38<00:00, 13.28it/s]\n",
      "  0%|          | 2/512 [00:00<00:35, 14.38it/s]"
     ]
    },
    {
     "name": "stdout",
     "output_type": "stream",
     "text": [
      "Loss at step 512: -103.338\n",
      "671\n",
      "Initial loss: 2.336\n"
     ]
    },
    {
     "name": "stderr",
     "output_type": "stream",
     "text": [
      "100%|██████████| 512/512 [00:38<00:00, 13.41it/s]\n",
      "  0%|          | 2/512 [00:00<00:35, 14.46it/s]"
     ]
    },
    {
     "name": "stdout",
     "output_type": "stream",
     "text": [
      "Loss at step 512: -112.092\n",
      "672\n",
      "Initial loss: 0.973\n"
     ]
    },
    {
     "name": "stderr",
     "output_type": "stream",
     "text": [
      "100%|██████████| 512/512 [00:37<00:00, 13.52it/s]\n",
      "  0%|          | 2/512 [00:00<00:35, 14.30it/s]"
     ]
    },
    {
     "name": "stdout",
     "output_type": "stream",
     "text": [
      "Loss at step 512: -77.881\n",
      "673\n",
      "Initial loss: -0.312\n"
     ]
    },
    {
     "name": "stderr",
     "output_type": "stream",
     "text": [
      "100%|██████████| 512/512 [00:38<00:00, 13.44it/s]\n",
      "  0%|          | 2/512 [00:00<00:34, 14.67it/s]"
     ]
    },
    {
     "name": "stdout",
     "output_type": "stream",
     "text": [
      "Loss at step 512: -55.432\n",
      "674\n",
      "Initial loss: 0.519\n"
     ]
    },
    {
     "name": "stderr",
     "output_type": "stream",
     "text": [
      "100%|██████████| 512/512 [00:37<00:00, 13.52it/s]\n",
      "  0%|          | 2/512 [00:00<00:35, 14.30it/s]"
     ]
    },
    {
     "name": "stdout",
     "output_type": "stream",
     "text": [
      "Loss at step 512: -98.449\n",
      "675\n",
      "Initial loss: 0.238\n"
     ]
    },
    {
     "name": "stderr",
     "output_type": "stream",
     "text": [
      "100%|██████████| 512/512 [00:38<00:00, 13.38it/s]\n",
      "  0%|          | 2/512 [00:00<00:37, 13.64it/s]"
     ]
    },
    {
     "name": "stdout",
     "output_type": "stream",
     "text": [
      "Loss at step 512: -95.097\n",
      "676\n",
      "Initial loss: 1.403\n"
     ]
    },
    {
     "name": "stderr",
     "output_type": "stream",
     "text": [
      "100%|██████████| 512/512 [00:38<00:00, 13.36it/s]\n",
      "  0%|          | 2/512 [00:00<00:37, 13.67it/s]"
     ]
    },
    {
     "name": "stdout",
     "output_type": "stream",
     "text": [
      "Loss at step 512: -140.854\n",
      "677\n",
      "Initial loss: 0.474\n"
     ]
    },
    {
     "name": "stderr",
     "output_type": "stream",
     "text": [
      "100%|██████████| 512/512 [00:38<00:00, 13.45it/s]\n",
      "  0%|          | 2/512 [00:00<00:33, 15.08it/s]"
     ]
    },
    {
     "name": "stdout",
     "output_type": "stream",
     "text": [
      "Loss at step 512: -63.841\n",
      "678\n",
      "Initial loss: 0.914\n"
     ]
    },
    {
     "name": "stderr",
     "output_type": "stream",
     "text": [
      "100%|██████████| 512/512 [00:38<00:00, 13.45it/s]\n",
      "  0%|          | 2/512 [00:00<00:37, 13.71it/s]"
     ]
    },
    {
     "name": "stdout",
     "output_type": "stream",
     "text": [
      "Loss at step 512: -109.466\n",
      "679\n",
      "Initial loss: 0.459\n"
     ]
    },
    {
     "name": "stderr",
     "output_type": "stream",
     "text": [
      "100%|██████████| 512/512 [00:38<00:00, 13.42it/s]\n",
      "  0%|          | 2/512 [00:00<00:35, 14.25it/s]"
     ]
    },
    {
     "name": "stdout",
     "output_type": "stream",
     "text": [
      "Loss at step 512: -112.129\n",
      "680\n",
      "Initial loss: -0.361\n"
     ]
    },
    {
     "name": "stderr",
     "output_type": "stream",
     "text": [
      "100%|██████████| 512/512 [00:38<00:00, 13.37it/s]\n",
      "  0%|          | 2/512 [00:00<00:36, 13.93it/s]"
     ]
    },
    {
     "name": "stdout",
     "output_type": "stream",
     "text": [
      "Loss at step 512: -57.828\n",
      "681\n",
      "Initial loss: 0.236\n"
     ]
    },
    {
     "name": "stderr",
     "output_type": "stream",
     "text": [
      "100%|██████████| 512/512 [00:38<00:00, 13.38it/s]\n",
      "  0%|          | 2/512 [00:00<00:36, 14.01it/s]"
     ]
    },
    {
     "name": "stdout",
     "output_type": "stream",
     "text": [
      "Loss at step 512: -69.679\n",
      "682\n",
      "Initial loss: 0.709\n"
     ]
    },
    {
     "name": "stderr",
     "output_type": "stream",
     "text": [
      "100%|██████████| 512/512 [00:38<00:00, 13.36it/s]\n",
      "  0%|          | 2/512 [00:00<00:35, 14.31it/s]"
     ]
    },
    {
     "name": "stdout",
     "output_type": "stream",
     "text": [
      "Loss at step 512: -73.069\n",
      "683\n",
      "Initial loss: 0.914\n"
     ]
    },
    {
     "name": "stderr",
     "output_type": "stream",
     "text": [
      "100%|██████████| 512/512 [00:38<00:00, 13.41it/s]\n",
      "  0%|          | 2/512 [00:00<00:34, 14.68it/s]"
     ]
    },
    {
     "name": "stdout",
     "output_type": "stream",
     "text": [
      "Loss at step 512: -50.578\n",
      "684\n",
      "Initial loss: 0.646\n"
     ]
    },
    {
     "name": "stderr",
     "output_type": "stream",
     "text": [
      "100%|██████████| 512/512 [00:38<00:00, 13.41it/s]\n",
      "  0%|          | 2/512 [00:00<00:36, 14.02it/s]"
     ]
    },
    {
     "name": "stdout",
     "output_type": "stream",
     "text": [
      "Loss at step 512: -95.399\n",
      "685\n",
      "Initial loss: 1.022\n"
     ]
    },
    {
     "name": "stderr",
     "output_type": "stream",
     "text": [
      "100%|██████████| 512/512 [00:38<00:00, 13.40it/s]\n",
      "  0%|          | 2/512 [00:00<00:35, 14.29it/s]"
     ]
    },
    {
     "name": "stdout",
     "output_type": "stream",
     "text": [
      "Loss at step 512: -109.092\n",
      "686\n",
      "Initial loss: 0.057\n"
     ]
    },
    {
     "name": "stderr",
     "output_type": "stream",
     "text": [
      "100%|██████████| 512/512 [00:38<00:00, 13.42it/s]\n",
      "  0%|          | 2/512 [00:00<00:37, 13.64it/s]"
     ]
    },
    {
     "name": "stdout",
     "output_type": "stream",
     "text": [
      "Loss at step 512: -88.939\n",
      "687\n",
      "Initial loss: 0.081\n"
     ]
    },
    {
     "name": "stderr",
     "output_type": "stream",
     "text": [
      "100%|██████████| 512/512 [00:38<00:00, 13.28it/s]\n",
      "  0%|          | 2/512 [00:00<00:36, 13.80it/s]"
     ]
    },
    {
     "name": "stdout",
     "output_type": "stream",
     "text": [
      "Loss at step 512: -48.746\n",
      "688\n",
      "Initial loss: -0.038\n"
     ]
    },
    {
     "name": "stderr",
     "output_type": "stream",
     "text": [
      "100%|██████████| 512/512 [00:38<00:00, 13.35it/s]\n",
      "  0%|          | 0/512 [00:00<?, ?it/s]"
     ]
    },
    {
     "name": "stdout",
     "output_type": "stream",
     "text": [
      "Loss at step 512: -63.783\n",
      "689\n",
      "Initial loss: 1.117\n"
     ]
    },
    {
     "name": "stderr",
     "output_type": "stream",
     "text": [
      "100%|██████████| 512/512 [00:38<00:00, 13.31it/s]\n",
      "  0%|          | 2/512 [00:00<00:35, 14.44it/s]"
     ]
    },
    {
     "name": "stdout",
     "output_type": "stream",
     "text": [
      "Loss at step 512: -96.757\n",
      "690\n",
      "Initial loss: -0.798\n"
     ]
    },
    {
     "name": "stderr",
     "output_type": "stream",
     "text": [
      "100%|██████████| 512/512 [00:36<00:00, 13.96it/s]\n",
      "  0%|          | 2/512 [00:00<00:36, 13.88it/s]"
     ]
    },
    {
     "name": "stdout",
     "output_type": "stream",
     "text": [
      "Loss at step 512: -99.858\n",
      "691\n",
      "Initial loss: 0.913\n"
     ]
    },
    {
     "name": "stderr",
     "output_type": "stream",
     "text": [
      "100%|██████████| 512/512 [00:38<00:00, 13.31it/s]\n",
      "  0%|          | 2/512 [00:00<00:37, 13.77it/s]"
     ]
    },
    {
     "name": "stdout",
     "output_type": "stream",
     "text": [
      "Loss at step 512: -150.834\n",
      "692\n",
      "Initial loss: -1.896\n"
     ]
    },
    {
     "name": "stderr",
     "output_type": "stream",
     "text": [
      "100%|██████████| 512/512 [00:38<00:00, 13.35it/s]\n",
      "  0%|          | 2/512 [00:00<00:35, 14.33it/s]"
     ]
    },
    {
     "name": "stdout",
     "output_type": "stream",
     "text": [
      "Loss at step 512: -60.463\n",
      "693\n",
      "Initial loss: 0.920\n"
     ]
    },
    {
     "name": "stderr",
     "output_type": "stream",
     "text": [
      "100%|██████████| 512/512 [00:38<00:00, 13.32it/s]\n",
      "  0%|          | 2/512 [00:00<00:36, 14.14it/s]"
     ]
    },
    {
     "name": "stdout",
     "output_type": "stream",
     "text": [
      "Loss at step 512: -133.832\n",
      "694\n",
      "Initial loss: 0.509\n"
     ]
    },
    {
     "name": "stderr",
     "output_type": "stream",
     "text": [
      "100%|██████████| 512/512 [00:38<00:00, 13.35it/s]\n",
      "  0%|          | 2/512 [00:00<00:37, 13.76it/s]"
     ]
    },
    {
     "name": "stdout",
     "output_type": "stream",
     "text": [
      "Loss at step 512: -40.415\n",
      "695\n",
      "Initial loss: 0.140\n"
     ]
    },
    {
     "name": "stderr",
     "output_type": "stream",
     "text": [
      "100%|██████████| 512/512 [00:38<00:00, 13.21it/s]\n",
      "  0%|          | 2/512 [00:00<00:35, 14.53it/s]"
     ]
    },
    {
     "name": "stdout",
     "output_type": "stream",
     "text": [
      "Loss at step 512: -168.215\n",
      "696\n",
      "Initial loss: 1.595\n"
     ]
    },
    {
     "name": "stderr",
     "output_type": "stream",
     "text": [
      "100%|██████████| 512/512 [00:36<00:00, 13.88it/s]\n",
      "  0%|          | 2/512 [00:00<00:35, 14.47it/s]"
     ]
    },
    {
     "name": "stdout",
     "output_type": "stream",
     "text": [
      "Loss at step 512: -106.549\n",
      "697\n",
      "Initial loss: 0.353\n"
     ]
    },
    {
     "name": "stderr",
     "output_type": "stream",
     "text": [
      "100%|██████████| 512/512 [00:38<00:00, 13.32it/s]\n",
      "  0%|          | 2/512 [00:00<00:35, 14.39it/s]"
     ]
    },
    {
     "name": "stdout",
     "output_type": "stream",
     "text": [
      "Loss at step 512: -93.688\n",
      "698\n",
      "Initial loss: 0.285\n"
     ]
    },
    {
     "name": "stderr",
     "output_type": "stream",
     "text": [
      "100%|██████████| 512/512 [00:38<00:00, 13.28it/s]\n",
      "  0%|          | 2/512 [00:00<00:36, 14.09it/s]"
     ]
    },
    {
     "name": "stdout",
     "output_type": "stream",
     "text": [
      "Loss at step 512: -145.557\n",
      "699\n",
      "Initial loss: 0.643\n"
     ]
    },
    {
     "name": "stderr",
     "output_type": "stream",
     "text": [
      "100%|██████████| 512/512 [00:38<00:00, 13.16it/s]\n",
      "  0%|          | 2/512 [00:00<00:36, 14.03it/s]"
     ]
    },
    {
     "name": "stdout",
     "output_type": "stream",
     "text": [
      "Loss at step 512: -98.550\n",
      "700\n",
      "Initial loss: 1.028\n"
     ]
    },
    {
     "name": "stderr",
     "output_type": "stream",
     "text": [
      "100%|██████████| 512/512 [00:38<00:00, 13.32it/s]\n",
      "  0%|          | 2/512 [00:00<00:36, 13.86it/s]"
     ]
    },
    {
     "name": "stdout",
     "output_type": "stream",
     "text": [
      "Loss at step 512: -117.410\n",
      "701\n",
      "Initial loss: -0.202\n"
     ]
    },
    {
     "name": "stderr",
     "output_type": "stream",
     "text": [
      "100%|██████████| 512/512 [00:38<00:00, 13.46it/s]\n",
      "  0%|          | 2/512 [00:00<00:37, 13.50it/s]"
     ]
    },
    {
     "name": "stdout",
     "output_type": "stream",
     "text": [
      "Loss at step 512: -77.743\n",
      "702\n",
      "Initial loss: 0.471\n"
     ]
    },
    {
     "name": "stderr",
     "output_type": "stream",
     "text": [
      "100%|██████████| 512/512 [00:38<00:00, 13.28it/s]\n",
      "  0%|          | 2/512 [00:00<00:37, 13.61it/s]"
     ]
    },
    {
     "name": "stdout",
     "output_type": "stream",
     "text": [
      "Loss at step 512: -190.396\n",
      "703\n",
      "Initial loss: 0.756\n"
     ]
    },
    {
     "name": "stderr",
     "output_type": "stream",
     "text": [
      "100%|██████████| 512/512 [00:38<00:00, 13.22it/s]\n",
      "  0%|          | 2/512 [00:00<00:36, 13.82it/s]"
     ]
    },
    {
     "name": "stdout",
     "output_type": "stream",
     "text": [
      "Loss at step 512: -77.448\n",
      "704\n",
      "Initial loss: 0.012\n"
     ]
    },
    {
     "name": "stderr",
     "output_type": "stream",
     "text": [
      "100%|██████████| 512/512 [00:38<00:00, 13.35it/s]\n",
      "  0%|          | 0/512 [00:00<?, ?it/s]"
     ]
    },
    {
     "name": "stdout",
     "output_type": "stream",
     "text": [
      "Loss at step 512: -52.087\n",
      "705\n",
      "Initial loss: 0.023\n"
     ]
    },
    {
     "name": "stderr",
     "output_type": "stream",
     "text": [
      "100%|██████████| 512/512 [00:38<00:00, 13.22it/s]\n",
      "  0%|          | 2/512 [00:00<00:35, 14.45it/s]"
     ]
    },
    {
     "name": "stdout",
     "output_type": "stream",
     "text": [
      "Loss at step 512: -54.305\n",
      "706\n",
      "Initial loss: -0.819\n"
     ]
    },
    {
     "name": "stderr",
     "output_type": "stream",
     "text": [
      "100%|██████████| 512/512 [00:38<00:00, 13.40it/s]\n",
      "  0%|          | 2/512 [00:00<00:35, 14.21it/s]"
     ]
    },
    {
     "name": "stdout",
     "output_type": "stream",
     "text": [
      "Loss at step 512: -72.006\n",
      "707\n",
      "Initial loss: -0.406\n"
     ]
    },
    {
     "name": "stderr",
     "output_type": "stream",
     "text": [
      "100%|██████████| 512/512 [00:38<00:00, 13.38it/s]\n",
      "  0%|          | 2/512 [00:00<00:36, 14.04it/s]"
     ]
    },
    {
     "name": "stdout",
     "output_type": "stream",
     "text": [
      "Loss at step 512: -102.242\n",
      "708\n",
      "Initial loss: 0.965\n"
     ]
    },
    {
     "name": "stderr",
     "output_type": "stream",
     "text": [
      "100%|██████████| 512/512 [00:38<00:00, 13.41it/s]\n",
      "  0%|          | 2/512 [00:00<00:36, 14.01it/s]"
     ]
    },
    {
     "name": "stdout",
     "output_type": "stream",
     "text": [
      "Loss at step 512: -147.917\n",
      "709\n",
      "Initial loss: -0.205\n"
     ]
    },
    {
     "name": "stderr",
     "output_type": "stream",
     "text": [
      "100%|██████████| 512/512 [00:38<00:00, 13.37it/s]\n",
      "  0%|          | 2/512 [00:00<00:36, 14.08it/s]"
     ]
    },
    {
     "name": "stdout",
     "output_type": "stream",
     "text": [
      "Loss at step 512: -52.568\n",
      "710\n",
      "Initial loss: 0.729\n"
     ]
    },
    {
     "name": "stderr",
     "output_type": "stream",
     "text": [
      "100%|██████████| 512/512 [00:38<00:00, 13.36it/s]\n",
      "  0%|          | 2/512 [00:00<00:36, 13.90it/s]"
     ]
    },
    {
     "name": "stdout",
     "output_type": "stream",
     "text": [
      "Loss at step 512: -119.248\n",
      "711\n",
      "Initial loss: -1.041\n"
     ]
    },
    {
     "name": "stderr",
     "output_type": "stream",
     "text": [
      "100%|██████████| 512/512 [00:38<00:00, 13.17it/s]\n",
      "  0%|          | 2/512 [00:00<00:35, 14.39it/s]"
     ]
    },
    {
     "name": "stdout",
     "output_type": "stream",
     "text": [
      "Loss at step 512: -37.999\n",
      "712\n",
      "Initial loss: 0.558\n"
     ]
    },
    {
     "name": "stderr",
     "output_type": "stream",
     "text": [
      "100%|██████████| 512/512 [00:38<00:00, 13.27it/s]\n",
      "  0%|          | 2/512 [00:00<00:36, 13.94it/s]"
     ]
    },
    {
     "name": "stdout",
     "output_type": "stream",
     "text": [
      "Loss at step 512: -61.518\n",
      "713\n",
      "Initial loss: 0.423\n"
     ]
    },
    {
     "name": "stderr",
     "output_type": "stream",
     "text": [
      "100%|██████████| 512/512 [00:38<00:00, 13.26it/s]\n",
      "  0%|          | 0/512 [00:00<?, ?it/s]"
     ]
    },
    {
     "name": "stdout",
     "output_type": "stream",
     "text": [
      "Loss at step 512: -115.536\n",
      "714\n",
      "Initial loss: 1.287\n"
     ]
    },
    {
     "name": "stderr",
     "output_type": "stream",
     "text": [
      "100%|██████████| 512/512 [00:38<00:00, 13.29it/s]\n",
      "  0%|          | 2/512 [00:00<00:35, 14.17it/s]"
     ]
    },
    {
     "name": "stdout",
     "output_type": "stream",
     "text": [
      "Loss at step 512: -92.427\n",
      "715\n",
      "Initial loss: -0.164\n"
     ]
    },
    {
     "name": "stderr",
     "output_type": "stream",
     "text": [
      "100%|██████████| 512/512 [00:38<00:00, 13.29it/s]\n",
      "  0%|          | 2/512 [00:00<00:36, 13.90it/s]"
     ]
    },
    {
     "name": "stdout",
     "output_type": "stream",
     "text": [
      "Loss at step 512: -74.849\n",
      "716\n",
      "Initial loss: 1.270\n"
     ]
    },
    {
     "name": "stderr",
     "output_type": "stream",
     "text": [
      "100%|██████████| 512/512 [00:38<00:00, 13.26it/s]\n",
      "  0%|          | 2/512 [00:00<00:36, 13.85it/s]"
     ]
    },
    {
     "name": "stdout",
     "output_type": "stream",
     "text": [
      "Loss at step 512: -83.630\n",
      "717\n",
      "Initial loss: 0.134\n"
     ]
    },
    {
     "name": "stderr",
     "output_type": "stream",
     "text": [
      "100%|██████████| 512/512 [00:37<00:00, 13.50it/s]\n",
      "  0%|          | 2/512 [00:00<00:36, 13.91it/s]"
     ]
    },
    {
     "name": "stdout",
     "output_type": "stream",
     "text": [
      "Loss at step 512: -72.122\n",
      "718\n",
      "Initial loss: 1.249\n"
     ]
    },
    {
     "name": "stderr",
     "output_type": "stream",
     "text": [
      "100%|██████████| 512/512 [00:38<00:00, 13.24it/s]\n",
      "  0%|          | 2/512 [00:00<00:35, 14.36it/s]"
     ]
    },
    {
     "name": "stdout",
     "output_type": "stream",
     "text": [
      "Loss at step 512: -152.658\n",
      "719\n",
      "Initial loss: -0.467\n"
     ]
    },
    {
     "name": "stderr",
     "output_type": "stream",
     "text": [
      "100%|██████████| 512/512 [00:38<00:00, 13.32it/s]\n",
      "  0%|          | 2/512 [00:00<00:35, 14.28it/s]"
     ]
    },
    {
     "name": "stdout",
     "output_type": "stream",
     "text": [
      "Loss at step 512: -67.956\n",
      "720\n",
      "Initial loss: 0.927\n"
     ]
    },
    {
     "name": "stderr",
     "output_type": "stream",
     "text": [
      "100%|██████████| 512/512 [00:38<00:00, 13.23it/s]\n",
      "  0%|          | 2/512 [00:00<00:37, 13.46it/s]"
     ]
    },
    {
     "name": "stdout",
     "output_type": "stream",
     "text": [
      "Loss at step 512: -67.789\n",
      "721\n",
      "Initial loss: -0.614\n"
     ]
    },
    {
     "name": "stderr",
     "output_type": "stream",
     "text": [
      "100%|██████████| 512/512 [00:38<00:00, 13.27it/s]\n",
      "  0%|          | 2/512 [00:00<00:36, 13.92it/s]"
     ]
    },
    {
     "name": "stdout",
     "output_type": "stream",
     "text": [
      "Loss at step 512: -73.869\n",
      "722\n",
      "Initial loss: 0.176\n"
     ]
    },
    {
     "name": "stderr",
     "output_type": "stream",
     "text": [
      "100%|██████████| 512/512 [00:38<00:00, 13.26it/s]\n",
      "  0%|          | 2/512 [00:00<00:35, 14.50it/s]"
     ]
    },
    {
     "name": "stdout",
     "output_type": "stream",
     "text": [
      "Loss at step 512: -112.018\n",
      "723\n",
      "Initial loss: 1.085\n"
     ]
    },
    {
     "name": "stderr",
     "output_type": "stream",
     "text": [
      "100%|██████████| 512/512 [00:38<00:00, 13.22it/s]\n",
      "  0%|          | 2/512 [00:00<00:37, 13.61it/s]"
     ]
    },
    {
     "name": "stdout",
     "output_type": "stream",
     "text": [
      "Loss at step 512: -44.105\n",
      "724\n",
      "Initial loss: 0.207\n"
     ]
    },
    {
     "name": "stderr",
     "output_type": "stream",
     "text": [
      "100%|██████████| 512/512 [00:38<00:00, 13.17it/s]\n",
      "  0%|          | 2/512 [00:00<00:36, 14.03it/s]"
     ]
    },
    {
     "name": "stdout",
     "output_type": "stream",
     "text": [
      "Loss at step 512: -80.795\n",
      "725\n",
      "Initial loss: 0.501\n"
     ]
    },
    {
     "name": "stderr",
     "output_type": "stream",
     "text": [
      "100%|██████████| 512/512 [00:38<00:00, 13.22it/s]\n",
      "  0%|          | 2/512 [00:00<00:35, 14.43it/s]"
     ]
    },
    {
     "name": "stdout",
     "output_type": "stream",
     "text": [
      "Loss at step 512: -99.335\n",
      "726\n",
      "Initial loss: 1.558\n"
     ]
    },
    {
     "name": "stderr",
     "output_type": "stream",
     "text": [
      "100%|██████████| 512/512 [00:38<00:00, 13.28it/s]\n",
      "  0%|          | 2/512 [00:00<00:36, 13.83it/s]"
     ]
    },
    {
     "name": "stdout",
     "output_type": "stream",
     "text": [
      "Loss at step 512: -128.750\n",
      "727\n",
      "Initial loss: 0.374\n"
     ]
    },
    {
     "name": "stderr",
     "output_type": "stream",
     "text": [
      "100%|██████████| 512/512 [00:38<00:00, 13.38it/s]\n",
      "  0%|          | 2/512 [00:00<00:36, 13.98it/s]"
     ]
    },
    {
     "name": "stdout",
     "output_type": "stream",
     "text": [
      "Loss at step 512: -111.978\n",
      "728\n",
      "Initial loss: 0.772\n"
     ]
    },
    {
     "name": "stderr",
     "output_type": "stream",
     "text": [
      "100%|██████████| 512/512 [00:38<00:00, 13.42it/s]\n",
      "  0%|          | 2/512 [00:00<00:35, 14.23it/s]"
     ]
    },
    {
     "name": "stdout",
     "output_type": "stream",
     "text": [
      "Loss at step 512: -85.760\n",
      "729\n",
      "Initial loss: 0.190\n"
     ]
    },
    {
     "name": "stderr",
     "output_type": "stream",
     "text": [
      "100%|██████████| 512/512 [00:38<00:00, 13.25it/s]\n",
      "  0%|          | 2/512 [00:00<00:36, 13.92it/s]"
     ]
    },
    {
     "name": "stdout",
     "output_type": "stream",
     "text": [
      "Loss at step 512: -62.195\n",
      "730\n",
      "Initial loss: 0.557\n"
     ]
    },
    {
     "name": "stderr",
     "output_type": "stream",
     "text": [
      "100%|██████████| 512/512 [00:38<00:00, 13.33it/s]\n",
      "  0%|          | 2/512 [00:00<00:34, 14.95it/s]"
     ]
    },
    {
     "name": "stdout",
     "output_type": "stream",
     "text": [
      "Loss at step 512: -122.656\n",
      "731\n",
      "Initial loss: -0.154\n"
     ]
    },
    {
     "name": "stderr",
     "output_type": "stream",
     "text": [
      "100%|██████████| 512/512 [00:38<00:00, 13.24it/s]\n",
      "  0%|          | 2/512 [00:00<00:37, 13.46it/s]"
     ]
    },
    {
     "name": "stdout",
     "output_type": "stream",
     "text": [
      "Loss at step 512: -88.677\n",
      "732\n",
      "Initial loss: 0.243\n"
     ]
    },
    {
     "name": "stderr",
     "output_type": "stream",
     "text": [
      "100%|██████████| 512/512 [00:38<00:00, 13.15it/s]\n",
      "  0%|          | 2/512 [00:00<00:35, 14.17it/s]"
     ]
    },
    {
     "name": "stdout",
     "output_type": "stream",
     "text": [
      "Loss at step 512: -112.377\n",
      "733\n",
      "Initial loss: 1.270\n"
     ]
    },
    {
     "name": "stderr",
     "output_type": "stream",
     "text": [
      "100%|██████████| 512/512 [00:38<00:00, 13.28it/s]\n",
      "  0%|          | 2/512 [00:00<00:34, 14.89it/s]"
     ]
    },
    {
     "name": "stdout",
     "output_type": "stream",
     "text": [
      "Loss at step 512: -169.899\n",
      "734\n",
      "Initial loss: -0.053\n"
     ]
    },
    {
     "name": "stderr",
     "output_type": "stream",
     "text": [
      "100%|██████████| 512/512 [00:38<00:00, 13.18it/s]\n",
      "  0%|          | 2/512 [00:00<00:35, 14.36it/s]"
     ]
    },
    {
     "name": "stdout",
     "output_type": "stream",
     "text": [
      "Loss at step 512: -73.582\n",
      "735\n",
      "Initial loss: 2.449\n"
     ]
    },
    {
     "name": "stderr",
     "output_type": "stream",
     "text": [
      "100%|██████████| 512/512 [00:37<00:00, 13.56it/s]\n",
      "  0%|          | 2/512 [00:00<00:35, 14.21it/s]"
     ]
    },
    {
     "name": "stdout",
     "output_type": "stream",
     "text": [
      "Loss at step 512: -172.104\n",
      "736\n",
      "Initial loss: -0.733\n"
     ]
    },
    {
     "name": "stderr",
     "output_type": "stream",
     "text": [
      "100%|██████████| 512/512 [00:38<00:00, 13.31it/s]\n",
      "  0%|          | 2/512 [00:00<00:35, 14.43it/s]"
     ]
    },
    {
     "name": "stdout",
     "output_type": "stream",
     "text": [
      "Loss at step 512: -88.341\n",
      "737\n",
      "Initial loss: 0.095\n"
     ]
    },
    {
     "name": "stderr",
     "output_type": "stream",
     "text": [
      "100%|██████████| 512/512 [00:38<00:00, 13.30it/s]\n",
      "  0%|          | 2/512 [00:00<00:36, 13.87it/s]"
     ]
    },
    {
     "name": "stdout",
     "output_type": "stream",
     "text": [
      "Loss at step 512: -105.269\n",
      "738\n",
      "Initial loss: -0.062\n"
     ]
    },
    {
     "name": "stderr",
     "output_type": "stream",
     "text": [
      "100%|██████████| 512/512 [00:38<00:00, 13.24it/s]\n",
      "  0%|          | 2/512 [00:00<00:36, 14.00it/s]"
     ]
    },
    {
     "name": "stdout",
     "output_type": "stream",
     "text": [
      "Loss at step 512: -88.609\n",
      "739\n",
      "Initial loss: 1.267\n"
     ]
    },
    {
     "name": "stderr",
     "output_type": "stream",
     "text": [
      "100%|██████████| 512/512 [00:38<00:00, 13.27it/s]\n",
      "  0%|          | 2/512 [00:00<00:36, 13.81it/s]"
     ]
    },
    {
     "name": "stdout",
     "output_type": "stream",
     "text": [
      "Loss at step 512: -99.100\n",
      "740\n",
      "Initial loss: 1.278\n"
     ]
    },
    {
     "name": "stderr",
     "output_type": "stream",
     "text": [
      "100%|██████████| 512/512 [00:38<00:00, 13.20it/s]\n",
      "  0%|          | 2/512 [00:00<00:36, 13.87it/s]"
     ]
    },
    {
     "name": "stdout",
     "output_type": "stream",
     "text": [
      "Loss at step 512: -132.435\n",
      "741\n",
      "Initial loss: 2.346\n"
     ]
    },
    {
     "name": "stderr",
     "output_type": "stream",
     "text": [
      "100%|██████████| 512/512 [00:38<00:00, 13.28it/s]\n",
      "  0%|          | 2/512 [00:00<00:35, 14.42it/s]"
     ]
    },
    {
     "name": "stdout",
     "output_type": "stream",
     "text": [
      "Loss at step 512: -49.905\n",
      "742\n",
      "Initial loss: -1.106\n"
     ]
    },
    {
     "name": "stderr",
     "output_type": "stream",
     "text": [
      "100%|██████████| 512/512 [00:39<00:00, 13.12it/s]\n",
      "  0%|          | 2/512 [00:00<00:35, 14.34it/s]"
     ]
    },
    {
     "name": "stdout",
     "output_type": "stream",
     "text": [
      "Loss at step 512: -115.104\n",
      "743\n",
      "Initial loss: -0.054\n"
     ]
    },
    {
     "name": "stderr",
     "output_type": "stream",
     "text": [
      "100%|██████████| 512/512 [00:38<00:00, 13.25it/s]\n",
      "  0%|          | 2/512 [00:00<00:37, 13.73it/s]"
     ]
    },
    {
     "name": "stdout",
     "output_type": "stream",
     "text": [
      "Loss at step 512: -54.527\n",
      "744\n",
      "Initial loss: 0.164\n"
     ]
    },
    {
     "name": "stderr",
     "output_type": "stream",
     "text": [
      "100%|██████████| 512/512 [00:38<00:00, 13.27it/s]\n",
      "  0%|          | 2/512 [00:00<00:36, 14.14it/s]"
     ]
    },
    {
     "name": "stdout",
     "output_type": "stream",
     "text": [
      "Loss at step 512: -76.392\n",
      "745\n",
      "Initial loss: 1.764\n"
     ]
    },
    {
     "name": "stderr",
     "output_type": "stream",
     "text": [
      "100%|██████████| 512/512 [00:38<00:00, 13.17it/s]\n",
      "  0%|          | 2/512 [00:00<00:36, 14.05it/s]"
     ]
    },
    {
     "name": "stdout",
     "output_type": "stream",
     "text": [
      "Loss at step 512: -138.255\n",
      "746\n",
      "Initial loss: 0.443\n"
     ]
    },
    {
     "name": "stderr",
     "output_type": "stream",
     "text": [
      "100%|██████████| 512/512 [00:39<00:00, 13.12it/s]\n",
      "  0%|          | 2/512 [00:00<00:35, 14.36it/s]"
     ]
    },
    {
     "name": "stdout",
     "output_type": "stream",
     "text": [
      "Loss at step 512: -68.247\n",
      "747\n",
      "Initial loss: 1.416\n"
     ]
    },
    {
     "name": "stderr",
     "output_type": "stream",
     "text": [
      "100%|██████████| 512/512 [00:38<00:00, 13.15it/s]\n",
      "  0%|          | 2/512 [00:00<00:35, 14.33it/s]"
     ]
    },
    {
     "name": "stdout",
     "output_type": "stream",
     "text": [
      "Loss at step 512: -94.856\n",
      "748\n",
      "Initial loss: -0.262\n"
     ]
    },
    {
     "name": "stderr",
     "output_type": "stream",
     "text": [
      "100%|██████████| 512/512 [00:38<00:00, 13.34it/s]\n",
      "  0%|          | 2/512 [00:00<00:36, 13.92it/s]"
     ]
    },
    {
     "name": "stdout",
     "output_type": "stream",
     "text": [
      "Loss at step 512: -80.538\n",
      "749\n",
      "Initial loss: 0.287\n"
     ]
    },
    {
     "name": "stderr",
     "output_type": "stream",
     "text": [
      "100%|██████████| 512/512 [00:38<00:00, 13.34it/s]\n",
      "  0%|          | 2/512 [00:00<00:37, 13.63it/s]"
     ]
    },
    {
     "name": "stdout",
     "output_type": "stream",
     "text": [
      "Loss at step 512: -103.761\n",
      "750\n",
      "Initial loss: 1.216\n"
     ]
    },
    {
     "name": "stderr",
     "output_type": "stream",
     "text": [
      "100%|██████████| 512/512 [00:38<00:00, 13.28it/s]\n",
      "  0%|          | 2/512 [00:00<00:35, 14.23it/s]"
     ]
    },
    {
     "name": "stdout",
     "output_type": "stream",
     "text": [
      "Loss at step 512: -64.027\n",
      "751\n",
      "Initial loss: 0.859\n"
     ]
    },
    {
     "name": "stderr",
     "output_type": "stream",
     "text": [
      "100%|██████████| 512/512 [00:39<00:00, 13.01it/s]\n",
      "  0%|          | 2/512 [00:00<00:36, 13.78it/s]"
     ]
    },
    {
     "name": "stdout",
     "output_type": "stream",
     "text": [
      "Loss at step 512: -163.538\n",
      "752\n",
      "Initial loss: 1.334\n"
     ]
    },
    {
     "name": "stderr",
     "output_type": "stream",
     "text": [
      "100%|██████████| 512/512 [00:38<00:00, 13.16it/s]\n",
      "  0%|          | 2/512 [00:00<00:37, 13.72it/s]"
     ]
    },
    {
     "name": "stdout",
     "output_type": "stream",
     "text": [
      "Loss at step 512: -123.653\n",
      "753\n",
      "Initial loss: 0.173\n"
     ]
    },
    {
     "name": "stderr",
     "output_type": "stream",
     "text": [
      "100%|██████████| 512/512 [00:39<00:00, 13.03it/s]\n",
      "  0%|          | 2/512 [00:00<00:35, 14.42it/s]"
     ]
    },
    {
     "name": "stdout",
     "output_type": "stream",
     "text": [
      "Loss at step 512: -96.363\n",
      "754\n",
      "Initial loss: 0.791\n"
     ]
    },
    {
     "name": "stderr",
     "output_type": "stream",
     "text": [
      "100%|██████████| 512/512 [00:38<00:00, 13.18it/s]\n",
      "  0%|          | 2/512 [00:00<00:36, 14.14it/s]"
     ]
    },
    {
     "name": "stdout",
     "output_type": "stream",
     "text": [
      "Loss at step 512: -42.125\n",
      "755\n",
      "Initial loss: 0.889\n"
     ]
    },
    {
     "name": "stderr",
     "output_type": "stream",
     "text": [
      "100%|██████████| 512/512 [00:39<00:00, 13.11it/s]\n",
      "  0%|          | 2/512 [00:00<00:35, 14.22it/s]"
     ]
    },
    {
     "name": "stdout",
     "output_type": "stream",
     "text": [
      "Loss at step 512: -102.731\n",
      "756\n",
      "Initial loss: -0.505\n"
     ]
    },
    {
     "name": "stderr",
     "output_type": "stream",
     "text": [
      "100%|██████████| 512/512 [00:38<00:00, 13.20it/s]\n",
      "  0%|          | 2/512 [00:00<00:37, 13.47it/s]"
     ]
    },
    {
     "name": "stdout",
     "output_type": "stream",
     "text": [
      "Loss at step 512: -114.397\n",
      "757\n",
      "Initial loss: -0.415\n"
     ]
    },
    {
     "name": "stderr",
     "output_type": "stream",
     "text": [
      "100%|██████████| 512/512 [00:38<00:00, 13.26it/s]\n",
      "  0%|          | 2/512 [00:00<00:36, 14.02it/s]"
     ]
    },
    {
     "name": "stdout",
     "output_type": "stream",
     "text": [
      "Loss at step 512: -70.669\n",
      "758\n",
      "Initial loss: 1.627\n"
     ]
    },
    {
     "name": "stderr",
     "output_type": "stream",
     "text": [
      "100%|██████████| 512/512 [00:38<00:00, 13.23it/s]\n",
      "  0%|          | 2/512 [00:00<00:37, 13.75it/s]"
     ]
    },
    {
     "name": "stdout",
     "output_type": "stream",
     "text": [
      "Loss at step 512: -42.021\n",
      "759\n",
      "Initial loss: -0.389\n"
     ]
    },
    {
     "name": "stderr",
     "output_type": "stream",
     "text": [
      "100%|██████████| 512/512 [00:37<00:00, 13.56it/s]\n",
      "  0%|          | 2/512 [00:00<00:36, 13.83it/s]"
     ]
    },
    {
     "name": "stdout",
     "output_type": "stream",
     "text": [
      "Loss at step 512: -70.216\n",
      "760\n",
      "Initial loss: 0.390\n"
     ]
    },
    {
     "name": "stderr",
     "output_type": "stream",
     "text": [
      "100%|██████████| 512/512 [00:38<00:00, 13.13it/s]\n",
      "  0%|          | 2/512 [00:00<00:35, 14.21it/s]"
     ]
    },
    {
     "name": "stdout",
     "output_type": "stream",
     "text": [
      "Loss at step 512: -119.706\n",
      "761\n",
      "Initial loss: 1.196\n"
     ]
    },
    {
     "name": "stderr",
     "output_type": "stream",
     "text": [
      "100%|██████████| 512/512 [00:39<00:00, 12.88it/s]\n",
      "  0%|          | 2/512 [00:00<00:36, 13.79it/s]"
     ]
    },
    {
     "name": "stdout",
     "output_type": "stream",
     "text": [
      "Loss at step 512: -87.299\n",
      "762\n",
      "Initial loss: 0.148\n"
     ]
    },
    {
     "name": "stderr",
     "output_type": "stream",
     "text": [
      "100%|██████████| 512/512 [00:38<00:00, 13.16it/s]\n",
      "  0%|          | 2/512 [00:00<00:37, 13.56it/s]"
     ]
    },
    {
     "name": "stdout",
     "output_type": "stream",
     "text": [
      "Loss at step 512: -64.737\n",
      "763\n",
      "Initial loss: -0.135\n"
     ]
    },
    {
     "name": "stderr",
     "output_type": "stream",
     "text": [
      "100%|██████████| 512/512 [00:38<00:00, 13.22it/s]\n",
      "  0%|          | 2/512 [00:00<00:36, 14.10it/s]"
     ]
    },
    {
     "name": "stdout",
     "output_type": "stream",
     "text": [
      "Loss at step 512: -85.216\n",
      "764\n",
      "Initial loss: 0.064\n"
     ]
    },
    {
     "name": "stderr",
     "output_type": "stream",
     "text": [
      "100%|██████████| 512/512 [00:38<00:00, 13.13it/s]\n",
      "  0%|          | 2/512 [00:00<00:36, 14.10it/s]"
     ]
    },
    {
     "name": "stdout",
     "output_type": "stream",
     "text": [
      "Loss at step 512: -110.964\n",
      "765\n",
      "Initial loss: -1.582\n"
     ]
    },
    {
     "name": "stderr",
     "output_type": "stream",
     "text": [
      "100%|██████████| 512/512 [00:39<00:00, 13.08it/s]\n",
      "  0%|          | 2/512 [00:00<00:36, 13.81it/s]"
     ]
    },
    {
     "name": "stdout",
     "output_type": "stream",
     "text": [
      "Loss at step 512: -94.406\n",
      "766\n",
      "Initial loss: 0.825\n"
     ]
    },
    {
     "name": "stderr",
     "output_type": "stream",
     "text": [
      "100%|██████████| 512/512 [00:39<00:00, 12.98it/s]\n",
      "  0%|          | 2/512 [00:00<00:36, 13.88it/s]"
     ]
    },
    {
     "name": "stdout",
     "output_type": "stream",
     "text": [
      "Loss at step 512: -83.704\n",
      "767\n",
      "Initial loss: 1.002\n"
     ]
    },
    {
     "name": "stderr",
     "output_type": "stream",
     "text": [
      "100%|██████████| 512/512 [00:39<00:00, 13.10it/s]\n",
      "  0%|          | 2/512 [00:00<00:35, 14.48it/s]"
     ]
    },
    {
     "name": "stdout",
     "output_type": "stream",
     "text": [
      "Loss at step 512: -122.545\n",
      "768\n",
      "Initial loss: 2.659\n"
     ]
    },
    {
     "name": "stderr",
     "output_type": "stream",
     "text": [
      "100%|██████████| 512/512 [00:39<00:00, 13.01it/s]\n",
      "  0%|          | 2/512 [00:00<00:35, 14.30it/s]"
     ]
    },
    {
     "name": "stdout",
     "output_type": "stream",
     "text": [
      "Loss at step 512: -152.679\n",
      "769\n",
      "Initial loss: -0.141\n"
     ]
    },
    {
     "name": "stderr",
     "output_type": "stream",
     "text": [
      "100%|██████████| 512/512 [00:39<00:00, 13.12it/s]\n",
      "  0%|          | 2/512 [00:00<00:37, 13.70it/s]"
     ]
    },
    {
     "name": "stdout",
     "output_type": "stream",
     "text": [
      "Loss at step 512: -92.423\n",
      "770\n",
      "Initial loss: 0.939\n"
     ]
    },
    {
     "name": "stderr",
     "output_type": "stream",
     "text": [
      "100%|██████████| 512/512 [00:38<00:00, 13.28it/s]\n",
      "  0%|          | 2/512 [00:00<00:36, 14.01it/s]"
     ]
    },
    {
     "name": "stdout",
     "output_type": "stream",
     "text": [
      "Loss at step 512: -117.001\n",
      "771\n",
      "Initial loss: -0.774\n"
     ]
    },
    {
     "name": "stderr",
     "output_type": "stream",
     "text": [
      "100%|██████████| 512/512 [00:38<00:00, 13.13it/s]\n",
      "  0%|          | 2/512 [00:00<00:36, 13.99it/s]"
     ]
    },
    {
     "name": "stdout",
     "output_type": "stream",
     "text": [
      "Loss at step 512: -102.992\n",
      "772\n",
      "Initial loss: 0.724\n"
     ]
    },
    {
     "name": "stderr",
     "output_type": "stream",
     "text": [
      "100%|██████████| 512/512 [00:38<00:00, 13.14it/s]\n",
      "  0%|          | 2/512 [00:00<00:36, 13.95it/s]"
     ]
    },
    {
     "name": "stdout",
     "output_type": "stream",
     "text": [
      "Loss at step 512: -72.796\n",
      "773\n",
      "Initial loss: 1.287\n"
     ]
    },
    {
     "name": "stderr",
     "output_type": "stream",
     "text": [
      "100%|██████████| 512/512 [00:39<00:00, 12.96it/s]\n",
      "  0%|          | 2/512 [00:00<00:36, 13.91it/s]"
     ]
    },
    {
     "name": "stdout",
     "output_type": "stream",
     "text": [
      "Loss at step 512: -90.623\n",
      "774\n",
      "Initial loss: 1.147\n"
     ]
    },
    {
     "name": "stderr",
     "output_type": "stream",
     "text": [
      "100%|██████████| 512/512 [00:39<00:00, 12.90it/s]\n",
      "  0%|          | 2/512 [00:00<00:37, 13.60it/s]"
     ]
    },
    {
     "name": "stdout",
     "output_type": "stream",
     "text": [
      "Loss at step 512: -104.950\n",
      "775\n",
      "Initial loss: 1.632\n"
     ]
    },
    {
     "name": "stderr",
     "output_type": "stream",
     "text": [
      "100%|██████████| 512/512 [00:38<00:00, 13.14it/s]\n",
      "  0%|          | 2/512 [00:00<00:36, 13.95it/s]"
     ]
    },
    {
     "name": "stdout",
     "output_type": "stream",
     "text": [
      "Loss at step 512: -109.854\n",
      "776\n",
      "Initial loss: -0.089\n"
     ]
    },
    {
     "name": "stderr",
     "output_type": "stream",
     "text": [
      "100%|██████████| 512/512 [00:38<00:00, 13.15it/s]\n",
      "  0%|          | 0/512 [00:00<?, ?it/s]"
     ]
    },
    {
     "name": "stdout",
     "output_type": "stream",
     "text": [
      "Loss at step 512: -95.514\n",
      "777\n",
      "Initial loss: 0.346\n"
     ]
    },
    {
     "name": "stderr",
     "output_type": "stream",
     "text": [
      "100%|██████████| 512/512 [00:39<00:00, 13.09it/s]\n",
      "  0%|          | 2/512 [00:00<00:34, 14.83it/s]"
     ]
    },
    {
     "name": "stdout",
     "output_type": "stream",
     "text": [
      "Loss at step 512: -59.584\n",
      "778\n",
      "Initial loss: 0.086\n"
     ]
    },
    {
     "name": "stderr",
     "output_type": "stream",
     "text": [
      "100%|██████████| 512/512 [00:37<00:00, 13.49it/s]\n",
      "  0%|          | 2/512 [00:00<00:37, 13.57it/s]"
     ]
    },
    {
     "name": "stdout",
     "output_type": "stream",
     "text": [
      "Loss at step 512: -103.606\n",
      "779\n",
      "Initial loss: -0.532\n"
     ]
    },
    {
     "name": "stderr",
     "output_type": "stream",
     "text": [
      "100%|██████████| 512/512 [00:39<00:00, 13.03it/s]\n",
      "  0%|          | 2/512 [00:00<00:37, 13.60it/s]"
     ]
    },
    {
     "name": "stdout",
     "output_type": "stream",
     "text": [
      "Loss at step 512: -57.165\n",
      "780\n",
      "Initial loss: 0.340\n"
     ]
    },
    {
     "name": "stderr",
     "output_type": "stream",
     "text": [
      "100%|██████████| 512/512 [00:38<00:00, 13.15it/s]\n",
      "  0%|          | 2/512 [00:00<00:36, 13.80it/s]"
     ]
    },
    {
     "name": "stdout",
     "output_type": "stream",
     "text": [
      "Loss at step 512: -92.770\n",
      "781\n",
      "Initial loss: 2.328\n"
     ]
    },
    {
     "name": "stderr",
     "output_type": "stream",
     "text": [
      "100%|██████████| 512/512 [00:38<00:00, 13.19it/s]\n",
      "  0%|          | 2/512 [00:00<00:36, 13.99it/s]"
     ]
    },
    {
     "name": "stdout",
     "output_type": "stream",
     "text": [
      "Loss at step 512: -42.590\n",
      "782\n",
      "Initial loss: 0.409\n"
     ]
    },
    {
     "name": "stderr",
     "output_type": "stream",
     "text": [
      "100%|██████████| 512/512 [00:38<00:00, 13.18it/s]\n",
      "  0%|          | 2/512 [00:00<00:36, 14.04it/s]"
     ]
    },
    {
     "name": "stdout",
     "output_type": "stream",
     "text": [
      "Loss at step 512: -96.952\n",
      "783\n",
      "Initial loss: 1.105\n"
     ]
    },
    {
     "name": "stderr",
     "output_type": "stream",
     "text": [
      "100%|██████████| 512/512 [00:38<00:00, 13.19it/s]\n",
      "  0%|          | 2/512 [00:00<00:36, 13.84it/s]"
     ]
    },
    {
     "name": "stdout",
     "output_type": "stream",
     "text": [
      "Loss at step 512: -90.471\n",
      "784\n",
      "Initial loss: 0.435\n"
     ]
    },
    {
     "name": "stderr",
     "output_type": "stream",
     "text": [
      "100%|██████████| 512/512 [00:39<00:00, 13.07it/s]\n",
      "  0%|          | 2/512 [00:00<00:37, 13.64it/s]"
     ]
    },
    {
     "name": "stdout",
     "output_type": "stream",
     "text": [
      "Loss at step 512: -58.646\n",
      "785\n",
      "Initial loss: 1.230\n"
     ]
    },
    {
     "name": "stderr",
     "output_type": "stream",
     "text": [
      "100%|██████████| 512/512 [00:38<00:00, 13.16it/s]\n",
      "  0%|          | 2/512 [00:00<00:35, 14.55it/s]"
     ]
    },
    {
     "name": "stdout",
     "output_type": "stream",
     "text": [
      "Loss at step 512: -131.328\n",
      "786\n",
      "Initial loss: 0.186\n"
     ]
    },
    {
     "name": "stderr",
     "output_type": "stream",
     "text": [
      "100%|██████████| 512/512 [00:38<00:00, 13.13it/s]\n",
      "  0%|          | 2/512 [00:00<00:36, 13.97it/s]"
     ]
    },
    {
     "name": "stdout",
     "output_type": "stream",
     "text": [
      "Loss at step 512: -69.956\n",
      "787\n",
      "Initial loss: 0.337\n"
     ]
    },
    {
     "name": "stderr",
     "output_type": "stream",
     "text": [
      "100%|██████████| 512/512 [00:38<00:00, 13.22it/s]\n",
      "  0%|          | 2/512 [00:00<00:37, 13.77it/s]"
     ]
    },
    {
     "name": "stdout",
     "output_type": "stream",
     "text": [
      "Loss at step 512: -128.003\n",
      "788\n",
      "Initial loss: 0.985\n"
     ]
    },
    {
     "name": "stderr",
     "output_type": "stream",
     "text": [
      "100%|██████████| 512/512 [00:38<00:00, 13.16it/s]\n",
      "  0%|          | 2/512 [00:00<00:37, 13.69it/s]"
     ]
    },
    {
     "name": "stdout",
     "output_type": "stream",
     "text": [
      "Loss at step 512: -133.514\n",
      "789\n",
      "Initial loss: 0.613\n"
     ]
    },
    {
     "name": "stderr",
     "output_type": "stream",
     "text": [
      "100%|██████████| 512/512 [00:38<00:00, 13.23it/s]\n",
      "  0%|          | 2/512 [00:00<00:37, 13.66it/s]"
     ]
    },
    {
     "name": "stdout",
     "output_type": "stream",
     "text": [
      "Loss at step 512: -74.832\n",
      "790\n",
      "Initial loss: -0.616\n"
     ]
    },
    {
     "name": "stderr",
     "output_type": "stream",
     "text": [
      "100%|██████████| 512/512 [00:39<00:00, 13.08it/s]\n",
      "  0%|          | 2/512 [00:00<00:36, 13.83it/s]"
     ]
    },
    {
     "name": "stdout",
     "output_type": "stream",
     "text": [
      "Loss at step 512: -108.985\n",
      "791\n",
      "Initial loss: -0.079\n"
     ]
    },
    {
     "name": "stderr",
     "output_type": "stream",
     "text": [
      "100%|██████████| 512/512 [00:38<00:00, 13.22it/s]\n",
      "  0%|          | 2/512 [00:00<00:37, 13.70it/s]"
     ]
    },
    {
     "name": "stdout",
     "output_type": "stream",
     "text": [
      "Loss at step 512: -134.266\n",
      "792\n",
      "Initial loss: 1.499\n"
     ]
    },
    {
     "name": "stderr",
     "output_type": "stream",
     "text": [
      "100%|██████████| 512/512 [00:38<00:00, 13.13it/s]\n",
      "  0%|          | 2/512 [00:00<00:35, 14.38it/s]"
     ]
    },
    {
     "name": "stdout",
     "output_type": "stream",
     "text": [
      "Loss at step 512: -99.901\n",
      "793\n",
      "Initial loss: -0.170\n"
     ]
    },
    {
     "name": "stderr",
     "output_type": "stream",
     "text": [
      "100%|██████████| 512/512 [00:38<00:00, 13.14it/s]\n",
      "  0%|          | 2/512 [00:00<00:36, 14.12it/s]"
     ]
    },
    {
     "name": "stdout",
     "output_type": "stream",
     "text": [
      "Loss at step 512: -77.083\n",
      "794\n",
      "Initial loss: 0.138\n"
     ]
    },
    {
     "name": "stderr",
     "output_type": "stream",
     "text": [
      "100%|██████████| 512/512 [00:38<00:00, 13.19it/s]\n",
      "  0%|          | 2/512 [00:00<00:36, 14.15it/s]"
     ]
    },
    {
     "name": "stdout",
     "output_type": "stream",
     "text": [
      "Loss at step 512: -166.013\n",
      "795\n",
      "Initial loss: 0.233\n"
     ]
    },
    {
     "name": "stderr",
     "output_type": "stream",
     "text": [
      "100%|██████████| 512/512 [00:39<00:00, 13.08it/s]\n",
      "  0%|          | 2/512 [00:00<00:36, 13.84it/s]"
     ]
    },
    {
     "name": "stdout",
     "output_type": "stream",
     "text": [
      "Loss at step 512: -60.508\n",
      "796\n",
      "Initial loss: 0.172\n"
     ]
    },
    {
     "name": "stderr",
     "output_type": "stream",
     "text": [
      "100%|██████████| 512/512 [00:38<00:00, 13.17it/s]\n",
      "  0%|          | 2/512 [00:00<00:37, 13.55it/s]"
     ]
    },
    {
     "name": "stdout",
     "output_type": "stream",
     "text": [
      "Loss at step 512: -57.221\n",
      "797\n",
      "Initial loss: 0.888\n"
     ]
    },
    {
     "name": "stderr",
     "output_type": "stream",
     "text": [
      "100%|██████████| 512/512 [00:38<00:00, 13.13it/s]\n",
      "  0%|          | 0/512 [00:00<?, ?it/s]"
     ]
    },
    {
     "name": "stdout",
     "output_type": "stream",
     "text": [
      "Loss at step 512: -109.891\n",
      "798\n",
      "Initial loss: 0.042\n"
     ]
    },
    {
     "name": "stderr",
     "output_type": "stream",
     "text": [
      "100%|██████████| 512/512 [00:39<00:00, 13.00it/s]\n",
      "  0%|          | 2/512 [00:00<00:37, 13.59it/s]"
     ]
    },
    {
     "name": "stdout",
     "output_type": "stream",
     "text": [
      "Loss at step 512: -106.986\n",
      "799\n",
      "Initial loss: 0.191\n"
     ]
    },
    {
     "name": "stderr",
     "output_type": "stream",
     "text": [
      "100%|██████████| 512/512 [00:39<00:00, 13.05it/s]\n",
      "  0%|          | 2/512 [00:00<00:37, 13.57it/s]"
     ]
    },
    {
     "name": "stdout",
     "output_type": "stream",
     "text": [
      "Loss at step 512: -94.931\n",
      "800\n",
      "Initial loss: 0.106\n"
     ]
    },
    {
     "name": "stderr",
     "output_type": "stream",
     "text": [
      "100%|██████████| 512/512 [00:38<00:00, 13.14it/s]\n",
      "  0%|          | 0/512 [00:00<?, ?it/s]"
     ]
    },
    {
     "name": "stdout",
     "output_type": "stream",
     "text": [
      "Loss at step 512: -78.458\n",
      "801\n",
      "Initial loss: -0.084\n"
     ]
    },
    {
     "name": "stderr",
     "output_type": "stream",
     "text": [
      "100%|██████████| 512/512 [00:39<00:00, 13.07it/s]\n",
      "  0%|          | 0/512 [00:00<?, ?it/s]"
     ]
    },
    {
     "name": "stdout",
     "output_type": "stream",
     "text": [
      "Loss at step 512: -78.517\n",
      "802\n",
      "Initial loss: -0.051\n"
     ]
    },
    {
     "name": "stderr",
     "output_type": "stream",
     "text": [
      "100%|██████████| 512/512 [00:39<00:00, 12.92it/s]\n",
      "  0%|          | 2/512 [00:00<00:36, 14.11it/s]"
     ]
    },
    {
     "name": "stdout",
     "output_type": "stream",
     "text": [
      "Loss at step 512: -135.147\n",
      "803\n",
      "Initial loss: -1.766\n"
     ]
    },
    {
     "name": "stderr",
     "output_type": "stream",
     "text": [
      "100%|██████████| 512/512 [00:39<00:00, 13.09it/s]\n",
      "  0%|          | 2/512 [00:00<00:37, 13.60it/s]"
     ]
    },
    {
     "name": "stdout",
     "output_type": "stream",
     "text": [
      "Loss at step 512: -222.605\n",
      "804\n",
      "Initial loss: 0.071\n"
     ]
    },
    {
     "name": "stderr",
     "output_type": "stream",
     "text": [
      "100%|██████████| 512/512 [00:39<00:00, 13.10it/s]\n",
      "  0%|          | 2/512 [00:00<00:34, 14.86it/s]"
     ]
    },
    {
     "name": "stdout",
     "output_type": "stream",
     "text": [
      "Loss at step 512: -65.302\n",
      "805\n",
      "Initial loss: 0.451\n"
     ]
    },
    {
     "name": "stderr",
     "output_type": "stream",
     "text": [
      "100%|██████████| 512/512 [00:38<00:00, 13.38it/s]\n",
      "  0%|          | 0/512 [00:00<?, ?it/s]"
     ]
    },
    {
     "name": "stdout",
     "output_type": "stream",
     "text": [
      "Loss at step 512: -71.521\n",
      "806\n",
      "Initial loss: 0.344\n"
     ]
    },
    {
     "name": "stderr",
     "output_type": "stream",
     "text": [
      "100%|██████████| 512/512 [00:39<00:00, 13.02it/s]\n",
      "  0%|          | 2/512 [00:00<00:36, 14.13it/s]"
     ]
    },
    {
     "name": "stdout",
     "output_type": "stream",
     "text": [
      "Loss at step 512: -158.425\n",
      "807\n",
      "Initial loss: 1.211\n"
     ]
    },
    {
     "name": "stderr",
     "output_type": "stream",
     "text": [
      "100%|██████████| 512/512 [00:39<00:00, 13.08it/s]\n",
      "  0%|          | 2/512 [00:00<00:36, 13.87it/s]"
     ]
    },
    {
     "name": "stdout",
     "output_type": "stream",
     "text": [
      "Loss at step 512: -135.710\n",
      "808\n",
      "Initial loss: 0.450\n"
     ]
    },
    {
     "name": "stderr",
     "output_type": "stream",
     "text": [
      "100%|██████████| 512/512 [00:39<00:00, 13.10it/s]\n",
      "  0%|          | 2/512 [00:00<00:35, 14.21it/s]"
     ]
    },
    {
     "name": "stdout",
     "output_type": "stream",
     "text": [
      "Loss at step 512: -91.043\n",
      "809\n",
      "Initial loss: 0.003\n"
     ]
    },
    {
     "name": "stderr",
     "output_type": "stream",
     "text": [
      "100%|██████████| 512/512 [00:39<00:00, 13.08it/s]\n",
      "  0%|          | 2/512 [00:00<00:36, 13.96it/s]"
     ]
    },
    {
     "name": "stdout",
     "output_type": "stream",
     "text": [
      "Loss at step 512: -82.456\n",
      "810\n",
      "Initial loss: -0.809\n"
     ]
    },
    {
     "name": "stderr",
     "output_type": "stream",
     "text": [
      "100%|██████████| 512/512 [00:39<00:00, 12.99it/s]\n",
      "  0%|          | 2/512 [00:00<00:37, 13.71it/s]"
     ]
    },
    {
     "name": "stdout",
     "output_type": "stream",
     "text": [
      "Loss at step 512: -101.802\n",
      "811\n",
      "Initial loss: 0.892\n"
     ]
    },
    {
     "name": "stderr",
     "output_type": "stream",
     "text": [
      "100%|██████████| 512/512 [00:39<00:00, 12.91it/s]\n",
      "  0%|          | 2/512 [00:00<00:37, 13.70it/s]"
     ]
    },
    {
     "name": "stdout",
     "output_type": "stream",
     "text": [
      "Loss at step 512: -74.709\n",
      "812\n",
      "Initial loss: -0.414\n"
     ]
    },
    {
     "name": "stderr",
     "output_type": "stream",
     "text": [
      "100%|██████████| 512/512 [00:39<00:00, 13.05it/s]\n",
      "  0%|          | 0/512 [00:00<?, ?it/s]"
     ]
    },
    {
     "name": "stdout",
     "output_type": "stream",
     "text": [
      "Loss at step 512: -77.152\n",
      "813\n",
      "Initial loss: 0.527\n"
     ]
    },
    {
     "name": "stderr",
     "output_type": "stream",
     "text": [
      "100%|██████████| 512/512 [00:39<00:00, 12.85it/s]\n",
      "  0%|          | 0/512 [00:00<?, ?it/s]"
     ]
    },
    {
     "name": "stdout",
     "output_type": "stream",
     "text": [
      "Loss at step 512: -125.335\n",
      "814\n",
      "Initial loss: 0.796\n"
     ]
    },
    {
     "name": "stderr",
     "output_type": "stream",
     "text": [
      "100%|██████████| 512/512 [00:39<00:00, 12.95it/s]\n",
      "  0%|          | 0/512 [00:00<?, ?it/s]"
     ]
    },
    {
     "name": "stdout",
     "output_type": "stream",
     "text": [
      "Loss at step 512: -148.330\n",
      "815\n",
      "Initial loss: -0.365\n"
     ]
    },
    {
     "name": "stderr",
     "output_type": "stream",
     "text": [
      "100%|██████████| 512/512 [00:39<00:00, 12.94it/s]\n",
      "  0%|          | 2/512 [00:00<00:36, 13.88it/s]"
     ]
    },
    {
     "name": "stdout",
     "output_type": "stream",
     "text": [
      "Loss at step 512: -45.266\n",
      "816\n",
      "Initial loss: 1.218\n"
     ]
    },
    {
     "name": "stderr",
     "output_type": "stream",
     "text": [
      "100%|██████████| 512/512 [00:39<00:00, 13.06it/s]\n",
      "  0%|          | 2/512 [00:00<00:36, 14.14it/s]"
     ]
    },
    {
     "name": "stdout",
     "output_type": "stream",
     "text": [
      "Loss at step 512: -132.327\n",
      "817\n",
      "Initial loss: -0.598\n"
     ]
    },
    {
     "name": "stderr",
     "output_type": "stream",
     "text": [
      "100%|██████████| 512/512 [00:37<00:00, 13.49it/s]\n",
      "  0%|          | 0/512 [00:00<?, ?it/s]"
     ]
    },
    {
     "name": "stdout",
     "output_type": "stream",
     "text": [
      "Loss at step 512: -69.435\n",
      "818\n",
      "Initial loss: 0.575\n"
     ]
    },
    {
     "name": "stderr",
     "output_type": "stream",
     "text": [
      "100%|██████████| 512/512 [00:39<00:00, 12.84it/s]\n",
      "  0%|          | 2/512 [00:00<00:35, 14.32it/s]"
     ]
    },
    {
     "name": "stdout",
     "output_type": "stream",
     "text": [
      "Loss at step 512: -104.482\n",
      "819\n",
      "Initial loss: 0.376\n"
     ]
    },
    {
     "name": "stderr",
     "output_type": "stream",
     "text": [
      "100%|██████████| 512/512 [00:38<00:00, 13.16it/s]\n",
      "  0%|          | 2/512 [00:00<00:35, 14.21it/s]"
     ]
    },
    {
     "name": "stdout",
     "output_type": "stream",
     "text": [
      "Loss at step 512: -120.538\n",
      "820\n",
      "Initial loss: 0.260\n"
     ]
    },
    {
     "name": "stderr",
     "output_type": "stream",
     "text": [
      "100%|██████████| 512/512 [00:38<00:00, 13.16it/s]\n",
      "  0%|          | 2/512 [00:00<00:36, 14.09it/s]"
     ]
    },
    {
     "name": "stdout",
     "output_type": "stream",
     "text": [
      "Loss at step 512: -129.842\n",
      "821\n",
      "Initial loss: 1.202\n"
     ]
    },
    {
     "name": "stderr",
     "output_type": "stream",
     "text": [
      "100%|██████████| 512/512 [00:39<00:00, 13.09it/s]\n",
      "  0%|          | 2/512 [00:00<00:36, 13.83it/s]"
     ]
    },
    {
     "name": "stdout",
     "output_type": "stream",
     "text": [
      "Loss at step 512: -81.709\n",
      "822\n",
      "Initial loss: 1.421\n"
     ]
    },
    {
     "name": "stderr",
     "output_type": "stream",
     "text": [
      "100%|██████████| 512/512 [00:39<00:00, 12.82it/s]\n",
      "  0%|          | 2/512 [00:00<00:37, 13.71it/s]"
     ]
    },
    {
     "name": "stdout",
     "output_type": "stream",
     "text": [
      "Loss at step 512: -100.861\n",
      "823\n",
      "Initial loss: 0.473\n"
     ]
    },
    {
     "name": "stderr",
     "output_type": "stream",
     "text": [
      "100%|██████████| 512/512 [00:39<00:00, 12.94it/s]\n",
      "  0%|          | 0/512 [00:00<?, ?it/s]"
     ]
    },
    {
     "name": "stdout",
     "output_type": "stream",
     "text": [
      "Loss at step 512: -60.984\n",
      "824\n",
      "Initial loss: 0.577\n"
     ]
    },
    {
     "name": "stderr",
     "output_type": "stream",
     "text": [
      "100%|██████████| 512/512 [00:39<00:00, 12.95it/s]\n",
      "  0%|          | 2/512 [00:00<00:36, 14.10it/s]"
     ]
    },
    {
     "name": "stdout",
     "output_type": "stream",
     "text": [
      "Loss at step 512: -88.805\n",
      "825\n",
      "Initial loss: 1.206\n"
     ]
    },
    {
     "name": "stderr",
     "output_type": "stream",
     "text": [
      "100%|██████████| 512/512 [00:39<00:00, 12.85it/s]\n",
      "  0%|          | 0/512 [00:00<?, ?it/s]"
     ]
    },
    {
     "name": "stdout",
     "output_type": "stream",
     "text": [
      "Loss at step 512: -150.428\n",
      "826\n",
      "Initial loss: 0.782\n"
     ]
    },
    {
     "name": "stderr",
     "output_type": "stream",
     "text": [
      "100%|██████████| 512/512 [00:39<00:00, 12.91it/s]\n",
      "  0%|          | 2/512 [00:00<00:37, 13.73it/s]"
     ]
    },
    {
     "name": "stdout",
     "output_type": "stream",
     "text": [
      "Loss at step 512: -161.867\n",
      "827\n",
      "Initial loss: -0.206\n"
     ]
    },
    {
     "name": "stderr",
     "output_type": "stream",
     "text": [
      "100%|██████████| 512/512 [00:39<00:00, 12.99it/s]\n",
      "  0%|          | 2/512 [00:00<00:36, 13.96it/s]"
     ]
    },
    {
     "name": "stdout",
     "output_type": "stream",
     "text": [
      "Loss at step 512: -68.335\n",
      "828\n",
      "Initial loss: 0.884\n"
     ]
    },
    {
     "name": "stderr",
     "output_type": "stream",
     "text": [
      "100%|██████████| 512/512 [00:39<00:00, 12.95it/s]\n",
      "  0%|          | 2/512 [00:00<00:37, 13.71it/s]"
     ]
    },
    {
     "name": "stdout",
     "output_type": "stream",
     "text": [
      "Loss at step 512: -92.699\n",
      "829\n",
      "Initial loss: -0.541\n"
     ]
    },
    {
     "name": "stderr",
     "output_type": "stream",
     "text": [
      "100%|██████████| 512/512 [00:39<00:00, 13.09it/s]\n",
      "  0%|          | 2/512 [00:00<00:37, 13.62it/s]"
     ]
    },
    {
     "name": "stdout",
     "output_type": "stream",
     "text": [
      "Loss at step 512: -54.715\n",
      "830\n",
      "Initial loss: 0.027\n"
     ]
    },
    {
     "name": "stderr",
     "output_type": "stream",
     "text": [
      "100%|██████████| 512/512 [00:40<00:00, 12.80it/s]\n",
      "  0%|          | 2/512 [00:00<00:36, 13.83it/s]"
     ]
    },
    {
     "name": "stdout",
     "output_type": "stream",
     "text": [
      "Loss at step 512: -45.896\n",
      "831\n",
      "Initial loss: -0.116\n"
     ]
    },
    {
     "name": "stderr",
     "output_type": "stream",
     "text": [
      "100%|██████████| 512/512 [00:39<00:00, 12.85it/s]\n",
      "  0%|          | 0/512 [00:00<?, ?it/s]"
     ]
    },
    {
     "name": "stdout",
     "output_type": "stream",
     "text": [
      "Loss at step 512: -66.769\n",
      "832\n",
      "Initial loss: 0.577\n"
     ]
    },
    {
     "name": "stderr",
     "output_type": "stream",
     "text": [
      "100%|██████████| 512/512 [00:39<00:00, 12.86it/s]\n",
      "  0%|          | 2/512 [00:00<00:36, 13.84it/s]"
     ]
    },
    {
     "name": "stdout",
     "output_type": "stream",
     "text": [
      "Loss at step 512: -175.834\n",
      "833\n",
      "Initial loss: 2.692\n"
     ]
    },
    {
     "name": "stderr",
     "output_type": "stream",
     "text": [
      "100%|██████████| 512/512 [00:39<00:00, 12.99it/s]\n",
      "  0%|          | 2/512 [00:00<00:36, 14.09it/s]"
     ]
    },
    {
     "name": "stdout",
     "output_type": "stream",
     "text": [
      "Loss at step 512: -87.446\n",
      "834\n",
      "Initial loss: 0.504\n"
     ]
    },
    {
     "name": "stderr",
     "output_type": "stream",
     "text": [
      "100%|██████████| 512/512 [00:38<00:00, 13.37it/s]\n",
      "  0%|          | 0/512 [00:00<?, ?it/s]"
     ]
    },
    {
     "name": "stdout",
     "output_type": "stream",
     "text": [
      "Loss at step 512: -74.323\n",
      "835\n",
      "Initial loss: 0.173\n"
     ]
    },
    {
     "name": "stderr",
     "output_type": "stream",
     "text": [
      "100%|██████████| 512/512 [00:39<00:00, 12.80it/s]\n",
      "  0%|          | 0/512 [00:00<?, ?it/s]"
     ]
    },
    {
     "name": "stdout",
     "output_type": "stream",
     "text": [
      "Loss at step 512: -127.056\n",
      "836\n",
      "Initial loss: 0.836\n"
     ]
    },
    {
     "name": "stderr",
     "output_type": "stream",
     "text": [
      "100%|██████████| 512/512 [00:39<00:00, 13.04it/s]\n",
      "  0%|          | 2/512 [00:00<00:34, 14.65it/s]"
     ]
    },
    {
     "name": "stdout",
     "output_type": "stream",
     "text": [
      "Loss at step 512: -64.877\n",
      "837\n",
      "Initial loss: 0.542\n"
     ]
    },
    {
     "name": "stderr",
     "output_type": "stream",
     "text": [
      "100%|██████████| 512/512 [00:39<00:00, 12.88it/s]\n",
      "  0%|          | 0/512 [00:00<?, ?it/s]"
     ]
    },
    {
     "name": "stdout",
     "output_type": "stream",
     "text": [
      "Loss at step 512: -120.616\n",
      "838\n",
      "Initial loss: 0.857\n"
     ]
    },
    {
     "name": "stderr",
     "output_type": "stream",
     "text": [
      "100%|██████████| 512/512 [00:39<00:00, 13.12it/s]\n",
      "  0%|          | 2/512 [00:00<00:35, 14.48it/s]"
     ]
    },
    {
     "name": "stdout",
     "output_type": "stream",
     "text": [
      "Loss at step 512: -142.551\n",
      "839\n",
      "Initial loss: 1.764\n"
     ]
    },
    {
     "name": "stderr",
     "output_type": "stream",
     "text": [
      "100%|██████████| 512/512 [00:37<00:00, 13.59it/s]\n",
      "  0%|          | 2/512 [00:00<00:36, 14.05it/s]"
     ]
    },
    {
     "name": "stdout",
     "output_type": "stream",
     "text": [
      "Loss at step 512: -158.493\n",
      "840\n",
      "Initial loss: 0.608\n"
     ]
    },
    {
     "name": "stderr",
     "output_type": "stream",
     "text": [
      "100%|██████████| 512/512 [00:39<00:00, 13.08it/s]\n",
      "  0%|          | 2/512 [00:00<00:37, 13.49it/s]"
     ]
    },
    {
     "name": "stdout",
     "output_type": "stream",
     "text": [
      "Loss at step 512: -93.290\n",
      "841\n",
      "Initial loss: -0.306\n"
     ]
    },
    {
     "name": "stderr",
     "output_type": "stream",
     "text": [
      "100%|██████████| 512/512 [00:39<00:00, 13.01it/s]\n",
      "  0%|          | 0/512 [00:00<?, ?it/s]"
     ]
    },
    {
     "name": "stdout",
     "output_type": "stream",
     "text": [
      "Loss at step 512: -68.846\n",
      "842\n",
      "Initial loss: 0.561\n"
     ]
    },
    {
     "name": "stderr",
     "output_type": "stream",
     "text": [
      "100%|██████████| 512/512 [00:39<00:00, 12.95it/s]\n",
      "  0%|          | 2/512 [00:00<00:37, 13.66it/s]"
     ]
    },
    {
     "name": "stdout",
     "output_type": "stream",
     "text": [
      "Loss at step 512: -104.215\n",
      "843\n",
      "Initial loss: 2.557\n"
     ]
    },
    {
     "name": "stderr",
     "output_type": "stream",
     "text": [
      "100%|██████████| 512/512 [00:39<00:00, 13.09it/s]\n",
      "  0%|          | 2/512 [00:00<00:36, 13.99it/s]"
     ]
    },
    {
     "name": "stdout",
     "output_type": "stream",
     "text": [
      "Loss at step 512: -127.740\n",
      "844\n",
      "Initial loss: -1.259\n"
     ]
    },
    {
     "name": "stderr",
     "output_type": "stream",
     "text": [
      "100%|██████████| 512/512 [00:39<00:00, 13.00it/s]\n",
      "  0%|          | 2/512 [00:00<00:36, 13.90it/s]"
     ]
    },
    {
     "name": "stdout",
     "output_type": "stream",
     "text": [
      "Loss at step 512: -82.939\n",
      "845\n",
      "Initial loss: 1.897\n"
     ]
    },
    {
     "name": "stderr",
     "output_type": "stream",
     "text": [
      "100%|██████████| 512/512 [00:39<00:00, 12.87it/s]\n",
      "  0%|          | 0/512 [00:00<?, ?it/s]"
     ]
    },
    {
     "name": "stdout",
     "output_type": "stream",
     "text": [
      "Loss at step 512: -82.191\n",
      "846\n",
      "Initial loss: 0.515\n"
     ]
    },
    {
     "name": "stderr",
     "output_type": "stream",
     "text": [
      "100%|██████████| 512/512 [00:39<00:00, 13.01it/s]\n",
      "  0%|          | 0/512 [00:00<?, ?it/s]"
     ]
    },
    {
     "name": "stdout",
     "output_type": "stream",
     "text": [
      "Loss at step 512: -87.823\n",
      "847\n",
      "Initial loss: -0.063\n"
     ]
    },
    {
     "name": "stderr",
     "output_type": "stream",
     "text": [
      "100%|██████████| 512/512 [00:39<00:00, 12.83it/s]\n",
      "  0%|          | 2/512 [00:00<00:36, 13.80it/s]"
     ]
    },
    {
     "name": "stdout",
     "output_type": "stream",
     "text": [
      "Loss at step 512: -114.086\n",
      "848\n",
      "Initial loss: 2.019\n"
     ]
    },
    {
     "name": "stderr",
     "output_type": "stream",
     "text": [
      "100%|██████████| 512/512 [00:40<00:00, 12.67it/s]\n",
      "  0%|          | 0/512 [00:00<?, ?it/s]"
     ]
    },
    {
     "name": "stdout",
     "output_type": "stream",
     "text": [
      "Loss at step 512: -112.875\n",
      "849\n",
      "Initial loss: 2.107\n"
     ]
    },
    {
     "name": "stderr",
     "output_type": "stream",
     "text": [
      "100%|██████████| 512/512 [00:40<00:00, 12.71it/s]\n",
      "  0%|          | 0/512 [00:00<?, ?it/s]"
     ]
    },
    {
     "name": "stdout",
     "output_type": "stream",
     "text": [
      "Loss at step 512: -148.115\n",
      "850\n",
      "Initial loss: 0.585\n"
     ]
    },
    {
     "name": "stderr",
     "output_type": "stream",
     "text": [
      "100%|██████████| 512/512 [00:40<00:00, 12.75it/s]\n",
      "  0%|          | 0/512 [00:00<?, ?it/s]"
     ]
    },
    {
     "name": "stdout",
     "output_type": "stream",
     "text": [
      "Loss at step 512: -150.372\n",
      "851\n",
      "Initial loss: -0.294\n"
     ]
    },
    {
     "name": "stderr",
     "output_type": "stream",
     "text": [
      "100%|██████████| 512/512 [00:39<00:00, 12.91it/s]\n",
      "  0%|          | 2/512 [00:00<00:35, 14.24it/s]"
     ]
    },
    {
     "name": "stdout",
     "output_type": "stream",
     "text": [
      "Loss at step 512: -155.028\n",
      "852\n",
      "Initial loss: 1.142\n"
     ]
    },
    {
     "name": "stderr",
     "output_type": "stream",
     "text": [
      "100%|██████████| 512/512 [00:39<00:00, 12.86it/s]\n",
      "  0%|          | 0/512 [00:00<?, ?it/s]"
     ]
    },
    {
     "name": "stdout",
     "output_type": "stream",
     "text": [
      "Loss at step 512: -126.452\n",
      "853\n",
      "Initial loss: -0.239\n"
     ]
    },
    {
     "name": "stderr",
     "output_type": "stream",
     "text": [
      "100%|██████████| 512/512 [00:40<00:00, 12.74it/s]\n",
      "  0%|          | 0/512 [00:00<?, ?it/s]"
     ]
    },
    {
     "name": "stdout",
     "output_type": "stream",
     "text": [
      "Loss at step 512: -83.365\n",
      "854\n",
      "Initial loss: 2.018\n"
     ]
    },
    {
     "name": "stderr",
     "output_type": "stream",
     "text": [
      "100%|██████████| 512/512 [00:40<00:00, 12.70it/s]\n",
      "  0%|          | 2/512 [00:00<00:36, 14.12it/s]"
     ]
    },
    {
     "name": "stdout",
     "output_type": "stream",
     "text": [
      "Loss at step 512: -64.585\n",
      "855\n",
      "Initial loss: -0.323\n"
     ]
    },
    {
     "name": "stderr",
     "output_type": "stream",
     "text": [
      "100%|██████████| 512/512 [00:39<00:00, 12.80it/s]\n",
      "  0%|          | 2/512 [00:00<00:37, 13.71it/s]"
     ]
    },
    {
     "name": "stdout",
     "output_type": "stream",
     "text": [
      "Loss at step 512: -91.953\n",
      "856\n",
      "Initial loss: -0.023\n"
     ]
    },
    {
     "name": "stderr",
     "output_type": "stream",
     "text": [
      "100%|██████████| 512/512 [00:40<00:00, 12.75it/s]\n",
      "  0%|          | 0/512 [00:00<?, ?it/s]"
     ]
    },
    {
     "name": "stdout",
     "output_type": "stream",
     "text": [
      "Loss at step 512: -64.431\n",
      "857\n",
      "Initial loss: 0.395\n"
     ]
    },
    {
     "name": "stderr",
     "output_type": "stream",
     "text": [
      "100%|██████████| 512/512 [00:41<00:00, 12.46it/s]\n",
      "  0%|          | 0/512 [00:00<?, ?it/s]"
     ]
    },
    {
     "name": "stdout",
     "output_type": "stream",
     "text": [
      "Loss at step 512: -60.010\n",
      "858\n",
      "Initial loss: 0.796\n"
     ]
    },
    {
     "name": "stderr",
     "output_type": "stream",
     "text": [
      "100%|██████████| 512/512 [00:41<00:00, 12.40it/s]\n",
      "  0%|          | 0/512 [00:00<?, ?it/s]"
     ]
    },
    {
     "name": "stdout",
     "output_type": "stream",
     "text": [
      "Loss at step 512: -74.663\n",
      "859\n",
      "Initial loss: 0.790\n"
     ]
    },
    {
     "name": "stderr",
     "output_type": "stream",
     "text": [
      "100%|██████████| 512/512 [00:41<00:00, 12.48it/s]\n",
      "  0%|          | 0/512 [00:00<?, ?it/s]"
     ]
    },
    {
     "name": "stdout",
     "output_type": "stream",
     "text": [
      "Loss at step 512: -77.685\n",
      "860\n",
      "Initial loss: 0.681\n"
     ]
    },
    {
     "name": "stderr",
     "output_type": "stream",
     "text": [
      "100%|██████████| 512/512 [00:41<00:00, 12.43it/s]\n",
      "  0%|          | 0/512 [00:00<?, ?it/s]"
     ]
    },
    {
     "name": "stdout",
     "output_type": "stream",
     "text": [
      "Loss at step 512: -93.108\n",
      "861\n",
      "Initial loss: 1.351\n"
     ]
    },
    {
     "name": "stderr",
     "output_type": "stream",
     "text": [
      "100%|██████████| 512/512 [00:40<00:00, 12.57it/s]\n",
      "  0%|          | 0/512 [00:00<?, ?it/s]"
     ]
    },
    {
     "name": "stdout",
     "output_type": "stream",
     "text": [
      "Loss at step 512: -132.517\n",
      "862\n",
      "Initial loss: -0.684\n"
     ]
    },
    {
     "name": "stderr",
     "output_type": "stream",
     "text": [
      "100%|██████████| 512/512 [00:40<00:00, 12.72it/s]\n",
      "  0%|          | 2/512 [00:00<00:36, 13.92it/s]"
     ]
    },
    {
     "name": "stdout",
     "output_type": "stream",
     "text": [
      "Loss at step 512: -58.117\n",
      "863\n",
      "Initial loss: 0.966\n"
     ]
    },
    {
     "name": "stderr",
     "output_type": "stream",
     "text": [
      "100%|██████████| 512/512 [00:40<00:00, 12.65it/s]\n",
      "  0%|          | 0/512 [00:00<?, ?it/s]"
     ]
    },
    {
     "name": "stdout",
     "output_type": "stream",
     "text": [
      "Loss at step 512: -128.892\n",
      "864\n",
      "Initial loss: 0.372\n"
     ]
    },
    {
     "name": "stderr",
     "output_type": "stream",
     "text": [
      "100%|██████████| 512/512 [00:40<00:00, 12.67it/s]\n",
      "  0%|          | 0/512 [00:00<?, ?it/s]"
     ]
    },
    {
     "name": "stdout",
     "output_type": "stream",
     "text": [
      "Loss at step 512: -129.166\n",
      "865\n",
      "Initial loss: -0.139\n"
     ]
    },
    {
     "name": "stderr",
     "output_type": "stream",
     "text": [
      "100%|██████████| 512/512 [00:40<00:00, 12.50it/s]\n",
      "  0%|          | 0/512 [00:00<?, ?it/s]"
     ]
    },
    {
     "name": "stdout",
     "output_type": "stream",
     "text": [
      "Loss at step 512: -78.277\n",
      "866\n",
      "Initial loss: 0.430\n"
     ]
    },
    {
     "name": "stderr",
     "output_type": "stream",
     "text": [
      "100%|██████████| 512/512 [00:40<00:00, 12.53it/s]\n",
      "  0%|          | 0/512 [00:00<?, ?it/s]"
     ]
    },
    {
     "name": "stdout",
     "output_type": "stream",
     "text": [
      "Loss at step 512: -72.379\n",
      "867\n",
      "Initial loss: -0.802\n"
     ]
    },
    {
     "name": "stderr",
     "output_type": "stream",
     "text": [
      "100%|██████████| 512/512 [00:40<00:00, 12.61it/s]\n",
      "  0%|          | 2/512 [00:00<00:37, 13.49it/s]"
     ]
    },
    {
     "name": "stdout",
     "output_type": "stream",
     "text": [
      "Loss at step 512: -74.644\n",
      "868\n",
      "Initial loss: -1.371\n"
     ]
    },
    {
     "name": "stderr",
     "output_type": "stream",
     "text": [
      "100%|██████████| 512/512 [00:40<00:00, 12.59it/s]\n",
      "  0%|          | 0/512 [00:00<?, ?it/s]"
     ]
    },
    {
     "name": "stdout",
     "output_type": "stream",
     "text": [
      "Loss at step 512: -41.653\n",
      "869\n",
      "Initial loss: 0.694\n"
     ]
    },
    {
     "name": "stderr",
     "output_type": "stream",
     "text": [
      "100%|██████████| 512/512 [00:40<00:00, 12.58it/s]\n",
      "  0%|          | 2/512 [00:00<00:37, 13.74it/s]"
     ]
    },
    {
     "name": "stdout",
     "output_type": "stream",
     "text": [
      "Loss at step 512: -116.119\n",
      "870\n",
      "Initial loss: -0.280\n"
     ]
    },
    {
     "name": "stderr",
     "output_type": "stream",
     "text": [
      "100%|██████████| 512/512 [00:40<00:00, 12.65it/s]\n",
      "  0%|          | 0/512 [00:00<?, ?it/s]"
     ]
    },
    {
     "name": "stdout",
     "output_type": "stream",
     "text": [
      "Loss at step 512: -75.533\n",
      "871\n",
      "Initial loss: 0.156\n"
     ]
    },
    {
     "name": "stderr",
     "output_type": "stream",
     "text": [
      "100%|██████████| 512/512 [00:39<00:00, 12.92it/s]\n",
      "  0%|          | 2/512 [00:00<00:36, 14.06it/s]"
     ]
    },
    {
     "name": "stdout",
     "output_type": "stream",
     "text": [
      "Loss at step 512: -96.356\n",
      "872\n",
      "Initial loss: -0.528\n"
     ]
    },
    {
     "name": "stderr",
     "output_type": "stream",
     "text": [
      "100%|██████████| 512/512 [00:40<00:00, 12.55it/s]\n",
      "  0%|          | 2/512 [00:00<00:37, 13.62it/s]"
     ]
    },
    {
     "name": "stdout",
     "output_type": "stream",
     "text": [
      "Loss at step 512: -74.460\n",
      "873\n",
      "Initial loss: 1.109\n"
     ]
    },
    {
     "name": "stderr",
     "output_type": "stream",
     "text": [
      "100%|██████████| 512/512 [00:40<00:00, 12.51it/s]\n",
      "  0%|          | 2/512 [00:00<00:36, 13.85it/s]"
     ]
    },
    {
     "name": "stdout",
     "output_type": "stream",
     "text": [
      "Loss at step 512: -99.591\n",
      "874\n",
      "Initial loss: 0.611\n"
     ]
    },
    {
     "name": "stderr",
     "output_type": "stream",
     "text": [
      "100%|██████████| 512/512 [00:40<00:00, 12.68it/s]\n",
      "  0%|          | 0/512 [00:00<?, ?it/s]"
     ]
    },
    {
     "name": "stdout",
     "output_type": "stream",
     "text": [
      "Loss at step 512: -64.342\n",
      "875\n",
      "Initial loss: 1.459\n"
     ]
    },
    {
     "name": "stderr",
     "output_type": "stream",
     "text": [
      "100%|██████████| 512/512 [00:40<00:00, 12.60it/s]\n",
      "  0%|          | 0/512 [00:00<?, ?it/s]"
     ]
    },
    {
     "name": "stdout",
     "output_type": "stream",
     "text": [
      "Loss at step 512: -82.353\n",
      "876\n",
      "Initial loss: -0.079\n"
     ]
    },
    {
     "name": "stderr",
     "output_type": "stream",
     "text": [
      "100%|██████████| 512/512 [00:40<00:00, 12.58it/s]\n",
      "  0%|          | 0/512 [00:00<?, ?it/s]"
     ]
    },
    {
     "name": "stdout",
     "output_type": "stream",
     "text": [
      "Loss at step 512: -101.852\n",
      "877\n",
      "Initial loss: -0.197\n"
     ]
    },
    {
     "name": "stderr",
     "output_type": "stream",
     "text": [
      "100%|██████████| 512/512 [00:40<00:00, 12.52it/s]\n",
      "  0%|          | 2/512 [00:00<00:37, 13.75it/s]"
     ]
    },
    {
     "name": "stdout",
     "output_type": "stream",
     "text": [
      "Loss at step 512: -66.160\n",
      "878\n",
      "Initial loss: 1.011\n"
     ]
    },
    {
     "name": "stderr",
     "output_type": "stream",
     "text": [
      "100%|██████████| 512/512 [00:41<00:00, 12.48it/s]\n",
      "  0%|          | 0/512 [00:00<?, ?it/s]"
     ]
    },
    {
     "name": "stdout",
     "output_type": "stream",
     "text": [
      "Loss at step 512: -71.574\n",
      "879\n",
      "Initial loss: 0.610\n"
     ]
    },
    {
     "name": "stderr",
     "output_type": "stream",
     "text": [
      "100%|██████████| 512/512 [00:40<00:00, 12.54it/s]\n",
      "  0%|          | 0/512 [00:00<?, ?it/s]"
     ]
    },
    {
     "name": "stdout",
     "output_type": "stream",
     "text": [
      "Loss at step 512: -99.675\n",
      "880\n",
      "Initial loss: 1.125\n"
     ]
    },
    {
     "name": "stderr",
     "output_type": "stream",
     "text": [
      "100%|██████████| 512/512 [00:40<00:00, 12.61it/s]\n",
      "  0%|          | 2/512 [00:00<00:36, 13.97it/s]"
     ]
    },
    {
     "name": "stdout",
     "output_type": "stream",
     "text": [
      "Loss at step 512: -131.288\n",
      "881\n",
      "Initial loss: -0.665\n"
     ]
    },
    {
     "name": "stderr",
     "output_type": "stream",
     "text": [
      "100%|██████████| 512/512 [00:40<00:00, 12.70it/s]\n",
      "  0%|          | 2/512 [00:00<00:35, 14.17it/s]"
     ]
    },
    {
     "name": "stdout",
     "output_type": "stream",
     "text": [
      "Loss at step 512: -89.166\n",
      "882\n",
      "Initial loss: 0.454\n"
     ]
    },
    {
     "name": "stderr",
     "output_type": "stream",
     "text": [
      "100%|██████████| 512/512 [00:38<00:00, 13.22it/s]\n",
      "  0%|          | 0/512 [00:00<?, ?it/s]"
     ]
    },
    {
     "name": "stdout",
     "output_type": "stream",
     "text": [
      "Loss at step 512: -87.202\n",
      "883\n",
      "Initial loss: 0.132\n"
     ]
    },
    {
     "name": "stderr",
     "output_type": "stream",
     "text": [
      "100%|██████████| 512/512 [00:40<00:00, 12.56it/s]\n",
      "  0%|          | 0/512 [00:00<?, ?it/s]"
     ]
    },
    {
     "name": "stdout",
     "output_type": "stream",
     "text": [
      "Loss at step 512: -87.081\n",
      "884\n",
      "Initial loss: -0.648\n"
     ]
    },
    {
     "name": "stderr",
     "output_type": "stream",
     "text": [
      "100%|██████████| 512/512 [00:40<00:00, 12.66it/s]\n",
      "  0%|          | 0/512 [00:00<?, ?it/s]"
     ]
    },
    {
     "name": "stdout",
     "output_type": "stream",
     "text": [
      "Loss at step 512: -62.862\n",
      "885\n",
      "Initial loss: 0.120\n"
     ]
    },
    {
     "name": "stderr",
     "output_type": "stream",
     "text": [
      "100%|██████████| 512/512 [00:40<00:00, 12.57it/s]\n",
      "  0%|          | 0/512 [00:00<?, ?it/s]"
     ]
    },
    {
     "name": "stdout",
     "output_type": "stream",
     "text": [
      "Loss at step 512: -80.348\n",
      "886\n",
      "Initial loss: 0.062\n"
     ]
    },
    {
     "name": "stderr",
     "output_type": "stream",
     "text": [
      "100%|██████████| 512/512 [00:41<00:00, 12.49it/s]\n",
      "  0%|          | 0/512 [00:00<?, ?it/s]"
     ]
    },
    {
     "name": "stdout",
     "output_type": "stream",
     "text": [
      "Loss at step 512: -75.044\n",
      "887\n",
      "Initial loss: 1.099\n"
     ]
    },
    {
     "name": "stderr",
     "output_type": "stream",
     "text": [
      "100%|██████████| 512/512 [00:40<00:00, 12.49it/s]\n",
      "  0%|          | 0/512 [00:00<?, ?it/s]"
     ]
    },
    {
     "name": "stdout",
     "output_type": "stream",
     "text": [
      "Loss at step 512: -105.059\n",
      "888\n",
      "Initial loss: -0.339\n"
     ]
    },
    {
     "name": "stderr",
     "output_type": "stream",
     "text": [
      "100%|██████████| 512/512 [00:40<00:00, 12.66it/s]\n",
      "  0%|          | 2/512 [00:00<00:36, 14.14it/s]"
     ]
    },
    {
     "name": "stdout",
     "output_type": "stream",
     "text": [
      "Loss at step 512: -92.612\n",
      "889\n",
      "Initial loss: 0.351\n"
     ]
    },
    {
     "name": "stderr",
     "output_type": "stream",
     "text": [
      "100%|██████████| 512/512 [00:40<00:00, 12.52it/s]\n",
      "  0%|          | 0/512 [00:00<?, ?it/s]"
     ]
    },
    {
     "name": "stdout",
     "output_type": "stream",
     "text": [
      "Loss at step 512: -92.045\n",
      "890\n",
      "Initial loss: 0.083\n"
     ]
    },
    {
     "name": "stderr",
     "output_type": "stream",
     "text": [
      "100%|██████████| 512/512 [00:40<00:00, 12.51it/s]\n",
      "  0%|          | 0/512 [00:00<?, ?it/s]"
     ]
    },
    {
     "name": "stdout",
     "output_type": "stream",
     "text": [
      "Loss at step 512: -49.888\n",
      "891\n",
      "Initial loss: 2.264\n"
     ]
    },
    {
     "name": "stderr",
     "output_type": "stream",
     "text": [
      "100%|██████████| 512/512 [00:40<00:00, 12.63it/s]\n",
      "  0%|          | 0/512 [00:00<?, ?it/s]"
     ]
    },
    {
     "name": "stdout",
     "output_type": "stream",
     "text": [
      "Loss at step 512: -96.940\n",
      "892\n",
      "Initial loss: 1.251\n"
     ]
    },
    {
     "name": "stderr",
     "output_type": "stream",
     "text": [
      "100%|██████████| 512/512 [00:40<00:00, 12.65it/s]\n",
      "  0%|          | 0/512 [00:00<?, ?it/s]"
     ]
    },
    {
     "name": "stdout",
     "output_type": "stream",
     "text": [
      "Loss at step 512: -56.509\n",
      "893\n",
      "Initial loss: -1.448\n"
     ]
    },
    {
     "name": "stderr",
     "output_type": "stream",
     "text": [
      "100%|██████████| 512/512 [00:40<00:00, 12.71it/s]\n",
      "  0%|          | 0/512 [00:00<?, ?it/s]"
     ]
    },
    {
     "name": "stdout",
     "output_type": "stream",
     "text": [
      "Loss at step 512: -51.541\n",
      "894\n",
      "Initial loss: 0.477\n"
     ]
    },
    {
     "name": "stderr",
     "output_type": "stream",
     "text": [
      "100%|██████████| 512/512 [00:41<00:00, 12.46it/s]\n",
      "  0%|          | 0/512 [00:00<?, ?it/s]"
     ]
    },
    {
     "name": "stdout",
     "output_type": "stream",
     "text": [
      "Loss at step 512: -76.567\n",
      "895\n",
      "Initial loss: 0.710\n"
     ]
    },
    {
     "name": "stderr",
     "output_type": "stream",
     "text": [
      "100%|██████████| 512/512 [00:40<00:00, 12.54it/s]\n",
      "  0%|          | 0/512 [00:00<?, ?it/s]"
     ]
    },
    {
     "name": "stdout",
     "output_type": "stream",
     "text": [
      "Loss at step 512: -96.741\n",
      "896\n",
      "Initial loss: 0.972\n"
     ]
    },
    {
     "name": "stderr",
     "output_type": "stream",
     "text": [
      "100%|██████████| 512/512 [00:43<00:00, 11.64it/s]\n",
      "  0%|          | 0/512 [00:00<?, ?it/s]"
     ]
    },
    {
     "name": "stdout",
     "output_type": "stream",
     "text": [
      "Loss at step 512: -151.011\n",
      "897\n",
      "Initial loss: 0.833\n"
     ]
    },
    {
     "name": "stderr",
     "output_type": "stream",
     "text": [
      "100%|██████████| 512/512 [00:44<00:00, 11.53it/s]\n",
      "  0%|          | 0/512 [00:00<?, ?it/s]"
     ]
    },
    {
     "name": "stdout",
     "output_type": "stream",
     "text": [
      "Loss at step 512: -64.973\n",
      "898\n",
      "Initial loss: 1.959\n"
     ]
    },
    {
     "name": "stderr",
     "output_type": "stream",
     "text": [
      "100%|██████████| 512/512 [00:44<00:00, 11.55it/s]\n",
      "  0%|          | 0/512 [00:00<?, ?it/s]"
     ]
    },
    {
     "name": "stdout",
     "output_type": "stream",
     "text": [
      "Loss at step 512: -62.692\n",
      "899\n",
      "Initial loss: 1.323\n"
     ]
    },
    {
     "name": "stderr",
     "output_type": "stream",
     "text": [
      "100%|██████████| 512/512 [00:44<00:00, 11.53it/s]\n",
      "  0%|          | 0/512 [00:00<?, ?it/s]"
     ]
    },
    {
     "name": "stdout",
     "output_type": "stream",
     "text": [
      "Loss at step 512: -36.728\n",
      "900\n",
      "Initial loss: 0.917\n"
     ]
    },
    {
     "name": "stderr",
     "output_type": "stream",
     "text": [
      "100%|██████████| 512/512 [00:43<00:00, 11.72it/s]\n",
      "  0%|          | 0/512 [00:00<?, ?it/s]"
     ]
    },
    {
     "name": "stdout",
     "output_type": "stream",
     "text": [
      "Loss at step 512: -70.045\n",
      "901\n",
      "Initial loss: 0.804\n"
     ]
    },
    {
     "name": "stderr",
     "output_type": "stream",
     "text": [
      "100%|██████████| 512/512 [00:43<00:00, 11.90it/s]\n",
      "  0%|          | 0/512 [00:00<?, ?it/s]"
     ]
    },
    {
     "name": "stdout",
     "output_type": "stream",
     "text": [
      "Loss at step 512: -53.582\n",
      "902\n",
      "Initial loss: 0.873\n"
     ]
    },
    {
     "name": "stderr",
     "output_type": "stream",
     "text": [
      "100%|██████████| 512/512 [00:44<00:00, 11.61it/s]\n",
      "  0%|          | 0/512 [00:00<?, ?it/s]"
     ]
    },
    {
     "name": "stdout",
     "output_type": "stream",
     "text": [
      "Loss at step 512: -58.360\n",
      "903\n",
      "Initial loss: 1.503\n"
     ]
    },
    {
     "name": "stderr",
     "output_type": "stream",
     "text": [
      "100%|██████████| 512/512 [00:44<00:00, 11.50it/s]\n",
      "  0%|          | 0/512 [00:00<?, ?it/s]"
     ]
    },
    {
     "name": "stdout",
     "output_type": "stream",
     "text": [
      "Loss at step 512: -82.717\n",
      "904\n",
      "Initial loss: 1.099\n"
     ]
    },
    {
     "name": "stderr",
     "output_type": "stream",
     "text": [
      "100%|██████████| 512/512 [00:43<00:00, 11.73it/s]\n",
      "  0%|          | 0/512 [00:00<?, ?it/s]"
     ]
    },
    {
     "name": "stdout",
     "output_type": "stream",
     "text": [
      "Loss at step 512: -73.884\n",
      "905\n",
      "Initial loss: 0.670\n"
     ]
    },
    {
     "name": "stderr",
     "output_type": "stream",
     "text": [
      "100%|██████████| 512/512 [00:43<00:00, 11.88it/s]\n",
      "  0%|          | 0/512 [00:00<?, ?it/s]"
     ]
    },
    {
     "name": "stdout",
     "output_type": "stream",
     "text": [
      "Loss at step 512: -68.128\n",
      "906\n",
      "Initial loss: 0.978\n"
     ]
    },
    {
     "name": "stderr",
     "output_type": "stream",
     "text": [
      "100%|██████████| 512/512 [00:44<00:00, 11.60it/s]\n",
      "  0%|          | 0/512 [00:00<?, ?it/s]"
     ]
    },
    {
     "name": "stdout",
     "output_type": "stream",
     "text": [
      "Loss at step 512: -98.688\n",
      "907\n",
      "Initial loss: 0.798\n"
     ]
    },
    {
     "name": "stderr",
     "output_type": "stream",
     "text": [
      "100%|██████████| 512/512 [00:44<00:00, 11.56it/s]\n",
      "  0%|          | 0/512 [00:00<?, ?it/s]"
     ]
    },
    {
     "name": "stdout",
     "output_type": "stream",
     "text": [
      "Loss at step 512: -56.832\n",
      "908\n",
      "Initial loss: 0.141\n"
     ]
    },
    {
     "name": "stderr",
     "output_type": "stream",
     "text": [
      "100%|██████████| 512/512 [00:43<00:00, 11.64it/s]\n",
      "  0%|          | 0/512 [00:00<?, ?it/s]"
     ]
    },
    {
     "name": "stdout",
     "output_type": "stream",
     "text": [
      "Loss at step 512: -70.281\n",
      "909\n",
      "Initial loss: 0.959\n"
     ]
    },
    {
     "name": "stderr",
     "output_type": "stream",
     "text": [
      "100%|██████████| 512/512 [00:44<00:00, 11.63it/s]\n",
      "  0%|          | 0/512 [00:00<?, ?it/s]"
     ]
    },
    {
     "name": "stdout",
     "output_type": "stream",
     "text": [
      "Loss at step 512: -103.551\n",
      "910\n",
      "Initial loss: 0.754\n"
     ]
    },
    {
     "name": "stderr",
     "output_type": "stream",
     "text": [
      "100%|██████████| 512/512 [00:44<00:00, 11.61it/s]\n",
      "  0%|          | 0/512 [00:00<?, ?it/s]"
     ]
    },
    {
     "name": "stdout",
     "output_type": "stream",
     "text": [
      "Loss at step 512: -84.806\n",
      "911\n",
      "Initial loss: 0.833\n"
     ]
    },
    {
     "name": "stderr",
     "output_type": "stream",
     "text": [
      "100%|██████████| 512/512 [00:43<00:00, 11.66it/s]\n",
      "  0%|          | 0/512 [00:00<?, ?it/s]"
     ]
    },
    {
     "name": "stdout",
     "output_type": "stream",
     "text": [
      "Loss at step 512: -68.117\n",
      "912\n",
      "Initial loss: 1.249\n"
     ]
    },
    {
     "name": "stderr",
     "output_type": "stream",
     "text": [
      "100%|██████████| 512/512 [00:44<00:00, 11.53it/s]\n",
      "  0%|          | 0/512 [00:00<?, ?it/s]"
     ]
    },
    {
     "name": "stdout",
     "output_type": "stream",
     "text": [
      "Loss at step 512: -72.247\n",
      "913\n",
      "Initial loss: 0.641\n"
     ]
    },
    {
     "name": "stderr",
     "output_type": "stream",
     "text": [
      "100%|██████████| 512/512 [00:43<00:00, 11.84it/s]\n",
      "  0%|          | 0/512 [00:00<?, ?it/s]"
     ]
    },
    {
     "name": "stdout",
     "output_type": "stream",
     "text": [
      "Loss at step 512: -147.427\n",
      "914\n",
      "Initial loss: 0.876\n"
     ]
    },
    {
     "name": "stderr",
     "output_type": "stream",
     "text": [
      "100%|██████████| 512/512 [00:44<00:00, 11.60it/s]\n",
      "  0%|          | 0/512 [00:00<?, ?it/s]"
     ]
    },
    {
     "name": "stdout",
     "output_type": "stream",
     "text": [
      "Loss at step 512: -60.020\n",
      "915\n",
      "Initial loss: 1.790\n"
     ]
    },
    {
     "name": "stderr",
     "output_type": "stream",
     "text": [
      "100%|██████████| 512/512 [00:43<00:00, 11.69it/s]\n",
      "  0%|          | 0/512 [00:00<?, ?it/s]"
     ]
    },
    {
     "name": "stdout",
     "output_type": "stream",
     "text": [
      "Loss at step 512: -69.753\n",
      "916\n",
      "Initial loss: 0.860\n"
     ]
    },
    {
     "name": "stderr",
     "output_type": "stream",
     "text": [
      "100%|██████████| 512/512 [00:43<00:00, 11.65it/s]\n",
      "  0%|          | 0/512 [00:00<?, ?it/s]"
     ]
    },
    {
     "name": "stdout",
     "output_type": "stream",
     "text": [
      "Loss at step 512: -90.112\n",
      "917\n",
      "Initial loss: 0.502\n"
     ]
    },
    {
     "name": "stderr",
     "output_type": "stream",
     "text": [
      "100%|██████████| 512/512 [00:43<00:00, 11.65it/s]\n",
      "  0%|          | 0/512 [00:00<?, ?it/s]"
     ]
    },
    {
     "name": "stdout",
     "output_type": "stream",
     "text": [
      "Loss at step 512: -74.228\n",
      "918\n",
      "Initial loss: -0.830\n"
     ]
    },
    {
     "name": "stderr",
     "output_type": "stream",
     "text": [
      "100%|██████████| 512/512 [00:44<00:00, 11.56it/s]\n",
      "  0%|          | 0/512 [00:00<?, ?it/s]"
     ]
    },
    {
     "name": "stdout",
     "output_type": "stream",
     "text": [
      "Loss at step 512: -29.487\n",
      "919\n",
      "Initial loss: 1.292\n"
     ]
    },
    {
     "name": "stderr",
     "output_type": "stream",
     "text": [
      "100%|██████████| 512/512 [00:43<00:00, 11.69it/s]\n",
      "  0%|          | 0/512 [00:00<?, ?it/s]"
     ]
    },
    {
     "name": "stdout",
     "output_type": "stream",
     "text": [
      "Loss at step 512: -72.047\n",
      "920\n",
      "Initial loss: 0.432\n"
     ]
    },
    {
     "name": "stderr",
     "output_type": "stream",
     "text": [
      "100%|██████████| 512/512 [00:44<00:00, 11.54it/s]\n",
      "  0%|          | 0/512 [00:00<?, ?it/s]"
     ]
    },
    {
     "name": "stdout",
     "output_type": "stream",
     "text": [
      "Loss at step 512: -78.010\n",
      "921\n",
      "Initial loss: 0.650\n"
     ]
    },
    {
     "name": "stderr",
     "output_type": "stream",
     "text": [
      "100%|██████████| 512/512 [00:42<00:00, 11.94it/s]\n",
      "  0%|          | 0/512 [00:00<?, ?it/s]"
     ]
    },
    {
     "name": "stdout",
     "output_type": "stream",
     "text": [
      "Loss at step 512: -50.642\n",
      "922\n",
      "Initial loss: 1.102\n"
     ]
    },
    {
     "name": "stderr",
     "output_type": "stream",
     "text": [
      "100%|██████████| 512/512 [00:44<00:00, 11.57it/s]\n",
      "  0%|          | 0/512 [00:00<?, ?it/s]"
     ]
    },
    {
     "name": "stdout",
     "output_type": "stream",
     "text": [
      "Loss at step 512: -73.382\n",
      "923\n",
      "Initial loss: 0.537\n"
     ]
    },
    {
     "name": "stderr",
     "output_type": "stream",
     "text": [
      "100%|██████████| 512/512 [00:44<00:00, 11.58it/s]\n",
      "  0%|          | 0/512 [00:00<?, ?it/s]"
     ]
    },
    {
     "name": "stdout",
     "output_type": "stream",
     "text": [
      "Loss at step 512: -115.374\n",
      "924\n",
      "Initial loss: 0.699\n"
     ]
    },
    {
     "name": "stderr",
     "output_type": "stream",
     "text": [
      "100%|██████████| 512/512 [00:44<00:00, 11.63it/s]\n",
      "  0%|          | 0/512 [00:00<?, ?it/s]"
     ]
    },
    {
     "name": "stdout",
     "output_type": "stream",
     "text": [
      "Loss at step 512: -79.141\n",
      "925\n",
      "Initial loss: 2.481\n"
     ]
    },
    {
     "name": "stderr",
     "output_type": "stream",
     "text": [
      "100%|██████████| 512/512 [00:44<00:00, 11.54it/s]\n",
      "  0%|          | 0/512 [00:00<?, ?it/s]"
     ]
    },
    {
     "name": "stdout",
     "output_type": "stream",
     "text": [
      "Loss at step 512: -59.407\n",
      "926\n",
      "Initial loss: 0.354\n"
     ]
    },
    {
     "name": "stderr",
     "output_type": "stream",
     "text": [
      "100%|██████████| 512/512 [00:44<00:00, 11.57it/s]\n",
      "  0%|          | 0/512 [00:00<?, ?it/s]"
     ]
    },
    {
     "name": "stdout",
     "output_type": "stream",
     "text": [
      "Loss at step 512: -133.451\n",
      "927\n",
      "Initial loss: 0.550\n"
     ]
    },
    {
     "name": "stderr",
     "output_type": "stream",
     "text": [
      "100%|██████████| 512/512 [00:44<00:00, 11.53it/s]\n",
      "  0%|          | 0/512 [00:00<?, ?it/s]"
     ]
    },
    {
     "name": "stdout",
     "output_type": "stream",
     "text": [
      "Loss at step 512: -43.818\n",
      "928\n",
      "Initial loss: 0.788\n"
     ]
    },
    {
     "name": "stderr",
     "output_type": "stream",
     "text": [
      "100%|██████████| 512/512 [00:43<00:00, 11.79it/s]\n",
      "  0%|          | 0/512 [00:00<?, ?it/s]"
     ]
    },
    {
     "name": "stdout",
     "output_type": "stream",
     "text": [
      "Loss at step 512: -66.380\n",
      "929\n",
      "Initial loss: 0.407\n"
     ]
    },
    {
     "name": "stderr",
     "output_type": "stream",
     "text": [
      "100%|██████████| 512/512 [00:43<00:00, 11.64it/s]\n"
     ]
    },
    {
     "name": "stdout",
     "output_type": "stream",
     "text": [
      "Loss at step 512: -67.506\n",
      "930\n"
     ]
    },
    {
     "name": "stderr",
     "output_type": "stream",
     "text": [
      "  0%|          | 2/512 [00:00<00:41, 12.44it/s]"
     ]
    },
    {
     "name": "stdout",
     "output_type": "stream",
     "text": [
      "Initial loss: 1.241\n"
     ]
    },
    {
     "name": "stderr",
     "output_type": "stream",
     "text": [
      "100%|██████████| 512/512 [00:44<00:00, 11.54it/s]\n",
      "  0%|          | 0/512 [00:00<?, ?it/s]"
     ]
    },
    {
     "name": "stdout",
     "output_type": "stream",
     "text": [
      "Loss at step 512: -92.398\n",
      "931\n",
      "Initial loss: 0.491\n"
     ]
    },
    {
     "name": "stderr",
     "output_type": "stream",
     "text": [
      "100%|██████████| 512/512 [00:44<00:00, 11.61it/s]\n",
      "  0%|          | 0/512 [00:00<?, ?it/s]"
     ]
    },
    {
     "name": "stdout",
     "output_type": "stream",
     "text": [
      "Loss at step 512: -59.293\n",
      "932\n",
      "Initial loss: 0.837\n"
     ]
    },
    {
     "name": "stderr",
     "output_type": "stream",
     "text": [
      "100%|██████████| 512/512 [00:44<00:00, 11.59it/s]\n",
      "  0%|          | 0/512 [00:00<?, ?it/s]"
     ]
    },
    {
     "name": "stdout",
     "output_type": "stream",
     "text": [
      "Loss at step 512: -67.227\n",
      "933\n",
      "Initial loss: 1.519\n"
     ]
    },
    {
     "name": "stderr",
     "output_type": "stream",
     "text": [
      "100%|██████████| 512/512 [00:44<00:00, 11.60it/s]\n",
      "  0%|          | 0/512 [00:00<?, ?it/s]"
     ]
    },
    {
     "name": "stdout",
     "output_type": "stream",
     "text": [
      "Loss at step 512: -74.535\n",
      "934\n",
      "Initial loss: 1.250\n"
     ]
    },
    {
     "name": "stderr",
     "output_type": "stream",
     "text": [
      "100%|██████████| 512/512 [00:44<00:00, 11.61it/s]\n",
      "  0%|          | 0/512 [00:00<?, ?it/s]"
     ]
    },
    {
     "name": "stdout",
     "output_type": "stream",
     "text": [
      "Loss at step 512: -60.629\n",
      "935\n",
      "Initial loss: -0.293\n"
     ]
    },
    {
     "name": "stderr",
     "output_type": "stream",
     "text": [
      "100%|██████████| 512/512 [00:44<00:00, 11.58it/s]\n",
      "  0%|          | 0/512 [00:00<?, ?it/s]"
     ]
    },
    {
     "name": "stdout",
     "output_type": "stream",
     "text": [
      "Loss at step 512: -43.635\n",
      "936\n",
      "Initial loss: 0.709\n"
     ]
    },
    {
     "name": "stderr",
     "output_type": "stream",
     "text": [
      "100%|██████████| 512/512 [00:44<00:00, 11.53it/s]\n",
      "  0%|          | 0/512 [00:00<?, ?it/s]"
     ]
    },
    {
     "name": "stdout",
     "output_type": "stream",
     "text": [
      "Loss at step 512: -44.356\n",
      "937\n",
      "Initial loss: 0.318\n"
     ]
    },
    {
     "name": "stderr",
     "output_type": "stream",
     "text": [
      "100%|██████████| 512/512 [00:44<00:00, 11.63it/s]\n",
      "  0%|          | 0/512 [00:00<?, ?it/s]"
     ]
    },
    {
     "name": "stdout",
     "output_type": "stream",
     "text": [
      "Loss at step 512: -71.977\n",
      "938\n",
      "Initial loss: -0.023\n"
     ]
    },
    {
     "name": "stderr",
     "output_type": "stream",
     "text": [
      "100%|██████████| 512/512 [00:42<00:00, 11.96it/s]\n",
      "  0%|          | 0/512 [00:00<?, ?it/s]"
     ]
    },
    {
     "name": "stdout",
     "output_type": "stream",
     "text": [
      "Loss at step 512: -31.642\n",
      "939\n",
      "Initial loss: 0.970\n"
     ]
    },
    {
     "name": "stderr",
     "output_type": "stream",
     "text": [
      "100%|██████████| 512/512 [00:44<00:00, 11.62it/s]\n",
      "  0%|          | 0/512 [00:00<?, ?it/s]"
     ]
    },
    {
     "name": "stdout",
     "output_type": "stream",
     "text": [
      "Loss at step 512: -55.801\n",
      "940\n",
      "Initial loss: 0.666\n"
     ]
    },
    {
     "name": "stderr",
     "output_type": "stream",
     "text": [
      "100%|██████████| 512/512 [00:44<00:00, 11.51it/s]\n",
      "  0%|          | 0/512 [00:00<?, ?it/s]"
     ]
    },
    {
     "name": "stdout",
     "output_type": "stream",
     "text": [
      "Loss at step 512: -103.075\n",
      "941\n",
      "Initial loss: 0.543\n"
     ]
    },
    {
     "name": "stderr",
     "output_type": "stream",
     "text": [
      "100%|██████████| 512/512 [00:44<00:00, 11.46it/s]\n",
      "  0%|          | 0/512 [00:00<?, ?it/s]"
     ]
    },
    {
     "name": "stdout",
     "output_type": "stream",
     "text": [
      "Loss at step 512: -44.480\n",
      "942\n",
      "Initial loss: 0.647\n"
     ]
    },
    {
     "name": "stderr",
     "output_type": "stream",
     "text": [
      "100%|██████████| 512/512 [00:44<00:00, 11.60it/s]\n",
      "  0%|          | 0/512 [00:00<?, ?it/s]"
     ]
    },
    {
     "name": "stdout",
     "output_type": "stream",
     "text": [
      "Loss at step 512: -67.782\n",
      "943\n",
      "Initial loss: 1.139\n"
     ]
    },
    {
     "name": "stderr",
     "output_type": "stream",
     "text": [
      "100%|██████████| 512/512 [00:44<00:00, 11.59it/s]\n",
      "  0%|          | 0/512 [00:00<?, ?it/s]"
     ]
    },
    {
     "name": "stdout",
     "output_type": "stream",
     "text": [
      "Loss at step 512: -34.903\n",
      "944\n",
      "Initial loss: 0.475\n"
     ]
    },
    {
     "name": "stderr",
     "output_type": "stream",
     "text": [
      "100%|██████████| 512/512 [00:43<00:00, 11.68it/s]\n",
      "  0%|          | 0/512 [00:00<?, ?it/s]"
     ]
    },
    {
     "name": "stdout",
     "output_type": "stream",
     "text": [
      "Loss at step 512: -34.708\n",
      "945\n",
      "Initial loss: 0.422\n"
     ]
    },
    {
     "name": "stderr",
     "output_type": "stream",
     "text": [
      "100%|██████████| 512/512 [00:44<00:00, 11.53it/s]\n",
      "  0%|          | 0/512 [00:00<?, ?it/s]"
     ]
    },
    {
     "name": "stdout",
     "output_type": "stream",
     "text": [
      "Loss at step 512: -68.901\n",
      "946\n",
      "Initial loss: 1.217\n"
     ]
    },
    {
     "name": "stderr",
     "output_type": "stream",
     "text": [
      "100%|██████████| 512/512 [00:44<00:00, 11.55it/s]\n",
      "  0%|          | 0/512 [00:00<?, ?it/s]"
     ]
    },
    {
     "name": "stdout",
     "output_type": "stream",
     "text": [
      "Loss at step 512: -93.794\n",
      "947\n",
      "Initial loss: 1.028\n"
     ]
    },
    {
     "name": "stderr",
     "output_type": "stream",
     "text": [
      "100%|██████████| 512/512 [00:44<00:00, 11.58it/s]\n",
      "  0%|          | 0/512 [00:00<?, ?it/s]"
     ]
    },
    {
     "name": "stdout",
     "output_type": "stream",
     "text": [
      "Loss at step 512: -97.472\n",
      "948\n",
      "Initial loss: 0.752\n"
     ]
    },
    {
     "name": "stderr",
     "output_type": "stream",
     "text": [
      "100%|██████████| 512/512 [00:44<00:00, 11.47it/s]\n",
      "  0%|          | 0/512 [00:00<?, ?it/s]"
     ]
    },
    {
     "name": "stdout",
     "output_type": "stream",
     "text": [
      "Loss at step 512: -71.989\n",
      "949\n",
      "Initial loss: -0.056\n"
     ]
    },
    {
     "name": "stderr",
     "output_type": "stream",
     "text": [
      "100%|██████████| 512/512 [00:44<00:00, 11.45it/s]\n",
      "  0%|          | 0/512 [00:00<?, ?it/s]"
     ]
    },
    {
     "name": "stdout",
     "output_type": "stream",
     "text": [
      "Loss at step 512: -75.800\n",
      "950\n",
      "Initial loss: -0.439\n"
     ]
    },
    {
     "name": "stderr",
     "output_type": "stream",
     "text": [
      "100%|██████████| 512/512 [00:42<00:00, 12.12it/s]\n",
      "  0%|          | 0/512 [00:00<?, ?it/s]"
     ]
    },
    {
     "name": "stdout",
     "output_type": "stream",
     "text": [
      "Loss at step 512: -39.381\n",
      "951\n",
      "Initial loss: 0.662\n"
     ]
    },
    {
     "name": "stderr",
     "output_type": "stream",
     "text": [
      "100%|██████████| 512/512 [00:44<00:00, 11.60it/s]\n",
      "  0%|          | 0/512 [00:00<?, ?it/s]"
     ]
    },
    {
     "name": "stdout",
     "output_type": "stream",
     "text": [
      "Loss at step 512: -104.837\n",
      "952\n",
      "Initial loss: 1.054\n"
     ]
    },
    {
     "name": "stderr",
     "output_type": "stream",
     "text": [
      "100%|██████████| 512/512 [00:44<00:00, 11.56it/s]\n",
      "  0%|          | 0/512 [00:00<?, ?it/s]"
     ]
    },
    {
     "name": "stdout",
     "output_type": "stream",
     "text": [
      "Loss at step 512: -80.626\n",
      "953\n",
      "Initial loss: 1.010\n"
     ]
    },
    {
     "name": "stderr",
     "output_type": "stream",
     "text": [
      "100%|██████████| 512/512 [00:43<00:00, 11.82it/s]\n",
      "  0%|          | 0/512 [00:00<?, ?it/s]"
     ]
    },
    {
     "name": "stdout",
     "output_type": "stream",
     "text": [
      "Loss at step 512: -47.404\n",
      "954\n",
      "Initial loss: 1.161\n"
     ]
    },
    {
     "name": "stderr",
     "output_type": "stream",
     "text": [
      "100%|██████████| 512/512 [00:43<00:00, 11.71it/s]\n",
      "  0%|          | 0/512 [00:00<?, ?it/s]"
     ]
    },
    {
     "name": "stdout",
     "output_type": "stream",
     "text": [
      "Loss at step 512: -65.930\n",
      "955\n",
      "Initial loss: 1.352\n"
     ]
    },
    {
     "name": "stderr",
     "output_type": "stream",
     "text": [
      "100%|██████████| 512/512 [00:43<00:00, 11.65it/s]\n",
      "  0%|          | 0/512 [00:00<?, ?it/s]"
     ]
    },
    {
     "name": "stdout",
     "output_type": "stream",
     "text": [
      "Loss at step 512: -154.072\n",
      "956\n",
      "Initial loss: -0.433\n"
     ]
    },
    {
     "name": "stderr",
     "output_type": "stream",
     "text": [
      "100%|██████████| 512/512 [00:43<00:00, 11.64it/s]\n",
      "  0%|          | 0/512 [00:00<?, ?it/s]"
     ]
    },
    {
     "name": "stdout",
     "output_type": "stream",
     "text": [
      "Loss at step 512: -98.069\n",
      "957\n",
      "Initial loss: 0.788\n"
     ]
    },
    {
     "name": "stderr",
     "output_type": "stream",
     "text": [
      "100%|██████████| 512/512 [00:44<00:00, 11.64it/s]\n",
      "  0%|          | 0/512 [00:00<?, ?it/s]"
     ]
    },
    {
     "name": "stdout",
     "output_type": "stream",
     "text": [
      "Loss at step 512: -60.334\n",
      "958\n",
      "Initial loss: 0.561\n"
     ]
    },
    {
     "name": "stderr",
     "output_type": "stream",
     "text": [
      "100%|██████████| 512/512 [00:44<00:00, 11.55it/s]\n",
      "  0%|          | 0/512 [00:00<?, ?it/s]"
     ]
    },
    {
     "name": "stdout",
     "output_type": "stream",
     "text": [
      "Loss at step 512: -56.008\n",
      "959\n",
      "Initial loss: 1.967\n"
     ]
    },
    {
     "name": "stderr",
     "output_type": "stream",
     "text": [
      "100%|██████████| 512/512 [00:44<00:00, 11.52it/s]\n",
      "  0%|          | 0/512 [00:00<?, ?it/s]"
     ]
    },
    {
     "name": "stdout",
     "output_type": "stream",
     "text": [
      "Loss at step 512: -107.244\n",
      "960\n",
      "Initial loss: 1.755\n"
     ]
    },
    {
     "name": "stderr",
     "output_type": "stream",
     "text": [
      "100%|██████████| 512/512 [00:44<00:00, 11.48it/s]\n",
      "  0%|          | 0/512 [00:00<?, ?it/s]"
     ]
    },
    {
     "name": "stdout",
     "output_type": "stream",
     "text": [
      "Loss at step 512: -89.463\n",
      "961\n",
      "Initial loss: 1.082\n"
     ]
    },
    {
     "name": "stderr",
     "output_type": "stream",
     "text": [
      "100%|██████████| 512/512 [00:44<00:00, 11.61it/s]\n",
      "  0%|          | 0/512 [00:00<?, ?it/s]"
     ]
    },
    {
     "name": "stdout",
     "output_type": "stream",
     "text": [
      "Loss at step 512: -49.407\n",
      "962\n",
      "Initial loss: 1.209\n"
     ]
    },
    {
     "name": "stderr",
     "output_type": "stream",
     "text": [
      "100%|██████████| 512/512 [00:44<00:00, 11.61it/s]\n",
      "  0%|          | 0/512 [00:00<?, ?it/s]"
     ]
    },
    {
     "name": "stdout",
     "output_type": "stream",
     "text": [
      "Loss at step 512: -79.424\n",
      "963\n",
      "Initial loss: 0.398\n"
     ]
    },
    {
     "name": "stderr",
     "output_type": "stream",
     "text": [
      "100%|██████████| 512/512 [00:44<00:00, 11.57it/s]\n",
      "  0%|          | 0/512 [00:00<?, ?it/s]"
     ]
    },
    {
     "name": "stdout",
     "output_type": "stream",
     "text": [
      "Loss at step 512: -58.099\n",
      "964\n",
      "Initial loss: 0.230\n"
     ]
    },
    {
     "name": "stderr",
     "output_type": "stream",
     "text": [
      "100%|██████████| 512/512 [00:44<00:00, 11.62it/s]\n",
      "  0%|          | 0/512 [00:00<?, ?it/s]"
     ]
    },
    {
     "name": "stdout",
     "output_type": "stream",
     "text": [
      "Loss at step 512: -85.887\n",
      "965\n",
      "Initial loss: 0.709\n"
     ]
    },
    {
     "name": "stderr",
     "output_type": "stream",
     "text": [
      "100%|██████████| 512/512 [00:44<00:00, 11.54it/s]\n",
      "  0%|          | 0/512 [00:00<?, ?it/s]"
     ]
    },
    {
     "name": "stdout",
     "output_type": "stream",
     "text": [
      "Loss at step 512: -86.607\n",
      "966\n",
      "Initial loss: 1.171\n"
     ]
    },
    {
     "name": "stderr",
     "output_type": "stream",
     "text": [
      "100%|██████████| 512/512 [00:44<00:00, 11.58it/s]\n",
      "  0%|          | 0/512 [00:00<?, ?it/s]"
     ]
    },
    {
     "name": "stdout",
     "output_type": "stream",
     "text": [
      "Loss at step 512: -77.646\n",
      "967\n",
      "Initial loss: 0.925\n"
     ]
    },
    {
     "name": "stderr",
     "output_type": "stream",
     "text": [
      "100%|██████████| 512/512 [00:44<00:00, 11.54it/s]\n",
      "  0%|          | 0/512 [00:00<?, ?it/s]"
     ]
    },
    {
     "name": "stdout",
     "output_type": "stream",
     "text": [
      "Loss at step 512: -138.155\n",
      "968\n",
      "Initial loss: 1.336\n"
     ]
    },
    {
     "name": "stderr",
     "output_type": "stream",
     "text": [
      "100%|██████████| 512/512 [00:44<00:00, 11.61it/s]\n",
      "  0%|          | 0/512 [00:00<?, ?it/s]"
     ]
    },
    {
     "name": "stdout",
     "output_type": "stream",
     "text": [
      "Loss at step 512: -101.319\n",
      "969\n",
      "Initial loss: 0.721\n"
     ]
    },
    {
     "name": "stderr",
     "output_type": "stream",
     "text": [
      "100%|██████████| 512/512 [00:44<00:00, 11.61it/s]\n",
      "  0%|          | 0/512 [00:00<?, ?it/s]"
     ]
    },
    {
     "name": "stdout",
     "output_type": "stream",
     "text": [
      "Loss at step 512: -29.639\n",
      "970\n",
      "Initial loss: 0.168\n"
     ]
    },
    {
     "name": "stderr",
     "output_type": "stream",
     "text": [
      "100%|██████████| 512/512 [00:44<00:00, 11.58it/s]\n",
      "  0%|          | 0/512 [00:00<?, ?it/s]"
     ]
    },
    {
     "name": "stdout",
     "output_type": "stream",
     "text": [
      "Loss at step 512: -93.933\n",
      "971\n",
      "Initial loss: 0.992\n"
     ]
    },
    {
     "name": "stderr",
     "output_type": "stream",
     "text": [
      "100%|██████████| 512/512 [00:44<00:00, 11.57it/s]\n",
      "  0%|          | 0/512 [00:00<?, ?it/s]"
     ]
    },
    {
     "name": "stdout",
     "output_type": "stream",
     "text": [
      "Loss at step 512: -72.461\n",
      "972\n",
      "Initial loss: 0.759\n"
     ]
    },
    {
     "name": "stderr",
     "output_type": "stream",
     "text": [
      "100%|██████████| 512/512 [00:43<00:00, 11.64it/s]\n",
      "  0%|          | 0/512 [00:00<?, ?it/s]"
     ]
    },
    {
     "name": "stdout",
     "output_type": "stream",
     "text": [
      "Loss at step 512: -88.649\n",
      "973\n",
      "Initial loss: 1.014\n"
     ]
    },
    {
     "name": "stderr",
     "output_type": "stream",
     "text": [
      "100%|██████████| 512/512 [00:44<00:00, 11.59it/s]\n",
      "  0%|          | 0/512 [00:00<?, ?it/s]"
     ]
    },
    {
     "name": "stdout",
     "output_type": "stream",
     "text": [
      "Loss at step 512: -111.603\n",
      "974\n",
      "Initial loss: 0.648\n"
     ]
    },
    {
     "name": "stderr",
     "output_type": "stream",
     "text": [
      "100%|██████████| 512/512 [00:44<00:00, 11.52it/s]\n",
      "  0%|          | 0/512 [00:00<?, ?it/s]"
     ]
    },
    {
     "name": "stdout",
     "output_type": "stream",
     "text": [
      "Loss at step 512: -54.945\n",
      "975\n",
      "Initial loss: 0.034\n"
     ]
    },
    {
     "name": "stderr",
     "output_type": "stream",
     "text": [
      "100%|██████████| 512/512 [00:44<00:00, 11.42it/s]\n",
      "  0%|          | 0/512 [00:00<?, ?it/s]"
     ]
    },
    {
     "name": "stdout",
     "output_type": "stream",
     "text": [
      "Loss at step 512: -64.759\n",
      "976\n",
      "Initial loss: 0.766\n"
     ]
    },
    {
     "name": "stderr",
     "output_type": "stream",
     "text": [
      "100%|██████████| 512/512 [00:44<00:00, 11.39it/s]\n",
      "  0%|          | 0/512 [00:00<?, ?it/s]"
     ]
    },
    {
     "name": "stdout",
     "output_type": "stream",
     "text": [
      "Loss at step 512: -61.659\n",
      "977\n",
      "Initial loss: 1.130\n"
     ]
    },
    {
     "name": "stderr",
     "output_type": "stream",
     "text": [
      "100%|██████████| 512/512 [00:44<00:00, 11.56it/s]\n",
      "  0%|          | 0/512 [00:00<?, ?it/s]"
     ]
    },
    {
     "name": "stdout",
     "output_type": "stream",
     "text": [
      "Loss at step 512: -35.145\n",
      "978\n",
      "Initial loss: 0.756\n"
     ]
    },
    {
     "name": "stderr",
     "output_type": "stream",
     "text": [
      "100%|██████████| 512/512 [00:44<00:00, 11.50it/s]\n",
      "  0%|          | 0/512 [00:00<?, ?it/s]"
     ]
    },
    {
     "name": "stdout",
     "output_type": "stream",
     "text": [
      "Loss at step 512: -68.243\n",
      "979\n",
      "Initial loss: -1.100\n"
     ]
    },
    {
     "name": "stderr",
     "output_type": "stream",
     "text": [
      "100%|██████████| 512/512 [00:44<00:00, 11.48it/s]\n",
      "  0%|          | 0/512 [00:00<?, ?it/s]"
     ]
    },
    {
     "name": "stdout",
     "output_type": "stream",
     "text": [
      "Loss at step 512: -39.169\n",
      "980\n",
      "Initial loss: 0.001\n"
     ]
    },
    {
     "name": "stderr",
     "output_type": "stream",
     "text": [
      "100%|██████████| 512/512 [00:44<00:00, 11.46it/s]\n",
      "  0%|          | 0/512 [00:00<?, ?it/s]"
     ]
    },
    {
     "name": "stdout",
     "output_type": "stream",
     "text": [
      "Loss at step 512: -73.268\n",
      "981\n",
      "Initial loss: 0.960\n"
     ]
    },
    {
     "name": "stderr",
     "output_type": "stream",
     "text": [
      "100%|██████████| 512/512 [00:44<00:00, 11.54it/s]\n",
      "  0%|          | 0/512 [00:00<?, ?it/s]"
     ]
    },
    {
     "name": "stdout",
     "output_type": "stream",
     "text": [
      "Loss at step 512: -83.093\n",
      "982\n",
      "Initial loss: 0.884\n"
     ]
    },
    {
     "name": "stderr",
     "output_type": "stream",
     "text": [
      "100%|██████████| 512/512 [00:45<00:00, 11.37it/s]\n",
      "  0%|          | 0/512 [00:00<?, ?it/s]"
     ]
    },
    {
     "name": "stdout",
     "output_type": "stream",
     "text": [
      "Loss at step 512: -74.600\n",
      "983\n",
      "Initial loss: 0.610\n"
     ]
    },
    {
     "name": "stderr",
     "output_type": "stream",
     "text": [
      "100%|██████████| 512/512 [00:45<00:00, 11.35it/s]\n",
      "  0%|          | 0/512 [00:00<?, ?it/s]"
     ]
    },
    {
     "name": "stdout",
     "output_type": "stream",
     "text": [
      "Loss at step 512: -54.515\n",
      "984\n",
      "Initial loss: 0.941\n"
     ]
    },
    {
     "name": "stderr",
     "output_type": "stream",
     "text": [
      "100%|██████████| 512/512 [00:44<00:00, 11.39it/s]\n",
      "  0%|          | 0/512 [00:00<?, ?it/s]"
     ]
    },
    {
     "name": "stdout",
     "output_type": "stream",
     "text": [
      "Loss at step 512: -127.940\n",
      "985\n",
      "Initial loss: 0.580\n"
     ]
    },
    {
     "name": "stderr",
     "output_type": "stream",
     "text": [
      "100%|██████████| 512/512 [00:44<00:00, 11.49it/s]\n",
      "  0%|          | 0/512 [00:00<?, ?it/s]"
     ]
    },
    {
     "name": "stdout",
     "output_type": "stream",
     "text": [
      "Loss at step 512: -85.711\n",
      "986\n",
      "Initial loss: 1.415\n"
     ]
    },
    {
     "name": "stderr",
     "output_type": "stream",
     "text": [
      "100%|██████████| 512/512 [00:44<00:00, 11.44it/s]\n",
      "  0%|          | 0/512 [00:00<?, ?it/s]"
     ]
    },
    {
     "name": "stdout",
     "output_type": "stream",
     "text": [
      "Loss at step 512: -95.673\n",
      "987\n",
      "Initial loss: -0.219\n"
     ]
    },
    {
     "name": "stderr",
     "output_type": "stream",
     "text": [
      "100%|██████████| 512/512 [00:43<00:00, 11.84it/s]\n",
      "  0%|          | 0/512 [00:00<?, ?it/s]"
     ]
    },
    {
     "name": "stdout",
     "output_type": "stream",
     "text": [
      "Loss at step 512: -38.059\n",
      "988\n",
      "Initial loss: 1.597\n"
     ]
    },
    {
     "name": "stderr",
     "output_type": "stream",
     "text": [
      "100%|██████████| 512/512 [00:44<00:00, 11.45it/s]\n",
      "  0%|          | 0/512 [00:00<?, ?it/s]"
     ]
    },
    {
     "name": "stdout",
     "output_type": "stream",
     "text": [
      "Loss at step 512: -122.480\n",
      "989\n",
      "Initial loss: 1.337\n"
     ]
    },
    {
     "name": "stderr",
     "output_type": "stream",
     "text": [
      "100%|██████████| 512/512 [00:45<00:00, 11.35it/s]\n",
      "  0%|          | 0/512 [00:00<?, ?it/s]"
     ]
    },
    {
     "name": "stdout",
     "output_type": "stream",
     "text": [
      "Loss at step 512: -82.812\n",
      "990\n",
      "Initial loss: 0.689\n"
     ]
    },
    {
     "name": "stderr",
     "output_type": "stream",
     "text": [
      "100%|██████████| 512/512 [00:44<00:00, 11.43it/s]\n",
      "  0%|          | 0/512 [00:00<?, ?it/s]"
     ]
    },
    {
     "name": "stdout",
     "output_type": "stream",
     "text": [
      "Loss at step 512: -48.882\n",
      "991\n",
      "Initial loss: 1.983\n"
     ]
    },
    {
     "name": "stderr",
     "output_type": "stream",
     "text": [
      "100%|██████████| 512/512 [00:44<00:00, 11.40it/s]\n",
      "  0%|          | 0/512 [00:00<?, ?it/s]"
     ]
    },
    {
     "name": "stdout",
     "output_type": "stream",
     "text": [
      "Loss at step 512: -53.162\n",
      "992\n",
      "Initial loss: 1.007\n"
     ]
    },
    {
     "name": "stderr",
     "output_type": "stream",
     "text": [
      "100%|██████████| 512/512 [00:45<00:00, 11.37it/s]\n",
      "  0%|          | 0/512 [00:00<?, ?it/s]"
     ]
    },
    {
     "name": "stdout",
     "output_type": "stream",
     "text": [
      "Loss at step 512: -91.976\n",
      "993\n",
      "Initial loss: 1.353\n"
     ]
    },
    {
     "name": "stderr",
     "output_type": "stream",
     "text": [
      "100%|██████████| 512/512 [00:44<00:00, 11.45it/s]\n",
      "  0%|          | 0/512 [00:00<?, ?it/s]"
     ]
    },
    {
     "name": "stdout",
     "output_type": "stream",
     "text": [
      "Loss at step 512: -62.673\n",
      "994\n",
      "Initial loss: 1.517\n"
     ]
    },
    {
     "name": "stderr",
     "output_type": "stream",
     "text": [
      "100%|██████████| 512/512 [00:44<00:00, 11.48it/s]\n",
      "  0%|          | 0/512 [00:00<?, ?it/s]"
     ]
    },
    {
     "name": "stdout",
     "output_type": "stream",
     "text": [
      "Loss at step 512: -80.878\n",
      "995\n",
      "Initial loss: 0.665\n"
     ]
    },
    {
     "name": "stderr",
     "output_type": "stream",
     "text": [
      "100%|██████████| 512/512 [00:44<00:00, 11.48it/s]\n",
      "  0%|          | 0/512 [00:00<?, ?it/s]"
     ]
    },
    {
     "name": "stdout",
     "output_type": "stream",
     "text": [
      "Loss at step 512: -62.055\n",
      "996\n",
      "Initial loss: 0.008\n"
     ]
    },
    {
     "name": "stderr",
     "output_type": "stream",
     "text": [
      "100%|██████████| 512/512 [00:44<00:00, 11.44it/s]\n",
      "  0%|          | 0/512 [00:00<?, ?it/s]"
     ]
    },
    {
     "name": "stdout",
     "output_type": "stream",
     "text": [
      "Loss at step 512: -120.997\n",
      "997\n",
      "Initial loss: 1.091\n"
     ]
    },
    {
     "name": "stderr",
     "output_type": "stream",
     "text": [
      "100%|██████████| 512/512 [00:44<00:00, 11.48it/s]\n",
      "  0%|          | 0/512 [00:00<?, ?it/s]"
     ]
    },
    {
     "name": "stdout",
     "output_type": "stream",
     "text": [
      "Loss at step 512: -66.619\n",
      "998\n",
      "Initial loss: 0.368\n"
     ]
    },
    {
     "name": "stderr",
     "output_type": "stream",
     "text": [
      "100%|██████████| 512/512 [00:45<00:00, 11.35it/s]\n",
      "  0%|          | 0/512 [00:00<?, ?it/s]"
     ]
    },
    {
     "name": "stdout",
     "output_type": "stream",
     "text": [
      "Loss at step 512: -92.968\n",
      "999\n",
      "Initial loss: 0.547\n"
     ]
    },
    {
     "name": "stderr",
     "output_type": "stream",
     "text": [
      "100%|██████████| 512/512 [00:44<00:00, 11.43it/s]\n",
      "  0%|          | 0/512 [00:00<?, ?it/s]"
     ]
    },
    {
     "name": "stdout",
     "output_type": "stream",
     "text": [
      "Loss at step 512: -45.651\n",
      "1000\n",
      "Initial loss: 0.952\n"
     ]
    },
    {
     "name": "stderr",
     "output_type": "stream",
     "text": [
      "100%|██████████| 512/512 [00:45<00:00, 11.32it/s]\n",
      "  0%|          | 0/512 [00:00<?, ?it/s]"
     ]
    },
    {
     "name": "stdout",
     "output_type": "stream",
     "text": [
      "Loss at step 512: -103.864\n",
      "1001\n",
      "Initial loss: 0.567\n"
     ]
    },
    {
     "name": "stderr",
     "output_type": "stream",
     "text": [
      "100%|██████████| 512/512 [00:44<00:00, 11.50it/s]\n",
      "  0%|          | 0/512 [00:00<?, ?it/s]"
     ]
    },
    {
     "name": "stdout",
     "output_type": "stream",
     "text": [
      "Loss at step 512: -40.106\n",
      "1002\n",
      "Initial loss: -2.187\n"
     ]
    },
    {
     "name": "stderr",
     "output_type": "stream",
     "text": [
      "100%|██████████| 512/512 [00:44<00:00, 11.42it/s]\n",
      "  0%|          | 0/512 [00:00<?, ?it/s]"
     ]
    },
    {
     "name": "stdout",
     "output_type": "stream",
     "text": [
      "Loss at step 512: -47.784\n",
      "1003\n",
      "Initial loss: 0.295\n"
     ]
    },
    {
     "name": "stderr",
     "output_type": "stream",
     "text": [
      "100%|██████████| 512/512 [00:44<00:00, 11.53it/s]\n",
      "  0%|          | 0/512 [00:00<?, ?it/s]"
     ]
    },
    {
     "name": "stdout",
     "output_type": "stream",
     "text": [
      "Loss at step 512: -44.261\n",
      "1004\n",
      "Initial loss: 0.312\n"
     ]
    },
    {
     "name": "stderr",
     "output_type": "stream",
     "text": [
      "100%|██████████| 512/512 [00:44<00:00, 11.46it/s]\n",
      "  0%|          | 0/512 [00:00<?, ?it/s]"
     ]
    },
    {
     "name": "stdout",
     "output_type": "stream",
     "text": [
      "Loss at step 512: -91.073\n",
      "1005\n",
      "Initial loss: 1.225\n"
     ]
    },
    {
     "name": "stderr",
     "output_type": "stream",
     "text": [
      "100%|██████████| 512/512 [00:44<00:00, 11.53it/s]\n",
      "  0%|          | 0/512 [00:00<?, ?it/s]"
     ]
    },
    {
     "name": "stdout",
     "output_type": "stream",
     "text": [
      "Loss at step 512: -109.603\n",
      "1006\n",
      "Initial loss: 0.217\n"
     ]
    },
    {
     "name": "stderr",
     "output_type": "stream",
     "text": [
      "100%|██████████| 512/512 [00:44<00:00, 11.51it/s]\n",
      "  0%|          | 0/512 [00:00<?, ?it/s]"
     ]
    },
    {
     "name": "stdout",
     "output_type": "stream",
     "text": [
      "Loss at step 512: -47.354\n",
      "1007\n",
      "Initial loss: -0.186\n"
     ]
    },
    {
     "name": "stderr",
     "output_type": "stream",
     "text": [
      "100%|██████████| 512/512 [00:45<00:00, 11.34it/s]\n",
      "  0%|          | 0/512 [00:00<?, ?it/s]"
     ]
    },
    {
     "name": "stdout",
     "output_type": "stream",
     "text": [
      "Loss at step 512: -49.657\n",
      "1008\n",
      "Initial loss: 1.254\n"
     ]
    },
    {
     "name": "stderr",
     "output_type": "stream",
     "text": [
      "100%|██████████| 512/512 [00:44<00:00, 11.46it/s]\n",
      "  0%|          | 0/512 [00:00<?, ?it/s]"
     ]
    },
    {
     "name": "stdout",
     "output_type": "stream",
     "text": [
      "Loss at step 512: -65.604\n",
      "1009\n",
      "Initial loss: 0.780\n"
     ]
    },
    {
     "name": "stderr",
     "output_type": "stream",
     "text": [
      "100%|██████████| 512/512 [00:44<00:00, 11.42it/s]\n",
      "  0%|          | 0/512 [00:00<?, ?it/s]"
     ]
    },
    {
     "name": "stdout",
     "output_type": "stream",
     "text": [
      "Loss at step 512: -45.666\n",
      "1010\n",
      "Initial loss: 1.040\n"
     ]
    },
    {
     "name": "stderr",
     "output_type": "stream",
     "text": [
      "100%|██████████| 512/512 [00:44<00:00, 11.42it/s]\n",
      "  0%|          | 0/512 [00:00<?, ?it/s]"
     ]
    },
    {
     "name": "stdout",
     "output_type": "stream",
     "text": [
      "Loss at step 512: -93.308\n",
      "1011\n",
      "Initial loss: 1.040\n"
     ]
    },
    {
     "name": "stderr",
     "output_type": "stream",
     "text": [
      "100%|██████████| 512/512 [00:44<00:00, 11.47it/s]\n",
      "  0%|          | 0/512 [00:00<?, ?it/s]"
     ]
    },
    {
     "name": "stdout",
     "output_type": "stream",
     "text": [
      "Loss at step 512: -108.699\n",
      "1012\n",
      "Initial loss: 1.120\n"
     ]
    },
    {
     "name": "stderr",
     "output_type": "stream",
     "text": [
      "100%|██████████| 512/512 [00:45<00:00, 11.36it/s]\n",
      "  0%|          | 0/512 [00:00<?, ?it/s]"
     ]
    },
    {
     "name": "stdout",
     "output_type": "stream",
     "text": [
      "Loss at step 512: -64.336\n",
      "1013\n",
      "Initial loss: 0.893\n"
     ]
    },
    {
     "name": "stderr",
     "output_type": "stream",
     "text": [
      "100%|██████████| 512/512 [00:44<00:00, 11.44it/s]\n",
      "  0%|          | 0/512 [00:00<?, ?it/s]"
     ]
    },
    {
     "name": "stdout",
     "output_type": "stream",
     "text": [
      "Loss at step 512: -86.961\n",
      "1014\n",
      "Initial loss: 1.446\n"
     ]
    },
    {
     "name": "stderr",
     "output_type": "stream",
     "text": [
      "100%|██████████| 512/512 [00:45<00:00, 11.36it/s]\n",
      "  0%|          | 0/512 [00:00<?, ?it/s]"
     ]
    },
    {
     "name": "stdout",
     "output_type": "stream",
     "text": [
      "Loss at step 512: -86.147\n",
      "1015\n",
      "Initial loss: 2.274\n"
     ]
    },
    {
     "name": "stderr",
     "output_type": "stream",
     "text": [
      "100%|██████████| 512/512 [00:44<00:00, 11.44it/s]\n",
      "  0%|          | 0/512 [00:00<?, ?it/s]"
     ]
    },
    {
     "name": "stdout",
     "output_type": "stream",
     "text": [
      "Loss at step 512: -65.060\n",
      "1016\n",
      "Initial loss: 0.464\n"
     ]
    },
    {
     "name": "stderr",
     "output_type": "stream",
     "text": [
      "100%|██████████| 512/512 [00:45<00:00, 11.37it/s]\n",
      "  0%|          | 0/512 [00:00<?, ?it/s]"
     ]
    },
    {
     "name": "stdout",
     "output_type": "stream",
     "text": [
      "Loss at step 512: -75.009\n",
      "1017\n",
      "Initial loss: 0.950\n"
     ]
    },
    {
     "name": "stderr",
     "output_type": "stream",
     "text": [
      "100%|██████████| 512/512 [00:44<00:00, 11.46it/s]\n",
      "  0%|          | 0/512 [00:00<?, ?it/s]"
     ]
    },
    {
     "name": "stdout",
     "output_type": "stream",
     "text": [
      "Loss at step 512: -104.912\n",
      "1018\n",
      "Initial loss: 0.316\n"
     ]
    },
    {
     "name": "stderr",
     "output_type": "stream",
     "text": [
      "100%|██████████| 512/512 [00:44<00:00, 11.53it/s]\n",
      "  0%|          | 0/512 [00:00<?, ?it/s]"
     ]
    },
    {
     "name": "stdout",
     "output_type": "stream",
     "text": [
      "Loss at step 512: -40.269\n",
      "1019\n",
      "Initial loss: 0.357\n"
     ]
    },
    {
     "name": "stderr",
     "output_type": "stream",
     "text": [
      "100%|██████████| 512/512 [00:44<00:00, 11.43it/s]\n",
      "  0%|          | 0/512 [00:00<?, ?it/s]"
     ]
    },
    {
     "name": "stdout",
     "output_type": "stream",
     "text": [
      "Loss at step 512: -52.894\n",
      "1020\n",
      "Initial loss: 1.517\n"
     ]
    },
    {
     "name": "stderr",
     "output_type": "stream",
     "text": [
      "100%|██████████| 512/512 [00:44<00:00, 11.49it/s]\n",
      "  0%|          | 0/512 [00:00<?, ?it/s]"
     ]
    },
    {
     "name": "stdout",
     "output_type": "stream",
     "text": [
      "Loss at step 512: -69.638\n",
      "1021\n",
      "Initial loss: -1.292\n"
     ]
    },
    {
     "name": "stderr",
     "output_type": "stream",
     "text": [
      "100%|██████████| 512/512 [00:44<00:00, 11.45it/s]\n",
      "  0%|          | 0/512 [00:00<?, ?it/s]"
     ]
    },
    {
     "name": "stdout",
     "output_type": "stream",
     "text": [
      "Loss at step 512: -19.806\n",
      "1022\n",
      "Initial loss: -0.270\n"
     ]
    },
    {
     "name": "stderr",
     "output_type": "stream",
     "text": [
      "100%|██████████| 512/512 [00:44<00:00, 11.40it/s]\n",
      "  0%|          | 0/512 [00:00<?, ?it/s]"
     ]
    },
    {
     "name": "stdout",
     "output_type": "stream",
     "text": [
      "Loss at step 512: -69.544\n",
      "1023\n",
      "Initial loss: 1.677\n"
     ]
    },
    {
     "name": "stderr",
     "output_type": "stream",
     "text": [
      "100%|██████████| 512/512 [00:44<00:00, 11.45it/s]\n",
      "  0%|          | 0/512 [00:00<?, ?it/s]"
     ]
    },
    {
     "name": "stdout",
     "output_type": "stream",
     "text": [
      "Loss at step 512: -74.104\n",
      "1024\n",
      "Initial loss: 0.706\n"
     ]
    },
    {
     "name": "stderr",
     "output_type": "stream",
     "text": [
      "100%|██████████| 512/512 [00:44<00:00, 11.45it/s]\n",
      "  0%|          | 0/512 [00:00<?, ?it/s]"
     ]
    },
    {
     "name": "stdout",
     "output_type": "stream",
     "text": [
      "Loss at step 512: -102.390\n",
      "1025\n",
      "Initial loss: 1.729\n"
     ]
    },
    {
     "name": "stderr",
     "output_type": "stream",
     "text": [
      "100%|██████████| 512/512 [00:45<00:00, 11.32it/s]\n",
      "  0%|          | 0/512 [00:00<?, ?it/s]"
     ]
    },
    {
     "name": "stdout",
     "output_type": "stream",
     "text": [
      "Loss at step 512: -86.784\n",
      "1026\n",
      "Initial loss: 1.496\n"
     ]
    },
    {
     "name": "stderr",
     "output_type": "stream",
     "text": [
      "100%|██████████| 512/512 [00:44<00:00, 11.41it/s]\n",
      "  0%|          | 0/512 [00:00<?, ?it/s]"
     ]
    },
    {
     "name": "stdout",
     "output_type": "stream",
     "text": [
      "Loss at step 512: -100.840\n",
      "1027\n",
      "Initial loss: 1.866\n"
     ]
    },
    {
     "name": "stderr",
     "output_type": "stream",
     "text": [
      "100%|██████████| 512/512 [00:44<00:00, 11.38it/s]\n",
      "  0%|          | 0/512 [00:00<?, ?it/s]"
     ]
    },
    {
     "name": "stdout",
     "output_type": "stream",
     "text": [
      "Loss at step 512: -136.021\n",
      "1028\n",
      "Initial loss: 0.242\n"
     ]
    },
    {
     "name": "stderr",
     "output_type": "stream",
     "text": [
      "100%|██████████| 512/512 [00:44<00:00, 11.47it/s]\n",
      "  0%|          | 0/512 [00:00<?, ?it/s]"
     ]
    },
    {
     "name": "stdout",
     "output_type": "stream",
     "text": [
      "Loss at step 512: -80.684\n",
      "1029\n",
      "Initial loss: 0.951\n"
     ]
    },
    {
     "name": "stderr",
     "output_type": "stream",
     "text": [
      "100%|██████████| 512/512 [00:43<00:00, 11.67it/s]\n",
      "  0%|          | 0/512 [00:00<?, ?it/s]"
     ]
    },
    {
     "name": "stdout",
     "output_type": "stream",
     "text": [
      "Loss at step 512: -148.234\n",
      "1030\n",
      "Initial loss: 0.911\n"
     ]
    },
    {
     "name": "stderr",
     "output_type": "stream",
     "text": [
      "100%|██████████| 512/512 [00:45<00:00, 11.30it/s]\n",
      "  0%|          | 0/512 [00:00<?, ?it/s]"
     ]
    },
    {
     "name": "stdout",
     "output_type": "stream",
     "text": [
      "Loss at step 512: -45.998\n",
      "1031\n",
      "Initial loss: 1.458\n"
     ]
    },
    {
     "name": "stderr",
     "output_type": "stream",
     "text": [
      "100%|██████████| 512/512 [00:45<00:00, 11.31it/s]\n",
      "  0%|          | 0/512 [00:00<?, ?it/s]"
     ]
    },
    {
     "name": "stdout",
     "output_type": "stream",
     "text": [
      "Loss at step 512: -72.246\n",
      "1032\n",
      "Initial loss: 0.208\n"
     ]
    },
    {
     "name": "stderr",
     "output_type": "stream",
     "text": [
      "100%|██████████| 512/512 [00:44<00:00, 11.40it/s]\n",
      "  0%|          | 0/512 [00:00<?, ?it/s]"
     ]
    },
    {
     "name": "stdout",
     "output_type": "stream",
     "text": [
      "Loss at step 512: -83.329\n",
      "1033\n",
      "Initial loss: 0.791\n"
     ]
    },
    {
     "name": "stderr",
     "output_type": "stream",
     "text": [
      "100%|██████████| 512/512 [00:45<00:00, 11.31it/s]\n",
      "  0%|          | 0/512 [00:00<?, ?it/s]"
     ]
    },
    {
     "name": "stdout",
     "output_type": "stream",
     "text": [
      "Loss at step 512: -61.219\n",
      "1034\n",
      "Initial loss: -0.022\n"
     ]
    },
    {
     "name": "stderr",
     "output_type": "stream",
     "text": [
      "100%|██████████| 512/512 [00:45<00:00, 11.33it/s]\n",
      "  0%|          | 0/512 [00:00<?, ?it/s]"
     ]
    },
    {
     "name": "stdout",
     "output_type": "stream",
     "text": [
      "Loss at step 512: -100.260\n",
      "1035\n",
      "Initial loss: 0.682\n"
     ]
    },
    {
     "name": "stderr",
     "output_type": "stream",
     "text": [
      "100%|██████████| 512/512 [00:45<00:00, 11.34it/s]\n",
      "  0%|          | 0/512 [00:00<?, ?it/s]"
     ]
    },
    {
     "name": "stdout",
     "output_type": "stream",
     "text": [
      "Loss at step 512: -49.745\n",
      "1036\n",
      "Initial loss: 1.445\n"
     ]
    },
    {
     "name": "stderr",
     "output_type": "stream",
     "text": [
      "100%|██████████| 512/512 [00:44<00:00, 11.45it/s]\n",
      "  0%|          | 0/512 [00:00<?, ?it/s]"
     ]
    },
    {
     "name": "stdout",
     "output_type": "stream",
     "text": [
      "Loss at step 512: -73.749\n",
      "1037\n",
      "Initial loss: 0.294\n"
     ]
    },
    {
     "name": "stderr",
     "output_type": "stream",
     "text": [
      "100%|██████████| 512/512 [00:44<00:00, 11.38it/s]\n",
      "  0%|          | 0/512 [00:00<?, ?it/s]"
     ]
    },
    {
     "name": "stdout",
     "output_type": "stream",
     "text": [
      "Loss at step 512: -64.478\n",
      "1038\n",
      "Initial loss: 0.509\n"
     ]
    },
    {
     "name": "stderr",
     "output_type": "stream",
     "text": [
      "100%|██████████| 512/512 [00:45<00:00, 11.29it/s]\n",
      "  0%|          | 0/512 [00:00<?, ?it/s]"
     ]
    },
    {
     "name": "stdout",
     "output_type": "stream",
     "text": [
      "Loss at step 512: -96.933\n",
      "1039\n",
      "Initial loss: -0.758\n"
     ]
    },
    {
     "name": "stderr",
     "output_type": "stream",
     "text": [
      "100%|██████████| 512/512 [00:45<00:00, 11.34it/s]\n",
      "  0%|          | 0/512 [00:00<?, ?it/s]"
     ]
    },
    {
     "name": "stdout",
     "output_type": "stream",
     "text": [
      "Loss at step 512: -84.702\n",
      "1040\n",
      "Initial loss: 1.164\n"
     ]
    },
    {
     "name": "stderr",
     "output_type": "stream",
     "text": [
      "100%|██████████| 512/512 [00:45<00:00, 11.33it/s]\n",
      "  0%|          | 0/512 [00:00<?, ?it/s]"
     ]
    },
    {
     "name": "stdout",
     "output_type": "stream",
     "text": [
      "Loss at step 512: -83.702\n",
      "1041\n",
      "Initial loss: 0.242\n"
     ]
    },
    {
     "name": "stderr",
     "output_type": "stream",
     "text": [
      "100%|██████████| 512/512 [00:45<00:00, 11.37it/s]\n",
      "  0%|          | 0/512 [00:00<?, ?it/s]"
     ]
    },
    {
     "name": "stdout",
     "output_type": "stream",
     "text": [
      "Loss at step 512: -39.615\n",
      "1042\n",
      "Initial loss: 0.340\n"
     ]
    },
    {
     "name": "stderr",
     "output_type": "stream",
     "text": [
      "100%|██████████| 512/512 [00:45<00:00, 11.27it/s]\n",
      "  0%|          | 0/512 [00:00<?, ?it/s]"
     ]
    },
    {
     "name": "stdout",
     "output_type": "stream",
     "text": [
      "Loss at step 512: -67.626\n",
      "1043\n",
      "Initial loss: 1.070\n"
     ]
    },
    {
     "name": "stderr",
     "output_type": "stream",
     "text": [
      "100%|██████████| 512/512 [00:45<00:00, 11.33it/s]\n",
      "  0%|          | 0/512 [00:00<?, ?it/s]"
     ]
    },
    {
     "name": "stdout",
     "output_type": "stream",
     "text": [
      "Loss at step 512: -113.099\n",
      "1044\n",
      "Initial loss: 1.136\n"
     ]
    },
    {
     "name": "stderr",
     "output_type": "stream",
     "text": [
      "100%|██████████| 512/512 [00:45<00:00, 11.24it/s]\n",
      "  0%|          | 0/512 [00:00<?, ?it/s]"
     ]
    },
    {
     "name": "stdout",
     "output_type": "stream",
     "text": [
      "Loss at step 512: -68.375\n",
      "1045\n",
      "Initial loss: -0.226\n"
     ]
    },
    {
     "name": "stderr",
     "output_type": "stream",
     "text": [
      "100%|██████████| 512/512 [00:45<00:00, 11.17it/s]\n",
      "  0%|          | 0/512 [00:00<?, ?it/s]"
     ]
    },
    {
     "name": "stdout",
     "output_type": "stream",
     "text": [
      "Loss at step 512: -21.052\n",
      "1046\n",
      "Initial loss: 0.635\n"
     ]
    },
    {
     "name": "stderr",
     "output_type": "stream",
     "text": [
      "100%|██████████| 512/512 [00:46<00:00, 11.12it/s]\n",
      "  0%|          | 0/512 [00:00<?, ?it/s]"
     ]
    },
    {
     "name": "stdout",
     "output_type": "stream",
     "text": [
      "Loss at step 512: -81.024\n",
      "1047\n",
      "Initial loss: 0.534\n"
     ]
    },
    {
     "name": "stderr",
     "output_type": "stream",
     "text": [
      "100%|██████████| 512/512 [00:45<00:00, 11.23it/s]\n",
      "  0%|          | 0/512 [00:00<?, ?it/s]"
     ]
    },
    {
     "name": "stdout",
     "output_type": "stream",
     "text": [
      "Loss at step 512: -74.601\n",
      "1048\n",
      "Initial loss: 0.384\n"
     ]
    },
    {
     "name": "stderr",
     "output_type": "stream",
     "text": [
      "100%|██████████| 512/512 [00:45<00:00, 11.20it/s]\n",
      "  0%|          | 0/512 [00:00<?, ?it/s]"
     ]
    },
    {
     "name": "stdout",
     "output_type": "stream",
     "text": [
      "Loss at step 512: -35.980\n",
      "1049\n",
      "Initial loss: 1.007\n"
     ]
    },
    {
     "name": "stderr",
     "output_type": "stream",
     "text": [
      "100%|██████████| 512/512 [00:46<00:00, 11.13it/s]\n",
      "  0%|          | 0/512 [00:00<?, ?it/s]"
     ]
    },
    {
     "name": "stdout",
     "output_type": "stream",
     "text": [
      "Loss at step 512: -83.411\n",
      "1050\n",
      "Initial loss: 0.958\n"
     ]
    },
    {
     "name": "stderr",
     "output_type": "stream",
     "text": [
      "100%|██████████| 512/512 [00:46<00:00, 11.10it/s]\n",
      "  0%|          | 0/512 [00:00<?, ?it/s]"
     ]
    },
    {
     "name": "stdout",
     "output_type": "stream",
     "text": [
      "Loss at step 512: -63.047\n",
      "1051\n",
      "Initial loss: 1.093\n"
     ]
    },
    {
     "name": "stderr",
     "output_type": "stream",
     "text": [
      "100%|██████████| 512/512 [00:45<00:00, 11.18it/s]\n",
      "  0%|          | 0/512 [00:00<?, ?it/s]"
     ]
    },
    {
     "name": "stdout",
     "output_type": "stream",
     "text": [
      "Loss at step 512: -60.552\n",
      "1052\n",
      "Initial loss: 0.401\n"
     ]
    },
    {
     "name": "stderr",
     "output_type": "stream",
     "text": [
      "100%|██████████| 512/512 [00:46<00:00, 11.07it/s]\n",
      "  0%|          | 0/512 [00:00<?, ?it/s]"
     ]
    },
    {
     "name": "stdout",
     "output_type": "stream",
     "text": [
      "Loss at step 512: -57.136\n",
      "1053\n",
      "Initial loss: 0.776\n"
     ]
    },
    {
     "name": "stderr",
     "output_type": "stream",
     "text": [
      "100%|██████████| 512/512 [00:45<00:00, 11.15it/s]\n",
      "  0%|          | 0/512 [00:00<?, ?it/s]"
     ]
    },
    {
     "name": "stdout",
     "output_type": "stream",
     "text": [
      "Loss at step 512: -65.414\n",
      "1054\n",
      "Initial loss: -1.040\n"
     ]
    },
    {
     "name": "stderr",
     "output_type": "stream",
     "text": [
      "100%|██████████| 512/512 [00:45<00:00, 11.17it/s]\n",
      "  0%|          | 0/512 [00:00<?, ?it/s]"
     ]
    },
    {
     "name": "stdout",
     "output_type": "stream",
     "text": [
      "Loss at step 512: -23.998\n",
      "1055\n",
      "Initial loss: 0.721\n"
     ]
    },
    {
     "name": "stderr",
     "output_type": "stream",
     "text": [
      "100%|██████████| 512/512 [00:45<00:00, 11.16it/s]\n",
      "  0%|          | 0/512 [00:00<?, ?it/s]"
     ]
    },
    {
     "name": "stdout",
     "output_type": "stream",
     "text": [
      "Loss at step 512: -99.967\n",
      "1056\n",
      "Initial loss: 1.746\n"
     ]
    },
    {
     "name": "stderr",
     "output_type": "stream",
     "text": [
      "100%|██████████| 512/512 [00:46<00:00, 11.08it/s]\n",
      "  0%|          | 0/512 [00:00<?, ?it/s]"
     ]
    },
    {
     "name": "stdout",
     "output_type": "stream",
     "text": [
      "Loss at step 512: -172.912\n",
      "1057\n",
      "Initial loss: -0.827\n"
     ]
    },
    {
     "name": "stderr",
     "output_type": "stream",
     "text": [
      "100%|██████████| 512/512 [00:46<00:00, 11.06it/s]\n",
      "  0%|          | 0/512 [00:00<?, ?it/s]"
     ]
    },
    {
     "name": "stdout",
     "output_type": "stream",
     "text": [
      "Loss at step 512: -71.219\n",
      "1058\n",
      "Initial loss: 0.008\n"
     ]
    },
    {
     "name": "stderr",
     "output_type": "stream",
     "text": [
      "100%|██████████| 512/512 [00:45<00:00, 11.16it/s]\n",
      "  0%|          | 0/512 [00:00<?, ?it/s]"
     ]
    },
    {
     "name": "stdout",
     "output_type": "stream",
     "text": [
      "Loss at step 512: -42.333\n",
      "1059\n",
      "Initial loss: 0.925\n"
     ]
    },
    {
     "name": "stderr",
     "output_type": "stream",
     "text": [
      "100%|██████████| 512/512 [00:45<00:00, 11.16it/s]\n",
      "  0%|          | 0/512 [00:00<?, ?it/s]"
     ]
    },
    {
     "name": "stdout",
     "output_type": "stream",
     "text": [
      "Loss at step 512: -124.427\n",
      "1060\n",
      "Initial loss: -0.633\n"
     ]
    },
    {
     "name": "stderr",
     "output_type": "stream",
     "text": [
      "100%|██████████| 512/512 [00:46<00:00, 11.09it/s]\n",
      "  0%|          | 0/512 [00:00<?, ?it/s]"
     ]
    },
    {
     "name": "stdout",
     "output_type": "stream",
     "text": [
      "Loss at step 512: -45.936\n",
      "1061\n",
      "Initial loss: 0.397\n"
     ]
    },
    {
     "name": "stderr",
     "output_type": "stream",
     "text": [
      "100%|██████████| 512/512 [00:46<00:00, 11.09it/s]\n",
      "  0%|          | 0/512 [00:00<?, ?it/s]"
     ]
    },
    {
     "name": "stdout",
     "output_type": "stream",
     "text": [
      "Loss at step 512: -54.376\n",
      "1062\n",
      "Initial loss: 0.848\n"
     ]
    },
    {
     "name": "stderr",
     "output_type": "stream",
     "text": [
      "100%|██████████| 512/512 [00:45<00:00, 11.14it/s]\n",
      "  0%|          | 0/512 [00:00<?, ?it/s]"
     ]
    },
    {
     "name": "stdout",
     "output_type": "stream",
     "text": [
      "Loss at step 512: -70.682\n",
      "1063\n",
      "Initial loss: 0.569\n"
     ]
    },
    {
     "name": "stderr",
     "output_type": "stream",
     "text": [
      "100%|██████████| 512/512 [00:45<00:00, 11.15it/s]\n",
      "  0%|          | 0/512 [00:00<?, ?it/s]"
     ]
    },
    {
     "name": "stdout",
     "output_type": "stream",
     "text": [
      "Loss at step 512: -75.395\n",
      "1064\n",
      "Initial loss: 0.379\n"
     ]
    },
    {
     "name": "stderr",
     "output_type": "stream",
     "text": [
      "100%|██████████| 512/512 [00:46<00:00, 11.09it/s]\n",
      "  0%|          | 0/512 [00:00<?, ?it/s]"
     ]
    },
    {
     "name": "stdout",
     "output_type": "stream",
     "text": [
      "Loss at step 512: -48.547\n",
      "1065\n",
      "Initial loss: 1.239\n"
     ]
    },
    {
     "name": "stderr",
     "output_type": "stream",
     "text": [
      "100%|██████████| 512/512 [00:46<00:00, 11.01it/s]\n",
      "  0%|          | 0/512 [00:00<?, ?it/s]"
     ]
    },
    {
     "name": "stdout",
     "output_type": "stream",
     "text": [
      "Loss at step 512: -66.657\n",
      "1066\n",
      "Initial loss: 1.336\n"
     ]
    },
    {
     "name": "stderr",
     "output_type": "stream",
     "text": [
      "100%|██████████| 512/512 [00:45<00:00, 11.17it/s]\n",
      "  0%|          | 0/512 [00:00<?, ?it/s]"
     ]
    },
    {
     "name": "stdout",
     "output_type": "stream",
     "text": [
      "Loss at step 512: -118.206\n",
      "1067\n",
      "Initial loss: 0.976\n"
     ]
    },
    {
     "name": "stderr",
     "output_type": "stream",
     "text": [
      "100%|██████████| 512/512 [00:46<00:00, 11.08it/s]\n",
      "  0%|          | 0/512 [00:00<?, ?it/s]"
     ]
    },
    {
     "name": "stdout",
     "output_type": "stream",
     "text": [
      "Loss at step 512: -69.614\n",
      "1068\n",
      "Initial loss: 0.763\n"
     ]
    },
    {
     "name": "stderr",
     "output_type": "stream",
     "text": [
      "100%|██████████| 512/512 [00:46<00:00, 11.11it/s]\n",
      "  0%|          | 0/512 [00:00<?, ?it/s]"
     ]
    },
    {
     "name": "stdout",
     "output_type": "stream",
     "text": [
      "Loss at step 512: -26.099\n",
      "1069\n",
      "Initial loss: 1.187\n"
     ]
    },
    {
     "name": "stderr",
     "output_type": "stream",
     "text": [
      "100%|██████████| 512/512 [00:46<00:00, 11.08it/s]\n",
      "  0%|          | 0/512 [00:00<?, ?it/s]"
     ]
    },
    {
     "name": "stdout",
     "output_type": "stream",
     "text": [
      "Loss at step 512: -103.608\n",
      "1070\n",
      "Initial loss: 0.745\n"
     ]
    },
    {
     "name": "stderr",
     "output_type": "stream",
     "text": [
      "100%|██████████| 512/512 [00:46<00:00, 11.09it/s]\n",
      "  0%|          | 0/512 [00:00<?, ?it/s]"
     ]
    },
    {
     "name": "stdout",
     "output_type": "stream",
     "text": [
      "Loss at step 512: -95.269\n",
      "1071\n",
      "Initial loss: 3.301\n"
     ]
    },
    {
     "name": "stderr",
     "output_type": "stream",
     "text": [
      "100%|██████████| 512/512 [00:45<00:00, 11.19it/s]\n",
      "  0%|          | 0/512 [00:00<?, ?it/s]"
     ]
    },
    {
     "name": "stdout",
     "output_type": "stream",
     "text": [
      "Loss at step 512: -98.572\n",
      "1072\n",
      "Initial loss: 1.316\n"
     ]
    },
    {
     "name": "stderr",
     "output_type": "stream",
     "text": [
      "100%|██████████| 512/512 [00:46<00:00, 11.12it/s]\n",
      "  0%|          | 0/512 [00:00<?, ?it/s]"
     ]
    },
    {
     "name": "stdout",
     "output_type": "stream",
     "text": [
      "Loss at step 512: -118.341\n",
      "1073\n",
      "Initial loss: 0.860\n"
     ]
    },
    {
     "name": "stderr",
     "output_type": "stream",
     "text": [
      "100%|██████████| 512/512 [00:46<00:00, 11.06it/s]\n",
      "  0%|          | 0/512 [00:00<?, ?it/s]"
     ]
    },
    {
     "name": "stdout",
     "output_type": "stream",
     "text": [
      "Loss at step 512: -98.319\n",
      "1074\n",
      "Initial loss: 0.827\n"
     ]
    },
    {
     "name": "stderr",
     "output_type": "stream",
     "text": [
      "100%|██████████| 512/512 [00:45<00:00, 11.33it/s]\n",
      "  0%|          | 0/512 [00:00<?, ?it/s]"
     ]
    },
    {
     "name": "stdout",
     "output_type": "stream",
     "text": [
      "Loss at step 512: -72.208\n",
      "1075\n",
      "Initial loss: 0.378\n"
     ]
    },
    {
     "name": "stderr",
     "output_type": "stream",
     "text": [
      "100%|██████████| 512/512 [00:46<00:00, 11.08it/s]\n",
      "  0%|          | 0/512 [00:00<?, ?it/s]"
     ]
    },
    {
     "name": "stdout",
     "output_type": "stream",
     "text": [
      "Loss at step 512: -64.147\n",
      "1076\n",
      "Initial loss: 1.329\n"
     ]
    },
    {
     "name": "stderr",
     "output_type": "stream",
     "text": [
      "100%|██████████| 512/512 [00:45<00:00, 11.17it/s]\n",
      "  0%|          | 0/512 [00:00<?, ?it/s]"
     ]
    },
    {
     "name": "stdout",
     "output_type": "stream",
     "text": [
      "Loss at step 512: -105.973\n",
      "1077\n",
      "Initial loss: 1.792\n"
     ]
    },
    {
     "name": "stderr",
     "output_type": "stream",
     "text": [
      "100%|██████████| 512/512 [00:45<00:00, 11.18it/s]\n",
      "  0%|          | 0/512 [00:00<?, ?it/s]"
     ]
    },
    {
     "name": "stdout",
     "output_type": "stream",
     "text": [
      "Loss at step 512: -75.619\n",
      "1078\n",
      "Initial loss: 0.585\n"
     ]
    },
    {
     "name": "stderr",
     "output_type": "stream",
     "text": [
      "100%|██████████| 512/512 [00:46<00:00, 11.10it/s]\n",
      "  0%|          | 0/512 [00:00<?, ?it/s]"
     ]
    },
    {
     "name": "stdout",
     "output_type": "stream",
     "text": [
      "Loss at step 512: -103.490\n",
      "1079\n",
      "Initial loss: 0.636\n"
     ]
    },
    {
     "name": "stderr",
     "output_type": "stream",
     "text": [
      "100%|██████████| 512/512 [00:45<00:00, 11.16it/s]\n",
      "  0%|          | 0/512 [00:00<?, ?it/s]"
     ]
    },
    {
     "name": "stdout",
     "output_type": "stream",
     "text": [
      "Loss at step 512: -50.357\n",
      "1080\n",
      "Initial loss: 0.970\n"
     ]
    },
    {
     "name": "stderr",
     "output_type": "stream",
     "text": [
      "100%|██████████| 512/512 [00:45<00:00, 11.19it/s]\n",
      "  0%|          | 0/512 [00:00<?, ?it/s]"
     ]
    },
    {
     "name": "stdout",
     "output_type": "stream",
     "text": [
      "Loss at step 512: -85.026\n",
      "1081\n",
      "Initial loss: 0.478\n"
     ]
    },
    {
     "name": "stderr",
     "output_type": "stream",
     "text": [
      "100%|██████████| 512/512 [00:46<00:00, 11.08it/s]\n",
      "  0%|          | 0/512 [00:00<?, ?it/s]"
     ]
    },
    {
     "name": "stdout",
     "output_type": "stream",
     "text": [
      "Loss at step 512: -62.445\n",
      "1082\n",
      "Initial loss: 1.161\n"
     ]
    },
    {
     "name": "stderr",
     "output_type": "stream",
     "text": [
      "100%|██████████| 512/512 [00:45<00:00, 11.14it/s]\n",
      "  0%|          | 0/512 [00:00<?, ?it/s]"
     ]
    },
    {
     "name": "stdout",
     "output_type": "stream",
     "text": [
      "Loss at step 512: -88.272\n",
      "1083\n",
      "Initial loss: -0.109\n"
     ]
    },
    {
     "name": "stderr",
     "output_type": "stream",
     "text": [
      "100%|██████████| 512/512 [00:45<00:00, 11.18it/s]\n",
      "  0%|          | 0/512 [00:00<?, ?it/s]"
     ]
    },
    {
     "name": "stdout",
     "output_type": "stream",
     "text": [
      "Loss at step 512: -73.731\n",
      "1084\n",
      "Initial loss: 1.645\n"
     ]
    },
    {
     "name": "stderr",
     "output_type": "stream",
     "text": [
      "100%|██████████| 512/512 [00:45<00:00, 11.15it/s]\n",
      "  0%|          | 0/512 [00:00<?, ?it/s]"
     ]
    },
    {
     "name": "stdout",
     "output_type": "stream",
     "text": [
      "Loss at step 512: -76.822\n",
      "1085\n",
      "Initial loss: 0.729\n"
     ]
    },
    {
     "name": "stderr",
     "output_type": "stream",
     "text": [
      "100%|██████████| 512/512 [00:46<00:00, 11.03it/s]\n",
      "  0%|          | 0/512 [00:00<?, ?it/s]"
     ]
    },
    {
     "name": "stdout",
     "output_type": "stream",
     "text": [
      "Loss at step 512: -50.889\n",
      "1086\n",
      "Initial loss: 0.389\n"
     ]
    },
    {
     "name": "stderr",
     "output_type": "stream",
     "text": [
      "100%|██████████| 512/512 [00:45<00:00, 11.18it/s]\n",
      "  0%|          | 0/512 [00:00<?, ?it/s]"
     ]
    },
    {
     "name": "stdout",
     "output_type": "stream",
     "text": [
      "Loss at step 512: -121.893\n",
      "1087\n",
      "Initial loss: 0.077\n"
     ]
    },
    {
     "name": "stderr",
     "output_type": "stream",
     "text": [
      "100%|██████████| 512/512 [00:44<00:00, 11.54it/s]\n",
      "  0%|          | 0/512 [00:00<?, ?it/s]"
     ]
    },
    {
     "name": "stdout",
     "output_type": "stream",
     "text": [
      "Loss at step 512: -75.167\n",
      "1088\n",
      "Initial loss: 0.921\n"
     ]
    },
    {
     "name": "stderr",
     "output_type": "stream",
     "text": [
      "100%|██████████| 512/512 [00:45<00:00, 11.16it/s]\n",
      "  0%|          | 0/512 [00:00<?, ?it/s]"
     ]
    },
    {
     "name": "stdout",
     "output_type": "stream",
     "text": [
      "Loss at step 512: -54.885\n",
      "1089\n",
      "Initial loss: 1.332\n"
     ]
    },
    {
     "name": "stderr",
     "output_type": "stream",
     "text": [
      "100%|██████████| 512/512 [00:45<00:00, 11.23it/s]\n",
      "  0%|          | 0/512 [00:00<?, ?it/s]"
     ]
    },
    {
     "name": "stdout",
     "output_type": "stream",
     "text": [
      "Loss at step 512: -130.094\n",
      "1090\n",
      "Initial loss: 0.316\n"
     ]
    },
    {
     "name": "stderr",
     "output_type": "stream",
     "text": [
      "100%|██████████| 512/512 [00:46<00:00, 11.06it/s]\n",
      "  0%|          | 0/512 [00:00<?, ?it/s]"
     ]
    },
    {
     "name": "stdout",
     "output_type": "stream",
     "text": [
      "Loss at step 512: -78.538\n",
      "1091\n",
      "Initial loss: 0.448\n"
     ]
    },
    {
     "name": "stderr",
     "output_type": "stream",
     "text": [
      "100%|██████████| 512/512 [00:45<00:00, 11.15it/s]\n",
      "  0%|          | 0/512 [00:00<?, ?it/s]"
     ]
    },
    {
     "name": "stdout",
     "output_type": "stream",
     "text": [
      "Loss at step 512: -127.382\n",
      "1092\n",
      "Initial loss: 1.689\n"
     ]
    },
    {
     "name": "stderr",
     "output_type": "stream",
     "text": [
      "100%|██████████| 512/512 [00:45<00:00, 11.14it/s]\n",
      "  0%|          | 0/512 [00:00<?, ?it/s]"
     ]
    },
    {
     "name": "stdout",
     "output_type": "stream",
     "text": [
      "Loss at step 512: -135.113\n",
      "1093\n",
      "Initial loss: 0.324\n"
     ]
    },
    {
     "name": "stderr",
     "output_type": "stream",
     "text": [
      "100%|██████████| 512/512 [00:46<00:00, 11.06it/s]\n",
      "  0%|          | 0/512 [00:00<?, ?it/s]"
     ]
    },
    {
     "name": "stdout",
     "output_type": "stream",
     "text": [
      "Loss at step 512: -68.005\n",
      "1094\n",
      "Initial loss: 0.794\n"
     ]
    },
    {
     "name": "stderr",
     "output_type": "stream",
     "text": [
      "100%|██████████| 512/512 [00:46<00:00, 11.13it/s]\n",
      "  0%|          | 0/512 [00:00<?, ?it/s]"
     ]
    },
    {
     "name": "stdout",
     "output_type": "stream",
     "text": [
      "Loss at step 512: -51.717\n",
      "1095\n",
      "Initial loss: 1.197\n"
     ]
    },
    {
     "name": "stderr",
     "output_type": "stream",
     "text": [
      "100%|██████████| 512/512 [00:46<00:00, 11.02it/s]\n",
      "  0%|          | 0/512 [00:00<?, ?it/s]"
     ]
    },
    {
     "name": "stdout",
     "output_type": "stream",
     "text": [
      "Loss at step 512: -77.876\n",
      "1096\n",
      "Initial loss: 1.353\n"
     ]
    },
    {
     "name": "stderr",
     "output_type": "stream",
     "text": [
      "100%|██████████| 512/512 [00:46<00:00, 11.10it/s]\n",
      "  0%|          | 0/512 [00:00<?, ?it/s]"
     ]
    },
    {
     "name": "stdout",
     "output_type": "stream",
     "text": [
      "Loss at step 512: -104.223\n",
      "1097\n",
      "Initial loss: 0.397\n"
     ]
    },
    {
     "name": "stderr",
     "output_type": "stream",
     "text": [
      "100%|██████████| 512/512 [00:46<00:00, 11.10it/s]\n",
      "  0%|          | 0/512 [00:00<?, ?it/s]"
     ]
    },
    {
     "name": "stdout",
     "output_type": "stream",
     "text": [
      "Loss at step 512: -37.386\n",
      "1098\n",
      "Initial loss: 0.256\n"
     ]
    },
    {
     "name": "stderr",
     "output_type": "stream",
     "text": [
      "100%|██████████| 512/512 [00:45<00:00, 11.15it/s]\n",
      "  0%|          | 0/512 [00:00<?, ?it/s]"
     ]
    },
    {
     "name": "stdout",
     "output_type": "stream",
     "text": [
      "Loss at step 512: -75.652\n",
      "1099\n",
      "Initial loss: 1.115\n"
     ]
    },
    {
     "name": "stderr",
     "output_type": "stream",
     "text": [
      "100%|██████████| 512/512 [00:46<00:00, 11.12it/s]\n",
      "  0%|          | 0/512 [00:00<?, ?it/s]"
     ]
    },
    {
     "name": "stdout",
     "output_type": "stream",
     "text": [
      "Loss at step 512: -88.289\n",
      "1100\n",
      "Initial loss: 0.664\n"
     ]
    },
    {
     "name": "stderr",
     "output_type": "stream",
     "text": [
      "100%|██████████| 512/512 [00:45<00:00, 11.15it/s]\n",
      "  0%|          | 0/512 [00:00<?, ?it/s]"
     ]
    },
    {
     "name": "stdout",
     "output_type": "stream",
     "text": [
      "Loss at step 512: -70.534\n",
      "1101\n",
      "Initial loss: 0.702\n"
     ]
    },
    {
     "name": "stderr",
     "output_type": "stream",
     "text": [
      "100%|██████████| 512/512 [00:46<00:00, 11.12it/s]\n",
      "  0%|          | 0/512 [00:00<?, ?it/s]"
     ]
    },
    {
     "name": "stdout",
     "output_type": "stream",
     "text": [
      "Loss at step 512: -71.914\n",
      "1102\n",
      "Initial loss: 1.481\n"
     ]
    },
    {
     "name": "stderr",
     "output_type": "stream",
     "text": [
      "100%|██████████| 512/512 [00:46<00:00, 11.08it/s]\n",
      "  0%|          | 0/512 [00:00<?, ?it/s]"
     ]
    },
    {
     "name": "stdout",
     "output_type": "stream",
     "text": [
      "Loss at step 512: -94.248\n",
      "1103\n",
      "Initial loss: 0.845\n"
     ]
    },
    {
     "name": "stderr",
     "output_type": "stream",
     "text": [
      "100%|██████████| 512/512 [00:46<00:00, 11.12it/s]\n",
      "  0%|          | 0/512 [00:00<?, ?it/s]"
     ]
    },
    {
     "name": "stdout",
     "output_type": "stream",
     "text": [
      "Loss at step 512: -76.625\n",
      "1104\n",
      "Initial loss: 1.324\n"
     ]
    },
    {
     "name": "stderr",
     "output_type": "stream",
     "text": [
      "100%|██████████| 512/512 [00:46<00:00, 11.09it/s]\n",
      "  0%|          | 0/512 [00:00<?, ?it/s]"
     ]
    },
    {
     "name": "stdout",
     "output_type": "stream",
     "text": [
      "Loss at step 512: -51.470\n",
      "1105\n",
      "Initial loss: 1.266\n"
     ]
    },
    {
     "name": "stderr",
     "output_type": "stream",
     "text": [
      "100%|██████████| 512/512 [00:45<00:00, 11.15it/s]\n",
      "  0%|          | 0/512 [00:00<?, ?it/s]"
     ]
    },
    {
     "name": "stdout",
     "output_type": "stream",
     "text": [
      "Loss at step 512: -51.119\n",
      "1106\n",
      "Initial loss: -0.664\n"
     ]
    },
    {
     "name": "stderr",
     "output_type": "stream",
     "text": [
      "100%|██████████| 512/512 [00:46<00:00, 11.03it/s]\n",
      "  0%|          | 0/512 [00:00<?, ?it/s]"
     ]
    },
    {
     "name": "stdout",
     "output_type": "stream",
     "text": [
      "Loss at step 512: -75.554\n",
      "1107\n",
      "Initial loss: 1.101\n"
     ]
    },
    {
     "name": "stderr",
     "output_type": "stream",
     "text": [
      "100%|██████████| 512/512 [00:44<00:00, 11.40it/s]\n",
      "  0%|          | 0/512 [00:00<?, ?it/s]"
     ]
    },
    {
     "name": "stdout",
     "output_type": "stream",
     "text": [
      "Loss at step 512: -84.970\n",
      "1108\n",
      "Initial loss: 0.398\n"
     ]
    },
    {
     "name": "stderr",
     "output_type": "stream",
     "text": [
      "100%|██████████| 512/512 [00:45<00:00, 11.16it/s]\n",
      "  0%|          | 0/512 [00:00<?, ?it/s]"
     ]
    },
    {
     "name": "stdout",
     "output_type": "stream",
     "text": [
      "Loss at step 512: -66.819\n",
      "1109\n",
      "Initial loss: 0.716\n"
     ]
    },
    {
     "name": "stderr",
     "output_type": "stream",
     "text": [
      "100%|██████████| 512/512 [00:46<00:00, 11.04it/s]\n",
      "  0%|          | 0/512 [00:00<?, ?it/s]"
     ]
    },
    {
     "name": "stdout",
     "output_type": "stream",
     "text": [
      "Loss at step 512: -69.294\n",
      "1110\n",
      "Initial loss: 0.559\n"
     ]
    },
    {
     "name": "stderr",
     "output_type": "stream",
     "text": [
      "100%|██████████| 512/512 [00:46<00:00, 11.08it/s]\n",
      "  0%|          | 0/512 [00:00<?, ?it/s]"
     ]
    },
    {
     "name": "stdout",
     "output_type": "stream",
     "text": [
      "Loss at step 512: -48.510\n",
      "1111\n",
      "Initial loss: 0.745\n"
     ]
    },
    {
     "name": "stderr",
     "output_type": "stream",
     "text": [
      "100%|██████████| 512/512 [00:44<00:00, 11.40it/s]\n",
      "  0%|          | 0/512 [00:00<?, ?it/s]"
     ]
    },
    {
     "name": "stdout",
     "output_type": "stream",
     "text": [
      "Loss at step 512: -48.632\n",
      "1112\n",
      "Initial loss: 0.340\n"
     ]
    },
    {
     "name": "stderr",
     "output_type": "stream",
     "text": [
      "100%|██████████| 512/512 [00:46<00:00, 11.07it/s]\n",
      "  0%|          | 0/512 [00:00<?, ?it/s]"
     ]
    },
    {
     "name": "stdout",
     "output_type": "stream",
     "text": [
      "Loss at step 512: -64.793\n",
      "1113\n",
      "Initial loss: 0.865\n"
     ]
    },
    {
     "name": "stderr",
     "output_type": "stream",
     "text": [
      "100%|██████████| 512/512 [00:46<00:00, 11.10it/s]\n",
      "  0%|          | 0/512 [00:00<?, ?it/s]"
     ]
    },
    {
     "name": "stdout",
     "output_type": "stream",
     "text": [
      "Loss at step 512: -71.344\n",
      "1114\n",
      "Initial loss: -0.297\n"
     ]
    },
    {
     "name": "stderr",
     "output_type": "stream",
     "text": [
      "100%|██████████| 512/512 [00:45<00:00, 11.19it/s]\n",
      "  0%|          | 0/512 [00:00<?, ?it/s]"
     ]
    },
    {
     "name": "stdout",
     "output_type": "stream",
     "text": [
      "Loss at step 512: -68.826\n",
      "1115\n",
      "Initial loss: 1.342\n"
     ]
    },
    {
     "name": "stderr",
     "output_type": "stream",
     "text": [
      "100%|██████████| 512/512 [00:45<00:00, 11.17it/s]\n",
      "  0%|          | 0/512 [00:00<?, ?it/s]"
     ]
    },
    {
     "name": "stdout",
     "output_type": "stream",
     "text": [
      "Loss at step 512: -77.934\n",
      "1116\n",
      "Initial loss: 0.917\n"
     ]
    },
    {
     "name": "stderr",
     "output_type": "stream",
     "text": [
      "100%|██████████| 512/512 [00:45<00:00, 11.14it/s]\n",
      "  0%|          | 0/512 [00:00<?, ?it/s]"
     ]
    },
    {
     "name": "stdout",
     "output_type": "stream",
     "text": [
      "Loss at step 512: -72.768\n",
      "1117\n",
      "Initial loss: 1.120\n"
     ]
    },
    {
     "name": "stderr",
     "output_type": "stream",
     "text": [
      "100%|██████████| 512/512 [00:46<00:00, 11.06it/s]\n",
      "  0%|          | 0/512 [00:00<?, ?it/s]"
     ]
    },
    {
     "name": "stdout",
     "output_type": "stream",
     "text": [
      "Loss at step 512: -89.471\n",
      "1118\n",
      "Initial loss: 0.736\n"
     ]
    },
    {
     "name": "stderr",
     "output_type": "stream",
     "text": [
      "100%|██████████| 512/512 [00:45<00:00, 11.20it/s]\n",
      "  0%|          | 0/512 [00:00<?, ?it/s]"
     ]
    },
    {
     "name": "stdout",
     "output_type": "stream",
     "text": [
      "Loss at step 512: -85.319\n",
      "1119\n",
      "Initial loss: 0.611\n"
     ]
    },
    {
     "name": "stderr",
     "output_type": "stream",
     "text": [
      "100%|██████████| 512/512 [00:46<00:00, 11.05it/s]\n",
      "  0%|          | 0/512 [00:00<?, ?it/s]"
     ]
    },
    {
     "name": "stdout",
     "output_type": "stream",
     "text": [
      "Loss at step 512: -44.793\n",
      "1120\n",
      "Initial loss: 0.908\n"
     ]
    },
    {
     "name": "stderr",
     "output_type": "stream",
     "text": [
      "100%|██████████| 512/512 [00:46<00:00, 11.02it/s]\n",
      "  0%|          | 0/512 [00:00<?, ?it/s]"
     ]
    },
    {
     "name": "stdout",
     "output_type": "stream",
     "text": [
      "Loss at step 512: -103.748\n",
      "1121\n",
      "Initial loss: 0.717\n"
     ]
    },
    {
     "name": "stderr",
     "output_type": "stream",
     "text": [
      "100%|██████████| 512/512 [00:46<00:00, 11.13it/s]\n",
      "  0%|          | 0/512 [00:00<?, ?it/s]"
     ]
    },
    {
     "name": "stdout",
     "output_type": "stream",
     "text": [
      "Loss at step 512: -83.009\n",
      "1122\n",
      "Initial loss: 0.593\n"
     ]
    },
    {
     "name": "stderr",
     "output_type": "stream",
     "text": [
      "100%|██████████| 512/512 [00:46<00:00, 11.04it/s]\n",
      "  0%|          | 0/512 [00:00<?, ?it/s]"
     ]
    },
    {
     "name": "stdout",
     "output_type": "stream",
     "text": [
      "Loss at step 512: -44.331\n",
      "1123\n",
      "Initial loss: 1.042\n"
     ]
    },
    {
     "name": "stderr",
     "output_type": "stream",
     "text": [
      "100%|██████████| 512/512 [00:46<00:00, 11.12it/s]\n",
      "  0%|          | 0/512 [00:00<?, ?it/s]"
     ]
    },
    {
     "name": "stdout",
     "output_type": "stream",
     "text": [
      "Loss at step 512: -122.535\n",
      "1124\n",
      "Initial loss: 0.686\n"
     ]
    },
    {
     "name": "stderr",
     "output_type": "stream",
     "text": [
      "100%|██████████| 512/512 [00:46<00:00, 10.99it/s]\n",
      "  0%|          | 0/512 [00:00<?, ?it/s]"
     ]
    },
    {
     "name": "stdout",
     "output_type": "stream",
     "text": [
      "Loss at step 512: -53.679\n",
      "1125\n",
      "Initial loss: 0.370\n"
     ]
    },
    {
     "name": "stderr",
     "output_type": "stream",
     "text": [
      "100%|██████████| 512/512 [00:46<00:00, 10.99it/s]\n",
      "  0%|          | 0/512 [00:00<?, ?it/s]"
     ]
    },
    {
     "name": "stdout",
     "output_type": "stream",
     "text": [
      "Loss at step 512: -55.505\n",
      "1126\n",
      "Initial loss: 0.157\n"
     ]
    },
    {
     "name": "stderr",
     "output_type": "stream",
     "text": [
      "100%|██████████| 512/512 [00:46<00:00, 11.03it/s]\n",
      "  0%|          | 0/512 [00:00<?, ?it/s]"
     ]
    },
    {
     "name": "stdout",
     "output_type": "stream",
     "text": [
      "Loss at step 512: -46.281\n",
      "1127\n",
      "Initial loss: 0.279\n"
     ]
    },
    {
     "name": "stderr",
     "output_type": "stream",
     "text": [
      "100%|██████████| 512/512 [00:46<00:00, 10.96it/s]\n",
      "  0%|          | 0/512 [00:00<?, ?it/s]"
     ]
    },
    {
     "name": "stdout",
     "output_type": "stream",
     "text": [
      "Loss at step 512: -96.263\n",
      "1128\n",
      "Initial loss: 0.695\n"
     ]
    },
    {
     "name": "stderr",
     "output_type": "stream",
     "text": [
      "100%|██████████| 512/512 [00:46<00:00, 11.02it/s]\n",
      "  0%|          | 0/512 [00:00<?, ?it/s]"
     ]
    },
    {
     "name": "stdout",
     "output_type": "stream",
     "text": [
      "Loss at step 512: -72.485\n",
      "1129\n",
      "Initial loss: 1.587\n"
     ]
    },
    {
     "name": "stderr",
     "output_type": "stream",
     "text": [
      "100%|██████████| 512/512 [00:46<00:00, 10.99it/s]\n",
      "  0%|          | 0/512 [00:00<?, ?it/s]"
     ]
    },
    {
     "name": "stdout",
     "output_type": "stream",
     "text": [
      "Loss at step 512: -59.470\n",
      "1130\n",
      "Initial loss: 0.477\n"
     ]
    },
    {
     "name": "stderr",
     "output_type": "stream",
     "text": [
      "100%|██████████| 512/512 [00:46<00:00, 10.99it/s]\n",
      "  0%|          | 0/512 [00:00<?, ?it/s]"
     ]
    },
    {
     "name": "stdout",
     "output_type": "stream",
     "text": [
      "Loss at step 512: -52.995\n",
      "1131\n",
      "Initial loss: 1.283\n"
     ]
    },
    {
     "name": "stderr",
     "output_type": "stream",
     "text": [
      "100%|██████████| 512/512 [00:45<00:00, 11.15it/s]\n",
      "  0%|          | 0/512 [00:00<?, ?it/s]"
     ]
    },
    {
     "name": "stdout",
     "output_type": "stream",
     "text": [
      "Loss at step 512: -81.323\n",
      "1132\n",
      "Initial loss: 0.229\n"
     ]
    },
    {
     "name": "stderr",
     "output_type": "stream",
     "text": [
      "100%|██████████| 512/512 [00:45<00:00, 11.19it/s]\n",
      "  0%|          | 0/512 [00:00<?, ?it/s]"
     ]
    },
    {
     "name": "stdout",
     "output_type": "stream",
     "text": [
      "Loss at step 512: -48.724\n",
      "1133\n",
      "Initial loss: 1.014\n"
     ]
    },
    {
     "name": "stderr",
     "output_type": "stream",
     "text": [
      "100%|██████████| 512/512 [00:45<00:00, 11.25it/s]\n",
      "  0%|          | 0/512 [00:00<?, ?it/s]"
     ]
    },
    {
     "name": "stdout",
     "output_type": "stream",
     "text": [
      "Loss at step 512: -65.625\n",
      "1134\n",
      "Initial loss: 0.867\n"
     ]
    },
    {
     "name": "stderr",
     "output_type": "stream",
     "text": [
      "100%|██████████| 512/512 [00:46<00:00, 11.04it/s]\n",
      "  0%|          | 0/512 [00:00<?, ?it/s]"
     ]
    },
    {
     "name": "stdout",
     "output_type": "stream",
     "text": [
      "Loss at step 512: -50.267\n",
      "1135\n",
      "Initial loss: 1.166\n"
     ]
    },
    {
     "name": "stderr",
     "output_type": "stream",
     "text": [
      "100%|██████████| 512/512 [00:46<00:00, 11.06it/s]\n",
      "  0%|          | 0/512 [00:00<?, ?it/s]"
     ]
    },
    {
     "name": "stdout",
     "output_type": "stream",
     "text": [
      "Loss at step 512: -78.488\n",
      "1136\n",
      "Initial loss: 0.134\n"
     ]
    },
    {
     "name": "stderr",
     "output_type": "stream",
     "text": [
      "100%|██████████| 512/512 [00:45<00:00, 11.14it/s]\n",
      "  0%|          | 0/512 [00:00<?, ?it/s]"
     ]
    },
    {
     "name": "stdout",
     "output_type": "stream",
     "text": [
      "Loss at step 512: -62.672\n",
      "1137\n",
      "Initial loss: 0.647\n"
     ]
    },
    {
     "name": "stderr",
     "output_type": "stream",
     "text": [
      "100%|██████████| 512/512 [00:45<00:00, 11.16it/s]\n",
      "  0%|          | 0/512 [00:00<?, ?it/s]"
     ]
    },
    {
     "name": "stdout",
     "output_type": "stream",
     "text": [
      "Loss at step 512: -86.125\n",
      "1138\n",
      "Initial loss: 0.782\n"
     ]
    },
    {
     "name": "stderr",
     "output_type": "stream",
     "text": [
      "100%|██████████| 512/512 [00:46<00:00, 11.11it/s]\n",
      "  0%|          | 0/512 [00:00<?, ?it/s]"
     ]
    },
    {
     "name": "stdout",
     "output_type": "stream",
     "text": [
      "Loss at step 512: -66.747\n",
      "1139\n",
      "Initial loss: 1.049\n"
     ]
    },
    {
     "name": "stderr",
     "output_type": "stream",
     "text": [
      "100%|██████████| 512/512 [00:46<00:00, 11.04it/s]\n",
      "  0%|          | 0/512 [00:00<?, ?it/s]"
     ]
    },
    {
     "name": "stdout",
     "output_type": "stream",
     "text": [
      "Loss at step 512: -71.433\n",
      "1140\n",
      "Initial loss: 0.776\n"
     ]
    },
    {
     "name": "stderr",
     "output_type": "stream",
     "text": [
      "100%|██████████| 512/512 [00:46<00:00, 11.07it/s]\n",
      "  0%|          | 0/512 [00:00<?, ?it/s]"
     ]
    },
    {
     "name": "stdout",
     "output_type": "stream",
     "text": [
      "Loss at step 512: -33.635\n",
      "1141\n",
      "Initial loss: 1.661\n"
     ]
    },
    {
     "name": "stderr",
     "output_type": "stream",
     "text": [
      "100%|██████████| 512/512 [00:46<00:00, 11.10it/s]\n",
      "  0%|          | 0/512 [00:00<?, ?it/s]"
     ]
    },
    {
     "name": "stdout",
     "output_type": "stream",
     "text": [
      "Loss at step 512: -122.563\n",
      "1142\n",
      "Initial loss: 1.337\n"
     ]
    },
    {
     "name": "stderr",
     "output_type": "stream",
     "text": [
      "100%|██████████| 512/512 [00:45<00:00, 11.27it/s]\n",
      "  0%|          | 0/512 [00:00<?, ?it/s]"
     ]
    },
    {
     "name": "stdout",
     "output_type": "stream",
     "text": [
      "Loss at step 512: -46.736\n",
      "1143\n",
      "Initial loss: 1.165\n"
     ]
    },
    {
     "name": "stderr",
     "output_type": "stream",
     "text": [
      "100%|██████████| 512/512 [00:43<00:00, 11.69it/s]\n",
      "  0%|          | 0/512 [00:00<?, ?it/s]"
     ]
    },
    {
     "name": "stdout",
     "output_type": "stream",
     "text": [
      "Loss at step 512: -105.431\n",
      "1144\n",
      "Initial loss: 0.004\n"
     ]
    },
    {
     "name": "stderr",
     "output_type": "stream",
     "text": [
      "100%|██████████| 512/512 [00:46<00:00, 10.94it/s]\n",
      "  0%|          | 0/512 [00:00<?, ?it/s]"
     ]
    },
    {
     "name": "stdout",
     "output_type": "stream",
     "text": [
      "Loss at step 512: -85.826\n",
      "1145\n",
      "Initial loss: 1.063\n"
     ]
    },
    {
     "name": "stderr",
     "output_type": "stream",
     "text": [
      "100%|██████████| 512/512 [00:46<00:00, 11.02it/s]\n",
      "  0%|          | 0/512 [00:00<?, ?it/s]"
     ]
    },
    {
     "name": "stdout",
     "output_type": "stream",
     "text": [
      "Loss at step 512: -77.450\n",
      "1146\n",
      "Initial loss: 0.917\n"
     ]
    },
    {
     "name": "stderr",
     "output_type": "stream",
     "text": [
      "100%|██████████| 512/512 [00:46<00:00, 11.07it/s]\n",
      "  0%|          | 0/512 [00:00<?, ?it/s]"
     ]
    },
    {
     "name": "stdout",
     "output_type": "stream",
     "text": [
      "Loss at step 512: -42.755\n",
      "1147\n",
      "Initial loss: 0.826\n"
     ]
    },
    {
     "name": "stderr",
     "output_type": "stream",
     "text": [
      "100%|██████████| 512/512 [00:45<00:00, 11.14it/s]\n",
      "  0%|          | 0/512 [00:00<?, ?it/s]"
     ]
    },
    {
     "name": "stdout",
     "output_type": "stream",
     "text": [
      "Loss at step 512: -63.561\n",
      "1148\n",
      "Initial loss: 0.405\n"
     ]
    },
    {
     "name": "stderr",
     "output_type": "stream",
     "text": [
      "100%|██████████| 512/512 [00:45<00:00, 11.17it/s]\n",
      "  0%|          | 0/512 [00:00<?, ?it/s]"
     ]
    },
    {
     "name": "stdout",
     "output_type": "stream",
     "text": [
      "Loss at step 512: -53.343\n",
      "1149\n",
      "Initial loss: 0.068\n"
     ]
    },
    {
     "name": "stderr",
     "output_type": "stream",
     "text": [
      "100%|██████████| 512/512 [00:46<00:00, 11.11it/s]\n",
      "  0%|          | 0/512 [00:00<?, ?it/s]"
     ]
    },
    {
     "name": "stdout",
     "output_type": "stream",
     "text": [
      "Loss at step 512: -37.638\n",
      "1150\n",
      "Initial loss: 0.646\n"
     ]
    },
    {
     "name": "stderr",
     "output_type": "stream",
     "text": [
      "100%|██████████| 512/512 [00:46<00:00, 11.08it/s]\n",
      "  0%|          | 0/512 [00:00<?, ?it/s]"
     ]
    },
    {
     "name": "stdout",
     "output_type": "stream",
     "text": [
      "Loss at step 512: -130.235\n",
      "1151\n",
      "Initial loss: 0.809\n"
     ]
    },
    {
     "name": "stderr",
     "output_type": "stream",
     "text": [
      "100%|██████████| 512/512 [00:45<00:00, 11.22it/s]\n"
     ]
    },
    {
     "name": "stdout",
     "output_type": "stream",
     "text": [
      "Loss at step 512: -140.248\n",
      "1152\n"
     ]
    },
    {
     "ename": "UnboundLocalError",
     "evalue": "local variable 'layer' referenced before assignment",
     "output_type": "error",
     "traceback": [
      "\u001b[0;31m---------------------------------------------------------------------------\u001b[0m",
      "\u001b[0;31mUnboundLocalError\u001b[0m                         Traceback (most recent call last)",
      "\u001b[0;32m<ipython-input-29-f6dc753676c1>\u001b[0m in \u001b[0;36m<module>\u001b[0;34m\u001b[0m\n\u001b[1;32m      6\u001b[0m \u001b[0;32mfor\u001b[0m \u001b[0mnode\u001b[0m \u001b[0;32min\u001b[0m \u001b[0mrange\u001b[0m\u001b[0;34m(\u001b[0m\u001b[0;36m64\u001b[0m\u001b[0;34m,\u001b[0m\u001b[0;36m1153\u001b[0m\u001b[0;34m)\u001b[0m\u001b[0;34m:\u001b[0m\u001b[0;34m\u001b[0m\u001b[0;34m\u001b[0m\u001b[0m\n\u001b[1;32m      7\u001b[0m     \u001b[0mprint\u001b[0m\u001b[0;34m(\u001b[0m\u001b[0mnode\u001b[0m\u001b[0;34m)\u001b[0m\u001b[0;34m\u001b[0m\u001b[0;34m\u001b[0m\u001b[0m\n\u001b[0;32m----> 8\u001b[0;31m     \u001b[0mlayer_num\u001b[0m\u001b[0;34m,\u001b[0m\u001b[0mper_layer_id\u001b[0m\u001b[0;34m,\u001b[0m\u001b[0mlayer_name\u001b[0m\u001b[0;34m=\u001b[0m\u001b[0mnodeid_2_perlayerid\u001b[0m\u001b[0;34m(\u001b[0m\u001b[0mnode\u001b[0m\u001b[0;34m,\u001b[0m\u001b[0mparams\u001b[0m\u001b[0;34m)\u001b[0m\u001b[0;34m\u001b[0m\u001b[0;34m\u001b[0m\u001b[0m\n\u001b[0m\u001b[1;32m      9\u001b[0m     \u001b[0mparam_f\u001b[0m \u001b[0;34m=\u001b[0m \u001b[0;32mlambda\u001b[0m\u001b[0;34m:\u001b[0m \u001b[0mparam\u001b[0m\u001b[0;34m.\u001b[0m\u001b[0mimage\u001b[0m\u001b[0;34m(\u001b[0m\u001b[0;36m224\u001b[0m\u001b[0;34m,\u001b[0m\u001b[0mbatch\u001b[0m\u001b[0;34m=\u001b[0m\u001b[0;36m1\u001b[0m\u001b[0;34m)\u001b[0m\u001b[0;34m\u001b[0m\u001b[0;34m\u001b[0m\u001b[0m\n\u001b[1;32m     10\u001b[0m     \u001b[0mobj\u001b[0m \u001b[0;34m=\u001b[0m \u001b[0mobjectives\u001b[0m\u001b[0;34m.\u001b[0m\u001b[0mneuron\u001b[0m\u001b[0;34m(\u001b[0m\u001b[0mlayer_name\u001b[0m\u001b[0;34m,\u001b[0m\u001b[0mper_layer_id\u001b[0m\u001b[0;34m,\u001b[0m\u001b[0mbatch\u001b[0m\u001b[0;34m=\u001b[0m\u001b[0;36m0\u001b[0m\u001b[0;34m)\u001b[0m\u001b[0;34m\u001b[0m\u001b[0;34m\u001b[0m\u001b[0m\n",
      "\u001b[0;32m/mnt/data/chris/dropbox/Research-Hamblin/Projects/cnn_subgraph_visualizer/visualizer_scripts/visualizer_helper_functions.py\u001b[0m in \u001b[0;36mnodeid_2_perlayerid\u001b[0;34m(nodeid, params)\u001b[0m\n\u001b[1;32m    171\u001b[0m         \u001b[0;31m#layer = nodes_df[nodes_df['category']=='overall'][nodes_df['node_num'] == nodeid]['layer'].item()\u001b[0m\u001b[0;34m\u001b[0m\u001b[0;34m\u001b[0m\u001b[0;34m\u001b[0m\u001b[0m\n\u001b[1;32m    172\u001b[0m         \u001b[0;31m#within_layer_id = nodes_df[nodes_df['category']=='overall'][nodes_df['node_num'] == nodeid]['node_num_by_layer'].item()\u001b[0m\u001b[0;34m\u001b[0m\u001b[0;34m\u001b[0m\u001b[0;34m\u001b[0m\u001b[0m\n\u001b[0;32m--> 173\u001b[0;31m         \u001b[0;32mreturn\u001b[0m \u001b[0mlayer\u001b[0m\u001b[0;34m,\u001b[0m\u001b[0mwithin_layer_id\u001b[0m\u001b[0;34m,\u001b[0m\u001b[0mlayer_name\u001b[0m\u001b[0;34m\u001b[0m\u001b[0;34m\u001b[0m\u001b[0m\n\u001b[0m\u001b[1;32m    174\u001b[0m \u001b[0;34m\u001b[0m\u001b[0m\n\u001b[1;32m    175\u001b[0m \u001b[0;32mdef\u001b[0m \u001b[0mlayernum2name\u001b[0m\u001b[0;34m(\u001b[0m\u001b[0mlayer\u001b[0m\u001b[0;34m,\u001b[0m\u001b[0moffset\u001b[0m\u001b[0;34m=\u001b[0m\u001b[0;36m1\u001b[0m\u001b[0;34m,\u001b[0m\u001b[0mtitle\u001b[0m \u001b[0;34m=\u001b[0m \u001b[0;34m'layer'\u001b[0m\u001b[0;34m)\u001b[0m\u001b[0;34m:\u001b[0m\u001b[0;34m\u001b[0m\u001b[0;34m\u001b[0m\u001b[0m\n",
      "\u001b[0;31mUnboundLocalError\u001b[0m: local variable 'layer' referenced before assignment"
     ]
    }
   ],
   "source": [
    "model_dis = set_across_model(model_dis,'target_node',None)\n",
    "model.to('cuda:0')\n",
    "start =time.time()\n",
    "\n",
    "\n",
    "for node in range(64,1153):\n",
    "    print(node)\n",
    "    layer_num,per_layer_id,layer_name=nodeid_2_perlayerid(node,params)\n",
    "    param_f = lambda: param.image(224,batch=1)\n",
    "    obj = objectives.neuron(layer_name,per_layer_id,batch=0) \n",
    "      #objectives.neuron(\"features_10\", 8, batch=2) + objectives.neuron(\"features_10\", 9, batch=3) + \\\n",
    "      #objectives.neuron(\"features_10\", 10, batch=4) + objectives.neuron(\"features_10\", 11, batch=5) \n",
    "        #objectives.neuron(\"features_0\", 6, batch=6) - objectives.neuron(\"features_0\", 7, batch=7) \n",
    "    \n",
    "\n",
    "    #_ = render.render_vis(model_dis, obj, param_f, verbose=True, show_inline=False,show_image=False, save_image=True,image_name = 'prepped_models/alexnet_sparse/visualizations/neurons/%s.jpg'%str(node))\n",
    "#_ = render.render_vis(model_dis, obj, param_f, verbose=True, show_inline=True, save_image=False)\n",
    "print(time.time() - start)"
   ]
  },
  {
   "cell_type": "code",
   "execution_count": null,
   "metadata": {},
   "outputs": [],
   "source": [
    "os.mkdir('prepped_models/alexnet_sparse/visualizations/testing')"
   ]
  },
  {
   "cell_type": "code",
   "execution_count": null,
   "metadata": {},
   "outputs": [],
   "source": [
    "params['device'] = 'cuda:1'"
   ]
  },
  {
   "cell_type": "code",
   "execution_count": null,
   "metadata": {},
   "outputs": [],
   "source": [
    "model_dis.to('cuda:1')\n",
    "subgraph_sizes={}\n",
    "start = time.time()\n",
    "for node in range(256,1151):\n",
    "    n_df,e_df=ranksdf_store('small_SPAN', str(node), [],model_dis=model_dis)\n",
    "    n_df = minmax_normalize_ranks_df(n_df,params)\n",
    "    threshed_n_df,threshed_e_df = hierarchical_accum_threshold(.9,.9,rank_type,e_df,n_df)\n",
    "    subgraph_sizes[node] = (len(threshed_n_df),len(threshed_e_df))\n",
    "print(time.time() - start)"
   ]
  },
  {
   "cell_type": "code",
   "execution_count": null,
   "metadata": {},
   "outputs": [],
   "source": [
    "subgraph_sizes"
   ]
  },
  {
   "cell_type": "code",
   "execution_count": null,
   "metadata": {},
   "outputs": [],
   "source": [
    "os.mkdir('prepped_models/alexnet_sparse/subgraphs')\n",
    "os.mkdir('prepped_models/alexnet_sparse/subgraphs/info')"
   ]
  },
  {
   "cell_type": "code",
   "execution_count": null,
   "metadata": {},
   "outputs": [],
   "source": [
    "model_dis.features[0].bias"
   ]
  },
  {
   "cell_type": "code",
   "execution_count": 16,
   "metadata": {},
   "outputs": [],
   "source": [
    "\n",
    "subgraph_sizes = pickle.load(open('prepped_models/alexnet_sparse/subgraphs/info/subgraph_sizes_.9.9.pkl','rb'))\n"
   ]
  },
  {
   "cell_type": "code",
   "execution_count": 20,
   "metadata": {},
   "outputs": [
    {
     "data": {
      "text/plain": [
       "{256: (112, 2131),\n",
       " 257: (113, 2068),\n",
       " 258: (95, 1533),\n",
       " 259: (79, 1093),\n",
       " 260: (107, 1886),\n",
       " 261: (99, 1850),\n",
       " 262: (89, 1335),\n",
       " 263: (119, 2353),\n",
       " 264: (140, 3056),\n",
       " 265: (89, 1396),\n",
       " 266: (108, 2045),\n",
       " 267: (100, 1723),\n",
       " 268: (117, 2175),\n",
       " 269: (105, 1821),\n",
       " 270: (124, 2437),\n",
       " 271: (137, 2754),\n",
       " 272: (126, 2519),\n",
       " 273: (134, 2673),\n",
       " 274: (111, 2172),\n",
       " 275: (92, 1413),\n",
       " 276: (118, 2337),\n",
       " 277: (130, 2575),\n",
       " 278: (112, 2153),\n",
       " 279: (104, 1974),\n",
       " 280: (91, 1466),\n",
       " 281: (84, 1298),\n",
       " 282: (103, 1752),\n",
       " 283: (122, 2544),\n",
       " 284: (95, 1634),\n",
       " 285: (108, 1898),\n",
       " 286: (112, 2039),\n",
       " 287: (117, 2341),\n",
       " 288: (102, 1764),\n",
       " 289: (90, 1339),\n",
       " 290: (108, 2014),\n",
       " 291: (115, 2308),\n",
       " 292: (117, 2221),\n",
       " 293: (57, 629),\n",
       " 294: (79, 1091),\n",
       " 295: (117, 2283),\n",
       " 296: (112, 2170),\n",
       " 297: (123, 2496),\n",
       " 298: (128, 2561),\n",
       " 299: (134, 2810),\n",
       " 300: (88, 1491),\n",
       " 301: (109, 1924),\n",
       " 302: (113, 2032),\n",
       " 303: (104, 1803),\n",
       " 304: (97, 1484),\n",
       " 305: (110, 2031),\n",
       " 306: (71, 902),\n",
       " 307: (68, 841),\n",
       " 308: (112, 2135),\n",
       " 309: (98, 1721),\n",
       " 310: (105, 1913),\n",
       " 311: (109, 1989),\n",
       " 312: (80, 1118),\n",
       " 313: (116, 2212),\n",
       " 314: (122, 2468),\n",
       " 315: (80, 1144),\n",
       " 316: (114, 2176),\n",
       " 317: (113, 2155),\n",
       " 318: (102, 1885),\n",
       " 319: (113, 2195),\n",
       " 320: (122, 2428),\n",
       " 321: (96, 1570),\n",
       " 322: (108, 1952),\n",
       " 323: (119, 2295),\n",
       " 324: (87, 1304),\n",
       " 325: (103, 1707),\n",
       " 326: (108, 1834),\n",
       " 327: (99, 1779),\n",
       " 328: (117, 2279),\n",
       " 329: (87, 1348),\n",
       " 330: (91, 1547),\n",
       " 331: (127, 2490),\n",
       " 332: (103, 1873),\n",
       " 333: (118, 2244),\n",
       " 334: (113, 2080),\n",
       " 335: (101, 1740),\n",
       " 336: (103, 1680),\n",
       " 337: (105, 1750),\n",
       " 338: (125, 2485),\n",
       " 339: (110, 1957),\n",
       " 340: (105, 1836),\n",
       " 341: (120, 2417),\n",
       " 342: (129, 2556),\n",
       " 343: (147, 3180),\n",
       " 344: (125, 2544),\n",
       " 345: (81, 1154),\n",
       " 346: (92, 1471),\n",
       " 347: (111, 2089),\n",
       " 348: (129, 2643),\n",
       " 349: (93, 1460),\n",
       " 350: (105, 1853),\n",
       " 351: (109, 1927),\n",
       " 352: (106, 1937),\n",
       " 353: (66, 800),\n",
       " 354: (124, 2488),\n",
       " 355: (90, 1290),\n",
       " 356: (96, 1699),\n",
       " 357: (114, 2147),\n",
       " 358: (98, 1618),\n",
       " 359: (95, 1538),\n",
       " 360: (118, 2375),\n",
       " 361: (125, 2557),\n",
       " 362: (101, 1794),\n",
       " 363: (96, 1606),\n",
       " 364: (90, 1393),\n",
       " 365: (130, 2628),\n",
       " 366: (108, 1983),\n",
       " 367: (99, 1663),\n",
       " 368: (133, 2615),\n",
       " 369: (116, 2189),\n",
       " 370: (140, 2856),\n",
       " 371: (127, 2528),\n",
       " 372: (128, 2561),\n",
       " 373: (102, 1760),\n",
       " 374: (132, 2760),\n",
       " 375: (122, 2507),\n",
       " 376: (113, 2275),\n",
       " 377: (110, 2045),\n",
       " 378: (111, 2044),\n",
       " 379: (92, 1418),\n",
       " 380: (138, 2698),\n",
       " 381: (114, 2122),\n",
       " 382: (106, 2095),\n",
       " 383: (90, 1491),\n",
       " 384: (113, 2117),\n",
       " 385: (129, 2572),\n",
       " 386: (97, 1623),\n",
       " 387: (118, 2156),\n",
       " 388: (103, 1803),\n",
       " 389: (126, 2503),\n",
       " 390: (82, 1151),\n",
       " 391: (95, 1564),\n",
       " 392: (85, 1290),\n",
       " 393: (71, 906),\n",
       " 394: (120, 2214),\n",
       " 395: (121, 2426),\n",
       " 396: (98, 1775),\n",
       " 397: (119, 2262),\n",
       " 398: (80, 1120),\n",
       " 399: (106, 2079),\n",
       " 400: (79, 1124),\n",
       " 401: (89, 1486),\n",
       " 402: (103, 1835),\n",
       " 403: (144, 3046),\n",
       " 404: (107, 1793),\n",
       " 405: (80, 1095),\n",
       " 406: (137, 2898),\n",
       " 407: (109, 1921),\n",
       " 408: (94, 1481),\n",
       " 409: (108, 1932),\n",
       " 410: (120, 2128),\n",
       " 411: (119, 2272),\n",
       " 412: (114, 2220),\n",
       " 413: (96, 1618),\n",
       " 414: (90, 1501),\n",
       " 415: (117, 2202),\n",
       " 416: (130, 2533),\n",
       " 417: (94, 1547),\n",
       " 418: (95, 1652),\n",
       " 419: (105, 1913),\n",
       " 420: (102, 1624),\n",
       " 421: (120, 2245),\n",
       " 422: (88, 1228),\n",
       " 423: (107, 1947),\n",
       " 424: (104, 1720),\n",
       " 425: (126, 2486),\n",
       " 426: (112, 2206),\n",
       " 427: (121, 2364),\n",
       " 428: (77, 997),\n",
       " 429: (117, 2311),\n",
       " 430: (98, 1583),\n",
       " 431: (94, 1391),\n",
       " 432: (119, 2182),\n",
       " 433: (124, 2503),\n",
       " 434: (123, 2433),\n",
       " 435: (82, 1166),\n",
       " 436: (130, 2771),\n",
       " 437: (81, 1142),\n",
       " 438: (104, 1966),\n",
       " 439: (80, 1150),\n",
       " 440: (124, 2477),\n",
       " 441: (94, 1533),\n",
       " 442: (108, 2035),\n",
       " 443: (130, 2692),\n",
       " 444: (109, 2068),\n",
       " 445: (123, 2555),\n",
       " 446: (104, 1949),\n",
       " 447: (100, 1822),\n",
       " 448: (100, 1775),\n",
       " 449: (107, 1930),\n",
       " 450: (102, 1874),\n",
       " 451: (98, 1828),\n",
       " 452: (114, 2177),\n",
       " 453: (114, 2193),\n",
       " 454: (110, 2089),\n",
       " 455: (111, 1986),\n",
       " 456: (117, 2387),\n",
       " 457: (120, 2302),\n",
       " 458: (114, 2120),\n",
       " 459: (98, 1649),\n",
       " 460: (111, 2026),\n",
       " 461: (96, 1585),\n",
       " 462: (98, 1541),\n",
       " 463: (114, 2019),\n",
       " 464: (125, 2528),\n",
       " 465: (108, 1884),\n",
       " 466: (127, 2676),\n",
       " 467: (119, 2175),\n",
       " 468: (87, 1454),\n",
       " 469: (129, 2662),\n",
       " 470: (128, 2580),\n",
       " 471: (107, 1937),\n",
       " 472: (115, 2193),\n",
       " 473: (115, 2128),\n",
       " 474: (119, 2315),\n",
       " 475: (105, 1827),\n",
       " 476: (137, 2791),\n",
       " 477: (107, 2012),\n",
       " 478: (124, 2382),\n",
       " 479: (119, 2299),\n",
       " 480: (97, 1526),\n",
       " 481: (115, 2055),\n",
       " 482: (100, 1760),\n",
       " 483: (118, 2334),\n",
       " 484: (110, 2180),\n",
       " 485: (96, 1624),\n",
       " 486: (123, 2535),\n",
       " 487: (98, 1824),\n",
       " 488: (112, 2152),\n",
       " 489: (139, 2914),\n",
       " 490: (121, 2275),\n",
       " 491: (129, 2632),\n",
       " 492: (94, 1528),\n",
       " 493: (109, 1860),\n",
       " 494: (117, 2353),\n",
       " 495: (118, 2282),\n",
       " 496: (143, 3150),\n",
       " 497: (102, 1725),\n",
       " 498: (107, 2032),\n",
       " 499: (147, 3165),\n",
       " 500: (112, 2180),\n",
       " 501: (103, 1900),\n",
       " 502: (93, 1438),\n",
       " 503: (126, 2423),\n",
       " 504: (99, 1822),\n",
       " 505: (115, 2173),\n",
       " 506: (132, 2672),\n",
       " 507: (114, 2207),\n",
       " 508: (109, 2125),\n",
       " 509: (116, 2265),\n",
       " 510: (102, 1904),\n",
       " 511: (144, 2947),\n",
       " 512: (97, 1589),\n",
       " 513: (91, 1410),\n",
       " 514: (106, 1893),\n",
       " 515: (106, 1930),\n",
       " 516: (111, 2087),\n",
       " 517: (115, 2199),\n",
       " 518: (115, 2136),\n",
       " 519: (127, 2510),\n",
       " 520: (98, 1548),\n",
       " 521: (100, 1885),\n",
       " 522: (109, 1933),\n",
       " 523: (131, 2723),\n",
       " 524: (98, 1722),\n",
       " 525: (92, 1401),\n",
       " 526: (103, 1782),\n",
       " 527: (121, 2309),\n",
       " 528: (98, 1620),\n",
       " 529: (109, 1986),\n",
       " 530: (113, 2158),\n",
       " 531: (109, 1946),\n",
       " 532: (117, 2342),\n",
       " 533: (124, 2516),\n",
       " 534: (123, 2507),\n",
       " 535: (121, 2462),\n",
       " 536: (106, 2040),\n",
       " 537: (122, 2406),\n",
       " 538: (114, 2175),\n",
       " 539: (112, 2231),\n",
       " 540: (100, 1718),\n",
       " 541: (100, 1616),\n",
       " 542: (110, 1980),\n",
       " 543: (83, 1300),\n",
       " 544: (110, 2062),\n",
       " 545: (124, 2378),\n",
       " 546: (130, 2815),\n",
       " 547: (117, 2267),\n",
       " 548: (105, 1910),\n",
       " 549: (123, 2461),\n",
       " 550: (119, 2428),\n",
       " 551: (109, 1972),\n",
       " 552: (65, 767),\n",
       " 553: (118, 2319),\n",
       " 554: (120, 2349),\n",
       " 555: (121, 2397),\n",
       " 556: (124, 2609),\n",
       " 557: (54, 570),\n",
       " 558: (119, 2350),\n",
       " 559: (125, 2559),\n",
       " 560: (117, 2330),\n",
       " 561: (92, 1626),\n",
       " 562: (109, 1852),\n",
       " 563: (109, 1958),\n",
       " 564: (93, 1471),\n",
       " 565: (120, 2319),\n",
       " 566: (94, 1615),\n",
       " 567: (83, 1384),\n",
       " 568: (108, 2064),\n",
       " 569: (82, 1161),\n",
       " 570: (112, 1985),\n",
       " 571: (127, 2455),\n",
       " 572: (80, 1104),\n",
       " 573: (91, 1521),\n",
       " 574: (127, 2576),\n",
       " 575: (102, 1782),\n",
       " 576: (137, 2880),\n",
       " 577: (115, 2277),\n",
       " 578: (103, 1726),\n",
       " 579: (85, 1251),\n",
       " 580: (109, 1975),\n",
       " 581: (102, 1725),\n",
       " 582: (112, 2180),\n",
       " 583: (116, 2252),\n",
       " 584: (128, 2613),\n",
       " 585: (120, 2216),\n",
       " 586: (129, 2723),\n",
       " 587: (115, 2297),\n",
       " 588: (105, 1835),\n",
       " 589: (129, 2651),\n",
       " 590: (107, 1966),\n",
       " 591: (109, 1953),\n",
       " 592: (93, 1336),\n",
       " 593: (125, 2572),\n",
       " 594: (90, 1496),\n",
       " 595: (102, 1864),\n",
       " 596: (98, 1591),\n",
       " 597: (91, 1422),\n",
       " 598: (121, 2450),\n",
       " 599: (118, 2229),\n",
       " 600: (100, 1684),\n",
       " 601: (81, 1092),\n",
       " 602: (98, 1651),\n",
       " 603: (100, 1606),\n",
       " 604: (101, 1870),\n",
       " 605: (120, 2404),\n",
       " 606: (121, 2479),\n",
       " 607: (88, 1282),\n",
       " 608: (106, 1809),\n",
       " 609: (78, 1067),\n",
       " 610: (103, 1860),\n",
       " 611: (102, 1721),\n",
       " 612: (110, 1973),\n",
       " 613: (113, 2244),\n",
       " 614: (78, 1061),\n",
       " 615: (87, 1409),\n",
       " 616: (81, 1076),\n",
       " 617: (95, 1674),\n",
       " 618: (127, 2561),\n",
       " 619: (106, 1843),\n",
       " 620: (104, 1819),\n",
       " 621: (97, 1550),\n",
       " 622: (103, 1869),\n",
       " 623: (117, 2321),\n",
       " 624: (111, 2127),\n",
       " 625: (74, 968),\n",
       " 626: (134, 2760),\n",
       " 627: (116, 2316),\n",
       " 628: (90, 1395),\n",
       " 629: (116, 2173),\n",
       " 630: (107, 1927),\n",
       " 631: (133, 2732),\n",
       " 632: (102, 1659),\n",
       " 633: (101, 1821),\n",
       " 634: (87, 1370),\n",
       " 635: (120, 2416),\n",
       " 636: (117, 2224),\n",
       " 637: (106, 1976),\n",
       " 638: (131, 2624),\n",
       " 639: (119, 2283),\n",
       " 640: (347, 13323),\n",
       " 641: (339, 13547),\n",
       " 642: (335, 12957),\n",
       " 643: (318, 11977),\n",
       " 644: (366, 14476),\n",
       " 645: (314, 11379),\n",
       " 646: (332, 12152),\n",
       " 647: (335, 13394),\n",
       " 648: (371, 14749),\n",
       " 649: (339, 13836),\n",
       " 650: (342, 13308),\n",
       " 651: (334, 12733),\n",
       " 652: (357, 14390),\n",
       " 653: (369, 14898),\n",
       " 654: (358, 14338),\n",
       " 655: (367, 15338),\n",
       " 656: (322, 12589),\n",
       " 657: (355, 14975),\n",
       " 658: (360, 14715),\n",
       " 659: (260, 9376),\n",
       " 660: (356, 14340),\n",
       " 661: (348, 14200),\n",
       " 662: (344, 13274),\n",
       " 663: (351, 14304),\n",
       " 664: (323, 12925),\n",
       " 665: (336, 13229),\n",
       " 666: (348, 13783),\n",
       " 667: (338, 12843),\n",
       " 668: (342, 13777),\n",
       " 669: (337, 13609),\n",
       " 670: (341, 13686),\n",
       " 671: (335, 12779),\n",
       " 672: (333, 12924),\n",
       " 673: (316, 11782),\n",
       " 674: (334, 12083),\n",
       " 675: (351, 14032),\n",
       " 676: (362, 15151),\n",
       " 677: (343, 13275),\n",
       " 678: (341, 13515),\n",
       " 679: (317, 11708),\n",
       " 680: (336, 12759),\n",
       " 681: (368, 14573),\n",
       " 682: (367, 14733),\n",
       " 683: (353, 14291),\n",
       " 684: (353, 13786),\n",
       " 685: (349, 14281),\n",
       " 686: (383, 15927),\n",
       " 687: (338, 13186),\n",
       " 688: (325, 12274),\n",
       " 689: (339, 13263),\n",
       " 690: (335, 12877),\n",
       " 691: (360, 14863),\n",
       " 692: (332, 12596),\n",
       " 693: (335, 13339),\n",
       " 694: (314, 10909),\n",
       " 695: (300, 11487),\n",
       " 696: (340, 13135),\n",
       " 697: (321, 12285),\n",
       " 698: (342, 13801),\n",
       " 699: (358, 13923),\n",
       " 700: (338, 13880),\n",
       " 701: (325, 12051),\n",
       " 702: (367, 15445),\n",
       " 703: (324, 12469),\n",
       " 704: (301, 10623),\n",
       " 705: (308, 10747),\n",
       " 706: (360, 14461),\n",
       " 707: (329, 13018),\n",
       " 708: (341, 13552),\n",
       " 709: (312, 11694),\n",
       " 710: (345, 13532),\n",
       " 711: (322, 12393),\n",
       " 712: (335, 12863),\n",
       " 713: (356, 14052),\n",
       " 714: (324, 12305),\n",
       " 715: (361, 14374),\n",
       " 716: (343, 12672),\n",
       " 717: (329, 12389),\n",
       " 718: (360, 14506),\n",
       " 719: (315, 11696),\n",
       " 720: (339, 12728),\n",
       " 721: (339, 13434),\n",
       " 722: (311, 11017),\n",
       " 723: (326, 12525),\n",
       " 724: (377, 15723),\n",
       " 725: (352, 14283),\n",
       " 726: (305, 10701),\n",
       " 727: (355, 13770),\n",
       " 728: (348, 13333),\n",
       " 729: (313, 11589),\n",
       " 730: (352, 14249),\n",
       " 731: (348, 13496),\n",
       " 732: (330, 11965),\n",
       " 733: (370, 15450),\n",
       " 734: (329, 12113),\n",
       " 735: (343, 13763),\n",
       " 736: (326, 12734),\n",
       " 737: (344, 13766),\n",
       " 738: (334, 12463),\n",
       " 739: (376, 15722),\n",
       " 740: (349, 13743),\n",
       " 741: (345, 13615),\n",
       " 742: (359, 14269),\n",
       " 743: (321, 12323),\n",
       " 744: (330, 13085),\n",
       " 745: (353, 14689),\n",
       " 746: (339, 13325),\n",
       " 747: (372, 15292),\n",
       " 748: (321, 12230),\n",
       " 749: (352, 13800),\n",
       " 750: (319, 12097),\n",
       " 751: (355, 14225),\n",
       " 752: (336, 13149),\n",
       " 753: (331, 12715),\n",
       " 754: (328, 12398),\n",
       " 755: (309, 11306),\n",
       " 756: (333, 12697),\n",
       " 757: (340, 13026),\n",
       " 758: (358, 14192),\n",
       " 759: (316, 12489),\n",
       " 760: (301, 10617),\n",
       " 761: (330, 12483),\n",
       " 762: (322, 12130),\n",
       " 763: (318, 11924),\n",
       " 764: (332, 12907),\n",
       " 765: (303, 11260),\n",
       " 766: (353, 13632),\n",
       " 767: (369, 15142),\n",
       " 768: (301, 11043),\n",
       " 769: (314, 11849),\n",
       " 770: (333, 12768),\n",
       " 771: (326, 12247),\n",
       " 772: (367, 14797),\n",
       " 773: (344, 12855),\n",
       " 774: (339, 12829),\n",
       " 775: (341, 13269),\n",
       " 776: (310, 11932),\n",
       " 777: (363, 14571),\n",
       " 778: (351, 13734),\n",
       " 779: (342, 13725),\n",
       " 780: (330, 12819),\n",
       " 781: (327, 12012),\n",
       " 782: (348, 13835),\n",
       " 783: (363, 14571),\n",
       " 784: (334, 12487),\n",
       " 785: (379, 15631),\n",
       " 786: (338, 13612),\n",
       " 787: (352, 13664),\n",
       " 788: (347, 13930),\n",
       " 789: (348, 13702),\n",
       " 790: (321, 12409),\n",
       " 791: (368, 15166),\n",
       " 792: (344, 13561),\n",
       " 793: (312, 11548),\n",
       " 794: (355, 14720),\n",
       " 795: (314, 11530),\n",
       " 796: (366, 14841),\n",
       " 797: (332, 12346),\n",
       " 798: (347, 14163),\n",
       " 799: (321, 12379),\n",
       " 800: (326, 13076),\n",
       " 801: (319, 12115),\n",
       " 802: (318, 12515),\n",
       " 803: (357, 14289),\n",
       " 804: (341, 13341),\n",
       " 805: (330, 12644),\n",
       " 806: (358, 14758),\n",
       " 807: (379, 15611),\n",
       " 808: (351, 13608),\n",
       " 809: (330, 12842),\n",
       " 810: (308, 11349),\n",
       " 811: (304, 11191),\n",
       " 812: (352, 13901),\n",
       " 813: (343, 13687),\n",
       " 814: (308, 11446),\n",
       " 815: (317, 11644),\n",
       " 816: (351, 14210),\n",
       " 817: (331, 12849),\n",
       " 818: (369, 14834),\n",
       " 819: (356, 14326),\n",
       " 820: (362, 14511),\n",
       " 821: (341, 12910),\n",
       " 822: (348, 13716),\n",
       " 823: (330, 12849),\n",
       " 824: (330, 13062),\n",
       " 825: (345, 13940),\n",
       " 826: (352, 13807),\n",
       " 827: (348, 13359),\n",
       " 828: (342, 13756),\n",
       " 829: (330, 12697),\n",
       " 830: (310, 11136),\n",
       " 831: (359, 14561),\n",
       " 832: (348, 14039),\n",
       " 833: (345, 13354),\n",
       " 834: (304, 11268),\n",
       " 835: (349, 13868),\n",
       " 836: (327, 12648),\n",
       " 837: (294, 11012),\n",
       " 838: (361, 14451),\n",
       " 839: (356, 14317),\n",
       " 840: (351, 14078),\n",
       " 841: (347, 13970),\n",
       " 842: (315, 12287),\n",
       " 843: (338, 13143),\n",
       " 844: (343, 13530),\n",
       " 845: (335, 13041),\n",
       " 846: (345, 13481),\n",
       " 847: (264, 9441),\n",
       " 848: (330, 12451),\n",
       " 849: (369, 15297),\n",
       " 850: (359, 14538),\n",
       " 851: (259, 9094),\n",
       " 852: (371, 15375),\n",
       " 853: (330, 12606),\n",
       " 854: (298, 10228),\n",
       " 855: (301, 11465),\n",
       " 856: (338, 12804),\n",
       " 857: (330, 12228),\n",
       " 858: (300, 11133),\n",
       " 859: (315, 11189),\n",
       " 860: (304, 10536),\n",
       " 861: (333, 12715),\n",
       " 862: (316, 12185),\n",
       " 863: (363, 14990),\n",
       " 864: (343, 13764),\n",
       " 865: (329, 12616),\n",
       " 866: (331, 12323),\n",
       " 867: (341, 13284),\n",
       " 868: (369, 14633),\n",
       " 869: (340, 12580),\n",
       " 870: (327, 12525),\n",
       " 871: (339, 13606),\n",
       " 872: (353, 14339),\n",
       " 873: (324, 12605),\n",
       " 874: (287, 9388),\n",
       " 875: (317, 11977),\n",
       " 876: (333, 12735),\n",
       " 877: (329, 12770),\n",
       " 878: (355, 13675),\n",
       " 879: (361, 14482),\n",
       " 880: (337, 13068),\n",
       " 881: (334, 13171),\n",
       " 882: (331, 13283),\n",
       " 883: (343, 13379),\n",
       " 884: (304, 10361),\n",
       " 885: (309, 11733),\n",
       " 886: (320, 12186),\n",
       " 887: (329, 12131),\n",
       " 888: (340, 12971),\n",
       " 889: (364, 14798),\n",
       " 890: (336, 12967),\n",
       " 891: (344, 13928),\n",
       " 892: (398, 17325),\n",
       " 893: (313, 11413),\n",
       " 894: (329, 12801),\n",
       " 895: (328, 12960),\n",
       " 896: (550, 31137),\n",
       " 897: (553, 31856),\n",
       " 898: (569, 34626),\n",
       " 899: (565, 33058),\n",
       " 900: (559, 31929),\n",
       " 901: (582, 35312),\n",
       " 902: (592, 36949),\n",
       " 903: (546, 31703),\n",
       " 904: (530, 28696),\n",
       " 905: (560, 33533),\n",
       " 906: (572, 35233),\n",
       " 907: (546, 31568),\n",
       " 908: (552, 31985),\n",
       " 909: (557, 33358),\n",
       " 910: (569, 34810),\n",
       " 911: (559, 33237),\n",
       " 912: (577, 34299),\n",
       " 913: (564, 32932),\n",
       " 914: (555, 32451),\n",
       " 915: (567, 33774),\n",
       " 916: (550, 32569),\n",
       " 917: (542, 30708),\n",
       " 918: (507, 26453),\n",
       " 919: (551, 32904),\n",
       " 920: (558, 32488),\n",
       " 921: (562, 33896),\n",
       " 922: (559, 32578),\n",
       " 923: (538, 29759),\n",
       " 924: (551, 32419),\n",
       " 925: (570, 33916),\n",
       " 926: (585, 36812),\n",
       " 927: (552, 31099),\n",
       " 928: (557, 31554),\n",
       " 929: (542, 30560),\n",
       " 930: (592, 36679),\n",
       " 931: (559, 33062),\n",
       " 932: (570, 34569),\n",
       " 933: (575, 34387),\n",
       " 934: (559, 33027),\n",
       " 935: (547, 31421),\n",
       " 936: (568, 34304),\n",
       " 937: (558, 33079),\n",
       " 938: (566, 33768),\n",
       " 939: (572, 33887),\n",
       " 940: (540, 31128),\n",
       " 941: (567, 33616),\n",
       " 942: (566, 32783),\n",
       " 943: (565, 33529),\n",
       " 944: (583, 35793),\n",
       " 945: (560, 33360),\n",
       " 946: (574, 35435),\n",
       " 947: (588, 36759),\n",
       " 948: (585, 36448),\n",
       " 949: (584, 36202),\n",
       " 950: (544, 30865),\n",
       " 951: (571, 34764),\n",
       " 952: (569, 34000),\n",
       " 953: (561, 33055),\n",
       " 954: (573, 33981),\n",
       " 955: (578, 35630),\n",
       " 956: (572, 33921),\n",
       " 957: (564, 33842),\n",
       " 958: (564, 33822),\n",
       " 959: (577, 35714),\n",
       " 960: (587, 36067),\n",
       " 961: (573, 34019),\n",
       " 962: (572, 34608),\n",
       " 963: (565, 33475),\n",
       " 964: (559, 32513),\n",
       " 965: (551, 32175),\n",
       " 966: (561, 32625),\n",
       " 967: (558, 32596),\n",
       " 968: (573, 34909),\n",
       " 969: (575, 35089),\n",
       " 970: (567, 34872),\n",
       " 971: (561, 32233),\n",
       " 972: (543, 29919),\n",
       " 973: (568, 34147),\n",
       " 974: (556, 32940),\n",
       " 975: (549, 31611),\n",
       " 976: (564, 33587),\n",
       " 977: (564, 34054),\n",
       " 978: (556, 33425),\n",
       " 979: (569, 34229),\n",
       " 980: (559, 32093),\n",
       " 981: (577, 34592),\n",
       " 982: (583, 35689),\n",
       " 983: (566, 34173),\n",
       " 984: (572, 34380),\n",
       " 985: (560, 32906),\n",
       " 986: (573, 34619),\n",
       " 987: (575, 34670),\n",
       " 988: (565, 33398),\n",
       " 989: (566, 33753),\n",
       " 990: (561, 33811),\n",
       " 991: (555, 31563),\n",
       " 992: (574, 34710),\n",
       " 993: (545, 31513),\n",
       " 994: (588, 36644),\n",
       " 995: (570, 34167),\n",
       " 996: (576, 35486),\n",
       " 997: (541, 30143),\n",
       " 998: (579, 35349),\n",
       " 999: (558, 32369),\n",
       " 1000: (583, 36276),\n",
       " 1001: (547, 31318),\n",
       " 1002: (572, 34913),\n",
       " 1003: (554, 32560),\n",
       " 1004: (565, 34255),\n",
       " 1005: (582, 35377),\n",
       " 1006: (525, 28417),\n",
       " 1007: (566, 33587),\n",
       " 1008: (544, 31630),\n",
       " 1009: (559, 33199),\n",
       " 1010: (562, 33574),\n",
       " 1011: (573, 35849),\n",
       " 1012: (569, 34071),\n",
       " 1013: (550, 32563),\n",
       " 1014: (558, 33045),\n",
       " 1015: (551, 30951),\n",
       " 1016: (570, 33957),\n",
       " 1017: (557, 31498),\n",
       " 1018: (544, 31710),\n",
       " 1019: (525, 27977),\n",
       " 1020: (562, 33279),\n",
       " 1021: (520, 27318),\n",
       " 1022: (549, 31959),\n",
       " 1023: (580, 35696),\n",
       " 1024: (584, 36094),\n",
       " 1025: (579, 35588),\n",
       " 1026: (570, 34792),\n",
       " 1027: (585, 36325),\n",
       " 1028: (549, 32130),\n",
       " 1029: (577, 35354),\n",
       " 1030: (570, 34573),\n",
       " 1031: (592, 37313),\n",
       " 1032: (558, 33233),\n",
       " 1033: (568, 33958),\n",
       " 1034: (564, 33748),\n",
       " 1035: (554, 31286),\n",
       " 1036: (586, 36830),\n",
       " 1037: (578, 35068),\n",
       " 1038: (550, 30610),\n",
       " 1039: (569, 34720),\n",
       " 1040: (578, 35842),\n",
       " 1041: (560, 32616),\n",
       " 1042: (566, 33818),\n",
       " 1043: (572, 34625),\n",
       " 1044: (573, 34867),\n",
       " 1045: (565, 33225),\n",
       " 1046: (562, 33506),\n",
       " 1047: (575, 35707),\n",
       " 1048: (580, 34980),\n",
       " 1049: (568, 33751),\n",
       " 1050: (586, 36394),\n",
       " 1051: (571, 34194),\n",
       " 1052: (578, 35514),\n",
       " 1053: (547, 32659),\n",
       " 1054: (560, 32705),\n",
       " 1055: (569, 34032),\n",
       " 1056: (569, 34019),\n",
       " 1057: (527, 28881),\n",
       " 1058: (557, 32110),\n",
       " 1059: (573, 34373),\n",
       " 1060: (565, 33755),\n",
       " 1061: (566, 33462),\n",
       " 1062: (576, 35080),\n",
       " 1063: (563, 33976),\n",
       " 1064: (559, 32490),\n",
       " 1065: (585, 36356),\n",
       " 1066: (543, 30373),\n",
       " 1067: (570, 34201),\n",
       " 1068: (559, 32087),\n",
       " 1069: (569, 33544),\n",
       " 1070: (589, 36547),\n",
       " 1071: (568, 34020),\n",
       " 1072: (574, 35161),\n",
       " 1073: (575, 35008),\n",
       " 1074: (559, 33462),\n",
       " 1075: (532, 29615),\n",
       " 1076: (583, 36427),\n",
       " 1077: (570, 34200),\n",
       " 1078: (554, 33030),\n",
       " 1079: (564, 34334),\n",
       " 1080: (556, 32045),\n",
       " 1081: (572, 34726),\n",
       " 1082: (569, 33762),\n",
       " 1083: (531, 30621),\n",
       " 1084: (559, 33366),\n",
       " 1085: (578, 35256),\n",
       " 1086: (552, 31581),\n",
       " 1087: (550, 32398),\n",
       " 1088: (545, 32034),\n",
       " 1089: (570, 34514),\n",
       " 1090: (560, 33528),\n",
       " 1091: (533, 29501),\n",
       " 1092: (571, 35040),\n",
       " 1093: (562, 32372),\n",
       " 1094: (565, 33696),\n",
       " 1095: (549, 32699),\n",
       " 1096: (580, 35553),\n",
       " 1097: (567, 33627),\n",
       " 1098: (569, 33665),\n",
       " 1099: (582, 36272),\n",
       " 1100: (565, 34723),\n",
       " 1101: (572, 35291),\n",
       " 1102: (550, 31913),\n",
       " 1103: (583, 35766),\n",
       " 1104: (573, 34202),\n",
       " 1105: (559, 33403),\n",
       " 1106: (576, 35152),\n",
       " 1107: (556, 32511),\n",
       " 1108: (576, 34823),\n",
       " 1109: (547, 30628),\n",
       " 1110: (553, 32520),\n",
       " 1111: (583, 35907),\n",
       " 1112: (576, 34235),\n",
       " 1113: (586, 36535),\n",
       " 1114: (571, 34698),\n",
       " 1115: (559, 32947),\n",
       " 1116: (558, 32663),\n",
       " 1117: (568, 34576),\n",
       " 1118: (574, 34701),\n",
       " 1119: (561, 32894),\n",
       " 1120: (585, 35883),\n",
       " 1121: (547, 30636),\n",
       " 1122: (571, 33747),\n",
       " 1123: (579, 35710),\n",
       " 1124: (580, 35171),\n",
       " 1125: (564, 33592),\n",
       " 1126: (558, 33294),\n",
       " 1127: (565, 33001),\n",
       " 1128: (570, 34735),\n",
       " 1129: (572, 34330),\n",
       " 1130: (571, 33376),\n",
       " 1131: (572, 34024),\n",
       " 1132: (533, 30701),\n",
       " 1133: (559, 32532),\n",
       " 1134: (572, 34574),\n",
       " 1135: (576, 34320),\n",
       " 1136: (511, 28313),\n",
       " 1137: (571, 34562),\n",
       " 1138: (560, 32650),\n",
       " 1139: (568, 34654),\n",
       " 1140: (529, 30396),\n",
       " 1141: (578, 35560),\n",
       " 1142: (560, 32964),\n",
       " 1143: (554, 31860),\n",
       " 1144: (544, 31069),\n",
       " 1145: (568, 33938),\n",
       " 1146: (554, 32156),\n",
       " 1147: (572, 34284),\n",
       " 1148: (560, 31419),\n",
       " 1149: (529, 30450),\n",
       " 1150: (575, 34993)}"
      ]
     },
     "execution_count": 20,
     "metadata": {},
     "output_type": "execute_result"
    }
   ],
   "source": [
    "subgraph_sizes"
   ]
  },
  {
   "cell_type": "code",
   "execution_count": null,
   "metadata": {},
   "outputs": [],
   "source": []
  },
  {
   "cell_type": "code",
   "execution_count": 26,
   "metadata": {},
   "outputs": [],
   "source": [
    "\n",
    "\n",
    "big_list = []\n",
    "columns = ['node','layer','node_size','edge_size']\n",
    "node_sizes = []\n",
    "edge_sizes = []\n",
    "for nodes in params['layer_nodes'][2:]:\n",
    "    layer = nodes[0]\n",
    "    for node in nodes[1]:\n",
    "        try:\n",
    "            node_size= subgraph_sizes[node][0]\n",
    "            edge_size= subgraph_sizes[node][1]\n",
    "            big_list.append([node,layer,node_size,edge_size])\n",
    "        except:\n",
    "            pass\n",
    "\n",
    "        \n",
    "subgraph_sizes_df = pd.DataFrame(big_list,columns = columns)"
   ]
  },
  {
   "cell_type": "code",
   "execution_count": 33,
   "metadata": {},
   "outputs": [
    {
     "data": {
      "text/html": [
       "<div>\n",
       "<style scoped>\n",
       "    .dataframe tbody tr th:only-of-type {\n",
       "        vertical-align: middle;\n",
       "    }\n",
       "\n",
       "    .dataframe tbody tr th {\n",
       "        vertical-align: top;\n",
       "    }\n",
       "\n",
       "    .dataframe thead th {\n",
       "        text-align: right;\n",
       "    }\n",
       "</style>\n",
       "<table border=\"1\" class=\"dataframe\">\n",
       "  <thead>\n",
       "    <tr style=\"text-align: right;\">\n",
       "      <th></th>\n",
       "      <th>node</th>\n",
       "      <th>layer</th>\n",
       "      <th>node_size</th>\n",
       "      <th>edge_size</th>\n",
       "    </tr>\n",
       "  </thead>\n",
       "  <tbody>\n",
       "    <tr>\n",
       "      <th>595</th>\n",
       "      <td>851</td>\n",
       "      <td>features_8</td>\n",
       "      <td>259</td>\n",
       "      <td>9094</td>\n",
       "    </tr>\n",
       "    <tr>\n",
       "      <th>403</th>\n",
       "      <td>659</td>\n",
       "      <td>features_8</td>\n",
       "      <td>260</td>\n",
       "      <td>9376</td>\n",
       "    </tr>\n",
       "    <tr>\n",
       "      <th>591</th>\n",
       "      <td>847</td>\n",
       "      <td>features_8</td>\n",
       "      <td>264</td>\n",
       "      <td>9441</td>\n",
       "    </tr>\n",
       "    <tr>\n",
       "      <th>618</th>\n",
       "      <td>874</td>\n",
       "      <td>features_8</td>\n",
       "      <td>287</td>\n",
       "      <td>9388</td>\n",
       "    </tr>\n",
       "    <tr>\n",
       "      <th>581</th>\n",
       "      <td>837</td>\n",
       "      <td>features_8</td>\n",
       "      <td>294</td>\n",
       "      <td>11012</td>\n",
       "    </tr>\n",
       "    <tr>\n",
       "      <th>598</th>\n",
       "      <td>854</td>\n",
       "      <td>features_8</td>\n",
       "      <td>298</td>\n",
       "      <td>10228</td>\n",
       "    </tr>\n",
       "    <tr>\n",
       "      <th>439</th>\n",
       "      <td>695</td>\n",
       "      <td>features_8</td>\n",
       "      <td>300</td>\n",
       "      <td>11487</td>\n",
       "    </tr>\n",
       "    <tr>\n",
       "      <th>602</th>\n",
       "      <td>858</td>\n",
       "      <td>features_8</td>\n",
       "      <td>300</td>\n",
       "      <td>11133</td>\n",
       "    </tr>\n",
       "    <tr>\n",
       "      <th>512</th>\n",
       "      <td>768</td>\n",
       "      <td>features_8</td>\n",
       "      <td>301</td>\n",
       "      <td>11043</td>\n",
       "    </tr>\n",
       "    <tr>\n",
       "      <th>504</th>\n",
       "      <td>760</td>\n",
       "      <td>features_8</td>\n",
       "      <td>301</td>\n",
       "      <td>10617</td>\n",
       "    </tr>\n",
       "  </tbody>\n",
       "</table>\n",
       "</div>"
      ],
      "text/plain": [
       "     node       layer  node_size  edge_size\n",
       "595   851  features_8        259       9094\n",
       "403   659  features_8        260       9376\n",
       "591   847  features_8        264       9441\n",
       "618   874  features_8        287       9388\n",
       "581   837  features_8        294      11012\n",
       "598   854  features_8        298      10228\n",
       "439   695  features_8        300      11487\n",
       "602   858  features_8        300      11133\n",
       "512   768  features_8        301      11043\n",
       "504   760  features_8        301      10617"
      ]
     },
     "execution_count": 33,
     "metadata": {},
     "output_type": "execute_result"
    }
   ],
   "source": [
    "subgraph_sizes_df.loc[subgraph_sizes_df['layer']=='features_8'].sort_values('node_size').head(10)"
   ]
  },
  {
   "cell_type": "code",
   "execution_count": 29,
   "metadata": {},
   "outputs": [
    {
     "data": {
      "text/html": [
       "<div>\n",
       "<style scoped>\n",
       "    .dataframe tbody tr th:only-of-type {\n",
       "        vertical-align: middle;\n",
       "    }\n",
       "\n",
       "    .dataframe tbody tr th {\n",
       "        vertical-align: top;\n",
       "    }\n",
       "\n",
       "    .dataframe thead th {\n",
       "        text-align: right;\n",
       "    }\n",
       "</style>\n",
       "<table border=\"1\" class=\"dataframe\">\n",
       "  <thead>\n",
       "    <tr style=\"text-align: right;\">\n",
       "      <th></th>\n",
       "      <th>node</th>\n",
       "      <th>layer</th>\n",
       "      <th>node_size</th>\n",
       "      <th>edge_size</th>\n",
       "    </tr>\n",
       "  </thead>\n",
       "  <tbody>\n",
       "    <tr>\n",
       "      <th>0</th>\n",
       "      <td>256</td>\n",
       "      <td>features_6</td>\n",
       "      <td>112</td>\n",
       "      <td>2131</td>\n",
       "    </tr>\n",
       "    <tr>\n",
       "      <th>1</th>\n",
       "      <td>257</td>\n",
       "      <td>features_6</td>\n",
       "      <td>113</td>\n",
       "      <td>2068</td>\n",
       "    </tr>\n",
       "    <tr>\n",
       "      <th>2</th>\n",
       "      <td>258</td>\n",
       "      <td>features_6</td>\n",
       "      <td>95</td>\n",
       "      <td>1533</td>\n",
       "    </tr>\n",
       "    <tr>\n",
       "      <th>3</th>\n",
       "      <td>259</td>\n",
       "      <td>features_6</td>\n",
       "      <td>79</td>\n",
       "      <td>1093</td>\n",
       "    </tr>\n",
       "    <tr>\n",
       "      <th>4</th>\n",
       "      <td>260</td>\n",
       "      <td>features_6</td>\n",
       "      <td>107</td>\n",
       "      <td>1886</td>\n",
       "    </tr>\n",
       "    <tr>\n",
       "      <th>...</th>\n",
       "      <td>...</td>\n",
       "      <td>...</td>\n",
       "      <td>...</td>\n",
       "      <td>...</td>\n",
       "    </tr>\n",
       "    <tr>\n",
       "      <th>890</th>\n",
       "      <td>1146</td>\n",
       "      <td>features_10</td>\n",
       "      <td>554</td>\n",
       "      <td>32156</td>\n",
       "    </tr>\n",
       "    <tr>\n",
       "      <th>891</th>\n",
       "      <td>1147</td>\n",
       "      <td>features_10</td>\n",
       "      <td>572</td>\n",
       "      <td>34284</td>\n",
       "    </tr>\n",
       "    <tr>\n",
       "      <th>892</th>\n",
       "      <td>1148</td>\n",
       "      <td>features_10</td>\n",
       "      <td>560</td>\n",
       "      <td>31419</td>\n",
       "    </tr>\n",
       "    <tr>\n",
       "      <th>893</th>\n",
       "      <td>1149</td>\n",
       "      <td>features_10</td>\n",
       "      <td>529</td>\n",
       "      <td>30450</td>\n",
       "    </tr>\n",
       "    <tr>\n",
       "      <th>894</th>\n",
       "      <td>1150</td>\n",
       "      <td>features_10</td>\n",
       "      <td>575</td>\n",
       "      <td>34993</td>\n",
       "    </tr>\n",
       "  </tbody>\n",
       "</table>\n",
       "<p>895 rows × 4 columns</p>\n",
       "</div>"
      ],
      "text/plain": [
       "     node        layer  node_size  edge_size\n",
       "0     256   features_6        112       2131\n",
       "1     257   features_6        113       2068\n",
       "2     258   features_6         95       1533\n",
       "3     259   features_6         79       1093\n",
       "4     260   features_6        107       1886\n",
       "..    ...          ...        ...        ...\n",
       "890  1146  features_10        554      32156\n",
       "891  1147  features_10        572      34284\n",
       "892  1148  features_10        560      31419\n",
       "893  1149  features_10        529      30450\n",
       "894  1150  features_10        575      34993\n",
       "\n",
       "[895 rows x 4 columns]"
      ]
     },
     "execution_count": 29,
     "metadata": {},
     "output_type": "execute_result"
    }
   ],
   "source": [
    "subgraph_sizes_df"
   ]
  },
  {
   "cell_type": "code",
   "execution_count": null,
   "metadata": {},
   "outputs": [],
   "source": [
    "def iterative_ hierarchical_accum_threshold(target_category,target_node,model_dis):\n",
    "    ablation_list = []\n",
    "    model_dis = clear_ranks_across_model(model_dis)\n",
    "    target_type = image_category_or_contrast(target_category,params)\n",
    "    target_category_nodes_df = None\n",
    "    target_category_edges_df = None\n",
    "    if target_type == 'category' and target_node == 'loss' and ablation_list == []:\n",
    "        #edges\n",
    "        if categories_edges_df is not None:\n",
    "            if len(categories_edges_df.loc[categories_edges_df['category']==target_category]) > 0:\n",
    "                target_category_edges_df = categories_edges_df.loc[categories_edges_df['category']==target_category]\n",
    "        if target_category_edges_df is None:\n",
    "            target_category_edges_df = rank_file_2_df(os.path.join(params['ranks_data_path'],'categories_edges','%s_edges_rank.pt'%target_category))   \n",
    "        #node\n",
    "        if categories_nodes_df is not None:\n",
    "            if len(categories_nodes_df.loc[categories_nodes_df['category']==target_category]) > 0:\n",
    "                target_category_nodes_df = categories_nodes_df.loc[categories_nodes_df['category']==target_category]\n",
    "        if target_category_nodes_df is None:\n",
    "            target_category_nodes_df = rank_file_2_df(os.path.join(params['ranks_data_path'],'categories_nodes','%s_nodes_rank.pt'%target_category))\n",
    "    elif target_type == 'category':\n",
    "        target_category_nodes_df,target_category_edges_df = rank_dict_2_df(get_model_ranks_for_category(target_category, target_node, model_dis,params))\n",
    "    elif target_type == 'input_image':\n",
    "        target_category_nodes_df,target_category_edges_df = rank_dict_2_df(get_model_ranks_from_image(get_image_path(target_category,params)[1],target_node, model_dis, params))\n",
    "\n",
    "    else:  #contrast\n",
    "        target_category_nodes_df,target_category_edges_df = contrast_str_2_dfs(target_category,target_node,model_dis,params,ablation_list)\n",
    "    print('FROM RANKS DF STORE')\n",
    "    print(target_category_edges_df)\n",
    "    return target_category_nodes_df,target_category_edges_df    \n",
    "\n",
    "\n",
    "\n",
    "\n",
    "def ranksdf_store(target_category, target_node,ablation_list,model_dis=model_dis):\n",
    "    print('Updating cached rank dfs with {}'.format(target_category))\n",
    "    model_dis = clear_ranks_across_model(model_dis)\n",
    "    target_type = image_category_or_contrast(target_category,params)\n",
    "    target_category_nodes_df = None\n",
    "    target_category_edges_df = None\n",
    "    if target_type == 'category' and target_node == 'loss' and ablation_list == []:\n",
    "        #edges\n",
    "        if categories_edges_df is not None:\n",
    "            if len(categories_edges_df.loc[categories_edges_df['category']==target_category]) > 0:\n",
    "                target_category_edges_df = categories_edges_df.loc[categories_edges_df['category']==target_category]\n",
    "        if target_category_edges_df is None:\n",
    "            target_category_edges_df = rank_file_2_df(os.path.join(params['ranks_data_path'],'categories_edges','%s_edges_rank.pt'%target_category))   \n",
    "        #node\n",
    "        if categories_nodes_df is not None:\n",
    "            if len(categories_nodes_df.loc[categories_nodes_df['category']==target_category]) > 0:\n",
    "                target_category_nodes_df = categories_nodes_df.loc[categories_nodes_df['category']==target_category]\n",
    "        if target_category_nodes_df is None:\n",
    "            target_category_nodes_df = rank_file_2_df(os.path.join(params['ranks_data_path'],'categories_nodes','%s_nodes_rank.pt'%target_category))\n",
    "    elif target_type == 'category':\n",
    "        target_category_nodes_df,target_category_edges_df = rank_dict_2_df(get_model_ranks_for_category(target_category, target_node, model_dis,params))\n",
    "    elif target_type == 'input_image':\n",
    "        target_category_nodes_df,target_category_edges_df = rank_dict_2_df(get_model_ranks_from_image(get_image_path(target_category,params)[1],target_node, model_dis, params))\n",
    "\n",
    "    else:  #contrast\n",
    "        target_category_nodes_df,target_category_edges_df = contrast_str_2_dfs(target_category,target_node,model_dis,params,ablation_list)\n",
    "    print('FROM RANKS DF STORE')\n",
    "    print(target_category_edges_df)\n",
    "    return target_category_nodes_df,target_category_edges_df"
   ]
  },
  {
   "cell_type": "code",
   "execution_count": null,
   "metadata": {},
   "outputs": [],
   "source": [
    "start=time.time()\n",
    "x = torch.rand([2,3,4,4])\n",
    "print(x.shape)\n",
    "#index = torch.tensor([]).type(torch.LongTensor)\n",
    "#x.index_fill_(1, index, -1)\n",
    "#x[:,:,:,:]\n",
    "print(time.time() - start)"
   ]
  },
  {
   "cell_type": "code",
   "execution_count": null,
   "metadata": {},
   "outputs": [],
   "source": [
    "def extract_subgraph(name,model,thresholded_nodes_df,thresholded_egdes_df,params, save=True):\n",
    "    #this is currently hacky only works on models with all nn.sequential or .features module\n",
    "    model.to('cpu')\n",
    "    l = 0\n",
    "    subgraph_model = nn.Sequential()\n",
    "    \n",
    "    #hack\n",
    "    for layer in model.children():\n",
    "        if not isinstance(layer, nn.Conv2d):\n",
    "            model = model.features\n",
    "            break\n",
    "        break\n",
    "     \n",
    "    with torch.no_grad():\n",
    "        for layer in model.children():\n",
    "            if isinstance(layer, nn.Conv2d):\n",
    "                name = 'conv_{}'.format(l)\n",
    "            elif isinstance(layer, nn.ReLU):\n",
    "                name = 'relu_{}'.format(l)\n",
    "                layer = nn.ReLU(inplace=False)\n",
    "            elif isinstance(layer, nn.MaxPool2d):\n",
    "                name = 'pool_{}'.format(l)\n",
    "            elif isinstance(layer, nn.BatchNorm2d):\n",
    "                name = 'bn_{}'.format(l)\n",
    "            else:\n",
    "                raise RuntimeError('Unrecognized layer: {}'.format(layer.__class__.__name__))\n",
    "            if not isinstance(layer, nn.Conv2d):\n",
    "                subgraph_model.add_module(name, layer)\n",
    "            else:\n",
    "                print('layer: %s'%str(l))\n",
    "                old_conv = layer\n",
    "                out_channels = list(thresholded_nodes_df.loc[thresholded_nodes_df['layer'] == l]['node_num_by_layer'].sort_values().unique())\n",
    "                num_out_channels = len(out_channels)\n",
    "                if l == 0:\n",
    "                    num_in_channels = old_conv.in_channels\n",
    "                    in_channels = list(range(num_in_channels))\n",
    "                else:\n",
    "                    in_channels = list(thresholded_nodes_df.loc[thresholded_nodes_df['layer'] == l-1]['node_num_by_layer'].sort_values().unique())\n",
    "                    num_in_channels = len(in_channels)\n",
    "                new_conv = \\\n",
    "                        torch.nn.Conv2d(in_channels = num_in_channels, \\\n",
    "                        out_channels = num_out_channels ,\n",
    "                        kernel_size = old_conv.kernel_size, \\\n",
    "                        stride = old_conv.stride,\n",
    "                        padding = old_conv.padding,\n",
    "                        dilation = old_conv.dilation,\n",
    "                        groups = old_conv.groups,\n",
    "                        bias = (old_conv.bias is not None))                \n",
    "            \n",
    "                #full_weights = []\n",
    "                #GENERATE WEIGHT MATRIX\n",
    "                weights = new_conv.weight\n",
    "                weights.fill_(0.)\n",
    "                print(out_channels)\n",
    "                print(len(out_channels))\n",
    "                for o_i,o in enumerate(out_channels):\n",
    "                    for i_i,row in enumerate(thresholded_egdes_df.loc[(thresholded_egdes_df['layer'] == l) & (thresholded_egdes_df['out_channel'] == o)].sort_values('in_channel').itertuples()):\n",
    "                        weights[o_i,in_channels.index(row.in_channel),:,:] = old_conv.weight[o,row.in_channel,:,:]\n",
    "                #for node in thresholded_nodes_df.loc[thresholded_nodes_df['layer'] == l].sort_values('node_num_by_layer')['node_num_by_layer']:\n",
    "                    #print(node)\n",
    "                    #ws.append(weights[node,:,:,:].unsqueeze(0))\n",
    "                \n",
    "                #GENERATE BIAS \n",
    "                if new_conv.bias is not None:\n",
    "                    for o_i,o in enumerate(out_channels):\n",
    "                        new_conv.bias[o_i] = old_conv.bias[o]\n",
    "                \n",
    "                \n",
    "                subgraph_model.add_module(name, new_conv)\n",
    "                #next layer\n",
    "                l += 1\n",
    "\n",
    "            if l not in thresholded_nodes_df['layer'].unique():\n",
    "                break\n",
    "\n",
    "        \n",
    "            \n",
    "    return subgraph_model\n",
    "\n",
    "sub_model = extract_subgraph('',model,threshed_n_df,threshed_e_df,params)\n",
    "\n",
    "\n",
    "# def extract_subgraph_recurse(module,thresholded_nodes_df,thresholded_egdes_df):\n",
    "#     conv_count = 0\n",
    "# \tfor layer, (name, submodule) in enumerate(module._modules.items()):\n",
    "# \t\t#print(submodule)\n",
    "# \t\tif isinstance(submodule, torch.nn.modules.conv.Conv2d):\n",
    "\n",
    "\n",
    "# \t\t\tfor rank_type in rank_types:\n",
    "# \t\t\t\t#submodule.gen_normalizations(rank_type)\n",
    "# \t\t\t\tlayer_ranks['nodes'][rank_type].append([submodule.name,submodule.postbias_ranks[rank_type].cpu().detach().numpy()])\n",
    "# \t\t\t\tlayer_ranks['edges'][rank_type].append([submodule.name,submodule.format_edges(data= 'ranks',rank_type=rank_type,weight_rank=weight_rank)])\n",
    "# \t\t\t\t#print(layer_ranks['edges'][-1].shape)\n",
    "# \t\telif len(list(submodule.children())) > 0:\n",
    "# \t\t\tlayer_ranks = get_ranks_from_dissected_Conv2d_modules(submodule,layer_ranks=layer_ranks,weight_rank=weight_rank)   #module has modules inside it, so recurse on this module\n",
    "# \treturn layer_ranks\n"
   ]
  },
  {
   "cell_type": "code",
   "execution_count": null,
   "metadata": {},
   "outputs": [],
   "source": [
    "sub_model"
   ]
  },
  {
   "cell_type": "code",
   "execution_count": null,
   "metadata": {},
   "outputs": [],
   "source": [
    "sub_model.to('cuda')\n",
    "\n",
    "param_f = lambda: param.image(224,batch=4)\n",
    "obj =  objectives.channel(\"conv_3\", 0, batch=0) + objectives.channel(\"conv_3\", 0, batch=1) + \\\n",
    "      objectives.neuron(\"conv_3\", 0, batch=3) + objectives.neuron(\"conv_3\", 0, batch=4)\n",
    "\n",
    "_ = render.render_vis(sub_model, obj, param_f, verbose=True, show_inline=True)"
   ]
  },
  {
   "cell_type": "code",
   "execution_count": null,
   "metadata": {},
   "outputs": [],
   "source": [
    "model_dis = set_across_model(model_dis,'target_node',None)\n",
    "\n",
    "param_f = lambda: param.image(224,batch=4)\n",
    "obj = objectives.neuron(\"features_6\", 0, batch=0) + objectives.neuron(\"features_6\", 0, batch=1) + \\\n",
    "      objectives.neuron(\"features_6\", 0, batch=2) + objectives.neuron(\"features_6\", 0, batch=3)\n",
    "\n",
    "_ = render.render_vis(model_dis, obj, param_f, verbose=True, show_inline=True)"
   ]
  },
  {
   "cell_type": "code",
   "execution_count": null,
   "metadata": {},
   "outputs": [],
   "source": [
    "\n",
    "\n",
    "print(sub_model[6].weight[0,2,:,:])\n",
    "print(model.features[6].weight[4,7,:,:])"
   ]
  },
  {
   "cell_type": "code",
   "execution_count": null,
   "metadata": {},
   "outputs": [],
   "source": [
    "l = [2,4,6,8]\n",
    "l.index(8)"
   ]
  },
  {
   "cell_type": "code",
   "execution_count": null,
   "metadata": {},
   "outputs": [],
   "source": [
    "print(sub_model[0].bias[3])\n",
    "print(model.features[0].bias[10])"
   ]
  },
  {
   "cell_type": "code",
   "execution_count": null,
   "metadata": {},
   "outputs": [],
   "source": [
    "outchannels = threshed_e_df.loc[(threshed_e_df['layer'] == 1)]['out_channel'].sort_values().unique()\n",
    "outchannels"
   ]
  },
  {
   "cell_type": "code",
   "execution_count": null,
   "metadata": {},
   "outputs": [],
   "source": [
    "import torchvision\n",
    "alexnet = torchvision.models.alexnet(pretrained=True)\n",
    "alexnet"
   ]
  },
  {
   "cell_type": "code",
   "execution_count": null,
   "metadata": {},
   "outputs": [],
   "source": [
    "threshed_n_df.loc[threshed_n_df['layer'] == 0].sort_values('node_num')"
   ]
  },
  {
   "cell_type": "code",
   "execution_count": null,
   "metadata": {},
   "outputs": [],
   "source": [
    "i=0\n",
    "for row in threshed_e_df.loc[threshed_e_df['layer'] == i].itertuples():\n",
    "    print(row)\n",
    "    print(model.features[0].weight[row.out_channel,row.in_channel,:,:])\n",
    "    sub_model[i].weight[row.out_channel,row.in_channel,:,:] = model.features[0].weight[row.out_channel,row.in_channel,:,:]"
   ]
  },
  {
   "cell_type": "code",
   "execution_count": null,
   "metadata": {},
   "outputs": [],
   "source": [
    "weights = [sub_model[i].weight[5,:,:,:].unsqueeze(0),sub_model[i].weight[5,:,:,:].unsqueeze(0)]\n",
    "w = torch.cat(weights)\n",
    "w"
   ]
  },
  {
   "cell_type": "code",
   "execution_count": null,
   "metadata": {},
   "outputs": [],
   "source": [
    "model.features[0].bias[4]"
   ]
  },
  {
   "cell_type": "code",
   "execution_count": null,
   "metadata": {},
   "outputs": [],
   "source": [
    "\n",
    "for layer in model.children():\n",
    "    print(layer)\n",
    "    \n",
    "    \n",
    "    \n",
    "    \n",
    "    \n",
    "#     if isinstance(layer, nn.Conv2d):\n",
    "#         i += 1\n",
    "#         name = 'conv_{}'.format(i)\n",
    "#     elif isinstance(layer, nn.ReLU):\n",
    "#         name = 'relu_{}'.format(i)\n",
    "#         # The in-place version doesn't play very nicely with the ContentLoss\n",
    "#         # and StyleLoss we insert below. So we replace with out-of-place\n",
    "#         # ones here.\n",
    "#         layer = nn.ReLU(inplace=False)\n",
    "#     elif isinstance(layer, nn.MaxPool2d):\n",
    "#         name = 'pool_{}'.format(i)\n",
    "#     elif isinstance(layer, nn.BatchNorm2d):\n",
    "#         name = 'bn_{}'.format(i)\n",
    "#     else:\n",
    "#         raise RuntimeError('Unrecognized layer: {}'.format(layer.__class__.__name__))\n",
    "\n",
    "#     model.add_module(name, layer)\n",
    "\n",
    "#     if name in content_layers:\n",
    "#         # add content loss:\n",
    "#         target = model(content_img).detach()\n",
    "#         content_loss = ContentLoss(target)\n",
    "#         model.add_module(\"content_loss_{}\".format(i), content_loss)\n",
    "#         content_losses.append(content_loss)\n",
    "\n",
    "#     if name in style_layers:\n",
    "#         # add style loss:\n",
    "#         target_feature = model(style_img).detach()\n",
    "#         style_loss = StyleLoss(target_feature)\n",
    "#         model.add_module(\"style_loss_{}\".format(i), style_loss)\n",
    "#         style_losses.append(style_loss)\n",
    "\n",
    "# # now we trim off the layers after the last content and style losses\n",
    "# for i in range(len(model) - 1, -1, -1):\n",
    "#     if isinstance(model[i], ContentLoss) or isinstance(model[i], StyleLoss):\n",
    "#         break\n",
    "\n",
    "# model = model[:(i + 1)]\n",
    "\n",
    "# return model, style_losses, content_losses"
   ]
  },
  {
   "cell_type": "code",
   "execution_count": null,
   "metadata": {},
   "outputs": [],
   "source": [
    "sub_model"
   ]
  },
  {
   "cell_type": "code",
   "execution_count": null,
   "metadata": {},
   "outputs": [],
   "source": [
    "node_min = {}\n",
    "for layer in n_df['layer'].unique():\n",
    "    if len(nodes_thresholded_df.loc[nodes_thresholded_df['layer']==layer]) > 1:\n",
    "        node_min[layer] = nodes_thresholded_df.loc[nodes_thresholded_df['layer']==layer][rank_type+'_rank'].min()\n",
    "    else:\n",
    "        node_min[layer] = None\n",
    "\n",
    "node_min"
   ]
  },
  {
   "cell_type": "code",
   "execution_count": null,
   "metadata": {},
   "outputs": [],
   "source": [
    "n_df.loc[n_df['layer'] == 4]['actxgrad_rank'].sum()\n",
    "n_df['layer'].unique()"
   ]
  },
  {
   "cell_type": "code",
   "execution_count": null,
   "metadata": {},
   "outputs": [],
   "source": [
    "import time\n",
    "def get_thresholded_ranksdf(threshold,rank_type,df):          #just get those edges that pass the threshold criteria for the target category\n",
    "\tif len(threshold) != 2:\n",
    "\t\traise Exception('length of threshold needs to be two ([lower, higher])')\n",
    "\treturn df.loc[(df[rank_type+'_rank'] >= threshold[0]) & (df[rank_type+'_rank'] <= threshold[1])]\n",
    "\n",
    "\n",
    "def filter_edges_by_nodes(edges_df,thresholded_nodes_df):\n",
    "    valid_nodes = {}\n",
    "    node_time= time.time()\n",
    "    for row in thresholded_nodes_df.itertuples():\n",
    "        if row.layer not in valid_nodes.keys():\n",
    "            valid_nodes[row.layer] = [row.node_num_by_layer]\n",
    "        else:\n",
    "            valid_nodes[row.layer].append(row.node_num_by_layer)\n",
    "\n",
    "    print(time.time()-node_time)\n",
    "    def filter_edges_fn(row):\n",
    "        try: \n",
    "            if (row['out_channel'] in valid_nodes[row['layer']]): #try block because maybe no valid nodes in row['layer']\n",
    "                if row['layer'] == 0:\n",
    "                    return True\n",
    "                elif row['in_channel'] in valid_nodes[row['layer']-1]:\n",
    "                    return True\n",
    "        except:\n",
    "            return False\n",
    "        return False\n",
    "    edge_time = time.time()\n",
    "    #mask = edges_df.apply(filter_edges_fn, axis=1)\n",
    "    df_out = pd.DataFrame(columns = edges_df.columns)\n",
    "    entries = []\n",
    "for i in search_keys:\n",
    "    entry = df.loc[edges_df['out_channel'] in ]\n",
    "    entries.append(entry)\n",
    "\n",
    "found_df = pd.concat(entries)\n",
    "result_df = pd.concat([old_df, found_df])\n",
    "    print(time.time()-edge_time)\n",
    "    return edges_df[mask]"
   ]
  },
  {
   "cell_type": "code",
   "execution_count": null,
   "metadata": {},
   "outputs": [],
   "source": [
    "thresholded_n_df = get_thresholded_ranksdf((.3,1),'actxgrad',n_df)"
   ]
  },
  {
   "cell_type": "code",
   "execution_count": null,
   "metadata": {},
   "outputs": [],
   "source": [
    "len(thresholded_n_df)"
   ]
  },
  {
   "cell_type": "code",
   "execution_count": null,
   "metadata": {},
   "outputs": [],
   "source": [
    "n_df"
   ]
  },
  {
   "cell_type": "code",
   "execution_count": null,
   "metadata": {},
   "outputs": [],
   "source": [
    "filter_e_df = filter_edges_by_nodes(e_df,thresholded_n_df)"
   ]
  },
  {
   "cell_type": "code",
   "execution_count": null,
   "metadata": {},
   "outputs": [],
   "source": [
    "len(filter_e_df)"
   ]
  },
  {
   "cell_type": "code",
   "execution_count": null,
   "metadata": {},
   "outputs": [],
   "source": [
    "filter_e_df.columns"
   ]
  },
  {
   "cell_type": "code",
   "execution_count": null,
   "metadata": {},
   "outputs": [],
   "source": [
    "entry = filter_e_df.loc[filter_e_df['act_rank'] > .5]"
   ]
  },
  {
   "cell_type": "code",
   "execution_count": null,
   "metadata": {},
   "outputs": [],
   "source": [
    "len(e_df)/(len(thresholded_n_df))"
   ]
  },
  {
   "cell_type": "code",
   "execution_count": null,
   "metadata": {},
   "outputs": [],
   "source": [
    "valid_nodes = {}\n",
    "node_time= time.time()\n",
    "for row in thresholded_n_df.itertuples():\n",
    "    if row.layer not in valid_nodes.keys():\n",
    "        valid_nodes[row.layer] = [row.node_num_by_layer]\n",
    "    else:\n",
    "        valid_nodes[row.layer].append(row.node_num_by_layer)"
   ]
  },
  {
   "cell_type": "code",
   "execution_count": null,
   "metadata": {},
   "outputs": [],
   "source": [
    "valid_nodes"
   ]
  },
  {
   "cell_type": "code",
   "execution_count": null,
   "metadata": {},
   "outputs": [],
   "source": [
    "entry = e_df.loc[e_df['out_channel'] in valid_nodes[2]]"
   ]
  },
  {
   "cell_type": "code",
   "execution_count": null,
   "metadata": {},
   "outputs": [],
   "source": [
    "import time\n",
    "start = time.time()\n",
    "filtered_df = pd.DataFrame(columns = e_df.columns)\n",
    "entries = []\n",
    "for i in valid_nodes:\n",
    "    entry = e_df.loc[(e_df['out_channel'].isin(valid_nodes[i])) & (e_df['layer'] == i)]\n",
    "    if i != 0:\n",
    "         entry =  entry.loc[entry['in_channel'].isin(valid_nodes[i-1])]\n",
    "    entries.append(entry)\n",
    "\n",
    "found_df = pd.concat(entries)\n",
    "filtered_df = pd.concat([filtered_df, found_df])\n",
    "print(time.time()-start)\n",
    "    "
   ]
  },
  {
   "cell_type": "code",
   "execution_count": null,
   "metadata": {},
   "outputs": [],
   "source": [
    "entry"
   ]
  },
  {
   "cell_type": "code",
   "execution_count": null,
   "metadata": {},
   "outputs": [],
   "source": [
    "def hierarchically_threshold_edges(threshold,rank_type,edges_df,thresholded_nodes_df):          #just get those edges that pass the threshold criteria for the target category\n",
    "    if len(threshold) != 2:\n",
    "        raise Exception('length of threshold needs to be two ([lower, higher])')\n",
    "        \n",
    "    valid_nodes = {}\n",
    "    for row in thresholded_nodes_df.itertuples():\n",
    "        if row.layer not in valid_nodes.keys():\n",
    "            valid_nodes[row.layer] = [row.node_num_by_layer]\n",
    "        else:\n",
    "            valid_nodes[row.layer].append(row.node_num_by_layer)\n",
    "\n",
    "    \n",
    "    filtered_df = pd.DataFrame(columns = edges_df.columns)\n",
    "    \n",
    "    layers_edges = []\n",
    "    for layer in valid_nodes:\n",
    "        layer_edges = edges_df.loc[(edges_df['out_channel'].isin(valid_nodes[layer])) & (edges_df['layer'] == layer)]\n",
    "        if layer != 0:\n",
    "            layer_edges =  layer_edges.loc[layer_edges['in_channel'].isin(valid_nodes[layer-1])]\n",
    "            \n",
    "        nodes_edges = []\n",
    "        for node in valid_nodes[layer]:\n",
    "            node_edges = layer_edges.loc[layer_edges['out_channel']== node]\n",
    "            minmax = [node_edges[rank_type+'_rank'].min(),node_edges[rank_type+'_rank'].max()]\n",
    "            minmax_t = [threshold[0]*(minmax[1]-minmax[0])+minmax[0],threshold[1]*(minmax[1]-minmax[0])+minmax[0]]\n",
    "            node_edges = node_edges.loc[(node_edges[rank_type+'_rank'] >= minmax_t[0]) & (node_edges[rank_type+'_rank'] <= minmax_t[1])]\n",
    "            nodes_edges.append(node_edges)\n",
    "                                         \n",
    "        layer_edges= pd.concat(nodes_edges)                               \n",
    "        layers_edges.append(layer_edges)\n",
    "\n",
    "    found_df = pd.concat(layers_edges)\n",
    "    filtered_df = pd.concat([filtered_df, found_df])     \n",
    "    \n",
    "    return filtered_df"
   ]
  },
  {
   "cell_type": "code",
   "execution_count": null,
   "metadata": {},
   "outputs": [],
   "source": [
    "threshold  = [.4,1.0]\n",
    "threshed_e_df = hierarchically_threshold_edges(threshold,'actxgrad',e_df,thresholded_n_df)"
   ]
  },
  {
   "cell_type": "code",
   "execution_count": null,
   "metadata": {},
   "outputs": [],
   "source": [
    "series = n_df.loc[n_df['layer'] == 2][rank_type+'_rank']\n",
    "thresh=.99\n",
    "\n",
    "start = time.time()\n",
    "total_imp = series.sum()\n",
    "total_imp\n",
    "print(time.time()-start)\n",
    "start = time.time()\n",
    "s= series.sort_values(ascending=False)\n",
    "print(time.time()-start)\n",
    "print(len(s))\n",
    "\n",
    "start = time.time()\n",
    "x = n_df.loc[(n_df['layer'] == 2) & n_df[rank_type+'_rank'] > .8]\n",
    "print(time.time()-start)\n",
    "\n",
    "start = time.time()\n",
    "running_tot = 0\n",
    "for i in s.index:\n",
    "    running_tot+=s[i]\n",
    "    if running_tot/total_imp >= thresh:\n",
    "        break\n",
    "print(time.time()-start)\n",
    "    \n",
    "start = time.time()\n",
    "tot = 0\n",
    "\n",
    "layer_df = n_df.loc[n_df['layer'] == 2]\n",
    "layer_df = layer_df.sort_values(rank_type+'_rank',ascending=False)\n",
    "layer_df.iloc[0:4][rank_type+'_rank']\n",
    "\n",
    "len(layer_df)\n"
   ]
  },
  {
   "cell_type": "code",
   "execution_count": null,
   "metadata": {},
   "outputs": [],
   "source": [
    "layer_df.iloc[0][rank_type+'_rank']"
   ]
  },
  {
   "cell_type": "code",
   "execution_count": null,
   "metadata": {},
   "outputs": [],
   "source": [
    "\n",
    "def get_thresholded_ranksdf(threshold,rank_type,df):          #just get those edges that pass the threshold criteria for the target category\n",
    "\tif len(threshold) != 2:\n",
    "\t\traise Exception('length of threshold needs to be two ([lower, higher])')\n",
    "\treturn df.loc[(df[rank_type+'_rank'] >= threshold[0]) & (df[rank_type+'_rank'] <= threshold[1])]\n",
    "\n",
    "\n",
    "\n",
    "\n",
    "\n",
    "def hierarchically_threshold_edges(threshold,rank_type,edges_df,nodes_thresholded_df):          #just get those edges that pass the threshold criteria for the target category\n",
    "\tif len(threshold) != 2:\n",
    "\t\traise Exception('length of threshold needs to be two ([lower, higher])')\n",
    "\t\t\n",
    "\tvalid_nodes = {}\n",
    "\tfor row in nodes_thresholded_df.itertuples():\n",
    "\t\tif row.layer not in valid_nodes.keys():\n",
    "\t\t\tvalid_nodes[row.layer] = [row.node_num_by_layer]\n",
    "\t\telse:\n",
    "\t\t\tvalid_nodes[row.layer].append(row.node_num_by_layer)\n",
    "\n",
    "\t\n",
    "\tfiltered_df = pd.DataFrame(columns = edges_df.columns)\n",
    "\t\n",
    "\tlayers_edges = []\n",
    "\tfor layer in valid_nodes:\n",
    "\t\tlayer_edges = edges_df.loc[(edges_df['out_channel'].isin(valid_nodes[layer])) & (edges_df['layer'] == layer)]\n",
    "\t\tif layer != 0:\n",
    "\t\t\tlayer_edges =  layer_edges.loc[layer_edges['in_channel'].isin(valid_nodes[layer-1])]\n",
    "\t\t\t\n",
    "\t\tnodes_edges = []\n",
    "\t\tfor node in valid_nodes[layer]:\n",
    "\t\t\tnode_edges = layer_edges.loc[layer_edges['out_channel']== node]\n",
    "\t\t\tminmax = [node_edges[rank_type+'_rank'].min(),node_edges[rank_type+'_rank'].max()]\n",
    "\t\t\tminmax_t = [threshold[0]*(minmax[1]-minmax[0])+minmax[0],threshold[1]*(minmax[1]-minmax[0])+minmax[0]]\n",
    "\t\t\tnode_edges = node_edges.loc[(node_edges[rank_type+'_rank'] >= minmax_t[0]) & (node_edges[rank_type+'_rank'] <= minmax_t[1])]\n",
    "\t\t\tnodes_edges.append(node_edges)\n",
    "\t\t\t\t\t\t\t\t\t\t \n",
    "\t\tlayer_edges= pd.concat(nodes_edges)                               \n",
    "\t\tlayers_edges.append(layer_edges)\n",
    "\n",
    "\tfound_df = pd.concat(layers_edges)\n",
    "\tfiltered_df = pd.concat([filtered_df, found_df])     \n",
    "\t\n",
    "\treturn filtered_df\n",
    "\n",
    "\n",
    "def hierarchical_accum_threshold(threshold_node,threshold_edge,rank_type,edges_df,nodes_df,ascending=False):\n",
    "    threshed_nodes_df = get_accum_thresholded_ranksdf(threshold_node,rank_type,nodes_df, ascending=ascending)\n",
    "    \n",
    "    valid_nodes = {}\n",
    "    for row in threshed_nodes_df.itertuples():\n",
    "        if row.layer not in valid_nodes.keys():\n",
    "            valid_nodes[row.layer] = [row.node_num_by_layer]\n",
    "        else:\n",
    "            valid_nodes[row.layer].append(row.node_num_by_layer)\n",
    "\n",
    "\n",
    "    threshed_edges_df = pd.DataFrame(columns = edges_df.columns)\n",
    "    \n",
    "    layers_edges = []\n",
    "    for layer in valid_nodes:\n",
    "        layer_edges = edges_df.loc[(edges_df['out_channel'].isin(valid_nodes[layer])) & (edges_df['layer'] == layer)]\n",
    "        if layer != 0:\n",
    "            layer_edges =  layer_edges.loc[layer_edges['in_channel'].isin(valid_nodes[layer-1])]\n",
    "\n",
    "        nodes_edges = []\n",
    "        for node_out in layer_edges['out_channel'].unique():\n",
    "            node_out_edges = layer_edges.loc[layer_edges['out_channel']== node_out]\n",
    "            node_out_edges = node_out_edges.sort_values(rank_type+'_rank',ascending=ascending)\n",
    "            total_imp = node_out_edges[rank_type+'_rank'].sum()\n",
    "            running_total = 0\n",
    "            for i in range(len(node_out_edges)):\n",
    "                running_total+=node_out_edges.iloc[i][rank_type+'_rank']\n",
    "                if running_total/total_imp >= threshold_edge:\n",
    "                    break\n",
    "            node_out_edges = node_out_edges.iloc[0:i+1]\n",
    "            nodes_edges.append(node_out_edges)\n",
    "        for node_in in layer_edges['in_channel'].unique():\n",
    "            node_in_edges = layer_edges.loc[layer_edges['in_channel']== node_in]\n",
    "            node_in_edges = node_in_edges.sort_values(rank_type+'_rank',ascending=ascending)\n",
    "            total_imp = node_in_edges[rank_type+'_rank'].sum()\n",
    "            running_total = 0\n",
    "            for i in range(len(node_in_edges)):\n",
    "                running_total+=node_in_edges.iloc[i][rank_type+'_rank']\n",
    "                if running_total/total_imp >= threshold_edge:\n",
    "                    break\n",
    "            node_in_edges = node_in_edges.iloc[0:i+1]\n",
    "            nodes_edges.append(node_in_edges)\n",
    "            \n",
    "        layer_edges= pd.concat(nodes_edges).drop_duplicates()                               \n",
    "        layers_edges.append(layer_edges)\n",
    "\n",
    "    found_df = pd.concat(layers_edges).drop_duplicates()\n",
    "    threshed_edges_df = pd.concat([threshed_edges_df, found_df])     \n",
    "    \n",
    "    return threshed_nodes_df,threshed_edges_df\n",
    "\n",
    "\n",
    "def get_accum_thresholded_ranksdf(threshold,rank_type,df, ascending=False):          #just get those edges that pass the threshold criteria for the target category\n",
    "    layers = df['layer'].unique()\n",
    "    layers.sort()\n",
    "    threshold_df = pd.DataFrame(columns = df.columns)\n",
    "    \n",
    "    layers_dfs = []   \n",
    "    for layer in layers:\n",
    "        layer_df = df.loc[n_df['layer'] == layer]\n",
    "        layer_df = layer_df.sort_values(rank_type+'_rank',ascending=ascending)\n",
    "        \n",
    "        total_imp = layer_df[rank_type+'_rank'].sum()\n",
    "\n",
    "        running_total = 0\n",
    "        for i in range(len(layer_df)):\n",
    "            running_total+=layer_df.iloc[i][rank_type+'_rank']\n",
    "            if running_total/total_imp >= threshold:\n",
    "                break\n",
    "        layer_df = layer_df.iloc[0:i+1]\n",
    "\n",
    "        layers_dfs.append(layer_df)\n",
    "    \n",
    "    found_df = pd.concat(layers_dfs)\n",
    "    threshold_df = pd.concat([threshold_df, found_df])\n",
    "    return threshold_df"
   ]
  },
  {
   "cell_type": "code",
   "execution_count": null,
   "metadata": {},
   "outputs": [],
   "source": [
    "thresh_n_df = get_accum_thresholded_ranksdf(.5,rank_type,n_df, ascending=False)\n",
    "len(thresh_n_df)"
   ]
  },
  {
   "cell_type": "code",
   "execution_count": null,
   "metadata": {},
   "outputs": [],
   "source": [
    "threshed_n_df,threshed_e_df = hierarchical_accum_threshold(.5,.2,rank_type,e_df,n_df,ascending=False)\n",
    "len(threshed_e_df)"
   ]
  },
  {
   "cell_type": "code",
   "execution_count": null,
   "metadata": {},
   "outputs": [],
   "source": [
    "len(threshed_e_df)\n",
    "threshed_e_df"
   ]
  },
  {
   "cell_type": "code",
   "execution_count": null,
   "metadata": {},
   "outputs": [],
   "source": [
    "edges_df = e_df\n",
    "nodes_df = n_df\n",
    "rank_type='actxgrad'\n",
    "threshold_node = .5\n",
    "threshold_edge = .9\n",
    "ascending=False\n",
    "\n",
    "threshed_nodes_df = get_accum_thresholded_ranksdf(threshold_node,rank_type,nodes_df, ascending=ascending)\n",
    "\n",
    "\n",
    "valid_nodes = {}\n",
    "for row in threshed_nodes_df.itertuples():\n",
    "    if row.layer not in valid_nodes.keys():\n",
    "        valid_nodes[row.layer] = [row.node_num_by_layer]\n",
    "    else:\n",
    "        valid_nodes[row.layer].append(row.node_num_by_layer)\n",
    "\n",
    "\n",
    "threshed_edges_df = pd.DataFrame(columns = edges_df.columns)\n",
    "\n",
    "layers_edges = []\n",
    "for layer in valid_nodes:\n",
    "    layer_edges = edges_df.loc[(edges_df['out_channel'].isin(valid_nodes[layer])) & (edges_df['layer'] == layer)]\n",
    "    if layer != 0:\n",
    "        layer_edges =  layer_edges.loc[layer_edges['in_channel'].isin(valid_nodes[layer-1])]\n",
    "    print(valid_nodes[layer])\n",
    "    print(len(layer_edges))\n",
    "    print(layer_edges)\n",
    "\n",
    "layer = 2\n",
    "layer_edges = edges_df.loc[(edges_df['out_channel'].isin(valid_nodes[layer])) & (edges_df['layer'] == layer)]\n",
    "if layer != 0:\n",
    "    layer_edges =  layer_edges.loc[layer_edges['in_channel'].isin(valid_nodes[layer-1])]\n",
    "\n",
    "layer_edges"
   ]
  },
  {
   "cell_type": "code",
   "execution_count": null,
   "metadata": {},
   "outputs": [],
   "source": [
    "out  = layer_edges.out_channel.unique()"
   ]
  },
  {
   "cell_type": "code",
   "execution_count": null,
   "metadata": {},
   "outputs": [],
   "source": [
    "for i in out:\n",
    "    print(i)"
   ]
  },
  {
   "cell_type": "code",
   "execution_count": null,
   "metadata": {},
   "outputs": [],
   "source": []
  }
 ],
 "metadata": {
  "kernelspec": {
   "display_name": "pruning_viz",
   "language": "python",
   "name": "pruning_viz"
  },
  "language_info": {
   "codemirror_mode": {
    "name": "ipython",
    "version": 3
   },
   "file_extension": ".py",
   "mimetype": "text/x-python",
   "name": "python",
   "nbconvert_exporter": "python",
   "pygments_lexer": "ipython3",
   "version": "3.6.10"
  }
 },
 "nbformat": 4,
 "nbformat_minor": 2
}
